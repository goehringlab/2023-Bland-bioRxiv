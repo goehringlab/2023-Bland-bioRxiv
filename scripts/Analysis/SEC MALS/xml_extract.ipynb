{
 "cells": [
  {
   "cell_type": "code",
   "execution_count": 1,
   "metadata": {},
   "outputs": [],
   "source": [
    "import sys\n",
    "import numpy as np\n",
    "import matplotlib.pyplot as plt\n",
    "import pandas as pd\n",
    "import xml.etree.ElementTree as ET\n",
    "sys.path.append('../../..')\n",
    "from src import data_path\n",
    "%matplotlib widget"
   ]
  },
  {
   "cell_type": "code",
   "execution_count": 2,
   "metadata": {},
   "outputs": [],
   "source": [
    "def get_results(path_to_xml, input_concentration):\n",
    "    tree = ET.parse(path_to_xml)\n",
    "    df = pd.DataFrame()\n",
    "    for a in tree.findall('{http://www.wyatt.com/schemas/ExperimentReport}results'):\n",
    "        for b in a: \n",
    "            \n",
    "            # Get mass measurements\n",
    "            if b.attrib['type'] == 'molar mass':\n",
    "                res = {}\n",
    "                res['measurement_type'] = b[0].text\n",
    "                if b[1].text != 'n/a':\n",
    "                    res['mass'] = float(b[1].text)\n",
    "                else:\n",
    "                    res['mass'] = np.nan\n",
    "                if 'uncertainty' in b[1].attrib:\n",
    "                    res['uncertainty'] = float(b[1].attrib['uncertainty'])\n",
    "                else:\n",
    "                    res['uncertainty'] = np.nan\n",
    "                df = df.append(res, ignore_index=True)\n",
    "                \n",
    "            # Get concentration\n",
    "            if b.attrib['type'] == 'concentration':\n",
    "                ave_conc = float(b[1].text)\n",
    "                \n",
    "            # Get total mass\n",
    "            if b.attrib['type'] == 'mass':\n",
    "                if b[0].text == 'Calculated Mass':\n",
    "                    total_mass = float(b[1].text)\n",
    "                \n",
    "    df['input_concentration'] = input_concentration\n",
    "    return df"
   ]
  },
  {
   "cell_type": "markdown",
   "metadata": {},
   "source": [
    "### Wild type"
   ]
  },
  {
   "cell_type": "code",
   "execution_count": 3,
   "metadata": {},
   "outputs": [],
   "source": [
    "res500 = get_results(data_path + 'SEC MALS/xml/ASTRA 6 Report 20220128_Par2Ring_WT_S75_500ugml.xml', 500)\n",
    "res750 = get_results(data_path + 'SEC MALS/xml/ASTRA 6 Report 20220128_Par2Ring_WT_S75_750ugml.xml', 750)\n",
    "res2000 = get_results(data_path + 'SEC MALS/xml/ASTRA 6 Report 20210927_Par2Ring_WT_S75_2mgml.xml', 2000)\n",
    "res5000 = get_results(data_path + 'SEC MALS/xml/ASTRA 6 Report 20210924_Par2Ring_WT_S75_5mgml.xml', 5000)\n",
    "res10000 = get_results(data_path + 'SEC MALS/xml/ASTRA 6 Report 20220131_Par2Ring_WT_S75_10mgml.xml', 10000)\n",
    "full_res = pd.concat([res500, res750, res2000, res5000, res10000])"
   ]
  },
  {
   "cell_type": "code",
   "execution_count": 4,
   "metadata": {},
   "outputs": [],
   "source": [
    "# full_res"
   ]
  },
  {
   "cell_type": "code",
   "execution_count": 5,
   "metadata": {},
   "outputs": [],
   "source": [
    "full_res.to_csv('mass_measurements_titration.csv')"
   ]
  },
  {
   "cell_type": "markdown",
   "metadata": {},
   "source": [
    "### Plot titration"
   ]
  },
  {
   "cell_type": "code",
   "execution_count": 6,
   "metadata": {},
   "outputs": [],
   "source": [
    "# import seaborn as sns\n",
    "\n",
    "# fig, ax = plt.subplots()\n",
    "# sns.scatterplot(data=full_res, x='input_concentration', y='mass', hue='measurement_type')"
   ]
  },
  {
   "cell_type": "code",
   "execution_count": 7,
   "metadata": {},
   "outputs": [],
   "source": [
    "# res_sample = full_res[full_res['measurement_type'] == 'Mw']\n",
    "\n",
    "# fig, ax = plt.subplots()\n",
    "# ax.scatter(res_sample['input_concentration'], res_sample['mass'])\n",
    "# ax.errorbar(res_sample['input_concentration'], res_sample['mass'], yerr=res_sample['uncertainty'])"
   ]
  },
  {
   "cell_type": "markdown",
   "metadata": {},
   "source": [
    "### L109R"
   ]
  },
  {
   "cell_type": "code",
   "execution_count": 9,
   "metadata": {},
   "outputs": [],
   "source": [
    "res750_L109R = get_results(data_path + 'SEC MALS/xml/ASTRA 6 Report 20210924_Par2Ring_L109R_S75_test.xml', 750)\n",
    "full_res_L109R = res750_L109R\n",
    "full_res_L109R.to_csv('mass_measurements_L109R.csv')"
   ]
  },
  {
   "cell_type": "code",
   "execution_count": null,
   "metadata": {},
   "outputs": [],
   "source": []
  }
 ],
 "metadata": {
  "kernelspec": {
   "display_name": "Python 3",
   "language": "python",
   "name": "python3"
  },
  "language_info": {
   "codemirror_mode": {
    "name": "ipython",
    "version": 3
   },
   "file_extension": ".py",
   "mimetype": "text/x-python",
   "name": "python",
   "nbconvert_exporter": "python",
   "pygments_lexer": "ipython3",
   "version": "3.7.9"
  }
 },
 "nbformat": 4,
 "nbformat_minor": 4
}
