{
 "cells": [
  {
   "cell_type": "code",
   "execution_count": 1,
   "metadata": {
    "execution": {
     "iopub.execute_input": "2023-07-25T14:35:50.073226Z",
     "iopub.status.busy": "2023-07-25T14:35:50.072834Z",
     "iopub.status.idle": "2023-07-25T14:35:51.799415Z",
     "shell.execute_reply": "2023-07-25T14:35:51.798494Z"
    }
   },
   "outputs": [],
   "source": [
    "import sys, os\n",
    "import numpy as np\n",
    "import matplotlib.pyplot as plt\n",
    "import pandas as pd\n",
    "sys.path.append('../../..')\n",
    "%matplotlib inline\n",
    "import matplotlib as mpl\n",
    "mpl.rcParams['figure.dpi']= 150\n",
    "\n",
    "if not os.path.exists('Figs'):\n",
    "    os.mkdir('Figs')"
   ]
  },
  {
   "cell_type": "markdown",
   "metadata": {},
   "source": [
    "### nop1 data"
   ]
  },
  {
   "cell_type": "code",
   "execution_count": 2,
   "metadata": {
    "execution": {
     "iopub.execute_input": "2023-07-25T14:35:51.803963Z",
     "iopub.status.busy": "2023-07-25T14:35:51.803399Z",
     "iopub.status.idle": "2023-07-25T14:35:51.824286Z",
     "shell.execute_reply": "2023-07-25T14:35:51.823575Z"
    }
   },
   "outputs": [],
   "source": [
    "df = pd.read_csv('../../../data/Brood_size_nop1.csv')\n",
    "df['Fraction gravid'] = (1 - df['Lethality']) * (1 - df['Sterility'])\n",
    "df['Fraction sterile'] = (1 - df['Lethality']) * df['Sterility']\n",
    "df['Fraction dead'] = df['Lethality']\n",
    "\n",
    "# Order by fraction dead\n",
    "df = df.sort_values(by='Fraction dead')"
   ]
  },
  {
   "cell_type": "markdown",
   "metadata": {},
   "source": [
    "### WT data"
   ]
  },
  {
   "cell_type": "code",
   "execution_count": 3,
   "metadata": {
    "execution": {
     "iopub.execute_input": "2023-07-25T14:35:51.828953Z",
     "iopub.status.busy": "2023-07-25T14:35:51.828614Z",
     "iopub.status.idle": "2023-07-25T14:35:51.865526Z",
     "shell.execute_reply": "2023-07-25T14:35:51.864358Z"
    }
   },
   "outputs": [],
   "source": [
    "df_wt = pd.read_csv('../../../data/Brood_size_wt.csv')\n",
    "df_wt['Fraction gravid'] = (1 - df_wt['Lethality 5/11/21']) * (1 - df_wt['Sterility 6/11/21'])\n",
    "df_wt['Fraction sterile'] = (1 - df_wt['Lethality 5/11/21']) * df_wt['Sterility 6/11/21']\n",
    "df_wt['Fraction dead'] = df_wt['Lethality 5/11/21']\n",
    "\n",
    "# Order by fraction dead\n",
    "df_wt = df_wt.sort_values(by='Fraction dead')"
   ]
  },
  {
   "cell_type": "markdown",
   "metadata": {},
   "source": [
    "### Figures"
   ]
  },
  {
   "cell_type": "code",
   "execution_count": 4,
   "metadata": {
    "execution": {
     "iopub.execute_input": "2023-07-25T14:35:51.870767Z",
     "iopub.status.busy": "2023-07-25T14:35:51.870404Z",
     "iopub.status.idle": "2023-07-25T14:35:52.312764Z",
     "shell.execute_reply": "2023-07-25T14:35:52.311947Z"
    }
   },
   "outputs": [
    {
     "data": {
      "image/png": "[encoded data removed]",
      "text/plain": [
       "<Figure size 225x300 with 1 Axes>"
      ]
     },
     "metadata": {},
     "output_type": "display_data"
    }
   ],
   "source": [
    "genotype_order = ['Wild type', 'C56S', 'L109R']\n",
    "i_min = []\n",
    "i_max = []\n",
    "\n",
    "fig, ax = plt.subplots()\n",
    "i = 0\n",
    "for g in genotype_order:\n",
    "    _df = df_wt[df_wt.Genotype == g]\n",
    "    i_min.append(i)\n",
    "    for _, row in _df.iterrows():\n",
    "        ax.bar(x=i, bottom=0, height=row['Fraction dead'], color='tab:orange', width=1)\n",
    "        ax.bar(x=i, bottom=row['Fraction dead'], height=row['Fraction sterile'], color='tab:blue', width=1)\n",
    "        ax.bar(x=i, bottom=row['Fraction dead']+ row['Fraction sterile'], height=row['Fraction gravid'], \n",
    "               color='tab:green', width=1)\n",
    "        i += 1\n",
    "    i_max.append(i-0.5)\n",
    "    i += 2\n",
    "    \n",
    "tick_pos = (np.array(i_min) + np.array(i_max)) / 2\n",
    "ax.set_xticks(tick_pos)\n",
    "labels = ['WT', 'C56S', 'L109R']\n",
    "ax.set_xticklabels(labels)\n",
    "for tick in ax.get_xticklabels():\n",
    "    tick.set_rotation(45)\n",
    "    tick.set_horizontalalignment('right')\n",
    "ax.set_ylim(0, 1)\n",
    "ax.set_ylabel('Fraction of\\nprogeny', fontsize=10, labelpad=0)\n",
    "ax.set_yticks([0, 0.2, 0.4, 0.6, 0.8, 1])\n",
    "ax.set_yticklabels(['0', '', '', '', '', '1'])\n",
    "# ax.set_xlabel('')\n",
    "ax.tick_params(axis='both', labelsize=8)\n",
    "fig.set_size_inches(1.5, 2)\n",
    "fig.subplots_adjust(left=0.35, bottom=0.22)\n",
    "fig.savefig('Figs/brood_size_ctrl.png', dpi=600, transparent=True)"
   ]
  },
  {
   "cell_type": "code",
   "execution_count": 5,
   "metadata": {
    "execution": {
     "iopub.execute_input": "2023-07-25T14:35:52.316543Z",
     "iopub.status.busy": "2023-07-25T14:35:52.316236Z",
     "iopub.status.idle": "2023-07-25T14:35:52.606973Z",
     "shell.execute_reply": "2023-07-25T14:35:52.606142Z"
    }
   },
   "outputs": [
    {
     "data": {
      "image/png": "[encoded data removed]",
      "text/plain": [
       "<Figure size 225x300 with 1 Axes>"
      ]
     },
     "metadata": {},
     "output_type": "display_data"
    }
   ],
   "source": [
    "genotype_order = ['WT', 'C56S', 'L109R']\n",
    "i_min = []\n",
    "i_max = []\n",
    "\n",
    "fig, ax = plt.subplots()\n",
    "i = 0\n",
    "for g in genotype_order:\n",
    "    _df = df[df.Genotype == g]\n",
    "    i_min.append(i)\n",
    "    for _, row in _df.iterrows():\n",
    "        ax.bar(x=i, bottom=0, height=row['Fraction dead'], color='tab:orange', width=1)\n",
    "        ax.bar(x=i, bottom=row['Fraction dead'], height=row['Fraction sterile'], color='tab:blue', width=1)\n",
    "        ax.bar(x=i, bottom=row['Fraction dead']+ row['Fraction sterile'], height=row['Fraction gravid'], \n",
    "               color='tab:green', width=1)\n",
    "        i += 1\n",
    "    i_max.append(i-0.5)\n",
    "    i += 2\n",
    "    \n",
    "tick_pos = (np.array(i_min) + np.array(i_max)) / 2\n",
    "ax.set_xticks(tick_pos)\n",
    "labels = ['WT', 'C56S', 'L109R']\n",
    "ax.set_xticklabels(labels)\n",
    "for tick in ax.get_xticklabels():\n",
    "    tick.set_rotation(45)\n",
    "    tick.set_horizontalalignment('right')\n",
    "ax.set_ylim(0, 1)\n",
    "ax.set_yticks([0, 0.2, 0.4, 0.6, 0.8, 1])\n",
    "ax.set_yticklabels(['', '', '', '', '', ''])\n",
    "ax.set_xlabel('')\n",
    "ax.tick_params(axis='both', labelsize=8)\n",
    "fig.set_size_inches(1.5, 2)\n",
    "fig.subplots_adjust(left=0.35, bottom=0.22)\n",
    "fig.savefig('Figs/brood_size_nop1.png', dpi=600, transparent=True)"
   ]
  },
  {
   "cell_type": "markdown",
   "metadata": {},
   "source": [
    "### GCN4 (control)"
   ]
  },
  {
   "cell_type": "code",
   "execution_count": 6,
   "metadata": {
    "execution": {
     "iopub.execute_input": "2023-07-25T14:35:52.611129Z",
     "iopub.status.busy": "2023-07-25T14:35:52.610623Z",
     "iopub.status.idle": "2023-07-25T14:35:53.452331Z",
     "shell.execute_reply": "2023-07-25T14:35:53.451227Z"
    }
   },
   "outputs": [
    {
     "data": {
      "image/png": "[encoded data removed]",
      "text/plain": [
       "<Figure size 450x300 with 1 Axes>"
      ]
     },
     "metadata": {},
     "output_type": "display_data"
    }
   ],
   "source": [
    "genotype_order = ['Wild type', 'C56S', 'L109R', 'GCN4', 'C56S, GCN4', 'L109R, GCN4']\n",
    "i_min = []\n",
    "i_max = []\n",
    "\n",
    "fig, ax = plt.subplots()\n",
    "i = 0\n",
    "for g in genotype_order:\n",
    "    _df = df_wt[df_wt.Genotype == g]\n",
    "    i_min.append(i)\n",
    "    for _, row in _df.iterrows():\n",
    "        ax.bar(x=i, bottom=0, height=row['Fraction dead'], color='tab:orange', width=1)\n",
    "        ax.bar(x=i, bottom=row['Fraction dead'], height=row['Fraction sterile'], color='tab:blue', width=1)\n",
    "        ax.bar(x=i, bottom=row['Fraction dead']+ row['Fraction sterile'], height=row['Fraction gravid'], \n",
    "               color='tab:green', width=1)\n",
    "        i += 1\n",
    "    i_max.append(i-0.5)\n",
    "    i += 2\n",
    "    \n",
    "tick_pos = (np.array(i_min) + np.array(i_max)) / 2\n",
    "ax.set_xticks(tick_pos)\n",
    "labels = ['WT', 'C56S', 'L109R', 'GCN4', 'C56S+GCN4', 'L109R+GCN4']\n",
    "ax.set_xticklabels(labels)\n",
    "for tick in ax.get_xticklabels():\n",
    "    tick.set_rotation(45)\n",
    "    tick.set_horizontalalignment('right')\n",
    "ax.set_ylim(0, 1)\n",
    "ax.set_ylabel('Fraction of\\nprogeny', fontsize=8, labelpad=0)\n",
    "ax.set_yticks([0, 0.2, 0.4, 0.6, 0.8, 1])\n",
    "ax.set_yticklabels(['0', '', '', '', '', '1'])\n",
    "# ax.set_xlabel('')\n",
    "ax.tick_params(axis='both', labelsize=8)\n",
    "fig.set_size_inches(3, 2)\n",
    "fig.subplots_adjust(left=0.35, bottom=0.35)\n",
    "fig.savefig('Figs/brood_size_gcn4_ctrl.png', dpi=600, transparent=True)"
   ]
  },
  {
   "cell_type": "markdown",
   "metadata": {},
   "source": [
    "### GCN4 (nop-1)"
   ]
  },
  {
   "cell_type": "code",
   "execution_count": 7,
   "metadata": {
    "execution": {
     "iopub.execute_input": "2023-07-25T14:35:53.459382Z",
     "iopub.status.busy": "2023-07-25T14:35:53.458303Z",
     "iopub.status.idle": "2023-07-25T14:35:53.943910Z",
     "shell.execute_reply": "2023-07-25T14:35:53.942970Z"
    }
   },
   "outputs": [
    {
     "data": {
      "image/png": "[encoded data removed]",
      "text/plain": [
       "<Figure size 300x300 with 1 Axes>"
      ]
     },
     "metadata": {},
     "output_type": "display_data"
    }
   ],
   "source": [
    "genotype_order = ['WT', 'L109R', 'GCN4', 'L109R, GCN4']\n",
    "i_min = []\n",
    "i_max = []\n",
    "\n",
    "fig, ax = plt.subplots()\n",
    "i = 0\n",
    "for g in genotype_order:\n",
    "    _df = df[df.Genotype == g]\n",
    "    i_min.append(i)\n",
    "    for _, row in _df.iterrows():\n",
    "        ax.bar(x=i, bottom=0, height=row['Fraction dead'], color='tab:orange', width=1)\n",
    "        ax.bar(x=i, bottom=row['Fraction dead'], height=row['Fraction sterile'], color='tab:blue', width=1)\n",
    "        ax.bar(x=i, bottom=row['Fraction dead']+ row['Fraction sterile'], height=row['Fraction gravid'], \n",
    "               color='tab:green', width=1)\n",
    "        i += 1\n",
    "    i_max.append(i-0.5)\n",
    "    i += 2\n",
    "    \n",
    "tick_pos = (np.array(i_min) + np.array(i_max)) / 2\n",
    "ax.set_xticks(tick_pos)\n",
    "labels = ['WT', 'L109R', 'GCN4', 'L109R+GCN4']\n",
    "ax.set_xticklabels(labels)\n",
    "for tick in ax.get_xticklabels():\n",
    "    tick.set_rotation(45)\n",
    "    tick.set_horizontalalignment('right')\n",
    "ax.set_ylim(0, 1)\n",
    "ax.set_yticks([0, 0.2, 0.4, 0.6, 0.8, 1])\n",
    "ax.set_yticklabels(['', '', '', '', '', ''])\n",
    "ax.set_xlabel('')\n",
    "ax.tick_params(axis='both', labelsize=8)\n",
    "fig.set_size_inches(2, 2)\n",
    "fig.subplots_adjust(left=0.35, bottom=0.35)\n",
    "fig.savefig('Figs/brood_size_gcn4_nop1.png', dpi=600, transparent=True)"
   ]
  },
  {
   "cell_type": "code",
   "execution_count": null,
   "metadata": {},
   "outputs": [],
   "source": []
  }
 ],
 "metadata": {
  "kernelspec": {
   "display_name": "Python 3",
   "language": "python",
   "name": "python3"
  },
  "language_info": {
   "codemirror_mode": {
    "name": "ipython",
    "version": 3
   },
   "file_extension": ".py",
   "mimetype": "text/x-python",
   "name": "python",
   "nbconvert_exporter": "python",
   "pygments_lexer": "ipython3",
   "version": "3.7.12"
  }
 },
 "nbformat": 4,
 "nbformat_minor": 4
}
