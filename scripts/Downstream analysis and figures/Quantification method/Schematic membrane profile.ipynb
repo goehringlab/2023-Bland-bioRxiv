{
 "cells": [
  {
   "cell_type": "code",
   "execution_count": 1,
   "metadata": {},
   "outputs": [],
   "source": [
    "import sys\n",
    "sys.path.append('../../../src')\n",
    "from helpers import *\n",
    "%matplotlib widget\n",
    "\n",
    "if not os.path.exists('Figs'):\n",
    "    os.mkdir('Figs')"
   ]
  },
  {
   "cell_type": "code",
   "execution_count": 2,
   "metadata": {},
   "outputs": [
    {
     "data": {
      "application/vnd.jupyter.widget-view+json": {
       "model_id": "950ebad87e2f4d8b922f1ec49f5abdeb",
       "version_major": 2,
       "version_minor": 0
      },
      "image/png": "[encoded data removed]",
      "text/html": [
       "\n",
       "            <div style=\"display: inline-block;\">\n",
       "                <div class=\"jupyter-widgets widget-label\" style=\"text-align: center;\">\n",
       "                    Figure\n",
       "                </div>\n",
       "                <img src='data:image/png;base64,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' width=150.0/>\n",
       "            </div>\n",
       "        "
      ],
      "text/plain": [
       "Canvas(toolbar=Toolbar(toolitems=[('Home', 'Reset original view', 'home', 'home'), ('Back', 'Back to previous …"
      ]
     },
     "metadata": {},
     "output_type": "display_data"
    }
   ],
   "source": [
    "x = np.arange(0, 50)\n",
    "mem_ref = gaus(x, 25, 3) + 0.1 * error_func(x, 25, 5) + 0.1 #+ np.arange(0, 50) / 500\n",
    "mem_ref /= max(mem_ref)\n",
    "\n",
    "fig, ax = plt.subplots()\n",
    "ax.plot(x, mem_ref)\n",
    "ax.set_xticks([])\n",
    "ax.set_yticks([])\n",
    "ax.set_ylim([-0.02, 1.1])\n",
    "ax.set_xlabel('Position', fontsize=10)\n",
    "ax.set_ylabel('Signal', fontsize=10)\n",
    "fig.set_size_inches(1.5,1)\n",
    "fig.tight_layout()\n",
    "fig.savefig('Figs/toy_profile2.png', dpi=600, transparent=True)"
   ]
  },
  {
   "cell_type": "code",
   "execution_count": 3,
   "metadata": {},
   "outputs": [
    {
     "data": {
      "application/vnd.jupyter.widget-view+json": {
       "model_id": "23954ad84b5b42c6982f9d76e754045d",
       "version_major": 2,
       "version_minor": 0
      },
      "image/png": "[encoded data removed]",
      "text/html": [
       "\n",
       "            <div style=\"display: inline-block;\">\n",
       "                <div class=\"jupyter-widgets widget-label\" style=\"text-align: center;\">\n",
       "                    Figure\n",
       "                </div>\n",
       "                <img src='data:image/png;base64,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' width=150.0/>\n",
       "            </div>\n",
       "        "
      ],
      "text/plain": [
       "Canvas(toolbar=Toolbar(toolitems=[('Home', 'Reset original view', 'home', 'home'), ('Back', 'Back to previous …"
      ]
     },
     "metadata": {},
     "output_type": "display_data"
    }
   ],
   "source": [
    "x = np.arange(0, 50)\n",
    "mem_ref = gaus(x, 25, 3)\n",
    "mem_ref /= max(mem_ref)\n",
    "\n",
    "fig, ax = plt.subplots()\n",
    "ax.plot(x, mem_ref)\n",
    "ax.set_xticks([])\n",
    "ax.set_yticks([])\n",
    "ax.set_ylim([-0.02, 1.1])\n",
    "ax.set_xlabel('Position', fontsize=10)\n",
    "ax.set_ylabel('Signal', fontsize=10)\n",
    "fig.set_size_inches(1.5,1)\n",
    "fig.tight_layout()\n",
    "fig.savefig('Figs/toy_profile1.png', dpi=600, transparent=True)"
   ]
  },
  {
   "cell_type": "code",
   "execution_count": null,
   "metadata": {},
   "outputs": [],
   "source": []
  },
  {
   "cell_type": "code",
   "execution_count": null,
   "metadata": {},
   "outputs": [],
   "source": []
  },
  {
   "cell_type": "code",
   "execution_count": null,
   "metadata": {},
   "outputs": [],
   "source": []
  }
 ],
 "metadata": {
  "kernelspec": {
   "display_name": "Python 3",
   "language": "python",
   "name": "python3"
  },
  "language_info": {
   "codemirror_mode": {
    "name": "ipython",
    "version": 3
   },
   "file_extension": ".py",
   "mimetype": "text/x-python",
   "name": "python",
   "nbconvert_exporter": "python",
   "pygments_lexer": "ipython3",
   "version": "3.7.9"
  }
 },
 "nbformat": 4,
 "nbformat_minor": 4
}
