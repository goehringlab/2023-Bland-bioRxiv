{
 "cells": [
  {
   "cell_type": "code",
   "execution_count": 1,
   "metadata": {
    "execution": {
     "iopub.execute_input": "2023-08-04T08:36:39.571705Z",
     "iopub.status.busy": "2023-08-04T08:36:39.571419Z",
     "iopub.status.idle": "2023-08-04T08:36:39.759203Z",
     "shell.execute_reply": "2023-08-04T08:36:39.758244Z"
    }
   },
   "outputs": [],
   "source": [
    "import numpy as np"
   ]
  },
  {
   "cell_type": "code",
   "execution_count": 2,
   "metadata": {
    "execution": {
     "iopub.execute_input": "2023-08-04T08:36:39.763847Z",
     "iopub.status.busy": "2023-08-04T08:36:39.763437Z",
     "iopub.status.idle": "2023-08-04T08:36:39.768219Z",
     "shell.execute_reply": "2023-08-04T08:36:39.767482Z"
    }
   },
   "outputs": [
    {
     "name": "stdout",
     "output_type": "stream",
     "text": [
      "3.580964371026362e-07\n"
     ]
    }
   ],
   "source": [
    "km = 10 ** 2.3946427028334076 # determined by model fit\n",
    "ka = 10 ** 6.446  # determined by AUC\n",
    "print(1/ka)\n",
    "koff = 7.3e-3  # Goehring 2011a"
   ]
  },
  {
   "cell_type": "code",
   "execution_count": 3,
   "metadata": {
    "execution": {
     "iopub.execute_input": "2023-08-04T08:36:39.772276Z",
     "iopub.status.busy": "2023-08-04T08:36:39.771980Z",
     "iopub.status.idle": "2023-08-04T08:36:39.777455Z",
     "shell.execute_reply": "2023-08-04T08:36:39.776672Z"
    }
   },
   "outputs": [
    {
     "name": "stdout",
     "output_type": "stream",
     "text": [
      "4.7631999999999994e-05\n"
     ]
    }
   ],
   "source": [
    "D = 0.005  # cortical thickness\n",
    "cc = 1.04e-8  # wt cytoplasmic concentration (Gross)\n",
    "norm_mem = 22.90  # normalised membrane concentration (me)\n",
    "cm = cc * norm_mem / D \n",
    "print(cm)"
   ]
  },
  {
   "cell_type": "code",
   "execution_count": 4,
   "metadata": {
    "execution": {
     "iopub.execute_input": "2023-08-04T08:36:39.782798Z",
     "iopub.status.busy": "2023-08-04T08:36:39.782478Z",
     "iopub.status.idle": "2023-08-04T08:36:39.787028Z",
     "shell.execute_reply": "2023-08-04T08:36:39.786294Z"
    }
   },
   "outputs": [
    {
     "name": "stdout",
     "output_type": "stream",
     "text": [
      "43.078077317410866\n"
     ]
    }
   ],
   "source": [
    "# See paper methods\n",
    "pf = koff * np.sqrt(4 * ka * cm + np.sqrt(8 * ka * cm + 1) + 1) * km\n",
    "print(pf)"
   ]
  },
  {
   "cell_type": "code",
   "execution_count": 5,
   "metadata": {
    "execution": {
     "iopub.execute_input": "2023-08-04T08:36:39.790801Z",
     "iopub.status.busy": "2023-08-04T08:36:39.790488Z",
     "iopub.status.idle": "2023-08-04T08:36:39.794643Z",
     "shell.execute_reply": "2023-08-04T08:36:39.793874Z"
    }
   },
   "outputs": [],
   "source": [
    "def koff(m, km, ka, pf):\n",
    "    return pf / (km * np.sqrt(1 + 4*m*ka + np.sqrt(1 + 8*m*ka)))"
   ]
  },
  {
   "cell_type": "code",
   "execution_count": 6,
   "metadata": {
    "execution": {
     "iopub.execute_input": "2023-08-04T08:36:39.798450Z",
     "iopub.status.busy": "2023-08-04T08:36:39.798155Z",
     "iopub.status.idle": "2023-08-04T08:36:39.802324Z",
     "shell.execute_reply": "2023-08-04T08:36:39.801514Z"
    }
   },
   "outputs": [
    {
     "name": "stdout",
     "output_type": "stream",
     "text": [
      "0.007300000000000001\n"
     ]
    }
   ],
   "source": [
    "print(koff(cm, km, ka, pf))"
   ]
  }
 ],
 "metadata": {
  "kernelspec": {
   "display_name": "Python 3",
   "language": "python",
   "name": "python3"
  },
  "language_info": {
   "codemirror_mode": {
    "name": "ipython",
    "version": 3
   },
   "file_extension": ".py",
   "mimetype": "text/x-python",
   "name": "python",
   "nbconvert_exporter": "python",
   "pygments_lexer": "ipython3",
   "version": "3.7.12"
  },
  "vscode": {
   "interpreter": {
    "hash": "e3dc3871f4e194b0e5205f2056eb037c91cfe60a6f5484f031ab0dd7212226df"
   }
  }
 },
 "nbformat": 4,
 "nbformat_minor": 4
}
