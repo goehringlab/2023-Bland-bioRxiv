{
 "cells": [
  {
   "cell_type": "code",
   "execution_count": 1,
   "metadata": {
    "execution": {
     "iopub.execute_input": "2023-08-03T20:15:07.255549Z",
     "iopub.status.busy": "2023-08-03T20:15:07.255225Z",
     "iopub.status.idle": "2023-08-03T20:15:17.388364Z",
     "shell.execute_reply": "2023-08-03T20:15:17.387160Z"
    }
   },
   "outputs": [],
   "source": [
    "import sys\n",
    "import numpy as np\n",
    "import pandas as pd\n",
    "sys.path.append('../..')\n",
    "from src import load_image, ImageQuant2, raw_data_path\n",
    "%matplotlib widget"
   ]
  },
  {
   "cell_type": "code",
   "execution_count": 2,
   "metadata": {
    "execution": {
     "iopub.execute_input": "2023-08-03T20:15:17.393848Z",
     "iopub.status.busy": "2023-08-03T20:15:17.393366Z",
     "iopub.status.idle": "2023-08-03T20:15:17.403202Z",
     "shell.execute_reply": "2023-08-03T20:15:17.402474Z"
    }
   },
   "outputs": [
    {
     "name": "stdout",
     "output_type": "stream",
     "text": [
      "3.128136976235888\n"
     ]
    }
   ],
   "source": [
    "# Import quantification moodel\n",
    "membg = np.loadtxt('../../data/calibration_mem6.txt')\n",
    "cytbg = np.loadtxt('../../data/calibration_cyt.txt')\n",
    "calibration_factor = np.loadtxt('../../data/calibration_constants.txt')[6]\n",
    "print(calibration_factor)"
   ]
  },
  {
   "cell_type": "code",
   "execution_count": 3,
   "metadata": {
    "execution": {
     "iopub.execute_input": "2023-08-03T20:15:17.406708Z",
     "iopub.status.busy": "2023-08-03T20:15:17.406434Z",
     "iopub.status.idle": "2023-08-03T20:15:17.420713Z",
     "shell.execute_reply": "2023-08-03T20:15:17.419858Z"
    }
   },
   "outputs": [],
   "source": [
    "# Import embryos dataframe\n",
    "df = pd.read_csv('../../data/par2_nebd_embryos.csv')\n",
    "df['Path'] = df['Path'].apply(lambda x: raw_data_path + x)"
   ]
  },
  {
   "cell_type": "markdown",
   "metadata": {},
   "source": [
    "### Import data"
   ]
  },
  {
   "cell_type": "code",
   "execution_count": 4,
   "metadata": {
    "execution": {
     "iopub.execute_input": "2023-08-03T20:15:17.424497Z",
     "iopub.status.busy": "2023-08-03T20:15:17.424237Z",
     "iopub.status.idle": "2023-08-03T20:15:26.033105Z",
     "shell.execute_reply": "2023-08-03T20:15:26.030341Z"
    }
   },
   "outputs": [],
   "source": [
    "paths = df.Path.to_list()\n",
    "lines = df.Line.to_list()\n",
    "imgs = [load_image(p + '/af_corrected.tif') for p in paths]\n",
    "rois = [np.loadtxt(p + '/ROI_fit.txt') if l != 'n2' else np.loadtxt(p + '/ROI_manual.txt') for p, l in zip(paths, lines)]"
   ]
  },
  {
   "cell_type": "markdown",
   "metadata": {},
   "source": [
    "### Run quantification"
   ]
  },
  {
   "cell_type": "code",
   "execution_count": 5,
   "metadata": {
    "execution": {
     "iopub.execute_input": "2023-08-03T20:15:26.039913Z",
     "iopub.status.busy": "2023-08-03T20:15:26.039497Z",
     "iopub.status.idle": "2023-08-03T20:17:46.803054Z",
     "shell.execute_reply": "2023-08-03T20:17:46.802064Z"
    },
    "scrolled": false
   },
   "outputs": [
    {
     "name": "stderr",
     "output_type": "stream",
     "text": [
      "\r",
      "  0%|                                                                                                                      | 0/600 [00:00<?, ?it/s]"
     ]
    },
    {
     "name": "stderr",
     "output_type": "stream",
     "text": [
      "\r",
      "  0%|▏                                                                                                             | 1/600 [00:03<34:35,  3.47s/it]"
     ]
    },
    {
     "name": "stderr",
     "output_type": "stream",
     "text": [
      "\r",
      "  0%|▎                                                                                                             | 2/600 [00:03<15:14,  1.53s/it]"
     ]
    },
    {
     "name": "stderr",
     "output_type": "stream",
     "text": [
      "\r",
      "  0%|▌                                                                                                             | 3/600 [00:03<09:02,  1.10it/s]"
     ]
    },
    {
     "name": "stderr",
     "output_type": "stream",
     "text": [
      "\r",
      "  1%|▋                                                                                                             | 4/600 [00:03<06:08,  1.62it/s]"
     ]
    },
    {
     "name": "stderr",
     "output_type": "stream",
     "text": [
      "\r",
      "  1%|▉                                                                                                             | 5/600 [00:04<04:28,  2.22it/s]"
     ]
    },
    {
     "name": "stderr",
     "output_type": "stream",
     "text": [
      "\r",
      "  1%|█                                                                                                             | 6/600 [00:04<03:23,  2.92it/s]"
     ]
    },
    {
     "name": "stderr",
     "output_type": "stream",
     "text": [
      "\r",
      "  1%|█▎                                                                                                            | 7/600 [00:04<02:50,  3.47it/s]"
     ]
    },
    {
     "name": "stderr",
     "output_type": "stream",
     "text": [
      "\r",
      "  1%|█▍                                                                                                            | 8/600 [00:04<02:27,  4.01it/s]"
     ]
    },
    {
     "name": "stderr",
     "output_type": "stream",
     "text": [
      "\r",
      "  2%|█▋                                                                                                            | 9/600 [00:04<02:12,  4.47it/s]"
     ]
    },
    {
     "name": "stderr",
     "output_type": "stream",
     "text": [
      "\r",
      "  2%|█▊                                                                                                           | 10/600 [00:04<02:04,  4.73it/s]"
     ]
    },
    {
     "name": "stderr",
     "output_type": "stream",
     "text": [
      "\r",
      "  2%|█▉                                                                                                           | 11/600 [00:05<01:54,  5.16it/s]"
     ]
    },
    {
     "name": "stderr",
     "output_type": "stream",
     "text": [
      "\r",
      "  2%|██▏                                                                                                          | 12/600 [00:05<01:48,  5.41it/s]"
     ]
    },
    {
     "name": "stderr",
     "output_type": "stream",
     "text": [
      "\r",
      "  2%|██▎                                                                                                          | 13/600 [00:05<01:44,  5.61it/s]"
     ]
    },
    {
     "name": "stderr",
     "output_type": "stream",
     "text": [
      "\r",
      "  2%|██▌                                                                                                          | 14/600 [00:05<01:43,  5.65it/s]"
     ]
    },
    {
     "name": "stderr",
     "output_type": "stream",
     "text": [
      "\r",
      "  2%|██▋                                                                                                          | 15/600 [00:05<01:41,  5.75it/s]"
     ]
    },
    {
     "name": "stderr",
     "output_type": "stream",
     "text": [
      "\r",
      "  3%|██▉                                                                                                          | 16/600 [00:05<01:42,  5.72it/s]"
     ]
    },
    {
     "name": "stderr",
     "output_type": "stream",
     "text": [
      "\r",
      "  3%|███                                                                                                          | 17/600 [00:06<01:42,  5.71it/s]"
     ]
    },
    {
     "name": "stderr",
     "output_type": "stream",
     "text": [
      "\r",
      "  3%|███▎                                                                                                         | 18/600 [00:06<01:40,  5.81it/s]"
     ]
    },
    {
     "name": "stderr",
     "output_type": "stream",
     "text": [
      "\r",
      "  3%|███▍                                                                                                         | 19/600 [00:06<01:37,  5.97it/s]"
     ]
    },
    {
     "name": "stderr",
     "output_type": "stream",
     "text": [
      "\r",
      "  3%|███▋                                                                                                         | 20/600 [00:06<01:36,  6.04it/s]"
     ]
    },
    {
     "name": "stderr",
     "output_type": "stream",
     "text": [
      "\r",
      "  4%|███▊                                                                                                         | 21/600 [00:06<01:36,  6.01it/s]"
     ]
    },
    {
     "name": "stderr",
     "output_type": "stream",
     "text": [
      "\r",
      "  4%|███▉                                                                                                         | 22/600 [00:06<01:39,  5.81it/s]"
     ]
    },
    {
     "name": "stderr",
     "output_type": "stream",
     "text": [
      "\r",
      "  4%|████▏                                                                                                        | 23/600 [00:07<01:41,  5.66it/s]"
     ]
    },
    {
     "name": "stderr",
     "output_type": "stream",
     "text": [
      "\r",
      "  4%|████▎                                                                                                        | 24/600 [00:07<01:40,  5.75it/s]"
     ]
    },
    {
     "name": "stderr",
     "output_type": "stream",
     "text": [
      "\r",
      "  4%|████▌                                                                                                        | 25/600 [00:07<01:46,  5.38it/s]"
     ]
    },
    {
     "name": "stderr",
     "output_type": "stream",
     "text": [
      "\r",
      "  4%|████▋                                                                                                        | 26/600 [00:07<01:44,  5.47it/s]"
     ]
    },
    {
     "name": "stderr",
     "output_type": "stream",
     "text": [
      "\r",
      "  4%|████▉                                                                                                        | 27/600 [00:07<01:41,  5.62it/s]"
     ]
    },
    {
     "name": "stderr",
     "output_type": "stream",
     "text": [
      "\r",
      "  5%|█████                                                                                                        | 28/600 [00:08<01:39,  5.73it/s]"
     ]
    },
    {
     "name": "stderr",
     "output_type": "stream",
     "text": [
      "\r",
      "  5%|█████▎                                                                                                       | 29/600 [00:08<01:37,  5.83it/s]"
     ]
    },
    {
     "name": "stderr",
     "output_type": "stream",
     "text": [
      "\r",
      "  5%|█████▍                                                                                                       | 30/600 [00:08<01:37,  5.86it/s]"
     ]
    },
    {
     "name": "stderr",
     "output_type": "stream",
     "text": [
      "\r",
      "  5%|█████▋                                                                                                       | 31/600 [00:08<01:37,  5.86it/s]"
     ]
    },
    {
     "name": "stderr",
     "output_type": "stream",
     "text": [
      "\r",
      "  5%|█████▊                                                                                                       | 32/600 [00:08<01:34,  6.00it/s]"
     ]
    },
    {
     "name": "stderr",
     "output_type": "stream",
     "text": [
      "\r",
      "  6%|█████▉                                                                                                       | 33/600 [00:08<01:38,  5.75it/s]"
     ]
    },
    {
     "name": "stderr",
     "output_type": "stream",
     "text": [
      "\r",
      "  6%|██████▏                                                                                                      | 34/600 [00:09<01:38,  5.76it/s]"
     ]
    },
    {
     "name": "stderr",
     "output_type": "stream",
     "text": [
      "\r",
      "  6%|██████▎                                                                                                      | 35/600 [00:09<01:38,  5.73it/s]"
     ]
    },
    {
     "name": "stderr",
     "output_type": "stream",
     "text": [
      "\r",
      "  6%|██████▌                                                                                                      | 36/600 [00:09<01:37,  5.81it/s]"
     ]
    },
    {
     "name": "stderr",
     "output_type": "stream",
     "text": [
      "\r",
      "  6%|██████▋                                                                                                      | 37/600 [00:09<01:41,  5.54it/s]"
     ]
    },
    {
     "name": "stderr",
     "output_type": "stream",
     "text": [
      "\r",
      "  6%|██████▉                                                                                                      | 38/600 [00:09<01:40,  5.61it/s]"
     ]
    },
    {
     "name": "stderr",
     "output_type": "stream",
     "text": [
      "\r",
      "  6%|███████                                                                                                      | 39/600 [00:09<01:39,  5.66it/s]"
     ]
    },
    {
     "name": "stderr",
     "output_type": "stream",
     "text": [
      "\r",
      "  7%|███████▎                                                                                                     | 40/600 [00:10<01:41,  5.50it/s]"
     ]
    },
    {
     "name": "stderr",
     "output_type": "stream",
     "text": [
      "\r",
      "  7%|███████▍                                                                                                     | 41/600 [00:10<01:39,  5.61it/s]"
     ]
    },
    {
     "name": "stderr",
     "output_type": "stream",
     "text": [
      "\r",
      "  7%|███████▋                                                                                                     | 42/600 [00:10<01:38,  5.64it/s]"
     ]
    },
    {
     "name": "stderr",
     "output_type": "stream",
     "text": [
      "\r",
      "  7%|███████▊                                                                                                     | 43/600 [00:10<01:41,  5.47it/s]"
     ]
    },
    {
     "name": "stderr",
     "output_type": "stream",
     "text": [
      "\r",
      "  7%|███████▉                                                                                                     | 44/600 [00:10<01:38,  5.64it/s]"
     ]
    },
    {
     "name": "stderr",
     "output_type": "stream",
     "text": [
      "\r",
      "  8%|████████▏                                                                                                    | 45/600 [00:11<01:48,  5.13it/s]"
     ]
    },
    {
     "name": "stderr",
     "output_type": "stream",
     "text": [
      "\r",
      "  8%|████████▎                                                                                                    | 46/600 [00:11<01:42,  5.39it/s]"
     ]
    },
    {
     "name": "stderr",
     "output_type": "stream",
     "text": [
      "\r",
      "  8%|████████▌                                                                                                    | 47/600 [00:11<01:36,  5.70it/s]"
     ]
    },
    {
     "name": "stderr",
     "output_type": "stream",
     "text": [
      "\r",
      "  8%|████████▋                                                                                                    | 48/600 [00:11<01:39,  5.53it/s]"
     ]
    },
    {
     "name": "stderr",
     "output_type": "stream",
     "text": [
      "\r",
      "  8%|████████▉                                                                                                    | 49/600 [00:11<01:31,  6.04it/s]"
     ]
    },
    {
     "name": "stderr",
     "output_type": "stream",
     "text": [
      "\r",
      "  8%|█████████                                                                                                    | 50/600 [00:11<01:30,  6.05it/s]"
     ]
    },
    {
     "name": "stderr",
     "output_type": "stream",
     "text": [
      "\r",
      "  8%|█████████▎                                                                                                   | 51/600 [00:12<01:30,  6.06it/s]"
     ]
    },
    {
     "name": "stderr",
     "output_type": "stream",
     "text": [
      "\r",
      "  9%|█████████▍                                                                                                   | 52/600 [00:12<01:31,  5.99it/s]"
     ]
    },
    {
     "name": "stderr",
     "output_type": "stream",
     "text": [
      "\r",
      "  9%|█████████▋                                                                                                   | 53/600 [00:12<01:30,  6.08it/s]"
     ]
    },
    {
     "name": "stderr",
     "output_type": "stream",
     "text": [
      "\r",
      "  9%|█████████▊                                                                                                   | 54/600 [00:12<01:29,  6.08it/s]"
     ]
    },
    {
     "name": "stderr",
     "output_type": "stream",
     "text": [
      "\r",
      "  9%|█████████▉                                                                                                   | 55/600 [00:12<01:28,  6.13it/s]"
     ]
    },
    {
     "name": "stderr",
     "output_type": "stream",
     "text": [
      "\r",
      "  9%|██████████▏                                                                                                  | 56/600 [00:12<01:31,  5.97it/s]"
     ]
    },
    {
     "name": "stderr",
     "output_type": "stream",
     "text": [
      "\r",
      " 10%|██████████▎                                                                                                  | 57/600 [00:13<01:31,  5.91it/s]"
     ]
    },
    {
     "name": "stderr",
     "output_type": "stream",
     "text": [
      "\r",
      " 10%|██████████▌                                                                                                  | 58/600 [00:13<01:31,  5.95it/s]"
     ]
    },
    {
     "name": "stderr",
     "output_type": "stream",
     "text": [
      "\r",
      " 10%|██████████▋                                                                                                  | 59/600 [00:13<01:30,  5.96it/s]"
     ]
    },
    {
     "name": "stderr",
     "output_type": "stream",
     "text": [
      "\r",
      " 10%|██████████▉                                                                                                  | 60/600 [00:13<01:27,  6.19it/s]"
     ]
    },
    {
     "name": "stderr",
     "output_type": "stream",
     "text": [
      "\r",
      " 10%|███████████                                                                                                  | 61/600 [00:13<01:30,  5.94it/s]"
     ]
    },
    {
     "name": "stderr",
     "output_type": "stream",
     "text": [
      "\r",
      " 10%|███████████▎                                                                                                 | 62/600 [00:13<01:24,  6.34it/s]"
     ]
    },
    {
     "name": "stderr",
     "output_type": "stream",
     "text": [
      "\r",
      " 10%|███████████▍                                                                                                 | 63/600 [00:14<01:21,  6.59it/s]"
     ]
    },
    {
     "name": "stderr",
     "output_type": "stream",
     "text": [
      "\r",
      " 11%|███████████▋                                                                                                 | 64/600 [00:14<01:23,  6.42it/s]"
     ]
    },
    {
     "name": "stderr",
     "output_type": "stream",
     "text": [
      "\r",
      " 11%|███████████▊                                                                                                 | 65/600 [00:14<01:24,  6.37it/s]"
     ]
    },
    {
     "name": "stderr",
     "output_type": "stream",
     "text": [
      "\r",
      " 11%|███████████▉                                                                                                 | 66/600 [00:14<01:25,  6.24it/s]"
     ]
    },
    {
     "name": "stderr",
     "output_type": "stream",
     "text": [
      "\r",
      " 11%|████████████▏                                                                                                | 67/600 [00:14<01:26,  6.19it/s]"
     ]
    },
    {
     "name": "stderr",
     "output_type": "stream",
     "text": [
      "\r",
      " 11%|████████████▎                                                                                                | 68/600 [00:14<01:26,  6.12it/s]"
     ]
    },
    {
     "name": "stderr",
     "output_type": "stream",
     "text": [
      "\r",
      " 12%|████████████▌                                                                                                | 69/600 [00:15<01:27,  6.06it/s]"
     ]
    },
    {
     "name": "stderr",
     "output_type": "stream",
     "text": [
      "\r",
      " 12%|████████████▋                                                                                                | 70/600 [00:15<01:28,  6.01it/s]"
     ]
    },
    {
     "name": "stderr",
     "output_type": "stream",
     "text": [
      "\r",
      " 12%|████████████▉                                                                                                | 71/600 [00:15<01:28,  5.98it/s]"
     ]
    },
    {
     "name": "stderr",
     "output_type": "stream",
     "text": [
      "\r",
      " 12%|█████████████                                                                                                | 72/600 [00:15<01:26,  6.07it/s]"
     ]
    },
    {
     "name": "stderr",
     "output_type": "stream",
     "text": [
      "\r",
      " 12%|█████████████▎                                                                                               | 73/600 [00:15<01:27,  6.06it/s]"
     ]
    },
    {
     "name": "stderr",
     "output_type": "stream",
     "text": [
      "\r",
      " 12%|█████████████▍                                                                                               | 74/600 [00:15<01:26,  6.07it/s]"
     ]
    },
    {
     "name": "stderr",
     "output_type": "stream",
     "text": [
      "\r",
      " 12%|█████████████▋                                                                                               | 75/600 [00:15<01:27,  6.02it/s]"
     ]
    },
    {
     "name": "stderr",
     "output_type": "stream",
     "text": [
      "\r",
      " 13%|█████████████▊                                                                                               | 76/600 [00:16<01:28,  5.92it/s]"
     ]
    },
    {
     "name": "stderr",
     "output_type": "stream",
     "text": [
      "\r",
      " 13%|█████████████▉                                                                                               | 77/600 [00:16<01:27,  5.98it/s]"
     ]
    },
    {
     "name": "stderr",
     "output_type": "stream",
     "text": [
      "\r",
      " 13%|██████████████▏                                                                                              | 78/600 [00:16<01:29,  5.86it/s]"
     ]
    },
    {
     "name": "stderr",
     "output_type": "stream",
     "text": [
      "\r",
      " 13%|██████████████▎                                                                                              | 79/600 [00:16<01:27,  5.97it/s]"
     ]
    },
    {
     "name": "stderr",
     "output_type": "stream",
     "text": [
      "\r",
      " 13%|██████████████▌                                                                                              | 80/600 [00:16<01:27,  5.94it/s]"
     ]
    },
    {
     "name": "stderr",
     "output_type": "stream",
     "text": [
      "\r",
      " 14%|██████████████▋                                                                                              | 81/600 [00:17<01:27,  5.91it/s]"
     ]
    },
    {
     "name": "stderr",
     "output_type": "stream",
     "text": [
      "\r",
      " 14%|██████████████▉                                                                                              | 82/600 [00:17<01:29,  5.79it/s]"
     ]
    },
    {
     "name": "stderr",
     "output_type": "stream",
     "text": [
      "\r",
      " 14%|███████████████                                                                                              | 83/600 [00:17<01:29,  5.79it/s]"
     ]
    },
    {
     "name": "stderr",
     "output_type": "stream",
     "text": [
      "\r",
      " 14%|███████████████▎                                                                                             | 84/600 [00:17<01:21,  6.30it/s]"
     ]
    },
    {
     "name": "stderr",
     "output_type": "stream",
     "text": [
      "\r",
      " 14%|███████████████▍                                                                                             | 85/600 [00:17<01:22,  6.27it/s]"
     ]
    },
    {
     "name": "stderr",
     "output_type": "stream",
     "text": [
      "\r",
      " 14%|███████████████▌                                                                                             | 86/600 [00:17<01:19,  6.49it/s]"
     ]
    },
    {
     "name": "stderr",
     "output_type": "stream",
     "text": [
      "\r",
      " 14%|███████████████▊                                                                                             | 87/600 [00:17<01:20,  6.38it/s]"
     ]
    },
    {
     "name": "stderr",
     "output_type": "stream",
     "text": [
      "\r",
      " 15%|███████████████▉                                                                                             | 88/600 [00:18<01:20,  6.37it/s]"
     ]
    },
    {
     "name": "stderr",
     "output_type": "stream",
     "text": [
      "\r",
      " 15%|████████████████▏                                                                                            | 89/600 [00:18<01:20,  6.32it/s]"
     ]
    },
    {
     "name": "stderr",
     "output_type": "stream",
     "text": [
      "\r",
      " 15%|████████████████▎                                                                                            | 90/600 [00:18<01:19,  6.38it/s]"
     ]
    },
    {
     "name": "stderr",
     "output_type": "stream",
     "text": [
      "\r",
      " 15%|████████████████▌                                                                                            | 91/600 [00:18<01:18,  6.46it/s]"
     ]
    },
    {
     "name": "stderr",
     "output_type": "stream",
     "text": [
      "\r",
      " 15%|████████████████▋                                                                                            | 92/600 [00:18<01:18,  6.45it/s]"
     ]
    },
    {
     "name": "stderr",
     "output_type": "stream",
     "text": [
      "\r",
      " 16%|████████████████▉                                                                                            | 93/600 [00:18<01:18,  6.49it/s]"
     ]
    },
    {
     "name": "stderr",
     "output_type": "stream",
     "text": [
      "\r",
      " 16%|█████████████████                                                                                            | 94/600 [00:19<01:18,  6.43it/s]"
     ]
    },
    {
     "name": "stderr",
     "output_type": "stream",
     "text": [
      "\r",
      " 16%|█████████████████▎                                                                                           | 95/600 [00:19<01:19,  6.34it/s]"
     ]
    },
    {
     "name": "stderr",
     "output_type": "stream",
     "text": [
      "\r",
      " 16%|█████████████████▍                                                                                           | 96/600 [00:19<01:19,  6.33it/s]"
     ]
    },
    {
     "name": "stderr",
     "output_type": "stream",
     "text": [
      "\r",
      " 16%|█████████████████▌                                                                                           | 97/600 [00:19<01:21,  6.17it/s]"
     ]
    },
    {
     "name": "stderr",
     "output_type": "stream",
     "text": [
      "\r",
      " 16%|█████████████████▊                                                                                           | 98/600 [00:19<01:28,  5.70it/s]"
     ]
    },
    {
     "name": "stderr",
     "output_type": "stream",
     "text": [
      "\r",
      " 16%|█████████████████▉                                                                                           | 99/600 [00:19<01:27,  5.72it/s]"
     ]
    },
    {
     "name": "stderr",
     "output_type": "stream",
     "text": [
      "\r",
      " 17%|██████████████████                                                                                          | 100/600 [00:20<01:25,  5.86it/s]"
     ]
    },
    {
     "name": "stderr",
     "output_type": "stream",
     "text": [
      "\r",
      " 17%|██████████████████▏                                                                                         | 101/600 [00:20<01:23,  5.98it/s]"
     ]
    },
    {
     "name": "stderr",
     "output_type": "stream",
     "text": [
      "\r",
      " 17%|██████████████████▎                                                                                         | 102/600 [00:20<01:22,  6.03it/s]"
     ]
    },
    {
     "name": "stderr",
     "output_type": "stream",
     "text": [
      "\r",
      " 17%|██████████████████▌                                                                                         | 103/600 [00:20<01:22,  6.00it/s]"
     ]
    },
    {
     "name": "stderr",
     "output_type": "stream",
     "text": [
      "\r",
      " 17%|██████████████████▋                                                                                         | 104/600 [00:20<01:19,  6.28it/s]"
     ]
    },
    {
     "name": "stderr",
     "output_type": "stream",
     "text": [
      "\r",
      " 18%|██████████████████▉                                                                                         | 105/600 [00:20<01:16,  6.50it/s]"
     ]
    },
    {
     "name": "stderr",
     "output_type": "stream",
     "text": [
      "\r",
      " 18%|███████████████████                                                                                         | 106/600 [00:21<01:16,  6.42it/s]"
     ]
    },
    {
     "name": "stderr",
     "output_type": "stream",
     "text": [
      "\r",
      " 18%|███████████████████▎                                                                                        | 107/600 [00:21<01:17,  6.36it/s]"
     ]
    },
    {
     "name": "stderr",
     "output_type": "stream",
     "text": [
      "\r",
      " 18%|███████████████████▍                                                                                        | 108/600 [00:21<01:17,  6.34it/s]"
     ]
    },
    {
     "name": "stderr",
     "output_type": "stream",
     "text": [
      "\r",
      " 18%|███████████████████▌                                                                                        | 109/600 [00:21<01:17,  6.32it/s]"
     ]
    },
    {
     "name": "stderr",
     "output_type": "stream",
     "text": [
      "\r",
      " 18%|███████████████████▊                                                                                        | 110/600 [00:21<01:18,  6.25it/s]"
     ]
    },
    {
     "name": "stderr",
     "output_type": "stream",
     "text": [
      "\r",
      " 18%|███████████████████▉                                                                                        | 111/600 [00:21<01:17,  6.28it/s]"
     ]
    },
    {
     "name": "stderr",
     "output_type": "stream",
     "text": [
      "\r",
      " 19%|████████████████████▏                                                                                       | 112/600 [00:21<01:14,  6.54it/s]"
     ]
    },
    {
     "name": "stderr",
     "output_type": "stream",
     "text": [
      "\r",
      " 19%|████████████████████▎                                                                                       | 113/600 [00:22<01:18,  6.23it/s]"
     ]
    },
    {
     "name": "stderr",
     "output_type": "stream",
     "text": [
      "\r",
      " 19%|████████████████████▌                                                                                       | 114/600 [00:22<01:17,  6.24it/s]"
     ]
    },
    {
     "name": "stderr",
     "output_type": "stream",
     "text": [
      "\r",
      " 19%|████████████████████▋                                                                                       | 115/600 [00:22<01:17,  6.23it/s]"
     ]
    },
    {
     "name": "stderr",
     "output_type": "stream",
     "text": [
      "\r",
      " 19%|████████████████████▉                                                                                       | 116/600 [00:22<01:16,  6.29it/s]"
     ]
    },
    {
     "name": "stderr",
     "output_type": "stream",
     "text": [
      "\r",
      " 20%|█████████████████████                                                                                       | 117/600 [00:22<01:14,  6.46it/s]"
     ]
    },
    {
     "name": "stderr",
     "output_type": "stream",
     "text": [
      "\r",
      " 20%|█████████████████████▏                                                                                      | 118/600 [00:22<01:13,  6.56it/s]"
     ]
    },
    {
     "name": "stderr",
     "output_type": "stream",
     "text": [
      "\r",
      " 20%|█████████████████████▍                                                                                      | 119/600 [00:23<01:16,  6.33it/s]"
     ]
    },
    {
     "name": "stderr",
     "output_type": "stream",
     "text": [
      "\r",
      " 20%|█████████████████████▌                                                                                      | 120/600 [00:23<01:15,  6.37it/s]"
     ]
    },
    {
     "name": "stderr",
     "output_type": "stream",
     "text": [
      "\r",
      " 20%|█████████████████████▊                                                                                      | 121/600 [00:23<01:14,  6.43it/s]"
     ]
    },
    {
     "name": "stderr",
     "output_type": "stream",
     "text": [
      "\r",
      " 20%|█████████████████████▉                                                                                      | 122/600 [00:23<01:14,  6.40it/s]"
     ]
    },
    {
     "name": "stderr",
     "output_type": "stream",
     "text": [
      "\r",
      " 20%|██████████████████████▏                                                                                     | 123/600 [00:23<01:14,  6.41it/s]"
     ]
    },
    {
     "name": "stderr",
     "output_type": "stream",
     "text": [
      "\r",
      " 21%|██████████████████████▎                                                                                     | 124/600 [00:23<01:12,  6.56it/s]"
     ]
    },
    {
     "name": "stderr",
     "output_type": "stream",
     "text": [
      "\r",
      " 21%|██████████████████████▌                                                                                     | 125/600 [00:24<01:14,  6.37it/s]"
     ]
    },
    {
     "name": "stderr",
     "output_type": "stream",
     "text": [
      "\r",
      " 21%|██████████████████████▋                                                                                     | 126/600 [00:24<01:13,  6.46it/s]"
     ]
    },
    {
     "name": "stderr",
     "output_type": "stream",
     "text": [
      "\r",
      " 21%|██████████████████████▊                                                                                     | 127/600 [00:24<01:12,  6.49it/s]"
     ]
    },
    {
     "name": "stderr",
     "output_type": "stream",
     "text": [
      "\r",
      " 21%|███████████████████████                                                                                     | 128/600 [00:24<01:11,  6.57it/s]"
     ]
    },
    {
     "name": "stderr",
     "output_type": "stream",
     "text": [
      "\r",
      " 22%|███████████████████████▏                                                                                    | 129/600 [00:24<01:10,  6.64it/s]"
     ]
    },
    {
     "name": "stderr",
     "output_type": "stream",
     "text": [
      "\r",
      " 22%|███████████████████████▍                                                                                    | 130/600 [00:24<01:12,  6.49it/s]"
     ]
    },
    {
     "name": "stderr",
     "output_type": "stream",
     "text": [
      "\r",
      " 22%|███████████████████████▌                                                                                    | 131/600 [00:24<01:12,  6.43it/s]"
     ]
    },
    {
     "name": "stderr",
     "output_type": "stream",
     "text": [
      "\r",
      " 22%|███████████████████████▊                                                                                    | 132/600 [00:25<01:12,  6.46it/s]"
     ]
    },
    {
     "name": "stderr",
     "output_type": "stream",
     "text": [
      "\r",
      " 22%|███████████████████████▉                                                                                    | 133/600 [00:25<01:08,  6.78it/s]"
     ]
    },
    {
     "name": "stderr",
     "output_type": "stream",
     "text": [
      "\r",
      " 22%|████████████████████████                                                                                    | 134/600 [00:25<01:04,  7.21it/s]"
     ]
    },
    {
     "name": "stderr",
     "output_type": "stream",
     "text": [
      "\r",
      " 22%|████████████████████████▎                                                                                   | 135/600 [00:25<01:08,  6.83it/s]"
     ]
    },
    {
     "name": "stderr",
     "output_type": "stream",
     "text": [
      "\r",
      " 23%|████████████████████████▍                                                                                   | 136/600 [00:25<01:09,  6.72it/s]"
     ]
    },
    {
     "name": "stderr",
     "output_type": "stream",
     "text": [
      "\r",
      " 23%|████████████████████████▋                                                                                   | 137/600 [00:25<01:07,  6.90it/s]"
     ]
    },
    {
     "name": "stderr",
     "output_type": "stream",
     "text": [
      "\r",
      " 23%|████████████████████████▊                                                                                   | 138/600 [00:25<01:06,  6.92it/s]"
     ]
    },
    {
     "name": "stderr",
     "output_type": "stream",
     "text": [
      "\r",
      " 23%|█████████████████████████                                                                                   | 139/600 [00:26<01:05,  7.07it/s]"
     ]
    },
    {
     "name": "stderr",
     "output_type": "stream",
     "text": [
      "\r",
      " 23%|█████████████████████████▏                                                                                  | 140/600 [00:26<01:06,  6.96it/s]"
     ]
    },
    {
     "name": "stderr",
     "output_type": "stream",
     "text": [
      "\r",
      " 24%|█████████████████████████▍                                                                                  | 141/600 [00:26<01:06,  6.88it/s]"
     ]
    },
    {
     "name": "stderr",
     "output_type": "stream",
     "text": [
      "\r",
      " 24%|█████████████████████████▌                                                                                  | 142/600 [00:26<01:07,  6.81it/s]"
     ]
    },
    {
     "name": "stderr",
     "output_type": "stream",
     "text": [
      "\r",
      " 24%|█████████████████████████▋                                                                                  | 143/600 [00:26<01:07,  6.76it/s]"
     ]
    },
    {
     "name": "stderr",
     "output_type": "stream",
     "text": [
      "\r",
      " 24%|█████████████████████████▉                                                                                  | 144/600 [00:26<01:08,  6.62it/s]"
     ]
    },
    {
     "name": "stderr",
     "output_type": "stream",
     "text": [
      "\r",
      " 24%|██████████████████████████                                                                                  | 145/600 [00:26<01:08,  6.68it/s]"
     ]
    },
    {
     "name": "stderr",
     "output_type": "stream",
     "text": [
      "\r",
      " 24%|██████████████████████████▎                                                                                 | 146/600 [00:27<01:09,  6.54it/s]"
     ]
    },
    {
     "name": "stderr",
     "output_type": "stream",
     "text": [
      "\r",
      " 24%|██████████████████████████▍                                                                                 | 147/600 [00:27<01:10,  6.43it/s]"
     ]
    },
    {
     "name": "stderr",
     "output_type": "stream",
     "text": [
      "\r",
      " 25%|██████████████████████████▋                                                                                 | 148/600 [00:27<01:08,  6.63it/s]"
     ]
    },
    {
     "name": "stderr",
     "output_type": "stream",
     "text": [
      "\r",
      " 25%|██████████████████████████▊                                                                                 | 149/600 [00:27<01:09,  6.46it/s]"
     ]
    },
    {
     "name": "stderr",
     "output_type": "stream",
     "text": [
      "\r",
      " 25%|███████████████████████████                                                                                 | 150/600 [00:27<01:08,  6.53it/s]"
     ]
    },
    {
     "name": "stderr",
     "output_type": "stream",
     "text": [
      "\r",
      " 25%|███████████████████████████▏                                                                                | 151/600 [00:27<01:09,  6.45it/s]"
     ]
    },
    {
     "name": "stderr",
     "output_type": "stream",
     "text": [
      "\r",
      " 25%|███████████████████████████▎                                                                                | 152/600 [00:28<01:08,  6.57it/s]"
     ]
    },
    {
     "name": "stderr",
     "output_type": "stream",
     "text": [
      "\r",
      " 26%|███████████████████████████▌                                                                                | 153/600 [00:28<01:10,  6.37it/s]"
     ]
    },
    {
     "name": "stderr",
     "output_type": "stream",
     "text": [
      "\r",
      " 26%|███████████████████████████▋                                                                                | 154/600 [00:28<01:10,  6.37it/s]"
     ]
    },
    {
     "name": "stderr",
     "output_type": "stream",
     "text": [
      "\r",
      " 26%|███████████████████████████▉                                                                                | 155/600 [00:28<01:08,  6.50it/s]"
     ]
    },
    {
     "name": "stderr",
     "output_type": "stream",
     "text": [
      "\r",
      " 26%|████████████████████████████                                                                                | 156/600 [00:28<01:09,  6.40it/s]"
     ]
    },
    {
     "name": "stderr",
     "output_type": "stream",
     "text": [
      "\r",
      " 26%|████████████████████████████▎                                                                               | 157/600 [00:28<01:10,  6.28it/s]"
     ]
    },
    {
     "name": "stderr",
     "output_type": "stream",
     "text": [
      "\r",
      " 26%|████████████████████████████▍                                                                               | 158/600 [00:29<01:11,  6.14it/s]"
     ]
    },
    {
     "name": "stderr",
     "output_type": "stream",
     "text": [
      "\r",
      " 26%|████████████████████████████▌                                                                               | 159/600 [00:29<01:11,  6.16it/s]"
     ]
    },
    {
     "name": "stderr",
     "output_type": "stream",
     "text": [
      "\r",
      " 27%|████████████████████████████▊                                                                               | 160/600 [00:29<01:11,  6.14it/s]"
     ]
    },
    {
     "name": "stderr",
     "output_type": "stream",
     "text": [
      "\r",
      " 27%|████████████████████████████▉                                                                               | 161/600 [00:29<01:11,  6.18it/s]"
     ]
    },
    {
     "name": "stderr",
     "output_type": "stream",
     "text": [
      "\r",
      " 27%|█████████████████████████████▏                                                                              | 162/600 [00:29<01:11,  6.09it/s]"
     ]
    },
    {
     "name": "stderr",
     "output_type": "stream",
     "text": [
      "\r",
      " 27%|█████████████████████████████▎                                                                              | 163/600 [00:29<01:12,  6.02it/s]"
     ]
    },
    {
     "name": "stderr",
     "output_type": "stream",
     "text": [
      "\r",
      " 27%|█████████████████████████████▌                                                                              | 164/600 [00:30<01:16,  5.68it/s]"
     ]
    },
    {
     "name": "stderr",
     "output_type": "stream",
     "text": [
      "\r",
      " 28%|█████████████████████████████▋                                                                              | 165/600 [00:30<01:13,  5.94it/s]"
     ]
    },
    {
     "name": "stderr",
     "output_type": "stream",
     "text": [
      "\r",
      " 28%|█████████████████████████████▉                                                                              | 166/600 [00:30<01:11,  6.04it/s]"
     ]
    },
    {
     "name": "stderr",
     "output_type": "stream",
     "text": [
      "\r",
      " 28%|██████████████████████████████                                                                              | 167/600 [00:30<01:11,  6.08it/s]"
     ]
    },
    {
     "name": "stderr",
     "output_type": "stream",
     "text": [
      "\r",
      " 28%|██████████████████████████████▏                                                                             | 168/600 [00:30<01:10,  6.10it/s]"
     ]
    },
    {
     "name": "stderr",
     "output_type": "stream",
     "text": [
      "\r",
      " 28%|██████████████████████████████▍                                                                             | 169/600 [00:30<01:11,  6.00it/s]"
     ]
    },
    {
     "name": "stderr",
     "output_type": "stream",
     "text": [
      "\r",
      " 28%|██████████████████████████████▌                                                                             | 170/600 [00:31<01:13,  5.81it/s]"
     ]
    },
    {
     "name": "stderr",
     "output_type": "stream",
     "text": [
      "\r",
      " 28%|██████████████████████████████▊                                                                             | 171/600 [00:31<01:15,  5.69it/s]"
     ]
    },
    {
     "name": "stderr",
     "output_type": "stream",
     "text": [
      "\r",
      " 29%|██████████████████████████████▉                                                                             | 172/600 [00:31<01:13,  5.81it/s]"
     ]
    },
    {
     "name": "stderr",
     "output_type": "stream",
     "text": [
      "\r",
      " 29%|███████████████████████████████▏                                                                            | 173/600 [00:31<01:13,  5.81it/s]"
     ]
    },
    {
     "name": "stderr",
     "output_type": "stream",
     "text": [
      "\r",
      " 29%|███████████████████████████████▎                                                                            | 174/600 [00:31<01:13,  5.82it/s]"
     ]
    },
    {
     "name": "stderr",
     "output_type": "stream",
     "text": [
      "\r",
      " 29%|███████████████████████████████▌                                                                            | 175/600 [00:31<01:11,  5.94it/s]"
     ]
    },
    {
     "name": "stderr",
     "output_type": "stream",
     "text": [
      "\r",
      " 29%|███████████████████████████████▋                                                                            | 176/600 [00:32<01:10,  6.01it/s]"
     ]
    },
    {
     "name": "stderr",
     "output_type": "stream",
     "text": [
      "\r",
      " 30%|███████████████████████████████▊                                                                            | 177/600 [00:32<01:08,  6.18it/s]"
     ]
    },
    {
     "name": "stderr",
     "output_type": "stream",
     "text": [
      "\r",
      " 30%|████████████████████████████████                                                                            | 178/600 [00:32<01:06,  6.33it/s]"
     ]
    },
    {
     "name": "stderr",
     "output_type": "stream",
     "text": [
      "\r",
      " 30%|████████████████████████████████▏                                                                           | 179/600 [00:32<01:07,  6.27it/s]"
     ]
    },
    {
     "name": "stderr",
     "output_type": "stream",
     "text": [
      "\r",
      " 30%|████████████████████████████████▍                                                                           | 180/600 [00:32<01:06,  6.35it/s]"
     ]
    },
    {
     "name": "stderr",
     "output_type": "stream",
     "text": [
      "\r",
      " 30%|████████████████████████████████▌                                                                           | 181/600 [00:32<01:08,  6.11it/s]"
     ]
    },
    {
     "name": "stderr",
     "output_type": "stream",
     "text": [
      "\r",
      " 30%|████████████████████████████████▊                                                                           | 182/600 [00:33<01:12,  5.75it/s]"
     ]
    },
    {
     "name": "stderr",
     "output_type": "stream",
     "text": [
      "\r",
      " 30%|████████████████████████████████▉                                                                           | 183/600 [00:33<01:10,  5.95it/s]"
     ]
    },
    {
     "name": "stderr",
     "output_type": "stream",
     "text": [
      "\r",
      " 31%|█████████████████████████████████                                                                           | 184/600 [00:33<01:07,  6.14it/s]"
     ]
    },
    {
     "name": "stderr",
     "output_type": "stream",
     "text": [
      "\r",
      " 31%|█████████████████████████████████▎                                                                          | 185/600 [00:33<01:05,  6.34it/s]"
     ]
    },
    {
     "name": "stderr",
     "output_type": "stream",
     "text": [
      "\r",
      " 31%|█████████████████████████████████▍                                                                          | 186/600 [00:33<01:05,  6.35it/s]"
     ]
    },
    {
     "name": "stderr",
     "output_type": "stream",
     "text": [
      "\r",
      " 31%|█████████████████████████████████▋                                                                          | 187/600 [00:33<01:05,  6.34it/s]"
     ]
    },
    {
     "name": "stderr",
     "output_type": "stream",
     "text": [
      "\r",
      " 31%|█████████████████████████████████▊                                                                          | 188/600 [00:33<01:05,  6.34it/s]"
     ]
    },
    {
     "name": "stderr",
     "output_type": "stream",
     "text": [
      "\r",
      " 32%|██████████████████████████████████                                                                          | 189/600 [00:34<01:04,  6.33it/s]"
     ]
    },
    {
     "name": "stderr",
     "output_type": "stream",
     "text": [
      "\r",
      " 32%|██████████████████████████████████▏                                                                         | 190/600 [00:34<01:02,  6.51it/s]"
     ]
    },
    {
     "name": "stderr",
     "output_type": "stream",
     "text": [
      "\r",
      " 32%|██████████████████████████████████▍                                                                         | 191/600 [00:34<01:04,  6.34it/s]"
     ]
    },
    {
     "name": "stderr",
     "output_type": "stream",
     "text": [
      "\r",
      " 32%|██████████████████████████████████▌                                                                         | 192/600 [00:34<01:04,  6.34it/s]"
     ]
    },
    {
     "name": "stderr",
     "output_type": "stream",
     "text": [
      "\r",
      " 32%|██████████████████████████████████▋                                                                         | 193/600 [00:34<01:02,  6.56it/s]"
     ]
    },
    {
     "name": "stderr",
     "output_type": "stream",
     "text": [
      "\r",
      " 32%|██████████████████████████████████▉                                                                         | 194/600 [00:34<01:02,  6.45it/s]"
     ]
    },
    {
     "name": "stderr",
     "output_type": "stream",
     "text": [
      "\r",
      " 32%|███████████████████████████████████                                                                         | 195/600 [00:35<01:03,  6.38it/s]"
     ]
    },
    {
     "name": "stderr",
     "output_type": "stream",
     "text": [
      "\r",
      " 33%|███████████████████████████████████▎                                                                        | 196/600 [00:35<01:02,  6.45it/s]"
     ]
    },
    {
     "name": "stderr",
     "output_type": "stream",
     "text": [
      "\r",
      " 33%|███████████████████████████████████▍                                                                        | 197/600 [00:35<01:03,  6.33it/s]"
     ]
    },
    {
     "name": "stderr",
     "output_type": "stream",
     "text": [
      "\r",
      " 33%|███████████████████████████████████▋                                                                        | 198/600 [00:35<01:01,  6.50it/s]"
     ]
    },
    {
     "name": "stderr",
     "output_type": "stream",
     "text": [
      "\r",
      " 33%|███████████████████████████████████▊                                                                        | 199/600 [00:35<01:00,  6.58it/s]"
     ]
    },
    {
     "name": "stderr",
     "output_type": "stream",
     "text": [
      "\r",
      " 33%|████████████████████████████████████                                                                        | 200/600 [00:35<01:00,  6.56it/s]"
     ]
    },
    {
     "name": "stderr",
     "output_type": "stream",
     "text": [
      "\r",
      " 34%|████████████████████████████████████▏                                                                       | 201/600 [00:35<01:01,  6.48it/s]"
     ]
    },
    {
     "name": "stderr",
     "output_type": "stream",
     "text": [
      "\r",
      " 34%|████████████████████████████████████▎                                                                       | 202/600 [00:36<01:01,  6.43it/s]"
     ]
    },
    {
     "name": "stderr",
     "output_type": "stream",
     "text": [
      "\r",
      " 34%|████████████████████████████████████▌                                                                       | 203/600 [00:36<01:02,  6.39it/s]"
     ]
    },
    {
     "name": "stderr",
     "output_type": "stream",
     "text": [
      "\r",
      " 34%|████████████████████████████████████▋                                                                       | 204/600 [00:36<01:03,  6.28it/s]"
     ]
    },
    {
     "name": "stderr",
     "output_type": "stream",
     "text": [
      "\r",
      " 34%|████████████████████████████████████▉                                                                       | 205/600 [00:36<01:01,  6.38it/s]"
     ]
    },
    {
     "name": "stderr",
     "output_type": "stream",
     "text": [
      "\r",
      " 34%|█████████████████████████████████████                                                                       | 206/600 [00:36<01:02,  6.34it/s]"
     ]
    },
    {
     "name": "stderr",
     "output_type": "stream",
     "text": [
      "\r",
      " 34%|█████████████████████████████████████▎                                                                      | 207/600 [00:36<01:02,  6.26it/s]"
     ]
    },
    {
     "name": "stderr",
     "output_type": "stream",
     "text": [
      "\r",
      " 35%|█████████████████████████████████████▍                                                                      | 208/600 [00:37<01:04,  6.06it/s]"
     ]
    },
    {
     "name": "stderr",
     "output_type": "stream",
     "text": [
      "\r",
      " 35%|█████████████████████████████████████▌                                                                      | 209/600 [00:37<01:03,  6.14it/s]"
     ]
    },
    {
     "name": "stderr",
     "output_type": "stream",
     "text": [
      "\r",
      " 35%|█████████████████████████████████████▊                                                                      | 210/600 [00:37<01:04,  6.08it/s]"
     ]
    },
    {
     "name": "stderr",
     "output_type": "stream",
     "text": [
      "\r",
      " 35%|█████████████████████████████████████▉                                                                      | 211/600 [00:37<01:04,  6.03it/s]"
     ]
    },
    {
     "name": "stderr",
     "output_type": "stream",
     "text": [
      "\r",
      " 35%|██████████████████████████████████████▏                                                                     | 212/600 [00:37<01:03,  6.09it/s]"
     ]
    },
    {
     "name": "stderr",
     "output_type": "stream",
     "text": [
      "\r",
      " 36%|██████████████████████████████████████▎                                                                     | 213/600 [00:37<01:03,  6.05it/s]"
     ]
    },
    {
     "name": "stderr",
     "output_type": "stream",
     "text": [
      "\r",
      " 36%|██████████████████████████████████████▌                                                                     | 214/600 [00:38<01:04,  6.00it/s]"
     ]
    },
    {
     "name": "stderr",
     "output_type": "stream",
     "text": [
      "\r",
      " 36%|██████████████████████████████████████▋                                                                     | 215/600 [00:38<01:04,  6.01it/s]"
     ]
    },
    {
     "name": "stderr",
     "output_type": "stream",
     "text": [
      "\r",
      " 36%|██████████████████████████████████████▉                                                                     | 216/600 [00:38<01:03,  6.05it/s]"
     ]
    },
    {
     "name": "stderr",
     "output_type": "stream",
     "text": [
      "\r",
      " 36%|███████████████████████████████████████                                                                     | 217/600 [00:38<01:03,  6.06it/s]"
     ]
    },
    {
     "name": "stderr",
     "output_type": "stream",
     "text": [
      "\r",
      " 36%|███████████████████████████████████████▏                                                                    | 218/600 [00:38<01:01,  6.21it/s]"
     ]
    },
    {
     "name": "stderr",
     "output_type": "stream",
     "text": [
      "\r",
      " 36%|███████████████████████████████████████▍                                                                    | 219/600 [00:38<01:01,  6.25it/s]"
     ]
    },
    {
     "name": "stderr",
     "output_type": "stream",
     "text": [
      "\r",
      " 37%|███████████████████████████████████████▌                                                                    | 220/600 [00:39<01:02,  6.05it/s]"
     ]
    },
    {
     "name": "stderr",
     "output_type": "stream",
     "text": [
      "\r",
      " 37%|███████████████████████████████████████▊                                                                    | 221/600 [00:39<01:02,  6.09it/s]"
     ]
    },
    {
     "name": "stderr",
     "output_type": "stream",
     "text": [
      "\r",
      " 37%|███████████████████████████████████████▉                                                                    | 222/600 [00:39<01:01,  6.16it/s]"
     ]
    },
    {
     "name": "stderr",
     "output_type": "stream",
     "text": [
      "\r",
      " 37%|████████████████████████████████████████▏                                                                   | 223/600 [00:39<01:02,  6.02it/s]"
     ]
    },
    {
     "name": "stderr",
     "output_type": "stream",
     "text": [
      "\r",
      " 37%|████████████████████████████████████████▎                                                                   | 224/600 [00:39<01:01,  6.08it/s]"
     ]
    },
    {
     "name": "stderr",
     "output_type": "stream",
     "text": [
      "\r",
      " 38%|████████████████████████████████████████▌                                                                   | 225/600 [00:39<01:01,  6.13it/s]"
     ]
    },
    {
     "name": "stderr",
     "output_type": "stream",
     "text": [
      "\r",
      " 38%|████████████████████████████████████████▋                                                                   | 226/600 [00:40<01:02,  6.00it/s]"
     ]
    },
    {
     "name": "stderr",
     "output_type": "stream",
     "text": [
      "\r",
      " 38%|████████████████████████████████████████▊                                                                   | 227/600 [00:40<01:04,  5.80it/s]"
     ]
    },
    {
     "name": "stderr",
     "output_type": "stream",
     "text": [
      "\r",
      " 38%|█████████████████████████████████████████                                                                   | 228/600 [00:40<01:05,  5.67it/s]"
     ]
    },
    {
     "name": "stderr",
     "output_type": "stream",
     "text": [
      "\r",
      " 38%|█████████████████████████████████████████▏                                                                  | 229/600 [00:40<01:04,  5.74it/s]"
     ]
    },
    {
     "name": "stderr",
     "output_type": "stream",
     "text": [
      "\r",
      " 38%|█████████████████████████████████████████▍                                                                  | 230/600 [00:40<01:01,  5.99it/s]"
     ]
    },
    {
     "name": "stderr",
     "output_type": "stream",
     "text": [
      "\r",
      " 38%|█████████████████████████████████████████▌                                                                  | 231/600 [00:40<01:00,  6.07it/s]"
     ]
    },
    {
     "name": "stderr",
     "output_type": "stream",
     "text": [
      "\r",
      " 39%|█████████████████████████████████████████▊                                                                  | 232/600 [00:41<00:58,  6.24it/s]"
     ]
    },
    {
     "name": "stderr",
     "output_type": "stream",
     "text": [
      "\r",
      " 39%|█████████████████████████████████████████▉                                                                  | 233/600 [00:41<00:58,  6.23it/s]"
     ]
    },
    {
     "name": "stderr",
     "output_type": "stream",
     "text": [
      "\r",
      " 39%|██████████████████████████████████████████                                                                  | 234/600 [00:41<00:58,  6.22it/s]"
     ]
    },
    {
     "name": "stderr",
     "output_type": "stream",
     "text": [
      "\r",
      " 39%|██████████████████████████████████████████▎                                                                 | 235/600 [00:41<01:00,  6.07it/s]"
     ]
    },
    {
     "name": "stderr",
     "output_type": "stream",
     "text": [
      "\r",
      " 39%|██████████████████████████████████████████▍                                                                 | 236/600 [00:41<00:58,  6.18it/s]"
     ]
    },
    {
     "name": "stderr",
     "output_type": "stream",
     "text": [
      "\r",
      " 40%|██████████████████████████████████████████▋                                                                 | 237/600 [00:41<01:00,  6.05it/s]"
     ]
    },
    {
     "name": "stderr",
     "output_type": "stream",
     "text": [
      "\r",
      " 40%|██████████████████████████████████████████▊                                                                 | 238/600 [00:42<00:59,  6.08it/s]"
     ]
    },
    {
     "name": "stderr",
     "output_type": "stream",
     "text": [
      "\r",
      " 40%|███████████████████████████████████████████                                                                 | 239/600 [00:42<00:57,  6.23it/s]"
     ]
    },
    {
     "name": "stderr",
     "output_type": "stream",
     "text": [
      "\r",
      " 40%|███████████████████████████████████████████▏                                                                | 240/600 [00:42<00:57,  6.31it/s]"
     ]
    },
    {
     "name": "stderr",
     "output_type": "stream",
     "text": [
      "\r",
      " 40%|███████████████████████████████████████████▍                                                                | 241/600 [00:42<00:57,  6.27it/s]"
     ]
    },
    {
     "name": "stderr",
     "output_type": "stream",
     "text": [
      "\r",
      " 40%|███████████████████████████████████████████▌                                                                | 242/600 [00:42<00:57,  6.22it/s]"
     ]
    },
    {
     "name": "stderr",
     "output_type": "stream",
     "text": [
      "\r",
      " 40%|███████████████████████████████████████████▋                                                                | 243/600 [00:42<00:58,  6.13it/s]"
     ]
    },
    {
     "name": "stderr",
     "output_type": "stream",
     "text": [
      "\r",
      " 41%|███████████████████████████████████████████▉                                                                | 244/600 [00:43<00:58,  6.06it/s]"
     ]
    },
    {
     "name": "stderr",
     "output_type": "stream",
     "text": [
      "\r",
      " 41%|████████████████████████████████████████████                                                                | 245/600 [00:43<00:58,  6.08it/s]"
     ]
    },
    {
     "name": "stderr",
     "output_type": "stream",
     "text": [
      "\r",
      " 41%|████████████████████████████████████████████▎                                                               | 246/600 [00:43<00:57,  6.20it/s]"
     ]
    },
    {
     "name": "stderr",
     "output_type": "stream",
     "text": [
      "\r",
      " 41%|████████████████████████████████████████████▍                                                               | 247/600 [00:43<00:55,  6.35it/s]"
     ]
    },
    {
     "name": "stderr",
     "output_type": "stream",
     "text": [
      "\r",
      " 41%|████████████████████████████████████████████▋                                                               | 248/600 [00:43<00:55,  6.32it/s]"
     ]
    },
    {
     "name": "stderr",
     "output_type": "stream",
     "text": [
      "\r",
      " 42%|████████████████████████████████████████████▊                                                               | 249/600 [00:43<00:55,  6.32it/s]"
     ]
    },
    {
     "name": "stderr",
     "output_type": "stream",
     "text": [
      "\r",
      " 42%|█████████████████████████████████████████████                                                               | 250/600 [00:43<00:52,  6.64it/s]"
     ]
    },
    {
     "name": "stderr",
     "output_type": "stream",
     "text": [
      "\r",
      " 42%|█████████████████████████████████████████████▏                                                              | 251/600 [00:44<00:53,  6.54it/s]"
     ]
    },
    {
     "name": "stderr",
     "output_type": "stream",
     "text": [
      "\r",
      " 42%|█████████████████████████████████████████████▎                                                              | 252/600 [00:44<00:53,  6.55it/s]"
     ]
    },
    {
     "name": "stderr",
     "output_type": "stream",
     "text": [
      "\r",
      " 42%|█████████████████████████████████████████████▌                                                              | 253/600 [00:44<00:53,  6.54it/s]"
     ]
    },
    {
     "name": "stderr",
     "output_type": "stream",
     "text": [
      "\r",
      " 42%|█████████████████████████████████████████████▋                                                              | 254/600 [00:44<00:53,  6.51it/s]"
     ]
    },
    {
     "name": "stderr",
     "output_type": "stream",
     "text": [
      "\r",
      " 42%|█████████████████████████████████████████████▉                                                              | 255/600 [00:44<00:55,  6.27it/s]"
     ]
    },
    {
     "name": "stderr",
     "output_type": "stream",
     "text": [
      "\r",
      " 43%|██████████████████████████████████████████████                                                              | 256/600 [00:44<00:54,  6.26it/s]"
     ]
    },
    {
     "name": "stderr",
     "output_type": "stream",
     "text": [
      "\r",
      " 43%|██████████████████████████████████████████████▎                                                             | 257/600 [00:45<00:59,  5.74it/s]"
     ]
    },
    {
     "name": "stderr",
     "output_type": "stream",
     "text": [
      "\r",
      " 43%|██████████████████████████████████████████████▍                                                             | 258/600 [00:45<00:59,  5.77it/s]"
     ]
    },
    {
     "name": "stderr",
     "output_type": "stream",
     "text": [
      "\r",
      " 43%|██████████████████████████████████████████████▌                                                             | 259/600 [00:45<00:56,  6.08it/s]"
     ]
    },
    {
     "name": "stderr",
     "output_type": "stream",
     "text": [
      "\r",
      " 43%|██████████████████████████████████████████████▊                                                             | 260/600 [00:45<00:54,  6.29it/s]"
     ]
    },
    {
     "name": "stderr",
     "output_type": "stream",
     "text": [
      "\r",
      " 44%|██████████████████████████████████████████████▉                                                             | 261/600 [00:45<00:54,  6.23it/s]"
     ]
    },
    {
     "name": "stderr",
     "output_type": "stream",
     "text": [
      "\r",
      " 44%|███████████████████████████████████████████████▏                                                            | 262/600 [00:45<00:53,  6.37it/s]"
     ]
    },
    {
     "name": "stderr",
     "output_type": "stream",
     "text": [
      "\r",
      " 44%|███████████████████████████████████████████████▎                                                            | 263/600 [00:46<00:50,  6.68it/s]"
     ]
    },
    {
     "name": "stderr",
     "output_type": "stream",
     "text": [
      "\r",
      " 44%|███████████████████████████████████████████████▌                                                            | 264/600 [00:46<00:50,  6.61it/s]"
     ]
    },
    {
     "name": "stderr",
     "output_type": "stream",
     "text": [
      "\r",
      " 44%|███████████████████████████████████████████████▋                                                            | 265/600 [00:46<00:50,  6.64it/s]"
     ]
    },
    {
     "name": "stderr",
     "output_type": "stream",
     "text": [
      "\r",
      " 44%|███████████████████████████████████████████████▉                                                            | 266/600 [00:46<00:51,  6.53it/s]"
     ]
    },
    {
     "name": "stderr",
     "output_type": "stream",
     "text": [
      "\r",
      " 44%|████████████████████████████████████████████████                                                            | 267/600 [00:46<00:50,  6.61it/s]"
     ]
    },
    {
     "name": "stderr",
     "output_type": "stream",
     "text": [
      "\r",
      " 45%|████████████████████████████████████████████████▏                                                           | 268/600 [00:46<00:50,  6.53it/s]"
     ]
    },
    {
     "name": "stderr",
     "output_type": "stream",
     "text": [
      "\r",
      " 45%|████████████████████████████████████████████████▍                                                           | 269/600 [00:46<00:53,  6.24it/s]"
     ]
    },
    {
     "name": "stderr",
     "output_type": "stream",
     "text": [
      "\r",
      " 45%|████████████████████████████████████████████████▌                                                           | 270/600 [00:47<00:53,  6.19it/s]"
     ]
    },
    {
     "name": "stderr",
     "output_type": "stream",
     "text": [
      "\r",
      " 45%|████████████████████████████████████████████████▊                                                           | 271/600 [00:47<00:53,  6.18it/s]"
     ]
    },
    {
     "name": "stderr",
     "output_type": "stream",
     "text": [
      "\r",
      " 45%|████████████████████████████████████████████████▉                                                           | 272/600 [00:47<00:52,  6.20it/s]"
     ]
    },
    {
     "name": "stderr",
     "output_type": "stream",
     "text": [
      "\r",
      " 46%|█████████████████████████████████████████████████▏                                                          | 273/600 [00:47<00:53,  6.11it/s]"
     ]
    },
    {
     "name": "stderr",
     "output_type": "stream",
     "text": [
      "\r",
      " 46%|█████████████████████████████████████████████████▎                                                          | 274/600 [00:47<00:54,  6.00it/s]"
     ]
    },
    {
     "name": "stderr",
     "output_type": "stream",
     "text": [
      "\r",
      " 46%|█████████████████████████████████████████████████▌                                                          | 275/600 [00:47<00:53,  6.03it/s]"
     ]
    },
    {
     "name": "stderr",
     "output_type": "stream",
     "text": [
      "\r",
      " 46%|█████████████████████████████████████████████████▋                                                          | 276/600 [00:48<00:54,  6.00it/s]"
     ]
    },
    {
     "name": "stderr",
     "output_type": "stream",
     "text": [
      "\r",
      " 46%|█████████████████████████████████████████████████▊                                                          | 277/600 [00:48<00:53,  6.00it/s]"
     ]
    },
    {
     "name": "stderr",
     "output_type": "stream",
     "text": [
      "\r",
      " 46%|██████████████████████████████████████████████████                                                          | 278/600 [00:48<00:53,  6.03it/s]"
     ]
    },
    {
     "name": "stderr",
     "output_type": "stream",
     "text": [
      "\r",
      " 46%|██████████████████████████████████████████████████▏                                                         | 279/600 [00:48<00:53,  6.04it/s]"
     ]
    },
    {
     "name": "stderr",
     "output_type": "stream",
     "text": [
      "\r",
      " 47%|██████████████████████████████████████████████████▍                                                         | 280/600 [00:48<00:52,  6.08it/s]"
     ]
    },
    {
     "name": "stderr",
     "output_type": "stream",
     "text": [
      "\r",
      " 47%|██████████████████████████████████████████████████▌                                                         | 281/600 [00:48<00:53,  5.98it/s]"
     ]
    },
    {
     "name": "stderr",
     "output_type": "stream",
     "text": [
      "\r",
      " 47%|██████████████████████████████████████████████████▊                                                         | 282/600 [00:49<00:53,  5.95it/s]"
     ]
    },
    {
     "name": "stderr",
     "output_type": "stream",
     "text": [
      "\r",
      " 47%|██████████████████████████████████████████████████▉                                                         | 283/600 [00:49<00:52,  6.00it/s]"
     ]
    },
    {
     "name": "stderr",
     "output_type": "stream",
     "text": [
      "\r",
      " 47%|███████████████████████████████████████████████████                                                         | 284/600 [00:49<00:52,  6.05it/s]"
     ]
    },
    {
     "name": "stderr",
     "output_type": "stream",
     "text": [
      "\r",
      " 48%|███████████████████████████████████████████████████▎                                                        | 285/600 [00:49<00:52,  6.05it/s]"
     ]
    },
    {
     "name": "stderr",
     "output_type": "stream",
     "text": [
      "\r",
      " 48%|███████████████████████████████████████████████████▍                                                        | 286/600 [00:49<00:51,  6.10it/s]"
     ]
    },
    {
     "name": "stderr",
     "output_type": "stream",
     "text": [
      "\r",
      " 48%|███████████████████████████████████████████████████▋                                                        | 287/600 [00:49<00:49,  6.29it/s]"
     ]
    },
    {
     "name": "stderr",
     "output_type": "stream",
     "text": [
      "\r",
      " 48%|███████████████████████████████████████████████████▊                                                        | 288/600 [00:50<00:50,  6.19it/s]"
     ]
    },
    {
     "name": "stderr",
     "output_type": "stream",
     "text": [
      "\r",
      " 48%|████████████████████████████████████████████████████                                                        | 289/600 [00:50<00:50,  6.15it/s]"
     ]
    },
    {
     "name": "stderr",
     "output_type": "stream",
     "text": [
      "\r",
      " 48%|████████████████████████████████████████████████████▏                                                       | 290/600 [00:50<00:54,  5.72it/s]"
     ]
    },
    {
     "name": "stderr",
     "output_type": "stream",
     "text": [
      "\r",
      " 48%|████████████████████████████████████████████████████▍                                                       | 291/600 [00:50<00:52,  5.85it/s]"
     ]
    },
    {
     "name": "stderr",
     "output_type": "stream",
     "text": [
      "\r",
      " 49%|████████████████████████████████████████████████████▌                                                       | 292/600 [00:50<00:52,  5.86it/s]"
     ]
    },
    {
     "name": "stderr",
     "output_type": "stream",
     "text": [
      "\r",
      " 49%|████████████████████████████████████████████████████▋                                                       | 293/600 [00:50<00:51,  5.99it/s]"
     ]
    },
    {
     "name": "stderr",
     "output_type": "stream",
     "text": [
      "\r",
      " 49%|████████████████████████████████████████████████████▉                                                       | 294/600 [00:51<00:50,  6.05it/s]"
     ]
    },
    {
     "name": "stderr",
     "output_type": "stream",
     "text": [
      "\r",
      " 49%|█████████████████████████████████████████████████████                                                       | 295/600 [00:51<00:48,  6.33it/s]"
     ]
    },
    {
     "name": "stderr",
     "output_type": "stream",
     "text": [
      "\r",
      " 49%|█████████████████████████████████████████████████████▎                                                      | 296/600 [00:51<00:47,  6.37it/s]"
     ]
    },
    {
     "name": "stderr",
     "output_type": "stream",
     "text": [
      "\r",
      " 50%|█████████████████████████████████████████████████████▍                                                      | 297/600 [00:51<00:47,  6.41it/s]"
     ]
    },
    {
     "name": "stderr",
     "output_type": "stream",
     "text": [
      "\r",
      " 50%|█████████████████████████████████████████████████████▋                                                      | 298/600 [00:51<00:46,  6.52it/s]"
     ]
    },
    {
     "name": "stderr",
     "output_type": "stream",
     "text": [
      "\r",
      " 50%|█████████████████████████████████████████████████████▊                                                      | 299/600 [00:51<00:45,  6.67it/s]"
     ]
    },
    {
     "name": "stderr",
     "output_type": "stream",
     "text": [
      "\r",
      " 50%|██████████████████████████████████████████████████████                                                      | 300/600 [00:51<00:44,  6.68it/s]"
     ]
    },
    {
     "name": "stderr",
     "output_type": "stream",
     "text": [
      "\r",
      " 50%|██████████████████████████████████████████████████████▏                                                     | 301/600 [00:52<00:44,  6.75it/s]"
     ]
    },
    {
     "name": "stderr",
     "output_type": "stream",
     "text": [
      "\r",
      " 50%|██████████████████████████████████████████████████████▎                                                     | 302/600 [00:52<00:44,  6.68it/s]"
     ]
    },
    {
     "name": "stderr",
     "output_type": "stream",
     "text": [
      "\r",
      " 50%|██████████████████████████████████████████████████████▌                                                     | 303/600 [00:52<00:44,  6.63it/s]"
     ]
    },
    {
     "name": "stderr",
     "output_type": "stream",
     "text": [
      "\r",
      " 51%|██████████████████████████████████████████████████████▋                                                     | 304/600 [00:52<00:43,  6.78it/s]"
     ]
    },
    {
     "name": "stderr",
     "output_type": "stream",
     "text": [
      "\r",
      " 51%|██████████████████████████████████████████████████████▉                                                     | 305/600 [00:52<00:44,  6.65it/s]"
     ]
    },
    {
     "name": "stderr",
     "output_type": "stream",
     "text": [
      "\r",
      " 51%|███████████████████████████████████████████████████████                                                     | 306/600 [00:52<00:44,  6.60it/s]"
     ]
    },
    {
     "name": "stderr",
     "output_type": "stream",
     "text": [
      "\r",
      " 51%|███████████████████████████████████████████████████████▎                                                    | 307/600 [00:53<00:44,  6.61it/s]"
     ]
    },
    {
     "name": "stderr",
     "output_type": "stream",
     "text": [
      "\r",
      " 51%|███████████████████████████████████████████████████████▍                                                    | 308/600 [00:53<00:44,  6.54it/s]"
     ]
    },
    {
     "name": "stderr",
     "output_type": "stream",
     "text": [
      "\r",
      " 52%|███████████████████████████████████████████████████████▌                                                    | 309/600 [00:53<00:44,  6.50it/s]"
     ]
    },
    {
     "name": "stderr",
     "output_type": "stream",
     "text": [
      "\r",
      " 52%|███████████████████████████████████████████████████████▊                                                    | 310/600 [00:53<00:44,  6.48it/s]"
     ]
    },
    {
     "name": "stderr",
     "output_type": "stream",
     "text": [
      "\r",
      " 52%|███████████████████████████████████████████████████████▉                                                    | 311/600 [00:53<00:44,  6.53it/s]"
     ]
    },
    {
     "name": "stderr",
     "output_type": "stream",
     "text": [
      "\r",
      " 52%|████████████████████████████████████████████████████████▏                                                   | 312/600 [00:53<00:45,  6.40it/s]"
     ]
    },
    {
     "name": "stderr",
     "output_type": "stream",
     "text": [
      "\r",
      " 52%|████████████████████████████████████████████████████████▎                                                   | 313/600 [00:54<00:46,  6.15it/s]"
     ]
    },
    {
     "name": "stderr",
     "output_type": "stream",
     "text": [
      "\r",
      " 52%|████████████████████████████████████████████████████████▌                                                   | 314/600 [00:54<00:49,  5.83it/s]"
     ]
    },
    {
     "name": "stderr",
     "output_type": "stream",
     "text": [
      "\r",
      " 52%|████████████████████████████████████████████████████████▋                                                   | 315/600 [00:54<00:49,  5.72it/s]"
     ]
    },
    {
     "name": "stderr",
     "output_type": "stream",
     "text": [
      "\r",
      " 53%|████████████████████████████████████████████████████████▉                                                   | 316/600 [00:54<00:48,  5.82it/s]"
     ]
    },
    {
     "name": "stderr",
     "output_type": "stream",
     "text": [
      "\r",
      " 53%|█████████████████████████████████████████████████████████                                                   | 317/600 [00:54<00:48,  5.81it/s]"
     ]
    },
    {
     "name": "stderr",
     "output_type": "stream",
     "text": [
      "\r",
      " 53%|█████████████████████████████████████████████████████████▏                                                  | 318/600 [00:54<00:50,  5.63it/s]"
     ]
    },
    {
     "name": "stderr",
     "output_type": "stream",
     "text": [
      "\r",
      " 53%|█████████████████████████████████████████████████████████▍                                                  | 319/600 [00:55<00:52,  5.35it/s]"
     ]
    },
    {
     "name": "stderr",
     "output_type": "stream",
     "text": [
      "\r",
      " 53%|█████████████████████████████████████████████████████████▌                                                  | 320/600 [00:55<00:50,  5.50it/s]"
     ]
    },
    {
     "name": "stderr",
     "output_type": "stream",
     "text": [
      "\r",
      " 54%|█████████████████████████████████████████████████████████▊                                                  | 321/600 [00:55<00:49,  5.66it/s]"
     ]
    },
    {
     "name": "stderr",
     "output_type": "stream",
     "text": [
      "\r",
      " 54%|█████████████████████████████████████████████████████████▉                                                  | 322/600 [00:55<00:48,  5.69it/s]"
     ]
    },
    {
     "name": "stderr",
     "output_type": "stream",
     "text": [
      "\r",
      " 54%|██████████████████████████████████████████████████████████▏                                                 | 323/600 [00:55<00:48,  5.77it/s]"
     ]
    },
    {
     "name": "stderr",
     "output_type": "stream",
     "text": [
      "\r",
      " 54%|██████████████████████████████████████████████████████████▎                                                 | 324/600 [00:55<00:47,  5.81it/s]"
     ]
    },
    {
     "name": "stderr",
     "output_type": "stream",
     "text": [
      "\r",
      " 54%|██████████████████████████████████████████████████████████▍                                                 | 325/600 [00:56<00:47,  5.83it/s]"
     ]
    },
    {
     "name": "stderr",
     "output_type": "stream",
     "text": [
      "\r",
      " 54%|██████████████████████████████████████████████████████████▋                                                 | 326/600 [00:56<00:46,  5.87it/s]"
     ]
    },
    {
     "name": "stderr",
     "output_type": "stream",
     "text": [
      "\r",
      " 55%|██████████████████████████████████████████████████████████▊                                                 | 327/600 [00:56<00:46,  5.93it/s]"
     ]
    },
    {
     "name": "stderr",
     "output_type": "stream",
     "text": [
      "\r",
      " 55%|███████████████████████████████████████████████████████████                                                 | 328/600 [00:56<00:46,  5.89it/s]"
     ]
    },
    {
     "name": "stderr",
     "output_type": "stream",
     "text": [
      "\r",
      " 55%|███████████████████████████████████████████████████████████▏                                                | 329/600 [00:56<00:45,  6.00it/s]"
     ]
    },
    {
     "name": "stderr",
     "output_type": "stream",
     "text": [
      "\r",
      " 55%|███████████████████████████████████████████████████████████▍                                                | 330/600 [00:56<00:44,  6.03it/s]"
     ]
    },
    {
     "name": "stderr",
     "output_type": "stream",
     "text": [
      "\r",
      " 55%|███████████████████████████████████████████████████████████▌                                                | 331/600 [00:57<00:45,  5.93it/s]"
     ]
    },
    {
     "name": "stderr",
     "output_type": "stream",
     "text": [
      "\r",
      " 55%|███████████████████████████████████████████████████████████▊                                                | 332/600 [00:57<00:44,  5.99it/s]"
     ]
    },
    {
     "name": "stderr",
     "output_type": "stream",
     "text": [
      "\r",
      " 56%|███████████████████████████████████████████████████████████▉                                                | 333/600 [00:57<00:44,  6.04it/s]"
     ]
    },
    {
     "name": "stderr",
     "output_type": "stream",
     "text": [
      "\r",
      " 56%|████████████████████████████████████████████████████████████                                                | 334/600 [00:57<00:44,  6.03it/s]"
     ]
    },
    {
     "name": "stderr",
     "output_type": "stream",
     "text": [
      "\r",
      " 56%|████████████████████████████████████████████████████████████▎                                               | 335/600 [00:57<00:43,  6.09it/s]"
     ]
    },
    {
     "name": "stderr",
     "output_type": "stream",
     "text": [
      "\r",
      " 56%|████████████████████████████████████████████████████████████▍                                               | 336/600 [00:57<00:42,  6.24it/s]"
     ]
    },
    {
     "name": "stderr",
     "output_type": "stream",
     "text": [
      "\r",
      " 56%|████████████████████████████████████████████████████████████▋                                               | 337/600 [00:58<00:42,  6.19it/s]"
     ]
    },
    {
     "name": "stderr",
     "output_type": "stream",
     "text": [
      "\r",
      " 56%|████████████████████████████████████████████████████████████▊                                               | 338/600 [00:58<00:41,  6.34it/s]"
     ]
    },
    {
     "name": "stderr",
     "output_type": "stream",
     "text": [
      "\r",
      " 56%|█████████████████████████████████████████████████████████████                                               | 339/600 [00:58<00:41,  6.36it/s]"
     ]
    },
    {
     "name": "stderr",
     "output_type": "stream",
     "text": [
      "\r",
      " 57%|█████████████████████████████████████████████████████████████▏                                              | 340/600 [00:58<00:39,  6.50it/s]"
     ]
    },
    {
     "name": "stderr",
     "output_type": "stream",
     "text": [
      "\r",
      " 57%|█████████████████████████████████████████████████████████████▍                                              | 341/600 [00:58<00:40,  6.47it/s]"
     ]
    },
    {
     "name": "stderr",
     "output_type": "stream",
     "text": [
      "\r",
      " 57%|█████████████████████████████████████████████████████████████▌                                              | 342/600 [00:58<00:40,  6.41it/s]"
     ]
    },
    {
     "name": "stderr",
     "output_type": "stream",
     "text": [
      "\r",
      " 57%|█████████████████████████████████████████████████████████████▋                                              | 343/600 [00:59<00:39,  6.46it/s]"
     ]
    },
    {
     "name": "stderr",
     "output_type": "stream",
     "text": [
      "\r",
      " 57%|█████████████████████████████████████████████████████████████▉                                              | 344/600 [00:59<00:38,  6.62it/s]"
     ]
    },
    {
     "name": "stderr",
     "output_type": "stream",
     "text": [
      "\r",
      " 57%|██████████████████████████████████████████████████████████████                                              | 345/600 [00:59<00:39,  6.47it/s]"
     ]
    },
    {
     "name": "stderr",
     "output_type": "stream",
     "text": [
      "\r",
      " 58%|██████████████████████████████████████████████████████████████▎                                             | 346/600 [00:59<00:38,  6.51it/s]"
     ]
    },
    {
     "name": "stderr",
     "output_type": "stream",
     "text": [
      "\r",
      " 58%|██████████████████████████████████████████████████████████████▍                                             | 347/600 [00:59<00:38,  6.53it/s]"
     ]
    },
    {
     "name": "stderr",
     "output_type": "stream",
     "text": [
      "\r",
      " 58%|██████████████████████████████████████████████████████████████▋                                             | 348/600 [00:59<00:38,  6.53it/s]"
     ]
    },
    {
     "name": "stderr",
     "output_type": "stream",
     "text": [
      "\r",
      " 58%|██████████████████████████████████████████████████████████████▊                                             | 349/600 [00:59<00:36,  6.79it/s]"
     ]
    },
    {
     "name": "stderr",
     "output_type": "stream",
     "text": [
      "\r",
      " 58%|███████████████████████████████████████████████████████████████                                             | 350/600 [01:00<00:36,  6.86it/s]"
     ]
    },
    {
     "name": "stderr",
     "output_type": "stream",
     "text": [
      "\r",
      " 58%|███████████████████████████████████████████████████████████████▏                                            | 351/600 [01:00<00:35,  6.98it/s]"
     ]
    },
    {
     "name": "stderr",
     "output_type": "stream",
     "text": [
      "\r",
      " 59%|███████████████████████████████████████████████████████████████▎                                            | 352/600 [01:00<00:34,  7.14it/s]"
     ]
    },
    {
     "name": "stderr",
     "output_type": "stream",
     "text": [
      "\r",
      " 59%|███████████████████████████████████████████████████████████████▌                                            | 353/600 [01:00<00:34,  7.19it/s]"
     ]
    },
    {
     "name": "stderr",
     "output_type": "stream",
     "text": [
      "\r",
      " 59%|███████████████████████████████████████████████████████████████▋                                            | 354/600 [01:00<00:38,  6.40it/s]"
     ]
    },
    {
     "name": "stderr",
     "output_type": "stream",
     "text": [
      "\r",
      " 59%|███████████████████████████████████████████████████████████████▉                                            | 355/600 [01:00<00:39,  6.14it/s]"
     ]
    },
    {
     "name": "stderr",
     "output_type": "stream",
     "text": [
      "\r",
      " 59%|████████████████████████████████████████████████████████████████                                            | 356/600 [01:01<00:41,  5.88it/s]"
     ]
    },
    {
     "name": "stderr",
     "output_type": "stream",
     "text": [
      "\r",
      " 60%|████████████████████████████████████████████████████████████████▎                                           | 357/600 [01:01<00:44,  5.43it/s]"
     ]
    },
    {
     "name": "stderr",
     "output_type": "stream",
     "text": [
      "\r",
      " 60%|████████████████████████████████████████████████████████████████▍                                           | 358/600 [01:01<00:43,  5.59it/s]"
     ]
    },
    {
     "name": "stderr",
     "output_type": "stream",
     "text": [
      "\r",
      " 60%|████████████████████████████████████████████████████████████████▌                                           | 359/600 [01:01<00:42,  5.62it/s]"
     ]
    },
    {
     "name": "stderr",
     "output_type": "stream",
     "text": [
      "\r",
      " 60%|████████████████████████████████████████████████████████████████▊                                           | 360/600 [01:01<00:42,  5.63it/s]"
     ]
    },
    {
     "name": "stderr",
     "output_type": "stream",
     "text": [
      "\r",
      " 60%|████████████████████████████████████████████████████████████████▉                                           | 361/600 [01:01<00:40,  5.96it/s]"
     ]
    },
    {
     "name": "stderr",
     "output_type": "stream",
     "text": [
      "\r",
      " 60%|█████████████████████████████████████████████████████████████████▏                                          | 362/600 [01:02<00:39,  6.08it/s]"
     ]
    },
    {
     "name": "stderr",
     "output_type": "stream",
     "text": [
      "\r",
      " 60%|█████████████████████████████████████████████████████████████████▎                                          | 363/600 [01:02<00:38,  6.10it/s]"
     ]
    },
    {
     "name": "stderr",
     "output_type": "stream",
     "text": [
      "\r",
      " 61%|█████████████████████████████████████████████████████████████████▌                                          | 364/600 [01:02<00:38,  6.14it/s]"
     ]
    },
    {
     "name": "stderr",
     "output_type": "stream",
     "text": [
      "\r",
      " 61%|█████████████████████████████████████████████████████████████████▋                                          | 365/600 [01:02<00:38,  6.10it/s]"
     ]
    },
    {
     "name": "stderr",
     "output_type": "stream",
     "text": [
      "\r",
      " 61%|█████████████████████████████████████████████████████████████████▉                                          | 366/600 [01:02<00:38,  6.13it/s]"
     ]
    },
    {
     "name": "stderr",
     "output_type": "stream",
     "text": [
      "\r",
      " 61%|██████████████████████████████████████████████████████████████████                                          | 367/600 [01:02<00:38,  6.03it/s]"
     ]
    },
    {
     "name": "stderr",
     "output_type": "stream",
     "text": [
      "\r",
      " 61%|██████████████████████████████████████████████████████████████████▏                                         | 368/600 [01:03<00:37,  6.11it/s]"
     ]
    },
    {
     "name": "stderr",
     "output_type": "stream",
     "text": [
      "\r",
      " 62%|██████████████████████████████████████████████████████████████████▍                                         | 369/600 [01:03<00:38,  6.08it/s]"
     ]
    },
    {
     "name": "stderr",
     "output_type": "stream",
     "text": [
      "\r",
      " 62%|██████████████████████████████████████████████████████████████████▌                                         | 370/600 [01:03<00:37,  6.11it/s]"
     ]
    },
    {
     "name": "stderr",
     "output_type": "stream",
     "text": [
      "\r",
      " 62%|██████████████████████████████████████████████████████████████████▊                                         | 371/600 [01:03<00:35,  6.38it/s]"
     ]
    },
    {
     "name": "stderr",
     "output_type": "stream",
     "text": [
      "\r",
      " 62%|██████████████████████████████████████████████████████████████████▉                                         | 372/600 [01:03<00:34,  6.58it/s]"
     ]
    },
    {
     "name": "stderr",
     "output_type": "stream",
     "text": [
      "\r",
      " 62%|███████████████████████████████████████████████████████████████████▏                                        | 373/600 [01:03<00:34,  6.50it/s]"
     ]
    },
    {
     "name": "stderr",
     "output_type": "stream",
     "text": [
      "\r",
      " 62%|███████████████████████████████████████████████████████████████████▎                                        | 374/600 [01:03<00:34,  6.58it/s]"
     ]
    },
    {
     "name": "stderr",
     "output_type": "stream",
     "text": [
      "\r",
      " 62%|███████████████████████████████████████████████████████████████████▌                                        | 375/600 [01:04<00:35,  6.42it/s]"
     ]
    },
    {
     "name": "stderr",
     "output_type": "stream",
     "text": [
      "\r",
      " 63%|███████████████████████████████████████████████████████████████████▋                                        | 376/600 [01:04<00:33,  6.62it/s]"
     ]
    },
    {
     "name": "stderr",
     "output_type": "stream",
     "text": [
      "\r",
      " 63%|███████████████████████████████████████████████████████████████████▊                                        | 377/600 [01:04<00:34,  6.49it/s]"
     ]
    },
    {
     "name": "stderr",
     "output_type": "stream",
     "text": [
      "\r",
      " 63%|████████████████████████████████████████████████████████████████████                                        | 378/600 [01:04<00:34,  6.49it/s]"
     ]
    },
    {
     "name": "stderr",
     "output_type": "stream",
     "text": [
      "\r",
      " 63%|████████████████████████████████████████████████████████████████████▏                                       | 379/600 [01:04<00:33,  6.53it/s]"
     ]
    },
    {
     "name": "stderr",
     "output_type": "stream",
     "text": [
      "\r",
      " 63%|████████████████████████████████████████████████████████████████████▍                                       | 380/600 [01:04<00:33,  6.51it/s]"
     ]
    },
    {
     "name": "stderr",
     "output_type": "stream",
     "text": [
      "\r",
      " 64%|████████████████████████████████████████████████████████████████████▌                                       | 381/600 [01:05<00:33,  6.50it/s]"
     ]
    },
    {
     "name": "stderr",
     "output_type": "stream",
     "text": [
      "\r",
      " 64%|████████████████████████████████████████████████████████████████████▊                                       | 382/600 [01:05<00:34,  6.41it/s]"
     ]
    },
    {
     "name": "stderr",
     "output_type": "stream",
     "text": [
      "\r",
      " 64%|████████████████████████████████████████████████████████████████████▉                                       | 383/600 [01:05<00:34,  6.26it/s]"
     ]
    },
    {
     "name": "stderr",
     "output_type": "stream",
     "text": [
      "\r",
      " 64%|█████████████████████████████████████████████████████████████████████                                       | 384/600 [01:05<00:35,  6.09it/s]"
     ]
    },
    {
     "name": "stderr",
     "output_type": "stream",
     "text": [
      "\r",
      " 64%|█████████████████████████████████████████████████████████████████████▎                                      | 385/600 [01:05<00:35,  6.05it/s]"
     ]
    },
    {
     "name": "stderr",
     "output_type": "stream",
     "text": [
      "\r",
      " 64%|█████████████████████████████████████████████████████████████████████▍                                      | 386/600 [01:05<00:35,  6.05it/s]"
     ]
    },
    {
     "name": "stderr",
     "output_type": "stream",
     "text": [
      "\r",
      " 64%|█████████████████████████████████████████████████████████████████████▋                                      | 387/600 [01:06<00:35,  6.03it/s]"
     ]
    },
    {
     "name": "stderr",
     "output_type": "stream",
     "text": [
      "\r",
      " 65%|█████████████████████████████████████████████████████████████████████▊                                      | 388/600 [01:06<00:35,  5.93it/s]"
     ]
    },
    {
     "name": "stderr",
     "output_type": "stream",
     "text": [
      "\r",
      " 65%|██████████████████████████████████████████████████████████████████████                                      | 389/600 [01:06<00:35,  6.00it/s]"
     ]
    },
    {
     "name": "stderr",
     "output_type": "stream",
     "text": [
      "\r",
      " 65%|██████████████████████████████████████████████████████████████████████▏                                     | 390/600 [01:06<00:35,  5.98it/s]"
     ]
    },
    {
     "name": "stderr",
     "output_type": "stream",
     "text": [
      "\r",
      " 65%|██████████████████████████████████████████████████████████████████████▍                                     | 391/600 [01:06<00:34,  6.03it/s]"
     ]
    },
    {
     "name": "stderr",
     "output_type": "stream",
     "text": [
      "\r",
      " 65%|██████████████████████████████████████████████████████████████████████▌                                     | 392/600 [01:06<00:35,  5.92it/s]"
     ]
    },
    {
     "name": "stderr",
     "output_type": "stream",
     "text": [
      "\r",
      " 66%|██████████████████████████████████████████████████████████████████████▋                                     | 393/600 [01:07<00:35,  5.78it/s]"
     ]
    },
    {
     "name": "stderr",
     "output_type": "stream",
     "text": [
      "\r",
      " 66%|██████████████████████████████████████████████████████████████████████▉                                     | 394/600 [01:07<00:37,  5.45it/s]"
     ]
    },
    {
     "name": "stderr",
     "output_type": "stream",
     "text": [
      "\r",
      " 66%|███████████████████████████████████████████████████████████████████████                                     | 395/600 [01:07<00:35,  5.76it/s]"
     ]
    },
    {
     "name": "stderr",
     "output_type": "stream",
     "text": [
      "\r",
      " 66%|███████████████████████████████████████████████████████████████████████▎                                    | 396/600 [01:07<00:34,  5.84it/s]"
     ]
    },
    {
     "name": "stderr",
     "output_type": "stream",
     "text": [
      "\r",
      " 66%|███████████████████████████████████████████████████████████████████████▍                                    | 397/600 [01:07<00:34,  5.91it/s]"
     ]
    },
    {
     "name": "stderr",
     "output_type": "stream",
     "text": [
      "\r",
      " 66%|███████████████████████████████████████████████████████████████████████▋                                    | 398/600 [01:07<00:34,  5.88it/s]"
     ]
    },
    {
     "name": "stderr",
     "output_type": "stream",
     "text": [
      "\r",
      " 66%|███████████████████████████████████████████████████████████████████████▊                                    | 399/600 [01:08<00:33,  5.95it/s]"
     ]
    },
    {
     "name": "stderr",
     "output_type": "stream",
     "text": [
      "\r",
      " 67%|████████████████████████████████████████████████████████████████████████                                    | 400/600 [01:08<00:33,  5.97it/s]"
     ]
    },
    {
     "name": "stderr",
     "output_type": "stream",
     "text": [
      "\r",
      " 67%|████████████████████████████████████████████████████████████████████████▏                                   | 401/600 [01:08<00:33,  6.00it/s]"
     ]
    },
    {
     "name": "stderr",
     "output_type": "stream",
     "text": [
      "\r",
      " 67%|████████████████████████████████████████████████████████████████████████▎                                   | 402/600 [01:08<00:31,  6.35it/s]"
     ]
    },
    {
     "name": "stderr",
     "output_type": "stream",
     "text": [
      "\r",
      " 67%|████████████████████████████████████████████████████████████████████████▌                                   | 403/600 [01:08<00:31,  6.30it/s]"
     ]
    },
    {
     "name": "stderr",
     "output_type": "stream",
     "text": [
      "\r",
      " 67%|████████████████████████████████████████████████████████████████████████▋                                   | 404/600 [01:08<00:31,  6.31it/s]"
     ]
    },
    {
     "name": "stderr",
     "output_type": "stream",
     "text": [
      "\r",
      " 68%|████████████████████████████████████████████████████████████████████████▉                                   | 405/600 [01:09<00:31,  6.24it/s]"
     ]
    },
    {
     "name": "stderr",
     "output_type": "stream",
     "text": [
      "\r",
      " 68%|█████████████████████████████████████████████████████████████████████████                                   | 406/600 [01:09<00:31,  6.18it/s]"
     ]
    },
    {
     "name": "stderr",
     "output_type": "stream",
     "text": [
      "\r",
      " 68%|█████████████████████████████████████████████████████████████████████████▎                                  | 407/600 [01:09<00:30,  6.26it/s]"
     ]
    },
    {
     "name": "stderr",
     "output_type": "stream",
     "text": [
      "\r",
      " 68%|█████████████████████████████████████████████████████████████████████████▍                                  | 408/600 [01:09<00:29,  6.44it/s]"
     ]
    },
    {
     "name": "stderr",
     "output_type": "stream",
     "text": [
      "\r",
      " 68%|█████████████████████████████████████████████████████████████████████████▌                                  | 409/600 [01:09<00:30,  6.34it/s]"
     ]
    },
    {
     "name": "stderr",
     "output_type": "stream",
     "text": [
      "\r",
      " 68%|█████████████████████████████████████████████████████████████████████████▊                                  | 410/600 [01:09<00:30,  6.27it/s]"
     ]
    },
    {
     "name": "stderr",
     "output_type": "stream",
     "text": [
      "\r",
      " 68%|█████████████████████████████████████████████████████████████████████████▉                                  | 411/600 [01:09<00:29,  6.32it/s]"
     ]
    },
    {
     "name": "stderr",
     "output_type": "stream",
     "text": [
      "\r",
      " 69%|██████████████████████████████████████████████████████████████████████████▏                                 | 412/600 [01:10<00:29,  6.28it/s]"
     ]
    },
    {
     "name": "stderr",
     "output_type": "stream",
     "text": [
      "\r",
      " 69%|██████████████████████████████████████████████████████████████████████████▎                                 | 413/600 [01:10<00:29,  6.26it/s]"
     ]
    },
    {
     "name": "stderr",
     "output_type": "stream",
     "text": [
      "\r",
      " 69%|██████████████████████████████████████████████████████████████████████████▌                                 | 414/600 [01:10<00:29,  6.37it/s]"
     ]
    },
    {
     "name": "stderr",
     "output_type": "stream",
     "text": [
      "\r",
      " 69%|██████████████████████████████████████████████████████████████████████████▋                                 | 415/600 [01:10<00:29,  6.24it/s]"
     ]
    },
    {
     "name": "stderr",
     "output_type": "stream",
     "text": [
      "\r",
      " 69%|██████████████████████████████████████████████████████████████████████████▉                                 | 416/600 [01:10<00:30,  6.04it/s]"
     ]
    },
    {
     "name": "stderr",
     "output_type": "stream",
     "text": [
      "\r",
      " 70%|███████████████████████████████████████████████████████████████████████████                                 | 417/600 [01:10<00:29,  6.20it/s]"
     ]
    },
    {
     "name": "stderr",
     "output_type": "stream",
     "text": [
      "\r",
      " 70%|███████████████████████████████████████████████████████████████████████████▏                                | 418/600 [01:11<00:29,  6.15it/s]"
     ]
    },
    {
     "name": "stderr",
     "output_type": "stream",
     "text": [
      "\r",
      " 70%|███████████████████████████████████████████████████████████████████████████▍                                | 419/600 [01:11<00:30,  5.94it/s]"
     ]
    },
    {
     "name": "stderr",
     "output_type": "stream",
     "text": [
      "\r",
      " 70%|███████████████████████████████████████████████████████████████████████████▌                                | 420/600 [01:11<00:29,  6.08it/s]"
     ]
    },
    {
     "name": "stderr",
     "output_type": "stream",
     "text": [
      "\r",
      " 70%|███████████████████████████████████████████████████████████████████████████▊                                | 421/600 [01:11<00:29,  6.05it/s]"
     ]
    },
    {
     "name": "stderr",
     "output_type": "stream",
     "text": [
      "\r",
      " 70%|███████████████████████████████████████████████████████████████████████████▉                                | 422/600 [01:11<00:29,  6.06it/s]"
     ]
    },
    {
     "name": "stderr",
     "output_type": "stream",
     "text": [
      "\r",
      " 70%|████████████████████████████████████████████████████████████████████████████▏                               | 423/600 [01:11<00:28,  6.15it/s]"
     ]
    },
    {
     "name": "stderr",
     "output_type": "stream",
     "text": [
      "\r",
      " 71%|████████████████████████████████████████████████████████████████████████████▎                               | 424/600 [01:12<00:30,  5.86it/s]"
     ]
    },
    {
     "name": "stderr",
     "output_type": "stream",
     "text": [
      "\r",
      " 71%|████████████████████████████████████████████████████████████████████████████▌                               | 425/600 [01:12<00:32,  5.43it/s]"
     ]
    },
    {
     "name": "stderr",
     "output_type": "stream",
     "text": [
      "\r",
      " 71%|████████████████████████████████████████████████████████████████████████████▋                               | 426/600 [01:12<00:30,  5.66it/s]"
     ]
    },
    {
     "name": "stderr",
     "output_type": "stream",
     "text": [
      "\r",
      " 71%|████████████████████████████████████████████████████████████████████████████▊                               | 427/600 [01:12<00:29,  5.83it/s]"
     ]
    },
    {
     "name": "stderr",
     "output_type": "stream",
     "text": [
      "\r",
      " 71%|█████████████████████████████████████████████████████████████████████████████                               | 428/600 [01:12<00:29,  5.86it/s]"
     ]
    },
    {
     "name": "stderr",
     "output_type": "stream",
     "text": [
      "\r",
      " 72%|█████████████████████████████████████████████████████████████████████████████▏                              | 429/600 [01:13<00:28,  5.91it/s]"
     ]
    },
    {
     "name": "stderr",
     "output_type": "stream",
     "text": [
      "\r",
      " 72%|█████████████████████████████████████████████████████████████████████████████▍                              | 430/600 [01:13<00:28,  5.92it/s]"
     ]
    },
    {
     "name": "stderr",
     "output_type": "stream",
     "text": [
      "\r",
      " 72%|█████████████████████████████████████████████████████████████████████████████▌                              | 431/600 [01:13<00:27,  6.05it/s]"
     ]
    },
    {
     "name": "stderr",
     "output_type": "stream",
     "text": [
      "\r",
      " 72%|█████████████████████████████████████████████████████████████████████████████▊                              | 432/600 [01:13<00:28,  5.93it/s]"
     ]
    },
    {
     "name": "stderr",
     "output_type": "stream",
     "text": [
      "\r",
      " 72%|█████████████████████████████████████████████████████████████████████████████▉                              | 433/600 [01:13<00:28,  5.93it/s]"
     ]
    },
    {
     "name": "stderr",
     "output_type": "stream",
     "text": [
      "\r",
      " 72%|██████████████████████████████████████████████████████████████████████████████                              | 434/600 [01:13<00:27,  5.95it/s]"
     ]
    },
    {
     "name": "stderr",
     "output_type": "stream",
     "text": [
      "\r",
      " 72%|██████████████████████████████████████████████████████████████████████████████▎                             | 435/600 [01:14<00:27,  5.94it/s]"
     ]
    },
    {
     "name": "stderr",
     "output_type": "stream",
     "text": [
      "\r",
      " 73%|██████████████████████████████████████████████████████████████████████████████▍                             | 436/600 [01:14<00:27,  5.97it/s]"
     ]
    },
    {
     "name": "stderr",
     "output_type": "stream",
     "text": [
      "\r",
      " 73%|██████████████████████████████████████████████████████████████████████████████▋                             | 437/600 [01:14<00:27,  5.99it/s]"
     ]
    },
    {
     "name": "stderr",
     "output_type": "stream",
     "text": [
      "\r",
      " 73%|██████████████████████████████████████████████████████████████████████████████▊                             | 438/600 [01:14<00:26,  6.01it/s]"
     ]
    },
    {
     "name": "stderr",
     "output_type": "stream",
     "text": [
      "\r",
      " 73%|███████████████████████████████████████████████████████████████████████████████                             | 439/600 [01:14<00:26,  5.98it/s]"
     ]
    },
    {
     "name": "stderr",
     "output_type": "stream",
     "text": [
      "\r",
      " 73%|███████████████████████████████████████████████████████████████████████████████▏                            | 440/600 [01:14<00:26,  6.04it/s]"
     ]
    },
    {
     "name": "stderr",
     "output_type": "stream",
     "text": [
      "\r",
      " 74%|███████████████████████████████████████████████████████████████████████████████▍                            | 441/600 [01:15<00:26,  5.99it/s]"
     ]
    },
    {
     "name": "stderr",
     "output_type": "stream",
     "text": [
      "\r",
      " 74%|███████████████████████████████████████████████████████████████████████████████▌                            | 442/600 [01:15<00:25,  6.25it/s]"
     ]
    },
    {
     "name": "stderr",
     "output_type": "stream",
     "text": [
      "\r",
      " 74%|███████████████████████████████████████████████████████████████████████████████▋                            | 443/600 [01:15<00:24,  6.44it/s]"
     ]
    },
    {
     "name": "stderr",
     "output_type": "stream",
     "text": [
      "\r",
      " 74%|███████████████████████████████████████████████████████████████████████████████▉                            | 444/600 [01:15<00:24,  6.43it/s]"
     ]
    },
    {
     "name": "stderr",
     "output_type": "stream",
     "text": [
      "\r",
      " 74%|████████████████████████████████████████████████████████████████████████████████                            | 445/600 [01:15<00:24,  6.22it/s]"
     ]
    },
    {
     "name": "stderr",
     "output_type": "stream",
     "text": [
      "\r",
      " 74%|████████████████████████████████████████████████████████████████████████████████▎                           | 446/600 [01:15<00:25,  5.99it/s]"
     ]
    },
    {
     "name": "stderr",
     "output_type": "stream",
     "text": [
      "\r",
      " 74%|████████████████████████████████████████████████████████████████████████████████▍                           | 447/600 [01:15<00:25,  5.95it/s]"
     ]
    },
    {
     "name": "stderr",
     "output_type": "stream",
     "text": [
      "\r",
      " 75%|████████████████████████████████████████████████████████████████████████████████▋                           | 448/600 [01:16<00:26,  5.74it/s]"
     ]
    },
    {
     "name": "stderr",
     "output_type": "stream",
     "text": [
      "\r",
      " 75%|████████████████████████████████████████████████████████████████████████████████▊                           | 449/600 [01:16<00:26,  5.75it/s]"
     ]
    },
    {
     "name": "stderr",
     "output_type": "stream",
     "text": [
      "\r",
      " 75%|█████████████████████████████████████████████████████████████████████████████████                           | 450/600 [01:16<00:25,  5.83it/s]"
     ]
    },
    {
     "name": "stderr",
     "output_type": "stream",
     "text": [
      "\r",
      " 75%|█████████████████████████████████████████████████████████████████████████████████▏                          | 451/600 [01:16<00:25,  5.88it/s]"
     ]
    },
    {
     "name": "stderr",
     "output_type": "stream",
     "text": [
      "\r",
      " 75%|█████████████████████████████████████████████████████████████████████████████████▎                          | 452/600 [01:16<00:25,  5.83it/s]"
     ]
    },
    {
     "name": "stderr",
     "output_type": "stream",
     "text": [
      "\r",
      " 76%|█████████████████████████████████████████████████████████████████████████████████▌                          | 453/600 [01:17<00:25,  5.87it/s]"
     ]
    },
    {
     "name": "stderr",
     "output_type": "stream",
     "text": [
      "\r",
      " 76%|█████████████████████████████████████████████████████████████████████████████████▋                          | 454/600 [01:17<00:24,  5.97it/s]"
     ]
    },
    {
     "name": "stderr",
     "output_type": "stream",
     "text": [
      "\r",
      " 76%|█████████████████████████████████████████████████████████████████████████████████▉                          | 455/600 [01:17<00:24,  5.86it/s]"
     ]
    },
    {
     "name": "stderr",
     "output_type": "stream",
     "text": [
      "\r",
      " 76%|██████████████████████████████████████████████████████████████████████████████████                          | 456/600 [01:17<00:24,  5.87it/s]"
     ]
    },
    {
     "name": "stderr",
     "output_type": "stream",
     "text": [
      "\r",
      " 76%|██████████████████████████████████████████████████████████████████████████████████▎                         | 457/600 [01:17<00:24,  5.87it/s]"
     ]
    },
    {
     "name": "stderr",
     "output_type": "stream",
     "text": [
      "\r",
      " 76%|██████████████████████████████████████████████████████████████████████████████████▍                         | 458/600 [01:17<00:24,  5.74it/s]"
     ]
    },
    {
     "name": "stderr",
     "output_type": "stream",
     "text": [
      "\r",
      " 76%|██████████████████████████████████████████████████████████████████████████████████▌                         | 459/600 [01:18<00:23,  5.90it/s]"
     ]
    },
    {
     "name": "stderr",
     "output_type": "stream",
     "text": [
      "\r",
      " 77%|██████████████████████████████████████████████████████████████████████████████████▊                         | 460/600 [01:18<00:24,  5.82it/s]"
     ]
    },
    {
     "name": "stderr",
     "output_type": "stream",
     "text": [
      "\r",
      " 77%|██████████████████████████████████████████████████████████████████████████████████▉                         | 461/600 [01:18<00:23,  5.87it/s]"
     ]
    },
    {
     "name": "stderr",
     "output_type": "stream",
     "text": [
      "\r",
      " 77%|███████████████████████████████████████████████████████████████████████████████████▏                        | 462/600 [01:18<00:23,  5.84it/s]"
     ]
    },
    {
     "name": "stderr",
     "output_type": "stream",
     "text": [
      "\r",
      " 77%|███████████████████████████████████████████████████████████████████████████████████▎                        | 463/600 [01:18<00:23,  5.89it/s]"
     ]
    },
    {
     "name": "stderr",
     "output_type": "stream",
     "text": [
      "\r",
      " 77%|███████████████████████████████████████████████████████████████████████████████████▌                        | 464/600 [01:18<00:22,  5.96it/s]"
     ]
    },
    {
     "name": "stderr",
     "output_type": "stream",
     "text": [
      "\r",
      " 78%|███████████████████████████████████████████████████████████████████████████████████▋                        | 465/600 [01:19<00:23,  5.85it/s]"
     ]
    },
    {
     "name": "stderr",
     "output_type": "stream",
     "text": [
      "\r",
      " 78%|███████████████████████████████████████████████████████████████████████████████████▉                        | 466/600 [01:19<00:22,  5.90it/s]"
     ]
    },
    {
     "name": "stderr",
     "output_type": "stream",
     "text": [
      "\r",
      " 78%|████████████████████████████████████████████████████████████████████████████████████                        | 467/600 [01:19<00:23,  5.65it/s]"
     ]
    },
    {
     "name": "stderr",
     "output_type": "stream",
     "text": [
      "\r",
      " 78%|████████████████████████████████████████████████████████████████████████████████████▏                       | 468/600 [01:19<00:23,  5.69it/s]"
     ]
    },
    {
     "name": "stderr",
     "output_type": "stream",
     "text": [
      "\r",
      " 78%|████████████████████████████████████████████████████████████████████████████████████▍                       | 469/600 [01:19<00:21,  6.05it/s]"
     ]
    },
    {
     "name": "stderr",
     "output_type": "stream",
     "text": [
      "\r",
      " 78%|████████████████████████████████████████████████████████████████████████████████████▌                       | 470/600 [01:19<00:21,  6.10it/s]"
     ]
    },
    {
     "name": "stderr",
     "output_type": "stream",
     "text": [
      "\r",
      " 78%|████████████████████████████████████████████████████████████████████████████████████▊                       | 471/600 [01:20<00:21,  6.04it/s]"
     ]
    },
    {
     "name": "stderr",
     "output_type": "stream",
     "text": [
      "\r",
      " 79%|████████████████████████████████████████████████████████████████████████████████████▉                       | 472/600 [01:20<00:22,  5.81it/s]"
     ]
    },
    {
     "name": "stderr",
     "output_type": "stream",
     "text": [
      "\r",
      " 79%|█████████████████████████████████████████████████████████████████████████████████████▏                      | 473/600 [01:20<00:21,  5.92it/s]"
     ]
    },
    {
     "name": "stderr",
     "output_type": "stream",
     "text": [
      "\r",
      " 79%|█████████████████████████████████████████████████████████████████████████████████████▎                      | 474/600 [01:20<00:21,  5.92it/s]"
     ]
    },
    {
     "name": "stderr",
     "output_type": "stream",
     "text": [
      "\r",
      " 79%|█████████████████████████████████████████████████████████████████████████████████████▌                      | 475/600 [01:20<00:20,  5.97it/s]"
     ]
    },
    {
     "name": "stderr",
     "output_type": "stream",
     "text": [
      "\r",
      " 79%|█████████████████████████████████████████████████████████████████████████████████████▋                      | 476/600 [01:20<00:21,  5.70it/s]"
     ]
    },
    {
     "name": "stderr",
     "output_type": "stream",
     "text": [
      "\r",
      " 80%|█████████████████████████████████████████████████████████████████████████████████████▊                      | 477/600 [01:21<00:22,  5.56it/s]"
     ]
    },
    {
     "name": "stderr",
     "output_type": "stream",
     "text": [
      "\r",
      " 80%|██████████████████████████████████████████████████████████████████████████████████████                      | 478/600 [01:21<00:20,  6.06it/s]"
     ]
    },
    {
     "name": "stderr",
     "output_type": "stream",
     "text": [
      "\r",
      " 80%|██████████████████████████████████████████████████████████████████████████████████████▏                     | 479/600 [01:21<00:20,  5.93it/s]"
     ]
    },
    {
     "name": "stderr",
     "output_type": "stream",
     "text": [
      "\r",
      " 80%|██████████████████████████████████████████████████████████████████████████████████████▍                     | 480/600 [01:21<00:20,  5.91it/s]"
     ]
    },
    {
     "name": "stderr",
     "output_type": "stream",
     "text": [
      "\r",
      " 80%|██████████████████████████████████████████████████████████████████████████████████████▌                     | 481/600 [01:21<00:19,  6.06it/s]"
     ]
    },
    {
     "name": "stderr",
     "output_type": "stream",
     "text": [
      "\r",
      " 80%|██████████████████████████████████████████████████████████████████████████████████████▊                     | 482/600 [01:21<00:19,  6.03it/s]"
     ]
    },
    {
     "name": "stderr",
     "output_type": "stream",
     "text": [
      "\r",
      " 80%|██████████████████████████████████████████████████████████████████████████████████████▉                     | 483/600 [01:22<00:18,  6.20it/s]"
     ]
    },
    {
     "name": "stderr",
     "output_type": "stream",
     "text": [
      "\r",
      " 81%|███████████████████████████████████████████████████████████████████████████████████████                     | 484/600 [01:22<00:24,  4.71it/s]"
     ]
    },
    {
     "name": "stderr",
     "output_type": "stream",
     "text": [
      "\r",
      " 81%|███████████████████████████████████████████████████████████████████████████████████████▎                    | 485/600 [01:22<00:28,  4.07it/s]"
     ]
    },
    {
     "name": "stderr",
     "output_type": "stream",
     "text": [
      "\r",
      " 81%|███████████████████████████████████████████████████████████████████████████████████████▍                    | 486/600 [01:23<00:31,  3.65it/s]"
     ]
    },
    {
     "name": "stderr",
     "output_type": "stream",
     "text": [
      "\r",
      " 81%|███████████████████████████████████████████████████████████████████████████████████████▋                    | 487/600 [01:23<00:30,  3.75it/s]"
     ]
    },
    {
     "name": "stderr",
     "output_type": "stream",
     "text": [
      "\r",
      " 81%|███████████████████████████████████████████████████████████████████████████████████████▊                    | 488/600 [01:23<00:26,  4.18it/s]"
     ]
    },
    {
     "name": "stderr",
     "output_type": "stream",
     "text": [
      "\r",
      " 82%|████████████████████████████████████████████████████████████████████████████████████████                    | 489/600 [01:23<00:23,  4.78it/s]"
     ]
    },
    {
     "name": "stderr",
     "output_type": "stream",
     "text": [
      "\r",
      " 82%|████████████████████████████████████████████████████████████████████████████████████████▏                   | 490/600 [01:23<00:22,  4.98it/s]"
     ]
    },
    {
     "name": "stderr",
     "output_type": "stream",
     "text": [
      "\r",
      " 82%|████████████████████████████████████████████████████████████████████████████████████████▍                   | 491/600 [01:23<00:20,  5.26it/s]"
     ]
    },
    {
     "name": "stderr",
     "output_type": "stream",
     "text": [
      "\r",
      " 82%|████████████████████████████████████████████████████████████████████████████████████████▌                   | 492/600 [01:24<00:19,  5.54it/s]"
     ]
    },
    {
     "name": "stderr",
     "output_type": "stream",
     "text": [
      "\r",
      " 82%|████████████████████████████████████████████████████████████████████████████████████████▋                   | 493/600 [01:24<00:19,  5.61it/s]"
     ]
    },
    {
     "name": "stderr",
     "output_type": "stream",
     "text": [
      "\r",
      " 82%|████████████████████████████████████████████████████████████████████████████████████████▉                   | 494/600 [01:24<00:18,  5.77it/s]"
     ]
    },
    {
     "name": "stderr",
     "output_type": "stream",
     "text": [
      "\r",
      " 82%|█████████████████████████████████████████████████████████████████████████████████████████                   | 495/600 [01:24<00:17,  5.89it/s]"
     ]
    },
    {
     "name": "stderr",
     "output_type": "stream",
     "text": [
      "\r",
      " 83%|█████████████████████████████████████████████████████████████████████████████████████████▎                  | 496/600 [01:24<00:17,  5.94it/s]"
     ]
    },
    {
     "name": "stderr",
     "output_type": "stream",
     "text": [
      "\r",
      " 83%|█████████████████████████████████████████████████████████████████████████████████████████▍                  | 497/600 [01:24<00:17,  5.98it/s]"
     ]
    },
    {
     "name": "stderr",
     "output_type": "stream",
     "text": [
      "\r",
      " 83%|█████████████████████████████████████████████████████████████████████████████████████████▋                  | 498/600 [01:25<00:16,  6.03it/s]"
     ]
    },
    {
     "name": "stderr",
     "output_type": "stream",
     "text": [
      "\r",
      " 83%|█████████████████████████████████████████████████████████████████████████████████████████▊                  | 499/600 [01:25<00:18,  5.48it/s]"
     ]
    },
    {
     "name": "stderr",
     "output_type": "stream",
     "text": [
      "\r",
      " 83%|██████████████████████████████████████████████████████████████████████████████████████████                  | 500/600 [01:25<00:18,  5.53it/s]"
     ]
    },
    {
     "name": "stderr",
     "output_type": "stream",
     "text": [
      "\r",
      " 84%|██████████████████████████████████████████████████████████████████████████████████████████▏                 | 501/600 [01:25<00:17,  5.66it/s]"
     ]
    },
    {
     "name": "stderr",
     "output_type": "stream",
     "text": [
      "\r",
      " 84%|██████████████████████████████████████████████████████████████████████████████████████████▎                 | 502/600 [01:25<00:17,  5.66it/s]"
     ]
    },
    {
     "name": "stderr",
     "output_type": "stream",
     "text": [
      "\r",
      " 84%|██████████████████████████████████████████████████████████████████████████████████████████▌                 | 503/600 [01:26<00:17,  5.57it/s]"
     ]
    },
    {
     "name": "stderr",
     "output_type": "stream",
     "text": [
      "\r",
      " 84%|██████████████████████████████████████████████████████████████████████████████████████████▋                 | 504/600 [01:26<00:17,  5.53it/s]"
     ]
    },
    {
     "name": "stderr",
     "output_type": "stream",
     "text": [
      "\r",
      " 84%|██████████████████████████████████████████████████████████████████████████████████████████▉                 | 505/600 [01:26<00:17,  5.54it/s]"
     ]
    },
    {
     "name": "stderr",
     "output_type": "stream",
     "text": [
      "\r",
      " 84%|███████████████████████████████████████████████████████████████████████████████████████████                 | 506/600 [01:26<00:16,  5.76it/s]"
     ]
    },
    {
     "name": "stderr",
     "output_type": "stream",
     "text": [
      "\r",
      " 84%|███████████████████████████████████████████████████████████████████████████████████████████▎                | 507/600 [01:26<00:16,  5.67it/s]"
     ]
    },
    {
     "name": "stderr",
     "output_type": "stream",
     "text": [
      "\r",
      " 85%|███████████████████████████████████████████████████████████████████████████████████████████▍                | 508/600 [01:26<00:15,  6.04it/s]"
     ]
    },
    {
     "name": "stderr",
     "output_type": "stream",
     "text": [
      "\r",
      " 85%|███████████████████████████████████████████████████████████████████████████████████████████▌                | 509/600 [01:27<00:14,  6.16it/s]"
     ]
    },
    {
     "name": "stderr",
     "output_type": "stream",
     "text": [
      "\r",
      " 85%|███████████████████████████████████████████████████████████████████████████████████████████▊                | 510/600 [01:27<00:14,  6.43it/s]"
     ]
    },
    {
     "name": "stderr",
     "output_type": "stream",
     "text": [
      "\r",
      " 85%|███████████████████████████████████████████████████████████████████████████████████████████▉                | 511/600 [01:27<00:13,  6.38it/s]"
     ]
    },
    {
     "name": "stderr",
     "output_type": "stream",
     "text": [
      "\r",
      " 85%|████████████████████████████████████████████████████████████████████████████████████████████▏               | 512/600 [01:27<00:13,  6.35it/s]"
     ]
    },
    {
     "name": "stderr",
     "output_type": "stream",
     "text": [
      "\r",
      " 86%|████████████████████████████████████████████████████████████████████████████████████████████▎               | 513/600 [01:27<00:13,  6.27it/s]"
     ]
    },
    {
     "name": "stderr",
     "output_type": "stream",
     "text": [
      "\r",
      " 86%|████████████████████████████████████████████████████████████████████████████████████████████▌               | 514/600 [01:27<00:13,  6.15it/s]"
     ]
    },
    {
     "name": "stderr",
     "output_type": "stream",
     "text": [
      "\r",
      " 86%|████████████████████████████████████████████████████████████████████████████████████████████▋               | 515/600 [01:28<00:13,  6.12it/s]"
     ]
    },
    {
     "name": "stderr",
     "output_type": "stream",
     "text": [
      "\r",
      " 86%|████████████████████████████████████████████████████████████████████████████████████████████▉               | 516/600 [01:28<00:13,  6.13it/s]"
     ]
    },
    {
     "name": "stderr",
     "output_type": "stream",
     "text": [
      "\r",
      " 86%|█████████████████████████████████████████████████████████████████████████████████████████████               | 517/600 [01:28<00:13,  6.00it/s]"
     ]
    },
    {
     "name": "stderr",
     "output_type": "stream",
     "text": [
      "\r",
      " 86%|█████████████████████████████████████████████████████████████████████████████████████████████▏              | 518/600 [01:28<00:13,  5.98it/s]"
     ]
    },
    {
     "name": "stderr",
     "output_type": "stream",
     "text": [
      "\r",
      " 86%|█████████████████████████████████████████████████████████████████████████████████████████████▍              | 519/600 [01:28<00:13,  5.87it/s]"
     ]
    },
    {
     "name": "stderr",
     "output_type": "stream",
     "text": [
      "\r",
      " 87%|█████████████████████████████████████████████████████████████████████████████████████████████▌              | 520/600 [01:28<00:13,  5.98it/s]"
     ]
    },
    {
     "name": "stderr",
     "output_type": "stream",
     "text": [
      "\r",
      " 87%|█████████████████████████████████████████████████████████████████████████████████████████████▊              | 521/600 [01:29<00:13,  6.05it/s]"
     ]
    },
    {
     "name": "stderr",
     "output_type": "stream",
     "text": [
      "\r",
      " 87%|█████████████████████████████████████████████████████████████████████████████████████████████▉              | 522/600 [01:29<00:13,  5.98it/s]"
     ]
    },
    {
     "name": "stderr",
     "output_type": "stream",
     "text": [
      "\r",
      " 87%|██████████████████████████████████████████████████████████████████████████████████████████████▏             | 523/600 [01:29<00:12,  6.02it/s]"
     ]
    },
    {
     "name": "stderr",
     "output_type": "stream",
     "text": [
      "\r",
      " 87%|██████████████████████████████████████████████████████████████████████████████████████████████▎             | 524/600 [01:29<00:12,  6.04it/s]"
     ]
    },
    {
     "name": "stderr",
     "output_type": "stream",
     "text": [
      "\r",
      " 88%|██████████████████████████████████████████████████████████████████████████████████████████████▌             | 525/600 [01:29<00:12,  6.07it/s]"
     ]
    },
    {
     "name": "stderr",
     "output_type": "stream",
     "text": [
      "\r",
      " 88%|██████████████████████████████████████████████████████████████████████████████████████████████▋             | 526/600 [01:29<00:12,  6.10it/s]"
     ]
    },
    {
     "name": "stderr",
     "output_type": "stream",
     "text": [
      "\r",
      " 88%|██████████████████████████████████████████████████████████████████████████████████████████████▊             | 527/600 [01:30<00:12,  5.97it/s]"
     ]
    },
    {
     "name": "stderr",
     "output_type": "stream",
     "text": [
      "\r",
      " 88%|███████████████████████████████████████████████████████████████████████████████████████████████             | 528/600 [01:30<00:12,  5.95it/s]"
     ]
    },
    {
     "name": "stderr",
     "output_type": "stream",
     "text": [
      "\r",
      " 88%|███████████████████████████████████████████████████████████████████████████████████████████████▏            | 529/600 [01:30<00:11,  5.92it/s]"
     ]
    },
    {
     "name": "stderr",
     "output_type": "stream",
     "text": [
      "\r",
      " 88%|███████████████████████████████████████████████████████████████████████████████████████████████▍            | 530/600 [01:30<00:11,  6.04it/s]"
     ]
    },
    {
     "name": "stderr",
     "output_type": "stream",
     "text": [
      "\r",
      " 88%|███████████████████████████████████████████████████████████████████████████████████████████████▌            | 531/600 [01:30<00:11,  6.02it/s]"
     ]
    },
    {
     "name": "stderr",
     "output_type": "stream",
     "text": [
      "\r",
      " 89%|███████████████████████████████████████████████████████████████████████████████████████████████▊            | 532/600 [01:30<00:11,  5.96it/s]"
     ]
    },
    {
     "name": "stderr",
     "output_type": "stream",
     "text": [
      "\r",
      " 89%|███████████████████████████████████████████████████████████████████████████████████████████████▉            | 533/600 [01:31<00:11,  5.61it/s]"
     ]
    },
    {
     "name": "stderr",
     "output_type": "stream",
     "text": [
      "\r",
      " 89%|████████████████████████████████████████████████████████████████████████████████████████████████            | 534/600 [01:31<00:12,  5.41it/s]"
     ]
    },
    {
     "name": "stderr",
     "output_type": "stream",
     "text": [
      "\r",
      " 89%|████████████████████████████████████████████████████████████████████████████████████████████████▎           | 535/600 [01:31<00:11,  5.70it/s]"
     ]
    },
    {
     "name": "stderr",
     "output_type": "stream",
     "text": [
      "\r",
      " 89%|████████████████████████████████████████████████████████████████████████████████████████████████▍           | 536/600 [01:31<00:11,  5.78it/s]"
     ]
    },
    {
     "name": "stderr",
     "output_type": "stream",
     "text": [
      "\r",
      " 90%|████████████████████████████████████████████████████████████████████████████████████████████████▋           | 537/600 [01:31<00:11,  5.64it/s]"
     ]
    },
    {
     "name": "stderr",
     "output_type": "stream",
     "text": [
      "\r",
      " 90%|████████████████████████████████████████████████████████████████████████████████████████████████▊           | 538/600 [01:31<00:10,  5.74it/s]"
     ]
    },
    {
     "name": "stderr",
     "output_type": "stream",
     "text": [
      "\r",
      " 90%|█████████████████████████████████████████████████████████████████████████████████████████████████           | 539/600 [01:32<00:10,  5.81it/s]"
     ]
    },
    {
     "name": "stderr",
     "output_type": "stream",
     "text": [
      "\r",
      " 90%|█████████████████████████████████████████████████████████████████████████████████████████████████▏          | 540/600 [01:32<00:10,  5.87it/s]"
     ]
    },
    {
     "name": "stderr",
     "output_type": "stream",
     "text": [
      "\r",
      " 90%|█████████████████████████████████████████████████████████████████████████████████████████████████▍          | 541/600 [01:32<00:10,  5.89it/s]"
     ]
    },
    {
     "name": "stderr",
     "output_type": "stream",
     "text": [
      "\r",
      " 90%|█████████████████████████████████████████████████████████████████████████████████████████████████▌          | 542/600 [01:32<00:09,  5.91it/s]"
     ]
    },
    {
     "name": "stderr",
     "output_type": "stream",
     "text": [
      "\r",
      " 90%|█████████████████████████████████████████████████████████████████████████████████████████████████▋          | 543/600 [01:32<00:09,  5.98it/s]"
     ]
    },
    {
     "name": "stderr",
     "output_type": "stream",
     "text": [
      "\r",
      " 91%|█████████████████████████████████████████████████████████████████████████████████████████████████▉          | 544/600 [01:32<00:09,  5.99it/s]"
     ]
    },
    {
     "name": "stderr",
     "output_type": "stream",
     "text": [
      "\r",
      " 91%|██████████████████████████████████████████████████████████████████████████████████████████████████          | 545/600 [01:33<00:09,  5.96it/s]"
     ]
    },
    {
     "name": "stderr",
     "output_type": "stream",
     "text": [
      "\r",
      " 91%|██████████████████████████████████████████████████████████████████████████████████████████████████▎         | 546/600 [01:33<00:09,  5.77it/s]"
     ]
    },
    {
     "name": "stderr",
     "output_type": "stream",
     "text": [
      "\r",
      " 91%|██████████████████████████████████████████████████████████████████████████████████████████████████▍         | 547/600 [01:33<00:09,  5.72it/s]"
     ]
    },
    {
     "name": "stderr",
     "output_type": "stream",
     "text": [
      "\r",
      " 91%|██████████████████████████████████████████████████████████████████████████████████████████████████▋         | 548/600 [01:33<00:09,  5.66it/s]"
     ]
    },
    {
     "name": "stderr",
     "output_type": "stream",
     "text": [
      "\r",
      " 92%|██████████████████████████████████████████████████████████████████████████████████████████████████▊         | 549/600 [01:33<00:08,  5.72it/s]"
     ]
    },
    {
     "name": "stderr",
     "output_type": "stream",
     "text": [
      "\r",
      " 92%|███████████████████████████████████████████████████████████████████████████████████████████████████         | 550/600 [01:34<00:08,  5.56it/s]"
     ]
    },
    {
     "name": "stderr",
     "output_type": "stream",
     "text": [
      "\r",
      " 92%|███████████████████████████████████████████████████████████████████████████████████████████████████▏        | 551/600 [01:34<00:08,  5.67it/s]"
     ]
    },
    {
     "name": "stderr",
     "output_type": "stream",
     "text": [
      "\r",
      " 92%|███████████████████████████████████████████████████████████████████████████████████████████████████▎        | 552/600 [01:34<00:08,  5.72it/s]"
     ]
    },
    {
     "name": "stderr",
     "output_type": "stream",
     "text": [
      "\r",
      " 92%|███████████████████████████████████████████████████████████████████████████████████████████████████▌        | 553/600 [01:34<00:08,  5.78it/s]"
     ]
    },
    {
     "name": "stderr",
     "output_type": "stream",
     "text": [
      "\r",
      " 92%|███████████████████████████████████████████████████████████████████████████████████████████████████▋        | 554/600 [01:34<00:07,  5.87it/s]"
     ]
    },
    {
     "name": "stderr",
     "output_type": "stream",
     "text": [
      "\r",
      " 92%|███████████████████████████████████████████████████████████████████████████████████████████████████▉        | 555/600 [01:34<00:07,  5.85it/s]"
     ]
    },
    {
     "name": "stderr",
     "output_type": "stream",
     "text": [
      "\r",
      " 93%|████████████████████████████████████████████████████████████████████████████████████████████████████        | 556/600 [01:35<00:07,  5.77it/s]"
     ]
    },
    {
     "name": "stderr",
     "output_type": "stream",
     "text": [
      "\r",
      " 93%|████████████████████████████████████████████████████████████████████████████████████████████████████▎       | 557/600 [01:35<00:07,  5.81it/s]"
     ]
    },
    {
     "name": "stderr",
     "output_type": "stream",
     "text": [
      "\r",
      " 93%|████████████████████████████████████████████████████████████████████████████████████████████████████▍       | 558/600 [01:35<00:07,  5.72it/s]"
     ]
    },
    {
     "name": "stderr",
     "output_type": "stream",
     "text": [
      "\r",
      " 93%|████████████████████████████████████████████████████████████████████████████████████████████████████▌       | 559/600 [01:35<00:07,  5.74it/s]"
     ]
    },
    {
     "name": "stderr",
     "output_type": "stream",
     "text": [
      "\r",
      " 93%|████████████████████████████████████████████████████████████████████████████████████████████████████▊       | 560/600 [01:35<00:06,  5.94it/s]"
     ]
    },
    {
     "name": "stderr",
     "output_type": "stream",
     "text": [
      "\r",
      " 94%|████████████████████████████████████████████████████████████████████████████████████████████████████▉       | 561/600 [01:35<00:06,  5.98it/s]"
     ]
    },
    {
     "name": "stderr",
     "output_type": "stream",
     "text": [
      "\r",
      " 94%|█████████████████████████████████████████████████████████████████████████████████████████████████████▏      | 562/600 [01:36<00:06,  5.78it/s]"
     ]
    },
    {
     "name": "stderr",
     "output_type": "stream",
     "text": [
      "\r",
      " 94%|█████████████████████████████████████████████████████████████████████████████████████████████████████▎      | 563/600 [01:36<00:06,  5.76it/s]"
     ]
    },
    {
     "name": "stderr",
     "output_type": "stream",
     "text": [
      "\r",
      " 94%|█████████████████████████████████████████████████████████████████████████████████████████████████████▌      | 564/600 [01:36<00:06,  5.82it/s]"
     ]
    },
    {
     "name": "stderr",
     "output_type": "stream",
     "text": [
      "\r",
      " 94%|█████████████████████████████████████████████████████████████████████████████████████████████████████▋      | 565/600 [01:36<00:06,  5.72it/s]"
     ]
    },
    {
     "name": "stderr",
     "output_type": "stream",
     "text": [
      "\r",
      " 94%|█████████████████████████████████████████████████████████████████████████████████████████████████████▉      | 566/600 [01:36<00:05,  5.78it/s]"
     ]
    },
    {
     "name": "stderr",
     "output_type": "stream",
     "text": [
      "\r",
      " 94%|██████████████████████████████████████████████████████████████████████████████████████████████████████      | 567/600 [01:36<00:05,  5.87it/s]"
     ]
    },
    {
     "name": "stderr",
     "output_type": "stream",
     "text": [
      "\r",
      " 95%|██████████████████████████████████████████████████████████████████████████████████████████████████████▏     | 568/600 [01:37<00:05,  6.12it/s]"
     ]
    },
    {
     "name": "stderr",
     "output_type": "stream",
     "text": [
      "\r",
      " 95%|██████████████████████████████████████████████████████████████████████████████████████████████████████▍     | 569/600 [01:37<00:04,  6.33it/s]"
     ]
    },
    {
     "name": "stderr",
     "output_type": "stream",
     "text": [
      "\r",
      " 95%|██████████████████████████████████████████████████████████████████████████████████████████████████████▌     | 570/600 [01:37<00:05,  5.94it/s]"
     ]
    },
    {
     "name": "stderr",
     "output_type": "stream",
     "text": [
      "\r",
      " 95%|██████████████████████████████████████████████████████████████████████████████████████████████████████▊     | 571/600 [01:37<00:04,  6.00it/s]"
     ]
    },
    {
     "name": "stderr",
     "output_type": "stream",
     "text": [
      "\r",
      " 95%|██████████████████████████████████████████████████████████████████████████████████████████████████████▉     | 572/600 [01:37<00:04,  5.83it/s]"
     ]
    },
    {
     "name": "stderr",
     "output_type": "stream",
     "text": [
      "\r",
      " 96%|███████████████████████████████████████████████████████████████████████████████████████████████████████▏    | 573/600 [01:37<00:04,  5.80it/s]"
     ]
    },
    {
     "name": "stderr",
     "output_type": "stream",
     "text": [
      "\r",
      " 96%|███████████████████████████████████████████████████████████████████████████████████████████████████████▎    | 574/600 [01:38<00:04,  5.89it/s]"
     ]
    },
    {
     "name": "stderr",
     "output_type": "stream",
     "text": [
      "\r",
      " 96%|███████████████████████████████████████████████████████████████████████████████████████████████████████▌    | 575/600 [01:38<00:04,  5.83it/s]"
     ]
    },
    {
     "name": "stderr",
     "output_type": "stream",
     "text": [
      "\r",
      " 96%|███████████████████████████████████████████████████████████████████████████████████████████████████████▋    | 576/600 [01:38<00:04,  5.90it/s]"
     ]
    },
    {
     "name": "stderr",
     "output_type": "stream",
     "text": [
      "\r",
      " 96%|███████████████████████████████████████████████████████████████████████████████████████████████████████▊    | 577/600 [01:38<00:03,  5.90it/s]"
     ]
    },
    {
     "name": "stderr",
     "output_type": "stream",
     "text": [
      "\r",
      " 96%|████████████████████████████████████████████████████████████████████████████████████████████████████████    | 578/600 [01:38<00:03,  5.89it/s]"
     ]
    },
    {
     "name": "stderr",
     "output_type": "stream",
     "text": [
      "\r",
      " 96%|████████████████████████████████████████████████████████████████████████████████████████████████████████▏   | 579/600 [01:38<00:03,  6.03it/s]"
     ]
    },
    {
     "name": "stderr",
     "output_type": "stream",
     "text": [
      "\r",
      " 97%|████████████████████████████████████████████████████████████████████████████████████████████████████████▍   | 580/600 [01:39<00:03,  6.06it/s]"
     ]
    },
    {
     "name": "stderr",
     "output_type": "stream",
     "text": [
      "\r",
      " 97%|████████████████████████████████████████████████████████████████████████████████████████████████████████▌   | 581/600 [01:39<00:03,  6.03it/s]"
     ]
    },
    {
     "name": "stderr",
     "output_type": "stream",
     "text": [
      "\r",
      " 97%|████████████████████████████████████████████████████████████████████████████████████████████████████████▊   | 582/600 [01:39<00:03,  6.00it/s]"
     ]
    },
    {
     "name": "stderr",
     "output_type": "stream",
     "text": [
      "\r",
      " 97%|████████████████████████████████████████████████████████████████████████████████████████████████████████▉   | 583/600 [01:39<00:02,  5.95it/s]"
     ]
    },
    {
     "name": "stderr",
     "output_type": "stream",
     "text": [
      "\r",
      " 97%|█████████████████████████████████████████████████████████████████████████████████████████████████████████   | 584/600 [01:39<00:02,  6.01it/s]"
     ]
    },
    {
     "name": "stderr",
     "output_type": "stream",
     "text": [
      "\r",
      " 98%|█████████████████████████████████████████████████████████████████████████████████████████████████████████▎  | 585/600 [01:39<00:02,  5.91it/s]"
     ]
    },
    {
     "name": "stderr",
     "output_type": "stream",
     "text": [
      "\r",
      " 98%|█████████████████████████████████████████████████████████████████████████████████████████████████████████▍  | 586/600 [01:40<00:02,  5.98it/s]"
     ]
    },
    {
     "name": "stderr",
     "output_type": "stream",
     "text": [
      "\r",
      " 98%|█████████████████████████████████████████████████████████████████████████████████████████████████████████▋  | 587/600 [01:40<00:02,  5.96it/s]"
     ]
    },
    {
     "name": "stderr",
     "output_type": "stream",
     "text": [
      "\r",
      " 98%|█████████████████████████████████████████████████████████████████████████████████████████████████████████▊  | 588/600 [01:40<00:02,  5.99it/s]"
     ]
    },
    {
     "name": "stderr",
     "output_type": "stream",
     "text": [
      "\r",
      " 98%|██████████████████████████████████████████████████████████████████████████████████████████████████████████  | 589/600 [01:40<00:01,  5.82it/s]"
     ]
    },
    {
     "name": "stderr",
     "output_type": "stream",
     "text": [
      "\r",
      " 98%|██████████████████████████████████████████████████████████████████████████████████████████████████████████▏ | 590/600 [01:40<00:01,  5.97it/s]"
     ]
    },
    {
     "name": "stderr",
     "output_type": "stream",
     "text": [
      "\r",
      " 98%|██████████████████████████████████████████████████████████████████████████████████████████████████████████▍ | 591/600 [01:40<00:01,  6.37it/s]"
     ]
    },
    {
     "name": "stderr",
     "output_type": "stream",
     "text": [
      "\r",
      " 99%|██████████████████████████████████████████████████████████████████████████████████████████████████████████▌ | 592/600 [01:41<00:01,  6.31it/s]"
     ]
    },
    {
     "name": "stderr",
     "output_type": "stream",
     "text": [
      "\r",
      " 99%|██████████████████████████████████████████████████████████████████████████████████████████████████████████▋ | 593/600 [01:41<00:01,  5.66it/s]"
     ]
    },
    {
     "name": "stderr",
     "output_type": "stream",
     "text": [
      "\r",
      " 99%|██████████████████████████████████████████████████████████████████████████████████████████████████████████▉ | 594/600 [01:41<00:01,  5.44it/s]"
     ]
    },
    {
     "name": "stderr",
     "output_type": "stream",
     "text": [
      "\r",
      " 99%|███████████████████████████████████████████████████████████████████████████████████████████████████████████ | 595/600 [01:41<00:00,  5.64it/s]"
     ]
    },
    {
     "name": "stderr",
     "output_type": "stream",
     "text": [
      "\r",
      " 99%|███████████████████████████████████████████████████████████████████████████████████████████████████████████▎| 596/600 [01:41<00:00,  5.74it/s]"
     ]
    },
    {
     "name": "stderr",
     "output_type": "stream",
     "text": [
      "\r",
      "100%|███████████████████████████████████████████████████████████████████████████████████████████████████████████▍| 597/600 [01:41<00:00,  5.83it/s]"
     ]
    },
    {
     "name": "stderr",
     "output_type": "stream",
     "text": [
      "\r",
      "100%|███████████████████████████████████████████████████████████████████████████████████████████████████████████▋| 598/600 [01:42<00:00,  5.85it/s]"
     ]
    },
    {
     "name": "stderr",
     "output_type": "stream",
     "text": [
      "\r",
      "100%|███████████████████████████████████████████████████████████████████████████████████████████████████████████▊| 599/600 [01:42<00:00,  5.87it/s]"
     ]
    },
    {
     "name": "stderr",
     "output_type": "stream",
     "text": [
      "\r",
      "100%|████████████████████████████████████████████████████████████████████████████████████████████████████████████| 600/600 [01:42<00:00,  5.84it/s]"
     ]
    },
    {
     "name": "stderr",
     "output_type": "stream",
     "text": [
      "\r",
      "100%|████████████████████████████████████████████████████████████████████████████████████████████████████████████| 600/600 [01:42<00:00,  5.85it/s]"
     ]
    },
    {
     "name": "stderr",
     "output_type": "stream",
     "text": [
      "\n"
     ]
    },
    {
     "data": {
      "text/plain": [
       "(<Figure size 640x480 with 1 Axes>,\n",
       " <AxesSubplot:xlabel='Descent step', ylabel='log10(Mean square error)'>)"
      ]
     },
     "execution_count": 5,
     "metadata": {},
     "output_type": "execute_result"
    },
    {
     "data": {
      "application/vnd.jupyter.widget-view+json": {
       "model_id": "a02ee63fee234ce0b598ed7072cdb6df",
       "version_major": 2,
       "version_minor": 0
      },
      "image/png": "[encoded data removed]",
      "text/html": [
       "\n",
       "            <div style=\"display: inline-block;\">\n",
       "                <div class=\"jupyter-widgets widget-label\" style=\"text-align: center;\">\n",
       "                    Figure\n",
       "                </div>\n",
       "                <img src='data:image/png;base64,iVBORw0KGgoAAAANSUhEUgAAAoAAAAHgCAYAAAA10dzkAAAAOXRFWHRTb2Z0d2FyZQBNYXRwbG90bGliIHZlcnNpb24zLjUuMywgaHR0cHM6Ly9tYXRwbG90bGliLm9yZy/NK7nSAAAACXBIWXMAAA9hAAAPYQGoP6dpAAEAAElEQVR4nOz9d3xnV33g/7/OueVT9Pmo95FmRpo+9szY4zZuY2ywTQstCQSSQGj5OZBsgG/Chk12UwhLshCWlKU4sCHAhpBQQwnY4DJu2B6X8XRP16iMevn0287vj/uR9JFGmmJLI410nn5c33vPbed+JI3eOlUopRSapmmapmnasiEXOgOapmmapmnapaUDQE3TNE3TtGVGB4CapmmapmnLjA4ANU3TNE3TlhkdAGqapmmapi0zOgDUNE3TNE1bZnQAqGmapmmatszoAFDTNE3TNG2Z0QGgpmmapmnaMqMDQE3TNE3TtGVGB4CapmmapmnLjA4ANU3TNE3TlhkdAGqapmmapi0zOgDUNE3TNE1bZnQAqGmapmmatszoAFDTNE3TNG2Z0QGgpmmapmnaMqMDQE3TNE3TtGVGB4CapmmapmnLjA4ANU3TNE3TlhkdAGqapmmapi0zOgDUNE3TNE1bZnQAqGmapmmatszoAFDTNE3TNG2Z0QGgpmmapmnaMqMDQE3TNE3TtGVGB4CapmmapmnLjA4ANU3TNE3TlhkdAGqapmmapi0zOgDUNE3TNE1bZnQAqGmapmmatszoAFDTNE3TNG2Z0QGgpmmapmnaMqMDQE3TNE3TtGVGB4CapmmapmnLjA4ANU3TNE3TlhkdAGqapmmapi0zOgDUNE3TNE1bZnQAqGmapmmatszoAFDTNE3TNG2Z0QGgpmmapmnaMqMDQE3TNE3TtGVGB4CapmmapmnLjA4ANU3TNE3TlhkdAGqapmmapi0zOgDUNE3TNE1bZnQAqGmapmmatszoAFDTNE3TNG2Z0QGgpmmapmnaMqMDQE3TNE3TtGVGB4CapmmapmnLjA4ANU3TNE3TlhkdAGqapmmapi0zOgDUNE3TNE1bZnQAqGmapmmatszoAFDTNE3TNG2ZMRc6A5ezIAjo7u4mmUwihFjo7GiapmmadgGUUqRSKZqbm5FyeZaF6QDwZeju7qa1tXWhs6FpmqZp2ktw+vRpWlpaFjobC0IHgC9DMpkEwm+g8vLyBc6NpmmapmkXYmxsjNbW1onf48uRDgBfhvFq3/Lych0AapqmadplZjk331qeFd+apmmapmnLmA4ANU3TNE3TlhkdAGqapmmapi0zOgDUNE3TNE1bZnQAqGmapmmatszoAFDTNE3TNG2Z0QGgpmmapmnaMqMDQE3TNE3TtGVGB4CapmmapmnLjA4ANU3TNE3TlhkdAGqapmmapi0zOgDUNE3TNE1bZnQAuBidfhr++Zdg77fAKyx0bjRN0zRNW2LMhc6ANoNnvgIndoVLrAqu/g24/rehcuVC50zTNE3TtCVAlwAuRq/4r3DbH0F5C+SG4fG/h7/dBv/2Tjj1BCi10DnUNE3TNO0yJpTS0cRLNTY2RkVFBaOjo5SXl8/9AwIfjtwPT34Bjj84md50Fez4AFzxZjDtuX+upmmapi1h8/77+zKgA8CX4ZJ+A/UeCAPBF74JXj5MSzSEQeD6V8PKG8GKzm8eNE3TNG0J0AGgDgBflvn8BvJTKYxk8uwDmUF45p/g6S9BqmcyXRhQtwFq10OyERL1EK0EMwKGDYZVXJcspg1GZPKciXOL29IEIeb0vTRN0zRtoekAUAeAL8t8fQOlHnqInv/6RzR98n+SvOOOmU/yHDh6Pxz+TzhyH6R75+z5UwgZBoLSKq6N4np8kYAIA0Vxvm2Ka1kMLM+1PX4d5773TNfNl4u690Wce9F5XiT31jRNuxQ2vxGueNOc3lIHgLoX8KI08tjj+KOjdP3XP6L929/CXjlD71/Tho2vCxelYKwbzrwAQycg0wfpPsiPgu+C75SsC2HwOOO6AEz7e0AFxeucS/LumqZpmjZF3YaFzsGSpAPAReiP7/plXvf4c2w9to/O3/8Qbd/8V4R9js4eQkDFinB5OZSCwAsDQd8Jg7/AC4PHwAs7pQRecXHB98JzUMWeySrcn9hWU4+Xpp/33NL7cnHnXtjLXvxnMx/3ns8C+Iu+t64M0DRtEVpxzULnYEnSAeAitPnBQwyvvIfTua/RevBJhr72NWre+975f7AQxbaC1vw/S9M0TdO0BaMDwEVoRa9gTAmOrXsHtUNH6frs3/LTTAZRV4dt25imibjEnTMu9fM0TdM0DWD9+vVs2KCrgeeaDgAXobz7DcoztzNWtpY9V32Q65/8Syp//J88teOGhc6apmmapl1SyWRSB4DzQAeAi5AMjuJc+SyR439GNtpA54rbWX3qARp+94M4NTW4rntJ86M7imtLkf6+1rTLw+rVqxc6C0uSDgAXoY31w9yc62d341/wZO8/cLz99TT07ab+0Udp/au/WujsaZqmaZp2mdNzAS9CB85sxVeCa0U3bYl/IZA2x9teT+o/foDT2bXQ2dM0TdM07TKnA8BF6GR5hL/jN3iKrWwt20XC6KWn8QbydhWD//IvC509TdM0TdMuc7oKeBEKGrcxOpLnx7wynJih9hAyiHDfXa8i3tVJ8stfxopEEEJM9M5dLGtN0zRNm0tr165l3bp1C52NJUcHgItQx0AdaeWzyTxDOXkcYRMYDvk45ONVDJ0+vdBZ1DRN07RLIhaL6QBwHugAcBGq88Z4TKxnT2EF/7f801zvHOKg086j6Q9T1/80ddF+Gn7/vxAEATDZm3Eu1i/1Wk3TNE2bDytnmg5Ve9l0ALgI/cfma3AME3vvMH8y9lvsin6I6+x9nAx6GY7dSMsT/x2x9nuI2hqEAIEKZ/GYTsywM2tV7UzXi7OPzWNN77xXIl+CWmqxFKZTO+/n9PI+yKXwGS2FFg+X5BXEEvhaX/YPuPx/5iorTaB9obOx5OgAcBHa2J3l2esb8M9k6e6v5QGu5y5+wVVlX+E+76/prd9O/uFBTrTvXOisapqmadq8um7kFNfr6YDnnA4AF6HXnzzEwRUW+Q0VyP4+/rrwy7wq8gvWxV7kF6kuuptuZtOhfyTdsBElTc77J+RL/gtTQOlfjkuh2GPCpXmXS/d391L62oBaYu+z5L7fltS/BbDkvj5L7OdHjhYWOgtLkg4AF6GObd/m+jNP8HjtB/Fbyzh2egVPBlu4Ue5lc/Rb/KLy94EoW57+h4XOqqZpmqbNq9rtv7vQWViSdAC4CDV13Eo0YhM9coCfrrsOozPDl7y7uNHey6ayx3k6+zucabyBNdU9rHjfe0GpcKGkU8bEmqn7TD8+/brp52uadvnTP8/a5Suyfv1CZ2FJ0gHgItQQtLDKixMZ6OKJ9n5yTTEe7L6afqqoM4ZpjzzI6YbrWfnsJ4hffwNGomyhs6xpmqZp2mVEB4CLUH2sivX5Fupsi1NHOvj+mqsxunN8zb2Dj1jfZkP0xxyJ3U0qvpKf/5d7GG1bOe9tcpbCQM+X5B3m++swr3cff4j+XjqvS/AO8/85XYp3mPcnzPcD5v/rcEl6Ac/3O8zv/dfvuIUNN94yr89YjnQAuBjVfRPV+SFWOSvZMfw8D8oM2Wqb7wzfykf4Nq3RDmJjg/Q07iBx+Ed0ZIYXOseapmmaNi9qWvQ4gPNhyQSAu3bt4lOf+hTPPPMMPT09fPe73+VNb3rTOa95+OGH+chHPsL+/ftpbm7mox/9KPfcc8+lyfA5iB+dZuB1/0nd6dez01/PI6dO858ta+gcquf5YC1XyaOsjfyEA3VvYd3xb7HyvR+AWGze8nNJWg/Nc5vDpTBg9SV5h/n+OlyK76Z5fsSl+V6a75eY39vDpfic5v8l5v8VLsE7zP8PxPzeH2hcq9sAzoclEwBmMhm2bdvGu9/9bn75l3/5vOefOHGC1772tbz//e/n61//Oo899hgf+MAHqKuru6Dr59O9V9zNq0eOcktZN5FMM2/qL/CzNQJlSb7t38JV8ijrYg+zN//rjJSvZ1veo+Ku2xc0z5qmaZqmXT7kQmdgrrzmNa/hL//yL3nLW95yQed/4QtfYOXKlXz2s59l06ZNvO997+M973kPn/70p+c5p+fX3jBCZ2YtJ+seAGCLs5rru3vxm2P82L8BH0lTpJ9y2Ulf/Xa6f/ijBc6xpmmapmmXkyUTAF6sJ554grvuumtK2t13383u3btxXXeBchVq7T/Ba3/4IzqPjZBPnsQMIvx6dxq/Oc4gFTzibwFgXeRHDNRswfnFbvxUakHzrGmapmna5WPZBoBnzpyhoaFhSlpDQwOe5zEwMDDjNYVCgbGxsSnLfIj2b+DwW1ew+tnTHK99DIBtuXpavCxB3OR7/s0ArIs9gW9GGC1fS3rXrnnJi6ZpmqZpS8+yDQDh7O79442WZ+v2/8lPfpKKioqJpbW1dV7ylbjjOepuOkzfr0UIHj2IE+vD8mO842Q/QVOM+4NrcJRJjT1KpXGKvrrt9Pz0vnnJi6ZpmqZpS8+S6QRysRobGzlz5syUtL6+PkzTpKamZsZrPvaxj/GRj3xkYn9sbGxegsDaUwP4zVDV3kHhqVX01j5O6+k3cdeYzf9aGyFzLMZjwZXcbjzPKvW3PGmvpacry8P3vAtpmAgpkYZx9lJMF8V9ARPjN00EvVP2RcnwTiJMEyVjSgkBomSEKSEm7rMkxnqDJTHn6eX/BiyJr4OmaS/N2utvZN11Ny50NpacZRsA3njjjfzgBz+Yknbfffdx7bXXYlnWjNdEIhEikci85+0/sptpGz7B5qphvDeM8PcHXuTjOFQUqnnPs/9Mp3mGf/fKecC9BpGAjJXFCECqPmSgMFyQBRCBQpZ00RdKAQKhVBgUKBCE20qFx6UqHlAgwtMnzi/t7K9KAsMw4aUOBXD2dfP7q/4c+TznK8zdUAfi8h+RZl7oj0XTtJn0HT+lA8B5sGQCwHQ6zdGjRyf2T5w4wfPPP091dTUrV67kYx/7GF1dXXz1q18F4J577uEf/uEf+MhHPsL73/9+nnjiCb785S/zjW98Y6FeYULGhK9n8vxZwiJRNkp7QxWPBM/yqtEdrIy18B9Njyx0FjVN0zTtkrjlaC/vWuhMLEFLJgDcvXs3t98+ORbeeFXtu971Lr7yla/Q09NDR0fHxPG2tjZ+/OMf8+EPf5j/83/+D83Nzfzd3/3dgo8BCHD3gWG2jK6id32B1o0nuKF2kOPHw+rqO0au50HRgevnicocQvh4wsAXgkAofOnjiwBfBATSRzE5EKgSCoVCFYugVFgEOJE2kVpyXI0XA14yl7Yc6JIMTFxK12RqmqZdlLgoX+gsLElLJgB8xStecc6R57/yla+clXbbbbfx7LPPzmOuXprcplUkmk3K4n24rk08nqJ+4x7cw7cSK9Tw7hWCjmQHNd4Y7aoXx40xULiO8uFugkaPIGKAMhCBAUoilJzYFypcUBICWazLLbb3UzAZoUyuhQI10fKv5Pj4x61Ko5rxKuHiSk29aqq5j4bUHN9zvKp85mdpmqZp866teaFzsCQtmQBwKclmWyk8u520iFLY+m2aNv2MWDzFsdFyNkah+rlf4bg7QK+Zp9fMI8w8yvAIzC2QdRGGgzAdpFVAmAWk4SIND2l4CBEgpI+QHtL0EdJHCg8pw2NSBAihECIAoZAEE43WhBgPr9RkWrGMMYwhJ88LQ7FiiFTcLzUlZDxHozhxjuuWjCX5UnNNh9uatlyNFtYudBaWJB0ALkL+WAeF0d0ADDwFDRskyfIBTsT/jY3Br1NvGngDB/ExEMICLBAWQsShuC+EBcIkHOlHIpAg5MR+uC0Ag4kevpqmaZq2yESqn4M3LnQulh4dAC5C+6rGWD0ahmd+HoY666ldeYbY+hdJ7x0hYVVSL8fozL44h08drwou3Z9lLc5zfMp6+vblaJ7zP+8fz+X++WuatqzJ+oXOwZKkA8BFqLf5FXzr7puwHYdoIcfVhWf5bT5H3YpOHuoe5vVjlURbbuVZqwrLLWB7eSy3EC6eg+W62J6L4flIFWAEQTjESxAUh3mZydnVtLPStXFzS3+emqZpszpYGV/oLCxJOgBchG7Kr6D+RYdstEAqN0h3fDWpXCXJ2AhDrXtgfxsbglp23fx6XHmRpTsTgWCADPxwu7hMtNsrjg84sWZ8DMHw+vF2gEJNW5ceLzlvXs3z7ae3QZxzl3v+NU3T5lksNbrQWViSdAC4CK3p7eVXh2sJ2+uF8xUfXnsNtP+czdHdBLyehG9y7y/SHHN9VhnHqLL6OC2rOSkbcYMsaVPgCvBQ4VoIPCnwhcADfEm4LSAAgolBYAQKRSDGh4ieLBssHfx5orywtDPwRPVwadrk+XNlyYY081xTu/Q+N121rWnLwfYhf6GzsCTpAHAROup2EcmMkrSqSFrVJK0qWrrvoLP95ySquxi0+6hzmtmSgi0YwHpgPauBWwGoXsDca5qmadrc2ReMLHQWliQdAC5CqY2necCT5IaiBGMSY9ijttdj65VVJCqHOVj7Peq6P4AbFNgz9BCWjGAKG1NamMLCGF8LEyEkEokUBlKEvYFn2xZClo7+x3gJiyjp+FE6qp/QvYc1TdO0eTbmugudhSVJB4CLUH74Bh7d0EBjY5qb5JNcUfkwluGQSlUBEG09gXcmj0WU4a29dAUjBAUTr2DiFCJ4rol0fQIFKhCoQEAgUGEzv7DOV4XzBAtV7CCixsfuK54zMZLzZL7ElLTSIZcnr5MT54riPMOlswjPT7A450HoS57XeOGc7xMQurpU07TLVKZpBW9d6EwsQToAXIRaR/bxhT/9P7ywdgNPXnk139vw18TFEFfLJ7gz+TPKywc4U/skLX23cXW0nJVrH1joLGuapmnavDDSGxY6C0uSDgAXoesOnsYMfLa/eIDtLx4A/h89NXU8ecVVpN5QSTI+wlNVI7T0wcDAG3h/8xupyo1wC3uIqDy9hS1U5M5QL/pIlJcRkzmiZDFFHkPmMYSHFC4GxbVwMQj3DeFhCDecCaQ4C0g4Z3BYfKjE+CwgJcemmFJkOIvzlbCNzyAy0xWXX+mcpmma9tKVO3ULnYUlSQeAi9DXNjr8+bpmVN9Bjp1uIzY4RtNgP2/adT8n25NwPbTIJ4E3smEUvvw3f01WuhSsCHnbxrGPk7cjFCybgj1Gyo6QtyIU7HIKtk3BtkuOh9uOZZO3bTzDJJBhta0x3idYSpQgXANKCJQUKBFW+IatBRUIMVF9Kgh3hVLFsaNVmKoUQoipw8sU98M5h8P7hwdniyDnrjpzoYZJWYgK2QV7Vx2za5r2MryrbIztC52JJUgHgItQzegmvtRyivdUOVy97jCf7/kKdUPHaO74V2LPFPCvh7KmftJPHiFRvo5Wow6v88mFzvYlEehOJ9plRMe+2mVlkf77euQNr4XX/OpCZ2PJ0QHgIlS5cTfvz+zloFXBNc4IZfFjDMotuIkh+vK72VzIY0cKHNv4C7Z1r+PYLW/gc2PXcuvQc/z/5A8Zzcd4JvUuqgf3Uzu0/7ylTRf6S2ox/NMgL8MOGpqmaZeFRfrv65ozgwudhSVJB4CL0CYvIK4U1zgjALyj/K94hPdzjKsx008z0l1NfVsPucrj0A1rvAqe21rHqUN1fCT6bcrJ8/PejQxXbUQOjODddQ3RnI/tgqUEti8xAzB9hfAChOcjPB/lOCjfh8BH+QH4PiqYXCvPm7JPEEz+g6EUqJI2gWoyrfQchZo8xtRzzrpWOz/9OV0Y/Tlp2mWr6YbrFjoLS5IOABehz0Sb+JfKPn4tlebOTJaozHJn5d+yM4hzTFaxr7MG2iBW04djpoh5STZEIhwlwQtBO1fLY7RYD3I4/msY/T4fKvsRhapzl99JIbGljWVY2NLGNsLFkhZSSAxhIIVdXMswTRoTx4QQE8dK1xPDj4iSUQSFKBlRcDJt3IznlWxPnHeB99EuL3psycuT/nnT5sstK65EdwOZezoAXIRuGj7Fv7dHeSYWpc71+W53N6aXpEyOsbk+y1rRxcNBHdFYhsHYIzSlXsvfH/k+g9GHqA5SANxQ/h+sdLuJXTPGF/oFXbVRUviklM+o8hhRLhnlF6d8G5eZMoXblOncJqZ4E1PSi32Fp1Qjl04bVzK64FnnzHzuOHEBedE0TdOWuiZlcGvLrQudjSVHB4CL0KtVggddnwHLpd8y+HJFFb96poWfZd7MhuhPWWE9iz+WQFamGK7ZR1PqtdTmm9lk75sYiTlp5kiaj0AMWh24tnth30nTNE3TXorOxo6FzsKSpAPARSiWHeJ/DPTxe421CAHfSSS5J3KAzpH/RqdzFcaZT5Ooz9JUmSJTNQQnIac28/uNH8PsGOIvrf9LTLg8n76bvKpm1eDDNL719QgnC24GnAw4WXCzTM74oWbZ5gLOeTnb429d0lbwQrc1TdO0Ja+lev1CZ2FJ0gHgIvTjlW/kptHbeVXup/w8/iNGTcXPEzYtI8/Tmb8By2pk9HgXTVsgXjVIKtpFMr+CzvJXsFsN8srgOV5rPEU6GGNP9h6yJ3JUrX430c2bF/rVNE3TNE1bBOT5T9EutTJ/K20ZkzcO3jVR4PX9snI2RR4FwE1sJN9r4jo2punSUfc4AK/sT6MqbHYFWwFYGT0IwEDNFkYffOiSv4emaZqmaYuTDgAXoaecgKwB69IWO/KvB+DpmE1ZdB8KhWdvRQQw1lcFQDpxHIBrRz38mgi7/DAAbLFGsBljqHozZx54eGFeRtM0TdO0RUcHgIvQxtiDPKV6APiNgbAUMBDwWLlH0uxECJu4a5E6HQfALO9FoWjOllFRbtNNLceCJqSAJutn+GaUsR4Pb2hoIV9L0zRN07RFQgeAi9DbH3yEjff/HVkJa9MmVxSuB+AnZXHWR8Ip34xIM+njYRPOsvJheiv2A3BjPkCZgoeDbQA0xsLq4cGaK0nv2nWpX0XTNE3TtEVIB4CL0CeveyuxzCCHOQPAa1KvA2B3NEJF9AUACvEteGmTXKYMIRQ91bsBuH0gQ1AdmWgHuNbuBBQDNVvo/fmDl/5lNE3TNE1bdHQAuAjtLqzlB6tvoWzvDwG4daiOMj+BEoIjlacQOGCtQQSKsd4KAArxLgCuGoWg2uYXwSYKmFSaBSrEIQrRaoaeO4Fy3QV7L03TNE3TFgcdAC5CV2cf42h9FTXHnuGU7RIJ4BXp1wDwSNyi0T6MECZxP0qmMwqAnewnEC6VTpTmsgh5IjztbwSgLvZjAIbL1pJ97rmFeSlN0zRN0xYNHQAuQk3DaTblDnC0poGBobDK97ZUOBn2Y7EYLXaYJiIryJwyAIgnRzhTuQeAG1MOQczg4WI18OrI5HAwI3o4GE3TNE1b9nQAuAg9Vhl2+hgth6Znw2rgLakEVW4FaUOSKXsRADe2ET9rkksnEAJ6qvYCsHMgS1Az2Q6w3RpGBnlS5avo3rV7Ad5I0zRN07TFRAeAi9Ad5ad45I7Xc2jlapzcCMfsPAA7sjsB2FPZhcAFqx2UYqy3HAAnFrYDvDIlCaojHFat9KlKLBlQE/lPAEazFTidXQvwVpqmaZqmLRY6AFyETqy7kl+s38Hj172S/soIoyOHAbgpHZYMPllm0mgdRgibqGeR7grbAUbKB/ClQ8KN0Bq1UQgeLg4K3RB7AoCB2i2kH3ro0r+UpmmapmmLhp4LeBFqO5ZGNAQcbdvM3tXt3L3nP+HGbVyVqibhxzlgK+oi++lxr8S0Gsie7ICdEE+M0FP5HC1DN3DrUI5/K7fYld7Kr7KL9XYPzxtZBmraOP2//oyBL34RIx5HlMWR8eISK9mOxxGxKDIaQ0QjyGgMGY0gimsMEyEFCAFSghCI4hohQQqEEOd/2bk654LPu5DnXcijLuG7zdV7aZqmXYaMqkrMqqqFzsaSowPAReiWin/iOTweZyf33foabt/zGTptjxbHZFt2C48ln2Q0cQTS4MbW4+e6yKUSxJJpeiv3hQHgYJZ/rY3y6NiVBAiazDRu3UMMk+C7b/klpO9jeh6W62I5LpbnYmUyWCMjWK6L7Tphuju52I6D5boYvo8MgolFKBVuj09crGmapmlzpPZ3f5e63/3gQmdjydEB4CJ0emgTr0s/yBOJWzjatpnO+irK8p20yNVcnb2Wx5JPcqDyNIkzPspeC7kHGesrJ5ZM48TDKeQ2pQyCNRGGj5ezP1jNFnmC9uAUL4grQEBgGDiGgROJzF3GlUIqhSguQLhdsqZ0f5a06dcx7R5TzpkWdIopuzMHpJPnnO/41HMmythmCXSnlMHNcM6F5O0l0XG3pmlL2ObAp26hM7EE6QBwERoe2YH54w1sfu1p9idXcf/1t/Jrh3ZD+2quTa+FengqLnmrdZR+dwOWL8PxANeMtwPME/eitJkmnYbg4WArW+QJVrrP0z18D6Y7yk31T1Dzu+/HcRSOo3Bdj3w+T6FQmLKeadt1XXzfPzvjQhBcaHWtpmmapl2A9q1bFzoLS5IOABchryyHmRNs2R9l/w54aMcdvOfHH6Ww5ldocCK0OA0cjvRSax+k392ALarJnOoFoCwxQnf1M7QO3MxtfRm+VmXzyOBWftf8PhvNYZ4UaXyrktST++h/1Wsmiq2UkgjsiSUejZCIR5AyXAwjgmHGMMwIphnFNKMgbISIIIiilA3YgIUQNgiDsPBOhYVhChQl2yXHpm+H+VHT0qevASbTEGJKSdj4pmDWArvJc2c8LlAzFa2p8bsy9XhJ+kxFckqVBsa6yE7TNO1CtbREFzoLS5IOABehoQpBMt3Hqs5Kyt0MY7EEp+qrKJhpNrgJrs5eRWfkp2TKjkEG/Fgbfm5gsh1gxUFaB27m5sEc/9yY4NmBdWSIkDAKxMp/Sm70VxiObCXZdQSvpVidKgIgjyIccsYH/AAIFuxjWFp0waimadpLkh7+bWDHQmdjydEB4CIkzX/nG9ty3HjqTWw7cRuPrC/j0auv5zUjR6HsKq7KbuMHVT/leHkHZh8EkY1QeJqx3mI7wNgZADakLVSNjYvJE/5mXmU8Rx1P08GvMFC7Be//PsLxFdWYEQPTNjAsE2lJpGUgpUCYhD19JQhDhY3YhEKaIA2FMBXSCBDG+DpAGj7C9IoB5bjzlX4Vj4vpx0TJ1uzHzr7uQpzjmnMGaxfQ/u+sg7rET9M07aWyc/GFzsKSpAPAReh5+zYC+SOeW/EzXnVsJ4+sh/tvfCW/+vl7YctVXJltQSjB84kcO+UAGVWLEUC6M0rDWoiW9+MaWaJ+nHW+4GREssvbyquM57jDtjheJsnFW4mLtxKL5XGCPI6bx8kXt/0suSCHGzgEzNDW77wkeohJTdM0bS6suUX/PpkPOgBchK7L30Bn+QNk7VFG7Ceoyd7OYFmC7FgnOako90xWFZrZFznNW+2DHM/fStSPkz3lAVCWGKWn6llWDtzCbb1pjtdEeaQnbEQbl4eptlwUUWi+hsrz5GW8nVtAgEIRqIAAP/xP+fjKm1gC5aMCP1wThO31iteF22ryjhP7xaeco6GeGu8tDDO0y1MwQ/u60v+fdaWaJf0cqbPnT82wtdQtnzfVLty5foY17eUYyY8udBaWJB0ALkJ3NP0pTlmB74/YPL/iZ6w/9Qqe2AR7NmwkZmTYECS4MreBk9EuRPQY5G+F6Ar8fHZKO8CVA7dw81CBL60q50R3I53U0iIGGMx/n7S3FUtGsGQEQ5iY0sIQFqawMKSJIcJvDVEMvQwMigmTdLs2TdM0bZ51ZrsXOgtLkg4AFyExmOfGWsX9ozAWHWBT51FgGw9dfwtb95+A2BauzG3hh1UPcCZ5EkbAja6HzBHSvUliyTRuPOwVvC5tI6psQLDL28o7zAfY3/x9/lUdpTIdoS6dwYpXYufAyPkYhQDp+FguWNhTAkNTjgeI4/t2uC8sDGGGk4AgAYEUgjB8DGcEEciJYPLsFw7Tpx6d+dxZ7zHbOWLqkXNtXdhzSq6c5d6apmna3CkI3RtxPugAcBH6rvMhrvhhFW9q/z7/UrWf/ujPKc9v4kD7emI/vhc2bmFLZjUo2FvewxpchLkKgFR3lLq1EEkM4plpbC/BhkLA0YTJruxW3sED3ODk+Z+tXSVP7J0xH4YwiBpRItImIm1sLCxMrMDAVAZmIDEDA9MXGL7ECASmLybTlUQqgSr2H0EphBLFwZwngz6hRHGwZ8FE5e0MtUmTQdk5qpouoBbqrD4Z6uwhX84K56Zdc2Hh3ksICnUtmqZp2hRbt9y00FlYknQAuAjd3n+Kk85GGk++Bir3c6p6L6t6XPa2lTGS7sYRUO1FWOHU83y8mx3WcfrcDUQ8SeZU+CUtSwzTXfUcK/tv5baeMV6sjfL4yc34CNo9h/fvfgV7KnsZLOuG5ggpyyflZyj4DkFx7Bdf+WS8DBky586w7vOhaZqmzZOqVVctdBaWpDkNAAuFAk899RQnT54km81SV1fH1VdfTVtb21w+Zsk7lazBHM2Rzbdyy+g6Hq08Qix1ALiO5zZtpM7MscaNsSHfxgMVfZRHDtPnbsCS1RSyA+TTcaKJLL3lh1jZfys3D7t8cX2CsZMJ9qg1bBdHudJMYvS9kWS6k8pHjpBIdxHP9WEXRhCyQJA08SrKcCviuMkoTjKKm4jgRE2cqIFjGxQiAscSFCxwTEXOCCjgUcAlr1zyygm7fQhFQNixIhjvFqKK3UqUmuhgUursrh4zDK58zpSZB3K+oPueVfw4PW8zXXP++2qapmkXL2HEFjoLS9KcBICPP/44f//3f8/3vvc9HMehsrKSWCzG0NAQhUKB9vZ2fvu3f5t77rmHZDI5F49c0oZVju2xxzmefSXXdtzFo5VHyPAAQl3LL7Zdz42HzoDZxvr8Jh6oeJKxshOQBj+2GgoDZM+UE12bxYn1A7AmE0VUWCgBu/ytbDeP0mI/xcHcq0glV5JKrjwrDyLwsLwshl/ASBWQIw5G4GD4DqZfwA4cKvxwXwZOeJ4/eY6c2C5MbAsVFBe/ZDtcQOlWdJqmadpZan83A1sWOhdLz8sOAN/4xjfy9NNP8453vIOf/vSnXHvttcTjk4M2Hj9+nEceeYRvfOMbfOYzn+GrX/0qd95558t97JL2fL6eVWXPI7Mu+cx6mtON9CT20zRU4PCqduSu70JzGxvzawA4WX6KeC/49joo7CbVFaO62A7Qtcaw3HI2pz0OVUXYNbyVD5nfoS55iL/dmaS1P2Blv0dNyqcqHZDIB5gBKGni2OWX9L2F8ottARXTh2oRUJI2eSw8tzRt+rklaRPp57r+8nf2oNmXKT2siKZpwMYBj7qFzsQS9LIDwLvuuot///d/x7btGY+3t7fT3t7Ou971Lvbv3093t+7OfT7JqM1+ZxXXRp/nTP467j5zDf+09kdUjZ6mu2Yd+aFT0AxrctXYgcW+RIqdcpicUY8IIHU6/LImkkP0VO4J2wF2D3Ogpow9Q2tIqyhVXooPPvS/eaz1d+iqVvRvMRiorKUn7xC4ipgTECsoLE9h+2B54bblKywPbF+VpFE8bzyN4nnh+XZxXyiQ5+q/IQwQSykU0zRN016uw+vruHmhM7EEvewA8IMf/CAAvu/z6KOPsnXrVqqqqmY894orruCKK654uY9c8gZWNfJIzUYyR59lwwFIDN6AWPOf+P7TwDr2rahhnRlQ5UnW5ls5GD3Kr1kHOR7cRDSIksvkKWRiRMpy9JYfLrYDDPg/LRH8IwaPBVdyt7Gbtx/bxSt/tJ9UooWEnyWx8WZkeRV+RSW56mrSleWkyssYLS9jtCzKqCkYkzAqFKNCkUUxJiCrAjJKkQ0U2SAg4/t4s46brJDFXsEyAFm6r8J91LThBkvuFZbulWyf8/iF36v0fovKIoyGF+XntEjpWQA17eV7+/rKhc7CkjRnnUAMw+Duu+/m4MGDswaA2oVJBCapWBk/b9vC1kNDFIJKrhhcx8GahzD8X2PPxiu5cWCUKqrYkFvDgfhxjOgJKNyEtOpBdZDrKSeyNkeh2A6wLRvDTJgoS/BwsI27jd1E1xWQBwpUjh0HIP/MtyfyIIHy4rICQEgwowgzhrBiCCsa7ltxhBlFWLHifhRhRcCy8E0LZVkEpoVvW/imSWDa+JaBLwWBkCgpUEKAkATFbSUkCMLjQoTpjB+bDD8CAQjBeKVuUMx46b6S08OV0jECxQzRzNQEJWYOd6ZMPjLtnLNaM4rSY7M7X6zwUmOJcz5TR3Oapi1yG9PuQmdhSZrTXsBbtmzh+PHjutfvy/Sqjj52rahhMFFJx6q9NJyo5Ka+7eyrPUztSIoD7etwju6FZBUbChuB+xkqOwWj4EXbIddBpitK5Xg7QHsEy6lky0iBvTVRdvWGrWmTMYcT/yOCt+d6yp5zWFsDGCb+yDD+yDBBJo3KZ0EF4eJmUW4Wlbv4dxLoMYc0TdO0i5d87W/AzX+80NlYcub0d/InPvEJ/uAP/oCPf/zjXHPNNZSVlU05Xl5+aTsVXK6+V/1NNmXvZG/yNn6ydj3vPKGwx7Ygg28Szx2nt+Zq6D8CyavYkAsHgD5a3kVVN2CthdxDjHaZrAASiUF6Kl9gZd9O7ugcZE9NFZ1n6jmtamkVA9x2uoMDN40w/Koou880EK3cQn3yNmqq1lFZ0U40UYMtJdL1UOk0QTqNn04TpNIEmeJ+Ko2fShGk0vhjKVS+gHIclOsW1w6B44LroBwXFYSdPVAKFQTF7aC4P7k9nj6ZNv2Tmj72ynn2NU3TtMuOVR8//0naRZvTAPDVr341AG94wxsQJdViSimEEPi+P5ePW7Je0dpDc+IbfETdQkd1A8NVR6gerqF9dDWdlU8BV9NJmiuBRidOlVvO/ng/rzF6GFONWD44KQsnG8WO5+lNvsjKvp3sGBH46yNYwIP+1bzTvJ9ELuD650YYqLboasowFO0kFfyE1CAwCPlCBKdg4ToWyjURvoWhbGwRwTTiGNE4ZiKBtTKBFSnHtGqxrCSWFe5bdpJIpAI7Wo5lRxFSIg0DKSWiuJbSQEg5cUzMUu06184a7+9i9y/gHB2CapqmvTxC6pkG5sOcBoAPPvjgXN5u2TrjXck2HmULz7OHa3hhTcArdsMNfVdwpPqnyOD9PL9hPdso0OJG2JhvY3dilN+yXiTlNxFRCVzSFHqS2GvyFKJhO8DWQhkR20DFJbvyW3kn9xMUO0nUDrnUDrn4CAYTNqkKg0yFQS7qkY9JvKQ4q63bOAU4xQUAt7hkp57nu5LAlShfhIsSKB8IBCoQULodUDKyiwiHdVZiolG9Kk4pp4r5H98vvQbGO3pMdBcpHp/pPUTJaobjatqpqnTnXGZvAHi+As2z73KeZ80Un577ipdpDgP1xXkrTdMWgfoVd3L9r/7ZQmdjyZnTAPC2226by9stWwfk29mc382t0YfZwzU839zCTvLUjF6FCH5A9dgI+9esY+TgAC1iBWvzbTyR3IOKnoT8bRBtBu9Fcp0xkmvATgzhRAaxCzVsH8jydE2MJ05vxkNiFifZVgoCJTCkoj5doD4NlEwX7ClBHhNHSFxZXIxw8Q2Bb0JgQmCVLDaoCPimwJcC3wjwY7MHkpqmaZo23f69T3L9QmdiCZrzdvkjIyN8+ctf5uDBgwgh2Lx5M+95z3uoqKiY60ctWXfs9+ktu5XtWx8mqrKkYmWcauqnraeW2lw9KfsYx1quJnjs51CzgrWFdQAMJE7BCLiRteC9yNhpk3ogmRzkTOULrOy9nbtPDfDk6noyp2M8q9ZwvTjCV/3bSQRwrThKqzg9JT5TKozXTKFIUOyJFRQX76W9n6cEvpIEiGkL4VpMpkGxV2+xZK50KOjx3rbjBXwKMWUcwXAtSq7nnMVDF9oLV4jzz1ty1r3EeY6fpaQJxbkPX0wuNG0G+g8ybXHLFPS/ZfNhTgPA3bt3c/fddxOLxbj++utRSvGZz3yGT3ziE9x3331s3759Lh93ls997nN86lOfoqenhyuuuILPfvaz3HrrrTOe+9BDD3H77beflX7w4EE2btw4r/k8n/+o/3tGzB7WuB7XW79gF3ewv03Q1gPXDKzh54mn8Y3rSKd7oAbW5ppBwYvlPTQQgNUGSpHO2Li5CFasQE/iKCt7b2d72iSoigCKh72rud46QnPZc7w/++cop46Ym+dq/zjXqC42iX4aZYYakSZppLBlFlPkMEQBKQpIHMRLGOjMFApTzGF7UDXLtqZpmnbZa/D6FzoLS9KcBoAf/vCHecMb3sA//uM/YprhrT3P433vex8f+tCH2LVr11w+bopvfvObfOhDH+Jzn/scN998M1/84hd5zWtew4EDB1i58uy5bscdPnx4Su/kurqFn3BmQ0+Kx1cFPJe1uKHiCXZxB0fq6gjIsWb4Cv5z1dcRSnG4wuQGFNVehBqvgn2xftabnYx6K4l6krylcLrLsNYUKEQHAWhyE5QhcCssdo1t5Q/5N24ojFLd/jfY6Wvo6Xojj4vNPM7mKXmKBnnKVIYylSUWZIn7OSJ+nrifp9zPkPSzJFWOJFkqpUO5dElIh7j0iEqFKcEWAaYMsI0AQwQYwkfiI4WPJECIcBq4cAlKgktV3FYTZYCTo/9RLDssNb187gLL9kqHCDzntdOmkrvsLYV30DRtqZJG2flP0i7anJcAlgZ/AKZp8tGPfpRrr712Lh91ls985jO8973v5X3vex8An/3sZ/npT3/K5z//eT75yU/Oel19fT2VlZXzmreL9fbmDM9LxZNZwf9XsRdb5UlH43TVDrN6cC2m71CRTnGwvY0zYw4rvAhr8yt5OjFCvfUio95KLFlJnmEKHXHK1gwRLRumEOshkmvixjNpHqqNsX90NcMkqFJpNhcKPJ98hoZNz9BGDaSvZCi1jt5MHaNOBXmi5FWUQWrCUaIlYJ3/XQzhEREFbOFiCRcLDwsXk8ltCw9DeQilkCqYXFCMVxRLwmOimD45hy8INR4cinAu4ZKeuJPb4VR0kwHk+EwhqrSiuWR2EXX+4O7suHEyeYZLLyhYvIjRoC/kfhcaoF74eZqmaZfWtmtu4G0LnYklaE4DwPLycjo6Os6qQj19+jTJZHIuHzWF4zg888wz/NEf/dGU9LvuuovHH3/8nNdeffXV5PN5Nm/ezJ/8yZ/MWC08rlAoUCgUJvbHxsZeXsZnsf2a32PHiU/xQMqir+CwJfICz3A9R1p9WgcSrEi10hM7zeFV7Yw+M8gK2Ux7oZ0nk3vxYqcgB0GsBZxhch3j8wIP0Fu1j5W5Jl59apCfX9FEcEzyqH8lv2T8gl/pruZ4k8VYbIT9DELZwzSUP8SOqMcK0yAaJLD8cgpuBWNOgpSTJOtFybkxsl6cnBcl68XIujFyXoycF0Uh8ZVJVpnTOwS/NAIdgWiapi0zw2NP6gBwHsxpAPi2t72N9773vXz605/mpptuQgjBo48+yh/+4R/y9re/fS4fNcXAwAC+79PQ0DAlvaGhgTNnzsx4TVNTE/feey/XXHMNhUKBr33ta7zyla/koYceYufOnTNe88lPfpI///M/n/P8T/fMHp+rhMVDKHbnDLZHdocBYGOSO1BsH1zHD2v20t34VtzRfVDVPNERpC/RAUPgRdaBs5eRdISGvI0ZdeiOH2Mld3Jl3kJV2GAodgVb+SXjF1zverxtz8c5Ub2HF2uf5nTVIXr9gN7MeDFfFsgS8YeJ+zHiKkKZtCiLGDREFRHTJWb4xEyfqOESNXwMKVDKRCKRGCgMXBXB8S0c38YJbBzfpuDbeIFBoCS+Gl9LgtLtYOoxEARqohwvHFJmvCxPyYnyvDAdUJOVy+F0w8Vr1WQa4x1P1GQHlAuhLnA+tdk6jsw8XvXZ556v48n58jRzGd/sQ/ucnaijb03TLr3yeOH8J2kXbU4DwE9/+tMIIXjnO9+J54VdRC3L4nd+53f4q7/6q7l81IymDyA8PgD1TDZs2MCGDRsm9m+88UZOnz7Npz/96VkDwI997GN85CMfmdgfGxujtbV1DnI+VeOadRz9j2rWX9vPvpzB71Y+A0BfeRWj8TO0jG6gwLdQ8tdIZfugqtgRBDiSOMMKPJTRglAK15R4PeWYbQMUIiMA1PrlVHqKTHWER/q3gAX19hFM2cXawe2sHdxO3szQU36UnuRxBso6GYn1k7VHKRgFCkaB4dky7xeXGQglMAILM7AwAxNTWRiBWdwuLoGJqQwMJFIJJAKJxFQSW4XbAjHlmFSCcC+sBp7s8Bv2Ci5OGTylAHH8PDExXuD4deFWWHU8LVVN3LXkKSXvN3WAQEqDq3OFTucfSfDCAq+J589wujhH8Ha++4tZtjVN0y6F8uzc/57V5jAA9H2fJ554gj/90z/lk5/8JMeOHUMpxdq1a4nH53cal9raWgzDOKu0r6+v76xSwXPZsWMHX//612c9HolEiEQiLzmfF2r9jbfw8Ndb2SL6+HfPwHHHWG0d56Ro51izR9XR1VjOAJFCgcPlBjehqHejVHpJDsYcrjA7GPbaiXomOcsnOBmBNojGR8iXdRDNrOS2zjF+WBvjTH8Nx4IVrJFddK79BFce+iOGRRt1Y12s2roX30lQcK6gMFhJ2o0yGgTklE9O5CmIHHkji2vkcYx8cV2Y2C9NQyiUUHiGg2c45/8QNE3TNA24cuRufmehM7EEzVkAaBgGd999NwcPHqS6upotW7bM1a3Py7ZtrrnmGu6//37e/OY3T6Tff//9vPGNb7zg+zz33HM0NTXNRxYvimFaXHXX6znQcQijOs/enOQKay8naedkg8H2ozZN6RaCzBn2t7fRN+zS6NmsybfyfNkYjfZhhr12TLMa6Cd/XBK/HZLlA/RWHGBVZiV3nh7hP65dAcBDwRbWyC52OAGfuvbL3HTs12l3W7n6ituJJntIZQ6SKTyIE/QyvXIwnK7XJHBjBF6UwI0SuDFUvgaVr8LN1uI45WS9CHnfxEGEs4YocPFxCXCFhys8PFw8GS4BPgEBSobrQAThvgi3FX64LklXqDDQLOZRlfQUDo8XU8X4VnEQ7OnXTOyracdLr508Dswwzt/snSqmHjt35wt1zmF21AxbM6ScM2/nm7rupb2jpmnaXCk3YwudhSVpTquAt2zZwvHjx2lra5vL216Qj3zkI/zmb/4m1157LTfeeCP33nsvHR0d3HPPPUBYfdvV1cVXv/pVIOwlvHr1aq644gocx+HrX/863/72t/n2t799yfM+k613vobn//jLbGzuZH/O4BXlL/Aj3sip2goCcmwdXk1P3SEOr9rOSO8gjbKJtfl2nkkcwI+ehCwEsVbI9zOailLh2Bi2Q3fZCVYBmwo2Km5CJGCXu4338hNekYbPRRr58aYvsK15C6Pf3s6+ymupX3kHjY0J2usitFSkqLAGico+fK8Xx+nHKfRTcAbCbaePIHgZ7TWURBLFIIpUxYUoUkUQykIoE6EspLIQKlLcL6YFFigTGUymhWsDlERQXE9sG+G2khPpYEBghFXKSk47J0wfH1laFNsLKsKp60SxTSITa1W8DihWXb/0z+WlX/pyh3mZuY3iJfKyn/0yb6BjXE1bcImbmhc6C0vSnAaAn/jEJ/iDP/gDPv7xj3PNNddQVjZ17J7S8fbm2tve9jYGBwf5i7/4C3p6erjyyiv58Y9/zKpVqwDo6emho6Nj4nzHcfiDP/gDurq6iMViXHHFFfzoRz/ita997bzl8WLEyytoWrWTK/gXvuVIVvqHMAyXdDTOQMUoq0fW46pHGa6+C2dsL1Q2saZ0RpAhcK31kH+WtG3g99VgtPSQt0ZRBFSoJA15xVBNnCe7N+Iok3JjgN848iYeqTvKUyt/xJ5te1mbe4Drem/gyuMbiBUaGRXQCaSpI2/UEdgGMmJiRA3MiIEVNYjEAmKxHNFYmkgkhW2nMSMpDHMMxAhBMIrnjeG6o3jeCJ43RhAUq4VFQECWgOwSbXBWbEEoBOFYOuPbAiHktOPhOTO3Y72QD2eGdopn3ev8954xcL2g6fxmayd5vvssyS+8pmkvUWvLb5Hg3QudjSVnTgPAV7/61QC84Q1vmPKLZrwzhu/P4ewPM/jABz7ABz7wgRmPfeUrX5my/9GPfpSPfvSj85qfl2vjza+g74n/IKjJ01FwWB8/zEGu5FhzQNOhNgznawilGMkPALA2H1bpHk0MUIODMBqRgcI3BMbxCLRALD5KLnmceGotr+wY5l9rY+S78zytNnCz2M/KyB62nnkdG/tv4JmWn3Cw/knubfwWAOVeGSsLTbQ4DTQ7dVT65VR4CSryCZKZMqKBTVRFiAQ2BhJIFJdJHoocAApfgJQCe7zQzFAgFUoEIAOQfrgWHlIGCFEcLFoEYd9fESCED+MTyYnwHPDDbQIQPmExzvjA0uF54TVq4tjkOIBT0yaumXL8bHNaHXpBs6vMZdGULubSNG3xGkgVWKn7gcy5OQ0AH3zwwbm83bLXfvV17Pr3Slobu3ixILkivpeDXMmpOosbD5rUZCpxM8McrpDsBJqcOEmvjIORAm+wTjHoriPm22Ski3cwj7EzbAfYX3mAVam1vKInxb+0VQKKXf5Wbpb7seLPMJJ/NZV+jBtPvZkdp17HcNWz7K05xPHKw+wrO8q+sqPnzbsdmEQDi6iKEA0iRIMotrKwAytcKxOrZNsO7HCtrGK6ia1sbM/EUiYGBoaSxV6/YV9gQxkl2yYGorgvJ84VxaraKT18i1thh9npRym5ZmoP4NL+vxPHzrr/1HtqmqZpL88xP7fQWViS5iwAdF2XP/uzP+OLX/wi69evn6vbLmtWNErzyttZb32NfXmDN3EAgK7qJAFZNo20MVR3gn2rV9E/4FDn26wptHAwlqLJOsyguw7DrgF1htGRBDWujWk5dEdPswpY78TAkhgxxa78Vj7GN7jG2M+7kxk2OFGuLpjUBTbVwzu4bXgHtwHSHKQQPcNorJexyBDD0SEGooMMRIZJmwWUDPPuSA9HeoyxvH9wpZqlCvUcZqwUnaWQ7mLuPduZMw9pc3Fmyt9sebuYe8/FPTRNu7y90d3Kbdy10NlYcuYsALQsi3379s067p720qy78TYO7/0mP7d86r3jGKZLNhJjsHyE9cPreNh/nsOr3sxwzxB1spE1+dU8X3YYET0BWfBiKyF7hlTEoGqgHqOpk5yVIhAuCRWnNas405Dk0MlWBqigVozyN85TfDHYxlcSCZoDyTpX0uYa1AWSwKvBStdQm76C2ml5lXjYMo0lMkiZQ0mHQLr4MsCRCt8IcA0fx/DwpItrFHDNAgWRwzGyODKLKwu4wsWXHp7w8KSHJ30CFIEoLigCwWTaxDGmHPNFWDVbHL5vSr/dYj+OeReI8ae9TLPmVVffapq2tPnLvCBhvsxpFfA73/lOvvzlL1+SQZ+Xi1VbrqLiR0lia0c4WXBpN49xhI2cbAzYcXQNwv1PBurfSz69H8obix1BfsrA+Iwg5nrgKTIRgX0ihmqCWHyMfOVR4sObeFXHEF9pTGKczLDLv5K3GI9xS7wXb8jlVNak25YcMlP8v4SFgaTOl9QFglpfkgzExBJFEGCSDyrJUznrYNAW55tCOMDAxRDFBQ8pPAw8BD4SHyl8Suf0ZcpWyXwZoqQESYwP7AyIqTMCh514ww4YYXpxJpHi6NElMwRPBpJifNDn8evDu40Hlar4PDU+MLOafq/SfE+2LJzocVuSx8n2hdM7UExuzhoGiun3KE0ez+w57lVStHfWM9T0DVHyZZi1yHLGe6nS42fdd5a8nesB2kukPz9t8dm0eXpxgzYX5jQAdByHL33pS9x///1ce+21Z/UC/sxnPjOXj1sWIvEyys0trIk8xIsFg41lBznCRk7Xmlz3YoyKrE/WyTPiDALQXmgB4GjZIAlRQMg6DD/sCGK+MIp7E5SX99NXfpDVw5u4YSjPP22owcRnl7+NtxiPETOe45qK36IydQCZj9JqtfJKxyNr5hg1C/RJRacp6BeSjDDJYmIiiCqIKUE0EMQURJUgpgQRBXZxbSmBDUSUwFYUj4FFse4YiU8EX0V04ZamaZqG/+RD8I5XLnQ2lpw5DQD37dvH9u3bAXjxxRenHNNVwy/dqm2vZFX2YZ5wBb/EAX7Am+mqiQMuq8dWM5rt4sXysCNIaz5JJLA5GLG42zzFoLueWBAlbRRI9UWwPAvTdOmOdLEa2JCLIwRYScFjqSsBsOUxhBphTXIz9dFhnhv6Mb2eSTxyDQmzlhXA1YQDKftmFs/IkDfzZAyXrOGRsgPSQEGYjCmTvDIpYFIo2fYwpryjUGHJoKnAQGCq8JvTUGAW9w3AVAKjmD4+aIqE4nRwJWmq5BjFUfjU5D5MmxquZAa18bJAUXKOKEmj5NnMcHym+4pp5083c9r0aeWml3pe3P0o5v2c508pgZvtPqWlrYvz53px5krTtJfiBVnNHQudiSVI9wK+DLRffS1NP4gwlPCod48irICReJLRWC+bhtt4wd3P86tbGT3jURGYtOVXcDiS573WIQbd9chILQRdjERj1AzWYjT0kDczBEaepB9lXSrg2MpqcvslB9RKNosORpr+ikj3H5O0qtjZ8EaGC2c4NPoUXaPHUUYcRC3CaEKaK7FlLVEpqSzJsyLAN/IEskBgOATSIZBZAukSSAdfOjjSoyAVLhIHA1cZuMW1g4GPwFeyWPEbVgB7SlIo2fdVuFaI4sAugolBXpQoDhBTekwUB3O53EKExVQceuEzmWiapr1cN0XrFjoLS9KcBoDjjh49yrFjx9i5cyexWGxiHEDtpalpXUVVfyWxZD+dhRwt1mlOs4qTjR5Xd67FD77Diyt3MtQ1QoWopb3QyqH4CYzo8WJHkFWQ6SIdETR3+AQNEI2lyVYdIjFwFbf1jPLiqgosYJe3lc1WB9X2EQ6+6g+peuFXqe7fSVWkkRvr34AbFOjJHqc3d5KBwgHGcrsAEMJAGBEQUZSKIUQCIcuRRiWGqEDIGEJWgoghxLRvO6HACMf+U8IH6aPE+BKgCAiUT7G7B4Eqju0nFeP/TS22mt7do/h/MZmm1GSnkECI4p3DBn7jo/0FjLfjC5vwzTQSYFAMJCdHCiy285t2fjCxPZlbMX5ucWd6UFq6P2ubOc6+7uzj049d6H3Hnd3Scj4sxVDy8vtDQ9MWnysrkwudhSVpTgPAwcFB3vrWt/Lggw8ihODIkSO0t7fzvve9j8rKSv7mb/5mLh+3bAghqKm5gTWR73O0INiQOMBpVtFRJ9l2opF49gxn6srJZl+EslrWFNYDuxiMFzuCGOuBx8lEBObzWZzroLy8j96KAyQGruL6fvjHDQZJkeOB4Gru4YdUDQQU1hQY2v41RpzvUHnqLhJddxBzkqxMbGJlYhMAjp9nzB0g5Q6T9oZJuyPk/BQ5r4+8cwJPOTO9EQiD8NvPQggLhI0QERARhIiCjBWPmQhhYmKAMAGjeK0RXocByGKHhpKZNM5Km2EfcXn9YTJ7H5BZEl7KPS7+8zjvJXORb03Tlq3NKxsWOgtL0pwGgB/+8IexLIuOjg42bdo0kf62t72ND3/4wzoAfBlaN9/Oqv7/4ImC4E4O8jNeQ3dtDAhoTK0gkxlgyBmCMmgvhNPfHU8MY4o8QlZh+QrXEPhHLQLPwLIcuq0zrAGuzBpEPYVXG+XZ/nWkVIxkkKPriRs5UWmzc+XzDK37LkNrv0t0rI1E33bMkStJjLViE6XWaKE22jJjvt3AIe+nyfsZCn6OQpDDmWVd8Edxg3yx5G0hXHjrvNn3ZzkmZrvXxeTlUlhuz9U0bbHr2nsjvGXzQmdjyZnTAPC+++7jpz/9KS0tU4OBdevWcerUqbl81LLTesUWGr5vMxT1WOEeBhv6E+XkrEE2jqymwznC0aTgVqAtV4VUkoMRi9vMUwy6G4ioOC45RhOVxAccaMzgSgc3OoCVr+WaIZfHV9cR6R/gMfcKXm3vZh29HB+5iTOPxXDXXENZy1O47QdZse7bwLchkEQyK7AyjVjZRmR+DdF8E1GnHDMfAUdiSRtLVpO0qi/oPZVSOEEeJ8jhBoXi4uAGBbzAwVXT9oMCnnLxlYevXLzAm9gO195FfMozBZ5zFIwuxfpNTdO0S0D5ZxY6C0vSnAaAmUyGeDx+VvrAwACRSGQuH7XsVDY0UdNXgblykMHCKLVWHwOintP1Du1D63CDX/D0qp38WndATElaCw0ctDv5Desgg+4GZLQOvA7GYhaVpyReI8TLRkjXvEBV1x3c2pPnsS1JLOVyP9fyanazLjjGg/ImTlxRS1kqQ37/W/j2CY++eIoNVUdZW3WS1souVtYeIGE+fVaehRfBdCpQTjOm10osaKRM1RENqjDdJMKJIvIGKidQOYXK+wghiBgxIkZszj47JRVKKILiPMOBCIprVWxjWLpWBAQoocI2h8X1ZJoiwA/vUdxTKjxO8UyFIlBhS7+w7eJ4i8Lx9n/j28UUMbUtoxLh9RP749HjbIVks425N9vpF3Xyec6ednzGsy8yf+d+3EXcaw6fq2nawlm/4+aFzsKSNKcB4M6dO/nqV7/Kxz/+cSBsuxYEAZ/61Ke4/fbb5/JRy44Qgtqq61lp/4gjDqznEAPU01Ev2NC9Ejv/dQ6v+i0Gu0ZpoZI1hZU8EO0hGjkGWXBjqyHVQdoWqOdMuCEcD7B77ChV3MF1QwqkQFTkeWhsGwDNcgDlHkNYa8gkB8jGR7k518D33Uqe7dvGs33birlTVEeHaU120VjWR2O8j4Z4Hw1l/VTG+yDeh8fz5IHhc7yj68XwCnVQqEe4VRh+EuknMP04hl+GGcSw/CimH8H0bUzPwPBMDN9A+hIRCKQvkD6IoKTjQhDOzSt9YNrwM5edifFkxOQ41kKclYYQYdu84nZ4rSieX5ImxcSh8eOl9xLTq67PVSM+W2PAGa8RZx86x3kXds+zD854+ZQae131rF1i+lvuosXr6hc6C0vSnAaAn/rUp3jFK17B7t27cRyHj370o+zfv5+hoSEee+yxuXzUstSy+VWs7P8RBwsG13GIx9lJZ42NUpL6VJITdYJUrh9ilbQX1vEATzJU1gHD4Bthx5CsLbBe9HHyFkbUpUuMsln4rHIMGnMBA80VOGMBh50WNtidbB/Zy6fqr+H1mTPk42AmOnmD6qGgDFwlGSFKTtnkXYv8UAOHBlewD4mnDDxMpOlSHh0hERmjIjJKdXSEqugI1dFhyu0UCTtDwspgSh/LzGGZHVDWMeW9FeAVl/yFfliBRAQ20rfCdWAjfAvp24jARvg2QpmIwEAEJkKZEJjgW6jAgsBEBCYEdrhdPC7Gl/FrlYkMDFASoSRCGQgEQsmSNImgZLu4UDxvfJETIxSew0QH59IZOmYu6dLlX5qmLQXH5Slu2P76hc7GkjOnAeDmzZt54YUX+PznP49hGGQyGd7ylrfwwQ9+kKamprl81LK0cvNWGn5o8ZDls9I7DBacqSzHF2O0jrVxJneKIW8EgPZCGwDHykYQIo+kHNtTOKbAtaOYvT5qlYswXfIVx4mNrGNHv8v3GuoxD53hx+J6NtDJ9WqAhLkbeSxGbf0WhmozWEYBS4RzvUXxGZKKcsMlLnxiQQHbdzFUMJlxN1xUysangSzNpIpj+o2P8Yf0MK0CpuVgWXkMw0NOLD6m4WIYHqbpYkkHU3pIGWBID0MGGMLHlB6G8DGkjym8cG24GGYOQwQYMmBRm5i0OAwkxwNIVFiCGc4zFwaJYnxbAcjiCDfhteGWnHo/KB4rlrwVz2MiEGXa/caLKUqC0inztU3dFlOizXN1imHGSZjFTNec754zHJ9655K9GSd+1kUxS4/+mi5FR4wN3IAOAOfanI8D2NjYyJ//+Z/P9W01oKKhkcbBBDSOkS90EzczZI0yumsd1o2086S/h2OJRm4G1ubqQMHhiM0N5kkG3Y1ERAKHDEPJchpPp8mtgkRikNGqvcRG1nHTGZfvrYxAbIwH81fzYb5DfVWauw8e4fro68kd3ssh9WsMxIc4keimRYwSEy4rgtFwoDvCZlcZYZMyYqSMCBk7St6ycCwLzzYIbIkQYKgAKwgwlMIorqVSGCpAqvF0H8MLMNwg3A6CksXHUJPbUinE+EJ4r5lHx1MIES6l20IEIIpDRJcco2RbFfeFKB1bcHw8P0U4f29xtD8him3QxJTxB0vPD2sfx9v3TZ3lQwg1OQphyXkzXTN5VUm+mBoSTT3C1N+TF1BUOD1+Eue9aPbpRM49amHp53Uh50+79wX8/l+uJaPL9b21y59TWb7QWViS5mUgaG1+CCFYkbiaWvNBjjqKtWWHeYHtnKpT3HpoDbg/44mVW3nHaUXSN6l3qzloe7zVPsCguxERqwfnBKmopHxfGeKWLMnkEJ2jHTQC148GGIFC1fjs7WxjyE9QbaV5Q+cA/Ztsavfvx/Bd6rI1PGelebyqnSoKNLkj1PppalSauPBI4JDwHZp8YIZhAH0lyAmLrLQpSJu8aZE3bQqWTcaOkI9EyMciFKLhdsGycQzz4ttrKYVUwWRgWLIvp6RNBo6ieB2MN4dTk/EWUwMfUayKFbPuTx9KWU3ENuP3Gb+m9J6lIdvk1eMXFkvrJmK+C/u1XnKHc5SRTJ5x9jR008/hrIjiYochnPqEmd9jaix4/jfQNG3puVZ3Ip0XOgC8zDRveA2rB3/OsYLBBg7xAtvpqrVQQYyqdI6jK1oZPJ2hgQRrCq08kRyizD4GGXCjbeCcIG2DeRIKY1HM8jwjysE30yS8BJvHAg421SM6XR7gKn6FR6lszJF67P8Rq9xAY+9TdDffwo58FCf2JfKFAtGRKxnLVXNSJslEkmBHiFo+5RQop0AchxguMeEQFT6GUGGQGDhhyeEFjtTiIvEwcKWBKwxcw8QxTNzxxTTxDAPfMPDMcO0X15408KXEL66n7/tCEEhJIGQ4M4iQKCEIhLj4wFPTNE2bM1s6O85/knbRdAB4mWnZtJXmn5s8oxR3BofBgO6aMgLyNI2tZqhhlFEnRYOdYE1+LU8k9zAaL3YEEeuBB8jbBpWZFGO9ErccLLtApuYA5b3Xc2O/y961dVjmizzgb+dXjEeJr3CJPO/iDR1h5dgZuptvoaJQwyfSW3mmdxsnI4N0tRygEOmgbThB82CSWFqRUnnSZpSsEaffiJExYmSMclwrijJNDNPAEIqI8IkIjwjjay9cF9NMEdYvWwRYBMQCN/ww/EvzmU+WDYqwapfSoFAUe9yKsIZXTM4uMt6hVpUEkFO2i2epYvHc+LGJfh4lz6ekRnm8UHKiWra0UK6k164qKTGbfcq34rli9vI4Na3kbXrTOzWR97Mqmmcs1zvn9GilzfbOcZ+Zpqm7HFx0New5Xu8lVenOdtHl9TFqy8zWmsaFzsKSpAPAy0x1cwsNwzFUZQ4zfxIj7pG2yxhJplg72s5B9xCDXhnYq2hz1gJwLD6KEDmkjBN1IW9Bf0UttZ1nGFoXTgs3mD8YBoC9Lveui0LlMI8MbMVTkljSQTZVQ88QEd+h7di3OdH+FrzhM7yv9vPkmm5nIH4LJ3Nv4UwhRp/fy+mqQ2StUSJ5RV3KpCwTILxuAn8IVGrifRRQkDYFGSUvI+SNKAUZYVhGGLXjpM0y8kYM14iAYSKRSCEwBBgoLBkUA0MfU/gYKAyCcC2CyW2C4v748QBDKEyCsM0gCkPMUg1JyQzAJc35zmd6IHf2faeuNU3TtLNlynUn0vkw5wGg53k89NBDHDt2jHe84x0kk0m6u7spLy8nkUjM9eOWHSEEq+U6omIPxwsFVsePc4z1nGzw2NaxBt//HsfjN3MjsCYfzp94MGpztXWSQWcTtpkkT4qReBzjcCXqtkHi8RRdRh9twOaMosIJcOtjpAbi7Fbr2CEOU7/jWvqfOANnXqDt9ANEMgfYt+Y21tkmlZ33sVLcx0qAylWwZitBw1YK8avIymZSop6ewSxdJ3vp7RsmM5pDZjysvAvBKGYwRjxIo/w0yh0GleFCyzcU4AkTV1g40sKVFq6w8IRB3jDJmTYZGaEgIxSkhWtEcEQUT1h40sTHxBcGPiaBEChhFFvAiYkh9CSTQ+SFfWbDMiwpwsBxfAnPDSbaCk5ZCzVD+kxpxbW4sHNhWrvEie+Ts9sfjm9P3588b/a0Kfc+u/yw5LmlX5mzzUWwe/4OKAv/zNnvc+mfqWmXu0Pd2YXOwpI0pwHgqVOnePWrX01HRweFQoE777yTZDLJ//pf/4t8Ps8XvvCFuXzcstXc/jpWpZ/jmCNZz2GOsZ7TtSbbjzaSyHTxZEsNv94JDU6UpFfGIdvljdZ+Bp1NiFgD5FOko4KKMyb0xzEaMuQJyCc6iKZXcvOAz8/q1yAP9vNT/3p2yMNE1cPEbvhbnCP34Rz8Hs1DZ2gY+RaPn2yje0UNlZU+1fRSPpinvOMJyq2HKDMdyg2XGhmwOloJyUZorYdNDVBWT96q5UyqjjPDKxkYthgds8mkLJysAX4BFWRQKg8qH66DPErlJveVg1IuFg6mKhDz8+ClFuwXZzheoYEnTTzMsJ2hMPGEEQaZJUsgJD7j+5KgmBYgCBhvf2iE+8V0VbotwrAzEGLiHFWsolbFauXxsHEifBSTId7ECDHTQriJ6uaSUGX6OaXnTT1evClTq7Onhz1zWX177q/0Rd7/nNWt819OeymeoWmXo2ZzeKGzsCTNaQD4+7//+1x77bXs2bOHmpqaifQ3v/nNvO9975vLRy1rrZuup+UX8JAr2REcAuOX6K6NAIrGVAunGssY6sxRTYw1hRb2xNNUFTuCFKLtkD9K2lY0DI5S6PRINUBZ2Shjtc8TTa/k1l6XHzcniCf3cH/qWv6UrxGJnKDwwF8gV72e2G3/jcKef4Hh47T3j9A2kGKgsoJTFRW8kGwkkFMHNLaET9x0iBkucXOAmNFDzHCJGj4Rw6NCejQYHhHpEbE9IlEPrAry1ipSopUx1ciYV0vGqyTnNZN3Y+TdKAU3gh+c/S2slA/KAeWicED5gBem4xX3fZTyAL/keOm+DyognMItABWg8Iv709fBxPnj1cs2CqG8Yj5K643Hq5KLw8uMp5eco8MATdO0ScOrWxY6C0vSnAaAjz76KI899hi2bU9JX7VqFV1dXXP5qGWtbnUbjfdF8GMeifwxKIPBeCVZu5+W0TZON51i2Gui2oyxJr+W58sOMxo/BcMQsA6hfopjGbjSpLZjjNQ1FhUVvXRmj1MP3DjgYQaK8mqPzrE6DqlmNopuhlf2kth9LyJeg2x7JdbaO/GP3U8wdJy64SHqhiGQBmPJJP1xk1TEJBW1yNgWo26MUffi5vc1REBU9mAbp7Fl2BnEkj5lMqCyuG8IQFgIYQImSlgoZRNg42MTECEggkeMQNko7LAriYjiE8UvHg+w8VSEQJl4KoLCpLTSV1zinsBKjQeLpQuT2zMen9ZAUZV24GDqsbO2z3d8hu0Zh2iZ6b4Xcs/L2RJ4jyUxb/JSeAdtJmvqL3CoCO2izGkAGAQBvn9218zOzk6SyeRcPmpZk9KgzW1BxE7Q6YzQEO+hVzRxqsGlfXANu4IHGPRvZ43ZTJu7HvgRR+MphMgiiRP1DHJWwEBlDblOAyfnYMeyDKs8nj1KwqngqmGfnvpWOBnwE38HG83vkN5ax+dX9/JrD4/Quv/f8IUBjdvg6vdijnXgd+9G5oapHB2hcnQyv4EQ5KIxstEouahFLmJTMA1cMxyuxTMNXEPiSoEXeCgv7OXrK0nGt8n49swfxDkVpx8hMwefeEk7vIk2geNt+ybb1U1OySumpMHUQZnDU6a2tJs4LmZIm74W4yP1lc6fUbI9ZZ5dUXoZZ9dzTlbVipLtKfeblja1v/BMLQdn2p8lTUzduLg2cufqTbzEylFnnMnk5Vicn48O4S4fl/KP4nXm6kv2rOVkTgPAO++8k89+9rPce++9QPgNkk6n+dM//VNe+9rXzuWjlr2VLXfSlPtisR3gIXppoqNOsKlzJVbhKCejt3K9gjW5sPfUwYjNldZJhpzN2FYFOYYZiUWQQxGMDhM2ZDFMj0ztHiq6d7Kz3+N/b2gjEXuS+/PX8iHzO9yY28u3uZP/9p4XuOaw5Fef8FjR8yz0PItnxfFW7UTUbiCWG0CNnMIf6yQY60L6LmW5LGW58zfk9aWBY0XxLAvXNHGLgaJryom1ZxjFReIaEk8KAgGBFARGsS2dURJQKAXFAaBRxercQEEwvh2ctwRkoh2dKo4+M6e/qS6ia7GmadoyU+foAqT5MKcB4Gc+8xnuuOMONm/eTD6f5x3veAdHjhyhtraWb3zjG3P5qGWvdeMrWf3CF3i6ILlbHeYRcTs9dSYok/p0I/uqLd46CK35MiKBxcGIzeut/Qw5myHeCNlhMhHFhu4UkeMZejYIKit76fUOhAFgr8tnNkRYUTnI/p5tdFNBM6Mkk638ysBT/HhdlA9vMtl2OuB9j8apO53DPPoTOPoTClYUf+MNsOGXiUZXEylkUdkhgtwgQW4IlR3CKaTxCmkCJ41w0phuGhl4GIFPrJCBwsv/jAIh8Q2ruJj4holnWGGQKCWBHF9LAmniS0kgww4WvlFMHx8gWoqS/bCTRdhrWKCEKtkPw7hgIl0UO3QAxYGlFaXpAiXDUjQli9eNl7NN+wNbqGnVp6pke2KztIuFmhZTzlR1O905Dp516MIDVnFRVYxqxs0LOv+Cr9EWH/2F02aWrdu80FlYkuY0AFyxYgXPP/88//qv/8ozzzxDEAS8973v5dd//deJxS6u/Zd2bo1r19P0CxNXKqoKRyEGPeVVeGKUxrE2DjSnSQ+6JLBYXVjB0egJqu2jYUeQyBrIHiQdEUQ8j8puh64gRiyW4owcYq1waclbrMoEJJtqoEfwU+8G3m3exyuyu/mOs52vnNrFH6+tYs9Ki997R4GbhxS3HFzLmqM9VHZnMPc+DHsfxgMK7XWwcTNW60YiwS2Y+QTRae+jlCIfFBhx02TdLIVCFq+QRRVyiEIW4eQRXg7Ty2F6eUw/h+Hlw30/jwxcpO9gBO5EpaRUAdIrYHlzEE0ugKm9d0WxWnNyMOrJtZzcF2dfc/ZahutZ7nfW88YzVDr49Xgep1VlT+8ZPPW6KQPGTKn+VSXbpfc76/6okt7M4/eZ4f6l95spTwvmEudh2uMWxWcwa9XhpcvbovgctAtmNes2gPNhzgJA13XZsGEDP/zhD3n3u9/Nu9/97rm6tTYD07JYla2BxABDhS4S0RRpmaSrrsDqsTaeW7WbQX8VCaOONfk1HI6dZGy8I4hqRwYBniEZiSfJpKLkhssoq+nBDQxy1YcoG9zCrf0+P27eTJl1jPv863g393G9OMyfGv8Tr/YR/uQrih/eXuDfttk8Vm3wxE0nuOZam9axm1lxEDad2E9NzwjG8X44/jABD5M1Fe66JKxdjVHdhmm2EMmvwsxWEhNRYkYUosAMJf6BgFxEkrYlKVMwZMCohAyKTKAoAK5SuIELnkPgFcB1MFwHwytgOA6WW8D2XEzfw/R9LM/D8F3MwMfwPQzfxwjCNCPww1LJYtp4CaUMPGTgF+cVDhBBgFR+uK2CYrpfnGt4Mn1yKUk7R6nHxADUuoZY07RlbGDtyoXOwpI0ZwGgZVkUCoVL3ltyOWuvvYUK9zsccwTrOcSzXMfJesGtB9Yi3K8zEIyxyqijzdkI/JxjsQxCZJCUEfct0tJnsLyKyGgK+3gCaiBeNsJwzR7KBrews8/l623l7Kw7xtPd1zFClCqR5t38hN/y/4RvNn+aN/wkxvq+dr534yDPlo/xdMTl6bonWVsp2H3DFozRV3LFoR7WnnqBxoEjRPI57INpOLgP2EcgFKkmhbPahNYGRGUDMlaD6dcScVZg5+sxsuUI10QqKMsHlOUDGs75yRhArLgUhZ2EUYBvCnxDhJ1ODIFrCFwDXCnwBXjFxS2uHcLtcFGT+4THfQl+sVRKiXB645m2p/TXLRZmBYQBpFABSgVI3y9uj7dXLA4XoyZ7/opAFQPIMECUwWQbx/HzxrdlMUBFjQeTxXLFifOCqddMOwYgFBNVywrFxBjTQk1W7aqSskI18b9i3sc3g2Jnk7BKWI0XzhXvUVpNfNb2+DnF88e7q0z8a6Ombk9/9sVVQc/k5Uffs0w0M295mN6JZ07+ZV7Un+MF3nu+/pDSv/rmTezqbQudhSVpTquAf+/3fo+//uu/5ktf+hKmqWeZm2+tG1/H6kPf4lDBYKfaz7PiOk43Gsh9UWqzdfTIMQDaCysAOBS12WCdZMi5AjNSBcEAY1GDjV1pyg8M0XEdVFb20pGrpAXYNuJT6QRUrvTxuk0e8LfzFuNxVshB2v00v33Vf+NjI//M5n2HsGo/xFY7z4HV3+aZxChHLTjKC8i6PfRWmTx9Szsp+Q4qe1ay7cUXWddxkMb+48QKI1jdAqs7AHqKC/gVimyjYrRJ4dcp/DoDVZFElCWRMonpNWJ7DUSCemyqMFUFhp9AehGEa6IKoAp+uLjBxGcmANNTmJ4icmm/XBdAFpcFNt6FWdM0bRHoqa9f6CwsSXMapT355JP8/Oc/57777mPLli2UlZVNOf6d73xnLh+37LVs2MaKvZI9StDgHIYodFVW4os0LaPreb6mn9ePwJpcOVJJDtg2d1v7GHKuQJU1Q2qATEQRd13iQxny2Vqi8TGyviCfPEk0tZrb+jxO1W2hLDLKfe71vMV4nKvki9g4/Df3t/nj23+HVzt7aRNPg3cHWw/+Eb+ZHOXZhu/xcOJFjttwxPKBI8ARyhoCsjU2e25pZix2E362neZTgo2nTtDedYL6oW4S2WGMUYExKogcLn3jNJAmiHTjVx8iqIBMQpFKQJBUBEkIEoogAV6FgSPL8KwyXBlHqARSJbAow5IJLJkgYiaxjQRRO4pt2diGjRQmQpkIZSCUARNriQgMBBICiVClaxEeL44bKJDFIj5R7IFMcei+8e2ScfpK08ZLJgJVUog1eXxqH5AZijFmK9koed65Dp+388X57j/Luepc553rvpqmacCmxvKFzsKSNKcBYGVlJb/8y788l7fUzsGOxmjNJCCaJVM4QVkkRcZI0lk7yqrhDfxw83cpjLySSGDQ4jRwxO6m1joKQN5eB7xA2pZ4AnqdKnK9bUTb9hCNZhip301jajV39Hr8YfM6djT/hF0ntpLHpEUM87f+r/B563/z6+4f82/WddxmHaNaHgPgIQVVw1t589Dt2KJAX/RFjsRPcSg+wqCVY7/tAR3gdIAJQ6t9RlpN9otqXKudvGrFSNdQPhCwuvsMzf191A0NUjU2RFluDFkQyB4xXlh4DrniAkFEoaIQREHFFMoGZYVLxjBICQtfWgTSxhc2vojgFRdfRfCUjYeNH0RwieAri8CUBAYEEgITlBGuA1MRGArMAGUqMBRKBghTgQxQhkKYCmGAMBTCUCgjQJogTYWICDAChCHAEEhpgCkQUiKERAoJMlyEEAgkcrwDBzIsQxTj4xCGnUTCtLBYTwo5MZagKKbLks4UEhnOJSyMiXuEga0CIYsFhCLcFuP3LVlEMRgW40+Y2lFDUHrNeKKYujvxjGkdTy6mA8EMnVYm3nnG85hy3tn3FmelzHZ8si/KTPd56eZzmsP5br0z8+11UfOMdFOqKVrKoyRoWuhsLDlzGgD+0z/901zeTrsAG8uuxgoe5agj2MQBdnMDJxoDbtu3BtQAAyrFClHJmnwbHZEe0mWnYASU34rlBbimZLC8Di/rYR+tgTaoqu6mwy2jEbh+0Cfix1jbcIKnTmznAf8qXmvs5lprD/nA5m+tf+AD7u/zw8JmrrY62CyHMKTPsAgYpj/MpNNIndNI3Ui4K/FwzSxjVpphM0fOyDNm5ukz8uSCk+TNQxQSBepiPsPNgmOUYRg15KwrGTNWUnAaiOWiNGSy1KbGqB4dpWJkmPKRERKpMcrSY0ScLLZTQAZh9a8sCCiAMQpn/9JRhC39HOZq4GhN0zRtbjx1x62s/ty9C52NJUc31LvMtax7IytP7OJYwWAn+9nNDZxuMBB7DRpSq+lXI6wQlbQ7m3iQxzkeyyJkGhkksFQEF5ehRILW/m4aDh6n87Yotp1nLFAUyjqJZFrY2efR3diGHXf5Uf4mXmvs5nbjWd7v/Anfs/+Mr1l/xW+6f8Qz3mqOigauzwuuVGmuLv8XhmWCFAlGVRWjlOMISYCJ4ZVT5ZVTNct7BQTkjXy4mHly0sExcgTyBZAujsgxFHPJxhVdKyx8M0nGrmM0son+6CqG4muoKqtmhYBW36XJc6hzclQWCpTnc8Q9h4jjIPNjeOlBvNQQZMdQ+TQyn0UUcki3gHQdZOAiij1/ReCHnTbCaYLBZ2Jb+ILi9MBhmpq6iNJ9ZjgGYXUy09I0TdOWsciQtdBZWJLmPAD81re+xb/927/R0dGB4zhTjj377LNz/bhlb9Xmm1l5Ao4FgibnEESgq7ICT6RoGd3ASesYV/mraXNWAXAgYrPGPMmwcyVmrBq8XtIRQcIpEBs7ztjAZmqbD2GZDqP1u6k/0cIdvR6fbtjBhoYXeODEVWSxqA9cronv4j+cG3mj8QSPif/C250/4ZRq5P4IPEXArc4reb/9DbaIEyBgNNqME5jknAij/nqGaWdMNZLGIicKZEWBrHDI4SCFJO7HifvxsGDuAgQEeLKAJw7gyRfwhYsQPsiAPqHoMSSuYVIwo+SNOGm7nEI0gV3eRiyyhUQ0SXk0RnnEpjISoTIaoTpqUxONUhuLUBeLUh2xEcrF80bx/Qyel8Lz0sXtNJ6fxvcyxXUaz09N7Ifn5QiCXHFdwPeznHfw5RmCxhmDw4tptzfbs17CeWq8vSNisu0jTASzquTYRJWokpPXqtJrKW4TjleomLx3UEwDJjrLqFkqRScHL7zg95h+7lmHz5qO7Vz3nvnYlPELZ33YOZ6j/yjQlqGKxOqFzsKSNKcB4N/93d/xx3/8x7zrXe/i+9//Pu9+97s5duwYTz/9NB/84Afn8lFaUSxZzspsFAyXdKGDhD1G2iins85l9ch6nmz5Hm/qfSVrs5Wg4KBt8yprP8POlfiJFhjpJWOH1aTDXhK/dx00H6KqupvTQYx6YMegxyi1vKn+Gfae2MgD/tW83niKK2JP8reZ/85t8gWa5RD3+X/IV827+Ip6NV3U8UOu4IfOX1LDKLfKvdzs7WObPMZq2UXzykqMxgayRj+FUYXXL1BjCVS+Bc9bQY6ArHCKQWGBAh4F4ZKnQE6myMg0OeHgIAmUSdhyTWIHNjZ2cb6280kVl7Oli0vnDMcC1OSsH+HEwGETNimQQmBIiSkFlhHFknEihoFdXCKGxDQk0jCQQiCEJBzHOSg2iwuK2woIQBaLGfHDYVdEEEZ/k8WOCAKUGN/2J85XeMVtD6WKC154nQpQ48WVyiMc4GX8mI8aL95UPorwGcUxWIpt+MaHZVET6QBClgzBYpzr/GDivOmmhD/nLQYt3lecnTYbcYH3lLPGdzPk+SXlU9NmoyP9Uq1tL2U+eO185jQA/NznPse9997L29/+dv75n/+Zj370o7S3t/M//sf/YGhoaC4fpZXYaKzHYB9HC4JNyf08zY0cb4Lb96zixUQ/fq+iwjOp86o4HBmi3n4RMpC31wPPkLUlWTvJiGsiu+rwtlhEIjl6fUUhdoZIrpGdfR5jjbWY8YAf5G/i9cZT7Mjn+UX9l7ln8A/5J/OTxMoK/Kb/MzJBFNdt4pCs4gnWMEgF3wtu4XvBLQDEyLPx+GnaTpxhtTxJo52hprGBuo11NG64kvrGK1HDDm73CIXTQxTOpPAHXFRazliyolC4+Lh4uMLHxSEnOhm1TjNmDJGSWTLSIy8C8kgcIXEx8DDwMFGYKGVgKAOpJEZxe3zfVFN/TCQCOV4qF8DU4jlQ+LiE4wReGoJw7EPjkj1R0zTtUnF7sqxpX+hcLD1zGgB2dHRw0003ARCLxUilwtKV3/zN32THjh38wz/8w1w+TitaveYtrDr9AkcLBjvZy9PcSEdDOGRJY2ot/SJNo0qyNt/GE8lhsrFTMAzCbSTiBhQsSV9lHQ1DpzHOHKN7sIWGhhOYpsNI4y9oOPEmXt3j8qXG62hv7uCho1eRVTYrPIeeslFa07v5C+8ePhh8kxbjDB8yvstxo4l9qbexIw/Z5HP0WlkOBvUcVq1kifKcWsdzal0YQHnA8XAxHzhNjdhPmelgx0yMRBlU1hHfXElV3KLGMqmTkjofGh1FXcYnkXKJj3lEUw5BxgVVBqoKClvO+bkJ8kgxhMEQSvSTNYYoGEPk5Cg5Y4SckSYns2REjpz0SQubrJRkhUlWGBQwcISBKwycYkDpYuAKiY+Bh0QVSyalKi7FbVGsDp1Yl27PcVr4rmIiTp2SBgglLig9LLyb4dyLuW9JwcYM/XGnfX3O1ztX07TlYM/ACV6z0JlYguY0AGxsbGRwcJBVq1axatUqfvGLX7Bt2zZOnDgRjnemzYv2ba+mrfPPOB4Imgr7i+MBVpM3R1g1fAXd4jSNajNtzhU8wbMcjeeRcowgKCciYhQoMBq3WN3nEjv6LPv7bqCh4QS1tac5EURpAHYM+nzc3cTbG/6aLx39Le4PruGNxhPclcnxzaZnqDm1hnuNt3MdL3A7T9Aue2iv+CzZRAWHcrfzz85VDPsJPlz4OW1+J10Rm8F4OT2yhlNBAydVI/1U4GHSq6qZKEIbA7rHK2RnporDpQhTIpMC05RYpsQ2wiUqBXEpiCCIKogEYAcQ9WNEvSZifhMxVxHzFWUBxF0oK0DchzKgHDAIsEhjksISY5ikMEUGkzSWSGOSxhQpLFKTa5nCI4sjIS8EeSkoCIErBC7FtaC4FuEri8l0b/o5JfsFIXGEiSNlGICK8WBU4gqJJySeEGEwKgQeAl+IsGI3bE5XsqhwKMNixa8imNbsMPxvco8pR1Gl1bnhMp/DlZzlPI+6qEBzhnu9lEB1yvFZ2gNq2kz0Hzlna4vesdBZWJLmNAC84447+MEPfsD27dt573vfy4c//GG+9a1vsXv3bt7ylrfM5aO0EvFkOavSUbBcevNnaIj00CuaONbssb7rSo7VPcD2/GZWO20A7I/YrLNOMFDYhlFWA4VuMlbYaG7UlRgDa3HdXdh2nh4fMolTlKVXcXtvgNlqIaokPxwNO3+8Jp3l09WVrG7+Vw4P3IP0t7BPbOAGnuMGuZ8yRtme+B7b+R6jKs6esjW8oNo57K6gum+E7f37eKf/nzRGRzCqAtJVMYai5fRTSa+qok9VMUyCEZVgZMq6jBThQOPCV+ArcAIC5nNAFwOoBFUZ7l5AjDM+vF24qJL11G05kRZMbMviXMGTaZPHwnuXXld635nSwJzSBWHW7gizHpse1E0/b8o41aK0A8hkWBgWAoqJvh3j2xPnTSkknLx24r7Fz1SVHJ+4vyjNR7gVPmfqeWe9wXl+356nReEFnHMB/XNmzMO5M3bhIfaF5fGlWozhymIvbjh/m9HF/w6XUn297gU8H+Y0ALz33nsJiuOu3XPPPVRXV/Poo4/yS7/0S9xzzz1z+Shtmivj12G6j3GgYLCN57iPJo41wxUdZRyK5yEP63LVAOyN2Lza2sNAYRuFRBsUuslZHr6wcA2LsrzBwMAqmpqOELGzjDQ9TtmRVbymx+WrrdfQ1tTJruGtjKkYdUGOHdk8u8pivM35Ik/xIV7V2c2uxA4eDa5jA8fZxDHWqRNUiCw7jb3sZG/4ndcaLikVYyAox3VNZEFRMzDKqnwPhlRIK8C0A4xIgLQDpDX5+9xTggwx0ipGFpscUdIqSpYoaaKkVYw0cTIqRpooBSxyIkpORMkTIS9s8tg4mBOLq0wcFVblBkoSIAkQBKoYihXXaqL36Xl+SauZen7O0a/MxfwbYjHnTdO0y0pt4fRCZ2FJmtMAUEqJlJNzmb71rW/lrW9961w+QpvF+m3vpG3vIxwvSH4t2MN9xms52RgPu0fkawBoLNgkvTIO24q6yCFIQ0FsBPUoBctgsHIF1SMdVPd38WLfapqajlBTe5rjZ6I0o9g2EnAmew2vrvsHviDfzQ/9G3mH+QDv6XJ5Yn2Mb1bZfGDgb3i67l2897DN/qo8R+1WDkbWIUVAA/0008sKemmUQ1SoMcpUmqTIkTRyYQFbFKi4sHc2haKCLBUiO2+f6/lMzvQ2Xt42tVRLTSl9mVqGppheMjXzuVPPm/2c6c9ViIk+MzPdY/I+059davbSo9nLEKef99ICXsV4OZ4o2bvwa8dzdkGxqJotn7OH+aX3XYylYJfCS/3aagvrcvv7rMddB+hCpLk2pwHgrl27znl8586dc/k4rUTrxh20PS84giCSPYyZcBmNJBkoH6B1aDND0RTVJFlTWMPzZS8wGD+NGgww/QosF3I29CYrqR8+ScOLL/D06hspFGJEIjnSrs1oxVEqR9dxy5kYlasziDqLb/Xt5B3mA1xtjHHrkUYeWZflc7Uxfm/wy7xQdS239F+PX72B57p/hiMiDDZupNdayTNGYWIUEAuXCsZIkCVKgRj5iSVKARMPC2/KenzbUi4WPkZxkQQYBJd0qI3JGcxKW81plx0dx2jaomUFlQudhSVpTgPAV7ziFWeliZLfxr5/QYOzaS+BNAzacxVgpXjRybORA+xjGy+2eNx8oJGe2DGq1UZWedt4nhc4EBNEzF4crwnbSpIjTc72AHAyo1QECQb6V7Gi5RDJ5CB98lEqR9fxS10uX267jrbmTp7tXccJVU+b7ON1Z3zGZDl71ozx9zVJ3m7uJicOM9h7IzfWv5G+fAeHuvpxy3YSCI/WM9+lfsUo/o5Xkq1rIZvNUigUGM7n6cnnyefzFAoFPM/DdWcZUGWWX9qiGAiWBoWzbZ/dbu7sRV7AOZOVuzOVoc3edu7caeNmKoWaqRXc7B/LJe2UsYjpz0HT3wOXn2T9daxa6EwsQXMaAA4PD0/Zd12X5557jv/+3/87n/jEJ+byUdoMtje/hvjgNzmQN7iG59jHNk42C24+AD1Gjis8WFMIO4LsjdjstA5x0muCZBOkj+DITLHaUFHh2vT2rmFFyyFqajo5mapmpXRpyVm4QzfxurJ/5O/t9/Ft7zb+wPp3Ntae4erDV5Ex4eiqMb5RkeTQujx/VP4Derqfprewg7WJ9TicpJPVdNb/CkM936Xu3i9RZ3hsuula6t/5+0Q3bDzrvZRS+L6P67oTAeH0dUcmx4GxDIfSWY6lsuQ8D6kUMggwVIAMAqoNSbNlUC2gwnWw8wVULodXyBM4DsLNILw8UhWQgUOx7yxCKIQMl0DIYllfabeNmULC8cwX2wsGhOvxqkY1vl8sP5yePj3cm6FYc3raRCeI0nRRUk0nShJnMsNgytPzcdaV5+5A+/LN9N4lj35pzxQl1cvnPfWC73mh5uNz0lWx2lK2rjPPjoXOxBI0pwFgRcXZjbfuvPNOIpEIH/7wh3nmmWfm8nHaNJuufRcbHvwXnsubrHT2QQROVdWQN0eJ5hvBhI2ZsD3gvojNe+znOZm7nVxsA6SPkI7AWFkz1ZkuqgYH6IhUkxmroax8kEDAQN3TtPTexM6uCtg0jFoR5bsnbuEPrH9njZ0iaea56UAltSMWT105ynPRKO9qtflgop9fGv4WLw43cGKkATdoIG41UUiu4EjU40WvE46exvxvH6Y8CKhsqKdyy3Yq16wjWVNLorqGRFU10WQ5sVhsxndfC4wPFKCU4niuwNOjGXaPZtk9luFwJj/jL962mM2ViThbkzG2JGNsLotRZ5tTSq4nBD5kBlCj3QRDHaih0zDaDel+yA5CbhBRGEU4owhvDKG8yS7A8uzbnU8QQODK4iIIvOLiCpQfrgN/PE1ObKuSdOULVBDuK1+gfAiCcHu26co0TdMWk9zN6xc6C0vSnM8FPJO6ujoOHz58KR61rFXWr2Rt1uI5qejLdtJg99ArmziyIuDqjhqogNa8RdIro8PKUBY5El7orcH0AzxD0lHTzJZMF3XHD0DzVs70rmFN+SD1dSfpMgQtvTfxil6Pz2+8iXUrTnD0RAOP+5u5yTjAq9bs4+ETmzkTWPx//x7lf7+hkny8k7+pqeLrFR6/XTnM29OdpHJxTqar6chU0BckyBN28fdMgyEMhoaHYdfPw2UaaRhY0Rh2LE4kFsOOlxGJx4nEy7CjMSLxeHisrIyt8TKuSySJVibwm6o57AteKATsK3i8kM7TVXA5kXM4kXP4Qf/IxDOqTIP1ZdFwiRfXZREabQuRbEAkGzBarj73F0MpcDJhYJgdgOwQZAYgPwL50XMvhTFQAVKCjAThwIXzQCFB2ihpEXavtlDSDNeiuC8MQE6ukcV1uD+RpuREqWi4XVxP9JoOZ3FR4YOnlXgWS8UmSkTVxBzBE51aJocYnChJHf+YQUzeI6DkGUHxPuFD1PgF438JBOFAMao0U4T3K7k5E517zmrmOXPHmoljU8Y+nakC/+yvyLmTZrnqYosUX+qYrCXXnXWHuRrnda7Hi9Xjzy4JNXfcudBZWJLmNAB84YUXpuwrpejp6eGv/uqv2LZt21w+SpvFdmsL3/L38Fze4Fqe4ke8kSOrXLacijJImhoSbChsY7f5OCfiwyiRR6ooEWxSeOTtsJ2mGu7HUga9fW2sbn+GssQIR3osemIpmnJJyntu5vWVX+YzNffw7eGd3GQcIGo5vHXNM9ycqWL3tSv4xy+c5g/ffjN9tfvptUb5eG01/7u6ktelM9yd6ePN+dOYwOj/n73zjpPjKPP+t6rDpJ3NSaucc5acg5yxAQcMJthgDp+BO17uBZu7g/cy3B0XSMcdcEfGR84OGJyzZEtWtmTlsKvV5jSzE7u76v2jZ2ZnV7sK9siW5f3pU6rQTz1V3dM79czz1PNUNkh3JsyAE6Q/GyTmBBl0bZKuRcqzcPXQEWfK88gkBskkBsc4xffEWJRLQMHEqEXOnJuPTSckWgg6paAdyVNCgBQYQmJIgZnPpcQyJKaU/rm+QvhJSsiXc3Vfq+jXESBEGCHCICYO0Qnh98NDaA+hXF+TqJVf1/75vEL5OTpP54FyC3WU62sstcolL8fj5IRJ/6nkzxU+EU5ukT1dzjmvr/H1VPFKHsIp9jkR+av+HE6j5viUWZ9uLfa4lvxMwCxn0us9hbMSJRUAly1bhhDimFM/zjvvPL773e+WcqhxjIFVF36K6c/fyoGs5EpnI7+zb2BffQ2eTNDveNRYMMtZwous5aWgTbl1iHh2Hma4BjIdKAZQQhLOxKlxw7QLj4GOWVQ37aYs0k977VNMaHkbl7dEOdDQiZoU4vc95/AP+ns0eRn+vaqSPxN9zNF9ZG6Q/Gzv/dwzcCnfmrYGUz7DoN3Lz8qj/Kw8StRTnJdOszSdYVlmkPnZPkKj/GJ3PUHGMcm6BlllklUGWWnjiABZYZHVJhlXkvEEWU/ieuB4AlcJXC39pCTeKOW8TCC0PmVLbXHQ6TMHAv/P+jVR7o9jHOMYx2mH2H2AWa/3JM5ClHSVOHjw4LC6lJK6ujqCwWAphxnHcdA4fTmznxMcQJBO7KfS6qPfqGJ/wyAze8rAgnmpyVAJ2wIBbrO3siU7j3R0BmQ6SFguXeUzaRjYS0N7J+2TQ8Rb51DdtJv6hgMcGqxijqGZmoRN8WtZULWHPXYj93oXcav5GIuzWe6Y0sh/tnVSlVXUT07wKR7kk22CZ4IL+KJ1NfusLmRkN3EzySORMI9EwgAIDfWuwcysYoaTZaKbpNHL0uB6NNgeNZ6DcfzbP2UoaaGF6Wv8MNBC5s7byAWB1iIXCFriaoGrBY4WOBocJXJtFMyIOneUxUiTYV6uFblNgQW9Qs6Emb//gm+vHjJ95k2XBUtlUb1QLoxfxHaELK1HFI5xNBnxbArX9di6szF5nNQYpdGuvDor30lqL0dtHL3vmaQzOtHdndxcS/Q5lYCiZBjf//qGQrTx0td7CmclSioATp067qh9JmBxdioPGS28mFWsYD2Pcw17pyVZ3RkBDOYPViC0YEsgwP+ztrOFd5NlAUKvJW2bNNdOo2FgLzXNe2HyEnoG6ygbrKemrBNhOGysauaS7qnMbF7FDVO/zucnf5IfHriSW83HuCKR5F9qqnhXw2Q+EYixNJmipjdLOK1Yk97BmvQOBnSY33eu4qfB2bxsS0S4BSN0GGkm6LA8OixYi8XIiNBSCyKuTZkriLiaMsehwlVUeB6VnqJSKcqVR1QryrWiXHuUo6lAERYKQ3gYuMPCQEiVP3T4FCGg5NLoOMYxjnGM4xhkZr/19Z7CWYmSCoBf/epXT5r2z/7sz0o59DiKcPl5n+Z7m/6E/RmD97kbedy6ht0TqulXGVytKHclTdmJtAaOMBg+jO5TWF4F0oWkBdpIA2D3tAFLSBgOB5svoGbBb5nQtJdD2efwmMqSniDeNA8xKcDLB6aySc1ihdzHO2JpvlUV4e/S5dyQDPPW7Q7MdslOd5g46FKVzPDuxNO8x32apBNgS3wm6/V8XhCTOWDZ9NpZpN2FsAaQ5gDCGkCYMZTQxK0M8WOOhTQ4oTSmJNKzMDwTwzWxPImpwFICS4HpCWwFtgJLge1pAkpjKwgqja0UAa2wPE1AaAICAkIQEAJbGgSEvw/QQmILiYXAEgJTCKT0NX6eEHhoFKDQePhmZA+Np/3czdULAaZFzgUhdwBuPtSLfyEfzKS4PYeiihQCQ+RzgRQ59418WQgkfsxO/1pRe4F2qI9A+7S5YCqyaL6FJIRvVs/RDbXnafxrYth0RdE9DyuMuK2isDbFjhtiJF1x5UQan7G1T+KEfU/M49QwGp9XorEqwXyK1Ksnv4dzFMJSOGMM+7xPRHucyY47hrzhYDTMfr2ncFaipALgl7/8Zbq6ukgmk1RWVgLQ399POBymrq6uQCeEGBcATyMmzb+YhRskTwMisYtwRYKEFeFQfYL+Qai1JLPcc2gNHGF7GEyjG8+rxwqWgxdHup0oYVKR7Kc2oemOCOSR2aRnBwiF4ggxyPNVWS7sszE7buIS+xmeblrJj9quZIW9j3ckBb80bfqiWX5RZbB1ieBDvzepTZo8er7k6JMTqBUSPauSqqjDrOQR3pt4hI8nBjGUJpkKcDDZyGHdQKeupFNP5CjltFphek3JoNSkpEdGeGgjhTCSCCOBMFIIIw0yg5BpPxm5HXpSoWQGZWVwgPRr9FloDUIboA3QEnLesWjhCxbDyn4SOTqh86FajEI5T1eoa3/notCAlgidE1d0TnDRueVYFQlbesjknK+P2qdQHxLTROFasRn72P552lxpiCdFbfkHlJ9PkcAyxF0Xzbm47F8beU9+W1HfYab33HjDRDpduB+fbhTo0URAwdB084b7UxPSRh/rZHqOQXQCs+ZrafQ89WDLr3x2YrT9Dqd71HEZ8jXFtEyMz618vWdx9qGkAuA//dM/8fWvf53vfOc7zJ07F4Ddu3dz55138pGPfIRbb721lMONYwwIIViZnMTT4SOsTTucU7GOJ7mSl2cl6N9YRa0Fc9NzeSoCm4IBLrR30pyqx41Ohv6dpI0kOyasZPHRF5h6pJ3uuROIeGmeOXIBV01/goaGg+xwNnMh5zL36ExuKPsVT0y5lAdaz+Nv9P8yKdvNhXoNR3ftYdusAfY0Sj79R5IFLZILcFj51iMcerqR5DNZOsNRvnz+n3N4+XxMPGYlD3PVkee4svlZzk1tJxx2CFguMv9N7Q7dp9aQxqZPhOm2o/RbQWJWiJgVZFBWMygDxL0AMWGS0AYpLUk7kowHWVfgKoWrNS4KT2uU1HgSlFR4QqGlhxIuSrpokUULD3JJHK887LPAvzaKN60eozyOcYxjHOMYwpH4uB/B6YDQI112XwVmzpzJL3/5S5YvXz6sfePGjbzzne88xknkjY5YLEZFRQUDAwOUl5e/3tMZhs59G7j1hQ/S7gpua5jDlwN/S8BL84X7U5wfMtldluETkz/JRMflP/dO4+GBPydrNaM6f4nQmgDnc/m2H9FbP4VHLj+fSifIk1YDH7v4n5BCs3XrlcxL3sqSuKBlylPcOvcynI1J/ir2Az5q3k/PQDl/x2LqehVrlwzQXj2IyrnYBoVmYcijoStIYGMd5YMWA3URHrvgLRysX4o2fHNuIJvlig3Pct26x1natZtg1EU1VBCZGqV8AhjZNmSiG3ESr7ArIRuQZGyDjC1wLIljSbJWvizI5tocU6DlKDofzwAviFZlaKJooggvgnaCaDeAdoKorI2TtfAyJo5r4HomjjLxlO91rJSBqwWe9h1M/LNGNJ7QuHgoofHwfAEUhSc0Kt8uPBQaLfICqi+0qlzZExolFQi/HUALjRLaVw7lyghyfPwEORryjiU+D43fzzda55xQxBCVFtr3+C/0zbUXcuUrynSunEOOUyFaQKFeJAZrhuLyjaQaSTvEazgFo/Qb1lcfK4LrYfVj3WIK/4uxeZwqTq3X6fqpUHq+J8/x1Yz9ev50eqPO+42H1XXv4Ntv+1RJeZ7J6/drhZJqANva2kY9t9XzPDo6Oko51Kj4+te/zr//+7/T1tbGwoUL+cpXvsLFF188Jv1TTz3FXXfdxY4dO2hqauIv/uIv+OhHP3ra5/laoH7WahY+LWk3IBU/QI3dRY9Rx5b6Xs6PR5mZCBD2QrRaKazQbhgAMzsJ7SkcQxLN9gIQ7TmK4brEzAxVmSo2dixldeMWmpr28HjHQZbEZ9DQeiHvLfsd35t2Pd/fdDV3GA9SUxHjhu1H2GRP4ur1NeyeMY/a/vU8s0jSXybYmDQh4sIlbQQcQUXcpvHAN1nSB32TprLTvJheayYPnn8BD154ObV9vVy5/lkuf3EdszYdogtIh+vpmXcVasVM7GnVVJoxKtJHCKWaCaaOYiY7sdIDBNw0pgIzpQinTi4OnmtIsqaBa4JjgWuKXJK4RldRXeAaEjcocMr8esAQox7dNhaEtpHaRuqAX1Y2wrORno3wLIRrIVwb4ZgIz0YoE6lM0CZCWQhl+LnO5cr0kzaHysVp1H4mvhHzNBkK/U2GfozD0cq5PB8jESkQMr9h0M8LdTmczn+I/n+Fx57vV7g2VBcj6iNpxQn6D9GMfd2vHruH8Ri8ksf9SgIqvpIur9E4r9X9jOONi+Dsqtd7CmclSioAXnHFFdx555185zvfYeXKlQghePHFF/nIRz7ClVdeWcqhjsHPfvYzPvGJT/D1r3+dCy+8kP/5n//h2muvZefOnUyZMuUY+oMHD3Lddddx55138sMf/pDnnnuOP/3TP6Wuro6bb775tM71tcI53nweM17miUyWC3ma+7iZ5+Y6vP8FRZkhmZM9jy2hJ9gVSYHRj/QqMc0Qjs5gpw9zNDqRpngrk9t7ODSpgRlugvsPvIXVjVuorW2m9shmdpbNYMGgyXUDIb4zKUBHWR0PZM7jJuM5Fi3sYlM8CEfrmNrSzjlHJ3HrE8188/rzuP/8JqzMHqzMfjKWQ2d1hs7qDHsB+ncCO6nO3YfGRMsIDy0O84elEWxvEXV9KSZ19dPU/QyhXU8R2AY6YJIpDxErL6evcgLJ6By8cBDDNYm6HuWuQ6XjUEOacp2hSqWp00mqdJJKBinTcYLEEUJjegrTU5B5Zc9eCYkn80ngGb4Q6RngmRrPELgGeIbAM5J+LgXKECgJSubqElRQoHJlv80vn47IylobuVM7RssNUHJYu1bFNCPrQ7l/KojM7VPL5/7+Ql3YGzl0TRf2RPrX9Ih+BV45mgJ9bl+lLirn9+sVXFGKQu/4KN7neBy6PM+ifnoYjSiiG85bF18fg1d+vOLwO6cm6ZwkbUlDoJwcL/0KxnzNdjSe9NzGpc7XC3PcOayeM34acKlRUhNwV1cXt99+O3/4wx+wrNzxXq7LNddcw/e//33q6+tLNdQxOPfcc1mxYgXf+MY3Cm3z58/nxhtv5POf//wx9H/5l3/Jfffdx8svv1xo++hHP8rWrVtZt27dSY15pquQE/2dvOuBy2jxJB+smcS/Rz6P1B4/eXCQmabkR417+GHVV3jfQJzZBz5MR/o8pPdbkrED1MQz9EUv5S1bf0THlDk8ecFy6ger+aIxk79Y/SVmVR+io2MGz/XewWdaJuIaGT66up9t6Yks37qR3wX+CiVg7eoqBrJBEq0REkcFqx8ZRA+afPKf/4NdFTW42sF0WjGcNuq6tlLf9RKOkSYZ9EiEFJ5xeo5Bk2gsAaYAU2hMwMiVLU0uCWwlsT0DW0lMz/cYtjRYSmNqhaU9LO1i4WJoBxOFgcbUYKCRGkw0Rq5u6JyyKzcHUVQXgNR6RJ2ct23+4DUKQatBFjRpCJmTNXLax1wzUheY+bJQzhwscybcnFZNC4GW2hc+hC+ADvmliEJ+jGxULHcVacD866JQzvctyD1FMpcWw7VNxXLtCNHquOWiIU8Zp2tpPxP4nq4TWMYxjtcKPanLuOWt3y4pzzN9/X4tUFINYF1dHQ8++CB79+7l5ZdfRmvN/PnzmTPn9B7knM1m2bhxI5/+9KeHtV999dWsXbt21D7r1q3j6quvHtZ2zTXX8J3vfAfHcQoCbDEymQyZzJBKKBaLlWD2pw+RynoWx2xaIi7NiVamh/dxUMxiR20/M/urWZqYxA+rYHMwwI3283SkzyMVWAgcoD9sIYK+Dq667TBCLcW100x0NT/Z8w7+5rwvUV9/kAktL7Ij0sDCRIBPHezktqUz2W1PY523gPONnUw+kiYzyyBY3k/NfOi4Atw+zZ+3fByzfQqZ+bdwX9k5PN4zhSNTzqNrQppLXniYZes3AJC0JS8uWc7WubPRog/pdmHoNAJQGICH0BmEyiB0hlB6kEiqj2BmAOmlyVqajAUZy9e25aEQZDRkTkbLYnh+OvaVyCF/8sZZslFZc3InwI3jTY2T2XtboD1dczhNtOM4s3CT2vF6T+GsxGk5L2r27NnMnj0bz/PYvn07fX19VFWdPht+d3c3nufR0NAwrL2hoYH29vZR+7S3t49K77ou3d3dTJgw4Zg+n//85/mHf/iH0k38NcD10+/ksa6v80xGc4X3FAfNWfxqboTrX4B5gyGCKsAuW1MR2gExsJwZeErjGZKJvbvptyNUZhPUdXXRV28yFXgmNo2BeBkV0UFmTtnMfZ2LWJiYyZzO+cwYTHNobjX//dLbOd/YSVOrw2Pt87ArOqhoTBGqTWNWuVDlAnsJeP/EOwfg+oEAbl8lnb117EpPZsOMC5nYd5CmvqNc8uJGztm2g02Lz2fj4rcwGAwfe6Paj5VXLJIbnmJ6WxcLDu1h5a5NrNi9jUA2iWuAY4JjgGtAe7ScI+XVdFZWEquuJF1bgVcdJRjWBC2PgOVhWwrbUBjSw5AKKT2EUAgvhZOJkcgmSTkZkp5LRinSWpMRkqwwyAoDV0hAobXvUFFIWvshM7RCKv+sXqEVQimkVkitfY2fJkencyeGHOtIoUUR56KyKrIo+s4e/mI45CYx8v/hVrG8S0fx9ZG0o7lLFPM/lT2R43hj4FQ+03GXh3G8GkQGx6Punw6UVAD8xCc+weLFi7njjjvwPI9LL72UtWvXEg6HeeCBB1izZk0phzsGIzct61wg2lOhH609j8985jPcddddhXosFmPy5MmvdLqvCS689k9Z9P1vsFFAde9WgnVJdlTWEqefqDaYm13N1uCz7Igk0DKOVFFM0yapHIzMIbbOuJRLdz3I5CNH6WxoYKqT5hkjxMMvr+Gdqx+gvv4QU49s5MmqiazpC/IPL7fy/tUzWbtnMVvUDJbJA8z10vx64ELKN+2mQgkitTHqy5Mw2SXQmMEKewTqMwTqO5hOB9N5CeUKUr0BMp0BEt0hkj1BLtzyGBdsfAIRDNJZVUFbbR39ZbX0ldfTX95If7SCrB0gmPHNxumAZN+kBvZNauD3F/nOQJXxJI3dbSzZ9zIXbH2RxQf2MKknxiqGa3M9IeiorqW1ppHWmnpaaxvYV91Aa00DbRW1eIaRk6h8M7IlBZaQ2AGBLSUBQ2AJjaUdItrBUFm0clDaQXsuHh6uVjhC4BgWGcMmbQRImUHSZgAt5Cnb7qTnYbkOlutQ5mYJeQ5h16HMcwi5LgGthgJaa42tNBYaU2sspTGUyiWNUB6G5yE8D+l5SKV84dPz0EqBVuApUL6wqpVfzietFEJ5oDR4Xq7NQyoPtEIIzxdyhS8QS+kLwkKonKYmJ0KK/I48nTMV66LrOaFYDpV1fgef0MNohvl75NsL5mJd1KaL2ijQ5fseCz3kFFKEY8zURUG78+PkrxbvPhyJ4a/AMTsJc/WRPtFDRCPj8eX7jtKjpDhl7qf8++DkRhi633GMhjfKz7LKKatf7ymclSipAPjLX/6S2267DYD777+fAwcOsGvXLu655x7+6q/+iueee66UwxVQW1uLYRjHaPs6OzuP0fLl0djYOCq9aZrU1NSM2icQCBAIBEoz6dcQ5ySnsjFymIcyPVzEUzzKtWytyXJRT4iF6ZVsDT7L86Egc+xddKdX40anwMB+UsYg7RNXwK4HmXSklY0rltHkdWLIqTw9cCE3Zh7BCmaYOX0TTx6aw8UsYX5fA0v7PbbPr+WrW9/Bd+0vcI7eynNqFftmRInsTBI7WkXjxjSzOl2euPRilk3eicj0kqw0cOo0Rp2DDGgi9Wki9WmqGQBAe5DuC5DsDlLTHWRa5wHYahCNOUQyLuGsg+W6uAZkLcHhpqlsnbeGg5MW0FJfSV/UpD8apj86k13TZ/Lzq96G4XmUJeLU9/Uys7WZ5bte4twdW6hIJmjq6aKpp4uRXz2eEHRW19JeU0dnVQ0d1bV0VtfQWV1LR1UtnVU1pINB/K/XQC6dfijDIGMYZAJBBl+TEccxjnGM4/TjkxGXcReQ0qOkAmB3dzeNjY0APPjgg9xyyy3MmTOHO+6445SOiTtV2LbNypUreeSRR7jpppsK7Y888gg33HDDqH3OP/987r///mFtDz/8MKtWrRp1/98bGR/8wA954LcX0uJJrulfz6NV1/J4YwUX9WRZkpjCjythXSjIO+zneTK9mrS1AMl++iI2U3u6SZoBwqkEtd3dqGgZTR60iAgHtk9jzqrdVFa1M+vINn5R08h7ehr57PZ+br6wmueCy9juTmOxPMQ1yecZDF/KwckvMKPF4uWJ9TT1H+HiZ9dx12f+jv+9+QaqjjyC+9KPMXc8h+vE6Q4F6Q4GSERNslUggppQbYZQbQbyQqGGbNwi3Ruguy9Aui9CujdAut/GTidZvfE+Lln3ayxPMBidyqFJizk4cSqHJlRzcEIFrmUwUF7JQHkle6fO4A8XrCGQSTOlvYWJna1M7DzKpM5Wph09QlNPD+GMwlSaCT1dTOjpGvOZJ4M2/eVRBqJR+ssr6CuvpLe8ir5oJb2RSvoiVXSHq4ibYTwtcZXGze+pKvJ80MXqpTHVTKP8ji/p5qjjqsBe2ZhvFJyN9wS8ljqxk3uEZ+2DPoPxxtGLruvsg3Ne71mcfSipANjQ0MDOnTuZMGECf/jDH/j6178OQDKZxDBOrw3/rrvu4v3vfz+rVq3i/PPP55vf/CbNzc2FuH6f+cxnaG1t5Z577gF8j9//+q//4q677uLOO+9k3bp1fOc73+EnP/nJaZ3n64FwWSUL42Fawmm2x46yoHI7G6sXAlkWxEPYKkCLBXZkO8Qg6M7wBRLDoGJgFzunrGDVgXVMaW5m5/IJTMsatOCx4eACZq3Yh2F4zJy1gXVbJtFnhZmYKucDhxy+v7CO/9h4M9+2v8i80A4m9C8gVbWY7opt1A7YPDunkSt2HOGub32OGyuaefwtHycy++2gNYHuPYT2P0rT3t9jHNqA2JsmE5DEy0ziZSZdoSADZRZG2CNQ7hAod6iYNqT30goyMZt0n026L8Bgv00m1kz1QDsVnQbLNvvGQGWEydplJMJRBqJldFeUE4uWkwhH2TtpOpvnLiERKsO1bELpFFPbWpnWdoRJne00dXXQ1N3BxK4OylLJ4c88nSWc7qGps+e4n40CP0SMIfBMgWdJXMvAsw0828S1LdygjRcM4AaDuKEgKhBEWUG0aaMNGyUDeIaFJy1cw0ZJO5fn2kUAJS08LDxMHCFxkWSRuFr4OYKsBkeDoxSu0nhK4XoKx1MorfG09veHav/sYqVyOb6lV2uN0rkyvnBeyIe1iUL9DbQGjWMc43idYJ9eP9I3LUoqAP7RH/0Rt9xyCxMmTEAIwVVXXQXACy+8wLx580o51DF497vfTU9PD5/97Gdpa2tj0aJFPPjgg0ydOhXwg1Q3NzcX6KdPn86DDz7IJz/5Sb72ta/R1NTEV7/61bMmBuBIfPCK/2LdC3ewXSW5Lr6WH0QX0RGEhjQscC5hS+ARtkWSCKMX6VVj20HSbgayh4hNuAQOrGNycwubly9nqpPlGcvgaEUTA4dmUjVjD6FQnBkTtvKz3ko+0r2cO/enefTCKOvDi3gxO4dVcg/nVGyjy7mcWMMSUs4BQknYNqWOZYe7eMt93+fa7ge4fs4f84nzb8Oom4usm4s872PguXB0M8GDTxJoeYGalvXMSPuBqtOm4KBRSYtZxkDIxq7KEqzKYAYVwcoswcosTB9uEPWyBpl+i8yATSZm+/mATX27xYxDBqNpI7KmRSoYIRUKkwpGaIuG2V83i1RwCalgBCUFoUyaaCpJTWyAhp5eJvT20tjTQ0NfL+HM6KcPS0B6YHkasrlNhcXn3b1OcCW5eIQMxSPMxTP0YxRSiEeo8rEJDT9cjJLDw8YoORSeJh8Gxg8zk2uToPN9yNWFyLUVhakRRXRF1/PXVO66KoSeye8kFMNCzhR20gmGOcvkNa75eZDbd5jfSZcvq2N45ebDiHYx1G9o/KIdf6JoHoV+YqgfY+jFRjTqEflIjNl+nD2mY8rlozj8nIj+VLV7r8Rh6FTDDI5Fr8c1kWckZjWueb2ncFaipHEAwd8H2NLSwrve9S4mTZoEwA9+8AMqKyvHNMe+UfFGiyP0ke8sYa2puSg7gQ0z/w8f2FnPO444/LKhme9U/wvXDCZYs/+9HE5eQUY/iO7fRcNAgkTDH7F64xcIuQ5PXnopKrScr9qTkGaKP+n/MQtu3ooQoJRk44vXM19NY2VsGVsrJf9nkeDc557lp4F/QmnBN8RtdFELgM5kCfR3MG/fAWa3tvN3txrsnSQoT9ZSbb+DK6ddwepp9SydVEkkUPRbRWvoPQBHNtD98jNkDr1AXeoAUiuOJCs4kKiixSsnXWYQrMoQrMoQqMgSKM9iR48vXCnXxEmEyMRssnGDbFz4+aBFNm7hJv0TM04GGTtA2g6RCQTJ2DaOZeSCQXto6YJKYztpQqkE0WScqnicSNolkvEIZxWhLAQdCOSS5YIxrjEbxzjG8SbDc2+ZxB9/5ZGS8nyjrd+nAyUXAN9MeKO9QPc+/wP+ac+/k/IEV1VeSWvmfXxxS5qWoMuHp/8ZlZ7HD/fW8kDf35PWLdD/C0zPY1L2POz488xqO8TB6dM4sOQK7lcL2G1obmn9Jedfv4/ymqMA9PVNYNuOK3hXZiVVXhXfnGmzaXALH+v9BdcaG+gYqOK++JUcbWpCS1mYm+E4VA7E2Dylix3VB0laSUw3QDK+DJVYwKzoUlZNaWDl1CoWT6pgek0EWXRe72AyyTNrn2P31nWE+3YxXxxmottOMmXQmiynNVVOXzaMMBSB8iyBCge7IkugIkuo0hcQzfCJg98pz8BNRtFOOUJFkDpENmWRGNAM9iqSPVmcXqckcfQ8ywI7iAjYiEAAI2BjWja2kfM0FpqA1ph5713HxXBdjKyDTGcw0lmMdAYjlcJIpDESaaxUBiPrvO56DlXQ4vm5ymvjChq+Iq1fcWJ4GxRr3HLMi1RnQ5q9fOgbQS6OzpAGLt9NHKtz02I4vyFGOa/kEd+ehSOC811yBVFk785fG0k7ktfIL2YxSpvffmyInjGJOc7PlzHGH53+VFrHnsuYF05x7qcyrhjr8vhKeMai+5rl3PTZ/y0pzzfa+n06cFriAI7jzMQN593Or3d/gU0Sss1ttMzvxBHlTE6bNGYn0W4fYSCyD9XnEWAijvb3AQbj29k9/XJmtX2XiUdaeWlFgsmuzW4ytFU3EtvnUV5zFKUFVVVtNDXs5ZG+LDf3v4U79md5ceUyvtMd40q5iYaKPt6XvpdDTzawt3ImRyc20VVXh2dZ9NTWMCVZw5TkPNCKlJlhwBqgN/I87fb9/Kq1kp/tn4yXmkzAm8b8+oksaipnYVMFCyeWc8WaK7j2yqvY1R7jp+tbuH9LK1J3MjPcxgzRxkKznamqDxJpenpculsjdDlDHt/CUFgRFzvqYJc52NEsdtQhWJ7FKnMxwy7S8LCj/UB/oZ8JhIG6omdtGOVYRg2GrEGrcpLZMIm0RTxhEE8IYnFIxhTpmAfpFDKdIpBNEciksTxfS2k4DjgOJHyeCsjm0klDAOGAn+oq/CYpMSwbw7KwTAvTNDENE0NKTCkxhMTAN08bGj9ci+chlEaqXLxCpRBuLkSM5yFcF+F6CMdFuI6fZ7PIrH8P0nEQ2j8ZJX+SidAaofwQLGbuWn7K4xjHOMaRx7z6cR/g04FxAfBNhnOn38qOQz9kbXQP5/WvY3PVdZzT67EiczkP2vfwdJlJyG4mk50O4RpI9eLoDrJlS0jbNsFslur2ZqZHl0HQpDU6le5dB6hdGiEQ9CWV6TM2smnjBJ4uf5rLYmv43EsOd8xu5Dv7ruWj5gPoephX3cK03g4GDofoeaGcozVNdNbX011Xy0BlJQhJyAsR8kI0phtZgC8QCZUlIw8zaO2kayDFEyn46f4ylFOHcOppKmtidvVk5jbU8P/euoDBzBw2Nfdx38ud/DiTM//aMH2WybtmZLmqso/aRCuxtmb6Ozvp74vT1w+xjhB9bsXwPUFCDxMQrbCDFXGxwq6fR1zMsIM0wPNieF4MOFjoHgn6qbEoypDWAlQQocIoynFFJWmqSKoyEirCoBsk5gZIOBaJjEUiY5BKC9ysL1TZTgbbyWI7GaxcbjtZTNfxk+diug626wyNqRRuJo2bSb/So45HR/5AFKxcCr0iNkJKpJAIIRBSFMpSCL9NCAS5OqIQz8+v53jk9X3av44uiuvHkLbN19Lp4TlDp1wUTrvQ+bIfmNsP/5enYVg+rF+Ob4EJQ8UxaQr8dOFaQaE3rN8ITxo9/F6GtXNiwVqMMsdXjuPspiua2vH6H//qSU7uldxD0ecy+j2cgOkZqEkcGQ/yFeF1vC+ZSQ77gT2O0mBcAHyT4c4L7+a5lv9lm3bwDrfxUs0g5/SGuCA2nwej8EQ4xKcCa9mUnU4mOA8rtZaesgBT2/bw7OKLuHLj40w/cJDssjYqvSkcFk04mQw9zQuZOGc9faqaKqOXOXPWsn3bVdTa+1mcmck/t83gb8JLuD6zlibRy9p4BRO2WYhJgvQqzfyuXazo2UFqq83AYITOaD19lVX0V1XSV1VFoqzMN4liYRChgloq0jArDYbrEkqlsDP7sJwdSCeJ9tK0qjSO8mhUkvcaNtqOkhRhetww6bYIz+6M8IS0sUNlLJl+KSuXNLBqRj3R8jBCp2GwjVTPYRK9bQz2dZLo7yU5MEAq4ZHuhnTWIOmG6fNCpD0DlTvlwwh6Q0Jh2MWK+IKiGfQwQ8W58gMCGykwUkh6sAEbOJ5BQmvwshI3Y+I4JlnXJuMFSakgKRUhKUKkCJMQVSRlhISIkDDKSIpwIaUJoaSF6TiYni8sWjlhMZ8s10UqFyMXFNrwPAzlIT0XU/mav6FrObp8u1fUT+XqnuefbpI75WTM+1MKj9NzBvQZg5wzzCvvXJyPYxxnN7oHe5n7ek/iLMS4APgmg2VYLJpyMwcO/ZotVS9RnZkLnM+yWDnRhih7AnEqwhsgfitBtQCPtfSHAzT1bOOZNe/iyo2P09jezn7VwTQxnS1a01leR/muIM50m7AVJ02AyspOpkzdzoZmTblRzZKBKj5at4J/HHwXX7f/h1XVcX4yq5FzXoDAdvi3m5ZR4yWYE3YJh6FOJJilumlM9GMe9hjMhuiUtfSalQwEyomFy4mVlTNYVoZnmgxGoxCNHv/es1mqMxkaM1kCmS4C2SPYmSzmoIvV5pB6ymWD62K5DqbjYrouluNr0aSnMLSmAqgWAmmYYEiEdEEkENLf6KU0uJ7AURJHGbnzis2ClypoDOFgiCxSOEjDAUnOExZ826tGF2yw+HZYCcLQfh1y6iYPLT0gAyI+XC7IJT2iXgytQSuJVgKlJZ6WaC1R+HWFgUc+N1BIXOGXPQxcYeEJA1eYheQJA0+YeMLEFUE800AJAy0ELsd6eAqd16jp3F45PUz7NqRl82nEMG3dkEZuqI//jIv5F9/w0Ja+Ik1b8RjD+g1vP/b6EJ/8MX35x33Mgx6t3b84Yu/fsWqWkfd0LIuxtG3F9zhm5xHjlApnoBrsFHHGiNev+lG+8T+LjuRZ/oPwdULJBUClFPv27aOzsxOlhn9ol1xySamHG8crwIdX/V92Hv0lW1SSwa7DHIqsZFrC5tz0NTxa9kteLO+FrhgW5SjDQnsOMrOHmR0m3XWTqO06QvXRXUyfehFbpEtX3QyaDjxPR9scJk15iee8NVxoPMmUKduIDdTzxMCLvC1zAdd2RegvX8FjqeVcYWxm+axBnktN5MJtA3zsV3v51UVVvGyUUdVj0+KGWdbcybcuu4ZDVQHqsjDTcZhDO3PkfmaJVsp0CseR9DmV9HnlDOhyYqKMuCgjJqPEzDIGzQhZwwYhcGwbx7bh+HLiScFwXaRSvlZrlFxoXciF0rn9b0P1Qrm4XtQ+JFQU5Z4Gt6g+QjA5hv4U89GQF46MXLIKdBpRbEA+Qf/j0Zws3evBaxzjKDVKYo59kyGgXv/QWGcjSioAPv/887zvfe/j8OHDjHQuFkLgeSVwjRzHq0ZNqIaFk99By4HfsLFmM+e2rWYaM7midxGPlv2Sx8pCvCf4AgeSV5EJzcAe3M1AUFHfe5AnV97AO//wNSYf2s+U+gHMsgD7jYksUx6pgwtRk3Yyx9jBE1zOZeJx5s5/hs0b38YDbOCW1Pm8NzaRX5kfYpX+S5Z4MZ44L8hTkXlc8sI+bn62j63T0mybVENNPMDmqQ3c/NQWtp5/IT1VUQ5E23ncqqZTTSGTbqIhHWW2GGBGoI1pop1pop15Yi8TRTeySJ2hEKQJkCREkhAJgvRSST8VxCgjQZgUQdIEcLBwc9quYa6lI9QBnmniAQ7jGMc4xjGO04kFou31nsJZiZIKgB/96EdZtWoVv/vd7wrBoMdxZuKDS/8P+47+ihe8OLuMXaxhJksStUTdMjYF4e7IUxxIXoXNPGA33dEwMzo38tL0d+EZJuXxOPWJzUwNXsB+UUPGDmIc6aKzczqNjfvZoxYyU+5jitXMokWPsWXLtfy4bDMfGFzFze50fu/9De8JfIY/ifVw+6pm3PAqLt34IksPpaiJtfLkgiaq40G2Tqlj3ovPs2fFOZjVE5ma8ueflnG6K47QZfbxB2wGvEYyzmJUthYrW84klWJ6TiicLtqZLDqZKLqZKLoIihOLbR6SQREhzlAaIEqMMuJEGKSMBCHSBNFIPDQuGldolFB4QqGFhxYK8rl0QahcGBKBgcD0gthOGbYTwXLCmF6A4hge+f+V4aCMDNrIoowsSAeEJucGUWTqE7l86H8QyPz/eceJoZ65XrmyKG5jRKnYTKhHjFHkRKBzhHkzqtBofJOtztWLPQE0Ku+NMZSEHvYEitV0BQcAMUpb8VMTw+vDnumwsC6ja2RGdzTQY9gGT4X29cGbRu90qlGhx3HGw6o+u45nPVNQ0jiAkUiErVu3MmvWrFKxPKPxRo8j9I9r/4qtLb+mq7+BLx3+FPWqgv9ufIJ7q37Bn/UMkN37DbQyyfT/F6A552Af25b/A7Naf8yUfes4OnkWP13yZzxiZXkXa2k4uBV7xRwWrr6XZj2FL4m/5HN8mihxursn8fLONWBV8v74UgJYdMrHWW59icOiilsnVlA7WMuqtnYWbVJUxQWPL2igIhkBYEZnH4HZV7KjMUJCJEddWBUuaXOQPnuQASPDABZxHSSpQmRUEEeFMdxq6rVJnZOgQfXmhMJuJuXyetFHrYid0nNMEizSLubzcFE9XGhPEsLFRAMOBlktyeCnLOAg0NrAUBa2F8B2Q9heEK0MhDZAmwhtILVB2kwQC/YSC3QTC3YTD3aRtHvAcBDSgZzQNUzgEopiIWs4jRpBO1QWpd0g9qpgCAMpJIY0hsrC8MPXiCEPYpkTXcUx9SIP4nydvHdxThwuKue9i31vYzHM21gWvJCPpRm6Lob2GaJzwngORQpmwXDz4JCArXN89bDWYq/d4Vs8dZHQrod4Fzu0jxCY897URVMa9ic20rs6f2/FEENDvuY4nq5h6Kkdp/9JjzTy5vLP/1SFzmI+r0Zg1a9g7OF4NR/bq9XxnGz3xRMuY83cP311g43AG339LgVKqgE899xz2bdv35tGAHyj4/bFH+Ufjv6G/aFuttgHuDq9nJs6l3Bv5S/4fTTEh4Ivcjh1MZngRALpI/QHFeWxQ+ydeiVT9q2jofUA82YkeaTS5EBZlEbAaBd0d09mSm0zkzjCV/hz/p/+e2prjzBt2mYOHVrBPdGtfCC+lHp1Oa2uw1Tza3zx0Cy+EVrC41Ntfr6gFYGmoaeLBYdcpnRWcKC+isbDT3JF/EL6Zi1mUzoJysQ1B/GsGJ6RRgqTsFtJ2K1k4ij3q8iQNg6SNtNkg1kGhccmJM+JatC12MLE1gHC2qRGaaq1S7nKEtVJImqQqI5TyQBVeoBa+qkmjhSaMGnCpIG+k3ruLgZpAr7ZWQQK5ud8nhYBUjJI2gyQCuTaCJDBJovtm6eBkJaUYVCnDZxUHU6yEQcDB4mjDb+sDVz8s39d7efesLKBi8Ar0OVFlNEwXHM3XJNXLDD6tGIYTREPoYv4FfEdpgVkeD9RtM9x2HxguAZvlL7DxhyD5qQF3OPTndyCVgIJqSQCeakktRPxOYlxTurBnTk/Qsbx2uLK+UHWjLsBlxwlFQA//vGPc/fdd9Pe3s7ixYuxrOFq2yVLlpRyuHG8SkyOTmb6xHcTOvoTflX/ey5vXkKDqmFeaia7wvupij7O4dTFBIz5wBHaKyJMa3+Ovspb6aybRH3XEWa3PkF99Gp2Z6dzif0cqfZ9tB5eSm1tC2/Xv+az8p/5Hn/MH/NNJk/ZQToTpr1tHt8v38rtsaUEvWvoUrWcY/8bXX3LaD7y52SMJN2RI3RFjnBkylGS0RTzD0B7pSAVX8/AgQfpmlaPkmGMzAom9K7GVBbaHKAsso1Q8CBGIIgrTAYdQUwFGSSCRBL2woS98Ek9HxfoEh7tIgyyHENksckSIk2ZzhD1MlSRIqKzmNrFwsHGwcwFMRGAiUuQLFGRooIElvAw8SgjSRnJV/S5ORhksckIO5dbfp5LfnmozZ+1hYOZSxZuoTxUzxt1lRYFodErCIrC9wjWApUvI/z2vOfwCDov1zaSztMSjcDXRfoex35dFNoLZS2OuZavqxF6r3GMYxxnJw4faH69p3BWoqQC4M033wzAhz70oUKbEAKt9bgTyBmKjyz7GJ9q+SWqspmdbc0scaZzS/vlfHbGfh6tbaa+e5CAOZM0jxALB6lo2YzlvodDs99BfddXmdS6jlmzr2GtU0ZsWpDwnhSRWITu7snMrd3NfP0ST4hrmJJZz9X2FmbN2oDn2nR1zeC75Ru5Jb6QWr2SzuwXuDL8eX7lNjGQWcbE2BwmxuYMTbQStFakK1IEVIqpbTEO18dJBJPsjDyL5biEspJQJkh4cBmWtnDCisZpDVy2ZB7TjGayu35HqvlFUkjSmCRFmENmOXuNEN0igtRBbM8moALYygbA0AaGNoAg4J/wNphL7fm5nbQcognmtIWBvJimHV80005uR2GGEGnCIp3TLKaIkCZCCkv4fz8WHhYpIqRK8AYMwcXwBULhC4UOfmiXQhkDFzOnNfRDxBRCwmCcQlnm+MicgCgLgqI6pk0yVpATYJiz2Ugd4UidX57PUGxncew1CkbxAi8NaD2ybTT6Ib7HGgqLDbSjzXPsuY3OY/j1Y+nFca4dy2/43I6HV24sfTU4ltfpncfJ9TlZfe9p1gu/CRSji+3xH3qnAyUVAA8ePFhKduN4DVAbquW8OX9KX/OX+XXtQyxp+yjnpRdT61Txu6ji78PPcnDwLWStCQScNnoiAWo6n6VrwiXEIzVEEz1c0rGHtVNmcaR6EnPYS7JlL7HyJdTWtvBO/RM+J/6JH9mfpnHwT1hS1sfcec+htEFP91R+FtnK1emZzHYn0+t8kbdEv89H7TLS7hQmeDAxm6FCaSwRQQgDRARkBKhlav/x7y00CMmXYN1LvayjDHh3LvkwyGKQZZrMMlM4aOmRMqDfUAwaGVyRRQk/1p5G5Rw68seY+V//kvxestypE0VtEoHUIJHkRQVXaGJon1eR2dR3TChyjNDDTapaaAztYpP1jcHCyQmR2Vw+vD5UdrC1Q0C7WKicrs/XVpoii1nkEGPiaydDpT0f5FXD350ocxrGEQKjOFZgzAuSOqc1zKe8FlGL4nbQBVpGpz/pNNQfRhfY8vczJKCJUdqGl0cX/F4N7xPzKSVOB99Tk3lOl7B4Ovi+PgL2mY4Jk9e83lM4K1FSAXDq1KmlZDeO1wgfWHg7H9j5TWZOeZFDXR1Mcxt4X8c1fHXST+mqfg4G30LInI1y2uioiDDj6CN0Nq5h54J3cu6G/2HhoaeonDibbcnFLKneTroXIoPVdHdPZl7tLpbozWwTy9mQ/Gcme39PVUUH8+c/zcu7LqKnazqP2rs4avZwaXoRafdP+LK1gQ/Z+3nEmwZh/xUtz3azOHGQmcSpSvQAEYQIEXJNnLCFGawnRZZB08OVFtoIYKgAlmdjqQCWF8BUFqJof5uHjYdNVhUawPHDBJYgVOBphUKTQpPCFw4LQiQUvG7Jt47wui0WLH1h1hdUBfmcIvEpJ06JvNFVIwplhRC+0ddv84raFDJ3TYqR+j2NEHkjsh4hsuVORxmmZ4Ox9Gr+PQxvFyPur5h2tPYT8hXHiljyJOZyjC5SHNs+tl5w5LxfPUobf6604kdJRcQSOiwd/5mdDhHsVHieqe9G6dG3f+frPYWzEqflJJCdO3fS3NxMNjv82Prrr7/+dAw3jleJsBXm9pV/w7M7P8PvG+/jT47cyVWxc/mB+wA/qevlne3tKG8m2dTT9JaFWHa4Azv2LImKixgom0Rt78tc3NvJ/UYD1hxF+nnINB+guczXAt6sf8o2sZwn6mtJ71nFB+V6ItEu5s97ln1Wlvajc9lDBwfL2vjA4BqkWs13iPGj8DaeSDdwmEpidjnP2Ut5DmgKHeWcgReZMribQSkxBzwiHT04y8/lVvcmXqhu5+dV38bpN5jSOwGNQ1+4h+6yGH1lGbQwMLSFqSwMZWEqE0NZGMqkatCiJm5SlTCpTJqUJy3K0iZlaZ9eSRMtDLQwUDKXCxNPSpRh4EkDL5e7hk/jSRMlZYFeCwOBiX/Uh8wJpXkfVYnQMqc1HBt5H1UYZb17Fd/lxbJwqXiOYxzjGMergcUmLnq9J3EWoqRhYA4cOMBNN93E9u3bC3v/gEI8wLNtD+DZ5Eauteb9P1zNhdUDLF/3L0xy63m4/Dm+PPFH/MW+pcS6PkQydg/S62ZxSyeuNNk//y7C2QTnv/CvHJxwDh879128e96vmPBYG17WwJx+Lg3Ln6Cu7jBf4i/ZKM5hdvtOrtjyBHMueJGGaAyt4WjrPA4cWA1A2kjwkeQSLD0NgINmK+tFM52Nzbw4sIL9A/WF2APlmT7ee/RX2LlwzPUDcY5MTjNjyvtYmVrO2qpDPNrwWw4mB1h69DJmda/CUAbxYC+xUDN2+Toykd0csgTNAYNB4/jHDUUymoYBTUM/NPQK6nsVtTGojWlqYxAsYVRoDXhCkLUMHFOSsSSuKclaEscQOKYga+TaTIlrCFxD5pLAMySOFHimgSclrvTbPClzOSgpUEIM5UKiJL6JVAiUAJUvy5w+UOZ0ZkJiqTABN0LALSPghv3khbHdEEEviO0FMfWpxe9SKFzh4YlcLj3cXFzFoXaFJ7Rfxr+mBHjCd73xBeLi+ITDA5sIPbw++rWinro44uHwgCjD+uuxw4EU2ocrA8fiNMr8XiFO+tt97LFe/SxO0/6tVxDv70zaSVaauZyxn05JISqP8KV/GA8DU2qUVAB8+9vfjmEYfOtb32LGjBmsX7+enp4e7r77br7whS9w8cUXl2qoMwJn2wu0bedv+Kft/48rU/O4dtddaK34PzP+Bc1Rrtnyr7ipLbipZ6keTLHyYDtPLF6BUXkbc/bfy8TWp/n4FX9FZnqSDxg/ZXBdABmqJjOvlpWr7qNdTuDTfBlPmLzr/u8yJdbO9KtbqKrtBKCvdwI7dlyG1gaOyHCLM0itez2aIBrNXtlGx/QH2Fp5mG0730pPfz0dgXqEVlzW+QwLEztACIJZl9pEF8+fV801xvuYnJ3BWvcF1tc9y96qASZ2LmFh+0VUZOoK910b2M6y4GNUhV6gLaA4GIjSXDGB9vJqWiW0ZHrpck4cG7AciwZZSYNRQ72OUp8NUZexqRuU1CQNqhJAKkM6kSSdTJJNpfBSKXQ6jUynMTNprEwGo3R/kqcVSoArwTPAk0PJLao7ZpCsXYFrRv1kRfHMKJ4RRZlRPKMMZUTRRhQtT847+/jIInIJkUUIB4GDyJ29LISDlLlceCA831QtfFO1kKpQFzLXlqcxcsKa8LWvQuRj5xUF0RayQCP84H2AQApZ1JbvOxRJz49VWKTZzQdYG/EjOkedo2Fo3EJ7/lIuaqCmMIciigL/kfUCnRAMSY9D9zeMVIviLsMFWSGGC7tiKOx4QT7XxcxGwwn+Dk74Z5K7eVFcPwX2J/V3eOz8R7aMHlD8FbEeg2x0wtP5LTLW1Eae9V0q1C9awZTzriwpz7Nt/X4lKKkAWFtby+OPP86SJUuoqKhg/fr1zJ07l8cff5y7776bzZs3l2qoMwJn4wv0mR8vIxhJcdGWu5mbms+e4CHumvYF/vTlt5PtXUUm9m3QmstePsyBukpamlZgh67jnI3/xtaG+fzj8uv454v+gfb/rUXqAHLqcioXPc/Eibv5gb6Dh+V1NA62cuuP/hspPaZd10VlUy9aQyYTYfu2K0mny9FoztMvs9JZTlb5yn+FpjN0iOfnfoufDGRYtWsZ3Yl69oeno4Eb2h4kkHNgmNAXJ17Ww9rVc3hf+hYa3QZ2DqxjI0+ypymOCk1hfueFTO1bUNgXqGWaycG1rA4+xgRr57C1KRmpp7V+Jkei9bToDC2ZXlrTPbR7SdoNg7hxfJMt+AGMa4I11IZrqQvVURuqpT5cT23Ir9eH66kJ1RChjJ7BFF0DcbrjCXrjcfriCWKpFAPJNIOpFKl0hmwmg+042K6L5Tq55Jdt18VyHOzi9iLakOdiK4WtPCzPT6bnYigP6bpIz0W6LsLzEJ5CqtN/GLsSJlm7DMeM4FphHDOMa4Zz5QiuGcaxQoXyEE0IxImf/6uFUB5SZZHKQSoXqT1EIfeQ2j021x5SeQjtFuWqqO4B+XOh1VBCQXFd5/ZH5uqMoC3uSxEtkKvn9lTmT2eBEeX85ztEIwpLw1j9xqLROS3sSJrRULxnchzjGB0H33ku1/3j90vK82xcv08VJRUAq6qq2LhxIzNmzGDmzJl8+9vf5rLLLmP//v0sXryYZPKVxT07U3E2vkAHXvgKd+39JrdEolz4/OcwRIgf1f6OJ8LreNu2vyUb/znabWXu0R6a+uM8NW8qIriIKEtZtu2/eP+Vd3PRyhdYdWgD8a0RJjYu4mCdYMU5vyFlBriLr5EUZax68Ukue/FRkJpJl3RQO7cPgLQK0Lx3OR0dswGo0b1cp3eB+y4Cah7g/6JOBXr5dfmz7PJamX04gjMwSIvdRJmbZEr6CAiwXI857d1snJ3koYVLWDJ4LSudRoit5WhsA4frB+motalylzCn65xhWkHH6qUytJnzrKeYbb6EMdbG8orJUNZAXAraszHaUp20a4c206DNNGkzDdoNkw7TwDvJX8cCQVWwyhcIgzVUBav8FKgqlKuD1UStCoRZTpoQfa6iO+vS4+RS1qU7l/c6HgOuy4DrkVav7M9dKIWhlC8keh6G8ijTiqjWRNGUoygDIloRUoqQVgSVR0BrAloTRGEDATS2Bkt7WMrD0B6Gl8XICVLSc8BzEcoFzwHl+bnnojwXz3PAUyjPRXseKIXnumjPD2btuRJPGXjKQCkTpXK+zdpEaRuV84X2k4nGLOQaEyVMtLD8urDQYvwIqjMCeqwfIEUC5DGvth6jPISTFU7H7nOSwu1rqtR/LQd7bcaKVuzmfV/685LyPBvX71NFSQXAiy++mLvvvpsbb7yR973vffT19fHXf/3XfPOb32Tjxo289NJLpRrqjMDZ+AJ5XoafPbCEXyUMPtJ9EQuOvh+F4m8mf43Fh1dhddm4yUcJZlwu23WYHRPraK4tR9rzqc9OZXe2hZ9fcgH/Ou+v2f+/k+mqncWC6slkJz/PtOlbeCBzAz8JfoCAStH0h51c3vYk1U4vjSu7aVzVDcAhpuF1RejatwDH8ePvrdDbmIUmHriaibFFhflqNKmQw8tuMx39u4l3vYynFWiBIfxFoy6WZFp3F4+uUNw3ZwGDsauYmZ2EHTpAR/nzSHkAaaSoykxlet9qZvYux/aChTHigS5ikT1UB3YzzTjMJN3PdPqp9WIYYz1IaUEgCmjIJvC8LN2GQbdh0GUYdJmSbsOg0w7SHYzSZVl0CU2Pl8Y7xS9VQxhUBioLwmGFXUF5oJxyu5yoHR2WB80owgijZARPRhj0BAOuR7/rMeB4xHLlmOuR8DwGPUXCUwy6HklPMegpnNfJRG0IsIXAkgJLSGwpsIQo5JYUheu2kJhCYAgwhUDmciPXZgjhtzNGe55eg+FpP7kgPYV0NVKB9DQoDZ5GKI3w/DIKhKtBKd+rxs3TKd+7xvPL2vOFCa1yGjOlQYNWPg+0HtFWVM7leVqd4zOyDvi0moI5uVDWueU7Vx9WLij8isvjGMfrg6XXTuGiG0p7wtjZuH6fKkoqAD700EMkEgne8Y53cODAAd72trexa9cuampq+NnPfsbll19eqqHOCJytL9BLD93J79rWMVDpcPvaO4nIc0nKFJ+r+yHn7novmf7/AVzO29dKOAtPzGtCS4EwJ1LrzOUfp8/kj674KU0bDtO9rZrfvvUj3HBoMwtW/wIzkObTyS9yNDKFhvge+g9UsWzvi5zbs4EJczqZdHE70tC0MJnfD76dlfsOkozVAhAgw1K2UzYzRU3vlUQ7zkHmAjYr4ZIJdeBaMXp0O9297bT1tZJMOKAlUilmdPZTF+/ngXMFv5szj3jsClRqCiAwrR4IH8QINRMIHGXmYAMze5czpX8+hh5ylu8PdnCgehvNVTvpiB7C0BDUggiCMBDSLkE3Q1ApX/OlNbZSNHgeE12PCa5Lg+tRoxRRpY7x9fWAPinpNg3aA2V0RSrpCUXps8P0mRb9UjKAx4DK0O8MknASr+qzDhrBgoAYsSKErTBhM1woR6xIoZ5vs4wQUoZABkGEUDKAg0VGW6SUIK2UnzxNWilSSpHyFGmlR72WL+eTo8DRCndc6DizkN+PmN/bp3O7EYv2+g1d08Pqo2Gsa8foyfVxrp2Al9+n6OJJ8DrpuenjXDvJub2R8Vqa7D84q4FPLZxUUp5n6/p9KiipADgaent7qaqqGrGJ+ezA2foCJQb2sHbDW/jxvjJuDHpM3/H3VBuN9Bkxfu81Y7cexsu+RHUsw3kHj7B3+jL2VCT9/UyiDC9wEb+4ciKfq/k0u342na1TVnN44cXc3P0j5i14ln3eHP7O+CcQkpVbv8NLMy/CGqjhkvWPsJoNTL36KIGwQ4II307dSWp9lHM4hJV7haLEaah/mQnTW6nsOJeK1ksJxqcU5q+FS7L6ZRK120lU7yRltuOkJW7agLSgrN/BTHgcqBLsqqqiIzWPwcGZJJ0IKTdE2rNRGEgzgRa9RLIwPVnHgoHpBLRdGCdjJGmp3MXhqh20VL5M2jo1YczUmsmOy1THYarrMi3rMM3163XeiffceUC7ITlkWbRYFq2mSadp0mua9BsGg9IgJSUZIXCEwMPXmCqtXvnG9BNAIDCliSEMDGkUclOYhXZT+uV8Wz4VaPNlYSKFgRCGn0sTgV/3g4IbSGGCMAE/vA5ItDBR+Io2/zg5XXTsnM7l5I6cyynajinnafN8yPUZ4gei0Ach8kq1YZEFh5RwI04VEQVlW4HOD1Cdb/PL/ieV513Mw6eBISeD0T7Rwre7KI4+OApl0TxHNA2n18WZGEF3DBkFR4xRrulj2Y5K9+rxyteesedwsjxf3bo3hhH6VfEszRxeW9w5bS5/N2/RiQlPAWfr+n0qOC0C4L59+9i/fz+XXHIJoVCocBTc2Yaz+QV64fdXovYN8tlomrt3TKbW/Ci1upyYTLCpN05H3w/QCK566QBaGDx0xWUE2o/g5ZwwnNAKnGvjzOl+msPPTOR/bvsUb99/kIsn/w+VlR18J/lxHo+soaq/m3fc/2WeXVlL69TbicYHeev6X7H8/K1U1sYBeMpZw09eeDsL0u2cbx0kLUIASDJ0Vh7CqGhliogyL7GA6T0rKE8O/6Xo2gMkq18mVbGfdMUBMuWH0dI9peeRdW2yno2jbDzXAjeAcIIYbgCpTLRnkpIZkjJJWgyS1YPgaoTnH4GmTBNt2YhAABmwkZbE0w6um8F1s7ieg+M5uMrDUS7CcynzPMo9RblSVHoeVa5HjaeoczxqPA+joIHRQ1oGPdzpcaiscYCYIYkJg34p6TQNOqVBj2HQb0jiQpKQgqSUJKUgLSQZQUGAdIXAhRN4bo5jHOMYR2nxvnnv4zPnfqakPM/m9ftkUVIBsKenh1tuuYUnnngCIQR79+5lxowZ3HHHHVRWVvLFL36xVEOdETibX6D2I/eyc+fduBtr2VQZx26+iTViNfWqGg/F5p517I89S8UAXHhoPxumL2L/8jnM2Lqd7rKc9kqWUzkvSLrrMLuCK/jlde/lz7f8hiVLf0JKhPiU918MmBWct+lJLl7/KEdrUnQ2LmDLsvfSdGQ7N/Nzps89jBSadtXIj7feyIGumXzCfoCErCKWO69DAd12Py3RvUTCcRrSE5mUmM6c9BQWpWYP09oBeMKlO9RCLHQEx2pF20dQwSNkywdQEbCkgS3BME5NSDyrMGLf15AZa3g8u+LyME2QyG0zE6NcG5GPpjkqDvE2moZpeN+xNWCjaUtO5hvvZL4UT/aL80zQoIzj+Bj/jM5stHjT+dS1j5SU59m8fp8sSioAfuADH6Czs5Nvf/vbzJ8/n61btzJjxgwefvhhPvnJT7Jjx45SDXVG4Gx+gZRyefaR1UzbVMO3g5UsbVO8HFrG1dkGmvQCAA7Gt/Ni31Os2bKToHL50uW3cWlPDxOaX2Db5EaU8LWBRqAe4Wn2TJ3Boxddyd/2fJ7GiTtYm7mcrwU/htCK9977TSa2HwE02dAg5qT3cu/yRSzr+DVr5jxFlewHYHP7Eu7ZfyHvTe/hanMHL4hldDLkvTuIpC3QQ7phA/Ore5lsNSI75iG6JtCQnsiM7EQqvLJR7zlmDNJqd9Ju9dBt9NBh9ZGUGbQWeEJha5Owsghri6CQ2AgCQmPiOyGYCKT0EIaLkPnkIaSTy91jriEUQqhRcv+4NL+uQXpF7QqE57fn6IU8/WFaxjGOcYzj9UBb+zRue99jJeV5Nq/fJ4uSCoCNjY089NBDLF26lGg0WhAADx48yOLFixkcHCzVUGcEzvYX6NDeb3B419dYvr6Bb5WlGUxcgRaSa12HCd41SARxp48N/c+w+rkHiFshPvG2u/jEC79lXvtO7l1xNSHnIP7uM4FpTsPC5Ldvv5i7Kv8Gy07zpcHPsjG6kDqvg48++gXSBwMACEMxocbEmnkdv68oZ1rjH7gg8BwAyWyIRzsvpqe5ii85/0tGRFinl7ODOcO2GgxokzYrQaZqN3Mbd7Esqil3J9LRPBGvfzqhRJQat4x66qjVNSc8fi0uk/SZsVwa8HMjRtxIMphLCeGQFB6DWpHSCjARykIqC6ktpDL9srKRysJSJpaWSE0h6LCpFZYC2xXYCmxXYnkmlmtgeQZS55P0c+XXBQKhJUKC1AIpDAxpIqWBNHJ76qS/n05KiSGkv59O+oF/8zn5uqAQzFhIge9e6uVi1OUEVJXbPZeLP6e1v9suX/e9S3O6uvxXTdFXTkF3p4dqhWquooeiBo+hvht5kukJvtJG3ZV/El+Do/Yr1jCOcr3E1vJX/m39SifyWpv7X9l4r7UGT7/mz+XNjQXV7ay++x9LyvNsX79PBiUVAKPRKJs2bWL27NnDBMANGzbwlre8hZ6enlINdUbgbH+BXDfOM0+cw7y1kzmqlrEt28HhwHQmt7SweGqS6ODtRGUEpRWdbU8SWf8z9ldM4K7LPs579z3GFfvWc9f//Rve/vyjlPXvy3G1CZlz6VsR5dyl3yWuo/yF9zXigTDLszv440M/pGN7llSXv89PmIraef3UzAnzm/I1XBp4iCaOAhCPRbi340Y+3PoQ58tdJAnwc3U16/USamUKWbRgO1rSJQSxUDd1NftZ2rCfibYmHquje1c1qd0mlaKCiFlJyI5SS5iojGIHawhatZjSHvl4TggPRVKmSBgp0jJLWmRIywxpmSUl/XJG5MtZ0jKDIxwc4Q4l6Q6rZ4U7nCZ33RMeHgp9qi6HOufNqckJkMeWAYQWw/YWwtBSLfL/CqdL5E66KLSJYadcCBi6XnTyRHE/iulHXBvKi3kWncaRn2fRj4FhJ1kUL96iqD6Cfkw+hbGKHoYeTjec/licqF0UhN6T7Zs/+2M0WjFaIyOexAkx1j7uU+NyPJw5htjTIt69QU74GY4zY87XTLmad5xzZ0l5nu3r98mgpALgW9/6VlasWMHnPvc5otEo27ZtY+rUqbznPe9BKcUvf/nLUg11RuDN8ALt3v639L78CMu2h7jXDLFLrQIhWL1nL9NmHaW/7zamRuYAkOnbh7P+WzxTOYnPn/N+piQ6meO2ct+7r+fKfU+weu063HwwcBElULGMuiUH2Vcv+M/ajwDwf576Lqt3udiVcfa6fcTjOXJDUTkrxqbF55KoqeAmfkkE3+t2IF1GbM8k3t/3HIbQdFoV/G/N1TQPTIK0RVgpAmL4OdRaQ0wIsnKQGqOD+aIFFdN0toRRrq8JlEoxuSfG3KM9mFYYGSjHKavgwLQKWiZXEA5NZHZmGg3ZGgLaKnhLCsQJtYmnCwqFVzgf1yuU8wKiEmpYmxpxvbhdo1HC1+Dl/+XrCo0Wirx+z29XRdfG7qNyz6m4rnN9hjjCyL19xcJtsefrMfRiOM1w+qJWMYL/KdCPOUd00f7FIR6lxulZlt84XE/5h87J8n2DcD1dXvxnKiYFavjLj3yhpDzfDOv3iVBSAXDnzp2sWbOGlStX8vjjj3P99dezY8cOent7ee6555g5c2aphjoj8GZ4gVKpVtauvZTFTy1CeYv4nT5Kiz2FiS1HqJgwgfrYRnoSS1hRcxWWtFFOkszme7jftvjPpTejEZgNBoML6rnUeoIbtt9L64ZapOsAIIwGrLILaJ1cy4OLJhKPaD53/32sfOSXaKC7vIx9E2rpCw6FXPZqwjx67lUsnrydq3gIy/dNpW+wirlH+ljQ3Y1Q0DIxyIHpETwhiA9W09Mzmf5YHclEFcoJjna7aBSGl8Z0Mgg3i8hkEakMFfEEs452UhNLYGezSK3prIDnFgjWzpeI8ibOH1zGBbGlzEhPQMrjnyChVBa8DFpl0dpBa4XWHlprXGGihA3S9k+jkGYu5IkfoFgCfuATkOMeueMYxzjOcuz0NnD1v99VUp5vhvX7RCh5GJj29na+8Y1vsHHjRpRSrFixgo997GNMmDChlMOcEXizvEDbt3yM1LYWFu8d5BGq2CwXooVk4bZNVCx+G4f2/w6to5zf8B6q7QoAsoee5uHEPr4w/0ZcaaINgTutjEumruMD6ts89UIDNbuqC2fMSmsmZugSWhrr2DvR4eqju5m/bz8N2x5Duxn6wwEO1lXSXhEpmNr6o1XsXr6YmTMOcpnxGIbpa/mUI5nSmWBiWxqlJHvnhOmvHC6QZbNB4vFaEoNVJJMVJJMVpFLlKGVyYigsmcGWaSyymNpBCIes7TAYdFEWlKsw1U6E6qSBnXUxtMQ0wlhWOaYRwVQWJiamsjCUiZHfH6hNhDYhnUUnY6hEPyT7UYkBMq5DGpOECJCUARJWlEywmmywmmygAilkznCocQU4QuNI4efC17h5ApTIaQqFiyd9s7ErFFqAyguUQqK1JK/PLNZp+q0gc8a/fF0Mu1aci1GvjUY38mQVUZSPFHXFiOsnc224ifVENKUZsxQoJb/S8iodtzPxp8yZ+NzPxOd0urFH7eYv/u2jJeX5Zlm/j4fTHgj6bMab5QWKxbaxYcM7WPbk+XjuBB7iKPsDsyjvH6DfPsAa5xo2H30QicGSho8wJ1SGEAIv1soLHY/wt0uuJ53yBSsdkEye1cWnm/6FbT2azhemMrnVzFlJJEZgCWbwfNJBG2W3EAjGqJBRZnQnaTpymPjAPg4GErSUW7iGL5K40uDwnJnMbTzE4ppt6NqhVzqScKnvzpLdG2Zzx1K6qiuI1YVJ1lpY0TTVso+q7ABCOnhS+efHuibCM1GOjZsNkU6Xkc2GcJwgrhs4zU/b9/oVOW/fUXN0gQZGCB3Dt7cN860Ycpbw9/dpUbSNTRTxKOagixkNBSLOY2Q4l5OpH49mNJ75WY027vDysXTokTvjjq0DIwIrj8TI9qGnNKxtRMdhjgLHMB0lPM2rWtpPj1hwUouDPvNEkpNf1M68ub8ynC33MTrcYJb//tRnS8rzzbJ+Hw8lEQCbm5tPim7KlCknJnoD4c30Am3Z/EHUCwbzWw/wmK7lJWaSNoPM2vsy95+f5IbNs2gb3IthVNFYdTurIhZBKdFOitY9P+Mv11xJayyCm/F1PEZU8945v2JF5TNsbC1j2o4KYs1+XD8tAljBczACy0FIMsEuUuGj2GaGWl1BvSqn0guhEr30DO6nM3uUtJfA1VnikXJmR45SPq8fe04S0xja+xdKeAR2CeR6C3uPRGYEmYDFQFk5A9FykuEwnmXhWia9wXKOBqs5EqyiNRQmY1lY0iMoM4SNDGGRJSQcbNPBssAyNAHtElAepudheBrhASp/WkROo6YkKAOtJUoZnO1f3OMYxzjG8WoxZbLDh+74p5LyfDOt32OhJAKgYQwZbvLsij3G8ieBeJ53TN83Mt5ML9DAwBY2PX8by56+iKyK8IQ4xC57MUIpwp3b2DJPce4LNo5KEw3PQQbfxuqIQY3pa+lSux/gv+aE2DB9Jm0tVWjPfz+qauP88ZzvMTm0D9UW5ui6JlK9vrnWM8sJBi5CWnMRQuCYcVLho2RCnYUN+VILojpEmQ4S1CaWEpiexnA90iLN1qZOZk/cyLSawwzzy/DAOmpjHzaxDwqsAxqjwxnVpKWEIBMIMBgM0xeM0h4qoy1YRZdVx0CgjAE7wkCgjJgdIWaH8QIGKhpARy1UuYWOWuiICXIEb62RWmO7WYKuSyirCWYEtqP8uusQdFxszxcsLc/DUh6m8rCVQ1B7BLVHCIWtlV9HE0BjozCEP6SQGt8ArHLOGX68wULkQKGKHBt07piyofAtBRcO4fNQuYPVhlw2hpw48pvT8xxVTsVY4HSMUkwXZODh+syRdCOQ00rqvApTj+I1O6ZsPcKN+ZgRiupi9PZhOsEx+eSJX2sjS2nGO6mfJiW9t9fyOZ3kWOO/z84I1AVnc8MH/7akPN9M6/dYKIkAaJomkyZN4oMf/CBvf/vbMc3R91EtXbr01Q51RuHN9gJt2vxBrKcnMKfncX7tzcNNa/ZHZxBODPJc04tUJUIs3u7/GJhcfRndeimLQiYzAn6b07aFl9oe5Oe3rKFn0GZnx5zC2j1hYg93zfwPqq1+2nY10byxkWAyBYAONmLal2IZEwHwpEc23EU62IJrpo47Z61hn1fLTqr405qfc0HtRgaqTVKhkbvNQDlBvMFaVKIGYrUQr8GIlWMMhpDKQ3oe0nNzuYdUubLrH91meH7uIEgJg6Q0SBgWg9Jm0LCI2RaDkSCxsjL6K8roq62gvyrKQFkYxzDwhMCT4Ao/eYJRQ4ucLAxPY7kaU4GpNJYCU4GltB9fUGksDYFcOaDAztWD2q9bGj8mofL5GHoomVr7eaE9V9fFdEP98u1Saf/4ulzIQKlyZ+aqnCCpcubf4lzrwlm7hbN5c5/vkDhaXM+dr3sMHYUzfovP/z3GHK1H1HltxZNxjGMcQ1g0q51LP/W+kvJ8s63fo6EkAmB7ezs/+MEP+P73v09fXx+33XYbd9xxB/Pnzy/FHM9YvNleoIGBTWx95k9ZuPZqUrqLx2Unnc40BsNRQvE+frT4CS55qYHpLQFMYbGq/t3s0kFqqWBZ2MAQAifWSvL5r/L46jlYF7fyg6Pvpa23AQBhaG6a8QBXT3mCHWoeG7etZvGWTdhu1p9A1USUfQXhbC3gL949NbDCTVImk6RklqTI0BLI0mtksLMpDOWgUPQR4BlnBpZO8xnrx1wZXs9AuUlvNMjR8gp0WQY5xmkaSkkymQjpdBnpdBmZTBgnGyzsC8xmQ2SzIbQ+VqgcDSK33yzvRFEcEU8M+0exggwQRRq0oU17eqwIcMduS2OY7kqMqOegRwidPu1wumP24Ilj24/hMVbbSMXoKfAYjjyj0Xb5HZ92LN55vWJpFEHFXMa+m5Fjjjn+aCxG/cxPFqW5y7NBUD65T+r4/cZROtRHG/j4x99bUp5vtvV7NJTcCeTZZ5/le9/7Hr/4xS9YsGABd9xxB3fccQdSvj5x0U4n3owv0KbNHyLw2AKmD/yW73srOD/+HL8rfwuuZeGqHu6b9iRve2ESNf0GQSPCJQ3v5qC0SKRDrI7YBKXAySbJrPsK8XQ7/ddJXpozge8fuo2BlL8HsDrYy7WzH+NHjXdgJBUXvvg4i3dvQmoNEoLTwtjyQrI9iwvz0tF+pla3MDkSI+BF6BVRvjm1hnUV1RjxLJdse4nFB3ezzm7ghYqVLJf7+HvrByyUhwEY1BXsDl1Ee6QBHelCRrowyrowArGcCfXE8DwT17VwXRvXtfE8v+y5Nq5roZSJpwyUZ6KUUUieMlGe4TugKFnYL+gnUciHruX9TceXm3GMYxxnP5qic/jw3eMawFLjtHkBd3R08N73vpennnqKrq4uqqurT8cwryvejC/Q4OAeNj/yUeaufxdx8TT3ihAX7tvFQ3OuQBkGHaE2NlQ/z43PTCSUkdhGmMsb34swqtmV7GJeuJ5yQ+BpRf9Lv8be/zCpOpPEjWkeDp7Lr4/cREL7MfoaKrponj8fXRGgtqedNc8/xPSWvQCkAiF2LTifKjGXWS0BzFzwZs/Kkp2+F2vWBsrLWignRpQYaULEdTl2KkC6vZzvt1zNwcwkbjae5lPmz2kQ/QDEVYRD7sXA1ZQzGaEtvEA/TqgLJ9SNE+rGDfTh2jG8wEAh19J97T+MQkyXnNpHiyF1XHFeiIxclI/WVsiL+4uc9k8UNIZ5XeWQBrG4zAnrw0/eKHZbznsdFwu2I4XckR64I7V+J1InnqS68fiXTowzRg1W/FxexaTOmPs5GYz/MDrbYOsruPidf15Snm/G9XskSi4Arl27lu9+97v84he/YO7cuXzoQx/iwx/+8LgG8CzC5i13EXxoFiL+e36nFrPKfQp3W4Bnz7kILSWdwU62VKzn+mcnYbku2gqxpvYmGgKTaEnHCJph6i3f0eNQ1z4qnv8qppcmM1PRc6PgtwNX8XDfZWS8AKChMUl6/kywJAubt3Lu809R09cFQG9FDWtXXU3Um8Hq/RmqB30zrgb2NllsmB3kQINJGXHKiVHOAFFilOsBeo9E2Ld3MtLV3GY8yp/Zv6ZC+yeVxCImh6eE6KgO4Dk22o0gnCjCC4IbRLgBhBdEeDbCCyCU4ft4aHJn6CqEUCA9hHTBcEB4hbqWLhhZtMyijSzacHJlx3e2EB4Iz8/HME2PYxzjGMebARUdN7LqvV8sKc836/pdjJIIgG1tbdxzzz1873vfo6+vj1tvvZU77riDhQsXlmKOZyzerC9QJtPBxvvuJLrxjxHm1/iRWsDdbT9n28E5rL3wAlzLYsAaYL+5iYtemoCRHURJScOka7jcWEJGafrcJI12BIDmTJr05h/Q2L4RAaRWeLS8JcRP+m7i+bbV/qCmhzO7GjHJ4lPqH5EbG2B7O05O8RavquShC6/HENNYvS/DrHanMN/uqGTD7CDbpgXIWiO0AxkPc08M82iSMpJ8yPo9d5oPEtW+c8mB0ET+d/J1PF2/hIDMECJJkDRBUoRyKViUH9uexuRY7aBWYpgZ2Df/GmjPRCkLTxm4WpBBk8XF0f5eRKENUDZ4FkIHMVwb6VlIZaO9IBoLlIHAQGoDofzwykJLPykJ5MraPz9WaIGhBRKF1AKpNIb2MDwHU2WRWiE8B6kUQrsI5SK0h1AeaA+hFVJ7oBQCD6E9UB7oPL2X8+Twivr59Xxbnh5U7po6Vo9zIsXOSI/UE9CfgeHrxjGOcYwCr2wN5/z3N0vK8826fhejJAKgbds0NTVx++23c/3112NZox+DtWTJklc71BmFN/MLtHnT5yj7w2QeTOyiT5VRIffyznVP05yawNOXXkomGMAVLj3eYaYeFVjxXgD6Ji7gVnkOUbOBuOcSkf4RZ92uYmPfDpZt/DHhdA/a0CTWKDafO5kfHHo3rUnfA1hFLeQ8m89V/S3RTIyO52aT2pfA07mg0FUR7r30FgbC01i1L83SgxkCOfkrY8LW6QE2T7PprDJBCITWNKQ1wZ4MnYcGUAmPKmLcHnyED8qHqFSDABwJ1PPfk97NjydcR9IIn9KzMnWWABls8nlmWN0a1p4tXB/ZbpHFxMXCwcLBxMHCzbX7ZRMHExf5Km12SotcMlBa5srS95pVIrc30Q8onTdDC+W72gpFruy70hbkOp3PhV8u5JA3O+frGlFw2xV503aujyi49vqfn3+ESc4YXXwtN75QPn+h8/xyc8731Xr4tTwfnQsbXSjn5+p7MAtyPMiPrYeu5+dW6DOUi+J6sZNPoX/xfPXwPgyfZ368Ye3D5jrCzUdT3PEVRXEp5j0mjpHFT3KgE5CJV7BcvZL5nhz06YvwUzK+I3/lvKFs+QV0ROfztp/+oqQ838zrdx4lEQCLzbv5+H8j2Y7HATy74Lppnv/pR9j00vuZYnyZ38hz+ev0T9APewyKCE9feSX9Zb6Gz3E14f527O6jSK1JRiJcnKllRtM70dJAozGFZNDTrE2miHT+gUUvPYzUChXWDFyjeGDqefy8+XpcFfIn0Cj5zJx/Y1awmf5YJQefmo44mgb8xSbWUMd9l7yL7vImlhzKsHpvmtr4kCl1f4PJ5plBdk+0UFIQdjXvP5Ch6lCC76sk/UISIcUd4gH+yHqYKpkAIEWQp+1z+HXwHA4GGslaAbK2TdYK5vIAGTtI1grgjREO6bWAoV2MnJBYLBzmBUc7Jzj67R4SDwMPExcjVzdzbQYuBiqXH1sf6u8W+gz1d33N4ogkUEj0KG0j6fQYffPlcYxjHGc72vct4tYP31tSnm/m9TuPkgiAhw8fPim6qVOnvtqhzii82V+gTRvvwX1Q8ulkmiX6KMmAwxdav0nrs9UoIbjvpjWk7Fok0o/DlkkhelqpiPUD0JDIMnPKh5hcPhFPKwwhcbRmQ8KjTbWyZOfPaWz3nT7cGk3nW02+Yd/Ii93nAQJtwAVTn+CDM+7DlB5dHbUcenYSVncGACk03VMm8euLbqGvrJoZHS6r96aZfdQpCA6DQeFrBWcE6CszKHM079+XRrck+JlKkxKCAFk+pB7gg9ZDNFjxwv0PZObRmj6f/YOV9GXa6ct24Ooh07MnJY5p+wJhMEQ2VOanYBgnECIbCOJaNq40cQ0DVxpDeXG5qE1JiScNPCnxhPRzKVHy5ELQnHXQuaPxUMhcWaL8OIO5MpDTiOZotS5oxUQhUVTWhT4ip5bMa1SH0wzvB6PQ5VSaQlCY02j9izUzQ64zRV/NRaqmghZMDKcZq1yM0QMGjdXv2Dkdr/3EfceYa/FtjsbjdZTyT1pzOT6H04qm3h6+9J5/LCnPN/v6DafRC/jNgDf7C6SU4okffIyv776B6fIxjkQquCa1jbdseZ7+fRGwI3z+1npq3XmUO/7zSRvQgsmyHeuRWiGVJhq5iPNqzqHCtBBCoLRmW0pxOKsod9ayYNtvCMd954zsNMWua2r5YurDdMb8eIChQC/vWfAgF9WtB6DtaAMHXphCpNM332Ytmx2LVvLU8itw7CCVcZflB7MsPZghmh56/Q80mGyaGWR3k4UBXHY4Q+W+OA+qDK4QCBRvd5/hw/J+FoaOFpxVM9kIfamVpLxrSJpN9GU7Gch2FVLSGxIaR8I1IBMSZIKSTFCQDRo4loFjG7imhRAGQdcikgkQzJpYrkBqgRZ+QkjICYDKMPAMEzdX93LCosoJi0MCpMQVwhdQDchKj4zpkjZc0qbj54aDa2iUkCAMEAaafG7642KghQHCRJOjwwQMBBYUkun3zen8EPk8J3rl74VcnMP8gx15cso4xjGONyXmNB/g6dvfUVKeb/b1G0ogADY3N5/SGb+tra1MnDjx1Qx5xmD8BYLn1/2BzQ/38m+pKFfJjcQr4Z/7f4x+XJHpt3Cqm7jzg93MSCxgzsAcBALXkLzYOI2F29fS1HEEACGiNEUv5vzqRRg5AWB/2uOltAIZY1b2l0zc8CJGxr+WWqp45PwlfKfnfWQdG4AFyT3cXnYvkytaccs0RxL1HNrXRGDANw0PhstYt+Iyts1fiTJMpNLMPuqwYn+Gme1DWsFEYEgr2FsmCSRcyvYPkupI+idWAEudXfwpv+bS8C6CxpCTR1uijvbBxWTc8ygPTqEs1IiLlxMGuxnIdhF3uolnu0mq5HGfrUaTCmgGw4J42GQwbBIP2zimwHI9ylJZKuIZygcdAo6B5QksVyK1QBkmblklXrgMFQyjrADa8PVT+YDTx4VSBLIZ7HQa6WXQKo0jUqRlmqSdJm6niNsZBsIuyZAgGVAkLBd1kjETT3DjSHwnFa1N8AIIHQYVBB0AbftJBdDaRmCjtY3WFmgbjYnWVi43fYFV5wRXLdEYvgCKRGsjp48zcvo7kcuNQnkojE0Ow8ri2PYTXc+V83rIEzu3nNxjO2a8V83rFC+U9D5OgfaMwBtuwm8oNMk21v/xu0vKc3z9LoEA2NDQwPXXX8+dd97JOeecMyrNwMAAP//5z/mP//gPPvKRj/Dxj3/81Qx5xmD8BQLXdfnV1z/LZ4+eS5he5jTsweuK8oPsv3L44Vq8rKRlxiTuvqWNqmw1F7ddjKV9J6EDNY2kRZyLn3ycbO48aWnUc3H9jTQGqwBo9lJsj/t+tOWhnUyP/ZTqtT0IDdrQ9F8i+e6ct/JYx6VoBIZyubBrPdccWUtNMkk44zAYtDlYV0Ha9sc1FJhGmERZHYPhMuLhMI5dRZnTSH28iqA7ZE5tqRFsmR5kx5QgjlKYhwYxmwfJH6Rb4Q3woex9vDW4gRmh7sJxwwkZ4qHaC3iwZg3txioWxAyW9Xks6feozFmJPe2ScPqJO310e30cpY8Btw/HiWGk4xjq5GILOoZBOhggGQyQDNokgzbpgEXGMsnYJo5p4FoGjmnimhaeaRDyDMIeRBxNyNGEHEXQVYRcj4B7CnvrtEZ4Knc8ngLlorWHh0dWatK2JBuQuJbEsSQZW5O2NBlbkZEuGZkhIzOkZYa0yKDzXgwFp4XhHhRDpqhis+lotEPlYearMWh8cbtonJyZ2P96FKBlLhnoQjkfT9HPdU5oHWrLaTq1AHJ98rzwA3yDgJxndp5O6/xbVBSvkRHxGYHC4dZ6yBBdXB/qV9w2el2P7DOsPhKjtRe16THaj9s2Fo/RDMgjeYwieZ9wDqc6tzcgziI397qmFM/f8Vcl5Tm+fpdAAOzt7eWf//mf+e53v4tlWaxatYqmpiaCwSB9fX3s3LmTHTt2sGrVKv76r/+aa6+9tlRzf90x/gL5eOGFF/jeAy38wQmxJHCAuvpmLmxr5pbuJ2h5qhq04MmlZXz9ujQBN8CVrVcSUEEEkDEteusFi+9fTzosEfjHvk2vuJhVVecjhaBN9rNpwMb1LIRwmNDwIOXPbqLpSDcAXkTTcmUZX6i4nf2xGQCUOzEu7n2O6clD/jKnFJbr4Zq+GRTAcj0m9saZ0jNA2HGRGpSQ9FQv4mjThfRUL8iZOkF6Gar6tlM2sJ207uXpCUt5um4J/bZ/eolUHlcMrOcD+mGWVR8mGkwXnk9KB9gq5vC8uYSN9jxCOszErMGktMHUtGRqSmJjIKSRM7dKtJD0GA57AymOWAk6RZK4GsRz4oRTg0SSg0RScWwn+4o+s4wVIB3wnVUcO0DWyu1VtGwcy0ZLfx5CCAz8M3xt7WF7HgHPJei5WMrz5yp9s24uAOIJx1ZA1rTImhaZXPLLdq5s4homTj5JY6hsmDiGX3cNs/BZjuMMhD7Z+JVjLUEnuzS92v7jONPRkF7L1us+UVKe4+t3CfcAptNpHnzwQZ555hkOHTpEKpWitraW5cuXc80117Bo0aJSDHNGYfwF8uG6Lv/+79/ifwamIIHLJj7FurZV/Mr8HA37u+nYWAnAjy4Nce8FDiE3yGVHL8cSYUw3p3Ex0hxsjjI7myCY3g5oqu0JXNJ4CwEjSEwmeES1Yfb7jkThQDuB2FFmbLufikQnAE6jZsNlU/kP7wPEsv6Y0xOHuLBvLVXOwPFvIhc6w/I0Adcl4LjYKoQbWUyqfDlOoLZAaqd7qOtaT337BrZVNHDfzIvZWTO9cL0m1c8fdT/I9XIdEyb0YYWHFkLlChLtAQaPBhg8GsRNn6rzhvAFLiRaCjxACZE7FETklFKC4sgpBcVR0f++ciDnfpD33M+ZJYcOBRFF/cXwfnn+x/TNJSlzexSL9G+FE0WKxs3T5E2iRaeODO1zzO8VLKYZuq5y+xm1kCghUDKfG2gh8IREGf4+SP+axDMkShTvkxSoXH+dE2q9XFkVxpF+xBkhc2WBHtYv558sR9xD7nMD0Ll9jcPuJ1f3FX9+X5V7zkMKqSJNWLH5mKLyKEo7RZGAPOJaMQ91zH7L4eMV6IQci2wYv9Hqo83hVOhOGqP8CBl7kRud9ljlWYnn+Bph1Gf7Rpj4CFQb+/nFh/5fSXmOr9/jTiCvCuMv0BDWr1/PX/+2lT3Kpi6SZnrZdvo6G7nX/lsGt9n0vBxFAV97ewXPLEoQzUa59OilDNRWUd2dxtQKoTzWu1NpGogwf2At2jlI2IhyUcPNVAUacPH4ddnzuB1ziTgVANgiRvXRHcw49BuCGT9US3Ie/Gb1Bfxk8AY8bSC14uq2l1hVuwVzYjtGNkM2ZpHoCuHELU7mC1EYEzACCzHsuQgRKLQr5wius4MO+ni5bCa7I7NIG8HC9UnJVt6WfoZrrc3MKu8kEsgM49sbD9PeU05XbxnxWMg3p2qNUH6YFKGHzJFC66JyTnwb4ShZHCdt2F3l6fPto3hejhpHWReLL68hTvJb6eTnVbqvuTfe8jmOcbyx0T6pgbc++GhJeY6v3+MC4KvC+As0BMdxuPtf7uG+RCNRYGrjy7zUPp9bjCf4V/NbHH2+itjhEK4UfOkdYV6cnaEiU8FF7RezZfF8ph7sZ0LMDxbdrqK8nJ7OOfEeapOPEcikWV17LVPLFgDwaPQFNmSTzO+4AIHEEikM3U24dQOLDjyJ6Xloqek+N8DXp9/M88mVAJQpuDRlschJY5T3Y0d6MQM9pPpbiDf3oXNxKl3T4tCkmXRV1hF0stT3dBBOJchaJpbjUeZNICxmYRhTiuJeuijnAE52D/ssxY7oXJpDk4dpIyakj3J55gWuMLYwL9LOhGB8mLIi6xkcSZXTnKikOVFJVybCuLgxjnGM482OGkfywV/fV1Ke4+t3CQXADRs28JWvfIW1a9fS3t6OEIKGhgYuuOACPvnJT7Jq1apSDHNGYfwFGo7nX1jPR3/TTj8G0yoEGfcosUQF/2x9l+vFWg4/00CqzY9n98V3WGyc7VKRLeecvkv53YormdzexwUHtiMVuFqw2Z1IT7aWFc5G5vRtZZa9kiXVa5BCcsg4wpfrf8viw9dRl5wMQL31MttDXUw6vJ+Lt74IgApp9lxcx79W/BHtTgMAk1zJFUmLejVkztLaxcu8hJteD9oPH4MIko0up69uFYlwmHCqn2C6nwNNDXRWVyA8jyndDrPbMpRlhoI+Zw1Fa2WGw+WDHNKKwWSAVHZIawgQ1XEWe4e4kU2sNvYzwT5C0EgPo4l7AQ5lajmYruVguobWTBVaSwIobK0x0X6QFe0HWjHJWwF1Lj4evvm0yPFhyNUhrz1UaOWhc0ez+blG571cKA7RIgomzSETZrEDxggHjpNAsavGsLzIdDp0LT+f/MxGZ1iIs6eHeudj8EGRRrWIZkx+Y8z3uMib0I9zcbiPw4i2kbRjTGx0894YtCdj0jxZXqO0jf9MGcfpRKJmDv/wtX8vKc/x9btEAuBvf/tbbrnlFq644gquueYaGhoa0FrT2dnJww8/zGOPPcbPf/5zbrjhhlLM+YzB+As0HJ7n8eF/+yGPDdRSiyBTlSDeF2aZ3MPnze8yVzdz6JkmMu3gSsmXb7bZMMulPFvOIu8y7ptzE2WZNLe++CB4vsdul4rwnDONpLJYk13Hhf0eF9VeTcAIkVCD/GfF9+gT9Zx75DoMFUTiUlaxgZ9Nmsyd9/2EOS2HAHBqNU9csIj/Mt6HowMIrVjTeZDrOlvR9WXEG2tQXjluKkR2sAUvvQGt8vsGTYzAEszgSoSMHvcZaDTFIVY8AfGQpD0Mu02Pdtch5g4/EUcagnDYYLXdylV6B6uyW5jmvoTNcIEwqw1e0tN5Uc1ls5rFdj2dI7qOkcuvAVQhqEYwBclMDCYiqEdSpQXlShESAlOe+KQS7WbR6T5Uqhedyuf9qPQAOj2AzsTQykVaIbDLEHYEYUUQdhnCDufySK493xYBI1DQnoLvbasZIajqYt/cIcFS6yIhU/jC7jBhdFgpx60guA7t8SoOx1wQLvOCs84J0XkhMleXxXneRI8qolNDgmfBZD/KV+yYX7ujeSyfiG6M9jFphjcM7z5G/zFRJLwW7SsdxkGMFHBHCrYj+4gxJcpjPYH1GO0n6DvK3soTjzec/qQcjUfl8Vpg7AmNPp/TOcsT/zw40ej7OMrNX7+7NNPJYXz9LpEAuGjRIm677TY+/elPj3r9X//1X7nnnnvYsWPHqx3qjML4C3Qstr60g9t+uI84JueVWWxMJjGUx2pxkK/YX6FKxdn9VBN0gmPAf7/V5pmFipAbYlL0OtbW3UhApfjokz8nIytA+OfSbnUnsN2bgFCKywf38mfBmVTZtXja44nU7/nF5PUs6r2BKX3+edMhs4ufr6yloe0lPnzvj6keiAEwOENyz7KruV9dCUDEG+SObQ9y9eH1OPMVXTdYyEkZ3HSEvn3VdG2L4CTyi4xgoGYh8ZrzkLKamliCqsE0nhEEYSNPMuxCGs1+0+OArThoeWRGdIsqwQxXcaE+xAq5h+nWbiZYuwgb/cfwSqkIbe4MWt0ZNLszOOjNoEPV4wj/DAzfSQQ8dFHZ98Q1hCaKoBxBtfAFxkoklUAFgoiQyNxaLIUv1uYClvi+GxT5HbgpSMfQ2ThkBiAT8+uZGDoTRzsJdHYooRVYIYQZRFhBMPNlP8cMIazg8LJhg2EP5eaI+kkItOMYxzjeeOjvfYFF3/xUSXmOr98lEgCDwSDbtm1jzpw5o17fvXs3S5cuJZ1Oj3r9jYrxF+hYaK352Jd/yoOd5VQiSFYIsgOKd4YeoS/dxDfsf8FUHtufmord6aCA/73C4nfnaExlEqp5Fwei1zHJaeaGZ57DM0IF3o42eNmrZafXQMCFz3seS+xGAPbFNvNb8z6ONtZwQdu7sJxqAHZPgMeWhLjxqd/ynkcfwHQVWmjalpXxhWnv52U9C4Dp2UP83xfuZW5PC9npiv6rBc4SP2Bf/EiEtg11pLr8uWhg/7R5rF96Ea2NU1l8YBfv/sP9lCfTPH7Opby4cCUQIJRRTOzxWNjeT1W/hdBDHr+u9DWDgzZ0CEWPl6VTe3QKch6gQwgrmOAJlqhuzpF7WGDsZoK1jxqzGUMcGyswo8L0upPpdSfT506m151CrzuZhKrmtTbWiZFJ5KPX5bVjCqGLkvJAe7myi9AeKM/Pc2WUl+uX0+fpIV0ejNA6FW53eJy/Yo1iwStGFFGO7C8o0jQW3V2+ntd+FZt0c0JywVOaIam5YHQWeS1WfiBd4D368Vuj6aSG8yiecvHnna8LcSztWO/FyfuQ6mHZ8WmL+oyx+pTed/UUlrnCa/FKlsaRfY67H2DUPqMHaT+NGrpX+GBHOo2dToRFkuu+99cl5Tm+fpdIAFy4cCG33347f/EXfzHq9X/7t3/j+9//Pjt37ny1Q51RGH+BRsehwy3c9N/r6dNBLjRNnnN9QeqbZT/i6dQk/tH6JlrBprVLCR/pAuA359v89FIPkDhVN9IXvYk1vc+yYGsvyhj5imqkmSGdrGWhM5lL5ASEEPSkj/Js12/Z3thBOLCamb1XAZKsoXhkWRktFXE+cs//csW+DQAoG7aeM5l/qfkjYsL//EIqRWOil2g6RdDIYNWmMBszBK000USMioMDhLtThZm0Vzaycc557J66gAmxbq579knO27GZrfMW8MSF57Nt5kIQfvDpWe1pLj3QRmNHEO0NeQqnLcHeCRa7J9kcqDVwEg7htj6MnjTZTO6YtRGwAgbBgGa+fZQl4iAL1QHmOfuYmT2AjXMMPUCSCO1iEp1MoltNot+dwIDbxIDbiFI2UoFUObNmPmfI43hIkBOFshzf/TWOcYzjNEMmt/Mn9/zfkvIcX79LJAD+6le/4j3veQ9XX301V199NQ0NDQghaG9v55FHHuHhhx/mpz/9Ke94R2nP8nu9Mf4CjY1/v+c+vrbT8PejRUy6Ey7nVGzmXYk6WvRG7rJ+htawZd0qgs1HAVg/J8h/vt0hYwsyoZXEaz7Mn+9Zz4UHJ7FTH+RIIIlnHvu6TvKqucxZSACbtJfk+c77aM0e5OBEmJe9ASs7G4Aj1Qa/Xxlm+ssvcPsf7mVut38MXbZC8P/Ze+84yY7q7vtbdVPHmZ68M7OzOa9yTiBERhgMxmBMFPAYGz8v9gPOARsbg3FCNsg2GWETjLGNQAgjoZzDrrS72pzj5Ni5b6h6/7jdPd0TNo4C0D99riqHvl3b9ZtTdc750WWX88XEL6OFpF4iMxst7jgXT21lbW4fpg7v82WNOM82bWR7cmOdGRgom2YxQBmhsWQhBEs82FDQrCyZxNS0ZDBAczwC+xPhM+EAvkZ4AUbRB0/VeIqohyEgYShWmYOsNE+wXB5nuTjOquAYy/x+zKpix2wMmG0ctns4bHVzyOnlsN3DUWcR/VYnY7IZS4EVgKk0lg92ENpMtHwV5gcaU/mYgYsMShjKQ+gAWZbWUb4bBwJTG9hKEtESWxlEtIGjBFEtiGoDR0siWmAhsLXERmBRCWu+Fz37W6p8c9U7gHNcg5uppqJ1fdmsulqhtUaVw/Ans6wsU45XlGemO1RUpJMVCWWtMk44gCo3qdxUrExY1+TPmOjMuc/65NS0n1mnrjN0Tf2qAE/M2+AkvZ2yUU3zinhNzJ1/quZnVev5+SPlTJRyzglnPcyZN3xh7i/ORpZBfuNbDU8gC40F0wJ+7LHH+Kd/+icee+wxBgcHAVi0aBFXX301v/3bv83VV1+9EMO8qNBYQPMjn8/zhr++jQNeMz0I+ss/Jbd0/zvBwAcZNb7MB6w7ANj70BK8/tATx7GOKH/zFo/hFgjMToqt7+dLW2zWToVHvXs5xmP2fjwZbriOmUZqA8vt5hVqDW0qhdaKZyceYtfU4xStgGx7K33FX0GTQKPZvDLCUGc/7378P1i76QDRTGibL7PY5GsX3Mj/2i8FwBJFrtDbWTc2SDodIysjZLocsh02rmVBSdMz0s+y0aNEg/B6gy8MdiXXsjV5ARN2y6lflIaeQLLGk6zwDNpUPbmbkIoDluKAGXDcVLOOh08XNh7LxQBrxHFWy+MsE0MsFUMsF4M0iZP7JC5piwHdSr9uo592+nUr/bqdAd3GCd3GsG4hTYyfdl3QOr0APZujzKpXlze3avLMuqdKV/Pn7Wf2AeG8fcyT/2KBOAPeePqdnlZWPU41h+fgRT4X382L/fuu4GzmeZE1xtf+/F0LOo/G/r2ABPCFxMTEBL/1W7/FD34Q2gl64xvfyOc+9zlSqdS8bW666Sa+/vWv1+VdeeWVPP7446c9bmMBnRz3P7aJD33/OAUsOg3JcKCQIuC70YMcyl9A1vw8N5l3AnDksTYyRx0MDbmIxS1vtNi80kUjMOMv5W+eeClrRDuWtCji8YS1j33GAADRwKBvwiefT7Om9QJWmOG9vqPufjYN/BBPlchFApriazGDX0AIScGGTasUK8Yf48Kdz7J+5y4sP7xPN7AxwWdW/SrbxVoAmmWOa4wDnO8fw8z5GFkfI1FC95YQi0oY0sUd0OT2GXjpGj/C3cvYtvYy9i9ewxX7t/GyBx9l2Ynj+NLgUN9iHr/4Yp5aegFFKxJKQBS0ZAJWD3qsGg9YUhQYNT+XrtAci2iOxhWHmwWDiVBTGg0oDa5CuArhK4SnINCh9PCk35KmnSwrGWKpDEnhEjFInxiiW4zSISaRp3HZp6RNRkgxSjMjpBjWKUZ0MyO0MEIzIzrFiE4xQYIcEULfueXJzxBp/bRsZA000MDzgxUtPvf+wS8uaJ+N/ftnhAC+7nWv4/jx43zxi18E4IMf/CDLli3j9ttvn7fNTTfdxNDQEF/72teqebZt09raetrjNhbQyaGU4o8+9y2+M1AvCVtBwK008zQB/cbX+E0rJO7Ht7UwtTOKJHRrdtdVzXztpRm0FNiyjddvfQ+r3XZ6cOiwIGPneNTeQ06EEry1fg+XeSvwzRHiqgupLTJygruHvo+bHQKgGIMO61pccQVCCEaaNb2J/6WjtI+m7ZMs2j2MAJQBey/p4u973s0JEUofF5kTXCoH6JC5uT+w1hiFLNb4EGZmskpklGlRaukk17YIZdsk8nma02lM30cGAYVElOH2Vk40d5GzYwRC4hsGKIPuEegat2jLxrCVVTdcXgSMOnmmYmnGUgVG2+KMpdqZSrZU3aMpBKKoEDkfkffDsBggCj6iECCCk//zt/DpEhMsYZSlYoxuMUaXGKVLjLFIjNEjxk4pQZwJD4OMiIYPUbIiRoYYGRKkSZARCdIkyegkOZEgp8N4QSfQwkRhojDKx/XlY8uK8oWg6qauonVSq8ihZ4UaLXVNu+k4M+NaT998F/Vmayp9VZLTY+gaJZHp4uq8a+M1p7h17t0qderK54Ge/0BW1FebF2LG3Oatc/IqnJLKn6L4jDemORuc2xzOah5nCD2fqPmMOjn3Ll7MWDF6kO//wW8uaJ+N/ft5IoC7du3i9a9/PQcPHnxO+t6wYQOPP/44V155JQCPP/44V199Nbt372bt2rVztrvpppuYnJzktttuO+uxGwvo1BgaGuKDn7udrX53SOwA0PyBDHiDauUJd5gjkTv4qP3fYf3jTYw/Eq/uQIeWNvPJN0E6FpKu9UNXc2n/y0gUF2GikC0HKFgZxmVovDmiLa70VrPEkkgsrFIrSnrcbmxl6uBPcPyQNIiIRcR8FcpcC0IwGT3Omql/JxWM0Xq4RHwonKnvwKbLVvKZtneTkQkAFkcP8jqGuCA4RL6oyBWiFJVNKWXhxQ0CYaEKCjE6iTU5hgz88qcGP5HCa+kgiDfNf8Y4FzQYfhzbbcEupbDcZgT1foR9I4dnT5WfNMoIibGCqm9cX0qUNFBC4CMpCZOsdshrm3xgklcWJWVSUgZuYOAqg2CeO4cVOLh0iCk6maBDTNEhJukUk3QySYeYpF1M0SkmaSONPYfW8ulCaUEehyxRsjpKjigZHQ3TxMjqCFmi5IhQ0A4FwievbQpEyOtK2iFPhDwOQehwr/yKZ+t9VrV169Kzy2bqcTbQQAMLh4sY4bZP37SgfTb27+eJAG7dupVLLrmEIAhOXfkM8dWvfpWPfvSjTE5O1uWnUiluvvlm3ve+983Z7qabbuK2227Dtm1SqRTXX389n/zkJ+ns7Jx3rFKpRKk07cs1nU7T19f3c72ATgf3P/AAf3bncY6qVDUvheA/hE1CO9w+fj/H2yb5M/tWHOEznokz8pMEnm9hKEU2EeHTb13L3kWhHcmIF+eK469m3eBLkTJgrG0zeSuNYQVYpTgArY7PErOb9coiPrEegH2xDP9e+jfWHkxjlu/aOVYc5bwaaS5DmdChjhN192OOH6LryC4S+VC65cYkd192If+aehu+tJAErJJbuSZ7gKuCwzTrUfKTMZwBF69V413uEWwIwNBMHWlmYmcz+ZFp5ZBsvImjS9ZyYvEqektjbDi4j8VHBhECfMNEGZJce4zhjnZGYm3kjCiGUhhKYaoA2wtoLtjECknsUgvSa5p1OyyQxRpCOEVgFM6Km3hahgRRWxSwKGiLojYpYVLSZn2cubWWQ2iilGglQ0pkaRFZWipxsrSIMF4pT5ElIQokyWOLhf/tCD+bgYuFh4WLhY+Jj4GPQVATBsLAxyznzaxTmw7jCoHCwEeiyk+gJUFNOqxXLqsJw7iBRs5jCGb2lzhdby5COj/OSXHhdPU+ngdCfO6b2CkN1jwPqJ/Dz7hQ74zgY/JPf9mwA7jQWBAC+NGPfvSk5SMjI3zrW996Tgjgpz71KW699Vb27t1bl79mzRre97738Ud/9EdztvvOd75DIpFg6dKlHDp0iI997GP4vs/mzZtxHGfONh//+Mf5i7/4i1n5P88L6HQQBAGf/9JX+I8jKY7pkKAJ4JcF/LZuohjk+G7/dzjau56/jH6ODpEm59uMPJhksNBOcyaDEvDdG67h+1cexmcYgNb8Iq488kYWZ5cy3rqFSXucqeQJlk2uRWsTIQJi3Ue4Ti2h7/BrABg0i3x82S7a99/G+iORKhG0zBaIvAxpLiNmCS6JGLQZ4J/YRGnnbej8KADFlMN/XXwN32p6HVpILOFxTbCHSwf2YwRpXFVE6RnrXGikpZCGQgeCwDOqEk5NSAaH2xYx2drKmsnjrNt3gPb+yZDwaY2hFaJTsH/jCjatupBHOi9lNNqKb1oE0gAhWDk1wA1HD7FyuIg91cyUtwQ9Q0KohEsgxlDBMMo7QaCGQXggZHgMJQRampSiCaaaOplsaiUTT5CLxghMgSh7wAhDVfV0ISv5aITSKKUJfEEQhI9SlENBUHm0IFASX0t8JcrhNEmqh8bBI0mBpMiTJE9S5ElQoEnkw3zyVbIYF0WilIjiEhMlopSIUSQq3HK8dFr3Gl9oKB1KaYMy0QxJZWiQJySOYahPka90Tbxcruvq1OaFaWCWZHSmuz6Y6UmlPm/akl6tlcaZebP7qh97/jbz+FhhLjI31y53Rq70Tkq6Tz72nPM5zTFObz56jrxTt609gDjX+ZwuzrbH8YjDb/3xrQs5lQYBZIEIoGEYXHTRRfO+xGw2y9NPP31GBHA+slWLp556irvuuouvf/3r7Nmzp65s9erVfOADH5jXO8lMDAwMsHTp0pOaq2lIAM8eIyMj3PL5L/Fwbg0HCA0q22hulQZLVILdk0+wJT/FQI/Fe+3/4QJ5CIB9x1rZO7COFQcPA3CwZzHffMMi9jTtwTVDe3zdU6u4fOB6LHsSzyqwuW0Tl+ZXYmV6AHAiac5rS3PBkV/G8OOkhccfLypwuPkbXLz7OOuOJKtE0DA6kdFrkeYyemzFxohDTAR4hx/E3XMHupQBINvZxNcufBk/iocawzGjxFudHO/IL8HRAV5QwFUlSqqIFxRxVfh4qkQpKDDljZB2xyip2vtzAkMYoCHg9I5KNeCbFp5p4RsmvmnhmxYWgmbdREy1YbIIn8UgZnvKkCqLUCMEXj+udxQVDBP6CqmdlcQxE+A0U4i1Mp5oZai1g4HmFONxi3TUQBkGSkqUKIdSooScjkuJoQVG+RqdFqGbvEDOsSVoHSqwKB3eUax5ptOqrkyU61cUYoQqp9XstAgUEeUS1UViqkRUFYnpIjFdwhEuNj4OHjYejgjDap7wcJh+bOHjUN/GFqGscNYjpuNWWf5nVWSGPwWEtIEGXij8l/sGfvlT31jQPhsEcIEI4Lp16/jTP/1T3vWuudW0t2zZwqWXXnpGBHB0dJTR0dGT1lm2bBnf+ta3zuoIeC6sXr2a//N//g9/8Ad/cFr1GwvozPDYY4/xvz++i12lC3gKG4CrEfwdSZQOuOvE1wliV+N3PIIlXD5o/giAARXnsYGrWLb5INF8CV8aPHb1BTy0vJVnex8hkCFZ6ptayarsEq7Mb2CxZfBI+/+iJlfhezEAepvHeVn2aqK5xSgUX7Z9/v28LbRNfpfzD9qsO5KoEkFhdGJGrkBYK+iKbeG1sR9iBBEm97pk9o6iy/58x5e08c8bX8ujzsUANFk53hGZ4q2ZVTic2jVZ1pvkcHY7h7LPkvfT1fyE2cLi+FoWxVcSNZNo5aKUh698fO0T1D0egZojT/v4lXw0vmjCFykC2Uog22AOv8ZaK7QaR/sjqGAYHYygghHQhVl1zxQaMZscComekaeFBCGB0GZi5b9QZFGWVApZDkV4v1HIchgqvwRSEAiBL8M05TJdeRBoGUrAdLk/LcoSsHJfWkiULo9RlYqFLvZ0WXqma/KoKytLULQMTfdoUfU/XHkXtdIvdCiPM8uyvspTSVfsTQo0Rnk0oyy3k4SSYkQYiprZVepMh6H0Vpblf3JmuVZ17StjipqwdvYz5X0z5X7VfD3XJ69tN1d/9WVz1Z+J+WWCp9jmaorPpN+55GTzm+WZW842d93Ta3/6MtDTeAdnWff5wK7gfH7/E3+3oH029u8FIoDvfOc76ezs5Oabb56zfOvWrVx88cUoNb8h2rNFRQnkiSee4IorrgDgiSee4KqrrjqpEshMjI2N0dvbyxe/+EXe8573nFabxgI6Myil+MY3vsGh/Yc47F3OfeWl92kpuE4lGS2e4N7hu1nbEyEVfZpvBy/nz61/o0NMAfBU8XwG90VZtSM04DzS3sm2tb/CA+seZ3fHlqqGZle+izeOvZw3uhdw6MJ/ZM9QD4PDywCJJRSvtLrphvOZsAAArrZJREFUTZ8X9imKfGxZETf1n6SmtrHxYDPrjyQwKkRQtmBELkdEVhNJPsobIt+gw51kdGeCif3xqt+2E2ubuGXlL7PF3gBAS2Sc89qfoIkJ4m6KtmI3TX4vSnbR5Hsszrt0qRxOVIAVQfgOY9kxjkzt4XhuL4GelgCm7E6WxNezJL6euNW8YN9HSWkmA81EoJn0w9Cd59fAFpqkDIgJn6jwiUqPCB6SAI1CaY0uG0SemVZ1+QpN2ajynOVz9wOhIeXqfxWDyeX/qC2bkZ7ZlpP0c7I0QP3P5Vzu5WC2web56p2krIEGGqhiYvF5/NU/fHpB+2zs3wtEAAcHBymVSixdunQh5nTGeN3rXkd/fz9f+MIXgNAMzNKlS+vMwKxbt46//uu/5s1vfjPZbJaPf/zjvOUtb6G7u5vDhw/zx3/8xxw9epRdu3aRTM6WjMyFxgI6c2SzWT7/+c+jMx673Iu5Vwd0IPgmEWJYbB69i4NBC2L9t3lrZoQ/C97Hq+TTvN28H4BJneB7pes47879JAp5Aik5suS17FixiieWb2Jfxya0CP/QWJlfwjvGX83y7l0cjx7k4LGNZPIhgVovWrmquBFD20zIIn8chWfX7yJe+DbRYp4Nh5JceDgBQVmKJxKYkcvIpDYymdjFa8QPuSa/jcntcdJHolQMYxxb28rNK97OLmclAG2RMVZ130N/9BkmtYbAxstsxM9uxM+tpj2b52WZzby07XGaN47gL9GookP6UIqJ/QmmBu06IUG2dTHZ7vMIOlayPpjkvMwRVuYHsJVA46Cx0dpBKQetwrQvHQpGgpIRwxURNDaGFlhKY2mwFJg6JDdFDVOBZirQpMth7iR/t0UEJAxBUgqSBiSkIGEIIgLEQpi3aKDOg0j9j/XchHL6/zPTZ/5TP9d4Z9jo7Po4rRZn09fZbHdztzm7nbNB8M8GR5nglX//zgXts7F//4zYARwfH59lCPqWW26pMwQthOBrX/saN910E4VCgTe96U0888wzTE5O0t3dzQ033MAnPvEJ+vr6TnvcxgI6Oxw8eJB/+7d/oy1IcYe3lt0o3ozkd0jgqRI/PvENDi1+BTuWf5LPbcnwvbbX8rRezSfNr7JMhvb8Nsu1HH66iw279wOQi3Wxb8WbONzbw5ben7Cr88kqEex223nj+Mu4LreOpyO7GSJHyY3RouK8KlhPU9AcHgnLPF9bpYkk/ptI4UlMX3DloTgbDyVx/fDIGhHBdC7mREcvj8bgpcE2fin7AIt2jJE5Hi3X0RxZ1cE/rHo7+5xlALRGxrl48d0MRp/mqK8BgdSCRNCGzK8kO3UhYrSVVxce45qep0ieN4pqAb8omTrUxMTuJrLD8br3ONDRy77l6zm0dA0b9VFePfoorxh9jCXB8Enfv4/BrsQKNjVtZFtiDVuTa9kXW4rQJpYO3b3ZKiSG7W6aNZl+Vo1N0j7pE80ZBKU4Gb+Noo7PO4ZAYcoShvAwKWHhYuti+SlhAkJIJBIhZE1cIJBIIRGVsvLBnywfAdceCcvKoaCUZWUWIzw+lsb0UXI5T9S2FxWPxqE/44rfYxl+fRjlUOowrxI20EADzz92xl1e/bFXLGifjf37Z4QAvlBoLKCzx3333ccDDzxAr+rjq14Pg1rxL9LgfBVnqHCEB8ee4YcvvQA7/ff82V1FDly1iH/z3sHr5FP8uvlDYqKE1nDX1BW0PzhCLB8q5/QvupL9K3+ZTFOax5d+j0NNB3AND4CYsnnlxNUsG70Er20bo7kEMnC41lvDahUqjOw3h/hwrJn0uoPEc/+OoaYwfPjVAyYtR9vJeBUNcQvD2cjBrjj3RNto8Wzemf4JL9m1BaO/LDITmuMr2/mbNe9gvx1Kx1ucCV629G6KyU08mgdVc1uny1SsNCTtopmI20F3PssiZ4hoZw4i4OVMJg4kmdrXRG40Vvc+x5vb2bd8PfuWb2Ay1sKysaNcMLiTS4Z20VGcoiXIkJJZmsw8CatIxHax7ABZ9q1ckDY746vYklzLtuRatibWsje+FCXqNYkr6CkOs3HyMGvGx+mZKpHMGhiFOAW3g3TQxUwN5HooImISR05iMoUgg9ZZApXD97N4fp5SUMD1Q83hhYBAUNE3qbfqV3vUW75DaJgE0sQzDHwjVK4Jyo9vmARmGPrSCvMsOwzLCji+5eAZJr5p41kW2rDC+4SyoiBjoMsEVZVDLQ20FFVFGl2+C6ll+SqCnp63gGl71DXp2jdVSVeek4mr5r+zdrL3OU/+WewmJx1nnv7OZm4nncMZjnM2c27g7NE3uJ9bP/QrC9pnY/9eYALY0tIy57GPEIJIJMKqVau46aabzkgx48WMxgI6eyil+OY3v8mBAwdYYVzAZ/IRElpwKw4RLLaM3cd23c4X3tDCm+/7W67eWeLZC1oYEdfztLGe37e+w1uMhwAoeia7ty7B2R/643WtBAdW/CJDS9dxonULJ6IHOe5sZ7BleqmvyC5l9eQGeiN5ptLtrA16uNpfg4mBZ0zwl+T4yepWovHvE8mH47R7gv+73yN9oo8J1672JewV7OuKcU90Ka63hKsnnuX/7P4hPUNjYQWp6V/Zzl+veQf7rQoRnOQ1S+6mt2kTj3kBOzxZRwYFmj5bsdpRrI4ELLMVEUnIWQR4eYP0kSSTB5JkB+LoGqLkRSzG+rro71vM0Z7lpAsJ3HGJP6bwMpJaWVbKTbPYG6HHH2NRME6HmKLdCp9oxGUy1cyJRDeHE70ciC9hX3wpA5H5bWVGgyIrcsdZMzHM8qk0HRmXWF5iFqN4bop00IWnY/O2n/78ATE5QUxO4Ig0lkhjkkWSRegcqBxKFQhUgVLgUyobra59PHVqJZznBxpDhIoVUpQfQoYm0QhRo9wgapQnyvnTzK+GwYpydsWhrqhmlC0Mla/xi7JahahRsRA16hhlhRjEtHqGrhuUatl0fLp82mNIJV1Dr6vj1MydOUy81Iw3czPSM/o9F9Mkp9zoTnJl4dzHPfP2+rSanWzOz2Xbs8fZ9G0ZPn/41w0t4IXGghLAm2++mU9+8pO87nWv44orrkBrzVNPPcWPf/xjPvKRj3Do0CH+/d//nc997nP82q/92kIN+4KhsYDODfl8ni996UtMjE+wzHkJn8mWuF5J/oA4gQ64e+A/eLz1VdzxyiSf/tIfMxovMOksJmst439bX8MqcYLfNf+T641tAGSGHY4+1YXMhAoU6eRS9p5/AweWFLCLBbr33MkDGz2eXinQZXFQxLW4JL2eJX4HydxiXu6dR0rHUQTsiD7N/7XW468dJFH8BoYfHq1ek/P54JEiu4fWMFiYds8mjE762zq5M7WUjLeE9WOHuWn3j7hgpOwBR2oGl7fxt2vezi5nBQBxK8fL+x7kFc7DTI763Kcd9rdC2nDr3pVAs8jSLLNDMrjMUXSYGikgcCXpY3GmDiVJH02gvFrpmybWUSTZl6WpL0ess4AvTFxl4/oWbmDhBVaYDizcwMZTFoEy8LVRFwbawFcGgTAJLBNhGSjbxLcsSlaEgh3DF2bVuPG0nmklDgm3QEcuR+eUR0vOpymnieZNZCmKdhOUvBQFvwVFvdu7k0HgE5VpHJkhIrM4MostszgiiyVyGCKHSR5JAaELoIugiyjlhrb2KjYI1bQtQl8b+FU7hZXQINChpnCgQw3hQAuUDm3tVfIbaKCBhcWF7RO88p8fWdA+G/v3AhPAt7zlLbzqVa/iN37jN+ryv/CFL3DXXXfx3//933zuc5/ji1/8Is8+++xCDfuCobGAzh1DQ0N8+ctfxvPgQnEdf+Hm+UMF1+kEGW+cu4cf4D96X8HIJTZf+fvf5wdXajpHeplKtfJU28vZE3RwidjHR+z/5iXiWXQAY/sSjGxvBj9c2if6NrLpkpUIYXDjzgzp8ae4b02aey+UjKTKfwVruGByBeuzG3hJ/hJWqtD/70T8MF/VGb67aA12+33EMncgCLA1/N/xKW4c9nho5DKOZiUV+3lCJsg09fFgag0HRA/njx7g3bvu5PyxkAgqoTm8vJUvr/4lnomGXkps6XJd7+O8oetu1oyOUDxisU8neLKlicfbAjJWZta7s4RJlyVYJksscTwWRxTtUlMajpE5Gid9NEFxIlLXxrAD4j15kj05Ej15Iq2lM/JI93xAa0FQTOIVWvELzQTFJvxSshw24RebqnHlzn8P8XQgDBdpFsPHKpXDwnSeWURaRQyziDTcsL7hIWVNvBwKoxSGspyWan5px1nrIpzCQMfC6TjMX12HR+ov9Dwa+PlB/LDDVR/esaB9NvbvBSaAiUSCLVu2sGrVqrr8/fv3c9FFF5HNZjlw4AAXXHABuVxuoYZ9wdBYQAuDHTt28N3vfpdMYhFvHlvFnziKfyxCB1GO5/Zwb26YW7vPp6OnyGe/8Jd8/RUJlva3MdHXw3hsDY+KxUyWklwudvO79n9ypdiNX5AMb2ti6lB43OibFrvWreXY0mW8Tl5PPD3B1MjTPGZvYtOycTatFvimwFAGqydX8+bxV3CNtw4Tg6LMc7j3Hm7OX8zWZRHiwTexS6Hh8eWe4hMjw6zISn4y8nIOpwO0rhh3Nikkutncspat5ko2jB7iV/fcwyUjodcaLeDw6iTfWP56Ho1eBoTKE5cteoYbl9zNZd5BuoeKpMY8Jrw4R0Qre2JNbGsS7HKmOGaDP4O9CQRdBvQ5Hp2WotOVJIdjiMNxsv1xgqD+bp7r2Ix3dzDV00K2p5mg1aBbDLKIQdoZopVxkmSqTslCG80SX5kEVcmgrHqbgFAiphFoXX9sF9reC5U3hAyPO6VUCKGRQiHFtF+KWtmhqEnPsiMXSPxSE0EpSeDGw6cUR3mx6bQbJ3BjqJq4Dub29rOgkH6ZNHoI6ZefYJ5wOo4MEGLuOgiNkAEIhRAqTAtVk54jlOr060P5Elt4NE35PU/nQWhNezq/SgXLdageXatqe1Etm9HfrHYzLjNWxp8vfYq6L7Y/bho4O8SOxLj6fQsrNGrs3wtMAJcsWcJHPvIRPvKRj9Tl33zzzdx8880cPXqUbdu28epXv5rBwcGFGvYFQ2MBLRzuueceHnroIfYvuZQ/2e3wqVaLT0wITGGwZfx+fmB3cleyl2vFPn7zzi9y+2U9tE/FmFi9DiljPLGoiz3HliIUbOAQv2P/Dy8Tz+COGwxubqY4Ht7ZK0Yc9q5Zw4buX6Il2kuAz3dTd9M/PkbL5H52LB5m5xKFHUR4+eh1vHvyNbToBAB7m55hqPdBbvZ/leH2Y8TT30GqLGj4pWyej46PY7lRfjzyZg5ncuhg2pC5F0mxt3kVD0cvYNnkEG/fcw9XD07/RTuyJsp/rH0lPzKur+atbdnHy5c8yJXNW+kdydM9VCKRnzam7mvJMC0csuLsjwgOO0WOWZoTpsmgadSRQ4GmXWqWZW26xxyaBqKY41FQ9UeWRTvCQFcf/Z2L6V+0hIHOxWjTYGXhCOcXdrO+uJ+1xf0szx5BFBSea+B6Bp4v8QIDJUBbgBmG4ROq1erK4wCWxrckJWFTEBFKWBSIMCFamBCtTMhWJmQLadFExmgiJ5MUjBhFGcU1HDxjBoHT9Q7Lpo0F1+dV4oZS2K7CLiqcoiLiKmxP4bhgexrbA9svhwHYXqgdbQYCU1F+BIYCU4swrgWmbjCOnxaczCTMyTfFUxi2OckSmN1vQ+x5Oii07uQPP/nbC9pnY/9eYAL4pS99iQ996EPceOONXHHFFQghePLJJ/nRj37E5z//eT7wgQ/wD//wDzz55JN85zvfWahhXzA0FtDCQSnFd7/7XZ7Zt5/JlvP4vaNJvtFh8IFRidaah0f+l39t3chRs4UPHv0J64buZld3H5aMk12xAdsuct9569i7fynGcKgMsoQhft/4Ia+Uj+GeUAxvbcLLhYoBxYRDYnUf8SU3oUQnOZWn3z7Kw5ZN28ERjjU/zrN9B8k0JfhI/3u4rBQaFB8RU9y96AcEXcf4lvleCjxAJPcwALHA4P9NjPO2zBR5v5W7x97NkUyGwDsAZe8NyrAYaFrCo8lLiGRd3r73Xl5yYmtVwjbRG+GHG6/iP2KvRZU9ibRGxrmh72Fe0vsYrfkcbf0ey8azxNX8nnUCBKMywnHT4pgNwwYMmwYjRvgMmwbjwqA547BoLELvWISOCQczmH2HbSyVYqCzlxNdKxjqXMxoaxeBNIj6RTpLY6wuHOGC3F4umdrFeZN7aZ7M4GdN3KyBmzXxKmFu2gfyKdeDBTqh0QkFUYUZUxiR8LGcABzIReNko0mmIkkmI01M2s1MWk2Mm81kzDgZI07WiJExEmFchum8cWollLOG1pgBWEFtqDECjRmomkdj+BpTaQylkQGh3+cADKUx1HQoFWE6mDZNI7RGqrK2bzVvOqw+hO0Foq6sYu5GVrSFy3Go0TmZoXlcEc7NVz5LM/m5e8sN/JzhSPsAf/tXDTuAC40FNwPzyCOPcMstt7Bnzx601qxbt44Pf/jDXHPNNQs5zIsCjQW0sPA8j1tvvZUHS5pX75ng8sTVPNbi8qpxB1+53D1yJ3/feTklInxy8zeYaNtPkW5KLR24i5bitA/zzQ1vYnysiaZnBym6oSLBYj3FbwdP81LrJ1hHhhndkSQohUehVqtP+0YT2XkVg3o9rtqA8pM8mQ8oKUhbxzmWuoOeaDu/knkzUe3gEfCQvZOftN1DenGEHfZ1WJnvY3onAFhasvjLseNcUiox7i/m4cnf4FAmjV/aBjq8+qCBTLydbcnzGPbbeNu++3j5sc2YOiSKXgqeXr+Rz3a9hXHCtWVJlyu7N/OKvgfpS5ygMBhBH7JJDGtaRJFmu0iz5dFsFTDl6bldHJeSYdNgUkomhMFIKU46n6CQjaMzcYyiPauNEprxJslYymakJc5wW4qR1nZcpwklE2iZQMkY4ICwMZHY2sMJCsT9AnGvRNwtkiwUaMoViOaLRPIlItnwsUselu9jey6W72P5HrbnYdfELd/DDALMIMBQ4YMALI20FIajMG2FYfuYZoBhBJiGwjQUmFB0ouRiMfKRKNlIlKIToWQ7FC2bghWhaDrkzQhFI0JBOuSNKAXpUDAi5GWEguFQkBFcaeIKG1dalKSFJ6xqfD4TOj9XKG8vVXKo5yCQVRI6h67tjN3pVKTyVCZY6toveN8zKpzspPoM+/55xy9OPMnfvOdDC9pnY/9+DgjgzxMaC2jhkc1m+fKXv8wdqV7+7vYnMNf/IkfsPBfmYxT8DLdP3cdnW65DCMnHN/0Hx5cewcmlyC5ZCfEW1LpjfKXzNwi0yct+fC9bxAqKMiQxfT78qneMV5k/Inl4C5N7omg/lHhFWl3aN2aIdsMJtYJ8cCVHcldwwF0ECIJ4nrHm7bzaXcFSvxuAg3KIu50tbGndzc7etQRGgtjUbcjyHcDrpzQfm+qnKwjoV+vYNPlhDmezBKWtKP9Y9TP7ps2R5Ar2yOW88vBWXnPkCaJBqAVcikrGV7Ryy7J38rQ1baR8deoAL138KJd2bcEWHrmhKKM7WkgfSaJ8Qdz0SNkFOuOKFkcSM0xsKYnKNHFjnJicxBDT7ubmQ963GCgk6S8kGSwkGS4lKAZzaehqbKeEGS0ioyV0rIiKlXBjJTwTisKiaDgUpUNRRihJh6IRpShjFI0YrozgSQdPOvjCwZMRXBnBlw6+dHCNKIGMgLDRwkILGy1swEALE4QBlI1AAzIIMJQqk0OFGfgYtYQxUBg15FGq0F+t1KocaoRWYci0z9zq/UStmOlHt65O2d2cqJhNKZtp0UKAJPSBXDmil6FmMbJ8QF1juqVSRwlZVxa2n66vyn6Ma9uWDcQA0/1UmIiuoyth++lvctosTLVurWmZSnqGf+O6Aapj6+pFPF1TejKzKpW5ivANzlhls9vNuPU3Y6Q5TNXMNSaiWkPPyJtuvXBb5elKR+ca8eRtz36O8/V7Oj0+Z8Z5ysVvGH2AP39PwxXcQmPBCWAQBNx2223s2rULIQQbNmzgjW98I4bxs/fXcGMBPTcYGRnhX279Ont1lL98/AQDF74Oyy3QG0TJeVN83b+Hb0VvAC15Sf92uu0n6ChoMis3YJgGg1cW+J7zLgzt8ambP8WPl17HE4k1qLL9u1Wu5C1kWGJ/kzW79xLsU+jy0WekxaV9Y5ZEbxEhIKua6S9dwAn3PEa8jRjRKJGI5nyvE4kkS5EHrZ3sc46zpWOQvT1XYZV2E8k9EJIDLXnfWIYPZcawgUPBZWyd+hDHCpqgtI3A3RWaJSkjHW1lT3Q1fUPjvPHgo7QX0wCUDJOD3Uv50cpruS91PkF5k4wZBa7s2cRLex9lSdMJtIL8aITx3c1M7G+uMwkjrYBkW4mmBCTsGEkSGG4E4VqgTNACU3pErVHi0QFi5jiOzODoIpYfHmVqDRnfYaiYYLgYZ7iYYLiYIOvPp1ShabaKtDl5Wu0CKbtAyi6SsgokrVLVOPPpQBHqWXtC4IvwmNsX4CMIRJgfqpGEaY0kKBMjRYUkySpZUkJO55XLA0RooBlRbivr2gVlIqbL9abj07cOqcZlXf7MelUSJuYrE3X276brAOX5TKvETJOxmXObRoXYyfq8clij8jH97Yn5zNqcBjETM8ZmHvI1Z725iN7ci0XXfIbpPmfP9dRzrPQ3+zPPTxpnvgdm5c0/DrO0VE5OcMUp6s3xfuYc92SE/dR153y3sz7HzH7qx5ob85evPnGAP/idL5+i/ZmhsX8vMAHcv38/N954IydOnGDt2rVordm7dy99fX3ccccdrFy5cqGGelGgsYCeOxw6dIi//f4dXPDkJl4TrObOa27guv40LSJOxhvnFuP73CHfBBiYymd9bgeXF/ei+pbhRDI8fPlqNsur6MwP8+WP/THPrNvIfy27gf1Beygd0XCxDlgS2cka9yiX7Xmapr2T6CD8EXJSHq1rszQvKVB7kpcLUgx5a5jwr6TJeAlREd4n22Ec40lzPwU7zaOL4UD7BuLp27Hc0FVdQsHvjY3x5mwOAex3r2Fb9tfpL8VQ3gGC0nYC/0j1J1BJgxOJPoJshNcceJqV6YEwH8G+Rct5rHcjP+m+gnEzWp3bskQ/L+l7kCsWPU3MKoKGfDrC1PEEk9uTlCbrTcJIKyDeVSDeVSDWVcBoLZCWklwuSaHQjJtP4RWboRgn5miSsTyp+BAtiRPErAlMP7zbZgQalTfITzrkRqPkJyJkshGm3AglNb89P4kibrs02UWa7RLNdoGUWaTZLNBilYgaXkOLs4EGGuArzSv5wEeeXtA+G/v3AhPAG2+8Ea013/zmN2ltbQVgbGyMd73rXUgpueOOOxZqqBcFGgvoucW2bdv41INP8tGvfIGODb/CX73mJfzesxMkjDhT7ii3RL7Oj41fRHuhZwpTebxab6MzrogsOsq31ryNYbGIKw9s4lP/8BkOr1jK3Re/hK2l9Rw0wmNhoTXLjHEuMPvp8ia5cvtT9BwaqNoQNKMBLatzpFbkkI6uk1gpHWHSez95dSMAUyLH/dZORmQanDybV7Ww3XGIpr+HEUwC0OUr/nJkhGuKoeu6ncEV7E3/X/pLTSiVJijtwPd2QJCujuMJm0nRxtrBYa4a2FvNH0y2snn5edzXewm77R6CsrTGFgEXte7hyr6HOa99V/U+4FQxxfHJbgoHbeQeD+nO/qfvpErEOsuksLNAtKXEzKtsRQX5QBAg0crExCRq+ETN0qz+/IJBYdyh2B+nNOjgTxq4BYOCsk4iXap5x4aNb8coRhPk40lyySZyiQS5ZJxcwsGPmkgRYGkXS7lI7SO1j1ENPYQOMMp5QgeY+EjlI3WAgV8+8g0wKB8XqwBTh8fHplIYuvIEyHK8ekRMGIKuHhcLXTkK1qBnmK/RdQepCF0Tr4ZlbWU9nT/L/M2ssByv9C/mlenNesezD1qpzul08HzUm2t++gzqzvW5xazInNVOe4yTy9LOpP3JMN93dSb9nebnOdnHqGkgTkEh5p1HXR8n7YKHzHX8v9978OSVzhCN/XuBCWA8Hufxxx/n/PPPr8vfunUr1157LdlsdqGGelGgsYCeezzy2ON850f38KH/+jb5l36YP3r5hdyyaYqYESPnT/GZps/zRGwRpaFfoGBYSBS/YO+kVRYQ5+3ly63/D0/Y3PTj7/De79/GWHsLj1x9HePe5Ww2Euy3VHWspXKcC8wBekpjXLt1F52D/ehiqLQhDEVqRYHWNVnsZEBJhZI3RxYoBhcz4f02Ae1oFLuM/TxuHkcJjZ8I2Lqmix3BMLHMjxA6JElrXI+/GRphlR/ew3tSXMKJiQ8zWEwRaI3yjxH4z+K5BzDU9F29kowSzcJVRw+QKhUAKBg227pX8fiyC3iidT0Tcto4ckK6XNW+i8uX3sPK1OGqRC0XxNnpbWB4tIPiIZu248Ok0hOzvwCpsZtcIu1F4p0F4h1Fom1FDOvcfja0Cn0bF8cilEYc3FEbb9LCzxm4nokrjDmPr+aCVBqBREkL14xStGMUIklykQS5aJJcPEk2liQTD59iNIpnmQRGaPsxMKY9w/xcQ+s5FDPq0zNxVpv/c6nY8ZyN0bgq/0Jiw5Hj3Pabv7igfTb27wUmgK2trfzwhz+cpfH7yCOP8IY3vIHx8fGFGupFgcYCen5w2933MPiVf+P6rU9z7zs/weZuxe/tiJC0khSDPP/Q/AViib3sO/BRRg2fXLSVN9g7sQ2XiSvH+Lb96wit+PiXPsNLn9lMMeLw6NXX4pmvZFwleTLisbuGCC6SaTYag1w9vI/rRpsRxzah0ser5bFFRVpW5kn2FhESfGUy5bdR0jeh9EsAcMUA91i7OSHDfrPNFo+t7mWo9DSR7P3lDUXwkrzHX4wM0qEUAfC4sZHBid9iJN9JAGjtovw9ZHgGOztavZ2kBeBYrBoYZcXxcSwVjnNsUSv7u7t5qmUDT8c2MGUmq/PuEGkua9vJZcseZWnL4Tp+dVgvY1ewkcGxLtzjBl2DA3QPHcfxZkv1NBplK0pJj2Krh9+ax0gVsZs94o4iLjUxqYkIcIQgIjW2PLOfGRWAl7HwJ03cCQt/wsJPW7gZC79o4PomLgZanrnrNaE1lh9gKYWpQwPUSIEyJYEVurnzLBPXtnEdm5Lj4NpWqCnsOBScKCXboeA4eJaNa1j40sKTJoE0CDBRwiAQBgojvKtXvldYvZsnZtwRnCtdjYdGgrSQ1fuC4V0+oHznsIEGfpax7lA/97//xgXts7F/LzABfM973sPTTz/NV77yFa644goAnnjiCX7t136NSy+9lFtvvXWhhnpRoLGAnh9orfn8f32P9Z/5DJ2ZLH/6R7fw+sN3c/nYxbTarfjK5eux77A29iM2H/xNgsIB+js3sC6eIRKb4JlLF/OAfBW2KvA3n/s0F+3eiwZ2r9vA8e53YehmsmbAo4kpthGpHrI0iwIXBcd496TLqqAVd/9d+EPbp6UJEUHTshIdqyawE+ExayG4mnHv/0PTjMZn0HiCB81xMiKGBvrbWnlieYpi7ic4xS0ASG1ww6TFX6T306wUCnjSWMfx9G8wmV1KqfIvVGXImI+RdbfRkpkmPkqAE/is6R9n0WQOJ1AEUchfrti+sY+7uYbNwxdRqvF+0e6McUnbVi7t2sqK9sMhCaq+b0HRjzGpWxnVKfLFKE6uRCybI5rLYXg+WglQAq1AK4FWAqXAlZCzFZmoTybqkXcC8o7CNQNMCZbQSGVjqQQR5dBkSJJSkzR94qZHzCwSMQs4p3H/T2vwS5IgY+JlTYKMiZ8x8LMmfs4kKBoEJYPAN/ACiY+BOo1j5zOBVOFxsKE1RjkuCTWDZfkY2Ch7OZFSlT2gaIQMpcrC0Eipw3xZydcIGZZVH1mJA9VQISRoQ4eGtk3AEGipwZAIqdESdEXCaUxr8wZChKRXhARSyZBgagFaSpSgXC5BTGsdIygbEZxLseHkigBh3pm1OdP6z9cYDTy/GBpcyZ+844sL2mdj/15gAjg5Ocl73/tebr/9diwrvPzt+z5vfOMbufXWW2lubl6ooV4UaCyg5w9BEPAPn/1Xbvziv5BtaufDf/op/u7eb5HQr2BRJLwDeK9xH27rl+jf/UvE0geY7FuPmYgT793F91b+MgfFaiIqx+997V95+abNAEykWti15gMUY8tJGZBpPsztQrE36MArG2J28LimeJxfN1bS4xYpHrqPwvFHsIuhuRcN+O2tJJZ69C45iGnHmfD+L0V1NQCSI+yRD7DJSpETcRSwv6uXLb0albsDyw19BJsYvH4K/nDiMAmtUVpwf3AVx4vvgPxiMlUhpSawD3HIvJP41BQt2WlbfRpNU6FI31iWRVM5In7A0R6bZy9NsGP5Cvrz6zg4vh5PTZPBlDPJJZ3buLBjO2tb9mMZpzYP89MK5Qn8UkgM/ZIRkkRXojxJ4BrlUFbDwJMoz6jL03MYy/7pQGgBWoiyS7eyOz7KaTGH5WdRl2baPVw1Xe63pl7IMafrTfNEPVtgKfSMdLlebdbZCDhP0WZ2n6exDZ6FEuvJdHrPts+fRyQjPr/y548uaJ+N/fs5MAMDsG/fPnbv3o3Wmg0bNszyDfyzgsYCen7heR5f/e3f5aX33sXm867gf99+Nb9571aK8hrWJpYBcEDt40e9t9C8fTV2rkh2xQYwbZIXPMHnU39ERjRjaJeX/Ohhfu/urxMruighONr3cg4vfT1tjoNuPshWs599QQd7vHbSZU1ftObiwOVtZoqrlODE4QcYHXiKtSMHq3MMpE22sw972TjtnYsx5btRpICAuHE7g+YjPMyFnBDdBEKys3sJ2zoLmPnbMb3QNqAjJG/LFvn/RoaIlf953utfyp7iu0gWlzFVw88iRgk/+jAH5GYiE5LmdA050ZrmQomuqRyd6TyO77JpteDBDRabO9bh5i/Ez65D15BBE5cl9n4uSOzgso7tLOqYQMzlOMMFmQOZB1EEUQolR74pCExJYMjy3bpQQllLNCrWM8RMklCWLIUkZbreNGmYJhoV5YdpZQddV6daXsZCnpJqBSoQaF+ifIHyJSoIQ11J+wIVyLo6OihLSsuhVgIdlCWotXnltJqZX4mHhgDROpTWosphww1dAz+jSPa4fPDmuxa0z8b+/RwRwJ8XNBbQ8498Lsf/vvO9bNi9g395y/u5YvEz9G7pYUKs59Km5ZjSIq9yfKnr63jHh+me7CS/ZA2m6SGv2MMt1h+jhQFa0/nEYX77zm9yTdknb8FpYf+qt2B3X4TbfJid1jGUBt/P80BwISdIVefRruENwua1rsdTw9sYzJzglceeoSs/Vq3j2VFyG5pJLb6RpHkVAJIhWqxbGDaGeYTL2MsKPGmwbfEKdrZNYGdvx/T7AYhg8e58mvcPj5Io/zN9Rq3k/tI7SBUupuQKKv4+JJqoPUXc+jHx0jb6czGm8vXMLeL6dGRCMmj7BZ5cCw9tMNmZWo2fOw8/uxbt10vppTNAPLmblc0HuCx1kJWxAu2RYJb9Pq3BGxfoQYHsF9jHBdEjgsSoQCoo2CZ52yLvWBRsk5xtUXAsCpaJZ56+jVBDg6klFhJTGBjCQkoTQ1pg2AgjDLVlg+UQWA6+aaIcDyIlDCcPZgFhFTHMEsIsIq0ShhmmDauEabqYZhjKM7y7eLbQGpSSKGWgtUBridYSpWQ1rpVEVeJazCrTyDJpLPdRIY46PKqnHFd6Oq5VeJkwDMt5WlfjVKTOunzpUFXiejqEKteu7iaVcnS1rdZiWpkiVJCuE/jVlVcvOda8f11JiprBRLVsXkWNBfgKw6mcQl34dMc77fmcRkVd9xfRmUPXvO8XMU6Yi/jrz352Qfts7N8LQAA/+tGPnnbdz3zmM+cy1IsOjQX0wmBqaIjNv/wrdI6N8Du/8zG+PPRn7Dz4NvrlGi5PJEjZHQDcF3mU2+072Di0Dt3SQ7RpkOMXJviufBdCB2gtcbaMcNW2LXx02//QVJgK+08uJbv2jUwui7DdPArA+YknOXh0FQ8kL2Bf0E6Jaft2F2Fw3dQQ2/MjDNhR3np0K5f1P4PjTWu9i76NRC98F4bZFo7B43jF/8SKFNjjbGCHWEPejLK1dzl7W4aws7djBCMARLTBO6Y8bpoaoKXs/3fYTHInryQz/lZixSi5aR0WLAMO2i4H7Z2sKe6kMztMkAtQNRuYVIq2bJH2TB6k4IkNPTxwfhvHE03oiRQ6vQiV74Jao7jCx4gexY7vp7d5H2tTh1ke8VliK9rMuX9GMgEMuAbDRYOxgsFUziCXlciCIOJqop7CKWlsD0xfYCiJ0AZChZ49dFmhQgkDqSSGEmU/uSJ8AoFUAnmSDcwMAqwaH7yhiZfQ962k4hdXIIVAIJBIhJCI8r05GREIB7SjEY5AR0DbCu1osBXCVmArsAKEFYSOe02FMEMnvuFdv6AcD8qPQhqn566vgQZ+3rHt6Pl85KbbFrTPxv69AATwhhtuOL2BhODee+89l6FedGgsoBcOg89u58S7303JsvnCb72bW/f/KXf2f5ADXMk6a4i1TaEpoimm+JfO79A02YEjm2hduom7lv4Cm8RVGLpEoCzW7tuMHHJ59+ZnufzgI5hBeMaab1vNyIaLeLwnPINc0f0MS3eM82DsJey3FrHXb2dQN1UvkVsaLs4OUnIz7G1azjsHDnNV/1Y6xp7F9rJgODgb3oS14gaEkARkGWy7jSPOJhiKkvP6GIz0kbGaeLZnCbvaRrFyP8b0B8r9S96WTvO+ySm6ykTQFwZHoi1sL/0q2bFrSRedqtBGAr6l2WT7PCyLLC6dYFXxAMvyR4l5hbr3aXs+7dkCMjDZ0b2eB8+7mr29SxGlAJkpISc9xEyFYBkgEhOI+Cjx+FFWNu1jmTNKr5Gj13LpMNW8nj6mAhj2JMO+ZNgTDJXDyaDs0uwMISukMAiJYZiWCE1IEHWYJ7WoyaOaL7Q4rbywD10OwVC6PBYYuhLXSKVDkqk0pg5DqZkuL7cVQmNIkFJjyNBXjZQghEKGzDRUDKnc3TMEwtChMXOpq97vtAFVyzmGRpRdzgko3/ULj+NFpc+ya7rqcXs51HL6LmDlGF5IPateRXVi2tVdzTH7HOHMu4Oz7wxW0npGuj6suwows+wk62OWmsdCSXbPdKme1X3GM5zrQgnzXkRCwfz2VbzxIz9e0D4b+3fjCPic0FhALyyO/fhOJj/6UQ71LGHkrV28v/97/M/QTQzo19HiP8slqbUkrRYAHok8w3ZGMJB0X/QTPt/0JwyIXoT20IHklXt+yPWL7mfgiRu5fNsWlhzdgtQhlSqmutiybhnH+voo9BV509SP2LX/cg53LyOnLY55KY6rXo7XSAWjgctq7ygqkmR9upuLxo/SPrqNttGtJKNNRC56F0Zz6NvXzxxmMvh3cmsOkl0uGBhaydDIGtK6gx09S9jRnsXI/y+WdwQIycjrcwU+MDnOSq9eYWPcX8G2wgc4UlhHVk1L72ypSVuKn9g+u2VAqzfB0sJRluaP0lscKBsrnka86BIrBgxEuni8/WKe6VyHilggBSiNLAXMaBKe0CVMVIuDStmYzQGLnYMs5QBLOcxi0c8iMUKLmN8eaKAFk4HFRGAy4RtM+IIJXzLmC8Y9TVopFIoA1bjy1sBzg5PpaZyJDscZ1K3nePU1z0RfZcH+SSwgK1iIOV2zr43P/u19C9DTNBr7d4MAnhMaC+iFx+FvfZvCX/4lD1x2OddetIPzs/v5/Ni7CNw3o72DrLHTrGu+DCkMdhvHedjag2HlaLt8M39jfpKSiJYvsAW8/a7v8Prrb2Po0GvJ7NjIygNb6Bl4FEN5AJRsmyPLlnL/uovo39jMb97/PTa1XEGm/N3rwCLtn88j2mS45hfU1D5r9Bi9pQ5WlaIsypwgOrGDvliUxUuvRVhRtFZ4hx+iuOt7lNqL+Os8RpelOBxZQ//kSvZ0LmV7Z4nAvQe7tKfa94a85Dcmh7m+lK/zYKqU4IT7GnYW3sDhUjd+zc9wi1GiI7YHP/kEhwQcKHUzlk0QzaXpzQwQVblZv9q2F+DqGEdii3mq7XwGootOS7PClgFtkRJNUQ8nrhBNkiChsZ0sMWuSFjlKD/10c4JFDGBxcg1kF4sJWstPCxO6mQndxCRJJlWCCZLkAgsj8LBVDico4gRFLF3EUSUsVcLULlK5SOUjyh5DhPYRKgB8UAFCB0CADi/PobRGodBotNahLUSty9fiymmolodxVb62Vq4nwnyFrl6pq0jPKvEKqa39Ua7GxYz88hU7ZrYRena9OdLVWqJ+jGpfDYLdwIsElx5q49aP37+gfTb27wYBPCc0FtCLAwdvuYXSLf/MHb9wAx9q+h9sVeBPSjeyYuQd+FITLT7O+ak1dMdWcK+1nUPGMKmWE+TPy/NZ+XvTHZU8fvfr/8oV1z9Ef/AKBne9llhe0tP/IL1DDxIpZKpVh1Jt3Ln4coYXt3JR5hiT3Z0Epglas0TatBYuZTMGD1Di6IydtDPQLPEslvmSbj/LeRZsjLcDoEoZ3F0/wDvyUKhuCmQXORy+YDGHW1exs3UtWxYJcjyBXdhcvfje7DXx9uEC7y0dJinC4+FAC/K+hatinPDeyt7idQz59eu0wyywIrKNtZH/JmnuA2AycNiX6eToaAtjhSgZw5pF9mSgKckYh2J97E6uZCjSRdGIcjoQKBzDJW4UiVsl4o5PwvGIOIqEnSdhZ4jZGeJ2moSZJm5O0mRMkpBTdfYKT4YiEdI0kSFJhibSNJfDJjLlp1JeIE6OGIGY32/xuUJohaV9DB1glh9DB3PmybL7uNC1nKpLz8w3UMiK67mya7raUNTUnXZdp6thJY+abUDUKF+IMtmdVrBQNWyxEtc1PLTSV/mIWOtQC7yspKFn9E+5TcWjiEbXSMPK49ak65U9audVjyq5rqZmR+eCEpXPXd9A16XKcXEyjqxnpE5zm9Xq1HXmHGHunPnmN9dsTtvbiT7dz3N6/Z3O3xlJt8TH/9+3T6u/00Vj/24QwHNCYwG9eHD45pvJf+GLPP62y3i//AEHLYvfMy7ktbvfjxvpJnD30xbsYF3rNdzXdIisKHLBkt38ZNkKvifeBtoH7SFKBp/+7F+z5srtHFt0A4PPvglDRdDaJ+nezYYje4kN7EXW/LM5muxkW+cqRLtDoa+VwDSRWrFOdHJJcQNDSO6zR7nfSnMg14GukdWZGhb7kutVwC/aDp0iAsBUcYKx3bfTcfjhal0NjLe2cmDVSjZvPI/NfZ0MOdtxcg8gdREAS0e5Md3Je6f2sToYrLadcls5nOvmeGExvvkSMqxkSkWq5QLoNIssc7azKnI7zea2KucreQYHB1o5Opli0G9i3Img5vDAERUeiZiHGTPwHYes3cQxsYhjupNBWhjVzaSJozg7O3qGCGiJTJJyJkk5U6ScKVoiU9V4Je0Y7ln172qLgo6SVzEKRCnoGHmi5HWcPDHyxCkJhxIRiiJKCYeiiFTTRRGhKGKUcHCxT8vXcQMNNHBqvOzwffzH+z6yoH029u8GATwnNBbQiwtH/vEfyX7hiwy/o5sbgk38T7KVz0RaeM/jv4QXvyZ0q5a7j1RCcKgrAlJx9fkP89nU29gkrsL00zjp7+PJC/jSd75MMj7OiUuvYvDZtyG1hRYBU6ntrPENioOb6Dl+nK6hIQw1/Ve7Jw0G2zrItLcw1tbGeGsrffYqrvRXEsGiv/VZHmzbxpZ8OztG1zNRSlXbGsAvaYv3C4dkmSTtlOM8OLGDSP9hlo8PsnryOEmvgGeaHF26hO1r1vPIeevZ39yPKN2P4Q9X+1teWsRNEwE35rcREeExtkKSMdeQ9l/C0OTlDAdxRoMIGVVPVpqNgGYxQFI/RUQ8QszIETddooaHyGvGRhIMpROMBHEmoxFyEZu50GQW6Yhk6Yjk6HBytDp5JswWtrOcPaqPfXox+3Qvx3Q9Ma6FRNFKmjaRpkVkSIo8SVHA1h4SRaANStgUsXExwNCYtodheViWi22XcOwiEatIxC4StQrE7DxxO0fcyhM1Z7u7WwiUAhs3sPGUiadNfGXiKQtfh+kwXk4rK6yjTTxdjisLH4NAmwRIlDYIkAQ6dDE3nVfJN2vKZeiSDhmWl9tOu5sru6arupoL00qX82rLK2ld68auRgtjPhGOmFF40noz8+bIPJP2c+D0N7oFPvt+oY7SfxqO8E9zjhelN/OjX//wgg7d2L8bBPCc0FhALz4c+fJXmPzszUTeKlkbHOFPOpfwg5jmbU9cTKf7Nnwrjg7SZO37KXakiNg5LrjkPv7c/hjHxFKWZLKsOf4vPJ3o5xdHFd1jDl2LehnZ8U4EBkr4TLVuo12aTDJFEJRYfPwYsZFJukZG6chOzppTLhZjvKWFiWQv0fgaljcto9g2xFTL7QwnXbbo89kxcAUHC50UhCAJvBeHt2BjIVBoHo+dYEfXY8QSx2jPpYkc1cSOBzSfKGLnBP3dvdx/2ZU8ucwgI5/BKm6rHukYKsIrhi0+kBlkg1ljp9AQjKZSTMaWM5F5CZnBCxnNNjPp1xOxuISW2ARWchdu7AlyahivZFLIxhFZg7ahPKmJArKkyBsWU1GHqViEom3O+R2Fkrw8HXY+JIV2gbjtMWy2cYBe9qrF7Ne9HNFdHNFdlJibXFYQoUS3GKdbjNHNGD1inEUiDDvEBB1iilYyWGJusysBAs8wcU0LzzRwTYlvSnxD4JmCwBR4JgSmIJCgDIEyKMdBGaHLNWVo9OmbNPyZgJ5lm698+HvSXWV2+ZyHl6fYmU45zoyLjXNWnXn5cd75nCMWvMMXht29UGRhZKKb97777gXts7F/NwjgOaGxgF6cOPy9HzDx13/K0tdP0KTTvLVvNfvNEtce6uPqva8n27QejWaq+Sm8aJH25HHaLtrBx8TfkBVNvLbf49d3H+Ge1OPc0/wkUpXoo4MVu99Ga74XXSaBlukhg4CcGWB6Hlc/8iiLBgcZTzSTizgk8gVa8pk55VoKQSbeRi4RYyKWRspJktJkX8vL2Z68kiN2isASvFs6XF/WLi6i+S9cvkWRRHyQvuQJehKD9Mb7WaL66RqfpDDUxh51AT9ZfgEHm4+D+yhGMFEdN1Vq4i0nJvhVb4gue1rhwvMl477DcCTCWLyLXP61TE1dyFS+uc4siwG02j7NLSeI9mxGLX6CIDoOvo2f66IwmELsFkQPZUkOjRP4inTUIROxSUdtshF7zuNjACUUpZiHG3UJIhrtCDANPNlEgXZyqpV8kCKtmpjSSaaIk+P07h0CNJOlXUzRISZpI02HmKJNpGlnipTI0kyOJpGjmRwpkSNB4Yw9iGhASfANgTIEgQz97Kqy310lQdfllcNKnqgpk6Hv3vAJ61bi+iRxVZsvyzflqvHyPMsfrKoQUrHp0kADL0JED/dwzfsfWtA+G/t3gwCeExoL6MWLffc9ROYT/x/nvfQ4Gal4w5IVZITLeZkVXPvsldjuWkqRBBPtm1GGS3f3E5RW23yaP0MJgw/vKfHewy4KxdbYXu5pfoJHk1uwvAR9kxtYPLmauFFEmCVigUne8EErLtn8DKv376/OQ0Z8ckaEo02LkbYklUvTPDWF7Xmn/Aye4TCS6Ga07wqW911BjxOusSyab1PiP3GpteZnCo/OyCiL4kN0xUfokmmm1CI2JWKMWLsxS9up9R3SW2jhV48P8RY1SMKuOcYuSLInImRORJiaamJ0yXVMtF3GuNVLiXqpXlRAm1MkkTqK07MF1bMFLzpSFVDIcXD2SuyDAvugQA4ICnaZDDo2OcciGw1DdZI7c4HUZKI+2ZhPJuaRiSoyjknaiJGRHeRVB8pvRfvNaD+BDqKg7dBAXp3RuDNBqGRhEmASYOFXQwsPBw9bh2FEl3C0RwyXCC4xSsRxieISxSOKh43C1BopdGgzEDBFqJARmr2mJq6RomxbUIgwTRga5blJoave80S5rRC6Pl2Ji2k1DUGoPixqDOlVuJ+mYoevrLIhyjllrQhdducXllHNQ1TIpK4T3lXs/83aZERtbmUeFa3k+RU7qn1WCOys0hn2Buty5yqr6eEMl8jpV1/YLVafcvSzGO9Fzv1PFHq44k+/s6B9NvbvBgE8JzQW0Isbe7ftYvQTN3HNxt3styze1tuHJ3yuS19Gc+5alj07RKFlNVNtO0Fo1q99mGe61nKr+CBCa/7s8SO8Id1W7c8VHs/Ed/Nw8hmeSDxLThZpL3bQWWxnUaGThNuEgUFTcJwRo4XYkE/vyBArxg+xKDOGKEF/Sw87164l05IimckQz+WQWRed9Ynk8nTmJ2grprHU7ONKo+t8nA1vqtoPLPhF7s8c57+Fz8FkB64xtxarQNPLOPGuPKOdx8iLZzG9Q9Vyjc2yYgtvGR7il90TJGs8VASeIDfokDkRIdMfIWMvY6L3WsZb1zNht6JmSI2iAtqkR4s3QLK4E8PbhieOoKMBKiJASGROYk4J5ITGHFUIL9yyCpZJLmKRdWyyUYts0qJgWRQxOdUOpaSi5AQUnICs45N3AvKRgLzjk3MCcmaUPClc3UbgpdBBM8pPoIIEWsXQygZtobVVJo0/iwocZW3hso7sNGFUNfFwO6jYhazVDBVlcld7M7CWhtWmq8tCT/toluWwWmfO8FRl5wg9V+J0ej89TeIzm+fCacnO3+fcrU+mPX1u4z83WBvfx7/8ccMV3EKjQQDPAY0F9OLHgWOD7PvEu3htz1M8EXH4te5uNIrXTb4aLV+Cues+mq1FFFtKGNLnkot+wjcTb+Fe8Wosr8gHfvAtrvQWsTS+gSZ7mgwGBGyL7ePx5DY2x3dywh5Gakmr20pbsY2OqRjHW9fy1MbXA9ClB/jNyc+y8bujtD2bJRNJsG/Nag6tWI5vlombFuRUC9v9No6VbJpLWVpLGVKlDC3FLK3FNB2lHGuSS1ix+DKcaAsAqpSleOAejg9t4VAsxdFkFwPxNvrj7QzE2xiLpmreiKbNzBFZNE4utQeXLRjBWE2pRWfQxavGs7x36gA9Rm66TEN+zCY/aJMbdMhOJJhsPY+pRZcx0bSctNlUPVqswBGQkpqUN0VT9hjJsZ3IiQOozMBpm7xQQLHsS7jqU7gm7ZoGp3t8aQQK2w9w/AC75qlNW4FCa0FJOhSNCFkrStaOkbFi5K0IBdOmYDrTjxGGxZn5pjMvKf95htA1lwp0RUpZb+JFzCibu/50fm37OlJ6VsKw52dLFGex9Z4dGTuLcV5k7+28zG6+9rW/WtA+G/t3gwCeExoL6KcDR4fGefrv38ub4g9yWyLBxzpaAbgu/4ssm7qIsaN3koynCOJxEk6BjZfewd+af8gucR7RQoHLtz7M2gPbWFo06I2vYXFsDS1OV90YQ+YYmxI7eTq+ky3xPeSN0CxLpBQjl1xLIbqawF7CDdYu3jR+L4nbEvRuH8TD5OiSJRxevZyx1DTBtLWFHbQzrlrZpmC/NimKaWUIA3gtFu/VDj3lo9Oi1uzIDzE29BAd45uJFwtYnsBXNqNOipFoC0PRFkajKcYiTYxFmskkY/hLp/BSe/HFDmTZ/zCEB6Bx0c2lWcVbJ4/zMvd43QaUUw7bSsvZlVvCofQi/IxFh0iQivYgoosoGMlZhBAgKaFFaprcCRLZY8TH9yCmjqIy/eCfuUauElAyTYqWQdEya57pdMky5r17eCpUfAlbgcLyVV3aDBSmCh9DacxAYVTSQegSTgmJwsA1LFxp4RkmJcPClSZeOXQNC9cwcaVVrmfiS4NAGvhClsPp9HSZgS/DJ6jkCwNfynJooBEEQpbvEVae8IBYCTkjPbO8HC+HDTTwQuD64Qf4+lf/dkH7bOzfDQJ4TmgsoJ8ejE6mefLmd3CjeIivNTXxmbYUAMt5KzceWsXIkdtRvSvQpkVT+z5WbtjOx/kUA6KX7nGfVzwzxVBiDCezlfMPbyVCit74GrqjK2iPLMYQ0+qfCsVhu59t8b1sj+1ne2w/U+a0+zMpmllsF1lUMFj8rMOFO0bpG9L4TjNH1izj8NJlFM1pG31RbbMs6MBRSY6pcXbkp9hDlP5ID76M8wos3o3N8vLtsCKaO7TLnTrPhD2MGz+I27SbtvgQHXaaZilJaoMmbZIMTKKegyg2MZ5PsT3SxeFElqyxF6GG6t6hkK0s95p4xdQUb0sfYJGud+k2opt5Sq3lKbWWJ9U69qqldAQmG3yDZYGkOQh9686FuIRmQ2BLHyVzeGqMgjdE0R+m5I5iejlibpFkrkiiUCBacImUfGzXxwhO/hNWUVQNpKBkGmVN3/ApzQhd08AzDDxDEhgLS3iMMjk0VPkOoNIYWpX9BuvQsLMKDTjXpav1FVKHkiNZfoSmHM6Vno7PSnPm0qSKeedakhgSxQrKyiYzD3CrefXlYZmo9jutSCyq6VpTz7Pyau4BKkT53mL9uKfzmerSM/9gqUmeaqOsK59j7Bmmr+fuZFqZ+uSd1daZp6vad3GysebttzbvFO/yVJ9nrv5PZrZ65nilOLz/R3eefBJniMb+3SCA54TGAvrpQj6f59F/+BVeGTzIF5qbuKU1FRYk3snb9/Rh7P8Rxb5VIATN626nq9Phz/k0GdHEmhMub30ki9RwrFWzJPM0y93bOZ6zyftJOiJL6I4uZ1FsOUmrddbYg8Y4u6KH2ZHYw77IUQ45J/Bkvduz5hz0jmo6JzUJFcdItlOILMUKmnGUg0BgaEmPaqHTi6MywxzM93NAB4zbLSyOr+N1dg+ryx4tAjSP4PNdXJ4pK39IfExrAhUZQNojSGc0DK1REqJEUgkSCuJaEIgOJs3lDFujlNQhRI2bNo2JY3RzXlHw2vQgb0wfIk79vcWsjvC0Ws1mtZqtaiVb1UpKuomeQLLGN+gLJIlAIOfZXUwgYQgSEqQBBakZMzQnpOK4UBxHcQIFXpGe3BjduVF6cqP0ZkfL8THaiulTrgtfSCadJGknTsaKkbOi5K0YBdOmaNq4polvGgQCDKEwtYeBi6EDDHykDhChBT5E2dmbEKoaf1FcopoLZcJYpWvleIUgVo9bK0ezejpeG0JILqm0rT2Krem/gsrxYjV/Dt2Myvj16TqKUJdf317X1a09Pp4Lz9XXczbHqLP6ONdj1Xmav1iX5HwoNi3i7T/47wXts7F/NwjgOaGxgH764LklHv/M23lJ8V4+29LMl1LNAOSa38LL9i9m1aEncTt6ELrE0su+RyG+gk/ycXxhc96BKd60ya/RnoSoGKHbeIQjuSYK7jjKP0HUiNERWUxHZDHtkT5SdseseQQoBuUUB5wT7IrvZ1diL0ftAQrG3EegViCI+wkiQZyIHyEaRIkGUVq9ZnrcdlqyFsb4GBOZA3RE+1iVupa+SE+1/UEd8B1cfiI85vOTIYws0h5F2ONIaxxpTSCsCaQ1gW3k6fPXkzFh3DiMYrKurcYianSz3jW4IT3ML6QP0aGKs8aY8BxOlJo4XmrlWLGNY147Wd2CabQTMzpIGm04JBHYzH+BHWIS4lIQkwJpKDwjICsDJoyAYRkwhGYQzaRXwspM0FJI01GYoiM/SWdhgo7CJB35CdqLaYwzcL+VsaKk7TgZO0bajpG242StSjxGxo6XwzKRNBxc00QIhaV8bOViaL/s+s0vu3+bThs6wFT+dLxaZ7pcalV29xaGhg6QqFCaWM0PwjSq6hqugQZ+WjEe7eWTt35hQfts7N8NAnhOaCygn04Evs+2W97JRZM/5p9TzXyhJSSB+eRruGxnK+dNjRHEk1hymPVX3sUu62o+J34HgLYD+1nlxlkzEKdv1MeYoVWotY/yT6D8wzjBUfLeGLZ0aHd6aYv00GIvosVZRMSIzTm3KVFgSKYZkCc4Zu5jb+IQu1LDZM3ZZGompJZE/AjxIEbUj7M0t5iXZy7lUm8VVtl8S157bFU5HtEe+7XBJBaThiZ7itNOgcI0sphGBstM02HkiSTS5OJDTFgHUGTq6msEltFJr4pyaT7Hq9MnuCY/OCelG5YGB0ybw9LhiHQ4jEO/jhF1O0m6nbSUemh1e4j7HRhBE+i5DUxXYImQIEalICoEjlTYTg7LyWJEp5CRCVR0CtfKUDIy+MVJVC6DKuQRWR8zDWZGY05prLTCziqcvI88fZ44C76QlMzwrl/JMCmZYVg0bUqGVS3zpIFrmHjSxDMqcaN8d9Ao3xss5xkWgZTlY8u5dGnDb06HVl+mNXd1jY9dUXscPFMaN1PTV5SlgtMHs6Kq5Tut1FCVWulymxmisIrUUEz3Wp3xrHi5LkLUS8P0zEPH+rSY47OcHWp7PZs+Zq742YZrftqkcSfHHJ9mTpM8Z4Z4xOCf/vnvzmpG86GxfzcI4DmhsYB+eqGVYsfXP8qGw7fyreYEf9MWatSWolfx6k1JOqwI2rJJWDs478qn+V/5Zr4j3gVa07zzALmVJtJYyvLBHFfvnmDJmI0WszU+DQrE9CBTwX4K/glkcRKhFTGziRZ7Ea1OFy12N81OBzEjMe98fT9HwR1mSo0wKkcZckY43jzMvtQkByM5Mtb8/m8TQYzXTl7LG8avp9OfPp7eEd3Pnc2P8UR8F0oZGEEEVASCCIFy8FWEkrYpaQulbVBlMynKDs2mKAutbVAmGBnsWD9203FwjqHF5Ox3LmLEZBt9gcEFhSwvT5/gqvwQc+nJKi2ZUJ2MB12Mqy7Gg07GdSdjfidZ3YJUJhIDS5vY2kRqA61Cl2anAxOISIhIgS3AEQJbgiU0htBI6SOlQkgfLXx84eG7OZQ7hXJz4GYRbh7h5pFuHuEWMEpFLLeI6RYxS0UM38Xw/VPO5VygECjDQJWVQpSUYVzIMF8YBOU8VS6vradq46LsFk6U3b3VKH9oIdCyPs1cdWraK1m2RCjq7/RNh5W7elW93ul7fJW8KrusbVPbbvoeIUKg9fRdwGpYwUk0xU91h02ctM5M0j1HBzOi897xq6sj5h6x7nO8+OjjczGjoP0gf/F7f7+gfTb27wYBPCc0FtBPP/bd/o8s2fRX3JW0+NP2NpQQRPVyXvFML06qE4SgI3Y/ay87xlf5de4Vr0aqgNTT/aTXu/jxlaB9Vh7dzNseX4Zh3UerWs1EsHzO8bRWBLofX59AB0NINYQqZhFaY8sITVYbzXY7TVY7TXY7zXY70ZMQQwCtAggmCYwxMpbLsKEZNFwGrEkGrVHGrSlGzQkyRo6N7nJuSF/GZbkNGGWlkbwscH/TJu5tfpKd0YOhYd9zROgiTKKxkNIC8sBsEZrGxJFtdOgoKz2fCwuTXJc5wdrSFPN5VSthMkgTo6KJcZKM0cQEScZ1M5OqFS9oxfFj2EEEK3CIqgi2cjACG6FN0Geu3GGJ2kfMGw9t5Sm00CgUSnkoVUJ5OURQRHsFtF9A+0Xwigi/CH4B6RUh8BDVx0UGXvUxAh9DeRhB+MjGz3YDc+D5XRXPH/ncdOE63vOd/1nQPhv7d4MAnhMaC+hnA4ce/R6pu36L3ZESv9vZQdqQdORSvGzXRlTbItCKZR3fp2dDnn/kd3laXInpe7Q9Mcr4hgxeyxoAWkcf5KYHlrE1muVVwUPk8m+tjiEIiAiDwhz/2rRWaDWBUifIyQk8JjHdMZziJAIwhUXcTJGwUiTMljC0UiTMFDGzGXma5jkUiiIeeVGihI+NQVLHiNTI4HKiwF7rBFucg+y1B8hKF1d6KKHKj48SAUp6+IaLL1086eIbHoE8tXcTqGxSZlnmM7d/XrBwZDOt2mGxD2tLOc4vjHFJbpiuwDvp1lMQkgHTYsiQjJiCUcNgzDAYMQxGDYMJYuSDVvBTxLxmon6CiBcn4TaT8JqJeUkiXhwriGEGzml9ptNB+F2GJnxMAYYQmIAhyg8gBaHHDxGaopaV/BllQgcI5YEqofBAeQS4aO2hVQmNh9YeSrmgXXTgIbSHVl65XfgIFSCUDypAaxXaZpz5qLIyi1LhMW9NvqjRMhZKQVm7mWq+mlbIqBwR14aV4+A5w7nqzFBSqel7WqGlgZ81PHlFN+/9t3sXtM/G/t0ggOeExgL62cHx/dspfvsmbHGI3+pq54Bt0z4Z4RVHrsFvasEMCqxddRuJPsEn+Rj7xUZst0DXw2mG1k3h9oQkMJp5mF95xCanllOUT3LJ1GWoKsFSrIxoug2bcYrsNI9TKjRjBlFkEJl14KO1hw4m0GocFYwBI2g1ie/nkCpUFhEIHCNOzEgSNZPEzCRRYzqMmwkcI4Ypz57IhNTCwxU+LgG+8PFQ+FoToMuhwFcaD42HCkMdxn0UvlC4IqCAIicCstInI10mnQmmIiMUnHE8awrfyoKZBXGyC3cWjkjQrG06AkGf77GylGNtcYL1xXHagmDOY+WZKAqTCRlj0nCYkhZpYZIWBmkhyQpIC0kam5xuxlUxPB1HqRhahZJFqxzagYMdRIkE0arU0VQWhrKQykS8iL2KiJpHiul4XVnNMWhtPrPKxSnKZ7eHeUibmL/sdPOqWr/iFG1qdsD6U+LZmsZzDDJfwVnWm6vpi1Gu9/zOaSh5kPd/+kML2mdj/24QwHNCYwH9bGFsdJQdX/lNLijew190pLg7HqNvKM6VE9ejnShNaoBVF90DqSh/pj/BoFxGpDhJ34N5Di/38Fb1gZBYhW1c++w+1g6/jKftUV49EUMSr47TYea5KNZETAq2dzzApkIW34th+BFMP4YMIkStgKJsoeh20JTXWDMEZVq76GAKrWqfbPVB56j9kTaEiWPEiMgYjhE+ESOGU07bMoJtRIgZTThGDEOYiNP0rrEQUCgCQkLp4TNkjXHMHuKEPcwJZ4gBe4RRa4Jxa/I0jqgFhogSxSGpTVoC6AgCer0ivV6epaU0i70sqUDRrBQnVymZa66CvIySkzEKIkpehGFBxCgSo0gUHxsPB1/beMrB1zGCIEKgoqjARqlIeK8ysNHKRAQWWhtIJctH1DI0rVI1zVL5ZGIeQ22zo/PbW2uggZ8uJM0877nlFxa0z8b+3SCA54TGAvrZQzab5c5v/BNXDP4bjyWz/F1rijVHu1kdXA3SoE9uoefyZ8k5Kf5Ef4op2UW0MMiqB0vs7nLwLmgDaWF4/Sw78t+8avdr2Nmc5MKhgFQQo6L3aAmPjRGbJbbBcDTLo213MTbWxEwftE40w1B3nHtbXolRipHKK7oL41xY3Et3cQpVSOKmW/HzKZSOIcrHweFxXmGaFOosqDxaF9CqEJbpAlrlQReYeT/PFDa9sdUsSaynK7IEQ07L1HzlkfZGyXiTFPw0Go0pLUxhYwirHLcwZZiWwsCQodKGIYwwLea74XdyePiMWBMMWWMM2qNhaI0xZI0xbk0xbk7hi/mOleeGiY2NTVSbxLRBUkNT4NOsfNr8Eu1+kVa/SIdfpFn5JJQioTRJpYjO0kZdOLjCxBdmqPkrLDxhho808ctpv/x4wiIQRtnriERjlD13hBYKlTZQwiTQBgoTpU0CYaKraQOtTRTGdHsMNBKtBVoYZcvCAigrd+hp+aGuxDWEa7imTFWUPGrrltdpvQ5yjaJFjWJInZyyjLmuUlRjZUlkHSkWM0qnG+g56tfOqf77PZnCx3SNucoqLfUMEl/b/zltxgvxB9vpWM9+ASCNHB/+2E0L2mdj/24QwHNCYwH9bML3fe64/ftEt36NPmsTH+topuvweXTY5wNwXuwumi8ZYlh28yf6kxRlM5H8IS5+uMjmeBvelU1oM4JQOZqH/5Ub9qwiF385i0ddeqfqCd4i0+XCWAxHau5cdJQT3k50rnJcO739CBGQb4dHui7lQOtStBC0qDFeJX7My7ibZtJ4eZPxvb2kj66nNLUBYXYRmDEKskhJBqAh6iqivsJREgMDZdj4MoKWQZkYltC6VA5d0CWk9ui0E3RHWumJdBIxInWfIe1NMFQ4wmDhICOFI3h6fo3kWkimyaAUZjluVkmiFAYCiRACiUQIiUAihUQgymGYXynXCIqWR8YuknFKpO0iGadA2iqStvPkrBI5s0TOKpI3T2+eJ4UGEwNTG5hIbC2wEdgabC1wtCZSfqJaE1MBUa2IKp+o8omogLjyiCkPW4eXBWytsbTG0mBpjU192tS6fC9QY+qQShnVvMY9uAZ+9vDdxC/y1t/9twXts7F/NwjgOaGxgH52obXmscce47G7/ocrrKfYEz3AvpHXEHX6IAi4suN72OcVOMxy/lz/Bb6MYxd2c8XjI2zWq3CvaSaIxEAHxCe+xYr+g6wbfTeFWCcXHyoTD61ASGzhsSESYYktUMYI324bIp8fQgbhVm4YLkEw7QcY22Nv5xK2d6xmONmCgc8V+jFeLX7MavYgADdjMbG/ickDrZSmViKtPoTRjXZS+E4Oz8rgGmlkYZTYZIamyQwtmRxtuTwxPyAwHHwjQmBG8A0HZTgE0sI3bOxUF6mmTppjbcTtZN1RsdaarCoy4RcZ90qMewVyykcphdYKVVH80AqNH74DgnJegEaBLqdRoP2aPB3mUVZEKMuMdF3edP50HTVdT+tqnhIK1wooWj4lO6BoBdXQswI8U+GWH89UuFYYVvLPQpn4eUGoDCFC12/lm3mynBblG4mVsul4vZwtPHaudxknZ8Srx9PMltFJPS1DC8eskeXpaTm3rMgAZ+xC023nyj913nTZ3NvbzDFPZpNvofNq5zZbwnjqdnNj/m38Z+EPgubscv7893+4oH029u8GATwnNBbQzz727t3Lf/3Xf1GMFtigH2H36AVgp5BugZeu+C+CFbBXr+av+DMCGcMqPMslW59l19RLiF5uMtTaDYCTe4zm0W9w8YnrwXktlxz0MRVo7SNEeAut3Qi4IOaQNBSBfJIfRTWDQaH8A66IxycpleL4/rRCR2ArDnT0srN9JUPNbfRxhOv0/VwrHiJV9tbhZk3SRxJMHUmSPRHDDJJI2QFWL8pZQhCJElh5fCuDb+aRwTjN6QmaMmkS6QzxbI5kJkMym8GY+XNhRTHb12J0rMfsWI9MLpr1DgN3nMDdjxEcwBb7SBr7kHYRTAmWgRYGvrbxdRO+bkLpeHhnjiiBjhLoCIoIGodAO2gclHZQ2CjtoLHCI05MdOU4E7N8hGlSsQlc+0DIBee6JzfzB3FWmQ7ppCtdCrKAJ13c8uOVn5J08WQJT3phvnBxDRdPenjCJZChMk0gAgIZhr7wCWQQ5okAv5wfzKgXyDM74m6ggZ92XD1wFV/8wy8taJ+N/btBAM8JjQX084Hh4WG+/e1vc3+8DSXyXHLoENp0MPITvOzC7+N2Gzyr1vG34mMoGcHOP82a/T9htP+X6VmX4emlF4IQGF4/TaOfpT3tsXrivWwY7CVaEig0UgcgTASK1Y7JmojEFsOUzNu411jK0bKRaS00ydYhHFwmJ7sJgum7edpUTLTE2N2ynIMti1nl7OY6fT+XiE04ZQdwgSfInoiTOREn2x+jOO6AFliBwAksHB1DiBRuoptiohk3InBtn8ByUSJPtJAhmckQz+eI5gvTYS5HtFDAtJswWlditK3CaFuFbO6r3kushcoMEkwdJZg8gpsZoFQYxtV5AssgsCTalmgLhKmRlsIwFaYZYFk+julhmx6WFWCX4xHTI2p6zLxaGP66mWgswsNUG63DOBiEB6fho7VRl1cX6tn50/fUpu+0VeRkWtenp++8zZS1VWVgdfXq8qt35qbv0ZU9DhOIUAM7EBqFLoegROgLOhCqmvZRqHJ52E6X0xolKnJRTUU2VSNLrV4NU2U6rMt9hnGNKrfR1bzKrdIwr56A63J7Xf4stVvQ9N27WXliOl6pdKrNqyJ31DNlfHOIxeYccw4Z3dx5pwOBFnqeurV3C08mj5y7zZmX/3TJBTuzinf/xV8vaJ+N/btBAM8JjQX084NCocD3bruNrwYO4zmDN57YDFISmTrGddfeQ6nV4El1Hp+Vf4IWNnb+KXqOfwvn2NtY3TLBnRe9Ek/aoEokx79GJP8Iy8eu4vyRt9EzEbKWIiUihNK9qFBsjFr0WIKY8Qij5p3cLy5jQIRGoQMpKHV7dMWPEJkUTIz31kkGAXTcZSIV42jTImRzgYvsTVzMZmIUqnV8V5IbiJE+Gic/FKNQJoQAvmGSjSXJx5IUnBilSBwvkkDbUQzDxlYBTuDj+CUs5WH5JWLFAtFCAadUIlIsEisp2kQLKbuTuNNJJLYIM9Iy5zvWbo4gM4DK9KPS/ajMACo7hC5McLpbrBISJU0CadZ7ujCM0JOFlCijHEqBlgJthHZChNBoWXZtJjQIjSifZYq6dHiGWXVKIUBKHapMCBF6EhFgiLCvSlpW0oShrOar8ChWaoQoP4ShLD9CKISgmo8IKRflPsW0kby6+TKjTFbPPWtloTPTFVdv85fXq1zMkq3OaludQwMvakyzgVqCeLJD6lMdYNcS27PvZ2vpFVz86W/MUefs0di/GwTwnNBYQD9f0Frz4MOP8AeDGeJHR3lJ5gAAqbE9XPqqx3ATBg/4F/FF8w9BWNj5p2ke+We6Bq/nvILJ41e8lMOxxQA42YdITPwbpu9z9bEPsHFwPVILhFSUlIddJoItBpwXNWg1fRLG9xgyn+R+LmdAdJRnJRiJdzCyxGOFfYhFExMEE0kymTZm/qga0QJekyJoCkgmxlga30OnHKmro5SgkItQHLLJHY+SHYjhpu1ZffnSIJ1MkYk3kU00k4k3kYk1UYzFUVYETBNTKxJuiahbIuKViHouUa9ES0nR7UXpCBJ0qAStOkmC+LxmZ5Ty8dwpvOIYQWGcIDeCzo9AZhhyYxjFDIY6B0e9P2eYy21bxbWbEhJq8qfduIWkWVOTL2Q5nBGvsONKPiHBriMAAqp2L2sle0LUVpgzXpEECph2FVfbz1ztym7hRE37unq1fdX1OWNN1riiqwR6rjnP6KNGnWvW+HWfY853UROvm45gWlFMz5xWfbvqLq/n+EzMjzn6nK0oXOOnuWa4OarNkZ6WdoqaRtOkJMzsT3Xyzk//yUkmeuZo7N8NAnhOaCygn0/sOnCQt+84ytptu9jgD4FSdE7tYuNrNuFHJD/xLuZW8/dB2liFZ2ke/Uda0j2sGl5H65ok3+x5AwiBCCZpHv0cVmkvvZNruOHgB0iUIoDGNhUFn6q7th5LsC5i0GRM0Gz+OyeMAzwkLuc4PdV5JVSKPZHFPN0ZpSd1mDXeMdrTWWTapJBrZuYvsBABTiyLlcgSS07SFu+nKTaBZZXq6mkNvm/i5h0K4w6Ffpv8YITCmMPJNCGUNHCjMdxInGIkRjESJe/EKERiFJwonu3gmzZamphIFnk2va5Jb1HSWzLpdm1afQvjFMdVHj55SuQpUtB5irpAMchTVHm8II8XFPD9PDooIpXCCAJkoDBUUI0LrZFaIVQ5rHq3mM6v5M1KVzxkQL1njPIZZSVe8Woxq2xGWyrKF2WFFaHnLqu0a7iFa+BnHU9eejXv/eZXF7TPxv7dIIDnhMYC+vnF4fEJ3vD4Tq568nF6ySA8l478Lja8ZiuBLbjTPY9/t/4ILSPYhT0kR/8ex9PER69hQ+sJ7lr2UQpmHLQmkn2AxMStRDyHGw68k2UT5wEQNXxMIUn7oiLvYLElWRsxSOoTJJ3/YNLcy+PiYnaxqny/DJIaevxOBtRSHkhG2NEiaW8eZrU4Tk9+nHjGhayF8u05P5tpFonF0kSjU0RjaWKxNBEnixPJYZrT7t4qvxzalwQlEy/rUJx0yI/bFMYMvKyNnzdR/umry/rCwBU2JcPGlTa+dIiaTTRZKVJmkpSRoMWI0SLjpGSUqJj7M8yFAEVBeBTxKIjwKQqXkvApCR+X8iOCchg+JfzyfbU5DrFqfj1n3l6bFnDUt3tObl/VEE+Ym1jOJppUiemc6bNsO1/Z9FyZJsCV/BciXhVanTp+OvWe6znMfIe1OK2yOXb6573sJHTjZGWH16zjpi9/Yd7ys0Fj/24QwHNCYwH9fON4vsjr79/Cy5+4l2bhIot5WtUeNr7yWZQpuKO4nm87f4yWMaK5o8TGP4nUeRLZpaSdEpnud+DGLgZAqByp4S9ilp5m9ehlXHfoLThBDIHPqugmcn43/d7S8siaPkuyOmKQKJ1ABd/BaN3KduN8trCBImU7fVqzTOdZpVop+evYSpJNlmJrUjLVZNKayLJCDtBdHCOVzePkFJRO7hfDNEs4kSwRJ0ckksV28th2oe4xDK/ulElrQosugUR5Jn7Jws9ZlLI2pbRJKWPiF0CVDPySQVCSKO/0LNoZwiRqJImaiao7vKiRqLrCq3g9seTpE8W54OuAkvbwdICnfTyCMF4XqtBVng7wCOMBikCHyhiB1mFaaAKtCMqmaAJU2ehNUPaGotBoAkKlH1WrOCAEdWdlovKnwXSxpsapYJ3iRNi25hBzFk5mS3jeolknlif/3ubacMTM2Lx3Bmf3XXvAWjdG3XxOZrD75Eei50LYz6btfKZrXkg8F06BzqTLmBHnz/7sIws6fmP/bhDAc0JjATVwKF/il+96klc/cz+OCDCyU6ScfWy4YRdIuC2/iv+K/CnaSNKcHsGZ/Bs0Q0hlYhXbmWrrI9P26yAd0BrD66dj8As47hjXH3g7Syc3AhCzD3JV9AccLF7L4dLl5dE1i0zJyogkle1HDf8v6Y6HmOzq4bBcy2GWVOdpap+VDLFaafqCxWT0Ug7hcJg8h2WB3XGTgVQL6ZYUpilp8TMsKozSWkiTKBRwSgHSO72fbCn9Khm0rCKWVcI0S5iWi2mWsEwX0yphVfNcpPRnk8bwI4Iue49QAq0kOhAoX6ICA+ULlGfguxLlCQJXoDyB8qmW6UCAb2GqBKafwFYJLJXA0nFsEccSESwiWMLBFGFoyUp49j6UnwsoHaB1qHer0SgdhroSoqbLZ4ZlYqHLUqVpWllXAlrPURbegaW+ZhjTc+RVy2Buyjez99PF3PVPNsKZZZ/bdqjniJ3GsM8x5TsH9jZH04Wf66nn19/k885PfXhBR23s3w0CeE5oLKAGAHZmC7zv9od59e5HMYTGmhgmlTrIupfuAwHfyy7jf6J/gjJbSWXSLOr/FmPRRwBIFZuwnXb2dL0dP7I+7FBr7OIBuvu/Td9EC9ccfhNOEEOjONLxKMnoZrrGXoafu7A6h2YDVjoGi/wp1MF7KQ3ez7GNisG+ZYybK5giVa1r4rOMY6zSAyxTkrjuwVXLUCSRZLHkESxxiHEnwz3ta3iy+Xy2J1bRb3dieJpkMV99mkpZkm6emFvEcT3M4Gx/TjSG4WMYHobhIw0PQ/oYZpiuxKUMwkcE03EZIKSqS9eVCVV+9EnC+aYlkH50+gkcZGAjyo8MHIQK86TvIJRdLZeBg9AmQpkIbSACq5pGG0hlIZQxXUeZYVyfqXfiBhr42cZR6xmu+cRvLWifjf27QQDPCY0F1EAFT03l+J3/vocbjjyNEOAMHfv/23vzMMuq8tD7t/Zwphq7qrpr6JmmoRmbSeaIAkK8oqIJItErfCbXeCMqxHtjND4BvqtCkifJZ+6jxJHBIcSIA8qs0gyCAk03U0MDPQ/VXV1z1akz7b3e74+9zzn7TNXVA3RDrR/P7jW9611DbWq/tUY65m/myLM3A3DXRDc/Sf4dvjufpswU56x5hJe6f07WTQNwwlSK57s+x57OZUQPs0tNbGH51t9yTP8Clg+dCsCUO8HvF/+C3U1bOHHXeRy953QcHUxxxhQsjFkssgokdv6BwuZHKIxtY/2xLew8ciETqcXkqXxXuxjiSDazlO0skEFc6aEgC/D0AjzpQXBQFHDUboYSo7zUmmBdSwfrm3pZ37SELck+8uEUq+N7JPM5mvJZUvksyXyOuFcgXsiT8PIV/kQhCB8emxj2ZiAGo1/F40yiR6uUjmOBUCZwK+Oi8pF8JV2RfAg2ForiTR7l2zxABZtiJIxXYEkoJQqlAteqCqswN1CaIFalkERi66SXZlhVuAElTA1noyMTzjV5qyakI3LFPiqmNZ6irZ0SrbfdVUrbU+vqaTjIVL9+e2P/pnb3k71knNmUcQOZg6J7Bqr3+xigIF++5VXOu/In+12XepjvtzEADwjzAhmiPDE6yZd/9EveNrA+2NyxYwOdS7ZzxNnbALhnvI3/jH8eL3E0jlfgql/dx2s9/bzU8zu0pbG1xYqxJTxz5GcZT82pWHiTSk9y5ro1HL+jm7ZcFwB7mrbxxOJfMJzcybED53Ds7rNpzs8p5emwFYtiFvOmtqE2P0xh+1OIn2N3VxsvHNPLWHcPnjOX8uHDAEI3e1jCDhaznQX000oaEYUv8/CkD0/m4stcCtLFqGplp2ri+VQr65tjbGly2BN3GUvESCcS5BIpxJ5mREsER/u4vofr+7hegZhXCPzaK6d5Qbqj/WD3rmhsHezkdbTG9j1c8XHCPLb2w3SNVdqxe2DruQwGw6Fh/oJ1/I+/+PFB1Wm+38YAPCDMC2So5vGRCb72vR9zzMQ2lBaSW1+mc3k/S87aAcADown+I34N+VSwju+/33MXc0ZdHjv+Gba1vwxAwrfp8c7gpQUfZTLZUqE/NeXx3id3cMSeBI4ObgHZ2r6OJxbfxVhiiBVDp3DM7jPomlhaMRrT7Sh6Xc2c4eewt/wef/eLID5512Xr/G5eW9rDWMdccGvf4yYmmc9u+iJPc+QwaQARhWYOvszBl3a0zMGnHV/a2RZrY31TKxuSzWxPxNgVjzESjzHmuqRjcaacJDmnCercGLLfSHDfcPEe4GA3ZfBY0eNcKN5bGxiIllZYIuU7dItykR2cFce4hPlKx7UQ2TFbERfKUNztWE6r0RMpo1Z3WaZ4JEzY4IhscaOHVJUZ6qhoR7W+ss7K8qbLU5Yv17VxPYtOZT5KZUWpbV89GhwxvJdPW6Ods9PdH1yWn25TyXS6K5TUL0P2kt6ozAbtbVhmw3rVCuzrAF6l/F5+DjPQvadd8d2//NK+VWIvmO+3MQAPCPMCGerx2NA4t3z7dhZmB7F8TWLzOuYd3c/Cs3cB8MiIw+3OVWRa3w3A25/5Ax+7exW/Pu0U1i75NUNNO4HAEJzDu3m19xIyiaaKMpqnfN7/h0mWDHhYKDSa17pW88yCBxhNDpDKtbJy13ksHzqFVK6jlM8G5jqKLtsnPv4KTZsfxdn9AmgPgEwiwZ65c9myYC575s0ln2ire0CzQ4Z2NUa3DLOAAXrYQxfDNDM1o1G24A7fJrQ0o2nCkxbGnA5G7U5G3TnscZsYdpMMuQmG3QSjbpxRJ8ak45C2XaYch4xtk7Vd8pZNwXbxLDc8eNgAVO2kqUioE1YzkKspYC8iB2eDx+tDsb2H45jw61WnenplmrR9UDOzxP1WPHfsNZ7/wOUHoLsW8/1+ixiAX/nKV7j77rtZu3YtsViM0dHRveYREW644Qa+9a1vMTIywhlnnMHXv/51jjvuuBmXa14gQyMe2T3MHd+5lXmFcRxPE9/8At3H9DP/rAEAnhtRfF0uYrLj46Acjti+hf/z7//K9s5zeOb4OaxZeB8jqd0AxP0YKfsytvScRy6WrCinY8LnPU+lWbInMOAE4dW561nT93NGUv0AzJnqYfmeUzl28AwS+baK/G22otuBuD9Cfmgt8Y2P0zW2o5Tu2TYjc+Yw0jGH3XM7GOrsIJdsaXguhOBhqyxJMrRIlg5JM09P0G0N08UQc9QgDv7B6eRimeIgxNDEyKkkaauFtN1M2m4mayXJqSRZO0HOSpCxkuRUnKwVJ2vHyFhxspZL1nLJWQ4ZO3Dzlo2vLArKxlMWnrLwQ9dTquT3w7AO43yl8MNwsIFZBffkquLqvqI/4kJVHFD0vx7nbxgMbzKWjw7w6AcuOqg6zff7LWIAXnfddbS3t7N9+3a++93vzsgA/Id/+Ae+8pWvcOutt3LUUUfx5S9/mUceeYT169fT0tKy1/xgXiDD9DzcP8DPvnMb7X6auAfOxrXMO2aABecEht3GUcW/5E5gdO5nEbudlskJrvvO1zh201Z+e/yVbDsizTML7mc0GRiNigQJ98Ps6jqbvBsaghIspO8d9nj7CxmO6i8f1PxK9zhrF6xhT/IxbH8ABDqn+lgycjwrhk6lZaqb6F/dNtDhKDpsiPkTpMfXMbnnGToGd9IzMYwVmiYFx2G8tbX0jLa3MtrWSjbVPKMDwwpWDl/lsFQBhwIx8UiKR5N4NOsC7VKgXeVpVXlayZBSWeLkcMjjSBabHBY5rINsSB6uFA1HjYVWoYtCsEthUaDDcHArcdGYtEIdwU9PKysyoWuFBmZ5slhCXYG8ihijxcnjqEwxb/io8sSvlHRTStclGVWqD1Clu/xQt2yFjpRd0l+tQ5UnYUv1LBrlYdnV9ROCjS26mF7UH26AKdan/HOxIv7IzytyNVydye9Sf5fqr6IyM/DXyJe21NSRV3Xi99YuKuKiZesGdWWa+tWOQ1eWOb1OQVD0qVau/PgnOJiY7/dbxAAscuutt3LNNdfs1QAUEfr6+rjmmmv4/Oc/D0Aul6O7u5t/+Id/4C//8i9nVJ55gQx744kdu7jzu7fSrLM0F2zUxqfpWD7EwvP6UQp2jFv842Qvo13X4MWPANH893t+xpX3/JSRVDePHX8lQ72jPNe7iv621wDQVhNO4k8Yav8jPKd86DNK0T3ice66DMdsL5R+lQ60Wvz+KI9X576C8l7DzW/EzW8hmU+yaORYjh06lbkTS7F05WHJFsHxMk2OR5PjE8tPMjm2lYmJ13Am+mmbGGbuxAixcPrYtyymUinSTU0Vz2RzE+mmFLl4Aqx9n6L18cnbeTzLw1MFtPLRygflY+PjiMYRwSZwi48rgivgCsQQ4mjiCpIICYS40iTwieMTw8MJTCpspbElMLPs0NyyxA/NLh8LwcJHReJKj2hUdN1hydV7CRsMhkbsar2Cnr/+94Oq03y/Z6kBuHHjRpYtW8YzzzzDySefXIp///vfT3t7O7fddtuMyjMvkGEmPL19Bz/57q0kpEBHIYFsfoamRbtYfP5OLFvYmk7wrWGH/o6ryDa/E4CjN7/El//9/9I1NsLmjqNYu+JD5Obkebb3YTZ2rkVbPlqlKDRfSLbpYvKx4P1TOtiw0DEpnPFKlhO25HDDgbKMq3hucYynj0ow3Cw4he04uY3E85tJZbbQPiEsG1nOkaMn0JLuA127e9dVkLR9JDZJIT6OdicpMIyfSeOO54iPjtM8Nkbz5Bit6XHaMxOlsR4BcvE42UQieJKBm0kkycdj5GMxsvE42XiMQixGwY3tl8F4IGg0osIjlVXxcGUJbuSIpAVuEKYUForjdVKxmr9yLCpYeRbGFeWkcryo7C+PhxWPYyltQilpK8qqUt4K9RGqx1ei94hUL8ZXVaHojRvlMSdVsaGjft6qcmdQN4juTVfhesbqI2vK69dK/SbVdazV3/BYGqnNWauj/BOsSavYvNFYR1FP6T0QavqwXI+onkYbZIIjguqt5qse16tMUw3io+mV7akYuyxu2lGV8qoiPUwryVS1RVSFYMXYYCSppe8E3vVX13AwMd9vmJUnju7aFSzG7+7urojv7u5my5YtDfPlcjlyuVwpPD4+/vpU0PCW4rQF87E+9lHuvP12ht0s85aegb/9ZTbdb7H0ou0sasryCbeFO/u/zfrsS0x2/D+sX3IMH7nhJv7m+9/ggtXPsuTxL7Op40g6V/wpb0+9l5fmruXleU8wIncRm7iHbNPZ5FreQyHWhwCDbfCbE1weOSbOCdsKnPZqjraM5ozXcpzxWo4dc2zWLu3mxYWLGGuxGAP6gZf9CVL5TXRNPcq84TSLB1tZNLaA5kw35FMURFHwbPDaYKq8njBhaVQ8y+SiUbYldzOY2MVgsp/J2DBJbZPMu8RyFvGMEMsWiGdyJDNZmqbGaE/naBvM0ZzTJPKUHscH33HIxwLjsOC6eI6D5zoUnNAfhov+guPi2xae4wSubePbFtqy0baFtoJHLDvYMFI1ZW1h1dpthhr2dbvIrGB/l2uaZZ57RU09w7sOdSXeghy2BuD111/PDTfcMK3MU089xWmnnbbfZVTvbhSRujsei9x44417rZPBUI9Tli7G+uhH+MkPfsiAM0HvwuNo2t3Bhrstll68nUWJCf77gmZ+3P8o63ZtYqLrU+TjS/jyX/wtd573INd/54csHX6NpY/fxNaWBXQc80HO3f0pXk0N8/K837Op82my6UcoxI8h23w+udRpZBMxssCTy4VXenwWDtkctdPjyF0F5o/4zB/JcNGzGTb0uLywKMarPS6e20w6eSLp5Ils6YSnloMSzTy9mwXZbSwZmGLxrgTtY8042Sb8Qpy8tshrC/IprHyKzok+OoGjw7Y7lo/YOfJumnRslPHUMIMdAwwk+xmMD5CJeeRti+pjYCytcLSF4wuun8fxCzgeuJ7g+oLrCbGCEC/o4PEE1wNHg+2DnQdbg60lcH2ISZimwdLgaIXCxtYWlihsUSixsEVhaQjGNaqPYy76w7Aq+ovphIcvF0dEiqNkYVhU6c7e0jo0pcLBtFq3YVokb2nsMPLrKxpXsbZKVaXvb1ydsiSSXvRHyy/FRdJr1tqpiEFZk7dKTzS9lCccX6quv6oyVCvCqja92LZpDLRGm3Si5Zf0z0BnkK925K1GplYl0T6djsq6Nc4wva6ZlbVvstXvSKQueW+mhRn2gcN2CnhwcJDBwcFpZZYsWUIikSiFX+8p4HojgAsXLpzVQ8iGfeOVTZv5/u3fxxafPn8O88dsNhTu5siLNhFvKzDlx/nuHovN+RhjHR8m0xLsfHPyu/njR7/FJ361jpZsoGsilmLwqEspdC9nu25la9smNnauYVPH82RiLtnmt5NpOg/tlke6E7k0S3ZOsWxPgqUDPnPSupSWt+HVvhiv9Lls6HHIJOzS2sJ6dMggvbKTpekMK3an6B5KkRxP4Gdc8gWbjK8ozPi3i6AsD23n8ZwMeSdDxplkyp0g7Uwy4Y4z6U6QszPk7Sx5J0vBzpK3c3hWDs/yaucwD3OUDs4gtITwDMLQLcbpYBrU0mWZ0gOl2bfacHnKOCpfnYe6eaPxwfSkFZmybZRvJnqjB3FPV26xLML0aLhmmnov8gdT18GSr67f9LoaTM+/Hv3UYAnAXnVV6azO30h/NdMtQci2Lud/f+sX0yvYR8wU8GFsAO4P+7oJ5Nprr+Vv/uZvAMjn88ybN89sAjG87mzavJlbbvs+lvjM9ztYnutjTe4ulp35DE3dGXxt8R8jbayZzJNJHsNE5/9AO10gmrbRB3j3Iz/hA0+kmTcW6POVxXjP8eil72J3qoWdfjv9LZvY2v4SW9tfYmBOUzBFnDoDscvvqVNIc9zmPRyzI0HfSJymfPlXgVawo8PhtT6X13pcdrfbiDWzP/njkmUuA/ToPawYm2LRsEvXeDOpyRRWJoGXc8l7NlkfspqDuJdXg9KIClxt+Yjy8JWPtjx8q4BnFfCVV9pQ4imPQhinLT+QVX6lX/lo5eFbOhL2wzWCGq3KjxTd4nrB4jrCyJrB2nC1bLUbyAQjVMGCsWAUp7zuMJCBugvyDIY3Oe/ctpx/+9JPD6pO8/1+ixiAW7duZXh4mLvuuot/+qd/4tFHHwXgyCOPpLm5GYAVK1Zw44038oEPfAAIjoG58cYbueWWW1i+fDlf/epXWbVqlTkGxvCGsGXLFr532+0oHYwErvRW8GTrk/R13Un7sgkAfj80l/9MT+KrJOmOj5BtfgcATYUhmoZ/wNuefZJLntSsKB/bRy6WRBacxeSiM9jjOuwudDEem2Rb+0vsaN3Eph6X0bYV5JInVxiDaJ8lu3ayclOeJYMpWrPxivpmXcW2Loetcx22zHXon+Og7f2zNJRoUqTp8sdZmhtnaTpNb9qnY9ImlbWJ5eJY+QSSj6E9F99z8LWFJ4SPUAj9s+MgmP2hciFjedpQ6shE46XyX1UpJ3Xz1Emr0i9VeurWrUH9qksp66tOrSPZsI57k5WKVjcqs7rNomr11+ipGn4rh6v6vlEZDctsVCIVP8d6vVoRX2dor15roqHKOtXqqM3VQKOqHx9PjPJ//v7/ranzgWC+328RA/Cqq66qO2370EMP8Y53vAMApRS33HILV111FUDpIOhvfvObFQdBH3/88TMu17xAhgNh8+bN3Hr7D0B7zNWtnFlYyeoTp3B3/yOLTgxuA9k10srN4wXGlE0+eSyTc67Ed3sAWD6+Gmv0h6T2DPDO5zRvf0Fomyrrz8dTyNzjyC05m+FUggGvhUk9h7Q7xo7WjbzSO8nW7g5GW4/Ej/VW1K01neWobbs4aqdm4XAzMb9yubBnwZ5Wi+2dLv0dDv0dNntaZz5KuC8o8UnpDHMLOeZ6WTq8LO1ejjbfo63g0ZzXNOUhVYB4wSLm2ViejeXbKN8G3wbtIL4dPNoGCR4t5c+RluLFcVIKC2FcKa0cD+W8pfE3icZFZOrkmS7tTf9L2WA4iDS3D3HlTZcdVJ3m+/0WMQAPFeYFMhwoO3bs4Hu33o5fyNGum/ij/En87u3zGHvl/+OMFY9hxzS5tMvPNrXzRGsacJlqv4Sp1veCcnG0x4UDv8KauIs1dp5TNgjnPS+s3CjEIsNjeTcGrX3onpPIzF/EqLIYKHSS1h1ofLbPGeal+Xm2zksw2N6NF7kTWGmhe9Rn8e4xFg+kWTQUJ1lwa9riK5/JeJaxZIGRZsXuthi7O1ro70ySi9XKH2qU9olrIak1Ma2JiSaufVwRYlrjiiamBVc0ca1xRUrpjtbERErpjmhsJHAldMNzCe3igy75HQmOEbZFgjV/CLaE6/+IrAEUFVqIkWNHimv8dBATHVxTKESHLuW1doJC6XBbgRQ3TQQbVaS8GwOkuBFHhTfJqZJfYZXjImlB3rLhL0T0Ua5LVe+XZCQSLh3wIrWyUgqV29ZQb0QmGq6hzo6DUn1KbayPRNoX5Ku3e6G2flKRp5FcuWypCFWmTfeXwkw/7IdKbq/5IhHW8p2cf/Wf7afm+pjvtzEADwjzAhkOBgMDA3zv1tvITqVp1gnOL5zED0+eB97TnJf6N5paM4gPr7w4j/9wMow3KfKxLtJz/ox8MtjE1OpNcOX2H9E29iD3NMfZoxWnbBDOfFk4eYMQj2yiEyAfT+K3LSSz8HjsuXPwlGbIa2KPt4icNDHUYrFpnmbzXJ/+jjhjzc2UdumK0Dmh6R3x6BnO0zecoWdUEffsuu3T+EzFxplyJ5hy08ETy5KO50nH8kzFFYV4Ai/WRD7WQiHWTN5pJu+0kHea8K0EM7lhxHCwOHifhOkOuY6ajHvX01i2UZraS9w0pt0M5OvVo7qs6nz10+uVr2YoV9Iv1fmiZ0pW6ZKyXyRqxpfLsarCdfVJtclbeTeKokGfSWV51Sd9Kmr1ntsON53+fg4m5vttDMADwrxAhoPFyMgIt9x6G+NjoyTE5YL8Sr6/oIPmUxMs3PZFjup8FYDxbU08/FIbjy0dx3eFqdQxTM75M/zYYgDm5of51NYfcebQvfwm6fDLplYmRTh2q3DSRmHlJqFvuLJsATKxBHvaFzPWdxRzO2LMSWk8Ecb8OCN+L/0sZHt7M/1zbAbaHHa3KwbbHDy7bBR2TGq6xv3yM1aga0IT9/ZuvGWdNFNuYCRmYuOk3XEyodGYs9N4Vh5f5fGsHL4qoERhi0XwnwLLRiwXpVy07YJyEav4xBAVQ1suvh1HqxjajuOrGL4VD+JVDF85iOWglYNWNhI+mqLfQWOBcoIzBAnPEqTB6I8xWg2Gg8JC2+Opt+//kW/1MN9vYwAeEOYFMhxMJicnue3277NnYDe2WLyjcBy/be5i+0V9WFt/yAdbfoRj+xSmbLY82sMTlvDiknHyLky1nkO67QNoZy4AnblRPrX9R3yk/1fstvI8kkpyT3IOryaEuWPCiZuEFduFo7cLPaO1dfGVYldTJ9s7jkC1zWFei0dfc5ZkwscD0n6MUd3FxvgSNrZ0s62lnaGmOCPNFiPNNhOpsmHYkhHa0z5taU37lA7cMNw2pXF0bfl7I29nydlT5Jwp8k6GgpXHs/OBa+Uo2Hk8K0/BzlOwc4Hfyoe7gT18VenqqrBvecFu4hlQPr5FlY90oSqOYNqvfBSKKsUhwRrlYGREgVKladqK+KKOcs5AtjTWUj57sBhfGodRFqAQZZXjlYLwzt9iWmlsJiIvob6wVZTPAIyMHUXOQizrJhK2KsOhTFS2PH5kRepAWa6kn6r6ls9TrCy/Vn80rZw3WnakjGLbo2NfqnIsrPIcwHI9S2s6Vbk90+qJ6Kgdjyv3d+0fGlVxkX4Iyq83DliuU3mWu7oujcf2avWriHijNtXmJXIfdEV8aXa7/PM5kzT/edH7OJiY77cxAA8I8wIZDja5XI7/+q//4rXXgnt/Ty8cyXZ7Pt8+bw7LCtt5j7qJPrcfgJFXW9n8xDye60uzqS/NaLOQaT6Xqbb3lwzBhJfn0t2/5jPbf8AR2R2MWBZPJuI8nmjhd4lmdsc92icDQ3DFdmHpLmHJbkjl69evYNnsbOpiuLkLmproSBToSmXoSE3R1OwhrlAAhmlnY2IxWxJ97I53sCfRxmCiheFEipFknLGkQ961QIREXmjJapqyQnNG05zVNGclcDOaZD6QSeZ1xVT2641G41s+vuUTHNVSPO7Fj/iLR7745TT80pEwonT5yBilI9fJBVZj+ZgXKV8rF/UX0yJHyNTm0xHZoOZSLVORLzheBqjYtSrh3Fx0p2xgIEhlnIqkRWQq4lQ0tfJqvMpy6sXV01Fddr36V8pU1r+6/Kq4qvoWkYpdqZWfyno7fqeXq6oDRIyd6s9wpHY1/VAlo+rkKfreIoPQbx9cxNc/d/dB1Wm+38YAPCDMC2R4PfB9n/vvv58nn3wSgKO8XlL+kXzhpCZWLEiyZPxW/lvsl1hKKEzZbH+sh+HNzaxbMsHOnjT97T6Z5nPJtLwbP7YgUCrCycMv87Ghn3DpwCqSfmBJDVsWqxNxfp9oZnWsmS1xwVM+80ZhyUBgEC4Ygt5hoXeY0r3CjchZDsPJNvLxBE5MkYhpknFNKqFJxj2SyQLxZA43liabgD3xLgbcLgbdLva4cxhyOxh2Wxl2Wxl1m0k7SdJOnCknzpTrkrUclNiVRmEhuAHE9YWYF94QEt4KEgtvDAniwNES3gQi4Y0hoasFx3/LfC8NhrpItQFajK8yIitkavabTGfgVuquTavy1RjAkdyRtMHmbfzTVz9V26ADwHy/jQF4QJgXyPB68vvf/5777rsPgLm6lePzx3HDgiTbj2/j6MmX+dPkN1igtgMwtqWJHY/3kB+Psbk7zcDCUV6eWyCbPIFMy8XkkyeV9Dblpjh34vf82eSdnDr6Cq3jHjEJpjt9YJPr8mI8xjOxJl50m9juCmlXo7TQNV42BntGhc5x6BwX5o5B+1R1C/aOVoqCbaMdGxwLywHLtbBdsBxwHMF2dMm1HY24QjbpkEnEmEo4ZBMuOSdGzomRdeIlN2MnyNhJMk6CrJ1gykqQteNkrQQ55eIph4LlkldO4Fc2Hi6CjRYHERsRCy02WlkIFiLlKVNLyrd0WMXdvNFw9GYPLRW3ftTc1lHhl5p4qtP2IW/ZL7U6w59D+XYHaRDfQH5/81XES038zPLKfpQV9MNe5avr0UjG8IawrdvmphvOO6g6zffbGIAHhHmBDK83r732Gj/5r5+QzWVJiMsfFY7n1kQzvzqtjflJxTnZH/Hf4r/CwcP3LQbWdjCwphPxLYZbcuw+cg9ruz3SsV6yLReSS52NtssHnfemd3O69zQXq19x7PgW3GGX1IQwzxvHjvy9PmpZbHBdNsRc1jlJNjkJ+h3FnlhwJiCA4wkdE9A5Ae2TwZmErVNFF1rT0JaGlgw05aR0xdgbgQBYKlzGFrgq9KtwwZ4Kl4cpS8JlYoKyQqMqlLFCi0qFlpy2FGITugptWWjbCsKWFYQtC60U2rbwLQtRQZyvAjmtLMQK0rQq5gnii3FiBeuldFhJUcX7VRViBaaQhGm6mA4R2eq4YI1dMa5437AO172V7hdWhBtfimvlQv3FNXyROFClfAJhvcInLEer4K5kUcHRMlpZBNO2kTWCSqGr1r2V2lqsK0T0RsKRtWnRfETqUHGnMgRlReJKfRQtW+qUVdIRHKUjFfUL2yDlNpTrFdZJIvWprmtVe0o6pFJeEdVRVVYkD5E2leUCGRXJLwTrVMvZVOnfaPlhl5T+3yoaxsW0YoKoov4IkWOIwmqFesuGdVk+iHnn8Hau/9QVHEzM99sYgAeEeYEMbwQjIyP853/cwa6B3SiBU71lvKJ7+dqKBLmFTSzPb+dPnO9ygvU8ABO5Zvqf6mRqXRJEkXN9+pcMsW7RFLvjDvnkyWSb304+cSKo8tEtPZk9nOs/y8rkAxzBBlKTPrnBVhiJ0ZIp0OeP0atGKuqmgUHbZrvjsN112G3Z7LDi7LJchmyLYUcx6kK++tYQEeIFSOWCpykLqZyUwqkcxAtCrADxAsQ9iBUg5kE8DzFPES8EcYkCOH4wvetEpncNhteHOmvravZBSG18Ka02b9mZZohRNQjWla02ofaus3bTeuO61N3gPk099q0PquMFjj2aJd+6t07G/cd8v40BeECYF8jwRlEoFPjVr37Fs88+C0CvP4cFhRV8pd1h44ltkLA5K/c7rojdTqcaAmB3bh7bnunDfj6DEgtB2Dl3is1HjLKho4Bnt5NLnUYu+TYKiRUVxmCzl+HkwgaOdR/jOHs1nQRnx4ynW9gx0EVmJEVLBnoLU/QwwXw1SDcjuKr+IsEppRi3LMZsK3AtqxQewWHEshmzbNJKMaUsMpYiYymyliJrQd5SpZHGmaAkWOvnFB9NOawj8aHBWJy+tUtTuOF0rqZqajeUqYq3K8JSkV4xFRvqgMh0MFVpUj+t6K+RqZZrUE5NuRX5FZYOj4aWaD9WTpWWdzHXTyvHS2n0qzgtzV7y19cDRKdsG+Tbh1fD8CZk4J3Hct7Ndx5Uneb7bQzAA8K8QIY3EhFh7dq13HP3PRS8AnFxOL1wDP9FK788MoG/uJmYynNR4Ve8z/0FTaQB2OAtY/CFI3DXbcOaCD6jmZjPpt40WxZOsLvVQ1vN5JMnk0ueSiFxHGIlKsru8sY5Wl7lSGcNR/EyC9mCTTDMNphN8ux4DxvGuslMtNGUcen0fDo8TafKMIcJOtQ4naHboSZoZ7KhsdiIAjBlKTLKIqsUeaUoKEVeQT4Ml+PCeKJhha/AQ5WeQtGvFB7gU5bx1TRhpfApTwVqilfFKXQYLk2PQjj9WelKKKMjfqn21xstMTSmeDhxI2NyurRp8kRlYB/zVw2kVRjY9eKqB96kvly9dlXXra7O6vrsrY5VBvj+1KdWZ2Va3biILt15Prd87v9yMDHfb2MAHhDmBTIcCgYHB7nzxz+hf2AXAMv9HtKFJXy7xWbH0a3ozjhNMs77/J9xkX0vMQoAbNFLGFp3Di07tqFHt5EZjQOK0aYCW3rTbJuXYbA9j2DjxZeRTxxPIb6SQnwJ5XPcAuI6z1J/Bwvt9SxRG1nMRhawDZdgd7Hvu4zmU2zMJnhpspn+TAeD2Q4m861orxUpNOP6CZoLLs34tJChWWVoYarCn1I5EuRJkCeuQpdCEKcKpbSEyhOXAq7ycPBx8HHxsKu/UG8yigZh1IjU4fotXRWOPsU1XBJJgyrjk0CwIm9kyVhQhqqjs0H+0Jgt11vV1VlZXp26R/OrynhdlbeuzlJdVYW+qEuD+Mq6qullo3WtXuFQOaE7bfnRtXSVbuPyG+WJll/bn/X1N25X4/4r93Plz6AoUFvH6XRV6Yi6oY62kUV8/rqHOJiY77cxAA8I8wIZDhWe5/Hb3/yWx594HICkxDihcBQ/1C28sjDJ9sVJpMmlXUZ4t/4FF1oPkiALwC6/j4HN5zN/sItO/UsmN4+xI91OxneZintsm5dh27wMuzuyFFxBVJxCbBmF+HL82AoK8WVoO1lTJ1t85uvd9KnN9Kod9LKDXnbSyw6SYdmIhfLnoHUreWkmLXH6CzG25h225WBXThjJKnJ5B9EpxE8hfhLxk6BjiI6XXNEx0HGg/hV0AAqNGxqEDl7J76rAQCwaikWj0UIH9/IqXfZT6VehG/gD11bV8fX9VhhWgKWK2w+KbvGo4uhDmCdwqZIrupT8obyiQk+tXokeAV2qlzVtHhrKlY9MLtYFop/+6iOSo+Ho0cPRcL28RVOhpEtFRqhUrc7qsqC2DtTRXYpT1Xlmnt96k//xcTjx27FTOP9fjQF4sDEG4AFgXiDDoWbbtm38/M6fMTQarNFb6s8jW1jCzUDb8na2LEiQjVk0ywQXy91crO4pTQ1nJMnWgXPo3nMO57XfR+HlR9k+0cL2qTZ2TLWSEYeh1jz9nVl2dWYZmJPDcwRB4bt9eO5ivNhifHcJhdgixG5uWM92PUYXA3SqAboYpJM9dDJIJ4O0MUYr4zjh6CHaxvHasHXwKGlB0YLQjE8ST8XI45LDYQrFODCmNWPiMak9pnSBrPbIaJ+c71PwhbwnFHyh4INXehS+VvgafC2B2SLhEx75UvQH8XZZJiobpqlgay1A4McKw+EjVW7UrJGoidPYXzTDDG8m6hu5lcZjfeO0noFcY6TWGLiV421RWarkasqvmr9tZPhW54+6e5PZW32q+wtgubeTf/mnGzmYmO+3MQAPCPMCGQ4HCoUCDz/0ML97/HcIgiMWK7wlPOzP40FbOO7YLrb1xtmqNAnJ8Ees4l3cy3x2lHRszazAHjydi50x5m65A5VLM1pIsDE9h3Wj3Qxmm8grxWhrnsG2PINtOQbb84w1F0rTZtruxIstwnd68d0etN2L5/ainbYZtSMlaVoYpzU0CFsZo5lJUqRJMUUydAP/FE2kSTJFgiy2trEKKexCE5bXhOXFsfw4SsexdBxLEliSwJYEFsFjk8BSyeCxYijlonCwlAsE9wmjbBTBHcNYFlqFt2tYIEpK4airLU1wP0jZhVAGCftLwtTybR069IexoV9XpQVhXwQfjS66WuOHOn0dyPsS1EDrsk5fgjwiOljDKDqUFUTCOksgjxDUX8I6CqEMQUkStEMkuDVFhHL9i7JhnEixjYTyxbhy3iCtfKNJKT+BDor+YrlQE1cKR+MITYrwU1dyKde/KBmEVUlxxbSyVB5XXDnlWdZZcoM50khq5TRpYPpIaPxXyVAOSGWwvr/qK14KSlhGWI/KVXeUwlH5eumV/qr55wY6a8J15afPK2F93rd0Gf982V9yMDHfb2MAHhDmBTIcTvT393P3z3/J9t07AWjVSfq8ZdyiU2yw4Kxj5xE7spVVuQxpX3Mcz3Ex93IyT5em8PISo3/yZE7Npjh+6yrs9B4gOK9to+7g9zt66Z/qQsdTiG3h6xxjiXFGU1lGmwuMthQYacmTjZfPYdEqhe92o+1OfKcLbXeWH6cD324hugN5X1GiiZMjTpYYeeJkw3CuFB8Nx0pxeWw8bHzscBq46LdDv4OHUwyLH+z2BWytsCgf+mxLcO+vLcHon0354GdLLOzwTmDEQmGhxA5HDhUqHEUM7gUu3qEcueM3MnIYfA6tknGh6owwFu8XLuepHnkkKBNK5dXVUzIGyuVB9Jy3aoOg/PEul0mlTNEvET2lMmtlVaTO5TQV2jMqnAIOw0TaWkqPGB+qrEupOnWtNnCKsnXSVF3Z8o3NpbiqelTnU1X5SzUq5oNyG4ojv5E0FSlO1R0ZLvdNzdkt0fumq7JUGobVRlpYb1WbVpaPGJuKSL9Ejd3G5VakKUgdt4C5px9dp337j/l+GwPwgDAvkOFwQ0R4bu1zPHDvfaTzGQDm6TZ0YTHflwS7Ec5fMY+jj+1itePx6GiaOQxyLo/wRzxEHztLuqYkhUwtYOXIEAs2r8cObbp801w2Ob2s6U+wdaiLfEsnXqoZy/ew8jmsQo6CnmLCmSQdyzKRyDCZzDGR8phIeWQSlbt/BYVYKbTVirZbEKsVbbeirVbEakJbKVApFCnESqKtFNpOoa0kYjlvWN8eDJQU1xnqcB1d2V+c+ip+eqNxUJ6qq54yLPqjawSj6+TKMgdXf+AnEsfrFl9vSnJf4qv9lXn2Lf7wb3s5rbbujeVq2zszORro3j+5+nU4Ry/hQxdezcHEfL+NAXhAmBfIcLiSzWZ55DcP84enn8SXwOCarzsZKizgRxJnHGFxZ4o/PW0hrYtb+PetA2wq5DnC3sjbWcXpPEEbYyV9BXFxp1IcsWeArqEpmtM+CtALz2RP+zG8NGLx0pZJhqfiFJJt4FQaZtZUGiedxckpKFjkYjAVLzCVyDIRH2UyPk4mliEby1NwfHKuJu9o8q6uNwABFAelXESlECuOqMhjxSrCWHFExWrSgw0kNuAQjEIGj6hi2EGUjSgblI1ghyMpVrgLtexW75Q2GAwHhw+5z/Fv537soOo0329jAB4Q5gUyHO6Mj4/z0D2/4dmXnwvWdQHdup0xvYA7vCSjQMy2uPDYeVxwXA+P23l+tmWIjO+xvHkjb1NPchp/YB4DlYo9i7kjGdrGPdomCrRMeti9p6KPfg9DzSewdsNONm7axOBkgYIVq6mXlctgZdLY2SnsnGAXYliqBWW1hk8LqGZ8J8tUYjeTid2Mx4dIOxNknAxZK0fOzuFZBbTll9fRldbmBTNcwZq8MM4SfAXaktJM68GkPA5TNAbL+3IrwqGf4hVrRT9UTFMWp8yiy+ZrpgOjU4elq77qTCuqqDwRuajOenlVxRVllTJEZKPRdabxSmXWxtfI70VPo7A0zD+DMhvJqUq52jGsfW3L9Pkb9pFqEC9V5UgdGVRNTLEsFZGpX79qGstFfbVGxXRlVcbXW6l4TG6AX13+lQb59g/z/TYG4AFhXiDDm4WhoSEe+tWvWbfp5ZIh2CHNKGshP8ik2B0aFC1xh4uO76FrUQv3Z6dYv2cS8j4Lm3ZyXNM6jrNe4BjWlY6UKaK00Jz2aZ0o0Jz2cfw2rHln07zsj5He03nxtZ289up6du4eYDKbq62gSGAUlp4sdi6DKuRQ2GClUCqFCl2spiCsEijl4toerpPHtfNYTh7cLOJm8ZwsnpshH8viuXkKsRwFt0De8cg5mqzjkXU0BSs4NNpTFh5QEIXvBxsgPF+DJtgcIYLo4iaFcEOFLm4eCKZGtRR3DwSbHkqf7qqZrkrzRJU/fCJUrF0jTJBAiVR+7cvpdcT3h70dPl2hN9Koyvg6cWF8ZZzUOUOvSk5Jje6Krizllxr7Z9ry99JOw+HDMZO9/PhTDxxUneb7bQzAA8K8QIY3G6Mjozx2z0OsffUFPIKpYVdsumMLeNLv4oGp8tBYU8zmhKVzyHUlWOP65NIFrNE8NgWOaN/CUc2vsczZwDL1KnMYrVtePOvTPOWTLzQz7CxhtGUl+c4z0f58rOFhsrt2Mrx7F9lcHaMQQGusfBYrn0UV8qU1hlYhhyrkS2fA1aJAxVEqDioGOMFO3vBRpV2+DgoXSylsBbalcZTGUT6O8rEtH8vS2JbGUhrL8bGUYNk+luVj2xrb9rFsD2V5WI6PsjyU8sDSiKURpRFL0CoI++FOYbE0OgyL5YcyEuYJZVTwELpaFXfhEqYR7i4OD3lWgQGqrfJO4mBkVAU7bUMDSCge8qxKI4fBLl6FSOUqQl3yB24xXIqTqFGlSuHqFW0SWrhR+erVhNGDpJFiOUHGmjwSMRYrdKqK9NqyqJuupbyzV1dWPjTuQ73FPwAI+iqoYbjLuCRffhNFAgNfFzuglF4MC9WnZZf/GCjZ/WEdy38s1BQEFP88KKmvSCyPsAnl6/lqdxAHctFxvPBvm4o/LMp1iOaNDEZKrV+qM0T+UpB6lQnr/UdHruTvL/1ObdoBYL7fxgA8IMwLZHizkk6nefrBx1n9/FrG/XQpvstqR5r7+Hm6mQ3pyISXgu7OFNl2l4EWG93qYqV9nOEcyeEcyfYxlszdxtKmzSyyt3GE2kizNdGwfKUFvxBnVHfQb/Ww015EXuZgZxPEJy2cYQ9G8+DrhjoAHARb+6hCAfI5JDcFhTyWV0AVH98H0W/QgE9xitQKXGVVhrFQpbji9HBlejFPox2i5Wnb6mnBqilaVRmOTsGVZyYrpwdLkqpqhLI0BSkVekDCtDof9WIVanoolFfRcBEpx6lonjp6KiLLpke9WdfauLCcUt0jZlUYV7/MaDkRAy6iW1WUKxWRqtJEqu0fVWHeVdWzWNO9f7JVddur2h38gBvpiU4OV/4OqFRarbMc31BU1XlPipZuqRypklD0Ht/K2z5yXYP67h/m+20MwAPCvECGNztaa159eh1PPvYHNo5tD85bAxDoTsxF2hfw61wTz+yqHaFz22JkWl2kzUW3uCgFPYMeyR1T5KYK5FpzdM0b4KjWTZzkrmO+vZMWewyJeYi1d3PMF4tJWpikmSndRFanyHsJvHwMnXeRvIsUbMhbqIKFlVeovEL7Lr7vBgc5h4hSKNsGy8KyLCwVrsLTGqU1yvdQnge+h/J8KBmQXujPI56H0h7i+4gOjEqDwfD6s2DBci7/5389qDrN99sYgAeEeYEMbyXGB0ZY8+CTrNvwMrv1SEVaV6KDps75bEx08vhuYcPgVE1+sRXS4qJbXaTZJZVyWJy3aNuWwR3KkS34DFlCJpXj+NbnOS31Isvjm+l2Bom7U+RiNrm4RS5mUYgd+C6NvLjkSJCXOAVx8cUJHu3gi43Wduh30NpGh3FaW4i2KO8kIXQVWqzSI1j4YqHDUwO1BBe/+dj4Uj7kpTimpaW44SMYlStOIZanwSIjdgKigrMBRVRgwEbO5yuOWZVyhHN+wWBKZMI2OJE5GDWSonYd+ItpxavUwnk+pSUio8u6o7Il/cUffjgpXEovT4cqKU3KlutWx6VCp0TaQXmqvzgXKeU6EJGnrnxln1TOHxfbXhsXrROlPqAmjohTUe/qedgafVW6K2Sq87CX+HI7KkYJ683T7ofexnoOkv696Ft42jl86H9/ob7O/cR8v40BeECYF8jwVkRE2PPSDp59bDWv7NzAHsYr0hNWjJ6uXqSzmx2qjeeHFS/sHCed9+vri1lIk4PT5NLhOswtKOYN5Zk74mMXNOMWePYEXc5m5jubWeJsZr6zk974bpqcKQquRcFVFJzAzbsWnqMouBaercg5NgXHxrcVYgnKmj2/0nRpXVfUrX8pV3RSU+rmo8ofrtsrm05V+splBHZMta4Gl33Vla2NE6lfp9q4WqonEUvxFa9G7URl3TenNGurKu25CiG11/jKelTFqwbxFdVooGtG8eUpXalqR8M6zjC+UV83zCNVfRWdn5d6PwOF3/IOrn2HOQfwYGMMwAPAvECGtzriawaf28H6p19kw85NbNeDFFSloRezXXo7u2nu7mEi3sbOfIJXRzXrdk+yZyzbQHOIpYgnbJocmxZP0Zr26cgKzVqRFGhlkk67nw5nB632HlqtQdqdITrsQTrVUM1uZAgG7nxb4dkKP3y0pfAtyFsOaTtO2kmQseNM2TFytkvWdsnbNp5t41sKbVloFeSTcNBOrGDdVHCxg6CUYCmNQmOjsZWHhcYhcMuHKhcPfa71B2OClX6DwVDJE/n38aU/NlPABxtjAB4A5gUyzCZEC5mto2x96jU2b9jI9vQAu63RGoMQIOnGmds1j46euZBoZUSSvDxl8dKoz/bRDGMTObyMP82YQS0xIKEVCQ0JUcRF6JQp5qth5qlROtQY7dY4c9QorWqMFmuMZmucFmuUZjWOo7yD1hfVFMKL5Ao4FFRwgVwBhwIueRwK2OSVQ0ECv4eFX/VopSjeE+JjBYYoFtqy8FH44eYQX1n44c5d3wpMTa1CM7K4WaC4szfcS6FRYRxQcoN4Qr8UN42E8So8ckZCv49FMPeqIoNhKsxXMbBTURaUR3VUmC9wwx2r9TZdVG8yUKHxXdoWUP5sSWR3QnlLhooMONZueCiPPKmKsIqEFVJuW6RKFSNekU0hpfiwPeW6RvqmPAha8+6HE/CRTRCVesrFlltZGd9gBLOUJ/JzqCo3qqMh1WnRnzc1Y8IlX52eb1xWg/JdfTT/fMmfT1O5fcd8v40BeECYF8gwm/En82ReG2HHi5vZuXUHu9NDDFrjDKtJdIMdhnE3xpz2ObR3ziHR3MqActlacNict9iYtdg55ePnNOQ0Kuej8j6qcDB+RQkpcrSRpk2laSfNHNK0MUV7GG5TU7SRJqFyJMmTIE9C5UI3H9wjHLpuHaPXYDC8Prx2zNUcaQ6CPui8uS7SNBgMhw12c4zmk7o5+qRujiYwCPPbJ5naPMKuTTsY2D3AqDfBqEozotJMqAy5Qp5de3aza8/ukh4HODJ8bMsm0ZSC5hReZ4IpN86I7TIgNrt9iwwOBbHJaTtwfRvtA56gfAmOjQn9SguWH/jFE6Z0gikS9EtnZUP2w7608XHwieHhFh/lVYQDv4+rouHgsVVwB7AdPsX7gIv+qBuVDbaeVOaL5lcEd/YGg3TFMSUiU82V9wGX46lJq5avviu4HAeWCjaNWNVlquq7hQndaLh6hV/1fSb1VjRWh+utvKuvlyod9fTsS9nT69sX2ao0VXe1Zd08URrqq5On3mq+6tWQtQN/0TLry1kNj5jZP0Z31W46Mxw4xgA0GAwHBbs5RnJFB8kVHXSyjGO14I9kKeyeorArTbZ/gsH+PYyOjDBBhkmVLT0TKkNWFfC1T3piAiaCMwRtoCt8jm1QrlgWvhuj4LjkbIdszCJvBev5CraDF/o9y8ZTNgUsPGWjlYUWha+CFXhagulUX1TJFSm6FpZSKGVhE/gtAZtgL25wWYiQF1A6WMmuigcDayC8QSSwjwQ05YODpewXQlkJJv+CtLCdERkJZYrxRbWl/DoiB5H0SL6D++M3GGZIrVEd+CuJpv2pM5fTXu9qzUKMAWgwGF4XlKVwOpM4nUmSx3bSCswDxNN4w9ngGcrgDwX+7NAkEyPjZPwcGZUPHvIlf44COeWRxyOvCuTxgjVuWuPksji5LMlD0E4BdGnNXfnRVeGSXCkcrNkTK7KOrvjZU5FxnMhatvK9vNSu6YvGQYXOYH1Y7bq8ijKkqqywqHo7dqHSgCyWUTJilSpZrqU1elULAQWJ+IvNqgrXLFqr3tlabEH1uJSqlKjwVGevv/Cs0jQprw4strWYvWLdYVFXcW1gpFLla3vDdZWhNqJ1DZVFD8euXi9Y7E8VuQdYoP6tOKUDqIv3lZT/oCj2t5LK9Zv1e6PBAsPKipXjpvvrQllUHwcT3H6oqm4MKetvW948jULD/mIMQIPB8IaiHAt3Xgp3XqomTbSg0wX88Tz+WC5wx3P4YxF3Io9kPAShgB8ahB45ChSUj4ePh8Yr+X08pSP+IF2j8QmuaNMIPsFVa34YLqWj8dFIg6+aAuzI+XQGg+Eg0+UDJxzqWrzlMAagwWA4bFCWwm6JYbfEYH7jv/rFF3SmgJ7y0FOFwGhMF5Csj875SPjofOjmvCAurwN/QSMFDf7MLTYJjUQJTcGir/wfwV281XHhf7o6rCrlimUEbmVIauKqZFW9+L3prS6hOCpY7pPgPmGqYqnQVumrlqwvJdX/qjryqkpX1SCU1OSRkp76q9SkRk9lS2uR6tzVdWrUnr3E15Sowin+qrIgEl+vj+rWuVZi+ho30tHI10jvdLJ70zP9/4dHe7Fp0w37hzEADQbDmw5lK+zmGHbzgX0YRAv4gTEoniAFH/FCv1eMD41FrYPb33wd5pP6rhbEL7q6MlxcB6iF4lo/ImsDJXSLMtF1gtOvIwxckTr6Q9noCKVEdBImVaZHRjOjec0Ip+EQ0Dpn0aGuwlsSYwAaDIZZi7IUWDbKtQ91Vd5UVBiIFf7gn5KBSVVaZPNKhfEZkZWIHnStrNSUGUmLGrUlPRUVb5gm+5pPyhGNbziTOrpq9co0afWHM2vTZJq0mdSn1K/VecuJDfXK3spslFbd/nplA7FFLbWRhgPGGIAGg8Fg2CdUeBh0GKpNf0NrYzAY9ocDv3HdYDAYDAaDwfCmwhiABoPBYDAYDLMMYwAaDAaDwWAwzDKMAWgwGAwGg8EwyzAGoMFgMBgMBsMswxiABoPBYDAYDLMMYwAaDAaDwWAwzDKMAWgwGAwGg8EwyzAGoMFgMBgMBsMswxiABoPBYDAYDLMMYwAaDAaDwWAwzDKMAWgwGAwGg8EwyzAGoMFgMBgMBsMswznUFXgzIyIAjI+PH+KaGAwGg8FgmCnF73bxOz4bMQbgATAxMQHAwoULD3FNDAaDwWAw7CsTExO0tbUd6mocEpTMZvP3ANFas3PnTlpaWlBKHVTd4+PjLFy4kG3bttHa2npQdb/VMH01c0xfzRzTV/uG6a+ZY/pq5rxefSUiTExM0NfXh2XNztVwZgTwALAsiwULFryuZbS2tppfEDPE9NXMMX01c0xf7Rumv2aO6auZ83r01Wwd+SsyO81eg8FgMBgMhlmMMQANBoPBYDAYZhnGADxMicfjXHfddcTj8UNdlcMe01czx/TVzDF9tW+Y/po5pq9mjumr1w+zCcRgMBgMBoNhlmFGAA0Gg8FgMBhmGcYANBgMBoPBYJhlGAPQYDAYDAaDYZZhDECDwWAwGAyGWYYxAA9DvvGNb7B06VISiQSnnnoqjz766KGu0hvOI488wnvf+176+vpQSvHzn/+8Il1EuP766+nr6yOZTPKOd7yDF198sUIml8vx6U9/mq6uLpqamnjf+97H9u3b38BWvDHceOONvO1tb6OlpYV58+Zx6aWXsn79+goZ018BN998MyeeeGLpUNmzzjqLe++9t5Ru+qkxN954I0oprrnmmlKc6a8y119/PUqpiqenp6eUbvqqkh07dvDRj36Uzs5OUqkUJ510EqtXry6lm/56AxDDYcUdd9whruvKt7/9bVm3bp189rOflaamJtmyZcuhrtobyj333CN/93d/J3feeacA8rOf/awi/aabbpKWlha588475fnnn5fLL79cent7ZXx8vCTzyU9+UubPny8PPvigPPPMM/LOd75TVq5cKZ7nvcGteX25+OKL5ZZbbpEXXnhB1q5dK+95z3tk0aJFMjk5WZIx/RVw1113yd133y3r16+X9evXyxe/+EVxXVdeeOEFETH91Ignn3xSlixZIieeeKJ89rOfLcWb/ipz3XXXyXHHHSf9/f2lZ2BgoJRu+qrM8PCwLF68WK666ir5wx/+IJs2bZJf//rX8tprr5VkTH+9/hgD8DDj9NNPl09+8pMVcStWrJC//du/PUQ1OvRUG4Baa+np6ZGbbrqpFJfNZqWtrU3+/d//XURERkdHxXVdueOOO0oyO3bsEMuy5L777nvD6n4oGBgYEEAefvhhETH9tTfmzJkj3/nOd0w/NWBiYkKWL18uDz74oJx33nklA9D0VyXXXXedrFy5sm6a6atKPv/5z8u5557bMN301xuDmQI+jMjn86xevZqLLrqoIv6iiy7i8ccfP0S1OvzYtGkTu3btquineDzOeeedV+qn1atXUygUKmT6+vo4/vjj3/J9OTY2BkBHRwdg+qsRvu9zxx13kE6nOeuss0w/NeBTn/oU73nPe7jwwgsr4k1/1fLqq6/S19fH0qVL+fCHP8zGjRsB01fV3HXXXZx22mlcdtllzJs3j5NPPplvf/vbpXTTX28MxgA8jBgcHMT3fbq7uyviu7u72bVr1yGq1eFHsS+m66ddu3YRi8WYM2dOQ5m3IiLCX//1X3Puuedy/PHHA6a/qnn++edpbm4mHo/zyU9+kp/97Gcce+yxpp/qcMcdd/DMM89w44031qSZ/qrkjDPO4Pbbb+f+++/n29/+Nrt27eLss89maGjI9FUVGzdu5Oabb2b58uXcf//9fPKTn+Qzn/kMt99+O2DerTcK51BXwFCLUqoiLCI1cYb966e3el9effXVPPfcczz22GM1aaa/Ao4++mjWrl3L6Ogod955J1deeSUPP/xwKd30U8C2bdv47Gc/ywMPPEAikWgoZ/or4N3vfnfJf8IJJ3DWWWexbNkybrvtNs4880zA9FURrTWnnXYaX/3qVwE4+eSTefHFF7n55pv52Mc+VpIz/fX6YkYADyO6urqwbbvmr5eBgYGav4RmM8WdddP1U09PD/l8npGRkYYybzU+/elPc9ddd/HQQw+xYMGCUrzpr0pisRhHHnkkp512GjfeeCMrV67ka1/7mumnKlavXs3AwACnnnoqjuPgOA4PP/ww//Zv/4bjOKX2mv6qT1NTEyeccAKvvvqqebeq6O3t5dhjj62IO+aYY9i6dStgfme9URgD8DAiFotx6qmn8uCDD1bEP/jgg5x99tmHqFaHH0uXLqWnp6ein/L5PA8//HCpn0499VRc162Q6e/v54UXXnjL9aWIcPXVV/PTn/6U3/72tyxdurQi3fTX9IgIuVzO9FMVF1xwAc8//zxr164tPaeddhof+chHWLt2LUcccYTpr2nI5XK89NJL9Pb2mnerinPOOafmqKpXXnmFxYsXA+Z31hvGG7/vxDAdxWNgvvvd78q6devkmmuukaamJtm8efOhrtobysTEhKxZs0bWrFkjgPzLv/yLrFmzpnQczk033SRtbW3y05/+VJ5//nm54oor6h4RsGDBAvn1r38tzzzzjJx//vlvySMC/uf//J/S1tYmq1atqjiCYmpqqiRj+ivgC1/4gjzyyCOyadMmee655+SLX/yiWJYlDzzwgIiYftob0V3AIqa/onzuc5+TVatWycaNG+X3v/+9XHLJJdLS0lL63W36qsyTTz4pjuPIV77yFXn11Vflhz/8oaRSKfnBD35QkjH99fpjDMDDkK9//euyePFiicVicsopp5SO85hNPPTQQwLUPFdeeaWIBMcEXHfdddLT0yPxeFze/va3y/PPP1+hI5PJyNVXXy0dHR2STCblkksuka1btx6C1ry+1OsnQG655ZaSjOmvgI9//OOl/7fmzp0rF1xwQcn4EzH9tDeqDUDTX2WK59S5rit9fX3ywQ9+UF588cVSuumrSn75y1/K8ccfL/F4XFasWCHf+ta3KtJNf73+KBGRQzP2aDAYDAaDwWA4FJg1gAaDwWAwGAyzDGMAGgwGg8FgMMwyjAFoMBgMBoPBMMswBqDBYDAYDAbDLMMYgAaDwWAwGAyzDGMAGgwGg8FgMMwyjAFoMBgMBoPBMMswBqDBYDAYDAbDLMMYgAaD4Q3hqquuQimFUgrXdenu7uZd73oX3/ve99BaH+rq7RPXX389J5100iHXYTAYDPuLMQANBsMbxh//8R/T39/P5s2buffee3nnO9/JZz/7WS655BI8zzvU1TMYDIZZgzEADQbDG0Y8Hqenp4f58+dzyimn8MUvfpFf/OIX3Hvvvdx6660lubGxMT7xiU8wb948WltbOf/883n22WdL6c8++yzvfOc7aWlpobW1lVNPPZWnn366lP673/2O8847j1QqxZw5c7j44osZGRkBQET4x3/8R4444giSySQrV67kJz/5SSnvqlWrUErxm9/8htNOO41UKsXZZ5/N+vXrAbj11lu54YYbePbZZ0sjmtG6R1m1ahWnn346TU1NtLe3c84557Bly5Zpdeyt7cWRw29+85ssXLiQVCrFZZddxujo6AH+dAwGw2zCGIAGg+GQcv7557Ny5Up++tOfAoGB9p73vIddu3Zxzz33sHr1ak455RQuuOAChoeHAfjIRz7CggULeOqpp1i9ejV/+7d/i+u6AKxdu5YLLriA4447jieeeILHHnuM9773vfi+D8CXvvQlbrnlFm6++WZefPFFrr32Wj760Y/y8MMPV9Tr7/7u7/jnf/5nnn76aRzH4eMf/zgAl19+OZ/73Oc47rjj6O/vp7+/n8svv7ymXZ7ncemll3Leeefx3HPP8cQTT/CJT3wCpVRDHTNpO8Brr73Gj3/8Y375y19y3333sXbtWj71qU8d/B+OwWB46yIGg8HwBnDllVfK+9///rppl19+uRxzzDEiIvKb3/xGWltbJZvNVsgsW7ZMvvnNb4qISEtLi9x66611dV1xxRVyzjnn1E2bnJyURCIhjz/+eEX8n//5n8sVV1whIiIPPfSQAPLrX/+6lH733XcLIJlMRkRErrvuOlm5cuW07R0aGhJAVq1aVTe9no6ZtP26664T27Zl27ZtpfR7771XLMuS/v7+aetkMBgMRZxDbH8aDAYDIoJSCoDVq1czOTlJZ2dnhUwmk2HDhg0A/PVf/zV/8Rd/wfe//30uvPBCLrvsMpYtWwYEI4CXXXZZ3XLWrVtHNpvlXe96V0V8Pp/n5JNProg78cQTS/7e3l4ABgYGWLRo0Yza1NHRwVVXXcXFF1/Mu971Li688EI+9KEPlXTVYyZtB1i0aBELFiwohc866yy01qxfv56enp4Z1c9gMMxujAFoMBgOOS+99BJLly4FQGtNb28vq1atqpFrb28HgnVwf/Znf8bdd9/Nvffey3XXXccdd9zBBz7wAZLJZMNyiruN7777bubPn1+RFo/HK8LFKWWgZJzu627lW265hc985jPcd999/Od//idf+tKXePDBBznzzDMb1m9vba9HsX5F12AwGPaGMQANBsMh5be//S3PP/881157LQCnnHIKu3btwnEclixZ0jDfUUcdxVFHHcW1117LFVdcwS233MIHPvABTjzxRH7zm99www031OQ59thjicfjbN26lfPOO2+/6xyLxUprCvfGySefzMknn8wXvvAFzjrrLH70ox9x5pln1tUx07Zv3bqVnTt30tfXB8ATTzyBZVkcddRR+90mg8EwuzCbQAwGwxtGLpdj165d7Nixg2eeeYavfvWrvP/97+eSSy7hYx/7GAAXXnghZ511Fpdeein3338/mzdv5vHHH+dLX/oSTz/9NJlMhquvvppVq1axZcsWfve73/HUU09xzDHHAPCFL3yBp556ir/6q7/iueee4+WXX+bmm29mcHCQlpYW/tf/+l9ce+213HbbbWzYsIE1a9bw9a9/ndtuu23G7ViyZAmbNm1i7dq1DA4OksvlamQ2bdrEF77wBZ544gm2bNnCAw88wCuvvFKqZz0de2t7kUQiwZVXXsmzzz7Lo48+ymc+8xk+9KEPmelfg8Ewcw71IkSDwTA7uPLKKwUQQBzHkblz58qFF14o3/ve98T3/QrZ8fFx+fSnPy19fX3iuq4sXLhQPvKRj8jWrVsll8vJhz/8YVm4cKHEYjHp6+uTq6++urRBQ0Rk1apVcvbZZ0s8Hpf29na5+OKLZWRkREREtNbyta99TY4++mhxXVfmzp0rF198sTz88MMiUt4EUpQXEVmzZo0AsmnTJhERyWaz8id/8ifS3t4ugNxyyy017d21a5dceuml0tvbK7FYTBYvXix///d/X2prIx3TtV2kvHnkG9/4hvT19UkikZAPfvCDMjw8fBB+SgaDYbagREQOpQFqMBgMhplz/fXX8/Of/5y1a9ce6qoYDIY3MWYK2GAwGAwGg2GWYQxAg8FgMBgMhlmGmQI2GAwGg8FgmGWYEUCDwWAwGAyGWYYxAA0Gg8FgMBhmGcYANBgMBoPBYJhlGAPQYDAYDAaDYZZhDECDwWAwGAyGWYYxAA0Gg8FgMBhmGcYANBgMBoPBYJhlGAPQYDAYDAaDYZZhDECDwWAwGAyGWcb/Dw2dBr8RNFbOAAAAAElFTkSuQmCC' width=640.0/>\n",
       "            </div>\n",
       "        "
      ],
      "text/plain": [
       "Canvas(toolbar=Toolbar(toolitems=[('Home', 'Reset original view', 'home', 'home'), ('Back', 'Back to previous …"
      ]
     },
     "metadata": {},
     "output_type": "display_data"
    }
   ],
   "source": [
    "iq = ImageQuant2(img=imgs, roi=rois, cytbg=cytbg, membg=membg)\n",
    "iq.quantify()\n",
    "iq.plot_losses(log=True)"
   ]
  },
  {
   "cell_type": "markdown",
   "metadata": {},
   "source": [
    "### Save results"
   ]
  },
  {
   "cell_type": "code",
   "execution_count": 6,
   "metadata": {
    "execution": {
     "iopub.execute_input": "2023-08-03T20:17:46.820754Z",
     "iopub.status.busy": "2023-08-03T20:17:46.820356Z",
     "iopub.status.idle": "2023-08-03T20:17:52.240362Z",
     "shell.execute_reply": "2023-08-03T20:17:52.239742Z"
    }
   },
   "outputs": [],
   "source": [
    "res = iq.compile_res(ids=df['EmbryoID'].to_list())\n",
    "res['Membrane signal'] *= calibration_factor\n",
    "res.to_csv('../../data/par2_nebd_quantification.csv')"
   ]
  },
  {
   "cell_type": "code",
   "execution_count": null,
   "metadata": {},
   "outputs": [],
   "source": []
  }
 ],
 "metadata": {
  "kernelspec": {
   "display_name": "Python 3",
   "language": "python",
   "name": "python3"
  },
  "language_info": {
   "codemirror_mode": {
    "name": "ipython",
    "version": 3
   },
   "file_extension": ".py",
   "mimetype": "text/x-python",
   "name": "python",
   "nbconvert_exporter": "python",
   "pygments_lexer": "ipython3",
   "version": "3.7.12"
  },
  "widgets": {
   "application/vnd.jupyter.widget-state+json": {
    "state": {
     "08b4565b712b4fda88fe36c432fab4a7": {
      "model_module": "jupyter-matplotlib",
      "model_module_version": "^0.11",
      "model_name": "ToolbarModel",
      "state": {
       "_current_action": "",
       "_dom_classes": [],
       "_model_module": "jupyter-matplotlib",
       "_model_module_version": "^0.11",
       "_model_name": "ToolbarModel",
       "_view_count": null,
       "_view_module": "jupyter-matplotlib",
       "_view_module_version": "^0.11",
       "_view_name": "ToolbarView",
       "button_style": "",
       "collapsed": true,
       "layout": "IPY_MODEL_d25c4d57326f4178ae9dfd22325a158e",
       "orientation": "vertical",
       "tabbable": null,
       "toolitems": [
        [
         "Home",
         "Reset original view",
         "home",
         "home"
        ],
        [
         "Back",
         "Back to previous view",
         "arrow-left",
         "back"
        ],
        [
         "Forward",
         "Forward to next view",
         "arrow-right",
         "forward"
        ],
        [
         "Pan",
         "Left button pans, Right button zooms\nx/y fixes axis, CTRL fixes aspect",
         "arrows",
         "pan"
        ],
        [
         "Zoom",
         "Zoom to rectangle\nx/y fixes axis",
         "square-o",
         "zoom"
        ],
        [
         "Download",
         "Download plot",
         "floppy-o",
         "save_figure"
        ]
       ],
       "tooltip": null
      }
     },
     "5ff68fe30288468d94c26ca8adfce434": {
      "model_module": "@jupyter-widgets/base",
      "model_module_version": "2.0.0",
      "model_name": "LayoutModel",
      "state": {
       "_model_module": "@jupyter-widgets/base",
       "_model_module_version": "2.0.0",
       "_model_name": "LayoutModel",
       "_view_count": null,
       "_view_module": "@jupyter-widgets/base",
       "_view_module_version": "2.0.0",
       "_view_name": "LayoutView",
       "align_content": null,
       "align_items": null,
       "align_self": null,
       "border_bottom": null,
       "border_left": null,
       "border_right": null,
       "border_top": null,
       "bottom": null,
       "display": null,
       "flex": null,
       "flex_flow": null,
       "grid_area": null,
       "grid_auto_columns": null,
       "grid_auto_flow": null,
       "grid_auto_rows": null,
       "grid_column": null,
       "grid_gap": null,
       "grid_row": null,
       "grid_template_areas": null,
       "grid_template_columns": null,
       "grid_template_rows": null,
       "height": null,
       "justify_content": null,
       "justify_items": null,
       "left": null,
       "margin": null,
       "max_height": null,
       "max_width": null,
       "min_height": null,
       "min_width": null,
       "object_fit": null,
       "object_position": null,
       "order": null,
       "overflow": null,
       "padding": null,
       "right": null,
       "top": null,
       "visibility": null,
       "width": null
      }
     },
     "67c9a6094435456da2f5fd85c97ac0c5": {
      "model_module": "@jupyter-widgets/base",
      "model_module_version": "2.0.0",
      "model_name": "LayoutModel",
      "state": {
       "_model_module": "@jupyter-widgets/base",
       "_model_module_version": "2.0.0",
       "_model_name": "LayoutModel",
       "_view_count": null,
       "_view_module": "@jupyter-widgets/base",
       "_view_module_version": "2.0.0",
       "_view_name": "LayoutView",
       "align_content": null,
       "align_items": null,
       "align_self": null,
       "border_bottom": null,
       "border_left": null,
       "border_right": null,
       "border_top": null,
       "bottom": null,
       "display": null,
       "flex": null,
       "flex_flow": null,
       "grid_area": null,
       "grid_auto_columns": null,
       "grid_auto_flow": null,
       "grid_auto_rows": null,
       "grid_column": null,
       "grid_gap": null,
       "grid_row": null,
       "grid_template_areas": null,
       "grid_template_columns": null,
       "grid_template_rows": null,
       "height": null,
       "justify_content": null,
       "justify_items": null,
       "left": null,
       "margin": null,
       "max_height": null,
       "max_width": null,
       "min_height": null,
       "min_width": null,
       "object_fit": null,
       "object_position": null,
       "order": null,
       "overflow": null,
       "padding": null,
       "right": null,
       "top": null,
       "visibility": null,
       "width": null
      }
     },
     "9ff688ce32674891843670f21da489ed": {
      "model_module": "jupyter-matplotlib",
      "model_module_version": "^0.11",
      "model_name": "ToolbarModel",
      "state": {
       "_current_action": "",
       "_dom_classes": [],
       "_model_module": "jupyter-matplotlib",
       "_model_module_version": "^0.11",
       "_model_name": "ToolbarModel",
       "_view_count": null,
       "_view_module": "jupyter-matplotlib",
       "_view_module_version": "^0.11",
       "_view_name": "ToolbarView",
       "button_style": "",
       "collapsed": true,
       "layout": "IPY_MODEL_67c9a6094435456da2f5fd85c97ac0c5",
       "orientation": "vertical",
       "tabbable": null,
       "toolitems": [
        [
         "Home",
         "Reset original view",
         "home",
         "home"
        ],
        [
         "Back",
         "Back to previous view",
         "arrow-left",
         "back"
        ],
        [
         "Forward",
         "Forward to next view",
         "arrow-right",
         "forward"
        ],
        [
         "Pan",
         "Left button pans, Right button zooms\nx/y fixes axis, CTRL fixes aspect",
         "arrows",
         "pan"
        ],
        [
         "Zoom",
         "Zoom to rectangle\nx/y fixes axis",
         "square-o",
         "zoom"
        ],
        [
         "Download",
         "Download plot",
         "floppy-o",
         "save_figure"
        ]
       ],
       "tooltip": null
      }
     },
     "a02ee63fee234ce0b598ed7072cdb6df": {
      "model_module": "jupyter-matplotlib",
      "model_module_version": "^0.11",
      "model_name": "MPLCanvasModel",
      "state": {
       "_cursor": "pointer",
       "_data_url": "data:image/png;base64,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",
       "_dom_classes": [],
       "_figure_label": "Figure",
       "_image_mode": "full",
       "_message": "",
       "_model_module": "jupyter-matplotlib",
       "_model_module_version": "^0.11",
       "_model_name": "MPLCanvasModel",
       "_rubberband_height": 0,
       "_rubberband_width": 0,
       "_rubberband_x": 0,
       "_rubberband_y": 0,
       "_size": [
        640.0,
        480.0
       ],
       "_view_count": null,
       "_view_module": "jupyter-matplotlib",
       "_view_module_version": "^0.11",
       "_view_name": "MPLCanvasView",
       "capture_scroll": false,
       "footer_visible": true,
       "header_visible": true,
       "layout": "IPY_MODEL_5ff68fe30288468d94c26ca8adfce434",
       "pan_zoom_throttle": 33.0,
       "resizable": true,
       "tabbable": null,
       "toolbar": "IPY_MODEL_9ff688ce32674891843670f21da489ed",
       "toolbar_position": "left",
       "toolbar_visible": "fade-in-fade-out",
       "tooltip": null
      }
     },
     "d25c4d57326f4178ae9dfd22325a158e": {
      "model_module": "@jupyter-widgets/base",
      "model_module_version": "2.0.0",
      "model_name": "LayoutModel",
      "state": {
       "_model_module": "@jupyter-widgets/base",
       "_model_module_version": "2.0.0",
       "_model_name": "LayoutModel",
       "_view_count": null,
       "_view_module": "@jupyter-widgets/base",
       "_view_module_version": "2.0.0",
       "_view_name": "LayoutView",
       "align_content": null,
       "align_items": null,
       "align_self": null,
       "border_bottom": null,
       "border_left": null,
       "border_right": null,
       "border_top": null,
       "bottom": null,
       "display": null,
       "flex": null,
       "flex_flow": null,
       "grid_area": null,
       "grid_auto_columns": null,
       "grid_auto_flow": null,
       "grid_auto_rows": null,
       "grid_column": null,
       "grid_gap": null,
       "grid_row": null,
       "grid_template_areas": null,
       "grid_template_columns": null,
       "grid_template_rows": null,
       "height": null,
       "justify_content": null,
       "justify_items": null,
       "left": null,
       "margin": null,
       "max_height": null,
       "max_width": null,
       "min_height": null,
       "min_width": null,
       "object_fit": null,
       "object_position": null,
       "order": null,
       "overflow": null,
       "padding": null,
       "right": null,
       "top": null,
       "visibility": null,
       "width": null
      }
     }
    },
    "version_major": 2,
    "version_minor": 0
   }
  }
 },
 "nbformat": 4,
 "nbformat_minor": 4
}
