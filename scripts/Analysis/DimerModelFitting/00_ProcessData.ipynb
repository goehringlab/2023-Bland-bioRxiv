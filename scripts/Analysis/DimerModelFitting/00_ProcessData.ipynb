{
 "cells": [
  {
   "cell_type": "code",
   "execution_count": 1,
   "metadata": {
    "execution": {
     "iopub.execute_input": "2024-05-17T12:57:18.875929Z",
     "iopub.status.busy": "2024-05-17T12:57:18.875331Z",
     "iopub.status.idle": "2024-05-17T12:57:20.860061Z",
     "shell.execute_reply": "2024-05-17T12:57:20.858875Z"
    }
   },
   "outputs": [],
   "source": [
    "import pandas as pd\n",
    "\n",
    "from src import bounded_mean_1d, nb_setup\n",
    "\n",
    "nb_setup()"
   ]
  },
  {
   "cell_type": "markdown",
   "metadata": {},
   "source": [
    "### Create raw dataframe"
   ]
  },
  {
   "cell_type": "code",
   "execution_count": 2,
   "metadata": {
    "execution": {
     "iopub.execute_input": "2024-05-17T12:57:20.863806Z",
     "iopub.status.busy": "2024-05-17T12:57:20.863162Z",
     "iopub.status.idle": "2024-05-17T12:57:21.222498Z",
     "shell.execute_reply": "2024-05-17T12:57:21.220993Z"
    }
   },
   "outputs": [],
   "source": [
    "# Import data\n",
    "df = pd.read_csv(\"../../../data/par2_nebd_embryos.csv\")\n",
    "df_quantification = pd.read_csv(\"../../../data/par2_nebd_quantification.csv\")\n",
    "\n",
    "# Filter relevant data\n",
    "lines = [\"lp637\", \"nwg201\", \"nwg338\", \"nwg369\"]\n",
    "df = df[df.Line.isin(lines)]\n",
    "df_quantification = df_quantification[df_quantification.EmbryoID.isin(df.EmbryoID)]\n",
    "\n",
    "\n",
    "def calculate_summary(group):\n",
    "    cyt = group[\"Cytoplasmic signal\"].mean()\n",
    "    mem_tot = group[\"Membrane signal\"].mean()\n",
    "    mem_ant = bounded_mean_1d(group[\"Membrane signal\"], [0.4, 0.6])\n",
    "    mem_post = bounded_mean_1d(group[\"Membrane signal\"], [0.9, 0.1])\n",
    "    return pd.Series(\n",
    "        {\n",
    "            \"Cyt\": cyt,\n",
    "            \"Mem_tot\": mem_tot,\n",
    "            \"Mem_ant\": mem_ant,\n",
    "            \"Mem_post\": mem_post,\n",
    "        }\n",
    "    )\n",
    "\n",
    "\n",
    "df_summary = (\n",
    "    df_quantification.groupby(\"EmbryoID\").apply(calculate_summary).reset_index()\n",
    ")\n",
    "df = pd.merge(df, df_summary, on=\"EmbryoID\")\n",
    "\n",
    "# Add uniform vs polarised column\n",
    "unipol_dict = {line: \"Pol\" if line in [\"lp637\", \"nwg338\"] else \"Uni\" for line in lines}\n",
    "df[\"UniPol\"] = df[\"Line\"].map(unipol_dict)\n",
    "\n",
    "# Add genotype column\n",
    "genotype_dict = {\n",
    "    line: \"WT\" if line in [\"lp637\", \"nwg201\"] else \"L109R\" for line in lines\n",
    "}\n",
    "df[\"Genotype\"] = df[\"Line\"].map(genotype_dict)\n",
    "\n",
    "# # Remove points below threshold\n",
    "# mem_thresh = 4e2\n",
    "# cyt_thresh = 2e2\n",
    "# df = df[df.Mem_post > mem_thresh]\n",
    "# df = df[df.Cyt > cyt_thresh]"
   ]
  },
  {
   "cell_type": "markdown",
   "metadata": {},
   "source": [
    "### Create dataframes with absolute concentrations"
   ]
  },
  {
   "cell_type": "code",
   "execution_count": 3,
   "metadata": {
    "execution": {
     "iopub.execute_input": "2024-05-17T12:57:21.226492Z",
     "iopub.status.busy": "2024-05-17T12:57:21.226155Z",
     "iopub.status.idle": "2024-05-17T12:57:21.232739Z",
     "shell.execute_reply": "2024-05-17T12:57:21.231684Z"
    }
   },
   "outputs": [],
   "source": [
    "def create_dataframe(D, c, df):\n",
    "    # D = diameter of molecules (um)\n",
    "    # c = cytoplasmic concentration in wt cells (M)\n",
    "    # df = input dataframe\n",
    "    df_copy = df.copy()\n",
    "    wt_condition = (df.Line == \"lp637\") & (df.RNAi == \"wt\")\n",
    "    mem_norm = df_copy.loc[wt_condition, \"Mem_post\"].mean()\n",
    "    cyt_norm = df_copy.loc[wt_condition, \"Cyt\"].mean()\n",
    "    xc = c\n",
    "    xm = (mem_norm / cyt_norm) * (1 / D) * c\n",
    "    for col in [\"Mem_tot\", \"Mem_ant\", \"Mem_post\", \"Cyt\"]:\n",
    "        df_copy[col] *= xm / mem_norm if \"Mem\" in col else xc / cyt_norm\n",
    "    return df_copy"
   ]
  },
  {
   "cell_type": "code",
   "execution_count": 4,
   "metadata": {
    "execution": {
     "iopub.execute_input": "2024-05-17T12:57:21.235539Z",
     "iopub.status.busy": "2024-05-17T12:57:21.235288Z",
     "iopub.status.idle": "2024-05-17T12:57:21.308465Z",
     "shell.execute_reply": "2024-05-17T12:57:21.307700Z"
    }
   },
   "outputs": [],
   "source": [
    "# Main figure: D=5nm, c=10.4nM\n",
    "df_main = create_dataframe(0.005, 1.04e-8, df)\n",
    "df_main.to_csv(\"df_main.csv\")\n",
    "\n",
    "# Supplement 1: D=0.5nm, c=10.4nM\n",
    "df_s1 = create_dataframe(0.0005, 1.04e-8, df)\n",
    "df_s1.to_csv(\"df_s1.csv\")\n",
    "\n",
    "# Supplement 2: D=50nm, c=10.4nM\n",
    "df_s2 = create_dataframe(0.05, 1.04e-8, df)\n",
    "df_s2.to_csv(\"df_s2.csv\")\n",
    "\n",
    "# # Supplement 3: D=5.451nm, c=4.1nM\n",
    "# df_s3 = create_dataframe(0.005451, 4.1e-9, df)\n",
    "# df_s3.to_csv('df_s3.csv')\n",
    "\n",
    "# # Supplement 4: D=5.451nm, c=410nM\n",
    "# df_s4 = create_dataframe(0.005451, 4.1e-7, df)\n",
    "# df_s4.to_csv('df_s4.csv')"
   ]
  },
  {
   "cell_type": "code",
   "execution_count": null,
   "metadata": {},
   "outputs": [],
   "source": []
  },
  {
   "cell_type": "code",
   "execution_count": null,
   "metadata": {},
   "outputs": [],
   "source": []
  }
 ],
 "metadata": {
  "kernelspec": {
   "display_name": "Python 3",
   "language": "python",
   "name": "python3"
  },
  "language_info": {
   "codemirror_mode": {
    "name": "ipython",
    "version": 3
   },
   "file_extension": ".py",
   "mimetype": "text/x-python",
   "name": "python",
   "nbconvert_exporter": "python",
   "pygments_lexer": "ipython3",
   "version": "3.11.6"
  },
  "vscode": {
   "interpreter": {
    "hash": "aee8b7b246df8f9039afb4144a1f6fd8d2ca17a180786b69acc140d282b71a49"
   }
  }
 },
 "nbformat": 4,
 "nbformat_minor": 4
}
