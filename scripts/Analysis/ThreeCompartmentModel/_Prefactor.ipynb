{
 "cells": [
  {
   "cell_type": "code",
   "execution_count": 1,
   "metadata": {
    "execution": {
     "iopub.execute_input": "2023-12-19T20:13:38.970993Z",
     "iopub.status.busy": "2023-12-19T20:13:38.969675Z",
     "iopub.status.idle": "2023-12-19T20:13:39.055908Z",
     "shell.execute_reply": "2023-12-19T20:13:39.054983Z"
    }
   },
   "outputs": [],
   "source": [
    "import numpy as np"
   ]
  },
  {
   "cell_type": "code",
   "execution_count": 2,
   "metadata": {
    "execution": {
     "iopub.execute_input": "2023-12-19T20:13:39.059459Z",
     "iopub.status.busy": "2023-12-19T20:13:39.058881Z",
     "iopub.status.idle": "2023-12-19T20:13:39.079061Z",
     "shell.execute_reply": "2023-12-19T20:13:39.077092Z"
    }
   },
   "outputs": [
    {
     "name": "stdout",
     "output_type": "stream",
     "text": [
      "3.580964371026362e-07\n"
     ]
    }
   ],
   "source": [
    "km = 10 ** np.loadtxt(\"../DimerModelFitting/log10_km_wt.txt\")  # determined by model fit\n",
    "ka = 10**6.446  # determined by AUC\n",
    "print(1 / ka)\n",
    "koff = 7.3e-3  # Goehring 2011a"
   ]
  },
  {
   "cell_type": "code",
   "execution_count": 3,
   "metadata": {
    "execution": {
     "iopub.execute_input": "2023-12-19T20:13:39.083469Z",
     "iopub.status.busy": "2023-12-19T20:13:39.083080Z",
     "iopub.status.idle": "2023-12-19T20:13:39.088524Z",
     "shell.execute_reply": "2023-12-19T20:13:39.087643Z"
    }
   },
   "outputs": [
    {
     "name": "stdout",
     "output_type": "stream",
     "text": [
      "4.7631999999999994e-05\n"
     ]
    }
   ],
   "source": [
    "D = 0.005  # cortical thickness\n",
    "cc = 1.04e-8  # wt cytoplasmic concentration (Gross)\n",
    "norm_mem = 22.90  # normalised membrane concentration (me)\n",
    "cm = cc * norm_mem / D\n",
    "print(cm)"
   ]
  },
  {
   "cell_type": "code",
   "execution_count": 4,
   "metadata": {
    "execution": {
     "iopub.execute_input": "2023-12-19T20:13:39.091269Z",
     "iopub.status.busy": "2023-12-19T20:13:39.091014Z",
     "iopub.status.idle": "2023-12-19T20:13:39.105608Z",
     "shell.execute_reply": "2023-12-19T20:13:39.104555Z"
    }
   },
   "outputs": [
    {
     "name": "stdout",
     "output_type": "stream",
     "text": [
      "46.40464670810006\n"
     ]
    }
   ],
   "source": [
    "# See paper methods\n",
    "pf = koff * np.sqrt(4 * ka * cm + np.sqrt(8 * ka * cm + 1) + 1) * km\n",
    "print(pf)\n",
    "np.savetxt(\"pf.txt\", [pf])"
   ]
  },
  {
   "cell_type": "code",
   "execution_count": 5,
   "metadata": {
    "execution": {
     "iopub.execute_input": "2023-12-19T20:13:39.109561Z",
     "iopub.status.busy": "2023-12-19T20:13:39.109018Z",
     "iopub.status.idle": "2023-12-19T20:13:39.113866Z",
     "shell.execute_reply": "2023-12-19T20:13:39.112872Z"
    }
   },
   "outputs": [],
   "source": [
    "def koff(m, km, ka, pf):\n",
    "    return pf / (km * np.sqrt(1 + 4 * m * ka + np.sqrt(1 + 8 * m * ka)))"
   ]
  },
  {
   "cell_type": "code",
   "execution_count": 6,
   "metadata": {
    "execution": {
     "iopub.execute_input": "2023-12-19T20:13:39.116607Z",
     "iopub.status.busy": "2023-12-19T20:13:39.116227Z",
     "iopub.status.idle": "2023-12-19T20:13:39.121121Z",
     "shell.execute_reply": "2023-12-19T20:13:39.120096Z"
    }
   },
   "outputs": [
    {
     "name": "stdout",
     "output_type": "stream",
     "text": [
      "0.0073\n"
     ]
    }
   ],
   "source": [
    "print(koff(cm, km, ka, pf))"
   ]
  }
 ],
 "metadata": {
  "kernelspec": {
   "display_name": "Python 3",
   "language": "python",
   "name": "python3"
  },
  "language_info": {
   "codemirror_mode": {
    "name": "ipython",
    "version": 3
   },
   "file_extension": ".py",
   "mimetype": "text/x-python",
   "name": "python",
   "nbconvert_exporter": "python",
   "pygments_lexer": "ipython3",
   "version": "3.11.6"
  },
  "vscode": {
   "interpreter": {
    "hash": "e3dc3871f4e194b0e5205f2056eb037c91cfe60a6f5484f031ab0dd7212226df"
   }
  }
 },
 "nbformat": 4,
 "nbformat_minor": 4
}
