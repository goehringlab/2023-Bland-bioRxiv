{
 "cells": [
  {
   "cell_type": "code",
   "execution_count": 1,
   "metadata": {
    "execution": {
     "iopub.execute_input": "2023-07-25T16:13:42.467246Z",
     "iopub.status.busy": "2023-07-25T16:13:42.466868Z",
     "iopub.status.idle": "2023-07-25T16:13:51.846251Z",
     "shell.execute_reply": "2023-07-25T16:13:51.845423Z"
    }
   },
   "outputs": [],
   "source": [
    "import sys\n",
    "import pandas as pd\n",
    "import numpy as np\n",
    "sys.path.append('../..')\n",
    "from src import load_image, ImageQuant2\n",
    "%matplotlib widget"
   ]
  },
  {
   "cell_type": "code",
   "execution_count": 2,
   "metadata": {
    "execution": {
     "iopub.execute_input": "2023-07-25T16:13:51.850117Z",
     "iopub.status.busy": "2023-07-25T16:13:51.849693Z",
     "iopub.status.idle": "2023-07-25T16:13:51.858687Z",
     "shell.execute_reply": "2023-07-25T16:13:51.858069Z"
    }
   },
   "outputs": [],
   "source": [
    "# Import quantification model\n",
    "membg = np.loadtxt('../../data/calibration_mem6.txt')\n",
    "cytbg = np.loadtxt('../../data/calibration_cyt.txt')\n",
    "calibration_factor = np.loadtxt('../../data/calibration_constants.txt')[6]"
   ]
  },
  {
   "cell_type": "code",
   "execution_count": 3,
   "metadata": {
    "execution": {
     "iopub.execute_input": "2023-07-25T16:13:51.862716Z",
     "iopub.status.busy": "2023-07-25T16:13:51.862402Z",
     "iopub.status.idle": "2023-07-25T16:13:51.882845Z",
     "shell.execute_reply": "2023-07-25T16:13:51.882284Z"
    }
   },
   "outputs": [
    {
     "data": {
      "text/html": [
       "<div>\n",
       "<style scoped>\n",
       "    .dataframe tbody tr th:only-of-type {\n",
       "        vertical-align: middle;\n",
       "    }\n",
       "\n",
       "    .dataframe tbody tr th {\n",
       "        vertical-align: top;\n",
       "    }\n",
       "\n",
       "    .dataframe thead th {\n",
       "        text-align: right;\n",
       "    }\n",
       "</style>\n",
       "<table border=\"1\" class=\"dataframe\">\n",
       "  <thead>\n",
       "    <tr style=\"text-align: right;\">\n",
       "      <th></th>\n",
       "      <th>Unnamed: 0</th>\n",
       "      <th>Path</th>\n",
       "      <th>EmbryoID</th>\n",
       "      <th>Line</th>\n",
       "      <th>Date</th>\n",
       "      <th>RNAi</th>\n",
       "    </tr>\n",
       "  </thead>\n",
       "  <tbody>\n",
       "    <tr>\n",
       "      <th>0</th>\n",
       "      <td>0</td>\n",
       "      <td>/Users/blandt/Desktop/PaperData/Imaging/PH run...</td>\n",
       "      <td>1556901861</td>\n",
       "      <td>n2</td>\n",
       "      <td>190503</td>\n",
       "      <td>wt</td>\n",
       "    </tr>\n",
       "    <tr>\n",
       "      <th>1</th>\n",
       "      <td>1</td>\n",
       "      <td>/Users/blandt/Desktop/PaperData/Imaging/PH run...</td>\n",
       "      <td>1556901937</td>\n",
       "      <td>n2</td>\n",
       "      <td>190503</td>\n",
       "      <td>wt</td>\n",
       "    </tr>\n",
       "    <tr>\n",
       "      <th>2</th>\n",
       "      <td>2</td>\n",
       "      <td>/Users/blandt/Desktop/PaperData/Imaging/PH run...</td>\n",
       "      <td>1556902036</td>\n",
       "      <td>n2</td>\n",
       "      <td>190503</td>\n",
       "      <td>wt</td>\n",
       "    </tr>\n",
       "    <tr>\n",
       "      <th>3</th>\n",
       "      <td>3</td>\n",
       "      <td>/Users/blandt/Desktop/PaperData/Imaging/PH run...</td>\n",
       "      <td>1556902453</td>\n",
       "      <td>n2</td>\n",
       "      <td>190503</td>\n",
       "      <td>wt</td>\n",
       "    </tr>\n",
       "    <tr>\n",
       "      <th>4</th>\n",
       "      <td>4</td>\n",
       "      <td>/Users/blandt/Desktop/PaperData/Imaging/PH run...</td>\n",
       "      <td>1556902969</td>\n",
       "      <td>n2</td>\n",
       "      <td>190503</td>\n",
       "      <td>wt</td>\n",
       "    </tr>\n",
       "    <tr>\n",
       "      <th>5</th>\n",
       "      <td>5</td>\n",
       "      <td>/Users/blandt/Desktop/PaperData/Imaging/PH run...</td>\n",
       "      <td>1559137737</td>\n",
       "      <td>n2</td>\n",
       "      <td>190529</td>\n",
       "      <td>wt</td>\n",
       "    </tr>\n",
       "    <tr>\n",
       "      <th>6</th>\n",
       "      <td>6</td>\n",
       "      <td>/Users/blandt/Desktop/PaperData/Imaging/PH run...</td>\n",
       "      <td>1559137889</td>\n",
       "      <td>n2</td>\n",
       "      <td>190529</td>\n",
       "      <td>wt</td>\n",
       "    </tr>\n",
       "    <tr>\n",
       "      <th>7</th>\n",
       "      <td>7</td>\n",
       "      <td>/Users/blandt/Desktop/PaperData/Imaging/PH run...</td>\n",
       "      <td>1565356359</td>\n",
       "      <td>od58</td>\n",
       "      <td>190809</td>\n",
       "      <td>1908081630xfp</td>\n",
       "    </tr>\n",
       "    <tr>\n",
       "      <th>8</th>\n",
       "      <td>8</td>\n",
       "      <td>/Users/blandt/Desktop/PaperData/Imaging/PH run...</td>\n",
       "      <td>1565356740</td>\n",
       "      <td>od58</td>\n",
       "      <td>190809</td>\n",
       "      <td>1908081630xfp</td>\n",
       "    </tr>\n",
       "    <tr>\n",
       "      <th>9</th>\n",
       "      <td>9</td>\n",
       "      <td>/Users/blandt/Desktop/PaperData/Imaging/PH run...</td>\n",
       "      <td>1565356899</td>\n",
       "      <td>od58</td>\n",
       "      <td>190809</td>\n",
       "      <td>1908081630xfp</td>\n",
       "    </tr>\n",
       "    <tr>\n",
       "      <th>10</th>\n",
       "      <td>10</td>\n",
       "      <td>/Users/blandt/Desktop/PaperData/Imaging/PH run...</td>\n",
       "      <td>1565356990</td>\n",
       "      <td>od58</td>\n",
       "      <td>190809</td>\n",
       "      <td>1908081630xfp</td>\n",
       "    </tr>\n",
       "    <tr>\n",
       "      <th>11</th>\n",
       "      <td>11</td>\n",
       "      <td>/Users/blandt/Desktop/PaperData/Imaging/PH run...</td>\n",
       "      <td>1565357105</td>\n",
       "      <td>od58</td>\n",
       "      <td>190809</td>\n",
       "      <td>1908081630xfp</td>\n",
       "    </tr>\n",
       "    <tr>\n",
       "      <th>12</th>\n",
       "      <td>12</td>\n",
       "      <td>/Users/blandt/Desktop/PaperData/Imaging/PH run...</td>\n",
       "      <td>1565357282</td>\n",
       "      <td>od58</td>\n",
       "      <td>190809</td>\n",
       "      <td>1908081630xfp</td>\n",
       "    </tr>\n",
       "    <tr>\n",
       "      <th>13</th>\n",
       "      <td>13</td>\n",
       "      <td>/Users/blandt/Desktop/PaperData/Imaging/PH run...</td>\n",
       "      <td>1565358564</td>\n",
       "      <td>od58</td>\n",
       "      <td>190809</td>\n",
       "      <td>1908081030xfp</td>\n",
       "    </tr>\n",
       "    <tr>\n",
       "      <th>14</th>\n",
       "      <td>14</td>\n",
       "      <td>/Users/blandt/Desktop/PaperData/Imaging/PH run...</td>\n",
       "      <td>1565358687</td>\n",
       "      <td>od58</td>\n",
       "      <td>190809</td>\n",
       "      <td>1908081030xfp</td>\n",
       "    </tr>\n",
       "    <tr>\n",
       "      <th>15</th>\n",
       "      <td>15</td>\n",
       "      <td>/Users/blandt/Desktop/PaperData/Imaging/PH run...</td>\n",
       "      <td>1565359132</td>\n",
       "      <td>od58</td>\n",
       "      <td>190809</td>\n",
       "      <td>1908081030xfp</td>\n",
       "    </tr>\n",
       "    <tr>\n",
       "      <th>16</th>\n",
       "      <td>16</td>\n",
       "      <td>/Users/blandt/Desktop/PaperData/Imaging/PH run...</td>\n",
       "      <td>1565359289</td>\n",
       "      <td>od58</td>\n",
       "      <td>190809</td>\n",
       "      <td>1908081030xfp</td>\n",
       "    </tr>\n",
       "    <tr>\n",
       "      <th>17</th>\n",
       "      <td>17</td>\n",
       "      <td>/Users/blandt/Desktop/PaperData/Imaging/PH run...</td>\n",
       "      <td>1565359415</td>\n",
       "      <td>od58</td>\n",
       "      <td>190809</td>\n",
       "      <td>1908081030xfp</td>\n",
       "    </tr>\n",
       "    <tr>\n",
       "      <th>18</th>\n",
       "      <td>18</td>\n",
       "      <td>/Users/blandt/Desktop/PaperData/Imaging/PH run...</td>\n",
       "      <td>1565359558</td>\n",
       "      <td>od58</td>\n",
       "      <td>190809</td>\n",
       "      <td>1908081030xfp</td>\n",
       "    </tr>\n",
       "    <tr>\n",
       "      <th>19</th>\n",
       "      <td>19</td>\n",
       "      <td>/Users/blandt/Desktop/PaperData/Imaging/PH run...</td>\n",
       "      <td>1565359689</td>\n",
       "      <td>od58</td>\n",
       "      <td>190809</td>\n",
       "      <td>1908081030xfp</td>\n",
       "    </tr>\n",
       "    <tr>\n",
       "      <th>20</th>\n",
       "      <td>20</td>\n",
       "      <td>/Users/blandt/Desktop/PaperData/Imaging/PH run...</td>\n",
       "      <td>1565360221</td>\n",
       "      <td>od58</td>\n",
       "      <td>190809</td>\n",
       "      <td>1908081630xfp</td>\n",
       "    </tr>\n",
       "    <tr>\n",
       "      <th>21</th>\n",
       "      <td>21</td>\n",
       "      <td>/Users/blandt/Desktop/PaperData/Imaging/PH run...</td>\n",
       "      <td>1565360309</td>\n",
       "      <td>od58</td>\n",
       "      <td>190809</td>\n",
       "      <td>1908081630xfp</td>\n",
       "    </tr>\n",
       "    <tr>\n",
       "      <th>22</th>\n",
       "      <td>22</td>\n",
       "      <td>/Users/blandt/Desktop/PaperData/Imaging/PH run...</td>\n",
       "      <td>1565360584</td>\n",
       "      <td>od58</td>\n",
       "      <td>190809</td>\n",
       "      <td>1908081630xfp</td>\n",
       "    </tr>\n",
       "    <tr>\n",
       "      <th>23</th>\n",
       "      <td>23</td>\n",
       "      <td>/Users/blandt/Desktop/PaperData/Imaging/PH run...</td>\n",
       "      <td>1565360705</td>\n",
       "      <td>od58</td>\n",
       "      <td>190809</td>\n",
       "      <td>1908081630xfp</td>\n",
       "    </tr>\n",
       "    <tr>\n",
       "      <th>24</th>\n",
       "      <td>24</td>\n",
       "      <td>/Users/blandt/Desktop/PaperData/Imaging/PH run...</td>\n",
       "      <td>1565360828</td>\n",
       "      <td>od58</td>\n",
       "      <td>190809</td>\n",
       "      <td>1908081630xfp</td>\n",
       "    </tr>\n",
       "    <tr>\n",
       "      <th>25</th>\n",
       "      <td>25</td>\n",
       "      <td>/Users/blandt/Desktop/PaperData/Imaging/PH run...</td>\n",
       "      <td>1565360954</td>\n",
       "      <td>od58</td>\n",
       "      <td>190809</td>\n",
       "      <td>1908081630xfp</td>\n",
       "    </tr>\n",
       "    <tr>\n",
       "      <th>26</th>\n",
       "      <td>26</td>\n",
       "      <td>/Users/blandt/Desktop/PaperData/Imaging/PH run...</td>\n",
       "      <td>1565366847</td>\n",
       "      <td>od58</td>\n",
       "      <td>190809</td>\n",
       "      <td>1908081030xfp</td>\n",
       "    </tr>\n",
       "    <tr>\n",
       "      <th>27</th>\n",
       "      <td>27</td>\n",
       "      <td>/Users/blandt/Desktop/PaperData/Imaging/PH run...</td>\n",
       "      <td>1565367023</td>\n",
       "      <td>od58</td>\n",
       "      <td>190809</td>\n",
       "      <td>1908081030xfp</td>\n",
       "    </tr>\n",
       "    <tr>\n",
       "      <th>28</th>\n",
       "      <td>28</td>\n",
       "      <td>/Users/blandt/Desktop/PaperData/Imaging/PH run...</td>\n",
       "      <td>1565367111</td>\n",
       "      <td>od58</td>\n",
       "      <td>190809</td>\n",
       "      <td>1908081030xfp</td>\n",
       "    </tr>\n",
       "    <tr>\n",
       "      <th>29</th>\n",
       "      <td>29</td>\n",
       "      <td>/Users/blandt/Desktop/PaperData/Imaging/PH run...</td>\n",
       "      <td>1565367278</td>\n",
       "      <td>od58</td>\n",
       "      <td>190809</td>\n",
       "      <td>1908081030xfp</td>\n",
       "    </tr>\n",
       "    <tr>\n",
       "      <th>30</th>\n",
       "      <td>30</td>\n",
       "      <td>/Users/blandt/Desktop/PaperData/Imaging/PH run...</td>\n",
       "      <td>1565367567</td>\n",
       "      <td>od58</td>\n",
       "      <td>190809</td>\n",
       "      <td>1908081030xfp</td>\n",
       "    </tr>\n",
       "    <tr>\n",
       "      <th>31</th>\n",
       "      <td>31</td>\n",
       "      <td>/Users/blandt/Desktop/PaperData/Imaging/PH run...</td>\n",
       "      <td>1565367659</td>\n",
       "      <td>od58</td>\n",
       "      <td>190809</td>\n",
       "      <td>1908081030xfp</td>\n",
       "    </tr>\n",
       "  </tbody>\n",
       "</table>\n",
       "</div>"
      ],
      "text/plain": [
       "    Unnamed: 0                                               Path    EmbryoID  \\\n",
       "0            0  /Users/blandt/Desktop/PaperData/Imaging/PH run...  1556901861   \n",
       "1            1  /Users/blandt/Desktop/PaperData/Imaging/PH run...  1556901937   \n",
       "2            2  /Users/blandt/Desktop/PaperData/Imaging/PH run...  1556902036   \n",
       "3            3  /Users/blandt/Desktop/PaperData/Imaging/PH run...  1556902453   \n",
       "4            4  /Users/blandt/Desktop/PaperData/Imaging/PH run...  1556902969   \n",
       "5            5  /Users/blandt/Desktop/PaperData/Imaging/PH run...  1559137737   \n",
       "6            6  /Users/blandt/Desktop/PaperData/Imaging/PH run...  1559137889   \n",
       "7            7  /Users/blandt/Desktop/PaperData/Imaging/PH run...  1565356359   \n",
       "8            8  /Users/blandt/Desktop/PaperData/Imaging/PH run...  1565356740   \n",
       "9            9  /Users/blandt/Desktop/PaperData/Imaging/PH run...  1565356899   \n",
       "10          10  /Users/blandt/Desktop/PaperData/Imaging/PH run...  1565356990   \n",
       "11          11  /Users/blandt/Desktop/PaperData/Imaging/PH run...  1565357105   \n",
       "12          12  /Users/blandt/Desktop/PaperData/Imaging/PH run...  1565357282   \n",
       "13          13  /Users/blandt/Desktop/PaperData/Imaging/PH run...  1565358564   \n",
       "14          14  /Users/blandt/Desktop/PaperData/Imaging/PH run...  1565358687   \n",
       "15          15  /Users/blandt/Desktop/PaperData/Imaging/PH run...  1565359132   \n",
       "16          16  /Users/blandt/Desktop/PaperData/Imaging/PH run...  1565359289   \n",
       "17          17  /Users/blandt/Desktop/PaperData/Imaging/PH run...  1565359415   \n",
       "18          18  /Users/blandt/Desktop/PaperData/Imaging/PH run...  1565359558   \n",
       "19          19  /Users/blandt/Desktop/PaperData/Imaging/PH run...  1565359689   \n",
       "20          20  /Users/blandt/Desktop/PaperData/Imaging/PH run...  1565360221   \n",
       "21          21  /Users/blandt/Desktop/PaperData/Imaging/PH run...  1565360309   \n",
       "22          22  /Users/blandt/Desktop/PaperData/Imaging/PH run...  1565360584   \n",
       "23          23  /Users/blandt/Desktop/PaperData/Imaging/PH run...  1565360705   \n",
       "24          24  /Users/blandt/Desktop/PaperData/Imaging/PH run...  1565360828   \n",
       "25          25  /Users/blandt/Desktop/PaperData/Imaging/PH run...  1565360954   \n",
       "26          26  /Users/blandt/Desktop/PaperData/Imaging/PH run...  1565366847   \n",
       "27          27  /Users/blandt/Desktop/PaperData/Imaging/PH run...  1565367023   \n",
       "28          28  /Users/blandt/Desktop/PaperData/Imaging/PH run...  1565367111   \n",
       "29          29  /Users/blandt/Desktop/PaperData/Imaging/PH run...  1565367278   \n",
       "30          30  /Users/blandt/Desktop/PaperData/Imaging/PH run...  1565367567   \n",
       "31          31  /Users/blandt/Desktop/PaperData/Imaging/PH run...  1565367659   \n",
       "\n",
       "    Line    Date           RNAi  \n",
       "0     n2  190503             wt  \n",
       "1     n2  190503             wt  \n",
       "2     n2  190503             wt  \n",
       "3     n2  190503             wt  \n",
       "4     n2  190503             wt  \n",
       "5     n2  190529             wt  \n",
       "6     n2  190529             wt  \n",
       "7   od58  190809  1908081630xfp  \n",
       "8   od58  190809  1908081630xfp  \n",
       "9   od58  190809  1908081630xfp  \n",
       "10  od58  190809  1908081630xfp  \n",
       "11  od58  190809  1908081630xfp  \n",
       "12  od58  190809  1908081630xfp  \n",
       "13  od58  190809  1908081030xfp  \n",
       "14  od58  190809  1908081030xfp  \n",
       "15  od58  190809  1908081030xfp  \n",
       "16  od58  190809  1908081030xfp  \n",
       "17  od58  190809  1908081030xfp  \n",
       "18  od58  190809  1908081030xfp  \n",
       "19  od58  190809  1908081030xfp  \n",
       "20  od58  190809  1908081630xfp  \n",
       "21  od58  190809  1908081630xfp  \n",
       "22  od58  190809  1908081630xfp  \n",
       "23  od58  190809  1908081630xfp  \n",
       "24  od58  190809  1908081630xfp  \n",
       "25  od58  190809  1908081630xfp  \n",
       "26  od58  190809  1908081030xfp  \n",
       "27  od58  190809  1908081030xfp  \n",
       "28  od58  190809  1908081030xfp  \n",
       "29  od58  190809  1908081030xfp  \n",
       "30  od58  190809  1908081030xfp  \n",
       "31  od58  190809  1908081030xfp  "
      ]
     },
     "execution_count": 3,
     "metadata": {},
     "output_type": "execute_result"
    }
   ],
   "source": [
    "# Import embryos dataframe\n",
    "df = pd.read_csv('../../data/ph_embryos.csv')\n",
    "df"
   ]
  },
  {
   "cell_type": "markdown",
   "metadata": {},
   "source": [
    "### Quantify"
   ]
  },
  {
   "cell_type": "code",
   "execution_count": 4,
   "metadata": {
    "execution": {
     "iopub.execute_input": "2023-07-25T16:13:51.887507Z",
     "iopub.status.busy": "2023-07-25T16:13:51.887224Z",
     "iopub.status.idle": "2023-07-25T16:14:10.217969Z",
     "shell.execute_reply": "2023-07-25T16:14:10.217187Z"
    },
    "scrolled": false
   },
   "outputs": [
    {
     "name": "stderr",
     "output_type": "stream",
     "text": [
      "\r\n",
      "  0%|                                                                                                                                       | 0/600 [00:00<?, ?it/s]"
     ]
    },
    {
     "name": "stderr",
     "output_type": "stream",
     "text": [
      "\r\n",
      "  0%|▏                                                                                                                              | 1/600 [00:00<06:15,  1.60it/s]"
     ]
    },
    {
     "name": "stderr",
     "output_type": "stream",
     "text": [
      "\r\n",
      "  2%|█▉                                                                                                                             | 9/600 [00:00<00:37, 15.95it/s]"
     ]
    },
    {
     "name": "stderr",
     "output_type": "stream",
     "text": [
      "\r\n",
      "  3%|███▎                                                                                                                          | 16/600 [00:00<00:21, 26.76it/s]"
     ]
    },
    {
     "name": "stderr",
     "output_type": "stream",
     "text": [
      "\r\n",
      "  4%|█████                                                                                                                         | 24/600 [00:00<00:15, 37.96it/s]"
     ]
    },
    {
     "name": "stderr",
     "output_type": "stream",
     "text": [
      "\r\n",
      "  6%|██████▉                                                                                                                       | 33/600 [00:01<00:11, 49.83it/s]"
     ]
    },
    {
     "name": "stderr",
     "output_type": "stream",
     "text": [
      "\r\n",
      "  7%|████████▌                                                                                                                     | 41/600 [00:01<00:09, 56.20it/s]"
     ]
    },
    {
     "name": "stderr",
     "output_type": "stream",
     "text": [
      "\r\n",
      "  8%|██████████▎                                                                                                                   | 49/600 [00:01<00:09, 58.17it/s]"
     ]
    },
    {
     "name": "stderr",
     "output_type": "stream",
     "text": [
      "\r\n",
      "  9%|███████████▊                                                                                                                  | 56/600 [00:01<00:09, 59.34it/s]"
     ]
    },
    {
     "name": "stderr",
     "output_type": "stream",
     "text": [
      "\r\n",
      " 10%|█████████████▏                                                                                                                | 63/600 [00:01<00:09, 59.35it/s]"
     ]
    },
    {
     "name": "stderr",
     "output_type": "stream",
     "text": [
      "\r\n",
      " 12%|██████████████▋                                                                                                               | 70/600 [00:01<00:08, 62.11it/s]"
     ]
    },
    {
     "name": "stderr",
     "output_type": "stream",
     "text": [
      "\r\n",
      " 13%|████████████████▏                                                                                                             | 77/600 [00:01<00:08, 62.20it/s]"
     ]
    },
    {
     "name": "stderr",
     "output_type": "stream",
     "text": [
      "\r\n",
      " 14%|█████████████████▋                                                                                                            | 84/600 [00:01<00:08, 63.60it/s]"
     ]
    },
    {
     "name": "stderr",
     "output_type": "stream",
     "text": [
      "\r\n",
      " 16%|███████████████████▌                                                                                                          | 93/600 [00:01<00:07, 68.58it/s]"
     ]
    },
    {
     "name": "stderr",
     "output_type": "stream",
     "text": [
      "\r\n",
      " 17%|████████████████████▊                                                                                                        | 100/600 [00:02<00:07, 66.70it/s]"
     ]
    },
    {
     "name": "stderr",
     "output_type": "stream",
     "text": [
      "\r\n",
      " 18%|██████████████████████▌                                                                                                      | 108/600 [00:02<00:07, 69.03it/s]"
     ]
    },
    {
     "name": "stderr",
     "output_type": "stream",
     "text": [
      "\r\n",
      " 20%|████████████████████████▍                                                                                                    | 117/600 [00:02<00:06, 72.78it/s]"
     ]
    },
    {
     "name": "stderr",
     "output_type": "stream",
     "text": [
      "\r\n",
      " 21%|██████████████████████████                                                                                                   | 125/600 [00:02<00:06, 74.58it/s]"
     ]
    },
    {
     "name": "stderr",
     "output_type": "stream",
     "text": [
      "\r\n",
      " 22%|███████████████████████████▋                                                                                                 | 133/600 [00:02<00:06, 75.34it/s]"
     ]
    },
    {
     "name": "stderr",
     "output_type": "stream",
     "text": [
      "\r\n",
      " 24%|█████████████████████████████▍                                                                                               | 141/600 [00:02<00:06, 76.28it/s]"
     ]
    },
    {
     "name": "stderr",
     "output_type": "stream",
     "text": [
      "\r\n",
      " 25%|███████████████████████████████                                                                                              | 149/600 [00:02<00:05, 76.87it/s]"
     ]
    },
    {
     "name": "stderr",
     "output_type": "stream",
     "text": [
      "\r\n",
      " 26%|████████████████████████████████▋                                                                                            | 157/600 [00:02<00:05, 74.19it/s]"
     ]
    },
    {
     "name": "stderr",
     "output_type": "stream",
     "text": [
      "\r\n",
      " 28%|██████████████████████████████████▍                                                                                          | 165/600 [00:02<00:06, 69.05it/s]"
     ]
    },
    {
     "name": "stderr",
     "output_type": "stream",
     "text": [
      "\r\n",
      " 29%|████████████████████████████████████                                                                                         | 173/600 [00:03<00:06, 67.00it/s]"
     ]
    },
    {
     "name": "stderr",
     "output_type": "stream",
     "text": [
      "\r\n",
      " 30%|█████████████████████████████████████▌                                                                                       | 180/600 [00:03<00:06, 65.55it/s]"
     ]
    },
    {
     "name": "stderr",
     "output_type": "stream",
     "text": [
      "\r\n",
      " 31%|██████████████████████████████████████▉                                                                                      | 187/600 [00:03<00:06, 65.05it/s]"
     ]
    },
    {
     "name": "stderr",
     "output_type": "stream",
     "text": [
      "\r\n",
      " 32%|████████████████████████████████████████▍                                                                                    | 194/600 [00:03<00:06, 65.64it/s]"
     ]
    },
    {
     "name": "stderr",
     "output_type": "stream",
     "text": [
      "\r\n",
      " 34%|█████████████████████████████████████████▉                                                                                   | 201/600 [00:03<00:06, 64.93it/s]"
     ]
    },
    {
     "name": "stderr",
     "output_type": "stream",
     "text": [
      "\r\n",
      " 35%|███████████████████████████████████████████▌                                                                                 | 209/600 [00:03<00:05, 67.40it/s]"
     ]
    },
    {
     "name": "stderr",
     "output_type": "stream",
     "text": [
      "\r\n",
      " 36%|█████████████████████████████████████████████▏                                                                               | 217/600 [00:03<00:05, 70.80it/s]"
     ]
    },
    {
     "name": "stderr",
     "output_type": "stream",
     "text": [
      "\r\n",
      " 38%|██████████████████████████████████████████████▉                                                                              | 225/600 [00:03<00:05, 72.72it/s]"
     ]
    },
    {
     "name": "stderr",
     "output_type": "stream",
     "text": [
      "\r\n",
      " 39%|████████████████████████████████████████████████▌                                                                            | 233/600 [00:03<00:04, 73.96it/s]"
     ]
    },
    {
     "name": "stderr",
     "output_type": "stream",
     "text": [
      "\r\n",
      " 40%|██████████████████████████████████████████████████▏                                                                          | 241/600 [00:04<00:04, 72.12it/s]"
     ]
    },
    {
     "name": "stderr",
     "output_type": "stream",
     "text": [
      "\r\n",
      " 42%|███████████████████████████████████████████████████▉                                                                         | 249/600 [00:04<00:04, 72.61it/s]"
     ]
    },
    {
     "name": "stderr",
     "output_type": "stream",
     "text": [
      "\r\n",
      " 43%|█████████████████████████████████████████████████████▉                                                                       | 259/600 [00:04<00:04, 77.81it/s]"
     ]
    },
    {
     "name": "stderr",
     "output_type": "stream",
     "text": [
      "\r\n",
      " 44%|███████████████████████████████████████████████████████▋                                                                     | 267/600 [00:04<00:04, 76.11it/s]"
     ]
    },
    {
     "name": "stderr",
     "output_type": "stream",
     "text": [
      "\r\n",
      " 46%|█████████████████████████████████████████████████████████▎                                                                   | 275/600 [00:04<00:04, 72.75it/s]"
     ]
    },
    {
     "name": "stderr",
     "output_type": "stream",
     "text": [
      "\r\n",
      " 47%|██████████████████████████████████████████████████████████▉                                                                  | 283/600 [00:04<00:04, 69.44it/s]"
     ]
    },
    {
     "name": "stderr",
     "output_type": "stream",
     "text": [
      "\r\n",
      " 48%|████████████████████████████████████████████████████████████▍                                                                | 290/600 [00:04<00:04, 67.64it/s]"
     ]
    },
    {
     "name": "stderr",
     "output_type": "stream",
     "text": [
      "\r\n",
      " 50%|█████████████████████████████████████████████████████████████▉                                                               | 297/600 [00:04<00:04, 66.62it/s]"
     ]
    },
    {
     "name": "stderr",
     "output_type": "stream",
     "text": [
      "\r\n",
      " 51%|███████████████████████████████████████████████████████████████▌                                                             | 305/600 [00:04<00:04, 68.06it/s]"
     ]
    },
    {
     "name": "stderr",
     "output_type": "stream",
     "text": [
      "\r\n",
      " 52%|█████████████████████████████████████████████████████████████████                                                            | 312/600 [00:05<00:04, 67.71it/s]"
     ]
    },
    {
     "name": "stderr",
     "output_type": "stream",
     "text": [
      "\r\n",
      " 53%|██████████████████████████████████████████████████████████████████▋                                                          | 320/600 [00:05<00:04, 68.58it/s]"
     ]
    },
    {
     "name": "stderr",
     "output_type": "stream",
     "text": [
      "\r\n",
      " 55%|████████████████████████████████████████████████████████████████████▎                                                        | 328/600 [00:05<00:03, 68.00it/s]"
     ]
    },
    {
     "name": "stderr",
     "output_type": "stream",
     "text": [
      "\r\n",
      " 56%|██████████████████████████████████████████████████████████████████████                                                       | 336/600 [00:05<00:03, 69.77it/s]"
     ]
    },
    {
     "name": "stderr",
     "output_type": "stream",
     "text": [
      "\r\n",
      " 57%|███████████████████████████████████████████████████████████████████████▋                                                     | 344/600 [00:05<00:03, 71.55it/s]"
     ]
    },
    {
     "name": "stderr",
     "output_type": "stream",
     "text": [
      "\r\n",
      " 59%|█████████████████████████████████████████████████████████████████████████▎                                                   | 352/600 [00:05<00:03, 73.07it/s]"
     ]
    },
    {
     "name": "stderr",
     "output_type": "stream",
     "text": [
      "\r\n",
      " 60%|███████████████████████████████████████████████████████████████████████████                                                  | 360/600 [00:05<00:03, 74.75it/s]"
     ]
    },
    {
     "name": "stderr",
     "output_type": "stream",
     "text": [
      "\r\n",
      " 61%|████████████████████████████████████████████████████████████████████████████▋                                                | 368/600 [00:05<00:03, 68.69it/s]"
     ]
    },
    {
     "name": "stderr",
     "output_type": "stream",
     "text": [
      "\r\n",
      " 62%|██████████████████████████████████████████████████████████████████████████████▏                                              | 375/600 [00:06<00:04, 56.03it/s]"
     ]
    },
    {
     "name": "stderr",
     "output_type": "stream",
     "text": [
      "\r\n",
      " 64%|███████████████████████████████████████████████████████████████████████████████▌                                             | 382/600 [00:06<00:03, 55.04it/s]"
     ]
    },
    {
     "name": "stderr",
     "output_type": "stream",
     "text": [
      "\r\n",
      " 65%|█████████████████████████████████████████████████████████████████████████████████▎                                           | 390/600 [00:06<00:03, 60.11it/s]"
     ]
    },
    {
     "name": "stderr",
     "output_type": "stream",
     "text": [
      "\r\n",
      " 66%|██████████████████████████████████████████████████████████████████████████████████▋                                          | 397/600 [00:06<00:03, 55.95it/s]"
     ]
    },
    {
     "name": "stderr",
     "output_type": "stream",
     "text": [
      "\r\n",
      " 67%|████████████████████████████████████████████████████████████████████████████████████▏                                        | 404/600 [00:06<00:03, 57.44it/s]"
     ]
    },
    {
     "name": "stderr",
     "output_type": "stream",
     "text": [
      "\r\n",
      " 68%|█████████████████████████████████████████████████████████████████████████████████████▍                                       | 410/600 [00:06<00:03, 48.48it/s]"
     ]
    },
    {
     "name": "stderr",
     "output_type": "stream",
     "text": [
      "\r\n",
      " 69%|██████████████████████████████████████████████████████████████████████████████████████▋                                      | 416/600 [00:06<00:03, 46.76it/s]"
     ]
    },
    {
     "name": "stderr",
     "output_type": "stream",
     "text": [
      "\r\n",
      " 70%|███████████████████████████████████████████████████████████████████████████████████████▉                                     | 422/600 [00:06<00:03, 48.93it/s]"
     ]
    },
    {
     "name": "stderr",
     "output_type": "stream",
     "text": [
      "\r\n",
      " 71%|█████████████████████████████████████████████████████████████████████████████████████████▏                                   | 428/600 [00:07<00:03, 50.04it/s]"
     ]
    },
    {
     "name": "stderr",
     "output_type": "stream",
     "text": [
      "\r\n",
      " 72%|██████████████████████████████████████████████████████████████████████████████████████████▍                                  | 434/600 [00:07<00:03, 51.41it/s]"
     ]
    },
    {
     "name": "stderr",
     "output_type": "stream",
     "text": [
      "\r\n",
      " 74%|███████████████████████████████████████████████████████████████████████████████████████████▉                                 | 441/600 [00:07<00:02, 54.59it/s]"
     ]
    },
    {
     "name": "stderr",
     "output_type": "stream",
     "text": [
      "\r\n",
      " 74%|█████████████████████████████████████████████████████████████████████████████████████████████▏                               | 447/600 [00:07<00:02, 51.06it/s]"
     ]
    },
    {
     "name": "stderr",
     "output_type": "stream",
     "text": [
      "\r\n",
      " 76%|██████████████████████████████████████████████████████████████████████████████████████████████▍                              | 453/600 [00:07<00:02, 53.12it/s]"
     ]
    },
    {
     "name": "stderr",
     "output_type": "stream",
     "text": [
      "\r\n",
      " 76%|███████████████████████████████████████████████████████████████████████████████████████████████▋                             | 459/600 [00:07<00:03, 44.90it/s]"
     ]
    },
    {
     "name": "stderr",
     "output_type": "stream",
     "text": [
      "\r\n",
      " 77%|████████████████████████████████████████████████████████████████████████████████████████████████▋                            | 464/600 [00:07<00:03, 44.30it/s]"
     ]
    },
    {
     "name": "stderr",
     "output_type": "stream",
     "text": [
      "\r\n",
      " 78%|██████████████████████████████████████████████████████████████████████████████████████████████████▏                          | 471/600 [00:07<00:02, 49.77it/s]"
     ]
    },
    {
     "name": "stderr",
     "output_type": "stream",
     "text": [
      "\r\n",
      " 80%|███████████████████████████████████████████████████████████████████████████████████████████████████▊                         | 479/600 [00:08<00:02, 55.53it/s]"
     ]
    },
    {
     "name": "stderr",
     "output_type": "stream",
     "text": [
      "\r\n",
      " 81%|█████████████████████████████████████████████████████████████████████████████████████████████████████▍                       | 487/600 [00:08<00:01, 60.97it/s]"
     ]
    },
    {
     "name": "stderr",
     "output_type": "stream",
     "text": [
      "\r\n",
      " 82%|███████████████████████████████████████████████████████████████████████████████████████████████████████▏                     | 495/600 [00:08<00:01, 65.80it/s]"
     ]
    },
    {
     "name": "stderr",
     "output_type": "stream",
     "text": [
      "\r\n",
      " 84%|████████████████████████████████████████████████████████████████████████████████████████████████████████▌                    | 502/600 [00:08<00:01, 64.13it/s]"
     ]
    },
    {
     "name": "stderr",
     "output_type": "stream",
     "text": [
      "\r\n",
      " 85%|██████████████████████████████████████████████████████████████████████████████████████████████████████████                   | 509/600 [00:08<00:01, 64.58it/s]"
     ]
    },
    {
     "name": "stderr",
     "output_type": "stream",
     "text": [
      "\r\n",
      " 86%|███████████████████████████████████████████████████████████████████████████████████████████████████████████▋                 | 517/600 [00:08<00:01, 66.11it/s]"
     ]
    },
    {
     "name": "stderr",
     "output_type": "stream",
     "text": [
      "\r\n",
      " 87%|█████████████████████████████████████████████████████████████████████████████████████████████████████████████▏               | 524/600 [00:08<00:01, 61.58it/s]"
     ]
    },
    {
     "name": "stderr",
     "output_type": "stream",
     "text": [
      "\r\n",
      " 88%|██████████████████████████████████████████████████████████████████████████████████████████████████████████████▋              | 531/600 [00:08<00:01, 62.14it/s]"
     ]
    },
    {
     "name": "stderr",
     "output_type": "stream",
     "text": [
      "\r\n",
      " 90%|████████████████████████████████████████████████████████████████████████████████████████████████████████████████             | 538/600 [00:08<00:00, 62.86it/s]"
     ]
    },
    {
     "name": "stderr",
     "output_type": "stream",
     "text": [
      "\r\n",
      " 91%|█████████████████████████████████████████████████████████████████████████████████████████████████████████████████▊           | 546/600 [00:09<00:00, 66.63it/s]"
     ]
    },
    {
     "name": "stderr",
     "output_type": "stream",
     "text": [
      "\r\n",
      " 92%|███████████████████████████████████████████████████████████████████████████████████████████████████████████████████▍         | 554/600 [00:09<00:00, 69.77it/s]"
     ]
    },
    {
     "name": "stderr",
     "output_type": "stream",
     "text": [
      "\r\n",
      " 94%|█████████████████████████████████████████████████████████████████████████████████████████████████████████████████████        | 562/600 [00:09<00:00, 60.99it/s]"
     ]
    },
    {
     "name": "stderr",
     "output_type": "stream",
     "text": [
      "\r\n",
      " 95%|██████████████████████████████████████████████████████████████████████████████████████████████████████████████████████▊      | 570/600 [00:09<00:00, 64.62it/s]"
     ]
    },
    {
     "name": "stderr",
     "output_type": "stream",
     "text": [
      "\r\n",
      " 96%|████████████████████████████████████████████████████████████████████████████████████████████████████████████████████████▋    | 579/600 [00:09<00:00, 69.08it/s]"
     ]
    },
    {
     "name": "stderr",
     "output_type": "stream",
     "text": [
      "\r\n",
      " 98%|██████████████████████████████████████████████████████████████████████████████████████████████████████████████████████████▎  | 587/600 [00:09<00:00, 70.15it/s]"
     ]
    },
    {
     "name": "stderr",
     "output_type": "stream",
     "text": [
      "\r\n",
      " 99%|███████████████████████████████████████████████████████████████████████████████████████████████████████████████████████████▉ | 595/600 [00:09<00:00, 70.35it/s]"
     ]
    },
    {
     "name": "stderr",
     "output_type": "stream",
     "text": [
      "\r\n",
      "100%|█████████████████████████████████████████████████████████████████████████████████████████████████████████████████████████████| 600/600 [00:09<00:00, 60.98it/s]"
     ]
    },
    {
     "name": "stderr",
     "output_type": "stream",
     "text": [
      "\n"
     ]
    },
    {
     "data": {
      "application/vnd.jupyter.widget-view+json": {
       "model_id": "ce0104422eaf44c8a1dbd31367f9ce22",
       "version_major": 2,
       "version_minor": 0
      },
      "image/png": "[encoded data removed]",
      "text/html": [
       "\n",
       "            <div style=\"display: inline-block;\">\n",
       "                <div class=\"jupyter-widgets widget-label\" style=\"text-align: center;\">\n",
       "                    Figure\n",
       "                </div>\n",
       "                <img src='data:image/png;base64,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' width=640.0/>\n",
       "            </div>\n",
       "        "
      ],
      "text/plain": [
       "Canvas(toolbar=Toolbar(toolitems=[('Home', 'Reset original view', 'home', 'home'), ('Back', 'Back to previous …"
      ]
     },
     "metadata": {},
     "output_type": "display_data"
    }
   ],
   "source": [
    "# Import data\n",
    "paths = df.Path.to_list()\n",
    "imgs = [load_image(p + '/af_corrected.tif') for p in paths]\n",
    "rois = [np.loadtxt(p + '/ROI_fit.txt') for p in paths]\n",
    "\n",
    "# Run quantification\n",
    "iq = ImageQuant2(img=imgs, roi=rois, cytbg=cytbg, membg=membg)\n",
    "iq.quantify()\n",
    "\n",
    "# Plot loss curve\n",
    "iq.plot_losses(log=True)\n",
    "\n",
    "# Save results\n",
    "res = iq.compile_res(ids=df['EmbryoID'].to_list())\n",
    "res['Membrane signal'] *= calibration_factor\n",
    "res.to_csv('../../data/ph_quantification.csv')"
   ]
  },
  {
   "cell_type": "code",
   "execution_count": null,
   "metadata": {},
   "outputs": [],
   "source": []
  }
 ],
 "metadata": {
  "kernelspec": {
   "display_name": "Python 3",
   "language": "python",
   "name": "python3"
  },
  "language_info": {
   "codemirror_mode": {
    "name": "ipython",
    "version": 3
   },
   "file_extension": ".py",
   "mimetype": "text/x-python",
   "name": "python",
   "nbconvert_exporter": "python",
   "pygments_lexer": "ipython3",
   "version": "3.7.12"
  },
  "widgets": {
   "application/vnd.jupyter.widget-state+json": {
    "state": {
     "1238fd8d2b214b98b5aa9920a7e52e7c": {
      "model_module": "jupyter-matplotlib",
      "model_module_version": "^0.11",
      "model_name": "ToolbarModel",
      "state": {
       "_current_action": "",
       "_dom_classes": [],
       "_model_module": "jupyter-matplotlib",
       "_model_module_version": "^0.11",
       "_model_name": "ToolbarModel",
       "_view_count": null,
       "_view_module": "jupyter-matplotlib",
       "_view_module_version": "^0.11",
       "_view_name": "ToolbarView",
       "button_style": "",
       "collapsed": true,
       "layout": "IPY_MODEL_c7e3f25dc31d4cff9e707b605d9729c3",
       "orientation": "vertical",
       "tabbable": null,
       "toolitems": [
        [
         "Home",
         "Reset original view",
         "home",
         "home"
        ],
        [
         "Back",
         "Back to previous view",
         "arrow-left",
         "back"
        ],
        [
         "Forward",
         "Forward to next view",
         "arrow-right",
         "forward"
        ],
        [
         "Pan",
         "Left button pans, Right button zooms\nx/y fixes axis, CTRL fixes aspect",
         "arrows",
         "pan"
        ],
        [
         "Zoom",
         "Zoom to rectangle\nx/y fixes axis",
         "square-o",
         "zoom"
        ],
        [
         "Download",
         "Download plot",
         "floppy-o",
         "save_figure"
        ]
       ],
       "tooltip": null
      }
     },
     "137cf55ee4cc4c958ec77f49105c6038": {
      "model_module": "jupyter-matplotlib",
      "model_module_version": "^0.11",
      "model_name": "ToolbarModel",
      "state": {
       "_current_action": "",
       "_dom_classes": [],
       "_model_module": "jupyter-matplotlib",
       "_model_module_version": "^0.11",
       "_model_name": "ToolbarModel",
       "_view_count": null,
       "_view_module": "jupyter-matplotlib",
       "_view_module_version": "^0.11",
       "_view_name": "ToolbarView",
       "button_style": "",
       "collapsed": true,
       "layout": "IPY_MODEL_abf5e7ff4dec4d78be866e128dc6ddcc",
       "orientation": "vertical",
       "tabbable": null,
       "toolitems": [
        [
         "Home",
         "Reset original view",
         "home",
         "home"
        ],
        [
         "Back",
         "Back to previous view",
         "arrow-left",
         "back"
        ],
        [
         "Forward",
         "Forward to next view",
         "arrow-right",
         "forward"
        ],
        [
         "Pan",
         "Left button pans, Right button zooms\nx/y fixes axis, CTRL fixes aspect",
         "arrows",
         "pan"
        ],
        [
         "Zoom",
         "Zoom to rectangle\nx/y fixes axis",
         "square-o",
         "zoom"
        ],
        [
         "Download",
         "Download plot",
         "floppy-o",
         "save_figure"
        ]
       ],
       "tooltip": null
      }
     },
     "abf5e7ff4dec4d78be866e128dc6ddcc": {
      "model_module": "@jupyter-widgets/base",
      "model_module_version": "2.0.0",
      "model_name": "LayoutModel",
      "state": {
       "_model_module": "@jupyter-widgets/base",
       "_model_module_version": "2.0.0",
       "_model_name": "LayoutModel",
       "_view_count": null,
       "_view_module": "@jupyter-widgets/base",
       "_view_module_version": "2.0.0",
       "_view_name": "LayoutView",
       "align_content": null,
       "align_items": null,
       "align_self": null,
       "border_bottom": null,
       "border_left": null,
       "border_right": null,
       "border_top": null,
       "bottom": null,
       "display": null,
       "flex": null,
       "flex_flow": null,
       "grid_area": null,
       "grid_auto_columns": null,
       "grid_auto_flow": null,
       "grid_auto_rows": null,
       "grid_column": null,
       "grid_gap": null,
       "grid_row": null,
       "grid_template_areas": null,
       "grid_template_columns": null,
       "grid_template_rows": null,
       "height": null,
       "justify_content": null,
       "justify_items": null,
       "left": null,
       "margin": null,
       "max_height": null,
       "max_width": null,
       "min_height": null,
       "min_width": null,
       "object_fit": null,
       "object_position": null,
       "order": null,
       "overflow": null,
       "padding": null,
       "right": null,
       "top": null,
       "visibility": null,
       "width": null
      }
     },
     "bb2a9cea828d46c0b6e434b4126afd51": {
      "model_module": "@jupyter-widgets/base",
      "model_module_version": "2.0.0",
      "model_name": "LayoutModel",
      "state": {
       "_model_module": "@jupyter-widgets/base",
       "_model_module_version": "2.0.0",
       "_model_name": "LayoutModel",
       "_view_count": null,
       "_view_module": "@jupyter-widgets/base",
       "_view_module_version": "2.0.0",
       "_view_name": "LayoutView",
       "align_content": null,
       "align_items": null,
       "align_self": null,
       "border_bottom": null,
       "border_left": null,
       "border_right": null,
       "border_top": null,
       "bottom": null,
       "display": null,
       "flex": null,
       "flex_flow": null,
       "grid_area": null,
       "grid_auto_columns": null,
       "grid_auto_flow": null,
       "grid_auto_rows": null,
       "grid_column": null,
       "grid_gap": null,
       "grid_row": null,
       "grid_template_areas": null,
       "grid_template_columns": null,
       "grid_template_rows": null,
       "height": null,
       "justify_content": null,
       "justify_items": null,
       "left": null,
       "margin": null,
       "max_height": null,
       "max_width": null,
       "min_height": null,
       "min_width": null,
       "object_fit": null,
       "object_position": null,
       "order": null,
       "overflow": null,
       "padding": null,
       "right": null,
       "top": null,
       "visibility": null,
       "width": null
      }
     },
     "c7e3f25dc31d4cff9e707b605d9729c3": {
      "model_module": "@jupyter-widgets/base",
      "model_module_version": "2.0.0",
      "model_name": "LayoutModel",
      "state": {
       "_model_module": "@jupyter-widgets/base",
       "_model_module_version": "2.0.0",
       "_model_name": "LayoutModel",
       "_view_count": null,
       "_view_module": "@jupyter-widgets/base",
       "_view_module_version": "2.0.0",
       "_view_name": "LayoutView",
       "align_content": null,
       "align_items": null,
       "align_self": null,
       "border_bottom": null,
       "border_left": null,
       "border_right": null,
       "border_top": null,
       "bottom": null,
       "display": null,
       "flex": null,
       "flex_flow": null,
       "grid_area": null,
       "grid_auto_columns": null,
       "grid_auto_flow": null,
       "grid_auto_rows": null,
       "grid_column": null,
       "grid_gap": null,
       "grid_row": null,
       "grid_template_areas": null,
       "grid_template_columns": null,
       "grid_template_rows": null,
       "height": null,
       "justify_content": null,
       "justify_items": null,
       "left": null,
       "margin": null,
       "max_height": null,
       "max_width": null,
       "min_height": null,
       "min_width": null,
       "object_fit": null,
       "object_position": null,
       "order": null,
       "overflow": null,
       "padding": null,
       "right": null,
       "top": null,
       "visibility": null,
       "width": null
      }
     },
     "ce0104422eaf44c8a1dbd31367f9ce22": {
      "model_module": "jupyter-matplotlib",
      "model_module_version": "^0.11",
      "model_name": "MPLCanvasModel",
      "state": {
       "_cursor": "pointer",
       "_data_url": "data:image/png;base64,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",
       "_dom_classes": [],
       "_figure_label": "Figure",
       "_image_mode": "full",
       "_message": "",
       "_model_module": "jupyter-matplotlib",
       "_model_module_version": "^0.11",
       "_model_name": "MPLCanvasModel",
       "_rubberband_height": 0,
       "_rubberband_width": 0,
       "_rubberband_x": 0,
       "_rubberband_y": 0,
       "_size": [
        640,
        480
       ],
       "_view_count": null,
       "_view_module": "jupyter-matplotlib",
       "_view_module_version": "^0.11",
       "_view_name": "MPLCanvasView",
       "capture_scroll": false,
       "footer_visible": true,
       "header_visible": true,
       "layout": "IPY_MODEL_bb2a9cea828d46c0b6e434b4126afd51",
       "pan_zoom_throttle": 33,
       "resizable": true,
       "tabbable": null,
       "toolbar": "IPY_MODEL_1238fd8d2b214b98b5aa9920a7e52e7c",
       "toolbar_position": "left",
       "toolbar_visible": "fade-in-fade-out",
       "tooltip": null
      }
     }
    },
    "version_major": 2,
    "version_minor": 0
   }
  }
 },
 "nbformat": 4,
 "nbformat_minor": 4
}
