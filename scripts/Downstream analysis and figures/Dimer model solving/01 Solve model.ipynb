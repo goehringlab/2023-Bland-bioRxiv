{
 "cells": [
  {
   "cell_type": "code",
   "execution_count": 2,
   "metadata": {},
   "outputs": [],
   "source": [
    "import sympy as sp"
   ]
  },
  {
   "cell_type": "markdown",
   "metadata": {},
   "source": [
    "### Dimerisation only (monomer conc as function of total)"
   ]
  },
  {
   "cell_type": "code",
   "execution_count": 4,
   "metadata": {},
   "outputs": [
    {
     "data": {
      "text/plain": [
       "[(sqrt(4*ka*t + 1) - 1)/(2*ka), -(sqrt(4*ka*t + 1) + 1)/(2*ka)]"
      ]
     },
     "execution_count": 4,
     "metadata": {},
     "output_type": "execute_result"
    }
   ],
   "source": [
    "# Symbols:\n",
    "# ka = dimer association constant\n",
    "# t = total concentration\n",
    "# m = monomer concentration\n",
    "# d = dimer concentration\n",
    "\n",
    "ka, t, m = sp.symbols('ka t m')\n",
    "\n",
    "# Conservation of mass\n",
    "d = t - m \n",
    "\n",
    "# Chemical potentials\n",
    "func = ka -  d / (m ** 2)\n",
    "\n",
    "# Solve (monomer conc as function of total conc)\n",
    "sp.solve(func, m)\n",
    "\n",
    "# Two solutions (-> solution 1 is the applicable one)"
   ]
  },
  {
   "cell_type": "markdown",
   "metadata": {},
   "source": [
    "### Full model : cytoplasmic conc as function of total"
   ]
  },
  {
   "cell_type": "code",
   "execution_count": 5,
   "metadata": {},
   "outputs": [
    {
     "data": {
      "text/plain": [
       "[0.5*(-alpha**2*km**3 + alpha**2*km**2 + 2.0*alpha*d*ka*km**2 - 2.0*alpha*km**2*sqrt(0.25*alpha**2*km**2 + alpha*d*ka*km**2 + 0.5*alpha*km + d*ka + 0.25) - alpha*km**2 + 2.0*alpha*km*sqrt(0.25*alpha**2*km**2 + alpha*d*ka*km**2 + 0.5*alpha*km + d*ka + 0.25) + alpha*km + 2.0*d*ka)/(ka*(alpha**2*km**4 + 2.0*alpha*km**2 + 1.0)),\n",
       " 0.5*(-alpha**2*km**3 + alpha**2*km**2 + 2.0*alpha*d*ka*km**2 + 2.0*alpha*km**2*sqrt(0.25*alpha**2*km**2 + alpha*d*ka*km**2 + 0.5*alpha*km + d*ka + 0.25) - alpha*km**2 - 2.0*alpha*km*sqrt(0.25*alpha**2*km**2 + alpha*d*ka*km**2 + 0.5*alpha*km + d*ka + 0.25) + alpha*km + 2.0*d*ka)/(ka*(alpha**2*km**4 + 2.0*alpha*km**2 + 1.0)),\n",
       " 0.5*(alpha**2*km**3 + alpha**2*km**2 + 2.0*alpha*d*ka*km**2 - 2.0*alpha*km**2*sqrt(0.25*alpha**2*km**2 + alpha*d*ka*km**2 - 0.5*alpha*km + d*ka + 0.25) - alpha*km**2 - 2.0*alpha*km*sqrt(0.25*alpha**2*km**2 + alpha*d*ka*km**2 - 0.5*alpha*km + d*ka + 0.25) - alpha*km + 2.0*d*ka)/(ka*(alpha**2*km**4 + 2.0*alpha*km**2 + 1.0)),\n",
       " 0.5*(alpha**2*km**3 + alpha**2*km**2 + 2.0*alpha*d*ka*km**2 + 2.0*alpha*km**2*sqrt(0.25*alpha**2*km**2 + alpha*d*ka*km**2 - 0.5*alpha*km + d*ka + 0.25) - alpha*km**2 + 2.0*alpha*km*sqrt(0.25*alpha**2*km**2 + alpha*d*ka*km**2 - 0.5*alpha*km + d*ka + 0.25) - alpha*km + 2.0*d*ka)/(ka*(alpha**2*km**4 + 2.0*alpha*km**2 + 1.0))]"
      ]
     },
     "execution_count": 5,
     "metadata": {},
     "output_type": "execute_result"
    }
   ],
   "source": [
    "# Symbols:\n",
    "# km = membrane association constant\n",
    "# ka = dimer association constant\n",
    "# alpha = membrane to cytoplasm volume ratio\n",
    "# d = dosage\n",
    "# c = cytoplasmic concentration\n",
    "# m = membrane concentration\n",
    "\n",
    "ka, km, alpha, d, c = sp.symbols('ka km alpha d c')\n",
    "\n",
    "# Conservation of mass\n",
    "m = (d - c) / alpha\n",
    "\n",
    "# Chemical potential\n",
    "func = (sp.ln(c) - 0.5 * sp.ln(1 + 2 * ka * c + sp.sqrt(1 + 4 * ka * c))) - (sp.ln(m) - sp.log(km) - 0.5 * sp.ln(1 + 2 * ka * m + sp.sqrt(1 + 4 * ka * m)))\n",
    "\n",
    "# Solve (cytoplasmic concentration as func of total concentration)\n",
    "sp.solve(func, c)\n",
    "\n",
    "# Four solutions (-> solution 2 is the applicable one)"
   ]
  },
  {
   "cell_type": "code",
   "execution_count": 4,
   "metadata": {},
   "outputs": [],
   "source": [
    "# def model1(ka, km, alpha, d):\n",
    "#     return 0.5*(-alpha**2*km**3 + alpha**2*km**2 + 2.0*alpha*d*ka*km**2 - 2.0*alpha*km**2*np.sqrt(0.25*alpha**2*km**2 + alpha*d*ka*km**2 + 0.5*alpha*km + d*ka + 0.25) - alpha*km**2 + 2.0*alpha*km*np.sqrt(0.25*alpha**2*km**2 + alpha*d*ka*km**2 + 0.5*alpha*km + d*ka + 0.25) + alpha*km + 2.0*d*ka)/(ka*(alpha**2*km**4 + 2.0*alpha*km**2 + 1.0))\n",
    "\n",
    "# def model2(ka, km, alpha, d):\n",
    "#     return 0.5*(-alpha**2*km**3 + alpha**2*km**2 + 2.0*alpha*d*ka*km**2 + 2.0*alpha*km**2*np.sqrt(0.25*alpha**2*km**2 + alpha*d*ka*km**2 + 0.5*alpha*km + d*ka + 0.25) - alpha*km**2 - 2.0*alpha*km*np.sqrt(0.25*alpha**2*km**2 + alpha*d*ka*km**2 + 0.5*alpha*km + d*ka + 0.25) + alpha*km + 2.0*d*ka)/(ka*(alpha**2*km**4 + 2.0*alpha*km**2 + 1.0))\n",
    "\n",
    "# def model3(ka, km, alpha, d):\n",
    "#     return 0.5*(alpha**2*km**3 + alpha**2*km**2 + 2.0*alpha*d*ka*km**2 - 2.0*alpha*km**2*np.sqrt(0.25*alpha**2*km**2 + alpha*d*ka*km**2 - 0.5*alpha*km + d*ka + 0.25) - alpha*km**2 - 2.0*alpha*km*np.sqrt(0.25*alpha**2*km**2 + alpha*d*ka*km**2 - 0.5*alpha*km + d*ka + 0.25) - alpha*km + 2.0*d*ka)/(ka*(alpha**2*km**4 + 2.0*alpha*km**2 + 1.0))\n",
    "\n",
    "# def model4(ka, km, alpha, d):\n",
    "#     return 0.5*(alpha**2*km**3 + alpha**2*km**2 + 2.0*alpha*d*ka*km**2 + 2.0*alpha*km**2*np.sqrt(0.25*alpha**2*km**2 + alpha*d*ka*km**2 - 0.5*alpha*km + d*ka + 0.25) - alpha*km**2 + 2.0*alpha*km*np.sqrt(0.25*alpha**2*km**2 + alpha*d*ka*km**2 - 0.5*alpha*km + d*ka + 0.25) - alpha*km + 2.0*d*ka)/(ka*(alpha**2*km**4 + 2.0*alpha*km**2 + 1.0))"
   ]
  },
  {
   "cell_type": "markdown",
   "metadata": {},
   "source": [
    "### Full model: membrane conc as function of cytoplasmic conc"
   ]
  },
  {
   "cell_type": "code",
   "execution_count": 6,
   "metadata": {},
   "outputs": [
    {
     "data": {
      "text/plain": [
       "[c*km*(c*ka*km*(2.0*c*ka + 2.0*sqrt(c*ka + 0.25) + 1.0) - 4.24264068711928*sqrt(0.222222222222222*c**3*ka**3 + 0.666666666666667*c**2*ka**2*(c*ka + 0.25)**0.5 + c**2*ka**2 + 0.888888888888889*c*ka*(c*ka + 0.25)**0.5 + 0.666666666666667*c*ka + 0.222222222222222*(c*ka + 0.25)**0.5 + 0.111111111111111))/(2.0*c**2*ka**2 + 4.0*c*ka*(c*ka + 0.25)**0.5 + 4.0*c*ka + 2.0*(c*ka + 0.25)**0.5 + 1.0),\n",
       " c*km*(c*ka*km*(2.0*c*ka + 2.0*sqrt(c*ka + 0.25) + 1.0) + 4.24264068711928*sqrt(0.222222222222222*c**3*ka**3 + 0.666666666666667*c**2*ka**2*(c*ka + 0.25)**0.5 + c**2*ka**2 + 0.888888888888889*c*ka*(c*ka + 0.25)**0.5 + 0.666666666666667*c*ka + 0.222222222222222*(c*ka + 0.25)**0.5 + 0.111111111111111))/(2.0*c**2*ka**2 + 4.0*c*ka*(c*ka + 0.25)**0.5 + 4.0*c*ka + 2.0*(c*ka + 0.25)**0.5 + 1.0)]"
      ]
     },
     "execution_count": 6,
     "metadata": {},
     "output_type": "execute_result"
    }
   ],
   "source": [
    "# Symbols as above\n",
    "ka, km, m, c = sp.symbols('ka km m c')\n",
    "\n",
    "# Chemical potentials\n",
    "func = (sp.ln(c) - 0.5 * sp.ln(1 + 2 * ka * c + sp.sqrt(1 + 4 * ka * c))) - (sp.ln(m) - sp.log(km) - 0.5 * sp.ln(1 + 2 * ka * m + sp.sqrt(1 + 4 * ka * m)))\n",
    "\n",
    "# Solve (cytoplasmic concentration as func of total concentration)\n",
    "sp.solve(func, m)"
   ]
  },
  {
   "cell_type": "code",
   "execution_count": 7,
   "metadata": {},
   "outputs": [],
   "source": [
    "# def model1(ka, km, c):\n",
    "#     return c*km*(c*ka*km*(2.0*c*ka + 2.0*np.sqrt(c*ka + 0.25) + 1.0) - 4.24264068711928*np.sqrt(0.222222222222222*c**3*ka**3 + 0.666666666666667*c**2*ka**2*(c*ka + 0.25)**0.5 + c**2*ka**2 + 0.888888888888889*c*ka*(c*ka + 0.25)**0.5 + 0.666666666666667*c*ka + 0.222222222222222*(c*ka + 0.25)**0.5 + 0.111111111111111))/(2.0*c**2*ka**2 + 4.0*c*ka*(c*ka + 0.25)**0.5 + 4.0*c*ka + 2.0*(c*ka + 0.25)**0.5 + 1.0)\n",
    "\n",
    "# def model2(ka, km, c):\n",
    "#     return c*km*(c*ka*km*(2.0*c*ka + 2.0*np.sqrt(c*ka + 0.25) + 1.0) + 4.24264068711928*np.sqrt(0.222222222222222*c**3*ka**3 + 0.666666666666667*c**2*ka**2*(c*ka + 0.25)**0.5 + c**2*ka**2 + 0.888888888888889*c*ka*(c*ka + 0.25)**0.5 + 0.666666666666667*c*ka + 0.222222222222222*(c*ka + 0.25)**0.5 + 0.111111111111111))/(2.0*c**2*ka**2 + 4.0*c*ka*(c*ka + 0.25)**0.5 + 4.0*c*ka + 2.0*(c*ka + 0.25)**0.5 + 1.0)"
   ]
  },
  {
   "cell_type": "code",
   "execution_count": null,
   "metadata": {},
   "outputs": [],
   "source": []
  }
 ],
 "metadata": {
  "kernelspec": {
   "display_name": "Python 3",
   "language": "python",
   "name": "python3"
  },
  "language_info": {
   "codemirror_mode": {
    "name": "ipython",
    "version": 3
   },
   "file_extension": ".py",
   "mimetype": "text/x-python",
   "name": "python",
   "nbconvert_exporter": "python",
   "pygments_lexer": "ipython3",
   "version": "3.7.9"
  }
 },
 "nbformat": 4,
 "nbformat_minor": 4
}
