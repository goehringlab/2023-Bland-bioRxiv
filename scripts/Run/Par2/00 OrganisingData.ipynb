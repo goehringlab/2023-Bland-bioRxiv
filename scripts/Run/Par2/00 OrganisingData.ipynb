{
 "cells": [
  {
   "cell_type": "code",
   "execution_count": 43,
   "metadata": {
    "execution": {
     "iopub.execute_input": "2023-01-27T13:52:45.608747Z",
     "iopub.status.busy": "2023-01-27T13:52:45.607520Z",
     "iopub.status.idle": "2023-01-27T13:52:57.320338Z",
     "shell.execute_reply": "2023-01-27T13:52:57.320873Z"
    }
   },
   "outputs": [],
   "source": [
    "import sys, os, glob\n",
    "import pandas as pd\n",
    "sys.path.append('../../..')\n",
    "from src import raw_data_path, direcslist"
   ]
  },
  {
   "cell_type": "markdown",
   "metadata": {},
   "source": [
    "### Specify paths"
   ]
  },
  {
   "cell_type": "code",
   "execution_count": 44,
   "metadata": {
    "execution": {
     "iopub.execute_input": "2023-01-27T13:52:57.324634Z",
     "iopub.status.busy": "2023-01-27T13:52:57.324134Z",
     "iopub.status.idle": "2023-01-27T13:52:57.369557Z",
     "shell.execute_reply": "2023-01-27T13:52:57.370080Z"
    }
   },
   "outputs": [
    {
     "name": "stdout",
     "output_type": "stream",
     "text": [
      "678\n"
     ]
    }
   ],
   "source": [
    "exclude = ['!',]\n",
    "\n",
    "path = raw_data_path + '/Imaging/PAR-2 NEBD/'\n",
    "paths = direcslist(path, 1, exclude=exclude)\n",
    "print(len(paths))"
   ]
  },
  {
   "cell_type": "markdown",
   "metadata": {},
   "source": [
    "### Exclude paths\n",
    "\n",
    "Excluding any paths that don't have an af_corrected image and an ROI"
   ]
  },
  {
   "cell_type": "code",
   "execution_count": 45,
   "metadata": {
    "execution": {
     "iopub.execute_input": "2023-01-27T13:52:57.374063Z",
     "iopub.status.busy": "2023-01-27T13:52:57.373514Z",
     "iopub.status.idle": "2023-01-27T13:52:57.396892Z",
     "shell.execute_reply": "2023-01-27T13:52:57.397857Z"
    }
   },
   "outputs": [
    {
     "name": "stdout",
     "output_type": "stream",
     "text": [
      "669\n"
     ]
    }
   ],
   "source": [
    "paths = [p for p in paths if os.path.exists(p + '/af_corrected.tif')]\n",
    "paths = [p for p in paths if os.path.exists(p + '/ROI_manual.txt')]\n",
    "print(len(paths))"
   ]
  },
  {
   "cell_type": "markdown",
   "metadata": {},
   "source": [
    "### Exctract data from paths"
   ]
  },
  {
   "cell_type": "code",
   "execution_count": 46,
   "metadata": {
    "execution": {
     "iopub.execute_input": "2023-01-27T13:52:57.405032Z",
     "iopub.status.busy": "2023-01-27T13:52:57.404486Z",
     "iopub.status.idle": "2023-01-27T13:52:57.641092Z",
     "shell.execute_reply": "2023-01-27T13:52:57.641681Z"
    },
    "scrolled": false
   },
   "outputs": [],
   "source": [
    "dates = []\n",
    "lines = []\n",
    "conditions = []\n",
    "embryo_ids = []\n",
    "for p in paths:\n",
    "    code = p.strip('/').split('/')[-2]\n",
    "    dates.append(code.split('_')[0])\n",
    "    lines.append(code.split('_')[1])\n",
    "    if len(code.split('_')) == 4:\n",
    "        conditions.append(code.split('_')[2])\n",
    "    else:\n",
    "        conditions.append('wt')\n",
    "    embryo_ids.append(int(os.path.getmtime(glob.glob(p + '/*488 SP 535-50*')[0])))"
   ]
  },
  {
   "cell_type": "code",
   "execution_count": 47,
   "metadata": {
    "execution": {
     "iopub.execute_input": "2023-01-27T13:52:57.645066Z",
     "iopub.status.busy": "2023-01-27T13:52:57.644414Z",
     "iopub.status.idle": "2023-01-27T13:52:57.646263Z",
     "shell.execute_reply": "2023-01-27T13:52:57.646770Z"
    }
   },
   "outputs": [
    {
     "name": "stdout",
     "output_type": "stream",
     "text": [
      "669\n"
     ]
    }
   ],
   "source": [
    "print(len(set(embryo_ids)))"
   ]
  },
  {
   "cell_type": "markdown",
   "metadata": {},
   "source": [
    "### Remove duplicates"
   ]
  },
  {
   "cell_type": "code",
   "execution_count": 48,
   "metadata": {
    "execution": {
     "iopub.execute_input": "2023-01-27T13:52:57.654114Z",
     "iopub.status.busy": "2023-01-27T13:52:57.653605Z",
     "iopub.status.idle": "2023-01-27T13:52:57.655315Z",
     "shell.execute_reply": "2023-01-27T13:52:57.655821Z"
    },
    "scrolled": false
   },
   "outputs": [],
   "source": [
    "unique_ids = []\n",
    "unique_ids_bool = []\n",
    "for e in embryo_ids:\n",
    "    if not e in unique_ids:\n",
    "        unique_ids.append(e)\n",
    "        unique_ids_bool.append(True)\n",
    "    else:\n",
    "        unique_ids_bool.append(False)"
   ]
  },
  {
   "cell_type": "code",
   "execution_count": 49,
   "metadata": {
    "execution": {
     "iopub.execute_input": "2023-01-27T13:52:57.661662Z",
     "iopub.status.busy": "2023-01-27T13:52:57.660818Z",
     "iopub.status.idle": "2023-01-27T13:52:57.662950Z",
     "shell.execute_reply": "2023-01-27T13:52:57.664023Z"
    }
   },
   "outputs": [],
   "source": [
    "paths = [d for d, u in zip(paths, unique_ids_bool) if u]\n",
    "dates = [d for d, u in zip(dates, unique_ids_bool) if u]\n",
    "lines = [d for d, u in zip(lines, unique_ids_bool) if u]\n",
    "conditions = [d for d, u in zip(conditions, unique_ids_bool) if u]\n",
    "embryo_ids = [d for d, u in zip(embryo_ids, unique_ids_bool) if u]"
   ]
  },
  {
   "cell_type": "markdown",
   "metadata": {},
   "source": [
    "### Create dataframe"
   ]
  },
  {
   "cell_type": "code",
   "execution_count": 50,
   "metadata": {
    "execution": {
     "iopub.execute_input": "2023-01-27T13:52:57.672926Z",
     "iopub.status.busy": "2023-01-27T13:52:57.672352Z",
     "iopub.status.idle": "2023-01-27T13:52:57.684936Z",
     "shell.execute_reply": "2023-01-27T13:52:57.685589Z"
    }
   },
   "outputs": [
    {
     "data": {
      "text/html": [
       "<div>\n",
       "<style scoped>\n",
       "    .dataframe tbody tr th:only-of-type {\n",
       "        vertical-align: middle;\n",
       "    }\n",
       "\n",
       "    .dataframe tbody tr th {\n",
       "        vertical-align: top;\n",
       "    }\n",
       "\n",
       "    .dataframe thead th {\n",
       "        text-align: right;\n",
       "    }\n",
       "</style>\n",
       "<table border=\"1\" class=\"dataframe\">\n",
       "  <thead>\n",
       "    <tr style=\"text-align: right;\">\n",
       "      <th></th>\n",
       "      <th>Path</th>\n",
       "      <th>EmbryoID</th>\n",
       "      <th>Line</th>\n",
       "      <th>Date</th>\n",
       "      <th>RNAi</th>\n",
       "    </tr>\n",
       "  </thead>\n",
       "  <tbody>\n",
       "    <tr>\n",
       "      <th>0</th>\n",
       "      <td>/Users/blandt/Desktop/PaperData//Imaging/PAR-2...</td>\n",
       "      <td>1580292350</td>\n",
       "      <td>lp637</td>\n",
       "      <td>200129</td>\n",
       "      <td>wt</td>\n",
       "    </tr>\n",
       "    <tr>\n",
       "      <th>1</th>\n",
       "      <td>/Users/blandt/Desktop/PaperData//Imaging/PAR-2...</td>\n",
       "      <td>1580292382</td>\n",
       "      <td>lp637</td>\n",
       "      <td>200129</td>\n",
       "      <td>wt</td>\n",
       "    </tr>\n",
       "    <tr>\n",
       "      <th>2</th>\n",
       "      <td>/Users/blandt/Desktop/PaperData//Imaging/PAR-2...</td>\n",
       "      <td>1580292449</td>\n",
       "      <td>lp637</td>\n",
       "      <td>200129</td>\n",
       "      <td>wt</td>\n",
       "    </tr>\n",
       "    <tr>\n",
       "      <th>3</th>\n",
       "      <td>/Users/blandt/Desktop/PaperData//Imaging/PAR-2...</td>\n",
       "      <td>1580292501</td>\n",
       "      <td>lp637</td>\n",
       "      <td>200129</td>\n",
       "      <td>wt</td>\n",
       "    </tr>\n",
       "    <tr>\n",
       "      <th>4</th>\n",
       "      <td>/Users/blandt/Desktop/PaperData//Imaging/PAR-2...</td>\n",
       "      <td>1580292520</td>\n",
       "      <td>lp637</td>\n",
       "      <td>200129</td>\n",
       "      <td>wt</td>\n",
       "    </tr>\n",
       "    <tr>\n",
       "      <th>...</th>\n",
       "      <td>...</td>\n",
       "      <td>...</td>\n",
       "      <td>...</td>\n",
       "      <td>...</td>\n",
       "      <td>...</td>\n",
       "    </tr>\n",
       "    <tr>\n",
       "      <th>664</th>\n",
       "      <td>/Users/blandt/Desktop/PaperData//Imaging/PAR-2...</td>\n",
       "      <td>1662545240</td>\n",
       "      <td>nwg496</td>\n",
       "      <td>220907</td>\n",
       "      <td>wt</td>\n",
       "    </tr>\n",
       "    <tr>\n",
       "      <th>665</th>\n",
       "      <td>/Users/blandt/Desktop/PaperData//Imaging/PAR-2...</td>\n",
       "      <td>1662545908</td>\n",
       "      <td>nwg496</td>\n",
       "      <td>220907</td>\n",
       "      <td>wt</td>\n",
       "    </tr>\n",
       "    <tr>\n",
       "      <th>666</th>\n",
       "      <td>/Users/blandt/Desktop/PaperData//Imaging/PAR-2...</td>\n",
       "      <td>1662546008</td>\n",
       "      <td>nwg496</td>\n",
       "      <td>220907</td>\n",
       "      <td>wt</td>\n",
       "    </tr>\n",
       "    <tr>\n",
       "      <th>667</th>\n",
       "      <td>/Users/blandt/Desktop/PaperData//Imaging/PAR-2...</td>\n",
       "      <td>1662546125</td>\n",
       "      <td>nwg496</td>\n",
       "      <td>220907</td>\n",
       "      <td>wt</td>\n",
       "    </tr>\n",
       "    <tr>\n",
       "      <th>668</th>\n",
       "      <td>/Users/blandt/Desktop/PaperData//Imaging/PAR-2...</td>\n",
       "      <td>1662546326</td>\n",
       "      <td>nwg496</td>\n",
       "      <td>220907</td>\n",
       "      <td>wt</td>\n",
       "    </tr>\n",
       "  </tbody>\n",
       "</table>\n",
       "<p>669 rows × 5 columns</p>\n",
       "</div>"
      ],
      "text/plain": [
       "                                                  Path    EmbryoID    Line  \\\n",
       "0    /Users/blandt/Desktop/PaperData//Imaging/PAR-2...  1580292350   lp637   \n",
       "1    /Users/blandt/Desktop/PaperData//Imaging/PAR-2...  1580292382   lp637   \n",
       "2    /Users/blandt/Desktop/PaperData//Imaging/PAR-2...  1580292449   lp637   \n",
       "3    /Users/blandt/Desktop/PaperData//Imaging/PAR-2...  1580292501   lp637   \n",
       "4    /Users/blandt/Desktop/PaperData//Imaging/PAR-2...  1580292520   lp637   \n",
       "..                                                 ...         ...     ...   \n",
       "664  /Users/blandt/Desktop/PaperData//Imaging/PAR-2...  1662545240  nwg496   \n",
       "665  /Users/blandt/Desktop/PaperData//Imaging/PAR-2...  1662545908  nwg496   \n",
       "666  /Users/blandt/Desktop/PaperData//Imaging/PAR-2...  1662546008  nwg496   \n",
       "667  /Users/blandt/Desktop/PaperData//Imaging/PAR-2...  1662546125  nwg496   \n",
       "668  /Users/blandt/Desktop/PaperData//Imaging/PAR-2...  1662546326  nwg496   \n",
       "\n",
       "       Date RNAi  \n",
       "0    200129   wt  \n",
       "1    200129   wt  \n",
       "2    200129   wt  \n",
       "3    200129   wt  \n",
       "4    200129   wt  \n",
       "..      ...  ...  \n",
       "664  220907   wt  \n",
       "665  220907   wt  \n",
       "666  220907   wt  \n",
       "667  220907   wt  \n",
       "668  220907   wt  \n",
       "\n",
       "[669 rows x 5 columns]"
      ]
     },
     "execution_count": 50,
     "metadata": {},
     "output_type": "execute_result"
    }
   ],
   "source": [
    "df = pd.DataFrame({'Path': paths, 'EmbryoID': embryo_ids, 'Line': lines, 'Date': dates, 'RNAi': conditions})\n",
    "df"
   ]
  },
  {
   "cell_type": "markdown",
   "metadata": {},
   "source": [
    "### Line dataframe"
   ]
  },
  {
   "cell_type": "code",
   "execution_count": 51,
   "metadata": {
    "execution": {
     "iopub.execute_input": "2023-01-27T13:52:57.690167Z",
     "iopub.status.busy": "2023-01-27T13:52:57.689521Z",
     "iopub.status.idle": "2023-01-27T13:52:57.708192Z",
     "shell.execute_reply": "2023-01-27T13:52:57.708930Z"
    }
   },
   "outputs": [],
   "source": [
    "# lines_df = pd.read_csv('Par2_Lines.csv')\n",
    "# lines_df"
   ]
  },
  {
   "cell_type": "markdown",
   "metadata": {},
   "source": [
    "### Filter embryos not in lines database"
   ]
  },
  {
   "cell_type": "code",
   "execution_count": 52,
   "metadata": {
    "execution": {
     "iopub.execute_input": "2023-01-27T13:52:57.823588Z",
     "iopub.status.busy": "2023-01-27T13:52:57.729305Z",
     "iopub.status.idle": "2023-01-27T13:52:57.825313Z",
     "shell.execute_reply": "2023-01-27T13:52:57.825857Z"
    },
    "scrolled": false
   },
   "outputs": [],
   "source": [
    "for index, row in df.iterrows():\n",
    "    if not row.Line in list(lines_df.Line.unique()) + list(lines_df.Alternative.unique()):\n",
    "        df.drop(index, inplace=True)\n",
    "df.reset_index(inplace=True, drop=True)"
   ]
  },
  {
   "cell_type": "code",
   "execution_count": 53,
   "metadata": {
    "execution": {
     "iopub.execute_input": "2023-01-27T13:52:57.838330Z",
     "iopub.status.busy": "2023-01-27T13:52:57.837687Z",
     "iopub.status.idle": "2023-01-27T13:52:57.840699Z",
     "shell.execute_reply": "2023-01-27T13:52:57.841377Z"
    }
   },
   "outputs": [
    {
     "data": {
      "text/html": [
       "<div>\n",
       "<style scoped>\n",
       "    .dataframe tbody tr th:only-of-type {\n",
       "        vertical-align: middle;\n",
       "    }\n",
       "\n",
       "    .dataframe tbody tr th {\n",
       "        vertical-align: top;\n",
       "    }\n",
       "\n",
       "    .dataframe thead th {\n",
       "        text-align: right;\n",
       "    }\n",
       "</style>\n",
       "<table border=\"1\" class=\"dataframe\">\n",
       "  <thead>\n",
       "    <tr style=\"text-align: right;\">\n",
       "      <th></th>\n",
       "      <th>Path</th>\n",
       "      <th>EmbryoID</th>\n",
       "      <th>Line</th>\n",
       "      <th>Date</th>\n",
       "      <th>RNAi</th>\n",
       "    </tr>\n",
       "  </thead>\n",
       "  <tbody>\n",
       "    <tr>\n",
       "      <th>0</th>\n",
       "      <td>/Users/blandt/Desktop/PaperData//Imaging/PAR-2...</td>\n",
       "      <td>1580292350</td>\n",
       "      <td>lp637</td>\n",
       "      <td>200129</td>\n",
       "      <td>wt</td>\n",
       "    </tr>\n",
       "    <tr>\n",
       "      <th>1</th>\n",
       "      <td>/Users/blandt/Desktop/PaperData//Imaging/PAR-2...</td>\n",
       "      <td>1580292382</td>\n",
       "      <td>lp637</td>\n",
       "      <td>200129</td>\n",
       "      <td>wt</td>\n",
       "    </tr>\n",
       "    <tr>\n",
       "      <th>2</th>\n",
       "      <td>/Users/blandt/Desktop/PaperData//Imaging/PAR-2...</td>\n",
       "      <td>1580292449</td>\n",
       "      <td>lp637</td>\n",
       "      <td>200129</td>\n",
       "      <td>wt</td>\n",
       "    </tr>\n",
       "    <tr>\n",
       "      <th>3</th>\n",
       "      <td>/Users/blandt/Desktop/PaperData//Imaging/PAR-2...</td>\n",
       "      <td>1580292501</td>\n",
       "      <td>lp637</td>\n",
       "      <td>200129</td>\n",
       "      <td>wt</td>\n",
       "    </tr>\n",
       "    <tr>\n",
       "      <th>4</th>\n",
       "      <td>/Users/blandt/Desktop/PaperData//Imaging/PAR-2...</td>\n",
       "      <td>1580292520</td>\n",
       "      <td>lp637</td>\n",
       "      <td>200129</td>\n",
       "      <td>wt</td>\n",
       "    </tr>\n",
       "    <tr>\n",
       "      <th>...</th>\n",
       "      <td>...</td>\n",
       "      <td>...</td>\n",
       "      <td>...</td>\n",
       "      <td>...</td>\n",
       "      <td>...</td>\n",
       "    </tr>\n",
       "    <tr>\n",
       "      <th>664</th>\n",
       "      <td>/Users/blandt/Desktop/PaperData//Imaging/PAR-2...</td>\n",
       "      <td>1662545240</td>\n",
       "      <td>nwg496</td>\n",
       "      <td>220907</td>\n",
       "      <td>wt</td>\n",
       "    </tr>\n",
       "    <tr>\n",
       "      <th>665</th>\n",
       "      <td>/Users/blandt/Desktop/PaperData//Imaging/PAR-2...</td>\n",
       "      <td>1662545908</td>\n",
       "      <td>nwg496</td>\n",
       "      <td>220907</td>\n",
       "      <td>wt</td>\n",
       "    </tr>\n",
       "    <tr>\n",
       "      <th>666</th>\n",
       "      <td>/Users/blandt/Desktop/PaperData//Imaging/PAR-2...</td>\n",
       "      <td>1662546008</td>\n",
       "      <td>nwg496</td>\n",
       "      <td>220907</td>\n",
       "      <td>wt</td>\n",
       "    </tr>\n",
       "    <tr>\n",
       "      <th>667</th>\n",
       "      <td>/Users/blandt/Desktop/PaperData//Imaging/PAR-2...</td>\n",
       "      <td>1662546125</td>\n",
       "      <td>nwg496</td>\n",
       "      <td>220907</td>\n",
       "      <td>wt</td>\n",
       "    </tr>\n",
       "    <tr>\n",
       "      <th>668</th>\n",
       "      <td>/Users/blandt/Desktop/PaperData//Imaging/PAR-2...</td>\n",
       "      <td>1662546326</td>\n",
       "      <td>nwg496</td>\n",
       "      <td>220907</td>\n",
       "      <td>wt</td>\n",
       "    </tr>\n",
       "  </tbody>\n",
       "</table>\n",
       "<p>669 rows × 5 columns</p>\n",
       "</div>"
      ],
      "text/plain": [
       "                                                  Path    EmbryoID    Line  \\\n",
       "0    /Users/blandt/Desktop/PaperData//Imaging/PAR-2...  1580292350   lp637   \n",
       "1    /Users/blandt/Desktop/PaperData//Imaging/PAR-2...  1580292382   lp637   \n",
       "2    /Users/blandt/Desktop/PaperData//Imaging/PAR-2...  1580292449   lp637   \n",
       "3    /Users/blandt/Desktop/PaperData//Imaging/PAR-2...  1580292501   lp637   \n",
       "4    /Users/blandt/Desktop/PaperData//Imaging/PAR-2...  1580292520   lp637   \n",
       "..                                                 ...         ...     ...   \n",
       "664  /Users/blandt/Desktop/PaperData//Imaging/PAR-2...  1662545240  nwg496   \n",
       "665  /Users/blandt/Desktop/PaperData//Imaging/PAR-2...  1662545908  nwg496   \n",
       "666  /Users/blandt/Desktop/PaperData//Imaging/PAR-2...  1662546008  nwg496   \n",
       "667  /Users/blandt/Desktop/PaperData//Imaging/PAR-2...  1662546125  nwg496   \n",
       "668  /Users/blandt/Desktop/PaperData//Imaging/PAR-2...  1662546326  nwg496   \n",
       "\n",
       "       Date RNAi  \n",
       "0    200129   wt  \n",
       "1    200129   wt  \n",
       "2    200129   wt  \n",
       "3    200129   wt  \n",
       "4    200129   wt  \n",
       "..      ...  ...  \n",
       "664  220907   wt  \n",
       "665  220907   wt  \n",
       "666  220907   wt  \n",
       "667  220907   wt  \n",
       "668  220907   wt  \n",
       "\n",
       "[669 rows x 5 columns]"
      ]
     },
     "execution_count": 53,
     "metadata": {},
     "output_type": "execute_result"
    }
   ],
   "source": [
    "df"
   ]
  },
  {
   "cell_type": "markdown",
   "metadata": {},
   "source": [
    "### Replace nwg325 with lp637 (different names for same line)"
   ]
  },
  {
   "cell_type": "code",
   "execution_count": 54,
   "metadata": {
    "execution": {
     "iopub.execute_input": "2023-01-27T13:52:57.853719Z",
     "iopub.status.busy": "2023-01-27T13:52:57.853048Z",
     "iopub.status.idle": "2023-01-27T13:52:57.855669Z",
     "shell.execute_reply": "2023-01-27T13:52:57.856296Z"
    }
   },
   "outputs": [
    {
     "data": {
      "text/html": [
       "<div>\n",
       "<style scoped>\n",
       "    .dataframe tbody tr th:only-of-type {\n",
       "        vertical-align: middle;\n",
       "    }\n",
       "\n",
       "    .dataframe tbody tr th {\n",
       "        vertical-align: top;\n",
       "    }\n",
       "\n",
       "    .dataframe thead th {\n",
       "        text-align: right;\n",
       "    }\n",
       "</style>\n",
       "<table border=\"1\" class=\"dataframe\">\n",
       "  <thead>\n",
       "    <tr style=\"text-align: right;\">\n",
       "      <th></th>\n",
       "      <th>Path</th>\n",
       "      <th>EmbryoID</th>\n",
       "      <th>Line</th>\n",
       "      <th>Date</th>\n",
       "      <th>RNAi</th>\n",
       "    </tr>\n",
       "  </thead>\n",
       "  <tbody>\n",
       "    <tr>\n",
       "      <th>0</th>\n",
       "      <td>/Users/blandt/Desktop/PaperData//Imaging/PAR-2...</td>\n",
       "      <td>1580292350</td>\n",
       "      <td>lp637</td>\n",
       "      <td>200129</td>\n",
       "      <td>wt</td>\n",
       "    </tr>\n",
       "    <tr>\n",
       "      <th>1</th>\n",
       "      <td>/Users/blandt/Desktop/PaperData//Imaging/PAR-2...</td>\n",
       "      <td>1580292382</td>\n",
       "      <td>lp637</td>\n",
       "      <td>200129</td>\n",
       "      <td>wt</td>\n",
       "    </tr>\n",
       "    <tr>\n",
       "      <th>2</th>\n",
       "      <td>/Users/blandt/Desktop/PaperData//Imaging/PAR-2...</td>\n",
       "      <td>1580292449</td>\n",
       "      <td>lp637</td>\n",
       "      <td>200129</td>\n",
       "      <td>wt</td>\n",
       "    </tr>\n",
       "    <tr>\n",
       "      <th>3</th>\n",
       "      <td>/Users/blandt/Desktop/PaperData//Imaging/PAR-2...</td>\n",
       "      <td>1580292501</td>\n",
       "      <td>lp637</td>\n",
       "      <td>200129</td>\n",
       "      <td>wt</td>\n",
       "    </tr>\n",
       "    <tr>\n",
       "      <th>4</th>\n",
       "      <td>/Users/blandt/Desktop/PaperData//Imaging/PAR-2...</td>\n",
       "      <td>1580292520</td>\n",
       "      <td>lp637</td>\n",
       "      <td>200129</td>\n",
       "      <td>wt</td>\n",
       "    </tr>\n",
       "    <tr>\n",
       "      <th>...</th>\n",
       "      <td>...</td>\n",
       "      <td>...</td>\n",
       "      <td>...</td>\n",
       "      <td>...</td>\n",
       "      <td>...</td>\n",
       "    </tr>\n",
       "    <tr>\n",
       "      <th>664</th>\n",
       "      <td>/Users/blandt/Desktop/PaperData//Imaging/PAR-2...</td>\n",
       "      <td>1662545240</td>\n",
       "      <td>nwg496</td>\n",
       "      <td>220907</td>\n",
       "      <td>wt</td>\n",
       "    </tr>\n",
       "    <tr>\n",
       "      <th>665</th>\n",
       "      <td>/Users/blandt/Desktop/PaperData//Imaging/PAR-2...</td>\n",
       "      <td>1662545908</td>\n",
       "      <td>nwg496</td>\n",
       "      <td>220907</td>\n",
       "      <td>wt</td>\n",
       "    </tr>\n",
       "    <tr>\n",
       "      <th>666</th>\n",
       "      <td>/Users/blandt/Desktop/PaperData//Imaging/PAR-2...</td>\n",
       "      <td>1662546008</td>\n",
       "      <td>nwg496</td>\n",
       "      <td>220907</td>\n",
       "      <td>wt</td>\n",
       "    </tr>\n",
       "    <tr>\n",
       "      <th>667</th>\n",
       "      <td>/Users/blandt/Desktop/PaperData//Imaging/PAR-2...</td>\n",
       "      <td>1662546125</td>\n",
       "      <td>nwg496</td>\n",
       "      <td>220907</td>\n",
       "      <td>wt</td>\n",
       "    </tr>\n",
       "    <tr>\n",
       "      <th>668</th>\n",
       "      <td>/Users/blandt/Desktop/PaperData//Imaging/PAR-2...</td>\n",
       "      <td>1662546326</td>\n",
       "      <td>nwg496</td>\n",
       "      <td>220907</td>\n",
       "      <td>wt</td>\n",
       "    </tr>\n",
       "  </tbody>\n",
       "</table>\n",
       "<p>669 rows × 5 columns</p>\n",
       "</div>"
      ],
      "text/plain": [
       "                                                  Path    EmbryoID    Line  \\\n",
       "0    /Users/blandt/Desktop/PaperData//Imaging/PAR-2...  1580292350   lp637   \n",
       "1    /Users/blandt/Desktop/PaperData//Imaging/PAR-2...  1580292382   lp637   \n",
       "2    /Users/blandt/Desktop/PaperData//Imaging/PAR-2...  1580292449   lp637   \n",
       "3    /Users/blandt/Desktop/PaperData//Imaging/PAR-2...  1580292501   lp637   \n",
       "4    /Users/blandt/Desktop/PaperData//Imaging/PAR-2...  1580292520   lp637   \n",
       "..                                                 ...         ...     ...   \n",
       "664  /Users/blandt/Desktop/PaperData//Imaging/PAR-2...  1662545240  nwg496   \n",
       "665  /Users/blandt/Desktop/PaperData//Imaging/PAR-2...  1662545908  nwg496   \n",
       "666  /Users/blandt/Desktop/PaperData//Imaging/PAR-2...  1662546008  nwg496   \n",
       "667  /Users/blandt/Desktop/PaperData//Imaging/PAR-2...  1662546125  nwg496   \n",
       "668  /Users/blandt/Desktop/PaperData//Imaging/PAR-2...  1662546326  nwg496   \n",
       "\n",
       "       Date RNAi  \n",
       "0    200129   wt  \n",
       "1    200129   wt  \n",
       "2    200129   wt  \n",
       "3    200129   wt  \n",
       "4    200129   wt  \n",
       "..      ...  ...  \n",
       "664  220907   wt  \n",
       "665  220907   wt  \n",
       "666  220907   wt  \n",
       "667  220907   wt  \n",
       "668  220907   wt  \n",
       "\n",
       "[669 rows x 5 columns]"
      ]
     },
     "execution_count": 54,
     "metadata": {},
     "output_type": "execute_result"
    }
   ],
   "source": [
    "df = df.replace('nwg325', 'lp637')\n",
    "df"
   ]
  },
  {
   "cell_type": "markdown",
   "metadata": {},
   "source": [
    "### Sort by embryo ID"
   ]
  },
  {
   "cell_type": "code",
   "execution_count": 55,
   "metadata": {
    "execution": {
     "iopub.execute_input": "2023-01-27T13:52:57.860014Z",
     "iopub.status.busy": "2023-01-27T13:52:57.859379Z",
     "iopub.status.idle": "2023-01-27T13:52:57.873175Z",
     "shell.execute_reply": "2023-01-27T13:52:57.873819Z"
    }
   },
   "outputs": [
    {
     "data": {
      "text/html": [
       "<div>\n",
       "<style scoped>\n",
       "    .dataframe tbody tr th:only-of-type {\n",
       "        vertical-align: middle;\n",
       "    }\n",
       "\n",
       "    .dataframe tbody tr th {\n",
       "        vertical-align: top;\n",
       "    }\n",
       "\n",
       "    .dataframe thead th {\n",
       "        text-align: right;\n",
       "    }\n",
       "</style>\n",
       "<table border=\"1\" class=\"dataframe\">\n",
       "  <thead>\n",
       "    <tr style=\"text-align: right;\">\n",
       "      <th></th>\n",
       "      <th>Path</th>\n",
       "      <th>EmbryoID</th>\n",
       "      <th>Line</th>\n",
       "      <th>Date</th>\n",
       "      <th>RNAi</th>\n",
       "    </tr>\n",
       "  </thead>\n",
       "  <tbody>\n",
       "    <tr>\n",
       "      <th>0</th>\n",
       "      <td>/Users/blandt/Desktop/PaperData//Imaging/PAR-2...</td>\n",
       "      <td>1580292350</td>\n",
       "      <td>lp637</td>\n",
       "      <td>200129</td>\n",
       "      <td>wt</td>\n",
       "    </tr>\n",
       "    <tr>\n",
       "      <th>1</th>\n",
       "      <td>/Users/blandt/Desktop/PaperData//Imaging/PAR-2...</td>\n",
       "      <td>1580292382</td>\n",
       "      <td>lp637</td>\n",
       "      <td>200129</td>\n",
       "      <td>wt</td>\n",
       "    </tr>\n",
       "    <tr>\n",
       "      <th>2</th>\n",
       "      <td>/Users/blandt/Desktop/PaperData//Imaging/PAR-2...</td>\n",
       "      <td>1580292449</td>\n",
       "      <td>lp637</td>\n",
       "      <td>200129</td>\n",
       "      <td>wt</td>\n",
       "    </tr>\n",
       "    <tr>\n",
       "      <th>3</th>\n",
       "      <td>/Users/blandt/Desktop/PaperData//Imaging/PAR-2...</td>\n",
       "      <td>1580292501</td>\n",
       "      <td>lp637</td>\n",
       "      <td>200129</td>\n",
       "      <td>wt</td>\n",
       "    </tr>\n",
       "    <tr>\n",
       "      <th>4</th>\n",
       "      <td>/Users/blandt/Desktop/PaperData//Imaging/PAR-2...</td>\n",
       "      <td>1580292520</td>\n",
       "      <td>lp637</td>\n",
       "      <td>200129</td>\n",
       "      <td>wt</td>\n",
       "    </tr>\n",
       "    <tr>\n",
       "      <th>...</th>\n",
       "      <td>...</td>\n",
       "      <td>...</td>\n",
       "      <td>...</td>\n",
       "      <td>...</td>\n",
       "      <td>...</td>\n",
       "    </tr>\n",
       "    <tr>\n",
       "      <th>664</th>\n",
       "      <td>/Users/blandt/Desktop/PaperData//Imaging/PAR-2...</td>\n",
       "      <td>1662545240</td>\n",
       "      <td>nwg496</td>\n",
       "      <td>220907</td>\n",
       "      <td>wt</td>\n",
       "    </tr>\n",
       "    <tr>\n",
       "      <th>665</th>\n",
       "      <td>/Users/blandt/Desktop/PaperData//Imaging/PAR-2...</td>\n",
       "      <td>1662545908</td>\n",
       "      <td>nwg496</td>\n",
       "      <td>220907</td>\n",
       "      <td>wt</td>\n",
       "    </tr>\n",
       "    <tr>\n",
       "      <th>666</th>\n",
       "      <td>/Users/blandt/Desktop/PaperData//Imaging/PAR-2...</td>\n",
       "      <td>1662546008</td>\n",
       "      <td>nwg496</td>\n",
       "      <td>220907</td>\n",
       "      <td>wt</td>\n",
       "    </tr>\n",
       "    <tr>\n",
       "      <th>667</th>\n",
       "      <td>/Users/blandt/Desktop/PaperData//Imaging/PAR-2...</td>\n",
       "      <td>1662546125</td>\n",
       "      <td>nwg496</td>\n",
       "      <td>220907</td>\n",
       "      <td>wt</td>\n",
       "    </tr>\n",
       "    <tr>\n",
       "      <th>668</th>\n",
       "      <td>/Users/blandt/Desktop/PaperData//Imaging/PAR-2...</td>\n",
       "      <td>1662546326</td>\n",
       "      <td>nwg496</td>\n",
       "      <td>220907</td>\n",
       "      <td>wt</td>\n",
       "    </tr>\n",
       "  </tbody>\n",
       "</table>\n",
       "<p>669 rows × 5 columns</p>\n",
       "</div>"
      ],
      "text/plain": [
       "                                                  Path    EmbryoID    Line  \\\n",
       "0    /Users/blandt/Desktop/PaperData//Imaging/PAR-2...  1580292350   lp637   \n",
       "1    /Users/blandt/Desktop/PaperData//Imaging/PAR-2...  1580292382   lp637   \n",
       "2    /Users/blandt/Desktop/PaperData//Imaging/PAR-2...  1580292449   lp637   \n",
       "3    /Users/blandt/Desktop/PaperData//Imaging/PAR-2...  1580292501   lp637   \n",
       "4    /Users/blandt/Desktop/PaperData//Imaging/PAR-2...  1580292520   lp637   \n",
       "..                                                 ...         ...     ...   \n",
       "664  /Users/blandt/Desktop/PaperData//Imaging/PAR-2...  1662545240  nwg496   \n",
       "665  /Users/blandt/Desktop/PaperData//Imaging/PAR-2...  1662545908  nwg496   \n",
       "666  /Users/blandt/Desktop/PaperData//Imaging/PAR-2...  1662546008  nwg496   \n",
       "667  /Users/blandt/Desktop/PaperData//Imaging/PAR-2...  1662546125  nwg496   \n",
       "668  /Users/blandt/Desktop/PaperData//Imaging/PAR-2...  1662546326  nwg496   \n",
       "\n",
       "       Date RNAi  \n",
       "0    200129   wt  \n",
       "1    200129   wt  \n",
       "2    200129   wt  \n",
       "3    200129   wt  \n",
       "4    200129   wt  \n",
       "..      ...  ...  \n",
       "664  220907   wt  \n",
       "665  220907   wt  \n",
       "666  220907   wt  \n",
       "667  220907   wt  \n",
       "668  220907   wt  \n",
       "\n",
       "[669 rows x 5 columns]"
      ]
     },
     "execution_count": 55,
     "metadata": {},
     "output_type": "execute_result"
    }
   ],
   "source": [
    "df = df.sort_values(by='EmbryoID')\n",
    "df.reset_index(inplace=True, drop=True)\n",
    "df"
   ]
  },
  {
   "cell_type": "markdown",
   "metadata": {},
   "source": [
    "### Save"
   ]
  },
  {
   "cell_type": "code",
   "execution_count": 56,
   "metadata": {
    "execution": {
     "iopub.execute_input": "2023-01-27T13:52:57.879028Z",
     "iopub.status.busy": "2023-01-27T13:52:57.878263Z",
     "iopub.status.idle": "2023-01-27T13:52:57.890029Z",
     "shell.execute_reply": "2023-01-27T13:52:57.890737Z"
    }
   },
   "outputs": [],
   "source": [
    "df.to_csv('../../../data/Par2_NEBD_Embryos_dataframe.csv')"
   ]
  },
  {
   "cell_type": "code",
   "execution_count": null,
   "metadata": {},
   "outputs": [],
   "source": []
  }
 ],
 "metadata": {
  "kernelspec": {
   "display_name": "Python 3",
   "language": "python",
   "name": "python3"
  },
  "language_info": {
   "codemirror_mode": {
    "name": "ipython",
    "version": 3
   },
   "file_extension": ".py",
   "mimetype": "text/x-python",
   "name": "python",
   "nbconvert_exporter": "python",
   "pygments_lexer": "ipython3",
   "version": "3.7.12"
  }
 },
 "nbformat": 4,
 "nbformat_minor": 4
}
