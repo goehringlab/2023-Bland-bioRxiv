{
 "cells": [
  {
   "cell_type": "code",
   "execution_count": 1,
   "metadata": {
    "execution": {
     "iopub.execute_input": "2024-05-17T13:16:19.267006Z",
     "iopub.status.busy": "2024-05-17T13:16:19.266678Z",
     "iopub.status.idle": "2024-05-17T13:16:21.214314Z",
     "shell.execute_reply": "2024-05-17T13:16:21.213330Z"
    }
   },
   "outputs": [],
   "source": [
    "import os\n",
    "\n",
    "import matplotlib.pyplot as plt\n",
    "import matplotlib.transforms as transforms\n",
    "import pandas as pd\n",
    "\n",
    "from src import (\n",
    "    add_stats_table_row,\n",
    "    bootstrap_effect_size_pd,\n",
    "    bounded_mean_1d,\n",
    "    dataplot,\n",
    "    lighten,\n",
    "    nb_setup,\n",
    ")\n",
    "\n",
    "nb_setup()\n",
    "os.makedirs(\"Figs\", exist_ok=True)\n",
    "\n",
    "%matplotlib inline"
   ]
  },
  {
   "cell_type": "markdown",
   "metadata": {},
   "source": [
    "### Quantification"
   ]
  },
  {
   "cell_type": "code",
   "execution_count": 2,
   "metadata": {
    "execution": {
     "iopub.execute_input": "2024-05-17T13:16:21.220107Z",
     "iopub.status.busy": "2024-05-17T13:16:21.219738Z",
     "iopub.status.idle": "2024-05-17T13:16:21.440758Z",
     "shell.execute_reply": "2024-05-17T13:16:21.439187Z"
    }
   },
   "outputs": [],
   "source": [
    "# Import data\n",
    "df = pd.read_csv(\"../../../data/par2_nebd_embryos.csv\")\n",
    "df_quantification = pd.read_csv(\"../../../data/par2_nebd_quantification.csv\")\n",
    "\n",
    "# Filter relevant data\n",
    "lines = [\"lp637\", \"nwg374\"]\n",
    "df = df[\n",
    "    ((df.Line == \"lp637\") & (df.RNAi == \"wt\"))\n",
    "    | ((df.Line == \"nwg374\") & (df.RNAi.str.contains(\"pkc\")))\n",
    "]\n",
    "df_quantification = df_quantification[df_quantification.EmbryoID.isin(df.EmbryoID)]\n",
    "\n",
    "\n",
    "# Summary quantification\n",
    "def calculate_summary(group):\n",
    "    cyt = group[\"Cytoplasmic signal\"].mean()\n",
    "    mem_tot = group[\"Membrane signal\"].mean()\n",
    "    mem_ant = bounded_mean_1d(group[\"Membrane signal\"], [0.4, 0.6])\n",
    "    mem_post = bounded_mean_1d(group[\"Membrane signal\"], [0.9, 0.1])\n",
    "    ratio_post = mem_post / cyt\n",
    "    return pd.Series(\n",
    "        {\n",
    "            \"Cyt\": cyt,\n",
    "            \"Mem_tot\": mem_tot,\n",
    "            \"Mem_ant\": mem_ant,\n",
    "            \"Mem_post\": mem_post,\n",
    "            \"Ratio post\": ratio_post,\n",
    "        }\n",
    "    )\n",
    "\n",
    "\n",
    "df_summary = df_quantification.groupby(\"EmbryoID\").apply(calculate_summary)\n",
    "df = pd.merge(df, df_summary, on=\"EmbryoID\")\n",
    "\n",
    "# Add columns\n",
    "df[\"UniPol\"] = df.Line.apply(lambda x: \"Pol\" if x == \"lp637\" else \"Uni\")"
   ]
  },
  {
   "cell_type": "code",
   "execution_count": 3,
   "metadata": {
    "execution": {
     "iopub.execute_input": "2024-05-17T13:16:21.444115Z",
     "iopub.status.busy": "2024-05-17T13:16:21.443839Z",
     "iopub.status.idle": "2024-05-17T13:16:22.024199Z",
     "shell.execute_reply": "2024-05-17T13:16:22.022902Z"
    }
   },
   "outputs": [
    {
     "data": {
      "image/png": "[encoded data removed]",
      "text/plain": [
       "<Figure size 300x375 with 1 Axes>"
      ]
     },
     "metadata": {},
     "output_type": "display_data"
    }
   ],
   "source": [
    "# Set up figure\n",
    "fig, ax = plt.subplots()\n",
    "fig.set_size_inches(2, 2.5)\n",
    "offset = lambda p: transforms.ScaledTranslation(p / 72.0, 0, plt.gcf().dpi_scale_trans)\n",
    "trans = plt.gca().transData\n",
    "\n",
    "# Plot data\n",
    "dataplot(\n",
    "    data=df,\n",
    "    x=\"UniPol\",\n",
    "    y=\"Ratio post\",\n",
    "    ax=ax,\n",
    "    order=[\"Pol\", \"Uni\"],\n",
    "    transform=trans + offset(0),\n",
    "    linewidth=0.5,\n",
    "    offset=0,\n",
    "    width=0.5,\n",
    "    hue=\"Line\",\n",
    "    palette={\"lp637\": \"tab:blue\", \"nwg374\": lighten(\"tab:purple\", 1.2)},\n",
    ")\n",
    "\n",
    "# Finalise plot\n",
    "ax.set_xticklabels([\"PAR-2(WT)\", \"PAR-2(S241A)\\n\" + r\"$pkc$\" + \"-\" + r\"$3 RNAi$\"])\n",
    "ax.get_legend().remove()\n",
    "ax.tick_params(axis=\"both\", labelsize=7)\n",
    "ax.set_xlabel(\"\")\n",
    "ax.set_ylim(0, 30)\n",
    "ax.set_ylabel(\"Posterior M:C ratio\", fontsize=9)\n",
    "fig.set_size_inches(2, 2.5)\n",
    "fig.subplots_adjust(left=0.25, bottom=0.2)\n",
    "fig.savefig(\"Figs/s241a.png\", dpi=600, transparent=True)\n",
    "fig.savefig(\"Figs/s241a.pdf\", transparent=True)"
   ]
  },
  {
   "cell_type": "code",
   "execution_count": 4,
   "metadata": {
    "execution": {
     "iopub.execute_input": "2024-05-17T13:16:22.027461Z",
     "iopub.status.busy": "2024-05-17T13:16:22.027166Z",
     "iopub.status.idle": "2024-05-17T13:16:22.736008Z",
     "shell.execute_reply": "2024-05-17T13:16:22.735031Z"
    }
   },
   "outputs": [],
   "source": [
    "# Effect size\n",
    "es, pr, ss = bootstrap_effect_size_pd(\n",
    "    data=df, x=\"UniPol\", y=\"Ratio post\", a=\"Pol\", b=\"Uni\"\n",
    ")\n",
    "add_stats_table_row(\n",
    "    figure=\"EV1\",\n",
    "    panel=\"A\",\n",
    "    sample_a=\"PAR-2(WT)\",\n",
    "    sample_b=\"PAR-2(S241A); pkc-3 RNAi\",\n",
    "    measure=\"Posterior M:C ratio (mean)\",\n",
    "    effect_size=es,\n",
    "    probability_distribution=pr,\n",
    "    sample_size=ss,\n",
    "    key=\"csM3BYhk4n\",\n",
    ")"
   ]
  }
 ],
 "metadata": {
  "kernelspec": {
   "display_name": "Python 3",
   "language": "python",
   "name": "python3"
  },
  "language_info": {
   "codemirror_mode": {
    "name": "ipython",
    "version": 3
   },
   "file_extension": ".py",
   "mimetype": "text/x-python",
   "name": "python",
   "nbconvert_exporter": "python",
   "pygments_lexer": "ipython3",
   "version": "3.11.6"
  },
  "vscode": {
   "interpreter": {
    "hash": "e3dc3871f4e194b0e5205f2056eb037c91cfe60a6f5484f031ab0dd7212226df"
   }
  }
 },
 "nbformat": 4,
 "nbformat_minor": 4
}
