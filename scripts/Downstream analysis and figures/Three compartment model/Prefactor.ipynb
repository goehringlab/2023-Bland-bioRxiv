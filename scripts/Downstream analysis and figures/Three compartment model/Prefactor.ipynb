{
 "cells": [
  {
   "cell_type": "code",
   "execution_count": 1,
   "metadata": {},
   "outputs": [],
   "source": [
    "import numpy as np"
   ]
  },
  {
   "cell_type": "code",
   "execution_count": 2,
   "metadata": {},
   "outputs": [],
   "source": [
    "km = 10 ** 2.395638551785585  # determined by model fit\n",
    "ka = 10 ** 6.7447274949  # determined by AUC\n",
    "koff = 7.3e-3  # Goehring 2011a"
   ]
  },
  {
   "cell_type": "code",
   "execution_count": 3,
   "metadata": {},
   "outputs": [
    {
     "name": "stdout",
     "output_type": "stream",
     "text": [
      "4.77568e-05\n"
     ]
    }
   ],
   "source": [
    "D = 0.005  # cortical thickness\n",
    "cc = 1.04e-8  # wt cytoplasmic concentration (Gross)\n",
    "norm_mem = 22.96  # normalised membrane concentration (me)\n",
    "cm = cc * norm_mem / D \n",
    "print(cm)"
   ]
  },
  {
   "cell_type": "code",
   "execution_count": 4,
   "metadata": {},
   "outputs": [
    {
     "name": "stdout",
     "output_type": "stream",
     "text": [
      "43.12081770456273\n"
     ]
    }
   ],
   "source": [
    "# See paper methods\n",
    "pf = koff * np.sqrt(2 * ka * cm + np.sqrt(4 * ka * cm + 1) + 1) * km\n",
    "print(pf)"
   ]
  },
  {
   "cell_type": "code",
   "execution_count": null,
   "metadata": {},
   "outputs": [],
   "source": []
  },
  {
   "cell_type": "code",
   "execution_count": null,
   "metadata": {},
   "outputs": [],
   "source": []
  }
 ],
 "metadata": {
  "kernelspec": {
   "display_name": "Python 3",
   "language": "python",
   "name": "python3"
  },
  "language_info": {
   "codemirror_mode": {
    "name": "ipython",
    "version": 3
   },
   "file_extension": ".py",
   "mimetype": "text/x-python",
   "name": "python",
   "nbconvert_exporter": "python",
   "pygments_lexer": "ipython3",
   "version": "3.7.9"
  }
 },
 "nbformat": 4,
 "nbformat_minor": 4
}
