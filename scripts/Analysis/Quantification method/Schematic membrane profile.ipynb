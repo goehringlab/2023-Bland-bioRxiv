{
 "cells": [
  {
   "cell_type": "code",
   "execution_count": 1,
   "metadata": {},
   "outputs": [],
   "source": [
    "import sys, os\n",
    "import numpy as np\n",
    "import matplotlib.pyplot as plt\n",
    "sys.path.append('../../..')\n",
    "from src import error_func, gaus\n",
    "%matplotlib widget\n",
    "\n",
    "if not os.path.exists('Figs'):\n",
    "    os.mkdir('Figs')"
   ]
  },
  {
   "cell_type": "code",
   "execution_count": 7,
   "metadata": {},
   "outputs": [
    {
     "data": {
      "application/vnd.jupyter.widget-view+json": {
       "model_id": "6be2097b832740358d98446fe95d7af3",
       "version_major": 2,
       "version_minor": 0
      },
      "image/png": "[encoded data removed]",
      "text/html": [
       "\n",
       "            <div style=\"display: inline-block;\">\n",
       "                <div class=\"jupyter-widgets widget-label\" style=\"text-align: center;\">\n",
       "                    Figure\n",
       "                </div>\n",
       "                <img src='data:image/png;base64,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' width=120.0/>\n",
       "            </div>\n",
       "        "
      ],
      "text/plain": [
       "Canvas(toolbar=Toolbar(toolitems=[('Home', 'Reset original view', 'home', 'home'), ('Back', 'Back to previous …"
      ]
     },
     "metadata": {},
     "output_type": "display_data"
    }
   ],
   "source": [
    "x = np.arange(0, 50)\n",
    "mem_ref = gaus(x, 25, 3) + 0.1 * error_func(x, 25, 5) + 0.1 #+ np.arange(0, 50) / 500\n",
    "mem_ref /= max(mem_ref)\n",
    "\n",
    "fig, ax = plt.subplots()\n",
    "ax.plot(x, mem_ref)\n",
    "ax.set_xticks([])\n",
    "ax.set_yticks([])\n",
    "ax.set_ylim([-0.02, 1.1])\n",
    "ax.set_xlabel('Position', fontsize=10)\n",
    "ax.set_ylabel('Signal', fontsize=10)\n",
    "fig.set_size_inches(1.2,1.2)\n",
    "fig.tight_layout()\n",
    "fig.savefig('Figs/toy_profile2.png', dpi=600, transparent=True)"
   ]
  },
  {
   "cell_type": "code",
   "execution_count": 8,
   "metadata": {},
   "outputs": [
    {
     "data": {
      "application/vnd.jupyter.widget-view+json": {
       "model_id": "0ab9ad4477e84f008babd7a3dcae196a",
       "version_major": 2,
       "version_minor": 0
      },
      "image/png": "[encoded data removed]",
      "text/html": [
       "\n",
       "            <div style=\"display: inline-block;\">\n",
       "                <div class=\"jupyter-widgets widget-label\" style=\"text-align: center;\">\n",
       "                    Figure\n",
       "                </div>\n",
       "                <img src='data:image/png;base64,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' width=120.0/>\n",
       "            </div>\n",
       "        "
      ],
      "text/plain": [
       "Canvas(toolbar=Toolbar(toolitems=[('Home', 'Reset original view', 'home', 'home'), ('Back', 'Back to previous …"
      ]
     },
     "metadata": {},
     "output_type": "display_data"
    }
   ],
   "source": [
    "x = np.arange(0, 50)\n",
    "mem_ref = gaus(x, 25, 3)\n",
    "mem_ref /= max(mem_ref)\n",
    "\n",
    "fig, ax = plt.subplots()\n",
    "ax.plot(x, mem_ref)\n",
    "ax.set_xticks([])\n",
    "ax.set_yticks([])\n",
    "ax.set_ylim([-0.02, 1.1])\n",
    "ax.set_xlabel('Position', fontsize=10)\n",
    "ax.set_ylabel('Signal', fontsize=10)\n",
    "fig.set_size_inches(1.2,1.2)\n",
    "fig.tight_layout()\n",
    "fig.savefig('Figs/toy_profile1.png', dpi=600, transparent=True)"
   ]
  },
  {
   "cell_type": "code",
   "execution_count": null,
   "metadata": {},
   "outputs": [],
   "source": []
  },
  {
   "cell_type": "code",
   "execution_count": null,
   "metadata": {},
   "outputs": [],
   "source": []
  },
  {
   "cell_type": "code",
   "execution_count": null,
   "metadata": {},
   "outputs": [],
   "source": []
  }
 ],
 "metadata": {
  "kernelspec": {
   "display_name": "Python 3",
   "language": "python",
   "name": "python3"
  },
  "language_info": {
   "codemirror_mode": {
    "name": "ipython",
    "version": 3
   },
   "file_extension": ".py",
   "mimetype": "text/x-python",
   "name": "python",
   "nbconvert_exporter": "python",
   "pygments_lexer": "ipython3",
   "version": "3.7.9"
  }
 },
 "nbformat": 4,
 "nbformat_minor": 4
}
