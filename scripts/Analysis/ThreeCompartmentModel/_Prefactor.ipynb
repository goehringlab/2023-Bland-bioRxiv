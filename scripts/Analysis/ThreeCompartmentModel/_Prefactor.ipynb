{
 "cells": [
  {
   "cell_type": "code",
   "execution_count": 1,
   "metadata": {
    "execution": {
     "iopub.execute_input": "2024-05-17T13:19:35.884145Z",
     "iopub.status.busy": "2024-05-17T13:19:35.883818Z",
     "iopub.status.idle": "2024-05-17T13:19:35.969963Z",
     "shell.execute_reply": "2024-05-17T13:19:35.969374Z"
    }
   },
   "outputs": [],
   "source": [
    "import numpy as np"
   ]
  },
  {
   "cell_type": "code",
   "execution_count": 2,
   "metadata": {
    "execution": {
     "iopub.execute_input": "2024-05-17T13:19:35.975286Z",
     "iopub.status.busy": "2024-05-17T13:19:35.974171Z",
     "iopub.status.idle": "2024-05-17T13:19:35.988645Z",
     "shell.execute_reply": "2024-05-17T13:19:35.987087Z"
    }
   },
   "outputs": [
    {
     "name": "stdout",
     "output_type": "stream",
     "text": [
      "2.4269477683924467\n",
      "3.580964371026362e-07\n"
     ]
    }
   ],
   "source": [
    "km = 10 ** np.loadtxt(\"../DimerModelFitting/log10_km_wt.txt\")  # determined by model fit (membrane association constant)\n",
    "print(np.loadtxt(\"../DimerModelFitting/log10_km_wt.txt\"))  # unitless\n",
    "ka = 10**6.446  # determined by AUC (dimer association constant)\n",
    "print(1 / ka)  # molar\n",
    "koff = 7.3e-3  # Goehring 2011a"
   ]
  },
  {
   "cell_type": "code",
   "execution_count": 3,
   "metadata": {
    "execution": {
     "iopub.execute_input": "2024-05-17T13:19:35.993361Z",
     "iopub.status.busy": "2024-05-17T13:19:35.992767Z",
     "iopub.status.idle": "2024-05-17T13:19:35.998490Z",
     "shell.execute_reply": "2024-05-17T13:19:35.997502Z"
    }
   },
   "outputs": [
    {
     "name": "stdout",
     "output_type": "stream",
     "text": [
      "4.7631999999999994e-05\n"
     ]
    }
   ],
   "source": [
    "D = 0.005  # cortical thickness (um)\n",
    "cc = 1.04e-8  # wt cytoplasmic concentration (Gross)\n",
    "norm_mem = 22.90  # normalised membrane concentration (me)\n",
    "cm = cc * norm_mem / D\n",
    "print(cm)  # molar"
   ]
  },
  {
   "cell_type": "code",
   "execution_count": 4,
   "metadata": {
    "execution": {
     "iopub.execute_input": "2024-05-17T13:19:36.002039Z",
     "iopub.status.busy": "2024-05-17T13:19:36.001259Z",
     "iopub.status.idle": "2024-05-17T13:19:36.015831Z",
     "shell.execute_reply": "2024-05-17T13:19:36.015006Z"
    }
   },
   "outputs": [
    {
     "name": "stdout",
     "output_type": "stream",
     "text": [
      "46.40463670197801\n"
     ]
    }
   ],
   "source": [
    "# See paper methods\n",
    "pf = koff * np.sqrt(4 * ka * cm + np.sqrt(8 * ka * cm + 1) + 1) * km\n",
    "print(pf)  # M s^-1\n",
    "np.savetxt(\"pf.txt\", [pf])"
   ]
  },
  {
   "cell_type": "code",
   "execution_count": 5,
   "metadata": {
    "execution": {
     "iopub.execute_input": "2024-05-17T13:19:36.019723Z",
     "iopub.status.busy": "2024-05-17T13:19:36.019280Z",
     "iopub.status.idle": "2024-05-17T13:19:36.024200Z",
     "shell.execute_reply": "2024-05-17T13:19:36.023401Z"
    }
   },
   "outputs": [],
   "source": [
    "def koff(m, km, ka, pf):\n",
    "    return pf / (km * np.sqrt(1 + 4 * m * ka + np.sqrt(1 + 8 * m * ka)))"
   ]
  },
  {
   "cell_type": "code",
   "execution_count": 6,
   "metadata": {
    "execution": {
     "iopub.execute_input": "2024-05-17T13:19:36.027517Z",
     "iopub.status.busy": "2024-05-17T13:19:36.027223Z",
     "iopub.status.idle": "2024-05-17T13:19:36.031614Z",
     "shell.execute_reply": "2024-05-17T13:19:36.030778Z"
    }
   },
   "outputs": [
    {
     "name": "stdout",
     "output_type": "stream",
     "text": [
      "0.0073\n"
     ]
    }
   ],
   "source": [
    "print(koff(cm, km, ka, pf))"
   ]
  }
 ],
 "metadata": {
  "kernelspec": {
   "display_name": "Python 3",
   "language": "python",
   "name": "python3"
  },
  "language_info": {
   "codemirror_mode": {
    "name": "ipython",
    "version": 3
   },
   "file_extension": ".py",
   "mimetype": "text/x-python",
   "name": "python",
   "nbconvert_exporter": "python",
   "pygments_lexer": "ipython3",
   "version": "3.11.6"
  },
  "vscode": {
   "interpreter": {
    "hash": "e3dc3871f4e194b0e5205f2056eb037c91cfe60a6f5484f031ab0dd7212226df"
   }
  }
 },
 "nbformat": 4,
 "nbformat_minor": 4
}
