{
 "cells": [
  {
   "cell_type": "code",
   "execution_count": 1,
   "metadata": {
    "execution": {
     "iopub.execute_input": "2023-11-18T11:31:18.728518Z",
     "iopub.status.busy": "2023-11-18T11:31:18.727927Z",
     "iopub.status.idle": "2023-11-18T11:31:25.465241Z",
     "shell.execute_reply": "2023-11-18T11:31:25.464289Z"
    }
   },
   "outputs": [],
   "source": [
    "import sys\n",
    "import numpy as np\n",
    "import matplotlib.pyplot as plt\n",
    "import pandas as pd\n",
    "import xml.etree.ElementTree as ET\n",
    "sys.path.append('../../..')\n",
    "from src import raw_data_path\n",
    "%matplotlib inline\n",
    "import matplotlib as mpl\n",
    "mpl.rcParams['figure.dpi']= 150"
   ]
  },
  {
   "cell_type": "code",
   "execution_count": 2,
   "metadata": {
    "execution": {
     "iopub.execute_input": "2023-11-18T11:31:25.469281Z",
     "iopub.status.busy": "2023-11-18T11:31:25.468586Z",
     "iopub.status.idle": "2023-11-18T11:31:25.475541Z",
     "shell.execute_reply": "2023-11-18T11:31:25.474911Z"
    }
   },
   "outputs": [],
   "source": [
    "def get_results(path_to_xml, input_concentration):\n",
    "    tree = ET.parse(path_to_xml)\n",
    "    _dfs = []\n",
    "    for a in tree.findall(\"{http://www.wyatt.com/schemas/ExperimentReport}results\"):\n",
    "        for b in a:\n",
    "            # Get mass measurements\n",
    "            if b.attrib[\"type\"] == \"molar mass\":\n",
    "                res = {}\n",
    "                res[\"measurement_type\"] = b[0].text\n",
    "                if b[1].text != \"n/a\":\n",
    "                    res[\"mass\"] = float(b[1].text)\n",
    "                else:\n",
    "                    res[\"mass\"] = np.nan\n",
    "                if \"uncertainty\" in b[1].attrib:\n",
    "                    res[\"uncertainty\"] = float(b[1].attrib[\"uncertainty\"])\n",
    "                else:\n",
    "                    res[\"uncertainty\"] = np.nan\n",
    "                _dfs.append(pd.DataFrame(res, index=[0]))\n",
    "\n",
    "            # Get concentration\n",
    "            if b.attrib[\"type\"] == \"concentration\":\n",
    "                ave_conc = float(b[1].text)\n",
    "\n",
    "            # Get total mass\n",
    "            if b.attrib[\"type\"] == \"mass\":\n",
    "                if b[0].text == \"Calculated Mass\":\n",
    "                    total_mass = float(b[1].text)\n",
    "\n",
    "    df = pd.concat(_dfs, axis=0, ignore_index=True)\n",
    "    df[\"input_concentration\"] = input_concentration\n",
    "    return df"
   ]
  },
  {
   "cell_type": "markdown",
   "metadata": {},
   "source": [
    "### Wild type"
   ]
  },
  {
   "cell_type": "code",
   "execution_count": 3,
   "metadata": {
    "execution": {
     "iopub.execute_input": "2023-11-18T11:31:25.478405Z",
     "iopub.status.busy": "2023-11-18T11:31:25.478143Z",
     "iopub.status.idle": "2023-11-18T11:31:25.509118Z",
     "shell.execute_reply": "2023-11-18T11:31:25.508270Z"
    }
   },
   "outputs": [],
   "source": [
    "res500 = get_results(\n",
    "    raw_data_path + \"SEC MALS/xml/ASTRA 6 Report 20220128_Par2Ring_WT_S75_500ugml.xml\",\n",
    "    500,\n",
    ")\n",
    "res750 = get_results(\n",
    "    raw_data_path + \"SEC MALS/xml/ASTRA 6 Report 20220128_Par2Ring_WT_S75_750ugml.xml\",\n",
    "    750,\n",
    ")\n",
    "res2000 = get_results(\n",
    "    raw_data_path + \"SEC MALS/xml/ASTRA 6 Report 20210927_Par2Ring_WT_S75_2mgml.xml\",\n",
    "    2000,\n",
    ")\n",
    "res5000 = get_results(\n",
    "    raw_data_path + \"SEC MALS/xml/ASTRA 6 Report 20210924_Par2Ring_WT_S75_5mgml.xml\",\n",
    "    5000,\n",
    ")\n",
    "res10000 = get_results(\n",
    "    raw_data_path + \"SEC MALS/xml/ASTRA 6 Report 20220131_Par2Ring_WT_S75_10mgml.xml\",\n",
    "    10000,\n",
    ")\n",
    "full_res = pd.concat([res500, res750, res2000, res5000, res10000])"
   ]
  },
  {
   "cell_type": "code",
   "execution_count": 4,
   "metadata": {
    "execution": {
     "iopub.execute_input": "2023-11-18T11:31:25.512266Z",
     "iopub.status.busy": "2023-11-18T11:31:25.512032Z",
     "iopub.status.idle": "2023-11-18T11:31:25.514915Z",
     "shell.execute_reply": "2023-11-18T11:31:25.514426Z"
    }
   },
   "outputs": [],
   "source": [
    "# full_res"
   ]
  },
  {
   "cell_type": "code",
   "execution_count": 5,
   "metadata": {
    "execution": {
     "iopub.execute_input": "2023-11-18T11:31:25.517712Z",
     "iopub.status.busy": "2023-11-18T11:31:25.517474Z",
     "iopub.status.idle": "2023-11-18T11:31:25.523400Z",
     "shell.execute_reply": "2023-11-18T11:31:25.522885Z"
    }
   },
   "outputs": [],
   "source": [
    "full_res.to_csv(\"mass_measurements_titration.csv\")"
   ]
  },
  {
   "cell_type": "markdown",
   "metadata": {},
   "source": [
    "### Plot titration"
   ]
  },
  {
   "cell_type": "code",
   "execution_count": 6,
   "metadata": {
    "execution": {
     "iopub.execute_input": "2023-11-18T11:31:25.526292Z",
     "iopub.status.busy": "2023-11-18T11:31:25.526066Z",
     "iopub.status.idle": "2023-11-18T11:31:25.528758Z",
     "shell.execute_reply": "2023-11-18T11:31:25.528284Z"
    }
   },
   "outputs": [],
   "source": [
    "# import seaborn as sns\n",
    "\n",
    "# fig, ax = plt.subplots()\n",
    "# sns.scatterplot(data=full_res, x='input_concentration', y='mass', hue='measurement_type')"
   ]
  },
  {
   "cell_type": "code",
   "execution_count": 7,
   "metadata": {
    "execution": {
     "iopub.execute_input": "2023-11-18T11:31:25.531297Z",
     "iopub.status.busy": "2023-11-18T11:31:25.531091Z",
     "iopub.status.idle": "2023-11-18T11:31:25.533985Z",
     "shell.execute_reply": "2023-11-18T11:31:25.533411Z"
    }
   },
   "outputs": [],
   "source": [
    "# res_sample = full_res[full_res['measurement_type'] == 'Mw']\n",
    "\n",
    "# fig, ax = plt.subplots()\n",
    "# ax.scatter(res_sample['input_concentration'], res_sample['mass'])\n",
    "# ax.errorbar(res_sample['input_concentration'], res_sample['mass'], yerr=res_sample['uncertainty'])"
   ]
  },
  {
   "cell_type": "markdown",
   "metadata": {},
   "source": [
    "### L109R"
   ]
  },
  {
   "cell_type": "code",
   "execution_count": 8,
   "metadata": {
    "execution": {
     "iopub.execute_input": "2023-11-18T11:31:25.536515Z",
     "iopub.status.busy": "2023-11-18T11:31:25.536294Z",
     "iopub.status.idle": "2023-11-18T11:31:25.544689Z",
     "shell.execute_reply": "2023-11-18T11:31:25.543812Z"
    }
   },
   "outputs": [],
   "source": [
    "res750_L109R = get_results(\n",
    "    raw_data_path + \"SEC MALS/xml/ASTRA 6 Report 20210924_Par2Ring_L109R_S75_test.xml\",\n",
    "    750,\n",
    ")\n",
    "full_res_L109R = res750_L109R\n",
    "full_res_L109R.to_csv(\"mass_measurements_L109R.csv\")"
   ]
  },
  {
   "cell_type": "code",
   "execution_count": null,
   "metadata": {},
   "outputs": [],
   "source": []
  }
 ],
 "metadata": {
  "kernelspec": {
   "display_name": "Python 3",
   "language": "python",
   "name": "python3"
  },
  "language_info": {
   "codemirror_mode": {
    "name": "ipython",
    "version": 3
   },
   "file_extension": ".py",
   "mimetype": "text/x-python",
   "name": "python",
   "nbconvert_exporter": "python",
   "pygments_lexer": "ipython3",
   "version": "3.11.6"
  }
 },
 "nbformat": 4,
 "nbformat_minor": 4
}
