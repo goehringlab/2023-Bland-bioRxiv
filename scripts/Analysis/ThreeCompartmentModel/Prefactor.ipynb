{
 "cells": [
  {
   "cell_type": "code",
   "execution_count": 1,
   "metadata": {
    "execution": {
     "iopub.execute_input": "2023-08-03T16:32:57.040582Z",
     "iopub.status.busy": "2023-08-03T16:32:57.040189Z",
     "iopub.status.idle": "2023-08-03T16:32:57.560794Z",
     "shell.execute_reply": "2023-08-03T16:32:57.559741Z"
    }
   },
   "outputs": [],
   "source": [
    "import numpy as np"
   ]
  },
  {
   "cell_type": "code",
   "execution_count": 2,
   "metadata": {
    "execution": {
     "iopub.execute_input": "2023-08-03T16:32:57.569093Z",
     "iopub.status.busy": "2023-08-03T16:32:57.568600Z",
     "iopub.status.idle": "2023-08-03T16:32:57.575291Z",
     "shell.execute_reply": "2023-08-03T16:32:57.574245Z"
    }
   },
   "outputs": [
    {
     "name": "stdout",
     "output_type": "stream",
     "text": [
      "3.580964371026362e-07\n"
     ]
    }
   ],
   "source": [
    "km = 10 ** 2.3946427028334076 # determined by model fit\n",
    "ka = 10 ** 6.446  # determined by AUC\n",
    "print(1/ka)\n",
    "koff = 7.3e-3  # Goehring 2011a"
   ]
  },
  {
   "cell_type": "code",
   "execution_count": 3,
   "metadata": {
    "execution": {
     "iopub.execute_input": "2023-08-03T16:32:57.583564Z",
     "iopub.status.busy": "2023-08-03T16:32:57.583111Z",
     "iopub.status.idle": "2023-08-03T16:32:57.592583Z",
     "shell.execute_reply": "2023-08-03T16:32:57.591235Z"
    }
   },
   "outputs": [
    {
     "name": "stdout",
     "output_type": "stream",
     "text": [
      "4.7631999999999994e-05\n"
     ]
    }
   ],
   "source": [
    "D = 0.005  # cortical thickness\n",
    "cc = 1.04e-8  # wt cytoplasmic concentration (Gross)\n",
    "norm_mem = 22.90  # normalised membrane concentration (me)\n",
    "cm = cc * norm_mem / D \n",
    "print(cm)"
   ]
  },
  {
   "cell_type": "code",
   "execution_count": 4,
   "metadata": {
    "execution": {
     "iopub.execute_input": "2023-08-03T16:32:57.607482Z",
     "iopub.status.busy": "2023-08-03T16:32:57.605708Z",
     "iopub.status.idle": "2023-08-03T16:32:57.619038Z",
     "shell.execute_reply": "2023-08-03T16:32:57.617252Z"
    }
   },
   "outputs": [
    {
     "name": "stdout",
     "output_type": "stream",
     "text": [
      "43.078077317410866\n"
     ]
    }
   ],
   "source": [
    "# See paper methods\n",
    "pf = koff * np.sqrt(4 * ka * cm + np.sqrt(8 * ka * cm + 1) + 1) * km\n",
    "print(pf)"
   ]
  },
  {
   "cell_type": "code",
   "execution_count": 5,
   "metadata": {
    "execution": {
     "iopub.execute_input": "2023-08-03T16:32:57.625789Z",
     "iopub.status.busy": "2023-08-03T16:32:57.624594Z",
     "iopub.status.idle": "2023-08-03T16:32:57.632931Z",
     "shell.execute_reply": "2023-08-03T16:32:57.630875Z"
    }
   },
   "outputs": [],
   "source": [
    "def koff(m, km, ka, pf):\n",
    "    return pf / (km * np.sqrt(1 + 4*m*ka + np.sqrt(1 + 8*m*ka)))"
   ]
  },
  {
   "cell_type": "code",
   "execution_count": 6,
   "metadata": {
    "execution": {
     "iopub.execute_input": "2023-08-03T16:32:57.639625Z",
     "iopub.status.busy": "2023-08-03T16:32:57.638221Z",
     "iopub.status.idle": "2023-08-03T16:32:57.646893Z",
     "shell.execute_reply": "2023-08-03T16:32:57.645301Z"
    }
   },
   "outputs": [
    {
     "name": "stdout",
     "output_type": "stream",
     "text": [
      "0.007300000000000001\n"
     ]
    }
   ],
   "source": [
    "print(koff(cm, km, ka, pf))"
   ]
  }
 ],
 "metadata": {
  "kernelspec": {
   "display_name": "Python 3",
   "language": "python",
   "name": "python3"
  },
  "language_info": {
   "codemirror_mode": {
    "name": "ipython",
    "version": 3
   },
   "file_extension": ".py",
   "mimetype": "text/x-python",
   "name": "python",
   "nbconvert_exporter": "python",
   "pygments_lexer": "ipython3",
   "version": "3.7.12"
  },
  "vscode": {
   "interpreter": {
    "hash": "e3dc3871f4e194b0e5205f2056eb037c91cfe60a6f5484f031ab0dd7212226df"
   }
  }
 },
 "nbformat": 4,
 "nbformat_minor": 4
}
