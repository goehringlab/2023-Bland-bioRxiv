{
 "cells": [
  {
   "cell_type": "code",
   "execution_count": 1,
   "metadata": {
    "execution": {
     "iopub.execute_input": "2023-11-27T21:38:32.176760Z",
     "iopub.status.busy": "2023-11-27T21:38:32.175175Z",
     "iopub.status.idle": "2023-11-27T21:38:32.280560Z",
     "shell.execute_reply": "2023-11-27T21:38:32.278855Z"
    }
   },
   "outputs": [],
   "source": [
    "import numpy as np"
   ]
  },
  {
   "cell_type": "code",
   "execution_count": 2,
   "metadata": {
    "execution": {
     "iopub.execute_input": "2023-11-27T21:38:32.286508Z",
     "iopub.status.busy": "2023-11-27T21:38:32.285638Z",
     "iopub.status.idle": "2023-11-27T21:38:32.291619Z",
     "shell.execute_reply": "2023-11-27T21:38:32.290701Z"
    }
   },
   "outputs": [
    {
     "name": "stdout",
     "output_type": "stream",
     "text": [
      "3.580964371026362e-07\n"
     ]
    }
   ],
   "source": [
    "km = 10**2.3946427028334076  # determined by model fit\n",
    "ka = 10**6.446  # determined by AUC\n",
    "print(1 / ka)\n",
    "koff = 7.3e-3  # Goehring 2011a"
   ]
  },
  {
   "cell_type": "code",
   "execution_count": 3,
   "metadata": {
    "execution": {
     "iopub.execute_input": "2023-11-27T21:38:32.294822Z",
     "iopub.status.busy": "2023-11-27T21:38:32.294441Z",
     "iopub.status.idle": "2023-11-27T21:38:32.299499Z",
     "shell.execute_reply": "2023-11-27T21:38:32.298652Z"
    }
   },
   "outputs": [
    {
     "name": "stdout",
     "output_type": "stream",
     "text": [
      "4.7631999999999994e-05\n"
     ]
    }
   ],
   "source": [
    "D = 0.005  # cortical thickness\n",
    "cc = 1.04e-8  # wt cytoplasmic concentration (Gross)\n",
    "norm_mem = 22.90  # normalised membrane concentration (me)\n",
    "cm = cc * norm_mem / D\n",
    "print(cm)"
   ]
  },
  {
   "cell_type": "code",
   "execution_count": 4,
   "metadata": {
    "execution": {
     "iopub.execute_input": "2023-11-27T21:38:32.302425Z",
     "iopub.status.busy": "2023-11-27T21:38:32.302171Z",
     "iopub.status.idle": "2023-11-27T21:38:32.307166Z",
     "shell.execute_reply": "2023-11-27T21:38:32.306070Z"
    }
   },
   "outputs": [
    {
     "name": "stdout",
     "output_type": "stream",
     "text": [
      "43.078077317410866\n"
     ]
    }
   ],
   "source": [
    "# See paper methods\n",
    "pf = koff * np.sqrt(4 * ka * cm + np.sqrt(8 * ka * cm + 1) + 1) * km\n",
    "print(pf)"
   ]
  },
  {
   "cell_type": "code",
   "execution_count": 5,
   "metadata": {
    "execution": {
     "iopub.execute_input": "2023-11-27T21:38:32.312327Z",
     "iopub.status.busy": "2023-11-27T21:38:32.311875Z",
     "iopub.status.idle": "2023-11-27T21:38:32.319410Z",
     "shell.execute_reply": "2023-11-27T21:38:32.317509Z"
    }
   },
   "outputs": [],
   "source": [
    "def koff(m, km, ka, pf):\n",
    "    return pf / (km * np.sqrt(1 + 4 * m * ka + np.sqrt(1 + 8 * m * ka)))"
   ]
  },
  {
   "cell_type": "code",
   "execution_count": 6,
   "metadata": {
    "execution": {
     "iopub.execute_input": "2023-11-27T21:38:32.324004Z",
     "iopub.status.busy": "2023-11-27T21:38:32.323587Z",
     "iopub.status.idle": "2023-11-27T21:38:32.329093Z",
     "shell.execute_reply": "2023-11-27T21:38:32.327953Z"
    }
   },
   "outputs": [
    {
     "name": "stdout",
     "output_type": "stream",
     "text": [
      "0.007300000000000001\n"
     ]
    }
   ],
   "source": [
    "print(koff(cm, km, ka, pf))"
   ]
  }
 ],
 "metadata": {
  "kernelspec": {
   "display_name": "Python 3",
   "language": "python",
   "name": "python3"
  },
  "language_info": {
   "codemirror_mode": {
    "name": "ipython",
    "version": 3
   },
   "file_extension": ".py",
   "mimetype": "text/x-python",
   "name": "python",
   "nbconvert_exporter": "python",
   "pygments_lexer": "ipython3",
   "version": "3.11.6"
  },
  "vscode": {
   "interpreter": {
    "hash": "e3dc3871f4e194b0e5205f2056eb037c91cfe60a6f5484f031ab0dd7212226df"
   }
  }
 },
 "nbformat": 4,
 "nbformat_minor": 4
}
