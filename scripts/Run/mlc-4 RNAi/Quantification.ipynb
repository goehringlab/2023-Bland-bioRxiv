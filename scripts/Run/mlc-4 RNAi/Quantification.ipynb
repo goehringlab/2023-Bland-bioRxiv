{
 "cells": [
  {
   "cell_type": "code",
   "execution_count": 1,
   "metadata": {},
   "outputs": [],
   "source": [
    "import sys, os, glob\n",
    "import pandas as pd\n",
    "import numpy as np\n",
    "import matplotlib.pyplot as plt\n",
    "sys.path.append('../../..')\n",
    "from src import data_path, direcslist, load_image, ImageQuant2\n",
    "%matplotlib widget"
   ]
  },
  {
   "cell_type": "markdown",
   "metadata": {},
   "source": [
    "### Data paths"
   ]
  },
  {
   "cell_type": "code",
   "execution_count": null,
   "metadata": {},
   "outputs": [],
   "source": [
    "basepath = data_path + 'Imaging/mlc-4'\n",
    "paths = direcslist(basepath, 1)"
   ]
  },
  {
   "cell_type": "markdown",
   "metadata": {},
   "source": [
    "### Extract data from paths"
   ]
  },
  {
   "cell_type": "code",
   "execution_count": null,
   "metadata": {},
   "outputs": [],
   "source": [
    "dates = []\n",
    "lines = []\n",
    "embryo_ids = []\n",
    "for p in paths:\n",
    "    code = p.strip('/').split('/')[-2]\n",
    "    dates.append(code.split('_')[0])\n",
    "    lines.append(code.split('_')[1])\n",
    "    embryo_ids.append(int(os.path.getmtime(glob.glob(p + '/*488 SP 535-50*')[0])))\n",
    "df = pd.DataFrame({'Path': paths, 'EmbryoID': embryo_ids, 'Line': lines, 'Date': dates})\n",
    "df = df[df.Line.isin(['lp637', 'nwg240', 'nwg338', 'nwg376'])]\n",
    "df.to_csv('df.csv')"
   ]
  },
  {
   "cell_type": "markdown",
   "metadata": {},
   "source": [
    "### Segment"
   ]
  },
  {
   "cell_type": "code",
   "execution_count": null,
   "metadata": {},
   "outputs": [],
   "source": [
    "# results = []\n",
    "# for index, row in df.iterrows():\n",
    "#     print(row.Path)\n",
    "    \n",
    "#     # Import movie\n",
    "#     img = load_image(row.Path + '/af_corrected.tif')\n",
    "#     roi = np.loadtxt(row.Path + '/ROI_fit_anaphase.txt')\n",
    "    \n",
    "#     # Run quantification\n",
    "#     iq = ImageQuant2(img=img, roi=roi)\n",
    "#     iq.segment()\n",
    "    \n",
    "#     # Save ROIs\n",
    "#     for i, r in enumerate(iq.roi):\n",
    "#         np.savetxt(row.Path + '/ROI_fit_%s.txt' % i, r)"
   ]
  },
  {
   "cell_type": "markdown",
   "metadata": {},
   "source": [
    "### Import quantification model"
   ]
  },
  {
   "cell_type": "code",
   "execution_count": null,
   "metadata": {},
   "outputs": [],
   "source": [
    "membg = np.loadtxt('../Quantification model calibration/membg6.txt')\n",
    "cytbg = np.loadtxt('../Quantification model calibration/cytbg.txt')\n",
    "calibration_factor = np.loadtxt('../Quantification model calibration/optogenetics_factors.txt')[6]\n",
    "print(calibration_factor)"
   ]
  },
  {
   "cell_type": "markdown",
   "metadata": {},
   "source": [
    "### Loop through embryos and quantify"
   ]
  },
  {
   "cell_type": "code",
   "execution_count": null,
   "metadata": {
    "scrolled": false
   },
   "outputs": [],
   "source": [
    "results = []\n",
    "for index, row in df.iterrows():\n",
    "    print(row.Path)\n",
    "    \n",
    "    # Import movie\n",
    "    img = load_image(row.Path + '/af_corrected.tif')\n",
    "    roi = [np.loadtxt(row.Path + '/ROI_fit_%s.txt' % i) for i in range(img.shape[0])]\n",
    "    \n",
    "    # Run quantification\n",
    "    iq = ImageQuant2(img=img, roi=roi, cytbg=cytbg, membg=membg)\n",
    "    iq.quantify(descent_steps=1000)\n",
    "    iq.plot_losses(log=True)\n",
    "    \n",
    "    # Compile results\n",
    "    res = iq.compile_res(ids=row.EmbryoID * np.ones(iq.nimgs), extra_columns={'Frame': np.arange(iq.nimgs)})\n",
    "    res['Membrane signal'] *= calibration_factor\n",
    "    res = res.astype({'Frame': int})\n",
    "    results.append(res)"
   ]
  },
  {
   "cell_type": "markdown",
   "metadata": {},
   "source": [
    "### Combine dataframes"
   ]
  },
  {
   "cell_type": "code",
   "execution_count": null,
   "metadata": {},
   "outputs": [],
   "source": [
    "results_full = pd.concat(results)\n",
    "results_full.to_csv('res.csv')"
   ]
  },
  {
   "cell_type": "markdown",
   "metadata": {},
   "source": [
    "### Filter out polar body"
   ]
  },
  {
   "cell_type": "code",
   "execution_count": null,
   "metadata": {
    "scrolled": false
   },
   "outputs": [],
   "source": [
    "def nan_helper(y):\n",
    "    return np.isnan(y), lambda z: z.nonzero()[0]\n",
    "\n",
    "fig, ax = plt.subplots()\n",
    "results_full = pd.read_csv('res.csv')\n",
    "res_grouped = results_full.groupby(['EmbryoID', 'Frame'])\n",
    "for i, (g, r) in enumerate(res_grouped):\n",
    "    path = df[df.EmbryoID == g[0]]['Path'].values[0]\n",
    "    roi = np.loadtxt(path + '/ROI_fit_%s.txt' % g[1])\n",
    "    _mems = r['Membrane signal']\n",
    "    mems = _mems.to_numpy()\n",
    "    if os.path.exists(path + '/polar_body.txt'):\n",
    "        polar_body = np.loadtxt(path + '/polar_body.txt')\n",
    "        ind = int(mems.shape[0] * np.argmin(np.linalg.norm(roi - polar_body, axis=1)) / roi.shape[0])\n",
    "        mems[ind-20:ind+20] = np.nan\n",
    "        nans, x = nan_helper(mems)\n",
    "        mems[nans] = np.interp(x(nans), x(~nans), mems[~nans])  \n",
    "    ax.plot(mems)\n",
    "    results_full.loc[_mems.index, 'Membrane signal'] = mems\n",
    "results_full.to_csv('res_no_pb.csv')"
   ]
  },
  {
   "cell_type": "code",
   "execution_count": null,
   "metadata": {},
   "outputs": [],
   "source": []
  }
 ],
 "metadata": {
  "kernelspec": {
   "display_name": "Python 3",
   "language": "python",
   "name": "python3"
  },
  "language_info": {
   "codemirror_mode": {
    "name": "ipython",
    "version": 3
   },
   "file_extension": ".py",
   "mimetype": "text/x-python",
   "name": "python",
   "nbconvert_exporter": "python",
   "pygments_lexer": "ipython3",
   "version": "3.7.9"
  }
 },
 "nbformat": 4,
 "nbformat_minor": 4
}
