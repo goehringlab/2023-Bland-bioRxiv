{
 "cells": [
  {
   "cell_type": "code",
   "execution_count": 1,
   "metadata": {},
   "outputs": [],
   "source": [
    "import os\n",
    "\n",
    "import numpy as np\n",
    "import pandas as pd\n",
    "\n",
    "from src import direcslist, nb_setup, raw_data_path\n",
    "\n",
    "nb_setup()\n",
    "os.makedirs(\"Figs\", exist_ok=True)\n",
    "\n",
    "%matplotlib inline"
   ]
  },
  {
   "cell_type": "code",
   "execution_count": 6,
   "metadata": {},
   "outputs": [],
   "source": [
    "basepath = raw_data_path + \"/Imaging/two_cell_asymmetry\"\n",
    "paths = direcslist(\n",
    "    basepath,\n",
    "    3,\n",
    "    exclude=[\n",
    "        \"n2\",\n",
    "    ],\n",
    ")\n",
    "lines = [p.split(\"/\")[-2].split(\"_\")[1] for p in paths]\n",
    "conds = [p.split(\"/\")[-2].split(\"_\")[2] for p in paths]\n",
    "line_to_genotype = {\n",
    "    \"nwg376\": \"GCN4\",\n",
    "    \"nwg240\": \"C56S\",\n",
    "    \"nwg192\": \"R183-5A\",\n",
    "    \"lp637\": \"WT\",\n",
    "    \"nwg398\": \"L109R, GCN4\",\n",
    "    \"nwg338\": \"L109R\",\n",
    "}\n",
    "genotypes = [line_to_genotype[l] for l in lines]\n",
    "rois_p1 = [np.loadtxt(p + \"/ROI_fit_p1.txt\") for p in paths]\n",
    "rois_ab = [np.loadtxt(p + \"/ROI_fit_ab.txt\") for p in paths]"
   ]
  },
  {
   "cell_type": "code",
   "execution_count": 7,
   "metadata": {},
   "outputs": [],
   "source": [
    "def area(corners):\n",
    "    # shoelace method\n",
    "    n = len(corners)  # of corners\n",
    "    area = 0.0\n",
    "    for i in range(n):\n",
    "        j = (i + 1) % n\n",
    "        area += corners[i][0] * corners[j][1]\n",
    "        area -= corners[j][0] * corners[i][1]\n",
    "    area = abs(area) / 2.0\n",
    "    return area"
   ]
  },
  {
   "cell_type": "code",
   "execution_count": 12,
   "metadata": {
    "scrolled": false
   },
   "outputs": [],
   "source": [
    "areas_asi = []\n",
    "for p1, ab in zip(rois_p1, rois_ab):\n",
    "    area_ab = area(ab)\n",
    "    area_p1 = area(p1)\n",
    "    areas_asi.append(area_ab / (area_ab + area_p1))"
   ]
  },
  {
   "cell_type": "code",
   "execution_count": 15,
   "metadata": {},
   "outputs": [],
   "source": [
    "df = pd.DataFrame.from_dict(\n",
    "    {\n",
    "        \"Path\": paths,\n",
    "        \"Line\": lines,\n",
    "        \"Genotype\": genotypes,\n",
    "        \"Condition\": conds,\n",
    "        \"Two cell asymmetry\": areas_asi,\n",
    "    }\n",
    ")\n",
    "df[\"Path\"] = df[\"Path\"].apply(lambda x: x[len(raw_data_path) :])\n",
    "df.to_csv(\"../../../data/2cellASI.csv\")"
   ]
  },
  {
   "cell_type": "code",
   "execution_count": null,
   "metadata": {},
   "outputs": [],
   "source": []
  }
 ],
 "metadata": {
  "kernelspec": {
   "display_name": "Python 3",
   "language": "python",
   "name": "python3"
  },
  "language_info": {
   "codemirror_mode": {
    "name": "ipython",
    "version": 3
   },
   "file_extension": ".py",
   "mimetype": "text/x-python",
   "name": "python",
   "nbconvert_exporter": "python",
   "pygments_lexer": "ipython3",
   "version": "3.11.6"
  }
 },
 "nbformat": 4,
 "nbformat_minor": 4
}
