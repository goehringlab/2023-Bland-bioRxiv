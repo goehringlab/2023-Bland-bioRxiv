{
 "cells": [
  {
   "cell_type": "code",
   "execution_count": 1,
   "metadata": {},
   "outputs": [],
   "source": [
    "import sys\n",
    "sys.path.append('../../../src')\n",
    "from helpers import *"
   ]
  },
  {
   "cell_type": "code",
   "execution_count": 2,
   "metadata": {},
   "outputs": [],
   "source": [
    "df = pd.read_csv('../../Raw analysis/PAR-2 NEBD quantification/NEBD_Embryos_dataframe.csv')\n",
    "df_quantification = pd.read_csv('../../Raw analysis/PAR-2 NEBD quantification/QUANTIFICATION.csv')\n",
    "df_quantification_grouped = df_quantification.groupby('EmbryoID')\n",
    "\n",
    "df_summary = pd.DataFrame()\n",
    "for i, r in df_quantification_grouped:\n",
    "    cyt = np.mean(r['Cytoplasmic signal'])\n",
    "    mem_tot = np.mean(r['Membrane signal'])\n",
    "    mem_ant = bounded_mean_1d(r['Membrane signal'], [0.4, 0.6])\n",
    "    mem_post = bounded_mean_1d(r['Membrane signal'], [0.9, 0.1]) \n",
    "    mem_frac = mem_tot / ((cyt / 0.174) + mem_tot)\n",
    "    ratio_post = mem_post / cyt\n",
    "    dosage = cyt + (mem_tot * 0.174)\n",
    "    p = {'EmbryoID': i, 'Cyt': cyt, 'Mem_tot': mem_tot, 'Mem_ant': mem_ant, 'Mem_post': mem_post,\n",
    "        'Ratio post': ratio_post, 'Mem frac': mem_frac, 'Dosage': dosage} \n",
    "    df_summary = df_summary.append(pd.DataFrame(p, index=[i]))\n",
    "df = pd.merge(df, df_summary, on='EmbryoID')\n",
    "\n",
    "# Filter\n",
    "lines_order = ['lp637', 'nwg201', 'nwg240', 'nwg246', 'nwg338', 'nwg369']\n",
    "df = df[df.Line.isin(lines_order)]\n",
    "df = df[df.RNAi == 'wt']\n",
    "\n",
    "# Add uniform vs polarised column\n",
    "unipol = ['Pol' if x in ['lp637', 'nwg240', 'nwg338'] else 'Uni' for x in df.Line]\n",
    "df['UniPol'] = unipol\n",
    "\n",
    "# Add genotype column\n",
    "p2 = ['WT' if x in ['lp637', 'nwg201'] else 'C56S' if x in ['nwg240', 'nwg246'] else 'L109R' for x in df.Line]\n",
    "df['P2_allele'] = p2\n",
    "\n",
    "# Add label column\n",
    "label_dict = {'lp637': 'PAR-2 (WT)', \n",
    "          'nwg201' : 'PAR-2 (WT); par-3 (it71)', \n",
    "          'nwg240': 'PAR-2 (C56S)', \n",
    "          'nwg246': 'PAR-2 (C56S); par-3 (it71)', \n",
    "          'nwg338': 'PAR-2 (L109R)', \n",
    "          'nwg369': 'PAR-2 (L109R); par-3 (it71)'}\n",
    "df['Genotype'] = [label_dict[x] for x in df.Line]\n",
    "\n",
    "# Normalise\n",
    "norm = df[df.Line == 'lp637'].Cyt.mean()\n",
    "df.Cyt /= norm\n",
    "df.Mem_tot /= norm\n",
    "df.Mem_ant /= norm\n",
    "df.Mem_post /= norm\n",
    "df.Dosage /= norm"
   ]
  },
  {
   "cell_type": "code",
   "execution_count": 3,
   "metadata": {},
   "outputs": [],
   "source": [
    "def create_table(df):\n",
    "    means = df.groupby('Genotype').mean()[['Cyt', 'Mem_post', 'Ratio post', 'Mem frac', 'Dosage']]\n",
    "    means = means.rename(columns={'Cyt': 'Cyt_mean', 'Mem_post': 'Mem_mean', 'Ratio post': 'Ratio_mean',\n",
    "                                 'Mem frac': 'Memfrac_mean', 'Dosage': 'Dosage_mean'})\n",
    "    stds = df.groupby('Genotype').std()[['Cyt', 'Mem_post', 'Ratio post', 'Mem frac', 'Dosage']]\n",
    "    stds = stds.rename(columns={'Cyt': 'Cyt_std', 'Mem_post': 'Mem_std', 'Ratio post': 'Ratio_std',\n",
    "                               'Mem frac': 'Memfrac_std', 'Dosage': 'Dosage_std'})\n",
    "    a = pd.concat([means, stds], axis=1)\n",
    "    \n",
    "    c1 = a.apply(lambda x: f'{x[\"Cyt_mean\"]:.2f} ± {x[\"Cyt_std\"]:.2f}', axis=1)\n",
    "    c2 = a.apply(lambda x: f'{x[\"Mem_mean\"]:.2f} ± {x[\"Mem_std\"]:.2f}', axis=1)\n",
    "    c3 = a.apply(lambda x: f'{x[\"Ratio_mean\"]:.2f} ± {x[\"Ratio_std\"]:.2f}', axis=1)\n",
    "    c4 = a.apply(lambda x: f'{x[\"Memfrac_mean\"]:.2f} ± {x[\"Memfrac_std\"]:.2f}', axis=1)\n",
    "    c5 = a.apply(lambda x: f'{x[\"Dosage_mean\"]:.2f} ± {x[\"Dosage_std\"]:.2f}', axis=1)\n",
    "\n",
    "    RESULTS = pd.DataFrame({'Normalised cytoplasmic concentration (μm⁻³)': c1, \n",
    "                            'Normalised posterior membrane concentration (μm⁻²)': c2, \n",
    "                            'M:C ratio (μm)': c3,\n",
    "                            'Fraction at membrane': c4,\n",
    "                            'Total expression (μm⁻³)': c5})\n",
    "    RESULTS = RESULTS.reindex([label_dict[i] for i in lines_order])\n",
    "    return RESULTS"
   ]
  },
  {
   "cell_type": "code",
   "execution_count": 4,
   "metadata": {},
   "outputs": [],
   "source": [
    "res = create_table(df)"
   ]
  },
  {
   "cell_type": "code",
   "execution_count": 5,
   "metadata": {},
   "outputs": [],
   "source": [
    "res.to_csv('results_table.csv')"
   ]
  },
  {
   "cell_type": "code",
   "execution_count": null,
   "metadata": {},
   "outputs": [],
   "source": []
  },
  {
   "cell_type": "code",
   "execution_count": null,
   "metadata": {},
   "outputs": [],
   "source": []
  }
 ],
 "metadata": {
  "kernelspec": {
   "display_name": "Python 3",
   "language": "python",
   "name": "python3"
  },
  "language_info": {
   "codemirror_mode": {
    "name": "ipython",
    "version": 3
   },
   "file_extension": ".py",
   "mimetype": "text/x-python",
   "name": "python",
   "nbconvert_exporter": "python",
   "pygments_lexer": "ipython3",
   "version": "3.7.9"
  }
 },
 "nbformat": 4,
 "nbformat_minor": 4
}
