{
 "cells": [
  {
   "cell_type": "code",
   "execution_count": 1,
   "metadata": {
    "execution": {
     "iopub.execute_input": "2023-08-04T08:22:35.420377Z",
     "iopub.status.busy": "2023-08-04T08:22:35.419974Z",
     "iopub.status.idle": "2023-08-04T08:22:43.321020Z",
     "shell.execute_reply": "2023-08-04T08:22:43.320340Z"
    }
   },
   "outputs": [],
   "source": [
    "import sys, os\n",
    "import numpy as np\n",
    "import pandas as pd\n",
    "import copy\n",
    "\n",
    "sys.path.append(\"../../..\")\n",
    "from src import bounded_mean_1d"
   ]
  },
  {
   "cell_type": "markdown",
   "metadata": {},
   "source": [
    "### Create raw dataframe"
   ]
  },
  {
   "cell_type": "code",
   "execution_count": 2,
   "metadata": {
    "execution": {
     "iopub.execute_input": "2023-08-04T08:22:43.325265Z",
     "iopub.status.busy": "2023-08-04T08:22:43.324815Z",
     "iopub.status.idle": "2023-08-04T08:22:44.250755Z",
     "shell.execute_reply": "2023-08-04T08:22:44.249835Z"
    }
   },
   "outputs": [],
   "source": [
    "df = pd.read_csv(\"../../../data/par2_nebd_embryos.csv\")\n",
    "df_quantification = pd.read_csv(\"../../../data/par2_nebd_quantification.csv\")\n",
    "df_quantification_grouped = df_quantification.groupby(\"EmbryoID\")\n",
    "\n",
    "df_summary = pd.DataFrame()\n",
    "for i, r in df_quantification_grouped:\n",
    "    cyt = np.mean(r[\"Cytoplasmic signal\"])\n",
    "    mem_tot = np.mean(r[\"Membrane signal\"])\n",
    "    mem_ant = bounded_mean_1d(r[\"Membrane signal\"], [0.4, 0.6])\n",
    "    mem_post = bounded_mean_1d(r[\"Membrane signal\"], [0.9, 0.1])\n",
    "    p = {\n",
    "        \"EmbryoID\": i,\n",
    "        \"Cyt\": cyt,\n",
    "        \"Mem_tot\": mem_tot,\n",
    "        \"Mem_ant\": mem_ant,\n",
    "        \"Mem_post\": mem_post,\n",
    "    }\n",
    "    df_summary = df_summary.append(pd.DataFrame(p, index=[i]))\n",
    "df = pd.merge(df, df_summary, on=\"EmbryoID\")\n",
    "\n",
    "# Filter\n",
    "df = df[df.Line.isin([\"lp637\", \"nwg201\", \"nwg338\", \"nwg369\"])]\n",
    "\n",
    "# # Remove points below threshold\n",
    "# mem_thresh = 4e2\n",
    "# cyt_thresh = 2e2\n",
    "# df = df[df.Mem_post > mem_thresh]\n",
    "# df = df[df.Cyt > cyt_thresh]\n",
    "\n",
    "# Add uniform vs polarised column\n",
    "unipol = [\"Pol\" if x in [\"lp637\", \"nwg338\"] else \"Uni\" for x in df.Line]\n",
    "df[\"UniPol\"] = unipol\n",
    "\n",
    "# Add genotype column\n",
    "genotype = [\"WT\" if x in [\"lp637\", \"nwg201\"] else \"L109R\" for x in df.Line]\n",
    "df[\"Genotype\"] = genotype"
   ]
  },
  {
   "cell_type": "markdown",
   "metadata": {},
   "source": [
    "### Create dataframes with absolute concentrations"
   ]
  },
  {
   "cell_type": "code",
   "execution_count": 3,
   "metadata": {
    "execution": {
     "iopub.execute_input": "2023-08-04T08:22:44.254731Z",
     "iopub.status.busy": "2023-08-04T08:22:44.254380Z",
     "iopub.status.idle": "2023-08-04T08:22:44.260143Z",
     "shell.execute_reply": "2023-08-04T08:22:44.259461Z"
    }
   },
   "outputs": [],
   "source": [
    "def create_dataframe(D, c):\n",
    "    # D = diameter of molecules (um)\n",
    "    # c = cytoplasmic concentration in wt cells (M)\n",
    "    _df = copy.deepcopy(df)\n",
    "    mem_norm = np.mean(\n",
    "        _df[(df.Line == \"lp637\") * (_df.RNAi == \"wt\")].Mem_post.to_numpy()\n",
    "    )\n",
    "    cyt_norm = np.mean(_df[(df.Line == \"lp637\") * (_df.RNAi == \"wt\")].Cyt.to_numpy())\n",
    "    xc = c\n",
    "    xm = (mem_norm / cyt_norm) * (1 / D) * c\n",
    "    _df.Mem_tot *= xm / mem_norm\n",
    "    _df.Mem_ant *= xm / mem_norm\n",
    "    _df.Mem_post *= xm / mem_norm\n",
    "    _df.Cyt *= xc / cyt_norm\n",
    "    return _df"
   ]
  },
  {
   "cell_type": "code",
   "execution_count": 4,
   "metadata": {
    "execution": {
     "iopub.execute_input": "2023-08-04T08:22:44.263898Z",
     "iopub.status.busy": "2023-08-04T08:22:44.263619Z",
     "iopub.status.idle": "2023-08-04T08:22:44.428349Z",
     "shell.execute_reply": "2023-08-04T08:22:44.427366Z"
    }
   },
   "outputs": [],
   "source": [
    "# Main figure: D=5nm, c=10.4nM\n",
    "df_main = create_dataframe(0.005, 1.04e-8)\n",
    "df_main.to_csv(\"df_main.csv\")\n",
    "\n",
    "# Supplement 1: D=0.5nm, c=10.4nM\n",
    "df_s1 = create_dataframe(0.0005, 1.04e-8)\n",
    "df_s1.to_csv(\"df_s1.csv\")\n",
    "\n",
    "# Supplement 2: D=50nm, c=10.4nM\n",
    "df_s2 = create_dataframe(0.05, 1.04e-8)\n",
    "df_s2.to_csv(\"df_s2.csv\")\n",
    "\n",
    "# # Supplement 3: D=5.451nm, c=4.1nM\n",
    "# df_s3 = create_dataframe(0.005451, 4.1e-9)\n",
    "# df_s3.to_csv('df_s3.csv')\n",
    "\n",
    "# # Supplement 4: D=5.451nm, c=410nM\n",
    "# df_s4 = create_dataframe(0.005451, 4.1e-7)\n",
    "# df_s4.to_csv('df_s4.csv')"
   ]
  },
  {
   "cell_type": "code",
   "execution_count": null,
   "metadata": {},
   "outputs": [],
   "source": []
  },
  {
   "cell_type": "code",
   "execution_count": null,
   "metadata": {},
   "outputs": [],
   "source": []
  }
 ],
 "metadata": {
  "kernelspec": {
   "display_name": "Python 3",
   "language": "python",
   "name": "python3"
  },
  "language_info": {
   "codemirror_mode": {
    "name": "ipython",
    "version": 3
   },
   "file_extension": ".py",
   "mimetype": "text/x-python",
   "name": "python",
   "nbconvert_exporter": "python",
   "pygments_lexer": "ipython3",
   "version": "3.7.12"
  },
  "vscode": {
   "interpreter": {
    "hash": "aee8b7b246df8f9039afb4144a1f6fd8d2ca17a180786b69acc140d282b71a49"
   }
  }
 },
 "nbformat": 4,
 "nbformat_minor": 4
}
