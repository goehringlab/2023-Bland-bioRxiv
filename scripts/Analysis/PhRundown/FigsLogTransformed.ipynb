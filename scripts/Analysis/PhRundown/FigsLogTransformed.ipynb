{
 "cells": [
  {
   "cell_type": "markdown",
   "metadata": {},
   "source": [
    "### Quantifying cooperativity for a PH membrane-binding probe (negative control)\n",
    "\n",
    "Context:\n",
    "- Negative control for an assay for quantifying membrane-binding cooperativity\n",
    "- Relies on measurements of membrane and cytoplasmic concentration in cells with varying quantities of total protein\n",
    "- An effective exponent is quantified by performing linear regression on log-transformed data\n",
    "\n",
    "Results:\n",
    "- Here the exponent is close to 1, showing that the assay works as intended\n",
    "\n",
    "Dependencies:\n",
    "- Relies on quantification data from _Run/ph_quantify.ipynb_"
   ]
  },
  {
   "cell_type": "code",
   "execution_count": 1,
   "metadata": {
    "execution": {
     "iopub.execute_input": "2023-11-18T11:27:58.000409Z",
     "iopub.status.busy": "2023-11-18T11:27:58.000063Z",
     "iopub.status.idle": "2023-11-18T11:28:04.440661Z",
     "shell.execute_reply": "2023-11-18T11:28:04.439843Z"
    }
   },
   "outputs": [],
   "source": [
    "import sys, os\n",
    "import numpy as np\n",
    "import matplotlib.pyplot as plt\n",
    "import pandas as pd\n",
    "sys.path.append('../../..')\n",
    "from src import bounded_mean_1d, minor_ticks, fake_log\n",
    "import scipy.stats as st\n",
    "%matplotlib inline\n",
    "import matplotlib as mpl\n",
    "mpl.rcParams['figure.dpi']= 150\n",
    "\n",
    "if not os.path.exists('Figs'):\n",
    "    os.mkdir('Figs')"
   ]
  },
  {
   "cell_type": "code",
   "execution_count": 2,
   "metadata": {
    "execution": {
     "iopub.execute_input": "2023-11-18T11:28:04.444369Z",
     "iopub.status.busy": "2023-11-18T11:28:04.443802Z",
     "iopub.status.idle": "2023-11-18T11:28:04.484462Z",
     "shell.execute_reply": "2023-11-18T11:28:04.483922Z"
    }
   },
   "outputs": [],
   "source": [
    "# Import data\n",
    "df = pd.read_csv('../../../data/ph_embryos.csv')\n",
    "df_quantification = pd.read_csv('../../../data/ph_quantification.csv')\n",
    "df_quantification_grouped = df_quantification.groupby('EmbryoID')\n",
    "\n",
    "# Perform summary quantification\n",
    "_dfs = []\n",
    "for i, r in df_quantification_grouped:\n",
    "    cyt = np.mean(r['Cytoplasmic signal'])\n",
    "    mem_tot = np.mean(r['Membrane signal'])\n",
    "    mem_ant = bounded_mean_1d(r['Membrane signal'], [0.4, 0.6])\n",
    "    mem_post = bounded_mean_1d(r['Membrane signal'], [0.9, 0.1]) \n",
    "    p = {'EmbryoID': i, 'Cyt': cyt, 'Mem_tot': mem_tot, 'Mem_ant': mem_ant, 'Mem_post': mem_post} \n",
    "    _dfs.append(pd.DataFrame(p, index=[i]))\n",
    "df_summary = pd.concat(_dfs)\n",
    "df = pd.merge(df, df_summary, on='EmbryoID')\n",
    "\n",
    "# Add uniform vs polarised column\n",
    "df['UniPol'] = 'Uni'\n",
    "\n",
    "# Filter\n",
    "df = df[df.Line == 'od58']\n"
   ]
  },
  {
   "cell_type": "markdown",
   "metadata": {},
   "source": [
    "### Fitting functions"
   ]
  },
  {
   "cell_type": "code",
   "execution_count": 3,
   "metadata": {
    "execution": {
     "iopub.execute_input": "2023-11-18T11:28:04.488710Z",
     "iopub.status.busy": "2023-11-18T11:28:04.488363Z",
     "iopub.status.idle": "2023-11-18T11:28:04.495764Z",
     "shell.execute_reply": "2023-11-18T11:28:04.495229Z"
    }
   },
   "outputs": [],
   "source": [
    "def linear_model(x, a, b):\n",
    "    return a * x + b\n",
    "\n",
    "def single_fit(cyt, mem):\n",
    "    p = np.polyfit(cyt, mem, 1)\n",
    "    return p\n",
    "\n",
    "def bootstrap_fitting(cyts, mems, n=10000):\n",
    "    params = np.zeros([n, 2])\n",
    "    for i in range(n):  \n",
    "        inds = np.random.choice(range(len(cyts)), len(cyts))\n",
    "        params[i, :] = single_fit(cyts[inds], mems[inds])\n",
    "    return params\n",
    "\n",
    "class ExponentConfidenceInterval:\n",
    "    def __init__(self, df, whole_embryo=False):\n",
    "        # Input\n",
    "        self.cyts = np.log10(df.Cyt.to_numpy())\n",
    "        if not whole_embryo:\n",
    "            self.mems = np.log10(df.Mem_post.to_numpy())\n",
    "        else:\n",
    "            self.mems = np.log10(df.Mem_tot.to_numpy())\n",
    "        self.unipol = df.UniPol.tolist()\n",
    "        self.run()\n",
    "        \n",
    "    def run(self, n_bootstrap=10000, n_x=100, interval=95):\n",
    "        self.res_x = np.linspace(min(self.cyts), max(self.cyts), n_x)\n",
    "\n",
    "        # Analysing full dataset\n",
    "        popt_full = single_fit(self.cyts, self.mems)\n",
    "        self.res_y = linear_model(self.res_x, *popt_full)\n",
    "        self.exponent_full = popt_full[0]\n",
    "\n",
    "        # Bootstrapping\n",
    "        params = bootstrap_fitting(self.cyts, self.mems)\n",
    "        self.exponents = params[:, 0]\n",
    "\n",
    "        # Confidence interval\n",
    "        all_fits = np.zeros([n_bootstrap, n_x])\n",
    "        for i, p in enumerate(params):\n",
    "            all_fits[i, :] = linear_model(self.res_x, *p)\n",
    "        self.all_fits_lower = np.percentile(all_fits, (100 - interval) / 2, axis=0)\n",
    "        self.all_fits_upper = np.percentile(all_fits, 50 + (interval / 2), axis=0)"
   ]
  },
  {
   "cell_type": "markdown",
   "metadata": {},
   "source": [
    "### Plotting functions"
   ]
  },
  {
   "cell_type": "code",
   "execution_count": 4,
   "metadata": {
    "execution": {
     "iopub.execute_input": "2023-11-18T11:28:04.498857Z",
     "iopub.status.busy": "2023-11-18T11:28:04.498573Z",
     "iopub.status.idle": "2023-11-18T11:28:04.505957Z",
     "shell.execute_reply": "2023-11-18T11:28:04.505427Z"
    }
   },
   "outputs": [],
   "source": [
    "def plot_rundown_ci(ax, res, color):\n",
    "    ax.plot(res.res_x, res.res_y, c='k', zorder=100, linewidth=1, label=r'$y = \\beta x^\\alpha$')\n",
    "    ax.fill_between(res.res_x, res.all_fits_lower, res.all_fits_upper, alpha=0.1, color='k', zorder=100)\n",
    "    ax.set_xlabel('Cytoplasmic conc. (a.u.)', fontsize=9)\n",
    "    ax.set_ylabel('Membrane conc. (a.u.)', fontsize=9)\n",
    "    ax.tick_params(axis='both', labelsize=8)\n",
    "    ax.scatter(res.cyts, res.mems, color=color, linewidth=0.1, edgecolors='k', s=20)\n",
    "    \n",
    "    xlim = ax.get_xlim()\n",
    "    ylim = ax.get_ylim()\n",
    "    for i in np.arange(-10, 10, 0.5):\n",
    "        ax.plot([-10, 10], [i - 10, i + 10], c='0.9', zorder=-100, linewidth=1)\n",
    "    ax.set_xticks(np.arange(0, 10))\n",
    "    ax.set_yticks(np.arange(0, 10))\n",
    "    minor_ticks(ax, [0, 10], [0, 10])\n",
    "    ax.set_xlim(xlim)\n",
    "    ax.set_ylim(ylim)\n",
    "    ax.xaxis.set_major_formatter(fake_log)\n",
    "    ax.yaxis.set_major_formatter(fake_log) \n",
    "    ax.set_aspect('equal', adjustable='datalim')\n",
    "    ax.legend(frameon=False, fontsize=8, loc='lower right')\n",
    "\n",
    "def violin(ax, res, xpos, color):\n",
    "    kde = st.gaussian_kde(res.exponents)\n",
    "    xx = np.linspace(min(res.exponents), max(res.exponents), 10000)\n",
    "    kde_xx = kde(xx)\n",
    "    ax.fill_betweenx(xx, xpos - 0.8 * (kde_xx / max(kde_xx)), \n",
    "                     xpos + 0.8 * (kde_xx / max(kde_xx)), color=color, linewidth=0)\n",
    "    ax.plot([xpos, xpos], [np.percentile(res.exponents, 2.5), np.percentile(res.exponents, 97.5)], c='k', \n",
    "            linewidth=0.5)\n",
    "    ax.scatter(xpos, res.exponent_full, c='k', s=5)"
   ]
  },
  {
   "cell_type": "markdown",
   "metadata": {},
   "source": [
    "### Plot: PH rundown"
   ]
  },
  {
   "cell_type": "code",
   "execution_count": 5,
   "metadata": {
    "execution": {
     "iopub.execute_input": "2023-11-18T11:28:04.508527Z",
     "iopub.status.busy": "2023-11-18T11:28:04.508315Z",
     "iopub.status.idle": "2023-11-18T11:28:05.474437Z",
     "shell.execute_reply": "2023-11-18T11:28:05.473854Z"
    }
   },
   "outputs": [],
   "source": [
    "analysis = ExponentConfidenceInterval(df, whole_embryo=True)"
   ]
  },
  {
   "cell_type": "code",
   "execution_count": 6,
   "metadata": {
    "execution": {
     "iopub.execute_input": "2023-11-18T11:28:05.477600Z",
     "iopub.status.busy": "2023-11-18T11:28:05.477347Z",
     "iopub.status.idle": "2023-11-18T11:28:06.547923Z",
     "shell.execute_reply": "2023-11-18T11:28:06.547288Z"
    }
   },
   "outputs": [
    {
     "data": {
      "image/png": "[encoded data removed]",
      "text/plain": [
       "<Figure size 375x375 with 1 Axes>"
      ]
     },
     "metadata": {},
     "output_type": "display_data"
    }
   ],
   "source": [
    "fig, ax = plt.subplots()\n",
    "plot_rundown_ci(ax, analysis, 'tab:gray')\n",
    "fig.set_size_inches(2.5, 2.5)\n",
    "fig.subplots_adjust(left=0.2, bottom=0.2)\n",
    "# fig.savefig('Figs/ph_rundown_log.png', dpi=600, transparent=True)"
   ]
  },
  {
   "cell_type": "code",
   "execution_count": 7,
   "metadata": {
    "execution": {
     "iopub.execute_input": "2023-11-18T11:28:06.550942Z",
     "iopub.status.busy": "2023-11-18T11:28:06.550704Z",
     "iopub.status.idle": "2023-11-18T11:28:08.010726Z",
     "shell.execute_reply": "2023-11-18T11:28:08.010016Z"
    }
   },
   "outputs": [
    {
     "data": {
      "image/png": "[encoded data removed]",
      "text/plain": [
       "<Figure size 195x375 with 1 Axes>"
      ]
     },
     "metadata": {},
     "output_type": "display_data"
    }
   ],
   "source": [
    "fig, ax = plt.subplots()\n",
    "violin(ax, analysis, 1, 'tab:gray')\n",
    "ax.set_xlim(-0.7, 2.7)\n",
    "ax.set_ylim(0.65, 1.65)\n",
    "ax.set_xticks([])\n",
    "ax.set_ylabel('Cooperativity (α)', fontsize=9)\n",
    "ax.tick_params(axis='y', labelsize=7)\n",
    "ax.tick_params(axis='x', labelsize=9)\n",
    "ax.yaxis.tick_right()\n",
    "ax.yaxis.set_label_position(\"right\")\n",
    "\n",
    "fig.set_size_inches(1.3, 2.5)\n",
    "fig.subplots_adjust(bottom=0.2, right=0.6)\n",
    "# fig.savefig('Figs/ph_exponent.png', dpi=600, transparent=True)"
   ]
  },
  {
   "cell_type": "code",
   "execution_count": null,
   "metadata": {},
   "outputs": [],
   "source": []
  }
 ],
 "metadata": {
  "kernelspec": {
   "display_name": "Python 3",
   "language": "python",
   "name": "python3"
  },
  "language_info": {
   "codemirror_mode": {
    "name": "ipython",
    "version": 3
   },
   "file_extension": ".py",
   "mimetype": "text/x-python",
   "name": "python",
   "nbconvert_exporter": "python",
   "pygments_lexer": "ipython3",
   "version": "3.11.6"
  },
  "vscode": {
   "interpreter": {
    "hash": "e3dc3871f4e194b0e5205f2056eb037c91cfe60a6f5484f031ab0dd7212226df"
   }
  }
 },
 "nbformat": 4,
 "nbformat_minor": 4
}
