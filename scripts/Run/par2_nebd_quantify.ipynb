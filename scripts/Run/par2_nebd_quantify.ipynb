{
 "cells": [
  {
   "cell_type": "code",
   "execution_count": 1,
   "metadata": {
    "execution": {
     "iopub.execute_input": "2023-07-25T16:10:42.290880Z",
     "iopub.status.busy": "2023-07-25T16:10:42.290188Z",
     "iopub.status.idle": "2023-07-25T16:10:50.817450Z",
     "shell.execute_reply": "2023-07-25T16:10:50.816136Z"
    }
   },
   "outputs": [],
   "source": [
    "import sys\n",
    "import numpy as np\n",
    "import pandas as pd\n",
    "sys.path.append('../..')\n",
    "from src import load_image, ImageQuant2\n",
    "%matplotlib widget"
   ]
  },
  {
   "cell_type": "code",
   "execution_count": 2,
   "metadata": {
    "execution": {
     "iopub.execute_input": "2023-07-25T16:10:50.821301Z",
     "iopub.status.busy": "2023-07-25T16:10:50.820873Z",
     "iopub.status.idle": "2023-07-25T16:10:50.828466Z",
     "shell.execute_reply": "2023-07-25T16:10:50.827764Z"
    }
   },
   "outputs": [
    {
     "name": "stdout",
     "output_type": "stream",
     "text": [
      "3.105838399548696\n"
     ]
    }
   ],
   "source": [
    "# Import quantification moodel\n",
    "membg = np.loadtxt('../../data/calibration_mem6.txt')\n",
    "cytbg = np.loadtxt('../../data/calibration_cyt.txt')\n",
    "calibration_factor = np.loadtxt('../../data/calibration_constants.txt')[6]\n",
    "print(calibration_factor)"
   ]
  },
  {
   "cell_type": "code",
   "execution_count": 3,
   "metadata": {
    "execution": {
     "iopub.execute_input": "2023-07-25T16:10:50.832192Z",
     "iopub.status.busy": "2023-07-25T16:10:50.831923Z",
     "iopub.status.idle": "2023-07-25T16:10:50.854075Z",
     "shell.execute_reply": "2023-07-25T16:10:50.853366Z"
    }
   },
   "outputs": [
    {
     "data": {
      "text/html": [
       "<div>\n",
       "<style scoped>\n",
       "    .dataframe tbody tr th:only-of-type {\n",
       "        vertical-align: middle;\n",
       "    }\n",
       "\n",
       "    .dataframe tbody tr th {\n",
       "        vertical-align: top;\n",
       "    }\n",
       "\n",
       "    .dataframe thead th {\n",
       "        text-align: right;\n",
       "    }\n",
       "</style>\n",
       "<table border=\"1\" class=\"dataframe\">\n",
       "  <thead>\n",
       "    <tr style=\"text-align: right;\">\n",
       "      <th></th>\n",
       "      <th>Unnamed: 0</th>\n",
       "      <th>Path</th>\n",
       "      <th>EmbryoID</th>\n",
       "      <th>Line</th>\n",
       "      <th>Date</th>\n",
       "      <th>RNAi</th>\n",
       "    </tr>\n",
       "  </thead>\n",
       "  <tbody>\n",
       "    <tr>\n",
       "      <th>0</th>\n",
       "      <td>0</td>\n",
       "      <td>/Users/blandt/Desktop/PaperData//Imaging/PAR-2...</td>\n",
       "      <td>1580292350</td>\n",
       "      <td>lp637</td>\n",
       "      <td>200129</td>\n",
       "      <td>wt</td>\n",
       "    </tr>\n",
       "    <tr>\n",
       "      <th>1</th>\n",
       "      <td>1</td>\n",
       "      <td>/Users/blandt/Desktop/PaperData//Imaging/PAR-2...</td>\n",
       "      <td>1580292382</td>\n",
       "      <td>lp637</td>\n",
       "      <td>200129</td>\n",
       "      <td>wt</td>\n",
       "    </tr>\n",
       "    <tr>\n",
       "      <th>2</th>\n",
       "      <td>2</td>\n",
       "      <td>/Users/blandt/Desktop/PaperData//Imaging/PAR-2...</td>\n",
       "      <td>1580292449</td>\n",
       "      <td>lp637</td>\n",
       "      <td>200129</td>\n",
       "      <td>wt</td>\n",
       "    </tr>\n",
       "    <tr>\n",
       "      <th>3</th>\n",
       "      <td>3</td>\n",
       "      <td>/Users/blandt/Desktop/PaperData//Imaging/PAR-2...</td>\n",
       "      <td>1580292501</td>\n",
       "      <td>lp637</td>\n",
       "      <td>200129</td>\n",
       "      <td>wt</td>\n",
       "    </tr>\n",
       "    <tr>\n",
       "      <th>4</th>\n",
       "      <td>4</td>\n",
       "      <td>/Users/blandt/Desktop/PaperData//Imaging/PAR-2...</td>\n",
       "      <td>1580292520</td>\n",
       "      <td>lp637</td>\n",
       "      <td>200129</td>\n",
       "      <td>wt</td>\n",
       "    </tr>\n",
       "    <tr>\n",
       "      <th>...</th>\n",
       "      <td>...</td>\n",
       "      <td>...</td>\n",
       "      <td>...</td>\n",
       "      <td>...</td>\n",
       "      <td>...</td>\n",
       "      <td>...</td>\n",
       "    </tr>\n",
       "    <tr>\n",
       "      <th>664</th>\n",
       "      <td>664</td>\n",
       "      <td>/Users/blandt/Desktop/PaperData//Imaging/PAR-2...</td>\n",
       "      <td>1662545240</td>\n",
       "      <td>nwg496</td>\n",
       "      <td>220907</td>\n",
       "      <td>wt</td>\n",
       "    </tr>\n",
       "    <tr>\n",
       "      <th>665</th>\n",
       "      <td>665</td>\n",
       "      <td>/Users/blandt/Desktop/PaperData//Imaging/PAR-2...</td>\n",
       "      <td>1662545908</td>\n",
       "      <td>nwg496</td>\n",
       "      <td>220907</td>\n",
       "      <td>wt</td>\n",
       "    </tr>\n",
       "    <tr>\n",
       "      <th>666</th>\n",
       "      <td>666</td>\n",
       "      <td>/Users/blandt/Desktop/PaperData//Imaging/PAR-2...</td>\n",
       "      <td>1662546008</td>\n",
       "      <td>nwg496</td>\n",
       "      <td>220907</td>\n",
       "      <td>wt</td>\n",
       "    </tr>\n",
       "    <tr>\n",
       "      <th>667</th>\n",
       "      <td>667</td>\n",
       "      <td>/Users/blandt/Desktop/PaperData//Imaging/PAR-2...</td>\n",
       "      <td>1662546125</td>\n",
       "      <td>nwg496</td>\n",
       "      <td>220907</td>\n",
       "      <td>wt</td>\n",
       "    </tr>\n",
       "    <tr>\n",
       "      <th>668</th>\n",
       "      <td>668</td>\n",
       "      <td>/Users/blandt/Desktop/PaperData//Imaging/PAR-2...</td>\n",
       "      <td>1662546326</td>\n",
       "      <td>nwg496</td>\n",
       "      <td>220907</td>\n",
       "      <td>wt</td>\n",
       "    </tr>\n",
       "  </tbody>\n",
       "</table>\n",
       "<p>669 rows × 6 columns</p>\n",
       "</div>"
      ],
      "text/plain": [
       "     Unnamed: 0                                               Path  \\\n",
       "0             0  /Users/blandt/Desktop/PaperData//Imaging/PAR-2...   \n",
       "1             1  /Users/blandt/Desktop/PaperData//Imaging/PAR-2...   \n",
       "2             2  /Users/blandt/Desktop/PaperData//Imaging/PAR-2...   \n",
       "3             3  /Users/blandt/Desktop/PaperData//Imaging/PAR-2...   \n",
       "4             4  /Users/blandt/Desktop/PaperData//Imaging/PAR-2...   \n",
       "..          ...                                                ...   \n",
       "664         664  /Users/blandt/Desktop/PaperData//Imaging/PAR-2...   \n",
       "665         665  /Users/blandt/Desktop/PaperData//Imaging/PAR-2...   \n",
       "666         666  /Users/blandt/Desktop/PaperData//Imaging/PAR-2...   \n",
       "667         667  /Users/blandt/Desktop/PaperData//Imaging/PAR-2...   \n",
       "668         668  /Users/blandt/Desktop/PaperData//Imaging/PAR-2...   \n",
       "\n",
       "       EmbryoID    Line    Date RNAi  \n",
       "0    1580292350   lp637  200129   wt  \n",
       "1    1580292382   lp637  200129   wt  \n",
       "2    1580292449   lp637  200129   wt  \n",
       "3    1580292501   lp637  200129   wt  \n",
       "4    1580292520   lp637  200129   wt  \n",
       "..          ...     ...     ...  ...  \n",
       "664  1662545240  nwg496  220907   wt  \n",
       "665  1662545908  nwg496  220907   wt  \n",
       "666  1662546008  nwg496  220907   wt  \n",
       "667  1662546125  nwg496  220907   wt  \n",
       "668  1662546326  nwg496  220907   wt  \n",
       "\n",
       "[669 rows x 6 columns]"
      ]
     },
     "execution_count": 3,
     "metadata": {},
     "output_type": "execute_result"
    }
   ],
   "source": [
    "# Import embryos dataframe\n",
    "df = pd.read_csv('../../data/par2_nebd_embryos.csv')\n",
    "df"
   ]
  },
  {
   "cell_type": "markdown",
   "metadata": {},
   "source": [
    "### Import data"
   ]
  },
  {
   "cell_type": "code",
   "execution_count": 4,
   "metadata": {
    "execution": {
     "iopub.execute_input": "2023-07-25T16:10:50.857532Z",
     "iopub.status.busy": "2023-07-25T16:10:50.857284Z",
     "iopub.status.idle": "2023-07-25T16:11:28.810110Z",
     "shell.execute_reply": "2023-07-25T16:11:28.808911Z"
    }
   },
   "outputs": [],
   "source": [
    "paths = df.Path.to_list()\n",
    "lines = df.Line.to_list()\n",
    "imgs = [load_image(p + '/af_corrected.tif') for p in paths]\n",
    "rois = [np.loadtxt(p + '/ROI_fit.txt') if l != 'n2' else np.loadtxt(p + '/ROI_manual.txt') for p, l in zip(paths, lines)]"
   ]
  },
  {
   "cell_type": "markdown",
   "metadata": {},
   "source": [
    "### Run quantification"
   ]
  },
  {
   "cell_type": "code",
   "execution_count": 5,
   "metadata": {
    "execution": {
     "iopub.execute_input": "2023-07-25T16:11:28.814670Z",
     "iopub.status.busy": "2023-07-25T16:11:28.814201Z",
     "iopub.status.idle": "2023-07-25T16:13:15.751476Z",
     "shell.execute_reply": "2023-07-25T16:13:15.750763Z"
    },
    "scrolled": false
   },
   "outputs": [
    {
     "name": "stderr",
     "output_type": "stream",
     "text": [
      "\r\n",
      "  0%|                                                                                                                                       | 0/600 [00:00<?, ?it/s]"
     ]
    },
    {
     "name": "stderr",
     "output_type": "stream",
     "text": [
      "\r\n",
      "  0%|▏                                                                                                                              | 1/600 [00:02<29:38,  2.97s/it]"
     ]
    },
    {
     "name": "stderr",
     "output_type": "stream",
     "text": [
      "\r\n",
      "  0%|▍                                                                                                                              | 2/600 [00:03<12:53,  1.29s/it]"
     ]
    },
    {
     "name": "stderr",
     "output_type": "stream",
     "text": [
      "\r\n",
      "  0%|▋                                                                                                                              | 3/600 [00:03<07:33,  1.32it/s]"
     ]
    },
    {
     "name": "stderr",
     "output_type": "stream",
     "text": [
      "\r\n",
      "  1%|▊                                                                                                                              | 4/600 [00:03<05:03,  1.97it/s]"
     ]
    },
    {
     "name": "stderr",
     "output_type": "stream",
     "text": [
      "\r\n",
      "  1%|█                                                                                                                              | 5/600 [00:03<03:40,  2.70it/s]"
     ]
    },
    {
     "name": "stderr",
     "output_type": "stream",
     "text": [
      "\r\n",
      "  1%|█▎                                                                                                                             | 6/600 [00:03<02:49,  3.50it/s]"
     ]
    },
    {
     "name": "stderr",
     "output_type": "stream",
     "text": [
      "\r\n",
      "  1%|█▍                                                                                                                             | 7/600 [00:03<02:18,  4.27it/s]"
     ]
    },
    {
     "name": "stderr",
     "output_type": "stream",
     "text": [
      "\r\n",
      "  1%|█▋                                                                                                                             | 8/600 [00:03<01:55,  5.12it/s]"
     ]
    },
    {
     "name": "stderr",
     "output_type": "stream",
     "text": [
      "\r\n",
      "  2%|█▉                                                                                                                             | 9/600 [00:03<01:38,  6.01it/s]"
     ]
    },
    {
     "name": "stderr",
     "output_type": "stream",
     "text": [
      "\r\n",
      "  2%|██                                                                                                                            | 10/600 [00:04<01:29,  6.59it/s]"
     ]
    },
    {
     "name": "stderr",
     "output_type": "stream",
     "text": [
      "\r\n",
      "  2%|██▎                                                                                                                           | 11/600 [00:04<01:23,  7.06it/s]"
     ]
    },
    {
     "name": "stderr",
     "output_type": "stream",
     "text": [
      "\r\n",
      "  2%|██▌                                                                                                                           | 12/600 [00:04<01:16,  7.68it/s]"
     ]
    },
    {
     "name": "stderr",
     "output_type": "stream",
     "text": [
      "\r\n",
      "  2%|██▋                                                                                                                           | 13/600 [00:04<01:14,  7.91it/s]"
     ]
    },
    {
     "name": "stderr",
     "output_type": "stream",
     "text": [
      "\r\n",
      "  2%|██▉                                                                                                                           | 14/600 [00:04<01:12,  8.04it/s]"
     ]
    },
    {
     "name": "stderr",
     "output_type": "stream",
     "text": [
      "\r\n",
      "  2%|███▏                                                                                                                          | 15/600 [00:04<01:11,  8.17it/s]"
     ]
    },
    {
     "name": "stderr",
     "output_type": "stream",
     "text": [
      "\r\n",
      "  3%|███▎                                                                                                                          | 16/600 [00:04<01:10,  8.27it/s]"
     ]
    },
    {
     "name": "stderr",
     "output_type": "stream",
     "text": [
      "\r\n",
      "  3%|███▌                                                                                                                          | 17/600 [00:04<01:10,  8.31it/s]"
     ]
    },
    {
     "name": "stderr",
     "output_type": "stream",
     "text": [
      "\r\n",
      "  3%|███▊                                                                                                                          | 18/600 [00:04<01:09,  8.38it/s]"
     ]
    },
    {
     "name": "stderr",
     "output_type": "stream",
     "text": [
      "\r\n",
      "  3%|███▉                                                                                                                          | 19/600 [00:05<01:09,  8.38it/s]"
     ]
    },
    {
     "name": "stderr",
     "output_type": "stream",
     "text": [
      "\r\n",
      "  3%|████▏                                                                                                                         | 20/600 [00:05<01:09,  8.39it/s]"
     ]
    },
    {
     "name": "stderr",
     "output_type": "stream",
     "text": [
      "\r\n",
      "  4%|████▍                                                                                                                         | 21/600 [00:05<01:08,  8.40it/s]"
     ]
    },
    {
     "name": "stderr",
     "output_type": "stream",
     "text": [
      "\r\n",
      "  4%|████▌                                                                                                                         | 22/600 [00:05<01:08,  8.43it/s]"
     ]
    },
    {
     "name": "stderr",
     "output_type": "stream",
     "text": [
      "\r\n",
      "  4%|████▊                                                                                                                         | 23/600 [00:05<01:07,  8.57it/s]"
     ]
    },
    {
     "name": "stderr",
     "output_type": "stream",
     "text": [
      "\r\n",
      "  4%|█████                                                                                                                         | 24/600 [00:05<01:04,  8.90it/s]"
     ]
    },
    {
     "name": "stderr",
     "output_type": "stream",
     "text": [
      "\r\n",
      "  4%|█████▎                                                                                                                        | 25/600 [00:05<01:04,  8.87it/s]"
     ]
    },
    {
     "name": "stderr",
     "output_type": "stream",
     "text": [
      "\r\n",
      "  4%|█████▍                                                                                                                        | 26/600 [00:05<01:05,  8.73it/s]"
     ]
    },
    {
     "name": "stderr",
     "output_type": "stream",
     "text": [
      "\r\n",
      "  4%|█████▋                                                                                                                        | 27/600 [00:06<01:06,  8.63it/s]"
     ]
    },
    {
     "name": "stderr",
     "output_type": "stream",
     "text": [
      "\r\n",
      "  5%|█████▉                                                                                                                        | 28/600 [00:06<01:06,  8.61it/s]"
     ]
    },
    {
     "name": "stderr",
     "output_type": "stream",
     "text": [
      "\r\n",
      "  5%|██████                                                                                                                        | 29/600 [00:06<01:06,  8.56it/s]"
     ]
    },
    {
     "name": "stderr",
     "output_type": "stream",
     "text": [
      "\r\n",
      "  5%|██████▎                                                                                                                       | 30/600 [00:06<01:06,  8.52it/s]"
     ]
    },
    {
     "name": "stderr",
     "output_type": "stream",
     "text": [
      "\r\n",
      "  5%|██████▌                                                                                                                       | 31/600 [00:06<01:06,  8.52it/s]"
     ]
    },
    {
     "name": "stderr",
     "output_type": "stream",
     "text": [
      "\r\n",
      "  5%|██████▋                                                                                                                       | 32/600 [00:06<01:06,  8.52it/s]"
     ]
    },
    {
     "name": "stderr",
     "output_type": "stream",
     "text": [
      "\r\n",
      "  6%|██████▉                                                                                                                       | 33/600 [00:06<01:07,  8.44it/s]"
     ]
    },
    {
     "name": "stderr",
     "output_type": "stream",
     "text": [
      "\r\n",
      "  6%|███████▏                                                                                                                      | 34/600 [00:06<01:04,  8.84it/s]"
     ]
    },
    {
     "name": "stderr",
     "output_type": "stream",
     "text": [
      "\r\n",
      "  6%|███████▎                                                                                                                      | 35/600 [00:06<01:04,  8.75it/s]"
     ]
    },
    {
     "name": "stderr",
     "output_type": "stream",
     "text": [
      "\r\n",
      "  6%|███████▌                                                                                                                      | 36/600 [00:07<01:05,  8.66it/s]"
     ]
    },
    {
     "name": "stderr",
     "output_type": "stream",
     "text": [
      "\r\n",
      "  6%|███████▊                                                                                                                      | 37/600 [00:07<01:05,  8.53it/s]"
     ]
    },
    {
     "name": "stderr",
     "output_type": "stream",
     "text": [
      "\r\n",
      "  6%|███████▉                                                                                                                      | 38/600 [00:07<01:07,  8.37it/s]"
     ]
    },
    {
     "name": "stderr",
     "output_type": "stream",
     "text": [
      "\r\n",
      "  6%|████████▏                                                                                                                     | 39/600 [00:07<01:07,  8.31it/s]"
     ]
    },
    {
     "name": "stderr",
     "output_type": "stream",
     "text": [
      "\r\n",
      "  7%|████████▍                                                                                                                     | 40/600 [00:07<01:07,  8.28it/s]"
     ]
    },
    {
     "name": "stderr",
     "output_type": "stream",
     "text": [
      "\r\n",
      "  7%|████████▌                                                                                                                     | 41/600 [00:07<01:08,  8.20it/s]"
     ]
    },
    {
     "name": "stderr",
     "output_type": "stream",
     "text": [
      "\r\n",
      "  7%|████████▊                                                                                                                     | 42/600 [00:07<01:07,  8.25it/s]"
     ]
    },
    {
     "name": "stderr",
     "output_type": "stream",
     "text": [
      "\r\n",
      "  7%|█████████                                                                                                                     | 43/600 [00:07<01:07,  8.31it/s]"
     ]
    },
    {
     "name": "stderr",
     "output_type": "stream",
     "text": [
      "\r\n",
      "  7%|█████████▏                                                                                                                    | 44/600 [00:08<01:06,  8.35it/s]"
     ]
    },
    {
     "name": "stderr",
     "output_type": "stream",
     "text": [
      "\r\n",
      "  8%|█████████▍                                                                                                                    | 45/600 [00:08<01:06,  8.40it/s]"
     ]
    },
    {
     "name": "stderr",
     "output_type": "stream",
     "text": [
      "\r\n",
      "  8%|█████████▋                                                                                                                    | 46/600 [00:08<01:06,  8.36it/s]"
     ]
    },
    {
     "name": "stderr",
     "output_type": "stream",
     "text": [
      "\r\n",
      "  8%|█████████▊                                                                                                                    | 47/600 [00:08<01:06,  8.38it/s]"
     ]
    },
    {
     "name": "stderr",
     "output_type": "stream",
     "text": [
      "\r\n",
      "  8%|██████████                                                                                                                    | 48/600 [00:08<01:06,  8.33it/s]"
     ]
    },
    {
     "name": "stderr",
     "output_type": "stream",
     "text": [
      "\r\n",
      "  8%|██████████▎                                                                                                                   | 49/600 [00:08<01:07,  8.21it/s]"
     ]
    },
    {
     "name": "stderr",
     "output_type": "stream",
     "text": [
      "\r\n",
      "  8%|██████████▌                                                                                                                   | 50/600 [00:08<01:07,  8.21it/s]"
     ]
    },
    {
     "name": "stderr",
     "output_type": "stream",
     "text": [
      "\r\n",
      "  8%|██████████▋                                                                                                                   | 51/600 [00:08<01:09,  7.94it/s]"
     ]
    },
    {
     "name": "stderr",
     "output_type": "stream",
     "text": [
      "\r\n",
      "  9%|██████████▉                                                                                                                   | 52/600 [00:09<01:07,  8.13it/s]"
     ]
    },
    {
     "name": "stderr",
     "output_type": "stream",
     "text": [
      "\r\n",
      "  9%|███████████▏                                                                                                                  | 53/600 [00:09<01:06,  8.20it/s]"
     ]
    },
    {
     "name": "stderr",
     "output_type": "stream",
     "text": [
      "\r\n",
      "  9%|███████████▎                                                                                                                  | 54/600 [00:09<01:06,  8.27it/s]"
     ]
    },
    {
     "name": "stderr",
     "output_type": "stream",
     "text": [
      "\r\n",
      "  9%|███████████▌                                                                                                                  | 55/600 [00:09<01:05,  8.32it/s]"
     ]
    },
    {
     "name": "stderr",
     "output_type": "stream",
     "text": [
      "\r\n",
      "  9%|███████████▊                                                                                                                  | 56/600 [00:09<01:05,  8.36it/s]"
     ]
    },
    {
     "name": "stderr",
     "output_type": "stream",
     "text": [
      "\r\n",
      " 10%|███████████▉                                                                                                                  | 57/600 [00:09<01:04,  8.38it/s]"
     ]
    },
    {
     "name": "stderr",
     "output_type": "stream",
     "text": [
      "\r\n",
      " 10%|████████████▏                                                                                                                 | 58/600 [00:09<01:04,  8.40it/s]"
     ]
    },
    {
     "name": "stderr",
     "output_type": "stream",
     "text": [
      "\r\n",
      " 10%|████████████▍                                                                                                                 | 59/600 [00:09<01:04,  8.40it/s]"
     ]
    },
    {
     "name": "stderr",
     "output_type": "stream",
     "text": [
      "\r\n",
      " 10%|████████████▌                                                                                                                 | 60/600 [00:09<01:04,  8.36it/s]"
     ]
    },
    {
     "name": "stderr",
     "output_type": "stream",
     "text": [
      "\r\n",
      " 10%|████████████▊                                                                                                                 | 61/600 [00:10<01:04,  8.30it/s]"
     ]
    },
    {
     "name": "stderr",
     "output_type": "stream",
     "text": [
      "\r\n",
      " 10%|█████████████                                                                                                                 | 62/600 [00:10<01:05,  8.23it/s]"
     ]
    },
    {
     "name": "stderr",
     "output_type": "stream",
     "text": [
      "\r\n",
      " 10%|█████████████▏                                                                                                                | 63/600 [00:10<01:05,  8.14it/s]"
     ]
    },
    {
     "name": "stderr",
     "output_type": "stream",
     "text": [
      "\r\n",
      " 11%|█████████████▍                                                                                                                | 64/600 [00:10<01:05,  8.22it/s]"
     ]
    },
    {
     "name": "stderr",
     "output_type": "stream",
     "text": [
      "\r\n",
      " 11%|█████████████▋                                                                                                                | 65/600 [00:10<01:04,  8.28it/s]"
     ]
    },
    {
     "name": "stderr",
     "output_type": "stream",
     "text": [
      "\r\n",
      " 11%|█████████████▊                                                                                                                | 66/600 [00:10<01:04,  8.29it/s]"
     ]
    },
    {
     "name": "stderr",
     "output_type": "stream",
     "text": [
      "\r\n",
      " 11%|██████████████                                                                                                                | 67/600 [00:10<01:03,  8.33it/s]"
     ]
    },
    {
     "name": "stderr",
     "output_type": "stream",
     "text": [
      "\r\n",
      " 11%|██████████████▎                                                                                                               | 68/600 [00:10<01:05,  8.18it/s]"
     ]
    },
    {
     "name": "stderr",
     "output_type": "stream",
     "text": [
      "\r\n",
      " 12%|██████████████▍                                                                                                               | 69/600 [00:11<01:05,  8.06it/s]"
     ]
    },
    {
     "name": "stderr",
     "output_type": "stream",
     "text": [
      "\r\n",
      " 12%|██████████████▋                                                                                                               | 70/600 [00:11<01:06,  8.02it/s]"
     ]
    },
    {
     "name": "stderr",
     "output_type": "stream",
     "text": [
      "\r\n",
      " 12%|██████████████▉                                                                                                               | 71/600 [00:11<01:06,  7.96it/s]"
     ]
    },
    {
     "name": "stderr",
     "output_type": "stream",
     "text": [
      "\r\n",
      " 12%|███████████████                                                                                                               | 72/600 [00:11<01:06,  7.96it/s]"
     ]
    },
    {
     "name": "stderr",
     "output_type": "stream",
     "text": [
      "\r\n",
      " 12%|███████████████▎                                                                                                              | 73/600 [00:11<01:06,  7.96it/s]"
     ]
    },
    {
     "name": "stderr",
     "output_type": "stream",
     "text": [
      "\r\n",
      " 12%|███████████████▌                                                                                                              | 74/600 [00:11<01:06,  7.91it/s]"
     ]
    },
    {
     "name": "stderr",
     "output_type": "stream",
     "text": [
      "\r\n",
      " 12%|███████████████▊                                                                                                              | 75/600 [00:11<01:06,  7.88it/s]"
     ]
    },
    {
     "name": "stderr",
     "output_type": "stream",
     "text": [
      "\r\n",
      " 13%|███████████████▉                                                                                                              | 76/600 [00:11<01:06,  7.83it/s]"
     ]
    },
    {
     "name": "stderr",
     "output_type": "stream",
     "text": [
      "\r\n",
      " 13%|████████████████▏                                                                                                             | 77/600 [00:12<01:09,  7.48it/s]"
     ]
    },
    {
     "name": "stderr",
     "output_type": "stream",
     "text": [
      "\r\n",
      " 13%|████████████████▍                                                                                                             | 78/600 [00:12<01:08,  7.65it/s]"
     ]
    },
    {
     "name": "stderr",
     "output_type": "stream",
     "text": [
      "\r\n",
      " 13%|████████████████▌                                                                                                             | 79/600 [00:12<01:06,  7.87it/s]"
     ]
    },
    {
     "name": "stderr",
     "output_type": "stream",
     "text": [
      "\r\n",
      " 13%|████████████████▊                                                                                                             | 80/600 [00:12<01:05,  7.93it/s]"
     ]
    },
    {
     "name": "stderr",
     "output_type": "stream",
     "text": [
      "\r\n",
      " 14%|█████████████████                                                                                                             | 81/600 [00:12<01:05,  7.91it/s]"
     ]
    },
    {
     "name": "stderr",
     "output_type": "stream",
     "text": [
      "\r\n",
      " 14%|█████████████████▏                                                                                                            | 82/600 [00:12<01:05,  7.96it/s]"
     ]
    },
    {
     "name": "stderr",
     "output_type": "stream",
     "text": [
      "\r\n",
      " 14%|█████████████████▍                                                                                                            | 83/600 [00:12<01:04,  7.97it/s]"
     ]
    },
    {
     "name": "stderr",
     "output_type": "stream",
     "text": [
      "\r\n",
      " 14%|█████████████████▋                                                                                                            | 84/600 [00:12<01:04,  7.96it/s]"
     ]
    },
    {
     "name": "stderr",
     "output_type": "stream",
     "text": [
      "\r\n",
      " 14%|█████████████████▊                                                                                                            | 85/600 [00:13<01:04,  7.93it/s]"
     ]
    },
    {
     "name": "stderr",
     "output_type": "stream",
     "text": [
      "\r\n",
      " 14%|██████████████████                                                                                                            | 86/600 [00:13<01:04,  8.00it/s]"
     ]
    },
    {
     "name": "stderr",
     "output_type": "stream",
     "text": [
      "\r\n",
      " 14%|██████████████████▎                                                                                                           | 87/600 [00:13<01:03,  8.12it/s]"
     ]
    },
    {
     "name": "stderr",
     "output_type": "stream",
     "text": [
      "\r\n",
      " 15%|██████████████████▍                                                                                                           | 88/600 [00:13<01:02,  8.18it/s]"
     ]
    },
    {
     "name": "stderr",
     "output_type": "stream",
     "text": [
      "\r\n",
      " 15%|██████████████████▋                                                                                                           | 89/600 [00:13<01:03,  8.10it/s]"
     ]
    },
    {
     "name": "stderr",
     "output_type": "stream",
     "text": [
      "\r\n",
      " 15%|██████████████████▉                                                                                                           | 90/600 [00:13<01:00,  8.39it/s]"
     ]
    },
    {
     "name": "stderr",
     "output_type": "stream",
     "text": [
      "\r\n",
      " 15%|███████████████████                                                                                                           | 91/600 [00:13<00:57,  8.80it/s]"
     ]
    },
    {
     "name": "stderr",
     "output_type": "stream",
     "text": [
      "\r\n",
      " 15%|███████████████████▎                                                                                                          | 92/600 [00:13<00:56,  9.06it/s]"
     ]
    },
    {
     "name": "stderr",
     "output_type": "stream",
     "text": [
      "\r\n",
      " 16%|███████████████████▌                                                                                                          | 93/600 [00:14<00:57,  8.85it/s]"
     ]
    },
    {
     "name": "stderr",
     "output_type": "stream",
     "text": [
      "\r\n",
      " 16%|███████████████████▋                                                                                                          | 94/600 [00:14<00:57,  8.73it/s]"
     ]
    },
    {
     "name": "stderr",
     "output_type": "stream",
     "text": [
      "\r\n",
      " 16%|███████████████████▉                                                                                                          | 95/600 [00:14<00:59,  8.53it/s]"
     ]
    },
    {
     "name": "stderr",
     "output_type": "stream",
     "text": [
      "\r\n",
      " 16%|████████████████████▏                                                                                                         | 96/600 [00:14<01:00,  8.31it/s]"
     ]
    },
    {
     "name": "stderr",
     "output_type": "stream",
     "text": [
      "\r\n",
      " 16%|████████████████████▎                                                                                                         | 97/600 [00:14<01:01,  8.21it/s]"
     ]
    },
    {
     "name": "stderr",
     "output_type": "stream",
     "text": [
      "\r\n",
      " 16%|████████████████████▌                                                                                                         | 98/600 [00:14<01:02,  8.06it/s]"
     ]
    },
    {
     "name": "stderr",
     "output_type": "stream",
     "text": [
      "\r\n",
      " 16%|████████████████████▊                                                                                                         | 99/600 [00:14<01:01,  8.15it/s]"
     ]
    },
    {
     "name": "stderr",
     "output_type": "stream",
     "text": [
      "\r\n",
      " 17%|████████████████████▊                                                                                                        | 100/600 [00:14<01:01,  8.14it/s]"
     ]
    },
    {
     "name": "stderr",
     "output_type": "stream",
     "text": [
      "\r\n",
      " 17%|█████████████████████                                                                                                        | 101/600 [00:15<01:01,  8.11it/s]"
     ]
    },
    {
     "name": "stderr",
     "output_type": "stream",
     "text": [
      "\r\n",
      " 17%|█████████████████████▎                                                                                                       | 102/600 [00:15<01:01,  8.06it/s]"
     ]
    },
    {
     "name": "stderr",
     "output_type": "stream",
     "text": [
      "\r\n",
      " 17%|█████████████████████▍                                                                                                       | 103/600 [00:15<01:01,  8.13it/s]"
     ]
    },
    {
     "name": "stderr",
     "output_type": "stream",
     "text": [
      "\r\n",
      " 17%|█████████████████████▋                                                                                                       | 104/600 [00:15<01:02,  7.92it/s]"
     ]
    },
    {
     "name": "stderr",
     "output_type": "stream",
     "text": [
      "\r\n",
      " 18%|█████████████████████▉                                                                                                       | 105/600 [00:15<01:03,  7.83it/s]"
     ]
    },
    {
     "name": "stderr",
     "output_type": "stream",
     "text": [
      "\r\n",
      " 18%|██████████████████████                                                                                                       | 106/600 [00:15<01:03,  7.77it/s]"
     ]
    },
    {
     "name": "stderr",
     "output_type": "stream",
     "text": [
      "\r\n",
      " 18%|██████████████████████▎                                                                                                      | 107/600 [00:15<01:03,  7.82it/s]"
     ]
    },
    {
     "name": "stderr",
     "output_type": "stream",
     "text": [
      "\r\n",
      " 18%|██████████████████████▌                                                                                                      | 108/600 [00:15<01:03,  7.73it/s]"
     ]
    },
    {
     "name": "stderr",
     "output_type": "stream",
     "text": [
      "\r\n",
      " 18%|██████████████████████▋                                                                                                      | 109/600 [00:16<01:02,  7.80it/s]"
     ]
    },
    {
     "name": "stderr",
     "output_type": "stream",
     "text": [
      "\r\n",
      " 18%|██████████████████████▉                                                                                                      | 110/600 [00:16<01:01,  7.92it/s]"
     ]
    },
    {
     "name": "stderr",
     "output_type": "stream",
     "text": [
      "\r\n",
      " 18%|███████████████████████▏                                                                                                     | 111/600 [00:16<01:00,  8.06it/s]"
     ]
    },
    {
     "name": "stderr",
     "output_type": "stream",
     "text": [
      "\r\n",
      " 19%|███████████████████████▎                                                                                                     | 112/600 [00:16<01:01,  8.00it/s]"
     ]
    },
    {
     "name": "stderr",
     "output_type": "stream",
     "text": [
      "\r\n",
      " 19%|███████████████████████▌                                                                                                     | 113/600 [00:16<01:01,  7.98it/s]"
     ]
    },
    {
     "name": "stderr",
     "output_type": "stream",
     "text": [
      "\r\n",
      " 19%|███████████████████████▊                                                                                                     | 114/600 [00:16<01:01,  7.94it/s]"
     ]
    },
    {
     "name": "stderr",
     "output_type": "stream",
     "text": [
      "\r\n",
      " 19%|███████████████████████▉                                                                                                     | 115/600 [00:16<01:01,  7.93it/s]"
     ]
    },
    {
     "name": "stderr",
     "output_type": "stream",
     "text": [
      "\r\n",
      " 19%|████████████████████████▏                                                                                                    | 116/600 [00:16<01:00,  7.95it/s]"
     ]
    },
    {
     "name": "stderr",
     "output_type": "stream",
     "text": [
      "\r\n",
      " 20%|████████████████████████▍                                                                                                    | 117/600 [00:17<01:01,  7.92it/s]"
     ]
    },
    {
     "name": "stderr",
     "output_type": "stream",
     "text": [
      "\r\n",
      " 20%|████████████████████████▌                                                                                                    | 118/600 [00:17<01:00,  7.93it/s]"
     ]
    },
    {
     "name": "stderr",
     "output_type": "stream",
     "text": [
      "\r\n",
      " 20%|████████████████████████▊                                                                                                    | 119/600 [00:17<01:01,  7.85it/s]"
     ]
    },
    {
     "name": "stderr",
     "output_type": "stream",
     "text": [
      "\r\n",
      " 20%|█████████████████████████                                                                                                    | 120/600 [00:17<01:00,  7.89it/s]"
     ]
    },
    {
     "name": "stderr",
     "output_type": "stream",
     "text": [
      "\r\n",
      " 20%|█████████████████████████▏                                                                                                   | 121/600 [00:17<01:00,  7.94it/s]"
     ]
    },
    {
     "name": "stderr",
     "output_type": "stream",
     "text": [
      "\r\n",
      " 20%|█████████████████████████▍                                                                                                   | 122/600 [00:17<01:00,  7.94it/s]"
     ]
    },
    {
     "name": "stderr",
     "output_type": "stream",
     "text": [
      "\r\n",
      " 20%|█████████████████████████▋                                                                                                   | 123/600 [00:17<01:00,  7.86it/s]"
     ]
    },
    {
     "name": "stderr",
     "output_type": "stream",
     "text": [
      "\r\n",
      " 21%|█████████████████████████▊                                                                                                   | 124/600 [00:17<01:01,  7.79it/s]"
     ]
    },
    {
     "name": "stderr",
     "output_type": "stream",
     "text": [
      "\r\n",
      " 21%|██████████████████████████                                                                                                   | 125/600 [00:18<00:59,  7.97it/s]"
     ]
    },
    {
     "name": "stderr",
     "output_type": "stream",
     "text": [
      "\r\n",
      " 21%|██████████████████████████▎                                                                                                  | 126/600 [00:18<01:01,  7.74it/s]"
     ]
    },
    {
     "name": "stderr",
     "output_type": "stream",
     "text": [
      "\r\n",
      " 21%|██████████████████████████▍                                                                                                  | 127/600 [00:18<01:00,  7.82it/s]"
     ]
    },
    {
     "name": "stderr",
     "output_type": "stream",
     "text": [
      "\r\n",
      " 21%|██████████████████████████▋                                                                                                  | 128/600 [00:18<01:01,  7.67it/s]"
     ]
    },
    {
     "name": "stderr",
     "output_type": "stream",
     "text": [
      "\r\n",
      " 22%|██████████████████████████▉                                                                                                  | 129/600 [00:18<01:03,  7.46it/s]"
     ]
    },
    {
     "name": "stderr",
     "output_type": "stream",
     "text": [
      "\r\n",
      " 22%|███████████████████████████                                                                                                  | 130/600 [00:18<01:00,  7.74it/s]"
     ]
    },
    {
     "name": "stderr",
     "output_type": "stream",
     "text": [
      "\r\n",
      " 22%|███████████████████████████▎                                                                                                 | 131/600 [00:18<00:59,  7.93it/s]"
     ]
    },
    {
     "name": "stderr",
     "output_type": "stream",
     "text": [
      "\r\n",
      " 22%|███████████████████████████▌                                                                                                 | 132/600 [00:18<00:57,  8.08it/s]"
     ]
    },
    {
     "name": "stderr",
     "output_type": "stream",
     "text": [
      "\r\n",
      " 22%|███████████████████████████▋                                                                                                 | 133/600 [00:19<00:57,  8.10it/s]"
     ]
    },
    {
     "name": "stderr",
     "output_type": "stream",
     "text": [
      "\r\n",
      " 22%|███████████████████████████▉                                                                                                 | 134/600 [00:19<00:58,  7.95it/s]"
     ]
    },
    {
     "name": "stderr",
     "output_type": "stream",
     "text": [
      "\r\n",
      " 22%|████████████████████████████▏                                                                                                | 135/600 [00:19<00:57,  8.03it/s]"
     ]
    },
    {
     "name": "stderr",
     "output_type": "stream",
     "text": [
      "\r\n",
      " 23%|████████████████████████████▎                                                                                                | 136/600 [00:19<00:58,  7.93it/s]"
     ]
    },
    {
     "name": "stderr",
     "output_type": "stream",
     "text": [
      "\r\n",
      " 23%|████████████████████████████▌                                                                                                | 137/600 [00:19<00:57,  7.99it/s]"
     ]
    },
    {
     "name": "stderr",
     "output_type": "stream",
     "text": [
      "\r\n",
      " 23%|████████████████████████████▊                                                                                                | 138/600 [00:19<00:57,  8.01it/s]"
     ]
    },
    {
     "name": "stderr",
     "output_type": "stream",
     "text": [
      "\r\n",
      " 23%|████████████████████████████▉                                                                                                | 139/600 [00:19<00:57,  8.08it/s]"
     ]
    },
    {
     "name": "stderr",
     "output_type": "stream",
     "text": [
      "\r\n",
      " 23%|█████████████████████████████▏                                                                                               | 140/600 [00:19<00:56,  8.12it/s]"
     ]
    },
    {
     "name": "stderr",
     "output_type": "stream",
     "text": [
      "\r\n",
      " 24%|█████████████████████████████▍                                                                                               | 141/600 [00:20<00:55,  8.21it/s]"
     ]
    },
    {
     "name": "stderr",
     "output_type": "stream",
     "text": [
      "\r\n",
      " 24%|█████████████████████████████▌                                                                                               | 142/600 [00:20<00:55,  8.24it/s]"
     ]
    },
    {
     "name": "stderr",
     "output_type": "stream",
     "text": [
      "\r\n",
      " 24%|█████████████████████████████▊                                                                                               | 143/600 [00:20<00:53,  8.57it/s]"
     ]
    },
    {
     "name": "stderr",
     "output_type": "stream",
     "text": [
      "\r\n",
      " 24%|██████████████████████████████                                                                                               | 144/600 [00:20<00:53,  8.47it/s]"
     ]
    },
    {
     "name": "stderr",
     "output_type": "stream",
     "text": [
      "\r\n",
      " 24%|██████████████████████████████▏                                                                                              | 145/600 [00:20<00:52,  8.65it/s]"
     ]
    },
    {
     "name": "stderr",
     "output_type": "stream",
     "text": [
      "\r\n",
      " 24%|██████████████████████████████▍                                                                                              | 146/600 [00:20<00:51,  8.83it/s]"
     ]
    },
    {
     "name": "stderr",
     "output_type": "stream",
     "text": [
      "\r\n",
      " 24%|██████████████████████████████▋                                                                                              | 147/600 [00:20<00:50,  8.94it/s]"
     ]
    },
    {
     "name": "stderr",
     "output_type": "stream",
     "text": [
      "\r\n",
      " 25%|██████████████████████████████▊                                                                                              | 148/600 [00:20<00:49,  9.18it/s]"
     ]
    },
    {
     "name": "stderr",
     "output_type": "stream",
     "text": [
      "\r\n",
      " 25%|███████████████████████████████                                                                                              | 149/600 [00:20<00:48,  9.34it/s]"
     ]
    },
    {
     "name": "stderr",
     "output_type": "stream",
     "text": [
      "\r\n",
      " 25%|███████████████████████████████▎                                                                                             | 150/600 [00:21<00:47,  9.51it/s]"
     ]
    },
    {
     "name": "stderr",
     "output_type": "stream",
     "text": [
      "\r\n",
      " 25%|███████████████████████████████▍                                                                                             | 151/600 [00:21<00:49,  9.15it/s]"
     ]
    },
    {
     "name": "stderr",
     "output_type": "stream",
     "text": [
      "\r\n",
      " 25%|███████████████████████████████▋                                                                                             | 152/600 [00:21<00:50,  8.95it/s]"
     ]
    },
    {
     "name": "stderr",
     "output_type": "stream",
     "text": [
      "\r\n",
      " 26%|███████████████████████████████▉                                                                                             | 153/600 [00:21<00:50,  8.81it/s]"
     ]
    },
    {
     "name": "stderr",
     "output_type": "stream",
     "text": [
      "\r\n",
      " 26%|████████████████████████████████                                                                                             | 154/600 [00:21<00:51,  8.69it/s]"
     ]
    },
    {
     "name": "stderr",
     "output_type": "stream",
     "text": [
      "\r\n",
      " 26%|████████████████████████████████▎                                                                                            | 155/600 [00:21<00:51,  8.57it/s]"
     ]
    },
    {
     "name": "stderr",
     "output_type": "stream",
     "text": [
      "\r\n",
      " 26%|████████████████████████████████▌                                                                                            | 156/600 [00:21<00:52,  8.52it/s]"
     ]
    },
    {
     "name": "stderr",
     "output_type": "stream",
     "text": [
      "\r\n",
      " 26%|████████████████████████████████▋                                                                                            | 157/600 [00:21<00:52,  8.42it/s]"
     ]
    },
    {
     "name": "stderr",
     "output_type": "stream",
     "text": [
      "\r\n",
      " 26%|████████████████████████████████▉                                                                                            | 158/600 [00:22<00:53,  8.25it/s]"
     ]
    },
    {
     "name": "stderr",
     "output_type": "stream",
     "text": [
      "\r\n",
      " 26%|█████████████████████████████████▏                                                                                           | 159/600 [00:22<00:53,  8.20it/s]"
     ]
    },
    {
     "name": "stderr",
     "output_type": "stream",
     "text": [
      "\r\n",
      " 27%|█████████████████████████████████▎                                                                                           | 160/600 [00:22<00:54,  8.14it/s]"
     ]
    },
    {
     "name": "stderr",
     "output_type": "stream",
     "text": [
      "\r\n",
      " 27%|█████████████████████████████████▌                                                                                           | 161/600 [00:22<00:53,  8.19it/s]"
     ]
    },
    {
     "name": "stderr",
     "output_type": "stream",
     "text": [
      "\r\n",
      " 27%|█████████████████████████████████▊                                                                                           | 162/600 [00:22<00:53,  8.25it/s]"
     ]
    },
    {
     "name": "stderr",
     "output_type": "stream",
     "text": [
      "\r\n",
      " 27%|█████████████████████████████████▉                                                                                           | 163/600 [00:22<00:52,  8.33it/s]"
     ]
    },
    {
     "name": "stderr",
     "output_type": "stream",
     "text": [
      "\r\n",
      " 27%|██████████████████████████████████▏                                                                                          | 164/600 [00:22<00:52,  8.37it/s]"
     ]
    },
    {
     "name": "stderr",
     "output_type": "stream",
     "text": [
      "\r\n",
      " 28%|██████████████████████████████████▍                                                                                          | 165/600 [00:22<00:51,  8.42it/s]"
     ]
    },
    {
     "name": "stderr",
     "output_type": "stream",
     "text": [
      "\r\n",
      " 28%|██████████████████████████████████▌                                                                                          | 166/600 [00:22<00:51,  8.43it/s]"
     ]
    },
    {
     "name": "stderr",
     "output_type": "stream",
     "text": [
      "\r\n",
      " 28%|██████████████████████████████████▊                                                                                          | 167/600 [00:23<00:51,  8.42it/s]"
     ]
    },
    {
     "name": "stderr",
     "output_type": "stream",
     "text": [
      "\r\n",
      " 28%|███████████████████████████████████                                                                                          | 168/600 [00:23<00:51,  8.41it/s]"
     ]
    },
    {
     "name": "stderr",
     "output_type": "stream",
     "text": [
      "\r\n",
      " 28%|███████████████████████████████████▏                                                                                         | 169/600 [00:23<00:51,  8.41it/s]"
     ]
    },
    {
     "name": "stderr",
     "output_type": "stream",
     "text": [
      "\r\n",
      " 28%|███████████████████████████████████▍                                                                                         | 170/600 [00:23<00:51,  8.36it/s]"
     ]
    },
    {
     "name": "stderr",
     "output_type": "stream",
     "text": [
      "\r\n",
      " 28%|███████████████████████████████████▋                                                                                         | 171/600 [00:23<00:51,  8.39it/s]"
     ]
    },
    {
     "name": "stderr",
     "output_type": "stream",
     "text": [
      "\r\n",
      " 29%|███████████████████████████████████▊                                                                                         | 172/600 [00:23<00:51,  8.32it/s]"
     ]
    },
    {
     "name": "stderr",
     "output_type": "stream",
     "text": [
      "\r\n",
      " 29%|████████████████████████████████████                                                                                         | 173/600 [00:23<00:51,  8.35it/s]"
     ]
    },
    {
     "name": "stderr",
     "output_type": "stream",
     "text": [
      "\r\n",
      " 29%|████████████████████████████████████▎                                                                                        | 174/600 [00:23<00:51,  8.34it/s]"
     ]
    },
    {
     "name": "stderr",
     "output_type": "stream",
     "text": [
      "\r\n",
      " 29%|████████████████████████████████████▍                                                                                        | 175/600 [00:24<00:50,  8.37it/s]"
     ]
    },
    {
     "name": "stderr",
     "output_type": "stream",
     "text": [
      "\r\n",
      " 29%|████████████████████████████████████▋                                                                                        | 176/600 [00:24<00:50,  8.37it/s]"
     ]
    },
    {
     "name": "stderr",
     "output_type": "stream",
     "text": [
      "\r\n",
      " 30%|████████████████████████████████████▉                                                                                        | 177/600 [00:24<00:50,  8.36it/s]"
     ]
    },
    {
     "name": "stderr",
     "output_type": "stream",
     "text": [
      "\r\n",
      " 30%|█████████████████████████████████████                                                                                        | 178/600 [00:24<00:50,  8.35it/s]"
     ]
    },
    {
     "name": "stderr",
     "output_type": "stream",
     "text": [
      "\r\n",
      " 30%|█████████████████████████████████████▎                                                                                       | 179/600 [00:24<00:50,  8.36it/s]"
     ]
    },
    {
     "name": "stderr",
     "output_type": "stream",
     "text": [
      "\r\n",
      " 30%|█████████████████████████████████████▌                                                                                       | 180/600 [00:24<00:50,  8.38it/s]"
     ]
    },
    {
     "name": "stderr",
     "output_type": "stream",
     "text": [
      "\r\n",
      " 30%|█████████████████████████████████████▋                                                                                       | 181/600 [00:24<00:50,  8.36it/s]"
     ]
    },
    {
     "name": "stderr",
     "output_type": "stream",
     "text": [
      "\r\n",
      " 30%|█████████████████████████████████████▉                                                                                       | 182/600 [00:24<00:50,  8.32it/s]"
     ]
    },
    {
     "name": "stderr",
     "output_type": "stream",
     "text": [
      "\r\n",
      " 30%|██████████████████████████████████████▏                                                                                      | 183/600 [00:24<00:49,  8.42it/s]"
     ]
    },
    {
     "name": "stderr",
     "output_type": "stream",
     "text": [
      "\r\n",
      " 31%|██████████████████████████████████████▎                                                                                      | 184/600 [00:25<00:49,  8.42it/s]"
     ]
    },
    {
     "name": "stderr",
     "output_type": "stream",
     "text": [
      "\r\n",
      " 31%|██████████████████████████████████████▌                                                                                      | 185/600 [00:25<00:49,  8.39it/s]"
     ]
    },
    {
     "name": "stderr",
     "output_type": "stream",
     "text": [
      "\r\n",
      " 31%|██████████████████████████████████████▊                                                                                      | 186/600 [00:25<00:49,  8.35it/s]"
     ]
    },
    {
     "name": "stderr",
     "output_type": "stream",
     "text": [
      "\r\n",
      " 31%|██████████████████████████████████████▉                                                                                      | 187/600 [00:25<00:50,  8.24it/s]"
     ]
    },
    {
     "name": "stderr",
     "output_type": "stream",
     "text": [
      "\r\n",
      " 31%|███████████████████████████████████████▏                                                                                     | 188/600 [00:25<00:50,  8.20it/s]"
     ]
    },
    {
     "name": "stderr",
     "output_type": "stream",
     "text": [
      "\r\n",
      " 32%|███████████████████████████████████████▍                                                                                     | 189/600 [00:25<00:49,  8.23it/s]"
     ]
    },
    {
     "name": "stderr",
     "output_type": "stream",
     "text": [
      "\r\n",
      " 32%|███████████████████████████████████████▌                                                                                     | 190/600 [00:25<00:49,  8.31it/s]"
     ]
    },
    {
     "name": "stderr",
     "output_type": "stream",
     "text": [
      "\r\n",
      " 32%|███████████████████████████████████████▊                                                                                     | 191/600 [00:25<00:49,  8.29it/s]"
     ]
    },
    {
     "name": "stderr",
     "output_type": "stream",
     "text": [
      "\r\n",
      " 32%|████████████████████████████████████████                                                                                     | 192/600 [00:26<00:49,  8.21it/s]"
     ]
    },
    {
     "name": "stderr",
     "output_type": "stream",
     "text": [
      "\r\n",
      " 32%|████████████████████████████████████████▏                                                                                    | 193/600 [00:26<00:49,  8.30it/s]"
     ]
    },
    {
     "name": "stderr",
     "output_type": "stream",
     "text": [
      "\r\n",
      " 32%|████████████████████████████████████████▍                                                                                    | 194/600 [00:26<00:48,  8.32it/s]"
     ]
    },
    {
     "name": "stderr",
     "output_type": "stream",
     "text": [
      "\r\n",
      " 32%|████████████████████████████████████████▋                                                                                    | 195/600 [00:26<00:48,  8.33it/s]"
     ]
    },
    {
     "name": "stderr",
     "output_type": "stream",
     "text": [
      "\r\n",
      " 33%|████████████████████████████████████████▊                                                                                    | 196/600 [00:26<00:48,  8.36it/s]"
     ]
    },
    {
     "name": "stderr",
     "output_type": "stream",
     "text": [
      "\r\n",
      " 33%|█████████████████████████████████████████                                                                                    | 197/600 [00:26<00:47,  8.41it/s]"
     ]
    },
    {
     "name": "stderr",
     "output_type": "stream",
     "text": [
      "\r\n",
      " 33%|█████████████████████████████████████████▎                                                                                   | 198/600 [00:26<00:48,  8.37it/s]"
     ]
    },
    {
     "name": "stderr",
     "output_type": "stream",
     "text": [
      "\r\n",
      " 33%|█████████████████████████████████████████▍                                                                                   | 199/600 [00:26<00:47,  8.41it/s]"
     ]
    },
    {
     "name": "stderr",
     "output_type": "stream",
     "text": [
      "\r\n",
      " 33%|█████████████████████████████████████████▋                                                                                   | 200/600 [00:27<00:47,  8.42it/s]"
     ]
    },
    {
     "name": "stderr",
     "output_type": "stream",
     "text": [
      "\r\n",
      " 34%|█████████████████████████████████████████▉                                                                                   | 201/600 [00:27<00:47,  8.42it/s]"
     ]
    },
    {
     "name": "stderr",
     "output_type": "stream",
     "text": [
      "\r\n",
      " 34%|██████████████████████████████████████████                                                                                   | 202/600 [00:27<00:47,  8.38it/s]"
     ]
    },
    {
     "name": "stderr",
     "output_type": "stream",
     "text": [
      "\r\n",
      " 34%|██████████████████████████████████████████▎                                                                                  | 203/600 [00:27<00:47,  8.39it/s]"
     ]
    },
    {
     "name": "stderr",
     "output_type": "stream",
     "text": [
      "\r\n",
      " 34%|██████████████████████████████████████████▌                                                                                  | 204/600 [00:27<00:47,  8.39it/s]"
     ]
    },
    {
     "name": "stderr",
     "output_type": "stream",
     "text": [
      "\r\n",
      " 34%|██████████████████████████████████████████▋                                                                                  | 205/600 [00:27<00:47,  8.39it/s]"
     ]
    },
    {
     "name": "stderr",
     "output_type": "stream",
     "text": [
      "\r\n",
      " 34%|██████████████████████████████████████████▉                                                                                  | 206/600 [00:27<00:46,  8.39it/s]"
     ]
    },
    {
     "name": "stderr",
     "output_type": "stream",
     "text": [
      "\r\n",
      " 34%|███████████████████████████████████████████▏                                                                                 | 207/600 [00:27<00:46,  8.41it/s]"
     ]
    },
    {
     "name": "stderr",
     "output_type": "stream",
     "text": [
      "\r\n",
      " 35%|███████████████████████████████████████████▎                                                                                 | 208/600 [00:27<00:46,  8.38it/s]"
     ]
    },
    {
     "name": "stderr",
     "output_type": "stream",
     "text": [
      "\r\n",
      " 35%|███████████████████████████████████████████▌                                                                                 | 209/600 [00:28<00:46,  8.41it/s]"
     ]
    },
    {
     "name": "stderr",
     "output_type": "stream",
     "text": [
      "\r\n",
      " 35%|███████████████████████████████████████████▊                                                                                 | 210/600 [00:28<00:46,  8.41it/s]"
     ]
    },
    {
     "name": "stderr",
     "output_type": "stream",
     "text": [
      "\r\n",
      " 35%|███████████████████████████████████████████▉                                                                                 | 211/600 [00:28<00:46,  8.43it/s]"
     ]
    },
    {
     "name": "stderr",
     "output_type": "stream",
     "text": [
      "\r\n",
      " 35%|████████████████████████████████████████████▏                                                                                | 212/600 [00:28<00:46,  8.40it/s]"
     ]
    },
    {
     "name": "stderr",
     "output_type": "stream",
     "text": [
      "\r\n",
      " 36%|████████████████████████████████████████████▍                                                                                | 213/600 [00:28<00:46,  8.39it/s]"
     ]
    },
    {
     "name": "stderr",
     "output_type": "stream",
     "text": [
      "\r\n",
      " 36%|████████████████████████████████████████████▌                                                                                | 214/600 [00:28<00:45,  8.40it/s]"
     ]
    },
    {
     "name": "stderr",
     "output_type": "stream",
     "text": [
      "\r\n",
      " 36%|████████████████████████████████████████████▊                                                                                | 215/600 [00:28<00:45,  8.38it/s]"
     ]
    },
    {
     "name": "stderr",
     "output_type": "stream",
     "text": [
      "\r\n",
      " 36%|█████████████████████████████████████████████                                                                                | 216/600 [00:28<00:45,  8.38it/s]"
     ]
    },
    {
     "name": "stderr",
     "output_type": "stream",
     "text": [
      "\r\n",
      " 36%|█████████████████████████████████████████████▏                                                                               | 217/600 [00:29<00:45,  8.39it/s]"
     ]
    },
    {
     "name": "stderr",
     "output_type": "stream",
     "text": [
      "\r\n",
      " 36%|█████████████████████████████████████████████▍                                                                               | 218/600 [00:29<00:45,  8.41it/s]"
     ]
    },
    {
     "name": "stderr",
     "output_type": "stream",
     "text": [
      "\r\n",
      " 36%|█████████████████████████████████████████████▋                                                                               | 219/600 [00:29<00:45,  8.40it/s]"
     ]
    },
    {
     "name": "stderr",
     "output_type": "stream",
     "text": [
      "\r\n",
      " 37%|█████████████████████████████████████████████▊                                                                               | 220/600 [00:29<00:44,  8.50it/s]"
     ]
    },
    {
     "name": "stderr",
     "output_type": "stream",
     "text": [
      "\r\n",
      " 37%|██████████████████████████████████████████████                                                                               | 221/600 [00:29<00:44,  8.53it/s]"
     ]
    },
    {
     "name": "stderr",
     "output_type": "stream",
     "text": [
      "\r\n",
      " 37%|██████████████████████████████████████████████▎                                                                              | 222/600 [00:29<00:43,  8.61it/s]"
     ]
    },
    {
     "name": "stderr",
     "output_type": "stream",
     "text": [
      "\r\n",
      " 37%|██████████████████████████████████████████████▍                                                                              | 223/600 [00:29<00:45,  8.29it/s]"
     ]
    },
    {
     "name": "stderr",
     "output_type": "stream",
     "text": [
      "\r\n",
      " 37%|██████████████████████████████████████████████▋                                                                              | 224/600 [00:29<00:46,  8.03it/s]"
     ]
    },
    {
     "name": "stderr",
     "output_type": "stream",
     "text": [
      "\r\n",
      " 38%|██████████████████████████████████████████████▉                                                                              | 225/600 [00:30<00:47,  7.83it/s]"
     ]
    },
    {
     "name": "stderr",
     "output_type": "stream",
     "text": [
      "\r\n",
      " 38%|███████████████████████████████████████████████                                                                              | 226/600 [00:30<00:48,  7.68it/s]"
     ]
    },
    {
     "name": "stderr",
     "output_type": "stream",
     "text": [
      "\r\n",
      " 38%|███████████████████████████████████████████████▎                                                                             | 227/600 [00:30<00:48,  7.63it/s]"
     ]
    },
    {
     "name": "stderr",
     "output_type": "stream",
     "text": [
      "\r\n",
      " 38%|███████████████████████████████████████████████▌                                                                             | 228/600 [00:30<00:48,  7.61it/s]"
     ]
    },
    {
     "name": "stderr",
     "output_type": "stream",
     "text": [
      "\r\n",
      " 38%|███████████████████████████████████████████████▋                                                                             | 229/600 [00:30<00:48,  7.58it/s]"
     ]
    },
    {
     "name": "stderr",
     "output_type": "stream",
     "text": [
      "\r\n",
      " 38%|███████████████████████████████████████████████▉                                                                             | 230/600 [00:30<00:48,  7.55it/s]"
     ]
    },
    {
     "name": "stderr",
     "output_type": "stream",
     "text": [
      "\r\n",
      " 38%|████████████████████████████████████████████████▏                                                                            | 231/600 [00:30<00:49,  7.52it/s]"
     ]
    },
    {
     "name": "stderr",
     "output_type": "stream",
     "text": [
      "\r\n",
      " 39%|████████████████████████████████████████████████▎                                                                            | 232/600 [00:30<00:49,  7.48it/s]"
     ]
    },
    {
     "name": "stderr",
     "output_type": "stream",
     "text": [
      "\r\n",
      " 39%|████████████████████████████████████████████████▌                                                                            | 233/600 [00:31<00:48,  7.50it/s]"
     ]
    },
    {
     "name": "stderr",
     "output_type": "stream",
     "text": [
      "\r\n",
      " 39%|████████████████████████████████████████████████▊                                                                            | 234/600 [00:31<00:48,  7.48it/s]"
     ]
    },
    {
     "name": "stderr",
     "output_type": "stream",
     "text": [
      "\r\n",
      " 39%|████████████████████████████████████████████████▉                                                                            | 235/600 [00:31<00:48,  7.60it/s]"
     ]
    },
    {
     "name": "stderr",
     "output_type": "stream",
     "text": [
      "\r\n",
      " 39%|█████████████████████████████████████████████████▏                                                                           | 236/600 [00:31<00:48,  7.54it/s]"
     ]
    },
    {
     "name": "stderr",
     "output_type": "stream",
     "text": [
      "\r\n",
      " 40%|█████████████████████████████████████████████████▍                                                                           | 237/600 [00:31<00:48,  7.49it/s]"
     ]
    },
    {
     "name": "stderr",
     "output_type": "stream",
     "text": [
      "\r\n",
      " 40%|█████████████████████████████████████████████████▌                                                                           | 238/600 [00:31<00:48,  7.51it/s]"
     ]
    },
    {
     "name": "stderr",
     "output_type": "stream",
     "text": [
      "\r\n",
      " 40%|█████████████████████████████████████████████████▊                                                                           | 239/600 [00:31<00:48,  7.50it/s]"
     ]
    },
    {
     "name": "stderr",
     "output_type": "stream",
     "text": [
      "\r\n",
      " 40%|██████████████████████████████████████████████████                                                                           | 240/600 [00:32<00:47,  7.55it/s]"
     ]
    },
    {
     "name": "stderr",
     "output_type": "stream",
     "text": [
      "\r\n",
      " 40%|██████████████████████████████████████████████████▏                                                                          | 241/600 [00:32<00:47,  7.61it/s]"
     ]
    },
    {
     "name": "stderr",
     "output_type": "stream",
     "text": [
      "\r\n",
      " 40%|██████████████████████████████████████████████████▍                                                                          | 242/600 [00:32<00:47,  7.61it/s]"
     ]
    },
    {
     "name": "stderr",
     "output_type": "stream",
     "text": [
      "\r\n",
      " 40%|██████████████████████████████████████████████████▋                                                                          | 243/600 [00:32<00:46,  7.66it/s]"
     ]
    },
    {
     "name": "stderr",
     "output_type": "stream",
     "text": [
      "\r\n",
      " 41%|██████████████████████████████████████████████████▊                                                                          | 244/600 [00:32<00:46,  7.73it/s]"
     ]
    },
    {
     "name": "stderr",
     "output_type": "stream",
     "text": [
      "\r\n",
      " 41%|███████████████████████████████████████████████████                                                                          | 245/600 [00:32<00:45,  7.81it/s]"
     ]
    },
    {
     "name": "stderr",
     "output_type": "stream",
     "text": [
      "\r\n",
      " 41%|███████████████████████████████████████████████████▎                                                                         | 246/600 [00:32<00:44,  7.88it/s]"
     ]
    },
    {
     "name": "stderr",
     "output_type": "stream",
     "text": [
      "\r\n",
      " 41%|███████████████████████████████████████████████████▍                                                                         | 247/600 [00:32<00:43,  8.14it/s]"
     ]
    },
    {
     "name": "stderr",
     "output_type": "stream",
     "text": [
      "\r\n",
      " 41%|███████████████████████████████████████████████████▋                                                                         | 248/600 [00:33<00:41,  8.45it/s]"
     ]
    },
    {
     "name": "stderr",
     "output_type": "stream",
     "text": [
      "\r\n",
      " 42%|███████████████████████████████████████████████████▉                                                                         | 249/600 [00:33<00:40,  8.68it/s]"
     ]
    },
    {
     "name": "stderr",
     "output_type": "stream",
     "text": [
      "\r\n",
      " 42%|████████████████████████████████████████████████████                                                                         | 250/600 [00:33<00:41,  8.46it/s]"
     ]
    },
    {
     "name": "stderr",
     "output_type": "stream",
     "text": [
      "\r\n",
      " 42%|████████████████████████████████████████████████████▎                                                                        | 251/600 [00:33<00:42,  8.29it/s]"
     ]
    },
    {
     "name": "stderr",
     "output_type": "stream",
     "text": [
      "\r\n",
      " 42%|████████████████████████████████████████████████████▌                                                                        | 252/600 [00:33<00:42,  8.20it/s]"
     ]
    },
    {
     "name": "stderr",
     "output_type": "stream",
     "text": [
      "\r\n",
      " 42%|████████████████████████████████████████████████████▋                                                                        | 253/600 [00:33<00:42,  8.14it/s]"
     ]
    },
    {
     "name": "stderr",
     "output_type": "stream",
     "text": [
      "\r\n",
      " 42%|████████████████████████████████████████████████████▉                                                                        | 254/600 [00:33<00:42,  8.10it/s]"
     ]
    },
    {
     "name": "stderr",
     "output_type": "stream",
     "text": [
      "\r\n",
      " 42%|█████████████████████████████████████████████████████▏                                                                       | 255/600 [00:33<00:42,  8.13it/s]"
     ]
    },
    {
     "name": "stderr",
     "output_type": "stream",
     "text": [
      "\r\n",
      " 43%|█████████████████████████████████████████████████████▎                                                                       | 256/600 [00:34<00:41,  8.21it/s]"
     ]
    },
    {
     "name": "stderr",
     "output_type": "stream",
     "text": [
      "\r\n",
      " 43%|█████████████████████████████████████████████████████▌                                                                       | 257/600 [00:34<00:42,  8.16it/s]"
     ]
    },
    {
     "name": "stderr",
     "output_type": "stream",
     "text": [
      "\r\n",
      " 43%|█████████████████████████████████████████████████████▊                                                                       | 258/600 [00:34<00:42,  8.14it/s]"
     ]
    },
    {
     "name": "stderr",
     "output_type": "stream",
     "text": [
      "\r\n",
      " 43%|█████████████████████████████████████████████████████▉                                                                       | 259/600 [00:34<00:42,  8.09it/s]"
     ]
    },
    {
     "name": "stderr",
     "output_type": "stream",
     "text": [
      "\r\n",
      " 43%|██████████████████████████████████████████████████████▏                                                                      | 260/600 [00:34<00:42,  8.04it/s]"
     ]
    },
    {
     "name": "stderr",
     "output_type": "stream",
     "text": [
      "\r\n",
      " 44%|██████████████████████████████████████████████████████▍                                                                      | 261/600 [00:34<00:42,  7.97it/s]"
     ]
    },
    {
     "name": "stderr",
     "output_type": "stream",
     "text": [
      "\r\n",
      " 44%|██████████████████████████████████████████████████████▌                                                                      | 262/600 [00:34<00:43,  7.77it/s]"
     ]
    },
    {
     "name": "stderr",
     "output_type": "stream",
     "text": [
      "\r\n",
      " 44%|██████████████████████████████████████████████████████▊                                                                      | 263/600 [00:34<00:45,  7.41it/s]"
     ]
    },
    {
     "name": "stderr",
     "output_type": "stream",
     "text": [
      "\r\n",
      " 44%|███████████████████████████████████████████████████████                                                                      | 264/600 [00:35<00:45,  7.38it/s]"
     ]
    },
    {
     "name": "stderr",
     "output_type": "stream",
     "text": [
      "\r\n",
      " 44%|███████████████████████████████████████████████████████▏                                                                     | 265/600 [00:35<00:45,  7.38it/s]"
     ]
    },
    {
     "name": "stderr",
     "output_type": "stream",
     "text": [
      "\r\n",
      " 44%|███████████████████████████████████████████████████████▍                                                                     | 266/600 [00:35<00:44,  7.57it/s]"
     ]
    },
    {
     "name": "stderr",
     "output_type": "stream",
     "text": [
      "\r\n",
      " 44%|███████████████████████████████████████████████████████▋                                                                     | 267/600 [00:35<00:44,  7.44it/s]"
     ]
    },
    {
     "name": "stderr",
     "output_type": "stream",
     "text": [
      "\r\n",
      " 45%|███████████████████████████████████████████████████████▊                                                                     | 268/600 [00:35<00:43,  7.57it/s]"
     ]
    },
    {
     "name": "stderr",
     "output_type": "stream",
     "text": [
      "\r\n",
      " 45%|████████████████████████████████████████████████████████                                                                     | 269/600 [00:35<00:42,  7.80it/s]"
     ]
    },
    {
     "name": "stderr",
     "output_type": "stream",
     "text": [
      "\r\n",
      " 45%|████████████████████████████████████████████████████████▎                                                                    | 270/600 [00:35<00:41,  7.98it/s]"
     ]
    },
    {
     "name": "stderr",
     "output_type": "stream",
     "text": [
      "\r\n",
      " 45%|████████████████████████████████████████████████████████▍                                                                    | 271/600 [00:35<00:40,  8.09it/s]"
     ]
    },
    {
     "name": "stderr",
     "output_type": "stream",
     "text": [
      "\r\n",
      " 45%|████████████████████████████████████████████████████████▋                                                                    | 272/600 [00:36<00:40,  8.17it/s]"
     ]
    },
    {
     "name": "stderr",
     "output_type": "stream",
     "text": [
      "\r\n",
      " 46%|████████████████████████████████████████████████████████▉                                                                    | 273/600 [00:36<00:39,  8.22it/s]"
     ]
    },
    {
     "name": "stderr",
     "output_type": "stream",
     "text": [
      "\r\n",
      " 46%|█████████████████████████████████████████████████████████                                                                    | 274/600 [00:36<00:42,  7.71it/s]"
     ]
    },
    {
     "name": "stderr",
     "output_type": "stream",
     "text": [
      "\r\n",
      " 46%|█████████████████████████████████████████████████████████▎                                                                   | 275/600 [00:36<00:42,  7.69it/s]"
     ]
    },
    {
     "name": "stderr",
     "output_type": "stream",
     "text": [
      "\r\n",
      " 46%|█████████████████████████████████████████████████████████▌                                                                   | 276/600 [00:36<00:42,  7.57it/s]"
     ]
    },
    {
     "name": "stderr",
     "output_type": "stream",
     "text": [
      "\r\n",
      " 46%|█████████████████████████████████████████████████████████▋                                                                   | 277/600 [00:36<00:49,  6.55it/s]"
     ]
    },
    {
     "name": "stderr",
     "output_type": "stream",
     "text": [
      "\r\n",
      " 46%|█████████████████████████████████████████████████████████▉                                                                   | 278/600 [00:36<00:53,  6.04it/s]"
     ]
    },
    {
     "name": "stderr",
     "output_type": "stream",
     "text": [
      "\r\n",
      " 46%|██████████████████████████████████████████████████████████▏                                                                  | 279/600 [00:37<00:50,  6.34it/s]"
     ]
    },
    {
     "name": "stderr",
     "output_type": "stream",
     "text": [
      "\r\n",
      " 47%|██████████████████████████████████████████████████████████▎                                                                  | 280/600 [00:37<00:46,  6.84it/s]"
     ]
    },
    {
     "name": "stderr",
     "output_type": "stream",
     "text": [
      "\r\n",
      " 47%|██████████████████████████████████████████████████████████▌                                                                  | 281/600 [00:37<00:43,  7.36it/s]"
     ]
    },
    {
     "name": "stderr",
     "output_type": "stream",
     "text": [
      "\r\n",
      " 47%|██████████████████████████████████████████████████████████▊                                                                  | 282/600 [00:37<00:40,  7.76it/s]"
     ]
    },
    {
     "name": "stderr",
     "output_type": "stream",
     "text": [
      "\r\n",
      " 47%|██████████████████████████████████████████████████████████▉                                                                  | 283/600 [00:37<00:39,  7.95it/s]"
     ]
    },
    {
     "name": "stderr",
     "output_type": "stream",
     "text": [
      "\r\n",
      " 47%|███████████████████████████████████████████████████████████▏                                                                 | 284/600 [00:37<00:42,  7.43it/s]"
     ]
    },
    {
     "name": "stderr",
     "output_type": "stream",
     "text": [
      "\r\n",
      " 48%|███████████████████████████████████████████████████████████▍                                                                 | 285/600 [00:37<00:48,  6.47it/s]"
     ]
    },
    {
     "name": "stderr",
     "output_type": "stream",
     "text": [
      "\r\n",
      " 48%|███████████████████████████████████████████████████████████▌                                                                 | 286/600 [00:38<00:48,  6.54it/s]"
     ]
    },
    {
     "name": "stderr",
     "output_type": "stream",
     "text": [
      "\r\n",
      " 48%|███████████████████████████████████████████████████████████▊                                                                 | 287/600 [00:38<00:46,  6.80it/s]"
     ]
    },
    {
     "name": "stderr",
     "output_type": "stream",
     "text": [
      "\r\n",
      " 48%|████████████████████████████████████████████████████████████                                                                 | 288/600 [00:38<00:46,  6.67it/s]"
     ]
    },
    {
     "name": "stderr",
     "output_type": "stream",
     "text": [
      "\r\n",
      " 48%|████████████████████████████████████████████████████████████▏                                                                | 289/600 [00:38<00:46,  6.73it/s]"
     ]
    },
    {
     "name": "stderr",
     "output_type": "stream",
     "text": [
      "\r\n",
      " 48%|████████████████████████████████████████████████████████████▍                                                                | 290/600 [00:38<00:45,  6.88it/s]"
     ]
    },
    {
     "name": "stderr",
     "output_type": "stream",
     "text": [
      "\r\n",
      " 48%|████████████████████████████████████████████████████████████▋                                                                | 291/600 [00:38<00:44,  7.00it/s]"
     ]
    },
    {
     "name": "stderr",
     "output_type": "stream",
     "text": [
      "\r\n",
      " 49%|████████████████████████████████████████████████████████████▊                                                                | 292/600 [00:38<00:42,  7.32it/s]"
     ]
    },
    {
     "name": "stderr",
     "output_type": "stream",
     "text": [
      "\r\n",
      " 49%|█████████████████████████████████████████████████████████████                                                                | 293/600 [00:39<00:42,  7.23it/s]"
     ]
    },
    {
     "name": "stderr",
     "output_type": "stream",
     "text": [
      "\r\n",
      " 49%|█████████████████████████████████████████████████████████████▎                                                               | 294/600 [00:39<00:41,  7.44it/s]"
     ]
    },
    {
     "name": "stderr",
     "output_type": "stream",
     "text": [
      "\r\n",
      " 49%|█████████████████████████████████████████████████████████████▍                                                               | 295/600 [00:39<00:40,  7.49it/s]"
     ]
    },
    {
     "name": "stderr",
     "output_type": "stream",
     "text": [
      "\r\n",
      " 49%|█████████████████████████████████████████████████████████████▋                                                               | 296/600 [00:39<00:41,  7.37it/s]"
     ]
    },
    {
     "name": "stderr",
     "output_type": "stream",
     "text": [
      "\r\n",
      " 50%|█████████████████████████████████████████████████████████████▉                                                               | 297/600 [00:39<00:40,  7.53it/s]"
     ]
    },
    {
     "name": "stderr",
     "output_type": "stream",
     "text": [
      "\r\n",
      " 50%|██████████████████████████████████████████████████████████████                                                               | 298/600 [00:39<00:39,  7.73it/s]"
     ]
    },
    {
     "name": "stderr",
     "output_type": "stream",
     "text": [
      "\r\n",
      " 50%|██████████████████████████████████████████████████████████████▎                                                              | 299/600 [00:39<00:39,  7.64it/s]"
     ]
    },
    {
     "name": "stderr",
     "output_type": "stream",
     "text": [
      "\r\n",
      " 50%|██████████████████████████████████████████████████████████████▌                                                              | 300/600 [00:39<00:38,  7.79it/s]"
     ]
    },
    {
     "name": "stderr",
     "output_type": "stream",
     "text": [
      "\r\n",
      " 50%|██████████████████████████████████████████████████████████████▋                                                              | 301/600 [00:40<00:37,  7.91it/s]"
     ]
    },
    {
     "name": "stderr",
     "output_type": "stream",
     "text": [
      "\r\n",
      " 50%|██████████████████████████████████████████████████████████████▉                                                              | 302/600 [00:40<00:37,  7.94it/s]"
     ]
    },
    {
     "name": "stderr",
     "output_type": "stream",
     "text": [
      "\r\n",
      " 50%|███████████████████████████████████████████████████████████████▏                                                             | 303/600 [00:40<00:37,  7.83it/s]"
     ]
    },
    {
     "name": "stderr",
     "output_type": "stream",
     "text": [
      "\r\n",
      " 51%|███████████████████████████████████████████████████████████████▎                                                             | 304/600 [00:40<00:37,  7.93it/s]"
     ]
    },
    {
     "name": "stderr",
     "output_type": "stream",
     "text": [
      "\r\n",
      " 51%|███████████████████████████████████████████████████████████████▌                                                             | 305/600 [00:40<00:36,  8.04it/s]"
     ]
    },
    {
     "name": "stderr",
     "output_type": "stream",
     "text": [
      "\r\n",
      " 51%|███████████████████████████████████████████████████████████████▊                                                             | 306/600 [00:40<00:36,  8.07it/s]"
     ]
    },
    {
     "name": "stderr",
     "output_type": "stream",
     "text": [
      "\r\n",
      " 51%|███████████████████████████████████████████████████████████████▉                                                             | 307/600 [00:40<00:36,  8.11it/s]"
     ]
    },
    {
     "name": "stderr",
     "output_type": "stream",
     "text": [
      "\r\n",
      " 51%|████████████████████████████████████████████████████████████████▏                                                            | 308/600 [00:40<00:35,  8.23it/s]"
     ]
    },
    {
     "name": "stderr",
     "output_type": "stream",
     "text": [
      "\r\n",
      " 52%|████████████████████████████████████████████████████████████████▍                                                            | 309/600 [00:41<00:35,  8.25it/s]"
     ]
    },
    {
     "name": "stderr",
     "output_type": "stream",
     "text": [
      "\r\n",
      " 52%|████████████████████████████████████████████████████████████████▌                                                            | 310/600 [00:41<00:35,  8.23it/s]"
     ]
    },
    {
     "name": "stderr",
     "output_type": "stream",
     "text": [
      "\r\n",
      " 52%|████████████████████████████████████████████████████████████████▊                                                            | 311/600 [00:41<00:36,  8.00it/s]"
     ]
    },
    {
     "name": "stderr",
     "output_type": "stream",
     "text": [
      "\r\n",
      " 52%|█████████████████████████████████████████████████████████████████                                                            | 312/600 [00:41<00:39,  7.33it/s]"
     ]
    },
    {
     "name": "stderr",
     "output_type": "stream",
     "text": [
      "\r\n",
      " 52%|█████████████████████████████████████████████████████████████████▏                                                           | 313/600 [00:41<00:39,  7.20it/s]"
     ]
    },
    {
     "name": "stderr",
     "output_type": "stream",
     "text": [
      "\r\n",
      " 52%|█████████████████████████████████████████████████████████████████▍                                                           | 314/600 [00:41<00:38,  7.50it/s]"
     ]
    },
    {
     "name": "stderr",
     "output_type": "stream",
     "text": [
      "\r\n",
      " 52%|█████████████████████████████████████████████████████████████████▋                                                           | 315/600 [00:41<00:37,  7.58it/s]"
     ]
    },
    {
     "name": "stderr",
     "output_type": "stream",
     "text": [
      "\r\n",
      " 53%|█████████████████████████████████████████████████████████████████▊                                                           | 316/600 [00:42<00:37,  7.54it/s]"
     ]
    },
    {
     "name": "stderr",
     "output_type": "stream",
     "text": [
      "\r\n",
      " 53%|██████████████████████████████████████████████████████████████████                                                           | 317/600 [00:42<00:43,  6.45it/s]"
     ]
    },
    {
     "name": "stderr",
     "output_type": "stream",
     "text": [
      "\r\n",
      " 53%|██████████████████████████████████████████████████████████████████▎                                                          | 318/600 [00:42<00:42,  6.67it/s]"
     ]
    },
    {
     "name": "stderr",
     "output_type": "stream",
     "text": [
      "\r\n",
      " 53%|██████████████████████████████████████████████████████████████████▍                                                          | 319/600 [00:42<00:44,  6.32it/s]"
     ]
    },
    {
     "name": "stderr",
     "output_type": "stream",
     "text": [
      "\r\n",
      " 53%|██████████████████████████████████████████████████████████████████▋                                                          | 320/600 [00:42<00:44,  6.24it/s]"
     ]
    },
    {
     "name": "stderr",
     "output_type": "stream",
     "text": [
      "\r\n",
      " 54%|██████████████████████████████████████████████████████████████████▉                                                          | 321/600 [00:42<00:49,  5.67it/s]"
     ]
    },
    {
     "name": "stderr",
     "output_type": "stream",
     "text": [
      "\r\n",
      " 54%|███████████████████████████████████████████████████████████████████                                                          | 322/600 [00:43<00:48,  5.74it/s]"
     ]
    },
    {
     "name": "stderr",
     "output_type": "stream",
     "text": [
      "\r\n",
      " 54%|███████████████████████████████████████████████████████████████████▎                                                         | 323/600 [00:43<00:47,  5.84it/s]"
     ]
    },
    {
     "name": "stderr",
     "output_type": "stream",
     "text": [
      "\r\n",
      " 54%|███████████████████████████████████████████████████████████████████▌                                                         | 324/600 [00:43<00:46,  5.98it/s]"
     ]
    },
    {
     "name": "stderr",
     "output_type": "stream",
     "text": [
      "\r\n",
      " 54%|███████████████████████████████████████████████████████████████████▋                                                         | 325/600 [00:43<00:42,  6.48it/s]"
     ]
    },
    {
     "name": "stderr",
     "output_type": "stream",
     "text": [
      "\r\n",
      " 54%|███████████████████████████████████████████████████████████████████▉                                                         | 326/600 [00:43<00:41,  6.59it/s]"
     ]
    },
    {
     "name": "stderr",
     "output_type": "stream",
     "text": [
      "\r\n",
      " 55%|████████████████████████████████████████████████████████████████████▏                                                        | 327/600 [00:43<00:39,  6.97it/s]"
     ]
    },
    {
     "name": "stderr",
     "output_type": "stream",
     "text": [
      "\r\n",
      " 55%|████████████████████████████████████████████████████████████████████▎                                                        | 328/600 [00:43<00:37,  7.26it/s]"
     ]
    },
    {
     "name": "stderr",
     "output_type": "stream",
     "text": [
      "\r\n",
      " 55%|████████████████████████████████████████████████████████████████████▌                                                        | 329/600 [00:44<00:40,  6.61it/s]"
     ]
    },
    {
     "name": "stderr",
     "output_type": "stream",
     "text": [
      "\r\n",
      " 55%|████████████████████████████████████████████████████████████████████▊                                                        | 330/600 [00:44<00:38,  7.03it/s]"
     ]
    },
    {
     "name": "stderr",
     "output_type": "stream",
     "text": [
      "\r\n",
      " 55%|████████████████████████████████████████████████████████████████████▉                                                        | 331/600 [00:44<00:36,  7.27it/s]"
     ]
    },
    {
     "name": "stderr",
     "output_type": "stream",
     "text": [
      "\r\n",
      " 55%|█████████████████████████████████████████████████████████████████████▏                                                       | 332/600 [00:44<00:35,  7.55it/s]"
     ]
    },
    {
     "name": "stderr",
     "output_type": "stream",
     "text": [
      "\r\n",
      " 56%|█████████████████████████████████████████████████████████████████████▍                                                       | 333/600 [00:44<00:34,  7.78it/s]"
     ]
    },
    {
     "name": "stderr",
     "output_type": "stream",
     "text": [
      "\r\n",
      " 56%|█████████████████████████████████████████████████████████████████████▌                                                       | 334/600 [00:44<00:33,  8.02it/s]"
     ]
    },
    {
     "name": "stderr",
     "output_type": "stream",
     "text": [
      "\r\n",
      " 56%|█████████████████████████████████████████████████████████████████████▊                                                       | 335/600 [00:44<00:32,  8.15it/s]"
     ]
    },
    {
     "name": "stderr",
     "output_type": "stream",
     "text": [
      "\r\n",
      " 56%|██████████████████████████████████████████████████████████████████████                                                       | 336/600 [00:44<00:32,  8.24it/s]"
     ]
    },
    {
     "name": "stderr",
     "output_type": "stream",
     "text": [
      "\r\n",
      " 56%|██████████████████████████████████████████████████████████████████████▏                                                      | 337/600 [00:45<00:35,  7.33it/s]"
     ]
    },
    {
     "name": "stderr",
     "output_type": "stream",
     "text": [
      "\r\n",
      " 56%|██████████████████████████████████████████████████████████████████████▍                                                      | 338/600 [00:45<00:35,  7.30it/s]"
     ]
    },
    {
     "name": "stderr",
     "output_type": "stream",
     "text": [
      "\r\n",
      " 56%|██████████████████████████████████████████████████████████████████████▋                                                      | 339/600 [00:45<00:34,  7.57it/s]"
     ]
    },
    {
     "name": "stderr",
     "output_type": "stream",
     "text": [
      "\r\n",
      " 57%|██████████████████████████████████████████████████████████████████████▊                                                      | 340/600 [00:45<00:33,  7.76it/s]"
     ]
    },
    {
     "name": "stderr",
     "output_type": "stream",
     "text": [
      "\r\n",
      " 57%|███████████████████████████████████████████████████████████████████████                                                      | 341/600 [00:45<00:32,  7.96it/s]"
     ]
    },
    {
     "name": "stderr",
     "output_type": "stream",
     "text": [
      "\r\n",
      " 57%|███████████████████████████████████████████████████████████████████████▎                                                     | 342/600 [00:45<00:32,  8.00it/s]"
     ]
    },
    {
     "name": "stderr",
     "output_type": "stream",
     "text": [
      "\r\n",
      " 57%|███████████████████████████████████████████████████████████████████████▍                                                     | 343/600 [00:45<00:36,  7.10it/s]"
     ]
    },
    {
     "name": "stderr",
     "output_type": "stream",
     "text": [
      "\r\n",
      " 57%|███████████████████████████████████████████████████████████████████████▋                                                     | 344/600 [00:46<00:39,  6.46it/s]"
     ]
    },
    {
     "name": "stderr",
     "output_type": "stream",
     "text": [
      "\r\n",
      " 57%|███████████████████████████████████████████████████████████████████████▉                                                     | 345/600 [00:46<00:35,  7.11it/s]"
     ]
    },
    {
     "name": "stderr",
     "output_type": "stream",
     "text": [
      "\r\n",
      " 58%|████████████████████████████████████████████████████████████████████████                                                     | 346/600 [00:46<00:34,  7.42it/s]"
     ]
    },
    {
     "name": "stderr",
     "output_type": "stream",
     "text": [
      "\r\n",
      " 58%|████████████████████████████████████████████████████████████████████████▎                                                    | 347/600 [00:46<00:33,  7.45it/s]"
     ]
    },
    {
     "name": "stderr",
     "output_type": "stream",
     "text": [
      "\r\n",
      " 58%|████████████████████████████████████████████████████████████████████████▌                                                    | 348/600 [00:46<00:33,  7.43it/s]"
     ]
    },
    {
     "name": "stderr",
     "output_type": "stream",
     "text": [
      "\r\n",
      " 58%|████████████████████████████████████████████████████████████████████████▋                                                    | 349/600 [00:46<00:33,  7.55it/s]"
     ]
    },
    {
     "name": "stderr",
     "output_type": "stream",
     "text": [
      "\r\n",
      " 58%|████████████████████████████████████████████████████████████████████████▉                                                    | 350/600 [00:46<00:31,  7.86it/s]"
     ]
    },
    {
     "name": "stderr",
     "output_type": "stream",
     "text": [
      "\r\n",
      " 58%|█████████████████████████████████████████████████████████████████████████▏                                                   | 351/600 [00:46<00:31,  7.91it/s]"
     ]
    },
    {
     "name": "stderr",
     "output_type": "stream",
     "text": [
      "\r\n",
      " 59%|█████████████████████████████████████████████████████████████████████████▎                                                   | 352/600 [00:47<00:32,  7.65it/s]"
     ]
    },
    {
     "name": "stderr",
     "output_type": "stream",
     "text": [
      "\r\n",
      " 59%|█████████████████████████████████████████████████████████████████████████▌                                                   | 353/600 [00:47<00:32,  7.64it/s]"
     ]
    },
    {
     "name": "stderr",
     "output_type": "stream",
     "text": [
      "\r\n",
      " 59%|█████████████████████████████████████████████████████████████████████████▊                                                   | 354/600 [00:47<00:31,  7.88it/s]"
     ]
    },
    {
     "name": "stderr",
     "output_type": "stream",
     "text": [
      "\r\n",
      " 59%|█████████████████████████████████████████████████████████████████████████▉                                                   | 355/600 [00:47<00:29,  8.24it/s]"
     ]
    },
    {
     "name": "stderr",
     "output_type": "stream",
     "text": [
      "\r\n",
      " 59%|██████████████████████████████████████████████████████████████████████████▏                                                  | 356/600 [00:47<00:29,  8.32it/s]"
     ]
    },
    {
     "name": "stderr",
     "output_type": "stream",
     "text": [
      "\r\n",
      " 60%|██████████████████████████████████████████████████████████████████████████▍                                                  | 357/600 [00:47<00:32,  7.59it/s]"
     ]
    },
    {
     "name": "stderr",
     "output_type": "stream",
     "text": [
      "\r\n",
      " 60%|██████████████████████████████████████████████████████████████████████████▌                                                  | 358/600 [00:47<00:32,  7.46it/s]"
     ]
    },
    {
     "name": "stderr",
     "output_type": "stream",
     "text": [
      "\r\n",
      " 60%|██████████████████████████████████████████████████████████████████████████▊                                                  | 359/600 [00:48<00:32,  7.32it/s]"
     ]
    },
    {
     "name": "stderr",
     "output_type": "stream",
     "text": [
      "\r\n",
      " 60%|███████████████████████████████████████████████████████████████████████████                                                  | 360/600 [00:48<00:33,  7.23it/s]"
     ]
    },
    {
     "name": "stderr",
     "output_type": "stream",
     "text": [
      "\r\n",
      " 60%|███████████████████████████████████████████████████████████████████████████▏                                                 | 361/600 [00:48<00:32,  7.45it/s]"
     ]
    },
    {
     "name": "stderr",
     "output_type": "stream",
     "text": [
      "\r\n",
      " 60%|███████████████████████████████████████████████████████████████████████████▍                                                 | 362/600 [00:48<00:35,  6.75it/s]"
     ]
    },
    {
     "name": "stderr",
     "output_type": "stream",
     "text": [
      "\r\n",
      " 60%|███████████████████████████████████████████████████████████████████████████▋                                                 | 363/600 [00:48<00:33,  7.00it/s]"
     ]
    },
    {
     "name": "stderr",
     "output_type": "stream",
     "text": [
      "\r\n",
      " 61%|███████████████████████████████████████████████████████████████████████████▊                                                 | 364/600 [00:48<00:32,  7.30it/s]"
     ]
    },
    {
     "name": "stderr",
     "output_type": "stream",
     "text": [
      "\r\n",
      " 61%|████████████████████████████████████████████████████████████████████████████                                                 | 365/600 [00:48<00:31,  7.46it/s]"
     ]
    },
    {
     "name": "stderr",
     "output_type": "stream",
     "text": [
      "\r\n",
      " 61%|████████████████████████████████████████████████████████████████████████████▎                                                | 366/600 [00:48<00:30,  7.59it/s]"
     ]
    },
    {
     "name": "stderr",
     "output_type": "stream",
     "text": [
      "\r\n",
      " 61%|████████████████████████████████████████████████████████████████████████████▍                                                | 367/600 [00:49<00:30,  7.74it/s]"
     ]
    },
    {
     "name": "stderr",
     "output_type": "stream",
     "text": [
      "\r\n",
      " 61%|████████████████████████████████████████████████████████████████████████████▋                                                | 368/600 [00:49<00:29,  7.89it/s]"
     ]
    },
    {
     "name": "stderr",
     "output_type": "stream",
     "text": [
      "\r\n",
      " 62%|████████████████████████████████████████████████████████████████████████████▉                                                | 369/600 [00:49<00:29,  7.91it/s]"
     ]
    },
    {
     "name": "stderr",
     "output_type": "stream",
     "text": [
      "\r\n",
      " 62%|█████████████████████████████████████████████████████████████████████████████                                                | 370/600 [00:49<00:28,  8.02it/s]"
     ]
    },
    {
     "name": "stderr",
     "output_type": "stream",
     "text": [
      "\r\n",
      " 62%|█████████████████████████████████████████████████████████████████████████████▎                                               | 371/600 [00:49<00:28,  8.10it/s]"
     ]
    },
    {
     "name": "stderr",
     "output_type": "stream",
     "text": [
      "\r\n",
      " 62%|█████████████████████████████████████████████████████████████████████████████▌                                               | 372/600 [00:49<00:27,  8.16it/s]"
     ]
    },
    {
     "name": "stderr",
     "output_type": "stream",
     "text": [
      "\r\n",
      " 62%|█████████████████████████████████████████████████████████████████████████████▋                                               | 373/600 [00:49<00:27,  8.17it/s]"
     ]
    },
    {
     "name": "stderr",
     "output_type": "stream",
     "text": [
      "\r\n",
      " 62%|█████████████████████████████████████████████████████████████████████████████▉                                               | 374/600 [00:49<00:28,  8.02it/s]"
     ]
    },
    {
     "name": "stderr",
     "output_type": "stream",
     "text": [
      "\r\n",
      " 62%|██████████████████████████████████████████████████████████████████████████████▏                                              | 375/600 [00:50<00:27,  8.05it/s]"
     ]
    },
    {
     "name": "stderr",
     "output_type": "stream",
     "text": [
      "\r\n",
      " 63%|██████████████████████████████████████████████████████████████████████████████▎                                              | 376/600 [00:50<00:27,  8.12it/s]"
     ]
    },
    {
     "name": "stderr",
     "output_type": "stream",
     "text": [
      "\r\n",
      " 63%|██████████████████████████████████████████████████████████████████████████████▌                                              | 377/600 [00:50<00:27,  8.17it/s]"
     ]
    },
    {
     "name": "stderr",
     "output_type": "stream",
     "text": [
      "\r\n",
      " 63%|██████████████████████████████████████████████████████████████████████████████▊                                              | 378/600 [00:50<00:26,  8.28it/s]"
     ]
    },
    {
     "name": "stderr",
     "output_type": "stream",
     "text": [
      "\r\n",
      " 63%|██████████████████████████████████████████████████████████████████████████████▉                                              | 379/600 [00:50<00:26,  8.24it/s]"
     ]
    },
    {
     "name": "stderr",
     "output_type": "stream",
     "text": [
      "\r\n",
      " 63%|███████████████████████████████████████████████████████████████████████████████▏                                             | 380/600 [00:50<00:27,  8.12it/s]"
     ]
    },
    {
     "name": "stderr",
     "output_type": "stream",
     "text": [
      "\r\n",
      " 64%|███████████████████████████████████████████████████████████████████████████████▍                                             | 381/600 [00:50<00:27,  8.10it/s]"
     ]
    },
    {
     "name": "stderr",
     "output_type": "stream",
     "text": [
      "\r\n",
      " 64%|███████████████████████████████████████████████████████████████████████████████▌                                             | 382/600 [00:50<00:26,  8.19it/s]"
     ]
    },
    {
     "name": "stderr",
     "output_type": "stream",
     "text": [
      "\r\n",
      " 64%|███████████████████████████████████████████████████████████████████████████████▊                                             | 383/600 [00:51<00:26,  8.26it/s]"
     ]
    },
    {
     "name": "stderr",
     "output_type": "stream",
     "text": [
      "\r\n",
      " 64%|████████████████████████████████████████████████████████████████████████████████                                             | 384/600 [00:51<00:26,  8.24it/s]"
     ]
    },
    {
     "name": "stderr",
     "output_type": "stream",
     "text": [
      "\r\n",
      " 64%|████████████████████████████████████████████████████████████████████████████████▏                                            | 385/600 [00:51<00:26,  8.17it/s]"
     ]
    },
    {
     "name": "stderr",
     "output_type": "stream",
     "text": [
      "\r\n",
      " 64%|████████████████████████████████████████████████████████████████████████████████▍                                            | 386/600 [00:51<00:26,  8.14it/s]"
     ]
    },
    {
     "name": "stderr",
     "output_type": "stream",
     "text": [
      "\r\n",
      " 64%|████████████████████████████████████████████████████████████████████████████████▋                                            | 387/600 [00:51<00:26,  8.13it/s]"
     ]
    },
    {
     "name": "stderr",
     "output_type": "stream",
     "text": [
      "\r\n",
      " 65%|████████████████████████████████████████████████████████████████████████████████▊                                            | 388/600 [00:51<00:26,  8.10it/s]"
     ]
    },
    {
     "name": "stderr",
     "output_type": "stream",
     "text": [
      "\r\n",
      " 65%|█████████████████████████████████████████████████████████████████████████████████                                            | 389/600 [00:51<00:26,  8.06it/s]"
     ]
    },
    {
     "name": "stderr",
     "output_type": "stream",
     "text": [
      "\r\n",
      " 65%|█████████████████████████████████████████████████████████████████████████████████▎                                           | 390/600 [00:51<00:26,  8.06it/s]"
     ]
    },
    {
     "name": "stderr",
     "output_type": "stream",
     "text": [
      "\r\n",
      " 65%|█████████████████████████████████████████████████████████████████████████████████▍                                           | 391/600 [00:52<00:25,  8.05it/s]"
     ]
    },
    {
     "name": "stderr",
     "output_type": "stream",
     "text": [
      "\r\n",
      " 65%|█████████████████████████████████████████████████████████████████████████████████▋                                           | 392/600 [00:52<00:25,  8.10it/s]"
     ]
    },
    {
     "name": "stderr",
     "output_type": "stream",
     "text": [
      "\r\n",
      " 66%|█████████████████████████████████████████████████████████████████████████████████▉                                           | 393/600 [00:52<00:25,  8.20it/s]"
     ]
    },
    {
     "name": "stderr",
     "output_type": "stream",
     "text": [
      "\r\n",
      " 66%|██████████████████████████████████████████████████████████████████████████████████                                           | 394/600 [00:52<00:24,  8.27it/s]"
     ]
    },
    {
     "name": "stderr",
     "output_type": "stream",
     "text": [
      "\r\n",
      " 66%|██████████████████████████████████████████████████████████████████████████████████▎                                          | 395/600 [00:52<00:24,  8.33it/s]"
     ]
    },
    {
     "name": "stderr",
     "output_type": "stream",
     "text": [
      "\r\n",
      " 66%|██████████████████████████████████████████████████████████████████████████████████▌                                          | 396/600 [00:52<00:24,  8.28it/s]"
     ]
    },
    {
     "name": "stderr",
     "output_type": "stream",
     "text": [
      "\r\n",
      " 66%|██████████████████████████████████████████████████████████████████████████████████▋                                          | 397/600 [00:52<00:24,  8.19it/s]"
     ]
    },
    {
     "name": "stderr",
     "output_type": "stream",
     "text": [
      "\r\n",
      " 66%|██████████████████████████████████████████████████████████████████████████████████▉                                          | 398/600 [00:52<00:25,  8.05it/s]"
     ]
    },
    {
     "name": "stderr",
     "output_type": "stream",
     "text": [
      "\r\n",
      " 66%|███████████████████████████████████████████████████████████████████████████████████▏                                         | 399/600 [00:53<00:26,  7.55it/s]"
     ]
    },
    {
     "name": "stderr",
     "output_type": "stream",
     "text": [
      "\r\n",
      " 67%|███████████████████████████████████████████████████████████████████████████████████▎                                         | 400/600 [00:53<00:25,  7.87it/s]"
     ]
    },
    {
     "name": "stderr",
     "output_type": "stream",
     "text": [
      "\r\n",
      " 67%|███████████████████████████████████████████████████████████████████████████████████▌                                         | 401/600 [00:53<00:25,  7.95it/s]"
     ]
    },
    {
     "name": "stderr",
     "output_type": "stream",
     "text": [
      "\r\n",
      " 67%|███████████████████████████████████████████████████████████████████████████████████▊                                         | 402/600 [00:53<00:24,  8.05it/s]"
     ]
    },
    {
     "name": "stderr",
     "output_type": "stream",
     "text": [
      "\r\n",
      " 67%|███████████████████████████████████████████████████████████████████████████████████▉                                         | 403/600 [00:53<00:24,  8.16it/s]"
     ]
    },
    {
     "name": "stderr",
     "output_type": "stream",
     "text": [
      "\r\n",
      " 67%|████████████████████████████████████████████████████████████████████████████████████▏                                        | 404/600 [00:53<00:23,  8.24it/s]"
     ]
    },
    {
     "name": "stderr",
     "output_type": "stream",
     "text": [
      "\r\n",
      " 68%|████████████████████████████████████████████████████████████████████████████████████▍                                        | 405/600 [00:53<00:23,  8.29it/s]"
     ]
    },
    {
     "name": "stderr",
     "output_type": "stream",
     "text": [
      "\r\n",
      " 68%|████████████████████████████████████████████████████████████████████████████████████▌                                        | 406/600 [00:53<00:23,  8.32it/s]"
     ]
    },
    {
     "name": "stderr",
     "output_type": "stream",
     "text": [
      "\r\n",
      " 68%|████████████████████████████████████████████████████████████████████████████████████▊                                        | 407/600 [00:54<00:23,  8.27it/s]"
     ]
    },
    {
     "name": "stderr",
     "output_type": "stream",
     "text": [
      "\r\n",
      " 68%|█████████████████████████████████████████████████████████████████████████████████████                                        | 408/600 [00:54<00:23,  8.24it/s]"
     ]
    },
    {
     "name": "stderr",
     "output_type": "stream",
     "text": [
      "\r\n",
      " 68%|█████████████████████████████████████████████████████████████████████████████████████▏                                       | 409/600 [00:54<00:23,  8.25it/s]"
     ]
    },
    {
     "name": "stderr",
     "output_type": "stream",
     "text": [
      "\r\n",
      " 68%|█████████████████████████████████████████████████████████████████████████████████████▍                                       | 410/600 [00:54<00:22,  8.27it/s]"
     ]
    },
    {
     "name": "stderr",
     "output_type": "stream",
     "text": [
      "\r\n",
      " 68%|█████████████████████████████████████████████████████████████████████████████████████▋                                       | 411/600 [00:54<00:21,  8.69it/s]"
     ]
    },
    {
     "name": "stderr",
     "output_type": "stream",
     "text": [
      "\r\n",
      " 69%|█████████████████████████████████████████████████████████████████████████████████████▊                                       | 412/600 [00:54<00:21,  8.66it/s]"
     ]
    },
    {
     "name": "stderr",
     "output_type": "stream",
     "text": [
      "\r\n",
      " 69%|██████████████████████████████████████████████████████████████████████████████████████                                       | 413/600 [00:54<00:21,  8.63it/s]"
     ]
    },
    {
     "name": "stderr",
     "output_type": "stream",
     "text": [
      "\r\n",
      " 69%|██████████████████████████████████████████████████████████████████████████████████████▎                                      | 414/600 [00:54<00:21,  8.54it/s]"
     ]
    },
    {
     "name": "stderr",
     "output_type": "stream",
     "text": [
      "\r\n",
      " 69%|██████████████████████████████████████████████████████████████████████████████████████▍                                      | 415/600 [00:54<00:22,  8.34it/s]"
     ]
    },
    {
     "name": "stderr",
     "output_type": "stream",
     "text": [
      "\r\n",
      " 69%|██████████████████████████████████████████████████████████████████████████████████████▋                                      | 416/600 [00:55<00:22,  8.17it/s]"
     ]
    },
    {
     "name": "stderr",
     "output_type": "stream",
     "text": [
      "\r\n",
      " 70%|██████████████████████████████████████████████████████████████████████████████████████▉                                      | 417/600 [00:55<00:22,  8.15it/s]"
     ]
    },
    {
     "name": "stderr",
     "output_type": "stream",
     "text": [
      "\r\n",
      " 70%|███████████████████████████████████████████████████████████████████████████████████████                                      | 418/600 [00:55<00:22,  8.24it/s]"
     ]
    },
    {
     "name": "stderr",
     "output_type": "stream",
     "text": [
      "\r\n",
      " 70%|███████████████████████████████████████████████████████████████████████████████████████▎                                     | 419/600 [00:55<00:21,  8.29it/s]"
     ]
    },
    {
     "name": "stderr",
     "output_type": "stream",
     "text": [
      "\r\n",
      " 70%|███████████████████████████████████████████████████████████████████████████████████████▌                                     | 420/600 [00:55<00:21,  8.27it/s]"
     ]
    },
    {
     "name": "stderr",
     "output_type": "stream",
     "text": [
      "\r\n",
      " 70%|███████████████████████████████████████████████████████████████████████████████████████▋                                     | 421/600 [00:55<00:21,  8.29it/s]"
     ]
    },
    {
     "name": "stderr",
     "output_type": "stream",
     "text": [
      "\r\n",
      " 70%|███████████████████████████████████████████████████████████████████████████████████████▉                                     | 422/600 [00:55<00:21,  8.36it/s]"
     ]
    },
    {
     "name": "stderr",
     "output_type": "stream",
     "text": [
      "\r\n",
      " 70%|████████████████████████████████████████████████████████████████████████████████████████▏                                    | 423/600 [00:55<00:21,  8.43it/s]"
     ]
    },
    {
     "name": "stderr",
     "output_type": "stream",
     "text": [
      "\r\n",
      " 71%|████████████████████████████████████████████████████████████████████████████████████████▎                                    | 424/600 [00:56<00:20,  8.45it/s]"
     ]
    },
    {
     "name": "stderr",
     "output_type": "stream",
     "text": [
      "\r\n",
      " 71%|████████████████████████████████████████████████████████████████████████████████████████▌                                    | 425/600 [00:56<00:20,  8.46it/s]"
     ]
    },
    {
     "name": "stderr",
     "output_type": "stream",
     "text": [
      "\r\n",
      " 71%|████████████████████████████████████████████████████████████████████████████████████████▊                                    | 426/600 [00:56<00:20,  8.49it/s]"
     ]
    },
    {
     "name": "stderr",
     "output_type": "stream",
     "text": [
      "\r\n",
      " 71%|████████████████████████████████████████████████████████████████████████████████████████▉                                    | 427/600 [00:56<00:20,  8.50it/s]"
     ]
    },
    {
     "name": "stderr",
     "output_type": "stream",
     "text": [
      "\r\n",
      " 71%|█████████████████████████████████████████████████████████████████████████████████████████▏                                   | 428/600 [00:56<00:20,  8.46it/s]"
     ]
    },
    {
     "name": "stderr",
     "output_type": "stream",
     "text": [
      "\r\n",
      " 72%|█████████████████████████████████████████████████████████████████████████████████████████▍                                   | 429/600 [00:56<00:20,  8.43it/s]"
     ]
    },
    {
     "name": "stderr",
     "output_type": "stream",
     "text": [
      "\r\n",
      " 72%|█████████████████████████████████████████████████████████████████████████████████████████▌                                   | 430/600 [00:56<00:20,  8.43it/s]"
     ]
    },
    {
     "name": "stderr",
     "output_type": "stream",
     "text": [
      "\r\n",
      " 72%|█████████████████████████████████████████████████████████████████████████████████████████▊                                   | 431/600 [00:56<00:20,  8.40it/s]"
     ]
    },
    {
     "name": "stderr",
     "output_type": "stream",
     "text": [
      "\r\n",
      " 72%|██████████████████████████████████████████████████████████████████████████████████████████                                   | 432/600 [00:56<00:20,  8.39it/s]"
     ]
    },
    {
     "name": "stderr",
     "output_type": "stream",
     "text": [
      "\r\n",
      " 72%|██████████████████████████████████████████████████████████████████████████████████████████▏                                  | 433/600 [00:57<00:19,  8.41it/s]"
     ]
    },
    {
     "name": "stderr",
     "output_type": "stream",
     "text": [
      "\r\n",
      " 72%|██████████████████████████████████████████████████████████████████████████████████████████▍                                  | 434/600 [00:57<00:19,  8.42it/s]"
     ]
    },
    {
     "name": "stderr",
     "output_type": "stream",
     "text": [
      "\r\n",
      " 72%|██████████████████████████████████████████████████████████████████████████████████████████▋                                  | 435/600 [00:57<00:19,  8.45it/s]"
     ]
    },
    {
     "name": "stderr",
     "output_type": "stream",
     "text": [
      "\r\n",
      " 73%|██████████████████████████████████████████████████████████████████████████████████████████▊                                  | 436/600 [00:57<00:19,  8.52it/s]"
     ]
    },
    {
     "name": "stderr",
     "output_type": "stream",
     "text": [
      "\r\n",
      " 73%|███████████████████████████████████████████████████████████████████████████████████████████                                  | 437/600 [00:57<00:19,  8.55it/s]"
     ]
    },
    {
     "name": "stderr",
     "output_type": "stream",
     "text": [
      "\r\n",
      " 73%|███████████████████████████████████████████████████████████████████████████████████████████▎                                 | 438/600 [00:57<00:18,  8.56it/s]"
     ]
    },
    {
     "name": "stderr",
     "output_type": "stream",
     "text": [
      "\r\n",
      " 73%|███████████████████████████████████████████████████████████████████████████████████████████▍                                 | 439/600 [00:57<00:18,  8.53it/s]"
     ]
    },
    {
     "name": "stderr",
     "output_type": "stream",
     "text": [
      "\r\n",
      " 73%|███████████████████████████████████████████████████████████████████████████████████████████▋                                 | 440/600 [00:57<00:18,  8.49it/s]"
     ]
    },
    {
     "name": "stderr",
     "output_type": "stream",
     "text": [
      "\r\n",
      " 74%|███████████████████████████████████████████████████████████████████████████████████████████▉                                 | 441/600 [00:58<00:18,  8.45it/s]"
     ]
    },
    {
     "name": "stderr",
     "output_type": "stream",
     "text": [
      "\r\n",
      " 74%|████████████████████████████████████████████████████████████████████████████████████████████                                 | 442/600 [00:58<00:18,  8.42it/s]"
     ]
    },
    {
     "name": "stderr",
     "output_type": "stream",
     "text": [
      "\r\n",
      " 74%|████████████████████████████████████████████████████████████████████████████████████████████▎                                | 443/600 [00:58<00:18,  8.41it/s]"
     ]
    },
    {
     "name": "stderr",
     "output_type": "stream",
     "text": [
      "\r\n",
      " 74%|████████████████████████████████████████████████████████████████████████████████████████████▌                                | 444/600 [00:58<00:18,  8.43it/s]"
     ]
    },
    {
     "name": "stderr",
     "output_type": "stream",
     "text": [
      "\r\n",
      " 74%|████████████████████████████████████████████████████████████████████████████████████████████▋                                | 445/600 [00:58<00:18,  8.38it/s]"
     ]
    },
    {
     "name": "stderr",
     "output_type": "stream",
     "text": [
      "\r\n",
      " 74%|████████████████████████████████████████████████████████████████████████████████████████████▉                                | 446/600 [00:58<00:18,  8.33it/s]"
     ]
    },
    {
     "name": "stderr",
     "output_type": "stream",
     "text": [
      "\r\n",
      " 74%|█████████████████████████████████████████████████████████████████████████████████████████████▏                               | 447/600 [00:58<00:18,  8.25it/s]"
     ]
    },
    {
     "name": "stderr",
     "output_type": "stream",
     "text": [
      "\r\n",
      " 75%|█████████████████████████████████████████████████████████████████████████████████████████████▎                               | 448/600 [00:58<00:18,  8.19it/s]"
     ]
    },
    {
     "name": "stderr",
     "output_type": "stream",
     "text": [
      "\r\n",
      " 75%|█████████████████████████████████████████████████████████████████████████████████████████████▌                               | 449/600 [00:59<00:18,  8.17it/s]"
     ]
    },
    {
     "name": "stderr",
     "output_type": "stream",
     "text": [
      "\r\n",
      " 75%|█████████████████████████████████████████████████████████████████████████████████████████████▊                               | 450/600 [00:59<00:18,  7.98it/s]"
     ]
    },
    {
     "name": "stderr",
     "output_type": "stream",
     "text": [
      "\r\n",
      " 75%|█████████████████████████████████████████████████████████████████████████████████████████████▉                               | 451/600 [00:59<00:18,  7.87it/s]"
     ]
    },
    {
     "name": "stderr",
     "output_type": "stream",
     "text": [
      "\r\n",
      " 75%|██████████████████████████████████████████████████████████████████████████████████████████████▏                              | 452/600 [00:59<00:18,  7.84it/s]"
     ]
    },
    {
     "name": "stderr",
     "output_type": "stream",
     "text": [
      "\r\n",
      " 76%|██████████████████████████████████████████████████████████████████████████████████████████████▍                              | 453/600 [00:59<00:19,  7.62it/s]"
     ]
    },
    {
     "name": "stderr",
     "output_type": "stream",
     "text": [
      "\r\n",
      " 76%|██████████████████████████████████████████████████████████████████████████████████████████████▌                              | 454/600 [00:59<00:19,  7.61it/s]"
     ]
    },
    {
     "name": "stderr",
     "output_type": "stream",
     "text": [
      "\r\n",
      " 76%|██████████████████████████████████████████████████████████████████████████████████████████████▊                              | 455/600 [00:59<00:18,  7.75it/s]"
     ]
    },
    {
     "name": "stderr",
     "output_type": "stream",
     "text": [
      "\r\n",
      " 76%|███████████████████████████████████████████████████████████████████████████████████████████████                              | 456/600 [00:59<00:18,  7.92it/s]"
     ]
    },
    {
     "name": "stderr",
     "output_type": "stream",
     "text": [
      "\r\n",
      " 76%|███████████████████████████████████████████████████████████████████████████████████████████████▏                             | 457/600 [01:00<00:18,  7.91it/s]"
     ]
    },
    {
     "name": "stderr",
     "output_type": "stream",
     "text": [
      "\r\n",
      " 76%|███████████████████████████████████████████████████████████████████████████████████████████████▍                             | 458/600 [01:00<00:17,  7.93it/s]"
     ]
    },
    {
     "name": "stderr",
     "output_type": "stream",
     "text": [
      "\r\n",
      " 76%|███████████████████████████████████████████████████████████████████████████████████████████████▋                             | 459/600 [01:00<00:17,  7.95it/s]"
     ]
    },
    {
     "name": "stderr",
     "output_type": "stream",
     "text": [
      "\r\n",
      " 77%|███████████████████████████████████████████████████████████████████████████████████████████████▊                             | 460/600 [01:00<00:17,  7.94it/s]"
     ]
    },
    {
     "name": "stderr",
     "output_type": "stream",
     "text": [
      "\r\n",
      " 77%|████████████████████████████████████████████████████████████████████████████████████████████████                             | 461/600 [01:00<00:17,  7.98it/s]"
     ]
    },
    {
     "name": "stderr",
     "output_type": "stream",
     "text": [
      "\r\n",
      " 77%|████████████████████████████████████████████████████████████████████████████████████████████████▎                            | 462/600 [01:00<00:17,  7.84it/s]"
     ]
    },
    {
     "name": "stderr",
     "output_type": "stream",
     "text": [
      "\r\n",
      " 77%|████████████████████████████████████████████████████████████████████████████████████████████████▍                            | 463/600 [01:00<00:17,  7.85it/s]"
     ]
    },
    {
     "name": "stderr",
     "output_type": "stream",
     "text": [
      "\r\n",
      " 77%|████████████████████████████████████████████████████████████████████████████████████████████████▋                            | 464/600 [01:00<00:17,  7.89it/s]"
     ]
    },
    {
     "name": "stderr",
     "output_type": "stream",
     "text": [
      "\r\n",
      " 78%|████████████████████████████████████████████████████████████████████████████████████████████████▉                            | 465/600 [01:01<00:17,  7.93it/s]"
     ]
    },
    {
     "name": "stderr",
     "output_type": "stream",
     "text": [
      "\r\n",
      " 78%|█████████████████████████████████████████████████████████████████████████████████████████████████                            | 466/600 [01:01<00:16,  7.93it/s]"
     ]
    },
    {
     "name": "stderr",
     "output_type": "stream",
     "text": [
      "\r\n",
      " 78%|█████████████████████████████████████████████████████████████████████████████████████████████████▎                           | 467/600 [01:01<00:18,  7.27it/s]"
     ]
    },
    {
     "name": "stderr",
     "output_type": "stream",
     "text": [
      "\r\n",
      " 78%|█████████████████████████████████████████████████████████████████████████████████████████████████▌                           | 468/600 [01:01<00:18,  7.12it/s]"
     ]
    },
    {
     "name": "stderr",
     "output_type": "stream",
     "text": [
      "\r\n",
      " 78%|█████████████████████████████████████████████████████████████████████████████████████████████████▋                           | 469/600 [01:01<00:20,  6.48it/s]"
     ]
    },
    {
     "name": "stderr",
     "output_type": "stream",
     "text": [
      "\r\n",
      " 78%|█████████████████████████████████████████████████████████████████████████████████████████████████▉                           | 470/600 [01:01<00:19,  6.58it/s]"
     ]
    },
    {
     "name": "stderr",
     "output_type": "stream",
     "text": [
      "\r\n",
      " 78%|██████████████████████████████████████████████████████████████████████████████████████████████████▏                          | 471/600 [01:01<00:18,  6.86it/s]"
     ]
    },
    {
     "name": "stderr",
     "output_type": "stream",
     "text": [
      "\r\n",
      " 79%|██████████████████████████████████████████████████████████████████████████████████████████████████▎                          | 472/600 [01:02<00:17,  7.22it/s]"
     ]
    },
    {
     "name": "stderr",
     "output_type": "stream",
     "text": [
      "\r\n",
      " 79%|██████████████████████████████████████████████████████████████████████████████████████████████████▌                          | 473/600 [01:02<00:16,  7.52it/s]"
     ]
    },
    {
     "name": "stderr",
     "output_type": "stream",
     "text": [
      "\r\n",
      " 79%|██████████████████████████████████████████████████████████████████████████████████████████████████▊                          | 474/600 [01:02<00:16,  7.75it/s]"
     ]
    },
    {
     "name": "stderr",
     "output_type": "stream",
     "text": [
      "\r\n",
      " 79%|██████████████████████████████████████████████████████████████████████████████████████████████████▉                          | 475/600 [01:02<00:15,  7.90it/s]"
     ]
    },
    {
     "name": "stderr",
     "output_type": "stream",
     "text": [
      "\r\n",
      " 79%|███████████████████████████████████████████████████████████████████████████████████████████████████▏                         | 476/600 [01:02<00:15,  8.08it/s]"
     ]
    },
    {
     "name": "stderr",
     "output_type": "stream",
     "text": [
      "\r\n",
      " 80%|███████████████████████████████████████████████████████████████████████████████████████████████████▍                         | 477/600 [01:02<00:15,  8.19it/s]"
     ]
    },
    {
     "name": "stderr",
     "output_type": "stream",
     "text": [
      "\r\n",
      " 80%|███████████████████████████████████████████████████████████████████████████████████████████████████▌                         | 478/600 [01:02<00:14,  8.30it/s]"
     ]
    },
    {
     "name": "stderr",
     "output_type": "stream",
     "text": [
      "\r\n",
      " 80%|███████████████████████████████████████████████████████████████████████████████████████████████████▊                         | 479/600 [01:02<00:14,  8.36it/s]"
     ]
    },
    {
     "name": "stderr",
     "output_type": "stream",
     "text": [
      "\r\n",
      " 80%|████████████████████████████████████████████████████████████████████████████████████████████████████                         | 480/600 [01:03<00:14,  8.37it/s]"
     ]
    },
    {
     "name": "stderr",
     "output_type": "stream",
     "text": [
      "\r\n",
      " 80%|████████████████████████████████████████████████████████████████████████████████████████████████████▏                        | 481/600 [01:03<00:14,  8.39it/s]"
     ]
    },
    {
     "name": "stderr",
     "output_type": "stream",
     "text": [
      "\r\n",
      " 80%|████████████████████████████████████████████████████████████████████████████████████████████████████▍                        | 482/600 [01:03<00:14,  8.42it/s]"
     ]
    },
    {
     "name": "stderr",
     "output_type": "stream",
     "text": [
      "\r\n",
      " 80%|████████████████████████████████████████████████████████████████████████████████████████████████████▋                        | 483/600 [01:03<00:13,  8.46it/s]"
     ]
    },
    {
     "name": "stderr",
     "output_type": "stream",
     "text": [
      "\r\n",
      " 81%|████████████████████████████████████████████████████████████████████████████████████████████████████▊                        | 484/600 [01:03<00:13,  8.50it/s]"
     ]
    },
    {
     "name": "stderr",
     "output_type": "stream",
     "text": [
      "\r\n",
      " 81%|█████████████████████████████████████████████████████████████████████████████████████████████████████                        | 485/600 [01:03<00:13,  8.48it/s]"
     ]
    },
    {
     "name": "stderr",
     "output_type": "stream",
     "text": [
      "\r\n",
      " 81%|█████████████████████████████████████████████████████████████████████████████████████████████████████▎                       | 486/600 [01:03<00:13,  8.49it/s]"
     ]
    },
    {
     "name": "stderr",
     "output_type": "stream",
     "text": [
      "\r\n",
      " 81%|█████████████████████████████████████████████████████████████████████████████████████████████████████▍                       | 487/600 [01:03<00:13,  8.51it/s]"
     ]
    },
    {
     "name": "stderr",
     "output_type": "stream",
     "text": [
      "\r\n",
      " 81%|█████████████████████████████████████████████████████████████████████████████████████████████████████▋                       | 488/600 [01:03<00:13,  8.52it/s]"
     ]
    },
    {
     "name": "stderr",
     "output_type": "stream",
     "text": [
      "\r\n",
      " 82%|█████████████████████████████████████████████████████████████████████████████████████████████████████▉                       | 489/600 [01:04<00:13,  8.51it/s]"
     ]
    },
    {
     "name": "stderr",
     "output_type": "stream",
     "text": [
      "\r\n",
      " 82%|██████████████████████████████████████████████████████████████████████████████████████████████████████                       | 490/600 [01:04<00:12,  8.50it/s]"
     ]
    },
    {
     "name": "stderr",
     "output_type": "stream",
     "text": [
      "\r\n",
      " 82%|██████████████████████████████████████████████████████████████████████████████████████████████████████▎                      | 491/600 [01:04<00:12,  8.45it/s]"
     ]
    },
    {
     "name": "stderr",
     "output_type": "stream",
     "text": [
      "\r\n",
      " 82%|██████████████████████████████████████████████████████████████████████████████████████████████████████▌                      | 492/600 [01:04<00:12,  8.46it/s]"
     ]
    },
    {
     "name": "stderr",
     "output_type": "stream",
     "text": [
      "\r\n",
      " 82%|██████████████████████████████████████████████████████████████████████████████████████████████████████▋                      | 493/600 [01:04<00:12,  8.47it/s]"
     ]
    },
    {
     "name": "stderr",
     "output_type": "stream",
     "text": [
      "\r\n",
      " 82%|██████████████████████████████████████████████████████████████████████████████████████████████████████▉                      | 494/600 [01:04<00:12,  8.49it/s]"
     ]
    },
    {
     "name": "stderr",
     "output_type": "stream",
     "text": [
      "\r\n",
      " 82%|███████████████████████████████████████████████████████████████████████████████████████████████████████▏                     | 495/600 [01:04<00:12,  8.51it/s]"
     ]
    },
    {
     "name": "stderr",
     "output_type": "stream",
     "text": [
      "\r\n",
      " 83%|███████████████████████████████████████████████████████████████████████████████████████████████████████▎                     | 496/600 [01:04<00:12,  8.56it/s]"
     ]
    },
    {
     "name": "stderr",
     "output_type": "stream",
     "text": [
      "\r\n",
      " 83%|███████████████████████████████████████████████████████████████████████████████████████████████████████▌                     | 497/600 [01:05<00:12,  8.57it/s]"
     ]
    },
    {
     "name": "stderr",
     "output_type": "stream",
     "text": [
      "\r\n",
      " 83%|███████████████████████████████████████████████████████████████████████████████████████████████████████▊                     | 498/600 [01:05<00:11,  8.53it/s]"
     ]
    },
    {
     "name": "stderr",
     "output_type": "stream",
     "text": [
      "\r\n",
      " 83%|███████████████████████████████████████████████████████████████████████████████████████████████████████▉                     | 499/600 [01:05<00:11,  8.49it/s]"
     ]
    },
    {
     "name": "stderr",
     "output_type": "stream",
     "text": [
      "\r\n",
      " 83%|████████████████████████████████████████████████████████████████████████████████████████████████████████▏                    | 500/600 [01:05<00:11,  8.46it/s]"
     ]
    },
    {
     "name": "stderr",
     "output_type": "stream",
     "text": [
      "\r\n",
      " 84%|████████████████████████████████████████████████████████████████████████████████████████████████████████▍                    | 501/600 [01:05<00:11,  8.44it/s]"
     ]
    },
    {
     "name": "stderr",
     "output_type": "stream",
     "text": [
      "\r\n",
      " 84%|████████████████████████████████████████████████████████████████████████████████████████████████████████▌                    | 502/600 [01:05<00:11,  8.38it/s]"
     ]
    },
    {
     "name": "stderr",
     "output_type": "stream",
     "text": [
      "\r\n",
      " 84%|████████████████████████████████████████████████████████████████████████████████████████████████████████▊                    | 503/600 [01:05<00:11,  8.41it/s]"
     ]
    },
    {
     "name": "stderr",
     "output_type": "stream",
     "text": [
      "\r\n",
      " 84%|█████████████████████████████████████████████████████████████████████████████████████████████████████████                    | 504/600 [01:05<00:11,  8.42it/s]"
     ]
    },
    {
     "name": "stderr",
     "output_type": "stream",
     "text": [
      "\r\n",
      " 84%|█████████████████████████████████████████████████████████████████████████████████████████████████████████▏                   | 505/600 [01:05<00:11,  8.44it/s]"
     ]
    },
    {
     "name": "stderr",
     "output_type": "stream",
     "text": [
      "\r\n",
      " 84%|█████████████████████████████████████████████████████████████████████████████████████████████████████████▍                   | 506/600 [01:06<00:11,  8.41it/s]"
     ]
    },
    {
     "name": "stderr",
     "output_type": "stream",
     "text": [
      "\r\n",
      " 84%|█████████████████████████████████████████████████████████████████████████████████████████████████████████▋                   | 507/600 [01:06<00:11,  8.43it/s]"
     ]
    },
    {
     "name": "stderr",
     "output_type": "stream",
     "text": [
      "\r\n",
      " 85%|█████████████████████████████████████████████████████████████████████████████████████████████████████████▊                   | 508/600 [01:06<00:10,  8.42it/s]"
     ]
    },
    {
     "name": "stderr",
     "output_type": "stream",
     "text": [
      "\r\n",
      " 85%|██████████████████████████████████████████████████████████████████████████████████████████████████████████                   | 509/600 [01:06<00:10,  8.43it/s]"
     ]
    },
    {
     "name": "stderr",
     "output_type": "stream",
     "text": [
      "\r\n",
      " 85%|██████████████████████████████████████████████████████████████████████████████████████████████████████████▎                  | 510/600 [01:06<00:10,  8.36it/s]"
     ]
    },
    {
     "name": "stderr",
     "output_type": "stream",
     "text": [
      "\r\n",
      " 85%|██████████████████████████████████████████████████████████████████████████████████████████████████████████▍                  | 511/600 [01:06<00:10,  8.41it/s]"
     ]
    },
    {
     "name": "stderr",
     "output_type": "stream",
     "text": [
      "\r\n",
      " 85%|██████████████████████████████████████████████████████████████████████████████████████████████████████████▋                  | 512/600 [01:06<00:10,  8.36it/s]"
     ]
    },
    {
     "name": "stderr",
     "output_type": "stream",
     "text": [
      "\r\n",
      " 86%|██████████████████████████████████████████████████████████████████████████████████████████████████████████▉                  | 513/600 [01:06<00:10,  8.21it/s]"
     ]
    },
    {
     "name": "stderr",
     "output_type": "stream",
     "text": [
      "\r\n",
      " 86%|███████████████████████████████████████████████████████████████████████████████████████████████████████████                  | 514/600 [01:07<00:10,  8.22it/s]"
     ]
    },
    {
     "name": "stderr",
     "output_type": "stream",
     "text": [
      "\r\n",
      " 86%|███████████████████████████████████████████████████████████████████████████████████████████████████████████▎                 | 515/600 [01:07<00:10,  8.29it/s]"
     ]
    },
    {
     "name": "stderr",
     "output_type": "stream",
     "text": [
      "\r\n",
      " 86%|███████████████████████████████████████████████████████████████████████████████████████████████████████████▌                 | 516/600 [01:07<00:10,  8.28it/s]"
     ]
    },
    {
     "name": "stderr",
     "output_type": "stream",
     "text": [
      "\r\n",
      " 86%|███████████████████████████████████████████████████████████████████████████████████████████████████████████▋                 | 517/600 [01:07<00:10,  8.15it/s]"
     ]
    },
    {
     "name": "stderr",
     "output_type": "stream",
     "text": [
      "\r\n",
      " 86%|███████████████████████████████████████████████████████████████████████████████████████████████████████████▉                 | 518/600 [01:07<00:10,  8.13it/s]"
     ]
    },
    {
     "name": "stderr",
     "output_type": "stream",
     "text": [
      "\r\n",
      " 86%|████████████████████████████████████████████████████████████████████████████████████████████████████████████▏                | 519/600 [01:07<00:10,  8.07it/s]"
     ]
    },
    {
     "name": "stderr",
     "output_type": "stream",
     "text": [
      "\r\n",
      " 87%|████████████████████████████████████████████████████████████████████████████████████████████████████████████▎                | 520/600 [01:07<00:09,  8.06it/s]"
     ]
    },
    {
     "name": "stderr",
     "output_type": "stream",
     "text": [
      "\r\n",
      " 87%|████████████████████████████████████████████████████████████████████████████████████████████████████████████▌                | 521/600 [01:07<00:09,  8.00it/s]"
     ]
    },
    {
     "name": "stderr",
     "output_type": "stream",
     "text": [
      "\r\n",
      " 87%|████████████████████████████████████████████████████████████████████████████████████████████████████████████▊                | 522/600 [01:08<00:09,  7.97it/s]"
     ]
    },
    {
     "name": "stderr",
     "output_type": "stream",
     "text": [
      "\r\n",
      " 87%|████████████████████████████████████████████████████████████████████████████████████████████████████████████▉                | 523/600 [01:08<00:09,  7.99it/s]"
     ]
    },
    {
     "name": "stderr",
     "output_type": "stream",
     "text": [
      "\r\n",
      " 87%|█████████████████████████████████████████████████████████████████████████████████████████████████████████████▏               | 524/600 [01:08<00:09,  8.06it/s]"
     ]
    },
    {
     "name": "stderr",
     "output_type": "stream",
     "text": [
      "\r\n",
      " 88%|█████████████████████████████████████████████████████████████████████████████████████████████████████████████▍               | 525/600 [01:08<00:09,  8.02it/s]"
     ]
    },
    {
     "name": "stderr",
     "output_type": "stream",
     "text": [
      "\r\n",
      " 88%|█████████████████████████████████████████████████████████████████████████████████████████████████████████████▌               | 526/600 [01:08<00:09,  8.05it/s]"
     ]
    },
    {
     "name": "stderr",
     "output_type": "stream",
     "text": [
      "\r\n",
      " 88%|█████████████████████████████████████████████████████████████████████████████████████████████████████████████▊               | 527/600 [01:08<00:09,  8.04it/s]"
     ]
    },
    {
     "name": "stderr",
     "output_type": "stream",
     "text": [
      "\r\n",
      " 88%|██████████████████████████████████████████████████████████████████████████████████████████████████████████████               | 528/600 [01:08<00:08,  8.12it/s]"
     ]
    },
    {
     "name": "stderr",
     "output_type": "stream",
     "text": [
      "\r\n",
      " 88%|██████████████████████████████████████████████████████████████████████████████████████████████████████████████▏              | 529/600 [01:08<00:08,  8.21it/s]"
     ]
    },
    {
     "name": "stderr",
     "output_type": "stream",
     "text": [
      "\r\n",
      " 88%|██████████████████████████████████████████████████████████████████████████████████████████████████████████████▍              | 530/600 [01:09<00:08,  8.26it/s]"
     ]
    },
    {
     "name": "stderr",
     "output_type": "stream",
     "text": [
      "\r\n",
      " 88%|██████████████████████████████████████████████████████████████████████████████████████████████████████████████▋              | 531/600 [01:09<00:08,  8.27it/s]"
     ]
    },
    {
     "name": "stderr",
     "output_type": "stream",
     "text": [
      "\r\n",
      " 89%|██████████████████████████████████████████████████████████████████████████████████████████████████████████████▊              | 532/600 [01:09<00:08,  8.20it/s]"
     ]
    },
    {
     "name": "stderr",
     "output_type": "stream",
     "text": [
      "\r\n",
      " 89%|███████████████████████████████████████████████████████████████████████████████████████████████████████████████              | 533/600 [01:09<00:08,  8.13it/s]"
     ]
    },
    {
     "name": "stderr",
     "output_type": "stream",
     "text": [
      "\r\n",
      " 89%|███████████████████████████████████████████████████████████████████████████████████████████████████████████████▎             | 534/600 [01:09<00:08,  8.16it/s]"
     ]
    },
    {
     "name": "stderr",
     "output_type": "stream",
     "text": [
      "\r\n",
      " 89%|███████████████████████████████████████████████████████████████████████████████████████████████████████████████▍             | 535/600 [01:09<00:08,  8.11it/s]"
     ]
    },
    {
     "name": "stderr",
     "output_type": "stream",
     "text": [
      "\r\n",
      " 89%|███████████████████████████████████████████████████████████████████████████████████████████████████████████████▋             | 536/600 [01:09<00:07,  8.10it/s]"
     ]
    },
    {
     "name": "stderr",
     "output_type": "stream",
     "text": [
      "\r\n",
      " 90%|███████████████████████████████████████████████████████████████████████████████████████████████████████████████▉             | 537/600 [01:09<00:07,  8.06it/s]"
     ]
    },
    {
     "name": "stderr",
     "output_type": "stream",
     "text": [
      "\r\n",
      " 90%|████████████████████████████████████████████████████████████████████████████████████████████████████████████████             | 538/600 [01:10<00:07,  7.98it/s]"
     ]
    },
    {
     "name": "stderr",
     "output_type": "stream",
     "text": [
      "\r\n",
      " 90%|████████████████████████████████████████████████████████████████████████████████████████████████████████████████▎            | 539/600 [01:10<00:07,  8.02it/s]"
     ]
    },
    {
     "name": "stderr",
     "output_type": "stream",
     "text": [
      "\r\n",
      " 90%|████████████████████████████████████████████████████████████████████████████████████████████████████████████████▌            | 540/600 [01:10<00:07,  8.14it/s]"
     ]
    },
    {
     "name": "stderr",
     "output_type": "stream",
     "text": [
      "\r\n",
      " 90%|████████████████████████████████████████████████████████████████████████████████████████████████████████████████▋            | 541/600 [01:10<00:07,  8.19it/s]"
     ]
    },
    {
     "name": "stderr",
     "output_type": "stream",
     "text": [
      "\r\n",
      " 90%|████████████████████████████████████████████████████████████████████████████████████████████████████████████████▉            | 542/600 [01:10<00:07,  8.27it/s]"
     ]
    },
    {
     "name": "stderr",
     "output_type": "stream",
     "text": [
      "\r\n",
      " 90%|█████████████████████████████████████████████████████████████████████████████████████████████████████████████████▏           | 543/600 [01:10<00:06,  8.28it/s]"
     ]
    },
    {
     "name": "stderr",
     "output_type": "stream",
     "text": [
      "\r\n",
      " 91%|█████████████████████████████████████████████████████████████████████████████████████████████████████████████████▎           | 544/600 [01:10<00:06,  8.14it/s]"
     ]
    },
    {
     "name": "stderr",
     "output_type": "stream",
     "text": [
      "\r\n",
      " 91%|█████████████████████████████████████████████████████████████████████████████████████████████████████████████████▌           | 545/600 [01:10<00:06,  8.15it/s]"
     ]
    },
    {
     "name": "stderr",
     "output_type": "stream",
     "text": [
      "\r\n",
      " 91%|█████████████████████████████████████████████████████████████████████████████████████████████████████████████████▊           | 546/600 [01:11<00:06,  8.25it/s]"
     ]
    },
    {
     "name": "stderr",
     "output_type": "stream",
     "text": [
      "\r\n",
      " 91%|█████████████████████████████████████████████████████████████████████████████████████████████████████████████████▉           | 547/600 [01:11<00:06,  8.32it/s]"
     ]
    },
    {
     "name": "stderr",
     "output_type": "stream",
     "text": [
      "\r\n",
      " 91%|██████████████████████████████████████████████████████████████████████████████████████████████████████████████████▏          | 548/600 [01:11<00:06,  8.32it/s]"
     ]
    },
    {
     "name": "stderr",
     "output_type": "stream",
     "text": [
      "\r\n",
      " 92%|██████████████████████████████████████████████████████████████████████████████████████████████████████████████████▍          | 549/600 [01:11<00:06,  8.32it/s]"
     ]
    },
    {
     "name": "stderr",
     "output_type": "stream",
     "text": [
      "\r\n",
      " 92%|██████████████████████████████████████████████████████████████████████████████████████████████████████████████████▌          | 550/600 [01:11<00:05,  8.37it/s]"
     ]
    },
    {
     "name": "stderr",
     "output_type": "stream",
     "text": [
      "\r\n",
      " 92%|██████████████████████████████████████████████████████████████████████████████████████████████████████████████████▊          | 551/600 [01:11<00:05,  8.41it/s]"
     ]
    },
    {
     "name": "stderr",
     "output_type": "stream",
     "text": [
      "\r\n",
      " 92%|███████████████████████████████████████████████████████████████████████████████████████████████████████████████████          | 552/600 [01:11<00:05,  8.41it/s]"
     ]
    },
    {
     "name": "stderr",
     "output_type": "stream",
     "text": [
      "\r\n",
      " 92%|███████████████████████████████████████████████████████████████████████████████████████████████████████████████████▏         | 553/600 [01:11<00:05,  8.43it/s]"
     ]
    },
    {
     "name": "stderr",
     "output_type": "stream",
     "text": [
      "\r\n",
      " 92%|███████████████████████████████████████████████████████████████████████████████████████████████████████████████████▍         | 554/600 [01:11<00:05,  8.31it/s]"
     ]
    },
    {
     "name": "stderr",
     "output_type": "stream",
     "text": [
      "\r\n",
      " 92%|███████████████████████████████████████████████████████████████████████████████████████████████████████████████████▋         | 555/600 [01:12<00:05,  8.00it/s]"
     ]
    },
    {
     "name": "stderr",
     "output_type": "stream",
     "text": [
      "\r\n",
      " 93%|███████████████████████████████████████████████████████████████████████████████████████████████████████████████████▊         | 556/600 [01:12<00:05,  8.06it/s]"
     ]
    },
    {
     "name": "stderr",
     "output_type": "stream",
     "text": [
      "\r\n",
      " 93%|████████████████████████████████████████████████████████████████████████████████████████████████████████████████████         | 557/600 [01:12<00:05,  8.15it/s]"
     ]
    },
    {
     "name": "stderr",
     "output_type": "stream",
     "text": [
      "\r\n",
      " 93%|████████████████████████████████████████████████████████████████████████████████████████████████████████████████████▎        | 558/600 [01:12<00:05,  8.21it/s]"
     ]
    },
    {
     "name": "stderr",
     "output_type": "stream",
     "text": [
      "\r\n",
      " 93%|████████████████████████████████████████████████████████████████████████████████████████████████████████████████████▍        | 559/600 [01:12<00:04,  8.30it/s]"
     ]
    },
    {
     "name": "stderr",
     "output_type": "stream",
     "text": [
      "\r\n",
      " 93%|████████████████████████████████████████████████████████████████████████████████████████████████████████████████████▋        | 560/600 [01:12<00:04,  8.31it/s]"
     ]
    },
    {
     "name": "stderr",
     "output_type": "stream",
     "text": [
      "\r\n",
      " 94%|████████████████████████████████████████████████████████████████████████████████████████████████████████████████████▉        | 561/600 [01:12<00:04,  8.35it/s]"
     ]
    },
    {
     "name": "stderr",
     "output_type": "stream",
     "text": [
      "\r\n",
      " 94%|█████████████████████████████████████████████████████████████████████████████████████████████████████████████████████        | 562/600 [01:12<00:04,  8.61it/s]"
     ]
    },
    {
     "name": "stderr",
     "output_type": "stream",
     "text": [
      "\r\n",
      " 94%|█████████████████████████████████████████████████████████████████████████████████████████████████████████████████████▎       | 563/600 [01:13<00:04,  8.69it/s]"
     ]
    },
    {
     "name": "stderr",
     "output_type": "stream",
     "text": [
      "\r\n",
      " 94%|█████████████████████████████████████████████████████████████████████████████████████████████████████████████████████▌       | 564/600 [01:13<00:04,  8.62it/s]"
     ]
    },
    {
     "name": "stderr",
     "output_type": "stream",
     "text": [
      "\r\n",
      " 94%|█████████████████████████████████████████████████████████████████████████████████████████████████████████████████████▋       | 565/600 [01:13<00:04,  8.54it/s]"
     ]
    },
    {
     "name": "stderr",
     "output_type": "stream",
     "text": [
      "\r\n",
      " 94%|█████████████████████████████████████████████████████████████████████████████████████████████████████████████████████▉       | 566/600 [01:13<00:04,  8.36it/s]"
     ]
    },
    {
     "name": "stderr",
     "output_type": "stream",
     "text": [
      "\r\n",
      " 94%|██████████████████████████████████████████████████████████████████████████████████████████████████████████████████████▏      | 567/600 [01:13<00:03,  8.32it/s]"
     ]
    },
    {
     "name": "stderr",
     "output_type": "stream",
     "text": [
      "\r\n",
      " 95%|██████████████████████████████████████████████████████████████████████████████████████████████████████████████████████▎      | 568/600 [01:13<00:03,  8.32it/s]"
     ]
    },
    {
     "name": "stderr",
     "output_type": "stream",
     "text": [
      "\r\n",
      " 95%|██████████████████████████████████████████████████████████████████████████████████████████████████████████████████████▌      | 569/600 [01:13<00:03,  8.37it/s]"
     ]
    },
    {
     "name": "stderr",
     "output_type": "stream",
     "text": [
      "\r\n",
      " 95%|██████████████████████████████████████████████████████████████████████████████████████████████████████████████████████▊      | 570/600 [01:13<00:03,  8.31it/s]"
     ]
    },
    {
     "name": "stderr",
     "output_type": "stream",
     "text": [
      "\r\n",
      " 95%|██████████████████████████████████████████████████████████████████████████████████████████████████████████████████████▉      | 571/600 [01:14<00:03,  8.25it/s]"
     ]
    },
    {
     "name": "stderr",
     "output_type": "stream",
     "text": [
      "\r\n",
      " 95%|███████████████████████████████████████████████████████████████████████████████████████████████████████████████████████▏     | 572/600 [01:14<00:03,  8.19it/s]"
     ]
    },
    {
     "name": "stderr",
     "output_type": "stream",
     "text": [
      "\r\n",
      " 96%|███████████████████████████████████████████████████████████████████████████████████████████████████████████████████████▍     | 573/600 [01:14<00:03,  8.20it/s]"
     ]
    },
    {
     "name": "stderr",
     "output_type": "stream",
     "text": [
      "\r\n",
      " 96%|███████████████████████████████████████████████████████████████████████████████████████████████████████████████████████▌     | 574/600 [01:14<00:03,  8.27it/s]"
     ]
    },
    {
     "name": "stderr",
     "output_type": "stream",
     "text": [
      "\r\n",
      " 96%|███████████████████████████████████████████████████████████████████████████████████████████████████████████████████████▊     | 575/600 [01:14<00:03,  8.28it/s]"
     ]
    },
    {
     "name": "stderr",
     "output_type": "stream",
     "text": [
      "\r\n",
      " 96%|████████████████████████████████████████████████████████████████████████████████████████████████████████████████████████     | 576/600 [01:14<00:02,  8.21it/s]"
     ]
    },
    {
     "name": "stderr",
     "output_type": "stream",
     "text": [
      "\r\n",
      " 96%|████████████████████████████████████████████████████████████████████████████████████████████████████████████████████████▏    | 577/600 [01:14<00:02,  8.16it/s]"
     ]
    },
    {
     "name": "stderr",
     "output_type": "stream",
     "text": [
      "\r\n",
      " 96%|████████████████████████████████████████████████████████████████████████████████████████████████████████████████████████▍    | 578/600 [01:14<00:02,  8.10it/s]"
     ]
    },
    {
     "name": "stderr",
     "output_type": "stream",
     "text": [
      "\r\n",
      " 96%|████████████████████████████████████████████████████████████████████████████████████████████████████████████████████████▋    | 579/600 [01:14<00:02,  8.16it/s]"
     ]
    },
    {
     "name": "stderr",
     "output_type": "stream",
     "text": [
      "\r\n",
      " 97%|████████████████████████████████████████████████████████████████████████████████████████████████████████████████████████▊    | 580/600 [01:15<00:02,  8.35it/s]"
     ]
    },
    {
     "name": "stderr",
     "output_type": "stream",
     "text": [
      "\r\n",
      " 97%|█████████████████████████████████████████████████████████████████████████████████████████████████████████████████████████    | 581/600 [01:15<00:02,  8.26it/s]"
     ]
    },
    {
     "name": "stderr",
     "output_type": "stream",
     "text": [
      "\r\n",
      " 97%|█████████████████████████████████████████████████████████████████████████████████████████████████████████████████████████▎   | 582/600 [01:15<00:02,  8.21it/s]"
     ]
    },
    {
     "name": "stderr",
     "output_type": "stream",
     "text": [
      "\r\n",
      " 97%|█████████████████████████████████████████████████████████████████████████████████████████████████████████████████████████▍   | 583/600 [01:15<00:02,  8.15it/s]"
     ]
    },
    {
     "name": "stderr",
     "output_type": "stream",
     "text": [
      "\r\n",
      " 97%|█████████████████████████████████████████████████████████████████████████████████████████████████████████████████████████▋   | 584/600 [01:15<00:01,  8.18it/s]"
     ]
    },
    {
     "name": "stderr",
     "output_type": "stream",
     "text": [
      "\r\n",
      " 98%|█████████████████████████████████████████████████████████████████████████████████████████████████████████████████████████▉   | 585/600 [01:15<00:01,  8.26it/s]"
     ]
    },
    {
     "name": "stderr",
     "output_type": "stream",
     "text": [
      "\r\n",
      " 98%|██████████████████████████████████████████████████████████████████████████████████████████████████████████████████████████   | 586/600 [01:15<00:01,  8.05it/s]"
     ]
    },
    {
     "name": "stderr",
     "output_type": "stream",
     "text": [
      "\r\n",
      " 98%|██████████████████████████████████████████████████████████████████████████████████████████████████████████████████████████▎  | 587/600 [01:15<00:01,  8.19it/s]"
     ]
    },
    {
     "name": "stderr",
     "output_type": "stream",
     "text": [
      "\r\n",
      " 98%|██████████████████████████████████████████████████████████████████████████████████████████████████████████████████████████▌  | 588/600 [01:16<00:01,  8.22it/s]"
     ]
    },
    {
     "name": "stderr",
     "output_type": "stream",
     "text": [
      "\r\n",
      " 98%|██████████████████████████████████████████████████████████████████████████████████████████████████████████████████████████▋  | 589/600 [01:16<00:01,  8.27it/s]"
     ]
    },
    {
     "name": "stderr",
     "output_type": "stream",
     "text": [
      "\r\n",
      " 98%|██████████████████████████████████████████████████████████████████████████████████████████████████████████████████████████▉  | 590/600 [01:16<00:01,  8.20it/s]"
     ]
    },
    {
     "name": "stderr",
     "output_type": "stream",
     "text": [
      "\r\n",
      " 98%|███████████████████████████████████████████████████████████████████████████████████████████████████████████████████████████▏ | 591/600 [01:16<00:01,  8.19it/s]"
     ]
    },
    {
     "name": "stderr",
     "output_type": "stream",
     "text": [
      "\r\n",
      " 99%|███████████████████████████████████████████████████████████████████████████████████████████████████████████████████████████▎ | 592/600 [01:16<00:00,  8.28it/s]"
     ]
    },
    {
     "name": "stderr",
     "output_type": "stream",
     "text": [
      "\r\n",
      " 99%|███████████████████████████████████████████████████████████████████████████████████████████████████████████████████████████▌ | 593/600 [01:16<00:00,  8.15it/s]"
     ]
    },
    {
     "name": "stderr",
     "output_type": "stream",
     "text": [
      "\r\n",
      " 99%|███████████████████████████████████████████████████████████████████████████████████████████████████████████████████████████▊ | 594/600 [01:16<00:00,  8.24it/s]"
     ]
    },
    {
     "name": "stderr",
     "output_type": "stream",
     "text": [
      "\r\n",
      " 99%|███████████████████████████████████████████████████████████████████████████████████████████████████████████████████████████▉ | 595/600 [01:16<00:00,  8.17it/s]"
     ]
    },
    {
     "name": "stderr",
     "output_type": "stream",
     "text": [
      "\r\n",
      " 99%|████████████████████████████████████████████████████████████████████████████████████████████████████████████████████████████▏| 596/600 [01:17<00:00,  8.10it/s]"
     ]
    },
    {
     "name": "stderr",
     "output_type": "stream",
     "text": [
      "\r\n",
      "100%|████████████████████████████████████████████████████████████████████████████████████████████████████████████████████████████▍| 597/600 [01:17<00:00,  8.14it/s]"
     ]
    },
    {
     "name": "stderr",
     "output_type": "stream",
     "text": [
      "\r\n",
      "100%|████████████████████████████████████████████████████████████████████████████████████████████████████████████████████████████▌| 598/600 [01:17<00:00,  8.19it/s]"
     ]
    },
    {
     "name": "stderr",
     "output_type": "stream",
     "text": [
      "\r\n",
      "100%|████████████████████████████████████████████████████████████████████████████████████████████████████████████████████████████▊| 599/600 [01:17<00:00,  8.23it/s]"
     ]
    },
    {
     "name": "stderr",
     "output_type": "stream",
     "text": [
      "\r\n",
      "100%|█████████████████████████████████████████████████████████████████████████████████████████████████████████████████████████████| 600/600 [01:17<00:00,  8.23it/s]"
     ]
    },
    {
     "name": "stderr",
     "output_type": "stream",
     "text": [
      "\r\n",
      "100%|█████████████████████████████████████████████████████████████████████████████████████████████████████████████████████████████| 600/600 [01:17<00:00,  7.74it/s]"
     ]
    },
    {
     "name": "stderr",
     "output_type": "stream",
     "text": [
      "\n"
     ]
    },
    {
     "data": {
      "text/plain": [
       "(<Figure size 640x480 with 1 Axes>,\n",
       " <AxesSubplot:xlabel='Descent step', ylabel='log10(Mean square error)'>)"
      ]
     },
     "execution_count": 5,
     "metadata": {},
     "output_type": "execute_result"
    },
    {
     "data": {
      "application/vnd.jupyter.widget-view+json": {
       "model_id": "0508f5d617b04cfbaa9c82a2dfb6067d",
       "version_major": 2,
       "version_minor": 0
      },
      "image/png": "[encoded data removed]",
      "text/html": [
       "\n",
       "            <div style=\"display: inline-block;\">\n",
       "                <div class=\"jupyter-widgets widget-label\" style=\"text-align: center;\">\n",
       "                    Figure\n",
       "                </div>\n",
       "                <img src='data:image/png;base64,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' width=640.0/>\n",
       "            </div>\n",
       "        "
      ],
      "text/plain": [
       "Canvas(toolbar=Toolbar(toolitems=[('Home', 'Reset original view', 'home', 'home'), ('Back', 'Back to previous …"
      ]
     },
     "metadata": {},
     "output_type": "display_data"
    }
   ],
   "source": [
    "iq = ImageQuant2(img=imgs, roi=rois, cytbg=cytbg, membg=membg)\n",
    "iq.quantify()\n",
    "iq.plot_losses(log=True)"
   ]
  },
  {
   "cell_type": "markdown",
   "metadata": {},
   "source": [
    "### Save results"
   ]
  },
  {
   "cell_type": "code",
   "execution_count": 6,
   "metadata": {
    "execution": {
     "iopub.execute_input": "2023-07-25T16:13:15.757129Z",
     "iopub.status.busy": "2023-07-25T16:13:15.756783Z",
     "iopub.status.idle": "2023-07-25T16:13:20.211103Z",
     "shell.execute_reply": "2023-07-25T16:13:20.210500Z"
    }
   },
   "outputs": [],
   "source": [
    "res = iq.compile_res(ids=df['EmbryoID'].to_list())\n",
    "res['Membrane signal'] *= calibration_factor\n",
    "res.to_csv('../../data/par2_nebd_quantification.csv')"
   ]
  },
  {
   "cell_type": "code",
   "execution_count": null,
   "metadata": {},
   "outputs": [],
   "source": []
  }
 ],
 "metadata": {
  "kernelspec": {
   "display_name": "Python 3",
   "language": "python",
   "name": "python3"
  },
  "language_info": {
   "codemirror_mode": {
    "name": "ipython",
    "version": 3
   },
   "file_extension": ".py",
   "mimetype": "text/x-python",
   "name": "python",
   "nbconvert_exporter": "python",
   "pygments_lexer": "ipython3",
   "version": "3.7.12"
  },
  "widgets": {
   "application/vnd.jupyter.widget-state+json": {
    "state": {
     "0508f5d617b04cfbaa9c82a2dfb6067d": {
      "model_module": "jupyter-matplotlib",
      "model_module_version": "^0.11",
      "model_name": "MPLCanvasModel",
      "state": {
       "_cursor": "pointer",
       "_data_url": "data:image/png;base64,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",
       "_dom_classes": [],
       "_figure_label": "Figure",
       "_image_mode": "full",
       "_message": "",
       "_model_module": "jupyter-matplotlib",
       "_model_module_version": "^0.11",
       "_model_name": "MPLCanvasModel",
       "_rubberband_height": 0,
       "_rubberband_width": 0,
       "_rubberband_x": 0,
       "_rubberband_y": 0,
       "_size": [
        640,
        480
       ],
       "_view_count": null,
       "_view_module": "jupyter-matplotlib",
       "_view_module_version": "^0.11",
       "_view_name": "MPLCanvasView",
       "capture_scroll": false,
       "footer_visible": true,
       "header_visible": true,
       "layout": "IPY_MODEL_bf223d7e0c554ab5a6dff523ebc682cb",
       "pan_zoom_throttle": 33,
       "resizable": true,
       "tabbable": null,
       "toolbar": "IPY_MODEL_6cb99fe7fb474f3683914cb8585a9fdb",
       "toolbar_position": "left",
       "toolbar_visible": "fade-in-fade-out",
       "tooltip": null
      }
     },
     "30ba23a637fd4cdaa2fede8e05fe5333": {
      "model_module": "@jupyter-widgets/base",
      "model_module_version": "2.0.0",
      "model_name": "LayoutModel",
      "state": {
       "_model_module": "@jupyter-widgets/base",
       "_model_module_version": "2.0.0",
       "_model_name": "LayoutModel",
       "_view_count": null,
       "_view_module": "@jupyter-widgets/base",
       "_view_module_version": "2.0.0",
       "_view_name": "LayoutView",
       "align_content": null,
       "align_items": null,
       "align_self": null,
       "border_bottom": null,
       "border_left": null,
       "border_right": null,
       "border_top": null,
       "bottom": null,
       "display": null,
       "flex": null,
       "flex_flow": null,
       "grid_area": null,
       "grid_auto_columns": null,
       "grid_auto_flow": null,
       "grid_auto_rows": null,
       "grid_column": null,
       "grid_gap": null,
       "grid_row": null,
       "grid_template_areas": null,
       "grid_template_columns": null,
       "grid_template_rows": null,
       "height": null,
       "justify_content": null,
       "justify_items": null,
       "left": null,
       "margin": null,
       "max_height": null,
       "max_width": null,
       "min_height": null,
       "min_width": null,
       "object_fit": null,
       "object_position": null,
       "order": null,
       "overflow": null,
       "padding": null,
       "right": null,
       "top": null,
       "visibility": null,
       "width": null
      }
     },
     "6cb99fe7fb474f3683914cb8585a9fdb": {
      "model_module": "jupyter-matplotlib",
      "model_module_version": "^0.11",
      "model_name": "ToolbarModel",
      "state": {
       "_current_action": "",
       "_dom_classes": [],
       "_model_module": "jupyter-matplotlib",
       "_model_module_version": "^0.11",
       "_model_name": "ToolbarModel",
       "_view_count": null,
       "_view_module": "jupyter-matplotlib",
       "_view_module_version": "^0.11",
       "_view_name": "ToolbarView",
       "button_style": "",
       "collapsed": true,
       "layout": "IPY_MODEL_8443b8b43b0d47f891f6c684350a29ae",
       "orientation": "vertical",
       "tabbable": null,
       "toolitems": [
        [
         "Home",
         "Reset original view",
         "home",
         "home"
        ],
        [
         "Back",
         "Back to previous view",
         "arrow-left",
         "back"
        ],
        [
         "Forward",
         "Forward to next view",
         "arrow-right",
         "forward"
        ],
        [
         "Pan",
         "Left button pans, Right button zooms\nx/y fixes axis, CTRL fixes aspect",
         "arrows",
         "pan"
        ],
        [
         "Zoom",
         "Zoom to rectangle\nx/y fixes axis",
         "square-o",
         "zoom"
        ],
        [
         "Download",
         "Download plot",
         "floppy-o",
         "save_figure"
        ]
       ],
       "tooltip": null
      }
     },
     "80736b50c5d7493db165214d7d95bbc8": {
      "model_module": "jupyter-matplotlib",
      "model_module_version": "^0.11",
      "model_name": "ToolbarModel",
      "state": {
       "_current_action": "",
       "_dom_classes": [],
       "_model_module": "jupyter-matplotlib",
       "_model_module_version": "^0.11",
       "_model_name": "ToolbarModel",
       "_view_count": null,
       "_view_module": "jupyter-matplotlib",
       "_view_module_version": "^0.11",
       "_view_name": "ToolbarView",
       "button_style": "",
       "collapsed": true,
       "layout": "IPY_MODEL_30ba23a637fd4cdaa2fede8e05fe5333",
       "orientation": "vertical",
       "tabbable": null,
       "toolitems": [
        [
         "Home",
         "Reset original view",
         "home",
         "home"
        ],
        [
         "Back",
         "Back to previous view",
         "arrow-left",
         "back"
        ],
        [
         "Forward",
         "Forward to next view",
         "arrow-right",
         "forward"
        ],
        [
         "Pan",
         "Left button pans, Right button zooms\nx/y fixes axis, CTRL fixes aspect",
         "arrows",
         "pan"
        ],
        [
         "Zoom",
         "Zoom to rectangle\nx/y fixes axis",
         "square-o",
         "zoom"
        ],
        [
         "Download",
         "Download plot",
         "floppy-o",
         "save_figure"
        ]
       ],
       "tooltip": null
      }
     },
     "8443b8b43b0d47f891f6c684350a29ae": {
      "model_module": "@jupyter-widgets/base",
      "model_module_version": "2.0.0",
      "model_name": "LayoutModel",
      "state": {
       "_model_module": "@jupyter-widgets/base",
       "_model_module_version": "2.0.0",
       "_model_name": "LayoutModel",
       "_view_count": null,
       "_view_module": "@jupyter-widgets/base",
       "_view_module_version": "2.0.0",
       "_view_name": "LayoutView",
       "align_content": null,
       "align_items": null,
       "align_self": null,
       "border_bottom": null,
       "border_left": null,
       "border_right": null,
       "border_top": null,
       "bottom": null,
       "display": null,
       "flex": null,
       "flex_flow": null,
       "grid_area": null,
       "grid_auto_columns": null,
       "grid_auto_flow": null,
       "grid_auto_rows": null,
       "grid_column": null,
       "grid_gap": null,
       "grid_row": null,
       "grid_template_areas": null,
       "grid_template_columns": null,
       "grid_template_rows": null,
       "height": null,
       "justify_content": null,
       "justify_items": null,
       "left": null,
       "margin": null,
       "max_height": null,
       "max_width": null,
       "min_height": null,
       "min_width": null,
       "object_fit": null,
       "object_position": null,
       "order": null,
       "overflow": null,
       "padding": null,
       "right": null,
       "top": null,
       "visibility": null,
       "width": null
      }
     },
     "bf223d7e0c554ab5a6dff523ebc682cb": {
      "model_module": "@jupyter-widgets/base",
      "model_module_version": "2.0.0",
      "model_name": "LayoutModel",
      "state": {
       "_model_module": "@jupyter-widgets/base",
       "_model_module_version": "2.0.0",
       "_model_name": "LayoutModel",
       "_view_count": null,
       "_view_module": "@jupyter-widgets/base",
       "_view_module_version": "2.0.0",
       "_view_name": "LayoutView",
       "align_content": null,
       "align_items": null,
       "align_self": null,
       "border_bottom": null,
       "border_left": null,
       "border_right": null,
       "border_top": null,
       "bottom": null,
       "display": null,
       "flex": null,
       "flex_flow": null,
       "grid_area": null,
       "grid_auto_columns": null,
       "grid_auto_flow": null,
       "grid_auto_rows": null,
       "grid_column": null,
       "grid_gap": null,
       "grid_row": null,
       "grid_template_areas": null,
       "grid_template_columns": null,
       "grid_template_rows": null,
       "height": null,
       "justify_content": null,
       "justify_items": null,
       "left": null,
       "margin": null,
       "max_height": null,
       "max_width": null,
       "min_height": null,
       "min_width": null,
       "object_fit": null,
       "object_position": null,
       "order": null,
       "overflow": null,
       "padding": null,
       "right": null,
       "top": null,
       "visibility": null,
       "width": null
      }
     }
    },
    "version_major": 2,
    "version_minor": 0
   }
  }
 },
 "nbformat": 4,
 "nbformat_minor": 4
}
