{
 "cells": [
  {
   "cell_type": "code",
   "execution_count": 11,
   "metadata": {
    "execution": {
     "iopub.execute_input": "2023-08-03T16:10:24.749506Z",
     "iopub.status.busy": "2023-08-03T16:10:24.749136Z",
     "iopub.status.idle": "2023-08-03T16:10:36.210994Z",
     "shell.execute_reply": "2023-08-03T16:10:36.210314Z"
    }
   },
   "outputs": [],
   "source": [
    "import sys, os, glob\n",
    "import numpy as np\n",
    "import matplotlib.pyplot as plt\n",
    "import pandas as pd\n",
    "# import Slider\n",
    "import shutil\n",
    "sys.path.append('../..')\n",
    "from src import raw_data_path, direcslist, load_image, def_roi, ImageQuant, ImageQuant2\n",
    "%matplotlib widget"
   ]
  },
  {
   "cell_type": "markdown",
   "metadata": {},
   "source": [
    "### Initialise ROI"
   ]
  },
  {
   "cell_type": "code",
   "execution_count": 12,
   "metadata": {
    "execution": {
     "iopub.execute_input": "2023-08-03T16:10:36.215423Z",
     "iopub.status.busy": "2023-08-03T16:10:36.214914Z",
     "iopub.status.idle": "2023-08-03T16:10:36.218476Z",
     "shell.execute_reply": "2023-08-03T16:10:36.217838Z"
    }
   },
   "outputs": [],
   "source": [
    "# path = raw_data_path + 'Imaging/Meiosis'\n",
    "# paths = direcslist(path, 1)\n",
    "# imgs = [load_image(raw_data_path + glob.glob(p + '/*_Meiosis_*.tif')[0])[:, :, :, 0] for p in paths]\n",
    "# for img, p in zip(imgs, paths):\n",
    "#     roi = def_roi(img, periodic=True, spline=True)\n",
    "#     np.savetxt(p + '/ROI.txt', roi)"
   ]
  },
  {
   "cell_type": "markdown",
   "metadata": {},
   "source": [
    "### Select timepoints (cytokinesis)"
   ]
  },
  {
   "cell_type": "code",
   "execution_count": 13,
   "metadata": {
    "execution": {
     "iopub.execute_input": "2023-08-03T16:10:36.221878Z",
     "iopub.status.busy": "2023-08-03T16:10:36.221595Z",
     "iopub.status.idle": "2023-08-03T16:10:36.225027Z",
     "shell.execute_reply": "2023-08-03T16:10:36.224459Z"
    }
   },
   "outputs": [],
   "source": [
    "# path = [raw_data_path + 'Imaging/meiosis/LP637', raw_data_path + 'Imaging/meiosis/NWG376']\n",
    "# paths = direcslist(path, 0)\n",
    "# imgs = [load_image(raw_data_path + glob.glob(p + '/*_Meiosis_*.tif')[0])[:, :, :, 0] for p in paths]\n",
    "\n",
    "# def select_timepoint(image):\n",
    "#     plt.ion()\n",
    "#     fig, ax = plt.subplots()\n",
    "#     plt.subplots_adjust(left=0.25, bottom=0.25)\n",
    "#     axframe = plt.axes([0.25, 0.1, 0.65, 0.03])\n",
    "#     sframe = Slider(axframe, 'Frame', -1, len(image), valinit=0, valfmt='%d')\n",
    "\n",
    "#     def update(i):\n",
    "#         ax.clear()\n",
    "#         ax.imshow(image[int(i)], cmap='gray')\n",
    "#         ax.set_xticks([])\n",
    "#         ax.set_yticks([])\n",
    "\n",
    "#     def key_press_callback(event):\n",
    "#         if event.key == 'enter':\n",
    "#             plt.close()\n",
    "\n",
    "#     sframe.on_changed(update)\n",
    "#     update(0)\n",
    "#     fig.canvas.mpl_connect('key_press_event', key_press_callback)\n",
    "#     plt.show(block=True)\n",
    "#     return int(sframe.val)\n",
    "\n",
    "# for img, p in zip(imgs, paths):\n",
    "#     print(p)\n",
    "#     timepoint = select_timepoint(img)\n",
    "#     np.savetxt(p + '/cytokinesis.txt', [timepoint + 1], fmt='%i')"
   ]
  },
  {
   "cell_type": "markdown",
   "metadata": {},
   "source": [
    "### Extract data from paths"
   ]
  },
  {
   "cell_type": "code",
   "execution_count": 14,
   "metadata": {
    "execution": {
     "iopub.execute_input": "2023-08-03T16:10:36.228427Z",
     "iopub.status.busy": "2023-08-03T16:10:36.227970Z",
     "iopub.status.idle": "2023-08-03T16:10:36.709660Z",
     "shell.execute_reply": "2023-08-03T16:10:36.708575Z"
    }
   },
   "outputs": [
    {
     "data": {
      "text/html": [
       "<div>\n",
       "<style scoped>\n",
       "    .dataframe tbody tr th:only-of-type {\n",
       "        vertical-align: middle;\n",
       "    }\n",
       "\n",
       "    .dataframe tbody tr th {\n",
       "        vertical-align: top;\n",
       "    }\n",
       "\n",
       "    .dataframe thead th {\n",
       "        text-align: right;\n",
       "    }\n",
       "</style>\n",
       "<table border=\"1\" class=\"dataframe\">\n",
       "  <thead>\n",
       "    <tr style=\"text-align: right;\">\n",
       "      <th></th>\n",
       "      <th>Path</th>\n",
       "      <th>EmbryoID</th>\n",
       "      <th>Line</th>\n",
       "      <th>Cytokinesis</th>\n",
       "    </tr>\n",
       "  </thead>\n",
       "  <tbody>\n",
       "    <tr>\n",
       "      <th>0</th>\n",
       "      <td>Imaging/meiosis/LP637/20230529_Meiosis_LP637_6...</td>\n",
       "      <td>1685713923</td>\n",
       "      <td>LP637</td>\n",
       "      <td>32</td>\n",
       "    </tr>\n",
       "    <tr>\n",
       "      <th>1</th>\n",
       "      <td>Imaging/meiosis/LP637/20230531_Meiosis_LP687_e1/</td>\n",
       "      <td>1685713907</td>\n",
       "      <td>LP637</td>\n",
       "      <td>23</td>\n",
       "    </tr>\n",
       "    <tr>\n",
       "      <th>2</th>\n",
       "      <td>Imaging/meiosis/LP637/20230531_Meiosis_LP687_e2/</td>\n",
       "      <td>1685713918</td>\n",
       "      <td>LP637</td>\n",
       "      <td>26</td>\n",
       "    </tr>\n",
       "    <tr>\n",
       "      <th>3</th>\n",
       "      <td>Imaging/meiosis/LP637/20230531_Meiosis_LP687_e3/</td>\n",
       "      <td>1685713919</td>\n",
       "      <td>LP637</td>\n",
       "      <td>26</td>\n",
       "    </tr>\n",
       "    <tr>\n",
       "      <th>4</th>\n",
       "      <td>Imaging/meiosis/NWG376/20230529_Meiosis_NWG376...</td>\n",
       "      <td>1685713925</td>\n",
       "      <td>NWG376</td>\n",
       "      <td>36</td>\n",
       "    </tr>\n",
       "    <tr>\n",
       "      <th>5</th>\n",
       "      <td>Imaging/meiosis/NWG376/20230529_Meiosis_NWG376...</td>\n",
       "      <td>1685713926</td>\n",
       "      <td>NWG376</td>\n",
       "      <td>34</td>\n",
       "    </tr>\n",
       "    <tr>\n",
       "      <th>6</th>\n",
       "      <td>Imaging/meiosis/NWG376/20230531_Meiosis_NWG376...</td>\n",
       "      <td>1685713911</td>\n",
       "      <td>NWG376</td>\n",
       "      <td>31</td>\n",
       "    </tr>\n",
       "    <tr>\n",
       "      <th>7</th>\n",
       "      <td>Imaging/meiosis/NWG376/20230531_Meiosis_NWG376...</td>\n",
       "      <td>1685713915</td>\n",
       "      <td>NWG376</td>\n",
       "      <td>33</td>\n",
       "    </tr>\n",
       "    <tr>\n",
       "      <th>8</th>\n",
       "      <td>Imaging/meiosis/NWG376/20230531_Meiosis_NWG376...</td>\n",
       "      <td>1685713917</td>\n",
       "      <td>NWG376</td>\n",
       "      <td>31</td>\n",
       "    </tr>\n",
       "  </tbody>\n",
       "</table>\n",
       "</div>"
      ],
      "text/plain": [
       "                                                Path    EmbryoID    Line  \\\n",
       "0  Imaging/meiosis/LP637/20230529_Meiosis_LP637_6...  1685713923   LP637   \n",
       "1   Imaging/meiosis/LP637/20230531_Meiosis_LP687_e1/  1685713907   LP637   \n",
       "2   Imaging/meiosis/LP637/20230531_Meiosis_LP687_e2/  1685713918   LP637   \n",
       "3   Imaging/meiosis/LP637/20230531_Meiosis_LP687_e3/  1685713919   LP637   \n",
       "4  Imaging/meiosis/NWG376/20230529_Meiosis_NWG376...  1685713925  NWG376   \n",
       "5  Imaging/meiosis/NWG376/20230529_Meiosis_NWG376...  1685713926  NWG376   \n",
       "6  Imaging/meiosis/NWG376/20230531_Meiosis_NWG376...  1685713911  NWG376   \n",
       "7  Imaging/meiosis/NWG376/20230531_Meiosis_NWG376...  1685713915  NWG376   \n",
       "8  Imaging/meiosis/NWG376/20230531_Meiosis_NWG376...  1685713917  NWG376   \n",
       "\n",
       "   Cytokinesis  \n",
       "0           32  \n",
       "1           23  \n",
       "2           26  \n",
       "3           26  \n",
       "4           36  \n",
       "5           34  \n",
       "6           31  \n",
       "7           33  \n",
       "8           31  "
      ]
     },
     "execution_count": 14,
     "metadata": {},
     "output_type": "execute_result"
    }
   ],
   "source": [
    "path = [raw_data_path + 'Imaging/meiosis/LP637', raw_data_path + 'Imaging/meiosis/NWG376']\n",
    "paths = direcslist(path, 0)\n",
    "lines = []\n",
    "embryo_ids = []\n",
    "cytokinesis = []\n",
    "for p in paths:\n",
    "    lines.append(p.split('/')[-3])\n",
    "    cytokinesis.append(int(np.loadtxt(p + '/cytokinesis.txt')))\n",
    "    embryo_ids.append(int(os.path.getmtime(glob.glob(p + '/*_Meiosis_*')[0])))\n",
    "df = pd.DataFrame({'Path': paths, 'EmbryoID': embryo_ids, 'Line': lines, 'Cytokinesis': cytokinesis})\n",
    "df['Path'] = df['Path'].apply(lambda x: x[len(raw_data_path):])\n",
    "df.to_csv('../../data/meiosis_embryos.csv')\n",
    "df"
   ]
  },
  {
   "cell_type": "markdown",
   "metadata": {},
   "source": [
    "### Segmentation"
   ]
  },
  {
   "cell_type": "code",
   "execution_count": 15,
   "metadata": {
    "execution": {
     "iopub.execute_input": "2023-08-03T16:10:36.718529Z",
     "iopub.status.busy": "2023-08-03T16:10:36.718216Z",
     "iopub.status.idle": "2023-08-03T16:10:36.722091Z",
     "shell.execute_reply": "2023-08-03T16:10:36.721208Z"
    }
   },
   "outputs": [],
   "source": [
    "# for index, row in df.iterrows(): \n",
    "    \n",
    "#     # Import movie\n",
    "#     img = load_image(raw_data_path + glob.glob(row.Path + '/*_corrected_*.tif')[0])[:row.Cytokinesis]\n",
    "#     roi = np.loadtxt(raw_data_path + row.Path + '/ROI.txt')\n",
    "    \n",
    "#     # Set up optimiser\n",
    "#     iq = ImageQuant(img=img, roi=roi, sigma=3.5, descent_steps=300, rol_ave=1, \n",
    "#                     lr=0.01, iterations=1, fit_outer=True, roi_knots=20, freedom=35, thickness=70)\n",
    "\n",
    "#     # Segmentation program\n",
    "#     iq.run()\n",
    "#     iq.iq.adjust_roi()\n",
    "#     iq.roi = iq.iq.roi\n",
    "#     iq.iq.roi_knots = 30\n",
    "#     iq.iq.thickness = 50\n",
    "#     iq.iq.freedom = 5\n",
    "#     iq.run()\n",
    "#     iq.iq.adjust_roi()\n",
    "#     iq.roi = iq.iq.roi\n",
    "    \n",
    "#     # Save\n",
    "#     if os.path.exists(row.Path + '/Segmentation'):\n",
    "#         shutil.rmtree(row.Path + '/Segmentation')\n",
    "#     os.mkdir(row.Path + '/Segmentation')\n",
    "#     for e, r in enumerate(iq.roi):\n",
    "#         np.savetxt(row.Path + '/Segmentation/ROI_fit_%s.txt' % (e + 1), r)"
   ]
  },
  {
   "cell_type": "markdown",
   "metadata": {},
   "source": [
    "### Monitor segmentation"
   ]
  },
  {
   "cell_type": "code",
   "execution_count": 16,
   "metadata": {
    "execution": {
     "iopub.execute_input": "2023-08-03T16:10:36.725900Z",
     "iopub.status.busy": "2023-08-03T16:10:36.725597Z",
     "iopub.status.idle": "2023-08-03T16:10:36.728850Z",
     "shell.execute_reply": "2023-08-03T16:10:36.728206Z"
    },
    "scrolled": false
   },
   "outputs": [],
   "source": [
    "# for index, row in df.iterrows(): \n",
    "#     img = load_image(raw_data_path + glob.glob(row.Path + '/*_corrected_*.tif')[0])[:row.Cytokinesis]\n",
    "#     roi = [np.loadtxt(raw_data_path + row.Path + '/Segmentation/ROI_fit_%s.txt' % (i + 1))  for i in range(len(img))]\n",
    "#     iq = ImageQuant(img, roi)\n",
    "#     iq.plot_segmentation()\n",
    "#     plt.show()"
   ]
  },
  {
   "cell_type": "markdown",
   "metadata": {},
   "source": [
    "### Load quantification model"
   ]
  },
  {
   "cell_type": "code",
   "execution_count": 17,
   "metadata": {
    "execution": {
     "iopub.execute_input": "2023-08-03T16:10:36.733460Z",
     "iopub.status.busy": "2023-08-03T16:10:36.733150Z",
     "iopub.status.idle": "2023-08-03T16:10:36.741800Z",
     "shell.execute_reply": "2023-08-03T16:10:36.741065Z"
    }
   },
   "outputs": [
    {
     "name": "stdout",
     "output_type": "stream",
     "text": [
      "3.105838399548696\n"
     ]
    }
   ],
   "source": [
    "membg = np.loadtxt('../../data/calibration_mem6.txt')\n",
    "cytbg = np.loadtxt('../../data/calibration_cyt.txt')\n",
    "calibration_factor = np.loadtxt('../../data/calibration_constants.txt')[6]\n",
    "print(calibration_factor)"
   ]
  },
  {
   "cell_type": "markdown",
   "metadata": {},
   "source": [
    "### Quantification"
   ]
  },
  {
   "cell_type": "code",
   "execution_count": 18,
   "metadata": {
    "execution": {
     "iopub.execute_input": "2023-08-03T16:10:36.745550Z",
     "iopub.status.busy": "2023-08-03T16:10:36.745229Z",
     "iopub.status.idle": "2023-08-03T16:10:37.260440Z",
     "shell.execute_reply": "2023-08-03T16:10:37.259281Z"
    },
    "scrolled": false
   },
   "outputs": [
    {
     "name": "stdout",
     "output_type": "stream",
     "text": [
      "/Users/blandt/Desktop/PaperData/Imaging/meiosis/LP637/20230529_Meiosis_LP637_60x_e1/\n"
     ]
    },
    {
     "name": "stderr",
     "output_type": "stream",
     "text": [
      "100%|██████████| 1000/1000 [00:21<00:00, 47.52it/s]\n"
     ]
    },
    {
     "name": "stdout",
     "output_type": "stream",
     "text": [
      "/Users/blandt/Desktop/PaperData/Imaging/meiosis/LP637/20230531_Meiosis_LP687_e1/\n"
     ]
    },
    {
     "name": "stderr",
     "output_type": "stream",
     "text": [
      "100%|██████████| 1000/1000 [00:17<00:00, 56.30it/s] \n"
     ]
    },
    {
     "name": "stdout",
     "output_type": "stream",
     "text": [
      "/Users/blandt/Desktop/PaperData/Imaging/meiosis/LP637/20230531_Meiosis_LP687_e2/\n"
     ]
    },
    {
     "name": "stderr",
     "output_type": "stream",
     "text": [
      "100%|██████████| 1000/1000 [00:12<00:00, 81.42it/s]\n"
     ]
    },
    {
     "name": "stdout",
     "output_type": "stream",
     "text": [
      "/Users/blandt/Desktop/PaperData/Imaging/meiosis/LP637/20230531_Meiosis_LP687_e3/\n"
     ]
    },
    {
     "name": "stderr",
     "output_type": "stream",
     "text": [
      "100%|██████████| 1000/1000 [00:12<00:00, 78.64it/s]\n"
     ]
    },
    {
     "name": "stdout",
     "output_type": "stream",
     "text": [
      "/Users/blandt/Desktop/PaperData/Imaging/meiosis/NWG376/20230529_Meiosis_NWG376_60x_e3/\n"
     ]
    },
    {
     "name": "stderr",
     "output_type": "stream",
     "text": [
      "100%|██████████| 1000/1000 [00:15<00:00, 65.08it/s]\n"
     ]
    },
    {
     "name": "stdout",
     "output_type": "stream",
     "text": [
      "/Users/blandt/Desktop/PaperData/Imaging/meiosis/NWG376/20230529_Meiosis_NWG376_60x_e4/\n"
     ]
    },
    {
     "name": "stderr",
     "output_type": "stream",
     "text": [
      "100%|██████████| 1000/1000 [00:18<00:00, 53.89it/s]\n"
     ]
    },
    {
     "name": "stdout",
     "output_type": "stream",
     "text": [
      "/Users/blandt/Desktop/PaperData/Imaging/meiosis/NWG376/20230531_Meiosis_NWG376_e1/\n"
     ]
    },
    {
     "name": "stderr",
     "output_type": "stream",
     "text": [
      "100%|██████████| 1000/1000 [00:18<00:00, 55.04it/s]\n"
     ]
    },
    {
     "name": "stdout",
     "output_type": "stream",
     "text": [
      "/Users/blandt/Desktop/PaperData/Imaging/meiosis/NWG376/20230531_Meiosis_NWG376_e2/\n"
     ]
    },
    {
     "name": "stderr",
     "output_type": "stream",
     "text": [
      "100%|██████████| 1000/1000 [00:21<00:00, 46.52it/s]\n"
     ]
    },
    {
     "name": "stdout",
     "output_type": "stream",
     "text": [
      "/Users/blandt/Desktop/PaperData/Imaging/meiosis/NWG376/20230531_Meiosis_NWG376_e3/\n"
     ]
    },
    {
     "name": "stderr",
     "output_type": "stream",
     "text": [
      "100%|██████████| 1000/1000 [00:16<00:00, 60.24it/s]\n"
     ]
    }
   ],
   "source": [
    "df = pd.read_csv('../../data/meiosis_embryos.csv')\n",
    "df['Path'] = df['Path'].apply(lambda x: raw_data_path + x)\n",
    "results = []\n",
    "for index, row in df.iterrows():\n",
    "    print(row.Path)\n",
    "    \n",
    "    # Import movie\n",
    "    img = load_image(glob.glob(row.Path + '/*_corrected_*.tif')[0])[:row.Cytokinesis]\n",
    "    roi = [np.loadtxt(row.Path + '/Segmentation/ROI_fit_%s.txt' % (i + 1))  for i in range(len(img))]\n",
    "    \n",
    "    # Run quantification\n",
    "    iq = ImageQuant2(img=img, roi=roi, cytbg=cytbg, membg=membg)\n",
    "    iq.quantify(descent_steps=1000)\n",
    "    # iq.plot_losses(log=True)\n",
    "    \n",
    "    # Compile results\n",
    "    res = iq.compile_res(ids=row.EmbryoID * np.ones(iq.nimgs), extra_columns={'Frame': np.arange(iq.nimgs)})\n",
    "    res['Membrane signal'] *= calibration_factor\n",
    "    res = res.astype({'Frame': int})\n",
    "    results.append(res)\n",
    "\n",
    "# Compile all quantification data\n",
    "results_full = pd.concat(results)\n",
    "\n",
    "# Save\n",
    "results_full.to_csv('../../data/meiosis_quantification.csv')"
   ]
  },
  {
   "cell_type": "code",
   "execution_count": null,
   "metadata": {},
   "outputs": [],
   "source": []
  }
 ],
 "metadata": {
  "kernelspec": {
   "display_name": "Python 3",
   "language": "python",
   "name": "python3"
  },
  "language_info": {
   "codemirror_mode": {
    "name": "ipython",
    "version": 3
   },
   "file_extension": ".py",
   "mimetype": "text/x-python",
   "name": "python",
   "nbconvert_exporter": "python",
   "pygments_lexer": "ipython3",
   "version": "3.7.12"
  },
  "vscode": {
   "interpreter": {
    "hash": "e3dc3871f4e194b0e5205f2056eb037c91cfe60a6f5484f031ab0dd7212226df"
   }
  }
 },
 "nbformat": 4,
 "nbformat_minor": 4
}
