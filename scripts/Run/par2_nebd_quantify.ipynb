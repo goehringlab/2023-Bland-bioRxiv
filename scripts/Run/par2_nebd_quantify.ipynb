{
 "cells": [
  {
   "cell_type": "code",
   "execution_count": 1,
   "metadata": {
    "execution": {
     "iopub.execute_input": "2023-11-27T21:08:14.606211Z",
     "iopub.status.busy": "2023-11-27T21:08:14.605843Z",
     "iopub.status.idle": "2023-11-27T21:08:18.605037Z",
     "shell.execute_reply": "2023-11-27T21:08:18.603987Z"
    }
   },
   "outputs": [],
   "source": [
    "\n",
    "import numpy as np\n",
    "import pandas as pd\n",
    "\n",
    "from src import ImageQuant2, load_image, raw_data_path\n",
    "\n",
    "%matplotlib widget"
   ]
  },
  {
   "cell_type": "code",
   "execution_count": 2,
   "metadata": {
    "execution": {
     "iopub.execute_input": "2023-11-27T21:08:18.609046Z",
     "iopub.status.busy": "2023-11-27T21:08:18.607985Z",
     "iopub.status.idle": "2023-11-27T21:08:18.619225Z",
     "shell.execute_reply": "2023-11-27T21:08:18.618208Z"
    }
   },
   "outputs": [
    {
     "name": "stdout",
     "output_type": "stream",
     "text": [
      "3.105838399548696\n"
     ]
    }
   ],
   "source": [
    "# Import quantification moodel\n",
    "membg = np.loadtxt(\"../../data/calibration_mem6.txt\")\n",
    "cytbg = np.loadtxt(\"../../data/calibration_cyt.txt\")\n",
    "calibration_factor = np.loadtxt(\"../../data/calibration_constants.txt\")[6]\n",
    "print(calibration_factor)"
   ]
  },
  {
   "cell_type": "code",
   "execution_count": 3,
   "metadata": {
    "execution": {
     "iopub.execute_input": "2023-11-27T21:08:18.622749Z",
     "iopub.status.busy": "2023-11-27T21:08:18.621842Z",
     "iopub.status.idle": "2023-11-27T21:08:18.633902Z",
     "shell.execute_reply": "2023-11-27T21:08:18.632837Z"
    }
   },
   "outputs": [],
   "source": [
    "# Import embryos dataframe\n",
    "df = pd.read_csv(\"../../data/par2_nebd_embryos.csv\")\n",
    "df[\"Path\"] = df[\"Path\"].apply(lambda x: raw_data_path + x)"
   ]
  },
  {
   "cell_type": "markdown",
   "metadata": {},
   "source": [
    "### Import data"
   ]
  },
  {
   "cell_type": "code",
   "execution_count": 4,
   "metadata": {
    "execution": {
     "iopub.execute_input": "2023-11-27T21:08:18.637937Z",
     "iopub.status.busy": "2023-11-27T21:08:18.636973Z",
     "iopub.status.idle": "2023-11-27T21:08:32.068679Z",
     "shell.execute_reply": "2023-11-27T21:08:32.067573Z"
    }
   },
   "outputs": [],
   "source": [
    "paths = df.Path.to_list()\n",
    "lines = df.Line.to_list()\n",
    "imgs = [load_image(p + \"/af_corrected.tif\") for p in paths]\n",
    "rois = [\n",
    "    np.loadtxt(p + \"/ROI_fit.txt\") if line != \"n2\" else np.loadtxt(p + \"/ROI_manual.txt\")\n",
    "    for p, line in zip(paths, lines)\n",
    "]"
   ]
  },
  {
   "cell_type": "markdown",
   "metadata": {},
   "source": [
    "### Run quantification"
   ]
  },
  {
   "cell_type": "code",
   "execution_count": 5,
   "metadata": {
    "execution": {
     "iopub.execute_input": "2023-11-27T21:08:32.072074Z",
     "iopub.status.busy": "2023-11-27T21:08:32.071570Z",
     "iopub.status.idle": "2023-11-27T21:11:41.271833Z",
     "shell.execute_reply": "2023-11-27T21:11:41.270490Z"
    },
    "scrolled": false
   },
   "outputs": [
    {
     "name": "stderr",
     "output_type": "stream",
     "text": [
      "\r",
      "  0%|                                                                                                                                                         | 0/600 [00:00<?, ?it/s]"
     ]
    },
    {
     "name": "stderr",
     "output_type": "stream",
     "text": [
      "\r",
      "  0%|▏                                                                                                                                              | 1/600 [00:17<2:52:41, 17.30s/it]"
     ]
    },
    {
     "name": "stderr",
     "output_type": "stream",
     "text": [
      "\r",
      "  0%|▍                                                                                                                                              | 2/600 [00:17<1:12:28,  7.27s/it]"
     ]
    },
    {
     "name": "stderr",
     "output_type": "stream",
     "text": [
      "\r",
      "  0%|▋                                                                                                                                                | 3/600 [00:17<40:25,  4.06s/it]"
     ]
    },
    {
     "name": "stderr",
     "output_type": "stream",
     "text": [
      "\r",
      "  1%|▉                                                                                                                                                | 4/600 [00:18<25:22,  2.55s/it]"
     ]
    },
    {
     "name": "stderr",
     "output_type": "stream",
     "text": [
      "\r",
      "  1%|█▏                                                                                                                                               | 5/600 [00:18<17:04,  1.72s/it]"
     ]
    },
    {
     "name": "stderr",
     "output_type": "stream",
     "text": [
      "\r",
      "  1%|█▍                                                                                                                                               | 6/600 [00:18<12:01,  1.21s/it]"
     ]
    },
    {
     "name": "stderr",
     "output_type": "stream",
     "text": [
      "\r",
      "  1%|█▋                                                                                                                                               | 7/600 [00:18<08:45,  1.13it/s]"
     ]
    },
    {
     "name": "stderr",
     "output_type": "stream",
     "text": [
      "\r",
      "  1%|█▉                                                                                                                                               | 8/600 [00:18<06:37,  1.49it/s]"
     ]
    },
    {
     "name": "stderr",
     "output_type": "stream",
     "text": [
      "\r",
      "  2%|██▏                                                                                                                                              | 9/600 [00:19<05:13,  1.88it/s]"
     ]
    },
    {
     "name": "stderr",
     "output_type": "stream",
     "text": [
      "\r",
      "  2%|██▍                                                                                                                                             | 10/600 [00:19<04:14,  2.32it/s]"
     ]
    },
    {
     "name": "stderr",
     "output_type": "stream",
     "text": [
      "\r",
      "  2%|██▋                                                                                                                                             | 11/600 [00:19<03:36,  2.71it/s]"
     ]
    },
    {
     "name": "stderr",
     "output_type": "stream",
     "text": [
      "\r",
      "  2%|██▉                                                                                                                                             | 12/600 [00:19<03:07,  3.13it/s]"
     ]
    },
    {
     "name": "stderr",
     "output_type": "stream",
     "text": [
      "\r",
      "  2%|███                                                                                                                                             | 13/600 [00:20<02:48,  3.49it/s]"
     ]
    },
    {
     "name": "stderr",
     "output_type": "stream",
     "text": [
      "\r",
      "  2%|███▎                                                                                                                                            | 14/600 [00:20<02:35,  3.76it/s]"
     ]
    },
    {
     "name": "stderr",
     "output_type": "stream",
     "text": [
      "\r",
      "  2%|███▌                                                                                                                                            | 15/600 [00:20<02:25,  4.01it/s]"
     ]
    },
    {
     "name": "stderr",
     "output_type": "stream",
     "text": [
      "\r",
      "  3%|███▊                                                                                                                                            | 16/600 [00:20<02:24,  4.04it/s]"
     ]
    },
    {
     "name": "stderr",
     "output_type": "stream",
     "text": [
      "\r",
      "  3%|████                                                                                                                                            | 17/600 [00:20<02:21,  4.12it/s]"
     ]
    },
    {
     "name": "stderr",
     "output_type": "stream",
     "text": [
      "\r",
      "  3%|████▎                                                                                                                                           | 18/600 [00:21<02:23,  4.05it/s]"
     ]
    },
    {
     "name": "stderr",
     "output_type": "stream",
     "text": [
      "\r",
      "  3%|████▌                                                                                                                                           | 19/600 [00:21<02:20,  4.13it/s]"
     ]
    },
    {
     "name": "stderr",
     "output_type": "stream",
     "text": [
      "\r",
      "  3%|████▊                                                                                                                                           | 20/600 [00:21<02:23,  4.04it/s]"
     ]
    },
    {
     "name": "stderr",
     "output_type": "stream",
     "text": [
      "\r",
      "  4%|█████                                                                                                                                           | 21/600 [00:21<02:21,  4.08it/s]"
     ]
    },
    {
     "name": "stderr",
     "output_type": "stream",
     "text": [
      "\r",
      "  4%|█████▎                                                                                                                                          | 22/600 [00:22<02:21,  4.09it/s]"
     ]
    },
    {
     "name": "stderr",
     "output_type": "stream",
     "text": [
      "\r",
      "  4%|█████▌                                                                                                                                          | 23/600 [00:22<02:21,  4.06it/s]"
     ]
    },
    {
     "name": "stderr",
     "output_type": "stream",
     "text": [
      "\r",
      "  4%|█████▊                                                                                                                                          | 24/600 [00:22<02:19,  4.12it/s]"
     ]
    },
    {
     "name": "stderr",
     "output_type": "stream",
     "text": [
      "\r",
      "  4%|██████                                                                                                                                          | 25/600 [00:22<02:18,  4.16it/s]"
     ]
    },
    {
     "name": "stderr",
     "output_type": "stream",
     "text": [
      "\r",
      "  4%|██████▏                                                                                                                                         | 26/600 [00:23<02:16,  4.20it/s]"
     ]
    },
    {
     "name": "stderr",
     "output_type": "stream",
     "text": [
      "\r",
      "  4%|██████▍                                                                                                                                         | 27/600 [00:23<02:20,  4.09it/s]"
     ]
    },
    {
     "name": "stderr",
     "output_type": "stream",
     "text": [
      "\r",
      "  5%|██████▋                                                                                                                                         | 28/600 [00:23<02:21,  4.05it/s]"
     ]
    },
    {
     "name": "stderr",
     "output_type": "stream",
     "text": [
      "\r",
      "  5%|██████▉                                                                                                                                         | 29/600 [00:23<02:18,  4.12it/s]"
     ]
    },
    {
     "name": "stderr",
     "output_type": "stream",
     "text": [
      "\r",
      "  5%|███████▏                                                                                                                                        | 30/600 [00:24<02:21,  4.04it/s]"
     ]
    },
    {
     "name": "stderr",
     "output_type": "stream",
     "text": [
      "\r",
      "  5%|███████▍                                                                                                                                        | 31/600 [00:24<02:22,  4.00it/s]"
     ]
    },
    {
     "name": "stderr",
     "output_type": "stream",
     "text": [
      "\r",
      "  5%|███████▋                                                                                                                                        | 32/600 [00:24<02:17,  4.12it/s]"
     ]
    },
    {
     "name": "stderr",
     "output_type": "stream",
     "text": [
      "\r",
      "  6%|███████▉                                                                                                                                        | 33/600 [00:24<02:17,  4.13it/s]"
     ]
    },
    {
     "name": "stderr",
     "output_type": "stream",
     "text": [
      "\r",
      "  6%|████████▏                                                                                                                                       | 34/600 [00:25<02:22,  3.98it/s]"
     ]
    },
    {
     "name": "stderr",
     "output_type": "stream",
     "text": [
      "\r",
      "  6%|████████▍                                                                                                                                       | 35/600 [00:25<02:18,  4.07it/s]"
     ]
    },
    {
     "name": "stderr",
     "output_type": "stream",
     "text": [
      "\r",
      "  6%|████████▋                                                                                                                                       | 36/600 [00:25<02:17,  4.11it/s]"
     ]
    },
    {
     "name": "stderr",
     "output_type": "stream",
     "text": [
      "\r",
      "  6%|████████▉                                                                                                                                       | 37/600 [00:25<02:17,  4.10it/s]"
     ]
    },
    {
     "name": "stderr",
     "output_type": "stream",
     "text": [
      "\r",
      "  6%|█████████                                                                                                                                       | 38/600 [00:26<02:16,  4.11it/s]"
     ]
    },
    {
     "name": "stderr",
     "output_type": "stream",
     "text": [
      "\r",
      "  6%|█████████▎                                                                                                                                      | 39/600 [00:26<02:15,  4.14it/s]"
     ]
    },
    {
     "name": "stderr",
     "output_type": "stream",
     "text": [
      "\r",
      "  7%|█████████▌                                                                                                                                      | 40/600 [00:26<02:15,  4.15it/s]"
     ]
    },
    {
     "name": "stderr",
     "output_type": "stream",
     "text": [
      "\r",
      "  7%|█████████▊                                                                                                                                      | 41/600 [00:26<02:14,  4.15it/s]"
     ]
    },
    {
     "name": "stderr",
     "output_type": "stream",
     "text": [
      "\r",
      "  7%|██████████                                                                                                                                      | 42/600 [00:27<02:14,  4.15it/s]"
     ]
    },
    {
     "name": "stderr",
     "output_type": "stream",
     "text": [
      "\r",
      "  7%|██████████▎                                                                                                                                     | 43/600 [00:27<02:12,  4.21it/s]"
     ]
    },
    {
     "name": "stderr",
     "output_type": "stream",
     "text": [
      "\r",
      "  7%|██████████▌                                                                                                                                     | 44/600 [00:27<02:12,  4.20it/s]"
     ]
    },
    {
     "name": "stderr",
     "output_type": "stream",
     "text": [
      "\r",
      "  8%|██████████▊                                                                                                                                     | 45/600 [00:27<02:14,  4.13it/s]"
     ]
    },
    {
     "name": "stderr",
     "output_type": "stream",
     "text": [
      "\r",
      "  8%|███████████                                                                                                                                     | 46/600 [00:27<02:13,  4.14it/s]"
     ]
    },
    {
     "name": "stderr",
     "output_type": "stream",
     "text": [
      "\r",
      "  8%|███████████▎                                                                                                                                    | 47/600 [00:28<02:14,  4.12it/s]"
     ]
    },
    {
     "name": "stderr",
     "output_type": "stream",
     "text": [
      "\r",
      "  8%|███████████▌                                                                                                                                    | 48/600 [00:28<02:12,  4.15it/s]"
     ]
    },
    {
     "name": "stderr",
     "output_type": "stream",
     "text": [
      "\r",
      "  8%|███████████▊                                                                                                                                    | 49/600 [00:28<02:13,  4.12it/s]"
     ]
    },
    {
     "name": "stderr",
     "output_type": "stream",
     "text": [
      "\r",
      "  8%|████████████                                                                                                                                    | 50/600 [00:28<02:18,  3.96it/s]"
     ]
    },
    {
     "name": "stderr",
     "output_type": "stream",
     "text": [
      "\r",
      "  8%|████████████▏                                                                                                                                   | 51/600 [00:29<02:14,  4.07it/s]"
     ]
    },
    {
     "name": "stderr",
     "output_type": "stream",
     "text": [
      "\r",
      "  9%|████████████▍                                                                                                                                   | 52/600 [00:29<02:12,  4.12it/s]"
     ]
    },
    {
     "name": "stderr",
     "output_type": "stream",
     "text": [
      "\r",
      "  9%|████████████▋                                                                                                                                   | 53/600 [00:29<02:06,  4.32it/s]"
     ]
    },
    {
     "name": "stderr",
     "output_type": "stream",
     "text": [
      "\r",
      "  9%|████████████▉                                                                                                                                   | 54/600 [00:29<02:03,  4.41it/s]"
     ]
    },
    {
     "name": "stderr",
     "output_type": "stream",
     "text": [
      "\r",
      "  9%|█████████████▏                                                                                                                                  | 55/600 [00:30<02:05,  4.34it/s]"
     ]
    },
    {
     "name": "stderr",
     "output_type": "stream",
     "text": [
      "\r",
      "  9%|█████████████▍                                                                                                                                  | 56/600 [00:30<02:04,  4.36it/s]"
     ]
    },
    {
     "name": "stderr",
     "output_type": "stream",
     "text": [
      "\r",
      " 10%|█████████████▋                                                                                                                                  | 57/600 [00:30<02:03,  4.41it/s]"
     ]
    },
    {
     "name": "stderr",
     "output_type": "stream",
     "text": [
      "\r",
      " 10%|█████████████▉                                                                                                                                  | 58/600 [00:30<02:01,  4.48it/s]"
     ]
    },
    {
     "name": "stderr",
     "output_type": "stream",
     "text": [
      "\r",
      " 10%|██████████████▏                                                                                                                                 | 59/600 [00:30<01:58,  4.55it/s]"
     ]
    },
    {
     "name": "stderr",
     "output_type": "stream",
     "text": [
      "\r",
      " 10%|██████████████▍                                                                                                                                 | 60/600 [00:31<02:00,  4.47it/s]"
     ]
    },
    {
     "name": "stderr",
     "output_type": "stream",
     "text": [
      "\r",
      " 10%|██████████████▋                                                                                                                                 | 61/600 [00:31<01:59,  4.52it/s]"
     ]
    },
    {
     "name": "stderr",
     "output_type": "stream",
     "text": [
      "\r",
      " 10%|██████████████▉                                                                                                                                 | 62/600 [00:31<01:59,  4.51it/s]"
     ]
    },
    {
     "name": "stderr",
     "output_type": "stream",
     "text": [
      "\r",
      " 10%|███████████████                                                                                                                                 | 63/600 [00:31<02:00,  4.44it/s]"
     ]
    },
    {
     "name": "stderr",
     "output_type": "stream",
     "text": [
      "\r",
      " 11%|███████████████▎                                                                                                                                | 64/600 [00:32<01:58,  4.54it/s]"
     ]
    },
    {
     "name": "stderr",
     "output_type": "stream",
     "text": [
      "\r",
      " 11%|███████████████▌                                                                                                                                | 65/600 [00:32<01:57,  4.55it/s]"
     ]
    },
    {
     "name": "stderr",
     "output_type": "stream",
     "text": [
      "\r",
      " 11%|███████████████▊                                                                                                                                | 66/600 [00:32<01:57,  4.55it/s]"
     ]
    },
    {
     "name": "stderr",
     "output_type": "stream",
     "text": [
      "\r",
      " 11%|████████████████                                                                                                                                | 67/600 [00:32<01:56,  4.59it/s]"
     ]
    },
    {
     "name": "stderr",
     "output_type": "stream",
     "text": [
      "\r",
      " 11%|████████████████▎                                                                                                                               | 68/600 [00:32<01:56,  4.55it/s]"
     ]
    },
    {
     "name": "stderr",
     "output_type": "stream",
     "text": [
      "\r",
      " 12%|████████████████▌                                                                                                                               | 69/600 [00:33<01:55,  4.60it/s]"
     ]
    },
    {
     "name": "stderr",
     "output_type": "stream",
     "text": [
      "\r",
      " 12%|████████████████▊                                                                                                                               | 70/600 [00:33<01:53,  4.65it/s]"
     ]
    },
    {
     "name": "stderr",
     "output_type": "stream",
     "text": [
      "\r",
      " 12%|█████████████████                                                                                                                               | 71/600 [00:33<01:53,  4.65it/s]"
     ]
    },
    {
     "name": "stderr",
     "output_type": "stream",
     "text": [
      "\r",
      " 12%|█████████████████▎                                                                                                                              | 72/600 [00:33<01:51,  4.73it/s]"
     ]
    },
    {
     "name": "stderr",
     "output_type": "stream",
     "text": [
      "\r",
      " 12%|█████████████████▌                                                                                                                              | 73/600 [00:34<01:53,  4.63it/s]"
     ]
    },
    {
     "name": "stderr",
     "output_type": "stream",
     "text": [
      "\r",
      " 12%|█████████████████▊                                                                                                                              | 74/600 [00:34<01:53,  4.62it/s]"
     ]
    },
    {
     "name": "stderr",
     "output_type": "stream",
     "text": [
      "\r",
      " 12%|██████████████████                                                                                                                              | 75/600 [00:34<01:54,  4.58it/s]"
     ]
    },
    {
     "name": "stderr",
     "output_type": "stream",
     "text": [
      "\r",
      " 13%|██████████████████▏                                                                                                                             | 76/600 [00:34<01:53,  4.60it/s]"
     ]
    },
    {
     "name": "stderr",
     "output_type": "stream",
     "text": [
      "\r",
      " 13%|██████████████████▍                                                                                                                             | 77/600 [00:34<01:53,  4.61it/s]"
     ]
    },
    {
     "name": "stderr",
     "output_type": "stream",
     "text": [
      "\r",
      " 13%|██████████████████▋                                                                                                                             | 78/600 [00:35<01:54,  4.56it/s]"
     ]
    },
    {
     "name": "stderr",
     "output_type": "stream",
     "text": [
      "\r",
      " 13%|██████████████████▉                                                                                                                             | 79/600 [00:35<01:52,  4.62it/s]"
     ]
    },
    {
     "name": "stderr",
     "output_type": "stream",
     "text": [
      "\r",
      " 13%|███████████████████▏                                                                                                                            | 80/600 [00:35<01:51,  4.68it/s]"
     ]
    },
    {
     "name": "stderr",
     "output_type": "stream",
     "text": [
      "\r",
      " 14%|███████████████████▍                                                                                                                            | 81/600 [00:35<01:52,  4.62it/s]"
     ]
    },
    {
     "name": "stderr",
     "output_type": "stream",
     "text": [
      "\r",
      " 14%|███████████████████▋                                                                                                                            | 82/600 [00:35<01:52,  4.59it/s]"
     ]
    },
    {
     "name": "stderr",
     "output_type": "stream",
     "text": [
      "\r",
      " 14%|███████████████████▉                                                                                                                            | 83/600 [00:36<01:54,  4.51it/s]"
     ]
    },
    {
     "name": "stderr",
     "output_type": "stream",
     "text": [
      "\r",
      " 14%|████████████████████▏                                                                                                                           | 84/600 [00:36<01:51,  4.61it/s]"
     ]
    },
    {
     "name": "stderr",
     "output_type": "stream",
     "text": [
      "\r",
      " 14%|████████████████████▍                                                                                                                           | 85/600 [00:36<01:51,  4.63it/s]"
     ]
    },
    {
     "name": "stderr",
     "output_type": "stream",
     "text": [
      "\r",
      " 14%|████████████████████▋                                                                                                                           | 86/600 [00:36<01:50,  4.64it/s]"
     ]
    },
    {
     "name": "stderr",
     "output_type": "stream",
     "text": [
      "\r",
      " 14%|████████████████████▉                                                                                                                           | 87/600 [00:37<01:53,  4.53it/s]"
     ]
    },
    {
     "name": "stderr",
     "output_type": "stream",
     "text": [
      "\r",
      " 15%|█████████████████████                                                                                                                           | 88/600 [00:37<01:51,  4.60it/s]"
     ]
    },
    {
     "name": "stderr",
     "output_type": "stream",
     "text": [
      "\r",
      " 15%|█████████████████████▎                                                                                                                          | 89/600 [00:37<01:51,  4.59it/s]"
     ]
    },
    {
     "name": "stderr",
     "output_type": "stream",
     "text": [
      "\r",
      " 15%|█████████████████████▌                                                                                                                          | 90/600 [00:37<01:55,  4.42it/s]"
     ]
    },
    {
     "name": "stderr",
     "output_type": "stream",
     "text": [
      "\r",
      " 15%|█████████████████████▊                                                                                                                          | 91/600 [00:37<01:56,  4.36it/s]"
     ]
    },
    {
     "name": "stderr",
     "output_type": "stream",
     "text": [
      "\r",
      " 15%|██████████████████████                                                                                                                          | 92/600 [00:38<01:58,  4.30it/s]"
     ]
    },
    {
     "name": "stderr",
     "output_type": "stream",
     "text": [
      "\r",
      " 16%|██████████████████████▎                                                                                                                         | 93/600 [00:38<01:58,  4.26it/s]"
     ]
    },
    {
     "name": "stderr",
     "output_type": "stream",
     "text": [
      "\r",
      " 16%|██████████████████████▌                                                                                                                         | 94/600 [00:38<01:58,  4.27it/s]"
     ]
    },
    {
     "name": "stderr",
     "output_type": "stream",
     "text": [
      "\r",
      " 16%|██████████████████████▊                                                                                                                         | 95/600 [00:38<02:00,  4.21it/s]"
     ]
    },
    {
     "name": "stderr",
     "output_type": "stream",
     "text": [
      "\r",
      " 16%|███████████████████████                                                                                                                         | 96/600 [00:39<01:58,  4.27it/s]"
     ]
    },
    {
     "name": "stderr",
     "output_type": "stream",
     "text": [
      "\r",
      " 16%|███████████████████████▎                                                                                                                        | 97/600 [00:39<01:58,  4.23it/s]"
     ]
    },
    {
     "name": "stderr",
     "output_type": "stream",
     "text": [
      "\r",
      " 16%|███████████████████████▌                                                                                                                        | 98/600 [00:39<01:57,  4.29it/s]"
     ]
    },
    {
     "name": "stderr",
     "output_type": "stream",
     "text": [
      "\r",
      " 16%|███████████████████████▊                                                                                                                        | 99/600 [00:39<01:54,  4.39it/s]"
     ]
    },
    {
     "name": "stderr",
     "output_type": "stream",
     "text": [
      "\r",
      " 17%|███████████████████████▊                                                                                                                       | 100/600 [00:40<01:54,  4.38it/s]"
     ]
    },
    {
     "name": "stderr",
     "output_type": "stream",
     "text": [
      "\r",
      " 17%|████████████████████████                                                                                                                       | 101/600 [00:40<01:52,  4.44it/s]"
     ]
    },
    {
     "name": "stderr",
     "output_type": "stream",
     "text": [
      "\r",
      " 17%|████████████████████████▎                                                                                                                      | 102/600 [00:40<01:49,  4.55it/s]"
     ]
    },
    {
     "name": "stderr",
     "output_type": "stream",
     "text": [
      "\r",
      " 17%|████████████████████████▌                                                                                                                      | 103/600 [00:40<01:46,  4.66it/s]"
     ]
    },
    {
     "name": "stderr",
     "output_type": "stream",
     "text": [
      "\r",
      " 17%|████████████████████████▊                                                                                                                      | 104/600 [00:40<01:46,  4.67it/s]"
     ]
    },
    {
     "name": "stderr",
     "output_type": "stream",
     "text": [
      "\r",
      " 18%|█████████████████████████                                                                                                                      | 105/600 [00:41<01:44,  4.75it/s]"
     ]
    },
    {
     "name": "stderr",
     "output_type": "stream",
     "text": [
      "\r",
      " 18%|█████████████████████████▎                                                                                                                     | 106/600 [00:41<01:44,  4.71it/s]"
     ]
    },
    {
     "name": "stderr",
     "output_type": "stream",
     "text": [
      "\r",
      " 18%|█████████████████████████▌                                                                                                                     | 107/600 [00:41<01:46,  4.64it/s]"
     ]
    },
    {
     "name": "stderr",
     "output_type": "stream",
     "text": [
      "\r",
      " 18%|█████████████████████████▋                                                                                                                     | 108/600 [00:41<01:44,  4.70it/s]"
     ]
    },
    {
     "name": "stderr",
     "output_type": "stream",
     "text": [
      "\r",
      " 18%|█████████████████████████▉                                                                                                                     | 109/600 [00:42<01:45,  4.66it/s]"
     ]
    },
    {
     "name": "stderr",
     "output_type": "stream",
     "text": [
      "\r",
      " 18%|██████████████████████████▏                                                                                                                    | 110/600 [00:42<01:45,  4.64it/s]"
     ]
    },
    {
     "name": "stderr",
     "output_type": "stream",
     "text": [
      "\r",
      " 18%|██████████████████████████▍                                                                                                                    | 111/600 [00:42<01:45,  4.63it/s]"
     ]
    },
    {
     "name": "stderr",
     "output_type": "stream",
     "text": [
      "\r",
      " 19%|██████████████████████████▋                                                                                                                    | 112/600 [00:42<01:46,  4.57it/s]"
     ]
    },
    {
     "name": "stderr",
     "output_type": "stream",
     "text": [
      "\r",
      " 19%|██████████████████████████▉                                                                                                                    | 113/600 [00:42<01:49,  4.47it/s]"
     ]
    },
    {
     "name": "stderr",
     "output_type": "stream",
     "text": [
      "\r",
      " 19%|███████████████████████████▏                                                                                                                   | 114/600 [00:43<01:50,  4.39it/s]"
     ]
    },
    {
     "name": "stderr",
     "output_type": "stream",
     "text": [
      "\r",
      " 19%|███████████████████████████▍                                                                                                                   | 115/600 [00:43<01:51,  4.36it/s]"
     ]
    },
    {
     "name": "stderr",
     "output_type": "stream",
     "text": [
      "\r",
      " 19%|███████████████████████████▋                                                                                                                   | 116/600 [00:43<01:52,  4.31it/s]"
     ]
    },
    {
     "name": "stderr",
     "output_type": "stream",
     "text": [
      "\r",
      " 20%|███████████████████████████▉                                                                                                                   | 117/600 [00:43<01:52,  4.30it/s]"
     ]
    },
    {
     "name": "stderr",
     "output_type": "stream",
     "text": [
      "\r",
      " 20%|████████████████████████████                                                                                                                   | 118/600 [00:44<01:52,  4.29it/s]"
     ]
    },
    {
     "name": "stderr",
     "output_type": "stream",
     "text": [
      "\r",
      " 20%|████████████████████████████▎                                                                                                                  | 119/600 [00:44<01:52,  4.29it/s]"
     ]
    },
    {
     "name": "stderr",
     "output_type": "stream",
     "text": [
      "\r",
      " 20%|████████████████████████████▌                                                                                                                  | 120/600 [00:44<01:52,  4.25it/s]"
     ]
    },
    {
     "name": "stderr",
     "output_type": "stream",
     "text": [
      "\r",
      " 20%|████████████████████████████▊                                                                                                                  | 121/600 [00:44<01:51,  4.28it/s]"
     ]
    },
    {
     "name": "stderr",
     "output_type": "stream",
     "text": [
      "\r",
      " 20%|█████████████████████████████                                                                                                                  | 122/600 [00:45<01:51,  4.28it/s]"
     ]
    },
    {
     "name": "stderr",
     "output_type": "stream",
     "text": [
      "\r",
      " 20%|█████████████████████████████▎                                                                                                                 | 123/600 [00:45<01:52,  4.23it/s]"
     ]
    },
    {
     "name": "stderr",
     "output_type": "stream",
     "text": [
      "\r",
      " 21%|█████████████████████████████▌                                                                                                                 | 124/600 [00:45<01:49,  4.36it/s]"
     ]
    },
    {
     "name": "stderr",
     "output_type": "stream",
     "text": [
      "\r",
      " 21%|█████████████████████████████▊                                                                                                                 | 125/600 [00:45<01:46,  4.47it/s]"
     ]
    },
    {
     "name": "stderr",
     "output_type": "stream",
     "text": [
      "\r",
      " 21%|██████████████████████████████                                                                                                                 | 126/600 [00:45<01:44,  4.52it/s]"
     ]
    },
    {
     "name": "stderr",
     "output_type": "stream",
     "text": [
      "\r",
      " 21%|██████████████████████████████▎                                                                                                                | 127/600 [00:46<01:42,  4.60it/s]"
     ]
    },
    {
     "name": "stderr",
     "output_type": "stream",
     "text": [
      "\r",
      " 21%|██████████████████████████████▌                                                                                                                | 128/600 [00:46<01:41,  4.64it/s]"
     ]
    },
    {
     "name": "stderr",
     "output_type": "stream",
     "text": [
      "\r",
      " 22%|██████████████████████████████▋                                                                                                                | 129/600 [00:46<01:40,  4.70it/s]"
     ]
    },
    {
     "name": "stderr",
     "output_type": "stream",
     "text": [
      "\r",
      " 22%|██████████████████████████████▉                                                                                                                | 130/600 [00:46<01:42,  4.59it/s]"
     ]
    },
    {
     "name": "stderr",
     "output_type": "stream",
     "text": [
      "\r",
      " 22%|███████████████████████████████▏                                                                                                               | 131/600 [00:46<01:44,  4.48it/s]"
     ]
    },
    {
     "name": "stderr",
     "output_type": "stream",
     "text": [
      "\r",
      " 22%|███████████████████████████████▍                                                                                                               | 132/600 [00:47<01:45,  4.45it/s]"
     ]
    },
    {
     "name": "stderr",
     "output_type": "stream",
     "text": [
      "\r",
      " 22%|███████████████████████████████▋                                                                                                               | 133/600 [00:47<01:45,  4.41it/s]"
     ]
    },
    {
     "name": "stderr",
     "output_type": "stream",
     "text": [
      "\r",
      " 22%|███████████████████████████████▉                                                                                                               | 134/600 [00:47<01:45,  4.40it/s]"
     ]
    },
    {
     "name": "stderr",
     "output_type": "stream",
     "text": [
      "\r",
      " 22%|████████████████████████████████▏                                                                                                              | 135/600 [00:47<01:46,  4.37it/s]"
     ]
    },
    {
     "name": "stderr",
     "output_type": "stream",
     "text": [
      "\r",
      " 23%|████████████████████████████████▍                                                                                                              | 136/600 [00:48<01:46,  4.36it/s]"
     ]
    },
    {
     "name": "stderr",
     "output_type": "stream",
     "text": [
      "\r",
      " 23%|████████████████████████████████▋                                                                                                              | 137/600 [00:48<01:46,  4.33it/s]"
     ]
    },
    {
     "name": "stderr",
     "output_type": "stream",
     "text": [
      "\r",
      " 23%|████████████████████████████████▉                                                                                                              | 138/600 [00:48<01:46,  4.32it/s]"
     ]
    },
    {
     "name": "stderr",
     "output_type": "stream",
     "text": [
      "\r",
      " 23%|█████████████████████████████████▏                                                                                                             | 139/600 [00:48<01:46,  4.34it/s]"
     ]
    },
    {
     "name": "stderr",
     "output_type": "stream",
     "text": [
      "\r",
      " 23%|█████████████████████████████████▎                                                                                                             | 140/600 [00:49<01:46,  4.34it/s]"
     ]
    },
    {
     "name": "stderr",
     "output_type": "stream",
     "text": [
      "\r",
      " 24%|█████████████████████████████████▌                                                                                                             | 141/600 [00:49<01:46,  4.32it/s]"
     ]
    },
    {
     "name": "stderr",
     "output_type": "stream",
     "text": [
      "\r",
      " 24%|█████████████████████████████████▊                                                                                                             | 142/600 [00:49<01:45,  4.33it/s]"
     ]
    },
    {
     "name": "stderr",
     "output_type": "stream",
     "text": [
      "\r",
      " 24%|██████████████████████████████████                                                                                                             | 143/600 [00:49<01:45,  4.35it/s]"
     ]
    },
    {
     "name": "stderr",
     "output_type": "stream",
     "text": [
      "\r",
      " 24%|██████████████████████████████████▎                                                                                                            | 144/600 [00:49<01:44,  4.35it/s]"
     ]
    },
    {
     "name": "stderr",
     "output_type": "stream",
     "text": [
      "\r",
      " 24%|██████████████████████████████████▌                                                                                                            | 145/600 [00:50<01:44,  4.35it/s]"
     ]
    },
    {
     "name": "stderr",
     "output_type": "stream",
     "text": [
      "\r",
      " 24%|██████████████████████████████████▊                                                                                                            | 146/600 [00:50<01:44,  4.34it/s]"
     ]
    },
    {
     "name": "stderr",
     "output_type": "stream",
     "text": [
      "\r",
      " 24%|███████████████████████████████████                                                                                                            | 147/600 [00:50<01:44,  4.36it/s]"
     ]
    },
    {
     "name": "stderr",
     "output_type": "stream",
     "text": [
      "\r",
      " 25%|███████████████████████████████████▎                                                                                                           | 148/600 [00:50<01:43,  4.36it/s]"
     ]
    },
    {
     "name": "stderr",
     "output_type": "stream",
     "text": [
      "\r",
      " 25%|███████████████████████████████████▌                                                                                                           | 149/600 [00:51<01:43,  4.36it/s]"
     ]
    },
    {
     "name": "stderr",
     "output_type": "stream",
     "text": [
      "\r",
      " 25%|███████████████████████████████████▊                                                                                                           | 150/600 [00:51<01:43,  4.34it/s]"
     ]
    },
    {
     "name": "stderr",
     "output_type": "stream",
     "text": [
      "\r",
      " 25%|███████████████████████████████████▉                                                                                                           | 151/600 [00:51<01:42,  4.36it/s]"
     ]
    },
    {
     "name": "stderr",
     "output_type": "stream",
     "text": [
      "\r",
      " 25%|████████████████████████████████████▏                                                                                                          | 152/600 [00:51<01:42,  4.35it/s]"
     ]
    },
    {
     "name": "stderr",
     "output_type": "stream",
     "text": [
      "\r",
      " 26%|████████████████████████████████████▍                                                                                                          | 153/600 [00:52<01:43,  4.34it/s]"
     ]
    },
    {
     "name": "stderr",
     "output_type": "stream",
     "text": [
      "\r",
      " 26%|████████████████████████████████████▋                                                                                                          | 154/600 [00:52<01:42,  4.34it/s]"
     ]
    },
    {
     "name": "stderr",
     "output_type": "stream",
     "text": [
      "\r",
      " 26%|████████████████████████████████████▉                                                                                                          | 155/600 [00:52<01:41,  4.37it/s]"
     ]
    },
    {
     "name": "stderr",
     "output_type": "stream",
     "text": [
      "\r",
      " 26%|█████████████████████████████████████▏                                                                                                         | 156/600 [00:52<01:41,  4.38it/s]"
     ]
    },
    {
     "name": "stderr",
     "output_type": "stream",
     "text": [
      "\r",
      " 26%|█████████████████████████████████████▍                                                                                                         | 157/600 [00:52<01:40,  4.40it/s]"
     ]
    },
    {
     "name": "stderr",
     "output_type": "stream",
     "text": [
      "\r",
      " 26%|█████████████████████████████████████▋                                                                                                         | 158/600 [00:53<01:40,  4.41it/s]"
     ]
    },
    {
     "name": "stderr",
     "output_type": "stream",
     "text": [
      "\r",
      " 26%|█████████████████████████████████████▉                                                                                                         | 159/600 [00:53<01:39,  4.41it/s]"
     ]
    },
    {
     "name": "stderr",
     "output_type": "stream",
     "text": [
      "\r",
      " 27%|██████████████████████████████████████▏                                                                                                        | 160/600 [00:53<01:40,  4.38it/s]"
     ]
    },
    {
     "name": "stderr",
     "output_type": "stream",
     "text": [
      "\r",
      " 27%|██████████████████████████████████████▎                                                                                                        | 161/600 [00:53<01:40,  4.38it/s]"
     ]
    },
    {
     "name": "stderr",
     "output_type": "stream",
     "text": [
      "\r",
      " 27%|██████████████████████████████████████▌                                                                                                        | 162/600 [00:54<01:39,  4.39it/s]"
     ]
    },
    {
     "name": "stderr",
     "output_type": "stream",
     "text": [
      "\r",
      " 27%|██████████████████████████████████████▊                                                                                                        | 163/600 [00:54<01:37,  4.50it/s]"
     ]
    },
    {
     "name": "stderr",
     "output_type": "stream",
     "text": [
      "\r",
      " 27%|███████████████████████████████████████                                                                                                        | 164/600 [00:54<01:37,  4.47it/s]"
     ]
    },
    {
     "name": "stderr",
     "output_type": "stream",
     "text": [
      "\r",
      " 28%|███████████████████████████████████████▎                                                                                                       | 165/600 [00:54<01:38,  4.41it/s]"
     ]
    },
    {
     "name": "stderr",
     "output_type": "stream",
     "text": [
      "\r",
      " 28%|███████████████████████████████████████▌                                                                                                       | 166/600 [00:54<01:38,  4.40it/s]"
     ]
    },
    {
     "name": "stderr",
     "output_type": "stream",
     "text": [
      "\r",
      " 28%|███████████████████████████████████████▊                                                                                                       | 167/600 [00:55<01:37,  4.43it/s]"
     ]
    },
    {
     "name": "stderr",
     "output_type": "stream",
     "text": [
      "\r",
      " 28%|████████████████████████████████████████                                                                                                       | 168/600 [00:55<01:39,  4.33it/s]"
     ]
    },
    {
     "name": "stderr",
     "output_type": "stream",
     "text": [
      "\r",
      " 28%|████████████████████████████████████████▎                                                                                                      | 169/600 [00:55<01:39,  4.31it/s]"
     ]
    },
    {
     "name": "stderr",
     "output_type": "stream",
     "text": [
      "\r",
      " 28%|████████████████████████████████████████▌                                                                                                      | 170/600 [00:55<01:39,  4.33it/s]"
     ]
    },
    {
     "name": "stderr",
     "output_type": "stream",
     "text": [
      "\r",
      " 28%|████████████████████████████████████████▊                                                                                                      | 171/600 [00:56<01:38,  4.34it/s]"
     ]
    },
    {
     "name": "stderr",
     "output_type": "stream",
     "text": [
      "\r",
      " 29%|████████████████████████████████████████▉                                                                                                      | 172/600 [00:56<01:38,  4.32it/s]"
     ]
    },
    {
     "name": "stderr",
     "output_type": "stream",
     "text": [
      "\r",
      " 29%|█████████████████████████████████████████▏                                                                                                     | 173/600 [00:56<01:39,  4.31it/s]"
     ]
    },
    {
     "name": "stderr",
     "output_type": "stream",
     "text": [
      "\r",
      " 29%|█████████████████████████████████████████▍                                                                                                     | 174/600 [00:56<01:39,  4.29it/s]"
     ]
    },
    {
     "name": "stderr",
     "output_type": "stream",
     "text": [
      "\r",
      " 29%|█████████████████████████████████████████▋                                                                                                     | 175/600 [00:57<01:38,  4.30it/s]"
     ]
    },
    {
     "name": "stderr",
     "output_type": "stream",
     "text": [
      "\r",
      " 29%|█████████████████████████████████████████▉                                                                                                     | 176/600 [00:57<01:38,  4.29it/s]"
     ]
    },
    {
     "name": "stderr",
     "output_type": "stream",
     "text": [
      "\r",
      " 30%|██████████████████████████████████████████▏                                                                                                    | 177/600 [00:57<01:37,  4.32it/s]"
     ]
    },
    {
     "name": "stderr",
     "output_type": "stream",
     "text": [
      "\r",
      " 30%|██████████████████████████████████████████▍                                                                                                    | 178/600 [00:57<01:37,  4.32it/s]"
     ]
    },
    {
     "name": "stderr",
     "output_type": "stream",
     "text": [
      "\r",
      " 30%|██████████████████████████████████████████▋                                                                                                    | 179/600 [00:58<01:37,  4.33it/s]"
     ]
    },
    {
     "name": "stderr",
     "output_type": "stream",
     "text": [
      "\r",
      " 30%|██████████████████████████████████████████▉                                                                                                    | 180/600 [00:58<01:36,  4.35it/s]"
     ]
    },
    {
     "name": "stderr",
     "output_type": "stream",
     "text": [
      "\r",
      " 30%|███████████████████████████████████████████▏                                                                                                   | 181/600 [00:58<01:36,  4.34it/s]"
     ]
    },
    {
     "name": "stderr",
     "output_type": "stream",
     "text": [
      "\r",
      " 30%|███████████████████████████████████████████▍                                                                                                   | 182/600 [00:58<01:36,  4.35it/s]"
     ]
    },
    {
     "name": "stderr",
     "output_type": "stream",
     "text": [
      "\r",
      " 30%|███████████████████████████████████████████▌                                                                                                   | 183/600 [00:58<01:36,  4.34it/s]"
     ]
    },
    {
     "name": "stderr",
     "output_type": "stream",
     "text": [
      "\r",
      " 31%|███████████████████████████████████████████▊                                                                                                   | 184/600 [00:59<01:35,  4.35it/s]"
     ]
    },
    {
     "name": "stderr",
     "output_type": "stream",
     "text": [
      "\r",
      " 31%|████████████████████████████████████████████                                                                                                   | 185/600 [00:59<01:35,  4.34it/s]"
     ]
    },
    {
     "name": "stderr",
     "output_type": "stream",
     "text": [
      "\r",
      " 31%|████████████████████████████████████████████▎                                                                                                  | 186/600 [00:59<01:35,  4.35it/s]"
     ]
    },
    {
     "name": "stderr",
     "output_type": "stream",
     "text": [
      "\r",
      " 31%|████████████████████████████████████████████▌                                                                                                  | 187/600 [00:59<01:35,  4.34it/s]"
     ]
    },
    {
     "name": "stderr",
     "output_type": "stream",
     "text": [
      "\r",
      " 31%|████████████████████████████████████████████▊                                                                                                  | 188/600 [01:00<01:34,  4.35it/s]"
     ]
    },
    {
     "name": "stderr",
     "output_type": "stream",
     "text": [
      "\r",
      " 32%|█████████████████████████████████████████████                                                                                                  | 189/600 [01:00<01:34,  4.33it/s]"
     ]
    },
    {
     "name": "stderr",
     "output_type": "stream",
     "text": [
      "\r",
      " 32%|█████████████████████████████████████████████▎                                                                                                 | 190/600 [01:00<01:34,  4.33it/s]"
     ]
    },
    {
     "name": "stderr",
     "output_type": "stream",
     "text": [
      "\r",
      " 32%|█████████████████████████████████████████████▌                                                                                                 | 191/600 [01:00<01:31,  4.49it/s]"
     ]
    },
    {
     "name": "stderr",
     "output_type": "stream",
     "text": [
      "\r",
      " 32%|█████████████████████████████████████████████▊                                                                                                 | 192/600 [01:00<01:30,  4.52it/s]"
     ]
    },
    {
     "name": "stderr",
     "output_type": "stream",
     "text": [
      "\r",
      " 32%|█████████████████████████████████████████████▉                                                                                                 | 193/600 [01:01<01:31,  4.45it/s]"
     ]
    },
    {
     "name": "stderr",
     "output_type": "stream",
     "text": [
      "\r",
      " 32%|██████████████████████████████████████████████▏                                                                                                | 194/600 [01:01<01:30,  4.47it/s]"
     ]
    },
    {
     "name": "stderr",
     "output_type": "stream",
     "text": [
      "\r",
      " 32%|██████████████████████████████████████████████▍                                                                                                | 195/600 [01:01<01:29,  4.51it/s]"
     ]
    },
    {
     "name": "stderr",
     "output_type": "stream",
     "text": [
      "\r",
      " 33%|██████████████████████████████████████████████▋                                                                                                | 196/600 [01:01<01:29,  4.52it/s]"
     ]
    },
    {
     "name": "stderr",
     "output_type": "stream",
     "text": [
      "\r",
      " 33%|██████████████████████████████████████████████▉                                                                                                | 197/600 [01:02<01:29,  4.50it/s]"
     ]
    },
    {
     "name": "stderr",
     "output_type": "stream",
     "text": [
      "\r",
      " 33%|███████████████████████████████████████████████▏                                                                                               | 198/600 [01:02<01:29,  4.49it/s]"
     ]
    },
    {
     "name": "stderr",
     "output_type": "stream",
     "text": [
      "\r",
      " 33%|███████████████████████████████████████████████▍                                                                                               | 199/600 [01:02<01:27,  4.59it/s]"
     ]
    },
    {
     "name": "stderr",
     "output_type": "stream",
     "text": [
      "\r",
      " 33%|███████████████████████████████████████████████▋                                                                                               | 200/600 [01:02<01:25,  4.65it/s]"
     ]
    },
    {
     "name": "stderr",
     "output_type": "stream",
     "text": [
      "\r",
      " 34%|███████████████████████████████████████████████▉                                                                                               | 201/600 [01:02<01:24,  4.72it/s]"
     ]
    },
    {
     "name": "stderr",
     "output_type": "stream",
     "text": [
      "\r",
      " 34%|████████████████████████████████████████████████▏                                                                                              | 202/600 [01:03<01:23,  4.77it/s]"
     ]
    },
    {
     "name": "stderr",
     "output_type": "stream",
     "text": [
      "\r",
      " 34%|████████████████████████████████████████████████▍                                                                                              | 203/600 [01:03<01:23,  4.77it/s]"
     ]
    },
    {
     "name": "stderr",
     "output_type": "stream",
     "text": [
      "\r",
      " 34%|████████████████████████████████████████████████▌                                                                                              | 204/600 [01:03<01:22,  4.81it/s]"
     ]
    },
    {
     "name": "stderr",
     "output_type": "stream",
     "text": [
      "\r",
      " 34%|████████████████████████████████████████████████▊                                                                                              | 205/600 [01:03<01:21,  4.84it/s]"
     ]
    },
    {
     "name": "stderr",
     "output_type": "stream",
     "text": [
      "\r",
      " 34%|█████████████████████████████████████████████████                                                                                              | 206/600 [01:03<01:20,  4.87it/s]"
     ]
    },
    {
     "name": "stderr",
     "output_type": "stream",
     "text": [
      "\r",
      " 34%|█████████████████████████████████████████████████▎                                                                                             | 207/600 [01:04<01:20,  4.86it/s]"
     ]
    },
    {
     "name": "stderr",
     "output_type": "stream",
     "text": [
      "\r",
      " 35%|█████████████████████████████████████████████████▌                                                                                             | 208/600 [01:04<01:20,  4.87it/s]"
     ]
    },
    {
     "name": "stderr",
     "output_type": "stream",
     "text": [
      "\r",
      " 35%|█████████████████████████████████████████████████▊                                                                                             | 209/600 [01:04<01:20,  4.87it/s]"
     ]
    },
    {
     "name": "stderr",
     "output_type": "stream",
     "text": [
      "\r",
      " 35%|██████████████████████████████████████████████████                                                                                             | 210/600 [01:04<01:19,  4.89it/s]"
     ]
    },
    {
     "name": "stderr",
     "output_type": "stream",
     "text": [
      "\r",
      " 35%|██████████████████████████████████████████████████▎                                                                                            | 211/600 [01:04<01:19,  4.89it/s]"
     ]
    },
    {
     "name": "stderr",
     "output_type": "stream",
     "text": [
      "\r",
      " 35%|██████████████████████████████████████████████████▌                                                                                            | 212/600 [01:05<01:20,  4.85it/s]"
     ]
    },
    {
     "name": "stderr",
     "output_type": "stream",
     "text": [
      "\r",
      " 36%|██████████████████████████████████████████████████▊                                                                                            | 213/600 [01:05<01:20,  4.80it/s]"
     ]
    },
    {
     "name": "stderr",
     "output_type": "stream",
     "text": [
      "\r",
      " 36%|███████████████████████████████████████████████████                                                                                            | 214/600 [01:05<01:20,  4.80it/s]"
     ]
    },
    {
     "name": "stderr",
     "output_type": "stream",
     "text": [
      "\r",
      " 36%|███████████████████████████████████████████████████▏                                                                                           | 215/600 [01:05<01:19,  4.83it/s]"
     ]
    },
    {
     "name": "stderr",
     "output_type": "stream",
     "text": [
      "\r",
      " 36%|███████████████████████████████████████████████████▍                                                                                           | 216/600 [01:06<01:19,  4.84it/s]"
     ]
    },
    {
     "name": "stderr",
     "output_type": "stream",
     "text": [
      "\r",
      " 36%|███████████████████████████████████████████████████▋                                                                                           | 217/600 [01:06<01:20,  4.77it/s]"
     ]
    },
    {
     "name": "stderr",
     "output_type": "stream",
     "text": [
      "\r",
      " 36%|███████████████████████████████████████████████████▉                                                                                           | 218/600 [01:06<01:19,  4.78it/s]"
     ]
    },
    {
     "name": "stderr",
     "output_type": "stream",
     "text": [
      "\r",
      " 36%|████████████████████████████████████████████████████▏                                                                                          | 219/600 [01:06<01:18,  4.83it/s]"
     ]
    },
    {
     "name": "stderr",
     "output_type": "stream",
     "text": [
      "\r",
      " 37%|████████████████████████████████████████████████████▍                                                                                          | 220/600 [01:06<01:18,  4.86it/s]"
     ]
    },
    {
     "name": "stderr",
     "output_type": "stream",
     "text": [
      "\r",
      " 37%|████████████████████████████████████████████████████▋                                                                                          | 221/600 [01:07<01:17,  4.87it/s]"
     ]
    },
    {
     "name": "stderr",
     "output_type": "stream",
     "text": [
      "\r",
      " 37%|████████████████████████████████████████████████████▉                                                                                          | 222/600 [01:07<01:17,  4.89it/s]"
     ]
    },
    {
     "name": "stderr",
     "output_type": "stream",
     "text": [
      "\r",
      " 37%|█████████████████████████████████████████████████████▏                                                                                         | 223/600 [01:07<01:16,  4.90it/s]"
     ]
    },
    {
     "name": "stderr",
     "output_type": "stream",
     "text": [
      "\r",
      " 37%|█████████████████████████████████████████████████████▍                                                                                         | 224/600 [01:07<01:16,  4.92it/s]"
     ]
    },
    {
     "name": "stderr",
     "output_type": "stream",
     "text": [
      "\r",
      " 38%|█████████████████████████████████████████████████████▋                                                                                         | 225/600 [01:07<01:16,  4.93it/s]"
     ]
    },
    {
     "name": "stderr",
     "output_type": "stream",
     "text": [
      "\r",
      " 38%|█████████████████████████████████████████████████████▊                                                                                         | 226/600 [01:08<01:15,  4.94it/s]"
     ]
    },
    {
     "name": "stderr",
     "output_type": "stream",
     "text": [
      "\r",
      " 38%|██████████████████████████████████████████████████████                                                                                         | 227/600 [01:08<01:15,  4.92it/s]"
     ]
    },
    {
     "name": "stderr",
     "output_type": "stream",
     "text": [
      "\r",
      " 38%|██████████████████████████████████████████████████████▎                                                                                        | 228/600 [01:08<01:15,  4.93it/s]"
     ]
    },
    {
     "name": "stderr",
     "output_type": "stream",
     "text": [
      "\r",
      " 38%|██████████████████████████████████████████████████████▌                                                                                        | 229/600 [01:08<01:15,  4.94it/s]"
     ]
    },
    {
     "name": "stderr",
     "output_type": "stream",
     "text": [
      "\r",
      " 38%|██████████████████████████████████████████████████████▊                                                                                        | 230/600 [01:08<01:14,  4.94it/s]"
     ]
    },
    {
     "name": "stderr",
     "output_type": "stream",
     "text": [
      "\r",
      " 38%|███████████████████████████████████████████████████████                                                                                        | 231/600 [01:09<01:14,  4.96it/s]"
     ]
    },
    {
     "name": "stderr",
     "output_type": "stream",
     "text": [
      "\r",
      " 39%|███████████████████████████████████████████████████████▎                                                                                       | 232/600 [01:09<01:14,  4.97it/s]"
     ]
    },
    {
     "name": "stderr",
     "output_type": "stream",
     "text": [
      "\r",
      " 39%|███████████████████████████████████████████████████████▌                                                                                       | 233/600 [01:09<01:16,  4.83it/s]"
     ]
    },
    {
     "name": "stderr",
     "output_type": "stream",
     "text": [
      "\r",
      " 39%|███████████████████████████████████████████████████████▊                                                                                       | 234/600 [01:09<01:20,  4.54it/s]"
     ]
    },
    {
     "name": "stderr",
     "output_type": "stream",
     "text": [
      "\r",
      " 39%|████████████████████████████████████████████████████████                                                                                       | 235/600 [01:09<01:18,  4.64it/s]"
     ]
    },
    {
     "name": "stderr",
     "output_type": "stream",
     "text": [
      "\r",
      " 39%|████████████████████████████████████████████████████████▏                                                                                      | 236/600 [01:10<01:16,  4.73it/s]"
     ]
    },
    {
     "name": "stderr",
     "output_type": "stream",
     "text": [
      "\r",
      " 40%|████████████████████████████████████████████████████████▍                                                                                      | 237/600 [01:10<01:15,  4.78it/s]"
     ]
    },
    {
     "name": "stderr",
     "output_type": "stream",
     "text": [
      "\r",
      " 40%|████████████████████████████████████████████████████████▋                                                                                      | 238/600 [01:10<01:15,  4.81it/s]"
     ]
    },
    {
     "name": "stderr",
     "output_type": "stream",
     "text": [
      "\r",
      " 40%|████████████████████████████████████████████████████████▉                                                                                      | 239/600 [01:10<01:17,  4.64it/s]"
     ]
    },
    {
     "name": "stderr",
     "output_type": "stream",
     "text": [
      "\r",
      " 40%|█████████████████████████████████████████████████████████▏                                                                                     | 240/600 [01:11<01:19,  4.54it/s]"
     ]
    },
    {
     "name": "stderr",
     "output_type": "stream",
     "text": [
      "\r",
      " 40%|█████████████████████████████████████████████████████████▍                                                                                     | 241/600 [01:11<01:19,  4.50it/s]"
     ]
    },
    {
     "name": "stderr",
     "output_type": "stream",
     "text": [
      "\r",
      " 40%|█████████████████████████████████████████████████████████▋                                                                                     | 242/600 [01:11<01:17,  4.60it/s]"
     ]
    },
    {
     "name": "stderr",
     "output_type": "stream",
     "text": [
      "\r",
      " 40%|█████████████████████████████████████████████████████████▉                                                                                     | 243/600 [01:11<01:15,  4.71it/s]"
     ]
    },
    {
     "name": "stderr",
     "output_type": "stream",
     "text": [
      "\r",
      " 41%|██████████████████████████████████████████████████████████▏                                                                                    | 244/600 [01:11<01:14,  4.75it/s]"
     ]
    },
    {
     "name": "stderr",
     "output_type": "stream",
     "text": [
      "\r",
      " 41%|██████████████████████████████████████████████████████████▍                                                                                    | 245/600 [01:12<01:14,  4.75it/s]"
     ]
    },
    {
     "name": "stderr",
     "output_type": "stream",
     "text": [
      "\r",
      " 41%|██████████████████████████████████████████████████████████▋                                                                                    | 246/600 [01:12<01:14,  4.77it/s]"
     ]
    },
    {
     "name": "stderr",
     "output_type": "stream",
     "text": [
      "\r",
      " 41%|██████████████████████████████████████████████████████████▊                                                                                    | 247/600 [01:12<01:13,  4.78it/s]"
     ]
    },
    {
     "name": "stderr",
     "output_type": "stream",
     "text": [
      "\r",
      " 41%|███████████████████████████████████████████████████████████                                                                                    | 248/600 [01:12<01:13,  4.82it/s]"
     ]
    },
    {
     "name": "stderr",
     "output_type": "stream",
     "text": [
      "\r",
      " 42%|███████████████████████████████████████████████████████████▎                                                                                   | 249/600 [01:12<01:15,  4.68it/s]"
     ]
    },
    {
     "name": "stderr",
     "output_type": "stream",
     "text": [
      "\r",
      " 42%|███████████████████████████████████████████████████████████▌                                                                                   | 250/600 [01:13<01:16,  4.56it/s]"
     ]
    },
    {
     "name": "stderr",
     "output_type": "stream",
     "text": [
      "\r",
      " 42%|███████████████████████████████████████████████████████████▊                                                                                   | 251/600 [01:13<01:17,  4.48it/s]"
     ]
    },
    {
     "name": "stderr",
     "output_type": "stream",
     "text": [
      "\r",
      " 42%|████████████████████████████████████████████████████████████                                                                                   | 252/600 [01:13<01:17,  4.48it/s]"
     ]
    },
    {
     "name": "stderr",
     "output_type": "stream",
     "text": [
      "\r",
      " 42%|████████████████████████████████████████████████████████████▎                                                                                  | 253/600 [01:13<01:18,  4.42it/s]"
     ]
    },
    {
     "name": "stderr",
     "output_type": "stream",
     "text": [
      "\r",
      " 42%|████████████████████████████████████████████████████████████▌                                                                                  | 254/600 [01:14<01:18,  4.40it/s]"
     ]
    },
    {
     "name": "stderr",
     "output_type": "stream",
     "text": [
      "\r",
      " 42%|████████████████████████████████████████████████████████████▊                                                                                  | 255/600 [01:14<01:18,  4.38it/s]"
     ]
    },
    {
     "name": "stderr",
     "output_type": "stream",
     "text": [
      "\r",
      " 43%|█████████████████████████████████████████████████████████████                                                                                  | 256/600 [01:14<01:18,  4.39it/s]"
     ]
    },
    {
     "name": "stderr",
     "output_type": "stream",
     "text": [
      "\r",
      " 43%|█████████████████████████████████████████████████████████████▎                                                                                 | 257/600 [01:14<01:18,  4.35it/s]"
     ]
    },
    {
     "name": "stderr",
     "output_type": "stream",
     "text": [
      "\r",
      " 43%|█████████████████████████████████████████████████████████████▍                                                                                 | 258/600 [01:14<01:19,  4.32it/s]"
     ]
    },
    {
     "name": "stderr",
     "output_type": "stream",
     "text": [
      "\r",
      " 43%|█████████████████████████████████████████████████████████████▋                                                                                 | 259/600 [01:15<01:18,  4.34it/s]"
     ]
    },
    {
     "name": "stderr",
     "output_type": "stream",
     "text": [
      "\r",
      " 43%|█████████████████████████████████████████████████████████████▉                                                                                 | 260/600 [01:15<01:18,  4.32it/s]"
     ]
    },
    {
     "name": "stderr",
     "output_type": "stream",
     "text": [
      "\r",
      " 44%|██████████████████████████████████████████████████████████████▏                                                                                | 261/600 [01:15<01:19,  4.27it/s]"
     ]
    },
    {
     "name": "stderr",
     "output_type": "stream",
     "text": [
      "\r",
      " 44%|██████████████████████████████████████████████████████████████▍                                                                                | 262/600 [01:15<01:18,  4.29it/s]"
     ]
    },
    {
     "name": "stderr",
     "output_type": "stream",
     "text": [
      "\r",
      " 44%|██████████████████████████████████████████████████████████████▋                                                                                | 263/600 [01:16<01:18,  4.32it/s]"
     ]
    },
    {
     "name": "stderr",
     "output_type": "stream",
     "text": [
      "\r",
      " 44%|██████████████████████████████████████████████████████████████▉                                                                                | 264/600 [01:16<01:17,  4.33it/s]"
     ]
    },
    {
     "name": "stderr",
     "output_type": "stream",
     "text": [
      "\r",
      " 44%|███████████████████████████████████████████████████████████████▏                                                                               | 265/600 [01:16<01:17,  4.32it/s]"
     ]
    },
    {
     "name": "stderr",
     "output_type": "stream",
     "text": [
      "\r",
      " 44%|███████████████████████████████████████████████████████████████▍                                                                               | 266/600 [01:16<01:17,  4.33it/s]"
     ]
    },
    {
     "name": "stderr",
     "output_type": "stream",
     "text": [
      "\r",
      " 44%|███████████████████████████████████████████████████████████████▋                                                                               | 267/600 [01:17<01:16,  4.33it/s]"
     ]
    },
    {
     "name": "stderr",
     "output_type": "stream",
     "text": [
      "\r",
      " 45%|███████████████████████████████████████████████████████████████▊                                                                               | 268/600 [01:17<01:16,  4.32it/s]"
     ]
    },
    {
     "name": "stderr",
     "output_type": "stream",
     "text": [
      "\r",
      " 45%|████████████████████████████████████████████████████████████████                                                                               | 269/600 [01:17<01:16,  4.32it/s]"
     ]
    },
    {
     "name": "stderr",
     "output_type": "stream",
     "text": [
      "\r",
      " 45%|████████████████████████████████████████████████████████████████▎                                                                              | 270/600 [01:17<01:16,  4.31it/s]"
     ]
    },
    {
     "name": "stderr",
     "output_type": "stream",
     "text": [
      "\r",
      " 45%|████████████████████████████████████████████████████████████████▌                                                                              | 271/600 [01:17<01:14,  4.43it/s]"
     ]
    },
    {
     "name": "stderr",
     "output_type": "stream",
     "text": [
      "\r",
      " 45%|████████████████████████████████████████████████████████████████▊                                                                              | 272/600 [01:18<01:14,  4.38it/s]"
     ]
    },
    {
     "name": "stderr",
     "output_type": "stream",
     "text": [
      "\r",
      " 46%|█████████████████████████████████████████████████████████████████                                                                              | 273/600 [01:18<01:14,  4.37it/s]"
     ]
    },
    {
     "name": "stderr",
     "output_type": "stream",
     "text": [
      "\r",
      " 46%|█████████████████████████████████████████████████████████████████▎                                                                             | 274/600 [01:18<01:14,  4.35it/s]"
     ]
    },
    {
     "name": "stderr",
     "output_type": "stream",
     "text": [
      "\r",
      " 46%|█████████████████████████████████████████████████████████████████▌                                                                             | 275/600 [01:18<01:14,  4.36it/s]"
     ]
    },
    {
     "name": "stderr",
     "output_type": "stream",
     "text": [
      "\r",
      " 46%|█████████████████████████████████████████████████████████████████▊                                                                             | 276/600 [01:19<01:11,  4.50it/s]"
     ]
    },
    {
     "name": "stderr",
     "output_type": "stream",
     "text": [
      "\r",
      " 46%|██████████████████████████████████████████████████████████████████                                                                             | 277/600 [01:19<01:10,  4.61it/s]"
     ]
    },
    {
     "name": "stderr",
     "output_type": "stream",
     "text": [
      "\r",
      " 46%|██████████████████████████████████████████████████████████████████▎                                                                            | 278/600 [01:19<01:08,  4.69it/s]"
     ]
    },
    {
     "name": "stderr",
     "output_type": "stream",
     "text": [
      "\r",
      " 46%|██████████████████████████████████████████████████████████████████▍                                                                            | 279/600 [01:19<01:07,  4.77it/s]"
     ]
    },
    {
     "name": "stderr",
     "output_type": "stream",
     "text": [
      "\r",
      " 47%|██████████████████████████████████████████████████████████████████▋                                                                            | 280/600 [01:19<01:06,  4.82it/s]"
     ]
    },
    {
     "name": "stderr",
     "output_type": "stream",
     "text": [
      "\r",
      " 47%|██████████████████████████████████████████████████████████████████▉                                                                            | 281/600 [01:20<01:05,  4.84it/s]"
     ]
    },
    {
     "name": "stderr",
     "output_type": "stream",
     "text": [
      "\r",
      " 47%|███████████████████████████████████████████████████████████████████▏                                                                           | 282/600 [01:20<01:05,  4.85it/s]"
     ]
    },
    {
     "name": "stderr",
     "output_type": "stream",
     "text": [
      "\r",
      " 47%|███████████████████████████████████████████████████████████████████▍                                                                           | 283/600 [01:20<01:04,  4.89it/s]"
     ]
    },
    {
     "name": "stderr",
     "output_type": "stream",
     "text": [
      "\r",
      " 47%|███████████████████████████████████████████████████████████████████▋                                                                           | 284/600 [01:20<01:04,  4.88it/s]"
     ]
    },
    {
     "name": "stderr",
     "output_type": "stream",
     "text": [
      "\r",
      " 48%|███████████████████████████████████████████████████████████████████▉                                                                           | 285/600 [01:20<01:04,  4.85it/s]"
     ]
    },
    {
     "name": "stderr",
     "output_type": "stream",
     "text": [
      "\r",
      " 48%|████████████████████████████████████████████████████████████████████▏                                                                          | 286/600 [01:21<01:04,  4.85it/s]"
     ]
    },
    {
     "name": "stderr",
     "output_type": "stream",
     "text": [
      "\r",
      " 48%|████████████████████████████████████████████████████████████████████▍                                                                          | 287/600 [01:21<01:04,  4.85it/s]"
     ]
    },
    {
     "name": "stderr",
     "output_type": "stream",
     "text": [
      "\r",
      " 48%|████████████████████████████████████████████████████████████████████▋                                                                          | 288/600 [01:21<01:03,  4.88it/s]"
     ]
    },
    {
     "name": "stderr",
     "output_type": "stream",
     "text": [
      "\r",
      " 48%|████████████████████████████████████████████████████████████████████▉                                                                          | 289/600 [01:21<01:03,  4.91it/s]"
     ]
    },
    {
     "name": "stderr",
     "output_type": "stream",
     "text": [
      "\r",
      " 48%|█████████████████████████████████████████████████████████████████████                                                                          | 290/600 [01:21<01:03,  4.87it/s]"
     ]
    },
    {
     "name": "stderr",
     "output_type": "stream",
     "text": [
      "\r",
      " 48%|█████████████████████████████████████████████████████████████████████▎                                                                         | 291/600 [01:22<01:03,  4.87it/s]"
     ]
    },
    {
     "name": "stderr",
     "output_type": "stream",
     "text": [
      "\r",
      " 49%|█████████████████████████████████████████████████████████████████████▌                                                                         | 292/600 [01:22<01:02,  4.90it/s]"
     ]
    },
    {
     "name": "stderr",
     "output_type": "stream",
     "text": [
      "\r",
      " 49%|█████████████████████████████████████████████████████████████████████▊                                                                         | 293/600 [01:22<01:02,  4.90it/s]"
     ]
    },
    {
     "name": "stderr",
     "output_type": "stream",
     "text": [
      "\r",
      " 49%|██████████████████████████████████████████████████████████████████████                                                                         | 294/600 [01:22<01:02,  4.91it/s]"
     ]
    },
    {
     "name": "stderr",
     "output_type": "stream",
     "text": [
      "\r",
      " 49%|██████████████████████████████████████████████████████████████████████▎                                                                        | 295/600 [01:22<01:01,  4.92it/s]"
     ]
    },
    {
     "name": "stderr",
     "output_type": "stream",
     "text": [
      "\r",
      " 49%|██████████████████████████████████████████████████████████████████████▌                                                                        | 296/600 [01:23<01:01,  4.91it/s]"
     ]
    },
    {
     "name": "stderr",
     "output_type": "stream",
     "text": [
      "\r",
      " 50%|██████████████████████████████████████████████████████████████████████▊                                                                        | 297/600 [01:23<01:02,  4.88it/s]"
     ]
    },
    {
     "name": "stderr",
     "output_type": "stream",
     "text": [
      "\r",
      " 50%|███████████████████████████████████████████████████████████████████████                                                                        | 298/600 [01:23<01:01,  4.90it/s]"
     ]
    },
    {
     "name": "stderr",
     "output_type": "stream",
     "text": [
      "\r",
      " 50%|███████████████████████████████████████████████████████████████████████▎                                                                       | 299/600 [01:23<01:01,  4.92it/s]"
     ]
    },
    {
     "name": "stderr",
     "output_type": "stream",
     "text": [
      "\r",
      " 50%|███████████████████████████████████████████████████████████████████████▌                                                                       | 300/600 [01:24<01:01,  4.91it/s]"
     ]
    },
    {
     "name": "stderr",
     "output_type": "stream",
     "text": [
      "\r",
      " 50%|███████████████████████████████████████████████████████████████████████▋                                                                       | 301/600 [01:24<01:01,  4.82it/s]"
     ]
    },
    {
     "name": "stderr",
     "output_type": "stream",
     "text": [
      "\r",
      " 50%|███████████████████████████████████████████████████████████████████████▉                                                                       | 302/600 [01:24<01:01,  4.83it/s]"
     ]
    },
    {
     "name": "stderr",
     "output_type": "stream",
     "text": [
      "\r",
      " 50%|████████████████████████████████████████████████████████████████████████▏                                                                      | 303/600 [01:24<01:01,  4.86it/s]"
     ]
    },
    {
     "name": "stderr",
     "output_type": "stream",
     "text": [
      "\r",
      " 51%|████████████████████████████████████████████████████████████████████████▍                                                                      | 304/600 [01:24<01:01,  4.80it/s]"
     ]
    },
    {
     "name": "stderr",
     "output_type": "stream",
     "text": [
      "\r",
      " 51%|████████████████████████████████████████████████████████████████████████▋                                                                      | 305/600 [01:25<01:01,  4.81it/s]"
     ]
    },
    {
     "name": "stderr",
     "output_type": "stream",
     "text": [
      "\r",
      " 51%|████████████████████████████████████████████████████████████████████████▉                                                                      | 306/600 [01:25<01:01,  4.79it/s]"
     ]
    },
    {
     "name": "stderr",
     "output_type": "stream",
     "text": [
      "\r",
      " 51%|█████████████████████████████████████████████████████████████████████████▏                                                                     | 307/600 [01:25<01:03,  4.64it/s]"
     ]
    },
    {
     "name": "stderr",
     "output_type": "stream",
     "text": [
      "\r",
      " 51%|█████████████████████████████████████████████████████████████████████████▍                                                                     | 308/600 [01:25<01:05,  4.45it/s]"
     ]
    },
    {
     "name": "stderr",
     "output_type": "stream",
     "text": [
      "\r",
      " 52%|█████████████████████████████████████████████████████████████████████████▋                                                                     | 309/600 [01:25<01:06,  4.39it/s]"
     ]
    },
    {
     "name": "stderr",
     "output_type": "stream",
     "text": [
      "\r",
      " 52%|█████████████████████████████████████████████████████████████████████████▉                                                                     | 310/600 [01:26<01:06,  4.38it/s]"
     ]
    },
    {
     "name": "stderr",
     "output_type": "stream",
     "text": [
      "\r",
      " 52%|██████████████████████████████████████████████████████████████████████████                                                                     | 311/600 [01:26<01:06,  4.35it/s]"
     ]
    },
    {
     "name": "stderr",
     "output_type": "stream",
     "text": [
      "\r",
      " 52%|██████████████████████████████████████████████████████████████████████████▎                                                                    | 312/600 [01:26<01:05,  4.37it/s]"
     ]
    },
    {
     "name": "stderr",
     "output_type": "stream",
     "text": [
      "\r",
      " 52%|██████████████████████████████████████████████████████████████████████████▌                                                                    | 313/600 [01:26<01:03,  4.51it/s]"
     ]
    },
    {
     "name": "stderr",
     "output_type": "stream",
     "text": [
      "\r",
      " 52%|██████████████████████████████████████████████████████████████████████████▊                                                                    | 314/600 [01:27<01:01,  4.62it/s]"
     ]
    },
    {
     "name": "stderr",
     "output_type": "stream",
     "text": [
      "\r",
      " 52%|███████████████████████████████████████████████████████████████████████████                                                                    | 315/600 [01:27<01:00,  4.71it/s]"
     ]
    },
    {
     "name": "stderr",
     "output_type": "stream",
     "text": [
      "\r",
      " 53%|███████████████████████████████████████████████████████████████████████████▎                                                                   | 316/600 [01:27<00:59,  4.74it/s]"
     ]
    },
    {
     "name": "stderr",
     "output_type": "stream",
     "text": [
      "\r",
      " 53%|███████████████████████████████████████████████████████████████████████████▌                                                                   | 317/600 [01:27<01:01,  4.59it/s]"
     ]
    },
    {
     "name": "stderr",
     "output_type": "stream",
     "text": [
      "\r",
      " 53%|███████████████████████████████████████████████████████████████████████████▊                                                                   | 318/600 [01:27<01:02,  4.54it/s]"
     ]
    },
    {
     "name": "stderr",
     "output_type": "stream",
     "text": [
      "\r",
      " 53%|████████████████████████████████████████████████████████████████████████████                                                                   | 319/600 [01:28<01:02,  4.48it/s]"
     ]
    },
    {
     "name": "stderr",
     "output_type": "stream",
     "text": [
      "\r",
      " 53%|████████████████████████████████████████████████████████████████████████████▎                                                                  | 320/600 [01:28<01:03,  4.43it/s]"
     ]
    },
    {
     "name": "stderr",
     "output_type": "stream",
     "text": [
      "\r",
      " 54%|████████████████████████████████████████████████████████████████████████████▌                                                                  | 321/600 [01:28<01:03,  4.40it/s]"
     ]
    },
    {
     "name": "stderr",
     "output_type": "stream",
     "text": [
      "\r",
      " 54%|████████████████████████████████████████████████████████████████████████████▋                                                                  | 322/600 [01:28<01:02,  4.47it/s]"
     ]
    },
    {
     "name": "stderr",
     "output_type": "stream",
     "text": [
      "\r",
      " 54%|████████████████████████████████████████████████████████████████████████████▉                                                                  | 323/600 [01:29<01:02,  4.45it/s]"
     ]
    },
    {
     "name": "stderr",
     "output_type": "stream",
     "text": [
      "\r",
      " 54%|█████████████████████████████████████████████████████████████████████████████▏                                                                 | 324/600 [01:29<01:02,  4.40it/s]"
     ]
    },
    {
     "name": "stderr",
     "output_type": "stream",
     "text": [
      "\r",
      " 54%|█████████████████████████████████████████████████████████████████████████████▍                                                                 | 325/600 [01:29<01:03,  4.36it/s]"
     ]
    },
    {
     "name": "stderr",
     "output_type": "stream",
     "text": [
      "\r",
      " 54%|█████████████████████████████████████████████████████████████████████████████▋                                                                 | 326/600 [01:29<01:03,  4.35it/s]"
     ]
    },
    {
     "name": "stderr",
     "output_type": "stream",
     "text": [
      "\r",
      " 55%|█████████████████████████████████████████████████████████████████████████████▉                                                                 | 327/600 [01:30<01:01,  4.41it/s]"
     ]
    },
    {
     "name": "stderr",
     "output_type": "stream",
     "text": [
      "\r",
      " 55%|██████████████████████████████████████████████████████████████████████████████▏                                                                | 328/600 [01:30<01:01,  4.41it/s]"
     ]
    },
    {
     "name": "stderr",
     "output_type": "stream",
     "text": [
      "\r",
      " 55%|██████████████████████████████████████████████████████████████████████████████▍                                                                | 329/600 [01:30<01:01,  4.37it/s]"
     ]
    },
    {
     "name": "stderr",
     "output_type": "stream",
     "text": [
      "\r",
      " 55%|██████████████████████████████████████████████████████████████████████████████▋                                                                | 330/600 [01:30<01:00,  4.49it/s]"
     ]
    },
    {
     "name": "stderr",
     "output_type": "stream",
     "text": [
      "\r",
      " 55%|██████████████████████████████████████████████████████████████████████████████▉                                                                | 331/600 [01:30<00:58,  4.60it/s]"
     ]
    },
    {
     "name": "stderr",
     "output_type": "stream",
     "text": [
      "\r",
      " 55%|███████████████████████████████████████████████████████████████████████████████▏                                                               | 332/600 [01:31<00:57,  4.64it/s]"
     ]
    },
    {
     "name": "stderr",
     "output_type": "stream",
     "text": [
      "\r",
      " 56%|███████████████████████████████████████████████████████████████████████████████▎                                                               | 333/600 [01:31<00:56,  4.72it/s]"
     ]
    },
    {
     "name": "stderr",
     "output_type": "stream",
     "text": [
      "\r",
      " 56%|███████████████████████████████████████████████████████████████████████████████▌                                                               | 334/600 [01:31<00:55,  4.77it/s]"
     ]
    },
    {
     "name": "stderr",
     "output_type": "stream",
     "text": [
      "\r",
      " 56%|███████████████████████████████████████████████████████████████████████████████▊                                                               | 335/600 [01:31<00:55,  4.80it/s]"
     ]
    },
    {
     "name": "stderr",
     "output_type": "stream",
     "text": [
      "\r",
      " 56%|████████████████████████████████████████████████████████████████████████████████                                                               | 336/600 [01:31<00:54,  4.85it/s]"
     ]
    },
    {
     "name": "stderr",
     "output_type": "stream",
     "text": [
      "\r",
      " 56%|████████████████████████████████████████████████████████████████████████████████▎                                                              | 337/600 [01:32<00:54,  4.82it/s]"
     ]
    },
    {
     "name": "stderr",
     "output_type": "stream",
     "text": [
      "\r",
      " 56%|████████████████████████████████████████████████████████████████████████████████▌                                                              | 338/600 [01:32<00:54,  4.83it/s]"
     ]
    },
    {
     "name": "stderr",
     "output_type": "stream",
     "text": [
      "\r",
      " 56%|████████████████████████████████████████████████████████████████████████████████▊                                                              | 339/600 [01:32<00:55,  4.72it/s]"
     ]
    },
    {
     "name": "stderr",
     "output_type": "stream",
     "text": [
      "\r",
      " 57%|█████████████████████████████████████████████████████████████████████████████████                                                              | 340/600 [01:32<00:56,  4.60it/s]"
     ]
    },
    {
     "name": "stderr",
     "output_type": "stream",
     "text": [
      "\r",
      " 57%|█████████████████████████████████████████████████████████████████████████████████▎                                                             | 341/600 [01:33<00:57,  4.53it/s]"
     ]
    },
    {
     "name": "stderr",
     "output_type": "stream",
     "text": [
      "\r",
      " 57%|█████████████████████████████████████████████████████████████████████████████████▌                                                             | 342/600 [01:33<00:57,  4.46it/s]"
     ]
    },
    {
     "name": "stderr",
     "output_type": "stream",
     "text": [
      "\r",
      " 57%|█████████████████████████████████████████████████████████████████████████████████▋                                                             | 343/600 [01:33<00:56,  4.54it/s]"
     ]
    },
    {
     "name": "stderr",
     "output_type": "stream",
     "text": [
      "\r",
      " 57%|█████████████████████████████████████████████████████████████████████████████████▉                                                             | 344/600 [01:33<00:55,  4.57it/s]"
     ]
    },
    {
     "name": "stderr",
     "output_type": "stream",
     "text": [
      "\r",
      " 57%|██████████████████████████████████████████████████████████████████████████████████▏                                                            | 345/600 [01:33<00:56,  4.52it/s]"
     ]
    },
    {
     "name": "stderr",
     "output_type": "stream",
     "text": [
      "\r",
      " 58%|██████████████████████████████████████████████████████████████████████████████████▍                                                            | 346/600 [01:34<00:56,  4.46it/s]"
     ]
    },
    {
     "name": "stderr",
     "output_type": "stream",
     "text": [
      "\r",
      " 58%|██████████████████████████████████████████████████████████████████████████████████▋                                                            | 347/600 [01:34<00:57,  4.42it/s]"
     ]
    },
    {
     "name": "stderr",
     "output_type": "stream",
     "text": [
      "\r",
      " 58%|██████████████████████████████████████████████████████████████████████████████████▉                                                            | 348/600 [01:34<00:57,  4.42it/s]"
     ]
    },
    {
     "name": "stderr",
     "output_type": "stream",
     "text": [
      "\r",
      " 58%|███████████████████████████████████████████████████████████████████████████████████▏                                                           | 349/600 [01:34<00:56,  4.45it/s]"
     ]
    },
    {
     "name": "stderr",
     "output_type": "stream",
     "text": [
      "\r",
      " 58%|███████████████████████████████████████████████████████████████████████████████████▍                                                           | 350/600 [01:35<00:56,  4.40it/s]"
     ]
    },
    {
     "name": "stderr",
     "output_type": "stream",
     "text": [
      "\r",
      " 58%|███████████████████████████████████████████████████████████████████████████████████▋                                                           | 351/600 [01:35<00:56,  4.39it/s]"
     ]
    },
    {
     "name": "stderr",
     "output_type": "stream",
     "text": [
      "\r",
      " 59%|███████████████████████████████████████████████████████████████████████████████████▉                                                           | 352/600 [01:35<00:56,  4.39it/s]"
     ]
    },
    {
     "name": "stderr",
     "output_type": "stream",
     "text": [
      "\r",
      " 59%|████████████████████████████████████████████████████████████████████████████████████▏                                                          | 353/600 [01:35<00:56,  4.33it/s]"
     ]
    },
    {
     "name": "stderr",
     "output_type": "stream",
     "text": [
      "\r",
      " 59%|████████████████████████████████████████████████████████████████████████████████████▎                                                          | 354/600 [01:35<00:56,  4.35it/s]"
     ]
    },
    {
     "name": "stderr",
     "output_type": "stream",
     "text": [
      "\r",
      " 59%|████████████████████████████████████████████████████████████████████████████████████▌                                                          | 355/600 [01:36<00:57,  4.23it/s]"
     ]
    },
    {
     "name": "stderr",
     "output_type": "stream",
     "text": [
      "\r",
      " 59%|████████████████████████████████████████████████████████████████████████████████████▊                                                          | 356/600 [01:36<00:57,  4.24it/s]"
     ]
    },
    {
     "name": "stderr",
     "output_type": "stream",
     "text": [
      "\r",
      " 60%|█████████████████████████████████████████████████████████████████████████████████████                                                          | 357/600 [01:36<00:57,  4.25it/s]"
     ]
    },
    {
     "name": "stderr",
     "output_type": "stream",
     "text": [
      "\r",
      " 60%|█████████████████████████████████████████████████████████████████████████████████████▎                                                         | 358/600 [01:36<00:55,  4.38it/s]"
     ]
    },
    {
     "name": "stderr",
     "output_type": "stream",
     "text": [
      "\r",
      " 60%|█████████████████████████████████████████████████████████████████████████████████████▌                                                         | 359/600 [01:37<00:53,  4.47it/s]"
     ]
    },
    {
     "name": "stderr",
     "output_type": "stream",
     "text": [
      "\r",
      " 60%|█████████████████████████████████████████████████████████████████████████████████████▊                                                         | 360/600 [01:37<00:53,  4.50it/s]"
     ]
    },
    {
     "name": "stderr",
     "output_type": "stream",
     "text": [
      "\r",
      " 60%|██████████████████████████████████████████████████████████████████████████████████████                                                         | 361/600 [01:37<00:51,  4.60it/s]"
     ]
    },
    {
     "name": "stderr",
     "output_type": "stream",
     "text": [
      "\r",
      " 60%|██████████████████████████████████████████████████████████████████████████████████████▎                                                        | 362/600 [01:37<00:50,  4.68it/s]"
     ]
    },
    {
     "name": "stderr",
     "output_type": "stream",
     "text": [
      "\r",
      " 60%|██████████████████████████████████████████████████████████████████████████████████████▌                                                        | 363/600 [01:37<00:49,  4.75it/s]"
     ]
    },
    {
     "name": "stderr",
     "output_type": "stream",
     "text": [
      "\r",
      " 61%|██████████████████████████████████████████████████████████████████████████████████████▊                                                        | 364/600 [01:38<00:49,  4.75it/s]"
     ]
    },
    {
     "name": "stderr",
     "output_type": "stream",
     "text": [
      "\r",
      " 61%|██████████████████████████████████████████████████████████████████████████████████████▉                                                        | 365/600 [01:38<00:49,  4.72it/s]"
     ]
    },
    {
     "name": "stderr",
     "output_type": "stream",
     "text": [
      "\r",
      " 61%|███████████████████████████████████████████████████████████████████████████████████████▏                                                       | 366/600 [01:38<00:50,  4.59it/s]"
     ]
    },
    {
     "name": "stderr",
     "output_type": "stream",
     "text": [
      "\r",
      " 61%|███████████████████████████████████████████████████████████████████████████████████████▍                                                       | 367/600 [01:38<00:51,  4.52it/s]"
     ]
    },
    {
     "name": "stderr",
     "output_type": "stream",
     "text": [
      "\r",
      " 61%|███████████████████████████████████████████████████████████████████████████████████████▋                                                       | 368/600 [01:39<00:52,  4.44it/s]"
     ]
    },
    {
     "name": "stderr",
     "output_type": "stream",
     "text": [
      "\r",
      " 62%|███████████████████████████████████████████████████████████████████████████████████████▉                                                       | 369/600 [01:39<00:52,  4.40it/s]"
     ]
    },
    {
     "name": "stderr",
     "output_type": "stream",
     "text": [
      "\r",
      " 62%|████████████████████████████████████████████████████████████████████████████████████████▏                                                      | 370/600 [01:39<00:51,  4.50it/s]"
     ]
    },
    {
     "name": "stderr",
     "output_type": "stream",
     "text": [
      "\r",
      " 62%|████████████████████████████████████████████████████████████████████████████████████████▍                                                      | 371/600 [01:39<00:51,  4.47it/s]"
     ]
    },
    {
     "name": "stderr",
     "output_type": "stream",
     "text": [
      "\r",
      " 62%|████████████████████████████████████████████████████████████████████████████████████████▋                                                      | 372/600 [01:39<00:51,  4.42it/s]"
     ]
    },
    {
     "name": "stderr",
     "output_type": "stream",
     "text": [
      "\r",
      " 62%|████████████████████████████████████████████████████████████████████████████████████████▉                                                      | 373/600 [01:40<00:52,  4.35it/s]"
     ]
    },
    {
     "name": "stderr",
     "output_type": "stream",
     "text": [
      "\r",
      " 62%|█████████████████████████████████████████████████████████████████████████████████████████▏                                                     | 374/600 [01:40<00:51,  4.38it/s]"
     ]
    },
    {
     "name": "stderr",
     "output_type": "stream",
     "text": [
      "\r",
      " 62%|█████████████████████████████████████████████████████████████████████████████████████████▍                                                     | 375/600 [01:40<00:50,  4.48it/s]"
     ]
    },
    {
     "name": "stderr",
     "output_type": "stream",
     "text": [
      "\r",
      " 63%|█████████████████████████████████████████████████████████████████████████████████████████▌                                                     | 376/600 [01:40<00:49,  4.50it/s]"
     ]
    },
    {
     "name": "stderr",
     "output_type": "stream",
     "text": [
      "\r",
      " 63%|█████████████████████████████████████████████████████████████████████████████████████████▊                                                     | 377/600 [01:41<00:49,  4.46it/s]"
     ]
    },
    {
     "name": "stderr",
     "output_type": "stream",
     "text": [
      "\r",
      " 63%|██████████████████████████████████████████████████████████████████████████████████████████                                                     | 378/600 [01:41<00:50,  4.42it/s]"
     ]
    },
    {
     "name": "stderr",
     "output_type": "stream",
     "text": [
      "\r",
      " 63%|██████████████████████████████████████████████████████████████████████████████████████████▎                                                    | 379/600 [01:41<00:50,  4.39it/s]"
     ]
    },
    {
     "name": "stderr",
     "output_type": "stream",
     "text": [
      "\r",
      " 63%|██████████████████████████████████████████████████████████████████████████████████████████▌                                                    | 380/600 [01:41<00:49,  4.46it/s]"
     ]
    },
    {
     "name": "stderr",
     "output_type": "stream",
     "text": [
      "\r",
      " 64%|██████████████████████████████████████████████████████████████████████████████████████████▊                                                    | 381/600 [01:41<00:49,  4.44it/s]"
     ]
    },
    {
     "name": "stderr",
     "output_type": "stream",
     "text": [
      "\r",
      " 64%|███████████████████████████████████████████████████████████████████████████████████████████                                                    | 382/600 [01:42<00:49,  4.43it/s]"
     ]
    },
    {
     "name": "stderr",
     "output_type": "stream",
     "text": [
      "\r",
      " 64%|███████████████████████████████████████████████████████████████████████████████████████████▎                                                   | 383/600 [01:42<00:49,  4.42it/s]"
     ]
    },
    {
     "name": "stderr",
     "output_type": "stream",
     "text": [
      "\r",
      " 64%|███████████████████████████████████████████████████████████████████████████████████████████▌                                                   | 384/600 [01:42<00:48,  4.43it/s]"
     ]
    },
    {
     "name": "stderr",
     "output_type": "stream",
     "text": [
      "\r",
      " 64%|███████████████████████████████████████████████████████████████████████████████████████████▊                                                   | 385/600 [01:42<00:47,  4.53it/s]"
     ]
    },
    {
     "name": "stderr",
     "output_type": "stream",
     "text": [
      "\r",
      " 64%|███████████████████████████████████████████████████████████████████████████████████████████▉                                                   | 386/600 [01:43<00:46,  4.59it/s]"
     ]
    },
    {
     "name": "stderr",
     "output_type": "stream",
     "text": [
      "\r",
      " 64%|████████████████████████████████████████████████████████████████████████████████████████████▏                                                  | 387/600 [01:43<00:46,  4.59it/s]"
     ]
    },
    {
     "name": "stderr",
     "output_type": "stream",
     "text": [
      "\r",
      " 65%|████████████████████████████████████████████████████████████████████████████████████████████▍                                                  | 388/600 [01:43<00:46,  4.51it/s]"
     ]
    },
    {
     "name": "stderr",
     "output_type": "stream",
     "text": [
      "\r",
      " 65%|████████████████████████████████████████████████████████████████████████████████████████████▋                                                  | 389/600 [01:43<00:47,  4.46it/s]"
     ]
    },
    {
     "name": "stderr",
     "output_type": "stream",
     "text": [
      "\r",
      " 65%|████████████████████████████████████████████████████████████████████████████████████████████▉                                                  | 390/600 [01:43<00:47,  4.44it/s]"
     ]
    },
    {
     "name": "stderr",
     "output_type": "stream",
     "text": [
      "\r",
      " 65%|█████████████████████████████████████████████████████████████████████████████████████████████▏                                                 | 391/600 [01:44<00:47,  4.44it/s]"
     ]
    },
    {
     "name": "stderr",
     "output_type": "stream",
     "text": [
      "\r",
      " 65%|█████████████████████████████████████████████████████████████████████████████████████████████▍                                                 | 392/600 [01:44<00:45,  4.54it/s]"
     ]
    },
    {
     "name": "stderr",
     "output_type": "stream",
     "text": [
      "\r",
      " 66%|█████████████████████████████████████████████████████████████████████████████████████████████▋                                                 | 393/600 [01:44<00:45,  4.55it/s]"
     ]
    },
    {
     "name": "stderr",
     "output_type": "stream",
     "text": [
      "\r",
      " 66%|█████████████████████████████████████████████████████████████████████████████████████████████▉                                                 | 394/600 [01:44<00:45,  4.52it/s]"
     ]
    },
    {
     "name": "stderr",
     "output_type": "stream",
     "text": [
      "\r",
      " 66%|██████████████████████████████████████████████████████████████████████████████████████████████▏                                                | 395/600 [01:45<00:45,  4.50it/s]"
     ]
    },
    {
     "name": "stderr",
     "output_type": "stream",
     "text": [
      "\r",
      " 66%|██████████████████████████████████████████████████████████████████████████████████████████████▍                                                | 396/600 [01:45<00:45,  4.44it/s]"
     ]
    },
    {
     "name": "stderr",
     "output_type": "stream",
     "text": [
      "\r",
      " 66%|██████████████████████████████████████████████████████████████████████████████████████████████▌                                                | 397/600 [01:45<00:45,  4.49it/s]"
     ]
    },
    {
     "name": "stderr",
     "output_type": "stream",
     "text": [
      "\r",
      " 66%|██████████████████████████████████████████████████████████████████████████████████████████████▊                                                | 398/600 [01:45<00:45,  4.46it/s]"
     ]
    },
    {
     "name": "stderr",
     "output_type": "stream",
     "text": [
      "\r",
      " 66%|███████████████████████████████████████████████████████████████████████████████████████████████                                                | 399/600 [01:46<00:45,  4.40it/s]"
     ]
    },
    {
     "name": "stderr",
     "output_type": "stream",
     "text": [
      "\r",
      " 67%|███████████████████████████████████████████████████████████████████████████████████████████████▎                                               | 400/600 [01:46<00:45,  4.40it/s]"
     ]
    },
    {
     "name": "stderr",
     "output_type": "stream",
     "text": [
      "\r",
      " 67%|███████████████████████████████████████████████████████████████████████████████████████████████▌                                               | 401/600 [01:46<00:45,  4.40it/s]"
     ]
    },
    {
     "name": "stderr",
     "output_type": "stream",
     "text": [
      "\r",
      " 67%|███████████████████████████████████████████████████████████████████████████████████████████████▊                                               | 402/600 [01:46<00:44,  4.47it/s]"
     ]
    },
    {
     "name": "stderr",
     "output_type": "stream",
     "text": [
      "\r",
      " 67%|████████████████████████████████████████████████████████████████████████████████████████████████                                               | 403/600 [01:46<00:43,  4.56it/s]"
     ]
    },
    {
     "name": "stderr",
     "output_type": "stream",
     "text": [
      "\r",
      " 67%|████████████████████████████████████████████████████████████████████████████████████████████████▎                                              | 404/600 [01:47<00:42,  4.57it/s]"
     ]
    },
    {
     "name": "stderr",
     "output_type": "stream",
     "text": [
      "\r",
      " 68%|████████████████████████████████████████████████████████████████████████████████████████████████▌                                              | 405/600 [01:47<00:43,  4.51it/s]"
     ]
    },
    {
     "name": "stderr",
     "output_type": "stream",
     "text": [
      "\r",
      " 68%|████████████████████████████████████████████████████████████████████████████████████████████████▊                                              | 406/600 [01:47<00:43,  4.49it/s]"
     ]
    },
    {
     "name": "stderr",
     "output_type": "stream",
     "text": [
      "\r",
      " 68%|█████████████████████████████████████████████████████████████████████████████████████████████████                                              | 407/600 [01:47<00:43,  4.46it/s]"
     ]
    },
    {
     "name": "stderr",
     "output_type": "stream",
     "text": [
      "\r",
      " 68%|█████████████████████████████████████████████████████████████████████████████████████████████████▏                                             | 408/600 [01:48<00:42,  4.47it/s]"
     ]
    },
    {
     "name": "stderr",
     "output_type": "stream",
     "text": [
      "\r",
      " 68%|█████████████████████████████████████████████████████████████████████████████████████████████████▍                                             | 409/600 [01:48<00:42,  4.49it/s]"
     ]
    },
    {
     "name": "stderr",
     "output_type": "stream",
     "text": [
      "\r",
      " 68%|█████████████████████████████████████████████████████████████████████████████████████████████████▋                                             | 410/600 [01:48<00:42,  4.51it/s]"
     ]
    },
    {
     "name": "stderr",
     "output_type": "stream",
     "text": [
      "\r",
      " 68%|█████████████████████████████████████████████████████████████████████████████████████████████████▉                                             | 411/600 [01:48<00:42,  4.48it/s]"
     ]
    },
    {
     "name": "stderr",
     "output_type": "stream",
     "text": [
      "\r",
      " 69%|██████████████████████████████████████████████████████████████████████████████████████████████████▏                                            | 412/600 [01:48<00:42,  4.44it/s]"
     ]
    },
    {
     "name": "stderr",
     "output_type": "stream",
     "text": [
      "\r",
      " 69%|██████████████████████████████████████████████████████████████████████████████████████████████████▍                                            | 413/600 [01:49<00:43,  4.35it/s]"
     ]
    },
    {
     "name": "stderr",
     "output_type": "stream",
     "text": [
      "\r",
      " 69%|██████████████████████████████████████████████████████████████████████████████████████████████████▋                                            | 414/600 [01:49<00:42,  4.35it/s]"
     ]
    },
    {
     "name": "stderr",
     "output_type": "stream",
     "text": [
      "\r",
      " 69%|██████████████████████████████████████████████████████████████████████████████████████████████████▉                                            | 415/600 [01:49<00:42,  4.33it/s]"
     ]
    },
    {
     "name": "stderr",
     "output_type": "stream",
     "text": [
      "\r",
      " 69%|███████████████████████████████████████████████████████████████████████████████████████████████████▏                                           | 416/600 [01:49<00:42,  4.32it/s]"
     ]
    },
    {
     "name": "stderr",
     "output_type": "stream",
     "text": [
      "\r",
      " 70%|███████████████████████████████████████████████████████████████████████████████████████████████████▍                                           | 417/600 [01:50<00:42,  4.33it/s]"
     ]
    },
    {
     "name": "stderr",
     "output_type": "stream",
     "text": [
      "\r",
      " 70%|███████████████████████████████████████████████████████████████████████████████████████████████████▌                                           | 418/600 [01:50<00:41,  4.34it/s]"
     ]
    },
    {
     "name": "stderr",
     "output_type": "stream",
     "text": [
      "\r",
      " 70%|███████████████████████████████████████████████████████████████████████████████████████████████████▊                                           | 419/600 [01:50<00:41,  4.36it/s]"
     ]
    },
    {
     "name": "stderr",
     "output_type": "stream",
     "text": [
      "\r",
      " 70%|████████████████████████████████████████████████████████████████████████████████████████████████████                                           | 420/600 [01:50<00:41,  4.36it/s]"
     ]
    },
    {
     "name": "stderr",
     "output_type": "stream",
     "text": [
      "\r",
      " 70%|████████████████████████████████████████████████████████████████████████████████████████████████████▎                                          | 421/600 [01:50<00:41,  4.35it/s]"
     ]
    },
    {
     "name": "stderr",
     "output_type": "stream",
     "text": [
      "\r",
      " 70%|████████████████████████████████████████████████████████████████████████████████████████████████████▌                                          | 422/600 [01:51<00:40,  4.43it/s]"
     ]
    },
    {
     "name": "stderr",
     "output_type": "stream",
     "text": [
      "\r",
      " 70%|████████████████████████████████████████████████████████████████████████████████████████████████████▊                                          | 423/600 [01:51<00:39,  4.44it/s]"
     ]
    },
    {
     "name": "stderr",
     "output_type": "stream",
     "text": [
      "\r",
      " 71%|█████████████████████████████████████████████████████████████████████████████████████████████████████                                          | 424/600 [01:51<00:40,  4.40it/s]"
     ]
    },
    {
     "name": "stderr",
     "output_type": "stream",
     "text": [
      "\r",
      " 71%|█████████████████████████████████████████████████████████████████████████████████████████████████████▎                                         | 425/600 [01:51<00:39,  4.38it/s]"
     ]
    },
    {
     "name": "stderr",
     "output_type": "stream",
     "text": [
      "\r",
      " 71%|█████████████████████████████████████████████████████████████████████████████████████████████████████▌                                         | 426/600 [01:52<00:39,  4.39it/s]"
     ]
    },
    {
     "name": "stderr",
     "output_type": "stream",
     "text": [
      "\r",
      " 71%|█████████████████████████████████████████████████████████████████████████████████████████████████████▊                                         | 427/600 [01:52<00:38,  4.46it/s]"
     ]
    },
    {
     "name": "stderr",
     "output_type": "stream",
     "text": [
      "\r",
      " 71%|██████████████████████████████████████████████████████████████████████████████████████████████████████                                         | 428/600 [01:52<00:38,  4.44it/s]"
     ]
    },
    {
     "name": "stderr",
     "output_type": "stream",
     "text": [
      "\r",
      " 72%|██████████████████████████████████████████████████████████████████████████████████████████████████████▏                                        | 429/600 [01:52<00:38,  4.44it/s]"
     ]
    },
    {
     "name": "stderr",
     "output_type": "stream",
     "text": [
      "\r",
      " 72%|██████████████████████████████████████████████████████████████████████████████████████████████████████▍                                        | 430/600 [01:53<00:38,  4.40it/s]"
     ]
    },
    {
     "name": "stderr",
     "output_type": "stream",
     "text": [
      "\r",
      " 72%|██████████████████████████████████████████████████████████████████████████████████████████████████████▋                                        | 431/600 [01:53<00:38,  4.40it/s]"
     ]
    },
    {
     "name": "stderr",
     "output_type": "stream",
     "text": [
      "\r",
      " 72%|██████████████████████████████████████████████████████████████████████████████████████████████████████▉                                        | 432/600 [01:53<00:37,  4.45it/s]"
     ]
    },
    {
     "name": "stderr",
     "output_type": "stream",
     "text": [
      "\r",
      " 72%|███████████████████████████████████████████████████████████████████████████████████████████████████████▏                                       | 433/600 [01:53<00:37,  4.42it/s]"
     ]
    },
    {
     "name": "stderr",
     "output_type": "stream",
     "text": [
      "\r",
      " 72%|███████████████████████████████████████████████████████████████████████████████████████████████████████▍                                       | 434/600 [01:53<00:37,  4.41it/s]"
     ]
    },
    {
     "name": "stderr",
     "output_type": "stream",
     "text": [
      "\r",
      " 72%|███████████████████████████████████████████████████████████████████████████████████████████████████████▋                                       | 435/600 [01:54<00:37,  4.37it/s]"
     ]
    },
    {
     "name": "stderr",
     "output_type": "stream",
     "text": [
      "\r",
      " 73%|███████████████████████████████████████████████████████████████████████████████████████████████████████▉                                       | 436/600 [01:54<00:37,  4.34it/s]"
     ]
    },
    {
     "name": "stderr",
     "output_type": "stream",
     "text": [
      "\r",
      " 73%|████████████████████████████████████████████████████████████████████████████████████████████████████████▏                                      | 437/600 [01:54<00:37,  4.32it/s]"
     ]
    },
    {
     "name": "stderr",
     "output_type": "stream",
     "text": [
      "\r",
      " 73%|████████████████████████████████████████████████████████████████████████████████████████████████████████▍                                      | 438/600 [01:54<00:37,  4.31it/s]"
     ]
    },
    {
     "name": "stderr",
     "output_type": "stream",
     "text": [
      "\r",
      " 73%|████████████████████████████████████████████████████████████████████████████████████████████████████████▋                                      | 439/600 [01:55<00:37,  4.28it/s]"
     ]
    },
    {
     "name": "stderr",
     "output_type": "stream",
     "text": [
      "\r",
      " 73%|████████████████████████████████████████████████████████████████████████████████████████████████████████▊                                      | 440/600 [01:55<00:37,  4.30it/s]"
     ]
    },
    {
     "name": "stderr",
     "output_type": "stream",
     "text": [
      "\r",
      " 74%|█████████████████████████████████████████████████████████████████████████████████████████████████████████                                      | 441/600 [01:55<00:36,  4.35it/s]"
     ]
    },
    {
     "name": "stderr",
     "output_type": "stream",
     "text": [
      "\r",
      " 74%|█████████████████████████████████████████████████████████████████████████████████████████████████████████▎                                     | 442/600 [01:55<00:35,  4.43it/s]"
     ]
    },
    {
     "name": "stderr",
     "output_type": "stream",
     "text": [
      "\r",
      " 74%|█████████████████████████████████████████████████████████████████████████████████████████████████████████▌                                     | 443/600 [01:56<00:36,  4.31it/s]"
     ]
    },
    {
     "name": "stderr",
     "output_type": "stream",
     "text": [
      "\r",
      " 74%|█████████████████████████████████████████████████████████████████████████████████████████████████████████▊                                     | 444/600 [01:56<00:36,  4.30it/s]"
     ]
    },
    {
     "name": "stderr",
     "output_type": "stream",
     "text": [
      "\r",
      " 74%|██████████████████████████████████████████████████████████████████████████████████████████████████████████                                     | 445/600 [01:56<00:35,  4.31it/s]"
     ]
    },
    {
     "name": "stderr",
     "output_type": "stream",
     "text": [
      "\r",
      " 74%|██████████████████████████████████████████████████████████████████████████████████████████████████████████▎                                    | 446/600 [01:56<00:35,  4.30it/s]"
     ]
    },
    {
     "name": "stderr",
     "output_type": "stream",
     "text": [
      "\r",
      " 74%|██████████████████████████████████████████████████████████████████████████████████████████████████████████▌                                    | 447/600 [01:56<00:35,  4.31it/s]"
     ]
    },
    {
     "name": "stderr",
     "output_type": "stream",
     "text": [
      "\r",
      " 75%|██████████████████████████████████████████████████████████████████████████████████████████████████████████▊                                    | 448/600 [01:57<00:35,  4.33it/s]"
     ]
    },
    {
     "name": "stderr",
     "output_type": "stream",
     "text": [
      "\r",
      " 75%|███████████████████████████████████████████████████████████████████████████████████████████████████████████                                    | 449/600 [01:57<00:34,  4.36it/s]"
     ]
    },
    {
     "name": "stderr",
     "output_type": "stream",
     "text": [
      "\r",
      " 75%|███████████████████████████████████████████████████████████████████████████████████████████████████████████▎                                   | 450/600 [01:57<00:34,  4.34it/s]"
     ]
    },
    {
     "name": "stderr",
     "output_type": "stream",
     "text": [
      "\r",
      " 75%|███████████████████████████████████████████████████████████████████████████████████████████████████████████▍                                   | 451/600 [01:57<00:34,  4.37it/s]"
     ]
    },
    {
     "name": "stderr",
     "output_type": "stream",
     "text": [
      "\r",
      " 75%|███████████████████████████████████████████████████████████████████████████████████████████████████████████▋                                   | 452/600 [01:58<00:32,  4.52it/s]"
     ]
    },
    {
     "name": "stderr",
     "output_type": "stream",
     "text": [
      "\r",
      " 76%|███████████████████████████████████████████████████████████████████████████████████████████████████████████▉                                   | 453/600 [01:58<00:31,  4.63it/s]"
     ]
    },
    {
     "name": "stderr",
     "output_type": "stream",
     "text": [
      "\r",
      " 76%|████████████████████████████████████████████████████████████████████████████████████████████████████████████▏                                  | 454/600 [01:58<00:30,  4.72it/s]"
     ]
    },
    {
     "name": "stderr",
     "output_type": "stream",
     "text": [
      "\r",
      " 76%|████████████████████████████████████████████████████████████████████████████████████████████████████████████▍                                  | 455/600 [01:58<00:30,  4.72it/s]"
     ]
    },
    {
     "name": "stderr",
     "output_type": "stream",
     "text": [
      "\r",
      " 76%|████████████████████████████████████████████████████████████████████████████████████████████████████████████▋                                  | 456/600 [01:58<00:30,  4.73it/s]"
     ]
    },
    {
     "name": "stderr",
     "output_type": "stream",
     "text": [
      "\r",
      " 76%|████████████████████████████████████████████████████████████████████████████████████████████████████████████▉                                  | 457/600 [01:59<00:31,  4.60it/s]"
     ]
    },
    {
     "name": "stderr",
     "output_type": "stream",
     "text": [
      "\r",
      " 76%|█████████████████████████████████████████████████████████████████████████████████████████████████████████████▏                                 | 458/600 [01:59<00:31,  4.54it/s]"
     ]
    },
    {
     "name": "stderr",
     "output_type": "stream",
     "text": [
      "\r",
      " 76%|█████████████████████████████████████████████████████████████████████████████████████████████████████████████▍                                 | 459/600 [01:59<00:31,  4.47it/s]"
     ]
    },
    {
     "name": "stderr",
     "output_type": "stream",
     "text": [
      "\r",
      " 77%|█████████████████████████████████████████████████████████████████████████████████████████████████████████████▋                                 | 460/600 [01:59<00:31,  4.39it/s]"
     ]
    },
    {
     "name": "stderr",
     "output_type": "stream",
     "text": [
      "\r",
      " 77%|█████████████████████████████████████████████████████████████████████████████████████████████████████████████▊                                 | 461/600 [02:00<00:31,  4.36it/s]"
     ]
    },
    {
     "name": "stderr",
     "output_type": "stream",
     "text": [
      "\r",
      " 77%|██████████████████████████████████████████████████████████████████████████████████████████████████████████████                                 | 462/600 [02:00<00:31,  4.32it/s]"
     ]
    },
    {
     "name": "stderr",
     "output_type": "stream",
     "text": [
      "\r",
      " 77%|██████████████████████████████████████████████████████████████████████████████████████████████████████████████▎                                | 463/600 [02:00<00:31,  4.34it/s]"
     ]
    },
    {
     "name": "stderr",
     "output_type": "stream",
     "text": [
      "\r",
      " 77%|██████████████████████████████████████████████████████████████████████████████████████████████████████████████▌                                | 464/600 [02:00<00:31,  4.38it/s]"
     ]
    },
    {
     "name": "stderr",
     "output_type": "stream",
     "text": [
      "\r",
      " 78%|██████████████████████████████████████████████████████████████████████████████████████████████████████████████▊                                | 465/600 [02:00<00:30,  4.49it/s]"
     ]
    },
    {
     "name": "stderr",
     "output_type": "stream",
     "text": [
      "\r",
      " 78%|███████████████████████████████████████████████████████████████████████████████████████████████████████████████                                | 466/600 [02:01<00:29,  4.53it/s]"
     ]
    },
    {
     "name": "stderr",
     "output_type": "stream",
     "text": [
      "\r",
      " 78%|███████████████████████████████████████████████████████████████████████████████████████████████████████████████▎                               | 467/600 [02:01<00:29,  4.46it/s]"
     ]
    },
    {
     "name": "stderr",
     "output_type": "stream",
     "text": [
      "\r",
      " 78%|███████████████████████████████████████████████████████████████████████████████████████████████████████████████▌                               | 468/600 [02:01<00:30,  4.36it/s]"
     ]
    },
    {
     "name": "stderr",
     "output_type": "stream",
     "text": [
      "\r",
      " 78%|███████████████████████████████████████████████████████████████████████████████████████████████████████████████▊                               | 469/600 [02:01<00:30,  4.29it/s]"
     ]
    },
    {
     "name": "stderr",
     "output_type": "stream",
     "text": [
      "\r",
      " 78%|████████████████████████████████████████████████████████████████████████████████████████████████████████████████                               | 470/600 [02:02<00:30,  4.30it/s]"
     ]
    },
    {
     "name": "stderr",
     "output_type": "stream",
     "text": [
      "\r",
      " 78%|████████████████████████████████████████████████████████████████████████████████████████████████████████████████▎                              | 471/600 [02:02<00:30,  4.28it/s]"
     ]
    },
    {
     "name": "stderr",
     "output_type": "stream",
     "text": [
      "\r",
      " 79%|████████████████████████████████████████████████████████████████████████████████████████████████████████████████▍                              | 472/600 [02:02<00:29,  4.32it/s]"
     ]
    },
    {
     "name": "stderr",
     "output_type": "stream",
     "text": [
      "\r",
      " 79%|████████████████████████████████████████████████████████████████████████████████████████████████████████████████▋                              | 473/600 [02:02<00:29,  4.30it/s]"
     ]
    },
    {
     "name": "stderr",
     "output_type": "stream",
     "text": [
      "\r",
      " 79%|████████████████████████████████████████████████████████████████████████████████████████████████████████████████▉                              | 474/600 [02:03<00:28,  4.41it/s]"
     ]
    },
    {
     "name": "stderr",
     "output_type": "stream",
     "text": [
      "\r",
      " 79%|█████████████████████████████████████████████████████████████████████████████████████████████████████████████████▏                             | 475/600 [02:03<00:27,  4.53it/s]"
     ]
    },
    {
     "name": "stderr",
     "output_type": "stream",
     "text": [
      "\r",
      " 79%|█████████████████████████████████████████████████████████████████████████████████████████████████████████████████▍                             | 476/600 [02:03<00:26,  4.64it/s]"
     ]
    },
    {
     "name": "stderr",
     "output_type": "stream",
     "text": [
      "\r",
      " 80%|█████████████████████████████████████████████████████████████████████████████████████████████████████████████████▋                             | 477/600 [02:03<00:26,  4.69it/s]"
     ]
    },
    {
     "name": "stderr",
     "output_type": "stream",
     "text": [
      "\r",
      " 80%|█████████████████████████████████████████████████████████████████████████████████████████████████████████████████▉                             | 478/600 [02:03<00:25,  4.76it/s]"
     ]
    },
    {
     "name": "stderr",
     "output_type": "stream",
     "text": [
      "\r",
      " 80%|██████████████████████████████████████████████████████████████████████████████████████████████████████████████████▏                            | 479/600 [02:04<00:25,  4.77it/s]"
     ]
    },
    {
     "name": "stderr",
     "output_type": "stream",
     "text": [
      "\r",
      " 80%|██████████████████████████████████████████████████████████████████████████████████████████████████████████████████▍                            | 480/600 [02:04<00:25,  4.78it/s]"
     ]
    },
    {
     "name": "stderr",
     "output_type": "stream",
     "text": [
      "\r",
      " 80%|██████████████████████████████████████████████████████████████████████████████████████████████████████████████████▋                            | 481/600 [02:04<00:24,  4.82it/s]"
     ]
    },
    {
     "name": "stderr",
     "output_type": "stream",
     "text": [
      "\r",
      " 80%|██████████████████████████████████████████████████████████████████████████████████████████████████████████████████▉                            | 482/600 [02:04<00:24,  4.82it/s]"
     ]
    },
    {
     "name": "stderr",
     "output_type": "stream",
     "text": [
      "\r",
      " 80%|███████████████████████████████████████████████████████████████████████████████████████████████████████████████████                            | 483/600 [02:04<00:24,  4.82it/s]"
     ]
    },
    {
     "name": "stderr",
     "output_type": "stream",
     "text": [
      "\r",
      " 81%|███████████████████████████████████████████████████████████████████████████████████████████████████████████████████▎                           | 484/600 [02:05<00:23,  4.85it/s]"
     ]
    },
    {
     "name": "stderr",
     "output_type": "stream",
     "text": [
      "\r",
      " 81%|███████████████████████████████████████████████████████████████████████████████████████████████████████████████████▌                           | 485/600 [02:05<00:23,  4.81it/s]"
     ]
    },
    {
     "name": "stderr",
     "output_type": "stream",
     "text": [
      "\r",
      " 81%|███████████████████████████████████████████████████████████████████████████████████████████████████████████████████▊                           | 486/600 [02:05<00:23,  4.83it/s]"
     ]
    },
    {
     "name": "stderr",
     "output_type": "stream",
     "text": [
      "\r",
      " 81%|████████████████████████████████████████████████████████████████████████████████████████████████████████████████████                           | 487/600 [02:05<00:23,  4.82it/s]"
     ]
    },
    {
     "name": "stderr",
     "output_type": "stream",
     "text": [
      "\r",
      " 81%|████████████████████████████████████████████████████████████████████████████████████████████████████████████████████▎                          | 488/600 [02:05<00:23,  4.77it/s]"
     ]
    },
    {
     "name": "stderr",
     "output_type": "stream",
     "text": [
      "\r",
      " 82%|████████████████████████████████████████████████████████████████████████████████████████████████████████████████████▌                          | 489/600 [02:06<00:24,  4.45it/s]"
     ]
    },
    {
     "name": "stderr",
     "output_type": "stream",
     "text": [
      "\r",
      " 82%|████████████████████████████████████████████████████████████████████████████████████████████████████████████████████▊                          | 490/600 [02:06<00:24,  4.40it/s]"
     ]
    },
    {
     "name": "stderr",
     "output_type": "stream",
     "text": [
      "\r",
      " 82%|█████████████████████████████████████████████████████████████████████████████████████████████████████████████████████                          | 491/600 [02:06<00:24,  4.41it/s]"
     ]
    },
    {
     "name": "stderr",
     "output_type": "stream",
     "text": [
      "\r",
      " 82%|█████████████████████████████████████████████████████████████████████████████████████████████████████████████████████▎                         | 492/600 [02:06<00:24,  4.37it/s]"
     ]
    },
    {
     "name": "stderr",
     "output_type": "stream",
     "text": [
      "\r",
      " 82%|█████████████████████████████████████████████████████████████████████████████████████████████████████████████████████▍                         | 493/600 [02:07<00:24,  4.36it/s]"
     ]
    },
    {
     "name": "stderr",
     "output_type": "stream",
     "text": [
      "\r",
      " 82%|█████████████████████████████████████████████████████████████████████████████████████████████████████████████████████▋                         | 494/600 [02:07<00:23,  4.43it/s]"
     ]
    },
    {
     "name": "stderr",
     "output_type": "stream",
     "text": [
      "\r",
      " 82%|█████████████████████████████████████████████████████████████████████████████████████████████████████████████████████▉                         | 495/600 [02:07<00:23,  4.46it/s]"
     ]
    },
    {
     "name": "stderr",
     "output_type": "stream",
     "text": [
      "\r",
      " 83%|██████████████████████████████████████████████████████████████████████████████████████████████████████████████████████▏                        | 496/600 [02:07<00:23,  4.49it/s]"
     ]
    },
    {
     "name": "stderr",
     "output_type": "stream",
     "text": [
      "\r",
      " 83%|██████████████████████████████████████████████████████████████████████████████████████████████████████████████████████▍                        | 497/600 [02:07<00:22,  4.55it/s]"
     ]
    },
    {
     "name": "stderr",
     "output_type": "stream",
     "text": [
      "\r",
      " 83%|██████████████████████████████████████████████████████████████████████████████████████████████████████████████████████▋                        | 498/600 [02:08<00:22,  4.58it/s]"
     ]
    },
    {
     "name": "stderr",
     "output_type": "stream",
     "text": [
      "\r",
      " 83%|██████████████████████████████████████████████████████████████████████████████████████████████████████████████████████▉                        | 499/600 [02:08<00:21,  4.63it/s]"
     ]
    },
    {
     "name": "stderr",
     "output_type": "stream",
     "text": [
      "\r",
      " 83%|███████████████████████████████████████████████████████████████████████████████████████████████████████████████████████▏                       | 500/600 [02:08<00:21,  4.71it/s]"
     ]
    },
    {
     "name": "stderr",
     "output_type": "stream",
     "text": [
      "\r",
      " 84%|███████████████████████████████████████████████████████████████████████████████████████████████████████████████████████▍                       | 501/600 [02:08<00:20,  4.76it/s]"
     ]
    },
    {
     "name": "stderr",
     "output_type": "stream",
     "text": [
      "\r",
      " 84%|███████████████████████████████████████████████████████████████████████████████████████████████████████████████████████▋                       | 502/600 [02:09<00:20,  4.81it/s]"
     ]
    },
    {
     "name": "stderr",
     "output_type": "stream",
     "text": [
      "\r",
      " 84%|███████████████████████████████████████████████████████████████████████████████████████████████████████████████████████▉                       | 503/600 [02:09<00:20,  4.80it/s]"
     ]
    },
    {
     "name": "stderr",
     "output_type": "stream",
     "text": [
      "\r",
      " 84%|████████████████████████████████████████████████████████████████████████████████████████████████████████████████████████                       | 504/600 [02:09<00:20,  4.78it/s]"
     ]
    },
    {
     "name": "stderr",
     "output_type": "stream",
     "text": [
      "\r",
      " 84%|████████████████████████████████████████████████████████████████████████████████████████████████████████████████████████▎                      | 505/600 [02:09<00:20,  4.67it/s]"
     ]
    },
    {
     "name": "stderr",
     "output_type": "stream",
     "text": [
      "\r",
      " 84%|████████████████████████████████████████████████████████████████████████████████████████████████████████████████████████▌                      | 506/600 [02:09<00:20,  4.59it/s]"
     ]
    },
    {
     "name": "stderr",
     "output_type": "stream",
     "text": [
      "\r",
      " 84%|████████████████████████████████████████████████████████████████████████████████████████████████████████████████████████▊                      | 507/600 [02:10<00:20,  4.52it/s]"
     ]
    },
    {
     "name": "stderr",
     "output_type": "stream",
     "text": [
      "\r",
      " 85%|█████████████████████████████████████████████████████████████████████████████████████████████████████████████████████████                      | 508/600 [02:10<00:20,  4.49it/s]"
     ]
    },
    {
     "name": "stderr",
     "output_type": "stream",
     "text": [
      "\r",
      " 85%|█████████████████████████████████████████████████████████████████████████████████████████████████████████████████████████▎                     | 509/600 [02:10<00:20,  4.48it/s]"
     ]
    },
    {
     "name": "stderr",
     "output_type": "stream",
     "text": [
      "\r",
      " 85%|█████████████████████████████████████████████████████████████████████████████████████████████████████████████████████████▌                     | 510/600 [02:10<00:20,  4.45it/s]"
     ]
    },
    {
     "name": "stderr",
     "output_type": "stream",
     "text": [
      "\r",
      " 85%|█████████████████████████████████████████████████████████████████████████████████████████████████████████████████████████▊                     | 511/600 [02:10<00:19,  4.57it/s]"
     ]
    },
    {
     "name": "stderr",
     "output_type": "stream",
     "text": [
      "\r",
      " 85%|██████████████████████████████████████████████████████████████████████████████████████████████████████████████████████████                     | 512/600 [02:11<00:19,  4.54it/s]"
     ]
    },
    {
     "name": "stderr",
     "output_type": "stream",
     "text": [
      "\r",
      " 86%|██████████████████████████████████████████████████████████████████████████████████████████████████████████████████████████▎                    | 513/600 [02:11<00:19,  4.53it/s]"
     ]
    },
    {
     "name": "stderr",
     "output_type": "stream",
     "text": [
      "\r",
      " 86%|██████████████████████████████████████████████████████████████████████████████████████████████████████████████████████████▌                    | 514/600 [02:11<00:19,  4.47it/s]"
     ]
    },
    {
     "name": "stderr",
     "output_type": "stream",
     "text": [
      "\r",
      " 86%|██████████████████████████████████████████████████████████████████████████████████████████████████████████████████████████▋                    | 515/600 [02:11<00:19,  4.42it/s]"
     ]
    },
    {
     "name": "stderr",
     "output_type": "stream",
     "text": [
      "\r",
      " 86%|██████████████████████████████████████████████████████████████████████████████████████████████████████████████████████████▉                    | 516/600 [02:12<00:19,  4.37it/s]"
     ]
    },
    {
     "name": "stderr",
     "output_type": "stream",
     "text": [
      "\r",
      " 86%|███████████████████████████████████████████████████████████████████████████████████████████████████████████████████████████▏                   | 517/600 [02:12<00:19,  4.36it/s]"
     ]
    },
    {
     "name": "stderr",
     "output_type": "stream",
     "text": [
      "\r",
      " 86%|███████████████████████████████████████████████████████████████████████████████████████████████████████████████████████████▍                   | 518/600 [02:12<00:18,  4.43it/s]"
     ]
    },
    {
     "name": "stderr",
     "output_type": "stream",
     "text": [
      "\r",
      " 86%|███████████████████████████████████████████████████████████████████████████████████████████████████████████████████████████▋                   | 519/600 [02:12<00:17,  4.56it/s]"
     ]
    },
    {
     "name": "stderr",
     "output_type": "stream",
     "text": [
      "\r",
      " 87%|███████████████████████████████████████████████████████████████████████████████████████████████████████████████████████████▉                   | 520/600 [02:13<00:17,  4.50it/s]"
     ]
    },
    {
     "name": "stderr",
     "output_type": "stream",
     "text": [
      "\r",
      " 87%|████████████████████████████████████████████████████████████████████████████████████████████████████████████████████████████▏                  | 521/600 [02:13<00:17,  4.40it/s]"
     ]
    },
    {
     "name": "stderr",
     "output_type": "stream",
     "text": [
      "\r",
      " 87%|████████████████████████████████████████████████████████████████████████████████████████████████████████████████████████████▍                  | 522/600 [02:13<00:17,  4.35it/s]"
     ]
    },
    {
     "name": "stderr",
     "output_type": "stream",
     "text": [
      "\r",
      " 87%|████████████████████████████████████████████████████████████████████████████████████████████████████████████████████████████▋                  | 523/600 [02:13<00:17,  4.31it/s]"
     ]
    },
    {
     "name": "stderr",
     "output_type": "stream",
     "text": [
      "\r",
      " 87%|████████████████████████████████████████████████████████████████████████████████████████████████████████████████████████████▉                  | 524/600 [02:13<00:17,  4.39it/s]"
     ]
    },
    {
     "name": "stderr",
     "output_type": "stream",
     "text": [
      "\r",
      " 88%|█████████████████████████████████████████████████████████████████████████████████████████████████████████████████████████████▏                 | 525/600 [02:14<00:16,  4.52it/s]"
     ]
    },
    {
     "name": "stderr",
     "output_type": "stream",
     "text": [
      "\r",
      " 88%|█████████████████████████████████████████████████████████████████████████████████████████████████████████████████████████████▎                 | 526/600 [02:14<00:16,  4.53it/s]"
     ]
    },
    {
     "name": "stderr",
     "output_type": "stream",
     "text": [
      "\r",
      " 88%|█████████████████████████████████████████████████████████████████████████████████████████████████████████████████████████████▌                 | 527/600 [02:14<00:16,  4.45it/s]"
     ]
    },
    {
     "name": "stderr",
     "output_type": "stream",
     "text": [
      "\r",
      " 88%|█████████████████████████████████████████████████████████████████████████████████████████████████████████████████████████████▊                 | 528/600 [02:14<00:15,  4.51it/s]"
     ]
    },
    {
     "name": "stderr",
     "output_type": "stream",
     "text": [
      "\r",
      " 88%|██████████████████████████████████████████████████████████████████████████████████████████████████████████████████████████████                 | 529/600 [02:15<00:15,  4.56it/s]"
     ]
    },
    {
     "name": "stderr",
     "output_type": "stream",
     "text": [
      "\r",
      " 88%|██████████████████████████████████████████████████████████████████████████████████████████████████████████████████████████████▎                | 530/600 [02:15<00:15,  4.48it/s]"
     ]
    },
    {
     "name": "stderr",
     "output_type": "stream",
     "text": [
      "\r",
      " 88%|██████████████████████████████████████████████████████████████████████████████████████████████████████████████████████████████▌                | 531/600 [02:15<00:15,  4.55it/s]"
     ]
    },
    {
     "name": "stderr",
     "output_type": "stream",
     "text": [
      "\r",
      " 89%|██████████████████████████████████████████████████████████████████████████████████████████████████████████████████████████████▊                | 532/600 [02:15<00:14,  4.60it/s]"
     ]
    },
    {
     "name": "stderr",
     "output_type": "stream",
     "text": [
      "\r",
      " 89%|███████████████████████████████████████████████████████████████████████████████████████████████████████████████████████████████                | 533/600 [02:15<00:14,  4.48it/s]"
     ]
    },
    {
     "name": "stderr",
     "output_type": "stream",
     "text": [
      "\r",
      " 89%|███████████████████████████████████████████████████████████████████████████████████████████████████████████████████████████████▎               | 534/600 [02:16<00:14,  4.45it/s]"
     ]
    },
    {
     "name": "stderr",
     "output_type": "stream",
     "text": [
      "\r",
      " 89%|███████████████████████████████████████████████████████████████████████████████████████████████████████████████████████████████▌               | 535/600 [02:16<00:14,  4.48it/s]"
     ]
    },
    {
     "name": "stderr",
     "output_type": "stream",
     "text": [
      "\r",
      " 89%|███████████████████████████████████████████████████████████████████████████████████████████████████████████████████████████████▋               | 536/600 [02:16<00:14,  4.47it/s]"
     ]
    },
    {
     "name": "stderr",
     "output_type": "stream",
     "text": [
      "\r",
      " 90%|███████████████████████████████████████████████████████████████████████████████████████████████████████████████████████████████▉               | 537/600 [02:16<00:13,  4.57it/s]"
     ]
    },
    {
     "name": "stderr",
     "output_type": "stream",
     "text": [
      "\r",
      " 90%|████████████████████████████████████████████████████████████████████████████████████████████████████████████████████████████████▏              | 538/600 [02:17<00:13,  4.63it/s]"
     ]
    },
    {
     "name": "stderr",
     "output_type": "stream",
     "text": [
      "\r",
      " 90%|████████████████████████████████████████████████████████████████████████████████████████████████████████████████████████████████▍              | 539/600 [02:17<00:12,  4.70it/s]"
     ]
    },
    {
     "name": "stderr",
     "output_type": "stream",
     "text": [
      "\r",
      " 90%|████████████████████████████████████████████████████████████████████████████████████████████████████████████████████████████████▋              | 540/600 [02:17<00:13,  4.61it/s]"
     ]
    },
    {
     "name": "stderr",
     "output_type": "stream",
     "text": [
      "\r",
      " 90%|████████████████████████████████████████████████████████████████████████████████████████████████████████████████████████████████▉              | 541/600 [02:17<00:13,  4.52it/s]"
     ]
    },
    {
     "name": "stderr",
     "output_type": "stream",
     "text": [
      "\r",
      " 90%|█████████████████████████████████████████████████████████████████████████████████████████████████████████████████████████████████▏             | 542/600 [02:17<00:12,  4.47it/s]"
     ]
    },
    {
     "name": "stderr",
     "output_type": "stream",
     "text": [
      "\r",
      " 90%|█████████████████████████████████████████████████████████████████████████████████████████████████████████████████████████████████▍             | 543/600 [02:18<00:13,  4.35it/s]"
     ]
    },
    {
     "name": "stderr",
     "output_type": "stream",
     "text": [
      "\r",
      " 91%|█████████████████████████████████████████████████████████████████████████████████████████████████████████████████████████████████▋             | 544/600 [02:18<00:12,  4.35it/s]"
     ]
    },
    {
     "name": "stderr",
     "output_type": "stream",
     "text": [
      "\r",
      " 91%|█████████████████████████████████████████████████████████████████████████████████████████████████████████████████████████████████▉             | 545/600 [02:18<00:12,  4.36it/s]"
     ]
    },
    {
     "name": "stderr",
     "output_type": "stream",
     "text": [
      "\r",
      " 91%|██████████████████████████████████████████████████████████████████████████████████████████████████████████████████████████████████▏            | 546/600 [02:18<00:12,  4.38it/s]"
     ]
    },
    {
     "name": "stderr",
     "output_type": "stream",
     "text": [
      "\r",
      " 91%|██████████████████████████████████████████████████████████████████████████████████████████████████████████████████████████████████▎            | 547/600 [02:19<00:12,  4.38it/s]"
     ]
    },
    {
     "name": "stderr",
     "output_type": "stream",
     "text": [
      "\r",
      " 91%|██████████████████████████████████████████████████████████████████████████████████████████████████████████████████████████████████▌            | 548/600 [02:19<00:12,  4.32it/s]"
     ]
    },
    {
     "name": "stderr",
     "output_type": "stream",
     "text": [
      "\r",
      " 92%|██████████████████████████████████████████████████████████████████████████████████████████████████████████████████████████████████▊            | 549/600 [02:19<00:11,  4.36it/s]"
     ]
    },
    {
     "name": "stderr",
     "output_type": "stream",
     "text": [
      "\r",
      " 92%|███████████████████████████████████████████████████████████████████████████████████████████████████████████████████████████████████            | 550/600 [02:19<00:11,  4.34it/s]"
     ]
    },
    {
     "name": "stderr",
     "output_type": "stream",
     "text": [
      "\r",
      " 92%|███████████████████████████████████████████████████████████████████████████████████████████████████████████████████████████████████▎           | 551/600 [02:19<00:11,  4.34it/s]"
     ]
    },
    {
     "name": "stderr",
     "output_type": "stream",
     "text": [
      "\r",
      " 92%|███████████████████████████████████████████████████████████████████████████████████████████████████████████████████████████████████▌           | 552/600 [02:20<00:11,  4.19it/s]"
     ]
    },
    {
     "name": "stderr",
     "output_type": "stream",
     "text": [
      "\r",
      " 92%|███████████████████████████████████████████████████████████████████████████████████████████████████████████████████████████████████▊           | 553/600 [02:20<00:11,  4.15it/s]"
     ]
    },
    {
     "name": "stderr",
     "output_type": "stream",
     "text": [
      "\r",
      " 92%|████████████████████████████████████████████████████████████████████████████████████████████████████████████████████████████████████           | 554/600 [02:20<00:11,  4.14it/s]"
     ]
    },
    {
     "name": "stderr",
     "output_type": "stream",
     "text": [
      "\r",
      " 92%|████████████████████████████████████████████████████████████████████████████████████████████████████████████████████████████████████▎          | 555/600 [02:20<00:10,  4.24it/s]"
     ]
    },
    {
     "name": "stderr",
     "output_type": "stream",
     "text": [
      "\r",
      " 93%|████████████████████████████████████████████████████████████████████████████████████████████████████████████████████████████████████▌          | 556/600 [02:21<00:10,  4.32it/s]"
     ]
    },
    {
     "name": "stderr",
     "output_type": "stream",
     "text": [
      "\r",
      " 93%|████████████████████████████████████████████████████████████████████████████████████████████████████████████████████████████████████▊          | 557/600 [02:21<00:09,  4.38it/s]"
     ]
    },
    {
     "name": "stderr",
     "output_type": "stream",
     "text": [
      "\r",
      " 93%|████████████████████████████████████████████████████████████████████████████████████████████████████████████████████████████████████▉          | 558/600 [02:21<00:09,  4.39it/s]"
     ]
    },
    {
     "name": "stderr",
     "output_type": "stream",
     "text": [
      "\r",
      " 93%|█████████████████████████████████████████████████████████████████████████████████████████████████████████████████████████████████████▏         | 559/600 [02:21<00:09,  4.43it/s]"
     ]
    },
    {
     "name": "stderr",
     "output_type": "stream",
     "text": [
      "\r",
      " 93%|█████████████████████████████████████████████████████████████████████████████████████████████████████████████████████████████████████▍         | 560/600 [02:22<00:08,  4.45it/s]"
     ]
    },
    {
     "name": "stderr",
     "output_type": "stream",
     "text": [
      "\r",
      " 94%|█████████████████████████████████████████████████████████████████████████████████████████████████████████████████████████████████████▋         | 561/600 [02:22<00:08,  4.43it/s]"
     ]
    },
    {
     "name": "stderr",
     "output_type": "stream",
     "text": [
      "\r",
      " 94%|█████████████████████████████████████████████████████████████████████████████████████████████████████████████████████████████████████▉         | 562/600 [02:22<00:08,  4.35it/s]"
     ]
    },
    {
     "name": "stderr",
     "output_type": "stream",
     "text": [
      "\r",
      " 94%|██████████████████████████████████████████████████████████████████████████████████████████████████████████████████████████████████████▏        | 563/600 [02:22<00:08,  4.36it/s]"
     ]
    },
    {
     "name": "stderr",
     "output_type": "stream",
     "text": [
      "\r",
      " 94%|██████████████████████████████████████████████████████████████████████████████████████████████████████████████████████████████████████▍        | 564/600 [02:22<00:08,  4.37it/s]"
     ]
    },
    {
     "name": "stderr",
     "output_type": "stream",
     "text": [
      "\r",
      " 94%|██████████████████████████████████████████████████████████████████████████████████████████████████████████████████████████████████████▋        | 565/600 [02:23<00:07,  4.39it/s]"
     ]
    },
    {
     "name": "stderr",
     "output_type": "stream",
     "text": [
      "\r",
      " 94%|██████████████████████████████████████████████████████████████████████████████████████████████████████████████████████████████████████▉        | 566/600 [02:23<00:07,  4.46it/s]"
     ]
    },
    {
     "name": "stderr",
     "output_type": "stream",
     "text": [
      "\r",
      " 94%|███████████████████████████████████████████████████████████████████████████████████████████████████████████████████████████████████████▏       | 567/600 [02:23<00:07,  4.49it/s]"
     ]
    },
    {
     "name": "stderr",
     "output_type": "stream",
     "text": [
      "\r",
      " 95%|███████████████████████████████████████████████████████████████████████████████████████████████████████████████████████████████████████▎       | 568/600 [02:23<00:07,  4.24it/s]"
     ]
    },
    {
     "name": "stderr",
     "output_type": "stream",
     "text": [
      "\r",
      " 95%|███████████████████████████████████████████████████████████████████████████████████████████████████████████████████████████████████████▌       | 569/600 [02:24<00:07,  4.07it/s]"
     ]
    },
    {
     "name": "stderr",
     "output_type": "stream",
     "text": [
      "\r",
      " 95%|███████████████████████████████████████████████████████████████████████████████████████████████████████████████████████████████████████▊       | 570/600 [02:24<00:07,  4.02it/s]"
     ]
    },
    {
     "name": "stderr",
     "output_type": "stream",
     "text": [
      "\r",
      " 95%|████████████████████████████████████████████████████████████████████████████████████████████████████████████████████████████████████████       | 571/600 [02:24<00:07,  3.94it/s]"
     ]
    },
    {
     "name": "stderr",
     "output_type": "stream",
     "text": [
      "\r",
      " 95%|████████████████████████████████████████████████████████████████████████████████████████████████████████████████████████████████████████▎      | 572/600 [02:24<00:07,  3.93it/s]"
     ]
    },
    {
     "name": "stderr",
     "output_type": "stream",
     "text": [
      "\r",
      " 96%|████████████████████████████████████████████████████████████████████████████████████████████████████████████████████████████████████████▌      | 573/600 [02:25<00:06,  3.96it/s]"
     ]
    },
    {
     "name": "stderr",
     "output_type": "stream",
     "text": [
      "\r",
      " 96%|████████████████████████████████████████████████████████████████████████████████████████████████████████████████████████████████████████▊      | 574/600 [02:25<00:06,  4.06it/s]"
     ]
    },
    {
     "name": "stderr",
     "output_type": "stream",
     "text": [
      "\r",
      " 96%|█████████████████████████████████████████████████████████████████████████████████████████████████████████████████████████████████████████      | 575/600 [02:25<00:05,  4.24it/s]"
     ]
    },
    {
     "name": "stderr",
     "output_type": "stream",
     "text": [
      "\r",
      " 96%|█████████████████████████████████████████████████████████████████████████████████████████████████████████████████████████████████████████▎     | 576/600 [02:25<00:05,  4.41it/s]"
     ]
    },
    {
     "name": "stderr",
     "output_type": "stream",
     "text": [
      "\r",
      " 96%|█████████████████████████████████████████████████████████████████████████████████████████████████████████████████████████████████████████▌     | 577/600 [02:26<00:05,  4.18it/s]"
     ]
    },
    {
     "name": "stderr",
     "output_type": "stream",
     "text": [
      "\r",
      " 96%|█████████████████████████████████████████████████████████████████████████████████████████████████████████████████████████████████████████▊     | 578/600 [02:26<00:05,  3.83it/s]"
     ]
    },
    {
     "name": "stderr",
     "output_type": "stream",
     "text": [
      "\r",
      " 96%|█████████████████████████████████████████████████████████████████████████████████████████████████████████████████████████████████████████▉     | 579/600 [02:26<00:05,  3.83it/s]"
     ]
    },
    {
     "name": "stderr",
     "output_type": "stream",
     "text": [
      "\r",
      " 97%|██████████████████████████████████████████████████████████████████████████████████████████████████████████████████████████████████████████▏    | 580/600 [02:26<00:05,  3.77it/s]"
     ]
    },
    {
     "name": "stderr",
     "output_type": "stream",
     "text": [
      "\r",
      " 97%|██████████████████████████████████████████████████████████████████████████████████████████████████████████████████████████████████████████▍    | 581/600 [02:27<00:04,  3.80it/s]"
     ]
    },
    {
     "name": "stderr",
     "output_type": "stream",
     "text": [
      "\r",
      " 97%|██████████████████████████████████████████████████████████████████████████████████████████████████████████████████████████████████████████▋    | 582/600 [02:27<00:04,  3.82it/s]"
     ]
    },
    {
     "name": "stderr",
     "output_type": "stream",
     "text": [
      "\r",
      " 97%|██████████████████████████████████████████████████████████████████████████████████████████████████████████████████████████████████████████▉    | 583/600 [02:27<00:04,  3.84it/s]"
     ]
    },
    {
     "name": "stderr",
     "output_type": "stream",
     "text": [
      "\r",
      " 97%|███████████████████████████████████████████████████████████████████████████████████████████████████████████████████████████████████████████▏   | 584/600 [02:28<00:04,  3.85it/s]"
     ]
    },
    {
     "name": "stderr",
     "output_type": "stream",
     "text": [
      "\r",
      " 98%|███████████████████████████████████████████████████████████████████████████████████████████████████████████████████████████████████████████▍   | 585/600 [02:28<00:03,  3.75it/s]"
     ]
    },
    {
     "name": "stderr",
     "output_type": "stream",
     "text": [
      "\r",
      " 98%|███████████████████████████████████████████████████████████████████████████████████████████████████████████████████████████████████████████▋   | 586/600 [02:28<00:03,  3.72it/s]"
     ]
    },
    {
     "name": "stderr",
     "output_type": "stream",
     "text": [
      "\r",
      " 98%|███████████████████████████████████████████████████████████████████████████████████████████████████████████████████████████████████████████▉   | 587/600 [02:28<00:03,  3.74it/s]"
     ]
    },
    {
     "name": "stderr",
     "output_type": "stream",
     "text": [
      "\r",
      " 98%|████████████████████████████████████████████████████████████████████████████████████████████████████████████████████████████████████████████▏  | 588/600 [02:29<00:03,  3.68it/s]"
     ]
    },
    {
     "name": "stderr",
     "output_type": "stream",
     "text": [
      "\r",
      " 98%|████████████████████████████████████████████████████████████████████████████████████████████████████████████████████████████████████████████▍  | 589/600 [02:29<00:02,  3.67it/s]"
     ]
    },
    {
     "name": "stderr",
     "output_type": "stream",
     "text": [
      "\r",
      " 98%|████████████████████████████████████████████████████████████████████████████████████████████████████████████████████████████████████████████▌  | 590/600 [02:29<00:02,  3.79it/s]"
     ]
    },
    {
     "name": "stderr",
     "output_type": "stream",
     "text": [
      "\r",
      " 98%|████████████████████████████████████████████████████████████████████████████████████████████████████████████████████████████████████████████▊  | 591/600 [02:29<00:02,  3.70it/s]"
     ]
    },
    {
     "name": "stderr",
     "output_type": "stream",
     "text": [
      "\r",
      " 99%|█████████████████████████████████████████████████████████████████████████████████████████████████████████████████████████████████████████████  | 592/600 [02:30<00:02,  3.62it/s]"
     ]
    },
    {
     "name": "stderr",
     "output_type": "stream",
     "text": [
      "\r",
      " 99%|█████████████████████████████████████████████████████████████████████████████████████████████████████████████████████████████████████████████▎ | 593/600 [02:30<00:01,  3.73it/s]"
     ]
    },
    {
     "name": "stderr",
     "output_type": "stream",
     "text": [
      "\r",
      " 99%|█████████████████████████████████████████████████████████████████████████████████████████████████████████████████████████████████████████████▌ | 594/600 [02:30<00:01,  3.75it/s]"
     ]
    },
    {
     "name": "stderr",
     "output_type": "stream",
     "text": [
      "\r",
      " 99%|█████████████████████████████████████████████████████████████████████████████████████████████████████████████████████████████████████████████▊ | 595/600 [02:30<00:01,  3.73it/s]"
     ]
    },
    {
     "name": "stderr",
     "output_type": "stream",
     "text": [
      "\r",
      " 99%|██████████████████████████████████████████████████████████████████████████████████████████████████████████████████████████████████████████████ | 596/600 [02:31<00:01,  3.62it/s]"
     ]
    },
    {
     "name": "stderr",
     "output_type": "stream",
     "text": [
      "\r",
      "100%|██████████████████████████████████████████████████████████████████████████████████████████████████████████████████████████████████████████████▎| 597/600 [02:31<00:00,  3.66it/s]"
     ]
    },
    {
     "name": "stderr",
     "output_type": "stream",
     "text": [
      "\r",
      "100%|██████████████████████████████████████████████████████████████████████████████████████████████████████████████████████████████████████████████▌| 598/600 [02:31<00:00,  3.76it/s]"
     ]
    },
    {
     "name": "stderr",
     "output_type": "stream",
     "text": [
      "\r",
      "100%|██████████████████████████████████████████████████████████████████████████████████████████████████████████████████████████████████████████████▊| 599/600 [02:32<00:00,  3.71it/s]"
     ]
    },
    {
     "name": "stderr",
     "output_type": "stream",
     "text": [
      "\r",
      "100%|███████████████████████████████████████████████████████████████████████████████████████████████████████████████████████████████████████████████| 600/600 [02:32<00:00,  3.69it/s]"
     ]
    },
    {
     "name": "stderr",
     "output_type": "stream",
     "text": [
      "\r",
      "100%|███████████████████████████████████████████████████████████████████████████████████████████████████████████████████████████████████████████████| 600/600 [02:32<00:00,  3.94it/s]"
     ]
    },
    {
     "name": "stderr",
     "output_type": "stream",
     "text": [
      "\n"
     ]
    },
    {
     "data": {
      "text/plain": [
       "(<Figure size 640x480 with 1 Axes>,\n",
       " <Axes: xlabel='Descent step', ylabel='log10(Mean square error)'>)"
      ]
     },
     "execution_count": 5,
     "metadata": {},
     "output_type": "execute_result"
    },
    {
     "data": {
      "application/vnd.jupyter.widget-view+json": {
       "model_id": "91331caf43d947abb5ff247cfa354ef1",
       "version_major": 2,
       "version_minor": 0
      },
      "image/png": "[encoded data removed]",
      "text/html": [
       "\n",
       "            <div style=\"display: inline-block;\">\n",
       "                <div class=\"jupyter-widgets widget-label\" style=\"text-align: center;\">\n",
       "                    Figure\n",
       "                </div>\n",
       "                <img src='data:image/png;base64,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' width=640.0/>\n",
       "            </div>\n",
       "        "
      ],
      "text/plain": [
       "Canvas(toolbar=Toolbar(toolitems=[('Home', 'Reset original view', 'home', 'home'), ('Back', 'Back to previous …"
      ]
     },
     "metadata": {},
     "output_type": "display_data"
    }
   ],
   "source": [
    "iq = ImageQuant2(img=imgs, roi=rois, cytbg=cytbg, membg=membg)\n",
    "iq.quantify()\n",
    "iq.plot_losses(log=True)"
   ]
  },
  {
   "cell_type": "markdown",
   "metadata": {},
   "source": [
    "### Save results"
   ]
  },
  {
   "cell_type": "code",
   "execution_count": 6,
   "metadata": {
    "execution": {
     "iopub.execute_input": "2023-11-27T21:11:41.287207Z",
     "iopub.status.busy": "2023-11-27T21:11:41.286834Z",
     "iopub.status.idle": "2023-11-27T21:11:46.046064Z",
     "shell.execute_reply": "2023-11-27T21:11:46.044925Z"
    }
   },
   "outputs": [],
   "source": [
    "res = iq.compile_res(ids=[str(x) for x in df[\"EmbryoID\"].to_list()])\n",
    "res[\"Membrane signal\"] *= calibration_factor\n",
    "res.to_csv(\"../../data/par2_nebd_quantification.csv\")"
   ]
  },
  {
   "cell_type": "code",
   "execution_count": null,
   "metadata": {},
   "outputs": [],
   "source": []
  }
 ],
 "metadata": {
  "kernelspec": {
   "display_name": "Python 3",
   "language": "python",
   "name": "python3"
  },
  "language_info": {
   "codemirror_mode": {
    "name": "ipython",
    "version": 3
   },
   "file_extension": ".py",
   "mimetype": "text/x-python",
   "name": "python",
   "nbconvert_exporter": "python",
   "pygments_lexer": "ipython3",
   "version": "3.11.6"
  },
  "widgets": {
   "application/vnd.jupyter.widget-state+json": {
    "state": {
     "91331caf43d947abb5ff247cfa354ef1": {
      "model_module": "jupyter-matplotlib",
      "model_module_version": "^0.11",
      "model_name": "MPLCanvasModel",
      "state": {
       "_cursor": "pointer",
       "_data_url": "data:image/png;base64,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",
       "_dom_classes": [],
       "_figure_label": "Figure",
       "_image_mode": "full",
       "_message": "",
       "_model_module": "jupyter-matplotlib",
       "_model_module_version": "^0.11",
       "_model_name": "MPLCanvasModel",
       "_rubberband_height": 0,
       "_rubberband_width": 0,
       "_rubberband_x": 0,
       "_rubberband_y": 0,
       "_size": [
        640.0,
        480.0
       ],
       "_view_count": null,
       "_view_module": "jupyter-matplotlib",
       "_view_module_version": "^0.11",
       "_view_name": "MPLCanvasView",
       "capture_scroll": false,
       "footer_visible": true,
       "header_visible": true,
       "layout": "IPY_MODEL_f7815047ae7a4d8f851bee5f3b43477f",
       "pan_zoom_throttle": 33.0,
       "resizable": true,
       "tabbable": null,
       "toolbar": "IPY_MODEL_d3eb2bb82c9c472ba80cef7e7db7c0f8",
       "toolbar_position": "left",
       "toolbar_visible": "fade-in-fade-out",
       "tooltip": null
      }
     },
     "d3eb2bb82c9c472ba80cef7e7db7c0f8": {
      "model_module": "jupyter-matplotlib",
      "model_module_version": "^0.11",
      "model_name": "ToolbarModel",
      "state": {
       "_current_action": "",
       "_dom_classes": [],
       "_model_module": "jupyter-matplotlib",
       "_model_module_version": "^0.11",
       "_model_name": "ToolbarModel",
       "_view_count": null,
       "_view_module": "jupyter-matplotlib",
       "_view_module_version": "^0.11",
       "_view_name": "ToolbarView",
       "button_style": "",
       "collapsed": true,
       "layout": "IPY_MODEL_eaa86f758c5c46778cd46f3add3489bb",
       "orientation": "vertical",
       "tabbable": null,
       "toolitems": [
        [
         "Home",
         "Reset original view",
         "home",
         "home"
        ],
        [
         "Back",
         "Back to previous view",
         "arrow-left",
         "back"
        ],
        [
         "Forward",
         "Forward to next view",
         "arrow-right",
         "forward"
        ],
        [
         "Pan",
         "Left button pans, Right button zooms\nx/y fixes axis, CTRL fixes aspect",
         "arrows",
         "pan"
        ],
        [
         "Zoom",
         "Zoom to rectangle\nx/y fixes axis",
         "square-o",
         "zoom"
        ],
        [
         "Download",
         "Download plot",
         "floppy-o",
         "save_figure"
        ]
       ],
       "tooltip": null
      }
     },
     "eaa86f758c5c46778cd46f3add3489bb": {
      "model_module": "@jupyter-widgets/base",
      "model_module_version": "2.0.0",
      "model_name": "LayoutModel",
      "state": {
       "_model_module": "@jupyter-widgets/base",
       "_model_module_version": "2.0.0",
       "_model_name": "LayoutModel",
       "_view_count": null,
       "_view_module": "@jupyter-widgets/base",
       "_view_module_version": "2.0.0",
       "_view_name": "LayoutView",
       "align_content": null,
       "align_items": null,
       "align_self": null,
       "border_bottom": null,
       "border_left": null,
       "border_right": null,
       "border_top": null,
       "bottom": null,
       "display": null,
       "flex": null,
       "flex_flow": null,
       "grid_area": null,
       "grid_auto_columns": null,
       "grid_auto_flow": null,
       "grid_auto_rows": null,
       "grid_column": null,
       "grid_gap": null,
       "grid_row": null,
       "grid_template_areas": null,
       "grid_template_columns": null,
       "grid_template_rows": null,
       "height": null,
       "justify_content": null,
       "justify_items": null,
       "left": null,
       "margin": null,
       "max_height": null,
       "max_width": null,
       "min_height": null,
       "min_width": null,
       "object_fit": null,
       "object_position": null,
       "order": null,
       "overflow": null,
       "padding": null,
       "right": null,
       "top": null,
       "visibility": null,
       "width": null
      }
     },
     "f7815047ae7a4d8f851bee5f3b43477f": {
      "model_module": "@jupyter-widgets/base",
      "model_module_version": "2.0.0",
      "model_name": "LayoutModel",
      "state": {
       "_model_module": "@jupyter-widgets/base",
       "_model_module_version": "2.0.0",
       "_model_name": "LayoutModel",
       "_view_count": null,
       "_view_module": "@jupyter-widgets/base",
       "_view_module_version": "2.0.0",
       "_view_name": "LayoutView",
       "align_content": null,
       "align_items": null,
       "align_self": null,
       "border_bottom": null,
       "border_left": null,
       "border_right": null,
       "border_top": null,
       "bottom": null,
       "display": null,
       "flex": null,
       "flex_flow": null,
       "grid_area": null,
       "grid_auto_columns": null,
       "grid_auto_flow": null,
       "grid_auto_rows": null,
       "grid_column": null,
       "grid_gap": null,
       "grid_row": null,
       "grid_template_areas": null,
       "grid_template_columns": null,
       "grid_template_rows": null,
       "height": null,
       "justify_content": null,
       "justify_items": null,
       "left": null,
       "margin": null,
       "max_height": null,
       "max_width": null,
       "min_height": null,
       "min_width": null,
       "object_fit": null,
       "object_position": null,
       "order": null,
       "overflow": null,
       "padding": null,
       "right": null,
       "top": null,
       "visibility": null,
       "width": null
      }
     }
    },
    "version_major": 2,
    "version_minor": 0
   }
  }
 },
 "nbformat": 4,
 "nbformat_minor": 4
}
