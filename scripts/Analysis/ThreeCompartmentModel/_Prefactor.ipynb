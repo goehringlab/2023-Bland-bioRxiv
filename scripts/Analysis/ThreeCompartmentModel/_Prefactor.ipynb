{
 "cells": [
  {
   "cell_type": "code",
   "execution_count": 1,
   "metadata": {
    "execution": {
     "iopub.execute_input": "2024-05-30T08:07:11.503937Z",
     "iopub.status.busy": "2024-05-30T08:07:11.503607Z",
     "iopub.status.idle": "2024-05-30T08:07:11.612878Z",
     "shell.execute_reply": "2024-05-30T08:07:11.611788Z"
    }
   },
   "outputs": [],
   "source": [
    "import numpy as np"
   ]
  },
  {
   "cell_type": "code",
   "execution_count": 2,
   "metadata": {
    "execution": {
     "iopub.execute_input": "2024-05-30T08:07:11.616687Z",
     "iopub.status.busy": "2024-05-30T08:07:11.616214Z",
     "iopub.status.idle": "2024-05-30T08:07:11.630522Z",
     "shell.execute_reply": "2024-05-30T08:07:11.629313Z"
    }
   },
   "outputs": [
    {
     "name": "stdout",
     "output_type": "stream",
     "text": [
      "2.4269477500402865\n",
      "3.580964371026362e-07\n"
     ]
    }
   ],
   "source": [
    "km = 10 ** np.loadtxt(\n",
    "    \"../DimerModelFitting/log10_km_wt.txt\"\n",
    ")  # determined by model fit (membrane association constant)\n",
    "print(np.loadtxt(\"../DimerModelFitting/log10_km_wt.txt\"))  # unitless\n",
    "ka = 10**6.446  # determined by AUC (dimer association constant)\n",
    "print(1 / ka)  # molar\n",
    "koff = 7.3e-3  # Goehring 2011a"
   ]
  },
  {
   "cell_type": "code",
   "execution_count": 3,
   "metadata": {
    "execution": {
     "iopub.execute_input": "2024-05-30T08:07:11.634699Z",
     "iopub.status.busy": "2024-05-30T08:07:11.634142Z",
     "iopub.status.idle": "2024-05-30T08:07:11.641094Z",
     "shell.execute_reply": "2024-05-30T08:07:11.640091Z"
    }
   },
   "outputs": [
    {
     "name": "stdout",
     "output_type": "stream",
     "text": [
      "4.7631999999999994e-05\n"
     ]
    }
   ],
   "source": [
    "D = 0.005  # cortical thickness (um)\n",
    "cc = 1.04e-8  # wt cytoplasmic concentration (Gross)\n",
    "norm_mem = 22.90  # normalised membrane concentration (me)\n",
    "cm = cc * norm_mem / D\n",
    "print(cm)  # molar"
   ]
  },
  {
   "cell_type": "code",
   "execution_count": 4,
   "metadata": {
    "execution": {
     "iopub.execute_input": "2024-05-30T08:07:11.644901Z",
     "iopub.status.busy": "2024-05-30T08:07:11.644111Z",
     "iopub.status.idle": "2024-05-30T08:07:11.665787Z",
     "shell.execute_reply": "2024-05-30T08:07:11.664406Z"
    }
   },
   "outputs": [
    {
     "name": "stdout",
     "output_type": "stream",
     "text": [
      "46.40463474103827\n"
     ]
    }
   ],
   "source": [
    "# See paper methods\n",
    "pf = koff * np.sqrt(4 * ka * cm + np.sqrt(8 * ka * cm + 1) + 1) * km\n",
    "print(pf)  # M s^-1\n",
    "np.savetxt(\"pf.txt\", [pf])"
   ]
  },
  {
   "cell_type": "code",
   "execution_count": 5,
   "metadata": {
    "execution": {
     "iopub.execute_input": "2024-05-30T08:07:11.670667Z",
     "iopub.status.busy": "2024-05-30T08:07:11.669352Z",
     "iopub.status.idle": "2024-05-30T08:07:11.675999Z",
     "shell.execute_reply": "2024-05-30T08:07:11.674678Z"
    }
   },
   "outputs": [],
   "source": [
    "def koff(m, km, ka, pf):\n",
    "    return pf / (km * np.sqrt(1 + 4 * m * ka + np.sqrt(1 + 8 * m * ka)))"
   ]
  },
  {
   "cell_type": "code",
   "execution_count": 6,
   "metadata": {
    "execution": {
     "iopub.execute_input": "2024-05-30T08:07:11.680091Z",
     "iopub.status.busy": "2024-05-30T08:07:11.679725Z",
     "iopub.status.idle": "2024-05-30T08:07:11.685531Z",
     "shell.execute_reply": "2024-05-30T08:07:11.684478Z"
    }
   },
   "outputs": [
    {
     "name": "stdout",
     "output_type": "stream",
     "text": [
      "0.0073\n"
     ]
    }
   ],
   "source": [
    "print(koff(cm, km, ka, pf))"
   ]
  }
 ],
 "metadata": {
  "kernelspec": {
   "display_name": "Python 3",
   "language": "python",
   "name": "python3"
  },
  "language_info": {
   "codemirror_mode": {
    "name": "ipython",
    "version": 3
   },
   "file_extension": ".py",
   "mimetype": "text/x-python",
   "name": "python",
   "nbconvert_exporter": "python",
   "pygments_lexer": "ipython3",
   "version": "3.11.6"
  },
  "vscode": {
   "interpreter": {
    "hash": "e3dc3871f4e194b0e5205f2056eb037c91cfe60a6f5484f031ab0dd7212226df"
   }
  }
 },
 "nbformat": 4,
 "nbformat_minor": 4
}
