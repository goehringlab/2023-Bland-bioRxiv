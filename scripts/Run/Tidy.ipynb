{
 "cells": [
  {
   "cell_type": "code",
   "execution_count": 1,
   "metadata": {},
   "outputs": [],
   "source": [
    "import os, sys\n",
    "sys.path.append('../..')\n",
    "from src import direcslist\n",
    "import shutil\n",
    "%matplotlib notebook"
   ]
  },
  {
   "cell_type": "code",
   "execution_count": 4,
   "metadata": {},
   "outputs": [
    {
     "name": "stdout",
     "output_type": "stream",
     "text": [
      "853\n"
     ]
    }
   ],
   "source": [
    "# path = raw_data_path + '/Imaging/'\n",
    "# paths = direcslist(path, 2)\n",
    "# print(len(paths))"
   ]
  },
  {
   "cell_type": "code",
   "execution_count": 13,
   "metadata": {},
   "outputs": [],
   "source": [
    "# for p in paths:\n",
    "#     if os.path.exists(p + '/ROI.txt'):\n",
    "#         os.rename(p + '/ROI.txt', p + '/ROI_manual.txt')\n",
    "#         # os.remove(p + '/ROI_fit2.txt')"
   ]
  },
  {
   "cell_type": "code",
   "execution_count": 26,
   "metadata": {},
   "outputs": [],
   "source": [
    "# for p in paths:\n",
    "#     if os.path.exists(p + '/af_corrected_flat.tif'):\n",
    "#         print(p)\n",
    "# #         os.remove(p + '/af_corrected_3channel_flat.tif')"
   ]
  },
  {
   "cell_type": "code",
   "execution_count": 27,
   "metadata": {},
   "outputs": [],
   "source": [
    "# for p in paths:\n",
    "#     if len(glob.glob(p + '/*MDAlog*')) > 0:\n",
    "#         print(p)\n",
    "# #         os.remove(glob.glob(p + '/*MDAlog*')[0])"
   ]
  },
  {
   "cell_type": "code",
   "execution_count": 28,
   "metadata": {},
   "outputs": [],
   "source": [
    "# path = '../Downstream analysis and figures/'\n",
    "# paths = direcslist(path) + direcslist(path, 1)\n",
    "# pngs = []\n",
    "# for p in paths:\n",
    "#     pngs.extend(glob.glob(p + '/*.png'))"
   ]
  },
  {
   "cell_type": "code",
   "execution_count": 29,
   "metadata": {},
   "outputs": [],
   "source": [
    "# for p in pngs:\n",
    "#     os.remove(p)"
   ]
  },
  {
   "cell_type": "code",
   "execution_count": 30,
   "metadata": {},
   "outputs": [],
   "source": [
    "# path = '../Downstream analysis and figures/'\n",
    "# paths = direcslist(path)\n",
    "# notebooks = []\n",
    "# for p in paths:\n",
    "#     notebooks.extend(glob.glob(p + '/*.ipynb'))"
   ]
  },
  {
   "cell_type": "code",
   "execution_count": 31,
   "metadata": {},
   "outputs": [],
   "source": [
    "# from urllib.parse import quote\n",
    "\n",
    "# for i, n in enumerate(sorted(notebooks)):\n",
    "#     print(f'[n{i}]: scripts/{quote(n[3:])}')"
   ]
  },
  {
   "cell_type": "code",
   "execution_count": 36,
   "metadata": {},
   "outputs": [],
   "source": [
    "# for p in direcslist('../Downstream analysis and figures'):\n",
    "#     if os.path.exists(p + '/Figs'):\n",
    "#         shutil.rmtree(p + '/Figs')"
   ]
  },
  {
   "cell_type": "code",
   "execution_count": 17,
   "metadata": {},
   "outputs": [
    {
     "name": "stdout",
     "output_type": "stream",
     "text": [
      "[a5302]: scripts/Analysis/6HNL/6HNL.ipynb\n",
      "[a1912]: scripts/Analysis/DimerModelFitting/02_AllFits.ipynb\n",
      "[a5698]: scripts/Analysis/DimerModelFitting/00_ProcessData.ipynb\n",
      "[a6801]: scripts/Analysis/DimerModelFitting/01_Figures.ipynb\n",
      "[a5093]: scripts/Analysis/DimerModelSolving/SolveModel.ipynb\n",
      "[a6684]: scripts/Analysis/GCN4/Fragment.ipynb\n",
      "[a5514]: scripts/Analysis/GCN4/Par3Mut.ipynb\n",
      "[a1834]: scripts/Analysis/GCN4/Par2GCN4.ipynb\n",
      "[a9246]: scripts/Analysis/GCN4/PRBH.ipynb\n",
      "[a9263]: scripts/Analysis/Meiosis/Figures.ipynb\n",
      "[a9397]: scripts/Analysis/Mlc4/SAIBR.ipynb\n",
      "[a4186]: scripts/Analysis/Mlc4/Quantification.ipynb\n",
      "[a5886]: scripts/Analysis/ModelNonlinearity/Figs.ipynb\n",
      "[a3255]: scripts/Analysis/Nop1/Lethality.ipynb\n",
      "[a3572]: scripts/Analysis/Nop1/2cellAsymmetry.ipynb\n",
      "[a9147]: scripts/Analysis/Optogenetics/Optogenetics.ipynb\n",
      "[a0226]: scripts/Analysis/PhRundown/FigsLogTransformed.ipynb\n",
      "[a1487]: scripts/Analysis/PolarisedVsUniform/Figures.ipynb\n",
      "[a2111]: scripts/Analysis/QuantificationCalibrationComparison/Figures.ipynb\n",
      "[a6427]: scripts/Analysis/QuantificationMethod/MethodComparison.ipynb\n",
      "[a4447]: scripts/Analysis/QuantificationMethod/SchematicMembraneProfile.ipynb\n",
      "[a8752]: scripts/Analysis/QuantificationMethod/Schematic.ipynb\n",
      "[a4134]: scripts/Analysis/QuantificationSummaryTable/ResultsTable.ipynb\n",
      "[a7601]: scripts/Analysis/RingCombinedMutants/Figures.ipynb\n",
      "[a3603]: scripts/Analysis/RingFragment/Figures.ipynb\n",
      "[a5616]: scripts/Analysis/RingPh/Figures.ipynb\n",
      "[a6085]: scripts/Analysis/RundownsRegression/PlotLinearScale.ipynb\n",
      "[a3476]: scripts/Analysis/RundownsRegression/Schematic.ipynb\n",
      "[a8492]: scripts/Analysis/RundownsRegression/FittingLogTransformed.ipynb\n",
      "[a5498]: scripts/Analysis/SecMals/TitrationCurves.ipynb\n",
      "[a9706]: scripts/Analysis/SecMals/Traces.ipynb\n",
      "[a5004]: scripts/Analysis/SecMals/XmlExtract.ipynb\n",
      "[a6824]: scripts/Analysis/ThreeCompartmentModel/Kinetic.ipynb\n",
      "[a1883]: scripts/Analysis/ThreeCompartmentModel/Prefactor.ipynb\n",
      "[a8987]: scripts/Analysis/ThreeCompartmentModel/Equilibrium.ipynb\n"
     ]
    }
   ],
   "source": [
    "import glob\n",
    "\n",
    "# [n0]: scripts/Downstream%20analysis%20and%20figures/Dimer%20model%20fitting/00%20ProcessData.ipynb\n",
    "\n",
    "counter = 0\n",
    "ts = []\n",
    "for d in direcslist('../Analysis'):\n",
    "    for n in glob.glob(d + '/*.ipynb'):\n",
    "        t = str(os.path.getctime(n))[-4:]\n",
    "        ts.append(t)\n",
    "        print('[a%s]: scripts/%s' % (t, n[3:]))\n",
    "        counter+= 1\n",
    "assert len(ts) == len(set(ts))"
   ]
  },
  {
   "cell_type": "code",
   "execution_count": null,
   "metadata": {},
   "outputs": [],
   "source": []
  }
 ],
 "metadata": {
  "kernelspec": {
   "display_name": "Python 3",
   "language": "python",
   "name": "python3"
  },
  "language_info": {
   "codemirror_mode": {
    "name": "ipython",
    "version": 3
   },
   "file_extension": ".py",
   "mimetype": "text/x-python",
   "name": "python",
   "nbconvert_exporter": "python",
   "pygments_lexer": "ipython3",
   "version": "3.7.12"
  }
 },
 "nbformat": 4,
 "nbformat_minor": 4
}
