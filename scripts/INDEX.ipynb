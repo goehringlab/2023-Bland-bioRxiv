{
 "cells": [
  {
   "cell_type": "markdown",
   "metadata": {},
   "source": [
    "#### INDEX\n",
    "\n",
    "[a5302]: Analysis/6HNL/6HNL.ipynb\n",
    "[a1912]: Analysis/DimerModelFitting/02_AllFits.ipynb\n",
    "[a5698]: Analysis/DimerModelFitting/00_ProcessData.ipynb\n",
    "[a6801]: Analysis/DimerModelFitting/01_Figures.ipynb\n",
    "[a5093]: Analysis/DimerModelSolving/SolveModel.ipynb\n",
    "[a6684]: Analysis/GCN4/Fragment.ipynb\n",
    "[a5514]: Analysis/GCN4/Par3Mut.ipynb\n",
    "[a1834]: Analysis/GCN4/Par2GCN4.ipynb\n",
    "[a9246]: Analysis/GCN4/PRBH.ipynb\n",
    "[a9263]: Analysis/Meiosis/Figures.ipynb\n",
    "[a9397]: Analysis/Mlc4/SAIBR.ipynb\n",
    "[a4186]: Analysis/Mlc4/Quantification.ipynb\n",
    "[a5886]: Analysis/ModelNonlinearity/Figs.ipynb\n",
    "[a3255]: Analysis/Nop1/Lethality.ipynb\n",
    "[a3572]: Analysis/Nop1/2cellAsymmetry.ipynb\n",
    "[a9147]: Analysis/Optogenetics/Optogenetics.ipynb\n",
    "[a0226]: Analysis/PhRundown/FigsLogTransformed.ipynb\n",
    "[a1487]: Analysis/PolarisedVsUniform/Figures.ipynb\n",
    "[a2111]: Analysis/QuantificationCalibrationComparison/Figures.ipynb\n",
    "[a6427]: Analysis/QuantificationMethod/MethodComparison.ipynb\n",
    "[a4447]: Analysis/QuantificationMethod/SchematicMembraneProfile.ipynb\n",
    "[a8752]: Analysis/QuantificationMethod/Schematic.ipynb\n",
    "[a4134]: Analysis/QuantificationSummaryTable/ResultsTable.ipynb\n",
    "[a7601]: Analysis/RingCombinedMutants/Figures.ipynb\n",
    "[a3603]: Analysis/RingFragment/Figures.ipynb\n",
    "[a5616]: Analysis/RingPh/Figures.ipynb\n",
    "[a6085]: Analysis/RundownsRegression/PlotLinearScale.ipynb\n",
    "[a3476]: Analysis/RundownsRegression/Schematic.ipynb\n",
    "[a8492]: Analysis/RundownsRegression/FittingLogTransformed.ipynb\n",
    "[a5498]: Analysis/SecMals/TitrationCurves.ipynb\n",
    "[a9706]: Analysis/SecMals/Traces.ipynb\n",
    "[a5004]: Analysis/SecMals/XmlExtract.ipynb\n",
    "[a6824]: Analysis/ThreeCompartmentModel/Kinetic.ipynb\n",
    "[a1883]: Analysis/ThreeCompartmentModel/Prefactor.ipynb\n",
    "[a8987]: Analysis/ThreeCompartmentModel/Equilibrium.ipynb\n",
    "[a9999]: Analysis/PolarisedVsUniform/S241A.ipynb\n",
    "\n",
    "Figure 1: [D-E][a1487], [F][a0226], [G][a8492]\\\n",
    "Figure 2: [A][a3603], [B-C][a5616], [F-G][a9706], [H][a5498], [I][a1487], [J][a8492], [K][a3572], [L][a3255]\\\n",
    "Figure 3: [B-D][a5886], [F][a6801]\\\n",
    "Figure 4: [A-B][a1834], [C][a6684], [D][a9397], [E][a4186]\\\n",
    "Figure 5: [A][a8987], [C-D][a6824], [E-F][a5514], [G-H][a9246]\\\n",
    "Figure EV1: [A-B][a9999], [C-F][a8492] \\\n",
    "Figure EV3: [B-C][a5302]\\\n",
    "Figure EV4: [B-D][a9263]\\\n",
    "Figure EV5: [A][a8752], [C-D][a2111], [F][a6427], [G][a9147]\\\n",
    "Figure S1: [D][a7601]\\\n",
    "Figure S2: [B-F][a6801], [G][a1912]\\\n",
    "Figure S3: [A-D][a6824]"
   ]
  },
  {
   "cell_type": "markdown",
   "metadata": {},
   "source": []
  }
 ],
 "metadata": {
  "language_info": {
   "name": "python"
  }
 },
 "nbformat": 4,
 "nbformat_minor": 2
}
