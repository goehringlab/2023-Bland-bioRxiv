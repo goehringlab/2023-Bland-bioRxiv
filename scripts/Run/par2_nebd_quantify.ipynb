{
 "cells": [
  {
   "cell_type": "code",
   "execution_count": 1,
   "metadata": {
    "execution": {
     "iopub.execute_input": "2023-12-19T19:43:54.134620Z",
     "iopub.status.busy": "2023-12-19T19:43:54.134299Z",
     "iopub.status.idle": "2023-12-19T19:43:58.303858Z",
     "shell.execute_reply": "2023-12-19T19:43:58.302504Z"
    }
   },
   "outputs": [],
   "source": [
    "\n",
    "import numpy as np\n",
    "import pandas as pd\n",
    "\n",
    "from src import ImageQuant2, load_image, nb_setup, raw_data_path\n",
    "\n",
    "nb_setup()\n",
    "\n",
    "%matplotlib widget"
   ]
  },
  {
   "cell_type": "code",
   "execution_count": 2,
   "metadata": {
    "execution": {
     "iopub.execute_input": "2023-12-19T19:43:58.309458Z",
     "iopub.status.busy": "2023-12-19T19:43:58.307991Z",
     "iopub.status.idle": "2023-12-19T19:43:58.322861Z",
     "shell.execute_reply": "2023-12-19T19:43:58.321607Z"
    }
   },
   "outputs": [
    {
     "name": "stdout",
     "output_type": "stream",
     "text": [
      "3.105837611328295\n"
     ]
    }
   ],
   "source": [
    "# Import quantification moodel\n",
    "membg = np.loadtxt(\"../../data/calibration_mem6.txt\")\n",
    "cytbg = np.loadtxt(\"../../data/calibration_cyt.txt\")\n",
    "calibration_factor = np.loadtxt(\"../../data/calibration_constants.txt\")[6]\n",
    "print(calibration_factor)"
   ]
  },
  {
   "cell_type": "code",
   "execution_count": 3,
   "metadata": {
    "execution": {
     "iopub.execute_input": "2023-12-19T19:43:58.326464Z",
     "iopub.status.busy": "2023-12-19T19:43:58.325801Z",
     "iopub.status.idle": "2023-12-19T19:43:58.338910Z",
     "shell.execute_reply": "2023-12-19T19:43:58.337854Z"
    }
   },
   "outputs": [],
   "source": [
    "# Import embryos dataframe\n",
    "df = pd.read_csv(\"../../data/par2_nebd_embryos.csv\")\n",
    "df[\"Path\"] = df[\"Path\"].apply(lambda x: raw_data_path + x)"
   ]
  },
  {
   "cell_type": "markdown",
   "metadata": {},
   "source": [
    "### Import data"
   ]
  },
  {
   "cell_type": "code",
   "execution_count": 4,
   "metadata": {
    "execution": {
     "iopub.execute_input": "2023-12-19T19:43:58.342625Z",
     "iopub.status.busy": "2023-12-19T19:43:58.342045Z",
     "iopub.status.idle": "2023-12-19T19:44:12.270204Z",
     "shell.execute_reply": "2023-12-19T19:44:12.269286Z"
    }
   },
   "outputs": [],
   "source": [
    "paths = df.Path.to_list()\n",
    "lines = df.Line.to_list()\n",
    "imgs = [load_image(p + \"/af_corrected.tif\") for p in paths]\n",
    "rois = [\n",
    "    np.loadtxt(p + \"/ROI_fit.txt\")\n",
    "    if line != \"n2\"\n",
    "    else np.loadtxt(p + \"/ROI_manual.txt\")\n",
    "    for p, line in zip(paths, lines)\n",
    "]"
   ]
  },
  {
   "cell_type": "markdown",
   "metadata": {},
   "source": [
    "### Run quantification"
   ]
  },
  {
   "cell_type": "code",
   "execution_count": 5,
   "metadata": {
    "execution": {
     "iopub.execute_input": "2023-12-19T19:44:12.273796Z",
     "iopub.status.busy": "2023-12-19T19:44:12.273302Z",
     "iopub.status.idle": "2023-12-19T19:46:54.593691Z",
     "shell.execute_reply": "2023-12-19T19:46:54.592804Z"
    },
    "scrolled": false
   },
   "outputs": [
    {
     "name": "stderr",
     "output_type": "stream",
     "text": [
      "\r",
      "  0%|                                                                                                                   | 0/600 [00:00<?, ?it/s]"
     ]
    },
    {
     "name": "stderr",
     "output_type": "stream",
     "text": [
      "\r",
      "  0%|▏                                                                                                          | 1/600 [00:03<37:16,  3.73s/it]"
     ]
    },
    {
     "name": "stderr",
     "output_type": "stream",
     "text": [
      "\r",
      "  0%|▎                                                                                                          | 2/600 [00:03<16:35,  1.66s/it]"
     ]
    },
    {
     "name": "stderr",
     "output_type": "stream",
     "text": [
      "\r",
      "  0%|▌                                                                                                          | 3/600 [00:04<09:58,  1.00s/it]"
     ]
    },
    {
     "name": "stderr",
     "output_type": "stream",
     "text": [
      "\r",
      "  1%|▋                                                                                                          | 4/600 [00:04<06:49,  1.46it/s]"
     ]
    },
    {
     "name": "stderr",
     "output_type": "stream",
     "text": [
      "\r",
      "  1%|▉                                                                                                          | 5/600 [00:04<05:04,  1.96it/s]"
     ]
    },
    {
     "name": "stderr",
     "output_type": "stream",
     "text": [
      "\r",
      "  1%|█                                                                                                          | 6/600 [00:04<04:02,  2.45it/s]"
     ]
    },
    {
     "name": "stderr",
     "output_type": "stream",
     "text": [
      "\r",
      "  1%|█▏                                                                                                         | 7/600 [00:04<03:22,  2.93it/s]"
     ]
    },
    {
     "name": "stderr",
     "output_type": "stream",
     "text": [
      "\r",
      "  1%|█▍                                                                                                         | 8/600 [00:05<02:57,  3.34it/s]"
     ]
    },
    {
     "name": "stderr",
     "output_type": "stream",
     "text": [
      "\r",
      "  2%|█▌                                                                                                         | 9/600 [00:05<02:39,  3.71it/s]"
     ]
    },
    {
     "name": "stderr",
     "output_type": "stream",
     "text": [
      "\r",
      "  2%|█▊                                                                                                        | 10/600 [00:05<02:26,  4.02it/s]"
     ]
    },
    {
     "name": "stderr",
     "output_type": "stream",
     "text": [
      "\r",
      "  2%|█▉                                                                                                        | 11/600 [00:05<02:18,  4.24it/s]"
     ]
    },
    {
     "name": "stderr",
     "output_type": "stream",
     "text": [
      "\r",
      "  2%|██                                                                                                        | 12/600 [00:06<02:18,  4.24it/s]"
     ]
    },
    {
     "name": "stderr",
     "output_type": "stream",
     "text": [
      "\r",
      "  2%|██▎                                                                                                       | 13/600 [00:06<02:15,  4.35it/s]"
     ]
    },
    {
     "name": "stderr",
     "output_type": "stream",
     "text": [
      "\r",
      "  2%|██▍                                                                                                       | 14/600 [00:06<02:10,  4.48it/s]"
     ]
    },
    {
     "name": "stderr",
     "output_type": "stream",
     "text": [
      "\r",
      "  2%|██▋                                                                                                       | 15/600 [00:06<02:06,  4.61it/s]"
     ]
    },
    {
     "name": "stderr",
     "output_type": "stream",
     "text": [
      "\r",
      "  3%|██▊                                                                                                       | 16/600 [00:06<02:04,  4.70it/s]"
     ]
    },
    {
     "name": "stderr",
     "output_type": "stream",
     "text": [
      "\r",
      "  3%|███                                                                                                       | 17/600 [00:07<02:01,  4.78it/s]"
     ]
    },
    {
     "name": "stderr",
     "output_type": "stream",
     "text": [
      "\r",
      "  3%|███▏                                                                                                      | 18/600 [00:07<02:01,  4.80it/s]"
     ]
    },
    {
     "name": "stderr",
     "output_type": "stream",
     "text": [
      "\r",
      "  3%|███▎                                                                                                      | 19/600 [00:07<02:00,  4.83it/s]"
     ]
    },
    {
     "name": "stderr",
     "output_type": "stream",
     "text": [
      "\r",
      "  3%|███▌                                                                                                      | 20/600 [00:07<01:59,  4.86it/s]"
     ]
    },
    {
     "name": "stderr",
     "output_type": "stream",
     "text": [
      "\r",
      "  4%|███▋                                                                                                      | 21/600 [00:07<02:00,  4.80it/s]"
     ]
    },
    {
     "name": "stderr",
     "output_type": "stream",
     "text": [
      "\r",
      "  4%|███▉                                                                                                      | 22/600 [00:08<02:00,  4.82it/s]"
     ]
    },
    {
     "name": "stderr",
     "output_type": "stream",
     "text": [
      "\r",
      "  4%|████                                                                                                      | 23/600 [00:08<01:59,  4.82it/s]"
     ]
    },
    {
     "name": "stderr",
     "output_type": "stream",
     "text": [
      "\r",
      "  4%|████▏                                                                                                     | 24/600 [00:08<01:58,  4.84it/s]"
     ]
    },
    {
     "name": "stderr",
     "output_type": "stream",
     "text": [
      "\r",
      "  4%|████▍                                                                                                     | 25/600 [00:08<01:57,  4.88it/s]"
     ]
    },
    {
     "name": "stderr",
     "output_type": "stream",
     "text": [
      "\r",
      "  4%|████▌                                                                                                     | 26/600 [00:08<01:57,  4.90it/s]"
     ]
    },
    {
     "name": "stderr",
     "output_type": "stream",
     "text": [
      "\r",
      "  4%|████▊                                                                                                     | 27/600 [00:09<01:56,  4.92it/s]"
     ]
    },
    {
     "name": "stderr",
     "output_type": "stream",
     "text": [
      "\r",
      "  5%|████▉                                                                                                     | 28/600 [00:09<01:57,  4.88it/s]"
     ]
    },
    {
     "name": "stderr",
     "output_type": "stream",
     "text": [
      "\r",
      "  5%|█████                                                                                                     | 29/600 [00:09<01:56,  4.90it/s]"
     ]
    },
    {
     "name": "stderr",
     "output_type": "stream",
     "text": [
      "\r",
      "  5%|█████▎                                                                                                    | 30/600 [00:09<01:55,  4.92it/s]"
     ]
    },
    {
     "name": "stderr",
     "output_type": "stream",
     "text": [
      "\r",
      "  5%|█████▍                                                                                                    | 31/600 [00:09<01:56,  4.90it/s]"
     ]
    },
    {
     "name": "stderr",
     "output_type": "stream",
     "text": [
      "\r",
      "  5%|█████▋                                                                                                    | 32/600 [00:10<01:55,  4.91it/s]"
     ]
    },
    {
     "name": "stderr",
     "output_type": "stream",
     "text": [
      "\r",
      "  6%|█████▊                                                                                                    | 33/600 [00:10<01:55,  4.90it/s]"
     ]
    },
    {
     "name": "stderr",
     "output_type": "stream",
     "text": [
      "\r",
      "  6%|██████                                                                                                    | 34/600 [00:10<01:55,  4.89it/s]"
     ]
    },
    {
     "name": "stderr",
     "output_type": "stream",
     "text": [
      "\r",
      "  6%|██████▏                                                                                                   | 35/600 [00:10<01:55,  4.90it/s]"
     ]
    },
    {
     "name": "stderr",
     "output_type": "stream",
     "text": [
      "\r",
      "  6%|██████▎                                                                                                   | 36/600 [00:10<01:54,  4.92it/s]"
     ]
    },
    {
     "name": "stderr",
     "output_type": "stream",
     "text": [
      "\r",
      "  6%|██████▌                                                                                                   | 37/600 [00:11<01:54,  4.92it/s]"
     ]
    },
    {
     "name": "stderr",
     "output_type": "stream",
     "text": [
      "\r",
      "  6%|██████▋                                                                                                   | 38/600 [00:11<01:53,  4.93it/s]"
     ]
    },
    {
     "name": "stderr",
     "output_type": "stream",
     "text": [
      "\r",
      "  6%|██████▉                                                                                                   | 39/600 [00:11<01:54,  4.90it/s]"
     ]
    },
    {
     "name": "stderr",
     "output_type": "stream",
     "text": [
      "\r",
      "  7%|███████                                                                                                   | 40/600 [00:11<01:54,  4.91it/s]"
     ]
    },
    {
     "name": "stderr",
     "output_type": "stream",
     "text": [
      "\r",
      "  7%|███████▏                                                                                                  | 41/600 [00:11<01:53,  4.92it/s]"
     ]
    },
    {
     "name": "stderr",
     "output_type": "stream",
     "text": [
      "\r",
      "  7%|███████▍                                                                                                  | 42/600 [00:12<01:53,  4.91it/s]"
     ]
    },
    {
     "name": "stderr",
     "output_type": "stream",
     "text": [
      "\r",
      "  7%|███████▌                                                                                                  | 43/600 [00:12<01:54,  4.88it/s]"
     ]
    },
    {
     "name": "stderr",
     "output_type": "stream",
     "text": [
      "\r",
      "  7%|███████▊                                                                                                  | 44/600 [00:12<01:53,  4.90it/s]"
     ]
    },
    {
     "name": "stderr",
     "output_type": "stream",
     "text": [
      "\r",
      "  8%|███████▉                                                                                                  | 45/600 [00:12<01:53,  4.90it/s]"
     ]
    },
    {
     "name": "stderr",
     "output_type": "stream",
     "text": [
      "\r",
      "  8%|████████▏                                                                                                 | 46/600 [00:12<01:52,  4.92it/s]"
     ]
    },
    {
     "name": "stderr",
     "output_type": "stream",
     "text": [
      "\r",
      "  8%|████████▎                                                                                                 | 47/600 [00:13<01:52,  4.94it/s]"
     ]
    },
    {
     "name": "stderr",
     "output_type": "stream",
     "text": [
      "\r",
      "  8%|████████▍                                                                                                 | 48/600 [00:13<01:52,  4.92it/s]"
     ]
    },
    {
     "name": "stderr",
     "output_type": "stream",
     "text": [
      "\r",
      "  8%|████████▋                                                                                                 | 49/600 [00:13<01:53,  4.84it/s]"
     ]
    },
    {
     "name": "stderr",
     "output_type": "stream",
     "text": [
      "\r",
      "  8%|████████▊                                                                                                 | 50/600 [00:13<01:55,  4.77it/s]"
     ]
    },
    {
     "name": "stderr",
     "output_type": "stream",
     "text": [
      "\r",
      "  8%|█████████                                                                                                 | 51/600 [00:14<01:53,  4.82it/s]"
     ]
    },
    {
     "name": "stderr",
     "output_type": "stream",
     "text": [
      "\r",
      "  9%|█████████▏                                                                                                | 52/600 [00:14<01:53,  4.84it/s]"
     ]
    },
    {
     "name": "stderr",
     "output_type": "stream",
     "text": [
      "\r",
      "  9%|█████████▎                                                                                                | 53/600 [00:14<01:52,  4.87it/s]"
     ]
    },
    {
     "name": "stderr",
     "output_type": "stream",
     "text": [
      "\r",
      "  9%|█████████▌                                                                                                | 54/600 [00:14<01:51,  4.89it/s]"
     ]
    },
    {
     "name": "stderr",
     "output_type": "stream",
     "text": [
      "\r",
      "  9%|█████████▋                                                                                                | 55/600 [00:14<01:51,  4.88it/s]"
     ]
    },
    {
     "name": "stderr",
     "output_type": "stream",
     "text": [
      "\r",
      "  9%|█████████▉                                                                                                | 56/600 [00:15<01:50,  4.91it/s]"
     ]
    },
    {
     "name": "stderr",
     "output_type": "stream",
     "text": [
      "\r",
      " 10%|██████████                                                                                                | 57/600 [00:15<01:50,  4.90it/s]"
     ]
    },
    {
     "name": "stderr",
     "output_type": "stream",
     "text": [
      "\r",
      " 10%|██████████▏                                                                                               | 58/600 [00:15<01:51,  4.87it/s]"
     ]
    },
    {
     "name": "stderr",
     "output_type": "stream",
     "text": [
      "\r",
      " 10%|██████████▍                                                                                               | 59/600 [00:15<01:50,  4.89it/s]"
     ]
    },
    {
     "name": "stderr",
     "output_type": "stream",
     "text": [
      "\r",
      " 10%|██████████▌                                                                                               | 60/600 [00:15<01:49,  4.91it/s]"
     ]
    },
    {
     "name": "stderr",
     "output_type": "stream",
     "text": [
      "\r",
      " 10%|██████████▊                                                                                               | 61/600 [00:16<01:49,  4.93it/s]"
     ]
    },
    {
     "name": "stderr",
     "output_type": "stream",
     "text": [
      "\r",
      " 10%|██████████▉                                                                                               | 62/600 [00:16<01:49,  4.89it/s]"
     ]
    },
    {
     "name": "stderr",
     "output_type": "stream",
     "text": [
      "\r",
      " 10%|███████████▏                                                                                              | 63/600 [00:16<02:10,  4.11it/s]"
     ]
    },
    {
     "name": "stderr",
     "output_type": "stream",
     "text": [
      "\r",
      " 11%|███████████▎                                                                                              | 64/600 [00:16<02:04,  4.31it/s]"
     ]
    },
    {
     "name": "stderr",
     "output_type": "stream",
     "text": [
      "\r",
      " 11%|███████████▍                                                                                              | 65/600 [00:17<01:59,  4.48it/s]"
     ]
    },
    {
     "name": "stderr",
     "output_type": "stream",
     "text": [
      "\r",
      " 11%|███████████▋                                                                                              | 66/600 [00:17<01:56,  4.57it/s]"
     ]
    },
    {
     "name": "stderr",
     "output_type": "stream",
     "text": [
      "\r",
      " 11%|███████████▊                                                                                              | 67/600 [00:17<02:15,  3.94it/s]"
     ]
    },
    {
     "name": "stderr",
     "output_type": "stream",
     "text": [
      "\r",
      " 11%|████████████                                                                                              | 68/600 [00:17<02:07,  4.18it/s]"
     ]
    },
    {
     "name": "stderr",
     "output_type": "stream",
     "text": [
      "\r",
      " 12%|████████████▏                                                                                             | 69/600 [00:17<02:02,  4.33it/s]"
     ]
    },
    {
     "name": "stderr",
     "output_type": "stream",
     "text": [
      "\r",
      " 12%|████████████▎                                                                                             | 70/600 [00:18<01:58,  4.47it/s]"
     ]
    },
    {
     "name": "stderr",
     "output_type": "stream",
     "text": [
      "\r",
      " 12%|████████████▌                                                                                             | 71/600 [00:18<01:55,  4.58it/s]"
     ]
    },
    {
     "name": "stderr",
     "output_type": "stream",
     "text": [
      "\r",
      " 12%|████████████▋                                                                                             | 72/600 [00:18<01:52,  4.67it/s]"
     ]
    },
    {
     "name": "stderr",
     "output_type": "stream",
     "text": [
      "\r",
      " 12%|████████████▉                                                                                             | 73/600 [00:18<01:51,  4.72it/s]"
     ]
    },
    {
     "name": "stderr",
     "output_type": "stream",
     "text": [
      "\r",
      " 12%|█████████████                                                                                             | 74/600 [00:19<01:50,  4.77it/s]"
     ]
    },
    {
     "name": "stderr",
     "output_type": "stream",
     "text": [
      "\r",
      " 12%|█████████████▎                                                                                            | 75/600 [00:19<01:48,  4.82it/s]"
     ]
    },
    {
     "name": "stderr",
     "output_type": "stream",
     "text": [
      "\r",
      " 13%|█████████████▍                                                                                            | 76/600 [00:19<01:48,  4.83it/s]"
     ]
    },
    {
     "name": "stderr",
     "output_type": "stream",
     "text": [
      "\r",
      " 13%|█████████████▌                                                                                            | 77/600 [00:19<01:47,  4.86it/s]"
     ]
    },
    {
     "name": "stderr",
     "output_type": "stream",
     "text": [
      "\r",
      " 13%|█████████████▊                                                                                            | 78/600 [00:19<01:47,  4.86it/s]"
     ]
    },
    {
     "name": "stderr",
     "output_type": "stream",
     "text": [
      "\r",
      " 13%|█████████████▉                                                                                            | 79/600 [00:20<01:47,  4.86it/s]"
     ]
    },
    {
     "name": "stderr",
     "output_type": "stream",
     "text": [
      "\r",
      " 13%|██████████████▏                                                                                           | 80/600 [00:20<01:49,  4.76it/s]"
     ]
    },
    {
     "name": "stderr",
     "output_type": "stream",
     "text": [
      "\r",
      " 14%|██████████████▎                                                                                           | 81/600 [00:20<01:47,  4.81it/s]"
     ]
    },
    {
     "name": "stderr",
     "output_type": "stream",
     "text": [
      "\r",
      " 14%|██████████████▍                                                                                           | 82/600 [00:20<01:47,  4.82it/s]"
     ]
    },
    {
     "name": "stderr",
     "output_type": "stream",
     "text": [
      "\r",
      " 14%|██████████████▋                                                                                           | 83/600 [00:20<01:46,  4.84it/s]"
     ]
    },
    {
     "name": "stderr",
     "output_type": "stream",
     "text": [
      "\r",
      " 14%|██████████████▊                                                                                           | 84/600 [00:21<01:46,  4.86it/s]"
     ]
    },
    {
     "name": "stderr",
     "output_type": "stream",
     "text": [
      "\r",
      " 14%|███████████████                                                                                           | 85/600 [00:21<01:45,  4.88it/s]"
     ]
    },
    {
     "name": "stderr",
     "output_type": "stream",
     "text": [
      "\r",
      " 14%|███████████████▏                                                                                          | 86/600 [00:21<01:46,  4.84it/s]"
     ]
    },
    {
     "name": "stderr",
     "output_type": "stream",
     "text": [
      "\r",
      " 14%|███████████████▎                                                                                          | 87/600 [00:21<01:45,  4.86it/s]"
     ]
    },
    {
     "name": "stderr",
     "output_type": "stream",
     "text": [
      "\r",
      " 15%|███████████████▌                                                                                          | 88/600 [00:21<01:45,  4.87it/s]"
     ]
    },
    {
     "name": "stderr",
     "output_type": "stream",
     "text": [
      "\r",
      " 15%|███████████████▋                                                                                          | 89/600 [00:22<01:44,  4.89it/s]"
     ]
    },
    {
     "name": "stderr",
     "output_type": "stream",
     "text": [
      "\r",
      " 15%|███████████████▉                                                                                          | 90/600 [00:22<01:44,  4.88it/s]"
     ]
    },
    {
     "name": "stderr",
     "output_type": "stream",
     "text": [
      "\r",
      " 15%|████████████████                                                                                          | 91/600 [00:22<01:45,  4.82it/s]"
     ]
    },
    {
     "name": "stderr",
     "output_type": "stream",
     "text": [
      "\r",
      " 15%|████████████████▎                                                                                         | 92/600 [00:22<01:44,  4.84it/s]"
     ]
    },
    {
     "name": "stderr",
     "output_type": "stream",
     "text": [
      "\r",
      " 16%|████████████████▍                                                                                         | 93/600 [00:22<01:44,  4.86it/s]"
     ]
    },
    {
     "name": "stderr",
     "output_type": "stream",
     "text": [
      "\r",
      " 16%|████████████████▌                                                                                         | 94/600 [00:23<01:44,  4.85it/s]"
     ]
    },
    {
     "name": "stderr",
     "output_type": "stream",
     "text": [
      "\r",
      " 16%|████████████████▊                                                                                         | 95/600 [00:23<01:44,  4.84it/s]"
     ]
    },
    {
     "name": "stderr",
     "output_type": "stream",
     "text": [
      "\r",
      " 16%|████████████████▉                                                                                         | 96/600 [00:23<01:43,  4.85it/s]"
     ]
    },
    {
     "name": "stderr",
     "output_type": "stream",
     "text": [
      "\r",
      " 16%|█████████████████▏                                                                                        | 97/600 [00:23<01:44,  4.79it/s]"
     ]
    },
    {
     "name": "stderr",
     "output_type": "stream",
     "text": [
      "\r",
      " 16%|█████████████████▎                                                                                        | 98/600 [00:23<01:44,  4.81it/s]"
     ]
    },
    {
     "name": "stderr",
     "output_type": "stream",
     "text": [
      "\r",
      " 16%|█████████████████▍                                                                                        | 99/600 [00:24<01:44,  4.81it/s]"
     ]
    },
    {
     "name": "stderr",
     "output_type": "stream",
     "text": [
      "\r",
      " 17%|█████████████████▌                                                                                       | 100/600 [00:24<01:42,  4.86it/s]"
     ]
    },
    {
     "name": "stderr",
     "output_type": "stream",
     "text": [
      "\r",
      " 17%|█████████████████▋                                                                                       | 101/600 [00:24<01:42,  4.86it/s]"
     ]
    },
    {
     "name": "stderr",
     "output_type": "stream",
     "text": [
      "\r",
      " 17%|█████████████████▊                                                                                       | 102/600 [00:24<01:43,  4.80it/s]"
     ]
    },
    {
     "name": "stderr",
     "output_type": "stream",
     "text": [
      "\r",
      " 17%|██████████████████                                                                                       | 103/600 [00:24<01:42,  4.84it/s]"
     ]
    },
    {
     "name": "stderr",
     "output_type": "stream",
     "text": [
      "\r",
      " 17%|██████████████████▏                                                                                      | 104/600 [00:25<01:41,  4.87it/s]"
     ]
    },
    {
     "name": "stderr",
     "output_type": "stream",
     "text": [
      "\r",
      " 18%|██████████████████▍                                                                                      | 105/600 [00:25<01:41,  4.86it/s]"
     ]
    },
    {
     "name": "stderr",
     "output_type": "stream",
     "text": [
      "\r",
      " 18%|██████████████████▌                                                                                      | 106/600 [00:25<01:40,  4.90it/s]"
     ]
    },
    {
     "name": "stderr",
     "output_type": "stream",
     "text": [
      "\r",
      " 18%|██████████████████▋                                                                                      | 107/600 [00:25<01:38,  5.01it/s]"
     ]
    },
    {
     "name": "stderr",
     "output_type": "stream",
     "text": [
      "\r",
      " 18%|██████████████████▉                                                                                      | 108/600 [00:25<01:36,  5.08it/s]"
     ]
    },
    {
     "name": "stderr",
     "output_type": "stream",
     "text": [
      "\r",
      " 18%|███████████████████                                                                                      | 109/600 [00:26<01:35,  5.13it/s]"
     ]
    },
    {
     "name": "stderr",
     "output_type": "stream",
     "text": [
      "\r",
      " 18%|███████████████████▎                                                                                     | 110/600 [00:26<01:34,  5.17it/s]"
     ]
    },
    {
     "name": "stderr",
     "output_type": "stream",
     "text": [
      "\r",
      " 18%|███████████████████▍                                                                                     | 111/600 [00:26<01:35,  5.15it/s]"
     ]
    },
    {
     "name": "stderr",
     "output_type": "stream",
     "text": [
      "\r",
      " 19%|███████████████████▌                                                                                     | 112/600 [00:26<01:35,  5.10it/s]"
     ]
    },
    {
     "name": "stderr",
     "output_type": "stream",
     "text": [
      "\r",
      " 19%|███████████████████▊                                                                                     | 113/600 [00:26<01:34,  5.15it/s]"
     ]
    },
    {
     "name": "stderr",
     "output_type": "stream",
     "text": [
      "\r",
      " 19%|███████████████████▉                                                                                     | 114/600 [00:27<01:35,  5.08it/s]"
     ]
    },
    {
     "name": "stderr",
     "output_type": "stream",
     "text": [
      "\r",
      " 19%|████████████████████▏                                                                                    | 115/600 [00:27<01:36,  5.05it/s]"
     ]
    },
    {
     "name": "stderr",
     "output_type": "stream",
     "text": [
      "\r",
      " 19%|████████████████████▎                                                                                    | 116/600 [00:27<01:36,  5.02it/s]"
     ]
    },
    {
     "name": "stderr",
     "output_type": "stream",
     "text": [
      "\r",
      " 20%|████████████████████▍                                                                                    | 117/600 [00:27<01:36,  4.98it/s]"
     ]
    },
    {
     "name": "stderr",
     "output_type": "stream",
     "text": [
      "\r",
      " 20%|████████████████████▋                                                                                    | 118/600 [00:27<01:37,  4.92it/s]"
     ]
    },
    {
     "name": "stderr",
     "output_type": "stream",
     "text": [
      "\r",
      " 20%|████████████████████▊                                                                                    | 119/600 [00:28<01:37,  4.93it/s]"
     ]
    },
    {
     "name": "stderr",
     "output_type": "stream",
     "text": [
      "\r",
      " 20%|█████████████████████                                                                                    | 120/600 [00:28<01:37,  4.91it/s]"
     ]
    },
    {
     "name": "stderr",
     "output_type": "stream",
     "text": [
      "\r",
      " 20%|█████████████████████▏                                                                                   | 121/600 [00:28<01:37,  4.92it/s]"
     ]
    },
    {
     "name": "stderr",
     "output_type": "stream",
     "text": [
      "\r",
      " 20%|█████████████████████▎                                                                                   | 122/600 [00:28<01:37,  4.90it/s]"
     ]
    },
    {
     "name": "stderr",
     "output_type": "stream",
     "text": [
      "\r",
      " 20%|█████████████████████▌                                                                                   | 123/600 [00:28<01:37,  4.90it/s]"
     ]
    },
    {
     "name": "stderr",
     "output_type": "stream",
     "text": [
      "\r",
      " 21%|█████████████████████▋                                                                                   | 124/600 [00:29<01:37,  4.90it/s]"
     ]
    },
    {
     "name": "stderr",
     "output_type": "stream",
     "text": [
      "\r",
      " 21%|█████████████████████▉                                                                                   | 125/600 [00:29<01:37,  4.87it/s]"
     ]
    },
    {
     "name": "stderr",
     "output_type": "stream",
     "text": [
      "\r",
      " 21%|██████████████████████                                                                                   | 126/600 [00:29<01:36,  4.90it/s]"
     ]
    },
    {
     "name": "stderr",
     "output_type": "stream",
     "text": [
      "\r",
      " 21%|██████████████████████▏                                                                                  | 127/600 [00:29<01:36,  4.89it/s]"
     ]
    },
    {
     "name": "stderr",
     "output_type": "stream",
     "text": [
      "\r",
      " 21%|██████████████████████▍                                                                                  | 128/600 [00:30<01:36,  4.90it/s]"
     ]
    },
    {
     "name": "stderr",
     "output_type": "stream",
     "text": [
      "\r",
      " 22%|██████████████████████▌                                                                                  | 129/600 [00:30<01:36,  4.90it/s]"
     ]
    },
    {
     "name": "stderr",
     "output_type": "stream",
     "text": [
      "\r",
      " 22%|██████████████████████▊                                                                                  | 130/600 [00:30<01:36,  4.88it/s]"
     ]
    },
    {
     "name": "stderr",
     "output_type": "stream",
     "text": [
      "\r",
      " 22%|██████████████████████▉                                                                                  | 131/600 [00:30<01:37,  4.79it/s]"
     ]
    },
    {
     "name": "stderr",
     "output_type": "stream",
     "text": [
      "\r",
      " 22%|███████████████████████                                                                                  | 132/600 [00:30<01:38,  4.75it/s]"
     ]
    },
    {
     "name": "stderr",
     "output_type": "stream",
     "text": [
      "\r",
      " 22%|███████████████████████▎                                                                                 | 133/600 [00:31<01:36,  4.85it/s]"
     ]
    },
    {
     "name": "stderr",
     "output_type": "stream",
     "text": [
      "\r",
      " 22%|███████████████████████▍                                                                                 | 134/600 [00:31<01:33,  4.97it/s]"
     ]
    },
    {
     "name": "stderr",
     "output_type": "stream",
     "text": [
      "\r",
      " 22%|███████████████████████▋                                                                                 | 135/600 [00:31<01:31,  5.06it/s]"
     ]
    },
    {
     "name": "stderr",
     "output_type": "stream",
     "text": [
      "\r",
      " 23%|███████████████████████▊                                                                                 | 136/600 [00:31<01:30,  5.11it/s]"
     ]
    },
    {
     "name": "stderr",
     "output_type": "stream",
     "text": [
      "\r",
      " 23%|███████████████████████▉                                                                                 | 137/600 [00:31<01:30,  5.09it/s]"
     ]
    },
    {
     "name": "stderr",
     "output_type": "stream",
     "text": [
      "\r",
      " 23%|████████████████████████▏                                                                                | 138/600 [00:32<01:31,  5.03it/s]"
     ]
    },
    {
     "name": "stderr",
     "output_type": "stream",
     "text": [
      "\r",
      " 23%|████████████████████████▎                                                                                | 139/600 [00:32<01:31,  5.05it/s]"
     ]
    },
    {
     "name": "stderr",
     "output_type": "stream",
     "text": [
      "\r",
      " 23%|████████████████████████▌                                                                                | 140/600 [00:32<01:30,  5.11it/s]"
     ]
    },
    {
     "name": "stderr",
     "output_type": "stream",
     "text": [
      "\r",
      " 24%|████████████████████████▋                                                                                | 141/600 [00:32<01:29,  5.15it/s]"
     ]
    },
    {
     "name": "stderr",
     "output_type": "stream",
     "text": [
      "\r",
      " 24%|████████████████████████▊                                                                                | 142/600 [00:32<01:28,  5.20it/s]"
     ]
    },
    {
     "name": "stderr",
     "output_type": "stream",
     "text": [
      "\r",
      " 24%|█████████████████████████                                                                                | 143/600 [00:32<01:27,  5.22it/s]"
     ]
    },
    {
     "name": "stderr",
     "output_type": "stream",
     "text": [
      "\r",
      " 24%|█████████████████████████▏                                                                               | 144/600 [00:33<01:26,  5.24it/s]"
     ]
    },
    {
     "name": "stderr",
     "output_type": "stream",
     "text": [
      "\r",
      " 24%|█████████████████████████▍                                                                               | 145/600 [00:33<01:26,  5.24it/s]"
     ]
    },
    {
     "name": "stderr",
     "output_type": "stream",
     "text": [
      "\r",
      " 24%|█████████████████████████▌                                                                               | 146/600 [00:33<01:26,  5.27it/s]"
     ]
    },
    {
     "name": "stderr",
     "output_type": "stream",
     "text": [
      "\r",
      " 24%|█████████████████████████▋                                                                               | 147/600 [00:33<01:25,  5.28it/s]"
     ]
    },
    {
     "name": "stderr",
     "output_type": "stream",
     "text": [
      "\r",
      " 25%|█████████████████████████▉                                                                               | 148/600 [00:33<01:26,  5.24it/s]"
     ]
    },
    {
     "name": "stderr",
     "output_type": "stream",
     "text": [
      "\r",
      " 25%|██████████████████████████                                                                               | 149/600 [00:34<01:25,  5.25it/s]"
     ]
    },
    {
     "name": "stderr",
     "output_type": "stream",
     "text": [
      "\r",
      " 25%|██████████████████████████▎                                                                              | 150/600 [00:34<01:25,  5.27it/s]"
     ]
    },
    {
     "name": "stderr",
     "output_type": "stream",
     "text": [
      "\r",
      " 25%|██████████████████████████▍                                                                              | 151/600 [00:34<01:25,  5.28it/s]"
     ]
    },
    {
     "name": "stderr",
     "output_type": "stream",
     "text": [
      "\r",
      " 25%|██████████████████████████▌                                                                              | 152/600 [00:34<01:24,  5.28it/s]"
     ]
    },
    {
     "name": "stderr",
     "output_type": "stream",
     "text": [
      "\r",
      " 26%|██████████████████████████▊                                                                              | 153/600 [00:34<01:25,  5.24it/s]"
     ]
    },
    {
     "name": "stderr",
     "output_type": "stream",
     "text": [
      "\r",
      " 26%|██████████████████████████▉                                                                              | 154/600 [00:35<01:26,  5.15it/s]"
     ]
    },
    {
     "name": "stderr",
     "output_type": "stream",
     "text": [
      "\r",
      " 26%|███████████████████████████▏                                                                             | 155/600 [00:35<01:28,  5.02it/s]"
     ]
    },
    {
     "name": "stderr",
     "output_type": "stream",
     "text": [
      "\r",
      " 26%|███████████████████████████▎                                                                             | 156/600 [00:35<01:28,  5.00it/s]"
     ]
    },
    {
     "name": "stderr",
     "output_type": "stream",
     "text": [
      "\r",
      " 26%|███████████████████████████▍                                                                             | 157/600 [00:35<01:28,  4.98it/s]"
     ]
    },
    {
     "name": "stderr",
     "output_type": "stream",
     "text": [
      "\r",
      " 26%|███████████████████████████▋                                                                             | 158/600 [00:35<01:29,  4.96it/s]"
     ]
    },
    {
     "name": "stderr",
     "output_type": "stream",
     "text": [
      "\r",
      " 26%|███████████████████████████▊                                                                             | 159/600 [00:36<01:31,  4.83it/s]"
     ]
    },
    {
     "name": "stderr",
     "output_type": "stream",
     "text": [
      "\r",
      " 27%|████████████████████████████                                                                             | 160/600 [00:36<01:30,  4.84it/s]"
     ]
    },
    {
     "name": "stderr",
     "output_type": "stream",
     "text": [
      "\r",
      " 27%|████████████████████████████▏                                                                            | 161/600 [00:36<01:30,  4.85it/s]"
     ]
    },
    {
     "name": "stderr",
     "output_type": "stream",
     "text": [
      "\r",
      " 27%|████████████████████████████▎                                                                            | 162/600 [00:36<01:31,  4.77it/s]"
     ]
    },
    {
     "name": "stderr",
     "output_type": "stream",
     "text": [
      "\r",
      " 27%|████████████████████████████▌                                                                            | 163/600 [00:36<01:33,  4.70it/s]"
     ]
    },
    {
     "name": "stderr",
     "output_type": "stream",
     "text": [
      "\r",
      " 27%|████████████████████████████▋                                                                            | 164/600 [00:37<01:32,  4.70it/s]"
     ]
    },
    {
     "name": "stderr",
     "output_type": "stream",
     "text": [
      "\r",
      " 28%|████████████████████████████▉                                                                            | 165/600 [00:37<01:34,  4.59it/s]"
     ]
    },
    {
     "name": "stderr",
     "output_type": "stream",
     "text": [
      "\r",
      " 28%|█████████████████████████████                                                                            | 166/600 [00:37<01:32,  4.69it/s]"
     ]
    },
    {
     "name": "stderr",
     "output_type": "stream",
     "text": [
      "\r",
      " 28%|█████████████████████████████▏                                                                           | 167/600 [00:37<01:36,  4.50it/s]"
     ]
    },
    {
     "name": "stderr",
     "output_type": "stream",
     "text": [
      "\r",
      " 28%|█████████████████████████████▍                                                                           | 168/600 [00:38<01:40,  4.30it/s]"
     ]
    },
    {
     "name": "stderr",
     "output_type": "stream",
     "text": [
      "\r",
      " 28%|█████████████████████████████▌                                                                           | 169/600 [00:38<01:37,  4.40it/s]"
     ]
    },
    {
     "name": "stderr",
     "output_type": "stream",
     "text": [
      "\r",
      " 28%|█████████████████████████████▊                                                                           | 170/600 [00:38<01:34,  4.54it/s]"
     ]
    },
    {
     "name": "stderr",
     "output_type": "stream",
     "text": [
      "\r",
      " 28%|█████████████████████████████▉                                                                           | 171/600 [00:38<01:31,  4.68it/s]"
     ]
    },
    {
     "name": "stderr",
     "output_type": "stream",
     "text": [
      "\r",
      " 29%|██████████████████████████████                                                                           | 172/600 [00:38<01:30,  4.75it/s]"
     ]
    },
    {
     "name": "stderr",
     "output_type": "stream",
     "text": [
      "\r",
      " 29%|██████████████████████████████▎                                                                          | 173/600 [00:39<01:28,  4.81it/s]"
     ]
    },
    {
     "name": "stderr",
     "output_type": "stream",
     "text": [
      "\r",
      " 29%|██████████████████████████████▍                                                                          | 174/600 [00:39<01:28,  4.84it/s]"
     ]
    },
    {
     "name": "stderr",
     "output_type": "stream",
     "text": [
      "\r",
      " 29%|██████████████████████████████▋                                                                          | 175/600 [00:39<01:29,  4.76it/s]"
     ]
    },
    {
     "name": "stderr",
     "output_type": "stream",
     "text": [
      "\r",
      " 29%|██████████████████████████████▊                                                                          | 176/600 [00:39<01:28,  4.78it/s]"
     ]
    },
    {
     "name": "stderr",
     "output_type": "stream",
     "text": [
      "\r",
      " 30%|██████████████████████████████▉                                                                          | 177/600 [00:39<01:27,  4.83it/s]"
     ]
    },
    {
     "name": "stderr",
     "output_type": "stream",
     "text": [
      "\r",
      " 30%|███████████████████████████████▏                                                                         | 178/600 [00:40<01:25,  4.91it/s]"
     ]
    },
    {
     "name": "stderr",
     "output_type": "stream",
     "text": [
      "\r",
      " 30%|███████████████████████████████▎                                                                         | 179/600 [00:40<01:25,  4.93it/s]"
     ]
    },
    {
     "name": "stderr",
     "output_type": "stream",
     "text": [
      "\r",
      " 30%|███████████████████████████████▌                                                                         | 180/600 [00:40<01:24,  4.98it/s]"
     ]
    },
    {
     "name": "stderr",
     "output_type": "stream",
     "text": [
      "\r",
      " 30%|███████████████████████████████▋                                                                         | 181/600 [00:40<01:25,  4.93it/s]"
     ]
    },
    {
     "name": "stderr",
     "output_type": "stream",
     "text": [
      "\r",
      " 30%|███████████████████████████████▊                                                                         | 182/600 [00:40<01:26,  4.86it/s]"
     ]
    },
    {
     "name": "stderr",
     "output_type": "stream",
     "text": [
      "\r",
      " 30%|████████████████████████████████                                                                         | 183/600 [00:41<01:27,  4.75it/s]"
     ]
    },
    {
     "name": "stderr",
     "output_type": "stream",
     "text": [
      "\r",
      " 31%|████████████████████████████████▏                                                                        | 184/600 [00:41<01:28,  4.70it/s]"
     ]
    },
    {
     "name": "stderr",
     "output_type": "stream",
     "text": [
      "\r",
      " 31%|████████████████████████████████▍                                                                        | 185/600 [00:41<01:28,  4.67it/s]"
     ]
    },
    {
     "name": "stderr",
     "output_type": "stream",
     "text": [
      "\r",
      " 31%|████████████████████████████████▌                                                                        | 186/600 [00:41<01:29,  4.61it/s]"
     ]
    },
    {
     "name": "stderr",
     "output_type": "stream",
     "text": [
      "\r",
      " 31%|████████████████████████████████▋                                                                        | 187/600 [00:42<01:28,  4.66it/s]"
     ]
    },
    {
     "name": "stderr",
     "output_type": "stream",
     "text": [
      "\r",
      " 31%|████████████████████████████████▉                                                                        | 188/600 [00:42<01:27,  4.71it/s]"
     ]
    },
    {
     "name": "stderr",
     "output_type": "stream",
     "text": [
      "\r",
      " 32%|█████████████████████████████████                                                                        | 189/600 [00:42<01:27,  4.72it/s]"
     ]
    },
    {
     "name": "stderr",
     "output_type": "stream",
     "text": [
      "\r",
      " 32%|█████████████████████████████████▎                                                                       | 190/600 [00:42<01:26,  4.75it/s]"
     ]
    },
    {
     "name": "stderr",
     "output_type": "stream",
     "text": [
      "\r",
      " 32%|█████████████████████████████████▍                                                                       | 191/600 [00:42<01:25,  4.79it/s]"
     ]
    },
    {
     "name": "stderr",
     "output_type": "stream",
     "text": [
      "\r",
      " 32%|█████████████████████████████████▌                                                                       | 192/600 [00:43<01:24,  4.81it/s]"
     ]
    },
    {
     "name": "stderr",
     "output_type": "stream",
     "text": [
      "\r",
      " 32%|█████████████████████████████████▊                                                                       | 193/600 [00:43<01:24,  4.81it/s]"
     ]
    },
    {
     "name": "stderr",
     "output_type": "stream",
     "text": [
      "\r",
      " 32%|█████████████████████████████████▉                                                                       | 194/600 [00:43<01:24,  4.80it/s]"
     ]
    },
    {
     "name": "stderr",
     "output_type": "stream",
     "text": [
      "\r",
      " 32%|██████████████████████████████████▏                                                                      | 195/600 [00:43<01:25,  4.76it/s]"
     ]
    },
    {
     "name": "stderr",
     "output_type": "stream",
     "text": [
      "\r",
      " 33%|██████████████████████████████████▎                                                                      | 196/600 [00:43<01:25,  4.71it/s]"
     ]
    },
    {
     "name": "stderr",
     "output_type": "stream",
     "text": [
      "\r",
      " 33%|██████████████████████████████████▍                                                                      | 197/600 [00:44<01:25,  4.72it/s]"
     ]
    },
    {
     "name": "stderr",
     "output_type": "stream",
     "text": [
      "\r",
      " 33%|██████████████████████████████████▋                                                                      | 198/600 [00:44<01:25,  4.72it/s]"
     ]
    },
    {
     "name": "stderr",
     "output_type": "stream",
     "text": [
      "\r",
      " 33%|██████████████████████████████████▊                                                                      | 199/600 [00:44<01:25,  4.68it/s]"
     ]
    },
    {
     "name": "stderr",
     "output_type": "stream",
     "text": [
      "\r",
      " 33%|███████████████████████████████████                                                                      | 200/600 [00:44<01:26,  4.64it/s]"
     ]
    },
    {
     "name": "stderr",
     "output_type": "stream",
     "text": [
      "\r",
      " 34%|███████████████████████████████████▏                                                                     | 201/600 [00:45<01:26,  4.62it/s]"
     ]
    },
    {
     "name": "stderr",
     "output_type": "stream",
     "text": [
      "\r",
      " 34%|███████████████████████████████████▎                                                                     | 202/600 [00:45<01:24,  4.69it/s]"
     ]
    },
    {
     "name": "stderr",
     "output_type": "stream",
     "text": [
      "\r",
      " 34%|███████████████████████████████████▌                                                                     | 203/600 [00:45<01:24,  4.72it/s]"
     ]
    },
    {
     "name": "stderr",
     "output_type": "stream",
     "text": [
      "\r",
      " 34%|███████████████████████████████████▋                                                                     | 204/600 [00:45<01:23,  4.73it/s]"
     ]
    },
    {
     "name": "stderr",
     "output_type": "stream",
     "text": [
      "\r",
      " 34%|███████████████████████████████████▉                                                                     | 205/600 [00:45<01:22,  4.79it/s]"
     ]
    },
    {
     "name": "stderr",
     "output_type": "stream",
     "text": [
      "\r",
      " 34%|████████████████████████████████████                                                                     | 206/600 [00:46<01:20,  4.91it/s]"
     ]
    },
    {
     "name": "stderr",
     "output_type": "stream",
     "text": [
      "\r",
      " 34%|████████████████████████████████████▏                                                                    | 207/600 [00:46<01:18,  5.02it/s]"
     ]
    },
    {
     "name": "stderr",
     "output_type": "stream",
     "text": [
      "\r",
      " 35%|████████████████████████████████████▍                                                                    | 208/600 [00:46<01:16,  5.10it/s]"
     ]
    },
    {
     "name": "stderr",
     "output_type": "stream",
     "text": [
      "\r",
      " 35%|████████████████████████████████████▌                                                                    | 209/600 [00:46<01:15,  5.15it/s]"
     ]
    },
    {
     "name": "stderr",
     "output_type": "stream",
     "text": [
      "\r",
      " 35%|████████████████████████████████████▊                                                                    | 210/600 [00:46<01:16,  5.08it/s]"
     ]
    },
    {
     "name": "stderr",
     "output_type": "stream",
     "text": [
      "\r",
      " 35%|████████████████████████████████████▉                                                                    | 211/600 [00:47<01:16,  5.11it/s]"
     ]
    },
    {
     "name": "stderr",
     "output_type": "stream",
     "text": [
      "\r",
      " 35%|█████████████████████████████████████                                                                    | 212/600 [00:47<01:14,  5.18it/s]"
     ]
    },
    {
     "name": "stderr",
     "output_type": "stream",
     "text": [
      "\r",
      " 36%|█████████████████████████████████████▎                                                                   | 213/600 [00:47<01:14,  5.19it/s]"
     ]
    },
    {
     "name": "stderr",
     "output_type": "stream",
     "text": [
      "\r",
      " 36%|█████████████████████████████████████▍                                                                   | 214/600 [00:47<01:14,  5.21it/s]"
     ]
    },
    {
     "name": "stderr",
     "output_type": "stream",
     "text": [
      "\r",
      " 36%|█████████████████████████████████████▋                                                                   | 215/600 [00:47<01:13,  5.24it/s]"
     ]
    },
    {
     "name": "stderr",
     "output_type": "stream",
     "text": [
      "\r",
      " 36%|█████████████████████████████████████▊                                                                   | 216/600 [00:47<01:13,  5.25it/s]"
     ]
    },
    {
     "name": "stderr",
     "output_type": "stream",
     "text": [
      "\r",
      " 36%|█████████████████████████████████████▉                                                                   | 217/600 [00:48<01:12,  5.28it/s]"
     ]
    },
    {
     "name": "stderr",
     "output_type": "stream",
     "text": [
      "\r",
      " 36%|██████████████████████████████████████▏                                                                  | 218/600 [00:48<01:12,  5.27it/s]"
     ]
    },
    {
     "name": "stderr",
     "output_type": "stream",
     "text": [
      "\r",
      " 36%|██████████████████████████████████████▎                                                                  | 219/600 [00:48<01:12,  5.27it/s]"
     ]
    },
    {
     "name": "stderr",
     "output_type": "stream",
     "text": [
      "\r",
      " 37%|██████████████████████████████████████▌                                                                  | 220/600 [00:48<01:12,  5.22it/s]"
     ]
    },
    {
     "name": "stderr",
     "output_type": "stream",
     "text": [
      "\r",
      " 37%|██████████████████████████████████████▋                                                                  | 221/600 [00:48<01:12,  5.24it/s]"
     ]
    },
    {
     "name": "stderr",
     "output_type": "stream",
     "text": [
      "\r",
      " 37%|██████████████████████████████████████▊                                                                  | 222/600 [00:49<01:11,  5.27it/s]"
     ]
    },
    {
     "name": "stderr",
     "output_type": "stream",
     "text": [
      "\r",
      " 37%|███████████████████████████████████████                                                                  | 223/600 [00:49<01:11,  5.26it/s]"
     ]
    },
    {
     "name": "stderr",
     "output_type": "stream",
     "text": [
      "\r",
      " 37%|███████████████████████████████████████▏                                                                 | 224/600 [00:49<01:11,  5.25it/s]"
     ]
    },
    {
     "name": "stderr",
     "output_type": "stream",
     "text": [
      "\r",
      " 38%|███████████████████████████████████████▍                                                                 | 225/600 [00:49<01:12,  5.20it/s]"
     ]
    },
    {
     "name": "stderr",
     "output_type": "stream",
     "text": [
      "\r",
      " 38%|███████████████████████████████████████▌                                                                 | 226/600 [00:49<01:12,  5.15it/s]"
     ]
    },
    {
     "name": "stderr",
     "output_type": "stream",
     "text": [
      "\r",
      " 38%|███████████████████████████████████████▋                                                                 | 227/600 [00:50<01:11,  5.18it/s]"
     ]
    },
    {
     "name": "stderr",
     "output_type": "stream",
     "text": [
      "\r",
      " 38%|███████████████████████████████████████▉                                                                 | 228/600 [00:50<01:11,  5.20it/s]"
     ]
    },
    {
     "name": "stderr",
     "output_type": "stream",
     "text": [
      "\r",
      " 38%|████████████████████████████████████████                                                                 | 229/600 [00:50<01:11,  5.21it/s]"
     ]
    },
    {
     "name": "stderr",
     "output_type": "stream",
     "text": [
      "\r",
      " 38%|████████████████████████████████████████▎                                                                | 230/600 [00:50<01:11,  5.17it/s]"
     ]
    },
    {
     "name": "stderr",
     "output_type": "stream",
     "text": [
      "\r",
      " 38%|████████████████████████████████████████▍                                                                | 231/600 [00:50<01:14,  4.98it/s]"
     ]
    },
    {
     "name": "stderr",
     "output_type": "stream",
     "text": [
      "\r",
      " 39%|████████████████████████████████████████▌                                                                | 232/600 [00:51<01:12,  5.04it/s]"
     ]
    },
    {
     "name": "stderr",
     "output_type": "stream",
     "text": [
      "\r",
      " 39%|████████████████████████████████████████▊                                                                | 233/600 [00:51<01:12,  5.06it/s]"
     ]
    },
    {
     "name": "stderr",
     "output_type": "stream",
     "text": [
      "\r",
      " 39%|████████████████████████████████████████▉                                                                | 234/600 [00:51<01:12,  5.07it/s]"
     ]
    },
    {
     "name": "stderr",
     "output_type": "stream",
     "text": [
      "\r",
      " 39%|█████████████████████████████████████████▏                                                               | 235/600 [00:51<01:12,  5.04it/s]"
     ]
    },
    {
     "name": "stderr",
     "output_type": "stream",
     "text": [
      "\r",
      " 39%|█████████████████████████████████████████▎                                                               | 236/600 [00:51<01:12,  5.02it/s]"
     ]
    },
    {
     "name": "stderr",
     "output_type": "stream",
     "text": [
      "\r",
      " 40%|█████████████████████████████████████████▍                                                               | 237/600 [00:52<01:11,  5.10it/s]"
     ]
    },
    {
     "name": "stderr",
     "output_type": "stream",
     "text": [
      "\r",
      " 40%|█████████████████████████████████████████▋                                                               | 238/600 [00:52<01:10,  5.15it/s]"
     ]
    },
    {
     "name": "stderr",
     "output_type": "stream",
     "text": [
      "\r",
      " 40%|█████████████████████████████████████████▊                                                               | 239/600 [00:52<01:10,  5.14it/s]"
     ]
    },
    {
     "name": "stderr",
     "output_type": "stream",
     "text": [
      "\r",
      " 40%|██████████████████████████████████████████                                                               | 240/600 [00:52<01:10,  5.11it/s]"
     ]
    },
    {
     "name": "stderr",
     "output_type": "stream",
     "text": [
      "\r",
      " 40%|██████████████████████████████████████████▏                                                              | 241/600 [00:52<01:10,  5.07it/s]"
     ]
    },
    {
     "name": "stderr",
     "output_type": "stream",
     "text": [
      "\r",
      " 40%|██████████████████████████████████████████▎                                                              | 242/600 [00:53<01:10,  5.10it/s]"
     ]
    },
    {
     "name": "stderr",
     "output_type": "stream",
     "text": [
      "\r",
      " 40%|██████████████████████████████████████████▌                                                              | 243/600 [00:53<01:10,  5.04it/s]"
     ]
    },
    {
     "name": "stderr",
     "output_type": "stream",
     "text": [
      "\r",
      " 41%|██████████████████████████████████████████▋                                                              | 244/600 [00:53<01:09,  5.12it/s]"
     ]
    },
    {
     "name": "stderr",
     "output_type": "stream",
     "text": [
      "\r",
      " 41%|██████████████████████████████████████████▉                                                              | 245/600 [00:53<01:09,  5.13it/s]"
     ]
    },
    {
     "name": "stderr",
     "output_type": "stream",
     "text": [
      "\r",
      " 41%|███████████████████████████████████████████                                                              | 246/600 [00:53<01:11,  4.96it/s]"
     ]
    },
    {
     "name": "stderr",
     "output_type": "stream",
     "text": [
      "\r",
      " 41%|███████████████████████████████████████████▏                                                             | 247/600 [00:54<01:11,  4.92it/s]"
     ]
    },
    {
     "name": "stderr",
     "output_type": "stream",
     "text": [
      "\r",
      " 41%|███████████████████████████████████████████▍                                                             | 248/600 [00:54<01:12,  4.85it/s]"
     ]
    },
    {
     "name": "stderr",
     "output_type": "stream",
     "text": [
      "\r",
      " 42%|███████████████████████████████████████████▌                                                             | 249/600 [00:54<01:12,  4.87it/s]"
     ]
    },
    {
     "name": "stderr",
     "output_type": "stream",
     "text": [
      "\r",
      " 42%|███████████████████████████████████████████▊                                                             | 250/600 [00:54<01:11,  4.89it/s]"
     ]
    },
    {
     "name": "stderr",
     "output_type": "stream",
     "text": [
      "\r",
      " 42%|███████████████████████████████████████████▉                                                             | 251/600 [00:54<01:11,  4.89it/s]"
     ]
    },
    {
     "name": "stderr",
     "output_type": "stream",
     "text": [
      "\r",
      " 42%|████████████████████████████████████████████                                                             | 252/600 [00:55<01:11,  4.89it/s]"
     ]
    },
    {
     "name": "stderr",
     "output_type": "stream",
     "text": [
      "\r",
      " 42%|████████████████████████████████████████████▎                                                            | 253/600 [00:55<01:11,  4.88it/s]"
     ]
    },
    {
     "name": "stderr",
     "output_type": "stream",
     "text": [
      "\r",
      " 42%|████████████████████████████████████████████▍                                                            | 254/600 [00:55<01:11,  4.85it/s]"
     ]
    },
    {
     "name": "stderr",
     "output_type": "stream",
     "text": [
      "\r",
      " 42%|████████████████████████████████████████████▋                                                            | 255/600 [00:55<01:11,  4.81it/s]"
     ]
    },
    {
     "name": "stderr",
     "output_type": "stream",
     "text": [
      "\r",
      " 43%|████████████████████████████████████████████▊                                                            | 256/600 [00:55<01:11,  4.81it/s]"
     ]
    },
    {
     "name": "stderr",
     "output_type": "stream",
     "text": [
      "\r",
      " 43%|████████████████████████████████████████████▉                                                            | 257/600 [00:56<01:11,  4.81it/s]"
     ]
    },
    {
     "name": "stderr",
     "output_type": "stream",
     "text": [
      "\r",
      " 43%|█████████████████████████████████████████████▏                                                           | 258/600 [00:56<01:10,  4.85it/s]"
     ]
    },
    {
     "name": "stderr",
     "output_type": "stream",
     "text": [
      "\r",
      " 43%|█████████████████████████████████████████████▎                                                           | 259/600 [00:56<01:10,  4.83it/s]"
     ]
    },
    {
     "name": "stderr",
     "output_type": "stream",
     "text": [
      "\r",
      " 43%|█████████████████████████████████████████████▌                                                           | 260/600 [00:56<01:11,  4.76it/s]"
     ]
    },
    {
     "name": "stderr",
     "output_type": "stream",
     "text": [
      "\r",
      " 44%|█████████████████████████████████████████████▋                                                           | 261/600 [00:56<01:12,  4.69it/s]"
     ]
    },
    {
     "name": "stderr",
     "output_type": "stream",
     "text": [
      "\r",
      " 44%|█████████████████████████████████████████████▊                                                           | 262/600 [00:57<01:12,  4.68it/s]"
     ]
    },
    {
     "name": "stderr",
     "output_type": "stream",
     "text": [
      "\r",
      " 44%|██████████████████████████████████████████████                                                           | 263/600 [00:57<01:11,  4.70it/s]"
     ]
    },
    {
     "name": "stderr",
     "output_type": "stream",
     "text": [
      "\r",
      " 44%|██████████████████████████████████████████████▏                                                          | 264/600 [00:57<01:10,  4.74it/s]"
     ]
    },
    {
     "name": "stderr",
     "output_type": "stream",
     "text": [
      "\r",
      " 44%|██████████████████████████████████████████████▍                                                          | 265/600 [00:57<01:10,  4.77it/s]"
     ]
    },
    {
     "name": "stderr",
     "output_type": "stream",
     "text": [
      "\r",
      " 44%|██████████████████████████████████████████████▌                                                          | 266/600 [00:57<01:10,  4.74it/s]"
     ]
    },
    {
     "name": "stderr",
     "output_type": "stream",
     "text": [
      "\r",
      " 44%|██████████████████████████████████████████████▋                                                          | 267/600 [00:58<01:09,  4.77it/s]"
     ]
    },
    {
     "name": "stderr",
     "output_type": "stream",
     "text": [
      "\r",
      " 45%|██████████████████████████████████████████████▉                                                          | 268/600 [00:58<01:09,  4.77it/s]"
     ]
    },
    {
     "name": "stderr",
     "output_type": "stream",
     "text": [
      "\r",
      " 45%|███████████████████████████████████████████████                                                          | 269/600 [00:58<01:08,  4.81it/s]"
     ]
    },
    {
     "name": "stderr",
     "output_type": "stream",
     "text": [
      "\r",
      " 45%|███████████████████████████████████████████████▎                                                         | 270/600 [00:58<01:08,  4.83it/s]"
     ]
    },
    {
     "name": "stderr",
     "output_type": "stream",
     "text": [
      "\r",
      " 45%|███████████████████████████████████████████████▍                                                         | 271/600 [00:59<01:08,  4.81it/s]"
     ]
    },
    {
     "name": "stderr",
     "output_type": "stream",
     "text": [
      "\r",
      " 45%|███████████████████████████████████████████████▌                                                         | 272/600 [00:59<01:08,  4.82it/s]"
     ]
    },
    {
     "name": "stderr",
     "output_type": "stream",
     "text": [
      "\r",
      " 46%|███████████████████████████████████████████████▊                                                         | 273/600 [00:59<01:08,  4.80it/s]"
     ]
    },
    {
     "name": "stderr",
     "output_type": "stream",
     "text": [
      "\r",
      " 46%|███████████████████████████████████████████████▉                                                         | 274/600 [00:59<01:07,  4.80it/s]"
     ]
    },
    {
     "name": "stderr",
     "output_type": "stream",
     "text": [
      "\r",
      " 46%|████████████████████████████████████████████████▏                                                        | 275/600 [00:59<01:08,  4.77it/s]"
     ]
    },
    {
     "name": "stderr",
     "output_type": "stream",
     "text": [
      "\r",
      " 46%|████████████████████████████████████████████████▎                                                        | 276/600 [01:00<01:06,  4.87it/s]"
     ]
    },
    {
     "name": "stderr",
     "output_type": "stream",
     "text": [
      "\r",
      " 46%|████████████████████████████████████████████████▍                                                        | 277/600 [01:00<01:05,  4.92it/s]"
     ]
    },
    {
     "name": "stderr",
     "output_type": "stream",
     "text": [
      "\r",
      " 46%|████████████████████████████████████████████████▋                                                        | 278/600 [01:00<01:05,  4.93it/s]"
     ]
    },
    {
     "name": "stderr",
     "output_type": "stream",
     "text": [
      "\r",
      " 46%|████████████████████████████████████████████████▊                                                        | 279/600 [01:00<01:04,  4.99it/s]"
     ]
    },
    {
     "name": "stderr",
     "output_type": "stream",
     "text": [
      "\r",
      " 47%|█████████████████████████████████████████████████                                                        | 280/600 [01:00<01:04,  5.00it/s]"
     ]
    },
    {
     "name": "stderr",
     "output_type": "stream",
     "text": [
      "\r",
      " 47%|█████████████████████████████████████████████████▏                                                       | 281/600 [01:01<01:03,  4.99it/s]"
     ]
    },
    {
     "name": "stderr",
     "output_type": "stream",
     "text": [
      "\r",
      " 47%|█████████████████████████████████████████████████▎                                                       | 282/600 [01:01<01:03,  4.98it/s]"
     ]
    },
    {
     "name": "stderr",
     "output_type": "stream",
     "text": [
      "\r",
      " 47%|█████████████████████████████████████████████████▌                                                       | 283/600 [01:01<01:03,  5.00it/s]"
     ]
    },
    {
     "name": "stderr",
     "output_type": "stream",
     "text": [
      "\r",
      " 47%|█████████████████████████████████████████████████▋                                                       | 284/600 [01:01<01:04,  4.90it/s]"
     ]
    },
    {
     "name": "stderr",
     "output_type": "stream",
     "text": [
      "\r",
      " 48%|█████████████████████████████████████████████████▉                                                       | 285/600 [01:01<01:04,  4.90it/s]"
     ]
    },
    {
     "name": "stderr",
     "output_type": "stream",
     "text": [
      "\r",
      " 48%|██████████████████████████████████████████████████                                                       | 286/600 [01:02<01:04,  4.84it/s]"
     ]
    },
    {
     "name": "stderr",
     "output_type": "stream",
     "text": [
      "\r",
      " 48%|██████████████████████████████████████████████████▏                                                      | 287/600 [01:02<01:04,  4.87it/s]"
     ]
    },
    {
     "name": "stderr",
     "output_type": "stream",
     "text": [
      "\r",
      " 48%|██████████████████████████████████████████████████▍                                                      | 288/600 [01:02<01:03,  4.88it/s]"
     ]
    },
    {
     "name": "stderr",
     "output_type": "stream",
     "text": [
      "\r",
      " 48%|██████████████████████████████████████████████████▌                                                      | 289/600 [01:02<01:03,  4.86it/s]"
     ]
    },
    {
     "name": "stderr",
     "output_type": "stream",
     "text": [
      "\r",
      " 48%|██████████████████████████████████████████████████▊                                                      | 290/600 [01:02<01:04,  4.81it/s]"
     ]
    },
    {
     "name": "stderr",
     "output_type": "stream",
     "text": [
      "\r",
      " 48%|██████████████████████████████████████████████████▉                                                      | 291/600 [01:03<01:03,  4.84it/s]"
     ]
    },
    {
     "name": "stderr",
     "output_type": "stream",
     "text": [
      "\r",
      " 49%|███████████████████████████████████████████████████                                                      | 292/600 [01:03<01:03,  4.82it/s]"
     ]
    },
    {
     "name": "stderr",
     "output_type": "stream",
     "text": [
      "\r",
      " 49%|███████████████████████████████████████████████████▎                                                     | 293/600 [01:03<01:03,  4.85it/s]"
     ]
    },
    {
     "name": "stderr",
     "output_type": "stream",
     "text": [
      "\r",
      " 49%|███████████████████████████████████████████████████▍                                                     | 294/600 [01:03<01:03,  4.84it/s]"
     ]
    },
    {
     "name": "stderr",
     "output_type": "stream",
     "text": [
      "\r",
      " 49%|███████████████████████████████████████████████████▋                                                     | 295/600 [01:03<01:03,  4.83it/s]"
     ]
    },
    {
     "name": "stderr",
     "output_type": "stream",
     "text": [
      "\r",
      " 49%|███████████████████████████████████████████████████▊                                                     | 296/600 [01:04<01:02,  4.84it/s]"
     ]
    },
    {
     "name": "stderr",
     "output_type": "stream",
     "text": [
      "\r",
      " 50%|███████████████████████████████████████████████████▉                                                     | 297/600 [01:04<01:02,  4.83it/s]"
     ]
    },
    {
     "name": "stderr",
     "output_type": "stream",
     "text": [
      "\r",
      " 50%|████████████████████████████████████████████████████▏                                                    | 298/600 [01:04<01:02,  4.85it/s]"
     ]
    },
    {
     "name": "stderr",
     "output_type": "stream",
     "text": [
      "\r",
      " 50%|████████████████████████████████████████████████████▎                                                    | 299/600 [01:04<01:02,  4.84it/s]"
     ]
    },
    {
     "name": "stderr",
     "output_type": "stream",
     "text": [
      "\r",
      " 50%|████████████████████████████████████████████████████▌                                                    | 300/600 [01:04<01:01,  4.85it/s]"
     ]
    },
    {
     "name": "stderr",
     "output_type": "stream",
     "text": [
      "\r",
      " 50%|████████████████████████████████████████████████████▋                                                    | 301/600 [01:05<01:01,  4.83it/s]"
     ]
    },
    {
     "name": "stderr",
     "output_type": "stream",
     "text": [
      "\r",
      " 50%|████████████████████████████████████████████████████▊                                                    | 302/600 [01:05<01:01,  4.83it/s]"
     ]
    },
    {
     "name": "stderr",
     "output_type": "stream",
     "text": [
      "\r",
      " 50%|█████████████████████████████████████████████████████                                                    | 303/600 [01:05<01:01,  4.85it/s]"
     ]
    },
    {
     "name": "stderr",
     "output_type": "stream",
     "text": [
      "\r",
      " 51%|█████████████████████████████████████████████████████▏                                                   | 304/600 [01:05<01:00,  4.87it/s]"
     ]
    },
    {
     "name": "stderr",
     "output_type": "stream",
     "text": [
      "\r",
      " 51%|█████████████████████████████████████████████████████▍                                                   | 305/600 [01:06<01:02,  4.70it/s]"
     ]
    },
    {
     "name": "stderr",
     "output_type": "stream",
     "text": [
      "\r",
      " 51%|█████████████████████████████████████████████████████▌                                                   | 306/600 [01:06<01:01,  4.76it/s]"
     ]
    },
    {
     "name": "stderr",
     "output_type": "stream",
     "text": [
      "\r",
      " 51%|█████████████████████████████████████████████████████▋                                                   | 307/600 [01:06<01:01,  4.75it/s]"
     ]
    },
    {
     "name": "stderr",
     "output_type": "stream",
     "text": [
      "\r",
      " 51%|█████████████████████████████████████████████████████▉                                                   | 308/600 [01:06<01:01,  4.73it/s]"
     ]
    },
    {
     "name": "stderr",
     "output_type": "stream",
     "text": [
      "\r",
      " 52%|██████████████████████████████████████████████████████                                                   | 309/600 [01:06<01:01,  4.76it/s]"
     ]
    },
    {
     "name": "stderr",
     "output_type": "stream",
     "text": [
      "\r",
      " 52%|██████████████████████████████████████████████████████▎                                                  | 310/600 [01:07<01:02,  4.64it/s]"
     ]
    },
    {
     "name": "stderr",
     "output_type": "stream",
     "text": [
      "\r",
      " 52%|██████████████████████████████████████████████████████▍                                                  | 311/600 [01:07<01:01,  4.70it/s]"
     ]
    },
    {
     "name": "stderr",
     "output_type": "stream",
     "text": [
      "\r",
      " 52%|██████████████████████████████████████████████████████▌                                                  | 312/600 [01:07<01:00,  4.75it/s]"
     ]
    },
    {
     "name": "stderr",
     "output_type": "stream",
     "text": [
      "\r",
      " 52%|██████████████████████████████████████████████████████▊                                                  | 313/600 [01:07<01:00,  4.78it/s]"
     ]
    },
    {
     "name": "stderr",
     "output_type": "stream",
     "text": [
      "\r",
      " 52%|██████████████████████████████████████████████████████▉                                                  | 314/600 [01:07<00:59,  4.81it/s]"
     ]
    },
    {
     "name": "stderr",
     "output_type": "stream",
     "text": [
      "\r",
      " 52%|███████████████████████████████████████████████████████▏                                                 | 315/600 [01:08<00:59,  4.82it/s]"
     ]
    },
    {
     "name": "stderr",
     "output_type": "stream",
     "text": [
      "\r",
      " 53%|███████████████████████████████████████████████████████▎                                                 | 316/600 [01:08<00:59,  4.81it/s]"
     ]
    },
    {
     "name": "stderr",
     "output_type": "stream",
     "text": [
      "\r",
      " 53%|███████████████████████████████████████████████████████▍                                                 | 317/600 [01:08<00:58,  4.83it/s]"
     ]
    },
    {
     "name": "stderr",
     "output_type": "stream",
     "text": [
      "\r",
      " 53%|███████████████████████████████████████████████████████▋                                                 | 318/600 [01:08<00:58,  4.83it/s]"
     ]
    },
    {
     "name": "stderr",
     "output_type": "stream",
     "text": [
      "\r",
      " 53%|███████████████████████████████████████████████████████▊                                                 | 319/600 [01:08<00:58,  4.79it/s]"
     ]
    },
    {
     "name": "stderr",
     "output_type": "stream",
     "text": [
      "\r",
      " 53%|████████████████████████████████████████████████████████                                                 | 320/600 [01:09<00:58,  4.81it/s]"
     ]
    },
    {
     "name": "stderr",
     "output_type": "stream",
     "text": [
      "\r",
      " 54%|████████████████████████████████████████████████████████▏                                                | 321/600 [01:09<00:57,  4.82it/s]"
     ]
    },
    {
     "name": "stderr",
     "output_type": "stream",
     "text": [
      "\r",
      " 54%|████████████████████████████████████████████████████████▎                                                | 322/600 [01:09<00:57,  4.83it/s]"
     ]
    },
    {
     "name": "stderr",
     "output_type": "stream",
     "text": [
      "\r",
      " 54%|████████████████████████████████████████████████████████▌                                                | 323/600 [01:09<00:57,  4.82it/s]"
     ]
    },
    {
     "name": "stderr",
     "output_type": "stream",
     "text": [
      "\r",
      " 54%|████████████████████████████████████████████████████████▋                                                | 324/600 [01:09<00:57,  4.83it/s]"
     ]
    },
    {
     "name": "stderr",
     "output_type": "stream",
     "text": [
      "\r",
      " 54%|████████████████████████████████████████████████████████▊                                                | 325/600 [01:10<00:57,  4.81it/s]"
     ]
    },
    {
     "name": "stderr",
     "output_type": "stream",
     "text": [
      "\r",
      " 54%|█████████████████████████████████████████████████████████                                                | 326/600 [01:10<00:57,  4.80it/s]"
     ]
    },
    {
     "name": "stderr",
     "output_type": "stream",
     "text": [
      "\r",
      " 55%|█████████████████████████████████████████████████████████▏                                               | 327/600 [01:10<00:56,  4.81it/s]"
     ]
    },
    {
     "name": "stderr",
     "output_type": "stream",
     "text": [
      "\r",
      " 55%|█████████████████████████████████████████████████████████▍                                               | 328/600 [01:10<00:57,  4.75it/s]"
     ]
    },
    {
     "name": "stderr",
     "output_type": "stream",
     "text": [
      "\r",
      " 55%|█████████████████████████████████████████████████████████▌                                               | 329/600 [01:11<00:56,  4.76it/s]"
     ]
    },
    {
     "name": "stderr",
     "output_type": "stream",
     "text": [
      "\r",
      " 55%|█████████████████████████████████████████████████████████▊                                               | 330/600 [01:11<00:56,  4.78it/s]"
     ]
    },
    {
     "name": "stderr",
     "output_type": "stream",
     "text": [
      "\r",
      " 55%|█████████████████████████████████████████████████████████▉                                               | 331/600 [01:11<00:55,  4.81it/s]"
     ]
    },
    {
     "name": "stderr",
     "output_type": "stream",
     "text": [
      "\r",
      " 55%|██████████████████████████████████████████████████████████                                               | 332/600 [01:11<00:55,  4.83it/s]"
     ]
    },
    {
     "name": "stderr",
     "output_type": "stream",
     "text": [
      "\r",
      " 56%|██████████████████████████████████████████████████████████▎                                              | 333/600 [01:11<00:55,  4.82it/s]"
     ]
    },
    {
     "name": "stderr",
     "output_type": "stream",
     "text": [
      "\r",
      " 56%|██████████████████████████████████████████████████████████▍                                              | 334/600 [01:12<00:54,  4.84it/s]"
     ]
    },
    {
     "name": "stderr",
     "output_type": "stream",
     "text": [
      "\r",
      " 56%|██████████████████████████████████████████████████████████▋                                              | 335/600 [01:12<00:54,  4.83it/s]"
     ]
    },
    {
     "name": "stderr",
     "output_type": "stream",
     "text": [
      "\r",
      " 56%|██████████████████████████████████████████████████████████▊                                              | 336/600 [01:12<00:54,  4.84it/s]"
     ]
    },
    {
     "name": "stderr",
     "output_type": "stream",
     "text": [
      "\r",
      " 56%|██████████████████████████████████████████████████████████▉                                              | 337/600 [01:12<00:54,  4.86it/s]"
     ]
    },
    {
     "name": "stderr",
     "output_type": "stream",
     "text": [
      "\r",
      " 56%|███████████████████████████████████████████████████████████▏                                             | 338/600 [01:12<00:54,  4.81it/s]"
     ]
    },
    {
     "name": "stderr",
     "output_type": "stream",
     "text": [
      "\r",
      " 56%|███████████████████████████████████████████████████████████▎                                             | 339/600 [01:13<00:53,  4.92it/s]"
     ]
    },
    {
     "name": "stderr",
     "output_type": "stream",
     "text": [
      "\r",
      " 57%|███████████████████████████████████████████████████████████▌                                             | 340/600 [01:13<00:52,  4.97it/s]"
     ]
    },
    {
     "name": "stderr",
     "output_type": "stream",
     "text": [
      "\r",
      " 57%|███████████████████████████████████████████████████████████▋                                             | 341/600 [01:13<00:51,  5.04it/s]"
     ]
    },
    {
     "name": "stderr",
     "output_type": "stream",
     "text": [
      "\r",
      " 57%|███████████████████████████████████████████████████████████▊                                             | 342/600 [01:13<00:51,  5.00it/s]"
     ]
    },
    {
     "name": "stderr",
     "output_type": "stream",
     "text": [
      "\r",
      " 57%|████████████████████████████████████████████████████████████                                             | 343/600 [01:13<00:51,  5.03it/s]"
     ]
    },
    {
     "name": "stderr",
     "output_type": "stream",
     "text": [
      "\r",
      " 57%|████████████████████████████████████████████████████████████▏                                            | 344/600 [01:14<00:50,  5.11it/s]"
     ]
    },
    {
     "name": "stderr",
     "output_type": "stream",
     "text": [
      "\r",
      " 57%|████████████████████████████████████████████████████████████▎                                            | 345/600 [01:14<00:50,  5.10it/s]"
     ]
    },
    {
     "name": "stderr",
     "output_type": "stream",
     "text": [
      "\r",
      " 58%|████████████████████████████████████████████████████████████▌                                            | 346/600 [01:14<00:49,  5.15it/s]"
     ]
    },
    {
     "name": "stderr",
     "output_type": "stream",
     "text": [
      "\r",
      " 58%|████████████████████████████████████████████████████████████▋                                            | 347/600 [01:14<00:49,  5.13it/s]"
     ]
    },
    {
     "name": "stderr",
     "output_type": "stream",
     "text": [
      "\r",
      " 58%|████████████████████████████████████████████████████████████▉                                            | 348/600 [01:14<00:49,  5.10it/s]"
     ]
    },
    {
     "name": "stderr",
     "output_type": "stream",
     "text": [
      "\r",
      " 58%|█████████████████████████████████████████████████████████████                                            | 349/600 [01:15<00:48,  5.14it/s]"
     ]
    },
    {
     "name": "stderr",
     "output_type": "stream",
     "text": [
      "\r",
      " 58%|█████████████████████████████████████████████████████████████▎                                           | 350/600 [01:15<00:48,  5.18it/s]"
     ]
    },
    {
     "name": "stderr",
     "output_type": "stream",
     "text": [
      "\r",
      " 58%|█████████████████████████████████████████████████████████████▍                                           | 351/600 [01:15<00:47,  5.19it/s]"
     ]
    },
    {
     "name": "stderr",
     "output_type": "stream",
     "text": [
      "\r",
      " 59%|█████████████████████████████████████████████████████████████▌                                           | 352/600 [01:15<00:47,  5.20it/s]"
     ]
    },
    {
     "name": "stderr",
     "output_type": "stream",
     "text": [
      "\r",
      " 59%|█████████████████████████████████████████████████████████████▊                                           | 353/600 [01:15<00:47,  5.18it/s]"
     ]
    },
    {
     "name": "stderr",
     "output_type": "stream",
     "text": [
      "\r",
      " 59%|█████████████████████████████████████████████████████████████▉                                           | 354/600 [01:16<00:48,  5.09it/s]"
     ]
    },
    {
     "name": "stderr",
     "output_type": "stream",
     "text": [
      "\r",
      " 59%|██████████████████████████████████████████████████████████████▏                                          | 355/600 [01:16<00:48,  5.03it/s]"
     ]
    },
    {
     "name": "stderr",
     "output_type": "stream",
     "text": [
      "\r",
      " 59%|██████████████████████████████████████████████████████████████▎                                          | 356/600 [01:16<00:48,  4.98it/s]"
     ]
    },
    {
     "name": "stderr",
     "output_type": "stream",
     "text": [
      "\r",
      " 60%|██████████████████████████████████████████████████████████████▍                                          | 357/600 [01:16<00:49,  4.93it/s]"
     ]
    },
    {
     "name": "stderr",
     "output_type": "stream",
     "text": [
      "\r",
      " 60%|██████████████████████████████████████████████████████████████▋                                          | 358/600 [01:16<00:49,  4.90it/s]"
     ]
    },
    {
     "name": "stderr",
     "output_type": "stream",
     "text": [
      "\r",
      " 60%|██████████████████████████████████████████████████████████████▊                                          | 359/600 [01:17<00:49,  4.90it/s]"
     ]
    },
    {
     "name": "stderr",
     "output_type": "stream",
     "text": [
      "\r",
      " 60%|███████████████████████████████████████████████████████████████                                          | 360/600 [01:17<00:50,  4.78it/s]"
     ]
    },
    {
     "name": "stderr",
     "output_type": "stream",
     "text": [
      "\r",
      " 60%|███████████████████████████████████████████████████████████████▏                                         | 361/600 [01:17<00:50,  4.78it/s]"
     ]
    },
    {
     "name": "stderr",
     "output_type": "stream",
     "text": [
      "\r",
      " 60%|███████████████████████████████████████████████████████████████▎                                         | 362/600 [01:17<00:49,  4.79it/s]"
     ]
    },
    {
     "name": "stderr",
     "output_type": "stream",
     "text": [
      "\r",
      " 60%|███████████████████████████████████████████████████████████████▌                                         | 363/600 [01:17<00:49,  4.77it/s]"
     ]
    },
    {
     "name": "stderr",
     "output_type": "stream",
     "text": [
      "\r",
      " 61%|███████████████████████████████████████████████████████████████▋                                         | 364/600 [01:18<00:49,  4.80it/s]"
     ]
    },
    {
     "name": "stderr",
     "output_type": "stream",
     "text": [
      "\r",
      " 61%|███████████████████████████████████████████████████████████████▊                                         | 365/600 [01:18<00:49,  4.78it/s]"
     ]
    },
    {
     "name": "stderr",
     "output_type": "stream",
     "text": [
      "\r",
      " 61%|████████████████████████████████████████████████████████████████                                         | 366/600 [01:18<00:48,  4.79it/s]"
     ]
    },
    {
     "name": "stderr",
     "output_type": "stream",
     "text": [
      "\r",
      " 61%|████████████████████████████████████████████████████████████████▏                                        | 367/600 [01:18<00:48,  4.76it/s]"
     ]
    },
    {
     "name": "stderr",
     "output_type": "stream",
     "text": [
      "\r",
      " 61%|████████████████████████████████████████████████████████████████▍                                        | 368/600 [01:18<00:48,  4.77it/s]"
     ]
    },
    {
     "name": "stderr",
     "output_type": "stream",
     "text": [
      "\r",
      " 62%|████████████████████████████████████████████████████████████████▌                                        | 369/600 [01:19<00:48,  4.78it/s]"
     ]
    },
    {
     "name": "stderr",
     "output_type": "stream",
     "text": [
      "\r",
      " 62%|████████████████████████████████████████████████████████████████▊                                        | 370/600 [01:19<00:48,  4.76it/s]"
     ]
    },
    {
     "name": "stderr",
     "output_type": "stream",
     "text": [
      "\r",
      " 62%|████████████████████████████████████████████████████████████████▉                                        | 371/600 [01:19<00:48,  4.74it/s]"
     ]
    },
    {
     "name": "stderr",
     "output_type": "stream",
     "text": [
      "\r",
      " 62%|█████████████████████████████████████████████████████████████████                                        | 372/600 [01:19<00:47,  4.78it/s]"
     ]
    },
    {
     "name": "stderr",
     "output_type": "stream",
     "text": [
      "\r",
      " 62%|█████████████████████████████████████████████████████████████████▎                                       | 373/600 [01:20<00:49,  4.61it/s]"
     ]
    },
    {
     "name": "stderr",
     "output_type": "stream",
     "text": [
      "\r",
      " 62%|█████████████████████████████████████████████████████████████████▍                                       | 374/600 [01:20<00:48,  4.63it/s]"
     ]
    },
    {
     "name": "stderr",
     "output_type": "stream",
     "text": [
      "\r",
      " 62%|█████████████████████████████████████████████████████████████████▋                                       | 375/600 [01:20<00:48,  4.63it/s]"
     ]
    },
    {
     "name": "stderr",
     "output_type": "stream",
     "text": [
      "\r",
      " 63%|█████████████████████████████████████████████████████████████████▊                                       | 376/600 [01:20<00:47,  4.70it/s]"
     ]
    },
    {
     "name": "stderr",
     "output_type": "stream",
     "text": [
      "\r",
      " 63%|█████████████████████████████████████████████████████████████████▉                                       | 377/600 [01:20<00:47,  4.74it/s]"
     ]
    },
    {
     "name": "stderr",
     "output_type": "stream",
     "text": [
      "\r",
      " 63%|██████████████████████████████████████████████████████████████████▏                                      | 378/600 [01:21<00:46,  4.79it/s]"
     ]
    },
    {
     "name": "stderr",
     "output_type": "stream",
     "text": [
      "\r",
      " 63%|██████████████████████████████████████████████████████████████████▎                                      | 379/600 [01:21<00:45,  4.81it/s]"
     ]
    },
    {
     "name": "stderr",
     "output_type": "stream",
     "text": [
      "\r",
      " 63%|██████████████████████████████████████████████████████████████████▌                                      | 380/600 [01:21<00:45,  4.80it/s]"
     ]
    },
    {
     "name": "stderr",
     "output_type": "stream",
     "text": [
      "\r",
      " 64%|██████████████████████████████████████████████████████████████████▋                                      | 381/600 [01:21<00:45,  4.84it/s]"
     ]
    },
    {
     "name": "stderr",
     "output_type": "stream",
     "text": [
      "\r",
      " 64%|██████████████████████████████████████████████████████████████████▊                                      | 382/600 [01:21<00:44,  4.85it/s]"
     ]
    },
    {
     "name": "stderr",
     "output_type": "stream",
     "text": [
      "\r",
      " 64%|███████████████████████████████████████████████████████████████████                                      | 383/600 [01:22<00:44,  4.86it/s]"
     ]
    },
    {
     "name": "stderr",
     "output_type": "stream",
     "text": [
      "\r",
      " 64%|███████████████████████████████████████████████████████████████████▏                                     | 384/600 [01:22<00:44,  4.86it/s]"
     ]
    },
    {
     "name": "stderr",
     "output_type": "stream",
     "text": [
      "\r",
      " 64%|███████████████████████████████████████████████████████████████████▍                                     | 385/600 [01:22<00:44,  4.85it/s]"
     ]
    },
    {
     "name": "stderr",
     "output_type": "stream",
     "text": [
      "\r",
      " 64%|███████████████████████████████████████████████████████████████████▌                                     | 386/600 [01:22<00:44,  4.83it/s]"
     ]
    },
    {
     "name": "stderr",
     "output_type": "stream",
     "text": [
      "\r",
      " 64%|███████████████████████████████████████████████████████████████████▋                                     | 387/600 [01:22<00:43,  4.85it/s]"
     ]
    },
    {
     "name": "stderr",
     "output_type": "stream",
     "text": [
      "\r",
      " 65%|███████████████████████████████████████████████████████████████████▉                                     | 388/600 [01:23<00:43,  4.86it/s]"
     ]
    },
    {
     "name": "stderr",
     "output_type": "stream",
     "text": [
      "\r",
      " 65%|████████████████████████████████████████████████████████████████████                                     | 389/600 [01:23<00:43,  4.86it/s]"
     ]
    },
    {
     "name": "stderr",
     "output_type": "stream",
     "text": [
      "\r",
      " 65%|████████████████████████████████████████████████████████████████████▎                                    | 390/600 [01:23<00:43,  4.84it/s]"
     ]
    },
    {
     "name": "stderr",
     "output_type": "stream",
     "text": [
      "\r",
      " 65%|████████████████████████████████████████████████████████████████████▍                                    | 391/600 [01:23<00:43,  4.83it/s]"
     ]
    },
    {
     "name": "stderr",
     "output_type": "stream",
     "text": [
      "\r",
      " 65%|████████████████████████████████████████████████████████████████████▌                                    | 392/600 [01:23<00:42,  4.84it/s]"
     ]
    },
    {
     "name": "stderr",
     "output_type": "stream",
     "text": [
      "\r",
      " 66%|████████████████████████████████████████████████████████████████████▊                                    | 393/600 [01:24<00:42,  4.86it/s]"
     ]
    },
    {
     "name": "stderr",
     "output_type": "stream",
     "text": [
      "\r",
      " 66%|████████████████████████████████████████████████████████████████████▉                                    | 394/600 [01:24<00:41,  4.93it/s]"
     ]
    },
    {
     "name": "stderr",
     "output_type": "stream",
     "text": [
      "\r",
      " 66%|█████████████████████████████████████████████████████████████████████▏                                   | 395/600 [01:24<00:41,  5.00it/s]"
     ]
    },
    {
     "name": "stderr",
     "output_type": "stream",
     "text": [
      "\r",
      " 66%|█████████████████████████████████████████████████████████████████████▎                                   | 396/600 [01:24<00:41,  4.91it/s]"
     ]
    },
    {
     "name": "stderr",
     "output_type": "stream",
     "text": [
      "\r",
      " 66%|█████████████████████████████████████████████████████████████████████▍                                   | 397/600 [01:24<00:41,  4.90it/s]"
     ]
    },
    {
     "name": "stderr",
     "output_type": "stream",
     "text": [
      "\r",
      " 66%|█████████████████████████████████████████████████████████████████████▋                                   | 398/600 [01:25<00:41,  4.91it/s]"
     ]
    },
    {
     "name": "stderr",
     "output_type": "stream",
     "text": [
      "\r",
      " 66%|█████████████████████████████████████████████████████████████████████▊                                   | 399/600 [01:25<00:40,  4.91it/s]"
     ]
    },
    {
     "name": "stderr",
     "output_type": "stream",
     "text": [
      "\r",
      " 67%|██████████████████████████████████████████████████████████████████████                                   | 400/600 [01:25<00:40,  4.95it/s]"
     ]
    },
    {
     "name": "stderr",
     "output_type": "stream",
     "text": [
      "\r",
      " 67%|██████████████████████████████████████████████████████████████████████▏                                  | 401/600 [01:25<00:39,  4.98it/s]"
     ]
    },
    {
     "name": "stderr",
     "output_type": "stream",
     "text": [
      "\r",
      " 67%|██████████████████████████████████████████████████████████████████████▎                                  | 402/600 [01:25<00:39,  5.01it/s]"
     ]
    },
    {
     "name": "stderr",
     "output_type": "stream",
     "text": [
      "\r",
      " 67%|██████████████████████████████████████████████████████████████████████▌                                  | 403/600 [01:26<00:38,  5.07it/s]"
     ]
    },
    {
     "name": "stderr",
     "output_type": "stream",
     "text": [
      "\r",
      " 67%|██████████████████████████████████████████████████████████████████████▋                                  | 404/600 [01:26<00:38,  5.08it/s]"
     ]
    },
    {
     "name": "stderr",
     "output_type": "stream",
     "text": [
      "\r",
      " 68%|██████████████████████████████████████████████████████████████████████▉                                  | 405/600 [01:26<00:38,  5.12it/s]"
     ]
    },
    {
     "name": "stderr",
     "output_type": "stream",
     "text": [
      "\r",
      " 68%|███████████████████████████████████████████████████████████████████████                                  | 406/600 [01:26<00:37,  5.14it/s]"
     ]
    },
    {
     "name": "stderr",
     "output_type": "stream",
     "text": [
      "\r",
      " 68%|███████████████████████████████████████████████████████████████████████▏                                 | 407/600 [01:26<00:37,  5.18it/s]"
     ]
    },
    {
     "name": "stderr",
     "output_type": "stream",
     "text": [
      "\r",
      " 68%|███████████████████████████████████████████████████████████████████████▍                                 | 408/600 [01:27<00:37,  5.17it/s]"
     ]
    },
    {
     "name": "stderr",
     "output_type": "stream",
     "text": [
      "\r",
      " 68%|███████████████████████████████████████████████████████████████████████▌                                 | 409/600 [01:27<00:37,  5.09it/s]"
     ]
    },
    {
     "name": "stderr",
     "output_type": "stream",
     "text": [
      "\r",
      " 68%|███████████████████████████████████████████████████████████████████████▊                                 | 410/600 [01:27<00:37,  5.12it/s]"
     ]
    },
    {
     "name": "stderr",
     "output_type": "stream",
     "text": [
      "\r",
      " 68%|███████████████████████████████████████████████████████████████████████▉                                 | 411/600 [01:27<00:37,  5.10it/s]"
     ]
    },
    {
     "name": "stderr",
     "output_type": "stream",
     "text": [
      "\r",
      " 69%|████████████████████████████████████████████████████████████████████████                                 | 412/600 [01:27<00:36,  5.12it/s]"
     ]
    },
    {
     "name": "stderr",
     "output_type": "stream",
     "text": [
      "\r",
      " 69%|████████████████████████████████████████████████████████████████████████▎                                | 413/600 [01:28<00:36,  5.15it/s]"
     ]
    },
    {
     "name": "stderr",
     "output_type": "stream",
     "text": [
      "\r",
      " 69%|████████████████████████████████████████████████████████████████████████▍                                | 414/600 [01:28<00:36,  5.16it/s]"
     ]
    },
    {
     "name": "stderr",
     "output_type": "stream",
     "text": [
      "\r",
      " 69%|████████████████████████████████████████████████████████████████████████▋                                | 415/600 [01:28<00:35,  5.15it/s]"
     ]
    },
    {
     "name": "stderr",
     "output_type": "stream",
     "text": [
      "\r",
      " 69%|████████████████████████████████████████████████████████████████████████▊                                | 416/600 [01:28<00:35,  5.14it/s]"
     ]
    },
    {
     "name": "stderr",
     "output_type": "stream",
     "text": [
      "\r",
      " 70%|████████████████████████████████████████████████████████████████████████▉                                | 417/600 [01:28<00:35,  5.15it/s]"
     ]
    },
    {
     "name": "stderr",
     "output_type": "stream",
     "text": [
      "\r",
      " 70%|█████████████████████████████████████████████████████████████████████████▏                               | 418/600 [01:29<00:35,  5.16it/s]"
     ]
    },
    {
     "name": "stderr",
     "output_type": "stream",
     "text": [
      "\r",
      " 70%|█████████████████████████████████████████████████████████████████████████▎                               | 419/600 [01:29<00:35,  5.07it/s]"
     ]
    },
    {
     "name": "stderr",
     "output_type": "stream",
     "text": [
      "\r",
      " 70%|█████████████████████████████████████████████████████████████████████████▌                               | 420/600 [01:29<00:35,  5.01it/s]"
     ]
    },
    {
     "name": "stderr",
     "output_type": "stream",
     "text": [
      "\r",
      " 70%|█████████████████████████████████████████████████████████████████████████▋                               | 421/600 [01:29<00:36,  4.93it/s]"
     ]
    },
    {
     "name": "stderr",
     "output_type": "stream",
     "text": [
      "\r",
      " 70%|█████████████████████████████████████████████████████████████████████████▊                               | 422/600 [01:29<00:36,  4.91it/s]"
     ]
    },
    {
     "name": "stderr",
     "output_type": "stream",
     "text": [
      "\r",
      " 70%|██████████████████████████████████████████████████████████████████████████                               | 423/600 [01:30<00:36,  4.85it/s]"
     ]
    },
    {
     "name": "stderr",
     "output_type": "stream",
     "text": [
      "\r",
      " 71%|██████████████████████████████████████████████████████████████████████████▏                              | 424/600 [01:30<00:36,  4.78it/s]"
     ]
    },
    {
     "name": "stderr",
     "output_type": "stream",
     "text": [
      "\r",
      " 71%|██████████████████████████████████████████████████████████████████████████▍                              | 425/600 [01:30<00:35,  4.87it/s]"
     ]
    },
    {
     "name": "stderr",
     "output_type": "stream",
     "text": [
      "\r",
      " 71%|██████████████████████████████████████████████████████████████████████████▌                              | 426/600 [01:30<00:34,  5.00it/s]"
     ]
    },
    {
     "name": "stderr",
     "output_type": "stream",
     "text": [
      "\r",
      " 71%|██████████████████████████████████████████████████████████████████████████▋                              | 427/600 [01:30<00:34,  5.02it/s]"
     ]
    },
    {
     "name": "stderr",
     "output_type": "stream",
     "text": [
      "\r",
      " 71%|██████████████████████████████████████████████████████████████████████████▉                              | 428/600 [01:31<00:34,  5.03it/s]"
     ]
    },
    {
     "name": "stderr",
     "output_type": "stream",
     "text": [
      "\r",
      " 72%|███████████████████████████████████████████████████████████████████████████                              | 429/600 [01:31<00:34,  4.99it/s]"
     ]
    },
    {
     "name": "stderr",
     "output_type": "stream",
     "text": [
      "\r",
      " 72%|███████████████████████████████████████████████████████████████████████████▎                             | 430/600 [01:31<00:34,  4.95it/s]"
     ]
    },
    {
     "name": "stderr",
     "output_type": "stream",
     "text": [
      "\r",
      " 72%|███████████████████████████████████████████████████████████████████████████▍                             | 431/600 [01:31<00:34,  4.89it/s]"
     ]
    },
    {
     "name": "stderr",
     "output_type": "stream",
     "text": [
      "\r",
      " 72%|███████████████████████████████████████████████████████████████████████████▌                             | 432/600 [01:31<00:34,  4.86it/s]"
     ]
    },
    {
     "name": "stderr",
     "output_type": "stream",
     "text": [
      "\r",
      " 72%|███████████████████████████████████████████████████████████████████████████▊                             | 433/600 [01:32<00:34,  4.83it/s]"
     ]
    },
    {
     "name": "stderr",
     "output_type": "stream",
     "text": [
      "\r",
      " 72%|███████████████████████████████████████████████████████████████████████████▉                             | 434/600 [01:32<00:34,  4.80it/s]"
     ]
    },
    {
     "name": "stderr",
     "output_type": "stream",
     "text": [
      "\r",
      " 72%|████████████████████████████████████████████████████████████████████████████▏                            | 435/600 [01:32<00:34,  4.81it/s]"
     ]
    },
    {
     "name": "stderr",
     "output_type": "stream",
     "text": [
      "\r",
      " 73%|████████████████████████████████████████████████████████████████████████████▎                            | 436/600 [01:32<00:33,  4.83it/s]"
     ]
    },
    {
     "name": "stderr",
     "output_type": "stream",
     "text": [
      "\r",
      " 73%|████████████████████████████████████████████████████████████████████████████▍                            | 437/600 [01:32<00:33,  4.83it/s]"
     ]
    },
    {
     "name": "stderr",
     "output_type": "stream",
     "text": [
      "\r",
      " 73%|████████████████████████████████████████████████████████████████████████████▋                            | 438/600 [01:33<00:32,  4.91it/s]"
     ]
    },
    {
     "name": "stderr",
     "output_type": "stream",
     "text": [
      "\r",
      " 73%|████████████████████████████████████████████████████████████████████████████▊                            | 439/600 [01:33<00:32,  4.96it/s]"
     ]
    },
    {
     "name": "stderr",
     "output_type": "stream",
     "text": [
      "\r",
      " 73%|█████████████████████████████████████████████████████████████████████████████                            | 440/600 [01:33<00:31,  5.06it/s]"
     ]
    },
    {
     "name": "stderr",
     "output_type": "stream",
     "text": [
      "\r",
      " 74%|█████████████████████████████████████████████████████████████████████████████▏                           | 441/600 [01:33<00:31,  5.08it/s]"
     ]
    },
    {
     "name": "stderr",
     "output_type": "stream",
     "text": [
      "\r",
      " 74%|█████████████████████████████████████████████████████████████████████████████▎                           | 442/600 [01:33<00:30,  5.15it/s]"
     ]
    },
    {
     "name": "stderr",
     "output_type": "stream",
     "text": [
      "\r",
      " 74%|█████████████████████████████████████████████████████████████████████████████▌                           | 443/600 [01:34<00:30,  5.18it/s]"
     ]
    },
    {
     "name": "stderr",
     "output_type": "stream",
     "text": [
      "\r",
      " 74%|█████████████████████████████████████████████████████████████████████████████▋                           | 444/600 [01:34<00:30,  5.14it/s]"
     ]
    },
    {
     "name": "stderr",
     "output_type": "stream",
     "text": [
      "\r",
      " 74%|█████████████████████████████████████████████████████████████████████████████▉                           | 445/600 [01:34<00:30,  5.12it/s]"
     ]
    },
    {
     "name": "stderr",
     "output_type": "stream",
     "text": [
      "\r",
      " 74%|██████████████████████████████████████████████████████████████████████████████                           | 446/600 [01:34<00:30,  5.03it/s]"
     ]
    },
    {
     "name": "stderr",
     "output_type": "stream",
     "text": [
      "\r",
      " 74%|██████████████████████████████████████████████████████████████████████████████▏                          | 447/600 [01:34<00:30,  5.08it/s]"
     ]
    },
    {
     "name": "stderr",
     "output_type": "stream",
     "text": [
      "\r",
      " 75%|██████████████████████████████████████████████████████████████████████████████▍                          | 448/600 [01:35<00:29,  5.11it/s]"
     ]
    },
    {
     "name": "stderr",
     "output_type": "stream",
     "text": [
      "\r",
      " 75%|██████████████████████████████████████████████████████████████████████████████▌                          | 449/600 [01:35<00:29,  5.13it/s]"
     ]
    },
    {
     "name": "stderr",
     "output_type": "stream",
     "text": [
      "\r",
      " 75%|██████████████████████████████████████████████████████████████████████████████▊                          | 450/600 [01:35<00:29,  5.16it/s]"
     ]
    },
    {
     "name": "stderr",
     "output_type": "stream",
     "text": [
      "\r",
      " 75%|██████████████████████████████████████████████████████████████████████████████▉                          | 451/600 [01:35<00:29,  5.00it/s]"
     ]
    },
    {
     "name": "stderr",
     "output_type": "stream",
     "text": [
      "\r",
      " 75%|███████████████████████████████████████████████████████████████████████████████                          | 452/600 [01:35<00:29,  5.00it/s]"
     ]
    },
    {
     "name": "stderr",
     "output_type": "stream",
     "text": [
      "\r",
      " 76%|███████████████████████████████████████████████████████████████████████████████▎                         | 453/600 [01:36<00:29,  5.03it/s]"
     ]
    },
    {
     "name": "stderr",
     "output_type": "stream",
     "text": [
      "\r",
      " 76%|███████████████████████████████████████████████████████████████████████████████▍                         | 454/600 [01:36<00:28,  5.09it/s]"
     ]
    },
    {
     "name": "stderr",
     "output_type": "stream",
     "text": [
      "\r",
      " 76%|███████████████████████████████████████████████████████████████████████████████▋                         | 455/600 [01:36<00:28,  5.10it/s]"
     ]
    },
    {
     "name": "stderr",
     "output_type": "stream",
     "text": [
      "\r",
      " 76%|███████████████████████████████████████████████████████████████████████████████▊                         | 456/600 [01:36<00:28,  4.97it/s]"
     ]
    },
    {
     "name": "stderr",
     "output_type": "stream",
     "text": [
      "\r",
      " 76%|███████████████████████████████████████████████████████████████████████████████▉                         | 457/600 [01:36<00:28,  4.93it/s]"
     ]
    },
    {
     "name": "stderr",
     "output_type": "stream",
     "text": [
      "\r",
      " 76%|████████████████████████████████████████████████████████████████████████████████▏                        | 458/600 [01:37<00:29,  4.88it/s]"
     ]
    },
    {
     "name": "stderr",
     "output_type": "stream",
     "text": [
      "\r",
      " 76%|████████████████████████████████████████████████████████████████████████████████▎                        | 459/600 [01:37<00:29,  4.76it/s]"
     ]
    },
    {
     "name": "stderr",
     "output_type": "stream",
     "text": [
      "\r",
      " 77%|████████████████████████████████████████████████████████████████████████████████▌                        | 460/600 [01:37<00:30,  4.66it/s]"
     ]
    },
    {
     "name": "stderr",
     "output_type": "stream",
     "text": [
      "\r",
      " 77%|████████████████████████████████████████████████████████████████████████████████▋                        | 461/600 [01:37<00:29,  4.68it/s]"
     ]
    },
    {
     "name": "stderr",
     "output_type": "stream",
     "text": [
      "\r",
      " 77%|████████████████████████████████████████████████████████████████████████████████▊                        | 462/600 [01:37<00:29,  4.72it/s]"
     ]
    },
    {
     "name": "stderr",
     "output_type": "stream",
     "text": [
      "\r",
      " 77%|█████████████████████████████████████████████████████████████████████████████████                        | 463/600 [01:38<00:29,  4.70it/s]"
     ]
    },
    {
     "name": "stderr",
     "output_type": "stream",
     "text": [
      "\r",
      " 77%|█████████████████████████████████████████████████████████████████████████████████▏                       | 464/600 [01:38<00:32,  4.18it/s]"
     ]
    },
    {
     "name": "stderr",
     "output_type": "stream",
     "text": [
      "\r",
      " 78%|█████████████████████████████████████████████████████████████████████████████████▍                       | 465/600 [01:38<00:31,  4.34it/s]"
     ]
    },
    {
     "name": "stderr",
     "output_type": "stream",
     "text": [
      "\r",
      " 78%|█████████████████████████████████████████████████████████████████████████████████▌                       | 466/600 [01:38<00:29,  4.47it/s]"
     ]
    },
    {
     "name": "stderr",
     "output_type": "stream",
     "text": [
      "\r",
      " 78%|█████████████████████████████████████████████████████████████████████████████████▋                       | 467/600 [01:39<00:28,  4.60it/s]"
     ]
    },
    {
     "name": "stderr",
     "output_type": "stream",
     "text": [
      "\r",
      " 78%|█████████████████████████████████████████████████████████████████████████████████▉                       | 468/600 [01:39<00:28,  4.71it/s]"
     ]
    },
    {
     "name": "stderr",
     "output_type": "stream",
     "text": [
      "\r",
      " 78%|██████████████████████████████████████████████████████████████████████████████████                       | 469/600 [01:39<00:27,  4.80it/s]"
     ]
    },
    {
     "name": "stderr",
     "output_type": "stream",
     "text": [
      "\r",
      " 78%|██████████████████████████████████████████████████████████████████████████████████▎                      | 470/600 [01:39<00:26,  4.85it/s]"
     ]
    },
    {
     "name": "stderr",
     "output_type": "stream",
     "text": [
      "\r",
      " 78%|██████████████████████████████████████████████████████████████████████████████████▍                      | 471/600 [01:39<00:26,  4.87it/s]"
     ]
    },
    {
     "name": "stderr",
     "output_type": "stream",
     "text": [
      "\r",
      " 79%|██████████████████████████████████████████████████████████████████████████████████▌                      | 472/600 [01:40<00:25,  4.95it/s]"
     ]
    },
    {
     "name": "stderr",
     "output_type": "stream",
     "text": [
      "\r",
      " 79%|██████████████████████████████████████████████████████████████████████████████████▊                      | 473/600 [01:40<00:25,  4.96it/s]"
     ]
    },
    {
     "name": "stderr",
     "output_type": "stream",
     "text": [
      "\r",
      " 79%|██████████████████████████████████████████████████████████████████████████████████▉                      | 474/600 [01:40<00:25,  4.96it/s]"
     ]
    },
    {
     "name": "stderr",
     "output_type": "stream",
     "text": [
      "\r",
      " 79%|███████████████████████████████████████████████████████████████████████████████████▏                     | 475/600 [01:40<00:25,  4.81it/s]"
     ]
    },
    {
     "name": "stderr",
     "output_type": "stream",
     "text": [
      "\r",
      " 79%|███████████████████████████████████████████████████████████████████████████████████▎                     | 476/600 [01:40<00:25,  4.82it/s]"
     ]
    },
    {
     "name": "stderr",
     "output_type": "stream",
     "text": [
      "\r",
      " 80%|███████████████████████████████████████████████████████████████████████████████████▍                     | 477/600 [01:41<00:25,  4.88it/s]"
     ]
    },
    {
     "name": "stderr",
     "output_type": "stream",
     "text": [
      "\r",
      " 80%|███████████████████████████████████████████████████████████████████████████████████▋                     | 478/600 [01:41<00:25,  4.86it/s]"
     ]
    },
    {
     "name": "stderr",
     "output_type": "stream",
     "text": [
      "\r",
      " 80%|███████████████████████████████████████████████████████████████████████████████████▊                     | 479/600 [01:41<00:24,  4.85it/s]"
     ]
    },
    {
     "name": "stderr",
     "output_type": "stream",
     "text": [
      "\r",
      " 80%|████████████████████████████████████████████████████████████████████████████████████                     | 480/600 [01:41<00:25,  4.78it/s]"
     ]
    },
    {
     "name": "stderr",
     "output_type": "stream",
     "text": [
      "\r",
      " 80%|████████████████████████████████████████████████████████████████████████████████████▏                    | 481/600 [01:42<00:25,  4.62it/s]"
     ]
    },
    {
     "name": "stderr",
     "output_type": "stream",
     "text": [
      "\r",
      " 80%|████████████████████████████████████████████████████████████████████████████████████▎                    | 482/600 [01:42<00:25,  4.66it/s]"
     ]
    },
    {
     "name": "stderr",
     "output_type": "stream",
     "text": [
      "\r",
      " 80%|████████████████████████████████████████████████████████████████████████████████████▌                    | 483/600 [01:42<00:25,  4.67it/s]"
     ]
    },
    {
     "name": "stderr",
     "output_type": "stream",
     "text": [
      "\r",
      " 81%|████████████████████████████████████████████████████████████████████████████████████▋                    | 484/600 [01:42<00:24,  4.73it/s]"
     ]
    },
    {
     "name": "stderr",
     "output_type": "stream",
     "text": [
      "\r",
      " 81%|████████████████████████████████████████████████████████████████████████████████████▉                    | 485/600 [01:42<00:24,  4.67it/s]"
     ]
    },
    {
     "name": "stderr",
     "output_type": "stream",
     "text": [
      "\r",
      " 81%|█████████████████████████████████████████████████████████████████████████████████████                    | 486/600 [01:43<00:24,  4.73it/s]"
     ]
    },
    {
     "name": "stderr",
     "output_type": "stream",
     "text": [
      "\r",
      " 81%|█████████████████████████████████████████████████████████████████████████████████████▏                   | 487/600 [01:43<00:23,  4.74it/s]"
     ]
    },
    {
     "name": "stderr",
     "output_type": "stream",
     "text": [
      "\r",
      " 81%|█████████████████████████████████████████████████████████████████████████████████████▍                   | 488/600 [01:43<00:23,  4.72it/s]"
     ]
    },
    {
     "name": "stderr",
     "output_type": "stream",
     "text": [
      "\r",
      " 82%|█████████████████████████████████████████████████████████████████████████████████████▌                   | 489/600 [01:43<00:23,  4.76it/s]"
     ]
    },
    {
     "name": "stderr",
     "output_type": "stream",
     "text": [
      "\r",
      " 82%|█████████████████████████████████████████████████████████████████████████████████████▊                   | 490/600 [01:43<00:23,  4.77it/s]"
     ]
    },
    {
     "name": "stderr",
     "output_type": "stream",
     "text": [
      "\r",
      " 82%|█████████████████████████████████████████████████████████████████████████████████████▉                   | 491/600 [01:44<00:22,  4.76it/s]"
     ]
    },
    {
     "name": "stderr",
     "output_type": "stream",
     "text": [
      "\r",
      " 82%|██████████████████████████████████████████████████████████████████████████████████████                   | 492/600 [01:44<00:22,  4.74it/s]"
     ]
    },
    {
     "name": "stderr",
     "output_type": "stream",
     "text": [
      "\r",
      " 82%|██████████████████████████████████████████████████████████████████████████████████████▎                  | 493/600 [01:44<00:22,  4.75it/s]"
     ]
    },
    {
     "name": "stderr",
     "output_type": "stream",
     "text": [
      "\r",
      " 82%|██████████████████████████████████████████████████████████████████████████████████████▍                  | 494/600 [01:44<00:22,  4.78it/s]"
     ]
    },
    {
     "name": "stderr",
     "output_type": "stream",
     "text": [
      "\r",
      " 82%|██████████████████████████████████████████████████████████████████████████████████████▋                  | 495/600 [01:44<00:21,  4.80it/s]"
     ]
    },
    {
     "name": "stderr",
     "output_type": "stream",
     "text": [
      "\r",
      " 83%|██████████████████████████████████████████████████████████████████████████████████████▊                  | 496/600 [01:45<00:21,  4.81it/s]"
     ]
    },
    {
     "name": "stderr",
     "output_type": "stream",
     "text": [
      "\r",
      " 83%|██████████████████████████████████████████████████████████████████████████████████████▉                  | 497/600 [01:45<00:21,  4.79it/s]"
     ]
    },
    {
     "name": "stderr",
     "output_type": "stream",
     "text": [
      "\r",
      " 83%|███████████████████████████████████████████████████████████████████████████████████████▏                 | 498/600 [01:45<00:21,  4.81it/s]"
     ]
    },
    {
     "name": "stderr",
     "output_type": "stream",
     "text": [
      "\r",
      " 83%|███████████████████████████████████████████████████████████████████████████████████████▎                 | 499/600 [01:45<00:21,  4.80it/s]"
     ]
    },
    {
     "name": "stderr",
     "output_type": "stream",
     "text": [
      "\r",
      " 83%|███████████████████████████████████████████████████████████████████████████████████████▌                 | 500/600 [01:45<00:20,  4.91it/s]"
     ]
    },
    {
     "name": "stderr",
     "output_type": "stream",
     "text": [
      "\r",
      " 84%|███████████████████████████████████████████████████████████████████████████████████████▋                 | 501/600 [01:46<00:19,  4.99it/s]"
     ]
    },
    {
     "name": "stderr",
     "output_type": "stream",
     "text": [
      "\r",
      " 84%|███████████████████████████████████████████████████████████████████████████████████████▊                 | 502/600 [01:46<00:19,  4.94it/s]"
     ]
    },
    {
     "name": "stderr",
     "output_type": "stream",
     "text": [
      "\r",
      " 84%|████████████████████████████████████████████████████████████████████████████████████████                 | 503/600 [01:46<00:19,  4.88it/s]"
     ]
    },
    {
     "name": "stderr",
     "output_type": "stream",
     "text": [
      "\r",
      " 84%|████████████████████████████████████████████████████████████████████████████████████████▏                | 504/600 [01:46<00:19,  4.88it/s]"
     ]
    },
    {
     "name": "stderr",
     "output_type": "stream",
     "text": [
      "\r",
      " 84%|████████████████████████████████████████████████████████████████████████████████████████▍                | 505/600 [01:46<00:19,  4.90it/s]"
     ]
    },
    {
     "name": "stderr",
     "output_type": "stream",
     "text": [
      "\r",
      " 84%|████████████████████████████████████████████████████████████████████████████████████████▌                | 506/600 [01:47<00:19,  4.85it/s]"
     ]
    },
    {
     "name": "stderr",
     "output_type": "stream",
     "text": [
      "\r",
      " 84%|████████████████████████████████████████████████████████████████████████████████████████▋                | 507/600 [01:47<00:19,  4.79it/s]"
     ]
    },
    {
     "name": "stderr",
     "output_type": "stream",
     "text": [
      "\r",
      " 85%|████████████████████████████████████████████████████████████████████████████████████████▉                | 508/600 [01:47<00:19,  4.73it/s]"
     ]
    },
    {
     "name": "stderr",
     "output_type": "stream",
     "text": [
      "\r",
      " 85%|█████████████████████████████████████████████████████████████████████████████████████████                | 509/600 [01:47<00:19,  4.77it/s]"
     ]
    },
    {
     "name": "stderr",
     "output_type": "stream",
     "text": [
      "\r",
      " 85%|█████████████████████████████████████████████████████████████████████████████████████████▎               | 510/600 [01:48<00:18,  4.76it/s]"
     ]
    },
    {
     "name": "stderr",
     "output_type": "stream",
     "text": [
      "\r",
      " 85%|█████████████████████████████████████████████████████████████████████████████████████████▍               | 511/600 [01:48<00:18,  4.76it/s]"
     ]
    },
    {
     "name": "stderr",
     "output_type": "stream",
     "text": [
      "\r",
      " 85%|█████████████████████████████████████████████████████████████████████████████████████████▌               | 512/600 [01:48<00:18,  4.77it/s]"
     ]
    },
    {
     "name": "stderr",
     "output_type": "stream",
     "text": [
      "\r",
      " 86%|█████████████████████████████████████████████████████████████████████████████████████████▊               | 513/600 [01:48<00:18,  4.76it/s]"
     ]
    },
    {
     "name": "stderr",
     "output_type": "stream",
     "text": [
      "\r",
      " 86%|█████████████████████████████████████████████████████████████████████████████████████████▉               | 514/600 [01:48<00:17,  4.79it/s]"
     ]
    },
    {
     "name": "stderr",
     "output_type": "stream",
     "text": [
      "\r",
      " 86%|██████████████████████████████████████████████████████████████████████████████████████████▏              | 515/600 [01:49<00:17,  4.82it/s]"
     ]
    },
    {
     "name": "stderr",
     "output_type": "stream",
     "text": [
      "\r",
      " 86%|██████████████████████████████████████████████████████████████████████████████████████████▎              | 516/600 [01:49<00:17,  4.85it/s]"
     ]
    },
    {
     "name": "stderr",
     "output_type": "stream",
     "text": [
      "\r",
      " 86%|██████████████████████████████████████████████████████████████████████████████████████████▍              | 517/600 [01:49<00:17,  4.82it/s]"
     ]
    },
    {
     "name": "stderr",
     "output_type": "stream",
     "text": [
      "\r",
      " 86%|██████████████████████████████████████████████████████████████████████████████████████████▋              | 518/600 [01:49<00:16,  4.84it/s]"
     ]
    },
    {
     "name": "stderr",
     "output_type": "stream",
     "text": [
      "\r",
      " 86%|██████████████████████████████████████████████████████████████████████████████████████████▊              | 519/600 [01:49<00:17,  4.76it/s]"
     ]
    },
    {
     "name": "stderr",
     "output_type": "stream",
     "text": [
      "\r",
      " 87%|███████████████████████████████████████████████████████████████████████████████████████████              | 520/600 [01:50<00:16,  4.79it/s]"
     ]
    },
    {
     "name": "stderr",
     "output_type": "stream",
     "text": [
      "\r",
      " 87%|███████████████████████████████████████████████████████████████████████████████████████████▏             | 521/600 [01:50<00:16,  4.74it/s]"
     ]
    },
    {
     "name": "stderr",
     "output_type": "stream",
     "text": [
      "\r",
      " 87%|███████████████████████████████████████████████████████████████████████████████████████████▎             | 522/600 [01:50<00:16,  4.76it/s]"
     ]
    },
    {
     "name": "stderr",
     "output_type": "stream",
     "text": [
      "\r",
      " 87%|███████████████████████████████████████████████████████████████████████████████████████████▌             | 523/600 [01:50<00:16,  4.79it/s]"
     ]
    },
    {
     "name": "stderr",
     "output_type": "stream",
     "text": [
      "\r",
      " 87%|███████████████████████████████████████████████████████████████████████████████████████████▋             | 524/600 [01:50<00:15,  4.81it/s]"
     ]
    },
    {
     "name": "stderr",
     "output_type": "stream",
     "text": [
      "\r",
      " 88%|███████████████████████████████████████████████████████████████████████████████████████████▉             | 525/600 [01:51<00:15,  4.80it/s]"
     ]
    },
    {
     "name": "stderr",
     "output_type": "stream",
     "text": [
      "\r",
      " 88%|████████████████████████████████████████████████████████████████████████████████████████████             | 526/600 [01:51<00:15,  4.78it/s]"
     ]
    },
    {
     "name": "stderr",
     "output_type": "stream",
     "text": [
      "\r",
      " 88%|████████████████████████████████████████████████████████████████████████████████████████████▏            | 527/600 [01:51<00:15,  4.76it/s]"
     ]
    },
    {
     "name": "stderr",
     "output_type": "stream",
     "text": [
      "\r",
      " 88%|████████████████████████████████████████████████████████████████████████████████████████████▍            | 528/600 [01:51<00:15,  4.78it/s]"
     ]
    },
    {
     "name": "stderr",
     "output_type": "stream",
     "text": [
      "\r",
      " 88%|████████████████████████████████████████████████████████████████████████████████████████████▌            | 529/600 [01:52<00:14,  4.76it/s]"
     ]
    },
    {
     "name": "stderr",
     "output_type": "stream",
     "text": [
      "\r",
      " 88%|████████████████████████████████████████████████████████████████████████████████████████████▊            | 530/600 [01:52<00:14,  4.81it/s]"
     ]
    },
    {
     "name": "stderr",
     "output_type": "stream",
     "text": [
      "\r",
      " 88%|████████████████████████████████████████████████████████████████████████████████████████████▉            | 531/600 [01:52<00:14,  4.82it/s]"
     ]
    },
    {
     "name": "stderr",
     "output_type": "stream",
     "text": [
      "\r",
      " 89%|█████████████████████████████████████████████████████████████████████████████████████████████            | 532/600 [01:52<00:14,  4.82it/s]"
     ]
    },
    {
     "name": "stderr",
     "output_type": "stream",
     "text": [
      "\r",
      " 89%|█████████████████████████████████████████████████████████████████████████████████████████████▎           | 533/600 [01:52<00:13,  4.79it/s]"
     ]
    },
    {
     "name": "stderr",
     "output_type": "stream",
     "text": [
      "\r",
      " 89%|█████████████████████████████████████████████████████████████████████████████████████████████▍           | 534/600 [01:53<00:14,  4.49it/s]"
     ]
    },
    {
     "name": "stderr",
     "output_type": "stream",
     "text": [
      "\r",
      " 89%|█████████████████████████████████████████████████████████████████████████████████████████████▋           | 535/600 [01:53<00:15,  4.32it/s]"
     ]
    },
    {
     "name": "stderr",
     "output_type": "stream",
     "text": [
      "\r",
      " 89%|█████████████████████████████████████████████████████████████████████████████████████████████▊           | 536/600 [01:53<00:14,  4.38it/s]"
     ]
    },
    {
     "name": "stderr",
     "output_type": "stream",
     "text": [
      "\r",
      " 90%|█████████████████████████████████████████████████████████████████████████████████████████████▉           | 537/600 [01:53<00:13,  4.52it/s]"
     ]
    },
    {
     "name": "stderr",
     "output_type": "stream",
     "text": [
      "\r",
      " 90%|██████████████████████████████████████████████████████████████████████████████████████████████▏          | 538/600 [01:53<00:13,  4.61it/s]"
     ]
    },
    {
     "name": "stderr",
     "output_type": "stream",
     "text": [
      "\r",
      " 90%|██████████████████████████████████████████████████████████████████████████████████████████████▎          | 539/600 [01:54<00:13,  4.68it/s]"
     ]
    },
    {
     "name": "stderr",
     "output_type": "stream",
     "text": [
      "\r",
      " 90%|██████████████████████████████████████████████████████████████████████████████████████████████▌          | 540/600 [01:54<00:12,  4.72it/s]"
     ]
    },
    {
     "name": "stderr",
     "output_type": "stream",
     "text": [
      "\r",
      " 90%|██████████████████████████████████████████████████████████████████████████████████████████████▋          | 541/600 [01:54<00:12,  4.75it/s]"
     ]
    },
    {
     "name": "stderr",
     "output_type": "stream",
     "text": [
      "\r",
      " 90%|██████████████████████████████████████████████████████████████████████████████████████████████▊          | 542/600 [01:54<00:12,  4.74it/s]"
     ]
    },
    {
     "name": "stderr",
     "output_type": "stream",
     "text": [
      "\r",
      " 90%|███████████████████████████████████████████████████████████████████████████████████████████████          | 543/600 [01:55<00:12,  4.73it/s]"
     ]
    },
    {
     "name": "stderr",
     "output_type": "stream",
     "text": [
      "\r",
      " 91%|███████████████████████████████████████████████████████████████████████████████████████████████▏         | 544/600 [01:55<00:11,  4.74it/s]"
     ]
    },
    {
     "name": "stderr",
     "output_type": "stream",
     "text": [
      "\r",
      " 91%|███████████████████████████████████████████████████████████████████████████████████████████████▍         | 545/600 [01:55<00:11,  4.73it/s]"
     ]
    },
    {
     "name": "stderr",
     "output_type": "stream",
     "text": [
      "\r",
      " 91%|███████████████████████████████████████████████████████████████████████████████████████████████▌         | 546/600 [01:55<00:11,  4.56it/s]"
     ]
    },
    {
     "name": "stderr",
     "output_type": "stream",
     "text": [
      "\r",
      " 91%|███████████████████████████████████████████████████████████████████████████████████████████████▋         | 547/600 [01:55<00:11,  4.65it/s]"
     ]
    },
    {
     "name": "stderr",
     "output_type": "stream",
     "text": [
      "\r",
      " 91%|███████████████████████████████████████████████████████████████████████████████████████████████▉         | 548/600 [01:56<00:11,  4.71it/s]"
     ]
    },
    {
     "name": "stderr",
     "output_type": "stream",
     "text": [
      "\r",
      " 92%|████████████████████████████████████████████████████████████████████████████████████████████████         | 549/600 [01:56<00:10,  4.76it/s]"
     ]
    },
    {
     "name": "stderr",
     "output_type": "stream",
     "text": [
      "\r",
      " 92%|████████████████████████████████████████████████████████████████████████████████████████████████▎        | 550/600 [01:56<00:10,  4.78it/s]"
     ]
    },
    {
     "name": "stderr",
     "output_type": "stream",
     "text": [
      "\r",
      " 92%|████████████████████████████████████████████████████████████████████████████████████████████████▍        | 551/600 [01:56<00:10,  4.76it/s]"
     ]
    },
    {
     "name": "stderr",
     "output_type": "stream",
     "text": [
      "\r",
      " 92%|████████████████████████████████████████████████████████████████████████████████████████████████▌        | 552/600 [01:56<00:09,  4.89it/s]"
     ]
    },
    {
     "name": "stderr",
     "output_type": "stream",
     "text": [
      "\r",
      " 92%|████████████████████████████████████████████████████████████████████████████████████████████████▊        | 553/600 [01:57<00:09,  4.82it/s]"
     ]
    },
    {
     "name": "stderr",
     "output_type": "stream",
     "text": [
      "\r",
      " 92%|████████████████████████████████████████████████████████████████████████████████████████████████▉        | 554/600 [01:57<00:09,  4.81it/s]"
     ]
    },
    {
     "name": "stderr",
     "output_type": "stream",
     "text": [
      "\r",
      " 92%|█████████████████████████████████████████████████████████████████████████████████████████████████▏       | 555/600 [01:57<00:09,  4.77it/s]"
     ]
    },
    {
     "name": "stderr",
     "output_type": "stream",
     "text": [
      "\r",
      " 93%|█████████████████████████████████████████████████████████████████████████████████████████████████▎       | 556/600 [01:57<00:09,  4.66it/s]"
     ]
    },
    {
     "name": "stderr",
     "output_type": "stream",
     "text": [
      "\r",
      " 93%|█████████████████████████████████████████████████████████████████████████████████████████████████▍       | 557/600 [01:57<00:09,  4.71it/s]"
     ]
    },
    {
     "name": "stderr",
     "output_type": "stream",
     "text": [
      "\r",
      " 93%|█████████████████████████████████████████████████████████████████████████████████████████████████▋       | 558/600 [01:58<00:08,  4.76it/s]"
     ]
    },
    {
     "name": "stderr",
     "output_type": "stream",
     "text": [
      "\r",
      " 93%|█████████████████████████████████████████████████████████████████████████████████████████████████▊       | 559/600 [01:58<00:08,  4.75it/s]"
     ]
    },
    {
     "name": "stderr",
     "output_type": "stream",
     "text": [
      "\r",
      " 93%|██████████████████████████████████████████████████████████████████████████████████████████████████       | 560/600 [01:58<00:08,  4.73it/s]"
     ]
    },
    {
     "name": "stderr",
     "output_type": "stream",
     "text": [
      "\r",
      " 94%|██████████████████████████████████████████████████████████████████████████████████████████████████▏      | 561/600 [01:58<00:08,  4.78it/s]"
     ]
    },
    {
     "name": "stderr",
     "output_type": "stream",
     "text": [
      "\r",
      " 94%|██████████████████████████████████████████████████████████████████████████████████████████████████▎      | 562/600 [01:59<00:07,  4.78it/s]"
     ]
    },
    {
     "name": "stderr",
     "output_type": "stream",
     "text": [
      "\r",
      " 94%|██████████████████████████████████████████████████████████████████████████████████████████████████▌      | 563/600 [01:59<00:07,  4.90it/s]"
     ]
    },
    {
     "name": "stderr",
     "output_type": "stream",
     "text": [
      "\r",
      " 94%|██████████████████████████████████████████████████████████████████████████████████████████████████▋      | 564/600 [01:59<00:07,  4.87it/s]"
     ]
    },
    {
     "name": "stderr",
     "output_type": "stream",
     "text": [
      "\r",
      " 94%|██████████████████████████████████████████████████████████████████████████████████████████████████▉      | 565/600 [01:59<00:07,  4.84it/s]"
     ]
    },
    {
     "name": "stderr",
     "output_type": "stream",
     "text": [
      "\r",
      " 94%|███████████████████████████████████████████████████████████████████████████████████████████████████      | 566/600 [01:59<00:07,  4.83it/s]"
     ]
    },
    {
     "name": "stderr",
     "output_type": "stream",
     "text": [
      "\r",
      " 94%|███████████████████████████████████████████████████████████████████████████████████████████████████▏     | 567/600 [02:00<00:06,  4.81it/s]"
     ]
    },
    {
     "name": "stderr",
     "output_type": "stream",
     "text": [
      "\r",
      " 95%|███████████████████████████████████████████████████████████████████████████████████████████████████▍     | 568/600 [02:00<00:06,  4.79it/s]"
     ]
    },
    {
     "name": "stderr",
     "output_type": "stream",
     "text": [
      "\r",
      " 95%|███████████████████████████████████████████████████████████████████████████████████████████████████▌     | 569/600 [02:00<00:06,  4.79it/s]"
     ]
    },
    {
     "name": "stderr",
     "output_type": "stream",
     "text": [
      "\r",
      " 95%|███████████████████████████████████████████████████████████████████████████████████████████████████▊     | 570/600 [02:00<00:06,  4.66it/s]"
     ]
    },
    {
     "name": "stderr",
     "output_type": "stream",
     "text": [
      "\r",
      " 95%|███████████████████████████████████████████████████████████████████████████████████████████████████▉     | 571/600 [02:00<00:06,  4.69it/s]"
     ]
    },
    {
     "name": "stderr",
     "output_type": "stream",
     "text": [
      "\r",
      " 95%|████████████████████████████████████████████████████████████████████████████████████████████████████     | 572/600 [02:01<00:05,  4.71it/s]"
     ]
    },
    {
     "name": "stderr",
     "output_type": "stream",
     "text": [
      "\r",
      " 96%|████████████████████████████████████████████████████████████████████████████████████████████████████▎    | 573/600 [02:01<00:05,  4.70it/s]"
     ]
    },
    {
     "name": "stderr",
     "output_type": "stream",
     "text": [
      "\r",
      " 96%|████████████████████████████████████████████████████████████████████████████████████████████████████▍    | 574/600 [02:01<00:05,  4.82it/s]"
     ]
    },
    {
     "name": "stderr",
     "output_type": "stream",
     "text": [
      "\r",
      " 96%|████████████████████████████████████████████████████████████████████████████████████████████████████▋    | 575/600 [02:01<00:05,  4.74it/s]"
     ]
    },
    {
     "name": "stderr",
     "output_type": "stream",
     "text": [
      "\r",
      " 96%|████████████████████████████████████████████████████████████████████████████████████████████████████▊    | 576/600 [02:01<00:04,  4.86it/s]"
     ]
    },
    {
     "name": "stderr",
     "output_type": "stream",
     "text": [
      "\r",
      " 96%|████████████████████████████████████████████████████████████████████████████████████████████████████▉    | 577/600 [02:02<00:04,  4.83it/s]"
     ]
    },
    {
     "name": "stderr",
     "output_type": "stream",
     "text": [
      "\r",
      " 96%|█████████████████████████████████████████████████████████████████████████████████████████████████████▏   | 578/600 [02:02<00:04,  4.80it/s]"
     ]
    },
    {
     "name": "stderr",
     "output_type": "stream",
     "text": [
      "\r",
      " 96%|█████████████████████████████████████████████████████████████████████████████████████████████████████▎   | 579/600 [02:02<00:04,  4.81it/s]"
     ]
    },
    {
     "name": "stderr",
     "output_type": "stream",
     "text": [
      "\r",
      " 97%|█████████████████████████████████████████████████████████████████████████████████████████████████████▌   | 580/600 [02:02<00:04,  4.77it/s]"
     ]
    },
    {
     "name": "stderr",
     "output_type": "stream",
     "text": [
      "\r",
      " 97%|█████████████████████████████████████████████████████████████████████████████████████████████████████▋   | 581/600 [02:03<00:03,  4.79it/s]"
     ]
    },
    {
     "name": "stderr",
     "output_type": "stream",
     "text": [
      "\r",
      " 97%|█████████████████████████████████████████████████████████████████████████████████████████████████████▊   | 582/600 [02:03<00:03,  4.71it/s]"
     ]
    },
    {
     "name": "stderr",
     "output_type": "stream",
     "text": [
      "\r",
      " 97%|██████████████████████████████████████████████████████████████████████████████████████████████████████   | 583/600 [02:03<00:03,  4.71it/s]"
     ]
    },
    {
     "name": "stderr",
     "output_type": "stream",
     "text": [
      "\r",
      " 97%|██████████████████████████████████████████████████████████████████████████████████████████████████████▏  | 584/600 [02:03<00:03,  4.72it/s]"
     ]
    },
    {
     "name": "stderr",
     "output_type": "stream",
     "text": [
      "\r",
      " 98%|██████████████████████████████████████████████████████████████████████████████████████████████████████▍  | 585/600 [02:03<00:03,  4.66it/s]"
     ]
    },
    {
     "name": "stderr",
     "output_type": "stream",
     "text": [
      "\r",
      " 98%|██████████████████████████████████████████████████████████████████████████████████████████████████████▌  | 586/600 [02:04<00:02,  4.68it/s]"
     ]
    },
    {
     "name": "stderr",
     "output_type": "stream",
     "text": [
      "\r",
      " 98%|██████████████████████████████████████████████████████████████████████████████████████████████████████▋  | 587/600 [02:04<00:02,  4.68it/s]"
     ]
    },
    {
     "name": "stderr",
     "output_type": "stream",
     "text": [
      "\r",
      " 98%|██████████████████████████████████████████████████████████████████████████████████████████████████████▉  | 588/600 [02:04<00:02,  4.71it/s]"
     ]
    },
    {
     "name": "stderr",
     "output_type": "stream",
     "text": [
      "\r",
      " 98%|███████████████████████████████████████████████████████████████████████████████████████████████████████  | 589/600 [02:04<00:02,  4.75it/s]"
     ]
    },
    {
     "name": "stderr",
     "output_type": "stream",
     "text": [
      "\r",
      " 98%|███████████████████████████████████████████████████████████████████████████████████████████████████████▎ | 590/600 [02:04<00:02,  4.75it/s]"
     ]
    },
    {
     "name": "stderr",
     "output_type": "stream",
     "text": [
      "\r",
      " 98%|███████████████████████████████████████████████████████████████████████████████████████████████████████▍ | 591/600 [02:05<00:01,  4.78it/s]"
     ]
    },
    {
     "name": "stderr",
     "output_type": "stream",
     "text": [
      "\r",
      " 99%|███████████████████████████████████████████████████████████████████████████████████████████████████████▌ | 592/600 [02:05<00:01,  4.75it/s]"
     ]
    },
    {
     "name": "stderr",
     "output_type": "stream",
     "text": [
      "\r",
      " 99%|███████████████████████████████████████████████████████████████████████████████████████████████████████▊ | 593/600 [02:05<00:01,  4.71it/s]"
     ]
    },
    {
     "name": "stderr",
     "output_type": "stream",
     "text": [
      "\r",
      " 99%|███████████████████████████████████████████████████████████████████████████████████████████████████████▉ | 594/600 [02:05<00:01,  4.74it/s]"
     ]
    },
    {
     "name": "stderr",
     "output_type": "stream",
     "text": [
      "\r",
      " 99%|████████████████████████████████████████████████████████████████████████████████████████████████████████▏| 595/600 [02:05<00:01,  4.74it/s]"
     ]
    },
    {
     "name": "stderr",
     "output_type": "stream",
     "text": [
      "\r",
      " 99%|████████████████████████████████████████████████████████████████████████████████████████████████████████▎| 596/600 [02:06<00:00,  4.66it/s]"
     ]
    },
    {
     "name": "stderr",
     "output_type": "stream",
     "text": [
      "\r",
      "100%|████████████████████████████████████████████████████████████████████████████████████████████████████████▍| 597/600 [02:06<00:00,  4.67it/s]"
     ]
    },
    {
     "name": "stderr",
     "output_type": "stream",
     "text": [
      "\r",
      "100%|████████████████████████████████████████████████████████████████████████████████████████████████████████▋| 598/600 [02:06<00:00,  4.70it/s]"
     ]
    },
    {
     "name": "stderr",
     "output_type": "stream",
     "text": [
      "\r",
      "100%|████████████████████████████████████████████████████████████████████████████████████████████████████████▊| 599/600 [02:06<00:00,  4.72it/s]"
     ]
    },
    {
     "name": "stderr",
     "output_type": "stream",
     "text": [
      "\r",
      "100%|█████████████████████████████████████████████████████████████████████████████████████████████████████████| 600/600 [02:07<00:00,  4.73it/s]"
     ]
    },
    {
     "name": "stderr",
     "output_type": "stream",
     "text": [
      "\r",
      "100%|█████████████████████████████████████████████████████████████████████████████████████████████████████████| 600/600 [02:07<00:00,  4.72it/s]"
     ]
    },
    {
     "name": "stderr",
     "output_type": "stream",
     "text": [
      "\n"
     ]
    },
    {
     "data": {
      "text/plain": [
       "(<Figure size 960x720 with 1 Axes>,\n",
       " <Axes: xlabel='Descent step', ylabel='log10(Mean square error)'>)"
      ]
     },
     "execution_count": 5,
     "metadata": {},
     "output_type": "execute_result"
    },
    {
     "data": {
      "application/vnd.jupyter.widget-view+json": {
       "model_id": "211e61dcb78e4292aeb232ef0075d4bb",
       "version_major": 2,
       "version_minor": 0
      },
      "image/png": "[encoded data removed]",
      "text/html": [
       "\n",
       "            <div style=\"display: inline-block;\">\n",
       "                <div class=\"jupyter-widgets widget-label\" style=\"text-align: center;\">\n",
       "                    Figure\n",
       "                </div>\n",
       "                <img src='data:image/png;base64,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' width=960.0/>\n",
       "            </div>\n",
       "        "
      ],
      "text/plain": [
       "Canvas(toolbar=Toolbar(toolitems=[('Home', 'Reset original view', 'home', 'home'), ('Back', 'Back to previous …"
      ]
     },
     "metadata": {},
     "output_type": "display_data"
    }
   ],
   "source": [
    "iq = ImageQuant2(img=imgs, roi=rois, cytbg=cytbg, membg=membg)\n",
    "iq.quantify()\n",
    "iq.plot_losses(log=True)"
   ]
  },
  {
   "cell_type": "markdown",
   "metadata": {},
   "source": [
    "### Save results"
   ]
  },
  {
   "cell_type": "code",
   "execution_count": 6,
   "metadata": {
    "execution": {
     "iopub.execute_input": "2023-12-19T19:46:54.605601Z",
     "iopub.status.busy": "2023-12-19T19:46:54.605222Z",
     "iopub.status.idle": "2023-12-19T19:46:58.624761Z",
     "shell.execute_reply": "2023-12-19T19:46:58.622948Z"
    }
   },
   "outputs": [],
   "source": [
    "res = iq.compile_res(ids=[str(x) for x in df[\"EmbryoID\"].to_list()])\n",
    "res[\"Membrane signal\"] *= calibration_factor\n",
    "res.to_csv(\"../../data/par2_nebd_quantification.csv\", index=False)"
   ]
  },
  {
   "cell_type": "code",
   "execution_count": null,
   "metadata": {},
   "outputs": [],
   "source": []
  }
 ],
 "metadata": {
  "kernelspec": {
   "display_name": "Python 3",
   "language": "python",
   "name": "python3"
  },
  "language_info": {
   "codemirror_mode": {
    "name": "ipython",
    "version": 3
   },
   "file_extension": ".py",
   "mimetype": "text/x-python",
   "name": "python",
   "nbconvert_exporter": "python",
   "pygments_lexer": "ipython3",
   "version": "3.11.6"
  },
  "widgets": {
   "application/vnd.jupyter.widget-state+json": {
    "state": {
     "1bb145870a4d4c4083de60aab09faae2": {
      "model_module": "jupyter-matplotlib",
      "model_module_version": "^0.11",
      "model_name": "ToolbarModel",
      "state": {
       "_current_action": "",
       "_dom_classes": [],
       "_model_module": "jupyter-matplotlib",
       "_model_module_version": "^0.11",
       "_model_name": "ToolbarModel",
       "_view_count": null,
       "_view_module": "jupyter-matplotlib",
       "_view_module_version": "^0.11",
       "_view_name": "ToolbarView",
       "button_style": "",
       "collapsed": true,
       "layout": "IPY_MODEL_b8c938d1bcdb461fb115f6b375c57a83",
       "orientation": "vertical",
       "tabbable": null,
       "toolitems": [
        [
         "Home",
         "Reset original view",
         "home",
         "home"
        ],
        [
         "Back",
         "Back to previous view",
         "arrow-left",
         "back"
        ],
        [
         "Forward",
         "Forward to next view",
         "arrow-right",
         "forward"
        ],
        [
         "Pan",
         "Left button pans, Right button zooms\nx/y fixes axis, CTRL fixes aspect",
         "arrows",
         "pan"
        ],
        [
         "Zoom",
         "Zoom to rectangle\nx/y fixes axis",
         "square-o",
         "zoom"
        ],
        [
         "Download",
         "Download plot",
         "floppy-o",
         "save_figure"
        ]
       ],
       "tooltip": null
      }
     },
     "211e61dcb78e4292aeb232ef0075d4bb": {
      "model_module": "jupyter-matplotlib",
      "model_module_version": "^0.11",
      "model_name": "MPLCanvasModel",
      "state": {
       "_cursor": "pointer",
       "_data_url": "data:image/png;base64,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",
       "_dom_classes": [],
       "_figure_label": "Figure",
       "_image_mode": "full",
       "_message": "",
       "_model_module": "jupyter-matplotlib",
       "_model_module_version": "^0.11",
       "_model_name": "MPLCanvasModel",
       "_rubberband_height": 0,
       "_rubberband_width": 0,
       "_rubberband_x": 0,
       "_rubberband_y": 0,
       "_size": [
        960.0,
        720.0
       ],
       "_view_count": null,
       "_view_module": "jupyter-matplotlib",
       "_view_module_version": "^0.11",
       "_view_name": "MPLCanvasView",
       "capture_scroll": false,
       "footer_visible": true,
       "header_visible": true,
       "layout": "IPY_MODEL_26d77ebc39f749baafff392aa354e104",
       "pan_zoom_throttle": 33.0,
       "resizable": true,
       "tabbable": null,
       "toolbar": "IPY_MODEL_1bb145870a4d4c4083de60aab09faae2",
       "toolbar_position": "left",
       "toolbar_visible": "fade-in-fade-out",
       "tooltip": null
      }
     },
     "26d77ebc39f749baafff392aa354e104": {
      "model_module": "@jupyter-widgets/base",
      "model_module_version": "2.0.0",
      "model_name": "LayoutModel",
      "state": {
       "_model_module": "@jupyter-widgets/base",
       "_model_module_version": "2.0.0",
       "_model_name": "LayoutModel",
       "_view_count": null,
       "_view_module": "@jupyter-widgets/base",
       "_view_module_version": "2.0.0",
       "_view_name": "LayoutView",
       "align_content": null,
       "align_items": null,
       "align_self": null,
       "border_bottom": null,
       "border_left": null,
       "border_right": null,
       "border_top": null,
       "bottom": null,
       "display": null,
       "flex": null,
       "flex_flow": null,
       "grid_area": null,
       "grid_auto_columns": null,
       "grid_auto_flow": null,
       "grid_auto_rows": null,
       "grid_column": null,
       "grid_gap": null,
       "grid_row": null,
       "grid_template_areas": null,
       "grid_template_columns": null,
       "grid_template_rows": null,
       "height": null,
       "justify_content": null,
       "justify_items": null,
       "left": null,
       "margin": null,
       "max_height": null,
       "max_width": null,
       "min_height": null,
       "min_width": null,
       "object_fit": null,
       "object_position": null,
       "order": null,
       "overflow": null,
       "padding": null,
       "right": null,
       "top": null,
       "visibility": null,
       "width": null
      }
     },
     "b8c938d1bcdb461fb115f6b375c57a83": {
      "model_module": "@jupyter-widgets/base",
      "model_module_version": "2.0.0",
      "model_name": "LayoutModel",
      "state": {
       "_model_module": "@jupyter-widgets/base",
       "_model_module_version": "2.0.0",
       "_model_name": "LayoutModel",
       "_view_count": null,
       "_view_module": "@jupyter-widgets/base",
       "_view_module_version": "2.0.0",
       "_view_name": "LayoutView",
       "align_content": null,
       "align_items": null,
       "align_self": null,
       "border_bottom": null,
       "border_left": null,
       "border_right": null,
       "border_top": null,
       "bottom": null,
       "display": null,
       "flex": null,
       "flex_flow": null,
       "grid_area": null,
       "grid_auto_columns": null,
       "grid_auto_flow": null,
       "grid_auto_rows": null,
       "grid_column": null,
       "grid_gap": null,
       "grid_row": null,
       "grid_template_areas": null,
       "grid_template_columns": null,
       "grid_template_rows": null,
       "height": null,
       "justify_content": null,
       "justify_items": null,
       "left": null,
       "margin": null,
       "max_height": null,
       "max_width": null,
       "min_height": null,
       "min_width": null,
       "object_fit": null,
       "object_position": null,
       "order": null,
       "overflow": null,
       "padding": null,
       "right": null,
       "top": null,
       "visibility": null,
       "width": null
      }
     }
    },
    "version_major": 2,
    "version_minor": 0
   }
  }
 },
 "nbformat": 4,
 "nbformat_minor": 4
}
