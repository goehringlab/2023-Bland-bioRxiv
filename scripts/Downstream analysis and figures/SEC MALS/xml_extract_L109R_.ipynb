{
 "cells": [
  {
   "cell_type": "code",
   "execution_count": 1,
   "metadata": {},
   "outputs": [],
   "source": [
    "import sys\n",
    "sys.path.append('../../../src')\n",
    "import xml.etree.ElementTree as ET\n",
    "from helpers import *\n",
    "%matplotlib notebook"
   ]
  },
  {
   "cell_type": "code",
   "execution_count": 2,
   "metadata": {},
   "outputs": [],
   "source": [
    "def get_results(path_to_xml, input_concentration):\n",
    "    tree = ET.parse(path_to_xml)\n",
    "    df = pd.DataFrame()\n",
    "    for a in tree.findall('{http://www.wyatt.com/schemas/ExperimentReport}results'):\n",
    "        for b in a: \n",
    "            \n",
    "            # Get mass measurements\n",
    "            if b.attrib['type'] == 'molar mass':\n",
    "                res = {}\n",
    "                res['measurement_type'] = b[0].text\n",
    "                if b[1].text != 'n/a':\n",
    "                    res['mass'] = float(b[1].text)\n",
    "                else:\n",
    "                    res['mass'] = np.nan\n",
    "                if 'uncertainty' in b[1].attrib:\n",
    "                    res['uncertainty'] = float(b[1].attrib['uncertainty'])\n",
    "                else:\n",
    "                    res['uncertainty'] = np.nan\n",
    "                df = df.append(res, ignore_index=True)\n",
    "                \n",
    "            # Get concentration\n",
    "            if b.attrib['type'] == 'concentration':\n",
    "                ave_conc = float(b[1].text)\n",
    "                \n",
    "            # Get total mass\n",
    "            if b.attrib['type'] == 'mass':\n",
    "                if b[0].text == 'Calculated Mass':\n",
    "                    total_mass = float(b[1].text)\n",
    "                \n",
    "    df['input_concentration'] = input_concentration\n",
    "#     df['average_concentration'] = ave_conc\n",
    "#     df['total_mass'] = total_mass\n",
    "    return df"
   ]
  },
  {
   "cell_type": "code",
   "execution_count": 3,
   "metadata": {},
   "outputs": [],
   "source": [
    "res750 = get_results(data_path + 'SEC MALS/xml/ASTRA 6 Report 20210924_Par2Ring_L109R_S75_test.xml', 750)\n",
    "full_res = res750"
   ]
  },
  {
   "cell_type": "code",
   "execution_count": 4,
   "metadata": {},
   "outputs": [
    {
     "data": {
      "text/html": [
       "<div>\n",
       "<style scoped>\n",
       "    .dataframe tbody tr th:only-of-type {\n",
       "        vertical-align: middle;\n",
       "    }\n",
       "\n",
       "    .dataframe tbody tr th {\n",
       "        vertical-align: top;\n",
       "    }\n",
       "\n",
       "    .dataframe thead th {\n",
       "        text-align: right;\n",
       "    }\n",
       "</style>\n",
       "<table border=\"1\" class=\"dataframe\">\n",
       "  <thead>\n",
       "    <tr style=\"text-align: right;\">\n",
       "      <th></th>\n",
       "      <th>measurement_type</th>\n",
       "      <th>mass</th>\n",
       "      <th>uncertainty</th>\n",
       "      <th>input_concentration</th>\n",
       "    </tr>\n",
       "  </thead>\n",
       "  <tbody>\n",
       "    <tr>\n",
       "      <th>0</th>\n",
       "      <td>Mn</td>\n",
       "      <td>9636.054140</td>\n",
       "      <td>506.098593</td>\n",
       "      <td>750</td>\n",
       "    </tr>\n",
       "    <tr>\n",
       "      <th>1</th>\n",
       "      <td>Mp</td>\n",
       "      <td>9418.320109</td>\n",
       "      <td>450.648060</td>\n",
       "      <td>750</td>\n",
       "    </tr>\n",
       "    <tr>\n",
       "      <th>2</th>\n",
       "      <td>Mv</td>\n",
       "      <td>NaN</td>\n",
       "      <td>NaN</td>\n",
       "      <td>750</td>\n",
       "    </tr>\n",
       "    <tr>\n",
       "      <th>3</th>\n",
       "      <td>Mw</td>\n",
       "      <td>9729.717313</td>\n",
       "      <td>517.480570</td>\n",
       "      <td>750</td>\n",
       "    </tr>\n",
       "    <tr>\n",
       "      <th>4</th>\n",
       "      <td>Mz</td>\n",
       "      <td>9825.298170</td>\n",
       "      <td>1177.616334</td>\n",
       "      <td>750</td>\n",
       "    </tr>\n",
       "    <tr>\n",
       "      <th>5</th>\n",
       "      <td>Mz+1</td>\n",
       "      <td>9923.376839</td>\n",
       "      <td>1919.533563</td>\n",
       "      <td>750</td>\n",
       "    </tr>\n",
       "    <tr>\n",
       "      <th>6</th>\n",
       "      <td>M(avg)</td>\n",
       "      <td>9807.167539</td>\n",
       "      <td>35.484375</td>\n",
       "      <td>750</td>\n",
       "    </tr>\n",
       "  </tbody>\n",
       "</table>\n",
       "</div>"
      ],
      "text/plain": [
       "  measurement_type         mass  uncertainty  input_concentration\n",
       "0               Mn  9636.054140   506.098593                  750\n",
       "1               Mp  9418.320109   450.648060                  750\n",
       "2               Mv          NaN          NaN                  750\n",
       "3               Mw  9729.717313   517.480570                  750\n",
       "4               Mz  9825.298170  1177.616334                  750\n",
       "5             Mz+1  9923.376839  1919.533563                  750\n",
       "6           M(avg)  9807.167539    35.484375                  750"
      ]
     },
     "execution_count": 4,
     "metadata": {},
     "output_type": "execute_result"
    }
   ],
   "source": [
    "full_res"
   ]
  },
  {
   "cell_type": "code",
   "execution_count": 5,
   "metadata": {},
   "outputs": [],
   "source": [
    "full_res.to_csv('mass_measurements_L109R.csv')"
   ]
  },
  {
   "cell_type": "code",
   "execution_count": null,
   "metadata": {},
   "outputs": [],
   "source": []
  }
 ],
 "metadata": {
  "kernelspec": {
   "display_name": "Python 3",
   "language": "python",
   "name": "python3"
  },
  "language_info": {
   "codemirror_mode": {
    "name": "ipython",
    "version": 3
   },
   "file_extension": ".py",
   "mimetype": "text/x-python",
   "name": "python",
   "nbconvert_exporter": "python",
   "pygments_lexer": "ipython3",
   "version": "3.7.9"
  }
 },
 "nbformat": 4,
 "nbformat_minor": 4
}
