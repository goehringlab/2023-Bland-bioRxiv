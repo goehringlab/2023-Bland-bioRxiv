{
 "cells": [
  {
   "cell_type": "code",
   "execution_count": 1,
   "metadata": {
    "execution": {
     "iopub.execute_input": "2024-05-17T13:12:25.923548Z",
     "iopub.status.busy": "2024-05-17T13:12:25.923200Z",
     "iopub.status.idle": "2024-05-17T13:12:28.686190Z",
     "shell.execute_reply": "2024-05-17T13:12:28.685019Z"
    }
   },
   "outputs": [],
   "source": [
    "import sympy as sp\n",
    "\n",
    "from src import nb_setup\n",
    "\n",
    "nb_setup()"
   ]
  },
  {
   "cell_type": "markdown",
   "metadata": {},
   "source": [
    "### Dimerisation only (monomer conc as function of total)"
   ]
  },
  {
   "cell_type": "code",
   "execution_count": 2,
   "metadata": {
    "execution": {
     "iopub.execute_input": "2024-05-17T13:12:28.690022Z",
     "iopub.status.busy": "2024-05-17T13:12:28.689628Z",
     "iopub.status.idle": "2024-05-17T13:12:29.186112Z",
     "shell.execute_reply": "2024-05-17T13:12:29.184996Z"
    }
   },
   "outputs": [
    {
     "data": {
      "text/plain": [
       "[(-sqrt(8*ka*t + 1) - 1)/(4*ka), (sqrt(8*ka*t + 1) - 1)/(4*ka)]"
      ]
     },
     "execution_count": 2,
     "metadata": {},
     "output_type": "execute_result"
    }
   ],
   "source": [
    "# Symbols:\n",
    "# ka = dimer association constant\n",
    "# t = total concentration\n",
    "# m = monomer concentration\n",
    "# d = dimer concentration\n",
    "\n",
    "ka, t, m = sp.symbols(\"ka t m\")\n",
    "\n",
    "# Conservation of mass\n",
    "d = t - m\n",
    "\n",
    "# Chemical potentials\n",
    "func = ka - (d / 2) / (m**2)\n",
    "\n",
    "# Solve (monomer conc as function of total conc)\n",
    "sp.solve(func, m)\n",
    "\n",
    "# Two solutions (-> solution 1 is the applicable one)"
   ]
  },
  {
   "cell_type": "markdown",
   "metadata": {},
   "source": [
    "### Full model : cytoplasmic conc as function of total"
   ]
  },
  {
   "cell_type": "code",
   "execution_count": 3,
   "metadata": {
    "execution": {
     "iopub.execute_input": "2024-05-17T13:12:29.189237Z",
     "iopub.status.busy": "2024-05-17T13:12:29.188938Z",
     "iopub.status.idle": "2024-05-17T13:14:07.508728Z",
     "shell.execute_reply": "2024-05-17T13:14:07.507833Z"
    }
   },
   "outputs": [
    {
     "data": {
      "text/plain": [
       "[(-alpha**2*km**3 + alpha**2*km**2 + 4*alpha*d*ka*km**2 - alpha*km**2*sqrt(alpha**2*km**2 + 8*alpha*d*ka*km**2 + 2*alpha*km + 8*d*ka + 1) - alpha*km**2 + alpha*km*sqrt(alpha**2*km**2 + 8*alpha*d*ka*km**2 + 2*alpha*km + 8*d*ka + 1) + alpha*km + 4*d*ka)/(4*ka*(alpha**2*km**4 + 2*alpha*km**2 + 1)),\n",
       " (-alpha**2*km**3 + alpha**2*km**2 + 4*alpha*d*ka*km**2 + alpha*km**2*sqrt(alpha**2*km**2 + 8*alpha*d*ka*km**2 + 2*alpha*km + 8*d*ka + 1) - alpha*km**2 - alpha*km*sqrt(alpha**2*km**2 + 8*alpha*d*ka*km**2 + 2*alpha*km + 8*d*ka + 1) + alpha*km + 4*d*ka)/(4*ka*(alpha**2*km**4 + 2*alpha*km**2 + 1)),\n",
       " (alpha**2*km**3 + alpha**2*km**2 + 4*alpha*d*ka*km**2 - alpha*km**2*sqrt(alpha**2*km**2 + 8*alpha*d*ka*km**2 - 2*alpha*km + 8*d*ka + 1) - alpha*km**2 - alpha*km*sqrt(alpha**2*km**2 + 8*alpha*d*ka*km**2 - 2*alpha*km + 8*d*ka + 1) - alpha*km + 4*d*ka)/(4*ka*(alpha**2*km**4 + 2*alpha*km**2 + 1)),\n",
       " (alpha**2*km**3 + alpha**2*km**2 + 4*alpha*d*ka*km**2 + alpha*km**2*sqrt(alpha**2*km**2 + 8*alpha*d*ka*km**2 - 2*alpha*km + 8*d*ka + 1) - alpha*km**2 + alpha*km*sqrt(alpha**2*km**2 + 8*alpha*d*ka*km**2 - 2*alpha*km + 8*d*ka + 1) - alpha*km + 4*d*ka)/(4*ka*(alpha**2*km**4 + 2*alpha*km**2 + 1))]"
      ]
     },
     "execution_count": 3,
     "metadata": {},
     "output_type": "execute_result"
    }
   ],
   "source": [
    "# Symbols:\n",
    "# km = membrane association constant\n",
    "# ka = dimer association constant\n",
    "# alpha = membrane to cytoplasm volume ratio\n",
    "# d = dosage\n",
    "# c = cytoplasmic concentration\n",
    "# m = membrane concentration\n",
    "\n",
    "ka, km, alpha, d, c = sp.symbols(\"ka km alpha d c\")\n",
    "\n",
    "# Conservation of mass\n",
    "m = (d - c) / alpha\n",
    "\n",
    "# Chemical potential\n",
    "func = (sp.ln(c) - sp.ln(1 + 4 * ka * c + sp.sqrt(1 + 8 * ka * c)) / 2) - (\n",
    "    sp.ln(m) - sp.log(km) - sp.ln(1 + 4 * ka * m + sp.sqrt(1 + 8 * ka * m)) / 2\n",
    ")\n",
    "\n",
    "# Solve (cytoplasmic concentration as func of total concentration)\n",
    "sp.solve(func, c)\n",
    "\n",
    "# Four solutions (-> solution 2 is the applicable one)"
   ]
  },
  {
   "cell_type": "code",
   "execution_count": 4,
   "metadata": {
    "execution": {
     "iopub.execute_input": "2024-05-17T13:14:07.511765Z",
     "iopub.status.busy": "2024-05-17T13:14:07.511478Z",
     "iopub.status.idle": "2024-05-17T13:14:07.516829Z",
     "shell.execute_reply": "2024-05-17T13:14:07.515553Z"
    }
   },
   "outputs": [],
   "source": [
    "# def model1(ka, km, alpha, d):\n",
    "#     return (-alpha**2*km**3 + alpha**2*km**2 + 4*alpha*d*ka*km**2 - alpha*km**2*np.sqrt(alpha**2*km**2 + 8*alpha*d*ka*km**2 + 2*alpha*km + 8*d*ka + 1) - alpha*km**2 + alpha*km*np.sqrt(alpha**2*km**2 + 8*alpha*d*ka*km**2 + 2*alpha*km + 8*d*ka + 1) + alpha*km + 4*d*ka)/(4*ka*(alpha**2*km**4 + 2*alpha*km**2 + 1))\n",
    "\n",
    "# def model2(ka, km, alpha, d):\n",
    "#     return (-alpha**2*km**3 + alpha**2*km**2 + 4*alpha*d*ka*km**2 + alpha*km**2*np.sqrt(alpha**2*km**2 + 8*alpha*d*ka*km**2 + 2*alpha*km + 8*d*ka + 1) - alpha*km**2 - alpha*km*np.sqrt(alpha**2*km**2 + 8*alpha*d*ka*km**2 + 2*alpha*km + 8*d*ka + 1) + alpha*km + 4*d*ka)/(4*ka*(alpha**2*km**4 + 2*alpha*km**2 + 1))\n",
    "\n",
    "# def model3(ka, km, alpha, d):\n",
    "#     return (alpha**2*km**3 + alpha**2*km**2 + 4*alpha*d*ka*km**2 - alpha*km**2*np.sqrt(alpha**2*km**2 + 8*alpha*d*ka*km**2 - 2*alpha*km + 8*d*ka + 1) - alpha*km**2 - alpha*km*np.sqrt(alpha**2*km**2 + 8*alpha*d*ka*km**2 - 2*alpha*km + 8*d*ka + 1) - alpha*km + 4*d*ka)/(4*ka*(alpha**2*km**4 + 2*alpha*km**2 + 1))\n",
    "\n",
    "# def model4(ka, km, alpha, d):\n",
    "#     return (alpha**2*km**3 + alpha**2*km**2 + 4*alpha*d*ka*km**2 + alpha*km**2*np.sqrt(alpha**2*km**2 + 8*alpha*d*ka*km**2 - 2*alpha*km + 8*d*ka + 1) - alpha*km**2 + alpha*km*np.sqrt(alpha**2*km**2 + 8*alpha*d*ka*km**2 - 2*alpha*km + 8*d*ka + 1) - alpha*km + 4*d*ka)/(4*ka*(alpha**2*km**4 + 2*alpha*km**2 + 1))"
   ]
  },
  {
   "cell_type": "markdown",
   "metadata": {},
   "source": [
    "### Full model: membrane conc as function of cytoplasmic conc"
   ]
  },
  {
   "cell_type": "code",
   "execution_count": 5,
   "metadata": {
    "execution": {
     "iopub.execute_input": "2024-05-17T13:14:07.522723Z",
     "iopub.status.busy": "2024-05-17T13:14:07.522424Z",
     "iopub.status.idle": "2024-05-17T13:14:25.202574Z",
     "shell.execute_reply": "2024-05-17T13:14:25.201474Z"
    }
   },
   "outputs": [
    {
     "data": {
      "text/plain": [
       "[c*km*(2*c*ka*km*(4*c*ka + sqrt(8*c*ka + 1) + 1) - sqrt(32*c**3*ka**3 + 24*c**2*ka**2*sqrt(8*c*ka + 1) + 72*c**2*ka**2 + 16*c*ka*sqrt(8*c*ka + 1) + 24*c*ka + 2*sqrt(8*c*ka + 1) + 2))/(8*c**2*ka**2 + 4*c*ka*sqrt(8*c*ka + 1) + 8*c*ka + sqrt(8*c*ka + 1) + 1),\n",
       " c*km*(2*c*ka*km*(4*c*ka + sqrt(8*c*ka + 1) + 1) + sqrt(32*c**3*ka**3 + 24*c**2*ka**2*sqrt(8*c*ka + 1) + 72*c**2*ka**2 + 16*c*ka*sqrt(8*c*ka + 1) + 24*c*ka + 2*sqrt(8*c*ka + 1) + 2))/(8*c**2*ka**2 + 4*c*ka*sqrt(8*c*ka + 1) + 8*c*ka + sqrt(8*c*ka + 1) + 1)]"
      ]
     },
     "execution_count": 5,
     "metadata": {},
     "output_type": "execute_result"
    }
   ],
   "source": [
    "# Symbols as above\n",
    "ka, km, m, c = sp.symbols(\"ka km m c\")\n",
    "\n",
    "# Chemical potentials\n",
    "func = (sp.ln(c) - sp.ln(1 + 4 * ka * c + sp.sqrt(1 + 8 * ka * c)) / 2) - (\n",
    "    sp.ln(m) - sp.log(km) - sp.ln(1 + 4 * ka * m + sp.sqrt(1 + 8 * ka * m)) / 2\n",
    ")\n",
    "\n",
    "# Solve (cytoplasmic concentration as func of total concentration)\n",
    "sp.solve(func, m)"
   ]
  },
  {
   "cell_type": "code",
   "execution_count": null,
   "metadata": {},
   "outputs": [],
   "source": []
  }
 ],
 "metadata": {
  "kernelspec": {
   "display_name": "Python 3",
   "language": "python",
   "name": "python3"
  },
  "language_info": {
   "codemirror_mode": {
    "name": "ipython",
    "version": 3
   },
   "file_extension": ".py",
   "mimetype": "text/x-python",
   "name": "python",
   "nbconvert_exporter": "python",
   "pygments_lexer": "ipython3",
   "version": "3.11.6"
  }
 },
 "nbformat": 4,
 "nbformat_minor": 4
}
