{
 "cells": [
  {
   "cell_type": "markdown",
   "metadata": {},
   "source": [
    "### Quantifying cooperativity for a PH membrane-binding probe (negative control)\n",
    "\n",
    "Context:\n",
    "- Negative control for an assay for quantifying membrane-binding cooperativity\n",
    "- Relies on measurements of membrane and cytoplasmic concentration in cells with varying quantities of total protein\n",
    "- An effective exponent is quantified by performing linear regression on log-transformed data\n",
    "\n",
    "Results:\n",
    "- Here the exponent is close to 1, showing that the assay works as intended\n",
    "\n",
    "Dependencies:\n",
    "- Relies on quantification data from _Run/ph_quantify.ipynb_"
   ]
  },
  {
   "cell_type": "code",
   "execution_count": 1,
   "metadata": {
    "execution": {
     "iopub.execute_input": "2024-05-30T08:03:29.253916Z",
     "iopub.status.busy": "2024-05-30T08:03:29.253107Z",
     "iopub.status.idle": "2024-05-30T08:03:31.575073Z",
     "shell.execute_reply": "2024-05-30T08:03:31.573701Z"
    }
   },
   "outputs": [],
   "source": [
    "import os\n",
    "\n",
    "import matplotlib.pyplot as plt\n",
    "import numpy as np\n",
    "import pandas as pd\n",
    "import scipy.stats as st\n",
    "\n",
    "from src import (\n",
    "    ExponentConfidenceInterval,\n",
    "    bounded_mean_1d,\n",
    "    fake_log,\n",
    "    minor_ticks,\n",
    "    nb_setup,\n",
    ")\n",
    "\n",
    "nb_setup()\n",
    "os.makedirs(\"Figs\", exist_ok=True)\n",
    "os.makedirs(\"../../../data/EMBO_source_data\", exist_ok=True)\n",
    "\n",
    "%matplotlib inline"
   ]
  },
  {
   "cell_type": "code",
   "execution_count": 2,
   "metadata": {
    "execution": {
     "iopub.execute_input": "2024-05-30T08:03:31.578857Z",
     "iopub.status.busy": "2024-05-30T08:03:31.578384Z",
     "iopub.status.idle": "2024-05-30T08:03:31.642509Z",
     "shell.execute_reply": "2024-05-30T08:03:31.641294Z"
    }
   },
   "outputs": [],
   "source": [
    "# Import data\n",
    "df = pd.read_csv(\"../../../data/ph_embryos.csv\")\n",
    "df_quantification = pd.read_csv(\"../../../data/ph_quantification.csv\")\n",
    "\n",
    "# Filter relevant data\n",
    "df = df[df.Line == \"od58\"]\n",
    "df_quantification = df_quantification[df_quantification.EmbryoID.isin(df.EmbryoID)]\n",
    "\n",
    "\n",
    "# Perform summary quantification\n",
    "def calculate_summary(group):\n",
    "    cyt = group[\"Cytoplasmic signal\"].mean()\n",
    "    mem_tot = group[\"Membrane signal\"].mean()\n",
    "    mem_ant = bounded_mean_1d(group[\"Membrane signal\"], [0.4, 0.6])\n",
    "    mem_post = bounded_mean_1d(group[\"Membrane signal\"], [0.9, 0.1])\n",
    "    return pd.Series(\n",
    "        {\n",
    "            \"Cyt\": cyt,\n",
    "            \"Mem_tot\": mem_tot,\n",
    "            \"Mem_ant\": mem_ant,\n",
    "            \"Mem_post\": mem_post,\n",
    "        }\n",
    "    )\n",
    "\n",
    "\n",
    "df_summary = (\n",
    "    df_quantification.groupby(\"EmbryoID\").apply(calculate_summary).reset_index()\n",
    ")\n",
    "df = pd.merge(df, df_summary, on=\"EmbryoID\")\n",
    "\n",
    "# Add uniform vs polarised column\n",
    "df[\"UniPol\"] = \"Uni\""
   ]
  },
  {
   "cell_type": "markdown",
   "metadata": {},
   "source": [
    "### Plotting functions"
   ]
  },
  {
   "cell_type": "code",
   "execution_count": 3,
   "metadata": {
    "execution": {
     "iopub.execute_input": "2024-05-30T08:03:31.646702Z",
     "iopub.status.busy": "2024-05-30T08:03:31.645811Z",
     "iopub.status.idle": "2024-05-30T08:03:31.659018Z",
     "shell.execute_reply": "2024-05-30T08:03:31.657775Z"
    }
   },
   "outputs": [],
   "source": [
    "def plot_rundown_ci(ax, res, color):\n",
    "    ax.plot(\n",
    "        res.res_x,\n",
    "        res.res_y,\n",
    "        c=\"k\",\n",
    "        zorder=100,\n",
    "        linewidth=1,\n",
    "        label=r\"$y = \\beta x^\\alpha$\",\n",
    "    )\n",
    "    ax.fill_between(\n",
    "        res.res_x,\n",
    "        res.all_fits_lower,\n",
    "        res.all_fits_upper,\n",
    "        alpha=0.1,\n",
    "        color=\"k\",\n",
    "        zorder=100,\n",
    "    )\n",
    "    ax.set_xlabel(\"Cytoplasmic conc. (a.u.)\", fontsize=9)\n",
    "    ax.set_ylabel(\"Membrane conc. (a.u.)\", fontsize=9)\n",
    "    ax.tick_params(axis=\"both\", labelsize=8)\n",
    "    ax.scatter(res.cyts, res.mems, color=color, linewidth=0.1, edgecolors=\"k\", s=20)\n",
    "\n",
    "    xlim = ax.get_xlim()\n",
    "    ylim = ax.get_ylim()\n",
    "    for i in np.arange(-10, 10, 0.5):\n",
    "        ax.plot([-10, 10], [i - 10, i + 10], c=\"0.9\", zorder=-100, linewidth=1)\n",
    "    ax.set_xticks(np.arange(0, 10))\n",
    "    ax.set_yticks(np.arange(0, 10))\n",
    "    minor_ticks(ax, [0, 10], [0, 10])\n",
    "    ax.set_xlim(xlim)\n",
    "    ax.set_ylim(ylim)\n",
    "    ax.xaxis.set_major_formatter(fake_log)\n",
    "    ax.yaxis.set_major_formatter(fake_log)\n",
    "    ax.set_aspect(\"equal\", adjustable=\"datalim\")\n",
    "    ax.legend(frameon=False, fontsize=8, loc=\"lower right\")\n",
    "\n",
    "\n",
    "def violin(ax, res, xpos, color):\n",
    "    kde = st.gaussian_kde(res.exponents)\n",
    "    xx = np.linspace(min(res.exponents), max(res.exponents), 10000)\n",
    "    kde_xx = kde(xx)\n",
    "    ax.fill_betweenx(\n",
    "        xx,\n",
    "        xpos - 0.8 * (kde_xx / max(kde_xx)),\n",
    "        xpos + 0.8 * (kde_xx / max(kde_xx)),\n",
    "        color=color,\n",
    "        linewidth=0,\n",
    "    )\n",
    "    ax.plot(\n",
    "        [xpos, xpos],\n",
    "        [np.percentile(res.exponents, 2.5), np.percentile(res.exponents, 97.5)],\n",
    "        c=\"k\",\n",
    "        linewidth=0.5,\n",
    "    )\n",
    "    ax.scatter(xpos, res.exponent_full, c=\"k\", s=5)"
   ]
  },
  {
   "cell_type": "markdown",
   "metadata": {},
   "source": [
    "### Plot: PH rundown"
   ]
  },
  {
   "cell_type": "code",
   "execution_count": 4,
   "metadata": {
    "execution": {
     "iopub.execute_input": "2024-05-30T08:03:31.662620Z",
     "iopub.status.busy": "2024-05-30T08:03:31.662319Z",
     "iopub.status.idle": "2024-05-30T08:03:33.018602Z",
     "shell.execute_reply": "2024-05-30T08:03:33.017319Z"
    }
   },
   "outputs": [],
   "source": [
    "analysis = ExponentConfidenceInterval(df, whole_embryo=True)"
   ]
  },
  {
   "cell_type": "code",
   "execution_count": 5,
   "metadata": {
    "execution": {
     "iopub.execute_input": "2024-05-30T08:03:33.022019Z",
     "iopub.status.busy": "2024-05-30T08:03:33.021618Z",
     "iopub.status.idle": "2024-05-30T08:03:34.674811Z",
     "shell.execute_reply": "2024-05-30T08:03:34.673599Z"
    }
   },
   "outputs": [
    {
     "data": {
      "image/png": "[encoded data removed]",
      "text/plain": [
       "<Figure size 375x375 with 1 Axes>"
      ]
     },
     "metadata": {},
     "output_type": "display_data"
    }
   ],
   "source": [
    "# Create figure\n",
    "fig, ax = plt.subplots()\n",
    "plot_rundown_ci(ax, analysis, \"tab:gray\")\n",
    "fig.set_size_inches(2.5, 2.5)\n",
    "fig.subplots_adjust(left=0.2, bottom=0.2)\n",
    "\n",
    "# Save figure\n",
    "fig.savefig(\"Figs/ph_rundown_log.png\", dpi=600, transparent=True)\n",
    "fig.savefig(\"Figs/ph_rundown_log.pdf\", transparent=True)\n",
    "\n",
    "# SourceData\n",
    "df.to_csv(\"../../../data/EMBO_source_data/1F.csv\", index=False)"
   ]
  },
  {
   "cell_type": "code",
   "execution_count": 6,
   "metadata": {
    "execution": {
     "iopub.execute_input": "2024-05-30T08:03:34.678355Z",
     "iopub.status.busy": "2024-05-30T08:03:34.678032Z",
     "iopub.status.idle": "2024-05-30T08:03:36.083826Z",
     "shell.execute_reply": "2024-05-30T08:03:36.082562Z"
    }
   },
   "outputs": [
    {
     "data": {
      "image/png": "[encoded data removed]",
      "text/plain": [
       "<Figure size 195x375 with 1 Axes>"
      ]
     },
     "metadata": {},
     "output_type": "display_data"
    }
   ],
   "source": [
    "fig, ax = plt.subplots()\n",
    "violin(ax, analysis, 1, \"tab:gray\")\n",
    "ax.set_xlim(-0.7, 2.7)\n",
    "ax.set_ylim(0.65, 1.65)\n",
    "ax.set_xticks([])\n",
    "ax.set_ylabel(\"Cooperativity (α)\", fontsize=9)\n",
    "ax.tick_params(axis=\"y\", labelsize=7)\n",
    "ax.tick_params(axis=\"x\", labelsize=9)\n",
    "ax.yaxis.tick_right()\n",
    "ax.yaxis.set_label_position(\"right\")\n",
    "\n",
    "fig.set_size_inches(1.3, 2.5)\n",
    "fig.subplots_adjust(bottom=0.2, right=0.6)\n",
    "fig.savefig(\"Figs/ph_exponent.png\", dpi=600, transparent=True)\n",
    "fig.savefig(\"Figs/ph_exponent.pdf\", transparent=True)"
   ]
  },
  {
   "cell_type": "code",
   "execution_count": null,
   "metadata": {},
   "outputs": [],
   "source": []
  }
 ],
 "metadata": {
  "kernelspec": {
   "display_name": "Python 3",
   "language": "python",
   "name": "python3"
  },
  "language_info": {
   "codemirror_mode": {
    "name": "ipython",
    "version": 3
   },
   "file_extension": ".py",
   "mimetype": "text/x-python",
   "name": "python",
   "nbconvert_exporter": "python",
   "pygments_lexer": "ipython3",
   "version": "3.11.6"
  },
  "vscode": {
   "interpreter": {
    "hash": "e3dc3871f4e194b0e5205f2056eb037c91cfe60a6f5484f031ab0dd7212226df"
   }
  }
 },
 "nbformat": 4,
 "nbformat_minor": 4
}
