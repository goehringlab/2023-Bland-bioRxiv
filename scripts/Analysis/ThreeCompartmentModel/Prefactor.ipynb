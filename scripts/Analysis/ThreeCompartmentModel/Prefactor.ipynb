{
 "cells": [
  {
   "cell_type": "code",
   "execution_count": 1,
   "metadata": {
    "execution": {
     "iopub.execute_input": "2023-11-18T11:32:10.147499Z",
     "iopub.status.busy": "2023-11-18T11:32:10.147186Z",
     "iopub.status.idle": "2023-11-18T11:32:10.239581Z",
     "shell.execute_reply": "2023-11-18T11:32:10.238899Z"
    }
   },
   "outputs": [],
   "source": [
    "import numpy as np"
   ]
  },
  {
   "cell_type": "code",
   "execution_count": 2,
   "metadata": {
    "execution": {
     "iopub.execute_input": "2023-11-18T11:32:10.243299Z",
     "iopub.status.busy": "2023-11-18T11:32:10.242833Z",
     "iopub.status.idle": "2023-11-18T11:32:10.247655Z",
     "shell.execute_reply": "2023-11-18T11:32:10.246848Z"
    }
   },
   "outputs": [
    {
     "name": "stdout",
     "output_type": "stream",
     "text": [
      "3.580964371026362e-07\n"
     ]
    }
   ],
   "source": [
    "km = 10**2.3946427028334076  # determined by model fit\n",
    "ka = 10**6.446  # determined by AUC\n",
    "print(1 / ka)\n",
    "koff = 7.3e-3  # Goehring 2011a"
   ]
  },
  {
   "cell_type": "code",
   "execution_count": 3,
   "metadata": {
    "execution": {
     "iopub.execute_input": "2023-11-18T11:32:10.250707Z",
     "iopub.status.busy": "2023-11-18T11:32:10.250442Z",
     "iopub.status.idle": "2023-11-18T11:32:10.254740Z",
     "shell.execute_reply": "2023-11-18T11:32:10.254010Z"
    }
   },
   "outputs": [
    {
     "name": "stdout",
     "output_type": "stream",
     "text": [
      "4.7631999999999994e-05\n"
     ]
    }
   ],
   "source": [
    "D = 0.005  # cortical thickness\n",
    "cc = 1.04e-8  # wt cytoplasmic concentration (Gross)\n",
    "norm_mem = 22.90  # normalised membrane concentration (me)\n",
    "cm = cc * norm_mem / D\n",
    "print(cm)"
   ]
  },
  {
   "cell_type": "code",
   "execution_count": 4,
   "metadata": {
    "execution": {
     "iopub.execute_input": "2023-11-18T11:32:10.258537Z",
     "iopub.status.busy": "2023-11-18T11:32:10.258242Z",
     "iopub.status.idle": "2023-11-18T11:32:10.262782Z",
     "shell.execute_reply": "2023-11-18T11:32:10.262037Z"
    }
   },
   "outputs": [
    {
     "name": "stdout",
     "output_type": "stream",
     "text": [
      "43.078077317410866\n"
     ]
    }
   ],
   "source": [
    "# See paper methods\n",
    "pf = koff * np.sqrt(4 * ka * cm + np.sqrt(8 * ka * cm + 1) + 1) * km\n",
    "print(pf)"
   ]
  },
  {
   "cell_type": "code",
   "execution_count": 5,
   "metadata": {
    "execution": {
     "iopub.execute_input": "2023-11-18T11:32:10.266747Z",
     "iopub.status.busy": "2023-11-18T11:32:10.266204Z",
     "iopub.status.idle": "2023-11-18T11:32:10.270382Z",
     "shell.execute_reply": "2023-11-18T11:32:10.269601Z"
    }
   },
   "outputs": [],
   "source": [
    "def koff(m, km, ka, pf):\n",
    "    return pf / (km * np.sqrt(1 + 4 * m * ka + np.sqrt(1 + 8 * m * ka)))"
   ]
  },
  {
   "cell_type": "code",
   "execution_count": 6,
   "metadata": {
    "execution": {
     "iopub.execute_input": "2023-11-18T11:32:10.274334Z",
     "iopub.status.busy": "2023-11-18T11:32:10.273851Z",
     "iopub.status.idle": "2023-11-18T11:32:10.278198Z",
     "shell.execute_reply": "2023-11-18T11:32:10.277311Z"
    }
   },
   "outputs": [
    {
     "name": "stdout",
     "output_type": "stream",
     "text": [
      "0.007300000000000001\n"
     ]
    }
   ],
   "source": [
    "print(koff(cm, km, ka, pf))"
   ]
  }
 ],
 "metadata": {
  "kernelspec": {
   "display_name": "Python 3",
   "language": "python",
   "name": "python3"
  },
  "language_info": {
   "codemirror_mode": {
    "name": "ipython",
    "version": 3
   },
   "file_extension": ".py",
   "mimetype": "text/x-python",
   "name": "python",
   "nbconvert_exporter": "python",
   "pygments_lexer": "ipython3",
   "version": "3.11.6"
  },
  "vscode": {
   "interpreter": {
    "hash": "e3dc3871f4e194b0e5205f2056eb037c91cfe60a6f5484f031ab0dd7212226df"
   }
  }
 },
 "nbformat": 4,
 "nbformat_minor": 4
}
