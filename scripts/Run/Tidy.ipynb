{
 "cells": [
  {
   "cell_type": "code",
   "execution_count": 6,
   "metadata": {},
   "outputs": [],
   "source": [
    "import os, sys\n",
    "sys.path.append('../..')\n",
    "from src import direcslist\n",
    "import shutil\n",
    "%matplotlib notebook"
   ]
  },
  {
   "cell_type": "code",
   "execution_count": 4,
   "metadata": {},
   "outputs": [
    {
     "name": "stdout",
     "output_type": "stream",
     "text": [
      "853\n"
     ]
    }
   ],
   "source": [
    "path = raw_data_path + '/Imaging/'\n",
    "paths = direcslist(path, 2)\n",
    "print(len(paths))"
   ]
  },
  {
   "cell_type": "code",
   "execution_count": 13,
   "metadata": {},
   "outputs": [],
   "source": [
    "for p in paths:\n",
    "    if os.path.exists(p + '/ROI.txt'):\n",
    "        os.rename(p + '/ROI.txt', p + '/ROI_manual.txt')\n",
    "        # os.remove(p + '/ROI_fit2.txt')"
   ]
  },
  {
   "cell_type": "code",
   "execution_count": 26,
   "metadata": {},
   "outputs": [],
   "source": [
    "# for p in paths:\n",
    "#     if os.path.exists(p + '/af_corrected_flat.tif'):\n",
    "#         print(p)\n",
    "# #         os.remove(p + '/af_corrected_3channel_flat.tif')"
   ]
  },
  {
   "cell_type": "code",
   "execution_count": 27,
   "metadata": {},
   "outputs": [],
   "source": [
    "# for p in paths:\n",
    "#     if len(glob.glob(p + '/*MDAlog*')) > 0:\n",
    "#         print(p)\n",
    "# #         os.remove(glob.glob(p + '/*MDAlog*')[0])"
   ]
  },
  {
   "cell_type": "code",
   "execution_count": 28,
   "metadata": {},
   "outputs": [],
   "source": [
    "# path = '../Downstream analysis and figures/'\n",
    "# paths = direcslist(path) + direcslist(path, 1)\n",
    "# pngs = []\n",
    "# for p in paths:\n",
    "#     pngs.extend(glob.glob(p + '/*.png'))"
   ]
  },
  {
   "cell_type": "code",
   "execution_count": 29,
   "metadata": {},
   "outputs": [],
   "source": [
    "# for p in pngs:\n",
    "#     os.remove(p)"
   ]
  },
  {
   "cell_type": "code",
   "execution_count": 30,
   "metadata": {},
   "outputs": [],
   "source": [
    "# path = '../Downstream analysis and figures/'\n",
    "# paths = direcslist(path)\n",
    "# notebooks = []\n",
    "# for p in paths:\n",
    "#     notebooks.extend(glob.glob(p + '/*.ipynb'))"
   ]
  },
  {
   "cell_type": "code",
   "execution_count": 31,
   "metadata": {},
   "outputs": [],
   "source": [
    "# from urllib.parse import quote\n",
    "\n",
    "# for i, n in enumerate(sorted(notebooks)):\n",
    "#     print(f'[n{i}]: scripts/{quote(n[3:])}')"
   ]
  },
  {
   "cell_type": "code",
   "execution_count": 36,
   "metadata": {},
   "outputs": [],
   "source": [
    "# for p in direcslist('../Downstream analysis and figures'):\n",
    "#     if os.path.exists(p + '/Figs'):\n",
    "#         shutil.rmtree(p + '/Figs')"
   ]
  },
  {
   "cell_type": "code",
   "execution_count": null,
   "metadata": {},
   "outputs": [],
   "source": []
  }
 ],
 "metadata": {
  "kernelspec": {
   "display_name": "Python 3",
   "language": "python",
   "name": "python3"
  },
  "language_info": {
   "codemirror_mode": {
    "name": "ipython",
    "version": 3
   },
   "file_extension": ".py",
   "mimetype": "text/x-python",
   "name": "python",
   "nbconvert_exporter": "python",
   "pygments_lexer": "ipython3",
   "version": "3.7.12"
  }
 },
 "nbformat": 4,
 "nbformat_minor": 4
}
