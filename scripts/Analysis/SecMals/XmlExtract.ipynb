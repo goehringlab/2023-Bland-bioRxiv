{
 "cells": [
  {
   "cell_type": "code",
   "execution_count": 1,
   "metadata": {
    "execution": {
     "iopub.execute_input": "2023-12-19T20:12:27.736374Z",
     "iopub.status.busy": "2023-12-19T20:12:27.735432Z",
     "iopub.status.idle": "2023-12-19T20:12:32.028423Z",
     "shell.execute_reply": "2023-12-19T20:12:32.027449Z"
    }
   },
   "outputs": [],
   "source": [
    "import xml.etree.ElementTree as ET\n",
    "\n",
    "import numpy as np\n",
    "import pandas as pd\n",
    "\n",
    "from src import nb_setup, raw_data_path\n",
    "\n",
    "nb_setup()\n",
    "\n",
    "%matplotlib inline"
   ]
  },
  {
   "cell_type": "code",
   "execution_count": 2,
   "metadata": {
    "execution": {
     "iopub.execute_input": "2023-12-19T20:12:32.031786Z",
     "iopub.status.busy": "2023-12-19T20:12:32.031343Z",
     "iopub.status.idle": "2023-12-19T20:12:32.038436Z",
     "shell.execute_reply": "2023-12-19T20:12:32.037668Z"
    }
   },
   "outputs": [],
   "source": [
    "def get_results(path_to_xml, input_concentration):\n",
    "    tree = ET.parse(path_to_xml)\n",
    "    results = []\n",
    "    for a in tree.findall(\"{http://www.wyatt.com/schemas/ExperimentReport}results\"):\n",
    "        for b in a:\n",
    "            # Get mass measurements\n",
    "            if b.attrib[\"type\"] == \"molar mass\":\n",
    "                res = {}\n",
    "                res[\"measurement_type\"] = b[0].text\n",
    "                if b[1].text != \"n/a\":\n",
    "                    res[\"mass\"] = float(b[1].text)\n",
    "                else:\n",
    "                    res[\"mass\"] = np.nan\n",
    "                if \"uncertainty\" in b[1].attrib:\n",
    "                    res[\"uncertainty\"] = float(b[1].attrib[\"uncertainty\"])\n",
    "                else:\n",
    "                    res[\"uncertainty\"] = np.nan\n",
    "                results.append(pd.DataFrame(res, index=[0]))\n",
    "\n",
    "            # # Get concentration\n",
    "            # if b.attrib[\"type\"] == \"concentration\":\n",
    "            #     ave_conc = float(b[1].text)\n",
    "\n",
    "            # # Get total mass\n",
    "            # if b.attrib[\"type\"] == \"mass\":\n",
    "            #     if b[0].text == \"Calculated Mass\":\n",
    "            #         total_mass = float(b[1].text)\n",
    "\n",
    "    df = pd.concat(results, axis=0, ignore_index=True)\n",
    "    df[\"input_concentration\"] = input_concentration\n",
    "    return df"
   ]
  },
  {
   "cell_type": "markdown",
   "metadata": {},
   "source": [
    "### Wild type"
   ]
  },
  {
   "cell_type": "code",
   "execution_count": 3,
   "metadata": {
    "execution": {
     "iopub.execute_input": "2023-12-19T20:12:32.041125Z",
     "iopub.status.busy": "2023-12-19T20:12:32.040847Z",
     "iopub.status.idle": "2023-12-19T20:12:32.112676Z",
     "shell.execute_reply": "2023-12-19T20:12:32.111475Z"
    }
   },
   "outputs": [],
   "source": [
    "res500 = get_results(\n",
    "    raw_data_path + \"SEC MALS/xml/ASTRA 6 Report 20220128_Par2Ring_WT_S75_500ugml.xml\",\n",
    "    500,\n",
    ")\n",
    "res750 = get_results(\n",
    "    raw_data_path + \"SEC MALS/xml/ASTRA 6 Report 20220128_Par2Ring_WT_S75_750ugml.xml\",\n",
    "    750,\n",
    ")\n",
    "res2000 = get_results(\n",
    "    raw_data_path + \"SEC MALS/xml/ASTRA 6 Report 20210927_Par2Ring_WT_S75_2mgml.xml\",\n",
    "    2000,\n",
    ")\n",
    "res5000 = get_results(\n",
    "    raw_data_path + \"SEC MALS/xml/ASTRA 6 Report 20210924_Par2Ring_WT_S75_5mgml.xml\",\n",
    "    5000,\n",
    ")\n",
    "res10000 = get_results(\n",
    "    raw_data_path + \"SEC MALS/xml/ASTRA 6 Report 20220131_Par2Ring_WT_S75_10mgml.xml\",\n",
    "    10000,\n",
    ")\n",
    "full_res = pd.concat([res500, res750, res2000, res5000, res10000])"
   ]
  },
  {
   "cell_type": "code",
   "execution_count": 4,
   "metadata": {
    "execution": {
     "iopub.execute_input": "2023-12-19T20:12:32.116493Z",
     "iopub.status.busy": "2023-12-19T20:12:32.115867Z",
     "iopub.status.idle": "2023-12-19T20:12:32.119561Z",
     "shell.execute_reply": "2023-12-19T20:12:32.118776Z"
    }
   },
   "outputs": [],
   "source": [
    "# full_res"
   ]
  },
  {
   "cell_type": "code",
   "execution_count": 5,
   "metadata": {
    "execution": {
     "iopub.execute_input": "2023-12-19T20:12:32.122613Z",
     "iopub.status.busy": "2023-12-19T20:12:32.121851Z",
     "iopub.status.idle": "2023-12-19T20:12:32.133198Z",
     "shell.execute_reply": "2023-12-19T20:12:32.132265Z"
    }
   },
   "outputs": [],
   "source": [
    "full_res.to_csv(\"mass_measurements_titration.csv\", index=False)"
   ]
  },
  {
   "cell_type": "markdown",
   "metadata": {},
   "source": [
    "### Plot titration"
   ]
  },
  {
   "cell_type": "code",
   "execution_count": 6,
   "metadata": {
    "execution": {
     "iopub.execute_input": "2023-12-19T20:12:32.136578Z",
     "iopub.status.busy": "2023-12-19T20:12:32.135972Z",
     "iopub.status.idle": "2023-12-19T20:12:32.140231Z",
     "shell.execute_reply": "2023-12-19T20:12:32.139181Z"
    }
   },
   "outputs": [],
   "source": [
    "# import seaborn as sns\n",
    "\n",
    "# fig, ax = plt.subplots()\n",
    "# sns.scatterplot(data=full_res, x='input_concentration', y='mass', hue='measurement_type')"
   ]
  },
  {
   "cell_type": "code",
   "execution_count": 7,
   "metadata": {
    "execution": {
     "iopub.execute_input": "2023-12-19T20:12:32.143012Z",
     "iopub.status.busy": "2023-12-19T20:12:32.142691Z",
     "iopub.status.idle": "2023-12-19T20:12:32.146975Z",
     "shell.execute_reply": "2023-12-19T20:12:32.146142Z"
    }
   },
   "outputs": [],
   "source": [
    "# res_sample = full_res[full_res['measurement_type'] == 'Mw']\n",
    "\n",
    "# fig, ax = plt.subplots()\n",
    "# ax.scatter(res_sample['input_concentration'], res_sample['mass'])\n",
    "# ax.errorbar(res_sample['input_concentration'], res_sample['mass'], yerr=res_sample['uncertainty'])"
   ]
  },
  {
   "cell_type": "markdown",
   "metadata": {},
   "source": [
    "### L109R"
   ]
  },
  {
   "cell_type": "code",
   "execution_count": 8,
   "metadata": {
    "execution": {
     "iopub.execute_input": "2023-12-19T20:12:32.150065Z",
     "iopub.status.busy": "2023-12-19T20:12:32.149731Z",
     "iopub.status.idle": "2023-12-19T20:12:32.171860Z",
     "shell.execute_reply": "2023-12-19T20:12:32.170926Z"
    }
   },
   "outputs": [],
   "source": [
    "res750_L109R = get_results(\n",
    "    raw_data_path + \"SEC MALS/xml/ASTRA 6 Report 20210924_Par2Ring_L109R_S75_test.xml\",\n",
    "    750,\n",
    ")\n",
    "full_res_L109R = res750_L109R\n",
    "full_res_L109R.to_csv(\"mass_measurements_L109R.csv\", index=False)"
   ]
  },
  {
   "cell_type": "code",
   "execution_count": null,
   "metadata": {},
   "outputs": [],
   "source": []
  }
 ],
 "metadata": {
  "kernelspec": {
   "display_name": "Python 3",
   "language": "python",
   "name": "python3"
  },
  "language_info": {
   "codemirror_mode": {
    "name": "ipython",
    "version": 3
   },
   "file_extension": ".py",
   "mimetype": "text/x-python",
   "name": "python",
   "nbconvert_exporter": "python",
   "pygments_lexer": "ipython3",
   "version": "3.11.6"
  }
 },
 "nbformat": 4,
 "nbformat_minor": 4
}
