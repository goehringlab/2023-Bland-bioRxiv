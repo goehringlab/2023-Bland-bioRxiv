{
 "cells": [
  {
   "cell_type": "markdown",
   "metadata": {},
   "source": [
    "### Monitoring developmental robustness in reduced-flow conditions (nop-1 RNAi)\n",
    "\n",
    "Context:\n",
    "- nop-1 RNAi reduces cortical flows, rendering systems more dependent on PAR-2-based feedback for polarity\n",
    "- Reduced polarity has knock-on effects for development, leading to adult sterility or, in extreme cases, embryonic lethality\n",
    "- Performing brood-size assays, where the development of laid eggs is followed\n",
    "- Comparing PAR-2(wt) vs RRING mutants in control and nop-1 conditions\n",
    "\n",
    "Results:\n",
    "- C56S has high baseline lethality and sterility\n",
    "- Lethality for both RING mutants increases in nop-1 conditions to near 100%\n",
    "\n",
    "Dependencies:\n",
    "- Brood size measurments are found in _data/Brood_size_ctrl.csv_ and _data/Brood_size_nop1.csv_"
   ]
  },
  {
   "cell_type": "code",
   "execution_count": 1,
   "metadata": {
    "execution": {
     "iopub.execute_input": "2023-11-27T21:33:18.177572Z",
     "iopub.status.busy": "2023-11-27T21:33:18.176338Z",
     "iopub.status.idle": "2023-11-27T21:33:19.039994Z",
     "shell.execute_reply": "2023-11-27T21:33:19.038408Z"
    }
   },
   "outputs": [],
   "source": [
    "import os\n",
    "\n",
    "import matplotlib as mpl\n",
    "import matplotlib.pyplot as plt\n",
    "import numpy as np\n",
    "import pandas as pd\n",
    "\n",
    "%matplotlib inline\n",
    "\n",
    "mpl.rcParams[\"figure.dpi\"] = 150\n",
    "\n",
    "if not os.path.exists(\"Figs\"):\n",
    "    os.mkdir(\"Figs\")"
   ]
  },
  {
   "cell_type": "markdown",
   "metadata": {},
   "source": [
    "### nop1 data"
   ]
  },
  {
   "cell_type": "code",
   "execution_count": 2,
   "metadata": {
    "execution": {
     "iopub.execute_input": "2023-11-27T21:33:19.045806Z",
     "iopub.status.busy": "2023-11-27T21:33:19.045341Z",
     "iopub.status.idle": "2023-11-27T21:33:19.066789Z",
     "shell.execute_reply": "2023-11-27T21:33:19.065645Z"
    }
   },
   "outputs": [],
   "source": [
    "df = pd.read_csv(\"../../../data/Brood_size_nop1.csv\")\n",
    "df[\"Fraction gravid\"] = (1 - df[\"Lethality\"]) * (1 - df[\"Sterility\"])\n",
    "df[\"Fraction sterile\"] = (1 - df[\"Lethality\"]) * df[\"Sterility\"]\n",
    "df[\"Fraction dead\"] = df[\"Lethality\"]\n",
    "\n",
    "# Order by fraction dead\n",
    "df = df.sort_values(by=\"Fraction dead\")"
   ]
  },
  {
   "cell_type": "markdown",
   "metadata": {},
   "source": [
    "### WT data"
   ]
  },
  {
   "cell_type": "code",
   "execution_count": 3,
   "metadata": {
    "execution": {
     "iopub.execute_input": "2023-11-27T21:33:19.070538Z",
     "iopub.status.busy": "2023-11-27T21:33:19.070240Z",
     "iopub.status.idle": "2023-11-27T21:33:19.090975Z",
     "shell.execute_reply": "2023-11-27T21:33:19.089785Z"
    }
   },
   "outputs": [],
   "source": [
    "df_wt = pd.read_csv(\"../../../data/Brood_size_wt.csv\")\n",
    "df_wt[\"Fraction gravid\"] = (1 - df_wt[\"Lethality 5/11/21\"]) * (\n",
    "    1 - df_wt[\"Sterility 6/11/21\"]\n",
    ")\n",
    "df_wt[\"Fraction sterile\"] = (1 - df_wt[\"Lethality 5/11/21\"]) * df_wt[\n",
    "    \"Sterility 6/11/21\"\n",
    "]\n",
    "df_wt[\"Fraction dead\"] = df_wt[\"Lethality 5/11/21\"]\n",
    "\n",
    "# Order by fraction dead\n",
    "df_wt = df_wt.sort_values(by=\"Fraction dead\")"
   ]
  },
  {
   "cell_type": "markdown",
   "metadata": {},
   "source": [
    "### Plot: fraction of progeny"
   ]
  },
  {
   "cell_type": "code",
   "execution_count": 4,
   "metadata": {
    "execution": {
     "iopub.execute_input": "2023-11-27T21:33:19.094768Z",
     "iopub.status.busy": "2023-11-27T21:33:19.094471Z",
     "iopub.status.idle": "2023-11-27T21:33:19.553924Z",
     "shell.execute_reply": "2023-11-27T21:33:19.551459Z"
    }
   },
   "outputs": [
    {
     "data": {
      "image/png": "[encoded data removed]",
      "text/plain": [
       "<Figure size 225x300 with 1 Axes>"
      ]
     },
     "metadata": {},
     "output_type": "display_data"
    }
   ],
   "source": [
    "# Control\n",
    "\n",
    "genotype_order = [\"Wild type\", \"C56S\", \"L109R\"]\n",
    "i_min = []\n",
    "i_max = []\n",
    "\n",
    "fig, ax = plt.subplots()\n",
    "i = 0\n",
    "for g in genotype_order:\n",
    "    _df = df_wt[df_wt.Genotype == g]\n",
    "    i_min.append(i)\n",
    "    for _, row in _df.iterrows():\n",
    "        ax.bar(x=i, bottom=0, height=row[\"Fraction dead\"], color=\"tab:orange\", width=1)\n",
    "        ax.bar(\n",
    "            x=i,\n",
    "            bottom=row[\"Fraction dead\"],\n",
    "            height=row[\"Fraction sterile\"],\n",
    "            color=\"tab:blue\",\n",
    "            width=1,\n",
    "        )\n",
    "        ax.bar(\n",
    "            x=i,\n",
    "            bottom=row[\"Fraction dead\"] + row[\"Fraction sterile\"],\n",
    "            height=row[\"Fraction gravid\"],\n",
    "            color=\"tab:green\",\n",
    "            width=1,\n",
    "        )\n",
    "        i += 1\n",
    "    i_max.append(i - 0.5)\n",
    "    i += 2\n",
    "\n",
    "tick_pos = (np.array(i_min) + np.array(i_max)) / 2\n",
    "ax.set_xticks(tick_pos)\n",
    "labels = [\"WT\", \"C56S\", \"L109R\"]\n",
    "ax.set_xticklabels(labels)\n",
    "for tick in ax.get_xticklabels():\n",
    "    tick.set_rotation(45)\n",
    "    tick.set_horizontalalignment(\"right\")\n",
    "ax.set_ylim(0, 1)\n",
    "ax.set_ylabel(\"Fraction of\\nprogeny\", fontsize=10, labelpad=0)\n",
    "ax.set_yticks([0, 0.2, 0.4, 0.6, 0.8, 1])\n",
    "ax.set_yticklabels([\"0\", \"\", \"\", \"\", \"\", \"1\"])\n",
    "ax.tick_params(axis=\"both\", labelsize=8)\n",
    "fig.set_size_inches(1.5, 2)\n",
    "fig.subplots_adjust(left=0.35, bottom=0.22)\n",
    "fig.savefig(\"Figs/brood_size_ctrl.png\", dpi=600, transparent=True)"
   ]
  },
  {
   "cell_type": "code",
   "execution_count": 5,
   "metadata": {
    "execution": {
     "iopub.execute_input": "2023-11-27T21:33:19.557403Z",
     "iopub.status.busy": "2023-11-27T21:33:19.557038Z",
     "iopub.status.idle": "2023-11-27T21:33:19.903329Z",
     "shell.execute_reply": "2023-11-27T21:33:19.902414Z"
    }
   },
   "outputs": [
    {
     "data": {
      "image/png": "[encoded data removed]",
      "text/plain": [
       "<Figure size 225x300 with 1 Axes>"
      ]
     },
     "metadata": {},
     "output_type": "display_data"
    }
   ],
   "source": [
    "# nop-1\n",
    "\n",
    "genotype_order = [\"WT\", \"C56S\", \"L109R\"]\n",
    "i_min = []\n",
    "i_max = []\n",
    "\n",
    "fig, ax = plt.subplots()\n",
    "i = 0\n",
    "for g in genotype_order:\n",
    "    _df = df[df.Genotype == g]\n",
    "    i_min.append(i)\n",
    "    for _, row in _df.iterrows():\n",
    "        ax.bar(x=i, bottom=0, height=row[\"Fraction dead\"], color=\"tab:orange\", width=1)\n",
    "        ax.bar(\n",
    "            x=i,\n",
    "            bottom=row[\"Fraction dead\"],\n",
    "            height=row[\"Fraction sterile\"],\n",
    "            color=\"tab:blue\",\n",
    "            width=1,\n",
    "        )\n",
    "        ax.bar(\n",
    "            x=i,\n",
    "            bottom=row[\"Fraction dead\"] + row[\"Fraction sterile\"],\n",
    "            height=row[\"Fraction gravid\"],\n",
    "            color=\"tab:green\",\n",
    "            width=1,\n",
    "        )\n",
    "        i += 1\n",
    "    i_max.append(i - 0.5)\n",
    "    i += 2\n",
    "\n",
    "tick_pos = (np.array(i_min) + np.array(i_max)) / 2\n",
    "ax.set_xticks(tick_pos)\n",
    "labels = [\"WT\", \"C56S\", \"L109R\"]\n",
    "ax.set_xticklabels(labels)\n",
    "for tick in ax.get_xticklabels():\n",
    "    tick.set_rotation(45)\n",
    "    tick.set_horizontalalignment(\"right\")\n",
    "ax.set_ylim(0, 1)\n",
    "ax.set_yticks([0, 0.2, 0.4, 0.6, 0.8, 1])\n",
    "ax.set_yticklabels([\"\", \"\", \"\", \"\", \"\", \"\"])\n",
    "ax.set_xlabel(\"\")\n",
    "ax.tick_params(axis=\"both\", labelsize=8)\n",
    "fig.set_size_inches(1.5, 2)\n",
    "fig.subplots_adjust(left=0.35, bottom=0.22)\n",
    "fig.savefig(\"Figs/brood_size_nop1.png\", dpi=600, transparent=True)"
   ]
  },
  {
   "cell_type": "code",
   "execution_count": null,
   "metadata": {},
   "outputs": [],
   "source": []
  }
 ],
 "metadata": {
  "kernelspec": {
   "display_name": "Python 3",
   "language": "python",
   "name": "python3"
  },
  "language_info": {
   "codemirror_mode": {
    "name": "ipython",
    "version": 3
   },
   "file_extension": ".py",
   "mimetype": "text/x-python",
   "name": "python",
   "nbconvert_exporter": "python",
   "pygments_lexer": "ipython3",
   "version": "3.11.6"
  }
 },
 "nbformat": 4,
 "nbformat_minor": 4
}
