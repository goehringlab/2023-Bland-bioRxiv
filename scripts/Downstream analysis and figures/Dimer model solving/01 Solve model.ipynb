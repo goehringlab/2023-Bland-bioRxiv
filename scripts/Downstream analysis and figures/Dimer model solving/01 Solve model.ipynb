{
 "cells": [
  {
   "cell_type": "code",
   "execution_count": 1,
   "metadata": {},
   "outputs": [],
   "source": [
    "import sympy as sp"
   ]
  },
  {
   "cell_type": "markdown",
   "metadata": {},
   "source": [
    "### Dimerisation only (monomer conc as function of total)"
   ]
  },
  {
   "cell_type": "code",
   "execution_count": 2,
   "metadata": {},
   "outputs": [
    {
     "data": {
      "text/plain": [
       "[(sqrt(4*t*exp(wd) + 1) - 1)*exp(-wd)/2,\n",
       " -(sqrt(4*t*exp(wd) + 1) + 1)*exp(-wd)/2]"
      ]
     },
     "execution_count": 2,
     "metadata": {},
     "output_type": "execute_result"
    }
   ],
   "source": [
    "# Symbols:\n",
    "# wd = dimer energy\n",
    "# t = total concentration\n",
    "# m = monomer concentration\n",
    "# d = dimer concentration\n",
    "\n",
    "wd, t, m = sp.symbols('wd t m')\n",
    "\n",
    "# Conservation of mass\n",
    "d = t - m \n",
    "\n",
    "# Chemical potentials\n",
    "func = sp.exp(wd) -  d / (m ** 2)\n",
    "\n",
    "# Solve (monomer conc as function of total conc)\n",
    "sp.solve(func, m)\n",
    "\n",
    "# Two solutions (-> solution 1 is the applicable one)"
   ]
  },
  {
   "cell_type": "markdown",
   "metadata": {},
   "source": [
    "### Full model (cytoplasmic conc as function of total)"
   ]
  },
  {
   "cell_type": "code",
   "execution_count": 3,
   "metadata": {},
   "outputs": [
    {
     "data": {
      "text/plain": [
       "[(-alpha**2*km**3 + alpha**2*km**2 + 2*alpha*d*ka*km**2 - alpha*km**2*sqrt(alpha**2*km**2 + 4*alpha*d*ka*km**2 + 2*alpha*km + 4*d*ka + 1) - alpha*km**2 + alpha*km*sqrt(alpha**2*km**2 + 4*alpha*d*ka*km**2 + 2*alpha*km + 4*d*ka + 1) + alpha*km + 2*d*ka)/(2*alpha**2*ka*km**4 + 4*alpha*ka*km**2 + 2*ka),\n",
       " (-alpha**2*km**3 + alpha**2*km**2 + 2*alpha*d*ka*km**2 + alpha*km**2*sqrt(alpha**2*km**2 + 4*alpha*d*ka*km**2 + 2*alpha*km + 4*d*ka + 1) - alpha*km**2 - alpha*km*sqrt(alpha**2*km**2 + 4*alpha*d*ka*km**2 + 2*alpha*km + 4*d*ka + 1) + alpha*km + 2*d*ka)/(2*alpha**2*ka*km**4 + 4*alpha*ka*km**2 + 2*ka),\n",
       " (alpha**2*km**3 + alpha**2*km**2 + 2*alpha*d*ka*km**2 - alpha*km**2*sqrt(alpha**2*km**2 + 4*alpha*d*ka*km**2 - 2*alpha*km + 4*d*ka + 1) - alpha*km**2 - alpha*km*sqrt(alpha**2*km**2 + 4*alpha*d*ka*km**2 - 2*alpha*km + 4*d*ka + 1) - alpha*km + 2*d*ka)/(2*alpha**2*ka*km**4 + 4*alpha*ka*km**2 + 2*ka),\n",
       " (alpha**2*km**3 + alpha**2*km**2 + 2*alpha*d*ka*km**2 + alpha*km**2*sqrt(alpha**2*km**2 + 4*alpha*d*ka*km**2 - 2*alpha*km + 4*d*ka + 1) - alpha*km**2 + alpha*km*sqrt(alpha**2*km**2 + 4*alpha*d*ka*km**2 - 2*alpha*km + 4*d*ka + 1) - alpha*km + 2*d*ka)/(2*alpha**2*ka*km**4 + 4*alpha*ka*km**2 + 2*ka)]"
      ]
     },
     "execution_count": 3,
     "metadata": {},
     "output_type": "execute_result"
    }
   ],
   "source": [
    "# Symbols:\n",
    "# ka = dimerisation equilibrium coefficient\n",
    "# km = membrane binding equilibrium coefficient\n",
    "# alpha = sv ratio * cortical thickness\n",
    "# d = dosage\n",
    "# c = cytoplasmic concentration\n",
    "# m = membrane concentration\n",
    "\n",
    "ka, km, alpha, d, c = sp.symbols('ka km alpha d c')\n",
    "\n",
    "# Conservation of mass\n",
    "m = (d - c) / alpha\n",
    "\n",
    "# Chemical potentials (approximation provided by David which is slight simplification of 4 species model)\n",
    "func = ((m ** 2) / (c ** 2)) - (km ** 2) * ((1 + (2 * ka * m) + sp.sqrt(\n",
    "    4 * ka * m + 1)) / (1 + (2 * ka * c) + sp.sqrt(4 * ka * c + 1)))\n",
    "\n",
    "# Solve (cytoplasmic concentration as func of total concentration)\n",
    "sp.solve(func, c)\n",
    "\n",
    "# Four solutions (-> solution 2 is the applicable one)"
   ]
  },
  {
   "cell_type": "markdown",
   "metadata": {},
   "source": [
    "### Full model (membrane conc as function of cytoplasmic conc)"
   ]
  },
  {
   "cell_type": "code",
   "execution_count": 5,
   "metadata": {},
   "outputs": [
    {
     "data": {
      "text/plain": [
       "[c*km*(c*ka*km*(2*c*ka + sqrt(4*c*ka + 1) + 1) - sqrt(4*c**3*ka**3 + 6*c**2*ka**2*sqrt(4*c*ka + 1) + 18*c**2*ka**2 + 8*c*ka*sqrt(4*c*ka + 1) + 12*c*ka + 2*sqrt(4*c*ka + 1) + 2))/(2*c**2*ka**2 + 2*c*ka*sqrt(4*c*ka + 1) + 4*c*ka + sqrt(4*c*ka + 1) + 1),\n",
       " c*km*(c*ka*km*(2*c*ka + sqrt(4*c*ka + 1) + 1) + sqrt(4*c**3*ka**3 + 6*c**2*ka**2*sqrt(4*c*ka + 1) + 18*c**2*ka**2 + 8*c*ka*sqrt(4*c*ka + 1) + 12*c*ka + 2*sqrt(4*c*ka + 1) + 2))/(2*c**2*ka**2 + 2*c*ka*sqrt(4*c*ka + 1) + 4*c*ka + sqrt(4*c*ka + 1) + 1)]"
      ]
     },
     "execution_count": 5,
     "metadata": {},
     "output_type": "execute_result"
    }
   ],
   "source": [
    "ka, km, alpha, m, c = sp.symbols('ka km alpha m c')\n",
    "\n",
    "# Chemical potentials (approximation provided by David which is slight simplification of 4 species model)\n",
    "func = ((m ** 2) / (c ** 2)) - (km ** 2) * ((1 + (2 * ka * m) + sp.sqrt(\n",
    "    4 * ka * m + 1)) / (1 + (2 * ka * c) + sp.sqrt(4 * ka * c + 1)))\n",
    "\n",
    "# Solve (cytoplasmic concentration as func of total concentration)\n",
    "sp.solve(func, m)\n",
    "\n",
    "# Two solutions (-> solution 2 is the applicable one)"
   ]
  }
 ],
 "metadata": {
  "kernelspec": {
   "display_name": "Python 3",
   "language": "python",
   "name": "python3"
  },
  "language_info": {
   "codemirror_mode": {
    "name": "ipython",
    "version": 3
   },
   "file_extension": ".py",
   "mimetype": "text/x-python",
   "name": "python",
   "nbconvert_exporter": "python",
   "pygments_lexer": "ipython3",
   "version": "3.7.9"
  }
 },
 "nbformat": 4,
 "nbformat_minor": 4
}
