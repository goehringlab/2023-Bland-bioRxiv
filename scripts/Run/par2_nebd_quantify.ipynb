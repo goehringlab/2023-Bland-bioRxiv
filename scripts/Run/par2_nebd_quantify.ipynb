{
 "cells": [
  {
   "cell_type": "code",
   "execution_count": 1,
   "metadata": {
    "execution": {
     "iopub.execute_input": "2024-05-17T12:53:03.296166Z",
     "iopub.status.busy": "2024-05-17T12:53:03.295649Z",
     "iopub.status.idle": "2024-05-17T12:53:05.265780Z",
     "shell.execute_reply": "2024-05-17T12:53:05.264822Z"
    }
   },
   "outputs": [],
   "source": [
    "\n",
    "import numpy as np\n",
    "import pandas as pd\n",
    "\n",
    "from src import ImageQuant2, load_image, nb_setup, raw_data_path\n",
    "\n",
    "nb_setup()\n",
    "\n",
    "%matplotlib widget"
   ]
  },
  {
   "cell_type": "code",
   "execution_count": 2,
   "metadata": {
    "execution": {
     "iopub.execute_input": "2024-05-17T12:53:05.272694Z",
     "iopub.status.busy": "2024-05-17T12:53:05.271614Z",
     "iopub.status.idle": "2024-05-17T12:53:05.283052Z",
     "shell.execute_reply": "2024-05-17T12:53:05.281937Z"
    }
   },
   "outputs": [
    {
     "name": "stdout",
     "output_type": "stream",
     "text": [
      "3.105836925083751\n"
     ]
    }
   ],
   "source": [
    "# Import quantification moodel\n",
    "membg = np.loadtxt(\"../../data/calibration_mem6.txt\")\n",
    "cytbg = np.loadtxt(\"../../data/calibration_cyt.txt\")\n",
    "calibration_factor = np.loadtxt(\"../../data/calibration_constants.txt\")[6]\n",
    "print(calibration_factor)"
   ]
  },
  {
   "cell_type": "code",
   "execution_count": 3,
   "metadata": {
    "execution": {
     "iopub.execute_input": "2024-05-17T12:53:05.287674Z",
     "iopub.status.busy": "2024-05-17T12:53:05.287032Z",
     "iopub.status.idle": "2024-05-17T12:53:05.303486Z",
     "shell.execute_reply": "2024-05-17T12:53:05.302264Z"
    }
   },
   "outputs": [],
   "source": [
    "# Import embryos dataframe\n",
    "df = pd.read_csv(\"../../data/par2_nebd_embryos.csv\")\n",
    "df[\"Path\"] = df[\"Path\"].apply(lambda x: raw_data_path + x)"
   ]
  },
  {
   "cell_type": "markdown",
   "metadata": {},
   "source": [
    "### Import data"
   ]
  },
  {
   "cell_type": "code",
   "execution_count": 4,
   "metadata": {
    "execution": {
     "iopub.execute_input": "2024-05-17T12:53:05.307820Z",
     "iopub.status.busy": "2024-05-17T12:53:05.307518Z",
     "iopub.status.idle": "2024-05-17T12:53:19.995275Z",
     "shell.execute_reply": "2024-05-17T12:53:19.994273Z"
    }
   },
   "outputs": [],
   "source": [
    "paths = df.Path.to_list()\n",
    "lines = df.Line.to_list()\n",
    "imgs = [load_image(p + \"/af_corrected.tif\") for p in paths]\n",
    "rois = [\n",
    "    np.loadtxt(p + \"/ROI_fit.txt\")\n",
    "    if line != \"n2\"\n",
    "    else np.loadtxt(p + \"/ROI_manual.txt\")\n",
    "    for p, line in zip(paths, lines)\n",
    "]"
   ]
  },
  {
   "cell_type": "markdown",
   "metadata": {},
   "source": [
    "### Run quantification"
   ]
  },
  {
   "cell_type": "code",
   "execution_count": 5,
   "metadata": {
    "execution": {
     "iopub.execute_input": "2024-05-17T12:53:19.999057Z",
     "iopub.status.busy": "2024-05-17T12:53:19.998229Z",
     "iopub.status.idle": "2024-05-17T12:56:21.609571Z",
     "shell.execute_reply": "2024-05-17T12:56:21.608533Z"
    },
    "scrolled": false
   },
   "outputs": [
    {
     "name": "stderr",
     "output_type": "stream",
     "text": [
      "\r",
      "  0%|                                                                                                                                             | 0/600 [00:00<?, ?it/s]"
     ]
    },
    {
     "name": "stderr",
     "output_type": "stream",
     "text": [
      "\r",
      "  0%|▏                                                                                                                                    | 1/600 [00:05<58:42,  5.88s/it]"
     ]
    },
    {
     "name": "stderr",
     "output_type": "stream",
     "text": [
      "\r",
      "  0%|▍                                                                                                                                    | 2/600 [00:06<25:20,  2.54s/it]"
     ]
    },
    {
     "name": "stderr",
     "output_type": "stream",
     "text": [
      "\r",
      "  0%|▋                                                                                                                                    | 3/600 [00:06<14:44,  1.48s/it]"
     ]
    },
    {
     "name": "stderr",
     "output_type": "stream",
     "text": [
      "\r",
      "  1%|▉                                                                                                                                    | 4/600 [00:06<09:45,  1.02it/s]"
     ]
    },
    {
     "name": "stderr",
     "output_type": "stream",
     "text": [
      "\r",
      "  1%|█                                                                                                                                    | 5/600 [00:06<06:59,  1.42it/s]"
     ]
    },
    {
     "name": "stderr",
     "output_type": "stream",
     "text": [
      "\r",
      "  1%|█▎                                                                                                                                   | 6/600 [00:06<05:19,  1.86it/s]"
     ]
    },
    {
     "name": "stderr",
     "output_type": "stream",
     "text": [
      "\r",
      "  1%|█▌                                                                                                                                   | 7/600 [00:07<04:14,  2.33it/s]"
     ]
    },
    {
     "name": "stderr",
     "output_type": "stream",
     "text": [
      "\r",
      "  1%|█▊                                                                                                                                   | 8/600 [00:07<03:33,  2.77it/s]"
     ]
    },
    {
     "name": "stderr",
     "output_type": "stream",
     "text": [
      "\r",
      "  2%|█▉                                                                                                                                   | 9/600 [00:07<03:07,  3.15it/s]"
     ]
    },
    {
     "name": "stderr",
     "output_type": "stream",
     "text": [
      "\r",
      "  2%|██▏                                                                                                                                 | 10/600 [00:07<02:46,  3.54it/s]"
     ]
    },
    {
     "name": "stderr",
     "output_type": "stream",
     "text": [
      "\r",
      "  2%|██▍                                                                                                                                 | 11/600 [00:08<02:33,  3.84it/s]"
     ]
    },
    {
     "name": "stderr",
     "output_type": "stream",
     "text": [
      "\r",
      "  2%|██▋                                                                                                                                 | 12/600 [00:08<02:26,  4.01it/s]"
     ]
    },
    {
     "name": "stderr",
     "output_type": "stream",
     "text": [
      "\r",
      "  2%|██▊                                                                                                                                 | 13/600 [00:08<02:24,  4.06it/s]"
     ]
    },
    {
     "name": "stderr",
     "output_type": "stream",
     "text": [
      "\r",
      "  2%|███                                                                                                                                 | 14/600 [00:08<02:22,  4.12it/s]"
     ]
    },
    {
     "name": "stderr",
     "output_type": "stream",
     "text": [
      "\r",
      "  2%|███▎                                                                                                                                | 15/600 [00:08<02:18,  4.24it/s]"
     ]
    },
    {
     "name": "stderr",
     "output_type": "stream",
     "text": [
      "\r",
      "  3%|███▌                                                                                                                                | 16/600 [00:09<02:15,  4.32it/s]"
     ]
    },
    {
     "name": "stderr",
     "output_type": "stream",
     "text": [
      "\r",
      "  3%|███▋                                                                                                                                | 17/600 [00:09<02:11,  4.44it/s]"
     ]
    },
    {
     "name": "stderr",
     "output_type": "stream",
     "text": [
      "\r",
      "  3%|███▉                                                                                                                                | 18/600 [00:09<02:09,  4.51it/s]"
     ]
    },
    {
     "name": "stderr",
     "output_type": "stream",
     "text": [
      "\r",
      "  3%|████▏                                                                                                                               | 19/600 [00:09<02:08,  4.53it/s]"
     ]
    },
    {
     "name": "stderr",
     "output_type": "stream",
     "text": [
      "\r",
      "  3%|████▍                                                                                                                               | 20/600 [00:09<02:06,  4.59it/s]"
     ]
    },
    {
     "name": "stderr",
     "output_type": "stream",
     "text": [
      "\r",
      "  4%|████▌                                                                                                                               | 21/600 [00:10<02:09,  4.47it/s]"
     ]
    },
    {
     "name": "stderr",
     "output_type": "stream",
     "text": [
      "\r",
      "  4%|████▊                                                                                                                               | 22/600 [00:10<02:10,  4.42it/s]"
     ]
    },
    {
     "name": "stderr",
     "output_type": "stream",
     "text": [
      "\r",
      "  4%|█████                                                                                                                               | 23/600 [00:10<02:08,  4.50it/s]"
     ]
    },
    {
     "name": "stderr",
     "output_type": "stream",
     "text": [
      "\r",
      "  4%|█████▎                                                                                                                              | 24/600 [00:10<02:06,  4.56it/s]"
     ]
    },
    {
     "name": "stderr",
     "output_type": "stream",
     "text": [
      "\r",
      "  4%|█████▌                                                                                                                              | 25/600 [00:11<02:05,  4.57it/s]"
     ]
    },
    {
     "name": "stderr",
     "output_type": "stream",
     "text": [
      "\r",
      "  4%|█████▋                                                                                                                              | 26/600 [00:11<02:08,  4.48it/s]"
     ]
    },
    {
     "name": "stderr",
     "output_type": "stream",
     "text": [
      "\r",
      "  4%|█████▉                                                                                                                              | 27/600 [00:11<02:11,  4.36it/s]"
     ]
    },
    {
     "name": "stderr",
     "output_type": "stream",
     "text": [
      "\r",
      "  5%|██████▏                                                                                                                             | 28/600 [00:11<02:12,  4.33it/s]"
     ]
    },
    {
     "name": "stderr",
     "output_type": "stream",
     "text": [
      "\r",
      "  5%|██████▍                                                                                                                             | 29/600 [00:12<02:11,  4.36it/s]"
     ]
    },
    {
     "name": "stderr",
     "output_type": "stream",
     "text": [
      "\r",
      "  5%|██████▌                                                                                                                             | 30/600 [00:12<02:11,  4.34it/s]"
     ]
    },
    {
     "name": "stderr",
     "output_type": "stream",
     "text": [
      "\r",
      "  5%|██████▊                                                                                                                             | 31/600 [00:12<02:11,  4.32it/s]"
     ]
    },
    {
     "name": "stderr",
     "output_type": "stream",
     "text": [
      "\r",
      "  5%|███████                                                                                                                             | 32/600 [00:12<02:14,  4.23it/s]"
     ]
    },
    {
     "name": "stderr",
     "output_type": "stream",
     "text": [
      "\r",
      "  6%|███████▎                                                                                                                            | 33/600 [00:13<02:15,  4.19it/s]"
     ]
    },
    {
     "name": "stderr",
     "output_type": "stream",
     "text": [
      "\r",
      "  6%|███████▍                                                                                                                            | 34/600 [00:13<02:15,  4.19it/s]"
     ]
    },
    {
     "name": "stderr",
     "output_type": "stream",
     "text": [
      "\r",
      "  6%|███████▋                                                                                                                            | 35/600 [00:13<02:15,  4.18it/s]"
     ]
    },
    {
     "name": "stderr",
     "output_type": "stream",
     "text": [
      "\r",
      "  6%|███████▉                                                                                                                            | 36/600 [00:13<02:13,  4.24it/s]"
     ]
    },
    {
     "name": "stderr",
     "output_type": "stream",
     "text": [
      "\r",
      "  6%|████████▏                                                                                                                           | 37/600 [00:13<02:12,  4.24it/s]"
     ]
    },
    {
     "name": "stderr",
     "output_type": "stream",
     "text": [
      "\r",
      "  6%|████████▎                                                                                                                           | 38/600 [00:14<02:14,  4.18it/s]"
     ]
    },
    {
     "name": "stderr",
     "output_type": "stream",
     "text": [
      "\r",
      "  6%|████████▌                                                                                                                           | 39/600 [00:14<02:16,  4.10it/s]"
     ]
    },
    {
     "name": "stderr",
     "output_type": "stream",
     "text": [
      "\r",
      "  7%|████████▊                                                                                                                           | 40/600 [00:14<02:17,  4.06it/s]"
     ]
    },
    {
     "name": "stderr",
     "output_type": "stream",
     "text": [
      "\r",
      "  7%|█████████                                                                                                                           | 41/600 [00:14<02:15,  4.12it/s]"
     ]
    },
    {
     "name": "stderr",
     "output_type": "stream",
     "text": [
      "\r",
      "  7%|█████████▏                                                                                                                          | 42/600 [00:15<02:14,  4.15it/s]"
     ]
    },
    {
     "name": "stderr",
     "output_type": "stream",
     "text": [
      "\r",
      "  7%|█████████▍                                                                                                                          | 43/600 [00:15<02:13,  4.17it/s]"
     ]
    },
    {
     "name": "stderr",
     "output_type": "stream",
     "text": [
      "\r",
      "  7%|█████████▋                                                                                                                          | 44/600 [00:15<02:13,  4.15it/s]"
     ]
    },
    {
     "name": "stderr",
     "output_type": "stream",
     "text": [
      "\r",
      "  8%|█████████▉                                                                                                                          | 45/600 [00:15<02:12,  4.19it/s]"
     ]
    },
    {
     "name": "stderr",
     "output_type": "stream",
     "text": [
      "\r",
      "  8%|██████████                                                                                                                          | 46/600 [00:16<02:10,  4.25it/s]"
     ]
    },
    {
     "name": "stderr",
     "output_type": "stream",
     "text": [
      "\r",
      "  8%|██████████▎                                                                                                                         | 47/600 [00:16<02:08,  4.29it/s]"
     ]
    },
    {
     "name": "stderr",
     "output_type": "stream",
     "text": [
      "\r",
      "  8%|██████████▌                                                                                                                         | 48/600 [00:16<02:07,  4.32it/s]"
     ]
    },
    {
     "name": "stderr",
     "output_type": "stream",
     "text": [
      "\r",
      "  8%|██████████▊                                                                                                                         | 49/600 [00:16<02:07,  4.33it/s]"
     ]
    },
    {
     "name": "stderr",
     "output_type": "stream",
     "text": [
      "\r",
      "  8%|███████████                                                                                                                         | 50/600 [00:17<02:06,  4.36it/s]"
     ]
    },
    {
     "name": "stderr",
     "output_type": "stream",
     "text": [
      "\r",
      "  8%|███████████▏                                                                                                                        | 51/600 [00:17<02:05,  4.37it/s]"
     ]
    },
    {
     "name": "stderr",
     "output_type": "stream",
     "text": [
      "\r",
      "  9%|███████████▍                                                                                                                        | 52/600 [00:17<02:05,  4.37it/s]"
     ]
    },
    {
     "name": "stderr",
     "output_type": "stream",
     "text": [
      "\r",
      "  9%|███████████▋                                                                                                                        | 53/600 [00:17<02:17,  3.98it/s]"
     ]
    },
    {
     "name": "stderr",
     "output_type": "stream",
     "text": [
      "\r",
      "  9%|███████████▉                                                                                                                        | 54/600 [00:18<02:35,  3.51it/s]"
     ]
    },
    {
     "name": "stderr",
     "output_type": "stream",
     "text": [
      "\r",
      "  9%|████████████                                                                                                                        | 55/600 [00:18<02:37,  3.45it/s]"
     ]
    },
    {
     "name": "stderr",
     "output_type": "stream",
     "text": [
      "\r",
      "  9%|████████████▎                                                                                                                       | 56/600 [00:18<02:46,  3.27it/s]"
     ]
    },
    {
     "name": "stderr",
     "output_type": "stream",
     "text": [
      "\r",
      " 10%|████████████▌                                                                                                                       | 57/600 [00:19<02:49,  3.21it/s]"
     ]
    },
    {
     "name": "stderr",
     "output_type": "stream",
     "text": [
      "\r",
      " 10%|████████████▊                                                                                                                       | 58/600 [00:19<02:48,  3.21it/s]"
     ]
    },
    {
     "name": "stderr",
     "output_type": "stream",
     "text": [
      "\r",
      " 10%|████████████▉                                                                                                                       | 59/600 [00:19<03:00,  3.00it/s]"
     ]
    },
    {
     "name": "stderr",
     "output_type": "stream",
     "text": [
      "\r",
      " 10%|█████████████▏                                                                                                                      | 60/600 [00:20<02:53,  3.11it/s]"
     ]
    },
    {
     "name": "stderr",
     "output_type": "stream",
     "text": [
      "\r",
      " 10%|█████████████▍                                                                                                                      | 61/600 [00:20<02:38,  3.40it/s]"
     ]
    },
    {
     "name": "stderr",
     "output_type": "stream",
     "text": [
      "\r",
      " 10%|█████████████▋                                                                                                                      | 62/600 [00:20<02:30,  3.58it/s]"
     ]
    },
    {
     "name": "stderr",
     "output_type": "stream",
     "text": [
      "\r",
      " 10%|█████████████▊                                                                                                                      | 63/600 [00:20<02:23,  3.76it/s]"
     ]
    },
    {
     "name": "stderr",
     "output_type": "stream",
     "text": [
      "\r",
      " 11%|██████████████                                                                                                                      | 64/600 [00:21<02:17,  3.89it/s]"
     ]
    },
    {
     "name": "stderr",
     "output_type": "stream",
     "text": [
      "\r",
      " 11%|██████████████▎                                                                                                                     | 65/600 [00:21<02:25,  3.67it/s]"
     ]
    },
    {
     "name": "stderr",
     "output_type": "stream",
     "text": [
      "\r",
      " 11%|██████████████▌                                                                                                                     | 66/600 [00:21<02:17,  3.89it/s]"
     ]
    },
    {
     "name": "stderr",
     "output_type": "stream",
     "text": [
      "\r",
      " 11%|██████████████▋                                                                                                                     | 67/600 [00:21<02:29,  3.55it/s]"
     ]
    },
    {
     "name": "stderr",
     "output_type": "stream",
     "text": [
      "\r",
      " 11%|██████████████▉                                                                                                                     | 68/600 [00:22<02:26,  3.62it/s]"
     ]
    },
    {
     "name": "stderr",
     "output_type": "stream",
     "text": [
      "\r",
      " 12%|███████████████▏                                                                                                                    | 69/600 [00:22<02:17,  3.85it/s]"
     ]
    },
    {
     "name": "stderr",
     "output_type": "stream",
     "text": [
      "\r",
      " 12%|███████████████▍                                                                                                                    | 70/600 [00:22<02:11,  4.02it/s]"
     ]
    },
    {
     "name": "stderr",
     "output_type": "stream",
     "text": [
      "\r",
      " 12%|███████████████▌                                                                                                                    | 71/600 [00:22<02:07,  4.16it/s]"
     ]
    },
    {
     "name": "stderr",
     "output_type": "stream",
     "text": [
      "\r",
      " 12%|███████████████▊                                                                                                                    | 72/600 [00:23<02:07,  4.13it/s]"
     ]
    },
    {
     "name": "stderr",
     "output_type": "stream",
     "text": [
      "\r",
      " 12%|████████████████                                                                                                                    | 73/600 [00:23<02:04,  4.24it/s]"
     ]
    },
    {
     "name": "stderr",
     "output_type": "stream",
     "text": [
      "\r",
      " 12%|████████████████▎                                                                                                                   | 74/600 [00:23<02:05,  4.18it/s]"
     ]
    },
    {
     "name": "stderr",
     "output_type": "stream",
     "text": [
      "\r",
      " 12%|████████████████▌                                                                                                                   | 75/600 [00:23<02:02,  4.28it/s]"
     ]
    },
    {
     "name": "stderr",
     "output_type": "stream",
     "text": [
      "\r",
      " 13%|████████████████▋                                                                                                                   | 76/600 [00:24<01:59,  4.39it/s]"
     ]
    },
    {
     "name": "stderr",
     "output_type": "stream",
     "text": [
      "\r",
      " 13%|████████████████▉                                                                                                                   | 77/600 [00:24<01:57,  4.44it/s]"
     ]
    },
    {
     "name": "stderr",
     "output_type": "stream",
     "text": [
      "\r",
      " 13%|█████████████████▏                                                                                                                  | 78/600 [00:24<01:58,  4.42it/s]"
     ]
    },
    {
     "name": "stderr",
     "output_type": "stream",
     "text": [
      "\r",
      " 13%|█████████████████▍                                                                                                                  | 79/600 [00:24<01:59,  4.37it/s]"
     ]
    },
    {
     "name": "stderr",
     "output_type": "stream",
     "text": [
      "\r",
      " 13%|█████████████████▌                                                                                                                  | 80/600 [00:24<02:01,  4.27it/s]"
     ]
    },
    {
     "name": "stderr",
     "output_type": "stream",
     "text": [
      "\r",
      " 14%|█████████████████▊                                                                                                                  | 81/600 [00:25<02:24,  3.59it/s]"
     ]
    },
    {
     "name": "stderr",
     "output_type": "stream",
     "text": [
      "\r",
      " 14%|██████████████████                                                                                                                  | 82/600 [00:25<02:20,  3.68it/s]"
     ]
    },
    {
     "name": "stderr",
     "output_type": "stream",
     "text": [
      "\r",
      " 14%|██████████████████▎                                                                                                                 | 83/600 [00:25<02:16,  3.79it/s]"
     ]
    },
    {
     "name": "stderr",
     "output_type": "stream",
     "text": [
      "\r",
      " 14%|██████████████████▍                                                                                                                 | 84/600 [00:26<02:15,  3.80it/s]"
     ]
    },
    {
     "name": "stderr",
     "output_type": "stream",
     "text": [
      "\r",
      " 14%|██████████████████▋                                                                                                                 | 85/600 [00:26<02:14,  3.84it/s]"
     ]
    },
    {
     "name": "stderr",
     "output_type": "stream",
     "text": [
      "\r",
      " 14%|██████████████████▉                                                                                                                 | 86/600 [00:26<02:26,  3.51it/s]"
     ]
    },
    {
     "name": "stderr",
     "output_type": "stream",
     "text": [
      "\r",
      " 14%|███████████████████▏                                                                                                                | 87/600 [00:27<03:33,  2.40it/s]"
     ]
    },
    {
     "name": "stderr",
     "output_type": "stream",
     "text": [
      "\r",
      " 15%|███████████████████▎                                                                                                                | 88/600 [00:27<03:15,  2.62it/s]"
     ]
    },
    {
     "name": "stderr",
     "output_type": "stream",
     "text": [
      "\r",
      " 15%|███████████████████▌                                                                                                                | 89/600 [00:27<03:00,  2.83it/s]"
     ]
    },
    {
     "name": "stderr",
     "output_type": "stream",
     "text": [
      "\r",
      " 15%|███████████████████▊                                                                                                                | 90/600 [00:28<03:14,  2.62it/s]"
     ]
    },
    {
     "name": "stderr",
     "output_type": "stream",
     "text": [
      "\r",
      " 15%|████████████████████                                                                                                                | 91/600 [00:28<03:06,  2.73it/s]"
     ]
    },
    {
     "name": "stderr",
     "output_type": "stream",
     "text": [
      "\r",
      " 15%|████████████████████▏                                                                                                               | 92/600 [00:29<03:10,  2.66it/s]"
     ]
    },
    {
     "name": "stderr",
     "output_type": "stream",
     "text": [
      "\r",
      " 16%|████████████████████▍                                                                                                               | 93/600 [00:29<03:16,  2.57it/s]"
     ]
    },
    {
     "name": "stderr",
     "output_type": "stream",
     "text": [
      "\r",
      " 16%|████████████████████▋                                                                                                               | 94/600 [00:29<03:14,  2.61it/s]"
     ]
    },
    {
     "name": "stderr",
     "output_type": "stream",
     "text": [
      "\r",
      " 16%|████████████████████▉                                                                                                               | 95/600 [00:30<03:01,  2.78it/s]"
     ]
    },
    {
     "name": "stderr",
     "output_type": "stream",
     "text": [
      "\r",
      " 16%|█████████████████████                                                                                                               | 96/600 [00:30<03:25,  2.46it/s]"
     ]
    },
    {
     "name": "stderr",
     "output_type": "stream",
     "text": [
      "\r",
      " 16%|█████████████████████▎                                                                                                              | 97/600 [00:31<03:16,  2.56it/s]"
     ]
    },
    {
     "name": "stderr",
     "output_type": "stream",
     "text": [
      "\r",
      " 16%|█████████████████████▌                                                                                                              | 98/600 [00:31<02:56,  2.84it/s]"
     ]
    },
    {
     "name": "stderr",
     "output_type": "stream",
     "text": [
      "\r",
      " 16%|█████████████████████▊                                                                                                              | 99/600 [00:31<02:57,  2.82it/s]"
     ]
    },
    {
     "name": "stderr",
     "output_type": "stream",
     "text": [
      "\r",
      " 17%|█████████████████████▊                                                                                                             | 100/600 [00:32<02:47,  2.98it/s]"
     ]
    },
    {
     "name": "stderr",
     "output_type": "stream",
     "text": [
      "\r",
      " 17%|██████████████████████                                                                                                             | 101/600 [00:32<02:45,  3.02it/s]"
     ]
    },
    {
     "name": "stderr",
     "output_type": "stream",
     "text": [
      "\r",
      " 17%|██████████████████████▎                                                                                                            | 102/600 [00:32<02:34,  3.23it/s]"
     ]
    },
    {
     "name": "stderr",
     "output_type": "stream",
     "text": [
      "\r",
      " 17%|██████████████████████▍                                                                                                            | 103/600 [00:32<02:28,  3.34it/s]"
     ]
    },
    {
     "name": "stderr",
     "output_type": "stream",
     "text": [
      "\r",
      " 17%|██████████████████████▋                                                                                                            | 104/600 [00:33<02:22,  3.49it/s]"
     ]
    },
    {
     "name": "stderr",
     "output_type": "stream",
     "text": [
      "\r",
      " 18%|██████████████████████▉                                                                                                            | 105/600 [00:33<02:36,  3.17it/s]"
     ]
    },
    {
     "name": "stderr",
     "output_type": "stream",
     "text": [
      "\r",
      " 18%|███████████████████████▏                                                                                                           | 106/600 [00:33<02:50,  2.90it/s]"
     ]
    },
    {
     "name": "stderr",
     "output_type": "stream",
     "text": [
      "\r",
      " 18%|███████████████████████▎                                                                                                           | 107/600 [00:34<02:49,  2.91it/s]"
     ]
    },
    {
     "name": "stderr",
     "output_type": "stream",
     "text": [
      "\r",
      " 18%|███████████████████████▌                                                                                                           | 108/600 [00:34<02:32,  3.22it/s]"
     ]
    },
    {
     "name": "stderr",
     "output_type": "stream",
     "text": [
      "\r",
      " 18%|███████████████████████▊                                                                                                           | 109/600 [00:34<02:20,  3.50it/s]"
     ]
    },
    {
     "name": "stderr",
     "output_type": "stream",
     "text": [
      "\r",
      " 18%|████████████████████████                                                                                                           | 110/600 [00:34<02:11,  3.73it/s]"
     ]
    },
    {
     "name": "stderr",
     "output_type": "stream",
     "text": [
      "\r",
      " 18%|████████████████████████▏                                                                                                          | 111/600 [00:35<02:04,  3.91it/s]"
     ]
    },
    {
     "name": "stderr",
     "output_type": "stream",
     "text": [
      "\r",
      " 19%|████████████████████████▍                                                                                                          | 112/600 [00:35<02:00,  4.04it/s]"
     ]
    },
    {
     "name": "stderr",
     "output_type": "stream",
     "text": [
      "\r",
      " 19%|████████████████████████▋                                                                                                          | 113/600 [00:35<01:57,  4.14it/s]"
     ]
    },
    {
     "name": "stderr",
     "output_type": "stream",
     "text": [
      "\r",
      " 19%|████████████████████████▉                                                                                                          | 114/600 [00:35<01:57,  4.14it/s]"
     ]
    },
    {
     "name": "stderr",
     "output_type": "stream",
     "text": [
      "\r",
      " 19%|█████████████████████████                                                                                                          | 115/600 [00:36<01:55,  4.18it/s]"
     ]
    },
    {
     "name": "stderr",
     "output_type": "stream",
     "text": [
      "\r",
      " 19%|█████████████████████████▎                                                                                                         | 116/600 [00:36<01:54,  4.24it/s]"
     ]
    },
    {
     "name": "stderr",
     "output_type": "stream",
     "text": [
      "\r",
      " 20%|█████████████████████████▌                                                                                                         | 117/600 [00:36<01:53,  4.27it/s]"
     ]
    },
    {
     "name": "stderr",
     "output_type": "stream",
     "text": [
      "\r",
      " 20%|█████████████████████████▊                                                                                                         | 118/600 [00:36<01:51,  4.33it/s]"
     ]
    },
    {
     "name": "stderr",
     "output_type": "stream",
     "text": [
      "\r",
      " 20%|█████████████████████████▉                                                                                                         | 119/600 [00:37<01:50,  4.34it/s]"
     ]
    },
    {
     "name": "stderr",
     "output_type": "stream",
     "text": [
      "\r",
      " 20%|██████████████████████████▏                                                                                                        | 120/600 [00:37<01:50,  4.33it/s]"
     ]
    },
    {
     "name": "stderr",
     "output_type": "stream",
     "text": [
      "\r",
      " 20%|██████████████████████████▍                                                                                                        | 121/600 [00:37<01:50,  4.34it/s]"
     ]
    },
    {
     "name": "stderr",
     "output_type": "stream",
     "text": [
      "\r",
      " 20%|██████████████████████████▋                                                                                                        | 122/600 [00:37<01:49,  4.36it/s]"
     ]
    },
    {
     "name": "stderr",
     "output_type": "stream",
     "text": [
      "\r",
      " 20%|██████████████████████████▊                                                                                                        | 123/600 [00:37<01:50,  4.33it/s]"
     ]
    },
    {
     "name": "stderr",
     "output_type": "stream",
     "text": [
      "\r",
      " 21%|███████████████████████████                                                                                                        | 124/600 [00:38<01:49,  4.34it/s]"
     ]
    },
    {
     "name": "stderr",
     "output_type": "stream",
     "text": [
      "\r",
      " 21%|███████████████████████████▎                                                                                                       | 125/600 [00:38<01:48,  4.36it/s]"
     ]
    },
    {
     "name": "stderr",
     "output_type": "stream",
     "text": [
      "\r",
      " 21%|███████████████████████████▌                                                                                                       | 126/600 [00:38<01:49,  4.32it/s]"
     ]
    },
    {
     "name": "stderr",
     "output_type": "stream",
     "text": [
      "\r",
      " 21%|███████████████████████████▋                                                                                                       | 127/600 [00:38<01:49,  4.32it/s]"
     ]
    },
    {
     "name": "stderr",
     "output_type": "stream",
     "text": [
      "\r",
      " 21%|███████████████████████████▉                                                                                                       | 128/600 [00:39<01:48,  4.34it/s]"
     ]
    },
    {
     "name": "stderr",
     "output_type": "stream",
     "text": [
      "\r",
      " 22%|████████████████████████████▏                                                                                                      | 129/600 [00:39<01:48,  4.35it/s]"
     ]
    },
    {
     "name": "stderr",
     "output_type": "stream",
     "text": [
      "\r",
      " 22%|████████████████████████████▍                                                                                                      | 130/600 [00:39<01:47,  4.37it/s]"
     ]
    },
    {
     "name": "stderr",
     "output_type": "stream",
     "text": [
      "\r",
      " 22%|████████████████████████████▌                                                                                                      | 131/600 [00:39<01:47,  4.38it/s]"
     ]
    },
    {
     "name": "stderr",
     "output_type": "stream",
     "text": [
      "\r",
      " 22%|████████████████████████████▊                                                                                                      | 132/600 [00:40<01:47,  4.36it/s]"
     ]
    },
    {
     "name": "stderr",
     "output_type": "stream",
     "text": [
      "\r",
      " 22%|█████████████████████████████                                                                                                      | 133/600 [00:40<01:46,  4.37it/s]"
     ]
    },
    {
     "name": "stderr",
     "output_type": "stream",
     "text": [
      "\r",
      " 22%|█████████████████████████████▎                                                                                                     | 134/600 [00:40<01:46,  4.37it/s]"
     ]
    },
    {
     "name": "stderr",
     "output_type": "stream",
     "text": [
      "\r",
      " 22%|█████████████████████████████▍                                                                                                     | 135/600 [00:40<01:46,  4.37it/s]"
     ]
    },
    {
     "name": "stderr",
     "output_type": "stream",
     "text": [
      "\r",
      " 23%|█████████████████████████████▋                                                                                                     | 136/600 [00:40<01:45,  4.38it/s]"
     ]
    },
    {
     "name": "stderr",
     "output_type": "stream",
     "text": [
      "\r",
      " 23%|█████████████████████████████▉                                                                                                     | 137/600 [00:41<01:45,  4.37it/s]"
     ]
    },
    {
     "name": "stderr",
     "output_type": "stream",
     "text": [
      "\r",
      " 23%|██████████████████████████████▏                                                                                                    | 138/600 [00:41<01:45,  4.38it/s]"
     ]
    },
    {
     "name": "stderr",
     "output_type": "stream",
     "text": [
      "\r",
      " 23%|██████████████████████████████▎                                                                                                    | 139/600 [00:41<01:45,  4.38it/s]"
     ]
    },
    {
     "name": "stderr",
     "output_type": "stream",
     "text": [
      "\r",
      " 23%|██████████████████████████████▌                                                                                                    | 140/600 [00:41<01:44,  4.38it/s]"
     ]
    },
    {
     "name": "stderr",
     "output_type": "stream",
     "text": [
      "\r",
      " 24%|██████████████████████████████▊                                                                                                    | 141/600 [00:42<01:45,  4.36it/s]"
     ]
    },
    {
     "name": "stderr",
     "output_type": "stream",
     "text": [
      "\r",
      " 24%|███████████████████████████████                                                                                                    | 142/600 [00:42<01:44,  4.38it/s]"
     ]
    },
    {
     "name": "stderr",
     "output_type": "stream",
     "text": [
      "\r",
      " 24%|███████████████████████████████▏                                                                                                   | 143/600 [00:42<01:44,  4.38it/s]"
     ]
    },
    {
     "name": "stderr",
     "output_type": "stream",
     "text": [
      "\r",
      " 24%|███████████████████████████████▍                                                                                                   | 144/600 [00:42<01:50,  4.13it/s]"
     ]
    },
    {
     "name": "stderr",
     "output_type": "stream",
     "text": [
      "\r",
      " 24%|███████████████████████████████▋                                                                                                   | 145/600 [00:43<01:49,  4.14it/s]"
     ]
    },
    {
     "name": "stderr",
     "output_type": "stream",
     "text": [
      "\r",
      " 24%|███████████████████████████████▉                                                                                                   | 146/600 [00:43<01:48,  4.18it/s]"
     ]
    },
    {
     "name": "stderr",
     "output_type": "stream",
     "text": [
      "\r",
      " 24%|████████████████████████████████                                                                                                   | 147/600 [00:43<01:47,  4.20it/s]"
     ]
    },
    {
     "name": "stderr",
     "output_type": "stream",
     "text": [
      "\r",
      " 25%|████████████████████████████████▎                                                                                                  | 148/600 [00:43<01:47,  4.22it/s]"
     ]
    },
    {
     "name": "stderr",
     "output_type": "stream",
     "text": [
      "\r",
      " 25%|████████████████████████████████▌                                                                                                  | 149/600 [00:44<01:47,  4.21it/s]"
     ]
    },
    {
     "name": "stderr",
     "output_type": "stream",
     "text": [
      "\r",
      " 25%|████████████████████████████████▊                                                                                                  | 150/600 [00:44<01:45,  4.25it/s]"
     ]
    },
    {
     "name": "stderr",
     "output_type": "stream",
     "text": [
      "\r",
      " 25%|████████████████████████████████▉                                                                                                  | 151/600 [00:44<01:44,  4.29it/s]"
     ]
    },
    {
     "name": "stderr",
     "output_type": "stream",
     "text": [
      "\r",
      " 25%|█████████████████████████████████▏                                                                                                 | 152/600 [00:44<01:43,  4.31it/s]"
     ]
    },
    {
     "name": "stderr",
     "output_type": "stream",
     "text": [
      "\r",
      " 26%|█████████████████████████████████▍                                                                                                 | 153/600 [00:44<01:43,  4.30it/s]"
     ]
    },
    {
     "name": "stderr",
     "output_type": "stream",
     "text": [
      "\r",
      " 26%|█████████████████████████████████▌                                                                                                 | 154/600 [00:45<01:42,  4.33it/s]"
     ]
    },
    {
     "name": "stderr",
     "output_type": "stream",
     "text": [
      "\r",
      " 26%|█████████████████████████████████▊                                                                                                 | 155/600 [00:45<01:42,  4.35it/s]"
     ]
    },
    {
     "name": "stderr",
     "output_type": "stream",
     "text": [
      "\r",
      " 26%|██████████████████████████████████                                                                                                 | 156/600 [00:45<01:41,  4.36it/s]"
     ]
    },
    {
     "name": "stderr",
     "output_type": "stream",
     "text": [
      "\r",
      " 26%|██████████████████████████████████▎                                                                                                | 157/600 [00:45<01:41,  4.37it/s]"
     ]
    },
    {
     "name": "stderr",
     "output_type": "stream",
     "text": [
      "\r",
      " 26%|██████████████████████████████████▍                                                                                                | 158/600 [00:46<01:41,  4.37it/s]"
     ]
    },
    {
     "name": "stderr",
     "output_type": "stream",
     "text": [
      "\r",
      " 26%|██████████████████████████████████▋                                                                                                | 159/600 [00:46<01:41,  4.35it/s]"
     ]
    },
    {
     "name": "stderr",
     "output_type": "stream",
     "text": [
      "\r",
      " 27%|██████████████████████████████████▉                                                                                                | 160/600 [00:46<01:41,  4.34it/s]"
     ]
    },
    {
     "name": "stderr",
     "output_type": "stream",
     "text": [
      "\r",
      " 27%|███████████████████████████████████▏                                                                                               | 161/600 [00:46<01:40,  4.35it/s]"
     ]
    },
    {
     "name": "stderr",
     "output_type": "stream",
     "text": [
      "\r",
      " 27%|███████████████████████████████████▎                                                                                               | 162/600 [00:46<01:40,  4.36it/s]"
     ]
    },
    {
     "name": "stderr",
     "output_type": "stream",
     "text": [
      "\r",
      " 27%|███████████████████████████████████▌                                                                                               | 163/600 [00:47<01:39,  4.38it/s]"
     ]
    },
    {
     "name": "stderr",
     "output_type": "stream",
     "text": [
      "\r",
      " 27%|███████████████████████████████████▊                                                                                               | 164/600 [00:47<01:39,  4.38it/s]"
     ]
    },
    {
     "name": "stderr",
     "output_type": "stream",
     "text": [
      "\r",
      " 28%|████████████████████████████████████                                                                                               | 165/600 [00:47<01:38,  4.40it/s]"
     ]
    },
    {
     "name": "stderr",
     "output_type": "stream",
     "text": [
      "\r",
      " 28%|████████████████████████████████████▏                                                                                              | 166/600 [00:47<01:39,  4.38it/s]"
     ]
    },
    {
     "name": "stderr",
     "output_type": "stream",
     "text": [
      "\r",
      " 28%|████████████████████████████████████▍                                                                                              | 167/600 [00:48<01:44,  4.15it/s]"
     ]
    },
    {
     "name": "stderr",
     "output_type": "stream",
     "text": [
      "\r",
      " 28%|████████████████████████████████████▋                                                                                              | 168/600 [00:48<01:43,  4.18it/s]"
     ]
    },
    {
     "name": "stderr",
     "output_type": "stream",
     "text": [
      "\r",
      " 28%|████████████████████████████████████▉                                                                                              | 169/600 [00:48<01:41,  4.24it/s]"
     ]
    },
    {
     "name": "stderr",
     "output_type": "stream",
     "text": [
      "\r",
      " 28%|█████████████████████████████████████                                                                                              | 170/600 [00:48<01:47,  4.02it/s]"
     ]
    },
    {
     "name": "stderr",
     "output_type": "stream",
     "text": [
      "\r",
      " 28%|█████████████████████████████████████▎                                                                                             | 171/600 [00:49<01:44,  4.11it/s]"
     ]
    },
    {
     "name": "stderr",
     "output_type": "stream",
     "text": [
      "\r",
      " 29%|█████████████████████████████████████▌                                                                                             | 172/600 [00:49<01:42,  4.19it/s]"
     ]
    },
    {
     "name": "stderr",
     "output_type": "stream",
     "text": [
      "\r",
      " 29%|█████████████████████████████████████▊                                                                                             | 173/600 [00:49<01:40,  4.26it/s]"
     ]
    },
    {
     "name": "stderr",
     "output_type": "stream",
     "text": [
      "\r",
      " 29%|█████████████████████████████████████▉                                                                                             | 174/600 [00:49<01:39,  4.29it/s]"
     ]
    },
    {
     "name": "stderr",
     "output_type": "stream",
     "text": [
      "\r",
      " 29%|██████████████████████████████████████▏                                                                                            | 175/600 [00:50<01:38,  4.31it/s]"
     ]
    },
    {
     "name": "stderr",
     "output_type": "stream",
     "text": [
      "\r",
      " 29%|██████████████████████████████████████▍                                                                                            | 176/600 [00:50<01:37,  4.33it/s]"
     ]
    },
    {
     "name": "stderr",
     "output_type": "stream",
     "text": [
      "\r",
      " 30%|██████████████████████████████████████▋                                                                                            | 177/600 [00:50<01:37,  4.32it/s]"
     ]
    },
    {
     "name": "stderr",
     "output_type": "stream",
     "text": [
      "\r",
      " 30%|██████████████████████████████████████▊                                                                                            | 178/600 [00:50<01:37,  4.34it/s]"
     ]
    },
    {
     "name": "stderr",
     "output_type": "stream",
     "text": [
      "\r",
      " 30%|███████████████████████████████████████                                                                                            | 179/600 [00:50<01:37,  4.33it/s]"
     ]
    },
    {
     "name": "stderr",
     "output_type": "stream",
     "text": [
      "\r",
      " 30%|███████████████████████████████████████▎                                                                                           | 180/600 [00:51<01:36,  4.34it/s]"
     ]
    },
    {
     "name": "stderr",
     "output_type": "stream",
     "text": [
      "\r",
      " 30%|███████████████████████████████████████▌                                                                                           | 181/600 [00:51<01:36,  4.35it/s]"
     ]
    },
    {
     "name": "stderr",
     "output_type": "stream",
     "text": [
      "\r",
      " 30%|███████████████████████████████████████▋                                                                                           | 182/600 [00:51<01:35,  4.37it/s]"
     ]
    },
    {
     "name": "stderr",
     "output_type": "stream",
     "text": [
      "\r",
      " 30%|███████████████████████████████████████▉                                                                                           | 183/600 [00:51<01:35,  4.36it/s]"
     ]
    },
    {
     "name": "stderr",
     "output_type": "stream",
     "text": [
      "\r",
      " 31%|████████████████████████████████████████▏                                                                                          | 184/600 [00:52<01:35,  4.37it/s]"
     ]
    },
    {
     "name": "stderr",
     "output_type": "stream",
     "text": [
      "\r",
      " 31%|████████████████████████████████████████▍                                                                                          | 185/600 [00:52<01:35,  4.37it/s]"
     ]
    },
    {
     "name": "stderr",
     "output_type": "stream",
     "text": [
      "\r",
      " 31%|████████████████████████████████████████▌                                                                                          | 186/600 [00:52<01:35,  4.34it/s]"
     ]
    },
    {
     "name": "stderr",
     "output_type": "stream",
     "text": [
      "\r",
      " 31%|████████████████████████████████████████▊                                                                                          | 187/600 [00:52<01:35,  4.34it/s]"
     ]
    },
    {
     "name": "stderr",
     "output_type": "stream",
     "text": [
      "\r",
      " 31%|█████████████████████████████████████████                                                                                          | 188/600 [00:53<01:34,  4.37it/s]"
     ]
    },
    {
     "name": "stderr",
     "output_type": "stream",
     "text": [
      "\r",
      " 32%|█████████████████████████████████████████▎                                                                                         | 189/600 [00:53<01:33,  4.38it/s]"
     ]
    },
    {
     "name": "stderr",
     "output_type": "stream",
     "text": [
      "\r",
      " 32%|█████████████████████████████████████████▍                                                                                         | 190/600 [00:53<01:33,  4.38it/s]"
     ]
    },
    {
     "name": "stderr",
     "output_type": "stream",
     "text": [
      "\r",
      " 32%|█████████████████████████████████████████▋                                                                                         | 191/600 [00:53<01:33,  4.38it/s]"
     ]
    },
    {
     "name": "stderr",
     "output_type": "stream",
     "text": [
      "\r",
      " 32%|█████████████████████████████████████████▉                                                                                         | 192/600 [00:53<01:33,  4.37it/s]"
     ]
    },
    {
     "name": "stderr",
     "output_type": "stream",
     "text": [
      "\r",
      " 32%|██████████████████████████████████████████▏                                                                                        | 193/600 [00:54<01:33,  4.36it/s]"
     ]
    },
    {
     "name": "stderr",
     "output_type": "stream",
     "text": [
      "\r",
      " 32%|██████████████████████████████████████████▎                                                                                        | 194/600 [00:54<01:32,  4.37it/s]"
     ]
    },
    {
     "name": "stderr",
     "output_type": "stream",
     "text": [
      "\r",
      " 32%|██████████████████████████████████████████▌                                                                                        | 195/600 [00:54<01:32,  4.36it/s]"
     ]
    },
    {
     "name": "stderr",
     "output_type": "stream",
     "text": [
      "\r",
      " 33%|██████████████████████████████████████████▊                                                                                        | 196/600 [00:54<01:32,  4.36it/s]"
     ]
    },
    {
     "name": "stderr",
     "output_type": "stream",
     "text": [
      "\r",
      " 33%|███████████████████████████████████████████                                                                                        | 197/600 [00:55<01:32,  4.36it/s]"
     ]
    },
    {
     "name": "stderr",
     "output_type": "stream",
     "text": [
      "\r",
      " 33%|███████████████████████████████████████████▏                                                                                       | 198/600 [00:55<01:31,  4.38it/s]"
     ]
    },
    {
     "name": "stderr",
     "output_type": "stream",
     "text": [
      "\r",
      " 33%|███████████████████████████████████████████▍                                                                                       | 199/600 [00:55<01:31,  4.38it/s]"
     ]
    },
    {
     "name": "stderr",
     "output_type": "stream",
     "text": [
      "\r",
      " 33%|███████████████████████████████████████████▋                                                                                       | 200/600 [00:55<01:31,  4.37it/s]"
     ]
    },
    {
     "name": "stderr",
     "output_type": "stream",
     "text": [
      "\r",
      " 34%|███████████████████████████████████████████▉                                                                                       | 201/600 [00:56<01:31,  4.36it/s]"
     ]
    },
    {
     "name": "stderr",
     "output_type": "stream",
     "text": [
      "\r",
      " 34%|████████████████████████████████████████████                                                                                       | 202/600 [00:56<01:31,  4.36it/s]"
     ]
    },
    {
     "name": "stderr",
     "output_type": "stream",
     "text": [
      "\r",
      " 34%|████████████████████████████████████████████▎                                                                                      | 203/600 [00:56<01:31,  4.32it/s]"
     ]
    },
    {
     "name": "stderr",
     "output_type": "stream",
     "text": [
      "\r",
      " 34%|████████████████████████████████████████████▌                                                                                      | 204/600 [00:56<01:32,  4.28it/s]"
     ]
    },
    {
     "name": "stderr",
     "output_type": "stream",
     "text": [
      "\r",
      " 34%|████████████████████████████████████████████▊                                                                                      | 205/600 [00:56<01:31,  4.30it/s]"
     ]
    },
    {
     "name": "stderr",
     "output_type": "stream",
     "text": [
      "\r",
      " 34%|████████████████████████████████████████████▉                                                                                      | 206/600 [00:57<01:31,  4.32it/s]"
     ]
    },
    {
     "name": "stderr",
     "output_type": "stream",
     "text": [
      "\r",
      " 34%|█████████████████████████████████████████████▏                                                                                     | 207/600 [00:57<01:30,  4.34it/s]"
     ]
    },
    {
     "name": "stderr",
     "output_type": "stream",
     "text": [
      "\r",
      " 35%|█████████████████████████████████████████████▍                                                                                     | 208/600 [00:57<01:29,  4.36it/s]"
     ]
    },
    {
     "name": "stderr",
     "output_type": "stream",
     "text": [
      "\r",
      " 35%|█████████████████████████████████████████████▋                                                                                     | 209/600 [00:57<01:29,  4.36it/s]"
     ]
    },
    {
     "name": "stderr",
     "output_type": "stream",
     "text": [
      "\r",
      " 35%|█████████████████████████████████████████████▊                                                                                     | 210/600 [00:58<01:29,  4.34it/s]"
     ]
    },
    {
     "name": "stderr",
     "output_type": "stream",
     "text": [
      "\r",
      " 35%|██████████████████████████████████████████████                                                                                     | 211/600 [00:58<01:30,  4.32it/s]"
     ]
    },
    {
     "name": "stderr",
     "output_type": "stream",
     "text": [
      "\r",
      " 35%|██████████████████████████████████████████████▎                                                                                    | 212/600 [00:58<01:29,  4.33it/s]"
     ]
    },
    {
     "name": "stderr",
     "output_type": "stream",
     "text": [
      "\r",
      " 36%|██████████████████████████████████████████████▌                                                                                    | 213/600 [00:58<01:29,  4.33it/s]"
     ]
    },
    {
     "name": "stderr",
     "output_type": "stream",
     "text": [
      "\r",
      " 36%|██████████████████████████████████████████████▋                                                                                    | 214/600 [00:59<01:31,  4.23it/s]"
     ]
    },
    {
     "name": "stderr",
     "output_type": "stream",
     "text": [
      "\r",
      " 36%|██████████████████████████████████████████████▉                                                                                    | 215/600 [00:59<01:30,  4.27it/s]"
     ]
    },
    {
     "name": "stderr",
     "output_type": "stream",
     "text": [
      "\r",
      " 36%|███████████████████████████████████████████████▏                                                                                   | 216/600 [00:59<01:29,  4.31it/s]"
     ]
    },
    {
     "name": "stderr",
     "output_type": "stream",
     "text": [
      "\r",
      " 36%|███████████████████████████████████████████████▍                                                                                   | 217/600 [00:59<01:28,  4.34it/s]"
     ]
    },
    {
     "name": "stderr",
     "output_type": "stream",
     "text": [
      "\r",
      " 36%|███████████████████████████████████████████████▌                                                                                   | 218/600 [00:59<01:27,  4.36it/s]"
     ]
    },
    {
     "name": "stderr",
     "output_type": "stream",
     "text": [
      "\r",
      " 36%|███████████████████████████████████████████████▊                                                                                   | 219/600 [01:00<01:26,  4.38it/s]"
     ]
    },
    {
     "name": "stderr",
     "output_type": "stream",
     "text": [
      "\r",
      " 37%|████████████████████████████████████████████████                                                                                   | 220/600 [01:00<01:26,  4.39it/s]"
     ]
    },
    {
     "name": "stderr",
     "output_type": "stream",
     "text": [
      "\r",
      " 37%|████████████████████████████████████████████████▎                                                                                  | 221/600 [01:00<01:29,  4.26it/s]"
     ]
    },
    {
     "name": "stderr",
     "output_type": "stream",
     "text": [
      "\r",
      " 37%|████████████████████████████████████████████████▍                                                                                  | 222/600 [01:00<01:28,  4.29it/s]"
     ]
    },
    {
     "name": "stderr",
     "output_type": "stream",
     "text": [
      "\r",
      " 37%|████████████████████████████████████████████████▋                                                                                  | 223/600 [01:01<01:27,  4.32it/s]"
     ]
    },
    {
     "name": "stderr",
     "output_type": "stream",
     "text": [
      "\r",
      " 37%|████████████████████████████████████████████████▉                                                                                  | 224/600 [01:01<01:26,  4.33it/s]"
     ]
    },
    {
     "name": "stderr",
     "output_type": "stream",
     "text": [
      "\r",
      " 38%|█████████████████████████████████████████████████▏                                                                                 | 225/600 [01:01<01:24,  4.41it/s]"
     ]
    },
    {
     "name": "stderr",
     "output_type": "stream",
     "text": [
      "\r",
      " 38%|█████████████████████████████████████████████████▎                                                                                 | 226/600 [01:01<01:22,  4.56it/s]"
     ]
    },
    {
     "name": "stderr",
     "output_type": "stream",
     "text": [
      "\r",
      " 38%|█████████████████████████████████████████████████▌                                                                                 | 227/600 [01:01<01:20,  4.64it/s]"
     ]
    },
    {
     "name": "stderr",
     "output_type": "stream",
     "text": [
      "\r",
      " 38%|█████████████████████████████████████████████████▊                                                                                 | 228/600 [01:02<01:19,  4.69it/s]"
     ]
    },
    {
     "name": "stderr",
     "output_type": "stream",
     "text": [
      "\r",
      " 38%|█████████████████████████████████████████████████▉                                                                                 | 229/600 [01:02<01:18,  4.74it/s]"
     ]
    },
    {
     "name": "stderr",
     "output_type": "stream",
     "text": [
      "\r",
      " 38%|██████████████████████████████████████████████████▏                                                                                | 230/600 [01:02<01:17,  4.78it/s]"
     ]
    },
    {
     "name": "stderr",
     "output_type": "stream",
     "text": [
      "\r",
      " 38%|██████████████████████████████████████████████████▍                                                                                | 231/600 [01:02<01:17,  4.74it/s]"
     ]
    },
    {
     "name": "stderr",
     "output_type": "stream",
     "text": [
      "\r",
      " 39%|██████████████████████████████████████████████████▋                                                                                | 232/600 [01:02<01:17,  4.77it/s]"
     ]
    },
    {
     "name": "stderr",
     "output_type": "stream",
     "text": [
      "\r",
      " 39%|██████████████████████████████████████████████████▊                                                                                | 233/600 [01:03<01:16,  4.81it/s]"
     ]
    },
    {
     "name": "stderr",
     "output_type": "stream",
     "text": [
      "\r",
      " 39%|███████████████████████████████████████████████████                                                                                | 234/600 [01:03<01:16,  4.79it/s]"
     ]
    },
    {
     "name": "stderr",
     "output_type": "stream",
     "text": [
      "\r",
      " 39%|███████████████████████████████████████████████████▎                                                                               | 235/600 [01:03<01:15,  4.82it/s]"
     ]
    },
    {
     "name": "stderr",
     "output_type": "stream",
     "text": [
      "\r",
      " 39%|███████████████████████████████████████████████████▌                                                                               | 236/600 [01:03<01:15,  4.84it/s]"
     ]
    },
    {
     "name": "stderr",
     "output_type": "stream",
     "text": [
      "\r",
      " 40%|███████████████████████████████████████████████████▋                                                                               | 237/600 [01:04<01:15,  4.83it/s]"
     ]
    },
    {
     "name": "stderr",
     "output_type": "stream",
     "text": [
      "\r",
      " 40%|███████████████████████████████████████████████████▉                                                                               | 238/600 [01:04<01:14,  4.83it/s]"
     ]
    },
    {
     "name": "stderr",
     "output_type": "stream",
     "text": [
      "\r",
      " 40%|████████████████████████████████████████████████████▏                                                                              | 239/600 [01:04<01:14,  4.86it/s]"
     ]
    },
    {
     "name": "stderr",
     "output_type": "stream",
     "text": [
      "\r",
      " 40%|████████████████████████████████████████████████████▍                                                                              | 240/600 [01:04<01:13,  4.87it/s]"
     ]
    },
    {
     "name": "stderr",
     "output_type": "stream",
     "text": [
      "\r",
      " 40%|████████████████████████████████████████████████████▌                                                                              | 241/600 [01:04<01:15,  4.73it/s]"
     ]
    },
    {
     "name": "stderr",
     "output_type": "stream",
     "text": [
      "\r",
      " 40%|████████████████████████████████████████████████████▊                                                                              | 242/600 [01:05<01:17,  4.62it/s]"
     ]
    },
    {
     "name": "stderr",
     "output_type": "stream",
     "text": [
      "\r",
      " 40%|█████████████████████████████████████████████████████                                                                              | 243/600 [01:05<01:18,  4.55it/s]"
     ]
    },
    {
     "name": "stderr",
     "output_type": "stream",
     "text": [
      "\r",
      " 41%|█████████████████████████████████████████████████████▎                                                                             | 244/600 [01:05<01:19,  4.48it/s]"
     ]
    },
    {
     "name": "stderr",
     "output_type": "stream",
     "text": [
      "\r",
      " 41%|█████████████████████████████████████████████████████▍                                                                             | 245/600 [01:05<01:19,  4.44it/s]"
     ]
    },
    {
     "name": "stderr",
     "output_type": "stream",
     "text": [
      "\r",
      " 41%|█████████████████████████████████████████████████████▋                                                                             | 246/600 [01:06<01:20,  4.42it/s]"
     ]
    },
    {
     "name": "stderr",
     "output_type": "stream",
     "text": [
      "\r",
      " 41%|█████████████████████████████████████████████████████▉                                                                             | 247/600 [01:06<01:19,  4.41it/s]"
     ]
    },
    {
     "name": "stderr",
     "output_type": "stream",
     "text": [
      "\r",
      " 41%|██████████████████████████████████████████████████████▏                                                                            | 248/600 [01:06<01:20,  4.39it/s]"
     ]
    },
    {
     "name": "stderr",
     "output_type": "stream",
     "text": [
      "\r",
      " 42%|██████████████████████████████████████████████████████▎                                                                            | 249/600 [01:06<01:19,  4.39it/s]"
     ]
    },
    {
     "name": "stderr",
     "output_type": "stream",
     "text": [
      "\r",
      " 42%|██████████████████████████████████████████████████████▌                                                                            | 250/600 [01:06<01:19,  4.38it/s]"
     ]
    },
    {
     "name": "stderr",
     "output_type": "stream",
     "text": [
      "\r",
      " 42%|██████████████████████████████████████████████████████▊                                                                            | 251/600 [01:07<01:19,  4.38it/s]"
     ]
    },
    {
     "name": "stderr",
     "output_type": "stream",
     "text": [
      "\r",
      " 42%|███████████████████████████████████████████████████████                                                                            | 252/600 [01:07<01:19,  4.38it/s]"
     ]
    },
    {
     "name": "stderr",
     "output_type": "stream",
     "text": [
      "\r",
      " 42%|███████████████████████████████████████████████████████▏                                                                           | 253/600 [01:07<01:19,  4.38it/s]"
     ]
    },
    {
     "name": "stderr",
     "output_type": "stream",
     "text": [
      "\r",
      " 42%|███████████████████████████████████████████████████████▍                                                                           | 254/600 [01:07<01:19,  4.38it/s]"
     ]
    },
    {
     "name": "stderr",
     "output_type": "stream",
     "text": [
      "\r",
      " 42%|███████████████████████████████████████████████████████▋                                                                           | 255/600 [01:08<01:19,  4.36it/s]"
     ]
    },
    {
     "name": "stderr",
     "output_type": "stream",
     "text": [
      "\r",
      " 43%|███████████████████████████████████████████████████████▉                                                                           | 256/600 [01:08<01:19,  4.34it/s]"
     ]
    },
    {
     "name": "stderr",
     "output_type": "stream",
     "text": [
      "\r",
      " 43%|████████████████████████████████████████████████████████                                                                           | 257/600 [01:08<01:18,  4.37it/s]"
     ]
    },
    {
     "name": "stderr",
     "output_type": "stream",
     "text": [
      "\r",
      " 43%|████████████████████████████████████████████████████████▎                                                                          | 258/600 [01:08<01:18,  4.38it/s]"
     ]
    },
    {
     "name": "stderr",
     "output_type": "stream",
     "text": [
      "\r",
      " 43%|████████████████████████████████████████████████████████▌                                                                          | 259/600 [01:08<01:18,  4.34it/s]"
     ]
    },
    {
     "name": "stderr",
     "output_type": "stream",
     "text": [
      "\r",
      " 43%|████████████████████████████████████████████████████████▊                                                                          | 260/600 [01:09<01:19,  4.27it/s]"
     ]
    },
    {
     "name": "stderr",
     "output_type": "stream",
     "text": [
      "\r",
      " 44%|████████████████████████████████████████████████████████▉                                                                          | 261/600 [01:09<01:18,  4.31it/s]"
     ]
    },
    {
     "name": "stderr",
     "output_type": "stream",
     "text": [
      "\r",
      " 44%|█████████████████████████████████████████████████████████▏                                                                         | 262/600 [01:09<01:18,  4.33it/s]"
     ]
    },
    {
     "name": "stderr",
     "output_type": "stream",
     "text": [
      "\r",
      " 44%|█████████████████████████████████████████████████████████▍                                                                         | 263/600 [01:09<01:17,  4.34it/s]"
     ]
    },
    {
     "name": "stderr",
     "output_type": "stream",
     "text": [
      "\r",
      " 44%|█████████████████████████████████████████████████████████▋                                                                         | 264/600 [01:10<01:17,  4.36it/s]"
     ]
    },
    {
     "name": "stderr",
     "output_type": "stream",
     "text": [
      "\r",
      " 44%|█████████████████████████████████████████████████████████▊                                                                         | 265/600 [01:10<01:16,  4.36it/s]"
     ]
    },
    {
     "name": "stderr",
     "output_type": "stream",
     "text": [
      "\r",
      " 44%|██████████████████████████████████████████████████████████                                                                         | 266/600 [01:10<01:16,  4.37it/s]"
     ]
    },
    {
     "name": "stderr",
     "output_type": "stream",
     "text": [
      "\r",
      " 44%|██████████████████████████████████████████████████████████▎                                                                        | 267/600 [01:10<01:15,  4.39it/s]"
     ]
    },
    {
     "name": "stderr",
     "output_type": "stream",
     "text": [
      "\r",
      " 45%|██████████████████████████████████████████████████████████▌                                                                        | 268/600 [01:11<01:15,  4.39it/s]"
     ]
    },
    {
     "name": "stderr",
     "output_type": "stream",
     "text": [
      "\r",
      " 45%|██████████████████████████████████████████████████████████▋                                                                        | 269/600 [01:11<01:15,  4.38it/s]"
     ]
    },
    {
     "name": "stderr",
     "output_type": "stream",
     "text": [
      "\r",
      " 45%|██████████████████████████████████████████████████████████▉                                                                        | 270/600 [01:11<01:15,  4.38it/s]"
     ]
    },
    {
     "name": "stderr",
     "output_type": "stream",
     "text": [
      "\r",
      " 45%|███████████████████████████████████████████████████████████▏                                                                       | 271/600 [01:11<01:15,  4.37it/s]"
     ]
    },
    {
     "name": "stderr",
     "output_type": "stream",
     "text": [
      "\r",
      " 45%|███████████████████████████████████████████████████████████▍                                                                       | 272/600 [01:11<01:15,  4.37it/s]"
     ]
    },
    {
     "name": "stderr",
     "output_type": "stream",
     "text": [
      "\r",
      " 46%|███████████████████████████████████████████████████████████▌                                                                       | 273/600 [01:12<01:14,  4.40it/s]"
     ]
    },
    {
     "name": "stderr",
     "output_type": "stream",
     "text": [
      "\r",
      " 46%|███████████████████████████████████████████████████████████▊                                                                       | 274/600 [01:12<01:13,  4.41it/s]"
     ]
    },
    {
     "name": "stderr",
     "output_type": "stream",
     "text": [
      "\r",
      " 46%|████████████████████████████████████████████████████████████                                                                       | 275/600 [01:12<01:13,  4.42it/s]"
     ]
    },
    {
     "name": "stderr",
     "output_type": "stream",
     "text": [
      "\r",
      " 46%|████████████████████████████████████████████████████████████▎                                                                      | 276/600 [01:12<01:13,  4.38it/s]"
     ]
    },
    {
     "name": "stderr",
     "output_type": "stream",
     "text": [
      "\r",
      " 46%|████████████████████████████████████████████████████████████▍                                                                      | 277/600 [01:13<01:13,  4.39it/s]"
     ]
    },
    {
     "name": "stderr",
     "output_type": "stream",
     "text": [
      "\r",
      " 46%|████████████████████████████████████████████████████████████▋                                                                      | 278/600 [01:13<01:13,  4.36it/s]"
     ]
    },
    {
     "name": "stderr",
     "output_type": "stream",
     "text": [
      "\r",
      " 46%|████████████████████████████████████████████████████████████▉                                                                      | 279/600 [01:13<01:13,  4.36it/s]"
     ]
    },
    {
     "name": "stderr",
     "output_type": "stream",
     "text": [
      "\r",
      " 47%|█████████████████████████████████████████████████████████████▏                                                                     | 280/600 [01:13<01:12,  4.39it/s]"
     ]
    },
    {
     "name": "stderr",
     "output_type": "stream",
     "text": [
      "\r",
      " 47%|█████████████████████████████████████████████████████████████▎                                                                     | 281/600 [01:14<01:12,  4.38it/s]"
     ]
    },
    {
     "name": "stderr",
     "output_type": "stream",
     "text": [
      "\r",
      " 47%|█████████████████████████████████████████████████████████████▌                                                                     | 282/600 [01:14<01:10,  4.50it/s]"
     ]
    },
    {
     "name": "stderr",
     "output_type": "stream",
     "text": [
      "\r",
      " 47%|█████████████████████████████████████████████████████████████▊                                                                     | 283/600 [01:14<01:09,  4.57it/s]"
     ]
    },
    {
     "name": "stderr",
     "output_type": "stream",
     "text": [
      "\r",
      " 47%|██████████████████████████████████████████████████████████████                                                                     | 284/600 [01:14<01:07,  4.66it/s]"
     ]
    },
    {
     "name": "stderr",
     "output_type": "stream",
     "text": [
      "\r",
      " 48%|██████████████████████████████████████████████████████████████▏                                                                    | 285/600 [01:14<01:07,  4.70it/s]"
     ]
    },
    {
     "name": "stderr",
     "output_type": "stream",
     "text": [
      "\r",
      " 48%|██████████████████████████████████████████████████████████████▍                                                                    | 286/600 [01:15<01:06,  4.74it/s]"
     ]
    },
    {
     "name": "stderr",
     "output_type": "stream",
     "text": [
      "\r",
      " 48%|██████████████████████████████████████████████████████████████▋                                                                    | 287/600 [01:15<01:05,  4.75it/s]"
     ]
    },
    {
     "name": "stderr",
     "output_type": "stream",
     "text": [
      "\r",
      " 48%|██████████████████████████████████████████████████████████████▉                                                                    | 288/600 [01:15<01:05,  4.78it/s]"
     ]
    },
    {
     "name": "stderr",
     "output_type": "stream",
     "text": [
      "\r",
      " 48%|███████████████████████████████████████████████████████████████                                                                    | 289/600 [01:15<01:04,  4.83it/s]"
     ]
    },
    {
     "name": "stderr",
     "output_type": "stream",
     "text": [
      "\r",
      " 48%|███████████████████████████████████████████████████████████████▎                                                                   | 290/600 [01:15<01:03,  4.85it/s]"
     ]
    },
    {
     "name": "stderr",
     "output_type": "stream",
     "text": [
      "\r",
      " 48%|███████████████████████████████████████████████████████████████▌                                                                   | 291/600 [01:16<01:03,  4.85it/s]"
     ]
    },
    {
     "name": "stderr",
     "output_type": "stream",
     "text": [
      "\r",
      " 49%|███████████████████████████████████████████████████████████████▊                                                                   | 292/600 [01:16<01:03,  4.82it/s]"
     ]
    },
    {
     "name": "stderr",
     "output_type": "stream",
     "text": [
      "\r",
      " 49%|███████████████████████████████████████████████████████████████▉                                                                   | 293/600 [01:16<01:03,  4.81it/s]"
     ]
    },
    {
     "name": "stderr",
     "output_type": "stream",
     "text": [
      "\r",
      " 49%|████████████████████████████████████████████████████████████████▏                                                                  | 294/600 [01:16<01:03,  4.82it/s]"
     ]
    },
    {
     "name": "stderr",
     "output_type": "stream",
     "text": [
      "\r",
      " 49%|████████████████████████████████████████████████████████████████▍                                                                  | 295/600 [01:16<01:03,  4.82it/s]"
     ]
    },
    {
     "name": "stderr",
     "output_type": "stream",
     "text": [
      "\r",
      " 49%|████████████████████████████████████████████████████████████████▋                                                                  | 296/600 [01:17<01:02,  4.83it/s]"
     ]
    },
    {
     "name": "stderr",
     "output_type": "stream",
     "text": [
      "\r",
      " 50%|████████████████████████████████████████████████████████████████▊                                                                  | 297/600 [01:17<01:02,  4.82it/s]"
     ]
    },
    {
     "name": "stderr",
     "output_type": "stream",
     "text": [
      "\r",
      " 50%|█████████████████████████████████████████████████████████████████                                                                  | 298/600 [01:17<01:02,  4.82it/s]"
     ]
    },
    {
     "name": "stderr",
     "output_type": "stream",
     "text": [
      "\r",
      " 50%|█████████████████████████████████████████████████████████████████▎                                                                 | 299/600 [01:17<01:02,  4.81it/s]"
     ]
    },
    {
     "name": "stderr",
     "output_type": "stream",
     "text": [
      "\r",
      " 50%|█████████████████████████████████████████████████████████████████▌                                                                 | 300/600 [01:17<01:02,  4.79it/s]"
     ]
    },
    {
     "name": "stderr",
     "output_type": "stream",
     "text": [
      "\r",
      " 50%|█████████████████████████████████████████████████████████████████▋                                                                 | 301/600 [01:18<01:02,  4.82it/s]"
     ]
    },
    {
     "name": "stderr",
     "output_type": "stream",
     "text": [
      "\r",
      " 50%|█████████████████████████████████████████████████████████████████▉                                                                 | 302/600 [01:18<01:01,  4.83it/s]"
     ]
    },
    {
     "name": "stderr",
     "output_type": "stream",
     "text": [
      "\r",
      " 50%|██████████████████████████████████████████████████████████████████▏                                                                | 303/600 [01:18<01:01,  4.84it/s]"
     ]
    },
    {
     "name": "stderr",
     "output_type": "stream",
     "text": [
      "\r",
      " 51%|██████████████████████████████████████████████████████████████████▎                                                                | 304/600 [01:18<01:01,  4.84it/s]"
     ]
    },
    {
     "name": "stderr",
     "output_type": "stream",
     "text": [
      "\r",
      " 51%|██████████████████████████████████████████████████████████████████▌                                                                | 305/600 [01:18<01:00,  4.86it/s]"
     ]
    },
    {
     "name": "stderr",
     "output_type": "stream",
     "text": [
      "\r",
      " 51%|██████████████████████████████████████████████████████████████████▊                                                                | 306/600 [01:19<01:02,  4.74it/s]"
     ]
    },
    {
     "name": "stderr",
     "output_type": "stream",
     "text": [
      "\r",
      " 51%|███████████████████████████████████████████████████████████████████                                                                | 307/600 [01:19<01:01,  4.73it/s]"
     ]
    },
    {
     "name": "stderr",
     "output_type": "stream",
     "text": [
      "\r",
      " 51%|███████████████████████████████████████████████████████████████████▏                                                               | 308/600 [01:19<01:01,  4.78it/s]"
     ]
    },
    {
     "name": "stderr",
     "output_type": "stream",
     "text": [
      "\r",
      " 52%|███████████████████████████████████████████████████████████████████▍                                                               | 309/600 [01:19<01:00,  4.80it/s]"
     ]
    },
    {
     "name": "stderr",
     "output_type": "stream",
     "text": [
      "\r",
      " 52%|███████████████████████████████████████████████████████████████████▋                                                               | 310/600 [01:20<01:00,  4.82it/s]"
     ]
    },
    {
     "name": "stderr",
     "output_type": "stream",
     "text": [
      "\r",
      " 52%|███████████████████████████████████████████████████████████████████▉                                                               | 311/600 [01:20<00:59,  4.83it/s]"
     ]
    },
    {
     "name": "stderr",
     "output_type": "stream",
     "text": [
      "\r",
      " 52%|████████████████████████████████████████████████████████████████████                                                               | 312/600 [01:20<00:59,  4.83it/s]"
     ]
    },
    {
     "name": "stderr",
     "output_type": "stream",
     "text": [
      "\r",
      " 52%|████████████████████████████████████████████████████████████████████▎                                                              | 313/600 [01:20<00:59,  4.84it/s]"
     ]
    },
    {
     "name": "stderr",
     "output_type": "stream",
     "text": [
      "\r",
      " 52%|████████████████████████████████████████████████████████████████████▌                                                              | 314/600 [01:20<00:59,  4.83it/s]"
     ]
    },
    {
     "name": "stderr",
     "output_type": "stream",
     "text": [
      "\r",
      " 52%|████████████████████████████████████████████████████████████████████▊                                                              | 315/600 [01:21<00:58,  4.84it/s]"
     ]
    },
    {
     "name": "stderr",
     "output_type": "stream",
     "text": [
      "\r",
      " 53%|████████████████████████████████████████████████████████████████████▉                                                              | 316/600 [01:21<00:58,  4.84it/s]"
     ]
    },
    {
     "name": "stderr",
     "output_type": "stream",
     "text": [
      "\r",
      " 53%|█████████████████████████████████████████████████████████████████████▏                                                             | 317/600 [01:21<01:00,  4.69it/s]"
     ]
    },
    {
     "name": "stderr",
     "output_type": "stream",
     "text": [
      "\r",
      " 53%|█████████████████████████████████████████████████████████████████████▍                                                             | 318/600 [01:21<01:01,  4.59it/s]"
     ]
    },
    {
     "name": "stderr",
     "output_type": "stream",
     "text": [
      "\r",
      " 53%|█████████████████████████████████████████████████████████████████████▋                                                             | 319/600 [01:21<01:02,  4.52it/s]"
     ]
    },
    {
     "name": "stderr",
     "output_type": "stream",
     "text": [
      "\r",
      " 53%|█████████████████████████████████████████████████████████████████████▊                                                             | 320/600 [01:22<01:02,  4.47it/s]"
     ]
    },
    {
     "name": "stderr",
     "output_type": "stream",
     "text": [
      "\r",
      " 54%|██████████████████████████████████████████████████████████████████████                                                             | 321/600 [01:22<01:01,  4.54it/s]"
     ]
    },
    {
     "name": "stderr",
     "output_type": "stream",
     "text": [
      "\r",
      " 54%|██████████████████████████████████████████████████████████████████████▎                                                            | 322/600 [01:22<01:00,  4.63it/s]"
     ]
    },
    {
     "name": "stderr",
     "output_type": "stream",
     "text": [
      "\r",
      " 54%|██████████████████████████████████████████████████████████████████████▌                                                            | 323/600 [01:22<00:59,  4.68it/s]"
     ]
    },
    {
     "name": "stderr",
     "output_type": "stream",
     "text": [
      "\r",
      " 54%|██████████████████████████████████████████████████████████████████████▋                                                            | 324/600 [01:23<00:58,  4.73it/s]"
     ]
    },
    {
     "name": "stderr",
     "output_type": "stream",
     "text": [
      "\r",
      " 54%|██████████████████████████████████████████████████████████████████████▉                                                            | 325/600 [01:23<00:57,  4.77it/s]"
     ]
    },
    {
     "name": "stderr",
     "output_type": "stream",
     "text": [
      "\r",
      " 54%|███████████████████████████████████████████████████████████████████████▏                                                           | 326/600 [01:23<00:58,  4.65it/s]"
     ]
    },
    {
     "name": "stderr",
     "output_type": "stream",
     "text": [
      "\r",
      " 55%|███████████████████████████████████████████████████████████████████████▍                                                           | 327/600 [01:23<01:00,  4.55it/s]"
     ]
    },
    {
     "name": "stderr",
     "output_type": "stream",
     "text": [
      "\r",
      " 55%|███████████████████████████████████████████████████████████████████████▌                                                           | 328/600 [01:23<01:00,  4.48it/s]"
     ]
    },
    {
     "name": "stderr",
     "output_type": "stream",
     "text": [
      "\r",
      " 55%|███████████████████████████████████████████████████████████████████████▊                                                           | 329/600 [01:24<01:00,  4.45it/s]"
     ]
    },
    {
     "name": "stderr",
     "output_type": "stream",
     "text": [
      "\r",
      " 55%|████████████████████████████████████████████████████████████████████████                                                           | 330/600 [01:24<01:01,  4.42it/s]"
     ]
    },
    {
     "name": "stderr",
     "output_type": "stream",
     "text": [
      "\r",
      " 55%|████████████████████████████████████████████████████████████████████████▎                                                          | 331/600 [01:24<01:01,  4.40it/s]"
     ]
    },
    {
     "name": "stderr",
     "output_type": "stream",
     "text": [
      "\r",
      " 55%|████████████████████████████████████████████████████████████████████████▍                                                          | 332/600 [01:24<01:01,  4.39it/s]"
     ]
    },
    {
     "name": "stderr",
     "output_type": "stream",
     "text": [
      "\r",
      " 56%|████████████████████████████████████████████████████████████████████████▋                                                          | 333/600 [01:25<01:00,  4.39it/s]"
     ]
    },
    {
     "name": "stderr",
     "output_type": "stream",
     "text": [
      "\r",
      " 56%|████████████████████████████████████████████████████████████████████████▉                                                          | 334/600 [01:25<01:00,  4.40it/s]"
     ]
    },
    {
     "name": "stderr",
     "output_type": "stream",
     "text": [
      "\r",
      " 56%|█████████████████████████████████████████████████████████████████████████▏                                                         | 335/600 [01:25<01:00,  4.37it/s]"
     ]
    },
    {
     "name": "stderr",
     "output_type": "stream",
     "text": [
      "\r",
      " 56%|█████████████████████████████████████████████████████████████████████████▎                                                         | 336/600 [01:25<01:00,  4.37it/s]"
     ]
    },
    {
     "name": "stderr",
     "output_type": "stream",
     "text": [
      "\r",
      " 56%|█████████████████████████████████████████████████████████████████████████▌                                                         | 337/600 [01:25<01:00,  4.36it/s]"
     ]
    },
    {
     "name": "stderr",
     "output_type": "stream",
     "text": [
      "\r",
      " 56%|█████████████████████████████████████████████████████████████████████████▊                                                         | 338/600 [01:26<00:59,  4.38it/s]"
     ]
    },
    {
     "name": "stderr",
     "output_type": "stream",
     "text": [
      "\r",
      " 56%|██████████████████████████████████████████████████████████████████████████                                                         | 339/600 [01:26<00:59,  4.37it/s]"
     ]
    },
    {
     "name": "stderr",
     "output_type": "stream",
     "text": [
      "\r",
      " 57%|██████████████████████████████████████████████████████████████████████████▏                                                        | 340/600 [01:26<00:59,  4.37it/s]"
     ]
    },
    {
     "name": "stderr",
     "output_type": "stream",
     "text": [
      "\r",
      " 57%|██████████████████████████████████████████████████████████████████████████▍                                                        | 341/600 [01:26<00:59,  4.37it/s]"
     ]
    },
    {
     "name": "stderr",
     "output_type": "stream",
     "text": [
      "\r",
      " 57%|██████████████████████████████████████████████████████████████████████████▋                                                        | 342/600 [01:27<00:58,  4.38it/s]"
     ]
    },
    {
     "name": "stderr",
     "output_type": "stream",
     "text": [
      "\r",
      " 57%|██████████████████████████████████████████████████████████████████████████▉                                                        | 343/600 [01:27<00:58,  4.36it/s]"
     ]
    },
    {
     "name": "stderr",
     "output_type": "stream",
     "text": [
      "\r",
      " 57%|███████████████████████████████████████████████████████████████████████████                                                        | 344/600 [01:27<00:58,  4.37it/s]"
     ]
    },
    {
     "name": "stderr",
     "output_type": "stream",
     "text": [
      "\r",
      " 57%|███████████████████████████████████████████████████████████████████████████▎                                                       | 345/600 [01:27<00:58,  4.37it/s]"
     ]
    },
    {
     "name": "stderr",
     "output_type": "stream",
     "text": [
      "\r",
      " 58%|███████████████████████████████████████████████████████████████████████████▌                                                       | 346/600 [01:28<00:58,  4.38it/s]"
     ]
    },
    {
     "name": "stderr",
     "output_type": "stream",
     "text": [
      "\r",
      " 58%|███████████████████████████████████████████████████████████████████████████▊                                                       | 347/600 [01:28<00:57,  4.37it/s]"
     ]
    },
    {
     "name": "stderr",
     "output_type": "stream",
     "text": [
      "\r",
      " 58%|███████████████████████████████████████████████████████████████████████████▉                                                       | 348/600 [01:28<00:57,  4.36it/s]"
     ]
    },
    {
     "name": "stderr",
     "output_type": "stream",
     "text": [
      "\r",
      " 58%|████████████████████████████████████████████████████████████████████████████▏                                                      | 349/600 [01:28<00:57,  4.37it/s]"
     ]
    },
    {
     "name": "stderr",
     "output_type": "stream",
     "text": [
      "\r",
      " 58%|████████████████████████████████████████████████████████████████████████████▍                                                      | 350/600 [01:28<00:57,  4.37it/s]"
     ]
    },
    {
     "name": "stderr",
     "output_type": "stream",
     "text": [
      "\r",
      " 58%|████████████████████████████████████████████████████████████████████████████▋                                                      | 351/600 [01:29<00:58,  4.27it/s]"
     ]
    },
    {
     "name": "stderr",
     "output_type": "stream",
     "text": [
      "\r",
      " 59%|████████████████████████████████████████████████████████████████████████████▊                                                      | 352/600 [01:29<01:00,  4.12it/s]"
     ]
    },
    {
     "name": "stderr",
     "output_type": "stream",
     "text": [
      "\r",
      " 59%|█████████████████████████████████████████████████████████████████████████████                                                      | 353/600 [01:29<00:59,  4.16it/s]"
     ]
    },
    {
     "name": "stderr",
     "output_type": "stream",
     "text": [
      "\r",
      " 59%|█████████████████████████████████████████████████████████████████████████████▎                                                     | 354/600 [01:29<00:58,  4.20it/s]"
     ]
    },
    {
     "name": "stderr",
     "output_type": "stream",
     "text": [
      "\r",
      " 59%|█████████████████████████████████████████████████████████████████████████████▌                                                     | 355/600 [01:30<00:57,  4.27it/s]"
     ]
    },
    {
     "name": "stderr",
     "output_type": "stream",
     "text": [
      "\r",
      " 59%|█████████████████████████████████████████████████████████████████████████████▋                                                     | 356/600 [01:30<00:56,  4.34it/s]"
     ]
    },
    {
     "name": "stderr",
     "output_type": "stream",
     "text": [
      "\r",
      " 60%|█████████████████████████████████████████████████████████████████████████████▉                                                     | 357/600 [01:30<00:56,  4.31it/s]"
     ]
    },
    {
     "name": "stderr",
     "output_type": "stream",
     "text": [
      "\r",
      " 60%|██████████████████████████████████████████████████████████████████████████████▏                                                    | 358/600 [01:30<00:54,  4.42it/s]"
     ]
    },
    {
     "name": "stderr",
     "output_type": "stream",
     "text": [
      "\r",
      " 60%|██████████████████████████████████████████████████████████████████████████████▍                                                    | 359/600 [01:31<00:54,  4.45it/s]"
     ]
    },
    {
     "name": "stderr",
     "output_type": "stream",
     "text": [
      "\r",
      " 60%|██████████████████████████████████████████████████████████████████████████████▌                                                    | 360/600 [01:31<00:54,  4.44it/s]"
     ]
    },
    {
     "name": "stderr",
     "output_type": "stream",
     "text": [
      "\r",
      " 60%|██████████████████████████████████████████████████████████████████████████████▊                                                    | 361/600 [01:31<00:54,  4.42it/s]"
     ]
    },
    {
     "name": "stderr",
     "output_type": "stream",
     "text": [
      "\r",
      " 60%|███████████████████████████████████████████████████████████████████████████████                                                    | 362/600 [01:31<00:54,  4.39it/s]"
     ]
    },
    {
     "name": "stderr",
     "output_type": "stream",
     "text": [
      "\r",
      " 60%|███████████████████████████████████████████████████████████████████████████████▎                                                   | 363/600 [01:31<00:54,  4.37it/s]"
     ]
    },
    {
     "name": "stderr",
     "output_type": "stream",
     "text": [
      "\r",
      " 61%|███████████████████████████████████████████████████████████████████████████████▍                                                   | 364/600 [01:32<00:54,  4.37it/s]"
     ]
    },
    {
     "name": "stderr",
     "output_type": "stream",
     "text": [
      "\r",
      " 61%|███████████████████████████████████████████████████████████████████████████████▋                                                   | 365/600 [01:32<00:53,  4.36it/s]"
     ]
    },
    {
     "name": "stderr",
     "output_type": "stream",
     "text": [
      "\r",
      " 61%|███████████████████████████████████████████████████████████████████████████████▉                                                   | 366/600 [01:32<00:53,  4.37it/s]"
     ]
    },
    {
     "name": "stderr",
     "output_type": "stream",
     "text": [
      "\r",
      " 61%|████████████████████████████████████████████████████████████████████████████████▏                                                  | 367/600 [01:32<00:53,  4.36it/s]"
     ]
    },
    {
     "name": "stderr",
     "output_type": "stream",
     "text": [
      "\r",
      " 61%|████████████████████████████████████████████████████████████████████████████████▎                                                  | 368/600 [01:33<00:53,  4.37it/s]"
     ]
    },
    {
     "name": "stderr",
     "output_type": "stream",
     "text": [
      "\r",
      " 62%|████████████████████████████████████████████████████████████████████████████████▌                                                  | 369/600 [01:33<00:52,  4.38it/s]"
     ]
    },
    {
     "name": "stderr",
     "output_type": "stream",
     "text": [
      "\r",
      " 62%|████████████████████████████████████████████████████████████████████████████████▊                                                  | 370/600 [01:33<00:52,  4.39it/s]"
     ]
    },
    {
     "name": "stderr",
     "output_type": "stream",
     "text": [
      "\r",
      " 62%|█████████████████████████████████████████████████████████████████████████████████                                                  | 371/600 [01:33<00:52,  4.39it/s]"
     ]
    },
    {
     "name": "stderr",
     "output_type": "stream",
     "text": [
      "\r",
      " 62%|█████████████████████████████████████████████████████████████████████████████████▏                                                 | 372/600 [01:34<00:52,  4.36it/s]"
     ]
    },
    {
     "name": "stderr",
     "output_type": "stream",
     "text": [
      "\r",
      " 62%|█████████████████████████████████████████████████████████████████████████████████▍                                                 | 373/600 [01:34<00:52,  4.35it/s]"
     ]
    },
    {
     "name": "stderr",
     "output_type": "stream",
     "text": [
      "\r",
      " 62%|█████████████████████████████████████████████████████████████████████████████████▋                                                 | 374/600 [01:34<00:51,  4.36it/s]"
     ]
    },
    {
     "name": "stderr",
     "output_type": "stream",
     "text": [
      "\r",
      " 62%|█████████████████████████████████████████████████████████████████████████████████▉                                                 | 375/600 [01:34<00:51,  4.37it/s]"
     ]
    },
    {
     "name": "stderr",
     "output_type": "stream",
     "text": [
      "\r",
      " 63%|██████████████████████████████████████████████████████████████████████████████████                                                 | 376/600 [01:34<00:51,  4.37it/s]"
     ]
    },
    {
     "name": "stderr",
     "output_type": "stream",
     "text": [
      "\r",
      " 63%|██████████████████████████████████████████████████████████████████████████████████▎                                                | 377/600 [01:35<00:51,  4.32it/s]"
     ]
    },
    {
     "name": "stderr",
     "output_type": "stream",
     "text": [
      "\r",
      " 63%|██████████████████████████████████████████████████████████████████████████████████▌                                                | 378/600 [01:35<00:52,  4.25it/s]"
     ]
    },
    {
     "name": "stderr",
     "output_type": "stream",
     "text": [
      "\r",
      " 63%|██████████████████████████████████████████████████████████████████████████████████▋                                                | 379/600 [01:35<00:51,  4.27it/s]"
     ]
    },
    {
     "name": "stderr",
     "output_type": "stream",
     "text": [
      "\r",
      " 63%|██████████████████████████████████████████████████████████████████████████████████▉                                                | 380/600 [01:35<00:54,  4.03it/s]"
     ]
    },
    {
     "name": "stderr",
     "output_type": "stream",
     "text": [
      "\r",
      " 64%|███████████████████████████████████████████████████████████████████████████████████▏                                               | 381/600 [01:36<00:58,  3.72it/s]"
     ]
    },
    {
     "name": "stderr",
     "output_type": "stream",
     "text": [
      "\r",
      " 64%|███████████████████████████████████████████████████████████████████████████████████▍                                               | 382/600 [01:36<01:00,  3.59it/s]"
     ]
    },
    {
     "name": "stderr",
     "output_type": "stream",
     "text": [
      "\r",
      " 64%|███████████████████████████████████████████████████████████████████████████████████▌                                               | 383/600 [01:36<01:06,  3.25it/s]"
     ]
    },
    {
     "name": "stderr",
     "output_type": "stream",
     "text": [
      "\r",
      " 64%|███████████████████████████████████████████████████████████████████████████████████▊                                               | 384/600 [01:37<01:05,  3.29it/s]"
     ]
    },
    {
     "name": "stderr",
     "output_type": "stream",
     "text": [
      "\r",
      " 64%|████████████████████████████████████████████████████████████████████████████████████                                               | 385/600 [01:37<01:00,  3.55it/s]"
     ]
    },
    {
     "name": "stderr",
     "output_type": "stream",
     "text": [
      "\r",
      " 64%|████████████████████████████████████████████████████████████████████████████████████▎                                              | 386/600 [01:37<00:56,  3.76it/s]"
     ]
    },
    {
     "name": "stderr",
     "output_type": "stream",
     "text": [
      "\r",
      " 64%|████████████████████████████████████████████████████████████████████████████████████▍                                              | 387/600 [01:37<00:54,  3.92it/s]"
     ]
    },
    {
     "name": "stderr",
     "output_type": "stream",
     "text": [
      "\r",
      " 65%|████████████████████████████████████████████████████████████████████████████████████▋                                              | 388/600 [01:38<00:56,  3.77it/s]"
     ]
    },
    {
     "name": "stderr",
     "output_type": "stream",
     "text": [
      "\r",
      " 65%|████████████████████████████████████████████████████████████████████████████████████▉                                              | 389/600 [01:38<00:54,  3.89it/s]"
     ]
    },
    {
     "name": "stderr",
     "output_type": "stream",
     "text": [
      "\r",
      " 65%|█████████████████████████████████████████████████████████████████████████████████████▏                                             | 390/600 [01:38<00:53,  3.96it/s]"
     ]
    },
    {
     "name": "stderr",
     "output_type": "stream",
     "text": [
      "\r",
      " 65%|█████████████████████████████████████████████████████████████████████████████████████▎                                             | 391/600 [01:38<00:55,  3.79it/s]"
     ]
    },
    {
     "name": "stderr",
     "output_type": "stream",
     "text": [
      "\r",
      " 65%|█████████████████████████████████████████████████████████████████████████████████████▌                                             | 392/600 [01:39<00:52,  3.95it/s]"
     ]
    },
    {
     "name": "stderr",
     "output_type": "stream",
     "text": [
      "\r",
      " 66%|█████████████████████████████████████████████████████████████████████████████████████▊                                             | 393/600 [01:39<00:51,  4.00it/s]"
     ]
    },
    {
     "name": "stderr",
     "output_type": "stream",
     "text": [
      "\r",
      " 66%|██████████████████████████████████████████████████████████████████████████████████████                                             | 394/600 [01:39<00:50,  4.12it/s]"
     ]
    },
    {
     "name": "stderr",
     "output_type": "stream",
     "text": [
      "\r",
      " 66%|██████████████████████████████████████████████████████████████████████████████████████▏                                            | 395/600 [01:39<00:48,  4.18it/s]"
     ]
    },
    {
     "name": "stderr",
     "output_type": "stream",
     "text": [
      "\r",
      " 66%|██████████████████████████████████████████████████████████████████████████████████████▍                                            | 396/600 [01:40<00:48,  4.23it/s]"
     ]
    },
    {
     "name": "stderr",
     "output_type": "stream",
     "text": [
      "\r",
      " 66%|██████████████████████████████████████████████████████████████████████████████████████▋                                            | 397/600 [01:40<00:47,  4.25it/s]"
     ]
    },
    {
     "name": "stderr",
     "output_type": "stream",
     "text": [
      "\r",
      " 66%|██████████████████████████████████████████████████████████████████████████████████████▉                                            | 398/600 [01:40<00:47,  4.28it/s]"
     ]
    },
    {
     "name": "stderr",
     "output_type": "stream",
     "text": [
      "\r",
      " 66%|███████████████████████████████████████████████████████████████████████████████████████                                            | 399/600 [01:40<00:46,  4.32it/s]"
     ]
    },
    {
     "name": "stderr",
     "output_type": "stream",
     "text": [
      "\r",
      " 67%|███████████████████████████████████████████████████████████████████████████████████████▎                                           | 400/600 [01:41<00:46,  4.34it/s]"
     ]
    },
    {
     "name": "stderr",
     "output_type": "stream",
     "text": [
      "\r",
      " 67%|███████████████████████████████████████████████████████████████████████████████████████▌                                           | 401/600 [01:41<00:45,  4.35it/s]"
     ]
    },
    {
     "name": "stderr",
     "output_type": "stream",
     "text": [
      "\r",
      " 67%|███████████████████████████████████████████████████████████████████████████████████████▊                                           | 402/600 [01:41<00:45,  4.35it/s]"
     ]
    },
    {
     "name": "stderr",
     "output_type": "stream",
     "text": [
      "\r",
      " 67%|███████████████████████████████████████████████████████████████████████████████████████▉                                           | 403/600 [01:41<00:45,  4.37it/s]"
     ]
    },
    {
     "name": "stderr",
     "output_type": "stream",
     "text": [
      "\r",
      " 67%|████████████████████████████████████████████████████████████████████████████████████████▏                                          | 404/600 [01:41<00:44,  4.37it/s]"
     ]
    },
    {
     "name": "stderr",
     "output_type": "stream",
     "text": [
      "\r",
      " 68%|████████████████████████████████████████████████████████████████████████████████████████▍                                          | 405/600 [01:42<00:44,  4.36it/s]"
     ]
    },
    {
     "name": "stderr",
     "output_type": "stream",
     "text": [
      "\r",
      " 68%|████████████████████████████████████████████████████████████████████████████████████████▋                                          | 406/600 [01:42<00:44,  4.35it/s]"
     ]
    },
    {
     "name": "stderr",
     "output_type": "stream",
     "text": [
      "\r",
      " 68%|████████████████████████████████████████████████████████████████████████████████████████▊                                          | 407/600 [01:42<00:44,  4.36it/s]"
     ]
    },
    {
     "name": "stderr",
     "output_type": "stream",
     "text": [
      "\r",
      " 68%|█████████████████████████████████████████████████████████████████████████████████████████                                          | 408/600 [01:42<00:43,  4.37it/s]"
     ]
    },
    {
     "name": "stderr",
     "output_type": "stream",
     "text": [
      "\r",
      " 68%|█████████████████████████████████████████████████████████████████████████████████████████▎                                         | 409/600 [01:43<00:43,  4.37it/s]"
     ]
    },
    {
     "name": "stderr",
     "output_type": "stream",
     "text": [
      "\r",
      " 68%|█████████████████████████████████████████████████████████████████████████████████████████▌                                         | 410/600 [01:43<00:43,  4.39it/s]"
     ]
    },
    {
     "name": "stderr",
     "output_type": "stream",
     "text": [
      "\r",
      " 68%|█████████████████████████████████████████████████████████████████████████████████████████▋                                         | 411/600 [01:43<00:43,  4.39it/s]"
     ]
    },
    {
     "name": "stderr",
     "output_type": "stream",
     "text": [
      "\r",
      " 69%|█████████████████████████████████████████████████████████████████████████████████████████▉                                         | 412/600 [01:43<00:42,  4.39it/s]"
     ]
    },
    {
     "name": "stderr",
     "output_type": "stream",
     "text": [
      "\r",
      " 69%|██████████████████████████████████████████████████████████████████████████████████████████▏                                        | 413/600 [01:44<00:42,  4.39it/s]"
     ]
    },
    {
     "name": "stderr",
     "output_type": "stream",
     "text": [
      "\r",
      " 69%|██████████████████████████████████████████████████████████████████████████████████████████▍                                        | 414/600 [01:44<00:42,  4.39it/s]"
     ]
    },
    {
     "name": "stderr",
     "output_type": "stream",
     "text": [
      "\r",
      " 69%|██████████████████████████████████████████████████████████████████████████████████████████▌                                        | 415/600 [01:44<00:42,  4.38it/s]"
     ]
    },
    {
     "name": "stderr",
     "output_type": "stream",
     "text": [
      "\r",
      " 69%|██████████████████████████████████████████████████████████████████████████████████████████▊                                        | 416/600 [01:44<00:41,  4.39it/s]"
     ]
    },
    {
     "name": "stderr",
     "output_type": "stream",
     "text": [
      "\r",
      " 70%|███████████████████████████████████████████████████████████████████████████████████████████                                        | 417/600 [01:44<00:41,  4.40it/s]"
     ]
    },
    {
     "name": "stderr",
     "output_type": "stream",
     "text": [
      "\r",
      " 70%|███████████████████████████████████████████████████████████████████████████████████████████▎                                       | 418/600 [01:45<00:41,  4.40it/s]"
     ]
    },
    {
     "name": "stderr",
     "output_type": "stream",
     "text": [
      "\r",
      " 70%|███████████████████████████████████████████████████████████████████████████████████████████▍                                       | 419/600 [01:45<00:41,  4.39it/s]"
     ]
    },
    {
     "name": "stderr",
     "output_type": "stream",
     "text": [
      "\r",
      " 70%|███████████████████████████████████████████████████████████████████████████████████████████▋                                       | 420/600 [01:45<00:41,  4.37it/s]"
     ]
    },
    {
     "name": "stderr",
     "output_type": "stream",
     "text": [
      "\r",
      " 70%|███████████████████████████████████████████████████████████████████████████████████████████▉                                       | 421/600 [01:45<00:40,  4.37it/s]"
     ]
    },
    {
     "name": "stderr",
     "output_type": "stream",
     "text": [
      "\r",
      " 70%|████████████████████████████████████████████████████████████████████████████████████████████▏                                      | 422/600 [01:46<00:40,  4.36it/s]"
     ]
    },
    {
     "name": "stderr",
     "output_type": "stream",
     "text": [
      "\r",
      " 70%|████████████████████████████████████████████████████████████████████████████████████████████▎                                      | 423/600 [01:46<00:40,  4.34it/s]"
     ]
    },
    {
     "name": "stderr",
     "output_type": "stream",
     "text": [
      "\r",
      " 71%|████████████████████████████████████████████████████████████████████████████████████████████▌                                      | 424/600 [01:46<00:40,  4.34it/s]"
     ]
    },
    {
     "name": "stderr",
     "output_type": "stream",
     "text": [
      "\r",
      " 71%|████████████████████████████████████████████████████████████████████████████████████████████▊                                      | 425/600 [01:46<00:40,  4.37it/s]"
     ]
    },
    {
     "name": "stderr",
     "output_type": "stream",
     "text": [
      "\r",
      " 71%|█████████████████████████████████████████████████████████████████████████████████████████████                                      | 426/600 [01:46<00:39,  4.38it/s]"
     ]
    },
    {
     "name": "stderr",
     "output_type": "stream",
     "text": [
      "\r",
      " 71%|█████████████████████████████████████████████████████████████████████████████████████████████▏                                     | 427/600 [01:47<00:39,  4.39it/s]"
     ]
    },
    {
     "name": "stderr",
     "output_type": "stream",
     "text": [
      "\r",
      " 71%|█████████████████████████████████████████████████████████████████████████████████████████████▍                                     | 428/600 [01:47<00:39,  4.40it/s]"
     ]
    },
    {
     "name": "stderr",
     "output_type": "stream",
     "text": [
      "\r",
      " 72%|█████████████████████████████████████████████████████████████████████████████████████████████▋                                     | 429/600 [01:47<00:38,  4.40it/s]"
     ]
    },
    {
     "name": "stderr",
     "output_type": "stream",
     "text": [
      "\r",
      " 72%|█████████████████████████████████████████████████████████████████████████████████████████████▉                                     | 430/600 [01:47<00:38,  4.40it/s]"
     ]
    },
    {
     "name": "stderr",
     "output_type": "stream",
     "text": [
      "\r",
      " 72%|██████████████████████████████████████████████████████████████████████████████████████████████                                     | 431/600 [01:48<00:38,  4.40it/s]"
     ]
    },
    {
     "name": "stderr",
     "output_type": "stream",
     "text": [
      "\r",
      " 72%|██████████████████████████████████████████████████████████████████████████████████████████████▎                                    | 432/600 [01:48<00:38,  4.40it/s]"
     ]
    },
    {
     "name": "stderr",
     "output_type": "stream",
     "text": [
      "\r",
      " 72%|██████████████████████████████████████████████████████████████████████████████████████████████▌                                    | 433/600 [01:48<00:38,  4.37it/s]"
     ]
    },
    {
     "name": "stderr",
     "output_type": "stream",
     "text": [
      "\r",
      " 72%|██████████████████████████████████████████████████████████████████████████████████████████████▊                                    | 434/600 [01:48<00:37,  4.40it/s]"
     ]
    },
    {
     "name": "stderr",
     "output_type": "stream",
     "text": [
      "\r",
      " 72%|██████████████████████████████████████████████████████████████████████████████████████████████▉                                    | 435/600 [01:49<00:37,  4.40it/s]"
     ]
    },
    {
     "name": "stderr",
     "output_type": "stream",
     "text": [
      "\r",
      " 73%|███████████████████████████████████████████████████████████████████████████████████████████████▏                                   | 436/600 [01:49<00:38,  4.27it/s]"
     ]
    },
    {
     "name": "stderr",
     "output_type": "stream",
     "text": [
      "\r",
      " 73%|███████████████████████████████████████████████████████████████████████████████████████████████▍                                   | 437/600 [01:49<00:38,  4.20it/s]"
     ]
    },
    {
     "name": "stderr",
     "output_type": "stream",
     "text": [
      "\r",
      " 73%|███████████████████████████████████████████████████████████████████████████████████████████████▋                                   | 438/600 [01:49<00:38,  4.25it/s]"
     ]
    },
    {
     "name": "stderr",
     "output_type": "stream",
     "text": [
      "\r",
      " 73%|███████████████████████████████████████████████████████████████████████████████████████████████▊                                   | 439/600 [01:49<00:37,  4.28it/s]"
     ]
    },
    {
     "name": "stderr",
     "output_type": "stream",
     "text": [
      "\r",
      " 73%|████████████████████████████████████████████████████████████████████████████████████████████████                                   | 440/600 [01:50<00:37,  4.30it/s]"
     ]
    },
    {
     "name": "stderr",
     "output_type": "stream",
     "text": [
      "\r",
      " 74%|████████████████████████████████████████████████████████████████████████████████████████████████▎                                  | 441/600 [01:50<00:36,  4.33it/s]"
     ]
    },
    {
     "name": "stderr",
     "output_type": "stream",
     "text": [
      "\r",
      " 74%|████████████████████████████████████████████████████████████████████████████████████████████████▌                                  | 442/600 [01:50<00:36,  4.32it/s]"
     ]
    },
    {
     "name": "stderr",
     "output_type": "stream",
     "text": [
      "\r",
      " 74%|████████████████████████████████████████████████████████████████████████████████████████████████▋                                  | 443/600 [01:50<00:36,  4.34it/s]"
     ]
    },
    {
     "name": "stderr",
     "output_type": "stream",
     "text": [
      "\r",
      " 74%|████████████████████████████████████████████████████████████████████████████████████████████████▉                                  | 444/600 [01:51<00:35,  4.34it/s]"
     ]
    },
    {
     "name": "stderr",
     "output_type": "stream",
     "text": [
      "\r",
      " 74%|█████████████████████████████████████████████████████████████████████████████████████████████████▏                                 | 445/600 [01:51<00:35,  4.36it/s]"
     ]
    },
    {
     "name": "stderr",
     "output_type": "stream",
     "text": [
      "\r",
      " 74%|█████████████████████████████████████████████████████████████████████████████████████████████████▍                                 | 446/600 [01:51<00:35,  4.36it/s]"
     ]
    },
    {
     "name": "stderr",
     "output_type": "stream",
     "text": [
      "\r",
      " 74%|█████████████████████████████████████████████████████████████████████████████████████████████████▌                                 | 447/600 [01:51<00:34,  4.38it/s]"
     ]
    },
    {
     "name": "stderr",
     "output_type": "stream",
     "text": [
      "\r",
      " 75%|█████████████████████████████████████████████████████████████████████████████████████████████████▊                                 | 448/600 [01:52<00:34,  4.39it/s]"
     ]
    },
    {
     "name": "stderr",
     "output_type": "stream",
     "text": [
      "\r",
      " 75%|██████████████████████████████████████████████████████████████████████████████████████████████████                                 | 449/600 [01:52<00:34,  4.38it/s]"
     ]
    },
    {
     "name": "stderr",
     "output_type": "stream",
     "text": [
      "\r",
      " 75%|██████████████████████████████████████████████████████████████████████████████████████████████████▎                                | 450/600 [01:52<00:34,  4.37it/s]"
     ]
    },
    {
     "name": "stderr",
     "output_type": "stream",
     "text": [
      "\r",
      " 75%|██████████████████████████████████████████████████████████████████████████████████████████████████▍                                | 451/600 [01:52<00:34,  4.37it/s]"
     ]
    },
    {
     "name": "stderr",
     "output_type": "stream",
     "text": [
      "\r",
      " 75%|██████████████████████████████████████████████████████████████████████████████████████████████████▋                                | 452/600 [01:52<00:33,  4.38it/s]"
     ]
    },
    {
     "name": "stderr",
     "output_type": "stream",
     "text": [
      "\r",
      " 76%|██████████████████████████████████████████████████████████████████████████████████████████████████▉                                | 453/600 [01:53<00:33,  4.38it/s]"
     ]
    },
    {
     "name": "stderr",
     "output_type": "stream",
     "text": [
      "\r",
      " 76%|███████████████████████████████████████████████████████████████████████████████████████████████████                                | 454/600 [01:53<00:33,  4.38it/s]"
     ]
    },
    {
     "name": "stderr",
     "output_type": "stream",
     "text": [
      "\r",
      " 76%|███████████████████████████████████████████████████████████████████████████████████████████████████▎                               | 455/600 [01:53<00:33,  4.39it/s]"
     ]
    },
    {
     "name": "stderr",
     "output_type": "stream",
     "text": [
      "\r",
      " 76%|███████████████████████████████████████████████████████████████████████████████████████████████████▌                               | 456/600 [01:53<00:32,  4.38it/s]"
     ]
    },
    {
     "name": "stderr",
     "output_type": "stream",
     "text": [
      "\r",
      " 76%|███████████████████████████████████████████████████████████████████████████████████████████████████▊                               | 457/600 [01:54<00:32,  4.38it/s]"
     ]
    },
    {
     "name": "stderr",
     "output_type": "stream",
     "text": [
      "\r",
      " 76%|███████████████████████████████████████████████████████████████████████████████████████████████████▉                               | 458/600 [01:54<00:32,  4.37it/s]"
     ]
    },
    {
     "name": "stderr",
     "output_type": "stream",
     "text": [
      "\r",
      " 76%|████████████████████████████████████████████████████████████████████████████████████████████████████▏                              | 459/600 [01:54<00:31,  4.41it/s]"
     ]
    },
    {
     "name": "stderr",
     "output_type": "stream",
     "text": [
      "\r",
      " 77%|████████████████████████████████████████████████████████████████████████████████████████████████████▍                              | 460/600 [01:54<00:31,  4.50it/s]"
     ]
    },
    {
     "name": "stderr",
     "output_type": "stream",
     "text": [
      "\r",
      " 77%|████████████████████████████████████████████████████████████████████████████████████████████████████▋                              | 461/600 [01:54<00:30,  4.55it/s]"
     ]
    },
    {
     "name": "stderr",
     "output_type": "stream",
     "text": [
      "\r",
      " 77%|████████████████████████████████████████████████████████████████████████████████████████████████████▊                              | 462/600 [01:55<00:30,  4.52it/s]"
     ]
    },
    {
     "name": "stderr",
     "output_type": "stream",
     "text": [
      "\r",
      " 77%|█████████████████████████████████████████████████████████████████████████████████████████████████████                              | 463/600 [01:55<00:30,  4.48it/s]"
     ]
    },
    {
     "name": "stderr",
     "output_type": "stream",
     "text": [
      "\r",
      " 77%|█████████████████████████████████████████████████████████████████████████████████████████████████████▎                             | 464/600 [01:55<00:30,  4.46it/s]"
     ]
    },
    {
     "name": "stderr",
     "output_type": "stream",
     "text": [
      "\r",
      " 78%|█████████████████████████████████████████████████████████████████████████████████████████████████████▌                             | 465/600 [01:55<00:30,  4.43it/s]"
     ]
    },
    {
     "name": "stderr",
     "output_type": "stream",
     "text": [
      "\r",
      " 78%|█████████████████████████████████████████████████████████████████████████████████████████████████████▋                             | 466/600 [01:56<00:30,  4.42it/s]"
     ]
    },
    {
     "name": "stderr",
     "output_type": "stream",
     "text": [
      "\r",
      " 78%|█████████████████████████████████████████████████████████████████████████████████████████████████████▉                             | 467/600 [01:56<00:30,  4.41it/s]"
     ]
    },
    {
     "name": "stderr",
     "output_type": "stream",
     "text": [
      "\r",
      " 78%|██████████████████████████████████████████████████████████████████████████████████████████████████████▏                            | 468/600 [01:56<00:29,  4.41it/s]"
     ]
    },
    {
     "name": "stderr",
     "output_type": "stream",
     "text": [
      "\r",
      " 78%|██████████████████████████████████████████████████████████████████████████████████████████████████████▍                            | 469/600 [01:56<00:30,  4.32it/s]"
     ]
    },
    {
     "name": "stderr",
     "output_type": "stream",
     "text": [
      "\r",
      " 78%|██████████████████████████████████████████████████████████████████████████████████████████████████████▌                            | 470/600 [01:57<00:29,  4.33it/s]"
     ]
    },
    {
     "name": "stderr",
     "output_type": "stream",
     "text": [
      "\r",
      " 78%|██████████████████████████████████████████████████████████████████████████████████████████████████████▊                            | 471/600 [01:57<00:29,  4.35it/s]"
     ]
    },
    {
     "name": "stderr",
     "output_type": "stream",
     "text": [
      "\r",
      " 79%|███████████████████████████████████████████████████████████████████████████████████████████████████████                            | 472/600 [01:57<00:29,  4.39it/s]"
     ]
    },
    {
     "name": "stderr",
     "output_type": "stream",
     "text": [
      "\r",
      " 79%|███████████████████████████████████████████████████████████████████████████████████████████████████████▎                           | 473/600 [01:57<00:28,  4.40it/s]"
     ]
    },
    {
     "name": "stderr",
     "output_type": "stream",
     "text": [
      "\r",
      " 79%|███████████████████████████████████████████████████████████████████████████████████████████████████████▍                           | 474/600 [01:57<00:28,  4.40it/s]"
     ]
    },
    {
     "name": "stderr",
     "output_type": "stream",
     "text": [
      "\r",
      " 79%|███████████████████████████████████████████████████████████████████████████████████████████████████████▋                           | 475/600 [01:58<00:28,  4.40it/s]"
     ]
    },
    {
     "name": "stderr",
     "output_type": "stream",
     "text": [
      "\r",
      " 79%|███████████████████████████████████████████████████████████████████████████████████████████████████████▉                           | 476/600 [01:58<00:28,  4.39it/s]"
     ]
    },
    {
     "name": "stderr",
     "output_type": "stream",
     "text": [
      "\r",
      " 80%|████████████████████████████████████████████████████████████████████████████████████████████████████████▏                          | 477/600 [01:58<00:27,  4.41it/s]"
     ]
    },
    {
     "name": "stderr",
     "output_type": "stream",
     "text": [
      "\r",
      " 80%|████████████████████████████████████████████████████████████████████████████████████████████████████████▎                          | 478/600 [01:58<00:27,  4.40it/s]"
     ]
    },
    {
     "name": "stderr",
     "output_type": "stream",
     "text": [
      "\r",
      " 80%|████████████████████████████████████████████████████████████████████████████████████████████████████████▌                          | 479/600 [01:59<00:27,  4.40it/s]"
     ]
    },
    {
     "name": "stderr",
     "output_type": "stream",
     "text": [
      "\r",
      " 80%|████████████████████████████████████████████████████████████████████████████████████████████████████████▊                          | 480/600 [01:59<00:27,  4.40it/s]"
     ]
    },
    {
     "name": "stderr",
     "output_type": "stream",
     "text": [
      "\r",
      " 80%|█████████████████████████████████████████████████████████████████████████████████████████████████████████                          | 481/600 [01:59<00:27,  4.36it/s]"
     ]
    },
    {
     "name": "stderr",
     "output_type": "stream",
     "text": [
      "\r",
      " 80%|█████████████████████████████████████████████████████████████████████████████████████████████████████████▏                         | 482/600 [01:59<00:27,  4.35it/s]"
     ]
    },
    {
     "name": "stderr",
     "output_type": "stream",
     "text": [
      "\r",
      " 80%|█████████████████████████████████████████████████████████████████████████████████████████████████████████▍                         | 483/600 [02:00<00:26,  4.37it/s]"
     ]
    },
    {
     "name": "stderr",
     "output_type": "stream",
     "text": [
      "\r",
      " 81%|█████████████████████████████████████████████████████████████████████████████████████████████████████████▋                         | 484/600 [02:00<00:26,  4.37it/s]"
     ]
    },
    {
     "name": "stderr",
     "output_type": "stream",
     "text": [
      "\r",
      " 81%|█████████████████████████████████████████████████████████████████████████████████████████████████████████▉                         | 485/600 [02:00<00:26,  4.38it/s]"
     ]
    },
    {
     "name": "stderr",
     "output_type": "stream",
     "text": [
      "\r",
      " 81%|██████████████████████████████████████████████████████████████████████████████████████████████████████████                         | 486/600 [02:00<00:26,  4.23it/s]"
     ]
    },
    {
     "name": "stderr",
     "output_type": "stream",
     "text": [
      "\r",
      " 81%|██████████████████████████████████████████████████████████████████████████████████████████████████████████▎                        | 487/600 [02:00<00:26,  4.28it/s]"
     ]
    },
    {
     "name": "stderr",
     "output_type": "stream",
     "text": [
      "\r",
      " 81%|██████████████████████████████████████████████████████████████████████████████████████████████████████████▌                        | 488/600 [02:01<00:25,  4.31it/s]"
     ]
    },
    {
     "name": "stderr",
     "output_type": "stream",
     "text": [
      "\r",
      " 82%|██████████████████████████████████████████████████████████████████████████████████████████████████████████▊                        | 489/600 [02:01<00:25,  4.31it/s]"
     ]
    },
    {
     "name": "stderr",
     "output_type": "stream",
     "text": [
      "\r",
      " 82%|██████████████████████████████████████████████████████████████████████████████████████████████████████████▉                        | 490/600 [02:01<00:25,  4.33it/s]"
     ]
    },
    {
     "name": "stderr",
     "output_type": "stream",
     "text": [
      "\r",
      " 82%|███████████████████████████████████████████████████████████████████████████████████████████████████████████▏                       | 491/600 [02:01<00:25,  4.35it/s]"
     ]
    },
    {
     "name": "stderr",
     "output_type": "stream",
     "text": [
      "\r",
      " 82%|███████████████████████████████████████████████████████████████████████████████████████████████████████████▍                       | 492/600 [02:02<00:24,  4.35it/s]"
     ]
    },
    {
     "name": "stderr",
     "output_type": "stream",
     "text": [
      "\r",
      " 82%|███████████████████████████████████████████████████████████████████████████████████████████████████████████▋                       | 493/600 [02:02<00:24,  4.37it/s]"
     ]
    },
    {
     "name": "stderr",
     "output_type": "stream",
     "text": [
      "\r",
      " 82%|███████████████████████████████████████████████████████████████████████████████████████████████████████████▊                       | 494/600 [02:02<00:24,  4.37it/s]"
     ]
    },
    {
     "name": "stderr",
     "output_type": "stream",
     "text": [
      "\r",
      " 82%|████████████████████████████████████████████████████████████████████████████████████████████████████████████                       | 495/600 [02:02<00:23,  4.39it/s]"
     ]
    },
    {
     "name": "stderr",
     "output_type": "stream",
     "text": [
      "\r",
      " 83%|████████████████████████████████████████████████████████████████████████████████████████████████████████████▎                      | 496/600 [02:03<00:23,  4.38it/s]"
     ]
    },
    {
     "name": "stderr",
     "output_type": "stream",
     "text": [
      "\r",
      " 83%|████████████████████████████████████████████████████████████████████████████████████████████████████████████▌                      | 497/600 [02:03<00:23,  4.38it/s]"
     ]
    },
    {
     "name": "stderr",
     "output_type": "stream",
     "text": [
      "\r",
      " 83%|████████████████████████████████████████████████████████████████████████████████████████████████████████████▋                      | 498/600 [02:03<00:23,  4.39it/s]"
     ]
    },
    {
     "name": "stderr",
     "output_type": "stream",
     "text": [
      "\r",
      " 83%|████████████████████████████████████████████████████████████████████████████████████████████████████████████▉                      | 499/600 [02:03<00:23,  4.37it/s]"
     ]
    },
    {
     "name": "stderr",
     "output_type": "stream",
     "text": [
      "\r",
      " 83%|█████████████████████████████████████████████████████████████████████████████████████████████████████████████▏                     | 500/600 [02:03<00:22,  4.38it/s]"
     ]
    },
    {
     "name": "stderr",
     "output_type": "stream",
     "text": [
      "\r",
      " 84%|█████████████████████████████████████████████████████████████████████████████████████████████████████████████▍                     | 501/600 [02:04<00:22,  4.37it/s]"
     ]
    },
    {
     "name": "stderr",
     "output_type": "stream",
     "text": [
      "\r",
      " 84%|█████████████████████████████████████████████████████████████████████████████████████████████████████████████▌                     | 502/600 [02:04<00:22,  4.38it/s]"
     ]
    },
    {
     "name": "stderr",
     "output_type": "stream",
     "text": [
      "\r",
      " 84%|█████████████████████████████████████████████████████████████████████████████████████████████████████████████▊                     | 503/600 [02:04<00:22,  4.38it/s]"
     ]
    },
    {
     "name": "stderr",
     "output_type": "stream",
     "text": [
      "\r",
      " 84%|██████████████████████████████████████████████████████████████████████████████████████████████████████████████                     | 504/600 [02:04<00:21,  4.38it/s]"
     ]
    },
    {
     "name": "stderr",
     "output_type": "stream",
     "text": [
      "\r",
      " 84%|██████████████████████████████████████████████████████████████████████████████████████████████████████████████▎                    | 505/600 [02:05<00:21,  4.35it/s]"
     ]
    },
    {
     "name": "stderr",
     "output_type": "stream",
     "text": [
      "\r",
      " 84%|██████████████████████████████████████████████████████████████████████████████████████████████████████████████▍                    | 506/600 [02:05<00:22,  4.17it/s]"
     ]
    },
    {
     "name": "stderr",
     "output_type": "stream",
     "text": [
      "\r",
      " 84%|██████████████████████████████████████████████████████████████████████████████████████████████████████████████▋                    | 507/600 [02:05<00:21,  4.24it/s]"
     ]
    },
    {
     "name": "stderr",
     "output_type": "stream",
     "text": [
      "\r",
      " 85%|██████████████████████████████████████████████████████████████████████████████████████████████████████████████▉                    | 508/600 [02:05<00:21,  4.29it/s]"
     ]
    },
    {
     "name": "stderr",
     "output_type": "stream",
     "text": [
      "\r",
      " 85%|███████████████████████████████████████████████████████████████████████████████████████████████████████████████▏                   | 509/600 [02:06<00:21,  4.18it/s]"
     ]
    },
    {
     "name": "stderr",
     "output_type": "stream",
     "text": [
      "\r",
      " 85%|███████████████████████████████████████████████████████████████████████████████████████████████████████████████▎                   | 510/600 [02:06<00:20,  4.30it/s]"
     ]
    },
    {
     "name": "stderr",
     "output_type": "stream",
     "text": [
      "\r",
      " 85%|███████████████████████████████████████████████████████████████████████████████████████████████████████████████▌                   | 511/600 [02:06<00:20,  4.39it/s]"
     ]
    },
    {
     "name": "stderr",
     "output_type": "stream",
     "text": [
      "\r",
      " 85%|███████████████████████████████████████████████████████████████████████████████████████████████████████████████▊                   | 512/600 [02:06<00:19,  4.46it/s]"
     ]
    },
    {
     "name": "stderr",
     "output_type": "stream",
     "text": [
      "\r",
      " 86%|████████████████████████████████████████████████████████████████████████████████████████████████████████████████                   | 513/600 [02:06<00:19,  4.47it/s]"
     ]
    },
    {
     "name": "stderr",
     "output_type": "stream",
     "text": [
      "\r",
      " 86%|████████████████████████████████████████████████████████████████████████████████████████████████████████████████▏                  | 514/600 [02:07<00:19,  4.40it/s]"
     ]
    },
    {
     "name": "stderr",
     "output_type": "stream",
     "text": [
      "\r",
      " 86%|████████████████████████████████████████████████████████████████████████████████████████████████████████████████▍                  | 515/600 [02:07<00:19,  4.39it/s]"
     ]
    },
    {
     "name": "stderr",
     "output_type": "stream",
     "text": [
      "\r",
      " 86%|████████████████████████████████████████████████████████████████████████████████████████████████████████████████▋                  | 516/600 [02:07<00:19,  4.39it/s]"
     ]
    },
    {
     "name": "stderr",
     "output_type": "stream",
     "text": [
      "\r",
      " 86%|████████████████████████████████████████████████████████████████████████████████████████████████████████████████▉                  | 517/600 [02:07<00:18,  4.40it/s]"
     ]
    },
    {
     "name": "stderr",
     "output_type": "stream",
     "text": [
      "\r",
      " 86%|█████████████████████████████████████████████████████████████████████████████████████████████████████████████████                  | 518/600 [02:08<00:18,  4.40it/s]"
     ]
    },
    {
     "name": "stderr",
     "output_type": "stream",
     "text": [
      "\r",
      " 86%|█████████████████████████████████████████████████████████████████████████████████████████████████████████████████▎                 | 519/600 [02:08<00:18,  4.41it/s]"
     ]
    },
    {
     "name": "stderr",
     "output_type": "stream",
     "text": [
      "\r",
      " 87%|█████████████████████████████████████████████████████████████████████████████████████████████████████████████████▌                 | 520/600 [02:08<00:18,  4.40it/s]"
     ]
    },
    {
     "name": "stderr",
     "output_type": "stream",
     "text": [
      "\r",
      " 87%|█████████████████████████████████████████████████████████████████████████████████████████████████████████████████▊                 | 521/600 [02:08<00:17,  4.39it/s]"
     ]
    },
    {
     "name": "stderr",
     "output_type": "stream",
     "text": [
      "\r",
      " 87%|█████████████████████████████████████████████████████████████████████████████████████████████████████████████████▉                 | 522/600 [02:08<00:17,  4.40it/s]"
     ]
    },
    {
     "name": "stderr",
     "output_type": "stream",
     "text": [
      "\r",
      " 87%|██████████████████████████████████████████████████████████████████████████████████████████████████████████████████▏                | 523/600 [02:09<00:17,  4.37it/s]"
     ]
    },
    {
     "name": "stderr",
     "output_type": "stream",
     "text": [
      "\r",
      " 87%|██████████████████████████████████████████████████████████████████████████████████████████████████████████████████▍                | 524/600 [02:09<00:17,  4.38it/s]"
     ]
    },
    {
     "name": "stderr",
     "output_type": "stream",
     "text": [
      "\r",
      " 88%|██████████████████████████████████████████████████████████████████████████████████████████████████████████████████▋                | 525/600 [02:09<00:17,  4.32it/s]"
     ]
    },
    {
     "name": "stderr",
     "output_type": "stream",
     "text": [
      "\r",
      " 88%|██████████████████████████████████████████████████████████████████████████████████████████████████████████████████▊                | 526/600 [02:09<00:17,  4.31it/s]"
     ]
    },
    {
     "name": "stderr",
     "output_type": "stream",
     "text": [
      "\r",
      " 88%|███████████████████████████████████████████████████████████████████████████████████████████████████████████████████                | 527/600 [02:10<00:16,  4.30it/s]"
     ]
    },
    {
     "name": "stderr",
     "output_type": "stream",
     "text": [
      "\r",
      " 88%|███████████████████████████████████████████████████████████████████████████████████████████████████████████████████▎               | 528/600 [02:10<00:16,  4.31it/s]"
     ]
    },
    {
     "name": "stderr",
     "output_type": "stream",
     "text": [
      "\r",
      " 88%|███████████████████████████████████████████████████████████████████████████████████████████████████████████████████▍               | 529/600 [02:10<00:16,  4.34it/s]"
     ]
    },
    {
     "name": "stderr",
     "output_type": "stream",
     "text": [
      "\r",
      " 88%|███████████████████████████████████████████████████████████████████████████████████████████████████████████████████▋               | 530/600 [02:10<00:16,  4.35it/s]"
     ]
    },
    {
     "name": "stderr",
     "output_type": "stream",
     "text": [
      "\r",
      " 88%|███████████████████████████████████████████████████████████████████████████████████████████████████████████████████▉               | 531/600 [02:11<00:15,  4.36it/s]"
     ]
    },
    {
     "name": "stderr",
     "output_type": "stream",
     "text": [
      "\r",
      " 89%|████████████████████████████████████████████████████████████████████████████████████████████████████████████████████▏              | 532/600 [02:11<00:15,  4.36it/s]"
     ]
    },
    {
     "name": "stderr",
     "output_type": "stream",
     "text": [
      "\r",
      " 89%|████████████████████████████████████████████████████████████████████████████████████████████████████████████████████▎              | 533/600 [02:11<00:15,  4.37it/s]"
     ]
    },
    {
     "name": "stderr",
     "output_type": "stream",
     "text": [
      "\r",
      " 89%|████████████████████████████████████████████████████████████████████████████████████████████████████████████████████▌              | 534/600 [02:11<00:15,  4.39it/s]"
     ]
    },
    {
     "name": "stderr",
     "output_type": "stream",
     "text": [
      "\r",
      " 89%|████████████████████████████████████████████████████████████████████████████████████████████████████████████████████▊              | 535/600 [02:11<00:14,  4.39it/s]"
     ]
    },
    {
     "name": "stderr",
     "output_type": "stream",
     "text": [
      "\r",
      " 89%|█████████████████████████████████████████████████████████████████████████████████████████████████████████████████████              | 536/600 [02:12<00:14,  4.40it/s]"
     ]
    },
    {
     "name": "stderr",
     "output_type": "stream",
     "text": [
      "\r",
      " 90%|█████████████████████████████████████████████████████████████████████████████████████████████████████████████████████▏             | 537/600 [02:12<00:14,  4.39it/s]"
     ]
    },
    {
     "name": "stderr",
     "output_type": "stream",
     "text": [
      "\r",
      " 90%|█████████████████████████████████████████████████████████████████████████████████████████████████████████████████████▍             | 538/600 [02:12<00:14,  4.39it/s]"
     ]
    },
    {
     "name": "stderr",
     "output_type": "stream",
     "text": [
      "\r",
      " 90%|█████████████████████████████████████████████████████████████████████████████████████████████████████████████████████▋             | 539/600 [02:12<00:13,  4.39it/s]"
     ]
    },
    {
     "name": "stderr",
     "output_type": "stream",
     "text": [
      "\r",
      " 90%|█████████████████████████████████████████████████████████████████████████████████████████████████████████████████████▉             | 540/600 [02:13<00:13,  4.40it/s]"
     ]
    },
    {
     "name": "stderr",
     "output_type": "stream",
     "text": [
      "\r",
      " 90%|██████████████████████████████████████████████████████████████████████████████████████████████████████████████████████             | 541/600 [02:13<00:13,  4.38it/s]"
     ]
    },
    {
     "name": "stderr",
     "output_type": "stream",
     "text": [
      "\r",
      " 90%|██████████████████████████████████████████████████████████████████████████████████████████████████████████████████████▎            | 542/600 [02:13<00:13,  4.37it/s]"
     ]
    },
    {
     "name": "stderr",
     "output_type": "stream",
     "text": [
      "\r",
      " 90%|██████████████████████████████████████████████████████████████████████████████████████████████████████████████████████▌            | 543/600 [02:13<00:13,  4.37it/s]"
     ]
    },
    {
     "name": "stderr",
     "output_type": "stream",
     "text": [
      "\r",
      " 91%|██████████████████████████████████████████████████████████████████████████████████████████████████████████████████████▊            | 544/600 [02:14<00:12,  4.37it/s]"
     ]
    },
    {
     "name": "stderr",
     "output_type": "stream",
     "text": [
      "\r",
      " 91%|██████████████████████████████████████████████████████████████████████████████████████████████████████████████████████▉            | 545/600 [02:14<00:12,  4.37it/s]"
     ]
    },
    {
     "name": "stderr",
     "output_type": "stream",
     "text": [
      "\r",
      " 91%|███████████████████████████████████████████████████████████████████████████████████████████████████████████████████████▏           | 546/600 [02:14<00:12,  4.38it/s]"
     ]
    },
    {
     "name": "stderr",
     "output_type": "stream",
     "text": [
      "\r",
      " 91%|███████████████████████████████████████████████████████████████████████████████████████████████████████████████████████▍           | 547/600 [02:14<00:12,  4.40it/s]"
     ]
    },
    {
     "name": "stderr",
     "output_type": "stream",
     "text": [
      "\r",
      " 91%|███████████████████████████████████████████████████████████████████████████████████████████████████████████████████████▋           | 548/600 [02:14<00:11,  4.37it/s]"
     ]
    },
    {
     "name": "stderr",
     "output_type": "stream",
     "text": [
      "\r",
      " 92%|███████████████████████████████████████████████████████████████████████████████████████████████████████████████████████▊           | 549/600 [02:15<00:11,  4.37it/s]"
     ]
    },
    {
     "name": "stderr",
     "output_type": "stream",
     "text": [
      "\r",
      " 92%|████████████████████████████████████████████████████████████████████████████████████████████████████████████████████████           | 550/600 [02:15<00:11,  4.37it/s]"
     ]
    },
    {
     "name": "stderr",
     "output_type": "stream",
     "text": [
      "\r",
      " 92%|████████████████████████████████████████████████████████████████████████████████████████████████████████████████████████▎          | 551/600 [02:15<00:11,  4.38it/s]"
     ]
    },
    {
     "name": "stderr",
     "output_type": "stream",
     "text": [
      "\r",
      " 92%|████████████████████████████████████████████████████████████████████████████████████████████████████████████████████████▌          | 552/600 [02:15<00:10,  4.39it/s]"
     ]
    },
    {
     "name": "stderr",
     "output_type": "stream",
     "text": [
      "\r",
      " 92%|████████████████████████████████████████████████████████████████████████████████████████████████████████████████████████▋          | 553/600 [02:16<00:10,  4.38it/s]"
     ]
    },
    {
     "name": "stderr",
     "output_type": "stream",
     "text": [
      "\r",
      " 92%|████████████████████████████████████████████████████████████████████████████████████████████████████████████████████████▉          | 554/600 [02:16<00:10,  4.39it/s]"
     ]
    },
    {
     "name": "stderr",
     "output_type": "stream",
     "text": [
      "\r",
      " 92%|█████████████████████████████████████████████████████████████████████████████████████████████████████████████████████████▏         | 555/600 [02:16<00:10,  4.39it/s]"
     ]
    },
    {
     "name": "stderr",
     "output_type": "stream",
     "text": [
      "\r",
      " 93%|█████████████████████████████████████████████████████████████████████████████████████████████████████████████████████████▍         | 556/600 [02:16<00:09,  4.41it/s]"
     ]
    },
    {
     "name": "stderr",
     "output_type": "stream",
     "text": [
      "\r",
      " 93%|█████████████████████████████████████████████████████████████████████████████████████████████████████████████████████████▌         | 557/600 [02:16<00:09,  4.41it/s]"
     ]
    },
    {
     "name": "stderr",
     "output_type": "stream",
     "text": [
      "\r",
      " 93%|█████████████████████████████████████████████████████████████████████████████████████████████████████████████████████████▊         | 558/600 [02:17<00:09,  4.40it/s]"
     ]
    },
    {
     "name": "stderr",
     "output_type": "stream",
     "text": [
      "\r",
      " 93%|██████████████████████████████████████████████████████████████████████████████████████████████████████████████████████████         | 559/600 [02:17<00:09,  4.39it/s]"
     ]
    },
    {
     "name": "stderr",
     "output_type": "stream",
     "text": [
      "\r",
      " 93%|██████████████████████████████████████████████████████████████████████████████████████████████████████████████████████████▎        | 560/600 [02:17<00:09,  4.38it/s]"
     ]
    },
    {
     "name": "stderr",
     "output_type": "stream",
     "text": [
      "\r",
      " 94%|██████████████████████████████████████████████████████████████████████████████████████████████████████████████████████████▍        | 561/600 [02:17<00:08,  4.39it/s]"
     ]
    },
    {
     "name": "stderr",
     "output_type": "stream",
     "text": [
      "\r",
      " 94%|██████████████████████████████████████████████████████████████████████████████████████████████████████████████████████████▋        | 562/600 [02:18<00:08,  4.39it/s]"
     ]
    },
    {
     "name": "stderr",
     "output_type": "stream",
     "text": [
      "\r",
      " 94%|██████████████████████████████████████████████████████████████████████████████████████████████████████████████████████████▉        | 563/600 [02:18<00:08,  4.40it/s]"
     ]
    },
    {
     "name": "stderr",
     "output_type": "stream",
     "text": [
      "\r",
      " 94%|███████████████████████████████████████████████████████████████████████████████████████████████████████████████████████████▏       | 564/600 [02:18<00:08,  4.41it/s]"
     ]
    },
    {
     "name": "stderr",
     "output_type": "stream",
     "text": [
      "\r",
      " 94%|███████████████████████████████████████████████████████████████████████████████████████████████████████████████████████████▎       | 565/600 [02:18<00:07,  4.41it/s]"
     ]
    },
    {
     "name": "stderr",
     "output_type": "stream",
     "text": [
      "\r",
      " 94%|███████████████████████████████████████████████████████████████████████████████████████████████████████████████████████████▌       | 566/600 [02:19<00:07,  4.41it/s]"
     ]
    },
    {
     "name": "stderr",
     "output_type": "stream",
     "text": [
      "\r",
      " 94%|███████████████████████████████████████████████████████████████████████████████████████████████████████████████████████████▊       | 567/600 [02:19<00:07,  4.41it/s]"
     ]
    },
    {
     "name": "stderr",
     "output_type": "stream",
     "text": [
      "\r",
      " 95%|████████████████████████████████████████████████████████████████████████████████████████████████████████████████████████████       | 568/600 [02:19<00:07,  4.41it/s]"
     ]
    },
    {
     "name": "stderr",
     "output_type": "stream",
     "text": [
      "\r",
      " 95%|████████████████████████████████████████████████████████████████████████████████████████████████████████████████████████████▏      | 569/600 [02:19<00:07,  4.39it/s]"
     ]
    },
    {
     "name": "stderr",
     "output_type": "stream",
     "text": [
      "\r",
      " 95%|████████████████████████████████████████████████████████████████████████████████████████████████████████████████████████████▍      | 570/600 [02:19<00:06,  4.34it/s]"
     ]
    },
    {
     "name": "stderr",
     "output_type": "stream",
     "text": [
      "\r",
      " 95%|████████████████████████████████████████████████████████████████████████████████████████████████████████████████████████████▋      | 571/600 [02:20<00:06,  4.36it/s]"
     ]
    },
    {
     "name": "stderr",
     "output_type": "stream",
     "text": [
      "\r",
      " 95%|████████████████████████████████████████████████████████████████████████████████████████████████████████████████████████████▉      | 572/600 [02:20<00:06,  4.37it/s]"
     ]
    },
    {
     "name": "stderr",
     "output_type": "stream",
     "text": [
      "\r",
      " 96%|█████████████████████████████████████████████████████████████████████████████████████████████████████████████████████████████      | 573/600 [02:20<00:06,  4.39it/s]"
     ]
    },
    {
     "name": "stderr",
     "output_type": "stream",
     "text": [
      "\r",
      " 96%|█████████████████████████████████████████████████████████████████████████████████████████████████████████████████████████████▎     | 574/600 [02:20<00:05,  4.39it/s]"
     ]
    },
    {
     "name": "stderr",
     "output_type": "stream",
     "text": [
      "\r",
      " 96%|█████████████████████████████████████████████████████████████████████████████████████████████████████████████████████████████▌     | 575/600 [02:21<00:05,  4.40it/s]"
     ]
    },
    {
     "name": "stderr",
     "output_type": "stream",
     "text": [
      "\r",
      " 96%|█████████████████████████████████████████████████████████████████████████████████████████████████████████████████████████████▊     | 576/600 [02:21<00:05,  4.40it/s]"
     ]
    },
    {
     "name": "stderr",
     "output_type": "stream",
     "text": [
      "\r",
      " 96%|█████████████████████████████████████████████████████████████████████████████████████████████████████████████████████████████▉     | 577/600 [02:21<00:05,  4.40it/s]"
     ]
    },
    {
     "name": "stderr",
     "output_type": "stream",
     "text": [
      "\r",
      " 96%|██████████████████████████████████████████████████████████████████████████████████████████████████████████████████████████████▏    | 578/600 [02:21<00:05,  4.38it/s]"
     ]
    },
    {
     "name": "stderr",
     "output_type": "stream",
     "text": [
      "\r",
      " 96%|██████████████████████████████████████████████████████████████████████████████████████████████████████████████████████████████▍    | 579/600 [02:21<00:04,  4.38it/s]"
     ]
    },
    {
     "name": "stderr",
     "output_type": "stream",
     "text": [
      "\r",
      " 97%|██████████████████████████████████████████████████████████████████████████████████████████████████████████████████████████████▋    | 580/600 [02:22<00:04,  4.36it/s]"
     ]
    },
    {
     "name": "stderr",
     "output_type": "stream",
     "text": [
      "\r",
      " 97%|██████████████████████████████████████████████████████████████████████████████████████████████████████████████████████████████▊    | 581/600 [02:22<00:04,  4.35it/s]"
     ]
    },
    {
     "name": "stderr",
     "output_type": "stream",
     "text": [
      "\r",
      " 97%|███████████████████████████████████████████████████████████████████████████████████████████████████████████████████████████████    | 582/600 [02:22<00:04,  4.35it/s]"
     ]
    },
    {
     "name": "stderr",
     "output_type": "stream",
     "text": [
      "\r",
      " 97%|███████████████████████████████████████████████████████████████████████████████████████████████████████████████████████████████▎   | 583/600 [02:22<00:03,  4.35it/s]"
     ]
    },
    {
     "name": "stderr",
     "output_type": "stream",
     "text": [
      "\r",
      " 97%|███████████████████████████████████████████████████████████████████████████████████████████████████████████████████████████████▌   | 584/600 [02:23<00:03,  4.39it/s]"
     ]
    },
    {
     "name": "stderr",
     "output_type": "stream",
     "text": [
      "\r",
      " 98%|███████████████████████████████████████████████████████████████████████████████████████████████████████████████████████████████▋   | 585/600 [02:23<00:03,  4.39it/s]"
     ]
    },
    {
     "name": "stderr",
     "output_type": "stream",
     "text": [
      "\r",
      " 98%|███████████████████████████████████████████████████████████████████████████████████████████████████████████████████████████████▉   | 586/600 [02:23<00:03,  4.39it/s]"
     ]
    },
    {
     "name": "stderr",
     "output_type": "stream",
     "text": [
      "\r",
      " 98%|████████████████████████████████████████████████████████████████████████████████████████████████████████████████████████████████▏  | 587/600 [02:23<00:02,  4.36it/s]"
     ]
    },
    {
     "name": "stderr",
     "output_type": "stream",
     "text": [
      "\r",
      " 98%|████████████████████████████████████████████████████████████████████████████████████████████████████████████████████████████████▍  | 588/600 [02:24<00:02,  4.37it/s]"
     ]
    },
    {
     "name": "stderr",
     "output_type": "stream",
     "text": [
      "\r",
      " 98%|████████████████████████████████████████████████████████████████████████████████████████████████████████████████████████████████▌  | 589/600 [02:24<00:02,  4.38it/s]"
     ]
    },
    {
     "name": "stderr",
     "output_type": "stream",
     "text": [
      "\r",
      " 98%|████████████████████████████████████████████████████████████████████████████████████████████████████████████████████████████████▊  | 590/600 [02:24<00:02,  4.37it/s]"
     ]
    },
    {
     "name": "stderr",
     "output_type": "stream",
     "text": [
      "\r",
      " 98%|█████████████████████████████████████████████████████████████████████████████████████████████████████████████████████████████████  | 591/600 [02:24<00:02,  4.38it/s]"
     ]
    },
    {
     "name": "stderr",
     "output_type": "stream",
     "text": [
      "\r",
      " 99%|█████████████████████████████████████████████████████████████████████████████████████████████████████████████████████████████████▎ | 592/600 [02:24<00:01,  4.37it/s]"
     ]
    },
    {
     "name": "stderr",
     "output_type": "stream",
     "text": [
      "\r",
      " 99%|█████████████████████████████████████████████████████████████████████████████████████████████████████████████████████████████████▍ | 593/600 [02:25<00:01,  4.39it/s]"
     ]
    },
    {
     "name": "stderr",
     "output_type": "stream",
     "text": [
      "\r",
      " 99%|█████████████████████████████████████████████████████████████████████████████████████████████████████████████████████████████████▋ | 594/600 [02:25<00:01,  4.38it/s]"
     ]
    },
    {
     "name": "stderr",
     "output_type": "stream",
     "text": [
      "\r",
      " 99%|█████████████████████████████████████████████████████████████████████████████████████████████████████████████████████████████████▉ | 595/600 [02:25<00:01,  4.38it/s]"
     ]
    },
    {
     "name": "stderr",
     "output_type": "stream",
     "text": [
      "\r",
      " 99%|██████████████████████████████████████████████████████████████████████████████████████████████████████████████████████████████████▏| 596/600 [02:25<00:00,  4.37it/s]"
     ]
    },
    {
     "name": "stderr",
     "output_type": "stream",
     "text": [
      "\r",
      "100%|██████████████████████████████████████████████████████████████████████████████████████████████████████████████████████████████████▎| 597/600 [02:26<00:00,  4.38it/s]"
     ]
    },
    {
     "name": "stderr",
     "output_type": "stream",
     "text": [
      "\r",
      "100%|██████████████████████████████████████████████████████████████████████████████████████████████████████████████████████████████████▌| 598/600 [02:26<00:00,  4.39it/s]"
     ]
    },
    {
     "name": "stderr",
     "output_type": "stream",
     "text": [
      "\r",
      "100%|██████████████████████████████████████████████████████████████████████████████████████████████████████████████████████████████████▊| 599/600 [02:26<00:00,  4.40it/s]"
     ]
    },
    {
     "name": "stderr",
     "output_type": "stream",
     "text": [
      "\r",
      "100%|███████████████████████████████████████████████████████████████████████████████████████████████████████████████████████████████████| 600/600 [02:26<00:00,  4.39it/s]"
     ]
    },
    {
     "name": "stderr",
     "output_type": "stream",
     "text": [
      "\r",
      "100%|███████████████████████████████████████████████████████████████████████████████████████████████████████████████████████████████████| 600/600 [02:26<00:00,  4.09it/s]"
     ]
    },
    {
     "name": "stderr",
     "output_type": "stream",
     "text": [
      "\n"
     ]
    },
    {
     "data": {
      "text/plain": [
       "(<Figure size 960x720 with 1 Axes>,\n",
       " <Axes: xlabel='Descent step', ylabel='log10(Mean square error)'>)"
      ]
     },
     "execution_count": 5,
     "metadata": {},
     "output_type": "execute_result"
    },
    {
     "data": {
      "application/vnd.jupyter.widget-view+json": {
       "model_id": "bb6c1d31a33f42d0a5792db4f9081221",
       "version_major": 2,
       "version_minor": 0
      },
      "image/png": "[encoded data removed]",
      "text/html": [
       "\n",
       "            <div style=\"display: inline-block;\">\n",
       "                <div class=\"jupyter-widgets widget-label\" style=\"text-align: center;\">\n",
       "                    Figure\n",
       "                </div>\n",
       "                <img src='data:image/png;base64,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' width=960.0/>\n",
       "            </div>\n",
       "        "
      ],
      "text/plain": [
       "Canvas(toolbar=Toolbar(toolitems=[('Home', 'Reset original view', 'home', 'home'), ('Back', 'Back to previous …"
      ]
     },
     "metadata": {},
     "output_type": "display_data"
    }
   ],
   "source": [
    "iq = ImageQuant2(img=imgs, roi=rois, cytbg=cytbg, membg=membg)\n",
    "iq.quantify()\n",
    "iq.plot_losses(log=True)"
   ]
  },
  {
   "cell_type": "markdown",
   "metadata": {},
   "source": [
    "### Save results"
   ]
  },
  {
   "cell_type": "code",
   "execution_count": 6,
   "metadata": {
    "execution": {
     "iopub.execute_input": "2024-05-17T12:56:21.618250Z",
     "iopub.status.busy": "2024-05-17T12:56:21.617956Z",
     "iopub.status.idle": "2024-05-17T12:56:25.297435Z",
     "shell.execute_reply": "2024-05-17T12:56:25.296396Z"
    }
   },
   "outputs": [],
   "source": [
    "res = iq.compile_res(ids=[str(x) for x in df[\"EmbryoID\"].to_list()])\n",
    "res[\"Membrane signal\"] *= calibration_factor\n",
    "res.to_csv(\"../../data/par2_nebd_quantification.csv\", index=False)"
   ]
  },
  {
   "cell_type": "code",
   "execution_count": null,
   "metadata": {},
   "outputs": [],
   "source": []
  }
 ],
 "metadata": {
  "kernelspec": {
   "display_name": "Python 3",
   "language": "python",
   "name": "python3"
  },
  "language_info": {
   "codemirror_mode": {
    "name": "ipython",
    "version": 3
   },
   "file_extension": ".py",
   "mimetype": "text/x-python",
   "name": "python",
   "nbconvert_exporter": "python",
   "pygments_lexer": "ipython3",
   "version": "3.11.6"
  },
  "widgets": {
   "application/vnd.jupyter.widget-state+json": {
    "state": {
     "4050d6b4310e4be8b6acab9d6d2782ba": {
      "model_module": "jupyter-matplotlib",
      "model_module_version": "^0.11",
      "model_name": "ToolbarModel",
      "state": {
       "_current_action": "",
       "_dom_classes": [],
       "_model_module": "jupyter-matplotlib",
       "_model_module_version": "^0.11",
       "_model_name": "ToolbarModel",
       "_view_count": null,
       "_view_module": "jupyter-matplotlib",
       "_view_module_version": "^0.11",
       "_view_name": "ToolbarView",
       "button_style": "",
       "collapsed": true,
       "layout": "IPY_MODEL_c4dc8bca1e5a4d72952cf1e94a041c92",
       "orientation": "vertical",
       "tabbable": null,
       "toolitems": [
        [
         "Home",
         "Reset original view",
         "home",
         "home"
        ],
        [
         "Back",
         "Back to previous view",
         "arrow-left",
         "back"
        ],
        [
         "Forward",
         "Forward to next view",
         "arrow-right",
         "forward"
        ],
        [
         "Pan",
         "Left button pans, Right button zooms\nx/y fixes axis, CTRL fixes aspect",
         "arrows",
         "pan"
        ],
        [
         "Zoom",
         "Zoom to rectangle\nx/y fixes axis",
         "square-o",
         "zoom"
        ],
        [
         "Download",
         "Download plot",
         "floppy-o",
         "save_figure"
        ]
       ],
       "tooltip": null
      }
     },
     "bb6c1d31a33f42d0a5792db4f9081221": {
      "model_module": "jupyter-matplotlib",
      "model_module_version": "^0.11",
      "model_name": "MPLCanvasModel",
      "state": {
       "_cursor": "pointer",
       "_data_url": "data:image/png;base64,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",
       "_dom_classes": [],
       "_figure_label": "Figure",
       "_image_mode": "full",
       "_message": "",
       "_model_module": "jupyter-matplotlib",
       "_model_module_version": "^0.11",
       "_model_name": "MPLCanvasModel",
       "_rubberband_height": 0,
       "_rubberband_width": 0,
       "_rubberband_x": 0,
       "_rubberband_y": 0,
       "_size": [
        960.0,
        720.0
       ],
       "_view_count": null,
       "_view_module": "jupyter-matplotlib",
       "_view_module_version": "^0.11",
       "_view_name": "MPLCanvasView",
       "capture_scroll": false,
       "footer_visible": true,
       "header_visible": true,
       "layout": "IPY_MODEL_ea6289d45cf84d30b0e0d60871af30da",
       "pan_zoom_throttle": 33.0,
       "resizable": true,
       "tabbable": null,
       "toolbar": "IPY_MODEL_4050d6b4310e4be8b6acab9d6d2782ba",
       "toolbar_position": "left",
       "toolbar_visible": "fade-in-fade-out",
       "tooltip": null
      }
     },
     "c4dc8bca1e5a4d72952cf1e94a041c92": {
      "model_module": "@jupyter-widgets/base",
      "model_module_version": "2.0.0",
      "model_name": "LayoutModel",
      "state": {
       "_model_module": "@jupyter-widgets/base",
       "_model_module_version": "2.0.0",
       "_model_name": "LayoutModel",
       "_view_count": null,
       "_view_module": "@jupyter-widgets/base",
       "_view_module_version": "2.0.0",
       "_view_name": "LayoutView",
       "align_content": null,
       "align_items": null,
       "align_self": null,
       "border_bottom": null,
       "border_left": null,
       "border_right": null,
       "border_top": null,
       "bottom": null,
       "display": null,
       "flex": null,
       "flex_flow": null,
       "grid_area": null,
       "grid_auto_columns": null,
       "grid_auto_flow": null,
       "grid_auto_rows": null,
       "grid_column": null,
       "grid_gap": null,
       "grid_row": null,
       "grid_template_areas": null,
       "grid_template_columns": null,
       "grid_template_rows": null,
       "height": null,
       "justify_content": null,
       "justify_items": null,
       "left": null,
       "margin": null,
       "max_height": null,
       "max_width": null,
       "min_height": null,
       "min_width": null,
       "object_fit": null,
       "object_position": null,
       "order": null,
       "overflow": null,
       "padding": null,
       "right": null,
       "top": null,
       "visibility": null,
       "width": null
      }
     },
     "ea6289d45cf84d30b0e0d60871af30da": {
      "model_module": "@jupyter-widgets/base",
      "model_module_version": "2.0.0",
      "model_name": "LayoutModel",
      "state": {
       "_model_module": "@jupyter-widgets/base",
       "_model_module_version": "2.0.0",
       "_model_name": "LayoutModel",
       "_view_count": null,
       "_view_module": "@jupyter-widgets/base",
       "_view_module_version": "2.0.0",
       "_view_name": "LayoutView",
       "align_content": null,
       "align_items": null,
       "align_self": null,
       "border_bottom": null,
       "border_left": null,
       "border_right": null,
       "border_top": null,
       "bottom": null,
       "display": null,
       "flex": null,
       "flex_flow": null,
       "grid_area": null,
       "grid_auto_columns": null,
       "grid_auto_flow": null,
       "grid_auto_rows": null,
       "grid_column": null,
       "grid_gap": null,
       "grid_row": null,
       "grid_template_areas": null,
       "grid_template_columns": null,
       "grid_template_rows": null,
       "height": null,
       "justify_content": null,
       "justify_items": null,
       "left": null,
       "margin": null,
       "max_height": null,
       "max_width": null,
       "min_height": null,
       "min_width": null,
       "object_fit": null,
       "object_position": null,
       "order": null,
       "overflow": null,
       "padding": null,
       "right": null,
       "top": null,
       "visibility": null,
       "width": null
      }
     }
    },
    "version_major": 2,
    "version_minor": 0
   }
  }
 },
 "nbformat": 4,
 "nbformat_minor": 4
}
