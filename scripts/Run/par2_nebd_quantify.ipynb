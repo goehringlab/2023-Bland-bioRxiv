{
 "cells": [
  {
   "cell_type": "code",
   "execution_count": 1,
   "metadata": {
    "execution": {
     "iopub.execute_input": "2023-08-03T16:11:23.812714Z",
     "iopub.status.busy": "2023-08-03T16:11:23.811907Z",
     "iopub.status.idle": "2023-08-03T16:11:35.895824Z",
     "shell.execute_reply": "2023-08-03T16:11:35.895140Z"
    }
   },
   "outputs": [],
   "source": [
    "import sys\n",
    "import numpy as np\n",
    "import pandas as pd\n",
    "sys.path.append('../..')\n",
    "from src import load_image, ImageQuant2, raw_data_path\n",
    "%matplotlib widget"
   ]
  },
  {
   "cell_type": "code",
   "execution_count": 2,
   "metadata": {
    "execution": {
     "iopub.execute_input": "2023-08-03T16:11:35.899289Z",
     "iopub.status.busy": "2023-08-03T16:11:35.898898Z",
     "iopub.status.idle": "2023-08-03T16:11:35.907050Z",
     "shell.execute_reply": "2023-08-03T16:11:35.906402Z"
    }
   },
   "outputs": [
    {
     "name": "stdout",
     "output_type": "stream",
     "text": [
      "3.105838399548696\n"
     ]
    }
   ],
   "source": [
    "# Import quantification moodel\n",
    "membg = np.loadtxt('../../data/calibration_mem6.txt')\n",
    "cytbg = np.loadtxt('../../data/calibration_cyt.txt')\n",
    "calibration_factor = np.loadtxt('../../data/calibration_constants.txt')[6]\n",
    "print(calibration_factor)"
   ]
  },
  {
   "cell_type": "code",
   "execution_count": 3,
   "metadata": {
    "execution": {
     "iopub.execute_input": "2023-08-03T16:11:35.910507Z",
     "iopub.status.busy": "2023-08-03T16:11:35.910023Z",
     "iopub.status.idle": "2023-08-03T16:11:35.931728Z",
     "shell.execute_reply": "2023-08-03T16:11:35.931073Z"
    }
   },
   "outputs": [
    {
     "data": {
      "text/html": [
       "<div>\n",
       "<style scoped>\n",
       "    .dataframe tbody tr th:only-of-type {\n",
       "        vertical-align: middle;\n",
       "    }\n",
       "\n",
       "    .dataframe tbody tr th {\n",
       "        vertical-align: top;\n",
       "    }\n",
       "\n",
       "    .dataframe thead th {\n",
       "        text-align: right;\n",
       "    }\n",
       "</style>\n",
       "<table border=\"1\" class=\"dataframe\">\n",
       "  <thead>\n",
       "    <tr style=\"text-align: right;\">\n",
       "      <th></th>\n",
       "      <th>Unnamed: 0</th>\n",
       "      <th>Path</th>\n",
       "      <th>EmbryoID</th>\n",
       "      <th>Line</th>\n",
       "      <th>Date</th>\n",
       "      <th>RNAi</th>\n",
       "    </tr>\n",
       "  </thead>\n",
       "  <tbody>\n",
       "    <tr>\n",
       "      <th>0</th>\n",
       "      <td>0</td>\n",
       "      <td>/Users/blandt/Desktop/PaperData//Imaging/par2_...</td>\n",
       "      <td>1580292350</td>\n",
       "      <td>lp637</td>\n",
       "      <td>200129</td>\n",
       "      <td>wt</td>\n",
       "    </tr>\n",
       "    <tr>\n",
       "      <th>1</th>\n",
       "      <td>1</td>\n",
       "      <td>/Users/blandt/Desktop/PaperData//Imaging/par2_...</td>\n",
       "      <td>1580292382</td>\n",
       "      <td>lp637</td>\n",
       "      <td>200129</td>\n",
       "      <td>wt</td>\n",
       "    </tr>\n",
       "    <tr>\n",
       "      <th>2</th>\n",
       "      <td>2</td>\n",
       "      <td>/Users/blandt/Desktop/PaperData//Imaging/par2_...</td>\n",
       "      <td>1580292449</td>\n",
       "      <td>lp637</td>\n",
       "      <td>200129</td>\n",
       "      <td>wt</td>\n",
       "    </tr>\n",
       "    <tr>\n",
       "      <th>3</th>\n",
       "      <td>3</td>\n",
       "      <td>/Users/blandt/Desktop/PaperData//Imaging/par2_...</td>\n",
       "      <td>1580292501</td>\n",
       "      <td>lp637</td>\n",
       "      <td>200129</td>\n",
       "      <td>wt</td>\n",
       "    </tr>\n",
       "    <tr>\n",
       "      <th>4</th>\n",
       "      <td>4</td>\n",
       "      <td>/Users/blandt/Desktop/PaperData//Imaging/par2_...</td>\n",
       "      <td>1580292520</td>\n",
       "      <td>lp637</td>\n",
       "      <td>200129</td>\n",
       "      <td>wt</td>\n",
       "    </tr>\n",
       "    <tr>\n",
       "      <th>...</th>\n",
       "      <td>...</td>\n",
       "      <td>...</td>\n",
       "      <td>...</td>\n",
       "      <td>...</td>\n",
       "      <td>...</td>\n",
       "      <td>...</td>\n",
       "    </tr>\n",
       "    <tr>\n",
       "      <th>664</th>\n",
       "      <td>664</td>\n",
       "      <td>/Users/blandt/Desktop/PaperData//Imaging/par2_...</td>\n",
       "      <td>1662545240</td>\n",
       "      <td>nwg496</td>\n",
       "      <td>220907</td>\n",
       "      <td>wt</td>\n",
       "    </tr>\n",
       "    <tr>\n",
       "      <th>665</th>\n",
       "      <td>665</td>\n",
       "      <td>/Users/blandt/Desktop/PaperData//Imaging/par2_...</td>\n",
       "      <td>1662545908</td>\n",
       "      <td>nwg496</td>\n",
       "      <td>220907</td>\n",
       "      <td>wt</td>\n",
       "    </tr>\n",
       "    <tr>\n",
       "      <th>666</th>\n",
       "      <td>666</td>\n",
       "      <td>/Users/blandt/Desktop/PaperData//Imaging/par2_...</td>\n",
       "      <td>1662546008</td>\n",
       "      <td>nwg496</td>\n",
       "      <td>220907</td>\n",
       "      <td>wt</td>\n",
       "    </tr>\n",
       "    <tr>\n",
       "      <th>667</th>\n",
       "      <td>667</td>\n",
       "      <td>/Users/blandt/Desktop/PaperData//Imaging/par2_...</td>\n",
       "      <td>1662546125</td>\n",
       "      <td>nwg496</td>\n",
       "      <td>220907</td>\n",
       "      <td>wt</td>\n",
       "    </tr>\n",
       "    <tr>\n",
       "      <th>668</th>\n",
       "      <td>668</td>\n",
       "      <td>/Users/blandt/Desktop/PaperData//Imaging/par2_...</td>\n",
       "      <td>1662546326</td>\n",
       "      <td>nwg496</td>\n",
       "      <td>220907</td>\n",
       "      <td>wt</td>\n",
       "    </tr>\n",
       "  </tbody>\n",
       "</table>\n",
       "<p>669 rows × 6 columns</p>\n",
       "</div>"
      ],
      "text/plain": [
       "     Unnamed: 0                                               Path  \\\n",
       "0             0  /Users/blandt/Desktop/PaperData//Imaging/par2_...   \n",
       "1             1  /Users/blandt/Desktop/PaperData//Imaging/par2_...   \n",
       "2             2  /Users/blandt/Desktop/PaperData//Imaging/par2_...   \n",
       "3             3  /Users/blandt/Desktop/PaperData//Imaging/par2_...   \n",
       "4             4  /Users/blandt/Desktop/PaperData//Imaging/par2_...   \n",
       "..          ...                                                ...   \n",
       "664         664  /Users/blandt/Desktop/PaperData//Imaging/par2_...   \n",
       "665         665  /Users/blandt/Desktop/PaperData//Imaging/par2_...   \n",
       "666         666  /Users/blandt/Desktop/PaperData//Imaging/par2_...   \n",
       "667         667  /Users/blandt/Desktop/PaperData//Imaging/par2_...   \n",
       "668         668  /Users/blandt/Desktop/PaperData//Imaging/par2_...   \n",
       "\n",
       "       EmbryoID    Line    Date RNAi  \n",
       "0    1580292350   lp637  200129   wt  \n",
       "1    1580292382   lp637  200129   wt  \n",
       "2    1580292449   lp637  200129   wt  \n",
       "3    1580292501   lp637  200129   wt  \n",
       "4    1580292520   lp637  200129   wt  \n",
       "..          ...     ...     ...  ...  \n",
       "664  1662545240  nwg496  220907   wt  \n",
       "665  1662545908  nwg496  220907   wt  \n",
       "666  1662546008  nwg496  220907   wt  \n",
       "667  1662546125  nwg496  220907   wt  \n",
       "668  1662546326  nwg496  220907   wt  \n",
       "\n",
       "[669 rows x 6 columns]"
      ]
     },
     "execution_count": 3,
     "metadata": {},
     "output_type": "execute_result"
    }
   ],
   "source": [
    "# Import embryos dataframe\n",
    "df = pd.read_csv('../../data/par2_nebd_embryos.csv')\n",
    "df['Path'] = df['Path'].apply(lambda x: raw_data_path + x)"
   ]
  },
  {
   "cell_type": "markdown",
   "metadata": {},
   "source": [
    "### Import data"
   ]
  },
  {
   "cell_type": "code",
   "execution_count": 4,
   "metadata": {
    "execution": {
     "iopub.execute_input": "2023-08-03T16:11:35.935260Z",
     "iopub.status.busy": "2023-08-03T16:11:35.934983Z",
     "iopub.status.idle": "2023-08-03T16:12:19.871457Z",
     "shell.execute_reply": "2023-08-03T16:12:19.867586Z"
    }
   },
   "outputs": [],
   "source": [
    "paths = df.Path.to_list()\n",
    "lines = df.Line.to_list()\n",
    "imgs = [load_image(p + '/af_corrected.tif') for p in paths]\n",
    "rois = [np.loadtxt(p + '/ROI_fit.txt') if l != 'n2' else np.loadtxt(p + '/ROI_manual.txt') for p, l in zip(paths, lines)]"
   ]
  },
  {
   "cell_type": "markdown",
   "metadata": {},
   "source": [
    "### Run quantification"
   ]
  },
  {
   "cell_type": "code",
   "execution_count": 5,
   "metadata": {
    "execution": {
     "iopub.execute_input": "2023-08-03T16:12:19.879751Z",
     "iopub.status.busy": "2023-08-03T16:12:19.878956Z",
     "iopub.status.idle": "2023-08-03T16:14:39.423643Z",
     "shell.execute_reply": "2023-08-03T16:14:39.421998Z"
    },
    "scrolled": false
   },
   "outputs": [
    {
     "name": "stderr",
     "output_type": "stream",
     "text": [
      "\r\n",
      "  0%|                                                                                                                      | 0/600 [00:00<?, ?it/s]"
     ]
    },
    {
     "name": "stderr",
     "output_type": "stream",
     "text": [
      "\r\n",
      "  0%|▏                                                                                                             | 1/600 [00:04<42:49,  4.29s/it]"
     ]
    },
    {
     "name": "stderr",
     "output_type": "stream",
     "text": [
      "\r\n",
      "  0%|▎                                                                                                             | 2/600 [00:04<18:21,  1.84s/it]"
     ]
    },
    {
     "name": "stderr",
     "output_type": "stream",
     "text": [
      "\r\n",
      "  0%|▌                                                                                                             | 3/600 [00:04<10:32,  1.06s/it]"
     ]
    },
    {
     "name": "stderr",
     "output_type": "stream",
     "text": [
      "\r\n",
      "  1%|▋                                                                                                             | 4/600 [00:04<06:50,  1.45it/s]"
     ]
    },
    {
     "name": "stderr",
     "output_type": "stream",
     "text": [
      "\r\n",
      "  1%|▉                                                                                                             | 5/600 [00:04<04:48,  2.06it/s]"
     ]
    },
    {
     "name": "stderr",
     "output_type": "stream",
     "text": [
      "\r\n",
      "  1%|█                                                                                                             | 6/600 [00:04<03:38,  2.71it/s]"
     ]
    },
    {
     "name": "stderr",
     "output_type": "stream",
     "text": [
      "\r\n",
      "  1%|█▎                                                                                                            | 7/600 [00:05<02:56,  3.36it/s]"
     ]
    },
    {
     "name": "stderr",
     "output_type": "stream",
     "text": [
      "\r\n",
      "  1%|█▍                                                                                                            | 8/600 [00:05<02:25,  4.06it/s]"
     ]
    },
    {
     "name": "stderr",
     "output_type": "stream",
     "text": [
      "\r\n",
      "  2%|█▋                                                                                                            | 9/600 [00:05<02:05,  4.72it/s]"
     ]
    },
    {
     "name": "stderr",
     "output_type": "stream",
     "text": [
      "\r\n",
      "  2%|█▊                                                                                                           | 10/600 [00:05<01:48,  5.43it/s]"
     ]
    },
    {
     "name": "stderr",
     "output_type": "stream",
     "text": [
      "\r\n",
      "  2%|█▉                                                                                                           | 11/600 [00:05<01:40,  5.88it/s]"
     ]
    },
    {
     "name": "stderr",
     "output_type": "stream",
     "text": [
      "\r\n",
      "  2%|██▏                                                                                                          | 12/600 [00:05<01:32,  6.38it/s]"
     ]
    },
    {
     "name": "stderr",
     "output_type": "stream",
     "text": [
      "\r\n",
      "  2%|██▎                                                                                                          | 13/600 [00:05<01:26,  6.82it/s]"
     ]
    },
    {
     "name": "stderr",
     "output_type": "stream",
     "text": [
      "\r\n",
      "  2%|██▌                                                                                                          | 14/600 [00:06<01:23,  6.98it/s]"
     ]
    },
    {
     "name": "stderr",
     "output_type": "stream",
     "text": [
      "\r\n",
      "  2%|██▋                                                                                                          | 15/600 [00:06<01:31,  6.38it/s]"
     ]
    },
    {
     "name": "stderr",
     "output_type": "stream",
     "text": [
      "\r\n",
      "  3%|██▉                                                                                                          | 16/600 [00:06<01:28,  6.57it/s]"
     ]
    },
    {
     "name": "stderr",
     "output_type": "stream",
     "text": [
      "\r\n",
      "  3%|███                                                                                                          | 17/600 [00:06<01:54,  5.08it/s]"
     ]
    },
    {
     "name": "stderr",
     "output_type": "stream",
     "text": [
      "\r\n",
      "  3%|███▎                                                                                                         | 18/600 [00:06<01:53,  5.11it/s]"
     ]
    },
    {
     "name": "stderr",
     "output_type": "stream",
     "text": [
      "\r\n",
      "  3%|███▍                                                                                                         | 19/600 [00:07<01:52,  5.15it/s]"
     ]
    },
    {
     "name": "stderr",
     "output_type": "stream",
     "text": [
      "\r\n",
      "  3%|███▋                                                                                                         | 20/600 [00:07<01:47,  5.42it/s]"
     ]
    },
    {
     "name": "stderr",
     "output_type": "stream",
     "text": [
      "\r\n",
      "  4%|███▊                                                                                                         | 21/600 [00:07<01:45,  5.48it/s]"
     ]
    },
    {
     "name": "stderr",
     "output_type": "stream",
     "text": [
      "\r\n",
      "  4%|███▉                                                                                                         | 22/600 [00:07<01:45,  5.50it/s]"
     ]
    },
    {
     "name": "stderr",
     "output_type": "stream",
     "text": [
      "\r\n",
      "  4%|████▏                                                                                                        | 23/600 [00:07<01:43,  5.57it/s]"
     ]
    },
    {
     "name": "stderr",
     "output_type": "stream",
     "text": [
      "\r\n",
      "  4%|████▎                                                                                                        | 24/600 [00:07<01:38,  5.85it/s]"
     ]
    },
    {
     "name": "stderr",
     "output_type": "stream",
     "text": [
      "\r\n",
      "  4%|████▌                                                                                                        | 25/600 [00:07<01:30,  6.32it/s]"
     ]
    },
    {
     "name": "stderr",
     "output_type": "stream",
     "text": [
      "\r\n",
      "  4%|████▋                                                                                                        | 26/600 [00:08<01:25,  6.70it/s]"
     ]
    },
    {
     "name": "stderr",
     "output_type": "stream",
     "text": [
      "\r\n",
      "  4%|████▉                                                                                                        | 27/600 [00:08<01:24,  6.76it/s]"
     ]
    },
    {
     "name": "stderr",
     "output_type": "stream",
     "text": [
      "\r\n",
      "  5%|█████                                                                                                        | 28/600 [00:08<01:31,  6.26it/s]"
     ]
    },
    {
     "name": "stderr",
     "output_type": "stream",
     "text": [
      "\r\n",
      "  5%|█████▎                                                                                                       | 29/600 [00:08<01:32,  6.19it/s]"
     ]
    },
    {
     "name": "stderr",
     "output_type": "stream",
     "text": [
      "\r\n",
      "  5%|█████▍                                                                                                       | 30/600 [00:08<01:27,  6.55it/s]"
     ]
    },
    {
     "name": "stderr",
     "output_type": "stream",
     "text": [
      "\r\n",
      "  5%|█████▋                                                                                                       | 31/600 [00:08<01:22,  6.88it/s]"
     ]
    },
    {
     "name": "stderr",
     "output_type": "stream",
     "text": [
      "\r\n",
      "  5%|█████▊                                                                                                       | 32/600 [00:08<01:16,  7.45it/s]"
     ]
    },
    {
     "name": "stderr",
     "output_type": "stream",
     "text": [
      "\r\n",
      "  6%|█████▉                                                                                                       | 33/600 [00:09<01:10,  8.01it/s]"
     ]
    },
    {
     "name": "stderr",
     "output_type": "stream",
     "text": [
      "\r\n",
      "  6%|██████▏                                                                                                      | 34/600 [00:09<01:09,  8.11it/s]"
     ]
    },
    {
     "name": "stderr",
     "output_type": "stream",
     "text": [
      "\r\n",
      "  6%|██████▎                                                                                                      | 35/600 [00:09<01:18,  7.18it/s]"
     ]
    },
    {
     "name": "stderr",
     "output_type": "stream",
     "text": [
      "\r\n",
      "  6%|██████▌                                                                                                      | 36/600 [00:09<01:29,  6.27it/s]"
     ]
    },
    {
     "name": "stderr",
     "output_type": "stream",
     "text": [
      "\r\n",
      "  6%|██████▋                                                                                                      | 37/600 [00:09<01:24,  6.69it/s]"
     ]
    },
    {
     "name": "stderr",
     "output_type": "stream",
     "text": [
      "\r\n",
      "  6%|██████▉                                                                                                      | 38/600 [00:09<01:21,  6.88it/s]"
     ]
    },
    {
     "name": "stderr",
     "output_type": "stream",
     "text": [
      "\r\n",
      "  6%|███████                                                                                                      | 39/600 [00:10<01:22,  6.83it/s]"
     ]
    },
    {
     "name": "stderr",
     "output_type": "stream",
     "text": [
      "\r\n",
      "  7%|███████▎                                                                                                     | 40/600 [00:10<01:21,  6.88it/s]"
     ]
    },
    {
     "name": "stderr",
     "output_type": "stream",
     "text": [
      "\r\n",
      "  7%|███████▍                                                                                                     | 41/600 [00:10<01:22,  6.80it/s]"
     ]
    },
    {
     "name": "stderr",
     "output_type": "stream",
     "text": [
      "\r\n",
      "  7%|███████▋                                                                                                     | 42/600 [00:10<01:22,  6.80it/s]"
     ]
    },
    {
     "name": "stderr",
     "output_type": "stream",
     "text": [
      "\r\n",
      "  7%|███████▊                                                                                                     | 43/600 [00:10<01:48,  5.13it/s]"
     ]
    },
    {
     "name": "stderr",
     "output_type": "stream",
     "text": [
      "\r\n",
      "  7%|███████▉                                                                                                     | 44/600 [00:10<01:42,  5.43it/s]"
     ]
    },
    {
     "name": "stderr",
     "output_type": "stream",
     "text": [
      "\r\n",
      "  8%|████████▏                                                                                                    | 45/600 [00:11<01:35,  5.79it/s]"
     ]
    },
    {
     "name": "stderr",
     "output_type": "stream",
     "text": [
      "\r\n",
      "  8%|████████▎                                                                                                    | 46/600 [00:11<01:27,  6.35it/s]"
     ]
    },
    {
     "name": "stderr",
     "output_type": "stream",
     "text": [
      "\r\n",
      "  8%|████████▌                                                                                                    | 47/600 [00:11<01:22,  6.67it/s]"
     ]
    },
    {
     "name": "stderr",
     "output_type": "stream",
     "text": [
      "\r\n",
      "  8%|████████▋                                                                                                    | 48/600 [00:11<01:17,  7.10it/s]"
     ]
    },
    {
     "name": "stderr",
     "output_type": "stream",
     "text": [
      "\r\n",
      "  8%|████████▉                                                                                                    | 49/600 [00:11<01:16,  7.23it/s]"
     ]
    },
    {
     "name": "stderr",
     "output_type": "stream",
     "text": [
      "\r\n",
      "  8%|█████████                                                                                                    | 50/600 [00:11<01:27,  6.32it/s]"
     ]
    },
    {
     "name": "stderr",
     "output_type": "stream",
     "text": [
      "\r\n",
      "  8%|█████████▎                                                                                                   | 51/600 [00:11<01:26,  6.37it/s]"
     ]
    },
    {
     "name": "stderr",
     "output_type": "stream",
     "text": [
      "\r\n",
      "  9%|█████████▍                                                                                                   | 52/600 [00:12<01:20,  6.82it/s]"
     ]
    },
    {
     "name": "stderr",
     "output_type": "stream",
     "text": [
      "\r\n",
      "  9%|█████████▋                                                                                                   | 53/600 [00:12<01:16,  7.11it/s]"
     ]
    },
    {
     "name": "stderr",
     "output_type": "stream",
     "text": [
      "\r\n",
      "  9%|█████████▊                                                                                                   | 54/600 [00:12<01:13,  7.38it/s]"
     ]
    },
    {
     "name": "stderr",
     "output_type": "stream",
     "text": [
      "\r\n",
      "  9%|█████████▉                                                                                                   | 55/600 [00:12<01:13,  7.44it/s]"
     ]
    },
    {
     "name": "stderr",
     "output_type": "stream",
     "text": [
      "\r\n",
      "  9%|██████████▏                                                                                                  | 56/600 [00:12<01:13,  7.37it/s]"
     ]
    },
    {
     "name": "stderr",
     "output_type": "stream",
     "text": [
      "\r\n",
      " 10%|██████████▎                                                                                                  | 57/600 [00:12<01:11,  7.56it/s]"
     ]
    },
    {
     "name": "stderr",
     "output_type": "stream",
     "text": [
      "\r\n",
      " 10%|██████████▌                                                                                                  | 58/600 [00:12<01:20,  6.70it/s]"
     ]
    },
    {
     "name": "stderr",
     "output_type": "stream",
     "text": [
      "\r\n",
      " 10%|██████████▋                                                                                                  | 59/600 [00:13<01:25,  6.36it/s]"
     ]
    },
    {
     "name": "stderr",
     "output_type": "stream",
     "text": [
      "\r\n",
      " 10%|██████████▉                                                                                                  | 60/600 [00:13<01:24,  6.38it/s]"
     ]
    },
    {
     "name": "stderr",
     "output_type": "stream",
     "text": [
      "\r\n",
      " 10%|███████████                                                                                                  | 61/600 [00:13<01:25,  6.30it/s]"
     ]
    },
    {
     "name": "stderr",
     "output_type": "stream",
     "text": [
      "\r\n",
      " 10%|███████████▎                                                                                                 | 62/600 [00:13<01:17,  6.92it/s]"
     ]
    },
    {
     "name": "stderr",
     "output_type": "stream",
     "text": [
      "\r\n",
      " 10%|███████████▍                                                                                                 | 63/600 [00:13<01:13,  7.31it/s]"
     ]
    },
    {
     "name": "stderr",
     "output_type": "stream",
     "text": [
      "\r\n",
      " 11%|███████████▋                                                                                                 | 64/600 [00:13<01:10,  7.56it/s]"
     ]
    },
    {
     "name": "stderr",
     "output_type": "stream",
     "text": [
      "\r\n",
      " 11%|███████████▊                                                                                                 | 65/600 [00:13<01:08,  7.80it/s]"
     ]
    },
    {
     "name": "stderr",
     "output_type": "stream",
     "text": [
      "\r\n",
      " 11%|███████████▉                                                                                                 | 66/600 [00:13<01:07,  7.95it/s]"
     ]
    },
    {
     "name": "stderr",
     "output_type": "stream",
     "text": [
      "\r\n",
      " 11%|████████████▏                                                                                                | 67/600 [00:14<01:05,  8.11it/s]"
     ]
    },
    {
     "name": "stderr",
     "output_type": "stream",
     "text": [
      "\r\n",
      " 11%|████████████▎                                                                                                | 68/600 [00:14<01:05,  8.15it/s]"
     ]
    },
    {
     "name": "stderr",
     "output_type": "stream",
     "text": [
      "\r\n",
      " 12%|████████████▌                                                                                                | 69/600 [00:14<01:05,  8.08it/s]"
     ]
    },
    {
     "name": "stderr",
     "output_type": "stream",
     "text": [
      "\r\n",
      " 12%|████████████▋                                                                                                | 70/600 [00:14<01:11,  7.37it/s]"
     ]
    },
    {
     "name": "stderr",
     "output_type": "stream",
     "text": [
      "\r\n",
      " 12%|████████████▉                                                                                                | 71/600 [00:14<01:31,  5.81it/s]"
     ]
    },
    {
     "name": "stderr",
     "output_type": "stream",
     "text": [
      "\r\n",
      " 12%|█████████████                                                                                                | 72/600 [00:14<01:22,  6.39it/s]"
     ]
    },
    {
     "name": "stderr",
     "output_type": "stream",
     "text": [
      "\r\n",
      " 12%|█████████████▎                                                                                               | 73/600 [00:14<01:16,  6.88it/s]"
     ]
    },
    {
     "name": "stderr",
     "output_type": "stream",
     "text": [
      "\r\n",
      " 12%|█████████████▍                                                                                               | 74/600 [00:15<01:12,  7.30it/s]"
     ]
    },
    {
     "name": "stderr",
     "output_type": "stream",
     "text": [
      "\r\n",
      " 12%|█████████████▋                                                                                               | 75/600 [00:15<01:10,  7.48it/s]"
     ]
    },
    {
     "name": "stderr",
     "output_type": "stream",
     "text": [
      "\r\n",
      " 13%|█████████████▊                                                                                               | 76/600 [00:15<01:08,  7.68it/s]"
     ]
    },
    {
     "name": "stderr",
     "output_type": "stream",
     "text": [
      "\r\n",
      " 13%|█████████████▉                                                                                               | 77/600 [00:15<01:11,  7.32it/s]"
     ]
    },
    {
     "name": "stderr",
     "output_type": "stream",
     "text": [
      "\r\n",
      " 13%|██████████████▏                                                                                              | 78/600 [00:15<01:17,  6.73it/s]"
     ]
    },
    {
     "name": "stderr",
     "output_type": "stream",
     "text": [
      "\r\n",
      " 13%|██████████████▎                                                                                              | 79/600 [00:15<01:15,  6.88it/s]"
     ]
    },
    {
     "name": "stderr",
     "output_type": "stream",
     "text": [
      "\r\n",
      " 13%|██████████████▌                                                                                              | 80/600 [00:15<01:12,  7.18it/s]"
     ]
    },
    {
     "name": "stderr",
     "output_type": "stream",
     "text": [
      "\r\n",
      " 14%|██████████████▋                                                                                              | 81/600 [00:16<01:10,  7.34it/s]"
     ]
    },
    {
     "name": "stderr",
     "output_type": "stream",
     "text": [
      "\r\n",
      " 14%|██████████████▉                                                                                              | 82/600 [00:16<01:10,  7.35it/s]"
     ]
    },
    {
     "name": "stderr",
     "output_type": "stream",
     "text": [
      "\r\n",
      " 14%|███████████████                                                                                              | 83/600 [00:16<01:12,  7.18it/s]"
     ]
    },
    {
     "name": "stderr",
     "output_type": "stream",
     "text": [
      "\r\n",
      " 14%|███████████████▎                                                                                             | 84/600 [00:16<01:08,  7.58it/s]"
     ]
    },
    {
     "name": "stderr",
     "output_type": "stream",
     "text": [
      "\r\n",
      " 14%|███████████████▍                                                                                             | 85/600 [00:16<01:08,  7.56it/s]"
     ]
    },
    {
     "name": "stderr",
     "output_type": "stream",
     "text": [
      "\r\n",
      " 14%|███████████████▌                                                                                             | 86/600 [00:16<01:08,  7.47it/s]"
     ]
    },
    {
     "name": "stderr",
     "output_type": "stream",
     "text": [
      "\r\n",
      " 14%|███████████████▊                                                                                             | 87/600 [00:16<01:06,  7.69it/s]"
     ]
    },
    {
     "name": "stderr",
     "output_type": "stream",
     "text": [
      "\r\n",
      " 15%|███████████████▉                                                                                             | 88/600 [00:16<01:05,  7.78it/s]"
     ]
    },
    {
     "name": "stderr",
     "output_type": "stream",
     "text": [
      "\r\n",
      " 15%|████████████████▏                                                                                            | 89/600 [00:17<01:07,  7.59it/s]"
     ]
    },
    {
     "name": "stderr",
     "output_type": "stream",
     "text": [
      "\r\n",
      " 15%|████████████████▎                                                                                            | 90/600 [00:17<01:07,  7.57it/s]"
     ]
    },
    {
     "name": "stderr",
     "output_type": "stream",
     "text": [
      "\r\n",
      " 15%|████████████████▌                                                                                            | 91/600 [00:17<01:06,  7.60it/s]"
     ]
    },
    {
     "name": "stderr",
     "output_type": "stream",
     "text": [
      "\r\n",
      " 15%|████████████████▋                                                                                            | 92/600 [00:17<01:09,  7.36it/s]"
     ]
    },
    {
     "name": "stderr",
     "output_type": "stream",
     "text": [
      "\r\n",
      " 16%|████████████████▉                                                                                            | 93/600 [00:17<01:15,  6.68it/s]"
     ]
    },
    {
     "name": "stderr",
     "output_type": "stream",
     "text": [
      "\r\n",
      " 16%|█████████████████                                                                                            | 94/600 [00:17<01:20,  6.27it/s]"
     ]
    },
    {
     "name": "stderr",
     "output_type": "stream",
     "text": [
      "\r\n",
      " 16%|█████████████████▎                                                                                           | 95/600 [00:18<01:24,  5.95it/s]"
     ]
    },
    {
     "name": "stderr",
     "output_type": "stream",
     "text": [
      "\r\n",
      " 16%|█████████████████▍                                                                                           | 96/600 [00:18<01:31,  5.49it/s]"
     ]
    },
    {
     "name": "stderr",
     "output_type": "stream",
     "text": [
      "\r\n",
      " 16%|█████████████████▌                                                                                           | 97/600 [00:18<01:33,  5.35it/s]"
     ]
    },
    {
     "name": "stderr",
     "output_type": "stream",
     "text": [
      "\r\n",
      " 16%|█████████████████▊                                                                                           | 98/600 [00:18<01:37,  5.12it/s]"
     ]
    },
    {
     "name": "stderr",
     "output_type": "stream",
     "text": [
      "\r\n",
      " 16%|█████████████████▉                                                                                           | 99/600 [00:18<01:31,  5.50it/s]"
     ]
    },
    {
     "name": "stderr",
     "output_type": "stream",
     "text": [
      "\r\n",
      " 17%|██████████████████                                                                                          | 100/600 [00:19<01:26,  5.81it/s]"
     ]
    },
    {
     "name": "stderr",
     "output_type": "stream",
     "text": [
      "\r\n",
      " 17%|██████████████████▏                                                                                         | 101/600 [00:19<01:25,  5.87it/s]"
     ]
    },
    {
     "name": "stderr",
     "output_type": "stream",
     "text": [
      "\r\n",
      " 17%|██████████████████▎                                                                                         | 102/600 [00:19<01:24,  5.90it/s]"
     ]
    },
    {
     "name": "stderr",
     "output_type": "stream",
     "text": [
      "\r\n",
      " 17%|██████████████████▌                                                                                         | 103/600 [00:19<01:21,  6.08it/s]"
     ]
    },
    {
     "name": "stderr",
     "output_type": "stream",
     "text": [
      "\r\n",
      " 17%|██████████████████▋                                                                                         | 104/600 [00:19<01:16,  6.48it/s]"
     ]
    },
    {
     "name": "stderr",
     "output_type": "stream",
     "text": [
      "\r\n",
      " 18%|██████████████████▉                                                                                         | 105/600 [00:19<01:13,  6.74it/s]"
     ]
    },
    {
     "name": "stderr",
     "output_type": "stream",
     "text": [
      "\r\n",
      " 18%|███████████████████                                                                                         | 106/600 [00:19<01:16,  6.46it/s]"
     ]
    },
    {
     "name": "stderr",
     "output_type": "stream",
     "text": [
      "\r\n",
      " 18%|███████████████████▎                                                                                        | 107/600 [00:20<01:25,  5.74it/s]"
     ]
    },
    {
     "name": "stderr",
     "output_type": "stream",
     "text": [
      "\r\n",
      " 18%|███████████████████▍                                                                                        | 108/600 [00:20<01:29,  5.50it/s]"
     ]
    },
    {
     "name": "stderr",
     "output_type": "stream",
     "text": [
      "\r\n",
      " 18%|███████████████████▌                                                                                        | 109/600 [00:20<01:28,  5.52it/s]"
     ]
    },
    {
     "name": "stderr",
     "output_type": "stream",
     "text": [
      "\r\n",
      " 18%|███████████████████▊                                                                                        | 110/600 [00:20<01:26,  5.65it/s]"
     ]
    },
    {
     "name": "stderr",
     "output_type": "stream",
     "text": [
      "\r\n",
      " 18%|███████████████████▉                                                                                        | 111/600 [00:20<01:21,  6.02it/s]"
     ]
    },
    {
     "name": "stderr",
     "output_type": "stream",
     "text": [
      "\r\n",
      " 19%|████████████████████▏                                                                                       | 112/600 [00:20<01:19,  6.17it/s]"
     ]
    },
    {
     "name": "stderr",
     "output_type": "stream",
     "text": [
      "\r\n",
      " 19%|████████████████████▎                                                                                       | 113/600 [00:21<01:18,  6.23it/s]"
     ]
    },
    {
     "name": "stderr",
     "output_type": "stream",
     "text": [
      "\r\n",
      " 19%|████████████████████▌                                                                                       | 114/600 [00:21<01:18,  6.20it/s]"
     ]
    },
    {
     "name": "stderr",
     "output_type": "stream",
     "text": [
      "\r\n",
      " 19%|████████████████████▋                                                                                       | 115/600 [00:21<01:19,  6.12it/s]"
     ]
    },
    {
     "name": "stderr",
     "output_type": "stream",
     "text": [
      "\r\n",
      " 19%|████████████████████▉                                                                                       | 116/600 [00:21<01:15,  6.40it/s]"
     ]
    },
    {
     "name": "stderr",
     "output_type": "stream",
     "text": [
      "\r\n",
      " 20%|█████████████████████                                                                                       | 117/600 [00:21<01:10,  6.85it/s]"
     ]
    },
    {
     "name": "stderr",
     "output_type": "stream",
     "text": [
      "\r\n",
      " 20%|█████████████████████▏                                                                                      | 118/600 [00:21<01:07,  7.16it/s]"
     ]
    },
    {
     "name": "stderr",
     "output_type": "stream",
     "text": [
      "\r\n",
      " 20%|█████████████████████▍                                                                                      | 119/600 [00:21<01:04,  7.47it/s]"
     ]
    },
    {
     "name": "stderr",
     "output_type": "stream",
     "text": [
      "\r\n",
      " 20%|█████████████████████▌                                                                                      | 120/600 [00:22<01:03,  7.57it/s]"
     ]
    },
    {
     "name": "stderr",
     "output_type": "stream",
     "text": [
      "\r\n",
      " 20%|█████████████████████▊                                                                                      | 121/600 [00:22<01:04,  7.41it/s]"
     ]
    },
    {
     "name": "stderr",
     "output_type": "stream",
     "text": [
      "\r\n",
      " 20%|█████████████████████▉                                                                                      | 122/600 [00:22<01:07,  7.11it/s]"
     ]
    },
    {
     "name": "stderr",
     "output_type": "stream",
     "text": [
      "\r\n",
      " 20%|██████████████████████▏                                                                                     | 123/600 [00:22<01:05,  7.29it/s]"
     ]
    },
    {
     "name": "stderr",
     "output_type": "stream",
     "text": [
      "\r\n",
      " 21%|██████████████████████▎                                                                                     | 124/600 [00:22<01:07,  7.04it/s]"
     ]
    },
    {
     "name": "stderr",
     "output_type": "stream",
     "text": [
      "\r\n",
      " 21%|██████████████████████▌                                                                                     | 125/600 [00:22<01:02,  7.57it/s]"
     ]
    },
    {
     "name": "stderr",
     "output_type": "stream",
     "text": [
      "\r\n",
      " 21%|██████████████████████▋                                                                                     | 126/600 [00:22<00:59,  7.98it/s]"
     ]
    },
    {
     "name": "stderr",
     "output_type": "stream",
     "text": [
      "\r\n",
      " 21%|██████████████████████▊                                                                                     | 127/600 [00:23<00:58,  8.08it/s]"
     ]
    },
    {
     "name": "stderr",
     "output_type": "stream",
     "text": [
      "\r\n",
      " 21%|███████████████████████                                                                                     | 128/600 [00:23<01:13,  6.42it/s]"
     ]
    },
    {
     "name": "stderr",
     "output_type": "stream",
     "text": [
      "\r\n",
      " 22%|███████████████████████▏                                                                                    | 129/600 [00:23<01:19,  5.96it/s]"
     ]
    },
    {
     "name": "stderr",
     "output_type": "stream",
     "text": [
      "\r\n",
      " 22%|███████████████████████▍                                                                                    | 130/600 [00:23<01:16,  6.12it/s]"
     ]
    },
    {
     "name": "stderr",
     "output_type": "stream",
     "text": [
      "\r\n",
      " 22%|███████████████████████▌                                                                                    | 131/600 [00:23<01:21,  5.77it/s]"
     ]
    },
    {
     "name": "stderr",
     "output_type": "stream",
     "text": [
      "\r\n",
      " 22%|███████████████████████▊                                                                                    | 132/600 [00:23<01:22,  5.69it/s]"
     ]
    },
    {
     "name": "stderr",
     "output_type": "stream",
     "text": [
      "\r\n",
      " 22%|███████████████████████▉                                                                                    | 133/600 [00:24<01:23,  5.58it/s]"
     ]
    },
    {
     "name": "stderr",
     "output_type": "stream",
     "text": [
      "\r\n",
      " 22%|████████████████████████                                                                                    | 134/600 [00:24<01:24,  5.50it/s]"
     ]
    },
    {
     "name": "stderr",
     "output_type": "stream",
     "text": [
      "\r\n",
      " 22%|████████████████████████▎                                                                                   | 135/600 [00:24<01:22,  5.66it/s]"
     ]
    },
    {
     "name": "stderr",
     "output_type": "stream",
     "text": [
      "\r\n",
      " 23%|████████████████████████▍                                                                                   | 136/600 [00:24<01:16,  6.03it/s]"
     ]
    },
    {
     "name": "stderr",
     "output_type": "stream",
     "text": [
      "\r\n",
      " 23%|████████████████████████▋                                                                                   | 137/600 [00:24<01:08,  6.75it/s]"
     ]
    },
    {
     "name": "stderr",
     "output_type": "stream",
     "text": [
      "\r\n",
      " 23%|████████████████████████▊                                                                                   | 138/600 [00:24<01:05,  7.10it/s]"
     ]
    },
    {
     "name": "stderr",
     "output_type": "stream",
     "text": [
      "\r\n",
      " 23%|█████████████████████████                                                                                   | 139/600 [00:25<01:05,  7.06it/s]"
     ]
    },
    {
     "name": "stderr",
     "output_type": "stream",
     "text": [
      "\r\n",
      " 23%|█████████████████████████▏                                                                                  | 140/600 [00:25<01:08,  6.68it/s]"
     ]
    },
    {
     "name": "stderr",
     "output_type": "stream",
     "text": [
      "\r\n",
      " 24%|█████████████████████████▍                                                                                  | 141/600 [00:25<01:09,  6.59it/s]"
     ]
    },
    {
     "name": "stderr",
     "output_type": "stream",
     "text": [
      "\r\n",
      " 24%|█████████████████████████▌                                                                                  | 142/600 [00:25<01:07,  6.77it/s]"
     ]
    },
    {
     "name": "stderr",
     "output_type": "stream",
     "text": [
      "\r\n",
      " 24%|█████████████████████████▋                                                                                  | 143/600 [00:25<01:04,  7.07it/s]"
     ]
    },
    {
     "name": "stderr",
     "output_type": "stream",
     "text": [
      "\r\n",
      " 24%|█████████████████████████▉                                                                                  | 144/600 [00:25<01:05,  6.94it/s]"
     ]
    },
    {
     "name": "stderr",
     "output_type": "stream",
     "text": [
      "\r\n",
      " 24%|██████████████████████████                                                                                  | 145/600 [00:25<01:11,  6.36it/s]"
     ]
    },
    {
     "name": "stderr",
     "output_type": "stream",
     "text": [
      "\r\n",
      " 24%|██████████████████████████▎                                                                                 | 146/600 [00:26<01:09,  6.53it/s]"
     ]
    },
    {
     "name": "stderr",
     "output_type": "stream",
     "text": [
      "\r\n",
      " 24%|██████████████████████████▍                                                                                 | 147/600 [00:26<01:08,  6.58it/s]"
     ]
    },
    {
     "name": "stderr",
     "output_type": "stream",
     "text": [
      "\r\n",
      " 25%|██████████████████████████▋                                                                                 | 148/600 [00:26<01:10,  6.45it/s]"
     ]
    },
    {
     "name": "stderr",
     "output_type": "stream",
     "text": [
      "\r\n",
      " 25%|██████████████████████████▊                                                                                 | 149/600 [00:26<01:10,  6.41it/s]"
     ]
    },
    {
     "name": "stderr",
     "output_type": "stream",
     "text": [
      "\r\n",
      " 25%|███████████████████████████                                                                                 | 150/600 [00:26<01:08,  6.60it/s]"
     ]
    },
    {
     "name": "stderr",
     "output_type": "stream",
     "text": [
      "\r\n",
      " 25%|███████████████████████████▏                                                                                | 151/600 [00:26<01:05,  6.86it/s]"
     ]
    },
    {
     "name": "stderr",
     "output_type": "stream",
     "text": [
      "\r\n",
      " 25%|███████████████████████████▎                                                                                | 152/600 [00:27<01:09,  6.46it/s]"
     ]
    },
    {
     "name": "stderr",
     "output_type": "stream",
     "text": [
      "\r\n",
      " 26%|███████████████████████████▌                                                                                | 153/600 [00:27<01:14,  5.96it/s]"
     ]
    },
    {
     "name": "stderr",
     "output_type": "stream",
     "text": [
      "\r\n",
      " 26%|███████████████████████████▋                                                                                | 154/600 [00:27<01:19,  5.59it/s]"
     ]
    },
    {
     "name": "stderr",
     "output_type": "stream",
     "text": [
      "\r\n",
      " 26%|███████████████████████████▉                                                                                | 155/600 [00:27<01:17,  5.72it/s]"
     ]
    },
    {
     "name": "stderr",
     "output_type": "stream",
     "text": [
      "\r\n",
      " 26%|████████████████████████████                                                                                | 156/600 [00:27<01:21,  5.46it/s]"
     ]
    },
    {
     "name": "stderr",
     "output_type": "stream",
     "text": [
      "\r\n",
      " 26%|████████████████████████████▎                                                                               | 157/600 [00:27<01:17,  5.70it/s]"
     ]
    },
    {
     "name": "stderr",
     "output_type": "stream",
     "text": [
      "\r\n",
      " 26%|████████████████████████████▍                                                                               | 158/600 [00:28<01:14,  5.92it/s]"
     ]
    },
    {
     "name": "stderr",
     "output_type": "stream",
     "text": [
      "\r\n",
      " 26%|████████████████████████████▌                                                                               | 159/600 [00:28<01:16,  5.80it/s]"
     ]
    },
    {
     "name": "stderr",
     "output_type": "stream",
     "text": [
      "\r\n",
      " 27%|████████████████████████████▊                                                                               | 160/600 [00:28<01:10,  6.23it/s]"
     ]
    },
    {
     "name": "stderr",
     "output_type": "stream",
     "text": [
      "\r\n",
      " 27%|████████████████████████████▉                                                                               | 161/600 [00:28<01:04,  6.78it/s]"
     ]
    },
    {
     "name": "stderr",
     "output_type": "stream",
     "text": [
      "\r\n",
      " 27%|█████████████████████████████▏                                                                              | 162/600 [00:28<01:00,  7.21it/s]"
     ]
    },
    {
     "name": "stderr",
     "output_type": "stream",
     "text": [
      "\r\n",
      " 27%|█████████████████████████████▎                                                                              | 163/600 [00:28<00:57,  7.63it/s]"
     ]
    },
    {
     "name": "stderr",
     "output_type": "stream",
     "text": [
      "\r\n",
      " 27%|█████████████████████████████▌                                                                              | 164/600 [00:28<00:53,  8.13it/s]"
     ]
    },
    {
     "name": "stderr",
     "output_type": "stream",
     "text": [
      "\r\n",
      " 28%|█████████████████████████████▋                                                                              | 165/600 [00:29<00:52,  8.24it/s]"
     ]
    },
    {
     "name": "stderr",
     "output_type": "stream",
     "text": [
      "\r\n",
      " 28%|█████████████████████████████▉                                                                              | 166/600 [00:29<00:52,  8.30it/s]"
     ]
    },
    {
     "name": "stderr",
     "output_type": "stream",
     "text": [
      "\r\n",
      " 28%|██████████████████████████████                                                                              | 167/600 [00:29<00:51,  8.33it/s]"
     ]
    },
    {
     "name": "stderr",
     "output_type": "stream",
     "text": [
      "\r\n",
      " 28%|██████████████████████████████▏                                                                             | 168/600 [00:29<00:52,  8.30it/s]"
     ]
    },
    {
     "name": "stderr",
     "output_type": "stream",
     "text": [
      "\r\n",
      " 28%|██████████████████████████████▍                                                                             | 169/600 [00:29<00:52,  8.19it/s]"
     ]
    },
    {
     "name": "stderr",
     "output_type": "stream",
     "text": [
      "\r\n",
      " 28%|██████████████████████████████▌                                                                             | 170/600 [00:29<00:52,  8.24it/s]"
     ]
    },
    {
     "name": "stderr",
     "output_type": "stream",
     "text": [
      "\r\n",
      " 28%|██████████████████████████████▊                                                                             | 171/600 [00:29<00:51,  8.27it/s]"
     ]
    },
    {
     "name": "stderr",
     "output_type": "stream",
     "text": [
      "\r\n",
      " 29%|██████████████████████████████▉                                                                             | 172/600 [00:29<00:51,  8.33it/s]"
     ]
    },
    {
     "name": "stderr",
     "output_type": "stream",
     "text": [
      "\r\n",
      " 29%|███████████████████████████████▏                                                                            | 173/600 [00:29<00:50,  8.39it/s]"
     ]
    },
    {
     "name": "stderr",
     "output_type": "stream",
     "text": [
      "\r\n",
      " 29%|███████████████████████████████▎                                                                            | 174/600 [00:30<00:50,  8.40it/s]"
     ]
    },
    {
     "name": "stderr",
     "output_type": "stream",
     "text": [
      "\r\n",
      " 29%|███████████████████████████████▌                                                                            | 175/600 [00:30<00:50,  8.44it/s]"
     ]
    },
    {
     "name": "stderr",
     "output_type": "stream",
     "text": [
      "\r\n",
      " 29%|███████████████████████████████▋                                                                            | 176/600 [00:30<00:50,  8.44it/s]"
     ]
    },
    {
     "name": "stderr",
     "output_type": "stream",
     "text": [
      "\r\n",
      " 30%|███████████████████████████████▊                                                                            | 177/600 [00:30<00:50,  8.37it/s]"
     ]
    },
    {
     "name": "stderr",
     "output_type": "stream",
     "text": [
      "\r\n",
      " 30%|████████████████████████████████                                                                            | 178/600 [00:30<00:50,  8.33it/s]"
     ]
    },
    {
     "name": "stderr",
     "output_type": "stream",
     "text": [
      "\r\n",
      " 30%|████████████████████████████████▏                                                                           | 179/600 [00:30<01:00,  6.92it/s]"
     ]
    },
    {
     "name": "stderr",
     "output_type": "stream",
     "text": [
      "\r\n",
      " 30%|████████████████████████████████▍                                                                           | 180/600 [00:30<01:07,  6.22it/s]"
     ]
    },
    {
     "name": "stderr",
     "output_type": "stream",
     "text": [
      "\r\n",
      " 30%|████████████████████████████████▌                                                                           | 181/600 [00:31<01:10,  5.92it/s]"
     ]
    },
    {
     "name": "stderr",
     "output_type": "stream",
     "text": [
      "\r\n",
      " 30%|████████████████████████████████▊                                                                           | 182/600 [00:31<01:11,  5.85it/s]"
     ]
    },
    {
     "name": "stderr",
     "output_type": "stream",
     "text": [
      "\r\n",
      " 30%|████████████████████████████████▉                                                                           | 183/600 [00:31<01:09,  5.99it/s]"
     ]
    },
    {
     "name": "stderr",
     "output_type": "stream",
     "text": [
      "\r\n",
      " 31%|█████████████████████████████████                                                                           | 184/600 [00:31<01:04,  6.41it/s]"
     ]
    },
    {
     "name": "stderr",
     "output_type": "stream",
     "text": [
      "\r\n",
      " 31%|█████████████████████████████████▎                                                                          | 185/600 [00:31<01:00,  6.88it/s]"
     ]
    },
    {
     "name": "stderr",
     "output_type": "stream",
     "text": [
      "\r\n",
      " 31%|█████████████████████████████████▍                                                                          | 186/600 [00:31<00:58,  7.10it/s]"
     ]
    },
    {
     "name": "stderr",
     "output_type": "stream",
     "text": [
      "\r\n",
      " 31%|█████████████████████████████████▋                                                                          | 187/600 [00:32<01:05,  6.27it/s]"
     ]
    },
    {
     "name": "stderr",
     "output_type": "stream",
     "text": [
      "\r\n",
      " 31%|█████████████████████████████████▊                                                                          | 188/600 [00:32<01:13,  5.64it/s]"
     ]
    },
    {
     "name": "stderr",
     "output_type": "stream",
     "text": [
      "\r\n",
      " 32%|██████████████████████████████████                                                                          | 189/600 [00:32<01:15,  5.41it/s]"
     ]
    },
    {
     "name": "stderr",
     "output_type": "stream",
     "text": [
      "\r\n",
      " 32%|██████████████████████████████████▏                                                                         | 190/600 [00:32<01:16,  5.34it/s]"
     ]
    },
    {
     "name": "stderr",
     "output_type": "stream",
     "text": [
      "\r\n",
      " 32%|██████████████████████████████████▍                                                                         | 191/600 [00:32<01:18,  5.20it/s]"
     ]
    },
    {
     "name": "stderr",
     "output_type": "stream",
     "text": [
      "\r\n",
      " 32%|██████████████████████████████████▌                                                                         | 192/600 [00:33<01:35,  4.27it/s]"
     ]
    },
    {
     "name": "stderr",
     "output_type": "stream",
     "text": [
      "\r\n",
      " 32%|██████████████████████████████████▋                                                                         | 193/600 [00:33<01:30,  4.48it/s]"
     ]
    },
    {
     "name": "stderr",
     "output_type": "stream",
     "text": [
      "\r\n",
      " 32%|██████████████████████████████████▉                                                                         | 194/600 [00:33<01:32,  4.38it/s]"
     ]
    },
    {
     "name": "stderr",
     "output_type": "stream",
     "text": [
      "\r\n",
      " 32%|███████████████████████████████████                                                                         | 195/600 [00:33<01:25,  4.75it/s]"
     ]
    },
    {
     "name": "stderr",
     "output_type": "stream",
     "text": [
      "\r\n",
      " 33%|███████████████████████████████████▎                                                                        | 196/600 [00:34<01:22,  4.92it/s]"
     ]
    },
    {
     "name": "stderr",
     "output_type": "stream",
     "text": [
      "\r\n",
      " 33%|███████████████████████████████████▍                                                                        | 197/600 [00:34<01:20,  5.01it/s]"
     ]
    },
    {
     "name": "stderr",
     "output_type": "stream",
     "text": [
      "\r\n",
      " 33%|███████████████████████████████████▋                                                                        | 198/600 [00:34<01:17,  5.17it/s]"
     ]
    },
    {
     "name": "stderr",
     "output_type": "stream",
     "text": [
      "\r\n",
      " 33%|███████████████████████████████████▊                                                                        | 199/600 [00:34<01:12,  5.54it/s]"
     ]
    },
    {
     "name": "stderr",
     "output_type": "stream",
     "text": [
      "\r\n",
      " 33%|████████████████████████████████████                                                                        | 200/600 [00:34<01:04,  6.17it/s]"
     ]
    },
    {
     "name": "stderr",
     "output_type": "stream",
     "text": [
      "\r\n",
      " 34%|████████████████████████████████████▏                                                                       | 201/600 [00:34<01:03,  6.29it/s]"
     ]
    },
    {
     "name": "stderr",
     "output_type": "stream",
     "text": [
      "\r\n",
      " 34%|████████████████████████████████████▎                                                                       | 202/600 [00:34<01:02,  6.41it/s]"
     ]
    },
    {
     "name": "stderr",
     "output_type": "stream",
     "text": [
      "\r\n",
      " 34%|████████████████████████████████████▌                                                                       | 203/600 [00:35<00:57,  6.89it/s]"
     ]
    },
    {
     "name": "stderr",
     "output_type": "stream",
     "text": [
      "\r\n",
      " 34%|████████████████████████████████████▋                                                                       | 204/600 [00:35<00:54,  7.27it/s]"
     ]
    },
    {
     "name": "stderr",
     "output_type": "stream",
     "text": [
      "\r\n",
      " 34%|████████████████████████████████████▉                                                                       | 205/600 [00:35<00:51,  7.62it/s]"
     ]
    },
    {
     "name": "stderr",
     "output_type": "stream",
     "text": [
      "\r\n",
      " 34%|█████████████████████████████████████                                                                       | 206/600 [00:35<00:50,  7.80it/s]"
     ]
    },
    {
     "name": "stderr",
     "output_type": "stream",
     "text": [
      "\r\n",
      " 34%|█████████████████████████████████████▎                                                                      | 207/600 [00:35<00:49,  7.95it/s]"
     ]
    },
    {
     "name": "stderr",
     "output_type": "stream",
     "text": [
      "\r\n",
      " 35%|█████████████████████████████████████▍                                                                      | 208/600 [00:35<00:48,  8.06it/s]"
     ]
    },
    {
     "name": "stderr",
     "output_type": "stream",
     "text": [
      "\r\n",
      " 35%|█████████████████████████████████████▌                                                                      | 209/600 [00:35<00:47,  8.18it/s]"
     ]
    },
    {
     "name": "stderr",
     "output_type": "stream",
     "text": [
      "\r\n",
      " 35%|█████████████████████████████████████▊                                                                      | 210/600 [00:35<00:47,  8.15it/s]"
     ]
    },
    {
     "name": "stderr",
     "output_type": "stream",
     "text": [
      "\r\n",
      " 35%|█████████████████████████████████████▉                                                                      | 211/600 [00:36<00:47,  8.24it/s]"
     ]
    },
    {
     "name": "stderr",
     "output_type": "stream",
     "text": [
      "\r\n",
      " 35%|██████████████████████████████████████▏                                                                     | 212/600 [00:36<00:51,  7.54it/s]"
     ]
    },
    {
     "name": "stderr",
     "output_type": "stream",
     "text": [
      "\r\n",
      " 36%|██████████████████████████████████████▎                                                                     | 213/600 [00:36<00:56,  6.81it/s]"
     ]
    },
    {
     "name": "stderr",
     "output_type": "stream",
     "text": [
      "\r\n",
      " 36%|██████████████████████████████████████▌                                                                     | 214/600 [00:36<01:00,  6.43it/s]"
     ]
    },
    {
     "name": "stderr",
     "output_type": "stream",
     "text": [
      "\r\n",
      " 36%|██████████████████████████████████████▋                                                                     | 215/600 [00:36<01:01,  6.23it/s]"
     ]
    },
    {
     "name": "stderr",
     "output_type": "stream",
     "text": [
      "\r\n",
      " 36%|██████████████████████████████████████▉                                                                     | 216/600 [00:36<01:04,  5.98it/s]"
     ]
    },
    {
     "name": "stderr",
     "output_type": "stream",
     "text": [
      "\r\n",
      " 36%|███████████████████████████████████████                                                                     | 217/600 [00:37<01:08,  5.57it/s]"
     ]
    },
    {
     "name": "stderr",
     "output_type": "stream",
     "text": [
      "\r\n",
      " 36%|███████████████████████████████████████▏                                                                    | 218/600 [00:37<01:09,  5.47it/s]"
     ]
    },
    {
     "name": "stderr",
     "output_type": "stream",
     "text": [
      "\r\n",
      " 36%|███████████████████████████████████████▍                                                                    | 219/600 [00:37<01:12,  5.24it/s]"
     ]
    },
    {
     "name": "stderr",
     "output_type": "stream",
     "text": [
      "\r\n",
      " 37%|███████████████████████████████████████▌                                                                    | 220/600 [00:37<01:13,  5.19it/s]"
     ]
    },
    {
     "name": "stderr",
     "output_type": "stream",
     "text": [
      "\r\n",
      " 37%|███████████████████████████████████████▊                                                                    | 221/600 [00:37<01:11,  5.30it/s]"
     ]
    },
    {
     "name": "stderr",
     "output_type": "stream",
     "text": [
      "\r\n",
      " 37%|███████████████████████████████████████▉                                                                    | 222/600 [00:38<01:05,  5.73it/s]"
     ]
    },
    {
     "name": "stderr",
     "output_type": "stream",
     "text": [
      "\r\n",
      " 37%|████████████████████████████████████████▏                                                                   | 223/600 [00:38<01:02,  6.02it/s]"
     ]
    },
    {
     "name": "stderr",
     "output_type": "stream",
     "text": [
      "\r\n",
      " 37%|████████████████████████████████████████▎                                                                   | 224/600 [00:38<00:58,  6.41it/s]"
     ]
    },
    {
     "name": "stderr",
     "output_type": "stream",
     "text": [
      "\r\n",
      " 38%|████████████████████████████████████████▌                                                                   | 225/600 [00:38<00:54,  6.88it/s]"
     ]
    },
    {
     "name": "stderr",
     "output_type": "stream",
     "text": [
      "\r\n",
      " 38%|████████████████████████████████████████▋                                                                   | 226/600 [00:38<00:51,  7.26it/s]"
     ]
    },
    {
     "name": "stderr",
     "output_type": "stream",
     "text": [
      "\r\n",
      " 38%|████████████████████████████████████████▊                                                                   | 227/600 [00:38<00:49,  7.56it/s]"
     ]
    },
    {
     "name": "stderr",
     "output_type": "stream",
     "text": [
      "\r\n",
      " 38%|█████████████████████████████████████████                                                                   | 228/600 [00:38<00:51,  7.28it/s]"
     ]
    },
    {
     "name": "stderr",
     "output_type": "stream",
     "text": [
      "\r\n",
      " 38%|█████████████████████████████████████████▏                                                                  | 229/600 [00:38<00:51,  7.26it/s]"
     ]
    },
    {
     "name": "stderr",
     "output_type": "stream",
     "text": [
      "\r\n",
      " 38%|█████████████████████████████████████████▍                                                                  | 230/600 [00:39<00:49,  7.51it/s]"
     ]
    },
    {
     "name": "stderr",
     "output_type": "stream",
     "text": [
      "\r\n",
      " 38%|█████████████████████████████████████████▌                                                                  | 231/600 [00:39<00:49,  7.45it/s]"
     ]
    },
    {
     "name": "stderr",
     "output_type": "stream",
     "text": [
      "\r\n",
      " 39%|█████████████████████████████████████████▊                                                                  | 232/600 [00:39<00:52,  7.04it/s]"
     ]
    },
    {
     "name": "stderr",
     "output_type": "stream",
     "text": [
      "\r\n",
      " 39%|█████████████████████████████████████████▉                                                                  | 233/600 [00:39<00:55,  6.62it/s]"
     ]
    },
    {
     "name": "stderr",
     "output_type": "stream",
     "text": [
      "\r\n",
      " 39%|██████████████████████████████████████████                                                                  | 234/600 [00:39<00:56,  6.45it/s]"
     ]
    },
    {
     "name": "stderr",
     "output_type": "stream",
     "text": [
      "\r\n",
      " 39%|██████████████████████████████████████████▎                                                                 | 235/600 [00:39<00:50,  7.18it/s]"
     ]
    },
    {
     "name": "stderr",
     "output_type": "stream",
     "text": [
      "\r\n",
      " 39%|██████████████████████████████████████████▍                                                                 | 236/600 [00:39<00:48,  7.48it/s]"
     ]
    },
    {
     "name": "stderr",
     "output_type": "stream",
     "text": [
      "\r\n",
      " 40%|██████████████████████████████████████████▋                                                                 | 237/600 [00:40<00:48,  7.52it/s]"
     ]
    },
    {
     "name": "stderr",
     "output_type": "stream",
     "text": [
      "\r\n",
      " 40%|██████████████████████████████████████████▊                                                                 | 238/600 [00:40<00:46,  7.76it/s]"
     ]
    },
    {
     "name": "stderr",
     "output_type": "stream",
     "text": [
      "\r\n",
      " 40%|███████████████████████████████████████████                                                                 | 239/600 [00:40<00:45,  7.89it/s]"
     ]
    },
    {
     "name": "stderr",
     "output_type": "stream",
     "text": [
      "\r\n",
      " 40%|███████████████████████████████████████████▏                                                                | 240/600 [00:40<00:46,  7.79it/s]"
     ]
    },
    {
     "name": "stderr",
     "output_type": "stream",
     "text": [
      "\r\n",
      " 40%|███████████████████████████████████████████▍                                                                | 241/600 [00:40<00:48,  7.34it/s]"
     ]
    },
    {
     "name": "stderr",
     "output_type": "stream",
     "text": [
      "\r\n",
      " 40%|███████████████████████████████████████████▌                                                                | 242/600 [00:40<00:47,  7.60it/s]"
     ]
    },
    {
     "name": "stderr",
     "output_type": "stream",
     "text": [
      "\r\n",
      " 40%|███████████████████████████████████████████▋                                                                | 243/600 [00:40<00:46,  7.71it/s]"
     ]
    },
    {
     "name": "stderr",
     "output_type": "stream",
     "text": [
      "\r\n",
      " 41%|███████████████████████████████████████████▉                                                                | 244/600 [00:40<00:46,  7.72it/s]"
     ]
    },
    {
     "name": "stderr",
     "output_type": "stream",
     "text": [
      "\r\n",
      " 41%|████████████████████████████████████████████                                                                | 245/600 [00:41<00:46,  7.65it/s]"
     ]
    },
    {
     "name": "stderr",
     "output_type": "stream",
     "text": [
      "\r\n",
      " 41%|████████████████████████████████████████████▎                                                               | 246/600 [00:41<00:43,  8.05it/s]"
     ]
    },
    {
     "name": "stderr",
     "output_type": "stream",
     "text": [
      "\r\n",
      " 41%|████████████████████████████████████████████▍                                                               | 247/600 [00:41<00:44,  7.93it/s]"
     ]
    },
    {
     "name": "stderr",
     "output_type": "stream",
     "text": [
      "\r\n",
      " 41%|████████████████████████████████████████████▋                                                               | 248/600 [00:41<00:47,  7.45it/s]"
     ]
    },
    {
     "name": "stderr",
     "output_type": "stream",
     "text": [
      "\r\n",
      " 42%|████████████████████████████████████████████▊                                                               | 249/600 [00:41<00:47,  7.37it/s]"
     ]
    },
    {
     "name": "stderr",
     "output_type": "stream",
     "text": [
      "\r\n",
      " 42%|█████████████████████████████████████████████                                                               | 250/600 [00:41<00:48,  7.26it/s]"
     ]
    },
    {
     "name": "stderr",
     "output_type": "stream",
     "text": [
      "\r\n",
      " 42%|█████████████████████████████████████████████▏                                                              | 251/600 [00:41<00:47,  7.37it/s]"
     ]
    },
    {
     "name": "stderr",
     "output_type": "stream",
     "text": [
      "\r\n",
      " 42%|█████████████████████████████████████████████▎                                                              | 252/600 [00:42<00:45,  7.58it/s]"
     ]
    },
    {
     "name": "stderr",
     "output_type": "stream",
     "text": [
      "\r\n",
      " 42%|█████████████████████████████████████████████▌                                                              | 253/600 [00:42<00:47,  7.27it/s]"
     ]
    },
    {
     "name": "stderr",
     "output_type": "stream",
     "text": [
      "\r\n",
      " 42%|█████████████████████████████████████████████▋                                                              | 254/600 [00:42<00:44,  7.77it/s]"
     ]
    },
    {
     "name": "stderr",
     "output_type": "stream",
     "text": [
      "\r\n",
      " 42%|█████████████████████████████████████████████▉                                                              | 255/600 [00:42<00:43,  7.96it/s]"
     ]
    },
    {
     "name": "stderr",
     "output_type": "stream",
     "text": [
      "\r\n",
      " 43%|██████████████████████████████████████████████                                                              | 256/600 [00:42<00:46,  7.46it/s]"
     ]
    },
    {
     "name": "stderr",
     "output_type": "stream",
     "text": [
      "\r\n",
      " 43%|██████████████████████████████████████████████▎                                                             | 257/600 [00:42<00:45,  7.48it/s]"
     ]
    },
    {
     "name": "stderr",
     "output_type": "stream",
     "text": [
      "\r\n",
      " 43%|██████████████████████████████████████████████▍                                                             | 258/600 [00:42<00:45,  7.48it/s]"
     ]
    },
    {
     "name": "stderr",
     "output_type": "stream",
     "text": [
      "\r\n",
      " 43%|██████████████████████████████████████████████▌                                                             | 259/600 [00:42<00:45,  7.45it/s]"
     ]
    },
    {
     "name": "stderr",
     "output_type": "stream",
     "text": [
      "\r\n",
      " 43%|██████████████████████████████████████████████▊                                                             | 260/600 [00:43<00:48,  7.06it/s]"
     ]
    },
    {
     "name": "stderr",
     "output_type": "stream",
     "text": [
      "\r\n",
      " 44%|██████████████████████████████████████████████▉                                                             | 261/600 [00:43<00:46,  7.31it/s]"
     ]
    },
    {
     "name": "stderr",
     "output_type": "stream",
     "text": [
      "\r\n",
      " 44%|███████████████████████████████████████████████▏                                                            | 262/600 [00:43<00:45,  7.49it/s]"
     ]
    },
    {
     "name": "stderr",
     "output_type": "stream",
     "text": [
      "\r\n",
      " 44%|███████████████████████████████████████████████▎                                                            | 263/600 [00:43<00:43,  7.71it/s]"
     ]
    },
    {
     "name": "stderr",
     "output_type": "stream",
     "text": [
      "\r\n",
      " 44%|███████████████████████████████████████████████▌                                                            | 264/600 [00:43<00:43,  7.71it/s]"
     ]
    },
    {
     "name": "stderr",
     "output_type": "stream",
     "text": [
      "\r\n",
      " 44%|███████████████████████████████████████████████▋                                                            | 265/600 [00:43<00:42,  7.93it/s]"
     ]
    },
    {
     "name": "stderr",
     "output_type": "stream",
     "text": [
      "\r\n",
      " 44%|███████████████████████████████████████████████▉                                                            | 266/600 [00:43<00:46,  7.13it/s]"
     ]
    },
    {
     "name": "stderr",
     "output_type": "stream",
     "text": [
      "\r\n",
      " 44%|████████████████████████████████████████████████                                                            | 267/600 [00:44<00:55,  5.97it/s]"
     ]
    },
    {
     "name": "stderr",
     "output_type": "stream",
     "text": [
      "\r\n",
      " 45%|████████████████████████████████████████████████▏                                                           | 268/600 [00:44<00:56,  5.87it/s]"
     ]
    },
    {
     "name": "stderr",
     "output_type": "stream",
     "text": [
      "\r\n",
      " 45%|████████████████████████████████████████████████▍                                                           | 269/600 [00:44<00:54,  6.08it/s]"
     ]
    },
    {
     "name": "stderr",
     "output_type": "stream",
     "text": [
      "\r\n",
      " 45%|████████████████████████████████████████████████▌                                                           | 270/600 [00:44<00:53,  6.11it/s]"
     ]
    },
    {
     "name": "stderr",
     "output_type": "stream",
     "text": [
      "\r\n",
      " 45%|████████████████████████████████████████████████▊                                                           | 271/600 [00:44<00:54,  6.02it/s]"
     ]
    },
    {
     "name": "stderr",
     "output_type": "stream",
     "text": [
      "\r\n",
      " 45%|████████████████████████████████████████████████▉                                                           | 272/600 [00:44<00:50,  6.48it/s]"
     ]
    },
    {
     "name": "stderr",
     "output_type": "stream",
     "text": [
      "\r\n",
      " 46%|█████████████████████████████████████████████████▏                                                          | 273/600 [00:45<00:49,  6.57it/s]"
     ]
    },
    {
     "name": "stderr",
     "output_type": "stream",
     "text": [
      "\r\n",
      " 46%|█████████████████████████████████████████████████▎                                                          | 274/600 [00:45<00:49,  6.60it/s]"
     ]
    },
    {
     "name": "stderr",
     "output_type": "stream",
     "text": [
      "\r\n",
      " 46%|█████████████████████████████████████████████████▌                                                          | 275/600 [00:45<00:47,  6.86it/s]"
     ]
    },
    {
     "name": "stderr",
     "output_type": "stream",
     "text": [
      "\r\n",
      " 46%|█████████████████████████████████████████████████▋                                                          | 276/600 [00:45<00:46,  7.02it/s]"
     ]
    },
    {
     "name": "stderr",
     "output_type": "stream",
     "text": [
      "\r\n",
      " 46%|█████████████████████████████████████████████████▊                                                          | 277/600 [00:45<00:43,  7.38it/s]"
     ]
    },
    {
     "name": "stderr",
     "output_type": "stream",
     "text": [
      "\r\n",
      " 46%|██████████████████████████████████████████████████                                                          | 278/600 [00:45<00:40,  7.90it/s]"
     ]
    },
    {
     "name": "stderr",
     "output_type": "stream",
     "text": [
      "\r\n",
      " 46%|██████████████████████████████████████████████████▏                                                         | 279/600 [00:45<00:41,  7.70it/s]"
     ]
    },
    {
     "name": "stderr",
     "output_type": "stream",
     "text": [
      "\r\n",
      " 47%|██████████████████████████████████████████████████▍                                                         | 280/600 [00:45<00:42,  7.59it/s]"
     ]
    },
    {
     "name": "stderr",
     "output_type": "stream",
     "text": [
      "\r\n",
      " 47%|██████████████████████████████████████████████████▌                                                         | 281/600 [00:46<00:46,  6.83it/s]"
     ]
    },
    {
     "name": "stderr",
     "output_type": "stream",
     "text": [
      "\r\n",
      " 47%|██████████████████████████████████████████████████▊                                                         | 282/600 [00:46<00:47,  6.63it/s]"
     ]
    },
    {
     "name": "stderr",
     "output_type": "stream",
     "text": [
      "\r\n",
      " 47%|██████████████████████████████████████████████████▉                                                         | 283/600 [00:46<00:47,  6.65it/s]"
     ]
    },
    {
     "name": "stderr",
     "output_type": "stream",
     "text": [
      "\r\n",
      " 47%|███████████████████████████████████████████████████                                                         | 284/600 [00:46<00:45,  6.95it/s]"
     ]
    },
    {
     "name": "stderr",
     "output_type": "stream",
     "text": [
      "\r\n",
      " 48%|███████████████████████████████████████████████████▎                                                        | 285/600 [00:46<00:44,  7.08it/s]"
     ]
    },
    {
     "name": "stderr",
     "output_type": "stream",
     "text": [
      "\r\n",
      " 48%|███████████████████████████████████████████████████▍                                                        | 286/600 [00:46<00:46,  6.68it/s]"
     ]
    },
    {
     "name": "stderr",
     "output_type": "stream",
     "text": [
      "\r\n",
      " 48%|███████████████████████████████████████████████████▋                                                        | 287/600 [00:47<00:53,  5.87it/s]"
     ]
    },
    {
     "name": "stderr",
     "output_type": "stream",
     "text": [
      "\r\n",
      " 48%|███████████████████████████████████████████████████▊                                                        | 288/600 [00:47<00:54,  5.75it/s]"
     ]
    },
    {
     "name": "stderr",
     "output_type": "stream",
     "text": [
      "\r\n",
      " 48%|████████████████████████████████████████████████████                                                        | 289/600 [00:47<00:57,  5.40it/s]"
     ]
    },
    {
     "name": "stderr",
     "output_type": "stream",
     "text": [
      "\r\n",
      " 48%|████████████████████████████████████████████████████▏                                                       | 290/600 [00:47<00:55,  5.56it/s]"
     ]
    },
    {
     "name": "stderr",
     "output_type": "stream",
     "text": [
      "\r\n",
      " 48%|████████████████████████████████████████████████████▍                                                       | 291/600 [00:47<00:57,  5.41it/s]"
     ]
    },
    {
     "name": "stderr",
     "output_type": "stream",
     "text": [
      "\r\n",
      " 49%|████████████████████████████████████████████████████▌                                                       | 292/600 [00:48<00:57,  5.36it/s]"
     ]
    },
    {
     "name": "stderr",
     "output_type": "stream",
     "text": [
      "\r\n",
      " 49%|████████████████████████████████████████████████████▋                                                       | 293/600 [00:48<00:52,  5.82it/s]"
     ]
    },
    {
     "name": "stderr",
     "output_type": "stream",
     "text": [
      "\r\n",
      " 49%|████████████████████████████████████████████████████▉                                                       | 294/600 [00:48<00:48,  6.29it/s]"
     ]
    },
    {
     "name": "stderr",
     "output_type": "stream",
     "text": [
      "\r\n",
      " 49%|█████████████████████████████████████████████████████                                                       | 295/600 [00:48<00:46,  6.61it/s]"
     ]
    },
    {
     "name": "stderr",
     "output_type": "stream",
     "text": [
      "\r\n",
      " 49%|█████████████████████████████████████████████████████▎                                                      | 296/600 [00:48<00:56,  5.43it/s]"
     ]
    },
    {
     "name": "stderr",
     "output_type": "stream",
     "text": [
      "\r\n",
      " 50%|█████████████████████████████████████████████████████▍                                                      | 297/600 [00:48<00:57,  5.23it/s]"
     ]
    },
    {
     "name": "stderr",
     "output_type": "stream",
     "text": [
      "\r\n",
      " 50%|█████████████████████████████████████████████████████▋                                                      | 298/600 [00:49<00:52,  5.70it/s]"
     ]
    },
    {
     "name": "stderr",
     "output_type": "stream",
     "text": [
      "\r\n",
      " 50%|█████████████████████████████████████████████████████▊                                                      | 299/600 [00:49<00:48,  6.22it/s]"
     ]
    },
    {
     "name": "stderr",
     "output_type": "stream",
     "text": [
      "\r\n",
      " 50%|██████████████████████████████████████████████████████                                                      | 300/600 [00:49<00:44,  6.68it/s]"
     ]
    },
    {
     "name": "stderr",
     "output_type": "stream",
     "text": [
      "\r\n",
      " 50%|██████████████████████████████████████████████████████▏                                                     | 301/600 [00:49<00:44,  6.72it/s]"
     ]
    },
    {
     "name": "stderr",
     "output_type": "stream",
     "text": [
      "\r\n",
      " 50%|██████████████████████████████████████████████████████▎                                                     | 302/600 [00:49<00:45,  6.62it/s]"
     ]
    },
    {
     "name": "stderr",
     "output_type": "stream",
     "text": [
      "\r\n",
      " 50%|██████████████████████████████████████████████████████▌                                                     | 303/600 [00:49<00:44,  6.74it/s]"
     ]
    },
    {
     "name": "stderr",
     "output_type": "stream",
     "text": [
      "\r\n",
      " 51%|██████████████████████████████████████████████████████▋                                                     | 304/600 [00:49<00:44,  6.65it/s]"
     ]
    },
    {
     "name": "stderr",
     "output_type": "stream",
     "text": [
      "\r\n",
      " 51%|██████████████████████████████████████████████████████▉                                                     | 305/600 [00:50<00:42,  6.87it/s]"
     ]
    },
    {
     "name": "stderr",
     "output_type": "stream",
     "text": [
      "\r\n",
      " 51%|███████████████████████████████████████████████████████                                                     | 306/600 [00:50<00:42,  6.98it/s]"
     ]
    },
    {
     "name": "stderr",
     "output_type": "stream",
     "text": [
      "\r\n",
      " 51%|███████████████████████████████████████████████████████▎                                                    | 307/600 [00:50<00:44,  6.54it/s]"
     ]
    },
    {
     "name": "stderr",
     "output_type": "stream",
     "text": [
      "\r\n",
      " 51%|███████████████████████████████████████████████████████▍                                                    | 308/600 [00:50<00:45,  6.44it/s]"
     ]
    },
    {
     "name": "stderr",
     "output_type": "stream",
     "text": [
      "\r\n",
      " 52%|███████████████████████████████████████████████████████▌                                                    | 309/600 [00:50<00:45,  6.33it/s]"
     ]
    },
    {
     "name": "stderr",
     "output_type": "stream",
     "text": [
      "\r\n",
      " 52%|███████████████████████████████████████████████████████▊                                                    | 310/600 [00:50<00:46,  6.28it/s]"
     ]
    },
    {
     "name": "stderr",
     "output_type": "stream",
     "text": [
      "\r\n",
      " 52%|███████████████████████████████████████████████████████▉                                                    | 311/600 [00:51<00:44,  6.52it/s]"
     ]
    },
    {
     "name": "stderr",
     "output_type": "stream",
     "text": [
      "\r\n",
      " 52%|████████████████████████████████████████████████████████▏                                                   | 312/600 [00:51<00:48,  5.96it/s]"
     ]
    },
    {
     "name": "stderr",
     "output_type": "stream",
     "text": [
      "\r\n",
      " 52%|████████████████████████████████████████████████████████▎                                                   | 313/600 [00:51<00:47,  5.99it/s]"
     ]
    },
    {
     "name": "stderr",
     "output_type": "stream",
     "text": [
      "\r\n",
      " 52%|████████████████████████████████████████████████████████▌                                                   | 314/600 [00:51<00:49,  5.83it/s]"
     ]
    },
    {
     "name": "stderr",
     "output_type": "stream",
     "text": [
      "\r\n",
      " 52%|████████████████████████████████████████████████████████▋                                                   | 315/600 [00:51<00:44,  6.43it/s]"
     ]
    },
    {
     "name": "stderr",
     "output_type": "stream",
     "text": [
      "\r\n",
      " 53%|████████████████████████████████████████████████████████▉                                                   | 316/600 [00:51<00:42,  6.63it/s]"
     ]
    },
    {
     "name": "stderr",
     "output_type": "stream",
     "text": [
      "\r\n",
      " 53%|█████████████████████████████████████████████████████████                                                   | 317/600 [00:51<00:43,  6.49it/s]"
     ]
    },
    {
     "name": "stderr",
     "output_type": "stream",
     "text": [
      "\r\n",
      " 53%|█████████████████████████████████████████████████████████▏                                                  | 318/600 [00:52<00:42,  6.64it/s]"
     ]
    },
    {
     "name": "stderr",
     "output_type": "stream",
     "text": [
      "\r\n",
      " 53%|█████████████████████████████████████████████████████████▍                                                  | 319/600 [00:52<00:43,  6.45it/s]"
     ]
    },
    {
     "name": "stderr",
     "output_type": "stream",
     "text": [
      "\r\n",
      " 53%|█████████████████████████████████████████████████████████▌                                                  | 320/600 [00:52<00:41,  6.79it/s]"
     ]
    },
    {
     "name": "stderr",
     "output_type": "stream",
     "text": [
      "\r\n",
      " 54%|█████████████████████████████████████████████████████████▊                                                  | 321/600 [00:52<00:39,  7.11it/s]"
     ]
    },
    {
     "name": "stderr",
     "output_type": "stream",
     "text": [
      "\r\n",
      " 54%|█████████████████████████████████████████████████████████▉                                                  | 322/600 [00:52<00:39,  6.99it/s]"
     ]
    },
    {
     "name": "stderr",
     "output_type": "stream",
     "text": [
      "\r\n",
      " 54%|██████████████████████████████████████████████████████████▏                                                 | 323/600 [00:52<00:44,  6.27it/s]"
     ]
    },
    {
     "name": "stderr",
     "output_type": "stream",
     "text": [
      "\r\n",
      " 54%|██████████████████████████████████████████████████████████▎                                                 | 324/600 [00:53<00:47,  5.80it/s]"
     ]
    },
    {
     "name": "stderr",
     "output_type": "stream",
     "text": [
      "\r\n",
      " 54%|██████████████████████████████████████████████████████████▍                                                 | 325/600 [00:53<00:50,  5.42it/s]"
     ]
    },
    {
     "name": "stderr",
     "output_type": "stream",
     "text": [
      "\r\n",
      " 54%|██████████████████████████████████████████████████████████▋                                                 | 326/600 [00:53<00:49,  5.50it/s]"
     ]
    },
    {
     "name": "stderr",
     "output_type": "stream",
     "text": [
      "\r\n",
      " 55%|██████████████████████████████████████████████████████████▊                                                 | 327/600 [00:53<00:49,  5.56it/s]"
     ]
    },
    {
     "name": "stderr",
     "output_type": "stream",
     "text": [
      "\r\n",
      " 55%|███████████████████████████████████████████████████████████                                                 | 328/600 [00:53<00:47,  5.68it/s]"
     ]
    },
    {
     "name": "stderr",
     "output_type": "stream",
     "text": [
      "\r\n",
      " 55%|███████████████████████████████████████████████████████████▏                                                | 329/600 [00:53<00:45,  5.92it/s]"
     ]
    },
    {
     "name": "stderr",
     "output_type": "stream",
     "text": [
      "\r\n",
      " 55%|███████████████████████████████████████████████████████████▍                                                | 330/600 [00:54<00:50,  5.40it/s]"
     ]
    },
    {
     "name": "stderr",
     "output_type": "stream",
     "text": [
      "\r\n",
      " 55%|███████████████████████████████████████████████████████████▌                                                | 331/600 [00:54<00:49,  5.46it/s]"
     ]
    },
    {
     "name": "stderr",
     "output_type": "stream",
     "text": [
      "\r\n",
      " 55%|███████████████████████████████████████████████████████████▊                                                | 332/600 [00:54<00:49,  5.43it/s]"
     ]
    },
    {
     "name": "stderr",
     "output_type": "stream",
     "text": [
      "\r\n",
      " 56%|███████████████████████████████████████████████████████████▉                                                | 333/600 [00:54<00:50,  5.28it/s]"
     ]
    },
    {
     "name": "stderr",
     "output_type": "stream",
     "text": [
      "\r\n",
      " 56%|████████████████████████████████████████████████████████████                                                | 334/600 [00:54<00:50,  5.26it/s]"
     ]
    },
    {
     "name": "stderr",
     "output_type": "stream",
     "text": [
      "\r\n",
      " 56%|████████████████████████████████████████████████████████████▎                                               | 335/600 [00:55<00:53,  4.99it/s]"
     ]
    },
    {
     "name": "stderr",
     "output_type": "stream",
     "text": [
      "\r\n",
      " 56%|████████████████████████████████████████████████████████████▍                                               | 336/600 [00:55<00:54,  4.81it/s]"
     ]
    },
    {
     "name": "stderr",
     "output_type": "stream",
     "text": [
      "\r\n",
      " 56%|████████████████████████████████████████████████████████████▋                                               | 337/600 [00:55<01:06,  3.98it/s]"
     ]
    },
    {
     "name": "stderr",
     "output_type": "stream",
     "text": [
      "\r\n",
      " 56%|████████████████████████████████████████████████████████████▊                                               | 338/600 [00:55<01:03,  4.11it/s]"
     ]
    },
    {
     "name": "stderr",
     "output_type": "stream",
     "text": [
      "\r\n",
      " 56%|█████████████████████████████████████████████████████████████                                               | 339/600 [00:56<00:58,  4.47it/s]"
     ]
    },
    {
     "name": "stderr",
     "output_type": "stream",
     "text": [
      "\r\n",
      " 57%|█████████████████████████████████████████████████████████████▏                                              | 340/600 [00:56<00:54,  4.74it/s]"
     ]
    },
    {
     "name": "stderr",
     "output_type": "stream",
     "text": [
      "\r\n",
      " 57%|█████████████████████████████████████████████████████████████▍                                              | 341/600 [00:56<00:51,  5.04it/s]"
     ]
    },
    {
     "name": "stderr",
     "output_type": "stream",
     "text": [
      "\r\n",
      " 57%|█████████████████████████████████████████████████████████████▌                                              | 342/600 [00:56<00:48,  5.34it/s]"
     ]
    },
    {
     "name": "stderr",
     "output_type": "stream",
     "text": [
      "\r\n",
      " 57%|█████████████████████████████████████████████████████████████▋                                              | 343/600 [00:56<00:46,  5.49it/s]"
     ]
    },
    {
     "name": "stderr",
     "output_type": "stream",
     "text": [
      "\r\n",
      " 57%|█████████████████████████████████████████████████████████████▉                                              | 344/600 [00:57<00:45,  5.58it/s]"
     ]
    },
    {
     "name": "stderr",
     "output_type": "stream",
     "text": [
      "\r\n",
      " 57%|██████████████████████████████████████████████████████████████                                              | 345/600 [00:57<00:44,  5.74it/s]"
     ]
    },
    {
     "name": "stderr",
     "output_type": "stream",
     "text": [
      "\r\n",
      " 58%|██████████████████████████████████████████████████████████████▎                                             | 346/600 [00:57<00:45,  5.63it/s]"
     ]
    },
    {
     "name": "stderr",
     "output_type": "stream",
     "text": [
      "\r\n",
      " 58%|██████████████████████████████████████████████████████████████▍                                             | 347/600 [00:57<00:44,  5.64it/s]"
     ]
    },
    {
     "name": "stderr",
     "output_type": "stream",
     "text": [
      "\r\n",
      " 58%|██████████████████████████████████████████████████████████████▋                                             | 348/600 [00:57<00:44,  5.67it/s]"
     ]
    },
    {
     "name": "stderr",
     "output_type": "stream",
     "text": [
      "\r\n",
      " 58%|██████████████████████████████████████████████████████████████▊                                             | 349/600 [00:57<00:45,  5.56it/s]"
     ]
    },
    {
     "name": "stderr",
     "output_type": "stream",
     "text": [
      "\r\n",
      " 58%|███████████████████████████████████████████████████████████████                                             | 350/600 [00:58<00:46,  5.38it/s]"
     ]
    },
    {
     "name": "stderr",
     "output_type": "stream",
     "text": [
      "\r\n",
      " 58%|███████████████████████████████████████████████████████████████▏                                            | 351/600 [00:58<00:46,  5.34it/s]"
     ]
    },
    {
     "name": "stderr",
     "output_type": "stream",
     "text": [
      "\r\n",
      " 59%|███████████████████████████████████████████████████████████████▎                                            | 352/600 [00:58<00:46,  5.38it/s]"
     ]
    },
    {
     "name": "stderr",
     "output_type": "stream",
     "text": [
      "\r\n",
      " 59%|███████████████████████████████████████████████████████████████▌                                            | 353/600 [00:58<00:44,  5.53it/s]"
     ]
    },
    {
     "name": "stderr",
     "output_type": "stream",
     "text": [
      "\r\n",
      " 59%|███████████████████████████████████████████████████████████████▋                                            | 354/600 [00:58<00:45,  5.44it/s]"
     ]
    },
    {
     "name": "stderr",
     "output_type": "stream",
     "text": [
      "\r\n",
      " 59%|███████████████████████████████████████████████████████████████▉                                            | 355/600 [00:59<00:44,  5.54it/s]"
     ]
    },
    {
     "name": "stderr",
     "output_type": "stream",
     "text": [
      "\r\n",
      " 59%|████████████████████████████████████████████████████████████████                                            | 356/600 [00:59<00:43,  5.66it/s]"
     ]
    },
    {
     "name": "stderr",
     "output_type": "stream",
     "text": [
      "\r\n",
      " 60%|████████████████████████████████████████████████████████████████▎                                           | 357/600 [00:59<00:43,  5.63it/s]"
     ]
    },
    {
     "name": "stderr",
     "output_type": "stream",
     "text": [
      "\r\n",
      " 60%|████████████████████████████████████████████████████████████████▍                                           | 358/600 [00:59<00:41,  5.80it/s]"
     ]
    },
    {
     "name": "stderr",
     "output_type": "stream",
     "text": [
      "\r\n",
      " 60%|████████████████████████████████████████████████████████████████▌                                           | 359/600 [00:59<00:41,  5.86it/s]"
     ]
    },
    {
     "name": "stderr",
     "output_type": "stream",
     "text": [
      "\r\n",
      " 60%|████████████████████████████████████████████████████████████████▊                                           | 360/600 [00:59<00:41,  5.80it/s]"
     ]
    },
    {
     "name": "stderr",
     "output_type": "stream",
     "text": [
      "\r\n",
      " 60%|████████████████████████████████████████████████████████████████▉                                           | 361/600 [01:00<00:40,  5.88it/s]"
     ]
    },
    {
     "name": "stderr",
     "output_type": "stream",
     "text": [
      "\r\n",
      " 60%|█████████████████████████████████████████████████████████████████▏                                          | 362/600 [01:00<00:40,  5.83it/s]"
     ]
    },
    {
     "name": "stderr",
     "output_type": "stream",
     "text": [
      "\r\n",
      " 60%|█████████████████████████████████████████████████████████████████▎                                          | 363/600 [01:00<00:40,  5.80it/s]"
     ]
    },
    {
     "name": "stderr",
     "output_type": "stream",
     "text": [
      "\r\n",
      " 61%|█████████████████████████████████████████████████████████████████▌                                          | 364/600 [01:00<00:41,  5.75it/s]"
     ]
    },
    {
     "name": "stderr",
     "output_type": "stream",
     "text": [
      "\r\n",
      " 61%|█████████████████████████████████████████████████████████████████▋                                          | 365/600 [01:00<00:41,  5.62it/s]"
     ]
    },
    {
     "name": "stderr",
     "output_type": "stream",
     "text": [
      "\r\n",
      " 61%|█████████████████████████████████████████████████████████████████▉                                          | 366/600 [01:00<00:40,  5.73it/s]"
     ]
    },
    {
     "name": "stderr",
     "output_type": "stream",
     "text": [
      "\r\n",
      " 61%|██████████████████████████████████████████████████████████████████                                          | 367/600 [01:01<00:40,  5.75it/s]"
     ]
    },
    {
     "name": "stderr",
     "output_type": "stream",
     "text": [
      "\r\n",
      " 61%|██████████████████████████████████████████████████████████████████▏                                         | 368/600 [01:01<00:41,  5.55it/s]"
     ]
    },
    {
     "name": "stderr",
     "output_type": "stream",
     "text": [
      "\r\n",
      " 62%|██████████████████████████████████████████████████████████████████▍                                         | 369/600 [01:01<00:41,  5.63it/s]"
     ]
    },
    {
     "name": "stderr",
     "output_type": "stream",
     "text": [
      "\r\n",
      " 62%|██████████████████████████████████████████████████████████████████▌                                         | 370/600 [01:01<00:39,  5.79it/s]"
     ]
    },
    {
     "name": "stderr",
     "output_type": "stream",
     "text": [
      "\r\n",
      " 62%|██████████████████████████████████████████████████████████████████▊                                         | 371/600 [01:01<00:39,  5.83it/s]"
     ]
    },
    {
     "name": "stderr",
     "output_type": "stream",
     "text": [
      "\r\n",
      " 62%|██████████████████████████████████████████████████████████████████▉                                         | 372/600 [01:01<00:40,  5.69it/s]"
     ]
    },
    {
     "name": "stderr",
     "output_type": "stream",
     "text": [
      "\r\n",
      " 62%|███████████████████████████████████████████████████████████████████▏                                        | 373/600 [01:02<00:40,  5.61it/s]"
     ]
    },
    {
     "name": "stderr",
     "output_type": "stream",
     "text": [
      "\r\n",
      " 62%|███████████████████████████████████████████████████████████████████▎                                        | 374/600 [01:02<00:38,  5.90it/s]"
     ]
    },
    {
     "name": "stderr",
     "output_type": "stream",
     "text": [
      "\r\n",
      " 62%|███████████████████████████████████████████████████████████████████▌                                        | 375/600 [01:02<00:36,  6.16it/s]"
     ]
    },
    {
     "name": "stderr",
     "output_type": "stream",
     "text": [
      "\r\n",
      " 63%|███████████████████████████████████████████████████████████████████▋                                        | 376/600 [01:02<00:35,  6.31it/s]"
     ]
    },
    {
     "name": "stderr",
     "output_type": "stream",
     "text": [
      "\r\n",
      " 63%|███████████████████████████████████████████████████████████████████▊                                        | 377/600 [01:02<00:34,  6.53it/s]"
     ]
    },
    {
     "name": "stderr",
     "output_type": "stream",
     "text": [
      "\r\n",
      " 63%|████████████████████████████████████████████████████████████████████                                        | 378/600 [01:02<00:34,  6.41it/s]"
     ]
    },
    {
     "name": "stderr",
     "output_type": "stream",
     "text": [
      "\r\n",
      " 63%|████████████████████████████████████████████████████████████████████▏                                       | 379/600 [01:03<00:33,  6.52it/s]"
     ]
    },
    {
     "name": "stderr",
     "output_type": "stream",
     "text": [
      "\r\n",
      " 63%|████████████████████████████████████████████████████████████████████▍                                       | 380/600 [01:03<00:32,  6.74it/s]"
     ]
    },
    {
     "name": "stderr",
     "output_type": "stream",
     "text": [
      "\r\n",
      " 64%|████████████████████████████████████████████████████████████████████▌                                       | 381/600 [01:03<00:31,  6.87it/s]"
     ]
    },
    {
     "name": "stderr",
     "output_type": "stream",
     "text": [
      "\r\n",
      " 64%|████████████████████████████████████████████████████████████████████▊                                       | 382/600 [01:03<00:32,  6.68it/s]"
     ]
    },
    {
     "name": "stderr",
     "output_type": "stream",
     "text": [
      "\r\n",
      " 64%|████████████████████████████████████████████████████████████████████▉                                       | 383/600 [01:03<00:31,  6.83it/s]"
     ]
    },
    {
     "name": "stderr",
     "output_type": "stream",
     "text": [
      "\r\n",
      " 64%|█████████████████████████████████████████████████████████████████████                                       | 384/600 [01:03<00:31,  6.92it/s]"
     ]
    },
    {
     "name": "stderr",
     "output_type": "stream",
     "text": [
      "\r\n",
      " 64%|█████████████████████████████████████████████████████████████████████▎                                      | 385/600 [01:03<00:31,  6.90it/s]"
     ]
    },
    {
     "name": "stderr",
     "output_type": "stream",
     "text": [
      "\r\n",
      " 64%|█████████████████████████████████████████████████████████████████████▍                                      | 386/600 [01:04<00:30,  7.01it/s]"
     ]
    },
    {
     "name": "stderr",
     "output_type": "stream",
     "text": [
      "\r\n",
      " 64%|█████████████████████████████████████████████████████████████████████▋                                      | 387/600 [01:04<00:30,  7.09it/s]"
     ]
    },
    {
     "name": "stderr",
     "output_type": "stream",
     "text": [
      "\r\n",
      " 65%|█████████████████████████████████████████████████████████████████████▊                                      | 388/600 [01:04<00:29,  7.15it/s]"
     ]
    },
    {
     "name": "stderr",
     "output_type": "stream",
     "text": [
      "\r\n",
      " 65%|██████████████████████████████████████████████████████████████████████                                      | 389/600 [01:04<00:29,  7.09it/s]"
     ]
    },
    {
     "name": "stderr",
     "output_type": "stream",
     "text": [
      "\r\n",
      " 65%|██████████████████████████████████████████████████████████████████████▏                                     | 390/600 [01:04<00:30,  6.98it/s]"
     ]
    },
    {
     "name": "stderr",
     "output_type": "stream",
     "text": [
      "\r\n",
      " 65%|██████████████████████████████████████████████████████████████████████▍                                     | 391/600 [01:04<00:29,  7.05it/s]"
     ]
    },
    {
     "name": "stderr",
     "output_type": "stream",
     "text": [
      "\r\n",
      " 65%|██████████████████████████████████████████████████████████████████████▌                                     | 392/600 [01:04<00:29,  7.06it/s]"
     ]
    },
    {
     "name": "stderr",
     "output_type": "stream",
     "text": [
      "\r\n",
      " 66%|██████████████████████████████████████████████████████████████████████▋                                     | 393/600 [01:05<00:29,  7.04it/s]"
     ]
    },
    {
     "name": "stderr",
     "output_type": "stream",
     "text": [
      "\r\n",
      " 66%|██████████████████████████████████████████████████████████████████████▉                                     | 394/600 [01:05<00:29,  7.02it/s]"
     ]
    },
    {
     "name": "stderr",
     "output_type": "stream",
     "text": [
      "\r\n",
      " 66%|███████████████████████████████████████████████████████████████████████                                     | 395/600 [01:05<00:29,  6.99it/s]"
     ]
    },
    {
     "name": "stderr",
     "output_type": "stream",
     "text": [
      "\r\n",
      " 66%|███████████████████████████████████████████████████████████████████████▎                                    | 396/600 [01:05<00:30,  6.80it/s]"
     ]
    },
    {
     "name": "stderr",
     "output_type": "stream",
     "text": [
      "\r\n",
      " 66%|███████████████████████████████████████████████████████████████████████▍                                    | 397/600 [01:05<00:30,  6.59it/s]"
     ]
    },
    {
     "name": "stderr",
     "output_type": "stream",
     "text": [
      "\r\n",
      " 66%|███████████████████████████████████████████████████████████████████████▋                                    | 398/600 [01:05<00:31,  6.46it/s]"
     ]
    },
    {
     "name": "stderr",
     "output_type": "stream",
     "text": [
      "\r\n",
      " 66%|███████████████████████████████████████████████████████████████████████▊                                    | 399/600 [01:05<00:32,  6.24it/s]"
     ]
    },
    {
     "name": "stderr",
     "output_type": "stream",
     "text": [
      "\r\n",
      " 67%|████████████████████████████████████████████████████████████████████████                                    | 400/600 [01:06<00:31,  6.26it/s]"
     ]
    },
    {
     "name": "stderr",
     "output_type": "stream",
     "text": [
      "\r\n",
      " 67%|████████████████████████████████████████████████████████████████████████▏                                   | 401/600 [01:06<00:31,  6.36it/s]"
     ]
    },
    {
     "name": "stderr",
     "output_type": "stream",
     "text": [
      "\r\n",
      " 67%|████████████████████████████████████████████████████████████████████████▎                                   | 402/600 [01:06<00:30,  6.44it/s]"
     ]
    },
    {
     "name": "stderr",
     "output_type": "stream",
     "text": [
      "\r\n",
      " 67%|████████████████████████████████████████████████████████████████████████▌                                   | 403/600 [01:06<00:30,  6.37it/s]"
     ]
    },
    {
     "name": "stderr",
     "output_type": "stream",
     "text": [
      "\r\n",
      " 67%|████████████████████████████████████████████████████████████████████████▋                                   | 404/600 [01:06<00:30,  6.38it/s]"
     ]
    },
    {
     "name": "stderr",
     "output_type": "stream",
     "text": [
      "\r\n",
      " 68%|████████████████████████████████████████████████████████████████████████▉                                   | 405/600 [01:06<00:30,  6.47it/s]"
     ]
    },
    {
     "name": "stderr",
     "output_type": "stream",
     "text": [
      "\r\n",
      " 68%|█████████████████████████████████████████████████████████████████████████                                   | 406/600 [01:07<00:30,  6.45it/s]"
     ]
    },
    {
     "name": "stderr",
     "output_type": "stream",
     "text": [
      "\r\n",
      " 68%|█████████████████████████████████████████████████████████████████████████▎                                  | 407/600 [01:07<00:29,  6.54it/s]"
     ]
    },
    {
     "name": "stderr",
     "output_type": "stream",
     "text": [
      "\r\n",
      " 68%|█████████████████████████████████████████████████████████████████████████▍                                  | 408/600 [01:07<00:30,  6.31it/s]"
     ]
    },
    {
     "name": "stderr",
     "output_type": "stream",
     "text": [
      "\r\n",
      " 68%|█████████████████████████████████████████████████████████████████████████▌                                  | 409/600 [01:07<00:33,  5.70it/s]"
     ]
    },
    {
     "name": "stderr",
     "output_type": "stream",
     "text": [
      "\r\n",
      " 68%|█████████████████████████████████████████████████████████████████████████▊                                  | 410/600 [01:07<00:39,  4.78it/s]"
     ]
    },
    {
     "name": "stderr",
     "output_type": "stream",
     "text": [
      "\r\n",
      " 68%|█████████████████████████████████████████████████████████████████████████▉                                  | 411/600 [01:08<00:38,  4.90it/s]"
     ]
    },
    {
     "name": "stderr",
     "output_type": "stream",
     "text": [
      "\r\n",
      " 69%|██████████████████████████████████████████████████████████████████████████▏                                 | 412/600 [01:08<00:36,  5.15it/s]"
     ]
    },
    {
     "name": "stderr",
     "output_type": "stream",
     "text": [
      "\r\n",
      " 69%|██████████████████████████████████████████████████████████████████████████▎                                 | 413/600 [01:08<00:35,  5.23it/s]"
     ]
    },
    {
     "name": "stderr",
     "output_type": "stream",
     "text": [
      "\r\n",
      " 69%|██████████████████████████████████████████████████████████████████████████▌                                 | 414/600 [01:08<00:35,  5.28it/s]"
     ]
    },
    {
     "name": "stderr",
     "output_type": "stream",
     "text": [
      "\r\n",
      " 69%|██████████████████████████████████████████████████████████████████████████▋                                 | 415/600 [01:08<00:35,  5.24it/s]"
     ]
    },
    {
     "name": "stderr",
     "output_type": "stream",
     "text": [
      "\r\n",
      " 69%|██████████████████████████████████████████████████████████████████████████▉                                 | 416/600 [01:08<00:34,  5.33it/s]"
     ]
    },
    {
     "name": "stderr",
     "output_type": "stream",
     "text": [
      "\r\n",
      " 70%|███████████████████████████████████████████████████████████████████████████                                 | 417/600 [01:09<00:34,  5.29it/s]"
     ]
    },
    {
     "name": "stderr",
     "output_type": "stream",
     "text": [
      "\r\n",
      " 70%|███████████████████████████████████████████████████████████████████████████▏                                | 418/600 [01:09<00:31,  5.80it/s]"
     ]
    },
    {
     "name": "stderr",
     "output_type": "stream",
     "text": [
      "\r\n",
      " 70%|███████████████████████████████████████████████████████████████████████████▍                                | 419/600 [01:09<00:28,  6.27it/s]"
     ]
    },
    {
     "name": "stderr",
     "output_type": "stream",
     "text": [
      "\r\n",
      " 70%|███████████████████████████████████████████████████████████████████████████▌                                | 420/600 [01:09<00:27,  6.65it/s]"
     ]
    },
    {
     "name": "stderr",
     "output_type": "stream",
     "text": [
      "\r\n",
      " 70%|███████████████████████████████████████████████████████████████████████████▊                                | 421/600 [01:09<00:26,  6.85it/s]"
     ]
    },
    {
     "name": "stderr",
     "output_type": "stream",
     "text": [
      "\r\n",
      " 70%|███████████████████████████████████████████████████████████████████████████▉                                | 422/600 [01:09<00:27,  6.44it/s]"
     ]
    },
    {
     "name": "stderr",
     "output_type": "stream",
     "text": [
      "\r\n",
      " 70%|████████████████████████████████████████████████████████████████████████████▏                               | 423/600 [01:10<00:28,  6.29it/s]"
     ]
    },
    {
     "name": "stderr",
     "output_type": "stream",
     "text": [
      "\r\n",
      " 71%|████████████████████████████████████████████████████████████████████████████▎                               | 424/600 [01:10<00:29,  5.98it/s]"
     ]
    },
    {
     "name": "stderr",
     "output_type": "stream",
     "text": [
      "\r\n",
      " 71%|████████████████████████████████████████████████████████████████████████████▌                               | 425/600 [01:10<00:30,  5.68it/s]"
     ]
    },
    {
     "name": "stderr",
     "output_type": "stream",
     "text": [
      "\r\n",
      " 71%|████████████████████████████████████████████████████████████████████████████▋                               | 426/600 [01:10<00:31,  5.59it/s]"
     ]
    },
    {
     "name": "stderr",
     "output_type": "stream",
     "text": [
      "\r\n",
      " 71%|████████████████████████████████████████████████████████████████████████████▊                               | 427/600 [01:10<00:32,  5.24it/s]"
     ]
    },
    {
     "name": "stderr",
     "output_type": "stream",
     "text": [
      "\r\n",
      " 71%|█████████████████████████████████████████████████████████████████████████████                               | 428/600 [01:11<00:34,  5.01it/s]"
     ]
    },
    {
     "name": "stderr",
     "output_type": "stream",
     "text": [
      "\r\n",
      " 72%|█████████████████████████████████████████████████████████████████████████████▏                              | 429/600 [01:11<00:30,  5.55it/s]"
     ]
    },
    {
     "name": "stderr",
     "output_type": "stream",
     "text": [
      "\r\n",
      " 72%|█████████████████████████████████████████████████████████████████████████████▍                              | 430/600 [01:11<00:28,  5.99it/s]"
     ]
    },
    {
     "name": "stderr",
     "output_type": "stream",
     "text": [
      "\r\n",
      " 72%|█████████████████████████████████████████████████████████████████████████████▌                              | 431/600 [01:11<00:28,  5.98it/s]"
     ]
    },
    {
     "name": "stderr",
     "output_type": "stream",
     "text": [
      "\r\n",
      " 72%|█████████████████████████████████████████████████████████████████████████████▊                              | 432/600 [01:11<00:29,  5.72it/s]"
     ]
    },
    {
     "name": "stderr",
     "output_type": "stream",
     "text": [
      "\r\n",
      " 72%|█████████████████████████████████████████████████████████████████████████████▉                              | 433/600 [01:11<00:30,  5.43it/s]"
     ]
    },
    {
     "name": "stderr",
     "output_type": "stream",
     "text": [
      "\r\n",
      " 72%|██████████████████████████████████████████████████████████████████████████████                              | 434/600 [01:12<00:31,  5.33it/s]"
     ]
    },
    {
     "name": "stderr",
     "output_type": "stream",
     "text": [
      "\r\n",
      " 72%|██████████████████████████████████████████████████████████████████████████████▎                             | 435/600 [01:12<00:28,  5.83it/s]"
     ]
    },
    {
     "name": "stderr",
     "output_type": "stream",
     "text": [
      "\r\n",
      " 73%|██████████████████████████████████████████████████████████████████████████████▍                             | 436/600 [01:12<00:29,  5.62it/s]"
     ]
    },
    {
     "name": "stderr",
     "output_type": "stream",
     "text": [
      "\r\n",
      " 73%|██████████████████████████████████████████████████████████████████████████████▋                             | 437/600 [01:12<00:26,  6.16it/s]"
     ]
    },
    {
     "name": "stderr",
     "output_type": "stream",
     "text": [
      "\r\n",
      " 73%|██████████████████████████████████████████████████████████████████████████████▊                             | 438/600 [01:12<00:25,  6.36it/s]"
     ]
    },
    {
     "name": "stderr",
     "output_type": "stream",
     "text": [
      "\r\n",
      " 73%|███████████████████████████████████████████████████████████████████████████████                             | 439/600 [01:12<00:25,  6.25it/s]"
     ]
    },
    {
     "name": "stderr",
     "output_type": "stream",
     "text": [
      "\r\n",
      " 73%|███████████████████████████████████████████████████████████████████████████████▏                            | 440/600 [01:12<00:23,  6.77it/s]"
     ]
    },
    {
     "name": "stderr",
     "output_type": "stream",
     "text": [
      "\r\n",
      " 74%|███████████████████████████████████████████████████████████████████████████████▍                            | 441/600 [01:13<00:22,  7.12it/s]"
     ]
    },
    {
     "name": "stderr",
     "output_type": "stream",
     "text": [
      "\r\n",
      " 74%|███████████████████████████████████████████████████████████████████████████████▌                            | 442/600 [01:13<00:21,  7.31it/s]"
     ]
    },
    {
     "name": "stderr",
     "output_type": "stream",
     "text": [
      "\r\n",
      " 74%|███████████████████████████████████████████████████████████████████████████████▋                            | 443/600 [01:13<00:20,  7.77it/s]"
     ]
    },
    {
     "name": "stderr",
     "output_type": "stream",
     "text": [
      "\r\n",
      " 74%|███████████████████████████████████████████████████████████████████████████████▉                            | 444/600 [01:13<00:19,  7.97it/s]"
     ]
    },
    {
     "name": "stderr",
     "output_type": "stream",
     "text": [
      "\r\n",
      " 74%|████████████████████████████████████████████████████████████████████████████████                            | 445/600 [01:13<00:20,  7.75it/s]"
     ]
    },
    {
     "name": "stderr",
     "output_type": "stream",
     "text": [
      "\r\n",
      " 74%|████████████████████████████████████████████████████████████████████████████████▎                           | 446/600 [01:13<00:20,  7.60it/s]"
     ]
    },
    {
     "name": "stderr",
     "output_type": "stream",
     "text": [
      "\r\n",
      " 74%|████████████████████████████████████████████████████████████████████████████████▍                           | 447/600 [01:13<00:20,  7.62it/s]"
     ]
    },
    {
     "name": "stderr",
     "output_type": "stream",
     "text": [
      "\r\n",
      " 75%|████████████████████████████████████████████████████████████████████████████████▋                           | 448/600 [01:13<00:19,  7.70it/s]"
     ]
    },
    {
     "name": "stderr",
     "output_type": "stream",
     "text": [
      "\r\n",
      " 75%|████████████████████████████████████████████████████████████████████████████████▊                           | 449/600 [01:14<00:18,  8.07it/s]"
     ]
    },
    {
     "name": "stderr",
     "output_type": "stream",
     "text": [
      "\r\n",
      " 75%|█████████████████████████████████████████████████████████████████████████████████                           | 450/600 [01:14<00:19,  7.74it/s]"
     ]
    },
    {
     "name": "stderr",
     "output_type": "stream",
     "text": [
      "\r\n",
      " 75%|█████████████████████████████████████████████████████████████████████████████████▏                          | 451/600 [01:14<00:20,  7.41it/s]"
     ]
    },
    {
     "name": "stderr",
     "output_type": "stream",
     "text": [
      "\r\n",
      " 75%|█████████████████████████████████████████████████████████████████████████████████▎                          | 452/600 [01:14<00:20,  7.35it/s]"
     ]
    },
    {
     "name": "stderr",
     "output_type": "stream",
     "text": [
      "\r\n",
      " 76%|█████████████████████████████████████████████████████████████████████████████████▌                          | 453/600 [01:14<00:20,  7.24it/s]"
     ]
    },
    {
     "name": "stderr",
     "output_type": "stream",
     "text": [
      "\r\n",
      " 76%|█████████████████████████████████████████████████████████████████████████████████▋                          | 454/600 [01:14<00:20,  7.01it/s]"
     ]
    },
    {
     "name": "stderr",
     "output_type": "stream",
     "text": [
      "\r\n",
      " 76%|█████████████████████████████████████████████████████████████████████████████████▉                          | 455/600 [01:14<00:20,  7.12it/s]"
     ]
    },
    {
     "name": "stderr",
     "output_type": "stream",
     "text": [
      "\r\n",
      " 76%|██████████████████████████████████████████████████████████████████████████████████                          | 456/600 [01:15<00:20,  7.19it/s]"
     ]
    },
    {
     "name": "stderr",
     "output_type": "stream",
     "text": [
      "\r\n",
      " 76%|██████████████████████████████████████████████████████████████████████████████████▎                         | 457/600 [01:15<00:20,  6.94it/s]"
     ]
    },
    {
     "name": "stderr",
     "output_type": "stream",
     "text": [
      "\r\n",
      " 76%|██████████████████████████████████████████████████████████████████████████████████▍                         | 458/600 [01:15<00:21,  6.65it/s]"
     ]
    },
    {
     "name": "stderr",
     "output_type": "stream",
     "text": [
      "\r\n",
      " 76%|██████████████████████████████████████████████████████████████████████████████████▌                         | 459/600 [01:15<00:21,  6.63it/s]"
     ]
    },
    {
     "name": "stderr",
     "output_type": "stream",
     "text": [
      "\r\n",
      " 77%|██████████████████████████████████████████████████████████████████████████████████▊                         | 460/600 [01:15<00:26,  5.22it/s]"
     ]
    },
    {
     "name": "stderr",
     "output_type": "stream",
     "text": [
      "\r\n",
      " 77%|██████████████████████████████████████████████████████████████████████████████████▉                         | 461/600 [01:15<00:24,  5.74it/s]"
     ]
    },
    {
     "name": "stderr",
     "output_type": "stream",
     "text": [
      "\r\n",
      " 77%|███████████████████████████████████████████████████████████████████████████████████▏                        | 462/600 [01:16<00:21,  6.43it/s]"
     ]
    },
    {
     "name": "stderr",
     "output_type": "stream",
     "text": [
      "\r\n",
      " 77%|███████████████████████████████████████████████████████████████████████████████████▎                        | 463/600 [01:16<00:19,  6.95it/s]"
     ]
    },
    {
     "name": "stderr",
     "output_type": "stream",
     "text": [
      "\r\n",
      " 77%|███████████████████████████████████████████████████████████████████████████████████▌                        | 464/600 [01:16<00:20,  6.69it/s]"
     ]
    },
    {
     "name": "stderr",
     "output_type": "stream",
     "text": [
      "\r\n",
      " 78%|███████████████████████████████████████████████████████████████████████████████████▋                        | 465/600 [01:16<00:20,  6.57it/s]"
     ]
    },
    {
     "name": "stderr",
     "output_type": "stream",
     "text": [
      "\r\n",
      " 78%|███████████████████████████████████████████████████████████████████████████████████▉                        | 466/600 [01:16<00:20,  6.51it/s]"
     ]
    },
    {
     "name": "stderr",
     "output_type": "stream",
     "text": [
      "\r\n",
      " 78%|████████████████████████████████████████████████████████████████████████████████████                        | 467/600 [01:16<00:20,  6.35it/s]"
     ]
    },
    {
     "name": "stderr",
     "output_type": "stream",
     "text": [
      "\r\n",
      " 78%|████████████████████████████████████████████████████████████████████████████████████▏                       | 468/600 [01:17<00:22,  5.85it/s]"
     ]
    },
    {
     "name": "stderr",
     "output_type": "stream",
     "text": [
      "\r\n",
      " 78%|████████████████████████████████████████████████████████████████████████████████████▍                       | 469/600 [01:17<00:22,  5.74it/s]"
     ]
    },
    {
     "name": "stderr",
     "output_type": "stream",
     "text": [
      "\r\n",
      " 78%|████████████████████████████████████████████████████████████████████████████████████▌                       | 470/600 [01:17<00:22,  5.80it/s]"
     ]
    },
    {
     "name": "stderr",
     "output_type": "stream",
     "text": [
      "\r\n",
      " 78%|████████████████████████████████████████████████████████████████████████████████████▊                       | 471/600 [01:17<00:22,  5.68it/s]"
     ]
    },
    {
     "name": "stderr",
     "output_type": "stream",
     "text": [
      "\r\n",
      " 79%|████████████████████████████████████████████████████████████████████████████████████▉                       | 472/600 [01:17<00:22,  5.64it/s]"
     ]
    },
    {
     "name": "stderr",
     "output_type": "stream",
     "text": [
      "\r\n",
      " 79%|█████████████████████████████████████████████████████████████████████████████████████▏                      | 473/600 [01:17<00:22,  5.59it/s]"
     ]
    },
    {
     "name": "stderr",
     "output_type": "stream",
     "text": [
      "\r\n",
      " 79%|█████████████████████████████████████████████████████████████████████████████████████▎                      | 474/600 [01:18<00:22,  5.55it/s]"
     ]
    },
    {
     "name": "stderr",
     "output_type": "stream",
     "text": [
      "\r\n",
      " 79%|█████████████████████████████████████████████████████████████████████████████████████▌                      | 475/600 [01:18<00:21,  5.78it/s]"
     ]
    },
    {
     "name": "stderr",
     "output_type": "stream",
     "text": [
      "\r\n",
      " 79%|█████████████████████████████████████████████████████████████████████████████████████▋                      | 476/600 [01:18<00:20,  5.95it/s]"
     ]
    },
    {
     "name": "stderr",
     "output_type": "stream",
     "text": [
      "\r\n",
      " 80%|█████████████████████████████████████████████████████████████████████████████████████▊                      | 477/600 [01:18<00:20,  5.92it/s]"
     ]
    },
    {
     "name": "stderr",
     "output_type": "stream",
     "text": [
      "\r\n",
      " 80%|██████████████████████████████████████████████████████████████████████████████████████                      | 478/600 [01:18<00:21,  5.72it/s]"
     ]
    },
    {
     "name": "stderr",
     "output_type": "stream",
     "text": [
      "\r\n",
      " 80%|██████████████████████████████████████████████████████████████████████████████████████▏                     | 479/600 [01:18<00:20,  5.91it/s]"
     ]
    },
    {
     "name": "stderr",
     "output_type": "stream",
     "text": [
      "\r\n",
      " 80%|██████████████████████████████████████████████████████████████████████████████████████▍                     | 480/600 [01:19<00:18,  6.52it/s]"
     ]
    },
    {
     "name": "stderr",
     "output_type": "stream",
     "text": [
      "\r\n",
      " 80%|██████████████████████████████████████████████████████████████████████████████████████▌                     | 481/600 [01:19<00:17,  6.93it/s]"
     ]
    },
    {
     "name": "stderr",
     "output_type": "stream",
     "text": [
      "\r\n",
      " 80%|██████████████████████████████████████████████████████████████████████████████████████▊                     | 482/600 [01:19<00:15,  7.42it/s]"
     ]
    },
    {
     "name": "stderr",
     "output_type": "stream",
     "text": [
      "\r\n",
      " 80%|██████████████████████████████████████████████████████████████████████████████████████▉                     | 483/600 [01:19<00:15,  7.78it/s]"
     ]
    },
    {
     "name": "stderr",
     "output_type": "stream",
     "text": [
      "\r\n",
      " 81%|███████████████████████████████████████████████████████████████████████████████████████                     | 484/600 [01:19<00:14,  7.84it/s]"
     ]
    },
    {
     "name": "stderr",
     "output_type": "stream",
     "text": [
      "\r\n",
      " 81%|███████████████████████████████████████████████████████████████████████████████████████▎                    | 485/600 [01:19<00:16,  7.13it/s]"
     ]
    },
    {
     "name": "stderr",
     "output_type": "stream",
     "text": [
      "\r\n",
      " 81%|███████████████████████████████████████████████████████████████████████████████████████▍                    | 486/600 [01:19<00:16,  6.98it/s]"
     ]
    },
    {
     "name": "stderr",
     "output_type": "stream",
     "text": [
      "\r\n",
      " 81%|███████████████████████████████████████████████████████████████████████████████████████▋                    | 487/600 [01:20<00:15,  7.24it/s]"
     ]
    },
    {
     "name": "stderr",
     "output_type": "stream",
     "text": [
      "\r\n",
      " 81%|███████████████████████████████████████████████████████████████████████████████████████▊                    | 488/600 [01:20<00:14,  7.66it/s]"
     ]
    },
    {
     "name": "stderr",
     "output_type": "stream",
     "text": [
      "\r\n",
      " 82%|████████████████████████████████████████████████████████████████████████████████████████                    | 489/600 [01:20<00:14,  7.77it/s]"
     ]
    },
    {
     "name": "stderr",
     "output_type": "stream",
     "text": [
      "\r\n",
      " 82%|████████████████████████████████████████████████████████████████████████████████████████▏                   | 490/600 [01:20<00:14,  7.64it/s]"
     ]
    },
    {
     "name": "stderr",
     "output_type": "stream",
     "text": [
      "\r\n",
      " 82%|████████████████████████████████████████████████████████████████████████████████████████▍                   | 491/600 [01:20<00:14,  7.62it/s]"
     ]
    },
    {
     "name": "stderr",
     "output_type": "stream",
     "text": [
      "\r\n",
      " 82%|████████████████████████████████████████████████████████████████████████████████████████▌                   | 492/600 [01:20<00:14,  7.38it/s]"
     ]
    },
    {
     "name": "stderr",
     "output_type": "stream",
     "text": [
      "\r\n",
      " 82%|████████████████████████████████████████████████████████████████████████████████████████▋                   | 493/600 [01:20<00:14,  7.45it/s]"
     ]
    },
    {
     "name": "stderr",
     "output_type": "stream",
     "text": [
      "\r\n",
      " 82%|████████████████████████████████████████████████████████████████████████████████████████▉                   | 494/600 [01:20<00:13,  7.61it/s]"
     ]
    },
    {
     "name": "stderr",
     "output_type": "stream",
     "text": [
      "\r\n",
      " 82%|█████████████████████████████████████████████████████████████████████████████████████████                   | 495/600 [01:21<00:13,  7.81it/s]"
     ]
    },
    {
     "name": "stderr",
     "output_type": "stream",
     "text": [
      "\r\n",
      " 83%|█████████████████████████████████████████████████████████████████████████████████████████▎                  | 496/600 [01:21<00:13,  7.80it/s]"
     ]
    },
    {
     "name": "stderr",
     "output_type": "stream",
     "text": [
      "\r\n",
      " 83%|█████████████████████████████████████████████████████████████████████████████████████████▍                  | 497/600 [01:21<00:13,  7.53it/s]"
     ]
    },
    {
     "name": "stderr",
     "output_type": "stream",
     "text": [
      "\r\n",
      " 83%|█████████████████████████████████████████████████████████████████████████████████████████▋                  | 498/600 [01:21<00:13,  7.77it/s]"
     ]
    },
    {
     "name": "stderr",
     "output_type": "stream",
     "text": [
      "\r\n",
      " 83%|█████████████████████████████████████████████████████████████████████████████████████████▊                  | 499/600 [01:21<00:12,  7.94it/s]"
     ]
    },
    {
     "name": "stderr",
     "output_type": "stream",
     "text": [
      "\r\n",
      " 83%|██████████████████████████████████████████████████████████████████████████████████████████                  | 500/600 [01:21<00:12,  8.06it/s]"
     ]
    },
    {
     "name": "stderr",
     "output_type": "stream",
     "text": [
      "\r\n",
      " 84%|██████████████████████████████████████████████████████████████████████████████████████████▏                 | 501/600 [01:21<00:12,  8.02it/s]"
     ]
    },
    {
     "name": "stderr",
     "output_type": "stream",
     "text": [
      "\r\n",
      " 84%|██████████████████████████████████████████████████████████████████████████████████████████▎                 | 502/600 [01:21<00:12,  8.02it/s]"
     ]
    },
    {
     "name": "stderr",
     "output_type": "stream",
     "text": [
      "\r\n",
      " 84%|██████████████████████████████████████████████████████████████████████████████████████████▌                 | 503/600 [01:22<00:12,  7.87it/s]"
     ]
    },
    {
     "name": "stderr",
     "output_type": "stream",
     "text": [
      "\r\n",
      " 84%|██████████████████████████████████████████████████████████████████████████████████████████▋                 | 504/600 [01:22<00:12,  7.83it/s]"
     ]
    },
    {
     "name": "stderr",
     "output_type": "stream",
     "text": [
      "\r\n",
      " 84%|██████████████████████████████████████████████████████████████████████████████████████████▉                 | 505/600 [01:22<00:12,  7.75it/s]"
     ]
    },
    {
     "name": "stderr",
     "output_type": "stream",
     "text": [
      "\r\n",
      " 84%|███████████████████████████████████████████████████████████████████████████████████████████                 | 506/600 [01:22<00:12,  7.68it/s]"
     ]
    },
    {
     "name": "stderr",
     "output_type": "stream",
     "text": [
      "\r\n",
      " 84%|███████████████████████████████████████████████████████████████████████████████████████████▎                | 507/600 [01:22<00:12,  7.58it/s]"
     ]
    },
    {
     "name": "stderr",
     "output_type": "stream",
     "text": [
      "\r\n",
      " 85%|███████████████████████████████████████████████████████████████████████████████████████████▍                | 508/600 [01:22<00:12,  7.63it/s]"
     ]
    },
    {
     "name": "stderr",
     "output_type": "stream",
     "text": [
      "\r\n",
      " 85%|███████████████████████████████████████████████████████████████████████████████████████████▌                | 509/600 [01:22<00:12,  7.54it/s]"
     ]
    },
    {
     "name": "stderr",
     "output_type": "stream",
     "text": [
      "\r\n",
      " 85%|███████████████████████████████████████████████████████████████████████████████████████████▊                | 510/600 [01:22<00:11,  7.53it/s]"
     ]
    },
    {
     "name": "stderr",
     "output_type": "stream",
     "text": [
      "\r\n",
      " 85%|███████████████████████████████████████████████████████████████████████████████████████████▉                | 511/600 [01:23<00:11,  7.55it/s]"
     ]
    },
    {
     "name": "stderr",
     "output_type": "stream",
     "text": [
      "\r\n",
      " 85%|████████████████████████████████████████████████████████████████████████████████████████████▏               | 512/600 [01:23<00:11,  7.58it/s]"
     ]
    },
    {
     "name": "stderr",
     "output_type": "stream",
     "text": [
      "\r\n",
      " 86%|████████████████████████████████████████████████████████████████████████████████████████████▎               | 513/600 [01:23<00:11,  7.61it/s]"
     ]
    },
    {
     "name": "stderr",
     "output_type": "stream",
     "text": [
      "\r\n",
      " 86%|████████████████████████████████████████████████████████████████████████████████████████████▌               | 514/600 [01:23<00:11,  7.61it/s]"
     ]
    },
    {
     "name": "stderr",
     "output_type": "stream",
     "text": [
      "\r\n",
      " 86%|████████████████████████████████████████████████████████████████████████████████████████████▋               | 515/600 [01:23<00:11,  7.37it/s]"
     ]
    },
    {
     "name": "stderr",
     "output_type": "stream",
     "text": [
      "\r\n",
      " 86%|████████████████████████████████████████████████████████████████████████████████████████████▉               | 516/600 [01:23<00:11,  7.12it/s]"
     ]
    },
    {
     "name": "stderr",
     "output_type": "stream",
     "text": [
      "\r\n",
      " 86%|█████████████████████████████████████████████████████████████████████████████████████████████               | 517/600 [01:23<00:11,  7.20it/s]"
     ]
    },
    {
     "name": "stderr",
     "output_type": "stream",
     "text": [
      "\r\n",
      " 86%|█████████████████████████████████████████████████████████████████████████████████████████████▏              | 518/600 [01:24<00:15,  5.22it/s]"
     ]
    },
    {
     "name": "stderr",
     "output_type": "stream",
     "text": [
      "\r\n",
      " 86%|█████████████████████████████████████████████████████████████████████████████████████████████▍              | 519/600 [01:24<00:14,  5.69it/s]"
     ]
    },
    {
     "name": "stderr",
     "output_type": "stream",
     "text": [
      "\r\n",
      " 87%|█████████████████████████████████████████████████████████████████████████████████████████████▌              | 520/600 [01:24<00:12,  6.18it/s]"
     ]
    },
    {
     "name": "stderr",
     "output_type": "stream",
     "text": [
      "\r\n",
      " 87%|█████████████████████████████████████████████████████████████████████████████████████████████▊              | 521/600 [01:24<00:12,  6.56it/s]"
     ]
    },
    {
     "name": "stderr",
     "output_type": "stream",
     "text": [
      "\r\n",
      " 87%|█████████████████████████████████████████████████████████████████████████████████████████████▉              | 522/600 [01:24<00:12,  6.44it/s]"
     ]
    },
    {
     "name": "stderr",
     "output_type": "stream",
     "text": [
      "\r\n",
      " 87%|██████████████████████████████████████████████████████████████████████████████████████████████▏             | 523/600 [01:24<00:11,  6.63it/s]"
     ]
    },
    {
     "name": "stderr",
     "output_type": "stream",
     "text": [
      "\r\n",
      " 87%|██████████████████████████████████████████████████████████████████████████████████████████████▎             | 524/600 [01:25<00:11,  6.89it/s]"
     ]
    },
    {
     "name": "stderr",
     "output_type": "stream",
     "text": [
      "\r\n",
      " 88%|██████████████████████████████████████████████████████████████████████████████████████████████▌             | 525/600 [01:25<00:10,  7.16it/s]"
     ]
    },
    {
     "name": "stderr",
     "output_type": "stream",
     "text": [
      "\r\n",
      " 88%|██████████████████████████████████████████████████████████████████████████████████████████████▋             | 526/600 [01:25<00:10,  7.34it/s]"
     ]
    },
    {
     "name": "stderr",
     "output_type": "stream",
     "text": [
      "\r\n",
      " 88%|██████████████████████████████████████████████████████████████████████████████████████████████▊             | 527/600 [01:25<00:09,  7.42it/s]"
     ]
    },
    {
     "name": "stderr",
     "output_type": "stream",
     "text": [
      "\r\n",
      " 88%|███████████████████████████████████████████████████████████████████████████████████████████████             | 528/600 [01:25<00:09,  7.48it/s]"
     ]
    },
    {
     "name": "stderr",
     "output_type": "stream",
     "text": [
      "\r\n",
      " 88%|███████████████████████████████████████████████████████████████████████████████████████████████▏            | 529/600 [01:25<00:09,  7.12it/s]"
     ]
    },
    {
     "name": "stderr",
     "output_type": "stream",
     "text": [
      "\r\n",
      " 88%|███████████████████████████████████████████████████████████████████████████████████████████████▍            | 530/600 [01:25<00:10,  6.60it/s]"
     ]
    },
    {
     "name": "stderr",
     "output_type": "stream",
     "text": [
      "\r\n",
      " 88%|███████████████████████████████████████████████████████████████████████████████████████████████▌            | 531/600 [01:26<00:10,  6.39it/s]"
     ]
    },
    {
     "name": "stderr",
     "output_type": "stream",
     "text": [
      "\r\n",
      " 89%|███████████████████████████████████████████████████████████████████████████████████████████████▊            | 532/600 [01:26<00:10,  6.44it/s]"
     ]
    },
    {
     "name": "stderr",
     "output_type": "stream",
     "text": [
      "\r\n",
      " 89%|███████████████████████████████████████████████████████████████████████████████████████████████▉            | 533/600 [01:26<00:10,  6.53it/s]"
     ]
    },
    {
     "name": "stderr",
     "output_type": "stream",
     "text": [
      "\r\n",
      " 89%|████████████████████████████████████████████████████████████████████████████████████████████████            | 534/600 [01:26<00:10,  6.46it/s]"
     ]
    },
    {
     "name": "stderr",
     "output_type": "stream",
     "text": [
      "\r\n",
      " 89%|████████████████████████████████████████████████████████████████████████████████████████████████▎           | 535/600 [01:26<00:10,  6.36it/s]"
     ]
    },
    {
     "name": "stderr",
     "output_type": "stream",
     "text": [
      "\r\n",
      " 89%|████████████████████████████████████████████████████████████████████████████████████████████████▍           | 536/600 [01:26<00:10,  6.37it/s]"
     ]
    },
    {
     "name": "stderr",
     "output_type": "stream",
     "text": [
      "\r\n",
      " 90%|████████████████████████████████████████████████████████████████████████████████████████████████▋           | 537/600 [01:27<00:09,  6.37it/s]"
     ]
    },
    {
     "name": "stderr",
     "output_type": "stream",
     "text": [
      "\r\n",
      " 90%|████████████████████████████████████████████████████████████████████████████████████████████████▊           | 538/600 [01:27<00:10,  6.10it/s]"
     ]
    },
    {
     "name": "stderr",
     "output_type": "stream",
     "text": [
      "\r\n",
      " 90%|█████████████████████████████████████████████████████████████████████████████████████████████████           | 539/600 [01:27<00:10,  5.64it/s]"
     ]
    },
    {
     "name": "stderr",
     "output_type": "stream",
     "text": [
      "\r\n",
      " 90%|█████████████████████████████████████████████████████████████████████████████████████████████████▏          | 540/600 [01:27<00:10,  5.68it/s]"
     ]
    },
    {
     "name": "stderr",
     "output_type": "stream",
     "text": [
      "\r\n",
      " 90%|█████████████████████████████████████████████████████████████████████████████████████████████████▍          | 541/600 [01:27<00:09,  5.92it/s]"
     ]
    },
    {
     "name": "stderr",
     "output_type": "stream",
     "text": [
      "\r\n",
      " 90%|█████████████████████████████████████████████████████████████████████████████████████████████████▌          | 542/600 [01:27<00:10,  5.45it/s]"
     ]
    },
    {
     "name": "stderr",
     "output_type": "stream",
     "text": [
      "\r\n",
      " 90%|█████████████████████████████████████████████████████████████████████████████████████████████████▋          | 543/600 [01:28<00:11,  5.17it/s]"
     ]
    },
    {
     "name": "stderr",
     "output_type": "stream",
     "text": [
      "\r\n",
      " 91%|█████████████████████████████████████████████████████████████████████████████████████████████████▉          | 544/600 [01:28<00:10,  5.18it/s]"
     ]
    },
    {
     "name": "stderr",
     "output_type": "stream",
     "text": [
      "\r\n",
      " 91%|██████████████████████████████████████████████████████████████████████████████████████████████████          | 545/600 [01:28<00:10,  5.38it/s]"
     ]
    },
    {
     "name": "stderr",
     "output_type": "stream",
     "text": [
      "\r\n",
      " 91%|██████████████████████████████████████████████████████████████████████████████████████████████████▎         | 546/600 [01:28<00:09,  5.74it/s]"
     ]
    },
    {
     "name": "stderr",
     "output_type": "stream",
     "text": [
      "\r\n",
      " 91%|██████████████████████████████████████████████████████████████████████████████████████████████████▍         | 547/600 [01:28<00:08,  5.90it/s]"
     ]
    },
    {
     "name": "stderr",
     "output_type": "stream",
     "text": [
      "\r\n",
      " 91%|██████████████████████████████████████████████████████████████████████████████████████████████████▋         | 548/600 [01:29<00:09,  5.76it/s]"
     ]
    },
    {
     "name": "stderr",
     "output_type": "stream",
     "text": [
      "\r\n",
      " 92%|██████████████████████████████████████████████████████████████████████████████████████████████████▊         | 549/600 [01:29<00:09,  5.60it/s]"
     ]
    },
    {
     "name": "stderr",
     "output_type": "stream",
     "text": [
      "\r\n",
      " 92%|███████████████████████████████████████████████████████████████████████████████████████████████████         | 550/600 [01:29<00:08,  5.58it/s]"
     ]
    },
    {
     "name": "stderr",
     "output_type": "stream",
     "text": [
      "\r\n",
      " 92%|███████████████████████████████████████████████████████████████████████████████████████████████████▏        | 551/600 [01:29<00:08,  5.83it/s]"
     ]
    },
    {
     "name": "stderr",
     "output_type": "stream",
     "text": [
      "\r\n",
      " 92%|███████████████████████████████████████████████████████████████████████████████████████████████████▎        | 552/600 [01:29<00:08,  5.92it/s]"
     ]
    },
    {
     "name": "stderr",
     "output_type": "stream",
     "text": [
      "\r\n",
      " 92%|███████████████████████████████████████████████████████████████████████████████████████████████████▌        | 553/600 [01:29<00:08,  5.76it/s]"
     ]
    },
    {
     "name": "stderr",
     "output_type": "stream",
     "text": [
      "\r\n",
      " 92%|███████████████████████████████████████████████████████████████████████████████████████████████████▋        | 554/600 [01:30<00:08,  5.75it/s]"
     ]
    },
    {
     "name": "stderr",
     "output_type": "stream",
     "text": [
      "\r\n",
      " 92%|███████████████████████████████████████████████████████████████████████████████████████████████████▉        | 555/600 [01:30<00:07,  5.72it/s]"
     ]
    },
    {
     "name": "stderr",
     "output_type": "stream",
     "text": [
      "\r\n",
      " 93%|████████████████████████████████████████████████████████████████████████████████████████████████████        | 556/600 [01:30<00:07,  5.73it/s]"
     ]
    },
    {
     "name": "stderr",
     "output_type": "stream",
     "text": [
      "\r\n",
      " 93%|████████████████████████████████████████████████████████████████████████████████████████████████████▎       | 557/600 [01:30<00:07,  5.97it/s]"
     ]
    },
    {
     "name": "stderr",
     "output_type": "stream",
     "text": [
      "\r\n",
      " 93%|████████████████████████████████████████████████████████████████████████████████████████████████████▍       | 558/600 [01:30<00:06,  6.09it/s]"
     ]
    },
    {
     "name": "stderr",
     "output_type": "stream",
     "text": [
      "\r\n",
      " 93%|████████████████████████████████████████████████████████████████████████████████████████████████████▌       | 559/600 [01:30<00:06,  6.25it/s]"
     ]
    },
    {
     "name": "stderr",
     "output_type": "stream",
     "text": [
      "\r\n",
      " 93%|████████████████████████████████████████████████████████████████████████████████████████████████████▊       | 560/600 [01:31<00:06,  6.34it/s]"
     ]
    },
    {
     "name": "stderr",
     "output_type": "stream",
     "text": [
      "\r\n",
      " 94%|████████████████████████████████████████████████████████████████████████████████████████████████████▉       | 561/600 [01:31<00:06,  6.36it/s]"
     ]
    },
    {
     "name": "stderr",
     "output_type": "stream",
     "text": [
      "\r\n",
      " 94%|█████████████████████████████████████████████████████████████████████████████████████████████████████▏      | 562/600 [01:31<00:05,  6.39it/s]"
     ]
    },
    {
     "name": "stderr",
     "output_type": "stream",
     "text": [
      "\r\n",
      " 94%|█████████████████████████████████████████████████████████████████████████████████████████████████████▎      | 563/600 [01:31<00:05,  6.28it/s]"
     ]
    },
    {
     "name": "stderr",
     "output_type": "stream",
     "text": [
      "\r\n",
      " 94%|█████████████████████████████████████████████████████████████████████████████████████████████████████▌      | 564/600 [01:31<00:05,  6.30it/s]"
     ]
    },
    {
     "name": "stderr",
     "output_type": "stream",
     "text": [
      "\r\n",
      " 94%|█████████████████████████████████████████████████████████████████████████████████████████████████████▋      | 565/600 [01:31<00:05,  6.46it/s]"
     ]
    },
    {
     "name": "stderr",
     "output_type": "stream",
     "text": [
      "\r\n",
      " 94%|█████████████████████████████████████████████████████████████████████████████████████████████████████▉      | 566/600 [01:31<00:05,  6.35it/s]"
     ]
    },
    {
     "name": "stderr",
     "output_type": "stream",
     "text": [
      "\r\n",
      " 94%|██████████████████████████████████████████████████████████████████████████████████████████████████████      | 567/600 [01:32<00:05,  6.22it/s]"
     ]
    },
    {
     "name": "stderr",
     "output_type": "stream",
     "text": [
      "\r\n",
      " 95%|██████████████████████████████████████████████████████████████████████████████████████████████████████▏     | 568/600 [01:32<00:05,  6.33it/s]"
     ]
    },
    {
     "name": "stderr",
     "output_type": "stream",
     "text": [
      "\r\n",
      " 95%|██████████████████████████████████████████████████████████████████████████████████████████████████████▍     | 569/600 [01:32<00:05,  6.12it/s]"
     ]
    },
    {
     "name": "stderr",
     "output_type": "stream",
     "text": [
      "\r\n",
      " 95%|██████████████████████████████████████████████████████████████████████████████████████████████████████▌     | 570/600 [01:32<00:04,  6.13it/s]"
     ]
    },
    {
     "name": "stderr",
     "output_type": "stream",
     "text": [
      "\r\n",
      " 95%|██████████████████████████████████████████████████████████████████████████████████████████████████████▊     | 571/600 [01:32<00:04,  6.28it/s]"
     ]
    },
    {
     "name": "stderr",
     "output_type": "stream",
     "text": [
      "\r\n",
      " 95%|██████████████████████████████████████████████████████████████████████████████████████████████████████▉     | 572/600 [01:32<00:04,  6.38it/s]"
     ]
    },
    {
     "name": "stderr",
     "output_type": "stream",
     "text": [
      "\r\n",
      " 96%|███████████████████████████████████████████████████████████████████████████████████████████████████████▏    | 573/600 [01:33<00:04,  6.42it/s]"
     ]
    },
    {
     "name": "stderr",
     "output_type": "stream",
     "text": [
      "\r\n",
      " 96%|███████████████████████████████████████████████████████████████████████████████████████████████████████▎    | 574/600 [01:33<00:04,  6.44it/s]"
     ]
    },
    {
     "name": "stderr",
     "output_type": "stream",
     "text": [
      "\r\n",
      " 96%|███████████████████████████████████████████████████████████████████████████████████████████████████████▌    | 575/600 [01:33<00:03,  6.49it/s]"
     ]
    },
    {
     "name": "stderr",
     "output_type": "stream",
     "text": [
      "\r\n",
      " 96%|███████████████████████████████████████████████████████████████████████████████████████████████████████▋    | 576/600 [01:33<00:03,  6.55it/s]"
     ]
    },
    {
     "name": "stderr",
     "output_type": "stream",
     "text": [
      "\r\n",
      " 96%|███████████████████████████████████████████████████████████████████████████████████████████████████████▊    | 577/600 [01:33<00:03,  6.59it/s]"
     ]
    },
    {
     "name": "stderr",
     "output_type": "stream",
     "text": [
      "\r\n",
      " 96%|████████████████████████████████████████████████████████████████████████████████████████████████████████    | 578/600 [01:33<00:03,  6.41it/s]"
     ]
    },
    {
     "name": "stderr",
     "output_type": "stream",
     "text": [
      "\r\n",
      " 96%|████████████████████████████████████████████████████████████████████████████████████████████████████████▏   | 579/600 [01:34<00:03,  6.37it/s]"
     ]
    },
    {
     "name": "stderr",
     "output_type": "stream",
     "text": [
      "\r\n",
      " 97%|████████████████████████████████████████████████████████████████████████████████████████████████████████▍   | 580/600 [01:34<00:03,  6.37it/s]"
     ]
    },
    {
     "name": "stderr",
     "output_type": "stream",
     "text": [
      "\r\n",
      " 97%|████████████████████████████████████████████████████████████████████████████████████████████████████████▌   | 581/600 [01:34<00:02,  6.47it/s]"
     ]
    },
    {
     "name": "stderr",
     "output_type": "stream",
     "text": [
      "\r\n",
      " 97%|████████████████████████████████████████████████████████████████████████████████████████████████████████▊   | 582/600 [01:34<00:02,  6.57it/s]"
     ]
    },
    {
     "name": "stderr",
     "output_type": "stream",
     "text": [
      "\r\n",
      " 97%|████████████████████████████████████████████████████████████████████████████████████████████████████████▉   | 583/600 [01:34<00:02,  6.61it/s]"
     ]
    },
    {
     "name": "stderr",
     "output_type": "stream",
     "text": [
      "\r\n",
      " 97%|█████████████████████████████████████████████████████████████████████████████████████████████████████████   | 584/600 [01:34<00:02,  6.67it/s]"
     ]
    },
    {
     "name": "stderr",
     "output_type": "stream",
     "text": [
      "\r\n",
      " 98%|█████████████████████████████████████████████████████████████████████████████████████████████████████████▎  | 585/600 [01:34<00:02,  6.68it/s]"
     ]
    },
    {
     "name": "stderr",
     "output_type": "stream",
     "text": [
      "\r\n",
      " 98%|█████████████████████████████████████████████████████████████████████████████████████████████████████████▍  | 586/600 [01:35<00:02,  6.68it/s]"
     ]
    },
    {
     "name": "stderr",
     "output_type": "stream",
     "text": [
      "\r\n",
      " 98%|█████████████████████████████████████████████████████████████████████████████████████████████████████████▋  | 587/600 [01:35<00:01,  6.67it/s]"
     ]
    },
    {
     "name": "stderr",
     "output_type": "stream",
     "text": [
      "\r\n",
      " 98%|█████████████████████████████████████████████████████████████████████████████████████████████████████████▊  | 588/600 [01:35<00:01,  6.71it/s]"
     ]
    },
    {
     "name": "stderr",
     "output_type": "stream",
     "text": [
      "\r\n",
      " 98%|██████████████████████████████████████████████████████████████████████████████████████████████████████████  | 589/600 [01:35<00:01,  6.66it/s]"
     ]
    },
    {
     "name": "stderr",
     "output_type": "stream",
     "text": [
      "\r\n",
      " 98%|██████████████████████████████████████████████████████████████████████████████████████████████████████████▏ | 590/600 [01:35<00:01,  6.68it/s]"
     ]
    },
    {
     "name": "stderr",
     "output_type": "stream",
     "text": [
      "\r\n",
      " 98%|██████████████████████████████████████████████████████████████████████████████████████████████████████████▍ | 591/600 [01:35<00:01,  6.68it/s]"
     ]
    },
    {
     "name": "stderr",
     "output_type": "stream",
     "text": [
      "\r\n",
      " 99%|██████████████████████████████████████████████████████████████████████████████████████████████████████████▌ | 592/600 [01:35<00:01,  6.69it/s]"
     ]
    },
    {
     "name": "stderr",
     "output_type": "stream",
     "text": [
      "\r\n",
      " 99%|██████████████████████████████████████████████████████████████████████████████████████████████████████████▋ | 593/600 [01:36<00:01,  6.65it/s]"
     ]
    },
    {
     "name": "stderr",
     "output_type": "stream",
     "text": [
      "\r\n",
      " 99%|██████████████████████████████████████████████████████████████████████████████████████████████████████████▉ | 594/600 [01:36<00:00,  6.70it/s]"
     ]
    },
    {
     "name": "stderr",
     "output_type": "stream",
     "text": [
      "\r\n",
      " 99%|███████████████████████████████████████████████████████████████████████████████████████████████████████████ | 595/600 [01:36<00:00,  5.50it/s]"
     ]
    },
    {
     "name": "stderr",
     "output_type": "stream",
     "text": [
      "\r\n",
      " 99%|███████████████████████████████████████████████████████████████████████████████████████████████████████████▎| 596/600 [01:36<00:00,  5.19it/s]"
     ]
    },
    {
     "name": "stderr",
     "output_type": "stream",
     "text": [
      "\r\n",
      "100%|███████████████████████████████████████████████████████████████████████████████████████████████████████████▍| 597/600 [01:36<00:00,  5.03it/s]"
     ]
    },
    {
     "name": "stderr",
     "output_type": "stream",
     "text": [
      "\r\n",
      "100%|███████████████████████████████████████████████████████████████████████████████████████████████████████████▋| 598/600 [01:37<00:00,  5.22it/s]"
     ]
    },
    {
     "name": "stderr",
     "output_type": "stream",
     "text": [
      "\r\n",
      "100%|███████████████████████████████████████████████████████████████████████████████████████████████████████████▊| 599/600 [01:37<00:00,  5.48it/s]"
     ]
    },
    {
     "name": "stderr",
     "output_type": "stream",
     "text": [
      "\r\n",
      "100%|████████████████████████████████████████████████████████████████████████████████████████████████████████████| 600/600 [01:37<00:00,  5.72it/s]"
     ]
    },
    {
     "name": "stderr",
     "output_type": "stream",
     "text": [
      "\r\n",
      "100%|████████████████████████████████████████████████████████████████████████████████████████████████████████████| 600/600 [01:37<00:00,  6.16it/s]"
     ]
    },
    {
     "name": "stderr",
     "output_type": "stream",
     "text": [
      "\n"
     ]
    },
    {
     "data": {
      "text/plain": [
       "(<Figure size 640x480 with 1 Axes>,\n",
       " <AxesSubplot:xlabel='Descent step', ylabel='log10(Mean square error)'>)"
      ]
     },
     "execution_count": 5,
     "metadata": {},
     "output_type": "execute_result"
    },
    {
     "data": {
      "application/vnd.jupyter.widget-view+json": {
       "model_id": "fcb32022edd74b8693b1b38395eb2ff3",
       "version_major": 2,
       "version_minor": 0
      },
      "image/png": "[encoded data removed]",
      "text/html": [
       "\n",
       "            <div style=\"display: inline-block;\">\n",
       "                <div class=\"jupyter-widgets widget-label\" style=\"text-align: center;\">\n",
       "                    Figure\n",
       "                </div>\n",
       "                <img src='data:image/png;base64,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' width=640.0/>\n",
       "            </div>\n",
       "        "
      ],
      "text/plain": [
       "Canvas(toolbar=Toolbar(toolitems=[('Home', 'Reset original view', 'home', 'home'), ('Back', 'Back to previous …"
      ]
     },
     "metadata": {},
     "output_type": "display_data"
    }
   ],
   "source": [
    "iq = ImageQuant2(img=imgs, roi=rois, cytbg=cytbg, membg=membg)\n",
    "iq.quantify()\n",
    "iq.plot_losses(log=True)"
   ]
  },
  {
   "cell_type": "markdown",
   "metadata": {},
   "source": [
    "### Save results"
   ]
  },
  {
   "cell_type": "code",
   "execution_count": 6,
   "metadata": {
    "execution": {
     "iopub.execute_input": "2023-08-03T16:14:39.456139Z",
     "iopub.status.busy": "2023-08-03T16:14:39.455380Z",
     "iopub.status.idle": "2023-08-03T16:14:44.625395Z",
     "shell.execute_reply": "2023-08-03T16:14:44.624602Z"
    }
   },
   "outputs": [],
   "source": [
    "res = iq.compile_res(ids=df['EmbryoID'].to_list())\n",
    "res['Membrane signal'] *= calibration_factor\n",
    "res.to_csv('../../data/par2_nebd_quantification.csv')"
   ]
  },
  {
   "cell_type": "code",
   "execution_count": null,
   "metadata": {},
   "outputs": [],
   "source": []
  }
 ],
 "metadata": {
  "kernelspec": {
   "display_name": "Python 3",
   "language": "python",
   "name": "python3"
  },
  "language_info": {
   "codemirror_mode": {
    "name": "ipython",
    "version": 3
   },
   "file_extension": ".py",
   "mimetype": "text/x-python",
   "name": "python",
   "nbconvert_exporter": "python",
   "pygments_lexer": "ipython3",
   "version": "3.7.12"
  },
  "widgets": {
   "application/vnd.jupyter.widget-state+json": {
    "state": {
     "28df80134f88461e95a65babc2191f6b": {
      "model_module": "@jupyter-widgets/base",
      "model_module_version": "2.0.0",
      "model_name": "LayoutModel",
      "state": {
       "_model_module": "@jupyter-widgets/base",
       "_model_module_version": "2.0.0",
       "_model_name": "LayoutModel",
       "_view_count": null,
       "_view_module": "@jupyter-widgets/base",
       "_view_module_version": "2.0.0",
       "_view_name": "LayoutView",
       "align_content": null,
       "align_items": null,
       "align_self": null,
       "border_bottom": null,
       "border_left": null,
       "border_right": null,
       "border_top": null,
       "bottom": null,
       "display": null,
       "flex": null,
       "flex_flow": null,
       "grid_area": null,
       "grid_auto_columns": null,
       "grid_auto_flow": null,
       "grid_auto_rows": null,
       "grid_column": null,
       "grid_gap": null,
       "grid_row": null,
       "grid_template_areas": null,
       "grid_template_columns": null,
       "grid_template_rows": null,
       "height": null,
       "justify_content": null,
       "justify_items": null,
       "left": null,
       "margin": null,
       "max_height": null,
       "max_width": null,
       "min_height": null,
       "min_width": null,
       "object_fit": null,
       "object_position": null,
       "order": null,
       "overflow": null,
       "padding": null,
       "right": null,
       "top": null,
       "visibility": null,
       "width": null
      }
     },
     "724265167d4f4c83b7dbea253e281500": {
      "model_module": "jupyter-matplotlib",
      "model_module_version": "^0.11",
      "model_name": "ToolbarModel",
      "state": {
       "_current_action": "",
       "_dom_classes": [],
       "_model_module": "jupyter-matplotlib",
       "_model_module_version": "^0.11",
       "_model_name": "ToolbarModel",
       "_view_count": null,
       "_view_module": "jupyter-matplotlib",
       "_view_module_version": "^0.11",
       "_view_name": "ToolbarView",
       "button_style": "",
       "collapsed": true,
       "layout": "IPY_MODEL_28df80134f88461e95a65babc2191f6b",
       "orientation": "vertical",
       "tabbable": null,
       "toolitems": [
        [
         "Home",
         "Reset original view",
         "home",
         "home"
        ],
        [
         "Back",
         "Back to previous view",
         "arrow-left",
         "back"
        ],
        [
         "Forward",
         "Forward to next view",
         "arrow-right",
         "forward"
        ],
        [
         "Pan",
         "Left button pans, Right button zooms\nx/y fixes axis, CTRL fixes aspect",
         "arrows",
         "pan"
        ],
        [
         "Zoom",
         "Zoom to rectangle\nx/y fixes axis",
         "square-o",
         "zoom"
        ],
        [
         "Download",
         "Download plot",
         "floppy-o",
         "save_figure"
        ]
       ],
       "tooltip": null
      }
     },
     "81b2f6574f6f47b999efcfdd8e64eec1": {
      "model_module": "@jupyter-widgets/base",
      "model_module_version": "2.0.0",
      "model_name": "LayoutModel",
      "state": {
       "_model_module": "@jupyter-widgets/base",
       "_model_module_version": "2.0.0",
       "_model_name": "LayoutModel",
       "_view_count": null,
       "_view_module": "@jupyter-widgets/base",
       "_view_module_version": "2.0.0",
       "_view_name": "LayoutView",
       "align_content": null,
       "align_items": null,
       "align_self": null,
       "border_bottom": null,
       "border_left": null,
       "border_right": null,
       "border_top": null,
       "bottom": null,
       "display": null,
       "flex": null,
       "flex_flow": null,
       "grid_area": null,
       "grid_auto_columns": null,
       "grid_auto_flow": null,
       "grid_auto_rows": null,
       "grid_column": null,
       "grid_gap": null,
       "grid_row": null,
       "grid_template_areas": null,
       "grid_template_columns": null,
       "grid_template_rows": null,
       "height": null,
       "justify_content": null,
       "justify_items": null,
       "left": null,
       "margin": null,
       "max_height": null,
       "max_width": null,
       "min_height": null,
       "min_width": null,
       "object_fit": null,
       "object_position": null,
       "order": null,
       "overflow": null,
       "padding": null,
       "right": null,
       "top": null,
       "visibility": null,
       "width": null
      }
     },
     "d29e86f0337945299997ddc5cfca3051": {
      "model_module": "jupyter-matplotlib",
      "model_module_version": "^0.11",
      "model_name": "ToolbarModel",
      "state": {
       "_current_action": "",
       "_dom_classes": [],
       "_model_module": "jupyter-matplotlib",
       "_model_module_version": "^0.11",
       "_model_name": "ToolbarModel",
       "_view_count": null,
       "_view_module": "jupyter-matplotlib",
       "_view_module_version": "^0.11",
       "_view_name": "ToolbarView",
       "button_style": "",
       "collapsed": true,
       "layout": "IPY_MODEL_d786d2504c06464eaeac1623c45da626",
       "orientation": "vertical",
       "tabbable": null,
       "toolitems": [
        [
         "Home",
         "Reset original view",
         "home",
         "home"
        ],
        [
         "Back",
         "Back to previous view",
         "arrow-left",
         "back"
        ],
        [
         "Forward",
         "Forward to next view",
         "arrow-right",
         "forward"
        ],
        [
         "Pan",
         "Left button pans, Right button zooms\nx/y fixes axis, CTRL fixes aspect",
         "arrows",
         "pan"
        ],
        [
         "Zoom",
         "Zoom to rectangle\nx/y fixes axis",
         "square-o",
         "zoom"
        ],
        [
         "Download",
         "Download plot",
         "floppy-o",
         "save_figure"
        ]
       ],
       "tooltip": null
      }
     },
     "d786d2504c06464eaeac1623c45da626": {
      "model_module": "@jupyter-widgets/base",
      "model_module_version": "2.0.0",
      "model_name": "LayoutModel",
      "state": {
       "_model_module": "@jupyter-widgets/base",
       "_model_module_version": "2.0.0",
       "_model_name": "LayoutModel",
       "_view_count": null,
       "_view_module": "@jupyter-widgets/base",
       "_view_module_version": "2.0.0",
       "_view_name": "LayoutView",
       "align_content": null,
       "align_items": null,
       "align_self": null,
       "border_bottom": null,
       "border_left": null,
       "border_right": null,
       "border_top": null,
       "bottom": null,
       "display": null,
       "flex": null,
       "flex_flow": null,
       "grid_area": null,
       "grid_auto_columns": null,
       "grid_auto_flow": null,
       "grid_auto_rows": null,
       "grid_column": null,
       "grid_gap": null,
       "grid_row": null,
       "grid_template_areas": null,
       "grid_template_columns": null,
       "grid_template_rows": null,
       "height": null,
       "justify_content": null,
       "justify_items": null,
       "left": null,
       "margin": null,
       "max_height": null,
       "max_width": null,
       "min_height": null,
       "min_width": null,
       "object_fit": null,
       "object_position": null,
       "order": null,
       "overflow": null,
       "padding": null,
       "right": null,
       "top": null,
       "visibility": null,
       "width": null
      }
     },
     "fcb32022edd74b8693b1b38395eb2ff3": {
      "model_module": "jupyter-matplotlib",
      "model_module_version": "^0.11",
      "model_name": "MPLCanvasModel",
      "state": {
       "_cursor": "pointer",
       "_data_url": "data:image/png;base64,iVBORw0KGgoAAAANSUhEUgAAAoAAAAHgCAYAAAA10dzkAAAAOXRFWHRTb2Z0d2FyZQBNYXRwbG90bGliIHZlcnNpb24zLjUuMywgaHR0cHM6Ly9tYXRwbG90bGliLm9yZy/NK7nSAAAACXBIWXMAAA9hAAAPYQGoP6dpAAEAAElEQVR4nOz9eZwdV33g/X9OLXftu/S+qaXu1i5ZmyWvGG/BmCVAgAkE8gBDIHkcMvkl8GP8Cs8smUweXswMDD+eTEISEiaEkDAJJMCwPNgGbLxjy7slWbvUUu/73W8t5/z+qHu7b7dasiS33K3u84aiqk6dqjp1u9H99tlKKKUUmqZpmqZp2qphLHUBNE3TNE3TtNeXDgA1TdM0TdNWGR0AapqmaZqmrTI6ANQ0TdM0TVtldACoaZqmaZq2yugAUNM0TdM0bZXRAaCmaZqmadoqowNATdM0TdO0VUYHgJqmaZqmaauMDgA1TdM0TdNWGR0AapqmaZqmrTI6ANQ0TdM0TVtldACoaZqmaZq2yugAUNM0TdM0bZXRAaCmaZqmadoqowNATdM0TdO0VUYHgJqmaZqmaauMDgA1TdM0TdNWGR0AapqmaZqmrTI6ANQ0TdM0TVtldACoaZqmaZq2yugAUNM0TdM0bZXRAaCmaZqmadoqowNATdM0TdO0VUYHgJqmaZqmaauMDgA1TdM0TdNWGR0AapqmaZqmrTI6ANQ0TdM0TVtldACoaZqmaZq2yugAUNM0TdM0bZXRAaCmaZqmadoqowNATdM0TdO0VUYHgJqmaZqmaauMDgA1TdM0TdNWGR0AapqmaZqmrTI6ANQ0TdM0TVtldACoaZqmaZq2yugAUNM0TdM0bZXRAaCmaZqmadoqowNATdM0TdO0VUYHgJqmaZqmaauMDgA1TdM0TdNWGR0AapqmaZqmrTI6ANQ0TdM0TVtldACoaZqmaZq2yugAUNM0TdM0bZXRAaCmaZqmadoqowNATdM0TdO0VUYHgJqmaZqmaauMDgA1TdM0TdNWGR0AapqmaZqmrTI6ANQ0TdM0TVtldACoaZqmaZq2yugAUNM0TdM0bZXRAaCmaZqmadoqowNATdM0TdO0VcZa6gJczaSUDAwMkEgkEEIsdXE0TdM0TbsISimy2SwdHR0YxuqsC9MB4GswMDBAV1fXUhdD0zRN07TLcObMGdasWbPUxVgSOgB8DRKJBBD8AiWTySUujaZpmqZpFyOTydDV1TXzPb4a6QDwNag2+yaTSR0AapqmadpVZjV331qdDd+apmmapmmrmA4ANU3TNE3TVhkdAGqapmmapq0yOgDUNE3TNE1bZXQAqGmapmmatsroAFDTNE3TNG2V0QGgpmmapmnaKqMDQE3TNE3TtFVGB4CapmmapmmrjA4ANU3TNE3TVhkdAGqapmmapq0yOgDUNE3TNE1bZXQAuAwNHHmFb/3x/8Whx36O5zhLXRxN0zRN01YYa6kLoJ3rxZ/+mL6XX6Tv5ReJ1CXYftud7H7zL5Nua1/qommapmmatgIIpZRa6kJcrTKZDKlUiunpaZLJ5OJdd3SElx96gJcf/AnZ8dEgUQh69+xj992/TPfOPQhDV95qmqZp2uW4Ut/fVxMdAL4GV/oXSEqfU88/y/P3/YCTzz8zk17f3snuu9/O9tveRDgWW/T7apqmadpKpgNAHQC+Jq/nL9DkYD/P3/dDXn7oJzjFAgB2JMq2N95B797rWLP1GkKR6BUtg6ZpmqatBDoA1AHga3Ilf4Fk0cOInttF0ykVOfjwgzz34+8z0X9mJl0YBvVtHTR0dpFoaiISTxBNJLDCYUzTwrCsytrEMC0M08S0LAzTCtaWNXffNDEtG8OazSeEWNRn1DRN07SloANAHQC+JlfqF6h4cJyJbx2h4V9tJLq9acE8Sin6Xn6Bw48/TN/LLzA9Mrxo9z8fwzTnBYgWwjBBgBAiCBCFQCAqaUZln5k+izN5FsgrBAscEzXXBoFAGALOORbch0sIUq94QHtFy3Jp+S/t8jrQ1zRt+dh88xvZcvOti3pNHQDqUcDLUuHIJKroMf5PR2j73ThW07lNu0II1u3YzboduwHIjo8xfraPiYGz5KcmKeWylLJZPNfB9zyk5+H7PtL3kJ6P77nIyr7v+8Fxz60c85C+d849g/w+nlO+0h+BpmmapgHQvK5nqYuwIukAcBl67myOXt8jVIaxbxyk9d/sQVgXHvWbaGwi0dhE965rF6UMSqnZANHzkH4laPQ8fM9Hei6+56GkRKFABecopUCpSlrNvgJQKDl7LMgHSsmZ88/NExyfOb/mmjPnSzlT5kt4wEv7PLjEivJLKsqlVsIvp7JomqZdWa29G5a6CCuSDgCXoeSBf+Fn48e5a91HYQiyj/STvKPrdS2DEAKz0i/QDr+ut9Y0TdM07QrTAeAytH9qkKKY5pnxn3F9y1uZeuAIx83/jEhJTDOGaUR4Tf20Lrvvm+4bpl2Y0L8jmqYtsqamX6K5+U1LXYwVRweAy9DL+9rZsL/EyfyLrC/soDG2hvCzGxnc+ZdLXTRN0zRNe12FI+06ALwCdAC4DD1VHyHUmabrTIb9kw9wd+yjJIZuJPWmDchUFilLl3Xd19S7S/cN016V/h3RNG3xpdL7lroIK5IOAJehOwe/gz1VjwpvYqp8iv78MTrjGwi/sJWmX9+61MXTNE3TNO0qp18ouwytOd5IQzZEgZNgJHl56hEAii+N4Y0Vl7h0mqZpmqZd7XQAuAy1FUykUMTLAseSTDkjDBZOIIDMY/1LXTxN0zRN065yugl4GZrovQ0mnkFN5gg5ORAJjmT20x7rZfrJs3xv+GFEyMCofbvGMlprmqZp2mLZtGkTmzZtWupirDg6AFyGXjZitDZvIZ57GuUKfFFkqHiSjDNBMtRAvE9y0Opb6mJqmqZp2hVXV1enA8ArQAeAy9CNA5PsPvtdHu65htz0FKb0QEQ5mnmGvU13sS+yha3vvL7yFo1g5OVyWWuapmnaYuru7l7qIqxIOgBchm46+3WcPou7nKf4Qc8mZAEkDqfzB9jdeCehnMnEz4fwopWJN85peV24KXahFtqZ5tsLnjl74EpO9HvFQ0jdQr08vA4/B/3nyEXQ/3+4KEro36alJutK0L3UpVh5dAC4DD1y405u7D+AN2Rxc8MgD4XbsCS4CvrzR1hbt5W2/uhSF1PTNE3Trrjx0jDs27LUxVhxdAC4DP0itYPkzjxbnztN6pUCrbuKjBMHBCdzL7G2bitZC+65MYongjq5OTV4lebY+bV6M3/wq/Okz8+v//DVtKua/v+wthK8I2Kza6kLsQLpAHAZWtfUx1d33cnn+78GI3DjxFm+17ARS3oMF09R8LIkSNCZVfysTf8INU3TtJXrzd2tS12EFUlHD8vQvn85zvEPd/G1nW/moz+5D3XaYl16in4aUFicyr3MtvRN/PtJi9+6uxelZvs8nbOuDtKYd4/Z49X9ufl0xYGmXd30uCxtpdgYjyx1EVYkHQAuQ4/9xibel/h7fnT7WykciRDrK7FnbJT+pgYU7kwAmOjLsTkcxYzbS11kTdM0TdOuIjoAXIYaCwojoXhz/QN888Y387G+B5D9Jg1N00yQIutOMFUeIR1u4f6//C79yemrdhLmq7XccPWWXZf79Xe1lv1qLTdcvWW/WssNV67sO3bsYMeOHVfk2quZDgCXoSPTBRrjG2ipO8ammw9Seswi0u9xfWaYHydTgElf/hDpcAv1oza/yJxd6iJrmqZp2hXR0dGx1EVYkVZMAPjwww/z+c9/nmeeeYbBwUG+853v8Cu/8isXPOfnP/85n/rUpzhw4AAdHR3ce++93HPPPa9PgS/gt07eRGxwHYdu/b9YHzrJI2/azV1/exDztEF0R4kiEc7kX2Fnw210qgZ+7V2/iopcudc6r4RJnvUzLA/6GZYH/QzLg36Gi9Pe3n7F77EarZgAMJ/Ps2vXLj760Y/y3ve+91Xznzx5kre97W385m/+Jt/4xjd47LHH+MQnPkFzc/NFnX8lPdhyjOPWc9w6cAeRzh/RfG0/6gcKxgV7yoM8Hu4h500zUR6iIdzGmnI9dXv0X0iapmmapl2cFRMAvvWtb+Wtb33rRef/i7/4C9auXcuXvvQlALZu3cr+/fv5whe+sOQB4N9apymnjzOR6+VX/RQt9iivvLmDrd8co3HQhXUShMmZ/CEawm1MPz1M3Y06ANQ0TdM07eJcuXbDZe6JJ57gzW9+85y0u+++m/379+O67hKVKvCBp0ogLZ6LnWBgOJj93L2uDJbEnzbpVhOA4kz+MACyP4efdZawxJqmaZqmXU1WbQA4NDREa+vcySVbW1vxPI+xsbEFzymXy2QymTnLldDkjbDjxR4Avu4dpiSjNEXGGb8lmAtpU3YKgLw3zUR5EAEUD41fkbJomqZpmrbyrNoAEM4dsl7tzHq+oeyf+9znSKVSM0tXV9cVKdexje+iLf5xjEI7GeFwfDroADtwW/D+39CgwlQ+AGfzRwGYfmb4ipRF0zRN07SVZ8X0AbxUbW1tDA0NzUkbGRnBsiwaGxsXPOczn/kMn/rUp2b2M5nMFQkCf9FzCy/2NrLx8HuZ4k/5XmGErWlBY+sofqcF/Qab1AiHRDv9haPsbLgV/1SGF//wfkzTwDAEpmFiGAamYSAMA2GImbVhGGAIROU9wlDdFghREwALoDYYnnlJ8GzanFi59ryr3VU8F9dVT3/0mqbViO1sJrareamLseKs2gDwpptu4vvf//6ctPvvv599+/Zh2wu/WSMcDhMOh6942TKNQR/Evp7d1J9cx0j0NH2lJrqjowzfGabj71zWZvIcSkPGHSPrTpCwG/hewxgvxqeCuE1KhApe8CaEwqi+7K12yH6QgJjZVKDETFqwPfe1cPO/m6v7V2IiAHXJkUD1dXaXG0EsdN7Cr9J7LcTMxXSkU/NhaJqmLeja/Unu3fUbS12MFWfFBIC5XI5jx47N7J88eZLnn3+ehoYG1q5dy2c+8xn6+/v5+te/DsA999zDn/7pn/KpT32K3/zN3+SJJ57gq1/9Kt/85jeX6hFmXDN+mFOpNlzLxmn8AGbhv/B4rkB3FAq7FOobCntQYac9XGzO5o+yNX0DbfTwZ+ujS118TdM0TVs0daceWeoirEgrJgDcv38/d9xxx8x+tan2Ix/5CF/72tcYHBykr69v5nhPTw8/+tGP+OQnP8mf/dmf0dHRwZ/8yZ8s+RQwAEPJdjonR+ivb6GQXE8i08xz5RHeI21isQLONpPwAZMt/ggvmR30F4IA8PbhMm/pfxHHEvjCwDeMmdowJYKaMSXEzBpAIkCArHQHVUIEaYAUgsuvpTp/zc6Frqguuen1tdYgvb61cJdfO6lpmrY6NZVzS12EFWnFBIC33377BWck/9rXvnZO2m233cazzz57BUt1ebqdE9T7MQZTjZRCEezmX4XJL/NyPsy+hMvYrWE6D3i0Z0u8lIbxcj9FL0fUquOWzGnGI6cwlcSQPqYvMZXClBJTVta+wpASUwESBAaiEkgJgmZgoRQIEEohELNxlgClxLwwprKn5qZVLjE3j6ZpmnYJ9L+d9fHrl7oIK9KKCQBXktv7X+Ch8LVstU9yoG0D0t5JWBk8WXTZlwBns48yFKFBOdMMPFA4xvrkbrZM9fJUW5aCFaFoRigYEVzDwhMmngjWvjDxhIkrrJltT1jIau1gJRys1hbCbE/B2hhPifl9AKs1jMF29bzl1Mtruf5TqmYKtpw+rYUt5Weoa1A1bfV5Y+EV3rTUhViBdAC4DB3ObSCcc7nGOsShll7ykTgNsTs5UXyAvG8TD5VxtgbNwJvVCC+LDs4WjrI+uZveTBNvKP8dQneu1zRN01aAf2q7BfiDpS7GiqMDwGXoaWcjbnaYtBdlY9NpDrf0MBX/ZSLFn/By0eCGOpi4KUT7AZ/WfJmX62CkeBpXlrGNRr7r/Tqe6CMqHKKUsfEwkVjCD9Z4WEhMfKyafUNIqnV+s3WBgUqd4JxjQfr8vOce0y5Mf0YXR9f9adrqVJzQb7q6EnQAuAztG/wx0VKGg+Ut7BzLc7ilh1yknpDo4vniKW6og9JWiRKK2LCLiEukMBgqnqQrvoX+wh38gzeJa9hIYeAbZjAoRJjBvjCRGPjCALGq5wLXNE3TlrmdzvN8ZKkLsQLpAHAZOtiWZu+pDNuyr/DCsZtoXjPBaLIBP/k+jkx/gaI0iUbLOOtNxDGTXmOC46qJgcJxuuJbeEexzC899MWLupdE4BkGUpg1/f4g6M832+dKipq6wZr0an5VGU08Uxcolr7/35L3F1vi2y/582uapi2CEzu2LXURViQdAC5Dbzo6QGpqilPNadYPv0h5rJGfJ2+kHN2MNS04UDTYF/fJ3GTSfAzWlDIcDzcxWDiOUgozvZb/8u5PkfVLwShg38eUPpbvV0YB+zNphlQIJYP5eFUlxFPViaBrmnJVEOahKk2+qjpiOChzcE4lD5xzXDs/cYHR69pcOqTVtNUn39S61EVYkXQAuAwlxRQd2RhDSQnhPE0HT2Ot20cxFCVq7eWF4i/YF4f8NYImJKkxDzoVZVlivDxAU6STZN0GfpZQwbx6AjBE8HozAxBBLV6QVrNe6FVutTO8zJ+j75x8C7w2bv62pmmapl2CdRP6XfdXgg4Al6GTrR9iuLmH5oEfcYZX6Ox/he6JAY41r4X4Wzic2Y+rDEKJMl6bjRg2aevKMSQTDBSO0RTp5Jas4vvZ4lI/iqZpmqa9Jk1N2aUuwoqkA8Bl6MmNR7nzcA/jrXeSGDkGEZfuM8c51ryWfKwbY9rgeMlkS1RS2KtI/dBgnTvJkBkEgDsbbuNGJfi9woOUTfANE29mIIiBR+VNIRjBfICYeBhIjNrpoGdab1VlHujZRt45jb3npHNOvgu+++NKfISv2fIs1au5uqpar87PWNO019stpYmlLsKKpAPAZei6Yz347gmU1UnSvpEsj7LpwDM8vPMWynaEuH0tB0tPsiUK0zttUj/0acqWIQ3T7hh5b5q4leLtL/bhD7+01I+jaZqmaZftzJ4bl7oIK5KeA2QZKjo/wc19F6/0NFON1xF364jlp+ge6w8yxN7CwZIJgOgsIyMKY1gREi4gGCgcA6DQcx19DQkGUnFGEzEm6qJMxaNMxyJkomFykTD5cIhiyKZkWziWiWuaeKaBZwSLbxj4QuALgawstbWDmqZpmnYlRV39LuArQdcALkO7kgPknV1MlF9EhXYSs3aT51HWnzrMkbZuitG1jE4bjLgmLbZPeavAeM5kgxjnoGpjoHCcjcm9GC3X8vm6EJbysJWHpTws6c3sm8rDruxbysNUPkIpDGRl5K+caeAN0qvbcnaCFzU7OTQEo3+pjBKebSSuWqgxuCZNqbl51dXWqHlhK+lZtNVG/8mnLZ11W3qWuggrkg4Al6Ge1nfQbL+BA5OPcTD/CNn6txAae4r1x1/CvP5NFEMxYlYPB0uHabEhs9ci+pyivVTgYAhGSn140qHBCCHqNvEKcqkfSdM0TdMuyy/HB/i1pS7ECqQDwGVoPNdHM29gc+o6jmX/CiknqTN2UM4+Q/vkKGcb2zAid3OweIzbEx7FLQqFIjHuQrtCKslQ8RRr4pu4p+kwT9QfxPFDONKeu/ZDOL6NI4O1K22kCur8pDKQykCpoD5QqZq0ynGoThVYfQkclbUIRo5QW28wOym0UrX1fLoXgqZpmnZ+9Wt1qHIl6E91Gdo/lmVdwwBRr4Md9bfwbOY5iulbEJln6Bk4ydnGNsqRLRzPGZSlQTjm4HVaiAGLtq4sg16SgcJx1sQ30e1dy/GbriVKkYjKExVlosIlSokIDjYOJnlsHCzlYKoyBi5KekjlopQHKJSq1CIqhUISTAodBJ6z26+Wzuz2AqrzIdcGjefNdBnUZTdjLU3zl1oBE0SvgEdY9fQbZbSl1rXmg0tdhBVJB4DL0C3G24h6HQB01+3g4NRTeAISXgsbThzgkR03kY3WY4s4x8oO26NQ2AmpfsE6OckQSQaLxwFonRL8bV+c8XDyou9vCggJg7AhsA2BicAUYIhgbSIwBJg1+6K6j8A0ZvNWvzoEYnZ7gfmiReUac9Pmzk1dvcKlXkdbfvTPZvnSPxttuXl7JE33UhdiBdIB4DKUI4VUConEEiYbkrs4UHgR4jfTOPx96vMZJuNJCP8SR0r/wvaoz/Q1IVL/r0fzdBkSUPLzjJcHaAx38O4DBR6sN/BNgWeCZwjKgKMkngIPNfP+Xghab8tAeW70Vdm+yr4erpbiXi3l1DRNe501eYJfbkkvdTFWHB0ALkOdxjhP58Psiwc/nt66nRyY/nuc5LWY44p1w2eY7N2OilzP4fz3ABfWllGWgTGsiKQcSjLCQOE4jeEOto06fGN04beCCMB+/R5N0zRN0y6JE0nArqUuxcqjA8BlyB76GyJNvTyd/3VuiEPIjLAu1skZb4yYvZHeviM837udXLSDwSmDjG+QNH2c9QJx2KLXmOCgbGOgcIwd9W/kJiz+P7euJ+P55MseecfD9RVKKZQiqG2srGf3g+3a/Wqey3W5p15u373Lvt9ll/Ny76c7ymmapp3PNU11S12EFUkHgMvQ4YTDhtDPecXdSEZuIGW20F23g1MTL2N29dJ1+mEs38OxQ0hrA4dLB7guDtN7LFoOS9rdAgcFTDkjFLwcMauOT6xvIbK5YakfTdM0TdO0ZUDPwbEMbWo22J4e4drYN3g6F0cpRVOkk4gcxC10kBDTtE+OAmCG7+RI5a0g2a1BPJ8aLxPURxkMVt4Kknt5bCkeRdM0TdO0ZUgHgMvQU6nfY9T5j3RE4yTNV/DpA2BtrAe3ME3T9ga6hoM0N7yJI+XgxxhpyiGjCmfEojWcRSFnXwv30qhuatQ0TdM0DdAB4LJ0XVMjZXk9096HuC7+PxlwPADW1W1HuseQxjo2jB8CIBdtZMq3GXINhIDSdoV0DdaJaQQwXDqNLz2MksQbKSzhU2mapmmatlzoAHAZ+kzmCfabxxlVG2gOpRn2Cijlkgo1EWeC3OA2bux+lohbxjMtlL2Lw6XgRzmxOwxAay4I9nzlMVw6DUDh0MTSPJCmaZqmacuKDgCXoa1jIzxvn+J56yTT3ofYFPkRPmcA6Ii0U560iTUW6JwcBsAIv5EjlQCwtDG4RmjUJ2K4gMlgIZgUOvvc8Ov+LJqmaZqmLT86AFyG1g4ETb7HjCFG6aI7PM24lwGgI7YB3z1GfmgbW9ygf58T7uVY2cRXEEvk8RoUpbEQXZFJwGeg8lYQNVxAFtwleSZN0zRN05YPHQAuQ2tGM0SmxlECnrNOUpJvwucoAI3hDix/iOzgTnaFnwQgG01TIkKfE/w48zsESgo6VB6AgpdhyhlFICgdmVyah9I0TdM0bdnQAeAy9IObDTYfOgLAcWOYQbWXNfazSDWAIQzaw3XkBtazPn6AulIBaRhg38jRymjg8Z1RAFqmClSng6mOBs6+MLoUj6RpmqZp2jKiA8BlKNtwmkLMJZSZAAFHzTES1nqKKhjM0R7tRZZHKI5tYE1+EIAGcR1HK/MB+j3B2329YYPmcB6FmukHWD4yjvL1dDCapmmatprpAHAZ+ozsI/SRDN1GUGt31Bxgyr8VXx0GoCW6Dun1MXD0DjZ6QdNwKdLBKcfAUxCP5PGboTwZYk10CoFivDxA2S9i+ALnTGbJnk3TNE3TtKWnA8Bl6OXYThqSk6T2TSE8l4Jw6BP1pK2zKFUiYsZIkkNOraO3eBKAgUQ9UoY5VWkGntptA9BRCqaDUSiGiicAyLw0jFRyCZ5M0zRN07TlQL8LeBkaGVhD85qDRFqG6RSvcJYdHDUH2ak6mZQHEOylJdxIviTxz9YT6ShTCoVpsndyrPw4GyKSsR1xmh6YJjFaZuuaa8i4Ljl3CoCTT77Ar4x8GMf2sCybsBkOFis8u127nCc9ZIaImJFgbQVrU5jnPI9AnJsmzk07n4s9f8F8C6QtnLTI99A0TdMWRUddB2sSa5a6GCuODgCXoR9kdxM/VaR3w89o23aWs4ev4Ywxzqh7M6b4BbCX1mg3x7NnEIU2OqdHON7cRSjWy5HyL3gLHubaAgpFcTjEvl0pHHXLzPU7/Db+8ejnASgLh7xRpGCWKBglCkaRvFkK0owiebNI3iiSMycYruyXhYsvfFzh4Qsfr7rg4wsfX0hU5T9SKBQSiUJW0iVqwSBM0zRN0+b7xK5P8Nu7f3upi7Hi6ABwGUpuLfBPR+/k3p6HibaOkTw1TKbcRj9pehgHoDmyBiZexHa20zY1wfHmLibtrRQzBo6CeCiP224jBi2m8j+haPRiGSHq7Po5tXRhFSLsh2jwU6/7c/pIlKiEikKhYCZIVIJKADl3X4lqUDn3PKr/WxNYVo/MV5s+syXUgscXOu98Q2iUWOC6C27NvZ+maZp2fn5DDHYvdSlWHh0ALkNNzaM8PbqFkYHdtHXtp7PxMJmBNk6ao+wQMTLeJJZRT9p0GC0naZ/uA6A/spZmIThZNtgckYzujdH5gyKx8eN83/s6YLEltZddDXdAyqfhLU1ghEBZgIWSBkgD6YIq+6iShyz5yJKHKtZsexI8hZISfIWqLPjy/NHRAkyM2fw6HtI0TdMWkIyuXeoirEg6AFyG+jJx7B6Lxw7fxHu79lO/dghjyOOMGmNK7iRkPIlUb6U53MJU2aMhN03Ic3GsEC2RHo6VjrA5Ihm7JkrnD4owAo1tBcacOgYKJ9jVcAdqQnL6//h18J2FC2GaCNtGWBYiFAqWcBgjEkFEIhixGEY0gghHMKIRjEgUIxpFhCMI2wYhaqrjFliryloAClTlmDgnD+deqyY/MHtswX6Fl98HcM71LiFAnc16nnZuHexqmqZdNCMUA9YtdTFWHB0ALkOl0ABr409wv9rDO/KNhOLjNNefYnh8AwOqh271TeCtNEe6OJodwHSStE2P09fYhpO7haPRYPqYeEcGJRSF4TAdm6YZH4uTccfIu9PE7RRe5w34Qy9i+mUM6WDUjgz2fZTv61hF0zRNW1LOW+6m7ta9S12MFUcHgMtQbLCPgdTjuF03cvTMjWzf8kNaGk8wPL6BQSPLRizKEpoinajJl8l7W2mvBID5SC9jjkFZQswqUOoKE+1TdFsZDtc14eRCDBSOsTG1l+ltH+CF3l+bua9AYRoSEx8LD0O5mL4bBIh+GcMtY3olhFvEdIoYXhnTdzCkg+k7mNLB8B0M6TG3jk7V1HopRG1YqdSc+89Pn5NWc50gfeHrrAarawzN6vrZapo2l60iS12EFUkHgMvQ++8z+f+9u8Da1hd4+NRutm/5IcnmUczjLmflOKZaA2oC22ggKUoMFFtpnwze9DHU2EXDmTAnymW2RiUD1yVY35chPVhix28eo1i0KUyNMewfIlKOkcrWIZ04ygsjvTDSDyO9EE5130iiDBtsAfr/g5qmadrrbOsmgw1LXYgVSAeAy1B9O9z2kmJ/4uc8nfo3fDTbQiQxQn19P2NjNv3eNpqNJ/DU22kONzJdLpPLTWL5HqVQmIZcL0fLL7E1KpnaHoF/zlAaDpGacPGbBdSNMsVPAGi/iPJIBb40cX0Lf2YJ4fs20gujKov0wyg3Cl4IhYFSAqEEShkEffeCNOakVfv3zesnOKf/YE2fQZi7XXu8cs6CffDO6Y9YmzabrtS8PDP5Vled29VKXcU/p6u35JdBV+pql+CEWced3L7UxVhxdAC4DP3Dzrt44/MJ9k8cJtLucHpwN5sT99Ncf4qxsW6GRZxmFbzVozmyhpO5AQ67TTRnpxhMN2GH9nC0fACAdMt40A9wNEThqThH3WYijSV6W9YTi1uMhYfI29OYpodpeBimh2l6GIaHafoAGAIM08c2faC8VB+LpmmatgqdHtkL6HkAF5sOAJeh608NMrpmLTcMR3iu41GeOrqTzZvup75pEHHMZ8CYZJcK4SloinQhpx4knb8Ne2qCwXQTufotZByDooSoUSS7IUbyqEd3LsOTU2vJDydInVlLb9NbCKsCDzRmEZ4Hvov0PaT0kNJFKgdhlBFWCcMqI8wyhlXGsJwgSKwEi6bhze5XgkgAIYJ+ekJU+v2JSt+9mX1VyTOXmO3ox/yqAgELzqE395yqVztXzaZf4v00Tbs8Qlf/aZco4rUsdRFWJB0ALkN2KA7kSMhm1PQLPBq9g18rJrGjGZLJUYamoiBbQGWJmAni5OjwTQ7nRoFNjCRbaDwb43jZ4Zqoz5kb0mw/OoY94lNfV2TCiTNYCPoMponylV3NTIXO81popbB9SPiQkIKEhJiEuJTEPI+o5xPxfcLSw/bB9hWmD6ZSCCRCVf7Bl3LmxdPVBtW5cdV5vhTU7DFxnlxzB48smGHmYPWeF/oKmr3eIjXKLeYAFf3dqWnaKrN+m54C5krQAeAyZOWPQagNgWBjfxMDaxxGR7fSsfYX1NcPcGq6jbNyCx3GY7jqLTSFU3Q6RZ4YTQMwHatjvbeBo6VnuSbqU9gS/Jjzw2E6OqaZHItR9HNMlUdIh1v45LF+Hm9RTFo2eTtCxgoFi2GhhMC1YMKCiTmlNIDQ6/zJaJqmaavNp9c285alLsQKtKgBYLlc5qmnnuLUqVMUCgWam5vZs2cPPT09i3mbFS9lHaNu7SDH+/bQUeykI/ESrxzdHASAqQFOcS0TRpJOGcz31xjuIFYcwi91UJ/PMBlPYls7OVZ+AXBprB9GGYrShE1nuMCByn36C0dJh1vYfXCA3MPfP6ccwjAIRWPY0RhmNIoRjmKEw6hwGEIRpB3CD4Xx7RCeHca1bRxhUkbgGQIpDKQw8A0DaRj4wkAikCh8KhVjombghhBzGmXnbM8ZuzGvZk6ImUo2NXM9URkboha+xqtUGuqKNk3TtOWh3UksdRFWpEUJAB9//HH+x//4H3z3u9/FcRzS6TTRaJSJiQnK5TK9vb381m/9Fvfccw+JhP5Bvhprc4nW7pMMjnVTKNTTNHmWx93buBOIJyexrBJD/jS7lAkqCABl9nlavXXkMhNMxpMUwmsZdgR5H+JmmdFrUrS8WKRjahpL+HgqzEDxONvr30BrrBc75iOlQvkC6QYjdJWUlPM5yvncRZfdriyapmmathh6/tUHYfP6pS7GivOaA8B3vetdPP3003zwgx/kvvvuY9++fcRisZnjJ06c4JFHHuGb3/wmX/ziF/n617/OXXfd9Vpvu6I9XdzH3er7dHUd4PDhW+jpi/JMW5riVCfRdD/p+iEGh9MI0Qq4pEJNmP4YnZ7BqakStMNoopHUWD3Hyg67Yj7916VpebGIM2LR2TLN6XwDE+VByl6BsBWjXvYwUuo7pyzClBi2xLAkhqUwLIkwVKXiLhjYEUztAkpWX8mmgqleqpuqUkMnme3IF4yuAM7TRW5O2gJ98RacA/oCr27TVXqr1KqaXEW7RPqfhatDtvAM8MGlLsaK85oDwDe/+c1861vfIhRauD9Yb28vvb29fOQjH+HAgQMMDAy81luueLdO3cLkwC9obOvDOOoR92O0pM/SP7qFDel+0ulBjo120+9uo4Xn8Lieesuk01McHA++8EbSTWx8JcrRJoNdMR9nY5CeHwrTsjnP6XwDAAPFE/QkrmF7z82EjTS5iXFKuSylXA6lJMo38H0Df8k+jRrVERxi3ujcBfaBOUHqZd3uNWe4nPPO/5V0wdNeS5yzomMk/RWvnd+K/tVfQRZ8zbv2mr3mAPB3fud3APB9n0cffZSdO3dSX1+/YN7t27ezffv213rLFS/tjTLWfzdm59/R0nKCoaFNdMnTHJzeyAZ+Sjo5DMC4SNLB43jqehojbTQ6o+RycSJOmVIoTLS8jmOlfsClJTGAbwE5i16meJouwGSgcIyexDXUuyEa7/wWLcSxRALTSCBkHcqNIb0IvmcjXQvPMfEdUVnAdxW+I/EcH9+RuGUXt+QgPQ/py8q0MhLp+cG2L1G17xy+FNVOfGpu/8BKkqZpmrYCxcI7lroIK9KiDQIxTZO7776bQ4cOnTcA1C7Ok+5x3j71Jo5NfIeW1pMMDW2i86ziKWML7wSi8Sy2XWTYm+Ya6c/0AyQzRL23nWhmnL6mDgrJ7YyUnyDrQ8J06NvTTs/T49SNOCRDJaadGEPFk0jlY/vt2IVm3PgwPtmguRbO6dQnCH5pLv8XxwRlgjSCde3bPVTNmxwqb98ImpGrTcVz3xIy89YOBQIxO6ikkq5q3g5SLfvcLXHeKgClrtCfnJcZqV6xVx3ryFnTtGWusSez1EVYkRZ1FPCOHTs4ceKEHvX7GtUn1vF4PEV4bCftG5/Assqks2HGukMUpzuIpgZIJkcZLDciZBKoDATxXqTT38Ho9BQ0wek162npj3C0xeHamM/wdUl6nh4nPxyi5YY4I9Md+LlphktnaY+uY+PIf4fWEm5pCrc8hefl8GQGKUv4qoA0SijTQZolpFlGmmWUWa7sO0irVNkvX2DyZB+ED+bCR+eHXee+rE3TNE1bVSanlroEK9KiBoCf/exn+fSnP80f//Efs3fvXuLx+JzjyWRyMW+3Yn27ZwfPt0d57+DbeLd6nKam00EtYPwMw+Mb6E4NkEoNc2J8LeOso06NEDZbiJGnwzPon5CwHoYbWtn6YoRjpRzXxnxYH7zGLT8cZq0Y4LmGPbgNrfxQHSOtBgidjjCaTdOaSrK2vpem5hT1TQkSyTjRWJSwFcKSBpQlsuQhyz6q5CFLlXXZR7ky2PdclOcjPRfle0jfRbkeSvlIfMCr1NAplFKzVVxSzaZBTdVXpd23EljOnUN6tkl57tHzjC5RCvVqM0Kfb5LqV5k+RtM0TVtc6T1blroIK9KiBoBveUswVeM73/lORE2vTaUUQgh8f1kMJVj29kS+xfP8Jj9sXc+dw000NfUxNLSJ7sIYx6bX083DpBIjAIzQSb14Eod30hROk3PyZCZtTOnj2CGM6DaOlB8DXNojZylHbcJF6J3qIyKGKNc1omybKVEACjA1wdAUDJ1euGwKMISNYdjYZoiwGSJshwnZIexQiJAdIhQOlnA4RDgZIhIJE44msEMWobCFFbKwLBPDMM5ZhBAzvzu164XSXut6ftqVcqnXv9Ll0TRN07RFDQAffPDBxbzcqnXX9CF+mj5Fn9HNCf9Gdqd/hGG4NA/bPCs28yYgnpjEMFwmhYswhkAGzcD9pUEsby1N2SmGU408e82vYI0/waQnqLc8TuztZuujfXgjJr3Rlzg9VA+Wzb6O9+KEDB5qcDgT8Ql5ZSKeQ8hzCXsuIc+tvN4NlHLxfRffL1ACKC7t56UtJ5cY7F6hUmiatnJsWbeb93/0XUtdjBVnUQPA2267bTEvt2q1fN/j7g/8jL9q+g3+qfVu9ogfUN8wgD+2jpNrUjj5BkLxCZLJUUbG2xB+BKj0A8y9SIfXQy4zyXCqEceuY10uwrFymessn/HrYvBo0Azccq3kTAHwXGRulO2pfQx5Dn+zrZGE69HgONT5DnHPIe6ViPklol4J0y9jSg8lPYQvkVKiKs22UlWaapVASAUSDKUQlVZapQQCFaSpYG0oObMtVHV8r6qZwaX6Dl818x5hbbm6tIZx3YyuadqreSmT5/1LXYgVaNHfBTw1NcVXv/pVDh06hBCCbdu28Ru/8RukUqnFvtWKNdr5ft7+z3/Bt37r3ZyxO8iMp2moH2B8bB3NiRHGxzfQHn+KVGqEoclpPL8J8EmFWhD+KJ2ewdHJMnSBY9nEW9o4WspxXdzHWheMpiqMhOiNTPN08v2YuecZKBxjc2ofN00EQVjWtsjaFhC7YFkvllCKiO8T9X2i0ickJaaSGEpVahYlZjUgZO46OK5q5pCuBImyJlikNmic+0K5maBSqZm0mfHGipqgkznXmyn7vPRzpxe83DDmSoeyl1Ou1y8kO+84IU27aulf6ithS2lsqYuwIi1qALh//37uvvtuotEo119/PUopvvjFL/LZz36W+++/n2uvvXYxb3eOL3/5y3z+859ncHCQ7du386UvfYk3vvGNC+Z96KGHuOOOO85JP3ToEFu2LG2H0yeaz7LjiMf1ztPcH34zx+R2rql/DoBeb4yTUxtoX/sUyeQIp4XHAOvpFC/hspt6y6DTkzwzEfxoC+Eoo41vZGD0BACddh+5ZIy6jEPT5Cgtdge51E6GjUGeLubosmJ89PA4k3GXqPKwlcJAIBF4wsQTJq4wcQ2TcmUpGSYl06RoCkqmoGRCyRQUTXCN6nt4BUXLomgt+t8cmqZp2grW2vfSUhdhRVrUb+NPfvKTvPOd7+Sv/uqvsCpf9J7n8fGPf5zf//3f5+GHH17M283xj//4j/z+7/8+X/7yl3nDG97AX/7lX/LWt76VgwcPsnbt2vOed/jw4Tmjk5ubm69YGS/WwebHeelmgztf2M/917+Z/93wdvYajxGNTtE4FuYFZwM3A4nEGCCZpI4ungZ20xhuY9odpVRMkSpkmY4l6FfX0SC/zpgnaLIkZ/Y1sPVnQ+SHw1hbfoA/8SGisp2BMgyUfTpfMGgTNtko5MKKYsigELEohkMUQxaObVC2BI4tKFvgGAIHkChMqbARJFxFzIek51Hn+8Q8HxMfU3mY+BjKx6jUzglVaSZm9k1xwVR+CoUIRuyqyhFRW3O08F/b1exiTo6FJphRNenV8cPVgHVu7nPeLHcplXfnFFNdeGZ7XYmgaVcdpQdvXTHtlJe6CCvSotcA1gZ/AJZlce+997Jv377FvNU5vvjFL/Kxj32Mj3/84wB86Utf4r777uPP//zP+dznPnfe81paWkin01e0bJeqayLKD9YJPvovL9J+XT/HjE2Ui2EaGvvJn63n5dZOfDeMaZeJxacZ9bIgPVDQEO7gWHaAFr+JcnaC6VgCfIuuaIijJYemumA+wK0/GyI/FGbL1mf5cmoYL7aOhLeW1mwPyVITlrJJF8KkC7Ul8yrLq/MMhWOpIEC0Dcq2iWsa+GYYxwDfEPhz1sG2NILgKgj8ZroTnrPNhY4z+4/xhQK1Vwvy5qTNf81w7XQwC/zDP+c8MS/tPPc/Xxm0y6C/ixeF/n3UloNIo55C7kpY1AAwmUzS19d3ThPqmTNnSCQSi3mrORzH4ZlnnuEP/uAP5qS/+c1v5vHHH7/guXv27KFUKrFt2zb+/b//9ws2C1eVy2XK5dm/RDKZKzM7+bve/Wmevf+PeLx1gusLz/K9eCcDxTWk00P0n91OXXqK3GQ3qZbDJBNjjGanYWZC6Hbk5Et0eLsZnspBK0ghCEfWcrR0mJvqfKKdQbmLEzbb/CF2nurCZRRhj7NlQxsnw09ysO4RCqUkrhdHyBiGjBGSMcJeFNuPYPthbD9MyI9g+xFClX1LBe+EtqTAcgQxp/pUegogTdM07dKNtvXDW5a6FCvPogaA73//+/nYxz7GF77wBW6++WaEEDz66KP823/7b/nABz6wmLeaY2xsDN/3aW1tnZPe2trK0NDQgue0t7fzla98hb1791Iul/m7v/s7fumXfomHHnqIW2+9dcFzPve5z/FHf/RHi17++RL8mBuyise2CT64/3m+d9s7eDJyI78a+kdA0i1GGaoEgHWJMY6LHFk6CKkSMStJSGXodAUnx4NqkFw4yljxdqZLxwDoNM8w2pymeTSPN2awzRzlBa8NHFg7mWZXZDM3J04xee3cJntHwnTJIFMyyTomOc+g4AkKvqAoBUUFJWni+iF8FUapMJIwQoWwZQRbhjCkiaFMTGVhSBNTmRgz2xaGMhEKBAYgKtsClIGo/keJStpMyux29VhlGyrn15pJr3XhvHPzzzt/gaq82etcSl5ttRBX6lWD2jKjf86LwfGPL3URVqRFDQC/8IUvIITgwx/+MJ4XNBXats1v//Zv81/+y39ZzFstaP4EutUJqBeyefNmNm/ePLN/0003cebMGb7whS+cNwD8zGc+w6c+9amZ/UwmQ1dX1yKUfK7Wlrdzbe+P+WkuTuPDB2i4dYwnY7fwAf6eusQ4LZN1HC90sxlIJsZQAoZVJ73iKVxupTGUxnWzTGYjhF2Hsh3iiLWPtcZfMeQK2mzF6Zubaf5envxQmLVrCrgvjXGkrYGzxaPUR1qJHL+R0cbTRKJZQqEStl0iZEiaY8EC7kU/j1RQVuAocJXAVeC4grJn4PgiWKTAVwSDTWTwKmKpgjRfCaQK6hA9VTlWuW51W80sYnZb1aa/tqXqgs3Ei5D26nkWeBNK9cilNikvu/Y9/WV5dVp2v0jaCnNDYfG/Z7VFDAB93+eJJ57gD//wD/nc5z7H8ePHUUqxYcMGYrHFmUrkfJqamjBN85zavpGRkXNqBS/kxhtv5Bvf+MZ5j4fDYcLh8GWX82I1Nt5Gc08rG36ueKI9xy7nZR4M304hHyOdHiY10MbT8e28DYjFp4MJoQ2JIfsq/QDbGSkPkfC6iWXG6Wtsx5DQST1HS6O02R6Tu6LwvWA+wI7dE8hxSdt0nsH2R1CJ66gz1tP33A0UIiGCEQsKy3Kw7RK2XcY0XSzLwbIcTMvBslwss7pfOVbJY5geEdMjatSEU7YiCN00TdM07fxGjpzn5fHaa7JoAaBpmtx9990cOnSIhoYGduzYsViXflWhUIi9e/fywAMP8O53v3sm/YEHHuBd77r42cOfe+452tvbr0QRL4kQBmvX/mv2hf4H398guP3EKzy49XaOO+tZkxoifOYahtIR3EIaOzZFIjHBqJtBKgtUZULowiE6vPVkM5OVAFBxPPx2ZPnrvDEB6ZYxJOBkbCLlMrJdER3w6O07Sa7/01gde/jwHfsIbWkn29fH9NFj5MbHyGcyQU2ebePZFq5l49lRXDtJ3rJxQzaOHQqO2Ta+ZSENo/JcEsPwMAwfw/QwDT/YNnwQCiFkMN+fCJaF0kR1Rmkxd66/2sqjOfP4idq5/6onqNnsC15n7ryAy23CusWpJ1ukZ1pmlXbz53DUNO3q54lNS12EFWlRm4B37NjBiRMn6OnpWczLXpRPfepTfOhDH2Lfvn3cdNNNfOUrX6Gvr4977rkHCJpv+/v7+frXvw4Eo4S7u7vZvn07juPwjW98g3/+53/mn//5n1/3si+kve09rF//33H6k+x5/HHsLR9lf/R6tll/C0iaY+NMTfbQHHuOusQYo1MZ8OoBaAi3obwH6fRNDk160APFUJgTkdth8O8B6DT6Gd7URPuRDPnhMMO7koyJCL2jU8SdMt6ZJ5n8+pMA+J1dRHp7ad67j8i6dRjRCMr3UY6DLJbwx8fxRkeDpX8Ab3QUf2IiaIMlGITi2jZeJRj0TXN2bRr4xtx1MAI4WAiHIBQGy0JZJlghMCvbM2sTZc6uhWGAaYJhBIsQYATXFUblusIAQwTHKtuq8n7g4PjcRSFqZoQWCzQLCxSKOfO7VLfPkzYzTc1C7yS+0Mjiy7XQNVX1quLVsl7c/YWY+bkvpku64hW4v6ZpS+eaa69Z6iKsSIsaAH72s5/l05/+NH/8x3/M3r17icfjc47Xzre32N7//vczPj7Of/7P/5nBwUGuueYafvSjH7Fu3ToABgcH6evrm8nvOA6f/vSn6e/vJxqNsn37dn74wx/ytre97YqV8VJYVpx1m+5i/YHnOCgm2aSO8EL4Wky+Sl1inE6vkf6pbpo7nyOZGKNflBhnDSkmsY16Eoakw/V4dDyCISVlO4SQLkWjl37nIJ0hRd8bggCwMBxmS9co32zazpnGJBtkE9vzcdyRA5Afwew/g99/hqlHfn5OOX3DpByN48YSePE6/LokamMHJBIQjiBCIcxQCFOAhU/IcwmVS1ilAqFCFpXPo4pFZKEws6hCYYFPRNM0TVuNmv7Nv4Fdu5a6GCvOogaAb3lLME77ne9855zajOpgDN+/slOBfOITn+ATn/jEgse+9rWvzdm/9957uffee69oeV6rttZfZnf0EZ7sNdg43ceB9DWUy2Hq00PUj6/jiNvDbiBRF7wmZ0I00MRTOOpuGsJtFNxhfLeJ5twkw8lGoq7HVN0NHC0fpjPkMbUxCkBuKMxGc5j6UJEJJ8YJc4rd13yEiPkB/qBrmElRYO3QAGuHBugYG6F5aoqG6UkS+Sym9InlM5DPwOjFP5sPFCvbrmHimDa+YeIbNn68Ad+s1BYa1bWJNEx8ETQnq5pauerAj9qauZnBINX5AKk2/M7ODzhbUaSq/53ZnqmdU7NXnH0ZHQtWSan5O3PmmJ57vlDzLzHv+Ex5rxRdS6Zp2tWh6cgwv7zUhViBFjUAfPDBBxfzcqteff3N9HZ7fHuwjve//DLffePb6St10ZQeInW2xE/qr+FXpSAcLWCHCox7BaQ/BQT9AM/kB+nw23Ay4wwnGwl5HtnwTo5OG9yegObUAL4toGTiZCxa02UmR2JIfO4f/Do76t/Ir798hB9fEyG/bhM/3XUbJ5MR8lYQmJi+R302QyKfI5nPkSjkg3U+R6KQI5nPk85nqc/miJdLREslouUSIadMyClhyuAPAlv62FLPE6hpmqadq8/VTcBXwqIFgK7r8p/+03/iL//yL9m0SXfYXAyGYdOz9W5aj/2C9JEXid6S56XQbt4V+g6W8ig2+JQy7UTTAyQS44wWM0AECEYCy+mf0+HtZXCqCGvAsSx8q53jbj1SDdMmhunf3crapyfJD4fp7ZnilZGgH2HGHeOxke9gC5vSiQlGGn9M0fHYNdJGu9tMs9tMvd9KWDSijAbKdhdTUYvxeoOhsMELUcF0yCBjC/ImC3YqszyPSLlErFwi5LpYvldZfCzPw/Y8LBlsW76P7bnBK+NqFsuXWCp4BZ2hFKaUmFJiKCprhakUhlSYSlbWwb4ADBX03jOqr6RjdsyHUTuWBFWZk7Dm51PT10xUzhM1NYQz9Y016dVriznnzdb6BfkXrvubk3aBfm6vpd7wYsa7vKbrL2I5NE1bHbzGDUtdhBVp0QJA27Z5+eWXzzvvnnZ5Wlvewmb/MQ7WKbbIIzwfvZb38G1idRO0h8aYmOyhMz1AIjHG0FgGn0YAUqFmhByl0xMcGgt+zIVwFMN3mIxcyxnnPtaFJaeuawkCwKEwmzf286DZSdGPYAsL07Ap+Xk2nU2w6WzwJpey5TOVOMtg/CTHoj6FiE8h4lEQkpCKkiymaMylWeclSfpxUl6ChB8nKqOEVAxbxBEijmeGKNomJdOgaIUoWBHylkneFGRtQT5ikLMEBRPypqBgQNGEsilwhcA1wDX0+zc1TdNWug9PGPzaUhdiBVrUJuAPf/jDfPWrX31dJn1eLdLp69nelOHb0mL9xGm+0/R2fN+goX6I9sI0fdluOnmMZGKM08JjlG5aOQ1iHfV2GsOdYrKUIF3IMhVLYPsSGd7G0fIDrAtLcj3Bq9uyIxGEUrTUu5waC+Eqhze1fISCynB87D4GYlP4GQh7Jq2TJq2TkQXLq1CU7QnKoTEyIZ9RW1IKScohn7ItKYV8HEsiTQNTWBjY2DKE5YWIeBGiKkJURkgoG1uZWMrCUib2OfsWlrJm3qhQO3FL9c0giMrbQETlzSDVOjYRvFmk2n9QIPCrfQnF3PcLB5NMB+mCSt9DMXsvWb2fqJ47O1o4OGbMTNBce1wiUEIhlIGsnCIrpZ+9h5opz6wFRvLWDFA+J+8lxMeqdmRybfqCuWcvLOffQ6g5xy9UmXexE1q/utfyh8BKrW7UfxwtHf3ZL6YN7Y1LXYQVaVEDQMdx+Ou//mseeOAB9u3bd84o4C9+8YuLebtVwTTDdF+zg/wvTnLNSwf49p2/wlCxjVRqmNQph0Os5yagrm4cUEyJMO08g6/W0RjuYMobpNnbiMiOMRVLEPFcSuEtHJ0weVPSY03sJOW4QTgvKU7YbEqNcnos+Ln1l0+zNbWHevN67hNbEW2T2LHDGNYpYAzfK+CVJW7exC2Y4JgIBBHXJOKapPL2JTypwhcFXCuHY0t8Q+GZirKh8M3KYig8o2a7slaGQgqQQqGEQhrBthTMHjNU5Xh1mzl5VWW/NvirDcDmH2deXlXNW9u2q2mapr1mdx99I7z19qUuxoqzqAHgyy+/zLXXXgvAkSNH5hzTTcOXb83au2n/+deInzpARBV5xdjGbcmHSORyPNS6B+mFsGyHaDTDqJdhs18GoDHSzrGp43T4m8lOZaAVpDDwRILjaj2eOkiTmODUdWvZ/NAQ+cEI2xvP8qjZQdEPcTb/EltTewg1b6Hx9EHGmnZQLjcBb5gpmzBcYulhQmsHsesGsUIjCHMSjAyoAn7ZwC+beKXKUrTwHAPPMfAdE+lU2nIRmEpgVoLHq52qrb2rCR7h3Bquufuz+WqDyJnrzL/PAp3lqnkvuF8zMfacKyxwj6vZ8nzl7uV9wsvzWTTtyhMdI0tdhBVJjwK+CjQ23MZG8RccTMAGeYznonv5JfETIrFprPoshcm11DUfI5EYYzSfAT/or9cQbkd6j9LpGbwwHlwrH44ScYpgb+FU+RU2RCQn97ay+aEhRoaSNO/I0trgcHI0wkR5kLKbI2zXsXv0MSb77iOT6CLT2kM2sY6iaERJm/L0GsrTaxYouUSEcxjhacxwFiOUI5TIEQ1nsSJZzHAGK5zDtLIYRgEhSuD7SNdEegLpGyhPIH2B9AyUH6RJTwTblTQlBUpSWQuUEjA/bd4+at6xmRf/VoZrSFGdvSVIm6n6uzgCMTuQYX4Epmmapl208DpvqYuwIi1qAFh17Ngxjh8/zq233ko0Gp2ZB1C7PNFoJxtaJd9ybNZlzvLz9C0ANNcP0GmMMzLZXQkAxzk1nKWsWrCQxK0UYVGiw3X4USZJ1ClRDEVwTZtm2jlcNtkQkaguBwAxofDKgo3JcU6N1gFw1jnFevsa7I7dRE79Lan+k9D/MBD0ZytGGinEWskn2sin2yjFmyiFGimTQmGhykn8cpKLnuRFKISlEKZEGBIlJBgShAThg/BR+GD4M2lBHh8MhUICMliL2X0IrjGzL9RMGtXXzNW+m3hu9Bbko1o/p4Lf6ZmaHFmTVVKddXAmqlTV61Un/1PMDClWNfeYUR1JfO77Rhak5m1Uyz4vXZyTf/79znOfc/6veyk1WPPyvuo/A69y7ZVUPfl605+ddpVKrtMzi1wJixoAjo+P8773vY8HH3wQIQRHjx6lt7eXj3/846TTaf77f//vi3m7VaV3x43kJ57mhiOH+eENb2W6kCSdHqZpMs/pfDe9QCIxhi8k46KddnUIyXYawu2MesPEZBvpzBgnm9YQdR1yRg/HnAQwwUb7FSY6ozT0F8kPhdm+9gyPmJ2UfIszmQOsj1+D1baL8Y0mz+5UhM9KGk8q2kcEqZFRGoZHaZo4AKdny6sQOKEEpUgDpXADTiiJE4lTjiVwo3U4oQSumcATUSQRJKHKiQLlCpRrXNbnpLvgaZqmrSwbdi/UwqS9VosaAH7yk5/Etm36+vrYunXrTPr73/9+PvnJT+oA8DVYs+Z22kov0XHsWczrPY7LDexMvUTqWJGXw+u5A4jXTSKEz4Th0OmfQrKdxnAHw8UBOrwOZGack01rEChcGcV315D3J4ibZY7cvIEbv3WUs4NNbF93lqZGjzMjYUZKfbiyhB1O0nagl2tvPwQN4F0jOONGedj16StJvClIjkFbBlqmoWlakp6apm56msbMSazyhUMyKQx8M1xZInhmBN8MIw0LZVhIw0KKytq08O1gHezbKMNACWN2XbONqEmrXagcZ3Z/Zsa+ysjhmRn5qm8eqQkxZ0f8zj2mMGbS51xjZn+hY7XOGVY7s3VuJc6rhbrnv9ZiX++SryUuL8jXNG11yRz+GaBrARfbogaA999/P/fddx9r1syN1jdu3Mjp06fPc5Z2MdL1N7JRfIGTuKxTp3gpsptrzWdJMcKJ5HV4pTqsSI543SSjkxl8EfRzawi3o7JP0ukbnJlwoRcKoQixconrC4qjZZPdMZ+Ba+rhWyAHTZSCzYlRzo5EUMBQaZCuWA9RsZfhF4rUbRkjHs6xJlxgTRioA5rA7zXJyjhZopxSNkOu4mSxwJlSCa+kSOcFqTyk84p0TpEuQaKsqHOgriyJl4pEy0UiZbBdRdQVmB5YXtDCq2mapq0+xq/vA+5Z6mKsOIsaAObzeWKx2DnpY2NjhMPhxbzVqhMONbG+1ee+bIiewmleiW8HoLl+kLrUJLnJbtLtLwcDQaYzCC+FojoQZJBOF/ZPxrB8D9eyGatL4Q9t4Xj5CLtjPg0NZ/DDAqvsUp6y2Jk+zc+tNXie4HT2JbpiPVgdu4k99DzPTt9CNJohkRwjGp+kLjFBMj6OZXmkjQxpMnQBu2yg8usglYVUSaSZwjeTlI04eWWR9SXD0uOAW2a0VGCwlGW8nMVXcyM+Qypsj2DxIeSCqcCsdBE0ZGV7Jk3NbFfTq/lsZRAybCxhYQkTS5iYwsTEmNm3hIlFJV2YWMLAxMQURiV9dt8UBoYSBHWJAqMyAMRAYAiBEEawxgiOCYEhDERlnsJz8lT2RfVaVOYaJBhNP7tNcKQS7M/UM4qZHDOzHwaZVW3KzLVm6+lqz1vIQn0TF8p1zouO554/s3sRndJ0vzVNW/XiN9641EVYkRY1ALz11lv5+te/zh//8R8DwReMlJLPf/7z3HHHHYt5q1WpZ8eNTI7uZ+epY/xs++24nkVjwxAd7gTDU9UAcJxBkSdPD1GKhIwoSTtByJsk79XRmp2gP91C2Pc4LdaRzFtQX2a90cfp7Z30PjvC8YEOttf30dLkMTAUZqh4FCl9jFgTW8Yk7pDLyYTFSHF9TekUkUiWWCxDNFpZKtvhcBFDeBhiAtQEeBAF0rUPZ1eWBEhp4vthlLKRKoRSNr6ykcrGx8KXJp4y8RR4SuEqhS8FngJXSRwZpDnSpzyzePiAi6IMSFUZKqIEUih8FQwQ8ZUXzCGoROU4+AKkCoZ/+KoybyDB+VQmdK5O3jKzrk2rmapFLRDRzE9beGqXV0kTF5mvJu+rMSpB6JxwcM7mueFi7WCv86W/2vGFQtLz3vsizjvfALSFrqGtDOf7E0a7On0k2cpHuHWpi7HiLGoA+PnPf57bb7+d/fv34zgO9957LwcOHGBiYoLHHntsMW+1KnWtu4OUf5CtL+5HXfN/ctZZw5rUIPVHSxwvd7MZSNSNgoAJkWStegmf62kMd3DGG6TD34ydHaM/3YLl+2StOu4eLjPaKmi2FQduXEPvsyM4g0nYDtcmztA/1IuvJGPOAC2RLuzmbezLt3BdohN56DHGx06S9TOUI2HK4WBxLRvPamXS6mTUsnAjJtT5GHUOZrxMKFrCjhaxQyVsu4xtlbHsMrZdxjAkhuFjGIWl/rgvmqqZ5kXVTBWjamaFPl+e+cdmpqGZybvQedVzLqIP3bypay5coSbmBotqXvA1vwJv4RuepxzzgtyFLnghl/gcF3nRi7//MnX1P4GmvbrpYw/D9o8sdTFWnEUNALdt28aLL77In//5n2OaJvl8nve85z38zu/8Du3t7Yt5q1WpPn09PepLjBRztKkBDlnX0GOfor4wwguhG3kbEItnMU2HMSNHlx9M/tcQbud09iwd3lYyU0XogrJtM5hqZHr0RkbLT9Jse2R7gulMwuNTlByLzaF+7o+txykoTuQO0RLpwmrfg3PwW0Q7fx963kt7D7QxgS+P4zhnKGYGKQ8OIYbHiZQcTLnwMAcAKQS+aVaWMJ4ZxY8a+AmBHxP4UQMZFsgIyLBARRQqDCqkUDZggTIVmIClwFQIU4ERTCODqRCGRBiVNFGzFqoyzqN2v2YbFZx3EUTlrSHBtv5K1jRNW0z2cH6pi7AiLfo8gG1tbfzRH/3RYl9WA0KhJjY0OPyixaa3fJKD4R28jR/QFjvDfcnbcHJNhOrGSCTGGXUyKD+YWqUx3I6afIpOz+DMmIVQimIowkCqgSF3HW7+CaiD3shhsi1hEiNlDg5t5tq1B+hsLHGyEGEgfxC/8S7MVCd+boyR0jfojG3DldsRNGAZDViR64hFgBYAF9QIvhrFkZOU/Bx5P0feK5L18mTdAmWviKFk0F9PKoQPhgeGrzDzCnNaYXoSUwZrSyoMFSxmdbuyDqbVUzPT64l5aVzgWJBW29MuoKod64LOfahgkDCY8+Z2rlbE1ezPOS5mF1Wzr+atAZQhzj1HiNl9VJBHzKv9qeapLf+8ps15FY8L5plJO99g35mm5vMcX8j8cs1PeNWBxxcIqi88yPmKOf+fNa+jRSnCMngOTXsVoe7UUhdhRboiE0FrV0739l18f+w5egdP8t3udwLQ0XyGBmuczGQ3TXVj1CXGGJ3MoGgAIBVqwVA5Wt0SA+UGGnPTjCXSCAVT0STNI034LcO0m9Mc3reNfT86hhhsgrVwc+wox9gBssyAO0lXqAG7fQ8/PFbi73Yl2W7u583KYzvQRoq4akGpZsAG0YkpOokaELWg/pyn8YE8qBy+yuOrAo4sUvZLlPwSBa9MwS+Td8vkPR9XuXjSwZUOnnKu4Kc8G3DMjY9qGmcX7po277y5gcs5+RaIsxa+3uvxJT3/Hur8910ouToHtTg3rfop1PbQO+91LtV55tC+mixVpfFV+FHN0GHr6lJvnDu4VHvtdAB4lenZ9CasR46z57nn+EbP/8FkKU0qNULr6DSD0900de0nkRjnrCiTYSMpRjFEM/WhVqa9QZr9LqK5EcYSaSKey2CqifTI9fQ5P6QnLDm+q4F9P4LI8CjTMkabMYndEEVOFBjLvUJXw81YHbu5+4k/4Rtb7uY5q4XnAIGHEj6oMGlG2ck0m0WZHqNEm/BowKROxoioJEKlUKQI2m6TIJKYItgLmVBnX9xnoVQJRRmpSviU8ZWDr1yk8vGUhyc9POnjSYkjfZzKtq98fOUFAz6UX1mCQSDnbvtIZJC24LZfGQyy0uivWE3TlgczklvqIqxIOgC8ytTXX0+X/5d4IwMk1DRH2cz1oV9QNzXFUaeXHUCybgyAScOgXr6CTzMN4Q4my2fp8tZRns5AO3imyenGVrYNphkuhOgJl4i2nEVaYBSmODa1l70Nj7C9fpiXJhL05Z5jd/1NmA3rSVoRfnvqCe7f+mZeGSsjlQUq+HWaoo6HqeNhBee+A06CUSJlHKbXnGStKNCpXFqUoFEapJVFEpO4ChEhjKliCGIoFUUSQxElCBVBiAiCCIZILfkvskTWjPxVKBE0IavKiOELr1Vl5G/NurotZHVvTr6AmmmmVjVptf8704xdE6TOlLEmJ0Kdc+bc7fl51Jyrza1POn9AXFvOmuEy8/JcwJwxKhcTeF/KUJXLu96CZy1QA/z6eA33XIl/x2grgtHbttRFWJGW+ntTu0ThcCu9sSJHGkzWe8d5ObyT6/kFXZzkp6Frebc0CEWKhEIFRrwM3bIIBP0Aj+afZK1n8PJY8NWbD0cp2kF129RoD9QfYot9hrObWll7cIxYfyc0wG32yzwVvhPKOca9KZrseqzOfdzw0sNMdUa5ORUn3rERN97KhB9hvOhzdqxA/2SejDf/W8UAGWNaxnjOW8NzF/HMJj5J8qTFJGmVo1EUaaZEo3BowCUlfGIK4gIiKKIowihCCEIIbARWUL+IUjaKEAo7yKVswERhnbtWFmqBY9UAdO5TGRcbA2mapmmX4MTZqaUuwoq06AGg53k89NBDHD9+nA9+8IMkEgkGBgZIJpPU1dUt9u1WpbWbu3k8U2LdxGmeb9kNwIamY3wXn/J0B5H6s8GE0MUMEAegMdyB8kdpd13+31w9iWKebDSOoWAiGSc+uo3ihkPUGT77b1zL2oNjGEP9nNjeS69xgtZmSeYsnM69QlP9TVhrriN97AFC0mRS+ngnXgAgAmyMxbi1vZ3m7c2k0mnCdWkw44xNeLxwMsOBgWlOZ4uMui55Xq1DvcJHMSmiTBIB0VhJFyBrRmi8CoEkgkMdJaKiTASHMC4RikSEQ4TKIoL0MA4R3LnHKsdt5c+EkCHAFopgULLCRmIhsQALiT0TQkosFEJUyytQqrptophNh+pr6czKtqiMQJl9Xd3cURlG5ZOanz53UXPSqbkflfKc/9xzrz/33IU+8Ytx7s/+YpueL/ael3u9BQbHvKZyaJp2uUo5AbxjqYux4ixqAHj69Gne8pa30NfXR7lc5q677iKRSPDf/tt/o1Qq8Rd/8ReLebtVa8vOuyi9OMytL77I99/0Tlzfoqmxn6bMGFOT3bRVAsCBsQwe7ZhI4naKsBFFeoMk/A7qs6Nko3FiTolH1u/kXc89wYl8jO2JApmNGQD8iROUC2+BuhPcGT/AN43tnMnsZ0/9jVjpbkSsmQ0vPMdnPnEvVihMfSFLJDtNXSlPIlcgNnGcqOsQccpE3TKmUti2zZ66Ot7YWEddXR2RaJxMKcxQzmQwB4NFyVjJZ9yRTPk+EkEw38vFfjoKIVyE4YDhgFEGo4wwHBzhMSl8JvFBBIsQs9vg10wLEwRfiBBCqUrzZ9AkC8F0OQJZ2VeVnvyy8t0vZ97SMVvuICgwVBA42kpiI4P6RAWmUhiVYLEaEpqquq8w8DGVh4HCUqombFRBmKiCINNQtemV6WxmShBsG0qdE9YZzE0zavJXw8eZkdOImmPz8iyQVvv8QPB5znNxYdTlnne+tIu73kIWan2+2Ovp8FDTLs3JSA9vXupCrECLGgD+3u/9Hvv27eOFF16gsbFxJv3d7343H//4xxfzVqtaU8vNtDv/SPrEUUx8+rx1rA8fpz4/wdlcD208SiIxjiM8MjTTyCkkvTSG2xl2z9LlrcHJjENLN1IYDCZb6Tb6ODXRAYljbIidYLIjTv1AnsRgI8UNYdYbg7hNt1AeGWLKHaLBbsfu3Mv2o/dxzwPf5khXDyeaOjhb38J0a9f84bMAhDx3JhgMe26wZBxCXp6wdAiHXMLCpTvsstl1sV0X6Up8QrhWnLKIUFZhSsqm6FsUpUHBF+SloCRnwzKlQsEUOEv6/uCZ0jAbIAYBWWnOPpXjlUCSSgA677zZPCBq8gZnq3kRyWyfvYX69M0em5f/nOPnadOed+6CffnOuf5it4kv0vUuNxpb8Lzl2O6/3Mq03MqjXQ12SbnURViRFjUAfPTRR3nssccIhUJz0tetW0d/f/9i3mpVi0S66LVKHI9KuuVJDtg7WM9xWsp9HPZ2sQ+oS4wBijGjRKM8DfTSEOlgMHOMLs/g2JgHGyAXjoJSGI0O9tB6WHeMtXaJ567dxJ0Dr5AfeJ4zPbeyyXqA61J9HBiNciZ3hIb6dui+BePoj9n6yivkEwk6p4LBJ2U7SjaaYjyeZCCV5lRDE2U7hGPZOJZNhkvvCmBKH8v3sX0Py/exZGVb+qR9D9PzMXwJnkR4Knhnm69QvkJ5oKRC+YACVanEk5VtqYI3a0gl5iwKUEpUwrZK+KYEsrIvK9sLqzbLVsybEkV/D2qapl2crnV6uMKVsKifqpQS3z+32uXs2bMkEonFvNWqJoRgTW+KA7kka7OnOJLaCnyXPXXP81f+25FeCMtyiEYzjHoZNlb+eAr6AT5Gh+vz0FSaeKlAPhLD9D0eadrL74z+Iy+WInRGSpze4cAPgNFDxN3fB+sB7jb387PUrxHLvMCu+jcQjrfg1bXRc+I0x3vfRH8rhP0MYbdI2C3SlBli82Bw77iKEhUxDGx8TMqGRdEwyVmCrG2QtQXZaJhcLEIuEiEbiZALhymbwa+ob5j4hknZDi30kSydanOmrGwHkWElrdIUKoMau2BQb6UnXnWtqk2iKkhTVPKqSgWgmgkWRfWtKtVjzE5yPZOHmibWmqbWmTB1gebX+RV9C9bonXeAy9zI9pxzLzAw5mJ72c3Je94syzeivtpfDrPQr8yVppvJtTnaIktdghVpUQPAu+66iy996Ut85StfAYJAJZfL8Yd/+Ie87W1vW8xbrXpb9vwS3z75PXa+coi/vuGjAKxrPY1n5SlOriXefIxEcozRfAZIAdAYbgMkljeE7bfQmRnhSKSbeLnEo+ndfIX/xDNTm6GtREvjKcp1JuGcT2Yog1y7nS7zANsbxxifKpN1T5Ow12NtuA75/PfZcug4lvselPDJ1w1wqkUgjRzJ8jRxp0xeFMlTnH2ASi1c3BW0FiLUqZqFCDEVJqpCmJ7CVz5F5QSLcCgql6LhUzQURVNRNKBsgGMoXAGuAa5QuIbANQSeAY5p4pkGrm3jWXZlbeGaFtIwkIaBbxj4hlnZF0HQKYJ0aQhkdVtU8xqzTd0mnC+kucq//zVN05ZUJDu61EVYkRY1APziF7/InXfeybZt2yiVSnzwgx/k6NGjNDU18c1vfnMxb7Xqday9jQb3ftYffpHsjSkmyg00hCZoMIaZGO8OAsDEGCeHsjhqMyFRxjYiJOwGCt5Zurx2vMwYR1q6UUIwaacZtep56+BpDrXVsSVS4qVt3ex7aoDxMz8l3fluMA/wr+xHuDf5AQ5m+rmhcT3Rrj04z3+fNQM/Yyq1nrGmHdRlu7gmG5RTmQ4nWxSD9ZJyqIgQBZKlHOlCjkS5gBSKjCiSqQ0Oa4WDGpQIIaKqshAipCwS2ISURRiLkG8R8m3CyiKEhaVMbExMDGpf8KaUBOmB9FC+V9kuVbbdIL16XHrgB2lUJn9G+kG7sfJRMpg02hcglcQTwXYwNbREyWAEM9XJo1EoJL4KagRltWeeUEGPQaXwxWzQKCtzyQW51UzazDGlkEa1eVoFzdFC4QNKiJk8QQ3hvHn+hKjZYyaQnekNWN0/53VytUNHmH293HnS54zyfT3ucbVaoM/s1URd3cVfEb9DV/vP4EJuvH7vUhdhRVrUALCzs5Pnn3+e//W//hfPPPMMUko+9rGP8eu//utEo9HFvNWqF49vYJ1y6PeLdKizHDa3cBOPky4N0JfvoQtI1I0hhWLaSNCqjiK5hsZwB/nSWbq8Gzg17s72AwQeS+/mV8Ye5Bk/ScyUPLpHsO8piE72MVVaT9RqJ20MsrYpz+lTZ9nbcDOWuYZIZyul/mF2lP6K8rE4o+xlomEbU6kN+EToHYTeQYAoinom0xZ99SZH2wyyMZdyuIwtS9SVC6RLBeqLeWLlImHXwfQ9EFAkqP27HJYysDCxlIlFEBhW00yMYFEGBgYmAgMzyKUMDAQm1WMGhhIz5xiV8bAGAqFmt61K+syxmjzGQuk169eTUtWO1ary33mDQeYFjbVtgXMGlajagSa1+WrOrzZV1x5Rc++nzsk3v1yX9HSXf/yCp15efa667HbUxT/vwkXR9dXa8uP2l5a6CCvSogWAruuyefNmfvCDH/DRj36Uj370o4t1aW0BQhh0dJjsn66ju3CSQ7Ht3MTjXGO/yEHezxuAeN0UQviMGtO0+MEAjcZwO6dyh+h0JY9Npeb0A/xh8228e+xBzJyCFNhrB5AWxIoeR4d+RnPPu8D4C37dfpA/rHs3O4wxtqo2pre8iXD/32Oc8tny9pM4vkCOHqXljIeVTZFLrCebWEcmsRYnnKZhyqdhqravqEUpnGQkmWY4ZXIqZTLaYTKeMCmEFVHXJeqWiDllopVRxCnpkZQeUc8l7DrYroPpuhiug/DcSr+7gCckHhKE+/r+kC5DEEhWtishYTVl7nbtVuU8ISp9+M53XvV/mZcyN+9MWc4TkM72aTv3nPOliwW2Lvbc86Wem2d5V4Esr9Lp0lxdVvcn1BKNc81SF2IFWrQA0LZtyuVy8CWkvS427bqJ+4eLbD59lJ9tvQOAfekD/O98M14pgRXJUlc3wehUBulbCKA50gn42N4Qpje3H+AT6V0A7BjIcSQVZ3Odw5H1TWw5PE2pNMhI+f3ErQTdxjBtTS6npvvYmmzDa9jJeNN9dIyNMX0oxg17D0MCjnZ2cGgywjEzz5n6acbrzhAp99MyDemCTdSLYZBAmkkiZcnaUcnaUW/OM0pLkE9ZTNWFGKkLMxgzGK8zOFFnko2K8zadCaWwKqOEZ0YPV7ZnRhBXtk0lsaTEVsH8fJaSmEphVdJNJTFr1kZl25ASoSpz7VW3lUIoCZVtKulU02V1TPHClFBz6skumpi31jRNWyH8Xt0EfCUsahPw7/7u7/Jf/+t/5a//+q+xLD1s+0rr3XoX4R8/ze7nX+Bvt34ER9qEbQfROEZ+vJdU5wskUyOMTGeQshHTgKTdjG2E8b0+ut02ypnRmX6A43Y9GSNO20SBV1Scdlvxk12SLYeha/gsv9g2TJv3HqL233KP/QM+xce41YQ2t55/vrOFD//TGGPH6zi8YQ1vSB5iY3iAjW0DwJOccNo4e6qRwmSEIdHM8ZZunu9ew6mOBAONdSRLJi3TPh0TJVonXRpyinjZwPAgMe6SGHfpmvf8QvjYkTJ23Ic6gZ+wKCXDZOtCTCRijCSjjJk2JQVlKSlJRUlKclJSloqyXKLmrkrQaFSCxNm1xFDV0cGz69mRvbXbs8eoyTPzvg+1cN7zX2d2VHKlkMH+vKLPPz4nj1r4nOoI6DnXmR/cqnPTzx35e+71F5pUesHrL7VlVJzl9zfCMvpwWIafz/L6eJZEdM38f/21xbCoUdovfvELfvrTn3L//fezY8cO4vH4nOP/8i//spi3W/USyWtY6yhykyMkyHKCDWzhEPXeaYanNgQBYHKUfqOAI7YSpx8pOmkKdzLk9NHt3cSxcWdOP8BH03t428SjGHkBdQpv2zRKGKTHM4wVT3My9Abi6jv0GMP0psf4mZzgHTSwruG3eL73XnafcDh2aor/cPc2fnk0xl3uCLvEaXpDQ/S2DUHlnd59bjNDg/U4By3sUYecE+dkQxf9LW30N7fx0uY2BpvacENp0nlFQ05Sn/VpyEkacj7pvMRQJk4xhlMExmo+F1wSTLMO8A0faZURVgnTLGBZBUJ2gYhdIBoqEIuUicfKxMMe0TCEDIuQaWNbFsIM4ZshpGHhCwvPsPANO1hX9l1h4QkL17CDfIaFNGx8YeGLyohhYSIJtqUw8YVAYgbXIUiTwsCnMrqYyuhjYSAxkUIgVWWgSMXMTC8L1BdeYJaWOefMSbvArC1z85177vz8l1K+pZhiRFve9K+ENt/OpuRSF2FFWtQAMJ1O8973vncxL6ldgGFYtDU6nJyM0uMc43BoK1s4xFZ5nKPlPWwCUskRQDFhShLyCJJOmiJrGCw+Qptb5rGpNHWlArlKP8Bvtd3N2yYepWlIMbYBNqckR7tjbDpZYk3fKZ7c1Mx67z2E7a/xu9b3+I3cLt4equeO0Ri//av/nj/5b/+Rmw8pfrFpin9aP83fhQXJ4jZunq7jplKJPXKIHjHMWnuUtfWjUA/0Bs8z4Z9gqFRPbjiMPCIIjzuEJxymrRTjqXpG6hs429RGX1M7j2zsZLixi5AMkypIkgVJKl9ZV/ajrsKUJqYTAycGNOADxcoyOe/zdE0ohgTFkEEhLCjb4FgS15L4hodvuCjDRQoXhIvAxaCEoExIuti+V1m7hDwXW3qEfJeQdAn5Nfu+Q0h6xGWQZikfU/mY0sdWXqXZOdi3ZvblTHO1TbWJ2sNUwXRLQbVFsJ7phiGqTeSV49Vtas4RRk3e6jVmm9bFQudX81GTn5p7npOnhqg577zHuIQ8F7j2glnFvLwXyHOh61Q/nwXLeIFLXym6683lWZGf28p7psiNb4J3/t5SF2PFWdQA8G/+5m8W83LaRei9ZgdPTRXZevYwr/RuAuCm8PP8VfRf8Vbfwg6ViUazjLjTrKm8G60t0sFLKJTXT9jpojM7zOFIDzGnzP7YNgDWjeUY21DHupDkoe0um07C2uEznGip56XIXm40g76AN0f38/deIx/y6+i1uvj+G+/iVx5+gF95MsSTW4JBF5lolh9HMvxYCJQKkyruZFcuxs68ZJNfYL0YYZ0xQoOZpSGehTjQOvuMJTXKsJNmqljH1twx5EEIPe4SHy9iEIVkHV48Qjlikw9bZCJhpiJRxurqyYbqKRkJfOL4Ig5EMf0Qtm9hexYR1yDigqkEtg92UZEsLvQOOauyLDya3bGgbAnK9uyStQXlqKBsCRxb4JqVxaKyrixm7T4z+TyTi/qCMvygb6MpK4svZ/YNKStNzLJmW2HIoMk5SK80P8tKPqVm+jdWzzVr96Wsyb/wuUa132NN86+ojOoN0mYnsRY1Tccz/SWpaZqunj/neuqcZu655xH0t5yfp3J+7bVFbRletfrpwhnO1yQ9c/xVL/9q57/a/S98+Vcr36s/36tc/zWer6uEtYXc8LOfcrsOABed7qh3lduy6y3IJ49x81PP8r9734lS0Fw3zFRbidJEN7HmYySTIwzlpvC8JkwB6XAnhjCR3mnWed1MTw9zuLkHKQyKZpwiIdJOCcoJjLCisNuDHwgaRjKY8TTPDz/B1vD7aAp9lU9Z3+Iu7yZuJcpvHprgf27sIfd0jJ7hArccezs/2TVJqLi/8v7aIJ7JxKZ4JDbFI5VnUCpKtLiTTbk6NhcE3Z5Ll8rTZUywVowQES7rwqOsC49Ceu7zu8pk1E8x4SQol2K4hRB2zqR5QNI1fYS6kk+yPoXd0oLV1ITVmMZqTmDVJ7HSccyojQgZeFJRypcpZl1yOY9s3idXhELZoOhalL0QrmfjejbSt5HSQkkLlAlAyIOQp0iUFu8LTAGeCb4BniHwzWBSa98Q+HPSg7TZYwaeYeIb4JvBfIDSIGhKFszZVzP7AmkEc4n5Brii9ryacw0qcxcCBOcrUQkbxOyxmX0hzk2r2Z+dC7A2jdm0mjy1n8sMcZ702vzniboW6zorsxZJ05aP333l+9y+1IVYgRY9APz2t7/NP/3TP9HX14fjzJ237dlnn13s2616jS3X0Vky8AcHsPA5TTfdnCJl9TE5sr4SAI5yamgaqXZiiUkMUU9DqI1xt49u1+Dl0aAfYD4cASH4G+9OPmH9mOSIJNMlWF/vc6QzxKZ+SUd/PyfXruXBKYO3NTTTYI3yCfs7/N/eR/iyTLMhV+KVbVvZ98wz/Nb3H+B09728vOb9GM7TRPKPs87NkM5BuVxgJOKQiSmEgFJsihdjU7xY82xKhTCc7XQU61hbtuh2PHq9Ip0yTxdTdIhxQsKnw5qgw5qAoJV3Dk8ZjKo0Y/4Ik16CzHSM3EiEUsnGLVr4BQMj5xNzHJKGT9w2SIQt6mJhWhMxzFQSq74es60Bs6EBsyGO1VCP2dCAEYuhhIkrTRxX4PrgugK37OOUfJyih1PycIoeriPxHB+v7M9uO7XbsrLvI73ZGjHbDxZq593TrgrnCzC1hS2r327981pWUje/ZamLsCItagD4J3/yJ/y7f/fv+MhHPsL3vvc9PvrRj3L8+HGefvppfud3fmcxb6VVmGaYlniBEy1hNpQO83JkJ92cYpt3klP5jXRyH8nkCK7wmTIt2tQr+FxPc2QNY+VfkPRzjE210JibZrwuhe25/Dy6h7dNPknTsCLTJdgYkTyyXbGpH3r6jnFi4yaOqH52Fd/HpsSf8WHzfv7Bv5M/Uz3cXtzEsz0u3adO0TQ+zv/3H/6aB2+7jaF0E30N/5rBBBxJHcUuvciOuMkHGnbTW05Tmp7gpcwhDrtnOcsU01YZKRQqPEV/eIp+4Ima51YqgvA20FyO01kO0ekqOl2XLllijczRqaZpIYMlJO1ignZjAmzO14JLVkUZU0nGSTGukhxVKcaVTdYvkp2CwliBgjuCU7ZRDkQ8l7DvYkmXkHSwlYstg/5+wTroDxiSHhHlEZE+YSWJIYmiCCMICwihsE0LDANhGGAYKMNEWiF8M4I0bKRpoYxgMIoyrUqajRQWyrCQwkSZwcAUJYJ9WUmXmCgEShhUxh4HtXKquhYogtfcVberi6zuK1EZgFJNC7ZnB3pUavEA1GwjoKpU9ynmDTKZSaucN9uCu6LMiSFW2LNdCcsq5tI/r2Vlk6XfBXwlLGoA+OUvf5mvfOUrfOADH+Bv//Zvuffee+nt7eU//sf/yMTExGLeSqvRvWUdLxVz7Dh5kOe27uKX+d9cG32WHxmf5A1ALJ7BskoMuVM0+8GM6h2RDg5Ng++eJuVsxsz0M16XIuI6nNy0lx9+ZwvvtQ8iZQTLkExfK+F+QeNYFqtQxG3t5L6B08TNNXTGzvI5+695v/MfWEOKhrE3cGhLKzc/8T9oHxxi/YmTmL3QORUM1S2bFkOp2xhMpvhaIUvGPI3pnaAjBJsbb+X21mu5bt1ewnaZoewJjk8d58jEEU5NnWAgP0DGywWtbnaRUbvIaB08f86nksKUSRpcgxYnRItr0uopWjxJm+/SKku0qiJtKkcYn4QokhBFehieexkbWODfnmkVY0rVMUUd0yrOFHWV/TjTKs1QZXtK1ZEhTk5FyRMhRxSJMedapqwMAplZPEzlUxkXjMDDUD6G8BHKx8CrNKn7CKEAByiBkDOLQgYdroRECYmo7BtU+v1R6dNH0J9PUOm/N7MtEYCBQohqXz8QlfRqvzmj0pfPqO2TVw0XZ/rszZ+CRs7p4zebZ970NJWF2smxlWA25KRm+pjZ/mWzIWrwv9U+gyBmptlhTv7KNWu+9AW196+92sX20RMLpNVcR6k5eap9EVeKV+9L+SrnL04xripiwb2V8zvxWow/thZ+TY8xWGyLGgD29fVx8803AxCNRslmgxfCfuhDH+LGG2/kT//0TxfzdlrFjhvewXdfHuGGXzzHN7f+Gr4yWBs5wZm2KOVMG+HkEMnkKEPlKba4aWwD6iNrEAike5L17jYGpsagA8qWzZnGJqbMBD88s4kNY6fwWmBdk8GJNkXvEPS88jJHr72OkbjBc5O30Bz5J643DvOvzfv4U97Kvw6b1LORk93vYMOJ77L32ReJtqxnKjHFMHHCPqybGGbdRBBsKSwmY3sZrUtyvCR5fuoAf3b0p+StEhgxwmINSa6jQb2JnqggabiExRSGmMYTUzgii0OegsyS96eZdiaYKk/iG5LRsGI0XObAOZ9aKFhUkoRUNEifRt+nwZc0eD6NPjR40OCrIF36NEqHpAomqk6JAilRYB0jl/zzyqswOaLkVHTumijZaqCoYuSIUCJEUYUpEKZImJIKUaSOYiW9RIgiYVxMXvVrc/53yQUG5Gqapi0XN/AEb1/qQqxAixoAtrW1MT4+zrp161i3bh1PPvkku3bt4uTJk6/hXZjaq2lb80a6iv+T3OQodeQ4JjaxmVeI1PWTG9lIODlEKj3M4PgUcA2CAqYRIxVqYso5TYcnOTNiYG7xcewQKMXg+u1EDj3D6ac76Xx7P1ujPo/vMOkdUrSPjnPUdTCTa3hx9BliIxu4s+0If2D9Iw/K3Xwj2sr6poe5w9hH09iLpDMn6P75Yzyz51M0mQbp9GlCocOMmCXGSeFLi4ZCloZCtuapUrhGA9PRONMRg7x1gqJV4IwtyYVsstF68tFu/NANIMxzPxQlCTmTxMoTRJ0pIm6GsJ/DVAUMVaA6GYwSZZTpkDcdsrbLMRw8HNzKf+azlCIpJSlfBmspSfl+sJ6XnpSStC+pk5KElNiVa8RFmThlWsXUov0O+ErgSgtHmrjKwpXB4ikTT5m4ysRTFi7BtqssPCwcZeJi4SoLp7IuY9ekBed5mJX6SBOvUjfpYeIrE1cEa0+Y+MoI9jHxKnk9gvv6wsBVZjCHYmVexKBJmtmm55lBI2Kmnq92EMjcf0Vq0qsDR84Tzc4MNqlNWyDv3Htd5rUWKMvc/oDnpisxt1ZY07RZdZ4er3olLOqneuedd/L973+fa6+9lo997GN88pOf5Nvf/jb79+/nPe95z2LeSqthGGFa0gVOtdexPn+YA/Fr2MwrbFbHOJPZTCOPkE4NcVK45M0wYXUSxXbaQx1MOaPg9eNmO2mfHuNsfSsRt8zJ7W9k65EnGT2boKVgE4m5jF4fQT7g0D45TeJsH9meDUw3xTkwvJb1iWHWxaf5iv3nvN35j5zKXcupjV/m6bUmf/APYZLZPjYc/y5HN/4qk5O9VCf/a8IlYg0RDveRj2cZD4coYqE8sKVPUz5DU37mSSuLAibwxCRl63nKFjimoGwaFO0IuWiKUiiNY4VwzTiumSIft5gyLRzTwrUsXNM+Z3TpOZQE5SBUCSHLCOUi8BhVLkK5oDxMv4TllbH8MmZ1kQ6GrK5dhHQxpE9YlolJh7h0qJNOsK1c4solJj1iyiWmPOLKIy59osonTNB3MFJZwqjKdrCuhr6mUJimS8Rc/u87rlV9GYuqzvZS24dwJm1uf8LqsTn9ENXC6cy/7tyoba7z7i8QKC6Uf4Fzz8lyoWued/jx7Epc6LaX+Tf2olcAn3e4tHY1WI51Nceja4H/tNTFWHEWNQD8yle+gpRB/5977rmHhoYGHn30Ud7xjndwzz33LOattHk2Xbubl3Ie1x1+kZ9eexvv4dvsiTzNL+T/yW4gXjeJZZUZcqdI+VkE0BVt51DuBaR7glb3VrzsGc7Wt2JJySvpBr689gjfO72ZicNJWveMs7GlgZe7h9l5SmGNljE6ikTq1lMcfIH7BzfxoZ7n2GQe40vW3/M73kf42eAn+ELk/2HytnHaH6ijq/8hnuueINtwF+liCxEvjsSm4HVR8LogDwmCRaFQZganbpxsXYl8yKNs+iAlEdcj5paxlMJyFfGZmMcHXCALnL2IT63Sy22mJqr6to7KGzmEiW8YQc2WYeIZwfQqSojKtCgGUsSQRl1lShWBX1lLI7iGRCCt2fxFIcgjGDHm1XpVa8FmasOAytQrCgE1eWR1ChbAwCesHMLSIaTcme3q2sbDki628gjhYlUGp9jKw1YuIeVhV861K+lh6cwcD0sXS7lYSmLgVyatVpjKC96VrLxgkmrlV96hHKSblbwGEqvmHSbz+7mJ2Y54NS3SQdpsnVi172Dt/vKwnEKd5VQWTVtMx+q7l7oIK9KiBoCGYWAYs/9sv+997+N973vfYt5CO4/dN32Q7z5ykr2PP8dXrv0YZRVig32Ef2itn+kHmEoNM1SeotdNETIgFQtq4aR7km7ndorjk7AWiqEwvmHwUuu7+Ffq2/zvk5to3TPONdYg9+2Os/NUgR2Tx/jJWD2hzg4mmizMMcGPBjbznq4DvN26jyOql/+HN/Jvyp/m/7K/wfatjzNxKME7n3iBgbc+xksbDfqsOJN+N+VyB9F8J+liK6lSE1E3QUhGEH6KyHSKyDQ01zyrAibjMJlwGEkVyMaKuJYHQmApg7DnEXGd4M0cvoddWUJe8LYOs7Z6iGBgRbWz/wKNySuMicLEIRg6kn+17Jp2tVuOVVraJYmV6rhxqQuxAi1qAPjwww9f8Pitt966mLfTaiSSG+n0XEa9PJ3yDAeNHezhGcKpM+SGNs/0AxwYm8QQu4EihpGg3mpm0hslJCeRww1EnRLFUASU5Dst7+CXp/+Ga4wxMlMRwukSUzfuxPn+k7RPlnjG2sStmdN4yW4YO87JXAPPT2xjd8NBfs/6Krmww1cLv8T/HfoIP2vdxafy/0i8z2XNT+q45U1jhBPTwAAQ1Ntl4gbTSYMpw2RShMnJegp+IyW/gbLfiOen8Pwkyk+Q8upoGEuwYTiBUumZz0EBmYhioD7LYLrIWL1LJqbIhy1KoQieHdQxhpQRBINSVt6gIWe2rTlpc/eFUljSx/Ylti+xfBkc9yWmVJWl+nYNhTkzUrbydo3qiFdVHUk7dw2VEZRiNkidbTWsDVxrjoraNHWe9PM5z3FdnaStFHqi7queY+hpYK6ERQ0Ab7/99nPSRM3/+Xx/oVdsaYtBCEFzu6JvuoEdgy/xbOc+9vAMW60XOTu9hUZ+Tjo1xAlRJmsImtRpfLawPtTGfm8U6Z4gUtxB19QQR1q6iTllHm1qIH9kK+2hSXLhIFDYmczw7KYINx4q8UsTP+CFdXexySwwlVCks4KfDTewIbmPOms//87/B+zmQb4y8gEeT+/mlW3d/K77z9w4eIijDzVR+liCls6baG3fRVg6NJamaSxloJyBcjZYlzLgDYF3CtwSeCXwyiivhJBB26+nQhRlgpJMUZRJyjJOOR/HycZwVJyyiuPIGI6KkSHESMilP+oxUCcZrVNkoi75iE8uZOBZUZQRD5p1jTqUEUeZwTbi9euIbPqVYFKpSiAa7FuVQNWqplffESyDZtja9cxr2mameFHBdDJKYlA5pmangTFn8srKNDTVV74FzbzVvCY+VKeSqUzrYqhgypnaqV0MJKBmppQJAt1KWrWhW1WnhVE108TMnR7GQAbN3UoCEkNUp5CpTjcTPE9AgZi99pzm48o/RfNmKpxVO0VM9VozazGn+XruK9VmJ+muvd6c5u55U8xUg/nZ+5zTwfE85ahNr04pM9vE/moBv+6et1guplZRzdvTH/7l6t34pqUuwoq0qN9ok5OTc/Zd1+W5557jP/yH/8BnP/vZxbyVtoA9b3gzz/3/2XvvALmKK+37V3VDx5meHJRzziIJENGAwQQHsDEOa5vFOeGA7bV3X/tdp3X48O5r43XCaW2vIzZgTLABkRFIIKGc4+TY0/GGqu+P2z3TEyQkNBJCzCOKqjp16lTd23f6nq6qc07737joiWf4v9d9MqCFVvOo+ASLgVi8B8vK0eR2Ue7lMQQ0lk2CzAv4zk6muafR17uLbXVTUELQawseKH8vVyRvYV+uHBURLNDr+dXKN3HW5r9wzs5WfjgrwTW5p3i2thH6WtAI7mw+izeOzxKWG/lk+iEmTWviP7a/l65wBV8680bOaNnITS/cxfj/aqd74n20Tb0XWT+BxMILaLzwJqK1U1/0WgWA74Gfx/TyxN00onczXtdq8skNeH2bUU43ttaEii7xtMY2K4iGxhOxxxGxGwmZNUhH4mZzOJkMPckump19tHpZWlSWdp2jnTxtMkeH6dNtSjKmiZYRtAyjRBgtw2gRGZKHQFhoYaOFDcJGEAZCIEIFuoWWVuC0WQ7efPaNIPRbgFN/Y3oMYxjDGA6Ftzbt49aXexKnIEZVAUwkEsNol1xyCaFQiJtvvpk1a9aM5nBjGII5i99IxW8fpXLzC3iY7GYak8VudtWXk+sZT7jiIIlEK025LmaoSgwDopHpCCTabyLsp0gc1MjpipwdLLn/tW4hV/ROIL41Q/IMMKSPXBglHZFUpRTn5X/Oz8QNXJDbQiakieYFzamN7Ep9hBnx/8BmN9e1bmLc0q/x/TVv4RlrMasb5vNs/Vwu3L+W67f+nQn7O4BmnN//hr38Bh2RyPpqIpNmEJowFbOuFqOyCqOqMgjLVlWFUVmJkUgg7BjYMQRVxBMTiU+6FACtNbncAXp619Dbu5be3jWkUlsJ3L/sCJIP+GDbdZRXLSBeNpdY7HQWxGZxRnQKUoZGvM+u79KZ6wxStpOuXBed2U46M+10Zlrpyu6lM9dFr5Mk6abIqRe3zA0MPcxAWcRAC3MgFyYaAwuLEDY2NhY2lrYwsZHaRGIisBHaACwEJlIbCCSimGMAZiE3EBgF4xej4Jza6C/3G8OUGLz4QhbKhcghBDGCi2td/WUxsO421LgFii5eOEQbJW5giitWgqFxgUv7D/GnfOj7W8QoxQ8exDO2zTiGMRw/mPbLPYNTEidkT6u2tpatW7eeiKFe1bDsBDXxXraPjzMntYG18dOYyi7ilbtIH5wdKIAVLexv78GQ8xD0okWCKbqK3aID39lOpGcGjb0dHKysw/JcHq436dzyLozM7SADk4FzjEd46LQVXPno45yzPc29C/5KtDdOe20Z0QMpwGNtcj8V9leosb+IzTZW7mgiceYPeXjrhdzZsYLd0Un8Y9JpPDRxGWc2b2RF53bO3r+JmNODyCr0nnYye9rJDAoANxhaSAhH0eEoRGOISAwRjSFicUQsjozFEbEYVmwC9ZGZ1FkC10jiiA7yuoWsOkhON5EL5cmFVtNmP4kO+QhTI6QkGp1ELDadeHwmsdgMYrFpRCKTsMw4DbEGGmINR/S55LwcSSdJb743SE4vyXxyEK0n30PaTQfJS5N2ink3XsH5NEC+kEYVI7hGMYWJJU0sESRbmkT6aUZAl0FuCIkUApMgN5AYgBQSU8hA9RQy4EMENCEDFbRQNhEBrdBfikBlHYjIIQo22yV1EazsyoLyNZg/4BmgicK2dHErV/TLkiLQLovlYtyRgfgjQ7Z2B+mSI8dv6L+deoCveJsLw5X0OYQPwJF3kANppb4IB20vD56zHuA6RFsJXQ+f/2EndUw4Njn6kJVRk3pS4tW6jdy4bNnLPYVTEqOqAK5fv35QXWtNc3MzX//611m8ePFoDjWGQ2D28vk8nPQ554W1/HnFFbyJ3zE/vIb9vfOo5kEqK5rYKTy6ZIZ63QIkmB5vZHe6A9/Zxrj8Uqb37OZgZR2279IXsni46gzO7b6fbn8rSMFUsZt7LnojVz76OGds1dz+mhYOtjRS36pwDbB8aE09R7piIZovU219hbCxjiWbkyQmP8DUyc/x7BNLeMJewa7YZJ4ct5Anxy3klzPOZ5bTx5K0ZHzWJZLrJpzvwnb6sNwUtpvCcvqw3DSWnw3OPmVTiGwKSk4fFE9kqUPcIwOIFtJIUCJYeVOyDS06SYq19EojoMtglUyX1qVZkpsgApcyyEIuxABNSISQJISgXEgm9NMNtKhAi0pAomXAq4TAMyBneuRNRc7yyJtBylkuecPDM3xcw8cp5K70cQ2vkJeWC7n0+su+8PGlP2zFy9Menu+RHTu2O4YxjOFlxps68nxx5sUv9zROOYyqArhkyRKEEMOifpx11lncfvvtoznUGA6Bsy/8AKtWfZHTVz3L/1vxfrp0JQvlOv5uXs1i3yASTREOJ2lyu6lwNbaE6sRUSL+A9puwVYrxrSmYCpnCNvA9jRYXdryF6NZ/JzM3GGda/RZ2TRrPtH0HWblJ8+iSDq56rJHuhKKu2wTdxzqnlbPM6bQ7/0qldTtx8x6m7c2QqGim8nUp5mzexrYN0zmgZ/Jk/SLaI9W0R6p5PAGNuVYW5lIs9WuZGJpONuaiYx4qnMcz8yiVJZxUhDMGds5COAJcjXZ9cFxwPaSbR7oOws0jfQ/hOwjfQ3oO0neRqpD7DkbJNq0sOIA2DqVBnoJQAjyjkGSQu+ZAeSCJ/rJbyJUM+vuFXMnB5f42GWwTD2or4R1KH9jmLeRDy8WVtJHaBvUVI/YvXjei8GNhhHYYsi40RFE+5JbwEAxtO5TMYb6oDyfzJYw9bI3rCLbDx/DSMGZwM3oI7R/bQTweGFUFcPfu3YPqUkpqa2sJh8dMuE8UovFGqkNJmsI+s5zNrLHP4DXcR1OdQaZjBrH6rVRWNXEwPZl5hWgc2DOoyvl0hQ18ZzvxtvFUpXrpiicQSvFwvUnH5mlUHbyYzLy/A3CufpQ7V17Px3/1My59XvHX010eWdjL+esSeBJMBfs6HmbBpPHERZge7504ajaV1veo7nE4Z10326c5NM7vIPP8Jq56+B/sMabz8ISlrK+ZTnO4nuZwPfcDVU4XU3r3MqVlLw25VuJGlLARI29ZZMMCM+phV2SJGH2U002100G57iJieoSkhylf/NWmFChf4vsWvmeglAwCgSiJ0gLtB3VPWuRNi7xp4hoCR0gcCR4CH4JzhSrQKIQeKKNEYDlaoEsfpBJIXyCVwPAFQgmkBukLhBYIFfD0y+kPjVGApvBjq7ChN9RYtMCvKaWPzGcAZml76d6iKlzXEEvVwduPw+c2YuWQh+6OQP0YiecIxhnM8hLHOcKxjk7GGAKM3ZRBGLsdw1D2xrqXewqnJEZVAZw8efJoihvDS8SU+dVs7Wjg/A1P8fCyc7iE+6irXUNy84JAAaxsYsvBHoSMI2lHiVrmWI08QRu+s43a7BKmdjfRFU8QczOkQnHubbR4y75rMbJr8O0kZUaSjtPD5H9v0djpMvcAbJ6Y5LFMPfOb+6hJhdB+By84zaywp+IRIa0uwnFmU2ndSoitzN2eYnw8x/b5LtllPSx8ZA+X/+0pOkQFj4xfzINTFrMzPokuu4ouu4q1FUuxlENjroUJuYOMzzZRl25HdpZ+Y5YX0rR+ipQS2zCxTIEpNbbhYxseYZnHFi6m9LHwsKWHJVyCyLcuplAYpkYKFZSFxhBZbJEhIhSGLNKCXEiFawvcsCAfluRDBrmQJB+S5G1JLmTg2OKlGQxojelpLE9jegrTG6hLpTF9HbiOKSZVLDOMJpVGqjFXf2MYwxheIbig9sV5xnDUGFUF8L/+67+OmPejH/3oaA49hhJc/LpP8vzar3LRPc/wo2XvplNXs8R6hu3Zq2jkj1RUtKClx0HZzSQ/iRS1jK+Zgu5qBb8J4fcyra2LNRMhawWrt3+aqLl+X5hxz9/E/rO+AcC59ioeXH42lz+5indv8LhlosXuGTuoSs6kMp3H0HCg9VFSExuJE2Ydu5ilx+M53yBu3Em5+SvKUzmWr+ulrdpm99lR8qc51P6ikzdse5Q37HyUfLXJswtn84/oEp435pA1IuyLTmJfdBIAlnKYkGtlktvBeKeLcW4PppfH1XkclQNAKUVOOeQGGeMKIFxIxwdCBsqekBIpg1zIgqGBBCE1Quj+HBn4uUP6CKHQwgfhF3zYFPXGknKRziHKRWsIdH9ZFE/6G4WjiUiEEMGcCsYcolgutA2q95tUBL4nR6oX/1Gsl/IN5SlOUVDCQ7/MQAbD6EUjiEFSBCVjj2SgMWAxLAa1DjPdGIFW4ByBdTjnkHEPq2kfrrcYYSXxxeZ1PJeP9NH9dnmJUzn0GIce/CX9mDmuv4BeGT+vjt8sR1dyVWgm1aMqcQwwygrgrbfeSnt7O5lMhoqKCgB6enqIRqPU1g5o8EKIMQXwOKIsMZVEJE2H6TDD2cqT9jm8hvv4UeKjrMhUYEV7SCRa2d/RQYNbRdgAo3wRiYMPk4xG8Z1NjDs4nfJ5aZKRGCjFrniELeXdzEnOI3HgQnonPMQisY7/d/EtXP7kKiavh/Mu8XjENFm3ZBflayuZ3B5Fec1sTu/m9NhcpjOO39iPsSw/kcXe68n4F1Ju/g8x8z7qOh3qOh06Ki32vitKfjMk/mgS6vQ45+GNXD7pGaoXpdhoTOK+/DKeVnPZak4lJ8Psjk5kNxMBEFpR7fYwye9mutnDjHA3kyNpYjKByEchH0Y7IbRj4SuFpxw87eIpF7+Qe9pFaQ+lfZT28fH7y5528fBL2hXokQ8LahXspWpfHdIgZWQYhWQd24NwXNC/PzyGMYxhDCcElb3dvGfFm17uaZxyGFUF8Ctf+Qq33XYbP/nJT5g9ezYAW7du5aabbuJ973sfb3vb20ZzuDEcBpMXJNjbPIHzNjzN/csu5EruhIZ9pFvmUzHtcSqrmtjf3ck5cjaQQ8tq5jtRnoyCn99IPHsG09sP8Nyk2cT8LGkZ4wdz9nPr6qnUb3k7qao1+LEkM8ZtYsP0WSzYuY23rtccOMtnlwOrF3dR+bhNedZkd+dq5oWnEDcizFYTeDayn/2qj0uchSjvw/T5V5Iwf0/EeJSabpea7l5SMYODHwqTfjpK+FGT5L4oyQMRGmZ28uk5f8KKK3wtWOtO5+/OEp5TM9hmTKbHSNBhV9FBFWsBfDCTLtVuF41eJxNkOxNiBxk/cSflFT6xcJhysxzLSWA6CUS2GrLj0U4F0olhehFsP0RYWchD/KrVWqNR+NpHa4VGodEorQbVfe2RFXkyIkdW5MiJHHnh4Ig8jnDJ4+AKFxd3IMfFFR6e8AplHw8PT/goCsopCl8EY0FhdavofqS4QqULblQ0BY9/QZKAoUGKQl5wSmKU8BZTcUGx6LREDEuBs5PhNAAdnGssaaNEToFl2B0uzn1wfeS+A7RDWDYcpd76Yit7R4STVFc+YeFxT1ZLiJP0cxnDyOiWPS/3FE5JCD3UZPcYMH36dP7whz+wdOnSQfQ1a9Zw7bXXDjMSeaUjmUySSCTo7e2lvLz85Z7OIKQzLfznF/4PZ697nrd+/ja+oT/OOpYy45kJzDzjB2TS5axZcw2vz59BrepCi8nopt/xm/zuYO0p/kZ2zcrzv2eswFA+vjRAO/z1iUeoT51Jsv5pmhd/n5yK8uv1N/GFH34fLw5b/k3ywz5o8STxrMHlTzYQy5nEGm/gyvBEMn6WPzv3kEmUEyfKRe4C6nQCgFaxjlrjr4w3nsUQDgCelHREbVLPR3DXhEELtAXGynJqlkSp6GtB9jVT9LLW5FfymDuPZ7zZbGAqu+QE8odw6Jxwe6l2Oql2u2hQHYyXrUwItVAeS2OWeYiEh0goKPMRpoVKTkEnJ0C6ESNfh+VWY/qVhIhjSYklwBSBMYWhC2ftfI3w1EAY3+MIjUYVrXIN8KVGSY0vg7JvaHxRyKUK2tFBm1AoUWgXCiXUkLLCR+NJVVA4i7w+vtCFvipQR4VGCx3YvuAX7GBUUS0OxhQ6UIpRBV4V2M/013VBqdUoUehT6Fu8mbqwGql1SbzkIg0Khiq65O4M/xBe7OtPH6o2qDhcyyyliSFtYlAtKA3iGRYKbkDqyPMbif5iBjMF+WLk+3IICYeZw1Di6D7wJ6kaOSKOz1xH/wvklXRPz590KR8/+x2jKvNkfn+fKIzqCmBzczOuOzzqge/7tLa2juZQI+K2227jm9/8Js3NzcyfP5/vfOc7rFy58pD8q1at4hOf+AQbN25k3Lhx3HLLLbz//e8/7vM8EYhFG4iV99AjXebkNvFEeCXn8AiPy9cxQxlEY0nC4ST73Q5irkXEBLNmIRXbX6AvGsfPb2B882mUZ1Iko/Fgm1PYfGJhB7c/s5Oy1tNpz/yOcLQTvShLW0UVdT1d7Pzbct58+Ub+J5mjKwL3ntnKa5+uR7TczYHJ72WCESEbfh3bDz7FXLmXvyXaWBxawmJ/CvV6MUl/Jr8Uz1FvPMHp+gVqVBcNqRzMyJGfaZJsskm9ECX3YC+tq3rZfZqkd8XFGBXzKc9XEffgbN3Jxe4Bwrm/YORaOZA3ed5pZJ03nS16EjvFeLpkBb1Wgl4rwa4SgxGAmJOisqWHyv3dVLo9JNwk5V6SOtVFmbmdiLmJsOUStl2U7ePbCmlKtGHjyyieKMehhozfSMaZQD7XiM6XYQmBKcASAkuAIYI/QEOAIUR/2TIllhSYEkwZ9DEJzg4aWgcrc1r3r+gVIRAFow/ADSinJIJDgCVLiWLg3NjAgcJh9SPi4TA8RQH9Zy1FCe/wPsUzi4e9jqPF4fq8FOOil/qIHGKsozzueExjjeHVg9j0+pd7CqckRnUF8KqrrmLfvn385Cc/Yfny5QghePbZZ7npppuYOHEid95552gNNQy//e1vecc73sFtt93GOeecww9+8AN+/OMfs2nTJiZNmjSMf/fu3SxYsKB/e/rxxx/ngx/8IL/5zW9405uO7KzByf4L4r57v8D2324gO7GKn19wPbfqD/C9/bfxHvu7xBo2sWvXMtx9K3hdfgmGsACfgw99lsem1KAxsCvew99W5Hhu8mzKvCR9ZjnCT/KZvf/O1QdvIlX7PO2zf0u7N4mnHzyf9/75t6TqTd5z3r/wvqXf5w+ZTjp9STxj8Jpn6pkRfi0Xl59GRmveIlJ0oxFaMT+5jUvJcGnZ6cRlDIBtsonV1nbqxR4WsoX5bCNSEgPDyRuk94XoOxgm0xYiO0+TvtCnb7JNuqeeVEcdmY4G8n2VCBWEPTOFjyV8bOniCZdu06BT2LTpKE0kaBaV9Ir4Ye9pzEtR7vVR7iZJeIFiWO72UeaniHlpjCGn/QSakOFhSx9L+phCYUmFafiYQmPIggIoi0YXJgITrYP4wVrYKG3jE0YRxtNhPBHF1TE8HcfRcTRRECEEQRi5IOJGQWEk2N6Vhdzoz0U/vajbDETGGBxxQ4qBrd/hfGKAJgZvFRd1oVKDi6FbwKW8h4iHMYYxjOFVjuyMCmb+88JRlXmyv79PBEZVAWxvb+ef/umfuPfee7Gs4AC753lcdtll/OxnP6Ou7vj58jnzzDNZtmwZ3//+9/tpc+fO5fWvfz1f+9rXhvF/5jOf4c4772Tz5s39tPe///2sW7eOJ588dPixUpzsD5Dvu9z66Q9x3qqneMs3/5uP6G+z1V3CyhccGpf/mt7eWtY//1rell9JlB40daidP+CXRpqwdjEj57JnVhW/WXEGUvsoYQCQ6Ph/fDmdZMnBq9l/+tfRZo7/yn2Sf/vcj4jmc/z3xZfz98Q53DL/O/xMddGhJLYjuXhNPddVfZBGVc3TnstvJts819SLX3gCI8CHlORqEUMKgaPybMg+x2Z3K9qEqeF2FoT2MtPcjy0GwqP5riDdHCLVEiLphOg5HbIrFCoOnmfR11dNX19NIVXjOoeKAQJ5bdCrw/SqML06QlKH6dMh+nQID+NF73nEzxL3U8TdFHE/TdwL8piXJu6nifoZbOUcv7W5/pWxAavZQatkpatY/WXRzzeYVpBTWmewTM1AHz1IrSuRywDvUNqgsYbVB2jDN0ULc9AlsoeeLBQj9CkI65/rIVbpxJBaKf+In50YkH10OA5PwksSebKtsr2883nx0U+2+3VqoyY2kXd89cOjKvNkf3+fCIzqFnBtbS333HMP27dvZ/PmzWitmTt3LrNmzRrNYYbBcRzWrFnDZz/72UH0Sy+9lCeeeGLEPk8++SSXXnrpINpll13GT37yE1zX7VdgS5HP58nnB1ahksnkKMz++MEwLOITummqiXJW65M8WH8pV9l3sCX3Phr5NeXl7Vh2ln1eB5MdCBtgjV/OuK130FVejpN/nsb2K6hO9dIZTyCUj5YGqcSb+HbuM3yxMU6i+XQyEx/l9ca93Hnea7j+gbu5Ydvf+cuyC/mf3g/y36nP8rHyBAcjivvOaEbs+C0f4YOcYZo06fu56uwoVXWX8uCGLp7d3cF/ehH+huAThJktQyyLncVEtYRHUptY1/oc+xyFJcYxKdrD9LJOpse7iFsO5ZNylE/KMQ7IJw3SvwvRFQvRtlhjzmqhsrKl/774uTj53hpyyQqyyQTZZJx8JoJfMNeoEkmUFCgpg2RIFIKsESiCqYJCGJRtUjpEWtsoJFkjQtaI0G4f2m+V1IqIzhdSjojKE1U5In6WiMoS8zNE/CxhP0fYz2FqLwh7pzUoPVDWavhrqN9Z9PAzXGPn3o8ch7tXY/fx1MfYZ3xyQVdtA0ZXARzDKCuARcycOZOZM2fi+z4vvPAC3d3dVFZWHo+hAOjo6MD3ferrB58TqK+vp6WlZcQ+LS0tI/J7nkdHRweNjY3D+nzta1/jS1/60uhN/ATg0us+xn0bf8Dr//oQn3jPF/ln/T0eqi3nrM4pRKr3UF19gN25CcyQCwDww4s47eDPuKuilpBKYfT1Mrt5L0/MXERMZUnJOL41ji57MV/Ra7klO4+okkyyNvK/l7yBNz50H+X7Xa5e8BCPHDib7y74IL/Z8k3eHp/Gvvos98zegNv933ys5SZem5rOvui/o1I/5uyGGEtqLAyvgu6ucTzcV8XW1FzOy86kVoZ5U/kyDpYv5lcqxxqniSqnndpUO/VdbcyV+5kR72BKtJuGaB+hcp9QeYYqMkxvgew2i04RpX2KTXqmjxNOEQ2niJZ8/MoL4afGQWoCMjUeMzORsNtAVFQTsQSmBaapMWyFYSiU6YNUaDw0Hn4+T3faoSXl0JbxactBuydoVwadmHSaNl2GTVaaKCFJiwhpIkf0GVraJ64dYtohRp6YzhPVWeI6R1RnieksUZ0lrLOEdZ6wyhHWOUI6T5jcwNZq0b2d0GgtSgw0RaA3ipIyIjC40GKQ4xetS1fehgQV0aCF6DcAKK6a6UG8YkBH7e8nSuQPTHNo4Hs9rHCYwCKlfQ/DP5LMYf1LeEY2lyjFS1sZOmFWuS8zXpbLfImDvvS5jq0OjjbG2Sf3YssrFaOqAH784x9n4cKF3Hjjjfi+z/nnn88TTzxBNBrl7rvv5oILLhjN4YZBDDksrLUeRnsx/pHoRXzuc5/jE5/4RH89mUwyceLElzrdE4JpE88l1/gDJt+zh1qvjYfNSygb9xyp3UsKCuB+NjXPxBMaU3eiRTUVs+aSFwYh8jjZ55l3YClPTVekzDiowGdItuqddDd9iq+EN/GRnnoaqpp5i/EA95x9Aa9/5AFu2PZ37lp4Ies7p7CmZjmf33aQ/0on2DgtyQOV62myb+VfDt6EuftyvGn3UBVJUQVAN42Vu5kHwF20eTbOvkuo3Ptaxrtl3CJjOGXj2F/RzQtGN02O4Gl3Po84Nn7OINqTZ4G/jzPZzqxIG/GYQ7TCJUovE7uB1ZB2LNqsCF3lNqkaiVuvkHYeWbEbKgJLdQ1kgR7PpjVTS1umlpZMHa2ZWlrTtXRnq0k7ZRhITEwMTEyigSEHAssSSBukDJwsl4sgPgkafA1KK3wNngZfazytcaGgTlIoB3CFQbeI0H2ECuNQSArWyYVkSAoGJsW6RgqNIXVJOYhuImUh4okMIp7IAo8hfKQkcGCNpj/GnS6p91vhqsH0fgyolrqoQTIk1yNb2Zbmg/vCYL+MJVa1WjPia71AGv5XP0wrPHz74fq/CKt4UQ3wEO2H0mCPCi/S90RpbSfCVL4fryyN+4TempMQlfPGvdxTOCUxqgrgH/7wB97+9rcDcNddd7Fr1y62bNnCL37xCz7/+c/z+OOPj+Zw/aipqcEwjGGrfW1tbcNW+YpoaGgYkd80TaqrR/Y5HgqFCIVGdilyMmP6WY3s3tzJlU8/wF/OeS3vi32XPT1vpZY/U1HZjDQd9rkdTHQL28ATljFv/R3sravF8FpJ9AimdDazq3Y8NbluOqJVuGYdsfiZpFNP8Qunm1uAyeHV/PHSL3DlYw+S2Ony5QX3cVvTOXxxxQf5Xc/NnLtlArU9No8v7GRjbBcfnvY1PnzwzZgHrmJLIsUBq4x4tI/6WBtVoR4SoSTldh/d0/5Kz6QHqDhwIZV7X4udr2R6+xlM4zRSdc+RnPg46ZoX0MaABXq7I2nK12L2aBq3OdR35kiE8oQTLjHbZSouU/uAPlC7oEuH6ZJheiMWqYRJrkZjVXiETIdJ5QeZVH5w2H31fINkNk53toKObBXt+WracrV05GrozFXRkyvH819+Z84KcHSQgEJc31KUnssbwxjGMIaTC7PqxhTA44FRVQA7OjpoaGgA4J577uHNb34zs2bN4sYbbzyqMHFHC9u2Wb58OQ888ABveMMb+ukPPPAA11xzzYh9VqxYwV133TWIdv/993PaaaeNeP7vlYwrr/g6373/n7n6Tw/zP+e8GQuHTRX1LEo2ECpvoar6ALubxzHNnw+AH17Kos5f8uyUxTSkD+D1bGZOs2RX7XiS4RgRL0vWjNAefy8rvKdYn5M8nzFYEvV5u30ffz33Qq555O/MW7eKry+7gvtf6OMj87/AZzu+Rb5lGpV9IR5a1kZ3WZJ/n/xjVnYs5YrKD3LLdbNZveYZ7tvQzN3NJrvdCgzhU24nqQglqQu1M6/mz5zpxpmSWko8M4OytuWUtS3HMzL01D1LpmE1uaqtmLaLaeehDDomQgdhZE+Y2DNQs9WnTLpEql3CVS5mSFEjctSQC5b9sqBbIBM2SIUNUmGLvrBJKmqQiRoIG4ShMQ2fqngvVfFeprN3xHvvuybKDeE7EZQbw3fLUF4FvluJ71ThO9X4XiXKj4O2AROlTLSS+L5GK41SGl8ptIKRIooMXh8b8AznEawqOoCDxgHyBVq+QCuuNHqDyiPXi+Vh+uMYgOEq9HBTliPnPxael9LvZFT/T8Y5vVoxNKziiUbHvrEt4OOBUVUA6+vr2bRpE42Njdx7773cdtttAGQyGQzjxS0ojwWf+MQneMc73sFpp53GihUr+OEPf8i+ffv6/fp97nOf4+DBg/ziF78AAovf7373u3ziE5/gpptu4sknn+QnP/kJv/nNb47rPF8OSCkJz9Yk14W5cPsq/jjzzUwdv4m+/acRmn83tbV72NI6HV+AoXvQooLEvFmUpfMoBHZ+D1ObJhObnSUdinBJ22M80HAuGdsin/o215V/mgeTJosjPnXx1dz1mi9w2ZOPEN7jIJf8kvf1fZAtGz3WzbqBRNdDkI5w5eONbJqT47nJ7Txa8xwv5D5Gy5/fxT+/7QOcfV4w7/2daR5Zv51HNx/gyaYydicn8zSn8dPCdU0jyVtxOZcoZX6UmubzoPk8fJHjYGQTG8s3sK5iM72RTip8SYUnSMyWxGZpqtuhfotPxcOKaN4nUuUSrnQJ1biEaxwsQxPL+cRyPvU4/fdSAdlIoAhmwpJsxCAbNshEDPJhGZyBK4FheRiWhxVNAx2H/Iz6dykVaCXQSoCS6IJXZ61N0CYoE6Et0DZC2whhI7EQwkJiIaWNFBayQDekjSRUoFlIbCQmAgspTAQGUptIYSIJktAmBhZCmEgVbHKjBEJLtC9RSuJ4kHUFngLPFzhK4CqNozSur3G0LtRVkBfqri7wFNt1UPY1+BRyrfEBr5D7/e0FHhjgLykXldNif59AIS5uPGtdyIt1dH99gDaQHy3GjG7GcOri5X2aK8peeTtvrwSMqhuYL37xi3znO9+hsbGRTCbDtm3bCIVC3H777fzoRz86YvcqLxW33XYb3/jGN2hubmbBggXceuutnHdeoE28613vYs+ePTz88MP9/KtWreLmm2/udwT9mc985qgcQb+SzMhTmU5+/4GPMHH3Ad7xxVu5RX0FVr2JRRf+G0pJnn7qWs7NLGOCaxI2arC9J1n/6O+4a+FZTOrbQ65yBk+dcQbPTJ1HZb6HereTLfHpCK358N/3M3PurSRrDjA1pHB7lvLYqhm87b6/kGq0iJ/3ecrywRL+ducp1h5cRfGYvz1xKn+Z/QKtdicA83qq+cw5n2bp8isGncVUSrOzPcUze7p4dtsBVu/p4kA6MG8QwCIMLsHiHExqh3iUU/SAsZE+ewt7Q9tZF23lhbDJZtvEA2YeFKzcCKdv86lOBeqAGVYYFR7ueIVRq4iVuVTJHCFx6Ki+CsiYJmnLJGsbZG1JPiLJhyX5iCAfkQgTxCnq8C4wThbBsTslCkfuREBTUDQACZjFgFGFLhqLiJJjgaLfsGSAVwwYn+iBcr8RiR6pvTjmgOxSOQGGrG7oAWMUrQMLcK0FGokuuITRukgr1mV/vX/apddRej2DjGOK/QfPZYBXDpEHuvT5Ll5PyX0sBgTsFzFSvcTwZuj1j2gAc9xwbGPpw4SaG6nlxKoxI8/teBn8nNjP7cRiav0c3vxP/zqqMl9J7+/jhVFVACE4B7h//36uu+46JkyYAMDPf/5zKioqDrkd+0rFK+0BuvXL7+bsO57ny5/4EAsbn6Hj+Wu5ZsqXCVccYNu2s7APnsWlzuKC4uXiPHoz31l8JRM71yOEoH3+Cv5nxaX4hsGPNnyeD8z7Ep40SaQ9PvLXHibM+BXxJY8gBDzY9Fmu/v9+QHkmzdbrTFrNj3FZdiaGFqxq+S2tub0gYgid4cwJb+Kuiau5p+JRtADLFaxoSnD5pNnMO+c86satIBadjhiiObUlczy/r4tV63exdmczB9KCPiLMQLICkxWYzA3Wsgb1UyhydILcS1RsIyK3kTVb6DI66ew18fdHKd9tUtY7+E9j2zjN1tmQnOQRD/lMcX0meB4TfJdxysU+gtdLn7ZJqjApImR0mBw2eWnhmAauJXFs8GwNhZVD2Z98DMtHmhphKqShj4siOejboLQ8kou+MYxhDGM4AUjvnc/V7x7dQBKvtPf38cCoK4CvJrzSHqADTVt55OOfx3EEX/7oh7my8ynOPNhO3aI76O5uYOP6S7ghvxJbJzFEDXb3j/jrvl6eGj+NWX3byUyYxT+Wn8eWxinM797Fu9r+yKdnfQqEYPHePq5+ymXCsu8Sn7EOMzmNvz51Hu/+86/JxEPc/rE8G/LVvLHrtZzTNotH9v8y2JyTCSJCcdmEd7Mn2sr/V/cz9sXaAKjos1i+tYLZUlM51WP83CmMm3E6icRCysrmEwoNdize1dXFw0+t5aHnt9OcgV4dIeeHqKecudgsxmQ+BmWH+KWsUKRI44hOJK1EnBZC3a2oll7y7SlUtge8LABeArqnRzk4p5w9MxJ0hiXazRDJ9VGZ7aUin6bGzdPgeTR4Pg2+R+go/tKSUtBhGHQWUp9pk7XC5K0I+VAM146hQzFkIRm2TcQ0CEuNjYdVSIZ2MPCQeEjtIrQD2gGdRxeTyhU2UE9S9K+ECdDFvGi4MrD6VVxpY8iKWKkD6OFOoYfXS1fJRkbRD87QlcQR2l/0ukrZCv1GGPcV+SX9ipz08cbYTXkpSMRXcuZF3xhVma+09/fxwJgCeAx4JT5At/7LP3PRnU9xy7/8KxfX/xHx0HUsu+izaA1PP3Utp2UWM92pIGyUYbGZlvtv5ZsX38jC/Y9COMLBeafzu9MvRmjN00+/lY9Pu4Un6pYBcN6mDi7a3sf0yz+PtPKkdt2E/au/M6X5ILvPr+QbK3vp9CUxP8I162Zjt3SDiAGSxnAt5zVch4/irsRD/KL2LrJWcPauvjPEaVsqqe0NIS2faF2OWF2WsgaLmolTqZu4gPKKhZTF5xGJTEAp2L59O+vXr2fbtm24rkcGix4VQcUbSERrSThhypIudXmYiGQCktARbKEo5UI+hXZSaCeDdtNoJ4U0U4Qj3YTKk9iRDFI6+OEQ2WiYdDxGKhIiYyt8kcP3M0g3jeFmsJ00oXyaaD5FmZMh4TqYL/ElkZSCpJQkpSQtJSkpSQtBSkoyUhTqklSxLINyWkiUFcKwQth2CNuwiJgGESkJSwPbkNhCYMtCEqI/nnEQ21hjoIPQdmgMFBKFIXyE9gk2URVoH4FC6OB0HrpwUk/7JeWTWBEdwxjG8LJg6tSPMW3qR0dV5ivx/T3aGFMAjwGvxAdo46Y1bPvsF+nRUe68+Wwa1k/ndeO/Q6R6Nzt3nIaz/wxe755BcITewNz5Cf43soSnIo2c1rOWzPQF3Ln8Ig5U1XHxvi38dM+HWLr893TGAi9+y7e08Pb8P6hb9CeMbDmr176fq371HXwh2PXZMNur+3g+Y7ItbXL5qnGUZS2kNQfl7WZhxZnMq1iB1pqUkeV31ffxl6qHcGWgFIxvj7JoRxn13eHBFyU0oXKPcGWOUMInXlVBeW09VY3TSNTOpKs3xJYtXezcuY/Sx72uro4Zs2ZTMW4aGRmlramPZFMatzOL1edg5TzKPEEtghrkIVcOXwo0CoGHwA1yETiWFlIhjQxS9mEYfQiRRIheIIMghdApJGmk6kPqPgyVwtSZUZsXgELgYuIKCxcTT5iFeiEfShMGfnGdURj4SDwh8SgpC1ngMfD7yxJfDKb5hTNxohCCrj8usSiJQVyoF0+1FXfCA/4g8rAURZ5AjhCiRE4prVguoRfll/QP5Iv+LXBRwtsPMbheEnWvlGUQDtUmAIQ+bN+RiIP5D/+8Hp1l50t7TRz9X4xGlzi9G5jjyfWaGjsJcWJhTpnIORd8aFRlvhLf36ON4xIJZAwnL+bNXcb9M8ex4u/P8seD11Ix8WmSu88kUr2b+vpdPNc0l14vQ9hLEjIaCE07k8WPPMs9559Fum8rVk8HS/dv40BVHQ+Pn83Gvafziz98imve+d94wmbNnAbSB1/LLelHCMU6WNmwnmcXncZp65/F/E0l5157Fhdh0VGzhi3ntuA8MBHf3YIVuYgXuh8lYdUwPjaTuB/hxvY3cHX3+fyi9m4eTDzNwdoMB2szTE82cNbeidS2CvrcLnztku+1yPcG7nuCDeTWQnoSaUisMDREFKGIh23nMQwPs1WSaZHktU3YjjNn3ARqG8dTPXccdjgOZggHi9a8TUvOZEevorsXkklNJuXjZXx01qc8lWFiOsl4N0uV52AYNsIIgWkjzDDKDKPNMJYx4F4oUEdsdPHkoIZ+01WXo4SPJIUUfUj6ECKDJNOfS5FBkEGSRYjsoLb+nCyiYOAi0YRwCenCRF6Gd6/WsjATAwrrimAUaCboIm04j9ZFXqOgHhbzARVS96tvsrDlOoSGKPQ5FG2gTWs5hGdw+1C1bGS1bjhfKW1YnOWhffTIdD2ozyH6HtH8jgXHKuNkULdOhvswGjj2ObwcxibbFXDBCR/2lMfYCuAx4JX6C2L1U49z8MtfJW2OZ9NHIPbglZx5wacQhs+aNVcyu3cZi5wJWNLGoAP9ws3cNuMGVvu1XNK1ivTMxdy55FyaKmo5Y2cvP9/0bn5et4Kvn/np/jHOcZ7kg9a30MrAeuJmYn/6EbFclofesIzzoldSkZ6AZ/WxqvcOOlqbwYhhhS9BZe/l4obrqQzVkxN5LG1iYNBktfOH6gd4IPEUXmFFcJxTy+u6zuOczvmoXIY+t4u0lyTj9fbneZU9qntjyRCWEWyDWoaJLU1ChiQsJGEJYUMTNhQRwydkeIQMl7DIo4QijaTPM0h35tFtKcz2JNHuZMnXpQDDoqOslu0109haNYPdFRPpiSQwC6tRJsGvMguBBdgEK1NF9SVQZyipi0F00V8WWPhYqP7cRGGgMPELuUaiCiqUQuJhizwWDiZ5LOFgCQezUDeFi4mDIfKYuBg4GMJF4iCDtT6k8BCF8kAepKAtoItS+phnwTGMYQyHQU/NpVR8+PejKvOV+v4eTYy6AqiUYseOHbS1taHUYJcZRZcspwpeqQ+Q53l855aPM/+xDdz9kTdh99ZyfvkfKZuwlgMH5tK242yud85FkcEgRsL/Gk8+l+NLp72HM5ofobomwv4JM/jLkpVIpfni/Wu5cN1/8N1PXc1vjbcHpqRC8HH9H5zOarpS0zH/egFzVv2SvGXxwMeWMfP501mamIlyJfcd/ClprxcZmoNhLcDMPcDFjTcQM8vZax/gD9UPsjgzi4WZmRja4E9Vf+e+iifIGDkAbGWxPLOcpZmzmJKbiakkpq8JeQrby4Pbh+9n8Pw0OZUm56fJemlyfoqsH9Sdo1QUh8KSISwRCvL+ZBNSgrK+JNHeDiK9rZh9HcN/P4fKEJVTMKqmY1bPQiYmoQ2r309dkALfdoqBhUKfwDGz7ucBJQY8qQz2bzfgDw8GfN0dmqZfpL2UVuJrr0DXQ8oMKQ/OdaA8FpRBUbg6iUIIr6BcqoLiGJwjLCqcQqj+PkUeWcojBtrod9pSOJM4qK4LdYUQpTRF0dlLaXlYn1K6GEobuFpRcidE4b4NXqsbzFOkFTE4MjOHlf2iPEPii5XKLp3TsUCMgoxjx7HN4fhdw4l2SjMa4708n+fO0Nlc8PnbRlXmK/X9PZoYVQXwqaee4oYbbmDv3r0MFSuEwPdPrV/6r+QH6MnHH2f/V7+ONGaz7aYk49bOZeLK7+I4IVY/fS2X5ZdR5ULUqCYk1+Ku/zZfXfABHnUn8+aev+FOnM7dC1dwoKqeRbvzfOzJ+yif/Qt+uOxGHhCXI5Si1mvjq9aniJDl1+57eN3/W8PcHZvZMG0mndfVsfT7W4hdvISMu4jH9t+FRmNHL0fLGHb+IV7T+FbCRoyUvYO7Zvx/PG16dGeqmZOdwazsJPqMDE/F17M33Nx/XdVugguSp3NucinT8pNpCxsciEraQoL2kKDXEuQB33cxshnCuRxlOZdyN0/cyRDxclh+HkO5aOWifBflO3i+g6fyeH4Oz8/jqhy+cgoq2pHD9H2qUjmqU1kqMznKM/khXgtBCUEyGqYvFicVLycbr8APxzGljSktDGEhhYEhzEIyRqTJ/nKQZD+viSELdQykMA4bM3sMYxjDGF5OPCXbufarbxxVma/k9/doYVQVwCVLljBr1iy+9KUv0djYOOylkkgkRmuokwKv5AfIdV3+83OfZs7qnWx8/3h6t76B88/8DGa4j40bLiDRtpyLvYUFYwVJDe/jbztm8JWZb2NCzw6WVvTRUtPAHcsuAOA9D/SyoukeQu/4E9/jYzwtz0UoxTs7f8qlNfeQI8StPf/C1//vt4nlcvzqiquInFnB3Ls6mLb1ATbPX0hTNokUFmbZW0F7hNyHuLjuOkJGhDwHmGR/llS0j8cqIjwRifCctGnyTercSqQ26LR6cOTAAbpKr5wzUgs4s28hS9NzCOuRvclnDOi1BElL0GMJeu1AUcwIH1/l8fw8Srto6SCMLIaZwRY9hEUnEdlOjHZMlcLQDlJptFIo18B3DFQ+yH1H4jsS5UmUJ1CuQPsCHEVZX56KZI6KdI7KTJ6QN/yHkmNIkpEQvZEQvdEgz9rmqDnmE0IihERKAyGMQbkUBqKYCyMwtBAGUkhksR+FfFBdIAvqrRACoYMt64G6ZsCYouSfKKWVtAkQWvYbgIiCtECW6Dfa6L+mkv7FMdFFow9J0VVLv6GHkCX9BoxRhtwpimspgdOWY7n/R7/ONvJoL30OI4390qSN1prhi4/x8ssYw4lGuGo/Mz/36RdnPAq8kt/fo4VRVQBjsRjr1q1jxowZoyXypMYr/QF69NFH2fCt71FZMY+N50dZlN9B1ewH6GifxJZN5/O2/Ep81U1M1hM37sDZ/ns+N/NmHvRmcn3674RqKnl41kK2NE6nscvjxgeSzKr6I/Ki+/h6/hNsiJ6N0Ipv9H2McWVNtLoT+Mfaq/nUz3+MLwRf+tiHaZ5VzT41k+ktrVzw4G+Ip7vAriQUvQGtMpjuvbym5o1EzDhJkuy1/0qDfJ7xtFBLJ92G5OnyCKtjYZ6zQuzCoD/SQ8l3vdSCiV418/MTWZ6bw8LUAuK5CsRhIgkcLRwBrtS4Iki+UPgiiKqrhAPkEOSQIospcgjTQxgewvLB8MFw0bjo3hSiuQvZ1IVs78Xo7EOo4X+mvm2Sr4ziVMTIlkfJl0XIRcPBCb9CDGHlC5SvUT4DdQ+UAq11YftWFVbsC3VdoBXKpXQojTY8UDulIQpKqRCBoiyLCmVQLrYBg+qCollwkb9f4EBZlKispQrskHJ/v0PxBtroEHklyvBIY1NQiouK8KA/haFzZpAy/HKtGB/bsC9RtX25dMZjGPjYbtNIvV/87/x4xguee855zLv8zaMq85X+/h4NjKoCeNFFF3HLLbfw2te+drREntR4pT9A+XyeW7/0f1j0dBO7PtSFWPNm5lz8JZQSPP3UtSzPLmSO24AlbQQp6s13cffBs/hyww0ox+Xq2FYyoSi/OeNiXNPmymfSLN2V5/TKnyEXPsz3DtzM306/kCrdwTfVxwjLHNlMJfZvw0x8ppP2iio+/9mP01sep000EsmmeccfbyOR6qWjegbj/StBZ9DeX7m08ipiVoK0TtNiZjjo7cK1txM1eiknRTU91NBNRHSzI+zzeDzME5Ewe6WFd4gvtJCAWimZKkPMF1EWOpVEs5XIbAUinwC3HO3H0X4MQRihg/i6pjaxtMRSBtawDdzRh1YeKnkQv2cfqmcvfs9eVPIgqBF85gmJjNUhy8f3JyMxHhGtGRZJZdTnyeEURF34Tw/iHjhBWELTHFqOHtwT6FdMg/JAn2FzO4ZvuiNXdEca+8j4RiadgHEPKfFVoNyP4RWB7IQMZ33y3aMq85X+/h4NjKoCeMcdd/CFL3yBT3/60yxcuBDLsga1L1q0aLSGOilwKjxATz/9NE994/skFjew3T6Ts2f8F+GqfezccRqp/Uu5zj2bDD3EqCRh/hDZfS+fqryFv3nzuEyvozHisKGmkcfmn0nUcXjf39LEc5oV8Z8zvexefpW5kq++5gOcYTzJh/gOWgvcrEXDNwXhVs0L02fzzY++h7dut2mNVHLAa2HRqp9i+h4Hx5/GtPRKwCPD/VwRO4cKuxZPe9zVkMQw6gg7SSarp6lXD1Gb28sWNZl7/DPJWQlW1LnMMrro7tvN87KF56IZdoUUfUUnb8OgMYEyQ1NraibYPtNDiimWT5WriOQV4bxPKKeReYnMG4isjc5H8FQclwiujuARJJ8wvg7jE8InhMZGaxuw0JiFZIAu5IVU2EANkhaD6qJY9n2MZBtmTxOy9yCitwWRbEa4hzBmMSyI1SLi9UEqq0fGC8mKDttuHcMYxjCGkwV7q3dwzqfHFMDRxqgqgFIOX2EQQqC1HjMCOUnheR7f+vo3mfNUKwff3k3F/sk0LP8VmXQ5a9ZczVX504l5irhRiaSNxtBNPNqzhH+J3UhSh3iD/QJKSu5YcBYdVfVMb+nhrasUAlgW+xNnxX/J6sgC3jf/i1wT+1/O42EyfhnhziyNX5cYObhz5cX89s1X8L77Daa7IbSzjfWdQdxHr/FCYrmloDVd1mouFfVMiM0E4E/VO/nG0vloYTI1rRifUVQ4DiGnh3CuhVza4WA2yvjKCBdPr2FuXuLtSZNtSrIhvpP1iS3sijbREuolJZ3D3ieBJiwC5bDKVDSYmkZLUWZoygxNha+odT3KHIXtKEKOIpQP8mLdco/sxJhbcLziCRMHq+BsOcg9jIKzZbPgZLnohDlwuqyzILt9jB4Pq9vB7nawe/NI/9B/5vmITToRJZ2IkS6PkY7HSJdFSZWV4dohEEZg2K0KvvK0ROsBG1q0QOuBvJ/WfwJQB2f00AgdbDdKNEUjVFlieVpKF/1txbOCA576iu2ldPrbhni/G+GmH253TQwqDN8KpbhrOqyfGLb3JgZJLDmX8GIPgqBwz44Qw8Y9NiV+1H8EvFRxx35AcgynACrHm1zx7k+OqsxT4f19rBhVBXDv3r2HbZ88efJoDXVS4FR5gDZu3Mg/vvxdIpceoGP7+zjt/FuQVp716y6ltnMxF3jzydBHlDKqrG8SUo/wFfk+fuqu5EJzO5PMXnp8n9+dfw3KMLlk/W7O2hwY/MyKPsDFZf9NyozwbzM+yOL6fzCJfexUM4ls8ln+/QMIDbde/x4eP2cJSx70Ob3HRGbX4mYfAWB8/CK6zcUoIUDvZLrRw4LyswDYYzbzqWU2eyqnDLuuhKOZkfKZllJMSisas4r6rE+Z4+Pi4eLiKRdf5XH9HB1GCwcjTbRE2mmNdNFl95E00+TlkXtmtoQmLjXlhiYqISw0YakJS4igiWkoU1DmK+KeIub7xByPmOsR9zRxx6fM9Yk7CnuU/jK1AjdtkO8zcZImTiHP95n4OeOwfaWpsOI+VszDjvtYsaBsRX3MqI9h68MqUwoRKKkiiPqhkCgROGnRhVyV5IFSOZhW5NWIEemq4ABGD5JTwsNgpy0B32AnLaJkh7i0PtS5CiU8Qx1r6BHqJTvXI/IXlcJBH7UeyjdY1iBaUa4YaX4jG6mUUg6xY37UGCZiCOEQOvOwOY3ay+hFBB3JT7EjmcsR/aQ7ApbRms+pikTjMq57+5gRyGhjzBH0MeBUeYC01vzbN25j0dZd7D+jlknGViqnP0Jb2xS2b17JDfnzSKpu6mQdQu1mXOQjtHnV3MRnaVYJXhfaDFqxKVLGI2deguW53PD4Ria2TEQgqGEjr/G+TdW4bu6ZcCZ6+kEiIsc9XMmke1JcevcT+FLy+Q98ik1zpyKeSLOgS3Bm12OY+fWAxIpdhbSnIRAY+WaqxFqWV18WWAjrPHdUPE5T2RJaqhrYXWayLyrx5chfqhFPMzmtmJpWTE4rphTSxIwiNIJXl7xw6DB7aLO6aLO6aLe6aLO66TC76TVT9Bopes0+PDG6K9yGFtjawMLA1BJDSwwtMLTE1KJQLiQlApqiv83UYBZWyKQeiJkh0IXYGBrhK4TrIx0PHB/h+OAocBTCU0gVKENSB3l/maCMAMMSGJZAWgJpFep2sOssLTBMQA6s9AEIHdzoAZva4itQl9AG54NpenDf/lXDkjGG5aUq3mCM7CPtSGlD24bP4XAYzYWrk1XWaOJkvUYx9iY9bthVcRHved+vR1XmqfL+PhYcFwVw06ZN7Nu3D8cZvK129dVXj/ZQLytOpQeoubmZuz75FYw3rcVZ+15mXfzvKCVY/fSbWJpZyAJvAo7wCBOiki8SCz/LE3opN+Y/xvn2LhpkH0ZXK3858zIOjJtCTbKba1dvoqZzFgKDaL6FpRu/y4SZLXSuUByYF6w8/ZAPcM7PtnLJ6sfIWxY3f/xf2TulEfVMCtHl8vq2fzAhuwOQWPGrMaxpQGAYEcs8wOKapdSFJwKwwdrMnj2/YuIel/zMc2ibvox8eTXN0QR7YpI9Mcn+wyiGaE2ZB1WOojanqc1p6nOKxpxmfManyoGQ0tgKQr7uL1s6cOmblll6jRQ9Zh89Zh8ZmSUts6SNHBmZJSNzZIwsaZkjLbPkZB5HuuSFS146OMId5MZmDGMYwxjGAK/rXc7XP/qzUZV5Kr2/XypGVQHctWsXb3jDG3jhhRf6z/7BgMuAsTOAJzf+7Vs/YnLfc7SHz2fBjB8Rqd7N7t1L6dqzlOvdleyhmWmMI+fsYnrZRxECfqDexC+8i7nE3o4QHv6BvfzqmveSjpUx/+B2Lti8l0T3fAwVwvDSzN/0M8ZXl7PrmhbEtG0oLfmm/hw33HY/Z25aRzIW4yOf/BLNDbU0bNtOx+5yLmt7gJmZXShhkKl9PTXuwFEC39nFdKuNBYkVGNIkT567Qn9m0uMPMrMJkvUNtE2dTXl1NdPscgw9iX3hCeyJG/1K4Z6YZFdMkrEOvx4Q8jVlribia0JaYFoSQgaYwZai7/nkHYXnedheD7bbScjrwna7sbwktpfC9lOYfgZTG5gYhdU8A1MbGNrAQBbOfhX90JkgA/96hgBTBKYiplCYwkcKhVmIoKHx8AlcU3s6cORSjBACoDRoEeQwELlDUXQJU1Kn6Aim2EcXthlLooRoDb6L9l205w6UCwk/cKYdHCAsWR8ruc3Fcv+XUJFPSJBGf9LSADFQR0i0NBBCoqUADJAioAvZv7Qz1OZ4VHGclsiOl/XtK0vqK2m2oMeW/44rzjfP4iP//PlRlXmqvb9fCkZVAbzqqqswDIMf/ehHTJs2jdWrV9PZ2cknP/lJvvWtb7Fy5crRGuqkwKn2ADW1dvDXz34N+/JNGLvOpvGMn5HLxnjmmTdwqbOEOjcOhiBMCLPlGzRMeQRPG3zY+yiWEaVaZhCRLnqaPH571Y0ow+CSfQ8yc0eW8p75WG5wj8rbV7E0EqX10udhwmocL8Rvku/hmh+vYt6eHbRVVHHzJ/6Nptp63t3yK5wNeXJNimmZPfhIHq2+mGmh+czMBo6AtUoRyj/JaZULqS2sBu609/Gg91tWPryd8V3B9eWrKumojFNRr5laHcOwZ5JX83D1VDQG3bbgQERwMBqsFO5LmLQmTA7agrYjiPgR96FRSMaFLOrKQtREQyQsg3LDIGZKIlLgaujz8rRn2ujItNCVbaUn10oq10Y610bW6cB1u/H9vqP67LSwULIMZAwpw5hGGEtahKRJSBpEjGD8mFREpSIuXMqkR1TkCFNM2ZI8f1TjHxIKRBaMPpB9AlnIjT6BTBZoKYJ6H8js6GhVWoIKCfywRIUkKmzghyR+2ECFDJQlUZaBso1CbuLbJsoy0LaBskyULdGWFfAUaNo00aZEWwbaMNGGBLOgnFL0BygHcmAgcnNh01qIgkPrgpJfOKcYWH5I+p1Vl1yPKHE3JIaVBiy3xTCOoRvhlMzzEBL7HWIPZhk8ghxCL1T0wA/+oaY5R4MT0eNFJR5SZOkvmBeRMVqTOQbJozGHlztQUGPdTBZOXjyqMk+19/dLwagqgDU1NTz44IMsWrSIRCLB6tWrmT17Ng8++CCf/OQnee6550ZrqJMCp+ID9IVv3EZD+f1kD7ybxed+AcPOsOGFiwi3z+N13mk8I/dyuppMr7OX8b2fomJilrQO827vc8yzelBodpXZiJTHA+ddA8Bben9F7Qs24e45RDLjAVBuE9XesySuWEe4dh/d2Uoe2nYl1/757zS0dtJWWcXNNwdK4LLkRr63/ovct3cq6T4bDTxSfS4t0UVcnbGpVBKlFcrZwGSzm0WVK7FlEPXj4bJneDbzOJc/0srE9s5BX4ZOzCJW51BT72DWTEaFppPWc0mruYQpG3RfchIORCXNNTZNNSEORgUtQtOEotnQ9L7I6mERCdOgzjZpCFnU2xZ1tkV9yBxWtoVPZ7aT9mw7HdkOOrIdtGfbac8E9bZMB525Drpz3bjq8BbMh4Mhw1hmDNMIkmHEkEYUKaMY0g6SCKKASCEwhMBAYIpgFdJAYwmFhcIULobKF2yY81jawcShaKdsHiINavNd7KyHnfGxMj4yAyIjkGmQGZAZMUDLgMiBzAtEDkQ+KL8c0FKjTcAAbQBmITdAm3o4zQBkoKgiCmVD95eHtclD0fVg+oCeGayuDjaZHlTXI9BK6wPtenA7hbEo6SsHy9BiSPtIOJq2I+Qd9jJ7iXIO2/Yij9hhfcufrAcrT3I0T3wr11/476Mq81R8fx8tRlUBrKysZM2aNUybNo3p06fz4x//mAsvvJCdO3eycOFCMpnMaA11UuBUfICe2bCV1T/4IYnFGUKeomrW3+nqamTjhtdwXX4FjusSM0NECZNe/11qFjxBdTRJu07wVf1+EtIhVeWyWY3D8l2eWnYBQik+kP9/hDeW4XXOoqx3FlKbaO2i1YNMu/xuwhU52lI1bHr6fF730EMkulLBSuDN/0pTXQNCKy7reIylG1fjbE0itSI8oZzH6l5P+cEKFjkmAGnVg5l7mOXxmUwrW4wQgrxwuLNyFeu8TubumMyMpn1MbVlLJNc96NpFSBOtyhOtcbBrYnRULGEH5+LpGTQQo+5QTp8FOBU2bXGTZhuahaIZRUtY0hoW/XneOPJv/6ghqbFMqiyTasuk2jaoLtZts7+tyjSIShfP66U330t3vpvuXDc9+Z7+vLScdJL0OX1kvUP4CzwGhIwQUTNK1IoSMSOEjTC2YRMyQliGjW2EsA0bS4awpI1phLCljWnYmDKEKS0sI4whLUwjcLqNoOD/MLDlpehapiRcHFojpCgYp2iMTBaZzUImg8hmkZkMMpOFTBYjm0Pk8gjHQeYdhOMg8i7ScQu5hygkWZJLJzCUEa4fGM6M7fiNYQwnDB3Xn8vKL/5oVGWeiu/vo8WoKoArV67kk5/8JK9//eu54YYb6O7u5gtf+AI//OEPWbNmDRs2bBitoU4KnIoPkNaaL3z5W4yb+Wf0Cx9mzkX/ihCaNc9exZTe+Zztz+EBeweXODPo1c34D3+Vxtf2UCu6eUov5F7xGnwtuH/JQibv3kl3uJIX5p6GVB4fcr9DfBf0Ns2nLDkL26kEQNqbmPKa27DjeXq7ytj+2Omc/8Q6Esk+kokoN3/kX9k1fkr/HMvyfUzdtZVZOzdwYe9qzp6xj23ht/LcrtdgORZaa9r85xnvbOP0yvOoi0wCIC2z3FH5IJv8FPObLkTmI8hsC3Vd25jRupZE34FB1qAK6CpL0FlRTkeigj2JabSXzycSqmcaBrOkwXQMIofbHRYgbAOtNUmt6LAlHSFRkoJ6Z1jSHpF02ILMSwjYYQlBlWWQME0SpkHCMkiYBuWmQUUhL9ISpkFcgqlzSJ3B91Nk3BQpJ0XSSZJyU/Q5ff0p62XJeBkyboaslw3qbiageRmUfvHt8RMNU5pY0hrIhYkhjcJZyoFcCDGoLuXg9mK846H9DC2wfIGpwFICw9f9ueFpDF8j+8sqKPsKWVIXCqTWCBUkqUAWykIP0IQu5Er18xbbKJZ1waK7UIei1faAHxqhNQUHjsFzrgoNQ9uK5YIMDtWmdH//oW2oIU5xhr5lRnjt9P88OgLe/j76MGMMIojBcvTQxbijm+uh2gb/MBjS70Q53DiRP05O0DVZb7+WOR/+zKjKPBXf30eLUVUA77vvPtLpNG984xvZtWsXV155JVu2bKG6uprf/va3XHTRRaM11EmBU/UB+u1f/8GeZ++gsaqK8sQmyiY8R3PzDPZsPZu3Oeezze1kfDhChV9GZt/PeS7cx2smPUUVPXyft9FGHbtEgvvPuYD3r/kJqypPZ/PMxUjl8/7cf1HV1UzLzjOIZyYQ65uG1CZWrIXJF30VM5Il3RJh790TOWNrK+XpLG5E8LUPvI+HZp4/bK6hfJYZzdu4LruKi3rWcqDjEjZnLgMkhk5i5B4mJjQLK1dSGaoHoNdI8afKf7DVzzC75Vyqsg0AuNrHcXuIpfYysX0jkzo3EXKSw8bsCpWxMzGO3Ylx7ClvpK98HDJWR50ZYiKSCSUpdAR7Pik0KTRpNBk03YamPSTptgQ9tiBpS1IRSTZikgtLciFJ1pJkTEgLGI1dz4gUxAxJzDCIGZK4IYmbRkluFNoH6DFDEpESU/ig8midR/t5tM7i+1m0yuOrPHk/j+M75P18fxpaL6U5vkPOz+H4Dp7y8JSHq9xBeSl9LGTZGMZwauODiz/IB5Z8YFRlnqrv76PBcfcD2NXVRWVl5csWPPx44lR9gDKZDF//j28xfvGfEetvYvp538L3DVY//UbOzC5mtjeOX8TW8K7M6WREH11PfoMnLljOu/Xv6BYJfsG1KA13ly+gack0/nXVN7lj3KVsmL0UoRTXdf+K03mSdVvPojxXQ6xvKuFcPaHEASZd+A0MO0u6Lcq+OxtZuqWdqkwO3xT88Z8v4PuL3wtAXCXRWpA2Bp/Vm5RtYmnXbuzWCVS0V1DX6xPxnyaXfpK60CwWVJxLuV0NQEpmuLvyEZ4RO5neupJxfXMYFgHB8DG9TmK9u6ju2EZdxw4iuc4R1br2SIL98ToOxGs5UFbHwXgdbrwWM1xFrTRpQFCPLCRBA5LIURwKUmhSQC+KPiCJJommU2rabEGnJei1IGUK0pYgYwpylsCxJI4p8CyJNgVYEm1JMCUcxbb0S4IurHQNWc2SquCbUAerYMWyIMiNQi4Bo8gnCmXEQOA8XYweopD4oH0K7qeRgT004CMo0LUu1FVhS1kh8IMVtyKPKNo6F+2oNYiB8uBcBW26UBfF1dCiTfWQstADsYsHLXnpYXzB4pouLsOVxDkeGkd5oN9APOahfQZ9KCN/VkMfhSN4NZQq30LAkb9O9JBa8bpLD/SNJOvo5jRyH3EIOaP4KnyRP6uxcItHh8smX8HHzrp+VGWequ/vo8FxUQB37NjBzp07Oe+884hEIv2h4E41nMoP0G0//TVNvXcz1VtCw5S/Ea7ax549i+netYy3eOfxuHOAyXGLiU4DmeyfeTCXItcY5Z3e77jbvJRdTKbTD3HH+LPxGyKc9cjDZKZVsm7+6QCsbPo7/1TxE7ZuuJS+bCWmU0Y4NZmKaB8Tz/8OZihFuquW3XeNZ/HmPdQnM2gB666fyBdW/itpUYbl5Zl6YCsVvV001U6hqX4iyhgc2cLyFI1dPrW9DhM6nyHWuoPF+SpOiywlYdcAgaPn+yue5LGqh5iSL2dK22l4fdPxs7UjflELkSOmm0hk91OWbCbS1Uq0uxXb6R3xa91H0BFJ0BqtojNeTXeihmSilnRVHaKilnCkgigGcV9Q5mvKPE25D3FfU+5BmQ/RUforzaLJFlYaM0BKarpNQcqAvkKeNgVpAzKmIGsIsqYgZ0DeDM4xuqbANQSeKfAMgZICv5ArQ6CPt1J5vKGK25q6RC8roRXQv91XVLIG1Ut4Sz+7ITL69cCjlTEII/AcCofiOYTMQ27LHpXsF+k8toA7ujgF7+fV4yr5/mXzR1Xmqfz+PlKMqgLY2dnJm9/8Zh566CGEEGzfvp1p06Zx4403UlFRwbe//e3RGuqkwKn8AO3bt5+f3P4jpiy+B7n1DUw443acfJjVq9/IJflljPcr+FbZE3wmdR6ucOja9U3umnsWZX4fV6h7+a11LSDY54a4b+ZKRNrD2pdkSm0Hm5cvA2D2gQ18wPxPhF/Ntu3L8bEw8wmitmb+Wb/ADPeR6xnH5sffyLSNa5mzZw0CTcf5Fv/32k/wgrkEgIlNTSx/+lkmdz3P/sYpNE+ZTeecqewVCfIiNOL1RTN91KcyTHPCTM6HGZfVNGQ9WuVmni17gPKa9awIS2LpCeS7J5LrmUSuexL55HhQ5ogypZElbDQT9VqIpDqIdncQ6+ggmurActOH/c3vRcEtlzhlBvlySb7MJFdmki8zceIGbthGhWNIGcdSUUwvguVFsb0Ith8h5IUJeRFCfhhL2Zi+jaksTGVj+FZhzezEQAN5CXkD8lL05zkDcoV6rtCek+BIcKXAlRpXFMsESZS2F2lB2RuaS4ErQAnwhUAVykoIfAF+SVmfgj9IxzCGUxUXtPXxv28ZXTdyp/L7+0gxqgrgO9/5Ttra2vjxj3/M3LlzWbduHdOmTeP+++/n5ptvZuPGjaM11EmBU/0B+uZ/fZ+O6J3M6ngN4xf+CivSy9atZ6MPLOAa/2zuz++mscJnYXYGafkED/Tto6O6lrqDu6makGOLnssE3cROL86v5ryeiu2tJJ0o1ZV9NC+fgTJMKns6+KcdP2DOtO3s2r2CZKoeNIRMn8XL7yQUTuH01bH/0Y/hJENMOvgs9W3PYtTv5Y/vu4j/if0Trghhug6L1r3AyrX3YKs8ecNm3+wljJs1D2P8BPbisrVD0GpF6Im/uDIU8XxMP4Xht1LvdFPv9RGx+4iGPGJ+hHA6RKgvgpWMYXaXI7sT2K48pJInjSwho52waiec7yCS6ibc00uku5twphfb6WPkcGSDoYVGxQhSXA/KdUSjIqDDoCK6kIMOa7AtsMNIHUZ6EaQfRnphhLIQykb6QS58C6mKZTso+0Ueu8BvIrTRn6MNhDIQ2kSoQr2kXegTp3weKTSUKIVB7g1RFkuVRq+ETxOUIbCjUAVlUomCE+0SHl2oD6ITxO7tbz8crwBd5C/Qi/MflA+hD73WkXiGbZQOaxeD6MPkHabvoWUevv1E4EQvkJ3Q8U7g75oTeV2z2Mt7bnzzqMo81d/fR4JRVQAbGhq47777WLx4MWVlZf0K4O7du1m4cCGpVGq0hjopcKo/QBs2buQXf/wZi+Y/hrH/HOoW3UEmXc6aNVfzhvyZlPk2t1Q8xLeTl2Ig6c39N7+vmInpulQe2E7X1Jn4WLyZu3jam86P6q/ivfv/yE/Em2kqL8dfXEkuFsN0HS558k5WRh7Cr6ql6eBCtDaIhjLMWXQ/sUgfXj7GgUc/Sq4rCAUXzrZTmdpI7oLd/GTOZWw0FwBQ33aA8x6/jymtuwHYXz2Nh8+5jAY3xZnJdubGJ5JqqmR3WtMdg+5QMz2RPnrKykmV1dBbVoFjvkSFRfsYysP0FbavsT1ByJXYrsTyNJavsTwKucZQYKhi7mPqHKafw/BymPksoXyaWLaPeDZJPN1DWbqXSC6J5TtIpTC0CnJfIYtlFeSldUP5AU0ppCmQEQsZtiBsgm1C2ICQCSETYRfLA7RiXZgSrCDyiTYLZwgtGdCNwtlCU4IsbAMbIojSUYjQgZIFLQpQGt0fiqSo7WhQItgxVCI4Bqd1f7tQhd3EQZoS/VpEcPxODGhnBErM4K3awvmvkn5BmyhhEoPbR9x+LW0Tg7oW5YlB/McOPawwWgKPDkesYxTPMI6u1FHHUY18Cm6vvhIQnTiZya+/blRlnurv7yPByHtZLxHpdJpoNDqM3tHRQSg08lbcGE5ezJs7l0SonnVZwdx8Fb4TIRpLUlOzj7VNlVwil3Nx6zTubnyUa3rOJxy9hprsE3REKqjv87HYTROzeICVfMj8BXPa9/FD4xL+tevb9Okz+O4T17BnkUe2PsHfzruWnTvncPHqu6idvJpeMZdMvoIXnr+MeQsfojzeyYQLv8HGda/D3HkZuUgtzZELYOMFvGmTwxV1G3m2dgI7a+u546r3MHvn86x8+j4mdu7iLXf9mNV1K/nVjCU4IYuaGWnO3NvJ3JZyjGwdWpXh5Vfj555H46NDZUxuXIlROZO+UJwuW9AVEuyK9LEz0k2fnSVGCENESJlxes0yXGmBMPANA9/gJcbRKHtxllFCUSEsKodCF1yPoPvdh5TW0QVXI2jQAU1qFdhA5IM2BvUPfOWJgrIlddF3XlFOqd/hoXUKxgAFJUrQ7/cv8KvDoDPF/fxGoVyivw/IOoQvXyGG0wv/E6UanWDw+IObRsSI4zHUVchguweh9cB8i7/NA+uKkYXxEg0KjnYLfBj7iVXYxjbsX9334OqaBJNf7kmcghjVFcDXve51LFu2jH//93+nrKyM9evXM3nyZK6//nqUUvzhD38YraFOCrwafkE8/sST/OaRX3DO7OcQB8+gdt5fSfVV8fzay7k+vxLp+7yn4j6+l7mYKj9Byvgb/2vZ2Pk8l/z9Hh645rU4XoSVPMXFPEm7LufnXedidfSwtDJLLvpe/u/0ieyYFQMpiWZSXPrIX5h6YBtiXJisPR0REsyb/zCVlS0oLdixawm79k5hzu4KtDWXfLhy0Jx9CU2VJm0JiCZ3MHHvU5hOC31GhMerVrAjNh3KbNwqm8lIzjvgMaFLoP0kbu4JlLOpX9bCivOYlliKLUP9gb1yIs8j5Wv5e+IJ4mIjF2cynJP1sGSUtBEhK8NkjTB9ZoSOUIw2O0q7HaLdjtFpRugyIvQaYRxMPG3iaQtUBKGD/VuhwwhCgAkiUCy1MNFC4kuBEiVbiCXn3EppQXzcMYxhDGN45eP1O1bx3zd9bFRlvhre3y+GUVUAN23axAUXXMDy5ct58MEHufrqq9m4cSNdXV08/vjjTJ8+fbSGOinwaniA8vk8X//mt2if/kfOOHgFjQv/hLTybHjhIhpblnO2ns+fU8+zY/omPtV6Ax4u91v/oMmwWLL2OZiS5fmqs5HC4wru5zS9FaUF96YWse1gHFv6LKqcSnvjW/j8wjhd5RYAM3Zv4qLH76Es1Uu2rAJRUcnUJVtpHLcDgN7eWnbsWkxo+wHOfDZHX2ImbXXTSdVMx3Mrhl2HQqH9DvA68FU37RK2RarZFqkiaZUxw8pyRi7E+L4Yym/Hyz6Fcrf3958aX8iCypWYVgxbD3hqbjU7WZV4llVlz2I5B1iZcrg818d0kcU4TLgIXwtSOkwKm4wMkZE2acMia9pkTZO8qQkJB1vnsZWDqRyE74JnkVUJsqqcjErg+uV4Ooanoig/hq9iKBUNcj+G1lG0jgIWumAYMVh5DGgj7noWjCVKz5AN2vEUDGkT/XKKNIVGCR8lNFqoklyhhUKjC+XAdYkudbciAjcrmuLKIwW67l8dG9hiLOYju2HRI9DQg0xwR15lK4wZrDiWWOkOgS6sFg7qNqRUvCeDaaK/PmgHeeRhBo04cErvGPEigx2/nxLHY3v4eOy5H08c4SAnhdHSy7f/HRPt3Pa5r4+qzFfD+/vFMOpuYFpaWvj+97/PmjVrUEqxbNkyPvShD9HY2Diaw5wUeLU8QPfddz+/fuF/uGTaVuzWpVTPfoBksppNz17GDd5F5N0074k9xr+Y01mSmUOv3MPvrZ2Ec1mu+Otd/OMd59ObrSchW6mz2nlb/gEA9nlVPLJ/Eq25MhKWx9zqs7lz4aX8cmoIJQWG53L2modZ/sITWJ6LY9jULUsxeckuhCx5bDdb1PzcwE4qfAOaX1tBct40dveeRWf3XGp6DMLuyI+51gql+kgLhx4JSTNCmQ4z3jeQfjde9gmUu62fvyEyNXAqbTeghUKW7DfutZt4OPEsq8qfxc0kmd5psTAN88N5quJ5EjJLhZsj4WUxX+TLVANpbZPUIfp0iLSyyPg2ad/CK1gbSKEIS4+4dCgzHMrNHHHTISK9YNe0JJqDp2w8HcZTYVw9NEVwVYiMjpPVMXI6Rl5HcXQYX9u42sbDxtc2vrbwMVHaRGsTXQxsqw0EAnGocHljGMMYxvASsa+ymf/42ttGVear5f19OBx3R9CnMl4tD1AymeSb//ktDs76E685eAW1C+5Cmg6bNp7PlIPnspSZ3N+7mjsWPc539n2IkLZ5xnyedWYnS9esJVHeysMzg+gcSvWxv6aBb3T+P2pFL54WrO1t5OnWyTjKpC7kUjXlEr63+ALWVgVHVEOZDGc/+xDLNj+N1Ip4Y5rJlxzEivgoX6AVWFlN4tcmkfWBAuJMU3S/08OpkzyqL+SB9HWEehPUJH3qevJMbEtRljORwj7stWs0aIVWSbTfgVZptE4TkZKJkUlMiE4gIg0soTDFgDK4LbyXJ8vW8UTZ87TpNsZ3RBjfFWJK2KdqfIra+j4SyqXM8YnlFbG8TySvCOcV4byPcYTR1ZQAx5bkbTmQWwLXkkEyg3KRpowB09OikliqKBYXqErP7/XTKIb7KpYH5lEsayVQygRlorWBUkaQFxRGXxtoZaJ0CV0ZaC3RygzyEppSJmgZrHVpgUaigz3ugLdI1xKNLJQLJwt1oU6Rv7jUOYSnX7YYZBiiS5cz+08qBuXSXA81BCn2Hbg7BeIQ2YPaBvMOHXswRjJeObb1QD1E1kvDsfU/cS+i47yadsz3sUTUqEk6GpzI1cYjG8ttdPjYx94/qiO/Wt7fh8OoKID79u07Ir5JkyYd61AnFV5ND9Bf//pXfrLjx7x+8n7sg2dSO/de0ukEm5+8guvVJeS9NJ+TDzGvweF9bdfi4PLH0NMot5sr/nIPq9+xgP25OUSMPu6cfC69fpiv7PovrjGeAKBXWzzdMokXehoBwcyyLloXvI7bZl1CcyRQ0sJ9Wease5ZzNj9MIpJi6qUHiNbmAOjcUk1baz06a3POA9uIZD2UDclrPDLnK1xp8ggXcg9X0yLGAWB4Lgu3bWHJ1l1MNTuJN5povxI3XY2bqcbNVAWrW0cIw3CxBYS0hS0Etghi9OasFPsjB9gW3cnuyF6iIkuNckjIHOFwmlRZhnRIBe5BALQm5muqXUW141Pl+iQ8j4SnqHB9yj2fhKco848+Bq8jIGtKMoWUNQV5QxacPEscQ+AYArdYNgtKpBH42ZMy2OaUBLtSBfUpMPQNVLD+tiKfLOETYjBPP70wv2K/UvVIcJLsgI1hDGN4WWBk5nHBlXeNqsxX0/v7UBgVBdAoib5QFFdqpVeMBOL7/rEOdVLh1fQA9fb28uXvfoWmmXdxVetrqJrxMEYow9YtZzNtz4UskDN5smsVt56xhv9z8BrmZ6dzUHTwN3sdp297hsbmffztkstx3SgVOsu3z70Wv8fnsuce4Avmr5gumwFo88I82TKFHX01mEKxtLaZ9QtW8r0pb6XbDizMQ1mP8u37WbztGV4zZxUT57cAkOkIsfcf48n3hAl7msauHirTWaKVOTLX5VHTNArJ0+p0/qRfT5M5q//6KnvaWbT5WU5LP83kCfuw4y7SAK3KUF4C5ZXhphvItM8j1zUe33VAewgZARFFiJe+9alRKDOHNHNYdgbLyiGtLNLKIc1inkcaDsJwkGaQGzKPrfOEdJaQyhP2c4T9LBGVJ+xnCXkOtq+wXI3tKuQx/qVrGIgCYgg8GSS3WDZK6wxqcw2BKwV+oY8vBR4Cv8Dni6CsimcOS47blZ7co7Rcsto29BSdZnCnoZeuB7P3lwsR2A635naYuzMUpd+BgymH+iiCE4Ejtw6cFnxxDOPVh2k7QnlDxAyS81Jknhgc/axO3msZwJH+Hhrt/b2X63dYnTmNt1x5/6jKfDW9vw+FUVEATdNkwoQJvOtd7+Kqq67CNEf2LrN48eJjHeqkwqvtAbr77rv5zr7vcN2EFuJ7LqFhwZ3kcjG2PHYF16nLyXsZvpO9h52Ld/K93Z8kpG0eNTdzwNjO1ffexcaLJ7LePgchfPbHzuTu5RMI9WSY/OgmLous4SPmHZSLLABtuSirOyeyPVlD3HJYPq6Fh+ZcyO3j30inHVj92q6H0ZRhXt+zvG/GT4iFcihP0PxMLe0vVA3airFdj1gkjzkzR2xClkhNjr2RyfzOu5qtoeUoI9zPO755N9P3bWDBru3EersG3QPLMLHtENpqxBNTUK7Cz29Cq16ECIMIY1gVlJdXUJ2oBsL4TgzfieF5YVwFrg4i1B7iWOIoQiEMF2F4COkihY+ULlK4SOFhCA8DF0O4GARlExdDe1g4mDqoW4Vc4iOEj0SVlH2kCOLpBuUgzu5AOWiXFMtB/0FlUYzNGxh4aFlIxbJBP03JYH86aCcoi8IxxKLRSr+Ri+i3iO63ji7SBCg5UAbRb9TSv1NcYtTSbxwjRqYNlAfyfgOaocYzFCqlO7nFghiifAzdIQYoMcwp5TuSfmMYwysRHeEVvOXs/xlVma+29/dIGBUFsKWlhZ///Of87Gc/o7u7m7e//e3ceOONzJ07dzTmeNLi1fYA9fT08Nkffpa9Ex7l3enllDduwop2s2fPYqZsvpLZxkye63yI7y5s5UzP5L1t1+Lh82f7GZa791L74D7uve4ielKNRA2XO6Zfw+5Gm0kH2pj70DM8VzeDfzbv4T3G34iLwJNen2vzfHcjG3oaqDCynDNhP49MPof/nvhmdkQn988tmkqxglVcFbuLWtpp6a5l6+OLiDVnMP2eEX+6SlMRqshjVvhsKZ/NhrL57G+cS095FVoaCOVT3bWbqu5tzN+1j2l7mgLfdyWIW3WE7DnkRZyssw/f2UKg3gFITLOOuvAE5sbnURMZbAiltcYHPB0og90ixebwfnZbLRy0OsnhY/thQm6YeD5G1C8n4icIqQpCXgTDl4FzZE7+FYvjD1U4pVfMNYiBcj9d6BLeoZa0A2uO/TQxsL5YylNKEyP1K9LEYFop74v176eXWA4fatyTA6Mxj8PIOEIF9kgi6rzISEcs48Tg2OfySlf9Kyp3ceGX/nNUZb7a3t8jYdSNQB577DF++tOf8vvf/5558+Zx4403cuONNyLlqWcd+Gp8gO752z383wP/ztV1XTRsv47Jy36D7xtse/QKrnHeiOPn+GPbL/n1hd18af9VLE/Po0ukuM98ivf1/TfrU+N4cNLrUMok5FXyg3NXkgtJzlvXwaLHH+HXUxdjS5d3GffxNus+akkDQZCIPelKNvXW0ZmWnCma2T1jHn+ecyn31p1NXg44Gp+o9nC6eJpFai3b9k7h8e1nc3XTahbu30DO0PRGQvRF7EPGg1VC0BuvoKuyjp7ySnrLq+gtq6QvItGqlfqWbubsOsCUjuZB/aSIEY8sxtWKXH47WnUONIoI2ppANNTIjHANU8KNRM34Ye91h+zi+dhWno9vY11sGx1W94A4BVXpCPWpciZm65mUa2RCvoEaVYkQEYQMgQyjRQSUwFPgaY1XWH30dUkicJ7i60JoswKNQq453krm4bdPxzCGMby6MTO2lku//alRlflqfH8PxXGzAm5tbeWtb30rq1ator29naqqquMxzMuKV+MDlMlkeP+P3s/OqjV8UkzAtCBWu4O2tik0Pv0WZoTmsq33We4re5YnZu3he7v/hSq/nM3GAXLOKi7O/oE7pp3F9uRpmMKhNzqVX552OmjN21b1MW7Pfu6vyLE10oCNyzXGI9wQ/jNL/QFlyvENdmUSPBQL81gEqlJRRNVKtk88l3U101Al5/GiOsUMtY1sq0HT7hreuv5ertv8MKbrkQlZZOtCJCdF6SoTpFyDfE8I5R3+x0o6EqO3rJJ0JIIvFJbjU55KU53sRGq/sFJhYZgTkMLA9Q6Czvb3F7ISHZpJX2QqVijBHEMy14hSLq3Djtspuths72Bd+U5eiO9gX6gFPcTXoOUKKlIWFSmLRMqiImUTT4ewchE8GcKRNq60cKWFI208aeNKG9ew+stegceTFr4w8aWJEha+NPBlkGthlBhqjGQfqwfqomA9XFjJKjmlN5ivZNUMVTQI0QXHMrrE8lgTuJwZ8A/Ybztb9NenivMS/YYlgeuckjkWrZlLV9X0cNVzYCwKYxXnKUrGHnotJZdTIqdYCWQNnDYUJfejdE6y/3oDyCH3WhT8Hg6dQ//96r8KjRyiaItBfId5DQxpOtLVsaM/R3mYQY94zCM+HVfgfzF5R4rh83tJEVoOIetIcar+bBo/rooPfWwsFNxoY9QVwCeeeILbb7+d3//+98yePZv3vOc9vPe97x1bATyF8PdH/s4tO27hOjdNtPcG5i//JUJodqw+j8t73gUa7j14O39f4hKOuHx1/0cBWMVaTks/SUX5w/yy8lpSqRrGpdpYM/sq/jKjkVjO56b7ksRziu2qib9XRkmLMKCZZW7mmvLf8IZ8B+P83v65KA2bjTCPl9k8EwmzJlKFDF1A2FzJ/oo68sYQNy9KYfQ5zN63m4s2Ps205v1MbG1mYrSFqkV99M6V7CmL0+lHySdtnD6LbHuYTHsEx7Mw1JFZ3iphYGoI5x3CjoNjx8lZNp7MMfhEfjmWNYOwrEdqE1OnqdQOk2SYqnAlIlSOsONghgYZVgHktcM+uZ8toR2sL9vJcxU7SJu5Eedj+IJ4xqSskMozJmUZi7KMSTxrYqije3X4SDxh4kkjyItJDpR9YRSSDHIMVLFckhRyMJ8wUMU6xXqgCioRnCBUQhbqwYlDPYguxs67jWEMpxDmTI5w7wcuGlWZr9b3dylGRQFsbm7mF7/4BT/96U/p7u7mbW97GzfeeCPz588fjTmetHi1PkCu6/LOH7+TrfZ6vuyH6BWLqJv+KNlsHPu+tzAvupKmzE4e6fwDd5+d5ur0Oby56zI8fNYf+D3zqzWtsx/ngfZr0Fpyztp1/ODq9/DY9IlMbe/j7f/IgLBICc3qcAtrQhUAGPgY4Z0sqn6cN6ZzXNT7HA2h1OC5AetDIdaFbdaHIjTZ5xKpmE9LZRW7xHT6RGLEa4pmM0xoa6Ght4OpRguTI/uIxTowy3uJhbuIk8LLGLStq6JrcwU5P0yyLEE2EkMaIDxFOJuhLJ3E9L0Rx3hxSBARpIwTUgZRJ0Ms30M83Yntgx1uIFw2kVBiMqHENCy7DFNYyMKKp9aKfLaFTncfe819bInt47nqA+ypcvAOE/VbaEikJJV9koq0JJESVKQEFRlBIiWoTAsiuWClqLhtXmrk0G9YwZC8tH2EPlA0jhgcbSSgDxhbUCIjmHDJCTkxsD5WGsVECVkIjyfxhUTLIC+lKVlQKIUsXEPhtKAAXVAkg+gpor9MkYZAS9l/rcVThQgRGJ1Q0r+fl/4xdIFWxOB10MHXU7zoQaf/BhmQiEF8A/IG39vhxiMjfwaDZRbHEv3m0YeW99IwSvFMXt7xDyfiCG7SMc9BHNvq39GNf+LPRyZqx/E/n7xhVGW+Wt/fpRgVBdC2bcaNG8c//dM/cfXVV2NZI29lLVq06FiHOqnwan6AHln7CB9e/2Fufsph34w3c8bcu7AjSVr2zOacLZ/ClBarWn5HU2gX/3tGE1/Z/3EW5KaREln6Vv0HibPP4ImZW9nTvIiQynL53Q/yxfd8jKfmL+B1u1t43YO7aI7NAiFplh7PxDrYagTKm0BhxrYyOdLMyrZezuhZx6RoDxNjvZRb+WFz7ZSSbeFyUo0VdDZE2GNMZTcz2OXOYZ+aQq8dDfYGDwNbuZTrXsplD3Hdh92XxWx3sTodIrk0oXwWy1ZEKiV+PEKvjNHrRUh5NqF8nmg2TTSbKuQDZVMdu2skQ0hMYWPKEKa0MYWNJa2AJiwsXCCFI/roM3ppt7vpDHl0RwQdEchZ4EuNZ2h8qfGLeUnZ8hVVGU1NWlOd1lSkNRUZTSIDFSmCegpiWRBaoDVoBRTK/draGEbEiOYcQ62GS/lHuJXD+IZaBr+E+RwRjvpjPT7PwclgtjGKPqCH4NX9t7Nn9jze+IffjqrMV/P7u4hRUQBLt3eL21RDxY75ATy1oLXm+p9dT2TnBv7JEzxRfgNnnfUTtAbnH69lkbqepNvFfQdvp3WCz8Nz2/jhji9SpcvokG3oe78JbzmD+zHIZhNMbNnDilWr+d6b3s4fL7qcW9emGb9nHR1tPs1VC9Bo9pkO66MdbJED50mt0AEWqBaWH9hOJNNNwsoxrixNvKaPhlAX07wMpYtfeVuwd0KUg43hICoGoHMROlvP5amOZXSk8oRFjq5EBW1V1bRV1tBbdmyfrennMLRbOK8loH/L00Jrgem7mJ6H6btYrovtOthufiA5QQo5OcL5HKF8FtvLY/o+hu8jlY9UCkMF5YCmgrLykVohlEZohdAaqQvll3AtisAVi5IU4voGyqMquGVRQiOFxhAKQ2hMgrKFxqKYa2wdJEsH9eI5tOK5tQEr3YJuroe0Fc4VDpyVKznLVnomsESzGjh3V6j3HzksXVujv0N/+wj3oTR6ygCKKljJub7CuHrIOIN7iSFyGKTNDO02lPfw1qxHwHQYSYcJZz2sx/D7JEbgOvx8jknNOV4a4EuWW/zkx3Cs2FM5kyt+/tdRlflqfn8XMSoK4N69e4+Ib/Lkycc61EmFV/sD9MzuZ3jvg+/mR//t8ce3XszimoPUTniBXCbOrIf/hYg5jg3dj7Ox5zGem5tDVNXwxab3EsKi1diMuO8XtHxwHKv3zQEkKx57jEkHDvLMgoX85w0f4rsbDOoyWVJ7nmWTqKYrMQOANrOPLbFmnhXj8AuxeKXIM8VvZW7XFib37cZA4UXiePWNVEeS1Bj7qKWD8X6aiXSB7XFgXISDDWFcO/gBI5WmpsOh+qAk90wF6e0aM+3hmBYdFZVsHD+NxyYtZl/DNEJ2grBlIaMOTjxLNqTICcjqEDkZIW+FUcaRRxF5WVAIAye0GlAKlUZqVVAah9OLSmSgSA7QiwpaUXEShWW/wHBD92sx/UqbLmkb0qefr9gHXRKCbqAvBVn9hiEldBgsL5Az+NqPij7EUGQk+qCjnYegD2srpR/iq/iQ9KMe+9WjjLxq1steJZFc57oH+Mrnbx1Vma/29zccByOQVxPGHiC49tfXctGfN3FaWvKNpTfz7hX/RTiSIrtnMku2fQlf+9x/8Kf0ep38/fROXpO+gjdnzkMiaRHPoNbdxQtvqGX/wXmEdI7X3nUv4UyevrIo37/+A3ymazZxHxynh97dz7AuPpt0rOBPz2yhM76J+5nOAer652TiMTW1h8nZfUzIHiBUFsGpHY82g6MJAk2CJHV0UifbiNe24I5P4cQH/hRsR1HXlie+TeM9ESbTHBrY35Ea1SjpmpBgX0M9WaMK060h5FYjdRw/2k1G7SGd7KI3Y+HYIRwrhGOHkJUKu9HDqvchLnGETVaH6FU2KW2T1jYZHdDy2EgVIuyGMfI2rrZwpIlnBMmXBr5hoORA0oXzbP02HWPGEGMYwxhe4Viy8znu/ed3j6rMsff3KCiA+/btO6oYvwcPHmT8+PHHMuRJg7EHCFYfXM23bn8PX/qVzx+vOQOvYgrnnvErhNDEn7yM8X1vpTnfzqNNP8U1BQ+f3sdbO9/Mhe58BIJmbxVZ6z6erlpKOl3FZPcAK+9/GLcvUNZeWDCfaVNeT4MZrB77vQc42LyJDdXLca3gntdZW4jGH+JROZE71RlkdNmgOVY43UzMNWHHWxEVWaqlIu7HiLpRDIqrdJpYvItx9dupqd2Dabv9/aULZW2axEYPnrbwmgcsi4XUROvzlE3IUTYuhxkZsBLOqDKyfjkZzyLt+2Qcn5xvkvNNsr6Fb4GsdTEbHezxOXRUH1ZhyytIK0HeNRBZEzNlQsrAy5j4roHvSFQxdyTKS+AxDqXGo/Q4tNkAMoQS4BjgmQItXAzpYkmFbQpMy8SwTZRt4psGecPAlUEYN0eCIwnCtgnwJPhioO6jcFG4eLjaw8HDxcVDBUlofFS/RS8ysNr1pUDLgvFGITiwKhpliNKoHnqARmBsUTRgKHwaJWmwIQPD+EraR7znL9VBSInzj2HfrCP3ES/SfrTzKdhqDDlPOPZD4MTgxN/nE76C8zI8SosP7OS+d465gRltHLMCWF9fz9VXX81NN93EGWecMSJPb28vv/vd7/jP//xP3ve+9/GRj3zkWIY8aTD2AAV4259u4J+/8RzVfYL3venT/PPE+5gy/Rl8z2L6o/9KyJ3EEz2r2d/9EJmopGlGPRdkz+QcbzYAbbmHaFp6H2v2XITWBiv7tjN/2yN074iBFvghg52LFjFr/NsoI7jPbtsmdna1sr3+TJQIlMVpoSc5M/4/PGaM4z/t5ez2ZqBy4xj6jWWQgWgTRnQXEauTCpFhZraKhmwDJiZC+FRWNlFds5/qqgNY9oBhidbg9sawd0vKn3eJbvCR2QH5RkJRVp+lrDFHtNZBmkf+56U1QcA1Q6BsyJsS15L4FvimwC/G4C0p+6bAMySeIVAG+DJoC8KZDb5u5Qu0J1G+gfZtlB9G+2G0Chfq1qBc+yZSScJehLhXScyrIOyWYXtxbC+G4UURHN69k0ahhY+WPggfLRSezuOoLDk/TcZPkvPS5P08jpfD8fPkvWyhniWNTyYUIROOkw1HyURiZMNRspEYmXCMTDhCJhwmHzLI2xLHFHiGRuAgVB6hnULKI3Qe1OC60IWYztoD7SK0h8At0EpyAp5+GqfWeeYxjOFkxmnWWfz0hh+Nqsyx9/coKIBdXV189atf5fbbb8eyLE477TTGjRtHOBymu7ubTZs2sXHjRk477TS+8IUvcPnll4/W3F92jD1AAda2ruXOL7yDtzyq+MuZZ3HfuPP4yOk/JFHRhuquYvbar4Jnc2fLb8nn9tFTDkbjMhaoyZzlzQKgy3+Y5+avZvee5ZjAGS1Jpvn3/P/svXeAZEd57v2rOqnj5Lg7u7M5aZUjEgiBBEIyCGOCscEgknHG4HivEzafr8O1LRuwSbYR+IIBGyMyEkEZ5Y2SNufd2cnT07lPqPr+OKd7euLOakcB0c/qqHI4PTVdz7xV7/sid/tUMiHB89Mmhy+9jAuafwlLWGitKJ94hB20MNy0BpAIfLYm7uTy1FfYYSX56/Y4e/3LaR65HJ23GbNbUWKOu3mygmEP0SKL9Hk2bfg0GUVS2qO9eYj2jhO0tZ0ikcjOahpkHKyjgtQBD+uYwBoQyLLAl5JTbZ2MtTdTanfw203STplukaFDTNKmJ2nSBRKygi2XllAoQl+3gRGGyhAhOZTU4tPKI3+5KpLGKSEiRY8oXfWnW19PCITfjFFuxXA7MCqdmOV2jHInVrkTo9IGWIAByOiZY65GCc/J4MfG8Z0J/NgEvjNJYGfx7WwYWlmUGRnTjhz46sh5b3QFMLoOpYmuC84yu6IQtSNyHcVVLawencuaLcFAGLW609VSwr7CscOcei1eTTgXMS1nqm7dZGe0oi5/qud6wy56Wpv6jHnKZ+bq+vQCmiez2iwEXSdtnU/RZUZMi7lyF5jP2ZSdCT9lt55eBLe8TohLuO3mzy9pn439ewnvAJbLZb7zne9w//33c/ToUUqlEh0dHVx88cXceOONbN26dSmGeUGhsYCm8IEvvo33fWQbQgt+9Y0f5LL4MV516R3YTonY8U2s3PsHjHtFvjfwr5iqTL45hu49j5WymVeXLgdgMvYYdzUdZDLbRZdO0XlynH1rs/zswfuxnygRVELi5rdJMlsvYVXrexFCor0y46e280R6HSWjBQBLFLk0+VXOT3ybbyWa+Xinyahew0v2byA9WGDQ6WDY6WQw1kXWbGI+cgKQEBVSuDTJMp32OGvajrCi9Sh97UeIO6U528iMwDoN5oDAHBSYIwJjTHDa62RPyyoOtvRxuHk5R5p68S2T1cEAW8v7WeWeoN0fJYaLI30sGeDIAFsGWI7AsgS2qbGNAEf4OMLFxsXBxcab5e3hhYSQ5kiqhFBrM4obU/l6Kj6tbtUfiFBoqaIwqEkXlZySNGoZlinhg4yIVNUkSs00ypQtvWk29Wp5YlbevO+1QHntpzHPEexU+Rna10Ococ6MsRbTx4sRL9zfhAbOFo+038zbXvdvS9pnY/9uKIGcExoLaArbh7ez431v46p9mu+cfwWfWvsGfrnz+1x44V1IqWjfcwsdJ36Ox9wRDg7cjtQKt7mdSu8qUk053jL6OqQ2GUnu4VscIwgsLvBWUj79JJ98ycWsiY/zoW99Fnt3CR2EZEA0KYyNG0j0vAttdKJKE+zP5TjiNOHqJAApOcqV6S/SF3uQz7Wk+FxLAtwVXL+zj46xQQA8YfJo24Xsbu9FJ4ZAmyi3HeV2gIov+N4pK8+apqNsbjvAmpaj9CSHSNnF+RsEYEyAMS4wRgVGBvKVFENBB8d1D8fEcg7KFRQNm5XeIH3lQdrLw1jBbKKpDJMglkTFkwTxJEEsiTQFFj4WXhT6M9JhaFbztYetyphBBTNwMZUXPtoLDW9HJl2k0JhRWDXxYkgdlVfzwqeBBhpoYClxj/Myrvtf31rSPhv7d4MAnhMaC2g6/vyf38JbPrYb1xT84U2/Qdk2+fmV97B+/SNoLVi+7QOkxy7iS+VDcPq/EYDb1s3pFQnirUP82ql3Y/hJDsQOci+haaFXl8/n6eF7+NT1r+RE7ypuPHIPv3/HpzGPKpQXEkHDCUiuSmCvfjl+7DoKec22IMk4PoEOCVy7eYRr0p/Dju3j4+0JvpFK0prt4tpdbTTnQvdprmHx45bL2dOVxuy4Dyu9Fx3EUW47iUI/zfm1GG47RW1TwKGoLCrMNnoeN0ssSw7SmxpkWXKQZalBOuNjdMTGMI3FHfWKCuiSxCtblL0YRS+O55ooTyAqGso+2hMEvkR5Eu1H8SBJQBNFK07etsjENZPpMq5VQgkfA4NYIHGUgakNpDYjqZuJoU0MZWBoA0NJLBcs18dwXaRXQboVpFdBuBXkgt5OQr+zUmi0YSAsC2naCGkjo8eQMaSIYRDDEHGkcDC1xNAiaqsQBEiCKK6xhcYSCkuAJXTtsQUYQmEKjSk0BtTIaghFpGISfra1tK7lixlpACHCekprlFCE/3T0/+lhdNsx/CeiEBX1WC2p3omE+mNYPSOsrYFaqGek51gvM/Jn+/zQtRpzm6HRs3P1PPnTKyweelZk3ornvinNZ85nqXGmY+yFCpZ2/BczjgYbefVfN+4ALjWWjAA+9thj/OM//iM//vGPGRwcRAhBd3c3V199NR/84Ae57LLLlmKYFxQaC2g6nhzZzYk3voVVw/CDSy7gn1a8lRviu3jp+ofo7T0Ank3/43+EPbmc20uPkBx+AIBKew8PbBmgP6743ZPvxSl184C1h73GADFt8brSxew78kU+/PO/xHB7N82T47z/jo9yzdAhmk976PLU/aNkb4VUfwKj5xJG3K08Ut5CRtkQEbWV9jZekv48I/ER/q4jxaOxGCuHW7lqT5xEMayTj0ke7VrP3nQPVst2zKYnERGZSHtJ1k1uoD/fj6ENXCEoKJuKtiLzLRZlbeJKgbZdXCko+jFypTRlHJqdHB3xMdpjY3TEx+k0x+g1RmgzM6Tieayki7CX7ktda/ADA60MgsBAaYNASXwEvgAXhSsCPHx8INAan/DROrpLqEHryMeuFmgtEUpgehLLlZiegekJDF9iuwLDExg+oYqwFmgV3Zer89U2dRWtWgYYAqQEIdHCQAsThAnY4SMctHYQOGgcBDHAQWgboU3QJkIbCG2AFkgEJmAKgSUkZi0tw5uJIiwzhAhJI9V0WGbUXQuYTiLmODOeE/X16nPF3HUiBFpHNFRHDyEJrYU6opxRXETkUldJ5lR5lXhOUVSmlc0Xr2+r0dGPaUYeoMUUfdVTuXX1orRgRg51Nanrc65ac9EcdQbqo2a1q7+nOJtuR5hnnvWzOBN9fqa/vUtBe2f3+ez2ON+cl3rcXlfy7o/8nyXts7F/LxEBvOOOO3jLW97C9ddfz4033kh3dzdaa4aHh7nrrrv44Q9/yFe+8hVe//rXL8WcXzBoLKDZ+MTfvY3r/nUbRUfwt9e/l932at4Uf4wLtt5La+sgstTEqkf/DC8f56vundjD+wHId3bwP5du5wKZ4g/H3khy+BK+YT/OuMzTG7TyytIGjuz+DH/wnvdzurOb1okx3vSt22nNj7O6JFg7PoY1lqnNQ5iKpr4y6ZUuqqOP4946TrjnMeRtpqia2RS/mytTX+TRpMdt7SmOmRYbjzdz6YFmLC/cKPoSGS7pPkYhXeGrTSnuSsUpRl5vUoHmmoLkylyclB9nQnVyklUUSTBzU3fMAstaj9DcdBqhy3j703gHYpTGk+SNOMeTXRzoXEbWTqECgzgleoxROsUkrSJLm5igRU7SZORJmgVsx0MlQDsa7YC2Qds6DB1QEV9qoIEGGngxQBx8Fa/85U8uaZ+N/XuJCODWrVt5+9vfzh/+4R/OWf43f/M3fP7zn+epp54616FeUGgsoNk4kTnGvp+5ieVjmgcuWc0ne3+BpljAK2P7ufCi75FMTmJll9H/2J8wUXT5rv9d7OHwuPdEn8kPLzhEn7T5s+Bikvt/lq9b2/FFwEX+KraU2jn65Kf5vff9FkPtnaw8fZLf/7d/4lQyjZ9opcW6ht7Rh+ge+TGJ/NRdNGkrUr1l0n1lkj0VyrKFEW8N4/4K0sYIy50nuCPZxCc6LYrK5PxDzWw52owRdbGspcCr2vaQiJX5n3SK/2hKM2CFDuZMrXlVocjbsjkuqLhUsHmM83mUi8mRnvX5mPis4gRrOcZajtPJ2JRcQoNScFj38pCxmW3BGnLDKVrGivRnT9OXG6a9UkCnugjirWgrjpYGvvLwvTKiksOuZElWsqQqOUwriMghoX6FpdGRqCs6+a2L66m4CZ5l4FkmnmHgmQZ+9HiGQWAa+IYkMCTKkKFGsFHVIA7jWhLGq8q/EhC6ZrtPiOjYUlSPZTVCTGm8hse3OtJnCI+UEXX6uJHkqVaPmemwbwFztJv7eHDa0aiYJ7++/gw/afPWqx9vutuROecxq0zMV2+e91jAf9v0d3yujkmXDvN9xg08Myy0Vl5IOH70NbznPR9f0j4b+/cSEcBYLMauXbvYsGHDnOX79u3jwgsvpFwun+tQLyg0FtDc+OI//goXf/Jeijb8v1e9kTvMK3m5s4eN8WEuuuh72E6J+MhmVuz4HU6WJvhRcBex4ZMAPLm2wOMbR4kbTfx/KRt2v5EfB6MAXO+eT2fFZFz8E7/6sv/NUFMHK4YG+NuP/hU946OMpjrZff5voO12iv73WXP8m2w5RciqIlQNN6eWlUl2V7DTAUKA0hKN5oCZ5P6k5JSwiZ1qI36qDV9ZKCE4smodw6tb6fYPgnqSA/Eyp60pkzIrPY/rC0WuLpaJa01BdXAk2MIRvRF/HpFcmjz9nGQlp1jJAF2MzdLkHdItPCQ38mO5hV3uWrwxm5WTQ6yZHGB19jSrJ0/T5pWQyU5kqhuZ7IZkJ0GsmXErRkb7ZCtZil6eilsgcAvgFki5OVoqOdJekZRbIu67GM/BlWBFaLvQMwx8KfGlxJNR3AjjtbQw8GVIPH0R5gcyyhMGgTTxhREalBYGiqm4FpIAiZISJQxUZNolNPUiau2q9YNpcYES4Zhh+6rpmGpILa0QIKpmZqLbhDPqq4j5haGY6q+uTX3ZVJ2pvhrGnBv4acXLeJz/+Os/W9I+G/v3EhHA8847j3e+8538/u///pzlf/u3f8vtt9/O008/fa5DvaDQWEBzY7Kc4aGbXkb/aZ8nNrfxxVVv4oCzhjfFHqctleHCC76PYXqkB66k98n3s780wMPBvcRGQhL41Jo8j20cwzJT/FF3gcKuGzmcS2Jqg1vcy0j4knu7n+CjF1zOkNVJV2GU/++T/5f1B4/jmQl2b30fmZYNeKLIMeej/MyjJ+jzlkFQQRfHps1VxCHVXSbdUyLZXZnmyaOKojLIuzGyXoyMF+Ppjg08uPYaDqf7GZZlSsUfY5ceQRAqRiiZgthlWPELETqJ9jS9mSz9Yxm6C+VpFtNmbum+VGTjFbKxEjmnTClWRAsfSYChFYYOEEpQKbci3BbKlU4mSj1UJlP05Ufoyw2zIj9cC5cVRjEMG5nsCp9UNyLRhkx0UIi3MZhoZcSQjKAZ1gHjyiPn5Qkq4xjlMdJuhtbKJC1ujiY3T9orkvDLmEphKo2hFFJpjMgnsFGLT4VSaUylfmKkTC9k6LnikUm9ua8jirnrz9vvlNXB2jpd0MzNArJLMSuyoPxOz1H/ucJPhhzsLPAc/rHwXHx2OzfEeO9/P7KkfTb27yUigF/96ld561vfyqtf/Wpe/epX093djRCCwcFBvv/973PXXXfxpS99iZ/7uZ9bijm/YNBYQPPj+1//KH1/8AmUgK/d+DL+y3wZjmVxk7OHttYBzjvvHoRUtBy/nq69b2dH+TC7g4dwhk8BcGBFmQe3DrHCgQ90ltm760Ymsh2kVYzXu1dga4Onlc9fXmNzoDlNSmf5i9GPsPngIfJPNTNUfDND3VcBYE7+N75/D9c9ZeGsuBLizajRgwTjB0FN12b1k0nsDk175wixzhLJJveM36WeMBixWhg1TEZFkTFDh6TKsDjtbGAgfjUjsa2M22342mD9+AAbR07QWsrX+lCRVGkuCVw2lmAk1cJouoWRVAvjyTRFOzb9S95TJCYnacmOYOXKVHIm2WIaGSh6CuOsyA3TWxilpzhOT3GM5cUROgsZLKURThMi0Y6MHpFoR8bbIN5CMdbMqJNkFM04igk0E8oj72cpBTk8P48K8sggT8IvkAwKpPwCiaA4XZKpNVJTI4mySg6jR2gItEEgLRQmWptoDKqqHEJLJBIj0hQ2tAQhCP+FR8aRDK7e7DNEmryh5q8CrSKPHj5CB0gdIHSAUAqpfaRSCB1ExFZhaIUMVDTH6KEapxbWymFa/lQ6fBb2m9JAAw3Mhe9c3cTv/HuDAC41lkwL+KGHHuKf/umfeOihhxgcDO2r9fT08JKXvIQPfOADvOQlL1mKYebExMQEv/Vbv8U3vvENAG655RY+9rGP0dLSMm+bW2+9lc997nPT8q688koefvjhRY/bWEDzQ2vN/7ztZWzZNsZAu8VXr7mFO8UVbDKHuNw6RUfHETZtfhAhNO2HbqHj0M/xkP8U+91dxIaOA3CqR/GDi0/w6maPGxKCbdt/Brecoo1WfrZ8ERKJpzVf77X45GaHvKV4t/4ELxf3gK/J7LqJwYNvBKAlv5Ny7t/YfDKg1U1gbnwN1sqXQeYYwcgeykN7ENkTs81n2JpSu8OT7cso9+XpSJ1iravpEB7NVpmk6c189QXha0mGFBM6RZ4ELjYIA084lIhRxqGgY2SjMiEkFRwq2LjYNYlLBYNJ4kwSJyOmnqJwQIraz8AWFVqNDA4VPM8kU26m5IemcYRWtJezdBfG6S2O0VMYZ1lphJ7KGO2lLC2FPHYQgDAQsWZErAUZb0HEWhCxZmSsBRFvQdhN4KQo2kkyUpBBk9UB2aBALshRCopUgiJuUEQFRQiKCFXCDEo4QYlYUMLg3OwHesLElRaesPGkhSusMJR2VGYTCCt8orgSJlqYKEJtYyVMqIuHmsgWQogpMyvR/4SYIfmYYUC63sh0TeNVRPlahdqzOojuJwZoguj+YmgyRhKgUcgoLQgQOjQ8g9CIyCxN6HJEh4axRURwUSgRkl8tFEKrqTqE+r4i6qfavqqHK2ras+EYobZ2ndkcGZVpFUkJFYiQ2EdvWQtFrc8oX0/dv6yZtNF1bURElEU1eTZrQs8I5yufnT6Die5zwOLuiC7tmNOudj4HeG4G07KP7/7xPyxpn439+0ViB/Cmm27i5MmTfPrTnwbgl3/5l1m1ahXf/OY3521z6623MjQ0xGc/+9lanm3btLW1LXrcxgJaGIeObmfkjb9IcwEeO7+PL6x6OfuMi7je2scKI0dvzwHWbQgJd+feX6D16A3cK7ZztHKI2OmjCGCizeLblx/kN3rLdPpNbNt+XCJ5EAAAtwZJREFUMyiDiZYVvDa/kc35cPlWBHxnmcWX+i1WVZ7kl1L/gOXkyZ64jNOPvButLJzm47T1fAzzziLrj4KINZO/9Gfo6ngZUhhoN8/poQMMjh2gY+IoTbljGGo2wRtLpploVpSkiWvG8NKSoLnCWN8kbqug2eig1eig2x2hp3yCdi9DSxCQPMdfNaUFFezwETYVHFwsPEy8KKxomzwxcjpGXsfJ6ASTJJjQKTI6QVbHKeNgWi625aKlpqwdMl4Tw5V2XCym2Iwm5ZXoKGXoLE3SUZ5guTdMd3mCtlKWpnKRVKlMqlzC1CpsZ8URThrppBF2GuGkEXYqDJ00wkoi7ATCSoCVACuOKyRZVSariuSCIkVVohRUqKgyFVXGU2UCVSZQFXRQBlVBqDKGqmDohewRLg386C6gL6woNKN7gtV7g1HIzLSs3TkM7yfOlQ7vHVZd0Wmm7htWXdLV3NQx031dXVhff0ZYo2BVclqX17hXuAjM+LVtfGLPPbZ6Wb75D7+wpH029u8XAQHcs2cPW7Zs4eGHH+bKK68E4OGHH+YlL3kJe/fuZePGjXO2u/XWW8lkMtxxxx3PeOzGAjoz/vNTv81Ft90JwI+uvZIvtVzCabmK19u7SEufFcv3sGrt4wD0PPlemk5exT1yO/sqJ2keOIBEU2xK8MhVR/nV/jEKE308/dR1gODxlRuJJ9fz3kMVzstOSQseaTP4Qavk8uM/Zmvv/1CIW+zb8QGCShNmLMPyaz5OsP0kq79uYAVQaOtk8upb2GBcgRACpTX7vIAnyhWWZU7TnD1MS/YA7fn9GMW5Xb9VDEk+ZpNJmuxZEbBjXYXBboOgtQudvJQRkhi5x+gsH6RVKZoDRRNNpMxVdIskff44Pd4ILf4k6XIZy9NYgQpdwuGes4TsbOAh8YSJh4GLRVnblJVDBQsXExcLV5v4oa8QfCRCaWSgsJSPo1xs5WEHHpbvY/oBhq8w/QDpKQxPYfgarUTkptQCaYGMgWGD4YB0wHQQ0gZph+WGA8JCGHZYbtgE0sQTBj4GPgJPBXha4QUBrgpwdUBFBVSUj6sDXOXjKR9f+wRKEegAVf+oAK0DXoS3wuaFYooYIqZkd5yBPNbnzWw/VRcQdYRzDkyXCVbzpqlhz9FmQb3p+cvqXfwtpn5d+ZwrQsxVdu4UcYlkgc/DmPPh3PS3jWQff/cvf7pks4HG/g3PEQHcs2cPP/MzP8Phw4eXvO9///d/50Mf+hCZTGZafktLC7fddhvvete75mx36623cscdd2DbNi0tLbz85S/nL//yL+nq6lr02I0FdGaU/BL/8cuv4GU/nqRsCb52ww3c6VxKSaS4xd6NKTRr+nezvH8nKMmyXb9GavBi7pM7eLCUY/XQo0it8RIpxq4e5jVrj3F6YD0HD4b3++zUZp5YsYay1Lz5ZMArhnyqerlDjuD+FsmQl+Gi4j2Ux7aS9/oQwqXvos+Tij+C81mLttPhF+Xjl/XRt+n1rM9fCIRGd3f5AXsqAQk/vL0VD0a50P9v2oo72TOxHJFRrMyN1B2BTUfegVMdMNAmyKQkuWSSk10JDnZlyMdD6ZVG4MW2Uk6+jEr8UpA2rd4YfeVjrMkcp3OiQHxS4iiFQyUkhaKMk8xhJiuY8RKW9Eh6JeKuS8zzsH2F6WukD0YAMtBYKCw8bDyq9M0keEH7D36+oDT4ysDTEl9J/Fpo1OJKCwItCbQg0AKlJQFhnqrP09PzpuJTeRqB0pGUT0e+SurTOtIUnlWXGXUWJlsNNPCTiI2tgtd+cv4TvWeCxv79HBHAnTt3cskllxAEi3ODdTb4P//n/3D77bezf//+afkbNmzgXe96F//rf/2vOdt9+ctfJpVK0d/fz5EjR/iTP/kTfN/niSeewHGcOdtUKhUqlUotnc1mWbFixU/1AloMdgw8zqF3voMtJzT5uMWXXnMp39S30CbL3GjtRQjYuGY7XX1PgTJYvvM3SA5fyIN6J3cWDTaP34kRKAInTvrl42xYfZQDhy9k8OQFaDSb6OZy93y+72zj6KVZ+k9czrUDSVrqTm+faDW4s9vggOWTnpQsH/O5vvw9Lun4HINPO6QesBEahlrgrpvX8nrzdSzPbgFCIrgtCDhYCohHfogdkeOS5NdoSzzCJ92b2J5Zxw2FMa4aepJg8jDJcoVkxVtwKy44MNwMp9sFQy0w1CIYbbIZ6L6IU8teQbbp/JqEQWhNb2aU804eYsXECLae/rvUNJmhe2SIzrEhmvMTaFOgTIE2CW0AGhplGFQch4rjULZjVKwYFSuOa9n4hk1gmCjDAGlgEkQEcYoozgyjA8u6J0xHh5uRIoaiXp5U/bYJFSbCNvX9VOtNpzJ6Rl7ke5iA0PBLpCGNCpVMonGl1nXzqo5Tp8hBVS4x415a/QerWbS9vHmVWOdoNKc9QLFQncVDa6aRRQ01LyxT6XDAWfFoImEfU9ItrackOBpR+znWpHx6rvazJXVaz5T0zTH/uSRyC+xSs8aYI7GwxHCOOnpmWT3mlwg+K5vpgt5mzqHbZ6XXZwee28sF/3z/kvbZIIBLRAA/9KEPLVg+MjLCF7/4xbMigB/+8If58z//8wXrPPbYY9x111187nOfY9++fdPK1q9fz3ve8555jVPPxOnTp+nv719QW3m+Of00L6DF4uP3/Q3r/uh2+kegEI/xo5s38S/B21kjR7nWPgIotqzbTvuypyEw6NvxARKjW3nMP8i9BYfe/FexPA9l2ay8cYD2ZSNs3/sSCiPrUCgyqSF+PvtKvFPb8d7035StNI8N/x7nDaziqtGgJhX0BTzSbvD9Hot7u0wM3+Wy/HZevvdhLv7WEySzPkrA168SDF21hneO3kJXbjMQuuh6NPA5WVLYERGMywyXJr9KPLaTfwzewPf0FVyHwesyezk5/iBOKUuq7BF3KyDLGLpCR1bTWjjzZ1a0YTIZY7ypk4GulZzq6mGkpY3Rlla0YZDyy7SV83QUs9O3N6VIZPMsGxhg/eFDNOXz8w0xJ5QQuLZdI4vVx3VsKraDb5l4ljX1mNa0vBfDvTKlFyANWs8mieg6njgVF1rPmyfQddxPTy+b1mdEs+raiWlzqCOo9XOY68VmjFcPMQdzmpPLzrFlzD3WYupN0ca55rmocc74LvNBn4XCxPxjnHm1z/9+Z6alC4+9eCzc4Fx/Y59Z+8W/hONO8kuf/eozGmU+NAjgEhFAwzC46KKL5v0Q8/k827ZtOysCODo6yujo6IJ1Vq1axRe/+MVndAQ8F9avX8973/te/uAP/mDO8oYE8JnDDVze959v5O2fOEjfGNAK//mKG/i8eg0XGANcYp1CE7B1/XbaevdAYNK3/bdJjm9lT2GIx1yBKH0Ju1JCGwZrbz5KurfAY09fQ2VsNQrFI12PsNnr46U7LTKXnWLZuoPsMzfzjfKvcOXpZl592mdDnYcQLyKD93eZPNBhkqfMb3zldl7zcPiX5uFu+NgtBptat/K24zfRW14DhETw4cBnqKQwIiKYlKNclvpvlHOQfwjeyL3qQq5D8trJPQxOPkI5KAKht4zRJoNTLQVMOUnML9FSVHRPaLoy0J7TtOcgdRY203OJJIV4gopjo00Dz7EpOzEqsZC4ZZJJTrUmONFicLy5TN7KYPpjmO4ohnKnmStBT8k3ZmpqVjf/+i/7MK9OJqLBwMBSFlIbSAwMbUTmWwwkEqkNDIywXBsYUZ5ERuZeBAKJ0AKz6sNXhGZgZCjORGCCDuuHqqmS2jakxbR4/XwbZlgaaOAnD6eU4jN/8RdL2meDAC4RAdy0aRN//Md/zNvf/vY5y3fs2MGll176rBwBV5VAHnnkEa644goAHnnkEa666qoFlUBmYmxsjOXLl/PpT3+ad7zjHYtq01hAZ4e943t573+/lQ/+V4UtJ6Djkixv7/9j9ukVXGUeY5M5AsLn/PXbaenZC4HJim2/Q2JiM8fzkzzuagqV/8Iuj4OENTceJ72iyO6nX8rk2CoUike7HuV0YoBLTrZx02NZmi8wKV9e4WupN3MnN7OyoLlx0OV1Jyr0usa0+R2OC+7tNslm9vPGr3yM5mIe14QvXCf57uU268RbeffAZVycCb16+IQSwZGigogIpuQIlyS/Ril2jI8Ft3C/Op+XY/Da3EEmMo+S8ycAkIaiddMk1tosRz2bowWToUAzbnlkYz62r2nLRYQwC+1RvC0L7VloKUC6pDGewW+vEoJSLEYukWQymWQyYVOIS/IxKNkeZbNMxapQtkqUrTJlG8qWoOxAyQ6fsg2B8cKW9Ak0jgBbgC01lgBHaGyI4gJHCCwNJgZSWRhYSG0hlQnaIvSNZ6FVRDip+blDRz7vdC3PCO/1qSisjxOmA2WEXmeqx7M6OpiuShy1rEkftY5uZ+rocDxKKy2hek8QWTuerdavhYjQ0ku9rLDuOFFPkwMKovPu2ce0ulo+oy/q8vWsPwue0c9rcfXOBouUVp4FzsZszLmMdSa1mWcLz8Vv9dkeEnS2HuQ/f/cjSzqHxv69RATwbW97G11dXdx2221zlu/cuZOLL74YpZ4dTcabbrqJgYEBPvWpTwGhGZj+/v5pZmA2bdrEX/3VX/GGN7yBfD7Phz/8Yd74xjfS29vL0aNH+d//+39z/Phx9uzZQzo924frXGgsoLPHF/Z8gb//8V/xq9/RvPyAR8vNJa7m4/gYXGsdZI2RQQuPC9Zvp6VnH/gWfU/8DsnJTYwUczxUkRSLX0e4J0DAimsHaFmfY++elzE+vhKNZkf7Dg43hQpHFxxRvO4RxfoWxVOvWsFnV93KHrEVgPOyOd659wQXjHTTboT23qoooahMHCB27HH80b3s6BjmX14rGW1uYY18F7cObOKqsXA9KzQ7g4DBYoAbEcGEHOfi5NdxEwf5uHod93kXcJGW/FzxOF7mUTLuMBBuep2pLJ1bxrHOK4MNvoZBT3C0YHK4YHHcF4xJPesqkNCaRBlac9A9YdAzIejISlpzgpaCJl3SOJ7ECgRO4GN7HuYS/g76hsS1TDwz9AvsRz6C/bp4YEp8w8A3o3zDwDdFGEblgQz9CQeGJJAidL0mxYx8ptJSoozIZVr9TjLj89HP+S2n0CC1FAopVRiKyMexiO4fVuORLb9aOXp63Wn5alo+MM1vcuhXWVPv8xhRNVlYn1f1kVxH3UTdXcuZ5bV6dTRx1sY9x1FxNaH1dJIYDoGe1WDuW3Vi1mBzHGtHWsdzHmnPPGdd5HJYaiWaZ9LffC1mkvP5x1xs6RK+67PIHCfG1vPB931uSfts7N9LRAAHBwepVCr09/cvxZzOGuPj47MMQX/84x+fZghaCMFnP/tZbr31VkqlEj/7sz/L9u3byWQy9Pb28opXvIKPfOQjrFixYtHjNhbQ2UNrzW/f/dv86PgPec1Omw8eHeWOLdfyt8EvIFC8wt7HSplHC5cLNz5Bc9dBtGez8vEPkshtJlPO8+OySaFwF8rdA0DXRaO0X5Tj0MErGBsL12AxPs6dXfeiZEh4eiYMbtiuuPaUy8Ovu5TPbX0bg3IZAEmd4+aDh7j26X5WSEm3KbDk9G8zVZqgMr6PH/Tu43/WHSRvazarX+Q1o1u4enyq3h4VcKroU4i0hmNikouS3yDoOsRHl72ZHzmXkS4rrh04wsZDP0ZMHq+1bS1UWOFlae7IE6zx8FYpvOUabAg0jPqCIxXJrpLBsYqkoBd3oOm4kkTZIFE2SBdNWsoxmitxmvwYKdcmXRYkKhqn4mH5HobrIV0f4flIX2EEAVYQEPNdYr6LHTz7tvcWC19KlGEQGJGtPClDg8sy8rFbC6fyiPIjthPmSTEVr3u0mPI4AiIkJbrqgSRKUz1+DqV5UPNPEoYiOqaGMKxZOo5oj5C19EwTK7V+Q4ZWC6fu14WSu1p9zRxsTNeRkOlf97WUiCSANYnh7EtqZ7ydJuranVGeVzefOcRBM/udv6/ngOQvsEU+Z39ivLCF7c86Ssk0b/703yxpn439e4kI4E8rGgvomWGyMslbvvkWBgoDXH6yg9uye3mN+CtO04mB4nr7aZbJElpWuGjj4zR1HkZ7Nise+3WS+QvJeyUeKZpMFB8kKIfugVrWZGm/IsvxkxczHpHAHhHjWOoE329+gIoVEkFDW6wdXcPmE22467r5wcarGbB6ATC1x5YTFa7YG3DeZJlV5UHS6U7SsRTGjE0qIyd5OnEE1zjAhcUMefeVLBdrkNE39REVcKzsM+lWtYbzXJD4FrJrHx9d8xbuar8ahKBn6CSX7X6QjYeeqpmSySebOd2zhlKileZikaZKgSY1SbMxSjqdIdE1SaItRzblsdOTbC8ZHHPr7sABRrSN+2exc9i+ia0cbOXgBA62smthzDVwygq75OPkXayiwiqbiMCGwCI0MiOje3ki2tdD2mQQ8itDKywdYCsfJ6jgBC6272KpAFP5mCoIn4hwToV+Ld5AAw389OH0NZt55b/9z5L22di/GwTwnNBYQM8cO0d2cuv3bsVXPu8+3cqqQooPer8OaEwU19t76J1JAn2L5Q+/m3TxJbiBxz0VRT63F694F6BIdJXouDrPycELyWZ70FrSIiyuLm/m+/lP8YO1I4y2TtmGscQKunJX0h5sYN/aTk4mOmpl3RM+5x9zuTT/KN3Zx0mNX8AKL05rLI3R0o+Q5rT3CQjQDKICgSF7MCKpzoBWHCn7jFfCO1uWKLI1cSdO8y7+pfe1fLf9Zei4SdrLc9FTj3Dh048Rc0MNkLIdY9fmy9i55XIyze2zPsNUMU9LPke6lCOmCrh2npxdYNwqolUBqfKIIIsTZOg2snSbRVpEmUBrJgNRe3Lq3GzHSSWwAonlS2xPYHkCMxCYSmIEYbwaykCGd+uUjdIWWtkobJS2UZgE2ibAJhA2gbbxhY2vHTxh4wsHZTggbLSQSK0xAFt72MrDUh6W8rGVjxW4Yag87CAKlY8V+DiBh6kDHD8Mbd/HCkJTMkJrTB2aRq73VQxEpmSma9pCVXM3lPlVjzlDIdoMhZkZX7X16ZqMq6pQo+tlaLqWN6v+TCyg5VtfPm0ei6gr5iiYpYlad/Q7e4z65me6L1dX/mzsTmd7Ae352iJrUt0lHP8ZaujPXLv1eC4+naMXdfLuf2kQwKXGkhLA1tbWOe5thJKAWCzGunXruPXWW89KM/eFjMYCOjd8Zd9X+MjDH0Fo+OIxl98tf4C9uh8hKkht8kp7H8tlAWSFCzZsC4+DfZPe+99Ms3cjWmu+7ZcoZk+h898C5WKnXdqv8jkxfh6+l8Dz4tgCrilvQe78GrvNY3zmumV4bQcRIpQoCQSO3Mjy8ZdSaV/P7t4u/CrB05rV4wWusL9Pd/4oqd0Wl91ziA6RRLatodC3EdnWT6tqnvV+Wuva70NJK064AcfKUNQg8dgQu5+25I/5Ty7ha8FLcR2b8yyfl04eITb8BLo8dbY83tnPvtXns2f1eiaaWkJ7fc8QMijg+EUSQZGELmGTxxYZLDJYOoOl8pg6j6EKBKqMH7iUPYUb6PDRCk/4+MJ//o6mNBhKIBVILRDRQ32cMF3VEBZaoqvawpH2sK5qEOsoTl28LlRCROlIaSNKhxtqdEyrp+IiuqsldHRArKO41uH8IhMkYXp6KFU0sygudGTLUKkpUqpCshqmww+kGoYkdYqkCabH6/NqbaI51UirDm/Wybo8Mec49XnTx6oPq6hPTxHd6W2nSGz1M5xBjudALX8acZ6D3M4+2WZmhbnNu0z1I+tL5iWzZzgAX4JdVyyBfcCFiN3i+zjnLs7YR6G/hQ//w9fOfaA6NPbvJSaAt912G3/5l3/JTTfdxBVXXIHWmscee4zvfe97fPCDH+TIkSP8x3/8Bx/72Md43/vet1TDPm9oLKBzg9aaP3/oz/nqga+yITD4wJEU7/D+F2iFZY+jvDZeYe2nz8ihhcf567fR2rMfHRh0/uBVtIu3AnCfKnCwdJT0xN0or4C0AzousjmZuwgjmaFYaAVgvd/N8u33kzq+h7+58vXsWO9jNT+BET9Zm5OjJKuLfQh1LUeXXcbxtumStz59jPP8Xax/4AQ3fvNxUqUSRdvhm9f3Mbq6g3XllWworWJ9aRVxrDnf29eaXKCZCDS5ABJyH53xO/kmXXxBX0+eBJ2izJtKp+jNHGCkdKTWNmYkWZ7cjBA9DFXyuGTxRRHXcCnGbbLJFLlEilwiSS6ZIptMMpFOkU2mcO3Ekv78pKpgBXnsII/hFzG9IkYQPlK5SF1GqgpCuwhVQVJGihKSMoIKGhetPTQeWiu0Vih09CgCQIko3bDf0kADP7XoHdrEXb//X0vaZ2P/XmIC+MY3vpFXvepV/Mqv/Mq0/E996lPcddddfPWrX+VjH/sYn/70p9m9e/dSDfu8obGAzh1u4PKuO9/FrpFdfCgT8MjQm/meuoK4HMN1JtGlVVxnHWKlkQHhcd76bbRFJLDlu5fRbf4yQhocUmXuN3aTGnqUoJAHoWnfFGN08nVYKx5lItsJCNLKYd2+A2zY+RD/ecVr+PzqG5B6GLN5G1bzdqQ1WZtbQmk2FdqYlK/lZPvVnOpIhsoDEaQOWD9whAuf3sv5h/ZRDvJ85ZoRMm2ToGFtfh2vPvU6NpbW0G0K0oaYdZewHp4OQAwzJAr8WHdwAIchfPr1EBdOHiI/uZ+KCu0JCgS9iTWsaNqEEe/laD5JMZ8lURggVRggURwmURokURrCdkOr0740GG5J8PiGJnavTrBvRYLJVBwt4ygZR4s4gjhNpTjJShzHj4GIU3ISFOJxirE4hXgCJZ8HNqY1pi5j6hKWLmNRwlRlLFyEcpHax9AeQvlIHSC0j1TBVFr5CBUgdIBQKkor0AFCBaBVVB7moVQo3YmIqdA6SkdqrFqjo7TQTMXDwtozZcC5/iEM9VQdXc2L1GT1zDPfWRKl+crmU/KY4yOdp2ym9vR8gqaFBFC1Pup0U6ZhvvxZfesF683CEkmkFzXecznWImo9Sw5DXhDjrSwu4wu//60l7bOxfy8xAUylUuzYsYN169ZNyz948CAXXXQR+XyeQ4cOccEFF1AoLMIVwgscjQW0NBguDvPz3/p5JosjfOqE4G2Fv8DFpqvtTsbclaj8Rq41D7PanEAIxaZ1j9PRuw+tJIlvbaZP/CrSSVHQPt+z9qAm7kGNhkQp1WfhFt5H0HaIYvIUrhcDoHt0kisfuIfTy7r4nbf+LvlJE2OogGEdx0rvxmx6EmllanO0lKArtwFHX0S+6QIGe1sZc2abC0oXcrQUBxizjmAExzG806QnBdceu5bVE1toN0yWxwWrDAMZkcFAR7qjC5DDMpph7SODAroywkTlNKUgR9HP4iuXjtgKVqY2YSZtBnWJk7kW8m74rqZXJF4aJlEcIhUcJlk+STw/jpPLM5pSPNkveCp6MqnpczB9zepBWH9asG4A1p/UNJUNXMumbDuUHScMF4rbDsVYLJRIppPk43EqjoNn2nimjW+YBFISSGNW2MAzh9CqRkhrR7Uz0rXbnzX3eFP3GueKz8Kcdw6r8dl32Gb2M98xazjuPIPNajf3GHqOuvXeV+bCFBk/u/GX4ii1gfmxafRpvvTu31vSPhv79xITwJUrV/LBD36QD37wg9Pyb7vtNm677TaOHz/Orl27ePWrX83g4OBSDfu8obGAlg47R3by7u+9mwsKWc478XI+HryBNHnEur+nNPoavMwVXGEeZ4s5DCg2rnucrmX70FoQ+04/K3LvwGgLPXU8Wt7DSfk9vIEKaIHTIhHiVpRIUencRl6WAIHhB2x56ik2nNzP3T93DR+/6G3kJ0yMgSJyrIzhnMRq2o2ZfhJpj0+bb2uxm/WlTlalK5zouJTdznkct/sIDHP2ywEiyBKvZOjOOPRkLdpKHsvdGFd5BmvKmlQQHg1P+IqcCu+NJaWmxXQxRQyxCB8WlaBIJSghhUHMSCIklIw8WSoMl2OMl5JUNLg1IZTGDjI0mXtIiYMkghOM6wkOxD32tWj290A2OZuUdk1oNgxoNpzUrB/QrBgBoSW+NFB11aUOffOaamGD1YGUFBMJCqkkheTUk08myaVSFOMJfNPEryeIQkZxiRIytB0oRBhHh0fKqOgoWaMIDWAHhPYDAxF5EhYGvjDCtLQIDDMioEZkUibsV9ceWRef/TAzTTUOU2ZmqKsLEJmhaaCBBubEecef5IfvnNvRxDNFY/9eYgL4mc98hl/91V/l5ptv5oorrkAIwaOPPsp3vvMdPvnJT/Ke97yHv//7v+fRRx/ly1/+8lIN+7yhsYCWFt878j1+777f43dG83xy5M8ZpJ3O5A5KK74EI68kP3oD55uDXGqdAhTr1z1Bz7K9ADg/7GLZ/hux114PwInKKfYEXyQ74RG4BkZMY8bfgGANnpmj0PYUnnQBiJVKbHn6KS5JPcl9117FZ5e/gd3OOozhMnKwhDFWRtrDmKm9mKm9GIljIKYMKjtKcFm5yMUVD2N0JRND53Fw+RqO9yzj+MoexuIds951Jhxf0+5qWjxNq6tJVhSiqFBFRbIcsC4YZJU8zrhqYry8khZl0a0E3UCPFthi8dIyrTUeAWUlcLXA0+ApcLXG0+ASoOMTkBik6Bxg0DzMUXuE/XaJ405QZ6MuhBGEJHD1kGbNoGb1oKZ/GJx5zAWWDJuS6VCJyJZGgFChYWQCDO1jqABLBVi+wvY1vm1TTCQox2OU4vFZTzkWw7Xtc1KOMT0PK3pMz8P0XQw/OlYOqsfI4dGyDHxk4NeOk6UKEEF4zBwePYdHylM27OrIXpUYEik61NWByGYhEoSsXTnQ0kALakRXS4kSRGFIKgMZyfekqJHXmk1EpmwiqqhOlZCqmj3CME9F86m1n2FsW9XLv2oklmie03V569uqWfK+qT9qqsS4KmSbXbdOVaSq3zOH/LBq9ro22WlVxHQF41mcu36u0zFzzc89t2cRz3SIOc5pF3qXObt4hkMvJTaIHL/9kc8saZ+N/XuJCSDAgw8+yMc//nH27duH1ppNmzbxm7/5m1x99dVLOcwLAo0FtPT4zK7P8Okn/pFfP7aCD5d/EwOfphWfwU8dY9nJWzg8eRWrrDGuNo8ihGb1qh30rXwSAPOxDnrvXEf84lsRVoxCkOcR8RWykyepZByE1Ij2C7H8VwKCSmyYYvoogRH6d46VSmwYOMANy37Mwa5+vtRzM1/rup6citeRwQrIIm3xg/Qk9jPSvJeylZ/2Dmkftp4M2LwPNp/QtDsm23+hm292rWCP34NvtKPMdkyzFW10UJKpZ/6BqZC9pSuK5UWf/lKFnpJLa8WnzYMWT9DiS1oDi6bAIHmO2hQBGld6lI0KBaNMTpbJywolWaEoy5SMMF4SZRy/Qqrkks5VaMm4tA+7NE+6yMAFv4IIXIRXhsAD5YXhAttNYFgoww4faREYBoEhCIQgkBpfgmcKKo6JZxm4lhlKDi0T37TwLRvPsghMi8A08S07yp9bWWcpIIMAqUJj2rUwUBhqKpwrTyqFUBqpZ4RV7V+lFiybK4ToODd6Zqarx6PzphfRB8zNVUIyWJeuxacI5ML3FcW8/c7CkvKxOkK7BP2e3XwXP+Bzff/vucZYfx+v+vp3l7TPxv79LBDAnyY0FtDSQ2vNn/74T9n/5JdJHXsbP1SX0WkMUlr/TxgIXr77Q9wrYjTZHi+3DmEKRd+Kp1i9ejsAwd5uVtxukrj01zCalwNwrPQDnrbuJ3si0oLtbCJwriNRWQZ+jHJikGLyOMoIJYKG79NbHOTy1G7WG4f5Xue1/GfPTdzfehm4CjlaxhouYg5XuKQk2SxHGGw+wMnm/Qw0HaoRyirilfCodH3Rpmelz+4mnwe1QRB9wa+LmVzelKLFSnMiv45tY5dh+qtZZlv4tsGkJcibgqwJWUNQNEPfvM/EppehQilje0XT5GmavTAMH2p5aX96eeI5ssFckVCW4EnwBSGpEyIKozxRX67xhCAQ4ImQBPp19YLoCf3m6jAuwiPhWn5UtxqGR8nVtgIldF0cAqHDOKELaBW1DccQtWNwJaarfkT2safK6/KeafkzWQPPLldY+K7gYjGH3Oqs+jvzOz73295SmEt5/vH8vMQV+7fxud/54JkrngUa+/ezQACDIOCOO+5gz549CCHYsmULt9xyC8Y5HM28UNFYQM8OvMDjV37wK6x/8jH+38ifkCdBV9sPKHX/gJ7Ccm7Y+T6+ExummGjlevsgMeHT07uP9esfBaB4Yhnr/2kMe91bsde8AgA/f5xtrV/iyH4FCGTaINu5BUf00Bo04032UYmNUEyeJLCmFJSa8pNsLB/kvNgBjHbFV3pew1e6b+RYfDkojZxw6T2W4zVHNcs8g0AEHEgf46H2vbipQ4j4FLGsQmhBS6kLIV0mnInaX++r7IAbmny2xAIKXpLvH72O0eM3cINKch0W8Whb01oz6GsOKsVxQNt5WtNPcqRFcZ9ax4mgA6RAR1rH3UGFDpXB1JP4ho9vhNIzJQ1MM4llpbGsFMJwaqTLF6IurvEJMJQO/QoriAWCeABxBfEAkoEmHkAiCMliItA4ATgqDGOqmgYn0LUwpsB8UWyMzx9C4jm3FGheXWExd/5C5fPqGs+U4C1qXLFg+UL6zzPn90xwrkvuXNo/n9K6n9T3ftgZ5AN/+KZzGH02Gvv3EhPAgwcPcvPNN3Pq1Ck2btyI1pr9+/ezYsUKvv3tb7N27dqlGuoFgcYCevYwWZnk1u+8nUt3JvnX8i8Rp4Sx9p8QdoaXH72F9YfjPBAL2NO2lRusA7TIMp2dh9m48SGEVGSGlnP+xwfAupTYxe9EOml0UOGU9TUePnmIoGIiLE2pdw1esp2O1CQtQTPZY1dQMSqUE4NUnBGQU7eBWiYnWJM7ynpxmMmVab696hV8vfOVDDvtoDUX7Stxw1Ml4n74Tfe05XNPvEwpPsTK4DFWB49zrMdlpGWenTrKTimLK60Yr+zIgJD84Nh1/PjYdVwZNHEzFhcypWjiac2AqznlKUZ9Ta/1FKL1MA8nU3wvt5WMP3W8bGrYWsqwJX+U9vIRCKYrYiXMZpbF19ITX0VXfCWWdNBa16Y2XUtZIZlAiAE8PUJBuUwGklEvSSbopqC68HQ8fLVIQubJgMnYKOOJISbiQ0wkhphMDJG3cliY2DjYysLRJqY2MbWBpU1igUmTb9EUmDQFFillklImCW2Q1AYxDCQGQkgEMvoX5oV+fEOfvKHvXhkZPRYIFcZDQ9KylhbaCEMlw3wd9REZjBZE9SNTyVXfwBDd6dNTqTpzxmG8zsevmJXXQAMNzIVDlQd5+W1/uKR9NvbvJSaAN998M1prvvCFL9DW1gbA2NgYb3/725FS8u1vf3uphnpBoLGAnl2czp/mt77+81SeegO71Aa67CMU13yaeODwpp0fwhn5JgedVu7vejlXOidZZmRpbT3Jli33Iw2fifE+tnzuNPJ4G7FLbsXsPg+Agr+DByrfJzMckjvd00y+ZR22U2TDukcRRy9mZM95eM4KKvExKrERPDsz7VzJcl26x4bo8YYYWtPBo6vP557OK6ioJK/YXeLSQxUE4EnF3niGH5kOWgW88eC9vHrgBxzrCTiwTLJ7dTOn210qZnn2B6AhrhyWea10mjDpd7J35ArS+bXcTJybMOliSrJeVpoBT3HK1UwGFZbFdzDeMc5jZor7cxvJ1pFBqTVrvDzn50/SWzyG4R0Hps55BZI2Zxm98VX0xFfT6vQgI/d2rtKUlcYPp4iBICbBEUT+fwsYYhjJID4TlJVLLpBkgjgTQRvZoJt80IGO5q4IyDsTZOIjTMaiJz7MZGyEnDOOPsPZmak13b5ime/REQR0BgFdflCLdwQBnX5ASi/+ur4GlCRSkgAtibSBQUlRU46YWWcqLqaOb6O6Ovxg505XjbBUtYO1QCHROjLUogSo0JOJjjydaBXGw7PgKD5TnFY/SPRitW/8aXl1Shaamj/n2q2+6By6SlpRUfPqOXW1ef1Fvrq4ri8TU2PX/79+7lXaPMOZ3vRwTtHgPHliRtnZ7npziTwXHPrZIfVz34RcBKrrYHaHZzH2mfp/xq3PiKJd4SX/373n1MdMNPbvJSaAyWSShx9+mPPPP39a/s6dO7nmmmvI5/PztPzJRGMBPfs4OHGQj3zp/Tx27NcoEqO1/S78rh+xJrOO63e/AS/3FbJmim19LyNlwUZzhObmIc477x4M0yWf60R/R7LxvgmsNTfgnPcGhLTwVIl91h08dfA4AGarYLLjPJQZo7d3H6vaj3D4zmW0jmyk2HQhhWQrrjNOJTaKZ2fQcvqlOBEZDi4lHIZaWxmyV3LRwTjLx0PSlI3D8c4hCsFx3DG4YefjXHM6VF4Zc1J84rJXsne1RWdyL7nUcbJWad7vTKEl2m3Fr/TQ4XZygdfFK90e1ro9tPlNSCQlpTnlKgY8TVFl6U7t4HhXmcdoZvfkSsb85ml9tqs855eO0l8cIF0aQgTTf1cNEaM91kdvbAWd8RW02t01Qqi1Jq8gG2gKSlNWoW1DBDhCYAuwpcARYKMwpIukgNJFypSoBD5FrSkpSV5ZuCpJRSdxdYJABOScMXLOBDlnnLwzQT6K5+wJCk4GXaeRvRBsJWnxTVo9SVugaVaKtsCnNfBoUZqWKK8lgBalSKqqnmqdTby6W32h4K7eRt7selUag9B1lGbu+uLFcUmsgQaWHA95N/GSv/zSkvbZ2L+XmAC2tbXxrW99a5bG74MPPsjrXvc6xsfH52n5k4nGAnpusGN4B//87/+X72d+EQMfZ9UnMOKnuP7wz7LqsEfgPkmrU2Rk+UXcJ7dwmXmSVGqcrVvvxnaKVEpN3Pv4et7xtScx7eXELr0Vo3klACPmUzx0/AeUKmWkE6D6u8kZq3CcPOvXPsbA0RLJ+2w2DieZ6LiEoa5LKcda8c08npPBtcbxrSx6HkN3CgPDT+K4CWTgkIvF2bE6je2c5uodj3DNfdtpzoV3Dp9u6+czW29hb1s/iAqxtgdw2u5HVaWDWmMS3s+bD6ayWO520ud20et20ut10Oy2QqkFv9BK4E8Saz7IsQ6fQ4HgUKGbQ5VeVJ0k0SRgTXCa9eUj9BRPEy9mQpMmdTCESYvTTZfTT0+8nzanB1Pa0+q4SjMZaLKBJqs0+QByKjQ1A2BAjRzaAqzoqRrFVmgCHdpH9LTGQ+MpQrM1WhMg0AQU7RyFiBgWrSxFO0shCqtp1ywtfsFFkEoS81M4fgIrcLCDOI4fxw5i2EEc258RBrFauRXEMJWFqexnLrVZFOb7+p47/0w+as+uzbPf17yf3AJk+Zm8YwMvbFSahvnNv3nXkvbZ2L+XmAC+4x3vYNu2bfzbv/0bV1xxBQCPPPII73vf+7j00ku5/fbbl2qoFwQaC+i5w73H7+G2f72PHe6lNJlDqLUfJxlY/NyuX8Mc/hboEi/tPEKleQN/oV7P5fYJmmKTbN36IxLJSQIvxtf2n8frvzxI/9g49obX4Gz6GRAmPkV2Fr7LweGDACT7fcabtuL6Kbq7D9IndvP0dsnmfYp1gx7ZplWc7L2C4c6L0GYTGo0yynhmFs8YxLOyBI5mEbabKZsWTqVCx/gYsXIFx62Qs2M81raRk3YnnoYgfhKadqESJ/Cljy98Eq5Nv2vieClOWA4jsQy+nUGcQRqWChK0um0kyy0kKglahY+btCloi/xkK/tLm8j5rdRvvSlRYLM+RH/pFG2FCexCfhYhBEjbMTqcDtrslbTZ62hxupBz2CesKE2ujhDmA01eaUpq8ZRCAqYAA40hNFIoJAohAkCB8NEEhN6FNRXhkbXyZI0iebtA0SxTMVxKVpGyWaBsFSibecpmkbKVx5+huHMuMIOQCFrKwlQmprKwlIkZWFjaiPKMKC4xonuJphYY0TKaimvMyHOMocN7nVILDMI/DqRWSARSBAhUZK9SQ/VzCQ+3p9JChaEM6upVpZxEREtHoarLr+pV16mICFVHzKKyOqI2kwgv9LNe3DpYamK92P6er3F/epGxN/Gnv/WfS9pnY/9eYgKYyWR45zvfyTe/+U2syLaW7/vccsst3H777TQ3N5+hh58sNBbQc4v/3PVV/u9/FhnXbaRS26Hvy6ybXMV1u15FkL8LKTTvWL0NV67j1/230+dk6LIzbNlyD80twyhl8IMjW0h+J8mb92xDNvWRuPwdiPQqAMaDp3jg1L2UghxOSwVnS5zB7FYMw2d13zbWf+cEpYM2cVeRdBUaONK7gSN9l6Gd9Uiza9p8A/KU4yO48Ul8M4/0KpiBQ2A7BLIyTcHkmcAXfiglwwBlgzLwhaIiA3zpo6WLki5SVghkBU96aBFuzEqExGiuNIChDVRgU1FJ/CCOUg46ehwZ0M0knV6OdKGCUVBoH5jxVSKAhGWSthI0m80kjS7ixnIMadarTEzFtEJRIdA+rlZUFJS1pBhIitqgrAz8qhXgBTG7/Gy32ED4eGYJzyjgmWU8WcE3Kniygme4eDJ6DBe3Lu2aFXzp4kvvrAef6YP3XBEqsIQqMVXlFqkFUhuRIosRKcBEIQZSTym+SG2E6jNVpZiagstUWPsX/VymQpA1BZnwQ5BEdwshGi+6UairIUzlRu8Q/X/qrmDVdd3MOnUfs65Xv5m6eCh0fR9Rj7pWWtdL7ebj9LnoapmIbmxO/8Ge+ce89CajF5IuP++0cpHLeTHzNMUYf/CXHzun6cxEY/9+FszAABw4cIC9e/eitWbLli2zfAO/WNBYQM89/vLOf+Pf7+4gwMTp+iZ2+4Ncd+QqVh+Iof0jtDk+71z9EEXVz4dLb2M8btNvjrNx04N0dh4DYNvRrex4vIXfun83Tb6LvfFGnI2vBWGidYknJ+9nz8QOkAHdl49Tbunh9MBmUqlxthQfY/l/FZGlqicHqJiCR9YlGW1aRZKNSGsV0lyBENMNDPsyh+tMQuk0ViWBdNahTR8lPbJOngPLJIg8l+1/kqZiAdexKTsxxltbcR0Lx3cjByTP+1d7Aw000MBzhnEjz0f/5O+WtM/G/v0sEcCfFjQW0PODX/uPT/Gdp/oQBMRW/huJ2HHeuOsmnMF9oCtsbitxc/fjlHQXt+fexiPJVlbKcdaufYK+vj0AHB/YxOdPWrz/2xUuHDmKbFpO/PJfRKbXA1D0B3hw+AeMV06TWlZg+cuGGcut4fTpdXSmj3P+/XtI75j+q1O0JD/Y0squ1RZdOYvlk6uxjFVIqx9hdM8y96F0EZSLkE2ISKHC02McbxrCF4O89qEHWDEyBMCJrh5uf+2buPvSlyDQtFUmeN3oHSSsx9lZshjxJFJLDG1g+CmC/EZ0cTWGcsJjUhQCjYyUDUwUHdpnjYJ2LBKGgQA84VMWLhXpUhQuRTxcUcY1PFwjQAsfraOD1UggMl1iM6WhOc00SjWcIXEJJVNEkqaqYZVqGP2rSaLqymdKoOokOqKmU6uiJ0ASHXXWKXFUZ1JtEd0+DDVtRajWq+vK6tQ1oles05ytfgB6tuBjLsneYhVYz9zTXO31tHjdx16rNSstZs9g2mgzymfWXHhOM/tZsMa8vZwNFtXfkv4dde7baGMjXggWf/2nf7GkPTb27yUggB/60IcWXfcf/uEfzmWoFxwaC+j5gVKK13/sdnaf7saQRZxVn6BH+7z2sZehczsByWUr87w8+QSubuKOwru4L54iJSusWf4ka9Y+gRCazNhKPj4OV9y9gnfseBwJWKuvJrb1jWCk0FpxJL+DneP3E4gCvVcN07YlQyazjNHRFXRNnmbD105jZqB+N9HAoY4YD67p5GhXHGkV6cvE6M6vwzT6kOYyhNFZI321dlrXSKJSZVRpJ80TD7L1xEmSldC7yKHlK/j3172FH19wKQgBWtOiJ9js/RBReJgTxWHK0cmy0LAqH6Mn28dk7mXsDVYzKew5Nz5DwzWBwSu1ycVS0CatWYQ1H2jG/ICcGOdwU5aDPQVS5l7as8eZLCn2iU4OyFYyhgGyhDDKCFlGGGWQZUyjiGkU0LJCIILnXJBpagNLWVjarHsMzOgI1Ki7c2fo8K6dgcLQCpMAUytMfEztY+Nj4mHhY6EwdYCpwUKHNgm1gcQM6ao2p45iI0Ib0tjoyBUjsitoRMe1RpRnYGCANiM6XO1PIGtHu9W+qmsp7CdkfTJKh/GpeuGfAjXbhlFetU718mr1sBPk1PFp7Qg+pOIapo6FkXXcStbVq5LmqSPi6hiiNs961JPyanpGjXl2rfmORKcOdc/URs4om7uvBRV75rF4PF9fs+dwZjyjo98FLDHP19/Cszr7Ns9YIUo+zQV//RvPrO08aOzfS0AAX/GKVyxuICH40Y9+dC5DveDQWEDPH0quz/V/9yUGsq1Ic5z46n/hwslOLtu1HF06AUY7G9aM8jrzAbQ2+Kb3fp6QNnnpsLL9CJs2349pelQKbXzudCuFI238yXf301QuIewUsQveiNl3DQCeKrJ74scczG6nozXD8lechk5FpRInm+midW+Ovv/KItXc99NyjsGu3g52LuvgSJdDk55k+ST0FFZiyj6EuRxp9sw6MoZQChMol1h2P6uGd9OSO0miOMhAz3I+8Yaf5+Et5zPNHZhyaSneTbJwD27lZC3bUIJLMwGvGdPkCq/gG/IanjabccX00arzb9OCVwYmV2vBZqlJydgsQlhSmkwQkBcZDqcqPNlToMPZx6bsAeKZAie8Tnar1ezSaziuu2e8mQLpIkWRJobp5DStjJAWk1iyiMDFVwpXKXxDz3im5ympUaYiMDRKRq7aZOi+rYEGGvjJxxuH+vnw739rSfts7N+NI+BzQmMBPb8YzZe5/u++zmQ5hXQGSPR/hlcPrKB3j4X080jnAoxVo/yK+DK2gB/xc2yrrGDUtmhNjHHe1ruJx/MEXoy7jmzmXm+EP/i24Lyj4bGrbN+Ac9FbMdN9AGTdUbaP381Y+QAX95+k6ZIJxtpttBR4roOzF1ruD7D3C6RXPSacTgk1ULBtTia7eKB/ObtXJWjWI/TkC/Tm20mo5QijB2mtRMjmeb1ExEqjJAunMUWJxzev4/tbVzKRNinagAylGNIfIVZ4EKfwAKY/VGsrVYqVY2lefrIMwVU8al/ITrOFSt1QMTxSooJE42qDpIpxTeDwCkqsNmySIjlrblqH2r1ZXWTQLrOrXTDadpwLvO1snDyEymmOqB726RUcUH3s1SvIk5j355vwi7R4E3RXhmn3J2jxs6RUCUdVMHWA0AEEwbwyBU1ECGVICJXUKDuAmEY7AcLRCBukJTBMiTQsDMMEYSOxEdVQx0BZ4UG6kigto4NlRSCC8EHhi4BAqFDzWGhUVQdZ6EgXWaOFqsXVtHgUztE2zNdT+bUxVOTXONTIrtatat/q2qcQxvU0Dd2ZB8Uz69Tr+E79v77X+qNlPa23hdMzDqjn/dmdLZ5PF2sNPLt4zfhW/u8HG1rAS40GATwHNBbQ84+DI5O89qM/oOzFkLHjtPT9K28+thbrYAWhAqzkaxlcNsitsU+wwS+zW27ix+XXM2C5SLPC+Vvvobl5GK0Fuw9ezuesfbxqRxfvve8Iqhxu9PmNN9O54dXYRujabKB4iJ3j9xA3jnDdssOolR7DPTaTTWYojfPB2S+w90vswwL7mEB48x9NFa0Yu/vW89DydTzZadKiT9NTHqU779JZOQ/LPh9h9s46Mp4LZQvGUwYTKYmfLJJJK46mWslbJ/GCB7BLDyF1sVZfyVYMsYWu8U66Tncx5nVyyEhNszWYwmWFMc5yOUkSlwI2youx1m3mUqFZJpMkRRPODDuAEJLCggqYFBVOxDQ72yTZ5qNs9J/g/Px+unIjDHptHNB97NN9HFLLOKa7GWNhiwGG8kn7eZr8SdrccVq9DE1+jlRQJKYr2NoL7ztqHWona3VuJ84CMASYAmEKpAnSkBiGDEMpMaWBKU1Mw8ASFqa0wrQwMYQV5dnYOBjYmFiYOoprG0PbCGUhlYVQVqR9++Lzof5CwkJEc76yZ3JfceG7m/O0eQaGwZd2zgt8NvP8Mi21JnsVk8ldXPFHv7ukfTb27wYBPCc0FtALA0+eGufnPnEPru8g40fp7/033nFkJWNHFAILJ/1LDDdNsrz7H3h38SgTMsbX9a8y7GlcU7FhwyP09BwCYOjUeXyiPIZdhD/+boWeo6GR5uOt/ehL3sjm9AYMJFprjuaf5OnMA6xP7+GazmO4jslgl8PoMkkxMeWvFx+sEwL7sMA6KbAGBOZpgfBnf4sqIRhu6+Bwex97WlayK91FIZ1nmTfI+lInXf4WLNkJgOkVSBYGEFpTindQibUt+DlpoanEPLKxChPWOEXzKAV7lLwzQcHOkIsZZJo24tubsYa7MYYElXzkaSxCjIAVcoI+Y4JemcWu2h3Ugs6SxYbApl20ExdtOKIJW5pzzsXTipz2GbY0B1ImA81ZhHOINd4OLijso7swwrif5qju5pju5qju4Zjq5qjuZoTWRa0LoRWW8rC1S8wvkw7ypP0caS9PKsiTCAokgjKOqmBrF4muqXqE7xT+77kSLGlE+AeEDO/oEbmFQ8havhAykryGPoRD/8dMxUWkKFP1gSyqPpCn6sq6ekLW+UgmvDFY61uLcPip3MiXMlH9On/G0RyIypjKnZofYnq+qKZmGlyZR4GoVkbtLmK1NPqvWjoNc907W9ztNTFPyeIMwCzs43mxc6qWzNymz6L9i0A0OhGb4DUfaRDApUaDAJ4DGgvohYPtJ0Z48ycfwA9spDPARd2f4r2nUjx9KIWUXdjpt1IxFE+v+izvV3dzUbnC5+PX4uZeyrBZZNmyPaxZuw0hNMVsN1843cZT8ePcsm0Zb753AKfioYCHN13Ppk3X0k8vAIEOOJzbwdHcfVzduZMN6VGEgHEzxemWFJM9PqVWPf2eHkAA1qjAHDfxhiSxEwHOMJgjApmdvsXkEkkyTooBu43Hujexr2crG7Vmjd9MTCewK5OsOPlDek4/jGc3UYp3kkn3MNK6nGK8E202I2UaweKkSWWjQMkuUHA0ubhDXjZRdCXFkkdJK8oCykJTFhrb9umysvSLUXqCSWTda5pKs8b1We6lSdOGJTqwRQsJac67OQZakydg2JQMxGAgVaaQGCHNMZZ5ezi/+BTLS8PkggSndDsDdHBat3FKdzCg2zmt2xnQ7QseLc+Hqp5DSDAUUmmkDnBUhVhQJlYLyzi6QiyoYCsXW3tYysPSHqYOMOoeqRUGUahVSDJ1VTu5gQYaWAyseDO/dfsXlrTPxv7dIIDnhMYCemFh58lR3vSpe/C8OMIa4yVdn+D3hwrcd7gP31yPHb8FIQRPtT5FYtmn+PXsaU4aCR7Vv4QqJDDbTrFpy33Ydhnfc3hg/6V8Pb2LlkwTH7jLYsvh0wDkYwn2XXED69pfQp9uB8BXHgey2xivPMi1XY/SG5/ypZsRKU7bacpBQL5d4fWBTs7/HqICxqhAZCVmRmNMgjEpkJMCYxJ0XlLSDpl4E8c6L2Go6TKS9JD2iqw4eQ99p+7B8kPXZ65pc7y9jWPtDhW7GSHTGHaSRLeF0+yAasErtuIV2/DLiyeJ9XAJyWDZgIol8G2Ntj2k9JDaw9AupqpgByWayNDhF2lTMRK6CYs2DNFGQsRJmRJzQakJFNCMG4IhWzHieEzG8ihznDiDtOljLPcOsbl0iLSbZ0w3M0wLI7qZUd3MiG5hlGZGovgYTWR0iiwL/DDOCiHRD4VTC2mJhrZihFLISMM4JIgBRi0M6ohjHZnUQWjSJyKTQuvQA0o1rBHMucLQNM70MCS5MrrhJ3RVX3d6uioJnTdfz+EHuc4kTy2/lldtO337EXNsR1Of5Pxb1exPW89fNqubBeoueky9QNni+3xOcZbTeD7/YMnbXfzN5/55Sfts7N8NAnhOaCygFx4Ojkzw2n++k3I5jTDyXN3+Wf4x8yR3nljHsHE1jnkDAEWjzAMrv86liTt5czbPl1PraJ98PUUjw4Yt99LUPALAkYNX8W8cJe9kueLJPt539yjN+ZDcDfT2cuKyV3G+uZVu3QKERPBIbhdD5Qe5su8x+owsFlNu0yraIjOexDutyZg2xU5J0KnxOzRBpyZoZVEu5AAIQBZBFEGWBEolKOouSn4XiUyWprET2IUSogK4ktF4H8eaOsjrAk6xjPYg3lmhdf0kzSvzICFwk1TyzRw+2cXhXAtZkhgkSXhp4l6auJfCDhI4fhrHd6LDwaWARggfAxUZEJFIDKSQWEJM8xNsiJCmGiJ8JNUwPCpzpaBoQMFQFEyfilkhkEUwclhikrgYJ80wHcEplvmDtAUTuFqSJRY9STIkyegUEzpFhjR5HSdPjDxxCjpOjjgFHaWJL9FnsBTQiJnK6GJKIamWL6Zo2VTejJ7mIrHz2TIRdWFtsLr8+dqeCTM1qBbqp7GTvWixuXySO//qvUvaZ2P/bhDAc0JjAb0wcWoyy6s/egeFQjuguLD5G3y59F88Or6KXfHXERSvxAzCI8ITiWEeWfWfvFTuYmulwt32JWzNXUzziidYtnwfAJmxFXz1dAe7m/dhlmO88wet3PDUSQylCaRk36aN5DZdywVqLV20AKB0wNH80+xXO1izbB+9ZOgPBklQnjbXctaieNqmMGxTGrHxA0nQDn67RjVrgmYImsO43wpBs0CnFMy2GLMk0DNOq7UC35OUfEEZqBgaX0QmlTVobSACAxlYaJVAB2nwk4jARKiqWzGJUAZV085CGRhahm7JFDX3YOhINqTrGEl010vX2IuoMRld7xauGtd1xEZP1dcz2i7y05gR1whRPb5VSELJmZhmYHoqpqPhdDS+ivJUJPdSNfPUciqtRVQuoruXU+as9Yx4UPeXwnRt3LllZrounCnzmrkJLHZTONt2c83n2RxjGmYS3LPod3bdxc3+ubtB+szwbGz+z0aftjL4+9/7oyXts7F/NwjgOaGxgF64yJZL3PCxTzE8Fnr26I3v5GvqXxAu3Jt8A0cnLiFZ7ANtoFE83XSCbf1f4lJxkBalmDA3cLHVQv/K7RhGgOc6bNt7LV9JP0pgevSc7OE3v11m/fgoAIVYnCcvPJ/Kyou52F3JMhEqamitGSgf5ilxlBNpn2XGKOs4ylqO0sfgdKUDIFtKMpFNkR1PUBxxUAWB5XuYno/p+xgqpAXa0qgEqEQUJkEnNEEUx9ZoB7QDQUzgx22wFdJ00Y5G26Ac0GaoY9BAAw008ELF8IGr+YX3/8eS9tnYvxsE8JzQWEAvbFT8Cq//5z9j7+BLQJvYMsf/Nf+V14nH2W5czp2Vl9IhOvBGNwOghOLp9BA7V/wXLbG99BsBVzQto80ukkqNA3Dq2IV8JQvHWg6A1lyyfTXvuW+YzlIWgPGWFrZfegmidQ1XVvrpMaYMIE96o+zmEAeTeXwJMcqs4TirOUE/J+lifNY7ZElyih4G6OEU3QwGHQSBga08ZBCAD4bnY3k+lu9hBAEyUBhBED4qmJYnlQINUmuMwEeqUKZUTHYw2b6eXEs/2jIRMkDiYjJBTIyQsIdw7HFsZxzDKuAKm4lymmwlzoTpU0qVKCbLFJMuyqDmck4CUkDMk8RcB+mnCFQzFd2GL2IIMf0+mAASWhMDbENjGgppBihryuhzYEiUEGgpUFKgRPjYeCSDIklVJhGUiAcVYn6AHSiMQKC1QYBFoG0CbaGw0dpCCFnzWyFFTc4YKt4yPT11wjm3LbvZcb1g/kzMlTvNGp+Yal8vyZsqm977TFt80yDmm8ncs5h/1mdof9Y7zAt8S1qkiFE8AzMuP/F4ll45O7CSt//Op5a2z8b+3SCA54LGAnrhwws83vepX+f+wSsJ3B4AXmU8zF+Y/4+k8LhTv5R8RxJGLqE4HBJBDRxNTvBk1z14PT/il7s8ivmNrGx/GoBcrp0dT7+Mb3TdjWd6GK7Jjfev5C3bjpHwQ5dtp5YtY/cF55NIrODy8grazHbMyE5eJSjxhLmdx5c/QZtTwcotI5/rIK4r9HMqfPRJuhlFzrGJjNHCaboYpoMhOhimnQzNL+jjJl33r0ZUtEZER7nhkaaJrrkhm64eUPUXXHVUJjVIUa1VZ/xYhEeg4fGrqN1jC0Md3TEMHwM1pZ2rwz6rLs+0Do3CKIxaXGOgdBjOMEJSRxBFLV1fNvOq3cxrd3VX86L0C/dn+ZOEF8an+MKYxU8yPKOTD/zZ25e0z8b+3SCA54TGAvrJgK98/uxTb+OOTB+FyZcDBjYuv2Z+g/cb32KEdnb09iLbTEb3/AyF0xfU2hakz8GeR3jl5V9g0ttIv3MQyyoTBAZHD13OfdkYO7seBQHpTJK3/LCdG/YfwYjoy9GVK3lq61ZaY/1sLbTQYraRtJpr/ecKx8nl72Vi4yOM9HYzMrGayUwPILBx6WWIVeWDrC+eosPJEEt6c79jIMm4SUZ0C8Oim0G7i1GjnQwJpCwQFzksHfqplTq07Ca0BC0JAonnmvieQYARSdYkWggCaaIMAyUNdFXDNSJxDTTQQAPPBdrdFfzm/3nPkvbZ2L8bBPCc0FhAPzlQWvGxf3w7X6uMcqJyC0FpNQBdjPMr5rf4BeNHnE60MLzFZTxYzq5D78Q8uoG4F/56GE6W7mv/kWJzGUopepJHAMhkutm99zoebt7OqVToe7dnsJk33Z3i2qPHAAiE4OlVGziyZR1+PMW6nMNK3c2y+BoMEZpdCQIXb2g7ZeMRBi84wKm2PkZGVpPPt097j57JU2wd28cKd4BmJ0+sxcNu8pHzWG/RGkqeQyZIc8KKc9AJOBirMGAbnLINBi0DKcMj13igWT2sufxpzQV7BKniFMtzbc1oRxOjzSsoWB2kSgYxP45nN1FsbaecaMXVbWjMuqPGKKwdNU7le2KM8fhxMvEhMrFxJpIZcvEsSgZRk6mxq9Iww41hVFJorxnfb6WiO1BBE/hpdBBjptxMoEkEAWmlSSpBDJM4BnENCS2IKYUjfIQIUNJHSx8t/DAuArQM0EShCNDCD8WEc68wTAIsPCz8usebMy+k2gEmU+ZehA5JuUBApDyjMQkwUdqIpJGRDFMb6KgHhQzzozoKI5ReVtNR3ap+tdKhHLV66B5KOEPj09U4U0ZlamWhgk0oP60q7FTL6427TH36VSnuT8Il08Y2+EJGt9jN2/7xI0vaZ2P/bhDAc0JjAf1kQWvN5z/6fn4w8iCPdV9AZfhmtBd6z2hnkneb3+PnjR/hd1Y42p/gu86NPHLiXbxuTwbyDtIss/zqT2D2HGBn+SVcaj2EYXj4vsmRw5eyc6ybHV0PkbdD7yGrTrTyprsdrjgVEsNASLb3bWTv5s0YLQbpbIGNlTbWxrfQbHfU5lnRFYa8o4zaexnpPEnRjlMotFAuN097n1ilSM/AEL2Dp1mRP0lTvIjT4mGnA+yUj532MeyFf721Ar8scYsGlXL0VAwqriQoSygaGHmJKsuadm4gIJewyCWbySZbALD88B6iaZoY8Th+Mk0l3oJrNOOJJlwRhTSjxWyXcQAaRdYZZzxxmonEaSbig0zGRpmMjVCxinO2qUIoE8NtAq+FwGvB9VsJ/BaU34L202g/hQ4SzCIjWpMIfNK+S9r3SPk+qcAj7fukfZ8mPyAVeKQ8j2Tg4qgAIXRECEN/vAgVHT1HcTnl95covxYXKqqnI1dferqjhhmSVYHCEAGmDDBFgBSRMWmhMISaFkqiUCgMoafl1epE7cP7mTq6g1kXomtH67PqzMpTtTucUlQNW1d1sKNQhPEpLW4daR1Fx/+1lxbhHwpaUrUno5nyFlLtUWgRHfdLpnqs9jf9k5u+tuYSWS9kyW+OH8YZ6y923LryWV46zixan93nYub1k42nKu1c93c/WtI+G/t3gwCeExoL6CcTX/3k7/DUY9/lv6+2qeQuwR99JYHfCoCNx2vko/yi+UPWtB/mh30X8cctf8JfP34A//hqfCMgefG/09z/KLv0BbQXCyxPhm7kJiZ6OLD/Kp6yhnm67Sk8Izyu3XIkzc/e63DR6cHaHB7r3sTDmy4n1tFCZ+EgXQWfVeYqViY3ETfTtXolXE7IUY4bo5yU4/iialOw3uhaCNNziRfLJAt50rkcsUqZGCWarQJpq0jKLpJ0SsRsl5jjYsc85FkIZ4KKwC8b+BWJciWBKwhcifKiuDeVH+ZJAk+g/albbxrwzTiu3YRrN+FZKTwzgWcl8M0knpXEMxP4UehZSQIjRiEWMBkbqRHCydgI2Vjoxq5oZxf3Aloi/ST4KZSfxgtS6CCF8lMhSQzi6CCBVnEI4uggDjMMYxsaYhocFYYxrUNJogrDmNLhoxWxIAwtpXC0wlIaRyksFWDV7kBWQzUjrRG6Pk/V6FLEpuo+UT0lbK2XvuoZ6ajtdCMxM+uF+aHQdobBGK2nt4O6evXtZtaZqQKjZ7SbOSZztJ05xnz0az4FlLnUYubOn2lG8cwGY6anp7WvfiCzttkzz3+WEsmsJjPH1XPkLdxmbpyhj0W+y/Q+zu5dZuYNtqV483//+xnHORs09u8GATwnNBbQTy6+9dk/ofTF/+afX2cy2iTxsxciRq6j5E1p7fYwxs3GI1yT3Mnd/VfzmmMmwcir6XDg/ku+wvqOOxmjlScK13F97JsYho9SkuPHz+fEsfM5GRtlW9fDeKYLwKoBg5+9P8lVhydq5l+ebuvnO2uupth7Af2FvTRPbmO52cHK5CZWJDfiGFMuzQIUp+U4x+Qop+Q4WVE6p7t4Ak2SAs3kaSJHMzmayJHSBZK6SIoiSVEiQWlOZZSzgatNXCx8TAItw4NPLfCR+Bj4WhJoAx+JUhLlmwSBifINlCfQniBQEqXMqJ6F0hY+Ni4WBVuSdyR5B/KWouAE5C1FzvEoWj4VK2Ca5u6sY+koLpieryxQNko5aG2jAwetzTBfW2hlgTbR2gIVhdoCZaFr5Qb1kkeNQOqQWpqEpNIADC0wo3hN4aWa1iIKIyUYonStjqiViSi/qjhTU1KhrlxPKaxU69aXT6m3NNDA8w+reJrf+NffWNI+G/t3gwCeExoL6Ccbd3/7E/CRj/Lf15jcF+l9GPl+YiM3Ml5egVtnbbmLCa4y93CFOMHa8mvoNfr45qXfZUv7V1BIvlp5Cxe7u1mXfgqAYrGJgweuIjuxnAmjxMO991BwQklV34jFzz4Y5+p9GczIrt+4k+a7q67iO6uuIiEDLph4hFWVIXrsDpYn1rMssY601Tpt/gEBJXuc8aaDnG5+kuHAp1hopVRK4/ux2S+sdUg2VChlCpU8QlMqC0GgiVMmSbH2xCkTozLtmSvPiMwZP9/QUDPdrKY9Yka6/u5bVRt56j7b9PRcz+w6nLEdtTqcIT67DKYbc54vvvgx5jYkvZgx5jYqPR+WSmt9Kfp5Yc1lMVjMUfFz0cdS9jM/DpY38dt//Vfn2Mt0NPbvBgE8JzQW0E8+Hn38mxR+6w8ZTgv+5Wcsxpt9AJKVJrqHX0mxuJrjqpUK0++trWWErQJE2yRb13+N/vRJHuZynspv5m3210hEZG94eBVHjlyCV2omJ30e6b6PTCJ0M9eWlbzp4Q6uenqcVCn0EOILyUO9W7mr/3K2daynxx3mgtxOVpWO0260siyxjt74Gtpjy2sKJFUo4ePHxii1HGC8YxuD9iDZbBeT2S7yuTaUmu0+RAJN2LQFzTSpJE06TlrHSWgbz53ELY/il8dQlQmUl0UFRZRXRnkVAt8PtYWliDSEZz4gpUYaCqPuqaaFCcICaWqkoTGNAEMqTBFgCQ9TBJjCR8rQRZwhQvpmCBUpUUSmXCJVCBGpPzTQQAMvLnxLXchr/+K+Je2zsX83COA5obGAXhzYe/Rxdv3We1l32OVzr2ziwa0lKk4ouWquNLEms5FYbhNlJTmpWjise2f1YUuX3tQg7clxDsU7eEPTw7y0836E0ASBwcmT53HyxBZU4OBTYnvHTo43nQDACDQ37Grlxm0efcOTtT4nYml+sOJSvr/yck4n21hbOMzm/D76yqcwhUVnrI/uWD8dyVV0WN2z5lSQRUbjAxRTx1FNR3GTA+S1T77QRj7XTj7fRhDMrZAh0KSFSZOO0xQ00aSSpHWcJh0npeNYGGgVoCtZdHkSVc6gKzm0W0C7eXALqPIkujSGKmfBL4UaJ886wrPM0B+uRsjoLpWMFBKkBiEQhkRICUY1TthOUosjxJRf3Vo8ypAaUbUMLQjjEOYzlR8YOnykxpegonho0DoMldQoAYHU0QNKTOVrER5ZqyjUEhQ6yp9RFpnpUaEiMap2rB0ealenqSFSUKFWThSv2SScyqqh/n7bVFh/B3FxB8fPZZ0z97EIWdkidskzzeW5ep/F9LNkn/8S0IfFjHO4tJb3/9mD5zxWPRr7d4MAnhMaC+jFg5PZE3zpT3+BG+8cY8/yFr5xlcFTq7P4ZvjrYQcWm4v9LJ/YQMqXJFSGvDLZp/vYqdZSID6rz5XpE7xjw9dY3X4QgEo5wdFjFzE8tBqNxBBFJtMPcXdrBi+6IrbutOS1TyS4eH+BeGXK5t+plmXc27OFO1dcTt6Js6Z4mHWFwywvDyDR2DJOZ6yPltgqOuKr6LBaMOfw8VamTM4eoZg4QSl9lGLqNEUrR9lLUiw0Uyw1Uyo2EwQLOxsWhos0XYSseqyVCG1hYmJrk1gUmpgY2sBAYld8kqPDJIcHiY8O4kwMY1RKc/avrRjYSbSdQBoOGBYIGSpGBB4EfhgqLwoD0AFaKdBBSDZVwItTJ/LZg4Ya6VQyjKsorsVUur681lZQI5Q6Slf7rHP3PPUTmVlvvvbTSGudesmseouhcnVYJNs6mz5nKfUuARbb56LneRZzXPRx/rN8XdTsXMvP3/7NJe2zsX83COA5obGAXlzIlDP89b++k9f8v/0QJHh0bQdPrSny9KosZadKdGCVSrEis562yZUsY4Itej9NeoIB0cID7Ws5qJYzkO9lsNBFoA0u7drJL67/Oi3JMQCK+TaOHt/K2OhKQDCiYpyMDXOq/TEqsQwQSgWv2Jvg+h0m553IYNT9mg6l29jRuYIHl53P0aYVdFaGWFs4EkoGdaglLJE0Ob3Ekxtpc1bQZbXSIW2kmP1NrbWmSEDJKFC2JyjHhyknB8g7IxStSVzfplxOUS6nKJXS80oNZ0KKANNwMaUfPoRhaL3ORyofq1whOVokMVYkNVogOVrEKQVz9qeBSsqg3GRQajIoNkuKzQbllKCcEARmWGuKSEQeQgKQSiC1BqWRWiKUQCiNVFUFCIFQoipABK1DW4RC1xhHaLWlettNR+wnkvjpUDtV6PDznJKiiWkvUDV9Iqa6qilcaD1jb66vr2f3V4tpQe0W3jwKmmJGupqYVn8OiV99/ekavvPUmbPdHFuMnl139rhzv9O80rhF7WRzz2Va/8+g3zn5z5nazVF+Rh41Z5/TMxeWVlbZ8iJe6kyfy5K1OfNcyqskN//LY4vpbdFo7N8NAnhOaCygFx/KfpkP//AP6fr8Xbxip2Tnyi6GmuMcWVZgf3+JkeYpe3QO0O83s2psE4liNysZZTP7aVpzlJE+idIChhKUjvRyW/rn2RB/kltWfJ+YHfZRmOzmyPGtTEz0AgJXS44Ii6Ppw+TankDIUALYXNBcuauZq/bClsHxaZbsDjUt44nuDWzrWsfh1k66vDH6igOsLJ6ixZ9hHkXYqOR67MRqmu1u+sw0K7BIziEprCLQmrxW5KRLQZYpWXmKVpaClaFkZimZOVzhoRH4no3vxfBdBxVY0XFgHRkCqtfk6+MwdTQJCtPwMLWP6XvYFQ+75GEX3DD0XEzPx/R9jCDA9H3MIIxrW6IdAxW3UAmLIBHHS8bxEwm8WALfcgg1diVaGaANtApdvVENCV3ThaQqNJIcMsrI4HFUVq2LlpEtt2p+dPZa3xYd5tXImw7jQtfyahSujuDpqoir/mC1jjhN2ZCbISpjRptnVQq6+L7PUj73DPAszuVsJVyNXXVJYaXv5l1/e9uS9tnYvxsE8JzQWEAvTiit+MTOT3DPtz7Be+4M0LqZvb1tKCnJJD0ObKpwsDdHRbm1NqaWrC6toKfYSSIj2dKTYeWGnQhD45QDLng6y8Pm5fxR4r1cI+7hxv67sc3Qb3Ahs4zjJ7YwOhG6gAPwUWSsYfY0H2Y4dbq2AbXkNVc82cyVe+C8GWQwZ8V5vHsT2zo3sKtjLWXboK88wPLyAMtKAzQF+VnvmjeS5OMrMeIriNndtJrNLJM2KzHoRmAuYucroRlHM4ZiDM0YmnEUGTTZOZ7yPP1MmQWerlM6J2GcVmc60Zy3T12XJ2bGdURCq3cI6/RfRe3QMawq5tB/ra8/7T7dzH7q3kNMf99Z/czV54z8RWFadTF/0TTM+DQXNeRiWdJ0qegz7XNW06kLjWc/jzOh+iNd6GM56530WT43Xcr+l/Tnf/a4OHGQj//Bny9pn439u0EAzwmNBfTixrcPf5sP3/8nvGxbhZ/9seRoRwcjTUkg1G7d/bJ2ZNeTHKpUGPWnS9FsT7BWpHnz8gxtdhmlBPahFlYP5vhS56v5f+613JS+i1euvB8zMhhdznUycOwiBsY70TUDxJp2RpDOfrY1n+bxhEBFu1C6qLn8gMUV+202Hy8Sd/1pc5h04hxpXcaJjj5GenrQTkCiMoZdzmKUS1heZc6v7KKMM2a3MWG3E9jdWHYnCauZDmnTg6QXSTeCNiTJZ/ClX0GTqyOERTRFiEJNqS5eLStF8UrUvgK4tbCBBhp4MeNlHffzH7/710vaZ2P/bhDAc0JjAb34sWN4Bx+4+wOUM2P83IOay/bH2NfbQcmOlCRMA/tyl46NBzjgGRwd62GfqpA1Q3dwcaF5W7vL1nh4r21HqZkHhnvpyrscsl/P4EQ3r2r/ETesvJ+YFSpEeKVmRo5dwvBINzldr4yhkbjknEGOpI9yKDmGH/mmlUqz4aTg6v0OW45rlg+Xpt0bBMhbNkebu9ndvp5dHeuYSKdYpYfp807T4o5jlgsob+77dwAYgsCyKZoJslYTo2Ybk2YnZasbRzbRLiRtCNqRtCNomuOxniUpQQUVEUKFK1QtdAkfhUJpjdJhXCsNOgy1rqajuNZRC02ADkOhUUTat0SKEFFZqIggIs1cTRCd3CrCU9mwrQiVJqSulYX1BUH1BBmBjuwmTskc9az07Gt+aupe4Rx1ohnW8jSzJVn10szpeTPqPdtCqxcwGhvl8wczeZJP/OE/LGmfjf27QQDPCY0F9NOBgfwAH7j7A+wd30uyqPm9ryosr4Vj7c24Viips7Ri2coRml+eIV5Zjbf3TZy0vs0PgkGOtJtc1DHOa1tcDAHjvuDzYzZHXQNfdlMs/hKxgRTX9TzITf13k46Fd/d0YDB56mJGT6wn7wbkDGfavBIUKJpZDiZGOZweIGdPHfE6rmbzCcklR+x5CSHAeDLFqdYeTrV0M5Du5HS6nZIpSbo5km6WtDtJkztJPJhbW7cKKTQxI8A2FZapERZo08Q1HUpGjIqMUTAS+CJJQBOSJJIEUseROBjYSGwsLGxMEkACQQJBvC5uAw4Ch9D7RQPPHDXyGqX1PE+1TNXXq1tLi9HJONs6VUIbxuce65n0eTb1p9dZmjks1bhn289CZWKBsmfS38KY/QfMYvC0f5wP/v27ntGI86GxfzcI4DmhsYB+elD2y3zk4Y/wjUPfAOCaJwP6x1tZc8phOGHjWiYAhlJ0mjm61hTps3+Rfv9uvjtWZkfH5cj2AS7cuI1mu0ig4Tu5Fu7OuCgBvlhBMfuLmKfTXNa5nVevuJ9VrUenxs8sZ+L4ZZyaaKEkisB0Tx8WRRLGEAUrz4m4z1OpISYjKSSA7WlWn4atJ202Dhj0D7q05uY+PPVMk8nmZiabm8k1pcml0uSS8VDqGXhIt4JwK0ivgnTLSN+bs5+5oIVASwOM8BFSIg2JkAJDgoweDANtCLRhoA2JkkZodFqEvkWUCs0+S4xQrqhNwAIsRGR6RmIgMZHaQCCRkfM0GTlSE1Gu0JLp/8ISo66mjB5B1b2aiNymTeVNpSM3boRauxKmtZ1y1zblzq2+DKYcx1XvP86lvd1AAz8teKB4gLd+9N1L2mdj/24QwHNCYwH9dEFrzZf3fZm/eeSv8FEsG9W4TpxXHdvK2tFDjE4mKVtT3jlSpQq9ymeDneOo4/BE/8tQScn6jY/S2XEEgIOs4yv5t7Bs9wBl/0729naRLb0JBptZlT7ODSvu44qebZhGeL9PK0lh8DzGjl/C/rKgYmdJBg6mNqfNNW/mca0CjhAU7CL7EkcYdsan1UkXNesGYP1pm9XDkuWjAZ2ZSugqbq73BwrJGNlUklw6STGRpJiIU4jFqcQcKoYJSiF9D+m5iGoYeAjfD234ncvnDyAkOmKJWkShlFP5M8tD689oIaJ4+NTKEHVls+tBSFojzZBwIiJSORHU+oi0Op7dM9Ip3ZJw3nUawVO59dq/VemOqCudMkNTra2rMQ1Ca4TWSC2ombapKq0QmtKpV7ep02up9VRNi7rsmZ+KqM5Kz1BwifrQUd/T9Jp1/aG4mDIvU1dp+jizP4eZmK/+rNw5fiVE3f8X6nXePudIiflfZp76U5+JWHDc+cvmK1lIwWWhkfQCn8xCWKh+jFP84j/93Vn2uDAa+3eDAJ4TGgvopxM7hnfw299+P2OyiONqfCl4afYiLlt3knv2vIpNTz6JU56sKWtASAZ7JgvEtMRNN+Fe7pK+5hiGoXCx+TK/yOip67j0ga+RN3byyNp2Tsqb0SOdJGWRy3u28bLlj7G6+Uitz8BzKJy+gIlTF3CwYjPpDGEKj2a3Ccl0pZRA+FhSkMKhYOfYnzjC/uQRisZ0nVwj0PSOw6phyZohk+Xjgq4JRceki+OdmcBl4zDWJMikBLmUJJc0yCUl+aRBPmFStk08wyKQJrYncSoSyxVYHpiexnQ1pg+mJ7B8MIMwXHhze+EgvA9IzRZhzaIMoCL3eFNpai7zgBlhXX6YnDqOrRLTKL/apvZFXr1PWK9sO1e9uvZT81/gc66fzxxYtDHgM/VTq7cIDeBzWBbP1Hjx2bSb/Y6LIXjnpBz9/7f35nGaVOWh//fU8m69TnfPTE/PzrCD7MoaUEDRiBE1iKhXuJoYjbjnxvUXMLmIJtfcX/K7StQoaJaLSVyCYVFcwAUUGGZgGGCA2beenp7e37WqzvP7o+p936p36elhBgaZ8+VTU1XnPOc5p04XXU8/55znzFK2RaH4O7K/Omer47n2yRzLZTIDfPn6m+deyRww329jAB4U5gU6ctlb2MtH/ukqHsuE+/oiwrnFlZy3ssgXUp+hWMlw5SP/lxOefZzJfDbxYXUCTd9MkQFrmuzlUwTHhwsvpvb28dDTryIz3kXflt8y2l3iN8d0sqHzMvTeZSgfFub2cN6SB7lg0UP0pidqOrXvkt9zElM7T+PZyomMZDWV9ASuN8mCmRnsFv+XZ8SiRzoRO2AqNcX2zC6ezW1hOL0X3RhqRISuIgyOwZIxi8X7HOZPKfqnYN50QE/eI+XP3cOngXwmfijyGSikYSYDhYxippqXgopjEdgWvqXwbUVgKbSysMXCDhRO7LADK7zWYXBnW6JA0FphabBF1e+jPDt2Xb1XRF4oUSgBK3Y2GAwvHLuOyvKlm/79kOo0329jAB4U5gU6svF9j7/9X1fyLwufRVuhUfAKfyEXLoGb3E8zofpYmd/G56a+xuTkLqY2djKzqwM/sGNahIHjxhk6bwQrJeBB6qcu8+4E21d4lkUxZbO9r5N/Pu21rOs4lcBzUGhW9GzjjOXrOGfeI/Sl9yXaVppYTH74JMb3ncRTHMvMQIUgVSIojjMwM0ZXqfWiDksUXZIlrWy05ZN38wynd7Mjs4NdqVGmUm2i+InQUYL+aeifEgambPryNvPyFr0z0F2A7kJARzEgV/IPmT9P24J2QLugHQhcIXAU2o7yopW3QXQO9+CNtjGzq2mE+VG6UD+LFV4HSqGt8AhQBHb13kLboTGqlYXYikApBAttASi0WNG+vKAjt51EQ7i14WOJPHtS7c7q8Gzc9Rc/R8NsDe7B5p09VFNare8TQadbOGP292WIuyBblT8gPbNomusX6gC+ZIkaZi23nzd1lrJq/yJ12efiFpur8jnVeRDM0vZZn+QA6l949HL+5M++fgCN2j/m+20MwIPCvEAGqVS488/fzv866ilGe8Jfdy+nh4sXudzofJZx1U9/fpKv7PwRwVHfR1sVSnsz7HloAaNjC7GLBZRoUp0Vllw4TPfScOFGecJl9Kf9OM84dJY8cpXwyFQCfr30NP7vya9hl91XbQWLe3bz8hXrODv3CPM7dydGz7TvUhpbSWH0aAp7V5Af6yGgSJCdoeh6FCzBUUE0na39riCu2OQkjassUGXK9iRjzjh73En2pCYYTU+QT5UQa/ZfKUoL3UXoLEJHCTpKQmdR0VO06SpZdBWtML0MuZKQK2tSnoSHr0l5Afup4ncXFT9LfRVILE/F72PXKlFeklMSa2WbJ3MlzUASX+3EBzwRALtFmyMdqmV67LaF5dF2tFclTi3b2LpR+9HbJHhgL9QBT/U8QPlm/ftp33P4i+rQP8PsEwX3W3wWganlqzjuKz/fn4YDwny/jQF4UJgXyACg83nW/vE7+MqyZ/jtCaEBdZrj8tqFHdxoXc+YGqAvP8M/rtsBx3ybYt8GAEqjGdY/80pKM510FUZY5G7A69fMf9kYbi4cFh5/pptdDy7Am6nHA7S0kApgRuX4zaKzWN91HJVYvMBcV5ETlz3L+emHOD63gVQu6e0TUZQnF1MaW0FpfClqdyep7QGdE7txvD2INUWhI810dxdT3T1M9/RSzMxt/9+0dsgEYAUV0CWCYIayniJvzzCRKjGZrTCV9ZhKV5hJlym7Qbhz2oEgghNA2oNMBTLROe1JLc0NwmDcqUCR9i1SfjiX0A0UKV+R8kMZp3oOwPUFWxMNBRNdh/sFh2lSPyfyooUTUXqrcDsGg+G5M3rUAL935y8PqU7z/TYG4EFhXiBDlWB6mqf/29u4J7OZb1xmoS3FqRnN6wZ6+by6gX1qPr3FIl99uEx/333sOfbfwCkhGnZuP45tO04n55d4a/p77FvlsU33kFtQQinwA5vNG1cwsqaP3MRM0x/KAmzPLuaR+WewwxmK9qmN8tKKBUsmOan3KU5Xj3JUeiu5joY9ggHRisr0IkrjyyhPDeGN98CYiztaIVfaR7Y8iugpPDugnO2k3N1PqaOLYjZLPmVRtPWBT6oXSAWC6wc4fgV0BdEVAinjU8FTHr7lU7F9KlZA2fEpOx4lJ6CYCig5AWU3oOQGlByfsuPDgRqTzxcisTmE9cOqXjfmEctrSE+Ua1G2rU6phqKpHlKTg6TTq3pdHx5O3jc5Dts54oTYMLOKyamkQzNKt2LD13Gvrmos26oNSDROX29LfLFQuzY2PVub/GRemzbszzE3u1Osaei3cWh6VsfoAene/xC/avgf+ID1tZFtJdfUbw0/60ZK2Xlc/5V7ZqnxwDHfb2MAHhTmBTLECSYneertV7J9ajufucam4irOyPm8pq+Xv1Z/wR61iM5yhZtXlzm6so/NJ3wTWbAegHI5w+bNZzK9ZxHvVD+gq2uUhzsHmOlw6RwKPXiT0sN35SrWTJ/G4J5dnLzhEZYMb2Oe3Q2pHEW/xHRQYVt6gKd6T2RHajEB9fmGYoGel6ZrfpFTc+s4UZ5ghdrGQMc+UtnWc/sksKnMLKAyPUh5ehBvZh7lmQyVfIpKEYQ8ysrjOSXEEdJOF67VQYoUtnJAWQRKESihrALKyqOMh6dm2XHkIFCiQ48cOgo7o0HC/TzCvT2if5XUd/pocR2e67IBGq2qR11OYveiBKF61lCTifYMacivlYnKE0+jfkZJtGJYg6KmE0CraOcQVU8Ly0FtV5Gq1WXWrhh+Rzl++wr+/bM/PKQ6zffbGIAHhXmBDI344+M8+bYrGBsf4c/+yKaUVpyZ83l9X46/UZ9lm1pJ2vP5+0dKnDkhPLXgZ5SP/j6ZzmkAJicXsG3jqbx+5gGOYQvD6SwPlBaTPi1PuicMuDwsg3xXXcUDnE+6XObkDY9wxpNrOI9VLJ93GpOd+xgN9rIu77PGKrPR7WRcL0UH2URbJW2h56XRvSkGOsY4NXiMY4OnGWIn/ZkJcp3TWO7shppX7MHLD+AX+vBLPfjFTvxCFq+YwivYeAWLoKgRKeLik1JC2nLCw03huBksJ4OyXcR2kCiun680Hj4eAZ4K8PCpqCC8x8dXAQEaPzKsDHOg1a96Cf9p9g61cdFIw32jTMv8eFlpKNFKrt3Ps3EXifY/9+bP2mzvSOu8Oe1ZMdvnU7XOl+fYnrmXn5veudRy4FoPQPoAQtkU7C7+/sYvHVBN+8N8v40BeFCYF8jQCn9sjPV/+Hp2BhP8P++0qaRCI/CKPof/rT7FBnUidqD560dLXLQ3YL2zme3Lvs+yFY9jO6HXZnTvMlZsKXB28SkANpb7eby3h8zJeZxoX+FhPci/W1fzW85FlM2yHRs584lHeN1YjhO7zyJlZ5js3M5MdidbvRK/8OBxnWGYHiqlIRA70W6xFbo3hfSk0N0u5BTL/FFe5m1jld7BQns3Xc4oaXeMdGYM2269k0gjoi38UjdBpQNd6SCo5AgqHQReB0ElQ+ClCDwX7VnoAAgC8AWlbSzfxdYOtrJxlB3t/WHjKgtb2aRwcJSNIzaW5aCUTXV/DVEqjMWoFD667sVDar7A+HWgqv7BqkdQN3sDaxJVLx2xO6JdeUPfmyT+o+7Za5WHxPRCzfwwXjuDgSU6yx/95ScOqU7z/X6JGIA33ngjd9xxB2vXriWVSjExMbHfMiLC5z73Ob72ta8xPj7O2WefzZe//GVOOumkOddrXiBDO/zRUR696vd51p3h828NQ4WclxXe0B/wZfVx1qizUFr4xFNl/nC7x2P2VtZmH+GoBb9mYNUoSoWLNSqj87ho47N0VELDcIO/gGf6crjHF3AykbHoDfAD9w/5FRfhqRTZYp4TNq7nNTsLvM4/hg4nfDd9q8x012byuZ08o/P8rOzybKWbEd1NubIIdPNCD3EUujuFdLvoTgfpcJGcTdbTLClMcKw/whLZS7+9j057ipQ9juWMkXKmyDiTZJ2ZJp0Himgb7acbjgzipxDtogMHCVy02KDt8CxWOBdSqnObFIhCSXXDtuo8MwvEimL92SixUGJjRTrCreLsKAZgtH2cAoUV6otCbluR7uphIYCqxQy0JFxua0WRoJWqtyucuxdrUzT/rXoNgpIwdIwVnZWS+tiuRHFkqtIS7vchhFvIVX/BVx1w9fv4HhyARKVigabjsnWfmIo5tlTMaI3XJbU8aAhqXdNX92Yly8Wa1HA1V39aq9RmmXaevwjVWPtcyu7Py9Zcsl0tc6lzFh9o25wDl2pf//NRttVc4v7u3Vzw5598zvW3wny/XyIG4PXXX09vby87duzgG9/4xpwMwC9+8YvceOON3HrrrRx77LH8z//5P/nFL37Bhg0b6OrqmlO95gUyzEYwMcHqt76G9dkZ/vcVFmIp3pTJce7AOLeo9/ELdTEAV2+p8JENZZ5iDw+4j9Gbf5wlZ+xk3tAoEO572zPlc9LTk3SUQqNvB708OtCPu2oaOx2mFbws9/Ba7nTfyIwK3+HeyX2csWUrbxzr5NzyYGJP2YCAfHYP+c4tjGd3cV9JWJOfx27dzXQwD98baPISVpG0he5wkQ4nPHIOkrWRjA2WIl0K6CxpessVhvQkC/QE89QMHVaelDOFcqewrGlsu4CriqStAhmrSFqVSKkyrlXCsea+x/ALhejQsJQw0CAidmQ4qXCSpShEomtUZIRG50imlt+mXDKtWq7agvpkvlocwVrjmpc1SNPXtEG+ajtWs6Rq6NWNTxoMRSUKVN3oi6tI1iLJ+hJpyaHAJh2JCqMN7ETt34yILZyQ2FWtbxpD3Ei8aEy+umglntTEftyziTLRz1A1tKXtA1Xrj/VhU1ujn0BjPYkfaLItzS1ueGZo2GJwlvbF+qm9TKS7prO15sT2cU3PAwPzBzjv6r/ab6sOBPP9fokYgFVuvfVWPvKRj+zXABQRhoaG+MhHPsInPhG6lcvlMgsXLuSLX/wif/InfzKn+swLZNgfwUyeB698JQ935/na74fG1PtT81m1YCt3qDfzb+odAPzeiM+NjxXZVSrxgL0eNf4InQOTDL18Dz294W4jItCV9zjumRl6p8Nh4Akrw28HlqCX5kl1hAaTH9ism3kZt3e8haedE2pfse7pCU4eHuU14yleOd5BJ80eP09VmE6PUsztZji1nQfLJdZXOtihB5jW3VT8HiSY/V2XlBUag1kHyYRGoaRtJG1BOrzGjn7hB4Lta1xPSHuajCfkfCHrCzk/oJMSGVXAdgpYdgHLLWLbJWy7hLI9LFXBEh9LBdgqwMHHUQEufjjnEA9XPFwquMrDic42PjYBloqO+LUKUMrHMnMLDYYXBSOTV3D1m8wcwEPNEWkAbtq0iVWrVvHII49w+umn19Lf+MY30tvby7e+9a2W5crlMuVyuXY/NTXF0qVLj+gXyLB/dKHAr6+6kF/1F/jXV4VG4J+n5zPYv5MH7VdwMx/EVymOnQr42zVFSpM+D5enqVR+CN4E7sndLF35FPP6docKRUiXNSu3FhjaU0YR7iv7cN9iRhbbZHsLtbrHpnv5deX3+K/eNzHj9NTS06UiC0fHOWnS55VjFU4uZuiXThxae/wKqsiMO0HeGWOz2sOjVoGnVIrd0kVed+L7WQKvC3S2ZflGxFGRUWhD2kLc8MC1kFR0jt/bilkj14qgfMEKYvH4omtbUzs7Ep5tLdgCThS3LxHTj6rPK8BGYxNgWz6W8iPDUGMpH9vyUUqD0qGnRoUrf1V0RmmwouEvK7wXBcoKVymHbhEd1hWVU9WB16ou0QlDVMW8O9XrZh9fXB7qnqLIzxI5b+reLUnoatRb1aGohpGRBhlJeG7q5aIEaWxTzHOl6mXjz9EwcN30nK30NclLG/l4RjuZBg9l/dmSdbUMcdKmzS0G3Zvu99uWg5CZS18yi07VIDO3dsUz6u9Dop6EV7Z1W0a8o/nMm7/Ysr7nijEAwTncDTgcDA8PA7Bw4cJE+sKFC9m6dWvbcjfddBOf+9znnte2GV56WLkc5//br6i883xmflPi9nMs/qY0wsfHFnJu7xr63b/gb+RTPN3dw387J8dNj5U4eZ+wYfIqPO8neGuf4onRc8nNL7J02ToGBnZQztg8dVwXTx/dycK9JVZtKvCKfTuRfTDSleHRwUHUggJ9XRO8gR/y+/5/sXPXYn6rz+OegdeRz3SzbUmWbUvgLsCdLpIdK7FqYpyzJkqcXBEWk2JAd9JJhpxkyVWyUFnESk7i4ujZBKFAmbxVJG/l2eqM8IRbYLMdsNOyGZcUZe0S+Klo3l4HiIvyBeX7kPfn1IeiJPxtZSvEUeBYiG2DayO2AkeBbYVzFh2LwALPUlA9bIW4Dffx/OrI6gFvj3CYEalN1qsZe4l7mkcERdoObSa3jWswMBtsosR9/KPeONzYspzUB4+lMa+F/lZtaqo/XrbBeJnlOVtvldfGkGyUrRmH0tSmeDsb+0I1Pncir/194u2Uhte18Zkb9MTb04qmCQTSdNFW75zSq/ft6m943nj1J/j7WpQwHCwvWg/gDTfcsF9j66GHHuKss86q3c/VA3j//fdz/vnns2vXLhYtWlRL/+M//mO2b9/O3Xff3bKc8QAaDgbtVbjrvedzX0eBu15uoUT4UEcXq7qK7Ell+JJ8ku3WCmwtXPdMmeOHH+fBUolFwyXK5V9QWbAUb958MpkphoY2sHDwWRwnMqBE6CgELNteZNFI6BX0HMXm+V1sHurC6ai/t37JZueeRTxSPosHen+PXfOXIVYygrKTLyOTPtZEhYGJAifli5xklznK0gyKS2+QoyvoJIXL/hCEEh4lVaGAxy41w2Znhu12iWE7YEzBNFASm7I4eNol0Cl0kEaCLMgL93eqJKIttzksQEULG1RkPFoqSot5Kmvn6J+a+y1WDurlqsTSm9Ka7lVzXlt51VZGWqQdmO6GjP2Va2Vot9Vb9zkdimdt3779tKmxb2Kn1v13MO1p8ayzPvt++r4hb9aP/mx/BM3176NZ5dT+ZRryjt4ywq/++LVzrHxuGA/gi9gAHB0dZXR0dFaZFStWkMlkavfP9xBwI+YFMhwo4nvc/mcX8gs9xY/PtFAC78+mOKHDoZCb4hZ5P7+0LgTg0mGPN29az9d7v8vLNp7Igl0b8Lt7KA0uB8tC2R6DCzYxtPhJcrnpWh1KC/MmKizbWqR/2keA6U6b7fM72LUgi5Wux/bzyg4TO7p4ZvoYHkqfw+YFx7K3fyGNewJbQUB6Mo+a8vDyCjXto6Z9FkqZUzLjHOfkWaEC+sWhM8iRC7rI+J2kgw7aRfffHx4+ZTym8BlRZUbsImOqwqTymLECpgkooCkooSiKEooyFh4WPopALAIstNi1Q2IH4jL3L5rBYDhcdPXvZd3/uPaQ6jTf7xfxEPDAwAADAwPPi+6VK1cyODjIPffcUzMAK5UK9913H1/84qGdZ2AwxFGOyxu/9EvkLy/GX7uPn51mcXOhwnt8j1OD+fxJ199xtN7At9W7+cmgy5Pdp/CnT/Xy7RP/F+4ym4sfgdyWJykuWYWkMuzafRxPTp7GUnczCxdsZsGCzdh2wFhfmrG+NFag6Rv3WLK9wEmbpzhx8xTjPS7D89MMz8/ipn3mrxpnPg9yjn6Iid3dTD3YwebyKp7MnsTOwRXsWrCUSjpDsa8b+mLPIprxfJ7fTHfwwFSFoChUijaBB8oTOpxpBrs2coyzj5X2FItsj34bukiRkRypoBO70o3t58IjyOAEGRydBsDFwcWhExiSLpjbaPGcEYQAqAAVhBI+RTyKyqNkeZTRlJWmgqaiAipK4xHe+0ooo/ERvOjeQ/CjmIE+1R1E4juKQBD5XupxAjmAQyXKEMujxRnqs9Qa/8pvmsWVHL1NzG6bbdaaNLiUpOrtkng51STfyusgUbnWdTUNzCZFpTm/fp904yWfOfkHgDTIJnRIY1qz7poeaZ1eL9/o3mwagG3q21ll2rr22rsNWw7s7t+V2Sbt+f1DqtObeF71H6m8aD2AB8K2bdsYGxvj9ttv52/+5m/45S/DTaOPPvpoOjs7ATj++OO56aabeNOb3gSEYWBuuukmbrnlFo455hg+//nPc++995owMIYXhsDj9i+9hrv2jvCrky2UFt7lZzlroJOgZxvPcAz/J/gko04vthbesWmCR+VGRq0RLlqzgKGxHKWFy/B7wz+S9nb2MDloc8q+TfQ4E/QvfJbeecOJCe9WIHTN+AwMl1g2UgaByW6H0f4Ue/vTFHPJBSDlcorJ3Z2Ud6TYPTPIZncVw/1LGBlYxMjAIgrZzraPly0V6C7kyRZLOMUKQd6jUhD8ssIr25R0CmxFjzvJfGcf851R+uxxetwpetwZeh2fbhs6LJuMckirFI5ycJSDLWlUkMYKUig/jQoyKD8TpvkZlE6jtI3SDko7WOKEMfy0U4vxZ72Aw8oGw5FIPaR5PI2mtNnyqterM5t56w3XHNL2me/3S8QAvPbaa1sO2/785z/nla98JQBKKW655RauvfZagFog6K9+9auJQNAnn3zynOs1L5DhoAg87vzmFfzH5i08dFw45Pr28Xmcu9wi6NlOgRy3Vj7Gr9Ohl/rUsQoLd32HtV0/5synejl5cw9e1zyKQ8tRloNvWfx25QnMm7+dU9aNMq+YIzewia6FG+jt3dOw+lHIlDU94x6DwyX6p32KWYvRvhTjvSnGexwCJzkM7HkO0/s6qAw7FEYyjE4PsCu9hLHe+Yz1DjA2bz5jvfOZ7uzZ76PbvkdHMU+uXCRXLpOtlElVfOyKhyprdEXjlYVSSRP4Cl/beMolUBa27ZO1S3Q5ebrsGTqsAllVImOVyFhl0laZlOWRsj1cy8O1PVzbx7F9HMvHsqorexWOUtjY2EphKwelLCylUEpFZ4sw+HN0raLg0cqKgjyHwaHrAaXDXUhUFNNPRXECqQ6ES9SntTRFPKBz6Eexoi9fKBsPZF2diKhqkZWrMtWflWqjGxTJn2eruIGN96qd92nW9AaPVwtPmyIZTLqaVtUh8ftaepv2Nqa300vdMxd7wgYdjezHEzbL11NoM/nhQOpqkJWa5P48bvub7NemfMu2HYh3b+6eyPZam3O2Oet5zadNHMBDzUvCADxcmBfIcNBozQPf/e/8w7qHeWRV+IF+y5Z5XHKqg5cbRjtl7q/8Prc411K0bdKB8IZ1m9jt34WUn+Ts9T1YVpr84uWQ6wVguKuX3xx7Isd5T7PyiQkWVlLMsyxSfVuxFzxJb98OHKchyLII2ZKma9xnwd4S/VMe+U6H8V6X8V6Xya5mgxCgUnYojGfx9jmU9qUpjqWZnu5iNLeAya55THX2hOeuXqY7e5nq7KGY7TjgbrKCgEy5SKZcIFMuhedKhZTvkwoCXB3gBBo3CLC1xtH1kDAqEHQUaFlEoUWhNeEhFh4KXyw8LQQafIFAC36TIVHfz0CJYEVhWpTocOcPS7CQKExMGOrFVjq8J0yzVYASwVYaFaXbSidkq2FWLCK90fLP6nU4R19i97HQNSoK1aLqg7xWtLClPvhYDQdTLxfKx2RUPL0+cGrV5CS2TiHSWZ3bX7MaYwOlDd/02kCsqj5ecglo2/vYj6RVGJJaiJlafS0Ga1VDmqrLtTK3km2PDd6qxKmmt2nwXMUuWyyBrf4sEmltlso290uLulq0KSkbV9imPe1oesb9y7bV3UZJqwHqff45/OkHvjyXWueM+X4bA/CgMC+Q4ZAgwlN3/Rk3rLmL9UvCYdjXrU/x9lccz3h2Azo7zkgwxDfLn2VdRxi66PiRKc5/eJQZ+7f0DT9OR1FRmTdAceESbOWgEdYNdvLoyjM4ae8uTtqyjYzv0aNzLNI9ZDrHmBp8kq6+p+jMjWFZ0tQmxxcyeU3PuM+CsSIuMN3pMNntMNXlku+wk6tXY3glh+JkGn/SoTzlUplMUZ5KUZlyKXppCtku8rlOZrJdTHTMY7qjm0K2k1Kug2ImRyWdppzOUE5nCOznb7hWaY0d+Ng6wA58nCA8h0dQS7dEY+nI2NPRIRoVnatpSuL3El6L1K8JjcfqQmOL8Dra7yO8juL1WRKLvRe7rpZRVV3E4hc2nBtlreo1cTkVtUlCD2e8DIrq7hVV/yMQeUKFcJcO6jkJ51iTNRLv+dpJancxk67ptYrMgpbvW1JXonDV+FLJ9IRcPCZObRu8FvXEnqPZwdU+al7dKdbCtGnxPNLULkJvaayZjdcth1SF2PO0Eoi1rVGgUWfjr4cWquplmxsU/7mqRvmYQDtj5PSzTuMtr7ugTe5zw3y/jQF4UJgXyHAoGf7FF3n/I7fy7LzQ4Dn/CeFjQ69m11GrCTp2IsCvJ/+Ib3deRt6xsLXmwnW7OfNZBz39Q+zSFrTjMrFsMW46nBs448zw8OAU2weOZuVkP6ftGqWzXASgQ9IsCfpJ21l2DY4S9D3Ooo4n6c3sxbZ0cwMjozBVFHIzmp7pClk/IHAU+ZxNvsNhpsOmnG4dTLqmJoCg4ODlHcozLpW8S2XGxcs7+CUHv2jjl2yCko2g8ByXUjrLRLaXqWwPM9kuiukcpUwWz0lRcVP4bgrfcfEdB99xCRyHwLEJXAdtO2jbQlsW2rZbfnQNB4nomGErUDUow8zQWIzyqsYmEJ0lYbgSv66WrZVrTK8bx8QM5SpVmWRMQ4k5p6rXMZOv2u7Yp7GmH0nKtNEV1h2/bm5TU6DsmhOvsY5kfXHdiTriz1mrL/ksahZdifrjzxpv86x9Uu+HWl2Ndbe6T7Sj9f35XYv48HXv4lBivt/GADwozAtkONRMP3Ir7/nNTWzIumhLcfx24TMbjsN7e4ap1IOgNFPFY/iX0if5VV8vAL0zBS56tMAJGx8nKPwcCCj39JAfWopLGCZpT2YPj/U/xlhHNzm9nKPHOjlmPIMTLYZQopgv3fSpPnZ0z+PZwTJOx+O8zHmMQWc7OWcSq5VRCCCCFYBbEVJFyBR9sr6PI0JgKyopi2LGppi1KKesuRtgAlJW6LKFLtn4RRuvbOOVHSplh6BiE1QsdHQOD7t2RjfXU1EOFStF2UlTdtNU7DRlJ03FSeM5Lr7t4tkuvu3g22502ASWjbbCc2DZaGUTWKFRKap6juL5Wap2LUqFMRZVGHhagHjcv1rcQFW9BmiIMUg1H2LjrPUVt/Gyql5HLT0u31R3vA3GMDa8ODl78w7+892XH1Kd5vttDMCDwrxAhueDYNN9fPJH7+UnaRffVgyOCZ/+T5vl73k9W+bfhaSmQNts3v0+vjbvIrZ1hB63pXsmuGB9niUbvwfBHsSyKC8fpJIZRGEhCJu7NvPEvCco22XAJhcsYsl0DwOlHvrL/aR0uD+wEkWfdKJSfWzv7ePhhfMYmZfn94K1nMk6FrCNtBrDsstzshtUINgeOB6kPI0ThIeyhMBSBLbCcy18W+E7Ct9tnm94wGggAHwFvkIChfYV4iu0b0XXFtqzCHyF1hZBYKEDhQ7C6yBQiLYQHZYXDaIVOlCIVqCjuYUakHBhg+hwCCxMr15X02OyOlqUEFpsiaZXk4S64VdLU3FDkvp1tWx82O+A0kN9WkVGLYTGLBYo0NVzZCyG8ipKjzaxs6KZiSo8Y8XzI5m4cUxkOBM3TK2aP0436BMVM7SruqqD2rX0yLClQW91/LFqYFfToF6+9hNQMd3hUHitTIO+WsiX+M+FFnUmhqpbDWknA4LX2xMz6lvJoaCx7TW5qMLEz7xad9T2+B8SDeXrbW3Irw3lNj8TDXUk7hPP0Tjkq2pNbfCRcuHMTr7xgWs5lJjvtzEADwrzAhmeN/Y+za3/8Rb+33ToRessCv/jPwJOXXoqo1dVmEk9CoA1uYpfTnycby1ZQN4Jf3uu2J3nwtVrWbjjbkCQXIZg1SBFPxwW9q2AZ7p38Gz3Y1TsSqLannIPA+UBuivd9FZ66an0YEtoYKbExXK7Ge/o5Zm+eawf6GUmk+aymQd4ffFnLGEjYhepZMB3QRwJPxTPxbGkBcsHO4jmt0lsThxS//hGBom2QFsKbSu09TvoyZLo0PVrJbH0qqVXk4lW0dbS6vkSuxdRNZ1VY1MiS7JWvnadjJFXlauNDjaUC9Ni+dWPfN2yjJWr64jH+6saT7U2xeUb82JfKmmoVySZHqqpl0/qqre18dnqDSXRluZ+iNGifc35DUltVwI3yyf1NpRrVWfjiGy83Jzlq3nt65MWafstT+PztG5LYoBYoDLg8bEb752l4IFjvt/GADwozAtkeF7Jj/LAd67kA2ovnqWwA+HdP9Zcsk5hfeR8dq+4H7GLoG2cLW/lP+3L+felKTw79J6t2DXNOavvYsnOx1CAv7APhvoolnoB0JbmmfmKdfNGCYKncfzhpiYoUfR43XSXe+ip9NDlddHlddHhhzt8KCzE7WQy28X27m5GOjMcFWznwukHuXDyEVYUd1DKKmY6HfI5m1LGpph2KWdcPMdCW4IoHZ/w88Kg44srVMMctdC30dwZjR6POvHvXH3YtW5XNHo+DAbD3Ck/k+H3/2T9IdVpvt/GADwozAtkeN4JPHbf9XHesece9jrhfL1XPap5z480qZUDTL2vl5ncEwCkZhbDxvfw7YHjuHMoRRDt77to7zhnr76Lo7c8iWBRXLGEdL9DsTAvrMMK2Lcgy88Xn8SUtRe3shGnshW3shmlZ1o2y9YWHX5nzSDs9DrJ+Tlyfo6sn8XCxnMyFNNpLKfEQhnhuMpmXlbaQD8TdFDAjplQM3aaqXQOzwFxPUgHeClFJW3jpRw81yZwVDhcbEFggahoXwxjVx0apMEVVO3Xhi9EU3dLizyhOkYYy2vvamqls/WPNe5rbNTVxnCP5czlVWmUa3wU1Sb9QGhX7lDo3m+ls/whIg2iz01/XVebV2j/ehrKubs7Of+adQfaolkx329jAB4U5gUyvFDoNf+XD/3meu7LpkAplo0In/j3gIEpwX/TEva9agTt5AHo2n0O/ra388/zbH54VD+e6wIwb2KC09b/mpM3rMHx00wtW05Xf4FSoTeqRVDpIs/OG+KXR51NyclgBeM43lbS5Y30ek/g+LsoenmC1s0EQmdeJsgmDMJMkCETZEgH6eg6TU4susgzIGN0M0MXeTrJk6NIjiJZSqBg0u1mnzvAPqufaXopSDcl6SCQFI4vdEmeLqbIMU1OzZCxCth2BWwfZXsoy0dsD+UEaDsAJ0DbGrEFbUt4tgArHLLWUawUiR/V2MyKaK4ZxqNnMLxAZMpLOP919x1Sneb7bQzAg8K8QIYXlN2Pcdt//jduygRopXA94QN3K8573EfnhMKfDDF19DZQgvIz9G/+ffydF/OvmV384LQTyGdzADiexwnPPsZpT/yWgfGAscVH079wJ4Xp+t7bWWsKfzzgyYVHseb4l7GvJ7YJsGiy3g4We2vo958g5e/A9yeZ9GE8UHPestcSi3SQJhWkSOkUrnbDc+Am7lM6RVZrOnVAl/h0aY8uCeiQCg4a37YpOSmKboYZN8ek28GU00Xe6SBvdzBjdTFjdZG3utCSxtEK1xfcQOH4ghuAE4RnSwu2JjqkdraiNEfr6AhwJMARj5RUcFQFFw9H/HCXETQ2fhjoGT8M8Kw0SgW1M7W06r3E8nUivzohMJwDqSPZ6mTBMJC0QoMV5REGlMaqTyhU4bIOVC0NoK47nOsfm1iodChSlYd6WnXIPgoyXS9DrF0N+mrytRepllbXKfW8hFzsXkFsMB6Q+iYpydmIsTISqzEezDkxkB/TH6U0BmimgVi+tBRofJaGutqWYXbv9mz69is7e7l20xMT3rwD+ttnfy7k/dOnjuPUV9954AVnwXy/jQF4UJgXyPCCU55m4w+v491TDzFmh4szTtpp8YnvBGTKAZVlmuk/7qbcPwaAXe6mf+MVqI0ncIf/KP/5ilewacnymrr+sT2c+MxjnLBlDJ1bRO/ijRTyXWgdhYdRAfMLu0jvLvH04mN4dNXxbFi8nGImm2iWEs1AfozB0m4G9BZ6ZDMdwQ4CNUFRQ1E7FLRiWgIm8chbycUnzwkBRxwc7WCLjaMdHAmvLbHanh1ROKKwxcImPCyxUMoGZSHKQbAR5aAtl0C5BLVrB99KEagUvuXi2WkClUKrSF659TAw1FeWhvMCI6MtGhtT0a4doTEHSHJXj9AoiuYpqvoOHkp0LUJMmBeVjTpFRWUgtN1qu3mI1PVFdSBgVQ2qmv1TDS4ddTJRQGmq9k5tXWhT4Omw7npg6ngsu7jtF98sRMXPNb31IcS4rVmdp1mVVvHyjTZV1QYFEBWLv0fS1ovmgdYMwwbZxLzQWDkV11FrX1VXvZ3xdoc/KkVsuU1izqlqsL7idcRKJPov3oZ6v0isgGqQifdXY8mYzlhbaj0e/1nE2wOR5SiJfIn9nJpbEhsrbmhFYkWxwMlHC+f80bs5lJjvtzEADwrzAhkOF96j3+Ez9/8Fd+XCsC12ILxvzQAX/WwvogNKZ2im35rF7wrn8LmFBfRtej25dQOsHv01PzjvFfzi9LPx7FRN5+LdWzlhyy6W7cuyYMHTVFSBQm14GBy7xGBlO0t2bmdyupsnVp7Gk6uO46mh5Yx0tn7/s6Ui8yfH6J+epKeYp6ucp8svkLGnsNUkvlPECrfHILACfCV4BJRVQEl5FJRH3ipTUh4lq0zZ8igfCuPx+URC76YV7QlcMwii68b7pmvU7PcNedU64/vDJq6lTfpcyqJiRkZrmcbyibvq/sbRP41GR5NWqcsS1R03GloaEC2p65VEDeG/kpCsPUZSZ0J93FhRs1Sv2ly30C37k6uHnmnVxkajMFG+ViCpu3l3lubyDeZprd5a37Xql2peonXxR2zdL8mfQ6NMXdv8rh6+9t8+29jog8J8v40BeFCYF8hwWBnfws9vfw9/rocpRQs+ussWn3v8OBb/7ElEPAoXCNN/YKOzZQCcYh/ztryOjjXzmdhwNz87eSl3X3wBT/SfiKh67L0F+0Y5dqfHqvw+hpw1TJfT+EHdWFS2R1/nDpYWt7Jg9x7K451stlby7KLj2bTiaDYtWsKO7l60ah/PL10p0z85Tt/0FL35KbqKebqKBTJ+hbTnkdYejtZgK7xUCm27pHBIiY0duZrCkHQabWm0CvCtAFEarcJ7rQStAgLl41MksMr4qkTFKuOpChXLo6J8KsrHUwGB0gRK8NEESqOV4CMEStBKCCC8js6zRfMwGAyHhgumVnDzB394SHWa77cxAA8K8wIZDjsijP32y/z5o/+H32bcWvJRQR+f3HwyfT9ejV+aoHCBkH+tS9ARbgNnVzrp2XkhXeuPQ9atZqu9jbv/4BX8avBMtvYcFe5eEZEpeywf8TmqsIMlpQ2400V0UK9LA37KI9szypLujSzPbyM7LMhel5HKIMNqiB0dQ2wfXMqORUvYObCAiWzHnB8xHfjMKxXpLeTpLBXJlopkiwUypQKZYpFMsUDaK5P2PdKeh6MDbAlwAo2tAxwdYIkgllXfEs6yCGwHZTlgOWC5YDtYykYpG2WF1xY2lrKwlA1YKBUelhJsCbAJUKqChYdS0YGHsjw0PooAiObyoRGi+X6Ec/xAo2syQTTnLEDQiArlBamteK7+p6NxRY2Ojc1Fq6KjHABULE3pKK8+L6+WouKp8UPqw9ixGqLBzLC8alOOaMEMUvM86Vr7wnKJFtWdjU36qOUL8Q9W83V8ll/7+Xm6wafWLB/3UoWeqHb6q8GWG2qLydS9YS3brprTknLNHrN2fRBz2LbIVy3LtZVvMUIb90DO/nNok9fiWdvKxq5/L7+Mj33MGICHGmMAHgTmBTK8aJjYzt23v4frg50UYsbbCR2r+B9jZ9N/x28pbXyKwgUW+de5taFhRNE5cjq9my7AWTtGad8aNp/dw88Wr+Lh3NFsXnwMXiqdqCpX0gxNzjBY2kn/zAh94zOkA6+WXxSHCeUSpD3SHRMM9AyzMDfCwsoY/RNTpEeFYDLFhNfHPj2fUbuf0dQAe7v7Ge3tY6Krh4nuHsa7uim7KQ4VWYQMQk6EjGgyoslqTVYHuEFAKlrckdIaVwekdICrdZgX+LhBEB0+ThBgBQFKB1iBRukAFbtH6umWH6C0jxVorCDAEo3SgqUDlNZY1SMIwrl0OixnR/lKC0oCbD8ITQqR8CBmEOkorTZVTUAiA03CMoiEu3hUIznruo54dN7GYcK2uz0cyP2B6IrLJgyGud8367JislYsL5yZF24gEt/5o9qmmAdbNddJQm+sLhpGPWvtax5iVon2qkSJpOAsA9gqdt2Ym8irG+PJeOlVoy6qw0rMOIzlSW2EuT7KnDR0Ey1RLdIS5Wo/gaa8+HMuHhrkvE/+edPzHQzm+20MwIPCvECGFxUijK37Dn/1mxv5SdJm42V9J/P+3Gs5+oHtTP3XDykcoym+tpPiom01GafYT8+u8+jcdAL6mS3sGtzH9HGL+c3uSZ7uXsTWxUexa3AZvuPSyLx8kf7iGL0zU/Tlw6O7mMcCKmIzqnOMSQdjksF3fTKZGfqyE/RnxujLjNOdnqZHZugtTNNbnCGXr2DnwStmmPK7mZZuJuklrzoo2B3k7RwFN8dMOkc+20E+m2UmOpdSGUrpNKVUCu8QGpAvFmwJTQxbgU31CD/A1Q9z7YjZB/VDJT7iVTkVK18tQzjSXl900pDfMk3NLteYPheZRJqiYZFGvU6kLkdMR+N1dQFMcgENNUM40QdNi0eSfrD44pm6zSIkF6VIrG21FRINZhcNiysa2tLQtqa2NuZX9UrVyIzfJ5+psV21Njf0QbKMxNqc3AiubdsazI26jmTdjW0/d9kiXnnOWRxKzPfbGIAHhXmBDC9KKgXu/8knuXHXPWxznUTW0b1H8+7j3sUFWzLk77ybyZ1PUbikg5lVT6PdYk0uM3E03bvPJrd5KVN7d/Ds0Dh5VzGycTt7+hawe+FSdi9Yyu7BFUx0tX73nSCgtzBNT3GG7mKenmKenlKe7mIet1xhQrJM6CyTkmFSwvOMpBEUrlWhKzVDl5sn6xTJucXw7BTJutHZKZKzi2R0OZw36HtkvEp4VCpkfA/lg6dTVHQ6PCRNWdKUCa9LKk1FpfGUi6dcfMuJnR08y8Wz3XDFr+Xg2U5076CVRaAstKoPK2vLIrBsguq9iqdb9fQoL7DtUIeVPAwGQ5337tvBX/7h5YdUp/l+GwPwoDAvkOHFjDe2iX++5yN8pbCxtkikSl+mj7cc8xauXP5GOh/dyMRPHmAyO87MsRvJD6xLuCIykyvpHDmD3K4TGN47wrPZ7UwXxvHGJgEoZHLsXbCE6SUnMNwzxHDXAHu7U/hO85BUFSfw6SoVyFVKdJRLdFRK5MolMuUSlDW6LFQqFkXfIS8pZiTNtKSpYNNqqKsdtgpI2RVSVoW0XcG1PRwVYFs+jhXgKB/bCnAsP0oPr20V4FgBtqrKhXmW0lholJLwWmksJSgJ08NDQpnobCHY6JhMlC6RnEgtjIqlo1ly0T66IlY4NKmtcD6dVMPLAFFe1CJqazBrHhmV8DzVBhRrHp5YYhUBCx3pUXXvT3X4U6K6dX24tBZUJjZZTxL+ozCvHjymqivmNxIrnOMnqjY0WA98Ux8uFFG1tsTrqLel+qwJHx5x55yoqI9UvQxSr6M6US05ty7Z3vpQe7Ke+rw6VUsVGvUl/X71OXexZ6zpaSijVCIj0T/xZ4ghDfU1ptPwTIk81fq52g7tt6pHtekj1bpdrfJeXpriuj+/oUnuYDDfb2MAHhTmBTL8LjCy7X7+4b5P8b1gH0F1Dlj0C9ZWNq9c+krefMybOWfByyn98gkmHtzARM96Zhauptj7bMIYdEp95PadSG7fieS3p9kw9Qz7vBGCYjFRZ9fCpRQWL2e4YwF77IWMOPMY73AZ77KYyFmI1fxLvxWW1mS8Cmk/8ux5ZVzfw/Uq2L6P+BrtQ+BDxbMpVRyKFRfPt/EC1RRXzXBwVINJA7WYhSHxYM5xkyzKi1mbKiqbKFfNU/VhwZoelbyvKmmuo6Fc7SZu6kjiPmEGNdUjsSH0WF7sGavP0/zc9edpfu7mpRStnruus3pPMr92XX+WxjbGaV2GRD11Wj1vm/wGPfG0xHzF/eXHm9TQ/vO6Az703/+qpexzxXy/jQF4UJgXyPC7xJZn7uL//Pbz/CiYaJnfl+njdStfx+VHXc5xahUz921lct2zzPStYWbBIxT6n0Cs5D4fqfwgmYlVyL6FjO0K2LZ7hOlKUr/lOMxfuZRcXxbcgGKg2KOXstcfYlzmM5VOMZO1mMoqpnMwnbUopGx85+CHQi1dXwlsS3Qt4QILW+KHjyUBlgTRnDAdLpxA6oslNFANsFs7V9OJFmIQesAk8mZVDx15rXRznpYw/l0tdq9UvU1ArRxUvXs6qgMk9AxS9xqF9Vs1E0PX0hsM4Raev8RFq69C/Ft+AD8Dg+FgeduJT/GFd338kOo0329jAB4U5gUy/C7y5MYf843ffoEfV0ZqQy2OCH5s+GhZ1zIuXnYxF89/Jat2LqT48Ajl4TGKvc9Q6H+CfN86yt3bmywBFaRITS7FH+9mZp9i754iE6MBumIn5NK5NJ2Ls3QvhUxXBV/NEJS78fL9eIU+vEI/heIA07qPGauDQlpRSEE+G1BIC4UMFFKKsquouIqKY1F2bDzHpmI7BHayPsPzh4oM5eSAcIQ0Dhq28r5JtKNHfAA36WWr1QVUw7K0DmrSvEiiXq563e6T1xi4pVnv/upOplWHgaUhRZIiDcVVrZZ2SMvLdh66/eY36Nh/P8XbGT1jSzOijccxlttq0UsrXuNP8dd/8I5Z23OgmO+3MQAPCvMCGX6X2Tr8KLfc/1fcPrUBL/oNndYaX1kEsd/Y89LzuHDJhVyaupDjtg2hH59GSj6BO0Ox51lK/Zso5tZR7N6OpNvsBJzvwpvopDAB0xOaypRLeSpFZcpFdOjp67AydGRS5LohM+CRXjSFvWgvvlsgqHTil7oJSj34pe7wutyFrnSi/V6010VQyRFUMgSVFBUNxVSA52h8J6DiaHxHh/e24NtEh+BZ4NsK34bAVgQWYQBpC7QK70WpcEGHCueohYs4VHRYUX5dBqhtB4eK4s7FtoWrzuOTpvTq/Kd6vqjGLeWSOmqf6hbzvwyGlwKv3TvMrW997SHVab7fxgA8KMwLZHgpMDKzm+/85q/53s57GSU04JQIA0HAtO1QarArTug5nj9Qr+aM0ePo3upApRrOV+P17qEy8DRFtY6CPEVlXh49r/2vGBHw8y6VvI2Xd/HyTnSE10ExTdrvp0PPo8PpIOO6pLMW6U5wewNUroy4RQI3j3byaLuM2OVw5w9R+NqOzgrtp6HSCX4n+F3gdyBBDgky6CCLBCl04KC1g9Yuou3o2iLQCq0hCECLRougtSCiw2DMSBS4WUDpKOiyRIGdw/lcEsnVgjPHzqBrsvU0adBT67X6uTYJP5kfGoTVM7GZe5E3yqrfVWWkpk/Vrusz1kBqseFUvb5akOi6N4ia7shnFulMtEAl/UO1EeqqUVyVbWPUNvsFk5ez+/iai83uq6Lt9mct61H7yZ+lHa3LxfujjcJWbUo83/7/OGi9gKR1HclyzTJtn7tNP7asM9aeVUEHf/nBq9tofW6Y77cxAA8K8wIZXkp42uNnG+/g3x79Og/m6/EBUyIs8nw822VXw8hqSrtc5v8eryqezap9Q6TKMQEFTn8KnR6mEDxMYXo1xfJm/F4Pfz4E8wXJzK1tIhCUbfySTVAKz37JRpddrCCL7WexgxxOkMMNOnF1N2ndRUrPI6t7cKUL18pguQFilxHLQywfHZ3DI3at2qUHoYEnYbDn0CrUSBBAIEgQzRnUIFpAgxYJ5+BFcwRFx+cAWtG8QKs+f0+qc/YUSLTsIrqvzxMMraxw9W8oH67dtWvBn6vreat6wtW5VjSAqQgtNStaQVpdalCdd2nVPJH1wVkVfZSrg4OhbDLAsUVyir+KxhXrulCxOYnxlbe1lazxwdKYLlUdfI36U9UHZan2Q/V5m5ZU1I3X2jul4m2rG6oi1NoSFpFYelJH9d2Uqh5VU143wJvmScTKRv80GsmNtB3QTYwVNw0ytyvcOrmlQZxMqP88ZvmjrklZ63Hq1gP0rdWvOL6XN7z3NW3rfC6Y77cxAA8K8wIZXqpsmdzCnU/9G3du+i+2VsZr6SktHOV5ZLVmXzrLdqv+abVEcWxxBa+YOZnzi6ezrDDYpNeZn8XuFsTfhz+2idLwaorjGyj7ewl6Bd0jBL0Q9Ep43wWSO3TPpX2FBBYSWBDY4aEd0A4qcFGBg9IulnZR4qBwsLSDhYsl4dkWF0tStTQlFmgbJdGhbRA7WoFsEYZTsWpGWO0aFZOxouuqMZa8VxIZVhIacAldEDOwiPRCzeCKX1e9kFWvW3WhC6oWFDmx24XUzT+UQho+5qoaO0RF5WrZAkrF1FS9mlEeJO7rs+SqXsi477GFTK38LDINepo3kUvKVKWaTRxpSqEpr9W9NOS0KS/U+2JWy619O9rqjtcxhza2fEZp1X9JU7O5/sY6iT1j+7bG/MiJvLHMBBf8+ZdblHvumO+3MQAPCvMCGV7qiAhPjD3Bnc/czj2b72R3wwrf5RWP5Z5HVoQpN8uz6RR7o2HkeX43JxeO5mWFY3hZ4RhWlIea9SvBn2dh97ukUwFWaZxgYjv+nk3427dR2bkTf2wvOge6E3SnoDvCc9AJlS6LIAtBVqGzIDkL0iApjUpplKuxXN1Ur+EFpurxS4711q8b86gal3HZuPuo0UxQzddVO7HRpGhbtnH8WCUlGtrXUkdD2dnrbn4e1SpvlnbV65mtfcn+baqj5bhy6z5RjXW3bFO8Xftve7Pu5j6TmW7O++NbW7TzuWO+38YAPCjMC2Q4khARnp14lvt23Mcvt/6UtfvWoxv+zF/meZxcrtAfBFgizLgZNuc6edYS8NIcW1rOMcXlHFNaxjGl5Qz4vS3r0kozmStQ6PLwcwGWXSYVFHDLM6Ty46TGp7D3TRLsHcXfs4dgYqJ9u5WgU+CnFX7awktb+BmFn1L4aUWQtghSoF2FTiskrRBXIY5CbEXo4BPEjoYJLQFLUNVDEe6dWkujtpeqCpe3RiOnsWukOppak6ldk0xP5BPXF+pMjB7GY7YlvqeNcpg1I4bfHUZeziVvu+2QqjTfb2MAHhTmBTIcyUyWJ3l4z8Os3rOah3c/yIbxp5sMQkeEVRWPEyoVFns+nVpjAXnLYkeum0lrARlvKZ3lAYZKC1lWXsSyyiA5nZ217jF7khF3jHF3iul0kYJbQFNCUcKSEmmvQqbs0VEKyBU16RmPVNnHKfk4JQ+75GGVKlilCqpYRpUrc35uobo6WEXbu6lodTD1VcIqmVZPJ1rVG5pk8TOQWO1bS6vK1fLiZao6oLogo9pGwmyqg7jQ6OxRNcdafVFHlB4fWSY0aqttqTl+YgtJqgZp3FFXm6bXwmnUsDlE63N1LmBDXtxwTYxuN6Fiw8zN7UiKJsa8m9vbplyi31QyOzGUXp0Z16Kdjc7NepNaD+y2c/Alxlzb9km8DfGfeft6mp9dWsq1lm1dV3u5anqyjuV9Z3Dxh/+/NsLPDfP9NgbgQWFeIIOhznRlmjUja1g7spYnxp7gydEnGCuPt5TNas0Kz2eF57HE9xnyffr8ABcBDTPWAkqyBKWW4OhFZPR8Or0B+ir95PTcJwUWrCLTdoFpK8+Uk2faKpC3CxStcnSUKFplSqqEr0vooIwOSvhSJghKiPZQfgUCHzeAjLZIa5t0YJEOFKnAIq0VbqBwsLA1uGJha4WtwRawNOG1FiytsLRga7C0YEVnOwjPSkvN9qkf0nAGGtN0ZGCIgJa6TDVdS1RGmtMNRzwH+hbsV77JUN6PwH4YeP/7GfzQBw+ozP4w329w9i9iMBgM+6cr1cWFSy7kwiUXAuGQ8Z7CHtbvW89TY0+xaWITmyY3sWVqC0V8nkyneDKdaqlrIAhY5G2iP3iGgSCgP9BhWJogYL6fYZ63AFv3IfTjywCB9CHSj5I+HD0PRzoByOksOZ1lIf1QPrjn8wmo2B6e4+Epn4ryqFjh2VM+XnT2VUCgNAGaigoIVECADtNi974K0EoTEMr7UbqO5MIAM2EImDDAjKCjcDL1a4nJRFKRvI5Cy9TL6oS8VGVqu55AYlJ/bQ/g6oT+MK22gLe6OEDiQWCktqRCxRYPKKqetGi3lEgKCYfoQ8ebxOoK9dd0VRMltlhD4h6y0Oithq+pjprHHXq10fW4M6o6uh53njU4ARsdZbM50Bp3YKv2QTsnXesyzTJNbWhhgakW7Wmb/lz0CagWM/Xi8wKthvmENUek1OWaylfnJsbco/V+C9POWD7FoQ0CYwBjABoMhucJpRSDHYMMdgxyybJLaum+9tkxvaNmDO6a2cWumV3szu9m58xOin6RUdtmdNbdPIrATizZSReKboEeren2fXp8j55A0x9k6fNy9AQ5OnQHuaCDjO4gLTlSOosjaWzJYkkGIYuWLEIWkQyaHEIWqLfBwcbRNjDH2DWGw4qmGp8yvjqYyPit5tBwVacae7ExL2l2NqbF8lQyr3VdDXmqWXeTTCInOQTdqm00PEeidrX/Z0v8URB7ruZnidfRoj8PonxpsvVIguHgMAagwWB4QXEshxU9K1jRs6IpT0SYLE+yM7+T4fww+4r72FfaF56L+xgtjrKvFJ6LfhGtYBJhUsF2S4HjAm5MYzk62n9ALBRZ5ZBSFi4KV1m4QAqLjNhkxCanU2S1Q0YcMjo80tohLQ6OtnG1g6ttHLFwtIVdHQYWhS02FhaOKCyxsSTMt6oHVi1diYXCikLKQNXnoqTqe6mGfomnWbUzLeRq17VQMVZNhpgMkozhV9/wTNHCbxM7N163yqveH/z+znPFalfXXMc7zej4i4ZUyfwwng+MAWgwGF40KKXozfTSm+nlpP6TZpWtBBWmKlNMlidnPU+Vpyj4BQpegYJfIO/la9cAGiEvHvnZvjGKuDPQcBCEBi1YysKKjMTI7K39Z6FQyopMRgsrMoYtwpUlCXlRWNHwoRWZfUqsKK1qBofGoCXhtaVCaUU4bFkzXVV1mLJadzU+YlV/fAhUJc5WbaDbAiGqo3HoM1YXKuEOUw0ytb6qpscCTVfzq0Zufbg2Nhxba09DOxNDzPESzfXGddf+GIl0tizX0I56O5N/CFSHhRPtapao6Thx1YkswHCoMQagwWD4nSRlpxjIDjCQHXhO5bVoSn6JvJen6BepBBU87VHRldq1F3hhWlChoiu1ay8I5QId4IuPFl27DnRAINHR6jo6++KjtQ6vtR/OyZNwPp4WXb+Pzlp0rd2zpks4t++5pj/fhPMUQRPsT3Du6XNNO1S658KhdlrNtm7iQNZUHNj6ixcFfzrvWC483I14CWIMQIPBcERiKYucmyPnHsKtRn7HqS7oqJ2rCzVic7PiMk1p8fS4jth9q3oa5Wvp7eqO5bWsu1E2TJybfIs2xWWq11Wd8ft4uYRcrH9nk3suetuWaaO7MfBHW/m5yrWRn4vsXPvnlPmnNOk2HDzGADQYDAYDEA6Bhnv+Hu6WGAyG55sXbkauwWAwGAwGg+FFgTEADQaDwWAwGI4wjAFoMBgMBoPBcIRhDECDwWAwGAyGIwxjABoMBoPBYDAcYRgD0GAwGAwGg+EIwxiABoPBYDAYDEcYxgA0GAwGg8FgOMIwBqDBYDAYDAbDEYYxAA0Gg8FgMBiOMIwBaDAYDAaDwXCEYQxAg8FgMBgMhiMMYwAaDAaDwWAwHGE4h7sBv8uICABTU1OHuSUGg8FgMBjmSvW7Xf2OH4kYA/AgmJ6eBmDp0qWHuSUGg8FgMBgOlOnpaXp6eg53Mw4LSo5k8/cg0Vqza9cuurq6UEodUt1TU1MsXbqU7du3093dfUh1v9QwfTV3TF/NHdNXB4bpr7lj+mruPF99JSJMT08zNDSEZR2Zs+GMB/AgsCyLJUuWPK91dHd3m18Qc8T01dwxfTV3TF8dGKa/5o7pq7nzfPTVker5q3Jkmr0Gg8FgMBgMRzDGADQYDAaDwWA4wjAG4IuUdDrN9ddfTzqdPtxNedFj+mrumL6aO6avDgzTX3PH9NXcMX31/GEWgRgMBoPBYDAcYRgPoMFgMBgMBsMRhjEADQaDwWAwGI4wjAFoMBgMBoPBcIRhDECDwWAwGAyGIwxjAL4I+cpXvsLKlSvJZDKceeaZ/PKXvzzcTXrB+cUvfsEb3vAGhoaGUErxgx/8IJEvItxwww0MDQ2RzWZ55Stfyfr16xMy5XKZD37wgwwMDNDR0cEf/MEfsGPHjhfwKV4YbrrpJl7+8pfT1dXFggULuOKKK9iwYUNCxvRXyM0338wpp5xSCyp77rnnctddd9XyTT+156abbkIpxUc+8pFamumvOjfccANKqcQxODhYyzd9lWTnzp28853vpL+/n1wux2mnncbq1atr+aa/XgDE8KLitttuE9d15etf/7o88cQT8uEPf1g6Ojpk69ath7tpLyh33nmnfOYzn5Hvfve7Asj3v//9RP4XvvAF6erqku9+97uybt06ueqqq2TRokUyNTVVk3nf+94nixcvlnvuuUceeeQRedWrXiWnnnqq+L7/Aj/N88tll10mt9xyizz++OOydu1aef3rXy/Lli2TmZmZmozpr5Dbb79d7rjjDtmwYYNs2LBBPv3pT4vruvL444+LiOmndjz44IOyYsUKOeWUU+TDH/5wLd30V53rr79eTjrpJNm9e3ftGBkZqeWbvqozNjYmy5cvl2uvvVZ++9vfyubNm+UnP/mJPPvsszUZ01/PP8YAfJHxile8Qt73vvcl0o4//nj55Cc/eZhadPhpNAC11jI4OChf+MIXammlUkl6enrkH/7hH0REZGJiQlzXldtuu60ms3PnTrEsS+6+++4XrO2Hg5GREQHkvvvuExHTX/tj3rx58o//+I+mn9owPT0txxxzjNxzzz1y0UUX1QxA019Jrr/+ejn11FNb5pm+SvKJT3xCLrjggrb5pr9eGMwQ8IuISqXC6tWrec1rXpNIf81rXsP9999/mFr14mPz5s0MDw8n+imdTnPRRRfV+mn16tV4npeQGRoa4uSTT37J9+Xk5CQAfX19gOmvdgRBwG233UY+n+fcc881/dSGD3zgA7z+9a/n0ksvTaSb/mrmmWeeYWhoiJUrV/K2t72NTZs2AaavGrn99ts566yzuPLKK1mwYAGnn346X//612v5pr9eGIwB+CJidHSUIAhYuHBhIn3hwoUMDw8fpla9+Kj2xWz9NDw8TCqVYt68eW1lXoqICB/72Me44IILOPnkkwHTX42sW7eOzs5O0uk073vf+/j+97/PiSeeaPqpBbfddhuPPPIIN910U1Oe6a8kZ599Nt/+9rf50Y9+xNe//nWGh4c577zz2Ldvn+mrBjZt2sTNN9/MMcccw49+9CPe97738aEPfYhvf/vbgHm3Xiicw90AQzNKqcS9iDSlGZ5bP73U+/K6667jscce41e/+lVTnumvkOOOO461a9cyMTHBd7/7Xa655hruu+++Wr7pp5Dt27fz4Q9/mB//+MdkMpm2cqa/Ql73utfVrl/2spdx7rnnsmrVKr71rW9xzjnnAKavqmitOeuss/j85z8PwOmnn8769eu5+eabede73lWTM/31/GI8gC8iBgYGsG276a+XkZGRpr+EjmSqK+tm66fBwUEqlQrj4+NtZV5qfPCDH+T222/n5z//OUuWLKmlm/5KkkqlOProoznrrLO46aabOPXUU/m7v/s7008NrF69mpGREc4880wcx8FxHO677z7+/u//Hsdxas9r+qs1HR0dvOxlL+OZZ54x71YDixYt4sQTT0yknXDCCWzbtg0wv7NeKIwB+CIilUpx5plncs899yTS77nnHs4777zD1KoXHytXrmRwcDDRT5VKhfvuu6/WT2eeeSau6yZkdu/ezeOPP/6S60sR4brrruN73/seP/vZz1i5cmUi3/TX7IgI5XLZ9FMDl1xyCevWrWPt2rW146yzzuId73gHa9eu5aijjjL9NQvlcpknn3ySRYsWmXergfPPP78pVNXTTz/N8uXLAfM76wXjhV93YpiNahiYb3zjG/LEE0/IRz7yEeno6JAtW7Yc7qa9oExPT8uaNWtkzZo1Asjf/u3fypo1a2rhcL7whS9IT0+PfO9735N169bJ1Vdf3TJEwJIlS+QnP/mJPPLII3LxxRe/JEMEvP/975eenh659957EyEoCoVCTcb0V8inPvUp+cUvfiGbN2+Wxx57TD796U+LZVny4x//WERMP+2P+CpgEdNfcT7+8Y/LvffeK5s2bZLf/OY3cvnll0tXV1ftd7fpqzoPPvigOI4jN954ozzzzDPyL//yL5LL5eSf//mfazKmv55/jAH4IuTLX/6yLF++XFKplJxxxhm1cB5HEj//+c8FaDquueYaEQnDBFx//fUyODgo6XRaLrzwQlm3bl1CR7FYlOuuu076+vokm83K5ZdfLtu2bTsMT/P80qqfALnllltqMqa/Qt797nfX/t+aP3++XHLJJTXjT8T00/5oNABNf9WpxqlzXVeGhobkzW9+s6xfv76Wb/oqyQ9/+EM5+eSTJZ1Oy/HHHy9f+9rXEvmmv55/lIjI4fE9GgwGg8FgMBgOB2YOoMFgMBgMBsMRhjEADQaDwWAwGI4wjAFoMBgMBoPBcIRhDECDwWAwGAyGIwxjABoMBoPBYDAcYRgD0GAwGAwGg+EIwxiABoPBYDAYDEcYxgA0GAwGg8FgOMIwBqDBYHhBuPbaa1FKoZTCdV0WLlzIq1/9ar75zW+itT7czTsgbrjhBk477bTDrsNgMBieK8YANBgMLxivfe1r2b17N1u2bOGuu+7iVa96FR/+8Ie5/PLL8X3/cDfPYDAYjhiMAWgwGF4w0uk0g4ODLF68mDPOOINPf/rT/Od//id33XUXt956a01ucnKS9773vSxYsIDu7m4uvvhiHn300Vr+o48+yqte9Sq6urro7u7mzDPP5OGHH67l//rXv+aiiy4il8sxb948LrvsMsbHxwEQEf76r/+ao446imw2y6mnnsp//Md/1Mree++9KKX46U9/yllnnUUul+O8885jw4YNANx666187nOf49FHH615NONtj3Pvvffyile8go6ODnp7ezn//PPZunXrrDr29+xVz+FXv/pVli5dSi6X48orr2RiYuIgfzoGg+FIwhiABoPhsHLxxRdz6qmn8r3vfQ8IDbTXv/71DA8Pc+edd7J69WrOOOMMLrnkEsbGxgB4xzvewZIlS3jooYdYvXo1n/zkJ3FdF4C1a9dyySWXcNJJJ/HAAw/wq1/9ije84Q0EQQDAZz/7WW655RZuvvlm1q9fz0c/+lHe+c53ct999yXa9ZnPfIYvfelLPPzwwziOw7vf/W4ArrrqKj7+8Y9z0kknsXv3bnbv3s1VV13V9Fy+73PFFVdw0UUX8dhjj/HAAw/w3ve+F6VUWx1zeXaAZ599ln/7t3/jhz/8IXfffTdr167lAx/4wKH/4RgMhpcuYjAYDC8A11xzjbzxjW9smXfVVVfJCSecICIiP/3pT6W7u1tKpVJCZtWqVfLVr35VRES6urrk1ltvbanr6quvlvPPP79l3szMjGQyGbn//vsT6e95z3vk6quvFhGRn//85wLIT37yk1r+HXfcIYAUi0UREbn++uvl1FNPnfV59+3bJ4Dce++9LfNb6ZjLs19//fVi27Zs3769ln/XXXeJZVmye/fuWdtkMBgMVZzDbH8aDAYDIoJSCoDVq1czMzNDf39/QqZYLLJx40YAPvaxj/FHf/RH/NM//ROXXnopV155JatWrQJCD+CVV17Zsp4nnniCUqnEq1/96kR6pVLh9NNPT6SdcsoptetFixYBMDIywrJly+b0TH19fVx77bVcdtllvPrVr+bSSy/lrW99a01XK+by7ADLli1jyZIltftzzz0XrTUbNmxgcHBwTu0zGAxHNsYANBgMh50nn3ySlStXAqC1ZtGiRdx7771Ncr29vUA4D+7tb387d9xxB3fddRfXX389t912G29605vIZrNt66muNr7jjjtYvHhxIi+dTifuq0PKQM04PdDVyrfccgsf+tCHuPvuu/nOd77DZz/7We655x7OOeectu3b37O3otq+6tlgMBj2hzEADQbDYeVnP/sZ69at46Mf/SgAZ5xxBsPDwziOw4oVK9qWO/bYYzn22GP56Ec/ytVXX80tt9zCm970Jk455RR++tOf8rnPfa6pzIknnkg6nWbbtm1cdNFFz7nNqVSqNqdwf5x++umcfvrpfOpTn+Lcc8/lX//1XznnnHNa6pjrs2/bto1du3YxNDQEwAMPPIBlWRx77LHP+ZkMBsORhVkEYjAYXjDK5TLDw8Ps3LmTRx55hM9//vO88Y1v5PLLL+dd73oXAJdeeinnnnsuV1xxBT/60Y/YsmUL999/P5/97Gd5+OGHKRaLXHfdddx7771s3bqVX//61zz00EOccMIJAHzqU5/ioYce4k//9E957LHHeOqpp7j55psZHR2lq6uLP/uzP+OjH/0o3/rWt9i4cSNr1qzhy1/+Mt/61rfm/BwrVqxg8+bNrF27ltHRUcrlcpPM5s2b+dSnPsUDDzzA1q1b+fGPf8zTTz9da2crHft79iqZTIZrrrmGRx99lF/+8pd86EMf4q1vfasZ/jUYDHPncE9CNBgMRwbXXHONAAKI4zgyf/58ufTSS+Wb3/ymBEGQkJ2ampIPfvCDMjQ0JK7rytKlS+Ud73iHbNu2TcrlsrztbW+TpUuXSiqVkqGhIbnuuutqCzRERO69914577zzJJ1OS29vr1x22WUyPj4uIiJaa/m7v/s7Oe6448R1XZk/f75cdtllct9994lIfRFIVV5EZM2aNQLI5s2bRUSkVCrJW97yFunt7RVAbrnllqbnHR4eliuuuEIWLVokqVRKli9fLn/xF39Re9Z2OmZ7dpH64pGvfOUrMjQ0JJlMRt785jfL2NjYIfgpGQyGIwUlInI4DVCDwWAwzJ0bbriBH/zgB6xdu/ZwN8VgMPwOY4aADQaDwWAwGI4wjAFoMBgMBoPBcIRhhoANBoPBYDAYjjCMB9BgMBgMBoPhCMMYgAaDwWAwGAxHGMYANBgMBoPBYDjCMAagwWAwGAwGwxGGMQANBoPBYDAYjjCMAWgwGAwGg8FwhGEMQIPBYDAYDIYjDGMAGgwGg8FgMBxhGAPQYDAYDAaD4Qjj/wcR5bRVkjUloAAAAABJRU5ErkJggg==",
       "_dom_classes": [],
       "_figure_label": "Figure",
       "_image_mode": "full",
       "_message": "",
       "_model_module": "jupyter-matplotlib",
       "_model_module_version": "^0.11",
       "_model_name": "MPLCanvasModel",
       "_rubberband_height": 0,
       "_rubberband_width": 0,
       "_rubberband_x": 0,
       "_rubberband_y": 0,
       "_size": [
        640,
        480
       ],
       "_view_count": null,
       "_view_module": "jupyter-matplotlib",
       "_view_module_version": "^0.11",
       "_view_name": "MPLCanvasView",
       "capture_scroll": false,
       "footer_visible": true,
       "header_visible": true,
       "layout": "IPY_MODEL_81b2f6574f6f47b999efcfdd8e64eec1",
       "pan_zoom_throttle": 33,
       "resizable": true,
       "tabbable": null,
       "toolbar": "IPY_MODEL_724265167d4f4c83b7dbea253e281500",
       "toolbar_position": "left",
       "toolbar_visible": "fade-in-fade-out",
       "tooltip": null
      }
     }
    },
    "version_major": 2,
    "version_minor": 0
   }
  }
 },
 "nbformat": 4,
 "nbformat_minor": 4
}
