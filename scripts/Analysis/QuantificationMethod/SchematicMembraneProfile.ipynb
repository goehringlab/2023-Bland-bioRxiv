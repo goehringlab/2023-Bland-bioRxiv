{
 "cells": [
  {
   "cell_type": "code",
   "execution_count": 1,
   "metadata": {
    "execution": {
     "iopub.execute_input": "2023-11-27T21:34:33.602654Z",
     "iopub.status.busy": "2023-11-27T21:34:33.602337Z",
     "iopub.status.idle": "2023-11-27T21:34:38.989541Z",
     "shell.execute_reply": "2023-11-27T21:34:38.987515Z"
    }
   },
   "outputs": [],
   "source": [
    "import os\n",
    "\n",
    "import matplotlib as mpl\n",
    "import matplotlib.pyplot as plt\n",
    "import numpy as np\n",
    "\n",
    "from src import error_func, gaus\n",
    "\n",
    "%matplotlib inline\n",
    "\n",
    "mpl.rcParams[\"figure.dpi\"] = 150\n",
    "\n",
    "if not os.path.exists(\"Figs\"):\n",
    "    os.mkdir(\"Figs\")"
   ]
  },
  {
   "cell_type": "code",
   "execution_count": 2,
   "metadata": {
    "execution": {
     "iopub.execute_input": "2023-11-27T21:34:38.994722Z",
     "iopub.status.busy": "2023-11-27T21:34:38.993398Z",
     "iopub.status.idle": "2023-11-27T21:34:39.124520Z",
     "shell.execute_reply": "2023-11-27T21:34:39.123490Z"
    }
   },
   "outputs": [
    {
     "data": {
      "image/png": "[encoded data removed]",
      "text/plain": [
       "<Figure size 180x180 with 1 Axes>"
      ]
     },
     "metadata": {},
     "output_type": "display_data"
    }
   ],
   "source": [
    "x = np.arange(0, 50)\n",
    "mem_ref = gaus(x, 25, 3) + 0.1 * error_func(x, 25, 5) + 0.1  # + np.arange(0, 50) / 500\n",
    "mem_ref /= max(mem_ref)\n",
    "\n",
    "fig, ax = plt.subplots()\n",
    "ax.plot(x, mem_ref)\n",
    "ax.set_xticks([])\n",
    "ax.set_yticks([])\n",
    "ax.set_ylim([-0.02, 1.1])\n",
    "ax.set_xlabel(\"Position\", fontsize=10)\n",
    "ax.set_ylabel(\"Signal\", fontsize=10)\n",
    "fig.set_size_inches(1.2, 1.2)\n",
    "fig.tight_layout()\n",
    "fig.savefig(\"Figs/toy_profile2.png\", dpi=600, transparent=True)"
   ]
  },
  {
   "cell_type": "code",
   "execution_count": 3,
   "metadata": {
    "execution": {
     "iopub.execute_input": "2023-11-27T21:34:39.127537Z",
     "iopub.status.busy": "2023-11-27T21:34:39.127263Z",
     "iopub.status.idle": "2023-11-27T21:34:39.240110Z",
     "shell.execute_reply": "2023-11-27T21:34:39.238497Z"
    }
   },
   "outputs": [
    {
     "data": {
      "image/png": "[encoded data removed]",
      "text/plain": [
       "<Figure size 180x180 with 1 Axes>"
      ]
     },
     "metadata": {},
     "output_type": "display_data"
    }
   ],
   "source": [
    "x = np.arange(0, 50)\n",
    "mem_ref = gaus(x, 25, 3)\n",
    "mem_ref /= max(mem_ref)\n",
    "\n",
    "fig, ax = plt.subplots()\n",
    "ax.plot(x, mem_ref)\n",
    "ax.set_xticks([])\n",
    "ax.set_yticks([])\n",
    "ax.set_ylim([-0.02, 1.1])\n",
    "ax.set_xlabel(\"Position\", fontsize=10)\n",
    "ax.set_ylabel(\"Signal\", fontsize=10)\n",
    "fig.set_size_inches(1.2, 1.2)\n",
    "fig.tight_layout()\n",
    "fig.savefig(\"Figs/toy_profile1.png\", dpi=600, transparent=True)"
   ]
  },
  {
   "cell_type": "code",
   "execution_count": null,
   "metadata": {},
   "outputs": [],
   "source": []
  },
  {
   "cell_type": "code",
   "execution_count": null,
   "metadata": {},
   "outputs": [],
   "source": []
  },
  {
   "cell_type": "code",
   "execution_count": null,
   "metadata": {},
   "outputs": [],
   "source": []
  }
 ],
 "metadata": {
  "kernelspec": {
   "display_name": "Python 3",
   "language": "python",
   "name": "python3"
  },
  "language_info": {
   "codemirror_mode": {
    "name": "ipython",
    "version": 3
   },
   "file_extension": ".py",
   "mimetype": "text/x-python",
   "name": "python",
   "nbconvert_exporter": "python",
   "pygments_lexer": "ipython3",
   "version": "3.11.6"
  }
 },
 "nbformat": 4,
 "nbformat_minor": 4
}
