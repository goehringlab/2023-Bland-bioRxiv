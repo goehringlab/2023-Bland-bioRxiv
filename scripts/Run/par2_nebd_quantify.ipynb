{
 "cells": [
  {
   "cell_type": "code",
   "execution_count": 1,
   "metadata": {
    "execution": {
     "iopub.execute_input": "2023-11-18T11:04:57.910439Z",
     "iopub.status.busy": "2023-11-18T11:04:57.910158Z",
     "iopub.status.idle": "2023-11-18T11:05:04.464244Z",
     "shell.execute_reply": "2023-11-18T11:05:04.463368Z"
    }
   },
   "outputs": [],
   "source": [
    "import sys\n",
    "import numpy as np\n",
    "import pandas as pd\n",
    "sys.path.append('../..')\n",
    "from src import load_image, ImageQuant2, raw_data_path\n",
    "%matplotlib widget"
   ]
  },
  {
   "cell_type": "code",
   "execution_count": 2,
   "metadata": {
    "execution": {
     "iopub.execute_input": "2023-11-18T11:05:04.467474Z",
     "iopub.status.busy": "2023-11-18T11:05:04.467082Z",
     "iopub.status.idle": "2023-11-18T11:05:04.472149Z",
     "shell.execute_reply": "2023-11-18T11:05:04.471637Z"
    }
   },
   "outputs": [
    {
     "name": "stdout",
     "output_type": "stream",
     "text": [
      "3.105838399548696\n"
     ]
    }
   ],
   "source": [
    "# Import quantification moodel\n",
    "membg = np.loadtxt('../../data/calibration_mem6.txt')\n",
    "cytbg = np.loadtxt('../../data/calibration_cyt.txt')\n",
    "calibration_factor = np.loadtxt('../../data/calibration_constants.txt')[6]\n",
    "print(calibration_factor)"
   ]
  },
  {
   "cell_type": "code",
   "execution_count": 3,
   "metadata": {
    "execution": {
     "iopub.execute_input": "2023-11-18T11:05:04.475296Z",
     "iopub.status.busy": "2023-11-18T11:05:04.474946Z",
     "iopub.status.idle": "2023-11-18T11:05:04.482996Z",
     "shell.execute_reply": "2023-11-18T11:05:04.482299Z"
    }
   },
   "outputs": [],
   "source": [
    "# Import embryos dataframe\n",
    "df = pd.read_csv('../../data/par2_nebd_embryos.csv')\n",
    "df['Path'] = df['Path'].apply(lambda x: raw_data_path + x)"
   ]
  },
  {
   "cell_type": "markdown",
   "metadata": {},
   "source": [
    "### Import data"
   ]
  },
  {
   "cell_type": "code",
   "execution_count": 4,
   "metadata": {
    "execution": {
     "iopub.execute_input": "2023-11-18T11:05:04.487080Z",
     "iopub.status.busy": "2023-11-18T11:05:04.486844Z",
     "iopub.status.idle": "2023-11-18T11:05:08.605540Z",
     "shell.execute_reply": "2023-11-18T11:05:08.604885Z"
    }
   },
   "outputs": [],
   "source": [
    "paths = df.Path.to_list()\n",
    "lines = df.Line.to_list()\n",
    "imgs = [load_image(p + '/af_corrected.tif') for p in paths]\n",
    "rois = [np.loadtxt(p + '/ROI_fit.txt') if l != 'n2' else np.loadtxt(p + '/ROI_manual.txt') for p, l in zip(paths, lines)]"
   ]
  },
  {
   "cell_type": "markdown",
   "metadata": {},
   "source": [
    "### Run quantification"
   ]
  },
  {
   "cell_type": "code",
   "execution_count": 5,
   "metadata": {
    "execution": {
     "iopub.execute_input": "2023-11-18T11:05:08.608401Z",
     "iopub.status.busy": "2023-11-18T11:05:08.608167Z",
     "iopub.status.idle": "2023-11-18T11:07:45.074926Z",
     "shell.execute_reply": "2023-11-18T11:07:45.074348Z"
    },
    "scrolled": false
   },
   "outputs": [
    {
     "name": "stderr",
     "output_type": "stream",
     "text": [
      "\r",
      "  0%|                                                                                                                                                         | 0/600 [00:00<?, ?it/s]"
     ]
    },
    {
     "name": "stderr",
     "output_type": "stream",
     "text": [
      "\r",
      "  0%|▏                                                                                                                                                | 1/600 [00:04<42:58,  4.31s/it]"
     ]
    },
    {
     "name": "stderr",
     "output_type": "stream",
     "text": [
      "\r",
      "  0%|▍                                                                                                                                                | 2/600 [00:04<18:46,  1.88s/it]"
     ]
    },
    {
     "name": "stderr",
     "output_type": "stream",
     "text": [
      "\r",
      "  0%|▋                                                                                                                                                | 3/600 [00:04<10:57,  1.10s/it]"
     ]
    },
    {
     "name": "stderr",
     "output_type": "stream",
     "text": [
      "\r",
      "  1%|▉                                                                                                                                                | 4/600 [00:04<07:16,  1.37it/s]"
     ]
    },
    {
     "name": "stderr",
     "output_type": "stream",
     "text": [
      "\r",
      "  1%|█▏                                                                                                                                               | 5/600 [00:05<05:15,  1.89it/s]"
     ]
    },
    {
     "name": "stderr",
     "output_type": "stream",
     "text": [
      "\r",
      "  1%|█▍                                                                                                                                               | 6/600 [00:05<04:06,  2.41it/s]"
     ]
    },
    {
     "name": "stderr",
     "output_type": "stream",
     "text": [
      "\r",
      "  1%|█▋                                                                                                                                               | 7/600 [00:05<03:19,  2.97it/s]"
     ]
    },
    {
     "name": "stderr",
     "output_type": "stream",
     "text": [
      "\r",
      "  1%|█▉                                                                                                                                               | 8/600 [00:05<02:41,  3.67it/s]"
     ]
    },
    {
     "name": "stderr",
     "output_type": "stream",
     "text": [
      "\r",
      "  2%|██▏                                                                                                                                              | 9/600 [00:05<02:23,  4.13it/s]"
     ]
    },
    {
     "name": "stderr",
     "output_type": "stream",
     "text": [
      "\r",
      "  2%|██▍                                                                                                                                             | 10/600 [00:05<02:13,  4.40it/s]"
     ]
    },
    {
     "name": "stderr",
     "output_type": "stream",
     "text": [
      "\r",
      "  2%|██▋                                                                                                                                             | 11/600 [00:06<02:21,  4.16it/s]"
     ]
    },
    {
     "name": "stderr",
     "output_type": "stream",
     "text": [
      "\r",
      "  2%|██▉                                                                                                                                             | 12/600 [00:06<02:14,  4.36it/s]"
     ]
    },
    {
     "name": "stderr",
     "output_type": "stream",
     "text": [
      "\r",
      "  2%|███                                                                                                                                             | 13/600 [00:06<02:02,  4.79it/s]"
     ]
    },
    {
     "name": "stderr",
     "output_type": "stream",
     "text": [
      "\r",
      "  2%|███▎                                                                                                                                            | 14/600 [00:06<01:55,  5.06it/s]"
     ]
    },
    {
     "name": "stderr",
     "output_type": "stream",
     "text": [
      "\r",
      "  2%|███▌                                                                                                                                            | 15/600 [00:06<01:55,  5.05it/s]"
     ]
    },
    {
     "name": "stderr",
     "output_type": "stream",
     "text": [
      "\r",
      "  3%|███▊                                                                                                                                            | 16/600 [00:07<01:52,  5.18it/s]"
     ]
    },
    {
     "name": "stderr",
     "output_type": "stream",
     "text": [
      "\r",
      "  3%|████                                                                                                                                            | 17/600 [00:07<01:52,  5.17it/s]"
     ]
    },
    {
     "name": "stderr",
     "output_type": "stream",
     "text": [
      "\r",
      "  3%|████▎                                                                                                                                           | 18/600 [00:07<01:49,  5.33it/s]"
     ]
    },
    {
     "name": "stderr",
     "output_type": "stream",
     "text": [
      "\r",
      "  3%|████▌                                                                                                                                           | 19/600 [00:07<01:41,  5.75it/s]"
     ]
    },
    {
     "name": "stderr",
     "output_type": "stream",
     "text": [
      "\r",
      "  3%|████▊                                                                                                                                           | 20/600 [00:07<01:39,  5.82it/s]"
     ]
    },
    {
     "name": "stderr",
     "output_type": "stream",
     "text": [
      "\r",
      "  4%|█████                                                                                                                                           | 21/600 [00:07<01:37,  5.94it/s]"
     ]
    },
    {
     "name": "stderr",
     "output_type": "stream",
     "text": [
      "\r",
      "  4%|█████▎                                                                                                                                          | 22/600 [00:08<01:33,  6.17it/s]"
     ]
    },
    {
     "name": "stderr",
     "output_type": "stream",
     "text": [
      "\r",
      "  4%|█████▌                                                                                                                                          | 23/600 [00:08<01:35,  6.02it/s]"
     ]
    },
    {
     "name": "stderr",
     "output_type": "stream",
     "text": [
      "\r",
      "  4%|█████▊                                                                                                                                          | 24/600 [00:08<01:33,  6.14it/s]"
     ]
    },
    {
     "name": "stderr",
     "output_type": "stream",
     "text": [
      "\r",
      "  4%|██████                                                                                                                                          | 25/600 [00:08<01:31,  6.26it/s]"
     ]
    },
    {
     "name": "stderr",
     "output_type": "stream",
     "text": [
      "\r",
      "  4%|██████▏                                                                                                                                         | 26/600 [00:08<01:32,  6.21it/s]"
     ]
    },
    {
     "name": "stderr",
     "output_type": "stream",
     "text": [
      "\r",
      "  4%|██████▍                                                                                                                                         | 27/600 [00:08<01:32,  6.20it/s]"
     ]
    },
    {
     "name": "stderr",
     "output_type": "stream",
     "text": [
      "\r",
      "  5%|██████▋                                                                                                                                         | 28/600 [00:09<01:33,  6.10it/s]"
     ]
    },
    {
     "name": "stderr",
     "output_type": "stream",
     "text": [
      "\r",
      "  5%|██████▉                                                                                                                                         | 29/600 [00:09<01:40,  5.69it/s]"
     ]
    },
    {
     "name": "stderr",
     "output_type": "stream",
     "text": [
      "\r",
      "  5%|███████▏                                                                                                                                        | 30/600 [00:09<01:45,  5.41it/s]"
     ]
    },
    {
     "name": "stderr",
     "output_type": "stream",
     "text": [
      "\r",
      "  5%|███████▍                                                                                                                                        | 31/600 [00:09<01:42,  5.53it/s]"
     ]
    },
    {
     "name": "stderr",
     "output_type": "stream",
     "text": [
      "\r",
      "  5%|███████▋                                                                                                                                        | 32/600 [00:09<01:42,  5.56it/s]"
     ]
    },
    {
     "name": "stderr",
     "output_type": "stream",
     "text": [
      "\r",
      "  6%|███████▉                                                                                                                                        | 33/600 [00:09<01:45,  5.39it/s]"
     ]
    },
    {
     "name": "stderr",
     "output_type": "stream",
     "text": [
      "\r",
      "  6%|████████▏                                                                                                                                       | 34/600 [00:10<01:54,  4.92it/s]"
     ]
    },
    {
     "name": "stderr",
     "output_type": "stream",
     "text": [
      "\r",
      "  6%|████████▍                                                                                                                                       | 35/600 [00:10<01:57,  4.81it/s]"
     ]
    },
    {
     "name": "stderr",
     "output_type": "stream",
     "text": [
      "\r",
      "  6%|████████▋                                                                                                                                       | 36/600 [00:10<01:46,  5.29it/s]"
     ]
    },
    {
     "name": "stderr",
     "output_type": "stream",
     "text": [
      "\r",
      "  6%|████████▉                                                                                                                                       | 37/600 [00:10<01:36,  5.81it/s]"
     ]
    },
    {
     "name": "stderr",
     "output_type": "stream",
     "text": [
      "\r",
      "  6%|█████████                                                                                                                                       | 38/600 [00:10<01:30,  6.21it/s]"
     ]
    },
    {
     "name": "stderr",
     "output_type": "stream",
     "text": [
      "\r",
      "  6%|█████████▎                                                                                                                                      | 39/600 [00:10<01:26,  6.49it/s]"
     ]
    },
    {
     "name": "stderr",
     "output_type": "stream",
     "text": [
      "\r",
      "  7%|█████████▌                                                                                                                                      | 40/600 [00:11<01:27,  6.42it/s]"
     ]
    },
    {
     "name": "stderr",
     "output_type": "stream",
     "text": [
      "\r",
      "  7%|█████████▊                                                                                                                                      | 41/600 [00:11<01:28,  6.31it/s]"
     ]
    },
    {
     "name": "stderr",
     "output_type": "stream",
     "text": [
      "\r",
      "  7%|██████████                                                                                                                                      | 42/600 [00:11<01:32,  6.02it/s]"
     ]
    },
    {
     "name": "stderr",
     "output_type": "stream",
     "text": [
      "\r",
      "  7%|██████████▎                                                                                                                                     | 43/600 [00:11<01:40,  5.53it/s]"
     ]
    },
    {
     "name": "stderr",
     "output_type": "stream",
     "text": [
      "\r",
      "  7%|██████████▌                                                                                                                                     | 44/600 [00:11<01:36,  5.75it/s]"
     ]
    },
    {
     "name": "stderr",
     "output_type": "stream",
     "text": [
      "\r",
      "  8%|██████████▊                                                                                                                                     | 45/600 [00:12<01:34,  5.88it/s]"
     ]
    },
    {
     "name": "stderr",
     "output_type": "stream",
     "text": [
      "\r",
      "  8%|███████████                                                                                                                                     | 46/600 [00:12<01:40,  5.51it/s]"
     ]
    },
    {
     "name": "stderr",
     "output_type": "stream",
     "text": [
      "\r",
      "  8%|███████████▎                                                                                                                                    | 47/600 [00:12<01:44,  5.32it/s]"
     ]
    },
    {
     "name": "stderr",
     "output_type": "stream",
     "text": [
      "\r",
      "  8%|███████████▌                                                                                                                                    | 48/600 [00:12<01:45,  5.23it/s]"
     ]
    },
    {
     "name": "stderr",
     "output_type": "stream",
     "text": [
      "\r",
      "  8%|███████████▊                                                                                                                                    | 49/600 [00:12<01:39,  5.54it/s]"
     ]
    },
    {
     "name": "stderr",
     "output_type": "stream",
     "text": [
      "\r",
      "  8%|████████████                                                                                                                                    | 50/600 [00:12<01:34,  5.84it/s]"
     ]
    },
    {
     "name": "stderr",
     "output_type": "stream",
     "text": [
      "\r",
      "  8%|████████████▏                                                                                                                                   | 51/600 [00:13<01:31,  6.01it/s]"
     ]
    },
    {
     "name": "stderr",
     "output_type": "stream",
     "text": [
      "\r",
      "  9%|████████████▍                                                                                                                                   | 52/600 [00:13<01:40,  5.43it/s]"
     ]
    },
    {
     "name": "stderr",
     "output_type": "stream",
     "text": [
      "\r",
      "  9%|████████████▋                                                                                                                                   | 53/600 [00:13<01:48,  5.04it/s]"
     ]
    },
    {
     "name": "stderr",
     "output_type": "stream",
     "text": [
      "\r",
      "  9%|████████████▉                                                                                                                                   | 54/600 [00:13<01:49,  4.99it/s]"
     ]
    },
    {
     "name": "stderr",
     "output_type": "stream",
     "text": [
      "\r",
      "  9%|█████████████▏                                                                                                                                  | 55/600 [00:13<01:48,  5.04it/s]"
     ]
    },
    {
     "name": "stderr",
     "output_type": "stream",
     "text": [
      "\r",
      "  9%|█████████████▍                                                                                                                                  | 56/600 [00:14<01:47,  5.06it/s]"
     ]
    },
    {
     "name": "stderr",
     "output_type": "stream",
     "text": [
      "\r",
      " 10%|█████████████▋                                                                                                                                  | 57/600 [00:14<01:46,  5.12it/s]"
     ]
    },
    {
     "name": "stderr",
     "output_type": "stream",
     "text": [
      "\r",
      " 10%|█████████████▉                                                                                                                                  | 58/600 [00:14<01:42,  5.30it/s]"
     ]
    },
    {
     "name": "stderr",
     "output_type": "stream",
     "text": [
      "\r",
      " 10%|██████████████▏                                                                                                                                 | 59/600 [00:14<01:36,  5.63it/s]"
     ]
    },
    {
     "name": "stderr",
     "output_type": "stream",
     "text": [
      "\r",
      " 10%|██████████████▍                                                                                                                                 | 60/600 [00:14<01:31,  5.89it/s]"
     ]
    },
    {
     "name": "stderr",
     "output_type": "stream",
     "text": [
      "\r",
      " 10%|██████████████▋                                                                                                                                 | 61/600 [00:14<01:28,  6.10it/s]"
     ]
    },
    {
     "name": "stderr",
     "output_type": "stream",
     "text": [
      "\r",
      " 10%|██████████████▉                                                                                                                                 | 62/600 [00:15<01:26,  6.23it/s]"
     ]
    },
    {
     "name": "stderr",
     "output_type": "stream",
     "text": [
      "\r",
      " 10%|███████████████                                                                                                                                 | 63/600 [00:15<01:24,  6.36it/s]"
     ]
    },
    {
     "name": "stderr",
     "output_type": "stream",
     "text": [
      "\r",
      " 11%|███████████████▎                                                                                                                                | 64/600 [00:15<01:23,  6.43it/s]"
     ]
    },
    {
     "name": "stderr",
     "output_type": "stream",
     "text": [
      "\r",
      " 11%|███████████████▌                                                                                                                                | 65/600 [00:15<01:22,  6.46it/s]"
     ]
    },
    {
     "name": "stderr",
     "output_type": "stream",
     "text": [
      "\r",
      " 11%|███████████████▊                                                                                                                                | 66/600 [00:15<01:22,  6.49it/s]"
     ]
    },
    {
     "name": "stderr",
     "output_type": "stream",
     "text": [
      "\r",
      " 11%|████████████████                                                                                                                                | 67/600 [00:15<01:21,  6.51it/s]"
     ]
    },
    {
     "name": "stderr",
     "output_type": "stream",
     "text": [
      "\r",
      " 11%|████████████████▎                                                                                                                               | 68/600 [00:16<01:21,  6.56it/s]"
     ]
    },
    {
     "name": "stderr",
     "output_type": "stream",
     "text": [
      "\r",
      " 12%|████████████████▌                                                                                                                               | 69/600 [00:16<01:20,  6.61it/s]"
     ]
    },
    {
     "name": "stderr",
     "output_type": "stream",
     "text": [
      "\r",
      " 12%|████████████████▊                                                                                                                               | 70/600 [00:16<01:20,  6.62it/s]"
     ]
    },
    {
     "name": "stderr",
     "output_type": "stream",
     "text": [
      "\r",
      " 12%|█████████████████                                                                                                                               | 71/600 [00:16<01:16,  6.95it/s]"
     ]
    },
    {
     "name": "stderr",
     "output_type": "stream",
     "text": [
      "\r",
      " 12%|█████████████████▎                                                                                                                              | 72/600 [00:16<01:12,  7.25it/s]"
     ]
    },
    {
     "name": "stderr",
     "output_type": "stream",
     "text": [
      "\r",
      " 12%|█████████████████▌                                                                                                                              | 73/600 [00:16<01:10,  7.44it/s]"
     ]
    },
    {
     "name": "stderr",
     "output_type": "stream",
     "text": [
      "\r",
      " 12%|█████████████████▊                                                                                                                              | 74/600 [00:16<01:09,  7.57it/s]"
     ]
    },
    {
     "name": "stderr",
     "output_type": "stream",
     "text": [
      "\r",
      " 12%|██████████████████                                                                                                                              | 75/600 [00:16<01:08,  7.70it/s]"
     ]
    },
    {
     "name": "stderr",
     "output_type": "stream",
     "text": [
      "\r",
      " 13%|██████████████████▏                                                                                                                             | 76/600 [00:17<01:07,  7.78it/s]"
     ]
    },
    {
     "name": "stderr",
     "output_type": "stream",
     "text": [
      "\r",
      " 13%|██████████████████▍                                                                                                                             | 77/600 [00:17<01:06,  7.84it/s]"
     ]
    },
    {
     "name": "stderr",
     "output_type": "stream",
     "text": [
      "\r",
      " 13%|██████████████████▋                                                                                                                             | 78/600 [00:17<01:09,  7.46it/s]"
     ]
    },
    {
     "name": "stderr",
     "output_type": "stream",
     "text": [
      "\r",
      " 13%|██████████████████▉                                                                                                                             | 79/600 [00:17<01:12,  7.22it/s]"
     ]
    },
    {
     "name": "stderr",
     "output_type": "stream",
     "text": [
      "\r",
      " 13%|███████████████████▏                                                                                                                            | 80/600 [00:17<01:13,  7.05it/s]"
     ]
    },
    {
     "name": "stderr",
     "output_type": "stream",
     "text": [
      "\r",
      " 14%|███████████████████▍                                                                                                                            | 81/600 [00:17<01:15,  6.91it/s]"
     ]
    },
    {
     "name": "stderr",
     "output_type": "stream",
     "text": [
      "\r",
      " 14%|███████████████████▋                                                                                                                            | 82/600 [00:17<01:15,  6.84it/s]"
     ]
    },
    {
     "name": "stderr",
     "output_type": "stream",
     "text": [
      "\r",
      " 14%|███████████████████▉                                                                                                                            | 83/600 [00:18<01:15,  6.81it/s]"
     ]
    },
    {
     "name": "stderr",
     "output_type": "stream",
     "text": [
      "\r",
      " 14%|████████████████████▏                                                                                                                           | 84/600 [00:18<01:16,  6.78it/s]"
     ]
    },
    {
     "name": "stderr",
     "output_type": "stream",
     "text": [
      "\r",
      " 14%|████████████████████▍                                                                                                                           | 85/600 [00:18<01:16,  6.77it/s]"
     ]
    },
    {
     "name": "stderr",
     "output_type": "stream",
     "text": [
      "\r",
      " 14%|████████████████████▋                                                                                                                           | 86/600 [00:18<01:16,  6.74it/s]"
     ]
    },
    {
     "name": "stderr",
     "output_type": "stream",
     "text": [
      "\r",
      " 14%|████████████████████▉                                                                                                                           | 87/600 [00:18<01:23,  6.16it/s]"
     ]
    },
    {
     "name": "stderr",
     "output_type": "stream",
     "text": [
      "\r",
      " 15%|█████████████████████                                                                                                                           | 88/600 [00:18<01:24,  6.08it/s]"
     ]
    },
    {
     "name": "stderr",
     "output_type": "stream",
     "text": [
      "\r",
      " 15%|█████████████████████▎                                                                                                                          | 89/600 [00:19<01:23,  6.12it/s]"
     ]
    },
    {
     "name": "stderr",
     "output_type": "stream",
     "text": [
      "\r",
      " 15%|█████████████████████▌                                                                                                                          | 90/600 [00:19<01:23,  6.11it/s]"
     ]
    },
    {
     "name": "stderr",
     "output_type": "stream",
     "text": [
      "\r",
      " 15%|█████████████████████▊                                                                                                                          | 91/600 [00:19<01:23,  6.10it/s]"
     ]
    },
    {
     "name": "stderr",
     "output_type": "stream",
     "text": [
      "\r",
      " 15%|██████████████████████                                                                                                                          | 92/600 [00:19<01:22,  6.16it/s]"
     ]
    },
    {
     "name": "stderr",
     "output_type": "stream",
     "text": [
      "\r",
      " 16%|██████████████████████▎                                                                                                                         | 93/600 [00:19<01:20,  6.26it/s]"
     ]
    },
    {
     "name": "stderr",
     "output_type": "stream",
     "text": [
      "\r",
      " 16%|██████████████████████▌                                                                                                                         | 94/600 [00:19<01:23,  6.09it/s]"
     ]
    },
    {
     "name": "stderr",
     "output_type": "stream",
     "text": [
      "\r",
      " 16%|██████████████████████▊                                                                                                                         | 95/600 [00:20<01:32,  5.44it/s]"
     ]
    },
    {
     "name": "stderr",
     "output_type": "stream",
     "text": [
      "\r",
      " 16%|███████████████████████                                                                                                                         | 96/600 [00:20<01:33,  5.41it/s]"
     ]
    },
    {
     "name": "stderr",
     "output_type": "stream",
     "text": [
      "\r",
      " 16%|███████████████████████▎                                                                                                                        | 97/600 [00:20<01:30,  5.55it/s]"
     ]
    },
    {
     "name": "stderr",
     "output_type": "stream",
     "text": [
      "\r",
      " 16%|███████████████████████▌                                                                                                                        | 98/600 [00:20<01:31,  5.51it/s]"
     ]
    },
    {
     "name": "stderr",
     "output_type": "stream",
     "text": [
      "\r",
      " 16%|███████████████████████▊                                                                                                                        | 99/600 [00:20<01:34,  5.29it/s]"
     ]
    },
    {
     "name": "stderr",
     "output_type": "stream",
     "text": [
      "\r",
      " 17%|███████████████████████▊                                                                                                                       | 100/600 [00:21<01:35,  5.23it/s]"
     ]
    },
    {
     "name": "stderr",
     "output_type": "stream",
     "text": [
      "\r",
      " 17%|████████████████████████                                                                                                                       | 101/600 [00:21<01:42,  4.85it/s]"
     ]
    },
    {
     "name": "stderr",
     "output_type": "stream",
     "text": [
      "\r",
      " 17%|████████████████████████▎                                                                                                                      | 102/600 [00:21<01:48,  4.58it/s]"
     ]
    },
    {
     "name": "stderr",
     "output_type": "stream",
     "text": [
      "\r",
      " 17%|████████████████████████▌                                                                                                                      | 103/600 [00:21<01:44,  4.74it/s]"
     ]
    },
    {
     "name": "stderr",
     "output_type": "stream",
     "text": [
      "\r",
      " 17%|████████████████████████▊                                                                                                                      | 104/600 [00:21<01:38,  5.05it/s]"
     ]
    },
    {
     "name": "stderr",
     "output_type": "stream",
     "text": [
      "\r",
      " 18%|█████████████████████████                                                                                                                      | 105/600 [00:22<01:31,  5.41it/s]"
     ]
    },
    {
     "name": "stderr",
     "output_type": "stream",
     "text": [
      "\r",
      " 18%|█████████████████████████▎                                                                                                                     | 106/600 [00:22<01:26,  5.68it/s]"
     ]
    },
    {
     "name": "stderr",
     "output_type": "stream",
     "text": [
      "\r",
      " 18%|█████████████████████████▌                                                                                                                     | 107/600 [00:22<01:23,  5.93it/s]"
     ]
    },
    {
     "name": "stderr",
     "output_type": "stream",
     "text": [
      "\r",
      " 18%|█████████████████████████▋                                                                                                                     | 108/600 [00:22<01:20,  6.10it/s]"
     ]
    },
    {
     "name": "stderr",
     "output_type": "stream",
     "text": [
      "\r",
      " 18%|█████████████████████████▉                                                                                                                     | 109/600 [00:22<01:18,  6.27it/s]"
     ]
    },
    {
     "name": "stderr",
     "output_type": "stream",
     "text": [
      "\r",
      " 18%|██████████████████████████▏                                                                                                                    | 110/600 [00:22<01:16,  6.37it/s]"
     ]
    },
    {
     "name": "stderr",
     "output_type": "stream",
     "text": [
      "\r",
      " 18%|██████████████████████████▍                                                                                                                    | 111/600 [00:22<01:16,  6.40it/s]"
     ]
    },
    {
     "name": "stderr",
     "output_type": "stream",
     "text": [
      "\r",
      " 19%|██████████████████████████▋                                                                                                                    | 112/600 [00:23<01:15,  6.46it/s]"
     ]
    },
    {
     "name": "stderr",
     "output_type": "stream",
     "text": [
      "\r",
      " 19%|██████████████████████████▉                                                                                                                    | 113/600 [00:23<01:14,  6.52it/s]"
     ]
    },
    {
     "name": "stderr",
     "output_type": "stream",
     "text": [
      "\r",
      " 19%|███████████████████████████▏                                                                                                                   | 114/600 [00:23<01:14,  6.55it/s]"
     ]
    },
    {
     "name": "stderr",
     "output_type": "stream",
     "text": [
      "\r",
      " 19%|███████████████████████████▍                                                                                                                   | 115/600 [00:23<01:13,  6.58it/s]"
     ]
    },
    {
     "name": "stderr",
     "output_type": "stream",
     "text": [
      "\r",
      " 19%|███████████████████████████▋                                                                                                                   | 116/600 [00:23<01:13,  6.60it/s]"
     ]
    },
    {
     "name": "stderr",
     "output_type": "stream",
     "text": [
      "\r",
      " 20%|███████████████████████████▉                                                                                                                   | 117/600 [00:23<01:12,  6.63it/s]"
     ]
    },
    {
     "name": "stderr",
     "output_type": "stream",
     "text": [
      "\r",
      " 20%|████████████████████████████                                                                                                                   | 118/600 [00:24<01:12,  6.64it/s]"
     ]
    },
    {
     "name": "stderr",
     "output_type": "stream",
     "text": [
      "\r",
      " 20%|████████████████████████████▎                                                                                                                  | 119/600 [00:24<01:12,  6.64it/s]"
     ]
    },
    {
     "name": "stderr",
     "output_type": "stream",
     "text": [
      "\r",
      " 20%|████████████████████████████▌                                                                                                                  | 120/600 [00:24<01:19,  6.05it/s]"
     ]
    },
    {
     "name": "stderr",
     "output_type": "stream",
     "text": [
      "\r",
      " 20%|████████████████████████████▊                                                                                                                  | 121/600 [00:24<01:26,  5.52it/s]"
     ]
    },
    {
     "name": "stderr",
     "output_type": "stream",
     "text": [
      "\r",
      " 20%|█████████████████████████████                                                                                                                  | 122/600 [00:24<01:31,  5.22it/s]"
     ]
    },
    {
     "name": "stderr",
     "output_type": "stream",
     "text": [
      "\r",
      " 20%|█████████████████████████████▎                                                                                                                 | 123/600 [00:24<01:27,  5.47it/s]"
     ]
    },
    {
     "name": "stderr",
     "output_type": "stream",
     "text": [
      "\r",
      " 21%|█████████████████████████████▌                                                                                                                 | 124/600 [00:25<01:21,  5.87it/s]"
     ]
    },
    {
     "name": "stderr",
     "output_type": "stream",
     "text": [
      "\r",
      " 21%|█████████████████████████████▊                                                                                                                 | 125/600 [00:25<01:18,  6.03it/s]"
     ]
    },
    {
     "name": "stderr",
     "output_type": "stream",
     "text": [
      "\r",
      " 21%|██████████████████████████████                                                                                                                 | 126/600 [00:25<01:32,  5.10it/s]"
     ]
    },
    {
     "name": "stderr",
     "output_type": "stream",
     "text": [
      "\r",
      " 21%|██████████████████████████████▎                                                                                                                | 127/600 [00:25<01:37,  4.83it/s]"
     ]
    },
    {
     "name": "stderr",
     "output_type": "stream",
     "text": [
      "\r",
      " 21%|██████████████████████████████▌                                                                                                                | 128/600 [00:25<01:32,  5.10it/s]"
     ]
    },
    {
     "name": "stderr",
     "output_type": "stream",
     "text": [
      "\r",
      " 22%|██████████████████████████████▋                                                                                                                | 129/600 [00:26<01:45,  4.48it/s]"
     ]
    },
    {
     "name": "stderr",
     "output_type": "stream",
     "text": [
      "\r",
      " 22%|██████████████████████████████▉                                                                                                                | 130/600 [00:26<01:41,  4.62it/s]"
     ]
    },
    {
     "name": "stderr",
     "output_type": "stream",
     "text": [
      "\r",
      " 22%|███████████████████████████████▏                                                                                                               | 131/600 [00:26<01:31,  5.12it/s]"
     ]
    },
    {
     "name": "stderr",
     "output_type": "stream",
     "text": [
      "\r",
      " 22%|███████████████████████████████▍                                                                                                               | 132/600 [00:26<01:23,  5.62it/s]"
     ]
    },
    {
     "name": "stderr",
     "output_type": "stream",
     "text": [
      "\r",
      " 22%|███████████████████████████████▋                                                                                                               | 133/600 [00:26<01:26,  5.42it/s]"
     ]
    },
    {
     "name": "stderr",
     "output_type": "stream",
     "text": [
      "\r",
      " 22%|███████████████████████████████▉                                                                                                               | 134/600 [00:27<01:36,  4.81it/s]"
     ]
    },
    {
     "name": "stderr",
     "output_type": "stream",
     "text": [
      "\r",
      " 22%|████████████████████████████████▏                                                                                                              | 135/600 [00:27<01:35,  4.85it/s]"
     ]
    },
    {
     "name": "stderr",
     "output_type": "stream",
     "text": [
      "\r",
      " 23%|████████████████████████████████▍                                                                                                              | 136/600 [00:27<01:24,  5.48it/s]"
     ]
    },
    {
     "name": "stderr",
     "output_type": "stream",
     "text": [
      "\r",
      " 23%|████████████████████████████████▋                                                                                                              | 137/600 [00:27<01:22,  5.63it/s]"
     ]
    },
    {
     "name": "stderr",
     "output_type": "stream",
     "text": [
      "\r",
      " 23%|████████████████████████████████▉                                                                                                              | 138/600 [00:27<01:20,  5.74it/s]"
     ]
    },
    {
     "name": "stderr",
     "output_type": "stream",
     "text": [
      "\r",
      " 23%|█████████████████████████████████▏                                                                                                             | 139/600 [00:28<01:20,  5.75it/s]"
     ]
    },
    {
     "name": "stderr",
     "output_type": "stream",
     "text": [
      "\r",
      " 23%|█████████████████████████████████▎                                                                                                             | 140/600 [00:28<01:15,  6.06it/s]"
     ]
    },
    {
     "name": "stderr",
     "output_type": "stream",
     "text": [
      "\r",
      " 24%|█████████████████████████████████▌                                                                                                             | 141/600 [00:28<01:13,  6.21it/s]"
     ]
    },
    {
     "name": "stderr",
     "output_type": "stream",
     "text": [
      "\r",
      " 24%|█████████████████████████████████▊                                                                                                             | 142/600 [00:28<01:14,  6.18it/s]"
     ]
    },
    {
     "name": "stderr",
     "output_type": "stream",
     "text": [
      "\r",
      " 24%|██████████████████████████████████                                                                                                             | 143/600 [00:28<01:13,  6.19it/s]"
     ]
    },
    {
     "name": "stderr",
     "output_type": "stream",
     "text": [
      "\r",
      " 24%|██████████████████████████████████▎                                                                                                            | 144/600 [00:28<01:13,  6.22it/s]"
     ]
    },
    {
     "name": "stderr",
     "output_type": "stream",
     "text": [
      "\r",
      " 24%|██████████████████████████████████▌                                                                                                            | 145/600 [00:28<01:12,  6.26it/s]"
     ]
    },
    {
     "name": "stderr",
     "output_type": "stream",
     "text": [
      "\r",
      " 24%|██████████████████████████████████▊                                                                                                            | 146/600 [00:29<01:13,  6.19it/s]"
     ]
    },
    {
     "name": "stderr",
     "output_type": "stream",
     "text": [
      "\r",
      " 24%|███████████████████████████████████                                                                                                            | 147/600 [00:29<01:13,  6.17it/s]"
     ]
    },
    {
     "name": "stderr",
     "output_type": "stream",
     "text": [
      "\r",
      " 25%|███████████████████████████████████▎                                                                                                           | 148/600 [00:29<01:08,  6.56it/s]"
     ]
    },
    {
     "name": "stderr",
     "output_type": "stream",
     "text": [
      "\r",
      " 25%|███████████████████████████████████▌                                                                                                           | 149/600 [00:29<01:08,  6.61it/s]"
     ]
    },
    {
     "name": "stderr",
     "output_type": "stream",
     "text": [
      "\r",
      " 25%|███████████████████████████████████▊                                                                                                           | 150/600 [00:29<01:08,  6.61it/s]"
     ]
    },
    {
     "name": "stderr",
     "output_type": "stream",
     "text": [
      "\r",
      " 25%|███████████████████████████████████▉                                                                                                           | 151/600 [00:29<01:07,  6.62it/s]"
     ]
    },
    {
     "name": "stderr",
     "output_type": "stream",
     "text": [
      "\r",
      " 25%|████████████████████████████████████▏                                                                                                          | 152/600 [00:30<01:07,  6.62it/s]"
     ]
    },
    {
     "name": "stderr",
     "output_type": "stream",
     "text": [
      "\r",
      " 26%|████████████████████████████████████▍                                                                                                          | 153/600 [00:30<01:07,  6.66it/s]"
     ]
    },
    {
     "name": "stderr",
     "output_type": "stream",
     "text": [
      "\r",
      " 26%|████████████████████████████████████▋                                                                                                          | 154/600 [00:30<01:06,  6.67it/s]"
     ]
    },
    {
     "name": "stderr",
     "output_type": "stream",
     "text": [
      "\r",
      " 26%|████████████████████████████████████▉                                                                                                          | 155/600 [00:30<01:06,  6.67it/s]"
     ]
    },
    {
     "name": "stderr",
     "output_type": "stream",
     "text": [
      "\r",
      " 26%|█████████████████████████████████████▏                                                                                                         | 156/600 [00:30<01:06,  6.68it/s]"
     ]
    },
    {
     "name": "stderr",
     "output_type": "stream",
     "text": [
      "\r",
      " 26%|█████████████████████████████████████▍                                                                                                         | 157/600 [00:30<01:06,  6.67it/s]"
     ]
    },
    {
     "name": "stderr",
     "output_type": "stream",
     "text": [
      "\r",
      " 26%|█████████████████████████████████████▋                                                                                                         | 158/600 [00:30<01:05,  6.70it/s]"
     ]
    },
    {
     "name": "stderr",
     "output_type": "stream",
     "text": [
      "\r",
      " 26%|█████████████████████████████████████▉                                                                                                         | 159/600 [00:31<01:06,  6.66it/s]"
     ]
    },
    {
     "name": "stderr",
     "output_type": "stream",
     "text": [
      "\r",
      " 27%|██████████████████████████████████████▏                                                                                                        | 160/600 [00:31<01:06,  6.65it/s]"
     ]
    },
    {
     "name": "stderr",
     "output_type": "stream",
     "text": [
      "\r",
      " 27%|██████████████████████████████████████▎                                                                                                        | 161/600 [00:31<01:06,  6.58it/s]"
     ]
    },
    {
     "name": "stderr",
     "output_type": "stream",
     "text": [
      "\r",
      " 27%|██████████████████████████████████████▌                                                                                                        | 162/600 [00:31<01:04,  6.77it/s]"
     ]
    },
    {
     "name": "stderr",
     "output_type": "stream",
     "text": [
      "\r",
      " 27%|██████████████████████████████████████▊                                                                                                        | 163/600 [00:31<01:13,  5.98it/s]"
     ]
    },
    {
     "name": "stderr",
     "output_type": "stream",
     "text": [
      "\r",
      " 27%|███████████████████████████████████████                                                                                                        | 164/600 [00:31<01:23,  5.23it/s]"
     ]
    },
    {
     "name": "stderr",
     "output_type": "stream",
     "text": [
      "\r",
      " 28%|███████████████████████████████████████▎                                                                                                       | 165/600 [00:32<01:28,  4.91it/s]"
     ]
    },
    {
     "name": "stderr",
     "output_type": "stream",
     "text": [
      "\r",
      " 28%|███████████████████████████████████████▌                                                                                                       | 166/600 [00:32<01:31,  4.72it/s]"
     ]
    },
    {
     "name": "stderr",
     "output_type": "stream",
     "text": [
      "\r",
      " 28%|███████████████████████████████████████▊                                                                                                       | 167/600 [00:32<01:29,  4.85it/s]"
     ]
    },
    {
     "name": "stderr",
     "output_type": "stream",
     "text": [
      "\r",
      " 28%|████████████████████████████████████████                                                                                                       | 168/600 [00:32<01:21,  5.27it/s]"
     ]
    },
    {
     "name": "stderr",
     "output_type": "stream",
     "text": [
      "\r",
      " 28%|████████████████████████████████████████▎                                                                                                      | 169/600 [00:32<01:17,  5.59it/s]"
     ]
    },
    {
     "name": "stderr",
     "output_type": "stream",
     "text": [
      "\r",
      " 28%|████████████████████████████████████████▌                                                                                                      | 170/600 [00:33<01:13,  5.82it/s]"
     ]
    },
    {
     "name": "stderr",
     "output_type": "stream",
     "text": [
      "\r",
      " 28%|████████████████████████████████████████▊                                                                                                      | 171/600 [00:33<01:12,  5.94it/s]"
     ]
    },
    {
     "name": "stderr",
     "output_type": "stream",
     "text": [
      "\r",
      " 29%|████████████████████████████████████████▉                                                                                                      | 172/600 [00:33<01:10,  6.09it/s]"
     ]
    },
    {
     "name": "stderr",
     "output_type": "stream",
     "text": [
      "\r",
      " 29%|█████████████████████████████████████████▏                                                                                                     | 173/600 [00:33<01:08,  6.25it/s]"
     ]
    },
    {
     "name": "stderr",
     "output_type": "stream",
     "text": [
      "\r",
      " 29%|█████████████████████████████████████████▍                                                                                                     | 174/600 [00:33<01:04,  6.58it/s]"
     ]
    },
    {
     "name": "stderr",
     "output_type": "stream",
     "text": [
      "\r",
      " 29%|█████████████████████████████████████████▋                                                                                                     | 175/600 [00:33<01:01,  6.96it/s]"
     ]
    },
    {
     "name": "stderr",
     "output_type": "stream",
     "text": [
      "\r",
      " 29%|█████████████████████████████████████████▉                                                                                                     | 176/600 [00:33<01:01,  6.85it/s]"
     ]
    },
    {
     "name": "stderr",
     "output_type": "stream",
     "text": [
      "\r",
      " 30%|██████████████████████████████████████████▏                                                                                                    | 177/600 [00:34<01:02,  6.80it/s]"
     ]
    },
    {
     "name": "stderr",
     "output_type": "stream",
     "text": [
      "\r",
      " 30%|██████████████████████████████████████████▍                                                                                                    | 178/600 [00:34<01:02,  6.77it/s]"
     ]
    },
    {
     "name": "stderr",
     "output_type": "stream",
     "text": [
      "\r",
      " 30%|██████████████████████████████████████████▋                                                                                                    | 179/600 [00:34<01:03,  6.60it/s]"
     ]
    },
    {
     "name": "stderr",
     "output_type": "stream",
     "text": [
      "\r",
      " 30%|██████████████████████████████████████████▉                                                                                                    | 180/600 [00:34<01:03,  6.62it/s]"
     ]
    },
    {
     "name": "stderr",
     "output_type": "stream",
     "text": [
      "\r",
      " 30%|███████████████████████████████████████████▏                                                                                                   | 181/600 [00:34<00:59,  7.00it/s]"
     ]
    },
    {
     "name": "stderr",
     "output_type": "stream",
     "text": [
      "\r",
      " 30%|███████████████████████████████████████████▍                                                                                                   | 182/600 [00:34<01:00,  6.91it/s]"
     ]
    },
    {
     "name": "stderr",
     "output_type": "stream",
     "text": [
      "\r",
      " 30%|███████████████████████████████████████████▌                                                                                                   | 183/600 [00:34<01:00,  6.84it/s]"
     ]
    },
    {
     "name": "stderr",
     "output_type": "stream",
     "text": [
      "\r",
      " 31%|███████████████████████████████████████████▊                                                                                                   | 184/600 [00:35<00:58,  7.09it/s]"
     ]
    },
    {
     "name": "stderr",
     "output_type": "stream",
     "text": [
      "\r",
      " 31%|████████████████████████████████████████████                                                                                                   | 185/600 [00:35<00:59,  6.92it/s]"
     ]
    },
    {
     "name": "stderr",
     "output_type": "stream",
     "text": [
      "\r",
      " 31%|████████████████████████████████████████████▎                                                                                                  | 186/600 [00:35<01:00,  6.83it/s]"
     ]
    },
    {
     "name": "stderr",
     "output_type": "stream",
     "text": [
      "\r",
      " 31%|████████████████████████████████████████████▌                                                                                                  | 187/600 [00:35<01:01,  6.75it/s]"
     ]
    },
    {
     "name": "stderr",
     "output_type": "stream",
     "text": [
      "\r",
      " 31%|████████████████████████████████████████████▊                                                                                                  | 188/600 [00:35<01:01,  6.73it/s]"
     ]
    },
    {
     "name": "stderr",
     "output_type": "stream",
     "text": [
      "\r",
      " 32%|█████████████████████████████████████████████                                                                                                  | 189/600 [00:35<01:01,  6.68it/s]"
     ]
    },
    {
     "name": "stderr",
     "output_type": "stream",
     "text": [
      "\r",
      " 32%|█████████████████████████████████████████████▎                                                                                                 | 190/600 [00:36<01:01,  6.65it/s]"
     ]
    },
    {
     "name": "stderr",
     "output_type": "stream",
     "text": [
      "\r",
      " 32%|█████████████████████████████████████████████▌                                                                                                 | 191/600 [00:36<01:03,  6.46it/s]"
     ]
    },
    {
     "name": "stderr",
     "output_type": "stream",
     "text": [
      "\r",
      " 32%|█████████████████████████████████████████████▊                                                                                                 | 192/600 [00:36<01:08,  6.00it/s]"
     ]
    },
    {
     "name": "stderr",
     "output_type": "stream",
     "text": [
      "\r",
      " 32%|█████████████████████████████████████████████▉                                                                                                 | 193/600 [00:36<01:13,  5.57it/s]"
     ]
    },
    {
     "name": "stderr",
     "output_type": "stream",
     "text": [
      "\r",
      " 32%|██████████████████████████████████████████████▏                                                                                                | 194/600 [00:36<01:22,  4.93it/s]"
     ]
    },
    {
     "name": "stderr",
     "output_type": "stream",
     "text": [
      "\r",
      " 32%|██████████████████████████████████████████████▍                                                                                                | 195/600 [00:37<01:18,  5.17it/s]"
     ]
    },
    {
     "name": "stderr",
     "output_type": "stream",
     "text": [
      "\r",
      " 33%|██████████████████████████████████████████████▋                                                                                                | 196/600 [00:37<01:12,  5.54it/s]"
     ]
    },
    {
     "name": "stderr",
     "output_type": "stream",
     "text": [
      "\r",
      " 33%|██████████████████████████████████████████████▉                                                                                                | 197/600 [00:37<01:09,  5.80it/s]"
     ]
    },
    {
     "name": "stderr",
     "output_type": "stream",
     "text": [
      "\r",
      " 33%|███████████████████████████████████████████████▏                                                                                               | 198/600 [00:37<01:14,  5.38it/s]"
     ]
    },
    {
     "name": "stderr",
     "output_type": "stream",
     "text": [
      "\r",
      " 33%|███████████████████████████████████████████████▍                                                                                               | 199/600 [00:37<01:18,  5.13it/s]"
     ]
    },
    {
     "name": "stderr",
     "output_type": "stream",
     "text": [
      "\r",
      " 33%|███████████████████████████████████████████████▋                                                                                               | 200/600 [00:37<01:13,  5.47it/s]"
     ]
    },
    {
     "name": "stderr",
     "output_type": "stream",
     "text": [
      "\r",
      " 34%|███████████████████████████████████████████████▉                                                                                               | 201/600 [00:38<01:09,  5.73it/s]"
     ]
    },
    {
     "name": "stderr",
     "output_type": "stream",
     "text": [
      "\r",
      " 34%|████████████████████████████████████████████████▏                                                                                              | 202/600 [00:38<01:06,  5.94it/s]"
     ]
    },
    {
     "name": "stderr",
     "output_type": "stream",
     "text": [
      "\r",
      " 34%|████████████████████████████████████████████████▍                                                                                              | 203/600 [00:38<01:06,  6.00it/s]"
     ]
    },
    {
     "name": "stderr",
     "output_type": "stream",
     "text": [
      "\r",
      " 34%|████████████████████████████████████████████████▌                                                                                              | 204/600 [00:38<01:10,  5.60it/s]"
     ]
    },
    {
     "name": "stderr",
     "output_type": "stream",
     "text": [
      "\r",
      " 34%|████████████████████████████████████████████████▊                                                                                              | 205/600 [00:38<01:17,  5.09it/s]"
     ]
    },
    {
     "name": "stderr",
     "output_type": "stream",
     "text": [
      "\r",
      " 34%|█████████████████████████████████████████████████                                                                                              | 206/600 [00:38<01:12,  5.44it/s]"
     ]
    },
    {
     "name": "stderr",
     "output_type": "stream",
     "text": [
      "\r",
      " 34%|█████████████████████████████████████████████████▎                                                                                             | 207/600 [00:39<01:05,  5.97it/s]"
     ]
    },
    {
     "name": "stderr",
     "output_type": "stream",
     "text": [
      "\r",
      " 35%|█████████████████████████████████████████████████▌                                                                                             | 208/600 [00:39<01:01,  6.36it/s]"
     ]
    },
    {
     "name": "stderr",
     "output_type": "stream",
     "text": [
      "\r",
      " 35%|█████████████████████████████████████████████████▊                                                                                             | 209/600 [00:39<00:59,  6.56it/s]"
     ]
    },
    {
     "name": "stderr",
     "output_type": "stream",
     "text": [
      "\r",
      " 35%|██████████████████████████████████████████████████                                                                                             | 210/600 [00:39<01:00,  6.49it/s]"
     ]
    },
    {
     "name": "stderr",
     "output_type": "stream",
     "text": [
      "\r",
      " 35%|██████████████████████████████████████████████████▎                                                                                            | 211/600 [00:39<01:09,  5.61it/s]"
     ]
    },
    {
     "name": "stderr",
     "output_type": "stream",
     "text": [
      "\r",
      " 35%|██████████████████████████████████████████████████▌                                                                                            | 212/600 [00:40<01:18,  4.93it/s]"
     ]
    },
    {
     "name": "stderr",
     "output_type": "stream",
     "text": [
      "\r",
      " 36%|██████████████████████████████████████████████████▊                                                                                            | 213/600 [00:40<01:24,  4.57it/s]"
     ]
    },
    {
     "name": "stderr",
     "output_type": "stream",
     "text": [
      "\r",
      " 36%|███████████████████████████████████████████████████                                                                                            | 214/600 [00:40<01:31,  4.21it/s]"
     ]
    },
    {
     "name": "stderr",
     "output_type": "stream",
     "text": [
      "\r",
      " 36%|███████████████████████████████████████████████████▏                                                                                           | 215/600 [00:40<01:31,  4.23it/s]"
     ]
    },
    {
     "name": "stderr",
     "output_type": "stream",
     "text": [
      "\r",
      " 36%|███████████████████████████████████████████████████▍                                                                                           | 216/600 [00:41<01:30,  4.23it/s]"
     ]
    },
    {
     "name": "stderr",
     "output_type": "stream",
     "text": [
      "\r",
      " 36%|███████████████████████████████████████████████████▋                                                                                           | 217/600 [00:41<01:21,  4.72it/s]"
     ]
    },
    {
     "name": "stderr",
     "output_type": "stream",
     "text": [
      "\r",
      " 36%|███████████████████████████████████████████████████▉                                                                                           | 218/600 [00:41<01:20,  4.74it/s]"
     ]
    },
    {
     "name": "stderr",
     "output_type": "stream",
     "text": [
      "\r",
      " 36%|████████████████████████████████████████████████████▏                                                                                          | 219/600 [00:41<01:17,  4.89it/s]"
     ]
    },
    {
     "name": "stderr",
     "output_type": "stream",
     "text": [
      "\r",
      " 37%|████████████████████████████████████████████████████▍                                                                                          | 220/600 [00:41<01:11,  5.28it/s]"
     ]
    },
    {
     "name": "stderr",
     "output_type": "stream",
     "text": [
      "\r",
      " 37%|████████████████████████████████████████████████████▋                                                                                          | 221/600 [00:41<01:08,  5.53it/s]"
     ]
    },
    {
     "name": "stderr",
     "output_type": "stream",
     "text": [
      "\r",
      " 37%|████████████████████████████████████████████████████▉                                                                                          | 222/600 [00:42<01:08,  5.49it/s]"
     ]
    },
    {
     "name": "stderr",
     "output_type": "stream",
     "text": [
      "\r",
      " 37%|█████████████████████████████████████████████████████▏                                                                                         | 223/600 [00:42<01:07,  5.56it/s]"
     ]
    },
    {
     "name": "stderr",
     "output_type": "stream",
     "text": [
      "\r",
      " 37%|█████████████████████████████████████████████████████▍                                                                                         | 224/600 [00:42<01:06,  5.67it/s]"
     ]
    },
    {
     "name": "stderr",
     "output_type": "stream",
     "text": [
      "\r",
      " 38%|█████████████████████████████████████████████████████▋                                                                                         | 225/600 [00:42<01:04,  5.83it/s]"
     ]
    },
    {
     "name": "stderr",
     "output_type": "stream",
     "text": [
      "\r",
      " 38%|█████████████████████████████████████████████████████▊                                                                                         | 226/600 [00:42<01:03,  5.92it/s]"
     ]
    },
    {
     "name": "stderr",
     "output_type": "stream",
     "text": [
      "\r",
      " 38%|██████████████████████████████████████████████████████                                                                                         | 227/600 [00:42<01:02,  5.94it/s]"
     ]
    },
    {
     "name": "stderr",
     "output_type": "stream",
     "text": [
      "\r",
      " 38%|██████████████████████████████████████████████████████▎                                                                                        | 228/600 [00:43<00:59,  6.21it/s]"
     ]
    },
    {
     "name": "stderr",
     "output_type": "stream",
     "text": [
      "\r",
      " 38%|██████████████████████████████████████████████████████▌                                                                                        | 229/600 [00:43<00:57,  6.49it/s]"
     ]
    },
    {
     "name": "stderr",
     "output_type": "stream",
     "text": [
      "\r",
      " 38%|██████████████████████████████████████████████████████▊                                                                                        | 230/600 [00:43<00:56,  6.50it/s]"
     ]
    },
    {
     "name": "stderr",
     "output_type": "stream",
     "text": [
      "\r",
      " 38%|███████████████████████████████████████████████████████                                                                                        | 231/600 [00:43<01:01,  5.97it/s]"
     ]
    },
    {
     "name": "stderr",
     "output_type": "stream",
     "text": [
      "\r",
      " 39%|███████████████████████████████████████████████████████▎                                                                                       | 232/600 [00:43<01:10,  5.21it/s]"
     ]
    },
    {
     "name": "stderr",
     "output_type": "stream",
     "text": [
      "\r",
      " 39%|███████████████████████████████████████████████████████▌                                                                                       | 233/600 [00:44<01:14,  4.91it/s]"
     ]
    },
    {
     "name": "stderr",
     "output_type": "stream",
     "text": [
      "\r",
      " 39%|███████████████████████████████████████████████████████▊                                                                                       | 234/600 [00:44<01:15,  4.85it/s]"
     ]
    },
    {
     "name": "stderr",
     "output_type": "stream",
     "text": [
      "\r",
      " 39%|████████████████████████████████████████████████████████                                                                                       | 235/600 [00:44<01:15,  4.81it/s]"
     ]
    },
    {
     "name": "stderr",
     "output_type": "stream",
     "text": [
      "\r",
      " 39%|████████████████████████████████████████████████████████▏                                                                                      | 236/600 [00:44<01:16,  4.78it/s]"
     ]
    },
    {
     "name": "stderr",
     "output_type": "stream",
     "text": [
      "\r",
      " 40%|████████████████████████████████████████████████████████▍                                                                                      | 237/600 [00:44<01:12,  5.03it/s]"
     ]
    },
    {
     "name": "stderr",
     "output_type": "stream",
     "text": [
      "\r",
      " 40%|████████████████████████████████████████████████████████▋                                                                                      | 238/600 [00:45<01:07,  5.33it/s]"
     ]
    },
    {
     "name": "stderr",
     "output_type": "stream",
     "text": [
      "\r",
      " 40%|████████████████████████████████████████████████████████▉                                                                                      | 239/600 [00:45<01:07,  5.36it/s]"
     ]
    },
    {
     "name": "stderr",
     "output_type": "stream",
     "text": [
      "\r",
      " 40%|█████████████████████████████████████████████████████████▏                                                                                     | 240/600 [00:45<01:06,  5.38it/s]"
     ]
    },
    {
     "name": "stderr",
     "output_type": "stream",
     "text": [
      "\r",
      " 40%|█████████████████████████████████████████████████████████▍                                                                                     | 241/600 [00:45<01:04,  5.56it/s]"
     ]
    },
    {
     "name": "stderr",
     "output_type": "stream",
     "text": [
      "\r",
      " 40%|█████████████████████████████████████████████████████████▋                                                                                     | 242/600 [00:45<01:02,  5.74it/s]"
     ]
    },
    {
     "name": "stderr",
     "output_type": "stream",
     "text": [
      "\r",
      " 40%|█████████████████████████████████████████████████████████▉                                                                                     | 243/600 [00:45<01:00,  5.92it/s]"
     ]
    },
    {
     "name": "stderr",
     "output_type": "stream",
     "text": [
      "\r",
      " 41%|██████████████████████████████████████████████████████████▏                                                                                    | 244/600 [00:46<00:58,  6.13it/s]"
     ]
    },
    {
     "name": "stderr",
     "output_type": "stream",
     "text": [
      "\r",
      " 41%|██████████████████████████████████████████████████████████▍                                                                                    | 245/600 [00:46<00:56,  6.23it/s]"
     ]
    },
    {
     "name": "stderr",
     "output_type": "stream",
     "text": [
      "\r",
      " 41%|██████████████████████████████████████████████████████████▋                                                                                    | 246/600 [00:46<00:57,  6.15it/s]"
     ]
    },
    {
     "name": "stderr",
     "output_type": "stream",
     "text": [
      "\r",
      " 41%|██████████████████████████████████████████████████████████▊                                                                                    | 247/600 [00:46<00:56,  6.25it/s]"
     ]
    },
    {
     "name": "stderr",
     "output_type": "stream",
     "text": [
      "\r",
      " 41%|███████████████████████████████████████████████████████████                                                                                    | 248/600 [00:46<00:55,  6.36it/s]"
     ]
    },
    {
     "name": "stderr",
     "output_type": "stream",
     "text": [
      "\r",
      " 42%|███████████████████████████████████████████████████████████▎                                                                                   | 249/600 [00:46<00:54,  6.41it/s]"
     ]
    },
    {
     "name": "stderr",
     "output_type": "stream",
     "text": [
      "\r",
      " 42%|███████████████████████████████████████████████████████████▌                                                                                   | 250/600 [00:46<00:53,  6.50it/s]"
     ]
    },
    {
     "name": "stderr",
     "output_type": "stream",
     "text": [
      "\r",
      " 42%|███████████████████████████████████████████████████████████▊                                                                                   | 251/600 [00:47<00:53,  6.54it/s]"
     ]
    },
    {
     "name": "stderr",
     "output_type": "stream",
     "text": [
      "\r",
      " 42%|████████████████████████████████████████████████████████████                                                                                   | 252/600 [00:47<00:53,  6.50it/s]"
     ]
    },
    {
     "name": "stderr",
     "output_type": "stream",
     "text": [
      "\r",
      " 42%|████████████████████████████████████████████████████████████▎                                                                                  | 253/600 [00:47<00:52,  6.64it/s]"
     ]
    },
    {
     "name": "stderr",
     "output_type": "stream",
     "text": [
      "\r",
      " 42%|████████████████████████████████████████████████████████████▌                                                                                  | 254/600 [00:47<00:52,  6.63it/s]"
     ]
    },
    {
     "name": "stderr",
     "output_type": "stream",
     "text": [
      "\r",
      " 42%|████████████████████████████████████████████████████████████▊                                                                                  | 255/600 [00:47<00:52,  6.56it/s]"
     ]
    },
    {
     "name": "stderr",
     "output_type": "stream",
     "text": [
      "\r",
      " 43%|█████████████████████████████████████████████████████████████                                                                                  | 256/600 [00:47<00:52,  6.53it/s]"
     ]
    },
    {
     "name": "stderr",
     "output_type": "stream",
     "text": [
      "\r",
      " 43%|█████████████████████████████████████████████████████████████▎                                                                                 | 257/600 [00:48<00:53,  6.36it/s]"
     ]
    },
    {
     "name": "stderr",
     "output_type": "stream",
     "text": [
      "\r",
      " 43%|█████████████████████████████████████████████████████████████▍                                                                                 | 258/600 [00:48<00:54,  6.26it/s]"
     ]
    },
    {
     "name": "stderr",
     "output_type": "stream",
     "text": [
      "\r",
      " 43%|█████████████████████████████████████████████████████████████▋                                                                                 | 259/600 [00:48<01:00,  5.65it/s]"
     ]
    },
    {
     "name": "stderr",
     "output_type": "stream",
     "text": [
      "\r",
      " 43%|█████████████████████████████████████████████████████████████▉                                                                                 | 260/600 [00:48<01:05,  5.16it/s]"
     ]
    },
    {
     "name": "stderr",
     "output_type": "stream",
     "text": [
      "\r",
      " 44%|██████████████████████████████████████████████████████████████▏                                                                                | 261/600 [00:48<01:16,  4.45it/s]"
     ]
    },
    {
     "name": "stderr",
     "output_type": "stream",
     "text": [
      "\r",
      " 44%|██████████████████████████████████████████████████████████████▍                                                                                | 262/600 [00:49<01:13,  4.61it/s]"
     ]
    },
    {
     "name": "stderr",
     "output_type": "stream",
     "text": [
      "\r",
      " 44%|██████████████████████████████████████████████████████████████▋                                                                                | 263/600 [00:49<01:06,  5.04it/s]"
     ]
    },
    {
     "name": "stderr",
     "output_type": "stream",
     "text": [
      "\r",
      " 44%|██████████████████████████████████████████████████████████████▉                                                                                | 264/600 [00:49<01:03,  5.31it/s]"
     ]
    },
    {
     "name": "stderr",
     "output_type": "stream",
     "text": [
      "\r",
      " 44%|███████████████████████████████████████████████████████████████▏                                                                               | 265/600 [00:49<01:00,  5.53it/s]"
     ]
    },
    {
     "name": "stderr",
     "output_type": "stream",
     "text": [
      "\r",
      " 44%|███████████████████████████████████████████████████████████████▍                                                                               | 266/600 [00:49<00:57,  5.81it/s]"
     ]
    },
    {
     "name": "stderr",
     "output_type": "stream",
     "text": [
      "\r",
      " 44%|███████████████████████████████████████████████████████████████▋                                                                               | 267/600 [00:49<00:55,  6.01it/s]"
     ]
    },
    {
     "name": "stderr",
     "output_type": "stream",
     "text": [
      "\r",
      " 45%|███████████████████████████████████████████████████████████████▊                                                                               | 268/600 [00:50<00:53,  6.17it/s]"
     ]
    },
    {
     "name": "stderr",
     "output_type": "stream",
     "text": [
      "\r",
      " 45%|████████████████████████████████████████████████████████████████                                                                               | 269/600 [00:50<00:56,  5.87it/s]"
     ]
    },
    {
     "name": "stderr",
     "output_type": "stream",
     "text": [
      "\r",
      " 45%|████████████████████████████████████████████████████████████████▎                                                                              | 270/600 [00:50<00:55,  5.90it/s]"
     ]
    },
    {
     "name": "stderr",
     "output_type": "stream",
     "text": [
      "\r",
      " 45%|████████████████████████████████████████████████████████████████▌                                                                              | 271/600 [00:50<00:57,  5.72it/s]"
     ]
    },
    {
     "name": "stderr",
     "output_type": "stream",
     "text": [
      "\r",
      " 45%|████████████████████████████████████████████████████████████████▊                                                                              | 272/600 [00:50<00:56,  5.81it/s]"
     ]
    },
    {
     "name": "stderr",
     "output_type": "stream",
     "text": [
      "\r",
      " 46%|█████████████████████████████████████████████████████████████████                                                                              | 273/600 [00:50<00:56,  5.80it/s]"
     ]
    },
    {
     "name": "stderr",
     "output_type": "stream",
     "text": [
      "\r",
      " 46%|█████████████████████████████████████████████████████████████████▎                                                                             | 274/600 [00:51<00:54,  6.02it/s]"
     ]
    },
    {
     "name": "stderr",
     "output_type": "stream",
     "text": [
      "\r",
      " 46%|█████████████████████████████████████████████████████████████████▌                                                                             | 275/600 [00:51<00:52,  6.18it/s]"
     ]
    },
    {
     "name": "stderr",
     "output_type": "stream",
     "text": [
      "\r",
      " 46%|█████████████████████████████████████████████████████████████████▊                                                                             | 276/600 [00:51<00:48,  6.62it/s]"
     ]
    },
    {
     "name": "stderr",
     "output_type": "stream",
     "text": [
      "\r",
      " 46%|██████████████████████████████████████████████████████████████████                                                                             | 277/600 [00:51<00:46,  6.98it/s]"
     ]
    },
    {
     "name": "stderr",
     "output_type": "stream",
     "text": [
      "\r",
      " 46%|██████████████████████████████████████████████████████████████████▎                                                                            | 278/600 [00:51<00:47,  6.85it/s]"
     ]
    },
    {
     "name": "stderr",
     "output_type": "stream",
     "text": [
      "\r",
      " 46%|██████████████████████████████████████████████████████████████████▍                                                                            | 279/600 [00:51<00:47,  6.75it/s]"
     ]
    },
    {
     "name": "stderr",
     "output_type": "stream",
     "text": [
      "\r",
      " 47%|██████████████████████████████████████████████████████████████████▋                                                                            | 280/600 [00:51<00:46,  6.91it/s]"
     ]
    },
    {
     "name": "stderr",
     "output_type": "stream",
     "text": [
      "\r",
      " 47%|██████████████████████████████████████████████████████████████████▉                                                                            | 281/600 [00:52<00:44,  7.18it/s]"
     ]
    },
    {
     "name": "stderr",
     "output_type": "stream",
     "text": [
      "\r",
      " 47%|███████████████████████████████████████████████████████████████████▏                                                                           | 282/600 [00:52<00:43,  7.31it/s]"
     ]
    },
    {
     "name": "stderr",
     "output_type": "stream",
     "text": [
      "\r",
      " 47%|███████████████████████████████████████████████████████████████████▍                                                                           | 283/600 [00:52<00:43,  7.26it/s]"
     ]
    },
    {
     "name": "stderr",
     "output_type": "stream",
     "text": [
      "\r",
      " 47%|███████████████████████████████████████████████████████████████████▋                                                                           | 284/600 [00:52<00:44,  7.06it/s]"
     ]
    },
    {
     "name": "stderr",
     "output_type": "stream",
     "text": [
      "\r",
      " 48%|███████████████████████████████████████████████████████████████████▉                                                                           | 285/600 [00:52<00:45,  6.93it/s]"
     ]
    },
    {
     "name": "stderr",
     "output_type": "stream",
     "text": [
      "\r",
      " 48%|████████████████████████████████████████████████████████████████████▏                                                                          | 286/600 [00:52<00:45,  6.87it/s]"
     ]
    },
    {
     "name": "stderr",
     "output_type": "stream",
     "text": [
      "\r",
      " 48%|████████████████████████████████████████████████████████████████████▍                                                                          | 287/600 [00:52<00:47,  6.59it/s]"
     ]
    },
    {
     "name": "stderr",
     "output_type": "stream",
     "text": [
      "\r",
      " 48%|████████████████████████████████████████████████████████████████████▋                                                                          | 288/600 [00:53<00:48,  6.43it/s]"
     ]
    },
    {
     "name": "stderr",
     "output_type": "stream",
     "text": [
      "\r",
      " 48%|████████████████████████████████████████████████████████████████████▉                                                                          | 289/600 [00:53<00:49,  6.27it/s]"
     ]
    },
    {
     "name": "stderr",
     "output_type": "stream",
     "text": [
      "\r",
      " 48%|█████████████████████████████████████████████████████████████████████                                                                          | 290/600 [00:53<00:48,  6.34it/s]"
     ]
    },
    {
     "name": "stderr",
     "output_type": "stream",
     "text": [
      "\r",
      " 48%|█████████████████████████████████████████████████████████████████████▎                                                                         | 291/600 [00:53<00:49,  6.27it/s]"
     ]
    },
    {
     "name": "stderr",
     "output_type": "stream",
     "text": [
      "\r",
      " 49%|█████████████████████████████████████████████████████████████████████▌                                                                         | 292/600 [00:53<00:49,  6.24it/s]"
     ]
    },
    {
     "name": "stderr",
     "output_type": "stream",
     "text": [
      "\r",
      " 49%|█████████████████████████████████████████████████████████████████████▊                                                                         | 293/600 [00:53<00:49,  6.22it/s]"
     ]
    },
    {
     "name": "stderr",
     "output_type": "stream",
     "text": [
      "\r",
      " 49%|██████████████████████████████████████████████████████████████████████                                                                         | 294/600 [00:54<00:49,  6.16it/s]"
     ]
    },
    {
     "name": "stderr",
     "output_type": "stream",
     "text": [
      "\r",
      " 49%|██████████████████████████████████████████████████████████████████████▎                                                                        | 295/600 [00:54<00:51,  5.97it/s]"
     ]
    },
    {
     "name": "stderr",
     "output_type": "stream",
     "text": [
      "\r",
      " 49%|██████████████████████████████████████████████████████████████████████▌                                                                        | 296/600 [00:54<00:52,  5.76it/s]"
     ]
    },
    {
     "name": "stderr",
     "output_type": "stream",
     "text": [
      "\r",
      " 50%|██████████████████████████████████████████████████████████████████████▊                                                                        | 297/600 [00:54<00:54,  5.54it/s]"
     ]
    },
    {
     "name": "stderr",
     "output_type": "stream",
     "text": [
      "\r",
      " 50%|███████████████████████████████████████████████████████████████████████                                                                        | 298/600 [00:54<00:55,  5.42it/s]"
     ]
    },
    {
     "name": "stderr",
     "output_type": "stream",
     "text": [
      "\r",
      " 50%|███████████████████████████████████████████████████████████████████████▎                                                                       | 299/600 [00:55<01:01,  4.86it/s]"
     ]
    },
    {
     "name": "stderr",
     "output_type": "stream",
     "text": [
      "\r",
      " 50%|███████████████████████████████████████████████████████████████████████▌                                                                       | 300/600 [00:55<01:07,  4.43it/s]"
     ]
    },
    {
     "name": "stderr",
     "output_type": "stream",
     "text": [
      "\r",
      " 50%|███████████████████████████████████████████████████████████████████████▋                                                                       | 301/600 [00:55<01:12,  4.15it/s]"
     ]
    },
    {
     "name": "stderr",
     "output_type": "stream",
     "text": [
      "\r",
      " 50%|███████████████████████████████████████████████████████████████████████▉                                                                       | 302/600 [00:55<01:05,  4.56it/s]"
     ]
    },
    {
     "name": "stderr",
     "output_type": "stream",
     "text": [
      "\r",
      " 50%|████████████████████████████████████████████████████████████████████████▏                                                                      | 303/600 [00:56<01:00,  4.89it/s]"
     ]
    },
    {
     "name": "stderr",
     "output_type": "stream",
     "text": [
      "\r",
      " 51%|████████████████████████████████████████████████████████████████████████▍                                                                      | 304/600 [00:56<00:58,  5.08it/s]"
     ]
    },
    {
     "name": "stderr",
     "output_type": "stream",
     "text": [
      "\r",
      " 51%|████████████████████████████████████████████████████████████████████████▋                                                                      | 305/600 [00:56<00:55,  5.28it/s]"
     ]
    },
    {
     "name": "stderr",
     "output_type": "stream",
     "text": [
      "\r",
      " 51%|████████████████████████████████████████████████████████████████████████▉                                                                      | 306/600 [00:56<00:53,  5.47it/s]"
     ]
    },
    {
     "name": "stderr",
     "output_type": "stream",
     "text": [
      "\r",
      " 51%|█████████████████████████████████████████████████████████████████████████▏                                                                     | 307/600 [00:56<00:52,  5.62it/s]"
     ]
    },
    {
     "name": "stderr",
     "output_type": "stream",
     "text": [
      "\r",
      " 51%|█████████████████████████████████████████████████████████████████████████▍                                                                     | 308/600 [00:56<00:49,  5.88it/s]"
     ]
    },
    {
     "name": "stderr",
     "output_type": "stream",
     "text": [
      "\r",
      " 52%|█████████████████████████████████████████████████████████████████████████▋                                                                     | 309/600 [00:57<00:47,  6.08it/s]"
     ]
    },
    {
     "name": "stderr",
     "output_type": "stream",
     "text": [
      "\r",
      " 52%|█████████████████████████████████████████████████████████████████████████▉                                                                     | 310/600 [00:57<00:46,  6.19it/s]"
     ]
    },
    {
     "name": "stderr",
     "output_type": "stream",
     "text": [
      "\r",
      " 52%|██████████████████████████████████████████████████████████████████████████                                                                     | 311/600 [00:57<00:46,  6.24it/s]"
     ]
    },
    {
     "name": "stderr",
     "output_type": "stream",
     "text": [
      "\r",
      " 52%|██████████████████████████████████████████████████████████████████████████▎                                                                    | 312/600 [00:57<00:46,  6.20it/s]"
     ]
    },
    {
     "name": "stderr",
     "output_type": "stream",
     "text": [
      "\r",
      " 52%|██████████████████████████████████████████████████████████████████████████▌                                                                    | 313/600 [00:57<00:46,  6.13it/s]"
     ]
    },
    {
     "name": "stderr",
     "output_type": "stream",
     "text": [
      "\r",
      " 52%|██████████████████████████████████████████████████████████████████████████▊                                                                    | 314/600 [00:57<00:47,  6.05it/s]"
     ]
    },
    {
     "name": "stderr",
     "output_type": "stream",
     "text": [
      "\r",
      " 52%|███████████████████████████████████████████████████████████████████████████                                                                    | 315/600 [00:58<00:49,  5.74it/s]"
     ]
    },
    {
     "name": "stderr",
     "output_type": "stream",
     "text": [
      "\r",
      " 53%|███████████████████████████████████████████████████████████████████████████▎                                                                   | 316/600 [00:58<00:48,  5.83it/s]"
     ]
    },
    {
     "name": "stderr",
     "output_type": "stream",
     "text": [
      "\r",
      " 53%|███████████████████████████████████████████████████████████████████████████▌                                                                   | 317/600 [00:58<00:50,  5.58it/s]"
     ]
    },
    {
     "name": "stderr",
     "output_type": "stream",
     "text": [
      "\r",
      " 53%|███████████████████████████████████████████████████████████████████████████▊                                                                   | 318/600 [00:58<00:55,  5.11it/s]"
     ]
    },
    {
     "name": "stderr",
     "output_type": "stream",
     "text": [
      "\r",
      " 53%|████████████████████████████████████████████████████████████████████████████                                                                   | 319/600 [00:58<01:06,  4.23it/s]"
     ]
    },
    {
     "name": "stderr",
     "output_type": "stream",
     "text": [
      "\r",
      " 53%|████████████████████████████████████████████████████████████████████████████▎                                                                  | 320/600 [00:59<01:19,  3.54it/s]"
     ]
    },
    {
     "name": "stderr",
     "output_type": "stream",
     "text": [
      "\r",
      " 54%|████████████████████████████████████████████████████████████████████████████▌                                                                  | 321/600 [00:59<01:11,  3.88it/s]"
     ]
    },
    {
     "name": "stderr",
     "output_type": "stream",
     "text": [
      "\r",
      " 54%|████████████████████████████████████████████████████████████████████████████▋                                                                  | 322/600 [00:59<01:07,  4.14it/s]"
     ]
    },
    {
     "name": "stderr",
     "output_type": "stream",
     "text": [
      "\r",
      " 54%|████████████████████████████████████████████████████████████████████████████▉                                                                  | 323/600 [00:59<01:00,  4.58it/s]"
     ]
    },
    {
     "name": "stderr",
     "output_type": "stream",
     "text": [
      "\r",
      " 54%|█████████████████████████████████████████████████████████████████████████████▏                                                                 | 324/600 [01:00<00:54,  5.06it/s]"
     ]
    },
    {
     "name": "stderr",
     "output_type": "stream",
     "text": [
      "\r",
      " 54%|█████████████████████████████████████████████████████████████████████████████▍                                                                 | 325/600 [01:00<00:51,  5.39it/s]"
     ]
    },
    {
     "name": "stderr",
     "output_type": "stream",
     "text": [
      "\r",
      " 54%|█████████████████████████████████████████████████████████████████████████████▋                                                                 | 326/600 [01:00<00:48,  5.68it/s]"
     ]
    },
    {
     "name": "stderr",
     "output_type": "stream",
     "text": [
      "\r",
      " 55%|█████████████████████████████████████████████████████████████████████████████▉                                                                 | 327/600 [01:00<00:46,  5.93it/s]"
     ]
    },
    {
     "name": "stderr",
     "output_type": "stream",
     "text": [
      "\r",
      " 55%|██████████████████████████████████████████████████████████████████████████████▏                                                                | 328/600 [01:00<00:44,  6.05it/s]"
     ]
    },
    {
     "name": "stderr",
     "output_type": "stream",
     "text": [
      "\r",
      " 55%|██████████████████████████████████████████████████████████████████████████████▍                                                                | 329/600 [01:00<00:43,  6.16it/s]"
     ]
    },
    {
     "name": "stderr",
     "output_type": "stream",
     "text": [
      "\r",
      " 55%|██████████████████████████████████████████████████████████████████████████████▋                                                                | 330/600 [01:00<00:43,  6.26it/s]"
     ]
    },
    {
     "name": "stderr",
     "output_type": "stream",
     "text": [
      "\r",
      " 55%|██████████████████████████████████████████████████████████████████████████████▉                                                                | 331/600 [01:01<00:42,  6.37it/s]"
     ]
    },
    {
     "name": "stderr",
     "output_type": "stream",
     "text": [
      "\r",
      " 55%|███████████████████████████████████████████████████████████████████████████████▏                                                               | 332/600 [01:01<00:41,  6.45it/s]"
     ]
    },
    {
     "name": "stderr",
     "output_type": "stream",
     "text": [
      "\r",
      " 56%|███████████████████████████████████████████████████████████████████████████████▎                                                               | 333/600 [01:01<00:41,  6.50it/s]"
     ]
    },
    {
     "name": "stderr",
     "output_type": "stream",
     "text": [
      "\r",
      " 56%|███████████████████████████████████████████████████████████████████████████████▌                                                               | 334/600 [01:01<00:40,  6.54it/s]"
     ]
    },
    {
     "name": "stderr",
     "output_type": "stream",
     "text": [
      "\r",
      " 56%|███████████████████████████████████████████████████████████████████████████████▊                                                               | 335/600 [01:01<00:40,  6.53it/s]"
     ]
    },
    {
     "name": "stderr",
     "output_type": "stream",
     "text": [
      "\r",
      " 56%|████████████████████████████████████████████████████████████████████████████████                                                               | 336/600 [01:01<00:40,  6.54it/s]"
     ]
    },
    {
     "name": "stderr",
     "output_type": "stream",
     "text": [
      "\r",
      " 56%|████████████████████████████████████████████████████████████████████████████████▎                                                              | 337/600 [01:02<00:40,  6.43it/s]"
     ]
    },
    {
     "name": "stderr",
     "output_type": "stream",
     "text": [
      "\r",
      " 56%|████████████████████████████████████████████████████████████████████████████████▌                                                              | 338/600 [01:02<00:42,  6.16it/s]"
     ]
    },
    {
     "name": "stderr",
     "output_type": "stream",
     "text": [
      "\r",
      " 56%|████████████████████████████████████████████████████████████████████████████████▊                                                              | 339/600 [01:02<00:43,  6.02it/s]"
     ]
    },
    {
     "name": "stderr",
     "output_type": "stream",
     "text": [
      "\r",
      " 57%|█████████████████████████████████████████████████████████████████████████████████                                                              | 340/600 [01:02<00:45,  5.69it/s]"
     ]
    },
    {
     "name": "stderr",
     "output_type": "stream",
     "text": [
      "\r",
      " 57%|█████████████████████████████████████████████████████████████████████████████████▎                                                             | 341/600 [01:02<00:48,  5.29it/s]"
     ]
    },
    {
     "name": "stderr",
     "output_type": "stream",
     "text": [
      "\r",
      " 57%|█████████████████████████████████████████████████████████████████████████████████▌                                                             | 342/600 [01:03<00:48,  5.31it/s]"
     ]
    },
    {
     "name": "stderr",
     "output_type": "stream",
     "text": [
      "\r",
      " 57%|█████████████████████████████████████████████████████████████████████████████████▋                                                             | 343/600 [01:03<00:47,  5.42it/s]"
     ]
    },
    {
     "name": "stderr",
     "output_type": "stream",
     "text": [
      "\r",
      " 57%|█████████████████████████████████████████████████████████████████████████████████▉                                                             | 344/600 [01:03<00:47,  5.43it/s]"
     ]
    },
    {
     "name": "stderr",
     "output_type": "stream",
     "text": [
      "\r",
      " 57%|██████████████████████████████████████████████████████████████████████████████████▏                                                            | 345/600 [01:03<00:49,  5.12it/s]"
     ]
    },
    {
     "name": "stderr",
     "output_type": "stream",
     "text": [
      "\r",
      " 58%|██████████████████████████████████████████████████████████████████████████████████▍                                                            | 346/600 [01:03<00:53,  4.70it/s]"
     ]
    },
    {
     "name": "stderr",
     "output_type": "stream",
     "text": [
      "\r",
      " 58%|██████████████████████████████████████████████████████████████████████████████████▋                                                            | 347/600 [01:04<00:54,  4.68it/s]"
     ]
    },
    {
     "name": "stderr",
     "output_type": "stream",
     "text": [
      "\r",
      " 58%|██████████████████████████████████████████████████████████████████████████████████▉                                                            | 348/600 [01:04<00:56,  4.49it/s]"
     ]
    },
    {
     "name": "stderr",
     "output_type": "stream",
     "text": [
      "\r",
      " 58%|███████████████████████████████████████████████████████████████████████████████████▏                                                           | 349/600 [01:04<00:56,  4.45it/s]"
     ]
    },
    {
     "name": "stderr",
     "output_type": "stream",
     "text": [
      "\r",
      " 58%|███████████████████████████████████████████████████████████████████████████████████▍                                                           | 350/600 [01:04<00:54,  4.59it/s]"
     ]
    },
    {
     "name": "stderr",
     "output_type": "stream",
     "text": [
      "\r",
      " 58%|███████████████████████████████████████████████████████████████████████████████████▋                                                           | 351/600 [01:04<00:50,  4.90it/s]"
     ]
    },
    {
     "name": "stderr",
     "output_type": "stream",
     "text": [
      "\r",
      " 59%|███████████████████████████████████████████████████████████████████████████████████▉                                                           | 352/600 [01:05<00:46,  5.32it/s]"
     ]
    },
    {
     "name": "stderr",
     "output_type": "stream",
     "text": [
      "\r",
      " 59%|████████████████████████████████████████████████████████████████████████████████████▏                                                          | 353/600 [01:05<00:45,  5.47it/s]"
     ]
    },
    {
     "name": "stderr",
     "output_type": "stream",
     "text": [
      "\r",
      " 59%|████████████████████████████████████████████████████████████████████████████████████▎                                                          | 354/600 [01:05<00:45,  5.42it/s]"
     ]
    },
    {
     "name": "stderr",
     "output_type": "stream",
     "text": [
      "\r",
      " 59%|████████████████████████████████████████████████████████████████████████████████████▌                                                          | 355/600 [01:05<00:45,  5.39it/s]"
     ]
    },
    {
     "name": "stderr",
     "output_type": "stream",
     "text": [
      "\r",
      " 59%|████████████████████████████████████████████████████████████████████████████████████▊                                                          | 356/600 [01:05<00:58,  4.14it/s]"
     ]
    },
    {
     "name": "stderr",
     "output_type": "stream",
     "text": [
      "\r",
      " 60%|█████████████████████████████████████████████████████████████████████████████████████                                                          | 357/600 [01:06<00:59,  4.08it/s]"
     ]
    },
    {
     "name": "stderr",
     "output_type": "stream",
     "text": [
      "\r",
      " 60%|█████████████████████████████████████████████████████████████████████████████████████▎                                                         | 358/600 [01:06<01:00,  4.03it/s]"
     ]
    },
    {
     "name": "stderr",
     "output_type": "stream",
     "text": [
      "\r",
      " 60%|█████████████████████████████████████████████████████████████████████████████████████▌                                                         | 359/600 [01:06<01:04,  3.76it/s]"
     ]
    },
    {
     "name": "stderr",
     "output_type": "stream",
     "text": [
      "\r",
      " 60%|█████████████████████████████████████████████████████████████████████████████████████▊                                                         | 360/600 [01:07<01:05,  3.68it/s]"
     ]
    },
    {
     "name": "stderr",
     "output_type": "stream",
     "text": [
      "\r",
      " 60%|██████████████████████████████████████████████████████████████████████████████████████                                                         | 361/600 [01:07<00:58,  4.07it/s]"
     ]
    },
    {
     "name": "stderr",
     "output_type": "stream",
     "text": [
      "\r",
      " 60%|██████████████████████████████████████████████████████████████████████████████████████▎                                                        | 362/600 [01:07<00:52,  4.54it/s]"
     ]
    },
    {
     "name": "stderr",
     "output_type": "stream",
     "text": [
      "\r",
      " 60%|██████████████████████████████████████████████████████████████████████████████████████▌                                                        | 363/600 [01:07<00:48,  4.92it/s]"
     ]
    },
    {
     "name": "stderr",
     "output_type": "stream",
     "text": [
      "\r",
      " 61%|██████████████████████████████████████████████████████████████████████████████████████▊                                                        | 364/600 [01:07<00:48,  4.86it/s]"
     ]
    },
    {
     "name": "stderr",
     "output_type": "stream",
     "text": [
      "\r",
      " 61%|██████████████████████████████████████████████████████████████████████████████████████▉                                                        | 365/600 [01:08<00:51,  4.58it/s]"
     ]
    },
    {
     "name": "stderr",
     "output_type": "stream",
     "text": [
      "\r",
      " 61%|███████████████████████████████████████████████████████████████████████████████████████▏                                                       | 366/600 [01:08<00:49,  4.77it/s]"
     ]
    },
    {
     "name": "stderr",
     "output_type": "stream",
     "text": [
      "\r",
      " 61%|███████████████████████████████████████████████████████████████████████████████████████▍                                                       | 367/600 [01:08<00:47,  4.93it/s]"
     ]
    },
    {
     "name": "stderr",
     "output_type": "stream",
     "text": [
      "\r",
      " 61%|███████████████████████████████████████████████████████████████████████████████████████▋                                                       | 368/600 [01:08<00:48,  4.76it/s]"
     ]
    },
    {
     "name": "stderr",
     "output_type": "stream",
     "text": [
      "\r",
      " 62%|███████████████████████████████████████████████████████████████████████████████████████▉                                                       | 369/600 [01:08<00:48,  4.79it/s]"
     ]
    },
    {
     "name": "stderr",
     "output_type": "stream",
     "text": [
      "\r",
      " 62%|████████████████████████████████████████████████████████████████████████████████████████▏                                                      | 370/600 [01:09<00:48,  4.75it/s]"
     ]
    },
    {
     "name": "stderr",
     "output_type": "stream",
     "text": [
      "\r",
      " 62%|████████████████████████████████████████████████████████████████████████████████████████▍                                                      | 371/600 [01:09<00:43,  5.23it/s]"
     ]
    },
    {
     "name": "stderr",
     "output_type": "stream",
     "text": [
      "\r",
      " 62%|████████████████████████████████████████████████████████████████████████████████████████▋                                                      | 372/600 [01:09<00:40,  5.59it/s]"
     ]
    },
    {
     "name": "stderr",
     "output_type": "stream",
     "text": [
      "\r",
      " 62%|████████████████████████████████████████████████████████████████████████████████████████▉                                                      | 373/600 [01:09<00:39,  5.80it/s]"
     ]
    },
    {
     "name": "stderr",
     "output_type": "stream",
     "text": [
      "\r",
      " 62%|█████████████████████████████████████████████████████████████████████████████████████████▏                                                     | 374/600 [01:09<00:36,  6.11it/s]"
     ]
    },
    {
     "name": "stderr",
     "output_type": "stream",
     "text": [
      "\r",
      " 62%|█████████████████████████████████████████████████████████████████████████████████████████▍                                                     | 375/600 [01:09<00:36,  6.20it/s]"
     ]
    },
    {
     "name": "stderr",
     "output_type": "stream",
     "text": [
      "\r",
      " 63%|█████████████████████████████████████████████████████████████████████████████████████████▌                                                     | 376/600 [01:09<00:35,  6.23it/s]"
     ]
    },
    {
     "name": "stderr",
     "output_type": "stream",
     "text": [
      "\r",
      " 63%|█████████████████████████████████████████████████████████████████████████████████████████▊                                                     | 377/600 [01:10<00:36,  6.15it/s]"
     ]
    },
    {
     "name": "stderr",
     "output_type": "stream",
     "text": [
      "\r",
      " 63%|██████████████████████████████████████████████████████████████████████████████████████████                                                     | 378/600 [01:10<00:35,  6.22it/s]"
     ]
    },
    {
     "name": "stderr",
     "output_type": "stream",
     "text": [
      "\r",
      " 63%|██████████████████████████████████████████████████████████████████████████████████████████▎                                                    | 379/600 [01:10<00:35,  6.26it/s]"
     ]
    },
    {
     "name": "stderr",
     "output_type": "stream",
     "text": [
      "\r",
      " 63%|██████████████████████████████████████████████████████████████████████████████████████████▌                                                    | 380/600 [01:10<00:35,  6.14it/s]"
     ]
    },
    {
     "name": "stderr",
     "output_type": "stream",
     "text": [
      "\r",
      " 64%|██████████████████████████████████████████████████████████████████████████████████████████▊                                                    | 381/600 [01:10<00:35,  6.15it/s]"
     ]
    },
    {
     "name": "stderr",
     "output_type": "stream",
     "text": [
      "\r",
      " 64%|███████████████████████████████████████████████████████████████████████████████████████████                                                    | 382/600 [01:10<00:35,  6.16it/s]"
     ]
    },
    {
     "name": "stderr",
     "output_type": "stream",
     "text": [
      "\r",
      " 64%|███████████████████████████████████████████████████████████████████████████████████████████▎                                                   | 383/600 [01:11<00:35,  6.16it/s]"
     ]
    },
    {
     "name": "stderr",
     "output_type": "stream",
     "text": [
      "\r",
      " 64%|███████████████████████████████████████████████████████████████████████████████████████████▌                                                   | 384/600 [01:11<00:34,  6.20it/s]"
     ]
    },
    {
     "name": "stderr",
     "output_type": "stream",
     "text": [
      "\r",
      " 64%|███████████████████████████████████████████████████████████████████████████████████████████▊                                                   | 385/600 [01:11<00:36,  5.84it/s]"
     ]
    },
    {
     "name": "stderr",
     "output_type": "stream",
     "text": [
      "\r",
      " 64%|███████████████████████████████████████████████████████████████████████████████████████████▉                                                   | 386/600 [01:11<00:39,  5.46it/s]"
     ]
    },
    {
     "name": "stderr",
     "output_type": "stream",
     "text": [
      "\r",
      " 64%|████████████████████████████████████████████████████████████████████████████████████████████▏                                                  | 387/600 [01:11<00:39,  5.34it/s]"
     ]
    },
    {
     "name": "stderr",
     "output_type": "stream",
     "text": [
      "\r",
      " 65%|████████████████████████████████████████████████████████████████████████████████████████████▍                                                  | 388/600 [01:12<00:38,  5.56it/s]"
     ]
    },
    {
     "name": "stderr",
     "output_type": "stream",
     "text": [
      "\r",
      " 65%|████████████████████████████████████████████████████████████████████████████████████████████▋                                                  | 389/600 [01:12<00:39,  5.28it/s]"
     ]
    },
    {
     "name": "stderr",
     "output_type": "stream",
     "text": [
      "\r",
      " 65%|████████████████████████████████████████████████████████████████████████████████████████████▉                                                  | 390/600 [01:12<00:39,  5.37it/s]"
     ]
    },
    {
     "name": "stderr",
     "output_type": "stream",
     "text": [
      "\r",
      " 65%|█████████████████████████████████████████████████████████████████████████████████████████████▏                                                 | 391/600 [01:12<00:39,  5.32it/s]"
     ]
    },
    {
     "name": "stderr",
     "output_type": "stream",
     "text": [
      "\r",
      " 65%|█████████████████████████████████████████████████████████████████████████████████████████████▍                                                 | 392/600 [01:12<00:38,  5.44it/s]"
     ]
    },
    {
     "name": "stderr",
     "output_type": "stream",
     "text": [
      "\r",
      " 66%|█████████████████████████████████████████████████████████████████████████████████████████████▋                                                 | 393/600 [01:12<00:38,  5.42it/s]"
     ]
    },
    {
     "name": "stderr",
     "output_type": "stream",
     "text": [
      "\r",
      " 66%|█████████████████████████████████████████████████████████████████████████████████████████████▉                                                 | 394/600 [01:13<00:38,  5.34it/s]"
     ]
    },
    {
     "name": "stderr",
     "output_type": "stream",
     "text": [
      "\r",
      " 66%|██████████████████████████████████████████████████████████████████████████████████████████████▏                                                | 395/600 [01:13<00:37,  5.47it/s]"
     ]
    },
    {
     "name": "stderr",
     "output_type": "stream",
     "text": [
      "\r",
      " 66%|██████████████████████████████████████████████████████████████████████████████████████████████▍                                                | 396/600 [01:13<00:37,  5.40it/s]"
     ]
    },
    {
     "name": "stderr",
     "output_type": "stream",
     "text": [
      "\r",
      " 66%|██████████████████████████████████████████████████████████████████████████████████████████████▌                                                | 397/600 [01:13<00:43,  4.66it/s]"
     ]
    },
    {
     "name": "stderr",
     "output_type": "stream",
     "text": [
      "\r",
      " 66%|██████████████████████████████████████████████████████████████████████████████████████████████▊                                                | 398/600 [01:14<00:44,  4.49it/s]"
     ]
    },
    {
     "name": "stderr",
     "output_type": "stream",
     "text": [
      "\r",
      " 66%|███████████████████████████████████████████████████████████████████████████████████████████████                                                | 399/600 [01:14<00:41,  4.80it/s]"
     ]
    },
    {
     "name": "stderr",
     "output_type": "stream",
     "text": [
      "\r",
      " 67%|███████████████████████████████████████████████████████████████████████████████████████████████▎                                               | 400/600 [01:14<00:38,  5.23it/s]"
     ]
    },
    {
     "name": "stderr",
     "output_type": "stream",
     "text": [
      "\r",
      " 67%|███████████████████████████████████████████████████████████████████████████████████████████████▌                                               | 401/600 [01:14<00:40,  4.91it/s]"
     ]
    },
    {
     "name": "stderr",
     "output_type": "stream",
     "text": [
      "\r",
      " 67%|███████████████████████████████████████████████████████████████████████████████████████████████▊                                               | 402/600 [01:14<00:37,  5.35it/s]"
     ]
    },
    {
     "name": "stderr",
     "output_type": "stream",
     "text": [
      "\r",
      " 67%|████████████████████████████████████████████████████████████████████████████████████████████████                                               | 403/600 [01:14<00:33,  5.86it/s]"
     ]
    },
    {
     "name": "stderr",
     "output_type": "stream",
     "text": [
      "\r",
      " 67%|████████████████████████████████████████████████████████████████████████████████████████████████▎                                              | 404/600 [01:15<00:32,  6.05it/s]"
     ]
    },
    {
     "name": "stderr",
     "output_type": "stream",
     "text": [
      "\r",
      " 68%|████████████████████████████████████████████████████████████████████████████████████████████████▌                                              | 405/600 [01:15<00:31,  6.12it/s]"
     ]
    },
    {
     "name": "stderr",
     "output_type": "stream",
     "text": [
      "\r",
      " 68%|████████████████████████████████████████████████████████████████████████████████████████████████▊                                              | 406/600 [01:15<00:31,  6.13it/s]"
     ]
    },
    {
     "name": "stderr",
     "output_type": "stream",
     "text": [
      "\r",
      " 68%|█████████████████████████████████████████████████████████████████████████████████████████████████                                              | 407/600 [01:15<00:31,  6.15it/s]"
     ]
    },
    {
     "name": "stderr",
     "output_type": "stream",
     "text": [
      "\r",
      " 68%|█████████████████████████████████████████████████████████████████████████████████████████████████▏                                             | 408/600 [01:15<00:32,  5.90it/s]"
     ]
    },
    {
     "name": "stderr",
     "output_type": "stream",
     "text": [
      "\r",
      " 68%|█████████████████████████████████████████████████████████████████████████████████████████████████▍                                             | 409/600 [01:15<00:33,  5.66it/s]"
     ]
    },
    {
     "name": "stderr",
     "output_type": "stream",
     "text": [
      "\r",
      " 68%|█████████████████████████████████████████████████████████████████████████████████████████████████▋                                             | 410/600 [01:16<00:36,  5.16it/s]"
     ]
    },
    {
     "name": "stderr",
     "output_type": "stream",
     "text": [
      "\r",
      " 68%|█████████████████████████████████████████████████████████████████████████████████████████████████▉                                             | 411/600 [01:16<00:39,  4.74it/s]"
     ]
    },
    {
     "name": "stderr",
     "output_type": "stream",
     "text": [
      "\r",
      " 69%|██████████████████████████████████████████████████████████████████████████████████████████████████▏                                            | 412/600 [01:16<00:36,  5.09it/s]"
     ]
    },
    {
     "name": "stderr",
     "output_type": "stream",
     "text": [
      "\r",
      " 69%|██████████████████████████████████████████████████████████████████████████████████████████████████▍                                            | 413/600 [01:16<00:34,  5.39it/s]"
     ]
    },
    {
     "name": "stderr",
     "output_type": "stream",
     "text": [
      "\r",
      " 69%|██████████████████████████████████████████████████████████████████████████████████████████████████▋                                            | 414/600 [01:16<00:32,  5.65it/s]"
     ]
    },
    {
     "name": "stderr",
     "output_type": "stream",
     "text": [
      "\r",
      " 69%|██████████████████████████████████████████████████████████████████████████████████████████████████▉                                            | 415/600 [01:17<00:31,  5.79it/s]"
     ]
    },
    {
     "name": "stderr",
     "output_type": "stream",
     "text": [
      "\r",
      " 69%|███████████████████████████████████████████████████████████████████████████████████████████████████▏                                           | 416/600 [01:17<00:31,  5.88it/s]"
     ]
    },
    {
     "name": "stderr",
     "output_type": "stream",
     "text": [
      "\r",
      " 70%|███████████████████████████████████████████████████████████████████████████████████████████████████▍                                           | 417/600 [01:17<00:30,  6.00it/s]"
     ]
    },
    {
     "name": "stderr",
     "output_type": "stream",
     "text": [
      "\r",
      " 70%|███████████████████████████████████████████████████████████████████████████████████████████████████▌                                           | 418/600 [01:17<00:29,  6.07it/s]"
     ]
    },
    {
     "name": "stderr",
     "output_type": "stream",
     "text": [
      "\r",
      " 70%|███████████████████████████████████████████████████████████████████████████████████████████████████▊                                           | 419/600 [01:17<00:29,  6.12it/s]"
     ]
    },
    {
     "name": "stderr",
     "output_type": "stream",
     "text": [
      "\r",
      " 70%|████████████████████████████████████████████████████████████████████████████████████████████████████                                           | 420/600 [01:17<00:29,  6.16it/s]"
     ]
    },
    {
     "name": "stderr",
     "output_type": "stream",
     "text": [
      "\r",
      " 70%|████████████████████████████████████████████████████████████████████████████████████████████████████▎                                          | 421/600 [01:18<00:32,  5.59it/s]"
     ]
    },
    {
     "name": "stderr",
     "output_type": "stream",
     "text": [
      "\r",
      " 70%|████████████████████████████████████████████████████████████████████████████████████████████████████▌                                          | 422/600 [01:18<00:34,  5.19it/s]"
     ]
    },
    {
     "name": "stderr",
     "output_type": "stream",
     "text": [
      "\r",
      " 70%|████████████████████████████████████████████████████████████████████████████████████████████████████▊                                          | 423/600 [01:18<00:33,  5.25it/s]"
     ]
    },
    {
     "name": "stderr",
     "output_type": "stream",
     "text": [
      "\r",
      " 71%|█████████████████████████████████████████████████████████████████████████████████████████████████████                                          | 424/600 [01:18<00:37,  4.69it/s]"
     ]
    },
    {
     "name": "stderr",
     "output_type": "stream",
     "text": [
      "\r",
      " 71%|█████████████████████████████████████████████████████████████████████████████████████████████████████▎                                         | 425/600 [01:19<00:39,  4.45it/s]"
     ]
    },
    {
     "name": "stderr",
     "output_type": "stream",
     "text": [
      "\r",
      " 71%|█████████████████████████████████████████████████████████████████████████████████████████████████████▌                                         | 426/600 [01:19<00:38,  4.57it/s]"
     ]
    },
    {
     "name": "stderr",
     "output_type": "stream",
     "text": [
      "\r",
      " 71%|█████████████████████████████████████████████████████████████████████████████████████████████████████▊                                         | 427/600 [01:19<00:35,  4.81it/s]"
     ]
    },
    {
     "name": "stderr",
     "output_type": "stream",
     "text": [
      "\r",
      " 71%|██████████████████████████████████████████████████████████████████████████████████████████████████████                                         | 428/600 [01:19<00:39,  4.38it/s]"
     ]
    },
    {
     "name": "stderr",
     "output_type": "stream",
     "text": [
      "\r",
      " 72%|██████████████████████████████████████████████████████████████████████████████████████████████████████▏                                        | 429/600 [01:19<00:40,  4.25it/s]"
     ]
    },
    {
     "name": "stderr",
     "output_type": "stream",
     "text": [
      "\r",
      " 72%|██████████████████████████████████████████████████████████████████████████████████████████████████████▍                                        | 430/600 [01:20<00:36,  4.60it/s]"
     ]
    },
    {
     "name": "stderr",
     "output_type": "stream",
     "text": [
      "\r",
      " 72%|██████████████████████████████████████████████████████████████████████████████████████████████████████▋                                        | 431/600 [01:20<00:34,  4.92it/s]"
     ]
    },
    {
     "name": "stderr",
     "output_type": "stream",
     "text": [
      "\r",
      " 72%|██████████████████████████████████████████████████████████████████████████████████████████████████████▉                                        | 432/600 [01:20<00:31,  5.25it/s]"
     ]
    },
    {
     "name": "stderr",
     "output_type": "stream",
     "text": [
      "\r",
      " 72%|███████████████████████████████████████████████████████████████████████████████████████████████████████▏                                       | 433/600 [01:20<00:30,  5.45it/s]"
     ]
    },
    {
     "name": "stderr",
     "output_type": "stream",
     "text": [
      "\r",
      " 72%|███████████████████████████████████████████████████████████████████████████████████████████████████████▍                                       | 434/600 [01:20<00:29,  5.62it/s]"
     ]
    },
    {
     "name": "stderr",
     "output_type": "stream",
     "text": [
      "\r",
      " 72%|███████████████████████████████████████████████████████████████████████████████████████████████████████▋                                       | 435/600 [01:20<00:28,  5.84it/s]"
     ]
    },
    {
     "name": "stderr",
     "output_type": "stream",
     "text": [
      "\r",
      " 73%|███████████████████████████████████████████████████████████████████████████████████████████████████████▉                                       | 436/600 [01:21<00:28,  5.82it/s]"
     ]
    },
    {
     "name": "stderr",
     "output_type": "stream",
     "text": [
      "\r",
      " 73%|████████████████████████████████████████████████████████████████████████████████████████████████████████▏                                      | 437/600 [01:21<00:27,  5.93it/s]"
     ]
    },
    {
     "name": "stderr",
     "output_type": "stream",
     "text": [
      "\r",
      " 73%|████████████████████████████████████████████████████████████████████████████████████████████████████████▍                                      | 438/600 [01:21<00:27,  5.92it/s]"
     ]
    },
    {
     "name": "stderr",
     "output_type": "stream",
     "text": [
      "\r",
      " 73%|████████████████████████████████████████████████████████████████████████████████████████████████████████▋                                      | 439/600 [01:21<00:27,  5.96it/s]"
     ]
    },
    {
     "name": "stderr",
     "output_type": "stream",
     "text": [
      "\r",
      " 73%|████████████████████████████████████████████████████████████████████████████████████████████████████████▊                                      | 440/600 [01:21<00:26,  6.00it/s]"
     ]
    },
    {
     "name": "stderr",
     "output_type": "stream",
     "text": [
      "\r",
      " 74%|█████████████████████████████████████████████████████████████████████████████████████████████████████████                                      | 441/600 [01:21<00:26,  6.03it/s]"
     ]
    },
    {
     "name": "stderr",
     "output_type": "stream",
     "text": [
      "\r",
      " 74%|█████████████████████████████████████████████████████████████████████████████████████████████████████████▎                                     | 442/600 [01:22<00:25,  6.12it/s]"
     ]
    },
    {
     "name": "stderr",
     "output_type": "stream",
     "text": [
      "\r",
      " 74%|█████████████████████████████████████████████████████████████████████████████████████████████████████████▌                                     | 443/600 [01:22<00:26,  6.03it/s]"
     ]
    },
    {
     "name": "stderr",
     "output_type": "stream",
     "text": [
      "\r",
      " 74%|█████████████████████████████████████████████████████████████████████████████████████████████████████████▊                                     | 444/600 [01:22<00:25,  6.11it/s]"
     ]
    },
    {
     "name": "stderr",
     "output_type": "stream",
     "text": [
      "\r",
      " 74%|██████████████████████████████████████████████████████████████████████████████████████████████████████████                                     | 445/600 [01:22<00:24,  6.21it/s]"
     ]
    },
    {
     "name": "stderr",
     "output_type": "stream",
     "text": [
      "\r",
      " 74%|██████████████████████████████████████████████████████████████████████████████████████████████████████████▎                                    | 446/600 [01:22<00:24,  6.18it/s]"
     ]
    },
    {
     "name": "stderr",
     "output_type": "stream",
     "text": [
      "\r",
      " 74%|██████████████████████████████████████████████████████████████████████████████████████████████████████████▌                                    | 447/600 [01:22<00:24,  6.27it/s]"
     ]
    },
    {
     "name": "stderr",
     "output_type": "stream",
     "text": [
      "\r",
      " 75%|██████████████████████████████████████████████████████████████████████████████████████████████████████████▊                                    | 448/600 [01:23<00:25,  6.03it/s]"
     ]
    },
    {
     "name": "stderr",
     "output_type": "stream",
     "text": [
      "\r",
      " 75%|███████████████████████████████████████████████████████████████████████████████████████████████████████████                                    | 449/600 [01:23<00:24,  6.10it/s]"
     ]
    },
    {
     "name": "stderr",
     "output_type": "stream",
     "text": [
      "\r",
      " 75%|███████████████████████████████████████████████████████████████████████████████████████████████████████████▎                                   | 450/600 [01:23<00:25,  5.98it/s]"
     ]
    },
    {
     "name": "stderr",
     "output_type": "stream",
     "text": [
      "\r",
      " 75%|███████████████████████████████████████████████████████████████████████████████████████████████████████████▍                                   | 451/600 [01:23<00:24,  6.08it/s]"
     ]
    },
    {
     "name": "stderr",
     "output_type": "stream",
     "text": [
      "\r",
      " 75%|███████████████████████████████████████████████████████████████████████████████████████████████████████████▋                                   | 452/600 [01:23<00:23,  6.18it/s]"
     ]
    },
    {
     "name": "stderr",
     "output_type": "stream",
     "text": [
      "\r",
      " 76%|███████████████████████████████████████████████████████████████████████████████████████████████████████████▉                                   | 453/600 [01:23<00:22,  6.57it/s]"
     ]
    },
    {
     "name": "stderr",
     "output_type": "stream",
     "text": [
      "\r",
      " 76%|████████████████████████████████████████████████████████████████████████████████████████████████████████████▏                                  | 454/600 [01:23<00:22,  6.50it/s]"
     ]
    },
    {
     "name": "stderr",
     "output_type": "stream",
     "text": [
      "\r",
      " 76%|████████████████████████████████████████████████████████████████████████████████████████████████████████████▍                                  | 455/600 [01:24<00:22,  6.50it/s]"
     ]
    },
    {
     "name": "stderr",
     "output_type": "stream",
     "text": [
      "\r",
      " 76%|████████████████████████████████████████████████████████████████████████████████████████████████████████████▋                                  | 456/600 [01:24<00:22,  6.47it/s]"
     ]
    },
    {
     "name": "stderr",
     "output_type": "stream",
     "text": [
      "\r",
      " 76%|████████████████████████████████████████████████████████████████████████████████████████████████████████████▉                                  | 457/600 [01:24<00:22,  6.44it/s]"
     ]
    },
    {
     "name": "stderr",
     "output_type": "stream",
     "text": [
      "\r",
      " 76%|█████████████████████████████████████████████████████████████████████████████████████████████████████████████▏                                 | 458/600 [01:24<00:22,  6.40it/s]"
     ]
    },
    {
     "name": "stderr",
     "output_type": "stream",
     "text": [
      "\r",
      " 76%|█████████████████████████████████████████████████████████████████████████████████████████████████████████████▍                                 | 459/600 [01:24<00:20,  6.76it/s]"
     ]
    },
    {
     "name": "stderr",
     "output_type": "stream",
     "text": [
      "\r",
      " 77%|█████████████████████████████████████████████████████████████████████████████████████████████████████████████▋                                 | 460/600 [01:24<00:21,  6.63it/s]"
     ]
    },
    {
     "name": "stderr",
     "output_type": "stream",
     "text": [
      "\r",
      " 77%|█████████████████████████████████████████████████████████████████████████████████████████████████████████████▊                                 | 461/600 [01:25<00:21,  6.51it/s]"
     ]
    },
    {
     "name": "stderr",
     "output_type": "stream",
     "text": [
      "\r",
      " 77%|██████████████████████████████████████████████████████████████████████████████████████████████████████████████                                 | 462/600 [01:25<00:21,  6.54it/s]"
     ]
    },
    {
     "name": "stderr",
     "output_type": "stream",
     "text": [
      "\r",
      " 77%|██████████████████████████████████████████████████████████████████████████████████████████████████████████████▎                                | 463/600 [01:25<00:19,  6.91it/s]"
     ]
    },
    {
     "name": "stderr",
     "output_type": "stream",
     "text": [
      "\r",
      " 77%|██████████████████████████████████████████████████████████████████████████████████████████████████████████████▌                                | 464/600 [01:25<00:19,  6.99it/s]"
     ]
    },
    {
     "name": "stderr",
     "output_type": "stream",
     "text": [
      "\r",
      " 78%|██████████████████████████████████████████████████████████████████████████████████████████████████████████████▊                                | 465/600 [01:25<00:19,  6.82it/s]"
     ]
    },
    {
     "name": "stderr",
     "output_type": "stream",
     "text": [
      "\r",
      " 78%|███████████████████████████████████████████████████████████████████████████████████████████████████████████████                                | 466/600 [01:25<00:19,  6.76it/s]"
     ]
    },
    {
     "name": "stderr",
     "output_type": "stream",
     "text": [
      "\r",
      " 78%|███████████████████████████████████████████████████████████████████████████████████████████████████████████████▎                               | 467/600 [01:25<00:20,  6.53it/s]"
     ]
    },
    {
     "name": "stderr",
     "output_type": "stream",
     "text": [
      "\r",
      " 78%|███████████████████████████████████████████████████████████████████████████████████████████████████████████████▌                               | 468/600 [01:26<00:20,  6.46it/s]"
     ]
    },
    {
     "name": "stderr",
     "output_type": "stream",
     "text": [
      "\r",
      " 78%|███████████████████████████████████████████████████████████████████████████████████████████████████████████████▊                               | 469/600 [01:26<00:20,  6.39it/s]"
     ]
    },
    {
     "name": "stderr",
     "output_type": "stream",
     "text": [
      "\r",
      " 78%|████████████████████████████████████████████████████████████████████████████████████████████████████████████████                               | 470/600 [01:26<00:19,  6.70it/s]"
     ]
    },
    {
     "name": "stderr",
     "output_type": "stream",
     "text": [
      "\r",
      " 78%|████████████████████████████████████████████████████████████████████████████████████████████████████████████████▎                              | 471/600 [01:26<00:18,  6.86it/s]"
     ]
    },
    {
     "name": "stderr",
     "output_type": "stream",
     "text": [
      "\r",
      " 79%|████████████████████████████████████████████████████████████████████████████████████████████████████████████████▍                              | 472/600 [01:26<00:18,  7.06it/s]"
     ]
    },
    {
     "name": "stderr",
     "output_type": "stream",
     "text": [
      "\r",
      " 79%|████████████████████████████████████████████████████████████████████████████████████████████████████████████████▋                              | 473/600 [01:26<00:18,  6.82it/s]"
     ]
    },
    {
     "name": "stderr",
     "output_type": "stream",
     "text": [
      "\r",
      " 79%|████████████████████████████████████████████████████████████████████████████████████████████████████████████████▉                              | 474/600 [01:26<00:19,  6.62it/s]"
     ]
    },
    {
     "name": "stderr",
     "output_type": "stream",
     "text": [
      "\r",
      " 79%|█████████████████████████████████████████████████████████████████████████████████████████████████████████████████▏                             | 475/600 [01:27<00:19,  6.52it/s]"
     ]
    },
    {
     "name": "stderr",
     "output_type": "stream",
     "text": [
      "\r",
      " 79%|█████████████████████████████████████████████████████████████████████████████████████████████████████████████████▍                             | 476/600 [01:27<00:19,  6.44it/s]"
     ]
    },
    {
     "name": "stderr",
     "output_type": "stream",
     "text": [
      "\r",
      " 80%|█████████████████████████████████████████████████████████████████████████████████████████████████████████████████▋                             | 477/600 [01:27<00:19,  6.36it/s]"
     ]
    },
    {
     "name": "stderr",
     "output_type": "stream",
     "text": [
      "\r",
      " 80%|█████████████████████████████████████████████████████████████████████████████████████████████████████████████████▉                             | 478/600 [01:27<00:19,  6.33it/s]"
     ]
    },
    {
     "name": "stderr",
     "output_type": "stream",
     "text": [
      "\r",
      " 80%|██████████████████████████████████████████████████████████████████████████████████████████████████████████████████▏                            | 479/600 [01:27<00:18,  6.53it/s]"
     ]
    },
    {
     "name": "stderr",
     "output_type": "stream",
     "text": [
      "\r",
      " 80%|██████████████████████████████████████████████████████████████████████████████████████████████████████████████████▍                            | 480/600 [01:27<00:18,  6.48it/s]"
     ]
    },
    {
     "name": "stderr",
     "output_type": "stream",
     "text": [
      "\r",
      " 80%|██████████████████████████████████████████████████████████████████████████████████████████████████████████████████▋                            | 481/600 [01:28<00:18,  6.41it/s]"
     ]
    },
    {
     "name": "stderr",
     "output_type": "stream",
     "text": [
      "\r",
      " 80%|██████████████████████████████████████████████████████████████████████████████████████████████████████████████████▉                            | 482/600 [01:28<00:18,  6.44it/s]"
     ]
    },
    {
     "name": "stderr",
     "output_type": "stream",
     "text": [
      "\r",
      " 80%|███████████████████████████████████████████████████████████████████████████████████████████████████████████████████                            | 483/600 [01:28<00:18,  6.43it/s]"
     ]
    },
    {
     "name": "stderr",
     "output_type": "stream",
     "text": [
      "\r",
      " 81%|███████████████████████████████████████████████████████████████████████████████████████████████████████████████████▎                           | 484/600 [01:28<00:17,  6.45it/s]"
     ]
    },
    {
     "name": "stderr",
     "output_type": "stream",
     "text": [
      "\r",
      " 81%|███████████████████████████████████████████████████████████████████████████████████████████████████████████████████▌                           | 485/600 [01:28<00:17,  6.40it/s]"
     ]
    },
    {
     "name": "stderr",
     "output_type": "stream",
     "text": [
      "\r",
      " 81%|███████████████████████████████████████████████████████████████████████████████████████████████████████████████████▊                           | 486/600 [01:28<00:17,  6.37it/s]"
     ]
    },
    {
     "name": "stderr",
     "output_type": "stream",
     "text": [
      "\r",
      " 81%|████████████████████████████████████████████████████████████████████████████████████████████████████████████████████                           | 487/600 [01:29<00:17,  6.30it/s]"
     ]
    },
    {
     "name": "stderr",
     "output_type": "stream",
     "text": [
      "\r",
      " 81%|████████████████████████████████████████████████████████████████████████████████████████████████████████████████████▎                          | 488/600 [01:29<00:17,  6.26it/s]"
     ]
    },
    {
     "name": "stderr",
     "output_type": "stream",
     "text": [
      "\r",
      " 82%|████████████████████████████████████████████████████████████████████████████████████████████████████████████████████▌                          | 489/600 [01:29<00:17,  6.27it/s]"
     ]
    },
    {
     "name": "stderr",
     "output_type": "stream",
     "text": [
      "\r",
      " 82%|████████████████████████████████████████████████████████████████████████████████████████████████████████████████████▊                          | 490/600 [01:29<00:17,  6.34it/s]"
     ]
    },
    {
     "name": "stderr",
     "output_type": "stream",
     "text": [
      "\r",
      " 82%|█████████████████████████████████████████████████████████████████████████████████████████████████████████████████████                          | 491/600 [01:29<00:17,  6.38it/s]"
     ]
    },
    {
     "name": "stderr",
     "output_type": "stream",
     "text": [
      "\r",
      " 82%|█████████████████████████████████████████████████████████████████████████████████████████████████████████████████████▎                         | 492/600 [01:29<00:16,  6.45it/s]"
     ]
    },
    {
     "name": "stderr",
     "output_type": "stream",
     "text": [
      "\r",
      " 82%|█████████████████████████████████████████████████████████████████████████████████████████████████████████████████████▍                         | 493/600 [01:29<00:16,  6.44it/s]"
     ]
    },
    {
     "name": "stderr",
     "output_type": "stream",
     "text": [
      "\r",
      " 82%|█████████████████████████████████████████████████████████████████████████████████████████████████████████████████████▋                         | 494/600 [01:30<00:16,  6.36it/s]"
     ]
    },
    {
     "name": "stderr",
     "output_type": "stream",
     "text": [
      "\r",
      " 82%|█████████████████████████████████████████████████████████████████████████████████████████████████████████████████████▉                         | 495/600 [01:30<00:16,  6.41it/s]"
     ]
    },
    {
     "name": "stderr",
     "output_type": "stream",
     "text": [
      "\r",
      " 83%|██████████████████████████████████████████████████████████████████████████████████████████████████████████████████████▏                        | 496/600 [01:30<00:15,  6.52it/s]"
     ]
    },
    {
     "name": "stderr",
     "output_type": "stream",
     "text": [
      "\r",
      " 83%|██████████████████████████████████████████████████████████████████████████████████████████████████████████████████████▍                        | 497/600 [01:30<00:15,  6.78it/s]"
     ]
    },
    {
     "name": "stderr",
     "output_type": "stream",
     "text": [
      "\r",
      " 83%|██████████████████████████████████████████████████████████████████████████████████████████████████████████████████████▋                        | 498/600 [01:30<00:14,  6.98it/s]"
     ]
    },
    {
     "name": "stderr",
     "output_type": "stream",
     "text": [
      "\r",
      " 83%|██████████████████████████████████████████████████████████████████████████████████████████████████████████████████████▉                        | 499/600 [01:30<00:14,  7.11it/s]"
     ]
    },
    {
     "name": "stderr",
     "output_type": "stream",
     "text": [
      "\r",
      " 83%|███████████████████████████████████████████████████████████████████████████████████████████████████████████████████████▏                       | 500/600 [01:30<00:13,  7.17it/s]"
     ]
    },
    {
     "name": "stderr",
     "output_type": "stream",
     "text": [
      "\r",
      " 84%|███████████████████████████████████████████████████████████████████████████████████████████████████████████████████████▍                       | 501/600 [01:31<00:14,  6.90it/s]"
     ]
    },
    {
     "name": "stderr",
     "output_type": "stream",
     "text": [
      "\r",
      " 84%|███████████████████████████████████████████████████████████████████████████████████████████████████████████████████████▋                       | 502/600 [01:31<00:14,  6.77it/s]"
     ]
    },
    {
     "name": "stderr",
     "output_type": "stream",
     "text": [
      "\r",
      " 84%|███████████████████████████████████████████████████████████████████████████████████████████████████████████████████████▉                       | 503/600 [01:31<00:14,  6.59it/s]"
     ]
    },
    {
     "name": "stderr",
     "output_type": "stream",
     "text": [
      "\r",
      " 84%|████████████████████████████████████████████████████████████████████████████████████████████████████████████████████████                       | 504/600 [01:31<00:14,  6.50it/s]"
     ]
    },
    {
     "name": "stderr",
     "output_type": "stream",
     "text": [
      "\r",
      " 84%|████████████████████████████████████████████████████████████████████████████████████████████████████████████████████████▎                      | 505/600 [01:31<00:13,  6.84it/s]"
     ]
    },
    {
     "name": "stderr",
     "output_type": "stream",
     "text": [
      "\r",
      " 84%|████████████████████████████████████████████████████████████████████████████████████████████████████████████████████████▌                      | 506/600 [01:31<00:14,  6.66it/s]"
     ]
    },
    {
     "name": "stderr",
     "output_type": "stream",
     "text": [
      "\r",
      " 84%|████████████████████████████████████████████████████████████████████████████████████████████████████████████████████████▊                      | 507/600 [01:32<00:14,  6.55it/s]"
     ]
    },
    {
     "name": "stderr",
     "output_type": "stream",
     "text": [
      "\r",
      " 85%|█████████████████████████████████████████████████████████████████████████████████████████████████████████████████████████                      | 508/600 [01:32<00:14,  6.52it/s]"
     ]
    },
    {
     "name": "stderr",
     "output_type": "stream",
     "text": [
      "\r",
      " 85%|█████████████████████████████████████████████████████████████████████████████████████████████████████████████████████████▎                     | 509/600 [01:32<00:14,  6.50it/s]"
     ]
    },
    {
     "name": "stderr",
     "output_type": "stream",
     "text": [
      "\r",
      " 85%|█████████████████████████████████████████████████████████████████████████████████████████████████████████████████████████▌                     | 510/600 [01:32<00:13,  6.54it/s]"
     ]
    },
    {
     "name": "stderr",
     "output_type": "stream",
     "text": [
      "\r",
      " 85%|█████████████████████████████████████████████████████████████████████████████████████████████████████████████████████████▊                     | 511/600 [01:32<00:13,  6.58it/s]"
     ]
    },
    {
     "name": "stderr",
     "output_type": "stream",
     "text": [
      "\r",
      " 85%|██████████████████████████████████████████████████████████████████████████████████████████████████████████████████████████                     | 512/600 [01:32<00:13,  6.49it/s]"
     ]
    },
    {
     "name": "stderr",
     "output_type": "stream",
     "text": [
      "\r",
      " 86%|██████████████████████████████████████████████████████████████████████████████████████████████████████████████████████████▎                    | 513/600 [01:32<00:13,  6.41it/s]"
     ]
    },
    {
     "name": "stderr",
     "output_type": "stream",
     "text": [
      "\r",
      " 86%|██████████████████████████████████████████████████████████████████████████████████████████████████████████████████████████▌                    | 514/600 [01:33<00:13,  6.31it/s]"
     ]
    },
    {
     "name": "stderr",
     "output_type": "stream",
     "text": [
      "\r",
      " 86%|██████████████████████████████████████████████████████████████████████████████████████████████████████████████████████████▋                    | 515/600 [01:33<00:13,  6.30it/s]"
     ]
    },
    {
     "name": "stderr",
     "output_type": "stream",
     "text": [
      "\r",
      " 86%|██████████████████████████████████████████████████████████████████████████████████████████████████████████████████████████▉                    | 516/600 [01:33<00:13,  6.25it/s]"
     ]
    },
    {
     "name": "stderr",
     "output_type": "stream",
     "text": [
      "\r",
      " 86%|███████████████████████████████████████████████████████████████████████████████████████████████████████████████████████████▏                   | 517/600 [01:33<00:13,  6.25it/s]"
     ]
    },
    {
     "name": "stderr",
     "output_type": "stream",
     "text": [
      "\r",
      " 86%|███████████████████████████████████████████████████████████████████████████████████████████████████████████████████████████▍                   | 518/600 [01:33<00:13,  6.28it/s]"
     ]
    },
    {
     "name": "stderr",
     "output_type": "stream",
     "text": [
      "\r",
      " 86%|███████████████████████████████████████████████████████████████████████████████████████████████████████████████████████████▋                   | 519/600 [01:33<00:12,  6.48it/s]"
     ]
    },
    {
     "name": "stderr",
     "output_type": "stream",
     "text": [
      "\r",
      " 87%|███████████████████████████████████████████████████████████████████████████████████████████████████████████████████████████▉                   | 520/600 [01:34<00:11,  6.89it/s]"
     ]
    },
    {
     "name": "stderr",
     "output_type": "stream",
     "text": [
      "\r",
      " 87%|████████████████████████████████████████████████████████████████████████████████████████████████████████████████████████████▏                  | 521/600 [01:34<00:12,  6.26it/s]"
     ]
    },
    {
     "name": "stderr",
     "output_type": "stream",
     "text": [
      "\r",
      " 87%|████████████████████████████████████████████████████████████████████████████████████████████████████████████████████████████▍                  | 522/600 [01:34<00:12,  6.06it/s]"
     ]
    },
    {
     "name": "stderr",
     "output_type": "stream",
     "text": [
      "\r",
      " 87%|████████████████████████████████████████████████████████████████████████████████████████████████████████████████████████████▋                  | 523/600 [01:34<00:12,  6.10it/s]"
     ]
    },
    {
     "name": "stderr",
     "output_type": "stream",
     "text": [
      "\r",
      " 87%|████████████████████████████████████████████████████████████████████████████████████████████████████████████████████████████▉                  | 524/600 [01:34<00:12,  5.85it/s]"
     ]
    },
    {
     "name": "stderr",
     "output_type": "stream",
     "text": [
      "\r",
      " 88%|█████████████████████████████████████████████████████████████████████████████████████████████████████████████████████████████▏                 | 525/600 [01:34<00:13,  5.72it/s]"
     ]
    },
    {
     "name": "stderr",
     "output_type": "stream",
     "text": [
      "\r",
      " 88%|█████████████████████████████████████████████████████████████████████████████████████████████████████████████████████████████▎                 | 526/600 [01:35<00:13,  5.64it/s]"
     ]
    },
    {
     "name": "stderr",
     "output_type": "stream",
     "text": [
      "\r",
      " 88%|█████████████████████████████████████████████████████████████████████████████████████████████████████████████████████████████▌                 | 527/600 [01:35<00:13,  5.42it/s]"
     ]
    },
    {
     "name": "stderr",
     "output_type": "stream",
     "text": [
      "\r",
      " 88%|█████████████████████████████████████████████████████████████████████████████████████████████████████████████████████████████▊                 | 528/600 [01:35<00:14,  4.99it/s]"
     ]
    },
    {
     "name": "stderr",
     "output_type": "stream",
     "text": [
      "\r",
      " 88%|██████████████████████████████████████████████████████████████████████████████████████████████████████████████████████████████                 | 529/600 [01:35<00:14,  4.87it/s]"
     ]
    },
    {
     "name": "stderr",
     "output_type": "stream",
     "text": [
      "\r",
      " 88%|██████████████████████████████████████████████████████████████████████████████████████████████████████████████████████████████▎                | 530/600 [01:35<00:14,  4.84it/s]"
     ]
    },
    {
     "name": "stderr",
     "output_type": "stream",
     "text": [
      "\r",
      " 88%|██████████████████████████████████████████████████████████████████████████████████████████████████████████████████████████████▌                | 531/600 [01:36<00:13,  4.99it/s]"
     ]
    },
    {
     "name": "stderr",
     "output_type": "stream",
     "text": [
      "\r",
      " 89%|██████████████████████████████████████████████████████████████████████████████████████████████████████████████████████████████▊                | 532/600 [01:36<00:13,  5.19it/s]"
     ]
    },
    {
     "name": "stderr",
     "output_type": "stream",
     "text": [
      "\r",
      " 89%|███████████████████████████████████████████████████████████████████████████████████████████████████████████████████████████████                | 533/600 [01:36<00:12,  5.29it/s]"
     ]
    },
    {
     "name": "stderr",
     "output_type": "stream",
     "text": [
      "\r",
      " 89%|███████████████████████████████████████████████████████████████████████████████████████████████████████████████████████████████▎               | 534/600 [01:36<00:12,  5.32it/s]"
     ]
    },
    {
     "name": "stderr",
     "output_type": "stream",
     "text": [
      "\r",
      " 89%|███████████████████████████████████████████████████████████████████████████████████████████████████████████████████████████████▌               | 535/600 [01:36<00:12,  5.38it/s]"
     ]
    },
    {
     "name": "stderr",
     "output_type": "stream",
     "text": [
      "\r",
      " 89%|███████████████████████████████████████████████████████████████████████████████████████████████████████████████████████████████▋               | 536/600 [01:37<00:11,  5.56it/s]"
     ]
    },
    {
     "name": "stderr",
     "output_type": "stream",
     "text": [
      "\r",
      " 90%|███████████████████████████████████████████████████████████████████████████████████████████████████████████████████████████████▉               | 537/600 [01:37<00:11,  5.51it/s]"
     ]
    },
    {
     "name": "stderr",
     "output_type": "stream",
     "text": [
      "\r",
      " 90%|████████████████████████████████████████████████████████████████████████████████████████████████████████████████████████████████▏              | 538/600 [01:37<00:11,  5.36it/s]"
     ]
    },
    {
     "name": "stderr",
     "output_type": "stream",
     "text": [
      "\r",
      " 90%|████████████████████████████████████████████████████████████████████████████████████████████████████████████████████████████████▍              | 539/600 [01:37<00:11,  5.38it/s]"
     ]
    },
    {
     "name": "stderr",
     "output_type": "stream",
     "text": [
      "\r",
      " 90%|████████████████████████████████████████████████████████████████████████████████████████████████████████████████████████████████▋              | 540/600 [01:37<00:11,  5.28it/s]"
     ]
    },
    {
     "name": "stderr",
     "output_type": "stream",
     "text": [
      "\r",
      " 90%|████████████████████████████████████████████████████████████████████████████████████████████████████████████████████████████████▉              | 541/600 [01:38<00:11,  5.20it/s]"
     ]
    },
    {
     "name": "stderr",
     "output_type": "stream",
     "text": [
      "\r",
      " 90%|█████████████████████████████████████████████████████████████████████████████████████████████████████████████████████████████████▏             | 542/600 [01:38<00:11,  5.15it/s]"
     ]
    },
    {
     "name": "stderr",
     "output_type": "stream",
     "text": [
      "\r",
      " 90%|█████████████████████████████████████████████████████████████████████████████████████████████████████████████████████████████████▍             | 543/600 [01:38<00:11,  5.16it/s]"
     ]
    },
    {
     "name": "stderr",
     "output_type": "stream",
     "text": [
      "\r",
      " 91%|█████████████████████████████████████████████████████████████████████████████████████████████████████████████████████████████████▋             | 544/600 [01:38<00:10,  5.14it/s]"
     ]
    },
    {
     "name": "stderr",
     "output_type": "stream",
     "text": [
      "\r",
      " 91%|█████████████████████████████████████████████████████████████████████████████████████████████████████████████████████████████████▉             | 545/600 [01:38<00:10,  5.09it/s]"
     ]
    },
    {
     "name": "stderr",
     "output_type": "stream",
     "text": [
      "\r",
      " 91%|██████████████████████████████████████████████████████████████████████████████████████████████████████████████████████████████████▏            | 546/600 [01:39<00:10,  5.15it/s]"
     ]
    },
    {
     "name": "stderr",
     "output_type": "stream",
     "text": [
      "\r",
      " 91%|██████████████████████████████████████████████████████████████████████████████████████████████████████████████████████████████████▎            | 547/600 [01:39<00:10,  5.09it/s]"
     ]
    },
    {
     "name": "stderr",
     "output_type": "stream",
     "text": [
      "\r",
      " 91%|██████████████████████████████████████████████████████████████████████████████████████████████████████████████████████████████████▌            | 548/600 [01:39<00:10,  5.00it/s]"
     ]
    },
    {
     "name": "stderr",
     "output_type": "stream",
     "text": [
      "\r",
      " 92%|██████████████████████████████████████████████████████████████████████████████████████████████████████████████████████████████████▊            | 549/600 [01:39<00:10,  4.81it/s]"
     ]
    },
    {
     "name": "stderr",
     "output_type": "stream",
     "text": [
      "\r",
      " 92%|███████████████████████████████████████████████████████████████████████████████████████████████████████████████████████████████████            | 550/600 [01:39<00:10,  4.98it/s]"
     ]
    },
    {
     "name": "stderr",
     "output_type": "stream",
     "text": [
      "\r",
      " 92%|███████████████████████████████████████████████████████████████████████████████████████████████████████████████████████████████████▎           | 551/600 [01:40<00:10,  4.76it/s]"
     ]
    },
    {
     "name": "stderr",
     "output_type": "stream",
     "text": [
      "\r",
      " 92%|███████████████████████████████████████████████████████████████████████████████████████████████████████████████████████████████████▌           | 552/600 [01:40<00:10,  4.70it/s]"
     ]
    },
    {
     "name": "stderr",
     "output_type": "stream",
     "text": [
      "\r",
      " 92%|███████████████████████████████████████████████████████████████████████████████████████████████████████████████████████████████████▊           | 553/600 [01:40<00:09,  4.97it/s]"
     ]
    },
    {
     "name": "stderr",
     "output_type": "stream",
     "text": [
      "\r",
      " 92%|████████████████████████████████████████████████████████████████████████████████████████████████████████████████████████████████████           | 554/600 [01:40<00:08,  5.33it/s]"
     ]
    },
    {
     "name": "stderr",
     "output_type": "stream",
     "text": [
      "\r",
      " 92%|████████████████████████████████████████████████████████████████████████████████████████████████████████████████████████████████████▎          | 555/600 [01:40<00:07,  5.63it/s]"
     ]
    },
    {
     "name": "stderr",
     "output_type": "stream",
     "text": [
      "\r",
      " 93%|████████████████████████████████████████████████████████████████████████████████████████████████████████████████████████████████████▌          | 556/600 [01:40<00:08,  5.47it/s]"
     ]
    },
    {
     "name": "stderr",
     "output_type": "stream",
     "text": [
      "\r",
      " 93%|████████████████████████████████████████████████████████████████████████████████████████████████████████████████████████████████████▊          | 557/600 [01:41<00:07,  5.75it/s]"
     ]
    },
    {
     "name": "stderr",
     "output_type": "stream",
     "text": [
      "\r",
      " 93%|████████████████████████████████████████████████████████████████████████████████████████████████████████████████████████████████████▉          | 558/600 [01:41<00:07,  5.83it/s]"
     ]
    },
    {
     "name": "stderr",
     "output_type": "stream",
     "text": [
      "\r",
      " 93%|█████████████████████████████████████████████████████████████████████████████████████████████████████████████████████████████████████▏         | 559/600 [01:41<00:06,  5.86it/s]"
     ]
    },
    {
     "name": "stderr",
     "output_type": "stream",
     "text": [
      "\r",
      " 93%|█████████████████████████████████████████████████████████████████████████████████████████████████████████████████████████████████████▍         | 560/600 [01:41<00:06,  5.90it/s]"
     ]
    },
    {
     "name": "stderr",
     "output_type": "stream",
     "text": [
      "\r",
      " 94%|█████████████████████████████████████████████████████████████████████████████████████████████████████████████████████████████████████▋         | 561/600 [01:41<00:06,  5.94it/s]"
     ]
    },
    {
     "name": "stderr",
     "output_type": "stream",
     "text": [
      "\r",
      " 94%|█████████████████████████████████████████████████████████████████████████████████████████████████████████████████████████████████████▉         | 562/600 [01:41<00:06,  6.00it/s]"
     ]
    },
    {
     "name": "stderr",
     "output_type": "stream",
     "text": [
      "\r",
      " 94%|██████████████████████████████████████████████████████████████████████████████████████████████████████████████████████████████████████▏        | 563/600 [01:42<00:06,  6.10it/s]"
     ]
    },
    {
     "name": "stderr",
     "output_type": "stream",
     "text": [
      "\r",
      " 94%|██████████████████████████████████████████████████████████████████████████████████████████████████████████████████████████████████████▍        | 564/600 [01:42<00:05,  6.22it/s]"
     ]
    },
    {
     "name": "stderr",
     "output_type": "stream",
     "text": [
      "\r",
      " 94%|██████████████████████████████████████████████████████████████████████████████████████████████████████████████████████████████████████▋        | 565/600 [01:42<00:05,  6.29it/s]"
     ]
    },
    {
     "name": "stderr",
     "output_type": "stream",
     "text": [
      "\r",
      " 94%|██████████████████████████████████████████████████████████████████████████████████████████████████████████████████████████████████████▉        | 566/600 [01:42<00:05,  6.29it/s]"
     ]
    },
    {
     "name": "stderr",
     "output_type": "stream",
     "text": [
      "\r",
      " 94%|███████████████████████████████████████████████████████████████████████████████████████████████████████████████████████████████████████▏       | 567/600 [01:42<00:05,  6.26it/s]"
     ]
    },
    {
     "name": "stderr",
     "output_type": "stream",
     "text": [
      "\r",
      " 95%|███████████████████████████████████████████████████████████████████████████████████████████████████████████████████████████████████████▎       | 568/600 [01:42<00:05,  6.25it/s]"
     ]
    },
    {
     "name": "stderr",
     "output_type": "stream",
     "text": [
      "\r",
      " 95%|███████████████████████████████████████████████████████████████████████████████████████████████████████████████████████████████████████▌       | 569/600 [01:43<00:04,  6.25it/s]"
     ]
    },
    {
     "name": "stderr",
     "output_type": "stream",
     "text": [
      "\r",
      " 95%|███████████████████████████████████████████████████████████████████████████████████████████████████████████████████████████████████████▊       | 570/600 [01:43<00:04,  6.65it/s]"
     ]
    },
    {
     "name": "stderr",
     "output_type": "stream",
     "text": [
      "\r",
      " 95%|████████████████████████████████████████████████████████████████████████████████████████████████████████████████████████████████████████       | 571/600 [01:43<00:04,  6.64it/s]"
     ]
    },
    {
     "name": "stderr",
     "output_type": "stream",
     "text": [
      "\r",
      " 95%|████████████████████████████████████████████████████████████████████████████████████████████████████████████████████████████████████████▎      | 572/600 [01:43<00:04,  6.52it/s]"
     ]
    },
    {
     "name": "stderr",
     "output_type": "stream",
     "text": [
      "\r",
      " 96%|████████████████████████████████████████████████████████████████████████████████████████████████████████████████████████████████████████▌      | 573/600 [01:43<00:04,  6.25it/s]"
     ]
    },
    {
     "name": "stderr",
     "output_type": "stream",
     "text": [
      "\r",
      " 96%|████████████████████████████████████████████████████████████████████████████████████████████████████████████████████████████████████████▊      | 574/600 [01:43<00:04,  6.25it/s]"
     ]
    },
    {
     "name": "stderr",
     "output_type": "stream",
     "text": [
      "\r",
      " 96%|█████████████████████████████████████████████████████████████████████████████████████████████████████████████████████████████████████████      | 575/600 [01:43<00:03,  6.33it/s]"
     ]
    },
    {
     "name": "stderr",
     "output_type": "stream",
     "text": [
      "\r",
      " 96%|█████████████████████████████████████████████████████████████████████████████████████████████████████████████████████████████████████████▎     | 576/600 [01:44<00:03,  6.38it/s]"
     ]
    },
    {
     "name": "stderr",
     "output_type": "stream",
     "text": [
      "\r",
      " 96%|█████████████████████████████████████████████████████████████████████████████████████████████████████████████████████████████████████████▌     | 577/600 [01:44<00:03,  6.44it/s]"
     ]
    },
    {
     "name": "stderr",
     "output_type": "stream",
     "text": [
      "\r",
      " 96%|█████████████████████████████████████████████████████████████████████████████████████████████████████████████████████████████████████████▊     | 578/600 [01:44<00:03,  6.40it/s]"
     ]
    },
    {
     "name": "stderr",
     "output_type": "stream",
     "text": [
      "\r",
      " 96%|█████████████████████████████████████████████████████████████████████████████████████████████████████████████████████████████████████████▉     | 579/600 [01:44<00:03,  6.33it/s]"
     ]
    },
    {
     "name": "stderr",
     "output_type": "stream",
     "text": [
      "\r",
      " 97%|██████████████████████████████████████████████████████████████████████████████████████████████████████████████████████████████████████████▏    | 580/600 [01:44<00:03,  6.45it/s]"
     ]
    },
    {
     "name": "stderr",
     "output_type": "stream",
     "text": [
      "\r",
      " 97%|██████████████████████████████████████████████████████████████████████████████████████████████████████████████████████████████████████████▍    | 581/600 [01:44<00:02,  6.72it/s]"
     ]
    },
    {
     "name": "stderr",
     "output_type": "stream",
     "text": [
      "\r",
      " 97%|██████████████████████████████████████████████████████████████████████████████████████████████████████████████████████████████████████████▋    | 582/600 [01:45<00:02,  6.90it/s]"
     ]
    },
    {
     "name": "stderr",
     "output_type": "stream",
     "text": [
      "\r",
      " 97%|██████████████████████████████████████████████████████████████████████████████████████████████████████████████████████████████████████████▉    | 583/600 [01:45<00:02,  7.09it/s]"
     ]
    },
    {
     "name": "stderr",
     "output_type": "stream",
     "text": [
      "\r",
      " 97%|███████████████████████████████████████████████████████████████████████████████████████████████████████████████████████████████████████████▏   | 584/600 [01:45<00:02,  6.80it/s]"
     ]
    },
    {
     "name": "stderr",
     "output_type": "stream",
     "text": [
      "\r",
      " 98%|███████████████████████████████████████████████████████████████████████████████████████████████████████████████████████████████████████████▍   | 585/600 [01:45<00:02,  6.76it/s]"
     ]
    },
    {
     "name": "stderr",
     "output_type": "stream",
     "text": [
      "\r",
      " 98%|███████████████████████████████████████████████████████████████████████████████████████████████████████████████████████████████████████████▋   | 586/600 [01:45<00:02,  6.63it/s]"
     ]
    },
    {
     "name": "stderr",
     "output_type": "stream",
     "text": [
      "\r",
      " 98%|███████████████████████████████████████████████████████████████████████████████████████████████████████████████████████████████████████████▉   | 587/600 [01:45<00:02,  6.49it/s]"
     ]
    },
    {
     "name": "stderr",
     "output_type": "stream",
     "text": [
      "\r",
      " 98%|████████████████████████████████████████████████████████████████████████████████████████████████████████████████████████████████████████████▏  | 588/600 [01:45<00:01,  6.40it/s]"
     ]
    },
    {
     "name": "stderr",
     "output_type": "stream",
     "text": [
      "\r",
      " 98%|████████████████████████████████████████████████████████████████████████████████████████████████████████████████████████████████████████████▍  | 589/600 [01:46<00:01,  6.36it/s]"
     ]
    },
    {
     "name": "stderr",
     "output_type": "stream",
     "text": [
      "\r",
      " 98%|████████████████████████████████████████████████████████████████████████████████████████████████████████████████████████████████████████████▌  | 590/600 [01:46<00:01,  6.42it/s]"
     ]
    },
    {
     "name": "stderr",
     "output_type": "stream",
     "text": [
      "\r",
      " 98%|████████████████████████████████████████████████████████████████████████████████████████████████████████████████████████████████████████████▊  | 591/600 [01:46<00:01,  6.40it/s]"
     ]
    },
    {
     "name": "stderr",
     "output_type": "stream",
     "text": [
      "\r",
      " 99%|█████████████████████████████████████████████████████████████████████████████████████████████████████████████████████████████████████████████  | 592/600 [01:46<00:01,  6.62it/s]"
     ]
    },
    {
     "name": "stderr",
     "output_type": "stream",
     "text": [
      "\r",
      " 99%|█████████████████████████████████████████████████████████████████████████████████████████████████████████████████████████████████████████████▎ | 593/600 [01:46<00:01,  6.79it/s]"
     ]
    },
    {
     "name": "stderr",
     "output_type": "stream",
     "text": [
      "\r",
      " 99%|█████████████████████████████████████████████████████████████████████████████████████████████████████████████████████████████████████████████▌ | 594/600 [01:46<00:00,  6.66it/s]"
     ]
    },
    {
     "name": "stderr",
     "output_type": "stream",
     "text": [
      "\r",
      " 99%|█████████████████████████████████████████████████████████████████████████████████████████████████████████████████████████████████████████████▊ | 595/600 [01:46<00:00,  6.69it/s]"
     ]
    },
    {
     "name": "stderr",
     "output_type": "stream",
     "text": [
      "\r",
      " 99%|██████████████████████████████████████████████████████████████████████████████████████████████████████████████████████████████████████████████ | 596/600 [01:47<00:00,  6.65it/s]"
     ]
    },
    {
     "name": "stderr",
     "output_type": "stream",
     "text": [
      "\r",
      "100%|██████████████████████████████████████████████████████████████████████████████████████████████████████████████████████████████████████████████▎| 597/600 [01:47<00:00,  6.92it/s]"
     ]
    },
    {
     "name": "stderr",
     "output_type": "stream",
     "text": [
      "\r",
      "100%|██████████████████████████████████████████████████████████████████████████████████████████████████████████████████████████████████████████████▌| 598/600 [01:47<00:00,  6.72it/s]"
     ]
    },
    {
     "name": "stderr",
     "output_type": "stream",
     "text": [
      "\r",
      "100%|██████████████████████████████████████████████████████████████████████████████████████████████████████████████████████████████████████████████▊| 599/600 [01:47<00:00,  6.57it/s]"
     ]
    },
    {
     "name": "stderr",
     "output_type": "stream",
     "text": [
      "\r",
      "100%|███████████████████████████████████████████████████████████████████████████████████████████████████████████████████████████████████████████████| 600/600 [01:47<00:00,  6.47it/s]"
     ]
    },
    {
     "name": "stderr",
     "output_type": "stream",
     "text": [
      "\r",
      "100%|███████████████████████████████████████████████████████████████████████████████████████████████████████████████████████████████████████████████| 600/600 [01:47<00:00,  5.57it/s]"
     ]
    },
    {
     "name": "stderr",
     "output_type": "stream",
     "text": [
      "\n"
     ]
    },
    {
     "data": {
      "text/plain": [
       "(<Figure size 640x480 with 1 Axes>,\n",
       " <Axes: xlabel='Descent step', ylabel='log10(Mean square error)'>)"
      ]
     },
     "execution_count": 5,
     "metadata": {},
     "output_type": "execute_result"
    },
    {
     "data": {
      "application/vnd.jupyter.widget-view+json": {
       "model_id": "6b7c432ffe334884a5b6ba59cfb0e696",
       "version_major": 2,
       "version_minor": 0
      },
      "image/png": "[encoded data removed]",
      "text/html": [
       "\n",
       "            <div style=\"display: inline-block;\">\n",
       "                <div class=\"jupyter-widgets widget-label\" style=\"text-align: center;\">\n",
       "                    Figure\n",
       "                </div>\n",
       "                <img src='data:image/png;base64,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' width=640.0/>\n",
       "            </div>\n",
       "        "
      ],
      "text/plain": [
       "Canvas(toolbar=Toolbar(toolitems=[('Home', 'Reset original view', 'home', 'home'), ('Back', 'Back to previous …"
      ]
     },
     "metadata": {},
     "output_type": "display_data"
    }
   ],
   "source": [
    "iq = ImageQuant2(img=imgs, roi=rois, cytbg=cytbg, membg=membg)\n",
    "iq.quantify()\n",
    "iq.plot_losses(log=True)"
   ]
  },
  {
   "cell_type": "markdown",
   "metadata": {},
   "source": [
    "### Save results"
   ]
  },
  {
   "cell_type": "code",
   "execution_count": 6,
   "metadata": {
    "execution": {
     "iopub.execute_input": "2023-11-18T11:07:45.080527Z",
     "iopub.status.busy": "2023-11-18T11:07:45.080243Z",
     "iopub.status.idle": "2023-11-18T11:07:46.471364Z",
     "shell.execute_reply": "2023-11-18T11:07:46.470729Z"
    }
   },
   "outputs": [],
   "source": [
    "res = iq.compile_res(ids=[str(x) for x in df['EmbryoID'].to_list()])\n",
    "res['Membrane signal'] *= calibration_factor\n",
    "res.to_csv('../../data/par2_nebd_quantification.csv')"
   ]
  },
  {
   "cell_type": "code",
   "execution_count": null,
   "metadata": {},
   "outputs": [],
   "source": []
  }
 ],
 "metadata": {
  "kernelspec": {
   "display_name": "Python 3",
   "language": "python",
   "name": "python3"
  },
  "language_info": {
   "codemirror_mode": {
    "name": "ipython",
    "version": 3
   },
   "file_extension": ".py",
   "mimetype": "text/x-python",
   "name": "python",
   "nbconvert_exporter": "python",
   "pygments_lexer": "ipython3",
   "version": "3.11.6"
  },
  "widgets": {
   "application/vnd.jupyter.widget-state+json": {
    "state": {
     "63ccb32b5c5441e48b176a7e773595f6": {
      "model_module": "@jupyter-widgets/base",
      "model_module_version": "2.0.0",
      "model_name": "LayoutModel",
      "state": {
       "_model_module": "@jupyter-widgets/base",
       "_model_module_version": "2.0.0",
       "_model_name": "LayoutModel",
       "_view_count": null,
       "_view_module": "@jupyter-widgets/base",
       "_view_module_version": "2.0.0",
       "_view_name": "LayoutView",
       "align_content": null,
       "align_items": null,
       "align_self": null,
       "border_bottom": null,
       "border_left": null,
       "border_right": null,
       "border_top": null,
       "bottom": null,
       "display": null,
       "flex": null,
       "flex_flow": null,
       "grid_area": null,
       "grid_auto_columns": null,
       "grid_auto_flow": null,
       "grid_auto_rows": null,
       "grid_column": null,
       "grid_gap": null,
       "grid_row": null,
       "grid_template_areas": null,
       "grid_template_columns": null,
       "grid_template_rows": null,
       "height": null,
       "justify_content": null,
       "justify_items": null,
       "left": null,
       "margin": null,
       "max_height": null,
       "max_width": null,
       "min_height": null,
       "min_width": null,
       "object_fit": null,
       "object_position": null,
       "order": null,
       "overflow": null,
       "padding": null,
       "right": null,
       "top": null,
       "visibility": null,
       "width": null
      }
     },
     "6b7c432ffe334884a5b6ba59cfb0e696": {
      "model_module": "jupyter-matplotlib",
      "model_module_version": "^0.11",
      "model_name": "MPLCanvasModel",
      "state": {
       "_cursor": "pointer",
       "_data_url": "data:image/png;base64,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",
       "_dom_classes": [],
       "_figure_label": "Figure",
       "_image_mode": "full",
       "_message": "",
       "_model_module": "jupyter-matplotlib",
       "_model_module_version": "^0.11",
       "_model_name": "MPLCanvasModel",
       "_rubberband_height": 0,
       "_rubberband_width": 0,
       "_rubberband_x": 0,
       "_rubberband_y": 0,
       "_size": [
        640.0,
        480.0
       ],
       "_view_count": null,
       "_view_module": "jupyter-matplotlib",
       "_view_module_version": "^0.11",
       "_view_name": "MPLCanvasView",
       "capture_scroll": false,
       "footer_visible": true,
       "header_visible": true,
       "layout": "IPY_MODEL_63ccb32b5c5441e48b176a7e773595f6",
       "pan_zoom_throttle": 33.0,
       "resizable": true,
       "tabbable": null,
       "toolbar": "IPY_MODEL_d93aeff7cd134e159f827061c12bd568",
       "toolbar_position": "left",
       "toolbar_visible": "fade-in-fade-out",
       "tooltip": null
      }
     },
     "81d85a2de98740b5bbaaae0b241b32fb": {
      "model_module": "@jupyter-widgets/base",
      "model_module_version": "2.0.0",
      "model_name": "LayoutModel",
      "state": {
       "_model_module": "@jupyter-widgets/base",
       "_model_module_version": "2.0.0",
       "_model_name": "LayoutModel",
       "_view_count": null,
       "_view_module": "@jupyter-widgets/base",
       "_view_module_version": "2.0.0",
       "_view_name": "LayoutView",
       "align_content": null,
       "align_items": null,
       "align_self": null,
       "border_bottom": null,
       "border_left": null,
       "border_right": null,
       "border_top": null,
       "bottom": null,
       "display": null,
       "flex": null,
       "flex_flow": null,
       "grid_area": null,
       "grid_auto_columns": null,
       "grid_auto_flow": null,
       "grid_auto_rows": null,
       "grid_column": null,
       "grid_gap": null,
       "grid_row": null,
       "grid_template_areas": null,
       "grid_template_columns": null,
       "grid_template_rows": null,
       "height": null,
       "justify_content": null,
       "justify_items": null,
       "left": null,
       "margin": null,
       "max_height": null,
       "max_width": null,
       "min_height": null,
       "min_width": null,
       "object_fit": null,
       "object_position": null,
       "order": null,
       "overflow": null,
       "padding": null,
       "right": null,
       "top": null,
       "visibility": null,
       "width": null
      }
     },
     "d93aeff7cd134e159f827061c12bd568": {
      "model_module": "jupyter-matplotlib",
      "model_module_version": "^0.11",
      "model_name": "ToolbarModel",
      "state": {
       "_current_action": "",
       "_dom_classes": [],
       "_model_module": "jupyter-matplotlib",
       "_model_module_version": "^0.11",
       "_model_name": "ToolbarModel",
       "_view_count": null,
       "_view_module": "jupyter-matplotlib",
       "_view_module_version": "^0.11",
       "_view_name": "ToolbarView",
       "button_style": "",
       "collapsed": true,
       "layout": "IPY_MODEL_81d85a2de98740b5bbaaae0b241b32fb",
       "orientation": "vertical",
       "tabbable": null,
       "toolitems": [
        [
         "Home",
         "Reset original view",
         "home",
         "home"
        ],
        [
         "Back",
         "Back to previous view",
         "arrow-left",
         "back"
        ],
        [
         "Forward",
         "Forward to next view",
         "arrow-right",
         "forward"
        ],
        [
         "Pan",
         "Left button pans, Right button zooms\nx/y fixes axis, CTRL fixes aspect",
         "arrows",
         "pan"
        ],
        [
         "Zoom",
         "Zoom to rectangle\nx/y fixes axis",
         "square-o",
         "zoom"
        ],
        [
         "Download",
         "Download plot",
         "floppy-o",
         "save_figure"
        ]
       ],
       "tooltip": null
      }
     }
    },
    "version_major": 2,
    "version_minor": 0
   }
  }
 },
 "nbformat": 4,
 "nbformat_minor": 4
}
