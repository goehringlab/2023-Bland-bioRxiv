{
 "cells": [
  {
   "cell_type": "code",
   "execution_count": 1,
   "metadata": {
    "execution": {
     "iopub.execute_input": "2024-05-30T07:38:34.622972Z",
     "iopub.status.busy": "2024-05-30T07:38:34.622407Z",
     "iopub.status.idle": "2024-05-30T07:38:36.907227Z",
     "shell.execute_reply": "2024-05-30T07:38:36.905116Z"
    }
   },
   "outputs": [],
   "source": [
    "\n",
    "import numpy as np\n",
    "import pandas as pd\n",
    "\n",
    "from src import ImageQuant2, load_image, nb_setup, raw_data_path\n",
    "\n",
    "nb_setup()\n",
    "\n",
    "%matplotlib widget"
   ]
  },
  {
   "cell_type": "code",
   "execution_count": 2,
   "metadata": {
    "execution": {
     "iopub.execute_input": "2024-05-30T07:38:36.915116Z",
     "iopub.status.busy": "2024-05-30T07:38:36.913976Z",
     "iopub.status.idle": "2024-05-30T07:38:36.929403Z",
     "shell.execute_reply": "2024-05-30T07:38:36.928195Z"
    }
   },
   "outputs": [
    {
     "name": "stdout",
     "output_type": "stream",
     "text": [
      "3.105836925083751\n"
     ]
    }
   ],
   "source": [
    "# Import quantification moodel\n",
    "membg = np.loadtxt(\"../../data/calibration_mem6.txt\")\n",
    "cytbg = np.loadtxt(\"../../data/calibration_cyt.txt\")\n",
    "calibration_factor = np.loadtxt(\"../../data/calibration_constants.txt\")[6]\n",
    "print(calibration_factor)"
   ]
  },
  {
   "cell_type": "code",
   "execution_count": 3,
   "metadata": {
    "execution": {
     "iopub.execute_input": "2024-05-30T07:38:36.934424Z",
     "iopub.status.busy": "2024-05-30T07:38:36.933788Z",
     "iopub.status.idle": "2024-05-30T07:38:36.954114Z",
     "shell.execute_reply": "2024-05-30T07:38:36.953044Z"
    }
   },
   "outputs": [],
   "source": [
    "# Import embryos dataframe\n",
    "df = pd.read_csv(\"../../data/par2_nebd_embryos.csv\")\n",
    "df[\"Path\"] = df[\"Path\"].apply(lambda x: raw_data_path + x)"
   ]
  },
  {
   "cell_type": "markdown",
   "metadata": {},
   "source": [
    "### Import data"
   ]
  },
  {
   "cell_type": "code",
   "execution_count": 4,
   "metadata": {
    "execution": {
     "iopub.execute_input": "2024-05-30T07:38:36.959230Z",
     "iopub.status.busy": "2024-05-30T07:38:36.958765Z",
     "iopub.status.idle": "2024-05-30T07:38:53.012685Z",
     "shell.execute_reply": "2024-05-30T07:38:53.011629Z"
    }
   },
   "outputs": [],
   "source": [
    "paths = df.Path.to_list()\n",
    "lines = df.Line.to_list()\n",
    "imgs = [load_image(p + \"/af_corrected.tif\") for p in paths]\n",
    "rois = [\n",
    "    np.loadtxt(p + \"/ROI_fit.txt\")\n",
    "    if line != \"n2\"\n",
    "    else np.loadtxt(p + \"/ROI_manual.txt\")\n",
    "    for p, line in zip(paths, lines)\n",
    "]"
   ]
  },
  {
   "cell_type": "markdown",
   "metadata": {},
   "source": [
    "### Run quantification"
   ]
  },
  {
   "cell_type": "code",
   "execution_count": 5,
   "metadata": {
    "execution": {
     "iopub.execute_input": "2024-05-30T07:38:53.016482Z",
     "iopub.status.busy": "2024-05-30T07:38:53.015419Z",
     "iopub.status.idle": "2024-05-30T07:41:28.401056Z",
     "shell.execute_reply": "2024-05-30T07:41:28.399928Z"
    },
    "scrolled": false
   },
   "outputs": [
    {
     "name": "stderr",
     "output_type": "stream",
     "text": [
      "\r",
      "  0%|                                                                                                                                                  | 0/600 [00:00<?, ?it/s]"
     ]
    },
    {
     "name": "stderr",
     "output_type": "stream",
     "text": [
      "\r",
      "  0%|▏                                                                                                                                         | 1/600 [00:04<48:09,  4.82s/it]"
     ]
    },
    {
     "name": "stderr",
     "output_type": "stream",
     "text": [
      "\r",
      "  0%|▍                                                                                                                                         | 2/600 [00:05<20:52,  2.09s/it]"
     ]
    },
    {
     "name": "stderr",
     "output_type": "stream",
     "text": [
      "\r",
      "  0%|▋                                                                                                                                         | 3/600 [00:05<12:08,  1.22s/it]"
     ]
    },
    {
     "name": "stderr",
     "output_type": "stream",
     "text": [
      "\r",
      "  1%|▉                                                                                                                                         | 4/600 [00:05<08:04,  1.23it/s]"
     ]
    },
    {
     "name": "stderr",
     "output_type": "stream",
     "text": [
      "\r",
      "  1%|█▏                                                                                                                                        | 5/600 [00:05<05:47,  1.71it/s]"
     ]
    },
    {
     "name": "stderr",
     "output_type": "stream",
     "text": [
      "\r",
      "  1%|█▍                                                                                                                                        | 6/600 [00:05<04:23,  2.25it/s]"
     ]
    },
    {
     "name": "stderr",
     "output_type": "stream",
     "text": [
      "\r",
      "  1%|█▌                                                                                                                                        | 7/600 [00:05<03:32,  2.79it/s]"
     ]
    },
    {
     "name": "stderr",
     "output_type": "stream",
     "text": [
      "\r",
      "  1%|█▊                                                                                                                                        | 8/600 [00:06<02:57,  3.33it/s]"
     ]
    },
    {
     "name": "stderr",
     "output_type": "stream",
     "text": [
      "\r",
      "  2%|██                                                                                                                                        | 9/600 [00:06<02:36,  3.78it/s]"
     ]
    },
    {
     "name": "stderr",
     "output_type": "stream",
     "text": [
      "\r",
      "  2%|██▎                                                                                                                                      | 10/600 [00:06<02:20,  4.21it/s]"
     ]
    },
    {
     "name": "stderr",
     "output_type": "stream",
     "text": [
      "\r",
      "  2%|██▌                                                                                                                                      | 11/600 [00:06<02:07,  4.60it/s]"
     ]
    },
    {
     "name": "stderr",
     "output_type": "stream",
     "text": [
      "\r",
      "  2%|██▋                                                                                                                                      | 12/600 [00:06<02:01,  4.84it/s]"
     ]
    },
    {
     "name": "stderr",
     "output_type": "stream",
     "text": [
      "\r",
      "  2%|██▉                                                                                                                                      | 13/600 [00:06<01:58,  4.96it/s]"
     ]
    },
    {
     "name": "stderr",
     "output_type": "stream",
     "text": [
      "\r",
      "  2%|███▏                                                                                                                                     | 14/600 [00:07<01:54,  5.13it/s]"
     ]
    },
    {
     "name": "stderr",
     "output_type": "stream",
     "text": [
      "\r",
      "  2%|███▍                                                                                                                                     | 15/600 [00:07<01:53,  5.18it/s]"
     ]
    },
    {
     "name": "stderr",
     "output_type": "stream",
     "text": [
      "\r",
      "  3%|███▋                                                                                                                                     | 16/600 [00:07<02:04,  4.70it/s]"
     ]
    },
    {
     "name": "stderr",
     "output_type": "stream",
     "text": [
      "\r",
      "  3%|███▉                                                                                                                                     | 17/600 [00:07<02:10,  4.48it/s]"
     ]
    },
    {
     "name": "stderr",
     "output_type": "stream",
     "text": [
      "\r",
      "  3%|████                                                                                                                                     | 18/600 [00:08<02:14,  4.32it/s]"
     ]
    },
    {
     "name": "stderr",
     "output_type": "stream",
     "text": [
      "\r",
      "  3%|████▎                                                                                                                                    | 19/600 [00:08<02:10,  4.44it/s]"
     ]
    },
    {
     "name": "stderr",
     "output_type": "stream",
     "text": [
      "\r",
      "  3%|████▌                                                                                                                                    | 20/600 [00:08<02:05,  4.63it/s]"
     ]
    },
    {
     "name": "stderr",
     "output_type": "stream",
     "text": [
      "\r",
      "  4%|████▊                                                                                                                                    | 21/600 [00:08<02:01,  4.75it/s]"
     ]
    },
    {
     "name": "stderr",
     "output_type": "stream",
     "text": [
      "\r",
      "  4%|█████                                                                                                                                    | 22/600 [00:08<01:56,  4.96it/s]"
     ]
    },
    {
     "name": "stderr",
     "output_type": "stream",
     "text": [
      "\r",
      "  4%|█████▎                                                                                                                                   | 23/600 [00:09<01:56,  4.94it/s]"
     ]
    },
    {
     "name": "stderr",
     "output_type": "stream",
     "text": [
      "\r",
      "  4%|█████▍                                                                                                                                   | 24/600 [00:09<01:52,  5.14it/s]"
     ]
    },
    {
     "name": "stderr",
     "output_type": "stream",
     "text": [
      "\r",
      "  4%|█████▋                                                                                                                                   | 25/600 [00:09<01:50,  5.22it/s]"
     ]
    },
    {
     "name": "stderr",
     "output_type": "stream",
     "text": [
      "\r",
      "  4%|█████▉                                                                                                                                   | 26/600 [00:09<01:49,  5.25it/s]"
     ]
    },
    {
     "name": "stderr",
     "output_type": "stream",
     "text": [
      "\r",
      "  4%|██████▏                                                                                                                                  | 27/600 [00:09<01:48,  5.31it/s]"
     ]
    },
    {
     "name": "stderr",
     "output_type": "stream",
     "text": [
      "\r",
      "  5%|██████▍                                                                                                                                  | 28/600 [00:10<01:48,  5.26it/s]"
     ]
    },
    {
     "name": "stderr",
     "output_type": "stream",
     "text": [
      "\r",
      "  5%|██████▌                                                                                                                                  | 29/600 [00:10<01:49,  5.20it/s]"
     ]
    },
    {
     "name": "stderr",
     "output_type": "stream",
     "text": [
      "\r",
      "  5%|██████▊                                                                                                                                  | 30/600 [00:10<01:50,  5.18it/s]"
     ]
    },
    {
     "name": "stderr",
     "output_type": "stream",
     "text": [
      "\r",
      "  5%|███████                                                                                                                                  | 31/600 [00:10<01:49,  5.21it/s]"
     ]
    },
    {
     "name": "stderr",
     "output_type": "stream",
     "text": [
      "\r",
      "  5%|███████▎                                                                                                                                 | 32/600 [00:10<01:46,  5.34it/s]"
     ]
    },
    {
     "name": "stderr",
     "output_type": "stream",
     "text": [
      "\r",
      "  6%|███████▌                                                                                                                                 | 33/600 [00:10<01:50,  5.14it/s]"
     ]
    },
    {
     "name": "stderr",
     "output_type": "stream",
     "text": [
      "\r",
      "  6%|███████▊                                                                                                                                 | 34/600 [00:11<01:58,  4.79it/s]"
     ]
    },
    {
     "name": "stderr",
     "output_type": "stream",
     "text": [
      "\r",
      "  6%|███████▉                                                                                                                                 | 35/600 [00:11<01:56,  4.85it/s]"
     ]
    },
    {
     "name": "stderr",
     "output_type": "stream",
     "text": [
      "\r",
      "  6%|████████▏                                                                                                                                | 36/600 [00:11<01:53,  4.98it/s]"
     ]
    },
    {
     "name": "stderr",
     "output_type": "stream",
     "text": [
      "\r",
      "  6%|████████▍                                                                                                                                | 37/600 [00:11<01:55,  4.88it/s]"
     ]
    },
    {
     "name": "stderr",
     "output_type": "stream",
     "text": [
      "\r",
      "  6%|████████▋                                                                                                                                | 38/600 [00:12<02:05,  4.50it/s]"
     ]
    },
    {
     "name": "stderr",
     "output_type": "stream",
     "text": [
      "\r",
      "  6%|████████▉                                                                                                                                | 39/600 [00:12<02:04,  4.50it/s]"
     ]
    },
    {
     "name": "stderr",
     "output_type": "stream",
     "text": [
      "\r",
      "  7%|█████████▏                                                                                                                               | 40/600 [00:12<02:04,  4.50it/s]"
     ]
    },
    {
     "name": "stderr",
     "output_type": "stream",
     "text": [
      "\r",
      "  7%|█████████▎                                                                                                                               | 41/600 [00:12<02:03,  4.51it/s]"
     ]
    },
    {
     "name": "stderr",
     "output_type": "stream",
     "text": [
      "\r",
      "  7%|█████████▌                                                                                                                               | 42/600 [00:13<02:11,  4.24it/s]"
     ]
    },
    {
     "name": "stderr",
     "output_type": "stream",
     "text": [
      "\r",
      "  7%|█████████▊                                                                                                                               | 43/600 [00:13<02:20,  3.96it/s]"
     ]
    },
    {
     "name": "stderr",
     "output_type": "stream",
     "text": [
      "\r",
      "  7%|██████████                                                                                                                               | 44/600 [00:13<02:28,  3.76it/s]"
     ]
    },
    {
     "name": "stderr",
     "output_type": "stream",
     "text": [
      "\r",
      "  8%|██████████▎                                                                                                                              | 45/600 [00:13<02:13,  4.16it/s]"
     ]
    },
    {
     "name": "stderr",
     "output_type": "stream",
     "text": [
      "\r",
      "  8%|██████████▌                                                                                                                              | 46/600 [00:13<02:04,  4.44it/s]"
     ]
    },
    {
     "name": "stderr",
     "output_type": "stream",
     "text": [
      "\r",
      "  8%|██████████▋                                                                                                                              | 47/600 [00:14<01:59,  4.63it/s]"
     ]
    },
    {
     "name": "stderr",
     "output_type": "stream",
     "text": [
      "\r",
      "  8%|██████████▉                                                                                                                              | 48/600 [00:14<01:53,  4.84it/s]"
     ]
    },
    {
     "name": "stderr",
     "output_type": "stream",
     "text": [
      "\r",
      "  8%|███████████▏                                                                                                                             | 49/600 [00:14<01:49,  5.02it/s]"
     ]
    },
    {
     "name": "stderr",
     "output_type": "stream",
     "text": [
      "\r",
      "  8%|███████████▍                                                                                                                             | 50/600 [00:14<01:48,  5.08it/s]"
     ]
    },
    {
     "name": "stderr",
     "output_type": "stream",
     "text": [
      "\r",
      "  8%|███████████▋                                                                                                                             | 51/600 [00:15<01:59,  4.58it/s]"
     ]
    },
    {
     "name": "stderr",
     "output_type": "stream",
     "text": [
      "\r",
      "  9%|███████████▊                                                                                                                             | 52/600 [00:15<02:04,  4.40it/s]"
     ]
    },
    {
     "name": "stderr",
     "output_type": "stream",
     "text": [
      "\r",
      "  9%|████████████                                                                                                                             | 53/600 [00:15<02:19,  3.93it/s]"
     ]
    },
    {
     "name": "stderr",
     "output_type": "stream",
     "text": [
      "\r",
      "  9%|████████████▎                                                                                                                            | 54/600 [00:15<02:19,  3.92it/s]"
     ]
    },
    {
     "name": "stderr",
     "output_type": "stream",
     "text": [
      "\r",
      "  9%|████████████▌                                                                                                                            | 55/600 [00:16<02:14,  4.05it/s]"
     ]
    },
    {
     "name": "stderr",
     "output_type": "stream",
     "text": [
      "\r",
      "  9%|████████████▊                                                                                                                            | 56/600 [00:16<02:13,  4.08it/s]"
     ]
    },
    {
     "name": "stderr",
     "output_type": "stream",
     "text": [
      "\r",
      " 10%|█████████████                                                                                                                            | 57/600 [00:16<02:06,  4.29it/s]"
     ]
    },
    {
     "name": "stderr",
     "output_type": "stream",
     "text": [
      "\r",
      " 10%|█████████████▏                                                                                                                           | 58/600 [00:16<02:17,  3.94it/s]"
     ]
    },
    {
     "name": "stderr",
     "output_type": "stream",
     "text": [
      "\r",
      " 10%|█████████████▍                                                                                                                           | 59/600 [00:17<02:13,  4.04it/s]"
     ]
    },
    {
     "name": "stderr",
     "output_type": "stream",
     "text": [
      "\r",
      " 10%|█████████████▋                                                                                                                           | 60/600 [00:17<02:03,  4.39it/s]"
     ]
    },
    {
     "name": "stderr",
     "output_type": "stream",
     "text": [
      "\r",
      " 10%|█████████████▉                                                                                                                           | 61/600 [00:17<01:54,  4.69it/s]"
     ]
    },
    {
     "name": "stderr",
     "output_type": "stream",
     "text": [
      "\r",
      " 10%|██████████████▏                                                                                                                          | 62/600 [00:17<01:49,  4.93it/s]"
     ]
    },
    {
     "name": "stderr",
     "output_type": "stream",
     "text": [
      "\r",
      " 10%|██████████████▍                                                                                                                          | 63/600 [00:17<01:49,  4.93it/s]"
     ]
    },
    {
     "name": "stderr",
     "output_type": "stream",
     "text": [
      "\r",
      " 11%|██████████████▌                                                                                                                          | 64/600 [00:17<01:45,  5.08it/s]"
     ]
    },
    {
     "name": "stderr",
     "output_type": "stream",
     "text": [
      "\r",
      " 11%|██████████████▊                                                                                                                          | 65/600 [00:18<01:44,  5.11it/s]"
     ]
    },
    {
     "name": "stderr",
     "output_type": "stream",
     "text": [
      "\r",
      " 11%|███████████████                                                                                                                          | 66/600 [00:18<01:42,  5.20it/s]"
     ]
    },
    {
     "name": "stderr",
     "output_type": "stream",
     "text": [
      "\r",
      " 11%|███████████████▎                                                                                                                         | 67/600 [00:18<01:42,  5.20it/s]"
     ]
    },
    {
     "name": "stderr",
     "output_type": "stream",
     "text": [
      "\r",
      " 11%|███████████████▌                                                                                                                         | 68/600 [00:18<01:41,  5.25it/s]"
     ]
    },
    {
     "name": "stderr",
     "output_type": "stream",
     "text": [
      "\r",
      " 12%|███████████████▊                                                                                                                         | 69/600 [00:18<01:40,  5.27it/s]"
     ]
    },
    {
     "name": "stderr",
     "output_type": "stream",
     "text": [
      "\r",
      " 12%|███████████████▉                                                                                                                         | 70/600 [00:19<01:39,  5.31it/s]"
     ]
    },
    {
     "name": "stderr",
     "output_type": "stream",
     "text": [
      "\r",
      " 12%|████████████████▏                                                                                                                        | 71/600 [00:19<01:39,  5.31it/s]"
     ]
    },
    {
     "name": "stderr",
     "output_type": "stream",
     "text": [
      "\r",
      " 12%|████████████████▍                                                                                                                        | 72/600 [00:19<01:39,  5.33it/s]"
     ]
    },
    {
     "name": "stderr",
     "output_type": "stream",
     "text": [
      "\r",
      " 12%|████████████████▋                                                                                                                        | 73/600 [00:19<01:38,  5.33it/s]"
     ]
    },
    {
     "name": "stderr",
     "output_type": "stream",
     "text": [
      "\r",
      " 12%|████████████████▉                                                                                                                        | 74/600 [00:19<01:36,  5.46it/s]"
     ]
    },
    {
     "name": "stderr",
     "output_type": "stream",
     "text": [
      "\r",
      " 12%|█████████████████▏                                                                                                                       | 75/600 [00:20<01:37,  5.39it/s]"
     ]
    },
    {
     "name": "stderr",
     "output_type": "stream",
     "text": [
      "\r",
      " 13%|█████████████████▎                                                                                                                       | 76/600 [00:20<01:37,  5.39it/s]"
     ]
    },
    {
     "name": "stderr",
     "output_type": "stream",
     "text": [
      "\r",
      " 13%|█████████████████▌                                                                                                                       | 77/600 [00:20<01:36,  5.45it/s]"
     ]
    },
    {
     "name": "stderr",
     "output_type": "stream",
     "text": [
      "\r",
      " 13%|█████████████████▊                                                                                                                       | 78/600 [00:20<01:35,  5.47it/s]"
     ]
    },
    {
     "name": "stderr",
     "output_type": "stream",
     "text": [
      "\r",
      " 13%|██████████████████                                                                                                                       | 79/600 [00:20<01:33,  5.57it/s]"
     ]
    },
    {
     "name": "stderr",
     "output_type": "stream",
     "text": [
      "\r",
      " 13%|██████████████████▎                                                                                                                      | 80/600 [00:20<01:34,  5.53it/s]"
     ]
    },
    {
     "name": "stderr",
     "output_type": "stream",
     "text": [
      "\r",
      " 14%|██████████████████▍                                                                                                                      | 81/600 [00:21<01:34,  5.49it/s]"
     ]
    },
    {
     "name": "stderr",
     "output_type": "stream",
     "text": [
      "\r",
      " 14%|██████████████████▋                                                                                                                      | 82/600 [00:21<01:34,  5.50it/s]"
     ]
    },
    {
     "name": "stderr",
     "output_type": "stream",
     "text": [
      "\r",
      " 14%|██████████████████▉                                                                                                                      | 83/600 [00:21<01:35,  5.40it/s]"
     ]
    },
    {
     "name": "stderr",
     "output_type": "stream",
     "text": [
      "\r",
      " 14%|███████████████████▏                                                                                                                     | 84/600 [00:21<01:41,  5.10it/s]"
     ]
    },
    {
     "name": "stderr",
     "output_type": "stream",
     "text": [
      "\r",
      " 14%|███████████████████▍                                                                                                                     | 85/600 [00:21<01:41,  5.08it/s]"
     ]
    },
    {
     "name": "stderr",
     "output_type": "stream",
     "text": [
      "\r",
      " 14%|███████████████████▋                                                                                                                     | 86/600 [00:22<01:44,  4.91it/s]"
     ]
    },
    {
     "name": "stderr",
     "output_type": "stream",
     "text": [
      "\r",
      " 14%|███████████████████▊                                                                                                                     | 87/600 [00:22<01:44,  4.92it/s]"
     ]
    },
    {
     "name": "stderr",
     "output_type": "stream",
     "text": [
      "\r",
      " 15%|████████████████████                                                                                                                     | 88/600 [00:22<01:41,  5.02it/s]"
     ]
    },
    {
     "name": "stderr",
     "output_type": "stream",
     "text": [
      "\r",
      " 15%|████████████████████▎                                                                                                                    | 89/600 [00:22<01:42,  4.99it/s]"
     ]
    },
    {
     "name": "stderr",
     "output_type": "stream",
     "text": [
      "\r",
      " 15%|████████████████████▌                                                                                                                    | 90/600 [00:22<01:42,  5.00it/s]"
     ]
    },
    {
     "name": "stderr",
     "output_type": "stream",
     "text": [
      "\r",
      " 15%|████████████████████▊                                                                                                                    | 91/600 [00:23<01:39,  5.09it/s]"
     ]
    },
    {
     "name": "stderr",
     "output_type": "stream",
     "text": [
      "\r",
      " 15%|█████████████████████                                                                                                                    | 92/600 [00:23<01:41,  5.02it/s]"
     ]
    },
    {
     "name": "stderr",
     "output_type": "stream",
     "text": [
      "\r",
      " 16%|█████████████████████▏                                                                                                                   | 93/600 [00:23<01:40,  5.03it/s]"
     ]
    },
    {
     "name": "stderr",
     "output_type": "stream",
     "text": [
      "\r",
      " 16%|█████████████████████▍                                                                                                                   | 94/600 [00:23<01:37,  5.19it/s]"
     ]
    },
    {
     "name": "stderr",
     "output_type": "stream",
     "text": [
      "\r",
      " 16%|█████████████████████▋                                                                                                                   | 95/600 [00:23<01:35,  5.31it/s]"
     ]
    },
    {
     "name": "stderr",
     "output_type": "stream",
     "text": [
      "\r",
      " 16%|█████████████████████▉                                                                                                                   | 96/600 [00:24<01:35,  5.27it/s]"
     ]
    },
    {
     "name": "stderr",
     "output_type": "stream",
     "text": [
      "\r",
      " 16%|██████████████████████▏                                                                                                                  | 97/600 [00:24<01:35,  5.26it/s]"
     ]
    },
    {
     "name": "stderr",
     "output_type": "stream",
     "text": [
      "\r",
      " 16%|██████████████████████▍                                                                                                                  | 98/600 [00:24<01:35,  5.26it/s]"
     ]
    },
    {
     "name": "stderr",
     "output_type": "stream",
     "text": [
      "\r",
      " 16%|██████████████████████▌                                                                                                                  | 99/600 [00:24<01:35,  5.24it/s]"
     ]
    },
    {
     "name": "stderr",
     "output_type": "stream",
     "text": [
      "\r",
      " 17%|██████████████████████▋                                                                                                                 | 100/600 [00:24<01:33,  5.33it/s]"
     ]
    },
    {
     "name": "stderr",
     "output_type": "stream",
     "text": [
      "\r",
      " 17%|██████████████████████▉                                                                                                                 | 101/600 [00:25<01:33,  5.32it/s]"
     ]
    },
    {
     "name": "stderr",
     "output_type": "stream",
     "text": [
      "\r",
      " 17%|███████████████████████                                                                                                                 | 102/600 [00:25<01:34,  5.26it/s]"
     ]
    },
    {
     "name": "stderr",
     "output_type": "stream",
     "text": [
      "\r",
      " 17%|███████████████████████▎                                                                                                                | 103/600 [00:25<01:34,  5.25it/s]"
     ]
    },
    {
     "name": "stderr",
     "output_type": "stream",
     "text": [
      "\r",
      " 17%|███████████████████████▌                                                                                                                | 104/600 [00:25<01:31,  5.44it/s]"
     ]
    },
    {
     "name": "stderr",
     "output_type": "stream",
     "text": [
      "\r",
      " 18%|███████████████████████▊                                                                                                                | 105/600 [00:25<01:29,  5.51it/s]"
     ]
    },
    {
     "name": "stderr",
     "output_type": "stream",
     "text": [
      "\r",
      " 18%|████████████████████████                                                                                                                | 106/600 [00:25<01:29,  5.53it/s]"
     ]
    },
    {
     "name": "stderr",
     "output_type": "stream",
     "text": [
      "\r",
      " 18%|████████████████████████▎                                                                                                               | 107/600 [00:26<01:27,  5.65it/s]"
     ]
    },
    {
     "name": "stderr",
     "output_type": "stream",
     "text": [
      "\r",
      " 18%|████████████████████████▍                                                                                                               | 108/600 [00:26<01:25,  5.75it/s]"
     ]
    },
    {
     "name": "stderr",
     "output_type": "stream",
     "text": [
      "\r",
      " 18%|████████████████████████▋                                                                                                               | 109/600 [00:26<01:24,  5.81it/s]"
     ]
    },
    {
     "name": "stderr",
     "output_type": "stream",
     "text": [
      "\r",
      " 18%|████████████████████████▉                                                                                                               | 110/600 [00:26<01:25,  5.76it/s]"
     ]
    },
    {
     "name": "stderr",
     "output_type": "stream",
     "text": [
      "\r",
      " 18%|█████████████████████████▏                                                                                                              | 111/600 [00:26<01:25,  5.73it/s]"
     ]
    },
    {
     "name": "stderr",
     "output_type": "stream",
     "text": [
      "\r",
      " 19%|█████████████████████████▍                                                                                                              | 112/600 [00:26<01:25,  5.72it/s]"
     ]
    },
    {
     "name": "stderr",
     "output_type": "stream",
     "text": [
      "\r",
      " 19%|█████████████████████████▌                                                                                                              | 113/600 [00:27<01:23,  5.80it/s]"
     ]
    },
    {
     "name": "stderr",
     "output_type": "stream",
     "text": [
      "\r",
      " 19%|█████████████████████████▊                                                                                                              | 114/600 [00:27<01:25,  5.68it/s]"
     ]
    },
    {
     "name": "stderr",
     "output_type": "stream",
     "text": [
      "\r",
      " 19%|██████████████████████████                                                                                                              | 115/600 [00:27<01:25,  5.66it/s]"
     ]
    },
    {
     "name": "stderr",
     "output_type": "stream",
     "text": [
      "\r",
      " 19%|██████████████████████████▎                                                                                                             | 116/600 [00:27<01:25,  5.69it/s]"
     ]
    },
    {
     "name": "stderr",
     "output_type": "stream",
     "text": [
      "\r",
      " 20%|██████████████████████████▌                                                                                                             | 117/600 [00:27<01:24,  5.75it/s]"
     ]
    },
    {
     "name": "stderr",
     "output_type": "stream",
     "text": [
      "\r",
      " 20%|██████████████████████████▋                                                                                                             | 118/600 [00:27<01:23,  5.80it/s]"
     ]
    },
    {
     "name": "stderr",
     "output_type": "stream",
     "text": [
      "\r",
      " 20%|██████████████████████████▉                                                                                                             | 119/600 [00:28<01:24,  5.71it/s]"
     ]
    },
    {
     "name": "stderr",
     "output_type": "stream",
     "text": [
      "\r",
      " 20%|███████████████████████████▏                                                                                                            | 120/600 [00:28<01:25,  5.59it/s]"
     ]
    },
    {
     "name": "stderr",
     "output_type": "stream",
     "text": [
      "\r",
      " 20%|███████████████████████████▍                                                                                                            | 121/600 [00:28<01:26,  5.51it/s]"
     ]
    },
    {
     "name": "stderr",
     "output_type": "stream",
     "text": [
      "\r",
      " 20%|███████████████████████████▋                                                                                                            | 122/600 [00:28<01:26,  5.54it/s]"
     ]
    },
    {
     "name": "stderr",
     "output_type": "stream",
     "text": [
      "\r",
      " 20%|███████████████████████████▉                                                                                                            | 123/600 [00:28<01:26,  5.51it/s]"
     ]
    },
    {
     "name": "stderr",
     "output_type": "stream",
     "text": [
      "\r",
      " 21%|████████████████████████████                                                                                                            | 124/600 [00:29<01:26,  5.52it/s]"
     ]
    },
    {
     "name": "stderr",
     "output_type": "stream",
     "text": [
      "\r",
      " 21%|████████████████████████████▎                                                                                                           | 125/600 [00:29<01:25,  5.56it/s]"
     ]
    },
    {
     "name": "stderr",
     "output_type": "stream",
     "text": [
      "\r",
      " 21%|████████████████████████████▌                                                                                                           | 126/600 [00:29<01:24,  5.60it/s]"
     ]
    },
    {
     "name": "stderr",
     "output_type": "stream",
     "text": [
      "\r",
      " 21%|████████████████████████████▊                                                                                                           | 127/600 [00:29<01:23,  5.65it/s]"
     ]
    },
    {
     "name": "stderr",
     "output_type": "stream",
     "text": [
      "\r",
      " 21%|█████████████████████████████                                                                                                           | 128/600 [00:29<01:24,  5.59it/s]"
     ]
    },
    {
     "name": "stderr",
     "output_type": "stream",
     "text": [
      "\r",
      " 22%|█████████████████████████████▏                                                                                                          | 129/600 [00:29<01:24,  5.56it/s]"
     ]
    },
    {
     "name": "stderr",
     "output_type": "stream",
     "text": [
      "\r",
      " 22%|█████████████████████████████▍                                                                                                          | 130/600 [00:30<01:26,  5.40it/s]"
     ]
    },
    {
     "name": "stderr",
     "output_type": "stream",
     "text": [
      "\r",
      " 22%|█████████████████████████████▋                                                                                                          | 131/600 [00:30<01:29,  5.26it/s]"
     ]
    },
    {
     "name": "stderr",
     "output_type": "stream",
     "text": [
      "\r",
      " 22%|█████████████████████████████▉                                                                                                          | 132/600 [00:30<01:27,  5.35it/s]"
     ]
    },
    {
     "name": "stderr",
     "output_type": "stream",
     "text": [
      "\r",
      " 22%|██████████████████████████████▏                                                                                                         | 133/600 [00:30<01:25,  5.43it/s]"
     ]
    },
    {
     "name": "stderr",
     "output_type": "stream",
     "text": [
      "\r",
      " 22%|██████████████████████████████▎                                                                                                         | 134/600 [00:30<01:25,  5.47it/s]"
     ]
    },
    {
     "name": "stderr",
     "output_type": "stream",
     "text": [
      "\r",
      " 22%|██████████████████████████████▌                                                                                                         | 135/600 [00:31<01:24,  5.49it/s]"
     ]
    },
    {
     "name": "stderr",
     "output_type": "stream",
     "text": [
      "\r",
      " 23%|██████████████████████████████▊                                                                                                         | 136/600 [00:31<01:24,  5.51it/s]"
     ]
    },
    {
     "name": "stderr",
     "output_type": "stream",
     "text": [
      "\r",
      " 23%|███████████████████████████████                                                                                                         | 137/600 [00:31<01:23,  5.53it/s]"
     ]
    },
    {
     "name": "stderr",
     "output_type": "stream",
     "text": [
      "\r",
      " 23%|███████████████████████████████▎                                                                                                        | 138/600 [00:31<01:23,  5.52it/s]"
     ]
    },
    {
     "name": "stderr",
     "output_type": "stream",
     "text": [
      "\r",
      " 23%|███████████████████████████████▌                                                                                                        | 139/600 [00:31<01:23,  5.50it/s]"
     ]
    },
    {
     "name": "stderr",
     "output_type": "stream",
     "text": [
      "\r",
      " 23%|███████████████████████████████▋                                                                                                        | 140/600 [00:32<01:23,  5.49it/s]"
     ]
    },
    {
     "name": "stderr",
     "output_type": "stream",
     "text": [
      "\r",
      " 24%|███████████████████████████████▉                                                                                                        | 141/600 [00:32<01:24,  5.46it/s]"
     ]
    },
    {
     "name": "stderr",
     "output_type": "stream",
     "text": [
      "\r",
      " 24%|████████████████████████████████▏                                                                                                       | 142/600 [00:32<01:26,  5.30it/s]"
     ]
    },
    {
     "name": "stderr",
     "output_type": "stream",
     "text": [
      "\r",
      " 24%|████████████████████████████████▍                                                                                                       | 143/600 [00:32<01:25,  5.35it/s]"
     ]
    },
    {
     "name": "stderr",
     "output_type": "stream",
     "text": [
      "\r",
      " 24%|████████████████████████████████▋                                                                                                       | 144/600 [00:32<01:24,  5.42it/s]"
     ]
    },
    {
     "name": "stderr",
     "output_type": "stream",
     "text": [
      "\r",
      " 24%|████████████████████████████████▊                                                                                                       | 145/600 [00:32<01:24,  5.40it/s]"
     ]
    },
    {
     "name": "stderr",
     "output_type": "stream",
     "text": [
      "\r",
      " 24%|█████████████████████████████████                                                                                                       | 146/600 [00:33<01:24,  5.39it/s]"
     ]
    },
    {
     "name": "stderr",
     "output_type": "stream",
     "text": [
      "\r",
      " 24%|█████████████████████████████████▎                                                                                                      | 147/600 [00:33<01:23,  5.42it/s]"
     ]
    },
    {
     "name": "stderr",
     "output_type": "stream",
     "text": [
      "\r",
      " 25%|█████████████████████████████████▌                                                                                                      | 148/600 [00:33<01:23,  5.43it/s]"
     ]
    },
    {
     "name": "stderr",
     "output_type": "stream",
     "text": [
      "\r",
      " 25%|█████████████████████████████████▊                                                                                                      | 149/600 [00:33<01:22,  5.45it/s]"
     ]
    },
    {
     "name": "stderr",
     "output_type": "stream",
     "text": [
      "\r",
      " 25%|██████████████████████████████████                                                                                                      | 150/600 [00:33<01:21,  5.50it/s]"
     ]
    },
    {
     "name": "stderr",
     "output_type": "stream",
     "text": [
      "\r",
      " 25%|██████████████████████████████████▏                                                                                                     | 151/600 [00:34<01:21,  5.53it/s]"
     ]
    },
    {
     "name": "stderr",
     "output_type": "stream",
     "text": [
      "\r",
      " 25%|██████████████████████████████████▍                                                                                                     | 152/600 [00:34<01:21,  5.51it/s]"
     ]
    },
    {
     "name": "stderr",
     "output_type": "stream",
     "text": [
      "\r",
      " 26%|██████████████████████████████████▋                                                                                                     | 153/600 [00:34<01:21,  5.50it/s]"
     ]
    },
    {
     "name": "stderr",
     "output_type": "stream",
     "text": [
      "\r",
      " 26%|██████████████████████████████████▉                                                                                                     | 154/600 [00:34<01:20,  5.51it/s]"
     ]
    },
    {
     "name": "stderr",
     "output_type": "stream",
     "text": [
      "\r",
      " 26%|███████████████████████████████████▏                                                                                                    | 155/600 [00:34<01:21,  5.47it/s]"
     ]
    },
    {
     "name": "stderr",
     "output_type": "stream",
     "text": [
      "\r",
      " 26%|███████████████████████████████████▎                                                                                                    | 156/600 [00:34<01:21,  5.47it/s]"
     ]
    },
    {
     "name": "stderr",
     "output_type": "stream",
     "text": [
      "\r",
      " 26%|███████████████████████████████████▌                                                                                                    | 157/600 [00:35<01:20,  5.48it/s]"
     ]
    },
    {
     "name": "stderr",
     "output_type": "stream",
     "text": [
      "\r",
      " 26%|███████████████████████████████████▊                                                                                                    | 158/600 [00:35<01:20,  5.48it/s]"
     ]
    },
    {
     "name": "stderr",
     "output_type": "stream",
     "text": [
      "\r",
      " 26%|████████████████████████████████████                                                                                                    | 159/600 [00:35<01:21,  5.40it/s]"
     ]
    },
    {
     "name": "stderr",
     "output_type": "stream",
     "text": [
      "\r",
      " 27%|████████████████████████████████████▎                                                                                                   | 160/600 [00:35<01:20,  5.45it/s]"
     ]
    },
    {
     "name": "stderr",
     "output_type": "stream",
     "text": [
      "\r",
      " 27%|████████████████████████████████████▍                                                                                                   | 161/600 [00:35<01:19,  5.49it/s]"
     ]
    },
    {
     "name": "stderr",
     "output_type": "stream",
     "text": [
      "\r",
      " 27%|████████████████████████████████████▋                                                                                                   | 162/600 [00:36<01:19,  5.53it/s]"
     ]
    },
    {
     "name": "stderr",
     "output_type": "stream",
     "text": [
      "\r",
      " 27%|████████████████████████████████████▉                                                                                                   | 163/600 [00:36<01:19,  5.53it/s]"
     ]
    },
    {
     "name": "stderr",
     "output_type": "stream",
     "text": [
      "\r",
      " 27%|█████████████████████████████████████▏                                                                                                  | 164/600 [00:36<01:19,  5.52it/s]"
     ]
    },
    {
     "name": "stderr",
     "output_type": "stream",
     "text": [
      "\r",
      " 28%|█████████████████████████████████████▍                                                                                                  | 165/600 [00:36<01:18,  5.53it/s]"
     ]
    },
    {
     "name": "stderr",
     "output_type": "stream",
     "text": [
      "\r",
      " 28%|█████████████████████████████████████▋                                                                                                  | 166/600 [00:36<01:20,  5.41it/s]"
     ]
    },
    {
     "name": "stderr",
     "output_type": "stream",
     "text": [
      "\r",
      " 28%|█████████████████████████████████████▊                                                                                                  | 167/600 [00:36<01:20,  5.38it/s]"
     ]
    },
    {
     "name": "stderr",
     "output_type": "stream",
     "text": [
      "\r",
      " 28%|██████████████████████████████████████                                                                                                  | 168/600 [00:37<01:21,  5.31it/s]"
     ]
    },
    {
     "name": "stderr",
     "output_type": "stream",
     "text": [
      "\r",
      " 28%|██████████████████████████████████████▎                                                                                                 | 169/600 [00:37<01:20,  5.37it/s]"
     ]
    },
    {
     "name": "stderr",
     "output_type": "stream",
     "text": [
      "\r",
      " 28%|██████████████████████████████████████▌                                                                                                 | 170/600 [00:37<01:20,  5.37it/s]"
     ]
    },
    {
     "name": "stderr",
     "output_type": "stream",
     "text": [
      "\r",
      " 28%|██████████████████████████████████████▊                                                                                                 | 171/600 [00:37<01:19,  5.38it/s]"
     ]
    },
    {
     "name": "stderr",
     "output_type": "stream",
     "text": [
      "\r",
      " 29%|██████████████████████████████████████▉                                                                                                 | 172/600 [00:37<01:19,  5.40it/s]"
     ]
    },
    {
     "name": "stderr",
     "output_type": "stream",
     "text": [
      "\r",
      " 29%|███████████████████████████████████████▏                                                                                                | 173/600 [00:38<01:17,  5.52it/s]"
     ]
    },
    {
     "name": "stderr",
     "output_type": "stream",
     "text": [
      "\r",
      " 29%|███████████████████████████████████████▍                                                                                                | 174/600 [00:38<01:16,  5.58it/s]"
     ]
    },
    {
     "name": "stderr",
     "output_type": "stream",
     "text": [
      "\r",
      " 29%|███████████████████████████████████████▋                                                                                                | 175/600 [00:38<01:17,  5.47it/s]"
     ]
    },
    {
     "name": "stderr",
     "output_type": "stream",
     "text": [
      "\r",
      " 29%|███████████████████████████████████████▉                                                                                                | 176/600 [00:38<01:17,  5.50it/s]"
     ]
    },
    {
     "name": "stderr",
     "output_type": "stream",
     "text": [
      "\r",
      " 30%|████████████████████████████████████████                                                                                                | 177/600 [00:38<01:17,  5.48it/s]"
     ]
    },
    {
     "name": "stderr",
     "output_type": "stream",
     "text": [
      "\r",
      " 30%|████████████████████████████████████████▎                                                                                               | 178/600 [00:38<01:17,  5.45it/s]"
     ]
    },
    {
     "name": "stderr",
     "output_type": "stream",
     "text": [
      "\r",
      " 30%|████████████████████████████████████████▌                                                                                               | 179/600 [00:39<01:17,  5.45it/s]"
     ]
    },
    {
     "name": "stderr",
     "output_type": "stream",
     "text": [
      "\r",
      " 30%|████████████████████████████████████████▊                                                                                               | 180/600 [00:39<01:17,  5.45it/s]"
     ]
    },
    {
     "name": "stderr",
     "output_type": "stream",
     "text": [
      "\r",
      " 30%|█████████████████████████████████████████                                                                                               | 181/600 [00:39<01:17,  5.41it/s]"
     ]
    },
    {
     "name": "stderr",
     "output_type": "stream",
     "text": [
      "\r",
      " 30%|█████████████████████████████████████████▎                                                                                              | 182/600 [00:39<01:19,  5.29it/s]"
     ]
    },
    {
     "name": "stderr",
     "output_type": "stream",
     "text": [
      "\r",
      " 30%|█████████████████████████████████████████▍                                                                                              | 183/600 [00:39<01:18,  5.30it/s]"
     ]
    },
    {
     "name": "stderr",
     "output_type": "stream",
     "text": [
      "\r",
      " 31%|█████████████████████████████████████████▋                                                                                              | 184/600 [00:40<01:17,  5.34it/s]"
     ]
    },
    {
     "name": "stderr",
     "output_type": "stream",
     "text": [
      "\r",
      " 31%|█████████████████████████████████████████▉                                                                                              | 185/600 [00:40<01:17,  5.35it/s]"
     ]
    },
    {
     "name": "stderr",
     "output_type": "stream",
     "text": [
      "\r",
      " 31%|██████████████████████████████████████████▏                                                                                             | 186/600 [00:40<01:16,  5.38it/s]"
     ]
    },
    {
     "name": "stderr",
     "output_type": "stream",
     "text": [
      "\r",
      " 31%|██████████████████████████████████████████▍                                                                                             | 187/600 [00:40<01:15,  5.45it/s]"
     ]
    },
    {
     "name": "stderr",
     "output_type": "stream",
     "text": [
      "\r",
      " 31%|██████████████████████████████████████████▌                                                                                             | 188/600 [00:40<01:15,  5.49it/s]"
     ]
    },
    {
     "name": "stderr",
     "output_type": "stream",
     "text": [
      "\r",
      " 32%|██████████████████████████████████████████▊                                                                                             | 189/600 [00:41<01:12,  5.63it/s]"
     ]
    },
    {
     "name": "stderr",
     "output_type": "stream",
     "text": [
      "\r",
      " 32%|███████████████████████████████████████████                                                                                             | 190/600 [00:41<01:11,  5.70it/s]"
     ]
    },
    {
     "name": "stderr",
     "output_type": "stream",
     "text": [
      "\r",
      " 32%|███████████████████████████████████████████▎                                                                                            | 191/600 [00:41<01:11,  5.76it/s]"
     ]
    },
    {
     "name": "stderr",
     "output_type": "stream",
     "text": [
      "\r",
      " 32%|███████████████████████████████████████████▌                                                                                            | 192/600 [00:41<01:15,  5.38it/s]"
     ]
    },
    {
     "name": "stderr",
     "output_type": "stream",
     "text": [
      "\r",
      " 32%|███████████████████████████████████████████▋                                                                                            | 193/600 [00:41<01:14,  5.44it/s]"
     ]
    },
    {
     "name": "stderr",
     "output_type": "stream",
     "text": [
      "\r",
      " 32%|███████████████████████████████████████████▉                                                                                            | 194/600 [00:41<01:14,  5.43it/s]"
     ]
    },
    {
     "name": "stderr",
     "output_type": "stream",
     "text": [
      "\r",
      " 32%|████████████████████████████████████████████▏                                                                                           | 195/600 [00:42<01:18,  5.17it/s]"
     ]
    },
    {
     "name": "stderr",
     "output_type": "stream",
     "text": [
      "\r",
      " 33%|████████████████████████████████████████████▍                                                                                           | 196/600 [00:42<01:16,  5.26it/s]"
     ]
    },
    {
     "name": "stderr",
     "output_type": "stream",
     "text": [
      "\r",
      " 33%|████████████████████████████████████████████▋                                                                                           | 197/600 [00:42<01:17,  5.17it/s]"
     ]
    },
    {
     "name": "stderr",
     "output_type": "stream",
     "text": [
      "\r",
      " 33%|████████████████████████████████████████████▉                                                                                           | 198/600 [00:42<01:16,  5.24it/s]"
     ]
    },
    {
     "name": "stderr",
     "output_type": "stream",
     "text": [
      "\r",
      " 33%|█████████████████████████████████████████████                                                                                           | 199/600 [00:42<01:15,  5.32it/s]"
     ]
    },
    {
     "name": "stderr",
     "output_type": "stream",
     "text": [
      "\r",
      " 33%|█████████████████████████████████████████████▎                                                                                          | 200/600 [00:43<01:14,  5.38it/s]"
     ]
    },
    {
     "name": "stderr",
     "output_type": "stream",
     "text": [
      "\r",
      " 34%|█████████████████████████████████████████████▌                                                                                          | 201/600 [00:43<01:15,  5.28it/s]"
     ]
    },
    {
     "name": "stderr",
     "output_type": "stream",
     "text": [
      "\r",
      " 34%|█████████████████████████████████████████████▊                                                                                          | 202/600 [00:43<01:13,  5.41it/s]"
     ]
    },
    {
     "name": "stderr",
     "output_type": "stream",
     "text": [
      "\r",
      " 34%|██████████████████████████████████████████████                                                                                          | 203/600 [00:43<01:11,  5.54it/s]"
     ]
    },
    {
     "name": "stderr",
     "output_type": "stream",
     "text": [
      "\r",
      " 34%|██████████████████████████████████████████████▏                                                                                         | 204/600 [00:43<01:10,  5.60it/s]"
     ]
    },
    {
     "name": "stderr",
     "output_type": "stream",
     "text": [
      "\r",
      " 34%|██████████████████████████████████████████████▍                                                                                         | 205/600 [00:43<01:11,  5.55it/s]"
     ]
    },
    {
     "name": "stderr",
     "output_type": "stream",
     "text": [
      "\r",
      " 34%|██████████████████████████████████████████████▋                                                                                         | 206/600 [00:44<01:11,  5.50it/s]"
     ]
    },
    {
     "name": "stderr",
     "output_type": "stream",
     "text": [
      "\r",
      " 34%|██████████████████████████████████████████████▉                                                                                         | 207/600 [00:44<01:11,  5.48it/s]"
     ]
    },
    {
     "name": "stderr",
     "output_type": "stream",
     "text": [
      "\r",
      " 35%|███████████████████████████████████████████████▏                                                                                        | 208/600 [00:44<01:12,  5.38it/s]"
     ]
    },
    {
     "name": "stderr",
     "output_type": "stream",
     "text": [
      "\r",
      " 35%|███████████████████████████████████████████████▎                                                                                        | 209/600 [00:44<01:12,  5.38it/s]"
     ]
    },
    {
     "name": "stderr",
     "output_type": "stream",
     "text": [
      "\r",
      " 35%|███████████████████████████████████████████████▌                                                                                        | 210/600 [00:44<01:13,  5.32it/s]"
     ]
    },
    {
     "name": "stderr",
     "output_type": "stream",
     "text": [
      "\r",
      " 35%|███████████████████████████████████████████████▊                                                                                        | 211/600 [00:45<01:11,  5.44it/s]"
     ]
    },
    {
     "name": "stderr",
     "output_type": "stream",
     "text": [
      "\r",
      " 35%|████████████████████████████████████████████████                                                                                        | 212/600 [00:45<01:10,  5.54it/s]"
     ]
    },
    {
     "name": "stderr",
     "output_type": "stream",
     "text": [
      "\r",
      " 36%|████████████████████████████████████████████████▎                                                                                       | 213/600 [00:45<01:08,  5.65it/s]"
     ]
    },
    {
     "name": "stderr",
     "output_type": "stream",
     "text": [
      "\r",
      " 36%|████████████████████████████████████████████████▌                                                                                       | 214/600 [00:45<01:08,  5.66it/s]"
     ]
    },
    {
     "name": "stderr",
     "output_type": "stream",
     "text": [
      "\r",
      " 36%|████████████████████████████████████████████████▋                                                                                       | 215/600 [00:45<01:07,  5.72it/s]"
     ]
    },
    {
     "name": "stderr",
     "output_type": "stream",
     "text": [
      "\r",
      " 36%|████████████████████████████████████████████████▉                                                                                       | 216/600 [00:45<01:06,  5.79it/s]"
     ]
    },
    {
     "name": "stderr",
     "output_type": "stream",
     "text": [
      "\r",
      " 36%|█████████████████████████████████████████████████▏                                                                                      | 217/600 [00:46<01:05,  5.83it/s]"
     ]
    },
    {
     "name": "stderr",
     "output_type": "stream",
     "text": [
      "\r",
      " 36%|█████████████████████████████████████████████████▍                                                                                      | 218/600 [00:46<01:04,  5.91it/s]"
     ]
    },
    {
     "name": "stderr",
     "output_type": "stream",
     "text": [
      "\r",
      " 36%|█████████████████████████████████████████████████▋                                                                                      | 219/600 [00:46<01:03,  5.97it/s]"
     ]
    },
    {
     "name": "stderr",
     "output_type": "stream",
     "text": [
      "\r",
      " 37%|█████████████████████████████████████████████████▊                                                                                      | 220/600 [00:46<01:03,  5.94it/s]"
     ]
    },
    {
     "name": "stderr",
     "output_type": "stream",
     "text": [
      "\r",
      " 37%|██████████████████████████████████████████████████                                                                                      | 221/600 [00:46<01:03,  5.99it/s]"
     ]
    },
    {
     "name": "stderr",
     "output_type": "stream",
     "text": [
      "\r",
      " 37%|██████████████████████████████████████████████████▎                                                                                     | 222/600 [00:46<01:02,  6.02it/s]"
     ]
    },
    {
     "name": "stderr",
     "output_type": "stream",
     "text": [
      "\r",
      " 37%|██████████████████████████████████████████████████▌                                                                                     | 223/600 [00:47<01:02,  6.04it/s]"
     ]
    },
    {
     "name": "stderr",
     "output_type": "stream",
     "text": [
      "\r",
      " 37%|██████████████████████████████████████████████████▊                                                                                     | 224/600 [00:47<01:05,  5.76it/s]"
     ]
    },
    {
     "name": "stderr",
     "output_type": "stream",
     "text": [
      "\r",
      " 38%|███████████████████████████████████████████████████                                                                                     | 225/600 [00:47<01:05,  5.71it/s]"
     ]
    },
    {
     "name": "stderr",
     "output_type": "stream",
     "text": [
      "\r",
      " 38%|███████████████████████████████████████████████████▏                                                                                    | 226/600 [00:47<01:05,  5.68it/s]"
     ]
    },
    {
     "name": "stderr",
     "output_type": "stream",
     "text": [
      "\r",
      " 38%|███████████████████████████████████████████████████▍                                                                                    | 227/600 [00:47<01:05,  5.66it/s]"
     ]
    },
    {
     "name": "stderr",
     "output_type": "stream",
     "text": [
      "\r",
      " 38%|███████████████████████████████████████████████████▋                                                                                    | 228/600 [00:48<01:05,  5.67it/s]"
     ]
    },
    {
     "name": "stderr",
     "output_type": "stream",
     "text": [
      "\r",
      " 38%|███████████████████████████████████████████████████▉                                                                                    | 229/600 [00:48<01:05,  5.63it/s]"
     ]
    },
    {
     "name": "stderr",
     "output_type": "stream",
     "text": [
      "\r",
      " 38%|████████████████████████████████████████████████████▏                                                                                   | 230/600 [00:48<01:05,  5.65it/s]"
     ]
    },
    {
     "name": "stderr",
     "output_type": "stream",
     "text": [
      "\r",
      " 38%|████████████████████████████████████████████████████▎                                                                                   | 231/600 [00:48<01:05,  5.63it/s]"
     ]
    },
    {
     "name": "stderr",
     "output_type": "stream",
     "text": [
      "\r",
      " 39%|████████████████████████████████████████████████████▌                                                                                   | 232/600 [00:48<01:05,  5.59it/s]"
     ]
    },
    {
     "name": "stderr",
     "output_type": "stream",
     "text": [
      "\r",
      " 39%|████████████████████████████████████████████████████▊                                                                                   | 233/600 [00:48<01:06,  5.52it/s]"
     ]
    },
    {
     "name": "stderr",
     "output_type": "stream",
     "text": [
      "\r",
      " 39%|█████████████████████████████████████████████████████                                                                                   | 234/600 [00:49<01:05,  5.55it/s]"
     ]
    },
    {
     "name": "stderr",
     "output_type": "stream",
     "text": [
      "\r",
      " 39%|█████████████████████████████████████████████████████▎                                                                                  | 235/600 [00:49<01:05,  5.57it/s]"
     ]
    },
    {
     "name": "stderr",
     "output_type": "stream",
     "text": [
      "\r",
      " 39%|█████████████████████████████████████████████████████▍                                                                                  | 236/600 [00:49<01:05,  5.54it/s]"
     ]
    },
    {
     "name": "stderr",
     "output_type": "stream",
     "text": [
      "\r",
      " 40%|█████████████████████████████████████████████████████▋                                                                                  | 237/600 [00:49<01:07,  5.41it/s]"
     ]
    },
    {
     "name": "stderr",
     "output_type": "stream",
     "text": [
      "\r",
      " 40%|█████████████████████████████████████████████████████▉                                                                                  | 238/600 [00:49<01:06,  5.47it/s]"
     ]
    },
    {
     "name": "stderr",
     "output_type": "stream",
     "text": [
      "\r",
      " 40%|██████████████████████████████████████████████████████▏                                                                                 | 239/600 [00:49<01:05,  5.51it/s]"
     ]
    },
    {
     "name": "stderr",
     "output_type": "stream",
     "text": [
      "\r",
      " 40%|██████████████████████████████████████████████████████▍                                                                                 | 240/600 [00:50<01:07,  5.32it/s]"
     ]
    },
    {
     "name": "stderr",
     "output_type": "stream",
     "text": [
      "\r",
      " 40%|██████████████████████████████████████████████████████▋                                                                                 | 241/600 [00:50<01:07,  5.34it/s]"
     ]
    },
    {
     "name": "stderr",
     "output_type": "stream",
     "text": [
      "\r",
      " 40%|██████████████████████████████████████████████████████▊                                                                                 | 242/600 [00:50<01:08,  5.25it/s]"
     ]
    },
    {
     "name": "stderr",
     "output_type": "stream",
     "text": [
      "\r",
      " 40%|███████████████████████████████████████████████████████                                                                                 | 243/600 [00:50<01:19,  4.50it/s]"
     ]
    },
    {
     "name": "stderr",
     "output_type": "stream",
     "text": [
      "\r",
      " 41%|███████████████████████████████████████████████████████▎                                                                                | 244/600 [00:51<01:20,  4.41it/s]"
     ]
    },
    {
     "name": "stderr",
     "output_type": "stream",
     "text": [
      "\r",
      " 41%|███████████████████████████████████████████████████████▌                                                                                | 245/600 [00:51<01:17,  4.58it/s]"
     ]
    },
    {
     "name": "stderr",
     "output_type": "stream",
     "text": [
      "\r",
      " 41%|███████████████████████████████████████████████████████▊                                                                                | 246/600 [00:51<01:23,  4.26it/s]"
     ]
    },
    {
     "name": "stderr",
     "output_type": "stream",
     "text": [
      "\r",
      " 41%|███████████████████████████████████████████████████████▉                                                                                | 247/600 [00:51<01:30,  3.89it/s]"
     ]
    },
    {
     "name": "stderr",
     "output_type": "stream",
     "text": [
      "\r",
      " 41%|████████████████████████████████████████████████████████▏                                                                               | 248/600 [00:52<01:28,  3.96it/s]"
     ]
    },
    {
     "name": "stderr",
     "output_type": "stream",
     "text": [
      "\r",
      " 42%|████████████████████████████████████████████████████████▍                                                                               | 249/600 [00:52<01:28,  3.96it/s]"
     ]
    },
    {
     "name": "stderr",
     "output_type": "stream",
     "text": [
      "\r",
      " 42%|████████████████████████████████████████████████████████▋                                                                               | 250/600 [00:52<01:33,  3.75it/s]"
     ]
    },
    {
     "name": "stderr",
     "output_type": "stream",
     "text": [
      "\r",
      " 42%|████████████████████████████████████████████████████████▉                                                                               | 251/600 [00:52<01:25,  4.08it/s]"
     ]
    },
    {
     "name": "stderr",
     "output_type": "stream",
     "text": [
      "\r",
      " 42%|█████████████████████████████████████████████████████████                                                                               | 252/600 [00:53<01:18,  4.41it/s]"
     ]
    },
    {
     "name": "stderr",
     "output_type": "stream",
     "text": [
      "\r",
      " 42%|█████████████████████████████████████████████████████████▎                                                                              | 253/600 [00:53<01:20,  4.32it/s]"
     ]
    },
    {
     "name": "stderr",
     "output_type": "stream",
     "text": [
      "\r",
      " 42%|█████████████████████████████████████████████████████████▌                                                                              | 254/600 [00:53<01:14,  4.64it/s]"
     ]
    },
    {
     "name": "stderr",
     "output_type": "stream",
     "text": [
      "\r",
      " 42%|█████████████████████████████████████████████████████████▊                                                                              | 255/600 [00:53<01:10,  4.89it/s]"
     ]
    },
    {
     "name": "stderr",
     "output_type": "stream",
     "text": [
      "\r",
      " 43%|██████████████████████████████████████████████████████████                                                                              | 256/600 [00:53<01:07,  5.08it/s]"
     ]
    },
    {
     "name": "stderr",
     "output_type": "stream",
     "text": [
      "\r",
      " 43%|██████████████████████████████████████████████████████████▎                                                                             | 257/600 [00:54<01:04,  5.30it/s]"
     ]
    },
    {
     "name": "stderr",
     "output_type": "stream",
     "text": [
      "\r",
      " 43%|██████████████████████████████████████████████████████████▍                                                                             | 258/600 [00:54<01:02,  5.50it/s]"
     ]
    },
    {
     "name": "stderr",
     "output_type": "stream",
     "text": [
      "\r",
      " 43%|██████████████████████████████████████████████████████████▋                                                                             | 259/600 [00:54<01:07,  5.06it/s]"
     ]
    },
    {
     "name": "stderr",
     "output_type": "stream",
     "text": [
      "\r",
      " 43%|██████████████████████████████████████████████████████████▉                                                                             | 260/600 [00:54<01:06,  5.13it/s]"
     ]
    },
    {
     "name": "stderr",
     "output_type": "stream",
     "text": [
      "\r",
      " 44%|███████████████████████████████████████████████████████████▏                                                                            | 261/600 [00:54<01:03,  5.31it/s]"
     ]
    },
    {
     "name": "stderr",
     "output_type": "stream",
     "text": [
      "\r",
      " 44%|███████████████████████████████████████████████████████████▍                                                                            | 262/600 [00:55<01:09,  4.89it/s]"
     ]
    },
    {
     "name": "stderr",
     "output_type": "stream",
     "text": [
      "\r",
      " 44%|███████████████████████████████████████████████████████████▌                                                                            | 263/600 [00:55<01:05,  5.17it/s]"
     ]
    },
    {
     "name": "stderr",
     "output_type": "stream",
     "text": [
      "\r",
      " 44%|███████████████████████████████████████████████████████████▊                                                                            | 264/600 [00:55<01:07,  4.96it/s]"
     ]
    },
    {
     "name": "stderr",
     "output_type": "stream",
     "text": [
      "\r",
      " 44%|████████████████████████████████████████████████████████████                                                                            | 265/600 [00:55<01:07,  5.00it/s]"
     ]
    },
    {
     "name": "stderr",
     "output_type": "stream",
     "text": [
      "\r",
      " 44%|████████████████████████████████████████████████████████████▎                                                                           | 266/600 [00:55<01:05,  5.14it/s]"
     ]
    },
    {
     "name": "stderr",
     "output_type": "stream",
     "text": [
      "\r",
      " 44%|████████████████████████████████████████████████████████████▌                                                                           | 267/600 [00:55<01:04,  5.13it/s]"
     ]
    },
    {
     "name": "stderr",
     "output_type": "stream",
     "text": [
      "\r",
      " 45%|████████████████████████████████████████████████████████████▋                                                                           | 268/600 [00:56<01:05,  5.03it/s]"
     ]
    },
    {
     "name": "stderr",
     "output_type": "stream",
     "text": [
      "\r",
      " 45%|████████████████████████████████████████████████████████████▉                                                                           | 269/600 [00:56<01:04,  5.16it/s]"
     ]
    },
    {
     "name": "stderr",
     "output_type": "stream",
     "text": [
      "\r",
      " 45%|█████████████████████████████████████████████████████████████▏                                                                          | 270/600 [00:56<01:05,  5.03it/s]"
     ]
    },
    {
     "name": "stderr",
     "output_type": "stream",
     "text": [
      "\r",
      " 45%|█████████████████████████████████████████████████████████████▍                                                                          | 271/600 [00:56<01:03,  5.16it/s]"
     ]
    },
    {
     "name": "stderr",
     "output_type": "stream",
     "text": [
      "\r",
      " 45%|█████████████████████████████████████████████████████████████▋                                                                          | 272/600 [00:56<01:01,  5.30it/s]"
     ]
    },
    {
     "name": "stderr",
     "output_type": "stream",
     "text": [
      "\r",
      " 46%|█████████████████████████████████████████████████████████████▉                                                                          | 273/600 [00:57<01:00,  5.41it/s]"
     ]
    },
    {
     "name": "stderr",
     "output_type": "stream",
     "text": [
      "\r",
      " 46%|██████████████████████████████████████████████████████████████                                                                          | 274/600 [00:57<00:59,  5.49it/s]"
     ]
    },
    {
     "name": "stderr",
     "output_type": "stream",
     "text": [
      "\r",
      " 46%|██████████████████████████████████████████████████████████████▎                                                                         | 275/600 [00:57<00:58,  5.55it/s]"
     ]
    },
    {
     "name": "stderr",
     "output_type": "stream",
     "text": [
      "\r",
      " 46%|██████████████████████████████████████████████████████████████▌                                                                         | 276/600 [00:57<00:58,  5.53it/s]"
     ]
    },
    {
     "name": "stderr",
     "output_type": "stream",
     "text": [
      "\r",
      " 46%|██████████████████████████████████████████████████████████████▊                                                                         | 277/600 [00:57<01:01,  5.21it/s]"
     ]
    },
    {
     "name": "stderr",
     "output_type": "stream",
     "text": [
      "\r",
      " 46%|███████████████████████████████████████████████████████████████                                                                         | 278/600 [00:58<01:03,  5.07it/s]"
     ]
    },
    {
     "name": "stderr",
     "output_type": "stream",
     "text": [
      "\r",
      " 46%|███████████████████████████████████████████████████████████████▏                                                                        | 279/600 [00:58<01:01,  5.18it/s]"
     ]
    },
    {
     "name": "stderr",
     "output_type": "stream",
     "text": [
      "\r",
      " 47%|███████████████████████████████████████████████████████████████▍                                                                        | 280/600 [00:58<01:03,  5.05it/s]"
     ]
    },
    {
     "name": "stderr",
     "output_type": "stream",
     "text": [
      "\r",
      " 47%|███████████████████████████████████████████████████████████████▋                                                                        | 281/600 [00:58<01:04,  4.96it/s]"
     ]
    },
    {
     "name": "stderr",
     "output_type": "stream",
     "text": [
      "\r",
      " 47%|███████████████████████████████████████████████████████████████▉                                                                        | 282/600 [00:58<01:03,  5.01it/s]"
     ]
    },
    {
     "name": "stderr",
     "output_type": "stream",
     "text": [
      "\r",
      " 47%|████████████████████████████████████████████████████████████████▏                                                                       | 283/600 [00:59<01:05,  4.80it/s]"
     ]
    },
    {
     "name": "stderr",
     "output_type": "stream",
     "text": [
      "\r",
      " 47%|████████████████████████████████████████████████████████████████▎                                                                       | 284/600 [00:59<01:04,  4.92it/s]"
     ]
    },
    {
     "name": "stderr",
     "output_type": "stream",
     "text": [
      "\r",
      " 48%|████████████████████████████████████████████████████████████████▌                                                                       | 285/600 [00:59<01:03,  4.99it/s]"
     ]
    },
    {
     "name": "stderr",
     "output_type": "stream",
     "text": [
      "\r",
      " 48%|████████████████████████████████████████████████████████████████▊                                                                       | 286/600 [00:59<01:01,  5.10it/s]"
     ]
    },
    {
     "name": "stderr",
     "output_type": "stream",
     "text": [
      "\r",
      " 48%|█████████████████████████████████████████████████████████████████                                                                       | 287/600 [00:59<01:00,  5.15it/s]"
     ]
    },
    {
     "name": "stderr",
     "output_type": "stream",
     "text": [
      "\r",
      " 48%|█████████████████████████████████████████████████████████████████▎                                                                      | 288/600 [01:00<01:10,  4.40it/s]"
     ]
    },
    {
     "name": "stderr",
     "output_type": "stream",
     "text": [
      "\r",
      " 48%|█████████████████████████████████████████████████████████████████▌                                                                      | 289/600 [01:00<01:09,  4.48it/s]"
     ]
    },
    {
     "name": "stderr",
     "output_type": "stream",
     "text": [
      "\r",
      " 48%|█████████████████████████████████████████████████████████████████▋                                                                      | 290/600 [01:00<01:06,  4.69it/s]"
     ]
    },
    {
     "name": "stderr",
     "output_type": "stream",
     "text": [
      "\r",
      " 48%|█████████████████████████████████████████████████████████████████▉                                                                      | 291/600 [01:00<01:03,  4.90it/s]"
     ]
    },
    {
     "name": "stderr",
     "output_type": "stream",
     "text": [
      "\r",
      " 49%|██████████████████████████████████████████████████████████████████▏                                                                     | 292/600 [01:00<01:00,  5.11it/s]"
     ]
    },
    {
     "name": "stderr",
     "output_type": "stream",
     "text": [
      "\r",
      " 49%|██████████████████████████████████████████████████████████████████▍                                                                     | 293/600 [01:01<00:58,  5.27it/s]"
     ]
    },
    {
     "name": "stderr",
     "output_type": "stream",
     "text": [
      "\r",
      " 49%|██████████████████████████████████████████████████████████████████▋                                                                     | 294/600 [01:01<00:56,  5.40it/s]"
     ]
    },
    {
     "name": "stderr",
     "output_type": "stream",
     "text": [
      "\r",
      " 49%|██████████████████████████████████████████████████████████████████▊                                                                     | 295/600 [01:01<00:55,  5.48it/s]"
     ]
    },
    {
     "name": "stderr",
     "output_type": "stream",
     "text": [
      "\r",
      " 49%|███████████████████████████████████████████████████████████████████                                                                     | 296/600 [01:01<00:54,  5.54it/s]"
     ]
    },
    {
     "name": "stderr",
     "output_type": "stream",
     "text": [
      "\r",
      " 50%|███████████████████████████████████████████████████████████████████▎                                                                    | 297/600 [01:01<00:58,  5.20it/s]"
     ]
    },
    {
     "name": "stderr",
     "output_type": "stream",
     "text": [
      "\r",
      " 50%|███████████████████████████████████████████████████████████████████▌                                                                    | 298/600 [01:02<01:01,  4.89it/s]"
     ]
    },
    {
     "name": "stderr",
     "output_type": "stream",
     "text": [
      "\r",
      " 50%|███████████████████████████████████████████████████████████████████▊                                                                    | 299/600 [01:02<01:05,  4.63it/s]"
     ]
    },
    {
     "name": "stderr",
     "output_type": "stream",
     "text": [
      "\r",
      " 50%|████████████████████████████████████████████████████████████████████                                                                    | 300/600 [01:02<01:02,  4.78it/s]"
     ]
    },
    {
     "name": "stderr",
     "output_type": "stream",
     "text": [
      "\r",
      " 50%|████████████████████████████████████████████████████████████████████▏                                                                   | 301/600 [01:02<01:05,  4.55it/s]"
     ]
    },
    {
     "name": "stderr",
     "output_type": "stream",
     "text": [
      "\r",
      " 50%|████████████████████████████████████████████████████████████████████▍                                                                   | 302/600 [01:02<01:05,  4.55it/s]"
     ]
    },
    {
     "name": "stderr",
     "output_type": "stream",
     "text": [
      "\r",
      " 50%|████████████████████████████████████████████████████████████████████▋                                                                   | 303/600 [01:03<01:01,  4.84it/s]"
     ]
    },
    {
     "name": "stderr",
     "output_type": "stream",
     "text": [
      "\r",
      " 51%|████████████████████████████████████████████████████████████████████▉                                                                   | 304/600 [01:03<00:58,  5.07it/s]"
     ]
    },
    {
     "name": "stderr",
     "output_type": "stream",
     "text": [
      "\r",
      " 51%|█████████████████████████████████████████████████████████████████████▏                                                                  | 305/600 [01:03<00:58,  5.02it/s]"
     ]
    },
    {
     "name": "stderr",
     "output_type": "stream",
     "text": [
      "\r",
      " 51%|█████████████████████████████████████████████████████████████████████▎                                                                  | 306/600 [01:03<00:58,  4.99it/s]"
     ]
    },
    {
     "name": "stderr",
     "output_type": "stream",
     "text": [
      "\r",
      " 51%|█████████████████████████████████████████████████████████████████████▌                                                                  | 307/600 [01:03<00:58,  5.02it/s]"
     ]
    },
    {
     "name": "stderr",
     "output_type": "stream",
     "text": [
      "\r",
      " 51%|█████████████████████████████████████████████████████████████████████▊                                                                  | 308/600 [01:04<00:57,  5.05it/s]"
     ]
    },
    {
     "name": "stderr",
     "output_type": "stream",
     "text": [
      "\r",
      " 52%|██████████████████████████████████████████████████████████████████████                                                                  | 309/600 [01:04<00:57,  5.06it/s]"
     ]
    },
    {
     "name": "stderr",
     "output_type": "stream",
     "text": [
      "\r",
      " 52%|██████████████████████████████████████████████████████████████████████▎                                                                 | 310/600 [01:04<00:57,  5.04it/s]"
     ]
    },
    {
     "name": "stderr",
     "output_type": "stream",
     "text": [
      "\r",
      " 52%|██████████████████████████████████████████████████████████████████████▍                                                                 | 311/600 [01:04<00:57,  5.07it/s]"
     ]
    },
    {
     "name": "stderr",
     "output_type": "stream",
     "text": [
      "\r",
      " 52%|██████████████████████████████████████████████████████████████████████▋                                                                 | 312/600 [01:04<00:56,  5.06it/s]"
     ]
    },
    {
     "name": "stderr",
     "output_type": "stream",
     "text": [
      "\r",
      " 52%|██████████████████████████████████████████████████████████████████████▉                                                                 | 313/600 [01:05<00:55,  5.14it/s]"
     ]
    },
    {
     "name": "stderr",
     "output_type": "stream",
     "text": [
      "\r",
      " 52%|███████████████████████████████████████████████████████████████████████▏                                                                | 314/600 [01:05<00:54,  5.25it/s]"
     ]
    },
    {
     "name": "stderr",
     "output_type": "stream",
     "text": [
      "\r",
      " 52%|███████████████████████████████████████████████████████████████████████▍                                                                | 315/600 [01:05<01:03,  4.52it/s]"
     ]
    },
    {
     "name": "stderr",
     "output_type": "stream",
     "text": [
      "\r",
      " 53%|███████████████████████████████████████████████████████████████████████▋                                                                | 316/600 [01:05<01:03,  4.51it/s]"
     ]
    },
    {
     "name": "stderr",
     "output_type": "stream",
     "text": [
      "\r",
      " 53%|███████████████████████████████████████████████████████████████████████▊                                                                | 317/600 [01:06<00:59,  4.72it/s]"
     ]
    },
    {
     "name": "stderr",
     "output_type": "stream",
     "text": [
      "\r",
      " 53%|████████████████████████████████████████████████████████████████████████                                                                | 318/600 [01:06<00:57,  4.93it/s]"
     ]
    },
    {
     "name": "stderr",
     "output_type": "stream",
     "text": [
      "\r",
      " 53%|████████████████████████████████████████████████████████████████████████▎                                                               | 319/600 [01:06<00:55,  5.11it/s]"
     ]
    },
    {
     "name": "stderr",
     "output_type": "stream",
     "text": [
      "\r",
      " 53%|████████████████████████████████████████████████████████████████████████▌                                                               | 320/600 [01:06<00:53,  5.22it/s]"
     ]
    },
    {
     "name": "stderr",
     "output_type": "stream",
     "text": [
      "\r",
      " 54%|████████████████████████████████████████████████████████████████████████▊                                                               | 321/600 [01:06<00:55,  5.01it/s]"
     ]
    },
    {
     "name": "stderr",
     "output_type": "stream",
     "text": [
      "\r",
      " 54%|████████████████████████████████████████████████████████████████████████▉                                                               | 322/600 [01:07<01:00,  4.59it/s]"
     ]
    },
    {
     "name": "stderr",
     "output_type": "stream",
     "text": [
      "\r",
      " 54%|█████████████████████████████████████████████████████████████████████████▏                                                              | 323/600 [01:07<00:59,  4.64it/s]"
     ]
    },
    {
     "name": "stderr",
     "output_type": "stream",
     "text": [
      "\r",
      " 54%|█████████████████████████████████████████████████████████████████████████▍                                                              | 324/600 [01:07<01:05,  4.21it/s]"
     ]
    },
    {
     "name": "stderr",
     "output_type": "stream",
     "text": [
      "\r",
      " 54%|█████████████████████████████████████████████████████████████████████████▋                                                              | 325/600 [01:07<01:07,  4.05it/s]"
     ]
    },
    {
     "name": "stderr",
     "output_type": "stream",
     "text": [
      "\r",
      " 54%|█████████████████████████████████████████████████████████████████████████▉                                                              | 326/600 [01:07<01:03,  4.34it/s]"
     ]
    },
    {
     "name": "stderr",
     "output_type": "stream",
     "text": [
      "\r",
      " 55%|██████████████████████████████████████████████████████████████████████████                                                              | 327/600 [01:08<01:06,  4.12it/s]"
     ]
    },
    {
     "name": "stderr",
     "output_type": "stream",
     "text": [
      "\r",
      " 55%|██████████████████████████████████████████████████████████████████████████▎                                                             | 328/600 [01:08<01:01,  4.39it/s]"
     ]
    },
    {
     "name": "stderr",
     "output_type": "stream",
     "text": [
      "\r",
      " 55%|██████████████████████████████████████████████████████████████████████████▌                                                             | 329/600 [01:08<00:58,  4.63it/s]"
     ]
    },
    {
     "name": "stderr",
     "output_type": "stream",
     "text": [
      "\r",
      " 55%|██████████████████████████████████████████████████████████████████████████▊                                                             | 330/600 [01:08<01:00,  4.46it/s]"
     ]
    },
    {
     "name": "stderr",
     "output_type": "stream",
     "text": [
      "\r",
      " 55%|███████████████████████████████████████████████████████████████████████████                                                             | 331/600 [01:09<01:05,  4.10it/s]"
     ]
    },
    {
     "name": "stderr",
     "output_type": "stream",
     "text": [
      "\r",
      " 55%|███████████████████████████████████████████████████████████████████████████▎                                                            | 332/600 [01:09<01:00,  4.44it/s]"
     ]
    },
    {
     "name": "stderr",
     "output_type": "stream",
     "text": [
      "\r",
      " 56%|███████████████████████████████████████████████████████████████████████████▍                                                            | 333/600 [01:09<00:56,  4.70it/s]"
     ]
    },
    {
     "name": "stderr",
     "output_type": "stream",
     "text": [
      "\r",
      " 56%|███████████████████████████████████████████████████████████████████████████▋                                                            | 334/600 [01:09<00:57,  4.60it/s]"
     ]
    },
    {
     "name": "stderr",
     "output_type": "stream",
     "text": [
      "\r",
      " 56%|███████████████████████████████████████████████████████████████████████████▉                                                            | 335/600 [01:10<00:59,  4.46it/s]"
     ]
    },
    {
     "name": "stderr",
     "output_type": "stream",
     "text": [
      "\r",
      " 56%|████████████████████████████████████████████████████████████████████████████▏                                                           | 336/600 [01:10<00:56,  4.64it/s]"
     ]
    },
    {
     "name": "stderr",
     "output_type": "stream",
     "text": [
      "\r",
      " 56%|████████████████████████████████████████████████████████████████████████████▍                                                           | 337/600 [01:10<00:56,  4.69it/s]"
     ]
    },
    {
     "name": "stderr",
     "output_type": "stream",
     "text": [
      "\r",
      " 56%|████████████████████████████████████████████████████████████████████████████▌                                                           | 338/600 [01:10<00:54,  4.78it/s]"
     ]
    },
    {
     "name": "stderr",
     "output_type": "stream",
     "text": [
      "\r",
      " 56%|████████████████████████████████████████████████████████████████████████████▊                                                           | 339/600 [01:10<00:53,  4.91it/s]"
     ]
    },
    {
     "name": "stderr",
     "output_type": "stream",
     "text": [
      "\r",
      " 57%|█████████████████████████████████████████████████████████████████████████████                                                           | 340/600 [01:10<00:51,  5.05it/s]"
     ]
    },
    {
     "name": "stderr",
     "output_type": "stream",
     "text": [
      "\r",
      " 57%|█████████████████████████████████████████████████████████████████████████████▎                                                          | 341/600 [01:11<00:53,  4.85it/s]"
     ]
    },
    {
     "name": "stderr",
     "output_type": "stream",
     "text": [
      "\r",
      " 57%|█████████████████████████████████████████████████████████████████████████████▌                                                          | 342/600 [01:11<00:53,  4.79it/s]"
     ]
    },
    {
     "name": "stderr",
     "output_type": "stream",
     "text": [
      "\r",
      " 57%|█████████████████████████████████████████████████████████████████████████████▋                                                          | 343/600 [01:11<00:53,  4.84it/s]"
     ]
    },
    {
     "name": "stderr",
     "output_type": "stream",
     "text": [
      "\r",
      " 57%|█████████████████████████████████████████████████████████████████████████████▉                                                          | 344/600 [01:11<00:51,  4.98it/s]"
     ]
    },
    {
     "name": "stderr",
     "output_type": "stream",
     "text": [
      "\r",
      " 57%|██████████████████████████████████████████████████████████████████████████████▏                                                         | 345/600 [01:12<00:50,  5.07it/s]"
     ]
    },
    {
     "name": "stderr",
     "output_type": "stream",
     "text": [
      "\r",
      " 58%|██████████████████████████████████████████████████████████████████████████████▍                                                         | 346/600 [01:12<00:49,  5.18it/s]"
     ]
    },
    {
     "name": "stderr",
     "output_type": "stream",
     "text": [
      "\r",
      " 58%|██████████████████████████████████████████████████████████████████████████████▋                                                         | 347/600 [01:12<00:48,  5.24it/s]"
     ]
    },
    {
     "name": "stderr",
     "output_type": "stream",
     "text": [
      "\r",
      " 58%|██████████████████████████████████████████████████████████████████████████████▉                                                         | 348/600 [01:12<00:47,  5.28it/s]"
     ]
    },
    {
     "name": "stderr",
     "output_type": "stream",
     "text": [
      "\r",
      " 58%|███████████████████████████████████████████████████████████████████████████████                                                         | 349/600 [01:12<00:47,  5.25it/s]"
     ]
    },
    {
     "name": "stderr",
     "output_type": "stream",
     "text": [
      "\r",
      " 58%|███████████████████████████████████████████████████████████████████████████████▎                                                        | 350/600 [01:12<00:48,  5.16it/s]"
     ]
    },
    {
     "name": "stderr",
     "output_type": "stream",
     "text": [
      "\r",
      " 58%|███████████████████████████████████████████████████████████████████████████████▌                                                        | 351/600 [01:13<00:59,  4.16it/s]"
     ]
    },
    {
     "name": "stderr",
     "output_type": "stream",
     "text": [
      "\r",
      " 59%|███████████████████████████████████████████████████████████████████████████████▊                                                        | 352/600 [01:13<00:54,  4.52it/s]"
     ]
    },
    {
     "name": "stderr",
     "output_type": "stream",
     "text": [
      "\r",
      " 59%|████████████████████████████████████████████████████████████████████████████████                                                        | 353/600 [01:13<00:51,  4.83it/s]"
     ]
    },
    {
     "name": "stderr",
     "output_type": "stream",
     "text": [
      "\r",
      " 59%|████████████████████████████████████████████████████████████████████████████████▏                                                       | 354/600 [01:13<00:49,  5.01it/s]"
     ]
    },
    {
     "name": "stderr",
     "output_type": "stream",
     "text": [
      "\r",
      " 59%|████████████████████████████████████████████████████████████████████████████████▍                                                       | 355/600 [01:14<00:47,  5.18it/s]"
     ]
    },
    {
     "name": "stderr",
     "output_type": "stream",
     "text": [
      "\r",
      " 59%|████████████████████████████████████████████████████████████████████████████████▋                                                       | 356/600 [01:14<00:45,  5.32it/s]"
     ]
    },
    {
     "name": "stderr",
     "output_type": "stream",
     "text": [
      "\r",
      " 60%|████████████████████████████████████████████████████████████████████████████████▉                                                       | 357/600 [01:14<00:45,  5.37it/s]"
     ]
    },
    {
     "name": "stderr",
     "output_type": "stream",
     "text": [
      "\r",
      " 60%|█████████████████████████████████████████████████████████████████████████████████▏                                                      | 358/600 [01:14<00:46,  5.25it/s]"
     ]
    },
    {
     "name": "stderr",
     "output_type": "stream",
     "text": [
      "\r",
      " 60%|█████████████████████████████████████████████████████████████████████████████████▎                                                      | 359/600 [01:14<00:48,  4.99it/s]"
     ]
    },
    {
     "name": "stderr",
     "output_type": "stream",
     "text": [
      "\r",
      " 60%|█████████████████████████████████████████████████████████████████████████████████▌                                                      | 360/600 [01:14<00:48,  4.96it/s]"
     ]
    },
    {
     "name": "stderr",
     "output_type": "stream",
     "text": [
      "\r",
      " 60%|█████████████████████████████████████████████████████████████████████████████████▊                                                      | 361/600 [01:15<00:46,  5.09it/s]"
     ]
    },
    {
     "name": "stderr",
     "output_type": "stream",
     "text": [
      "\r",
      " 60%|██████████████████████████████████████████████████████████████████████████████████                                                      | 362/600 [01:15<00:45,  5.28it/s]"
     ]
    },
    {
     "name": "stderr",
     "output_type": "stream",
     "text": [
      "\r",
      " 60%|██████████████████████████████████████████████████████████████████████████████████▎                                                     | 363/600 [01:15<00:44,  5.33it/s]"
     ]
    },
    {
     "name": "stderr",
     "output_type": "stream",
     "text": [
      "\r",
      " 61%|██████████████████████████████████████████████████████████████████████████████████▌                                                     | 364/600 [01:15<00:44,  5.34it/s]"
     ]
    },
    {
     "name": "stderr",
     "output_type": "stream",
     "text": [
      "\r",
      " 61%|██████████████████████████████████████████████████████████████████████████████████▋                                                     | 365/600 [01:15<00:44,  5.29it/s]"
     ]
    },
    {
     "name": "stderr",
     "output_type": "stream",
     "text": [
      "\r",
      " 61%|██████████████████████████████████████████████████████████████████████████████████▉                                                     | 366/600 [01:16<00:45,  5.11it/s]"
     ]
    },
    {
     "name": "stderr",
     "output_type": "stream",
     "text": [
      "\r",
      " 61%|███████████████████████████████████████████████████████████████████████████████████▏                                                    | 367/600 [01:16<00:46,  5.00it/s]"
     ]
    },
    {
     "name": "stderr",
     "output_type": "stream",
     "text": [
      "\r",
      " 61%|███████████████████████████████████████████████████████████████████████████████████▍                                                    | 368/600 [01:16<00:47,  4.90it/s]"
     ]
    },
    {
     "name": "stderr",
     "output_type": "stream",
     "text": [
      "\r",
      " 62%|███████████████████████████████████████████████████████████████████████████████████▋                                                    | 369/600 [01:16<00:51,  4.49it/s]"
     ]
    },
    {
     "name": "stderr",
     "output_type": "stream",
     "text": [
      "\r",
      " 62%|███████████████████████████████████████████████████████████████████████████████████▊                                                    | 370/600 [01:17<00:54,  4.23it/s]"
     ]
    },
    {
     "name": "stderr",
     "output_type": "stream",
     "text": [
      "\r",
      " 62%|████████████████████████████████████████████████████████████████████████████████████                                                    | 371/600 [01:17<00:51,  4.43it/s]"
     ]
    },
    {
     "name": "stderr",
     "output_type": "stream",
     "text": [
      "\r",
      " 62%|████████████████████████████████████████████████████████████████████████████████████▎                                                   | 372/600 [01:17<00:57,  3.98it/s]"
     ]
    },
    {
     "name": "stderr",
     "output_type": "stream",
     "text": [
      "\r",
      " 62%|████████████████████████████████████████████████████████████████████████████████████▌                                                   | 373/600 [01:17<00:54,  4.19it/s]"
     ]
    },
    {
     "name": "stderr",
     "output_type": "stream",
     "text": [
      "\r",
      " 62%|████████████████████████████████████████████████████████████████████████████████████▊                                                   | 374/600 [01:18<00:54,  4.12it/s]"
     ]
    },
    {
     "name": "stderr",
     "output_type": "stream",
     "text": [
      "\r",
      " 62%|█████████████████████████████████████████████████████████████████████████████████████                                                   | 375/600 [01:18<00:50,  4.50it/s]"
     ]
    },
    {
     "name": "stderr",
     "output_type": "stream",
     "text": [
      "\r",
      " 63%|█████████████████████████████████████████████████████████████████████████████████████▏                                                  | 376/600 [01:18<00:46,  4.82it/s]"
     ]
    },
    {
     "name": "stderr",
     "output_type": "stream",
     "text": [
      "\r",
      " 63%|█████████████████████████████████████████████████████████████████████████████████████▍                                                  | 377/600 [01:18<00:44,  4.96it/s]"
     ]
    },
    {
     "name": "stderr",
     "output_type": "stream",
     "text": [
      "\r",
      " 63%|█████████████████████████████████████████████████████████████████████████████████████▋                                                  | 378/600 [01:18<00:45,  4.90it/s]"
     ]
    },
    {
     "name": "stderr",
     "output_type": "stream",
     "text": [
      "\r",
      " 63%|█████████████████████████████████████████████████████████████████████████████████████▉                                                  | 379/600 [01:18<00:43,  5.04it/s]"
     ]
    },
    {
     "name": "stderr",
     "output_type": "stream",
     "text": [
      "\r",
      " 63%|██████████████████████████████████████████████████████████████████████████████████████▏                                                 | 380/600 [01:19<00:42,  5.16it/s]"
     ]
    },
    {
     "name": "stderr",
     "output_type": "stream",
     "text": [
      "\r",
      " 64%|██████████████████████████████████████████████████████████████████████████████████████▎                                                 | 381/600 [01:19<00:42,  5.09it/s]"
     ]
    },
    {
     "name": "stderr",
     "output_type": "stream",
     "text": [
      "\r",
      " 64%|██████████████████████████████████████████████████████████████████████████████████████▌                                                 | 382/600 [01:19<00:42,  5.08it/s]"
     ]
    },
    {
     "name": "stderr",
     "output_type": "stream",
     "text": [
      "\r",
      " 64%|██████████████████████████████████████████████████████████████████████████████████████▊                                                 | 383/600 [01:19<00:43,  4.96it/s]"
     ]
    },
    {
     "name": "stderr",
     "output_type": "stream",
     "text": [
      "\r",
      " 64%|███████████████████████████████████████████████████████████████████████████████████████                                                 | 384/600 [01:19<00:43,  4.95it/s]"
     ]
    },
    {
     "name": "stderr",
     "output_type": "stream",
     "text": [
      "\r",
      " 64%|███████████████████████████████████████████████████████████████████████████████████████▎                                                | 385/600 [01:20<00:45,  4.76it/s]"
     ]
    },
    {
     "name": "stderr",
     "output_type": "stream",
     "text": [
      "\r",
      " 64%|███████████████████████████████████████████████████████████████████████████████████████▍                                                | 386/600 [01:20<00:43,  4.87it/s]"
     ]
    },
    {
     "name": "stderr",
     "output_type": "stream",
     "text": [
      "\r",
      " 64%|███████████████████████████████████████████████████████████████████████████████████████▋                                                | 387/600 [01:20<00:43,  4.90it/s]"
     ]
    },
    {
     "name": "stderr",
     "output_type": "stream",
     "text": [
      "\r",
      " 65%|███████████████████████████████████████████████████████████████████████████████████████▉                                                | 388/600 [01:20<00:54,  3.90it/s]"
     ]
    },
    {
     "name": "stderr",
     "output_type": "stream",
     "text": [
      "\r",
      " 65%|████████████████████████████████████████████████████████████████████████████████████████▏                                               | 389/600 [01:21<00:55,  3.83it/s]"
     ]
    },
    {
     "name": "stderr",
     "output_type": "stream",
     "text": [
      "\r",
      " 65%|████████████████████████████████████████████████████████████████████████████████████████▍                                               | 390/600 [01:21<00:50,  4.14it/s]"
     ]
    },
    {
     "name": "stderr",
     "output_type": "stream",
     "text": [
      "\r",
      " 65%|████████████████████████████████████████████████████████████████████████████████████████▋                                               | 391/600 [01:21<00:49,  4.20it/s]"
     ]
    },
    {
     "name": "stderr",
     "output_type": "stream",
     "text": [
      "\r",
      " 65%|████████████████████████████████████████████████████████████████████████████████████████▊                                               | 392/600 [01:21<00:46,  4.49it/s]"
     ]
    },
    {
     "name": "stderr",
     "output_type": "stream",
     "text": [
      "\r",
      " 66%|█████████████████████████████████████████████████████████████████████████████████████████                                               | 393/600 [01:22<00:45,  4.60it/s]"
     ]
    },
    {
     "name": "stderr",
     "output_type": "stream",
     "text": [
      "\r",
      " 66%|█████████████████████████████████████████████████████████████████████████████████████████▎                                              | 394/600 [01:22<00:44,  4.68it/s]"
     ]
    },
    {
     "name": "stderr",
     "output_type": "stream",
     "text": [
      "\r",
      " 66%|█████████████████████████████████████████████████████████████████████████████████████████▌                                              | 395/600 [01:22<00:43,  4.76it/s]"
     ]
    },
    {
     "name": "stderr",
     "output_type": "stream",
     "text": [
      "\r",
      " 66%|█████████████████████████████████████████████████████████████████████████████████████████▊                                              | 396/600 [01:22<00:41,  4.95it/s]"
     ]
    },
    {
     "name": "stderr",
     "output_type": "stream",
     "text": [
      "\r",
      " 66%|█████████████████████████████████████████████████████████████████████████████████████████▉                                              | 397/600 [01:22<00:39,  5.11it/s]"
     ]
    },
    {
     "name": "stderr",
     "output_type": "stream",
     "text": [
      "\r",
      " 66%|██████████████████████████████████████████████████████████████████████████████████████████▏                                             | 398/600 [01:23<00:45,  4.44it/s]"
     ]
    },
    {
     "name": "stderr",
     "output_type": "stream",
     "text": [
      "\r",
      " 66%|██████████████████████████████████████████████████████████████████████████████████████████▍                                             | 399/600 [01:23<00:45,  4.44it/s]"
     ]
    },
    {
     "name": "stderr",
     "output_type": "stream",
     "text": [
      "\r",
      " 67%|██████████████████████████████████████████████████████████████████████████████████████████▋                                             | 400/600 [01:23<00:43,  4.61it/s]"
     ]
    },
    {
     "name": "stderr",
     "output_type": "stream",
     "text": [
      "\r",
      " 67%|██████████████████████████████████████████████████████████████████████████████████████████▉                                             | 401/600 [01:23<00:41,  4.77it/s]"
     ]
    },
    {
     "name": "stderr",
     "output_type": "stream",
     "text": [
      "\r",
      " 67%|███████████████████████████████████████████████████████████████████████████████████████████                                             | 402/600 [01:23<00:40,  4.91it/s]"
     ]
    },
    {
     "name": "stderr",
     "output_type": "stream",
     "text": [
      "\r",
      " 67%|███████████████████████████████████████████████████████████████████████████████████████████▎                                            | 403/600 [01:24<00:38,  5.14it/s]"
     ]
    },
    {
     "name": "stderr",
     "output_type": "stream",
     "text": [
      "\r",
      " 67%|███████████████████████████████████████████████████████████████████████████████████████████▌                                            | 404/600 [01:24<00:37,  5.22it/s]"
     ]
    },
    {
     "name": "stderr",
     "output_type": "stream",
     "text": [
      "\r",
      " 68%|███████████████████████████████████████████████████████████████████████████████████████████▊                                            | 405/600 [01:24<00:37,  5.27it/s]"
     ]
    },
    {
     "name": "stderr",
     "output_type": "stream",
     "text": [
      "\r",
      " 68%|████████████████████████████████████████████████████████████████████████████████████████████                                            | 406/600 [01:24<00:39,  4.94it/s]"
     ]
    },
    {
     "name": "stderr",
     "output_type": "stream",
     "text": [
      "\r",
      " 68%|████████████████████████████████████████████████████████████████████████████████████████████▎                                           | 407/600 [01:24<00:39,  4.83it/s]"
     ]
    },
    {
     "name": "stderr",
     "output_type": "stream",
     "text": [
      "\r",
      " 68%|████████████████████████████████████████████████████████████████████████████████████████████▍                                           | 408/600 [01:25<00:39,  4.84it/s]"
     ]
    },
    {
     "name": "stderr",
     "output_type": "stream",
     "text": [
      "\r",
      " 68%|████████████████████████████████████████████████████████████████████████████████████████████▋                                           | 409/600 [01:25<00:42,  4.47it/s]"
     ]
    },
    {
     "name": "stderr",
     "output_type": "stream",
     "text": [
      "\r",
      " 68%|████████████████████████████████████████████████████████████████████████████████████████████▉                                           | 410/600 [01:25<00:41,  4.59it/s]"
     ]
    },
    {
     "name": "stderr",
     "output_type": "stream",
     "text": [
      "\r",
      " 68%|█████████████████████████████████████████████████████████████████████████████████████████████▏                                          | 411/600 [01:25<00:39,  4.73it/s]"
     ]
    },
    {
     "name": "stderr",
     "output_type": "stream",
     "text": [
      "\r",
      " 69%|█████████████████████████████████████████████████████████████████████████████████████████████▍                                          | 412/600 [01:26<00:38,  4.88it/s]"
     ]
    },
    {
     "name": "stderr",
     "output_type": "stream",
     "text": [
      "\r",
      " 69%|█████████████████████████████████████████████████████████████████████████████████████████████▌                                          | 413/600 [01:26<00:37,  4.93it/s]"
     ]
    },
    {
     "name": "stderr",
     "output_type": "stream",
     "text": [
      "\r",
      " 69%|█████████████████████████████████████████████████████████████████████████████████████████████▊                                          | 414/600 [01:26<00:36,  5.13it/s]"
     ]
    },
    {
     "name": "stderr",
     "output_type": "stream",
     "text": [
      "\r",
      " 69%|██████████████████████████████████████████████████████████████████████████████████████████████                                          | 415/600 [01:26<00:35,  5.22it/s]"
     ]
    },
    {
     "name": "stderr",
     "output_type": "stream",
     "text": [
      "\r",
      " 69%|██████████████████████████████████████████████████████████████████████████████████████████████▎                                         | 416/600 [01:26<00:46,  3.98it/s]"
     ]
    },
    {
     "name": "stderr",
     "output_type": "stream",
     "text": [
      "\r",
      " 70%|██████████████████████████████████████████████████████████████████████████████████████████████▌                                         | 417/600 [01:27<00:42,  4.31it/s]"
     ]
    },
    {
     "name": "stderr",
     "output_type": "stream",
     "text": [
      "\r",
      " 70%|██████████████████████████████████████████████████████████████████████████████████████████████▋                                         | 418/600 [01:27<00:40,  4.55it/s]"
     ]
    },
    {
     "name": "stderr",
     "output_type": "stream",
     "text": [
      "\r",
      " 70%|██████████████████████████████████████████████████████████████████████████████████████████████▉                                         | 419/600 [01:27<00:38,  4.73it/s]"
     ]
    },
    {
     "name": "stderr",
     "output_type": "stream",
     "text": [
      "\r",
      " 70%|███████████████████████████████████████████████████████████████████████████████████████████████▏                                        | 420/600 [01:27<00:37,  4.83it/s]"
     ]
    },
    {
     "name": "stderr",
     "output_type": "stream",
     "text": [
      "\r",
      " 70%|███████████████████████████████████████████████████████████████████████████████████████████████▍                                        | 421/600 [01:27<00:35,  5.04it/s]"
     ]
    },
    {
     "name": "stderr",
     "output_type": "stream",
     "text": [
      "\r",
      " 70%|███████████████████████████████████████████████████████████████████████████████████████████████▋                                        | 422/600 [01:28<00:35,  5.08it/s]"
     ]
    },
    {
     "name": "stderr",
     "output_type": "stream",
     "text": [
      "\r",
      " 70%|███████████████████████████████████████████████████████████████████████████████████████████████▉                                        | 423/600 [01:28<00:35,  5.03it/s]"
     ]
    },
    {
     "name": "stderr",
     "output_type": "stream",
     "text": [
      "\r",
      " 71%|████████████████████████████████████████████████████████████████████████████████████████████████                                        | 424/600 [01:28<00:34,  5.07it/s]"
     ]
    },
    {
     "name": "stderr",
     "output_type": "stream",
     "text": [
      "\r",
      " 71%|████████████████████████████████████████████████████████████████████████████████████████████████▎                                       | 425/600 [01:28<00:34,  5.13it/s]"
     ]
    },
    {
     "name": "stderr",
     "output_type": "stream",
     "text": [
      "\r",
      " 71%|████████████████████████████████████████████████████████████████████████████████████████████████▌                                       | 426/600 [01:28<00:33,  5.14it/s]"
     ]
    },
    {
     "name": "stderr",
     "output_type": "stream",
     "text": [
      "\r",
      " 71%|████████████████████████████████████████████████████████████████████████████████████████████████▊                                       | 427/600 [01:29<00:33,  5.23it/s]"
     ]
    },
    {
     "name": "stderr",
     "output_type": "stream",
     "text": [
      "\r",
      " 71%|█████████████████████████████████████████████████████████████████████████████████████████████████                                       | 428/600 [01:29<00:33,  5.09it/s]"
     ]
    },
    {
     "name": "stderr",
     "output_type": "stream",
     "text": [
      "\r",
      " 72%|█████████████████████████████████████████████████████████████████████████████████████████████████▏                                      | 429/600 [01:29<00:34,  4.99it/s]"
     ]
    },
    {
     "name": "stderr",
     "output_type": "stream",
     "text": [
      "\r",
      " 72%|█████████████████████████████████████████████████████████████████████████████████████████████████▍                                      | 430/600 [01:29<00:33,  5.08it/s]"
     ]
    },
    {
     "name": "stderr",
     "output_type": "stream",
     "text": [
      "\r",
      " 72%|█████████████████████████████████████████████████████████████████████████████████████████████████▋                                      | 431/600 [01:29<00:32,  5.19it/s]"
     ]
    },
    {
     "name": "stderr",
     "output_type": "stream",
     "text": [
      "\r",
      " 72%|█████████████████████████████████████████████████████████████████████████████████████████████████▉                                      | 432/600 [01:30<00:31,  5.25it/s]"
     ]
    },
    {
     "name": "stderr",
     "output_type": "stream",
     "text": [
      "\r",
      " 72%|██████████████████████████████████████████████████████████████████████████████████████████████████▏                                     | 433/600 [01:30<00:31,  5.27it/s]"
     ]
    },
    {
     "name": "stderr",
     "output_type": "stream",
     "text": [
      "\r",
      " 72%|██████████████████████████████████████████████████████████████████████████████████████████████████▎                                     | 434/600 [01:30<00:30,  5.38it/s]"
     ]
    },
    {
     "name": "stderr",
     "output_type": "stream",
     "text": [
      "\r",
      " 72%|██████████████████████████████████████████████████████████████████████████████████████████████████▌                                     | 435/600 [01:30<00:30,  5.45it/s]"
     ]
    },
    {
     "name": "stderr",
     "output_type": "stream",
     "text": [
      "\r",
      " 73%|██████████████████████████████████████████████████████████████████████████████████████████████████▊                                     | 436/600 [01:30<00:30,  5.35it/s]"
     ]
    },
    {
     "name": "stderr",
     "output_type": "stream",
     "text": [
      "\r",
      " 73%|███████████████████████████████████████████████████████████████████████████████████████████████████                                     | 437/600 [01:30<00:30,  5.31it/s]"
     ]
    },
    {
     "name": "stderr",
     "output_type": "stream",
     "text": [
      "\r",
      " 73%|███████████████████████████████████████████████████████████████████████████████████████████████████▎                                    | 438/600 [01:31<00:30,  5.23it/s]"
     ]
    },
    {
     "name": "stderr",
     "output_type": "stream",
     "text": [
      "\r",
      " 73%|███████████████████████████████████████████████████████████████████████████████████████████████████▌                                    | 439/600 [01:31<00:31,  5.18it/s]"
     ]
    },
    {
     "name": "stderr",
     "output_type": "stream",
     "text": [
      "\r",
      " 73%|███████████████████████████████████████████████████████████████████████████████████████████████████▋                                    | 440/600 [01:31<00:30,  5.16it/s]"
     ]
    },
    {
     "name": "stderr",
     "output_type": "stream",
     "text": [
      "\r",
      " 74%|███████████████████████████████████████████████████████████████████████████████████████████████████▉                                    | 441/600 [01:31<00:30,  5.17it/s]"
     ]
    },
    {
     "name": "stderr",
     "output_type": "stream",
     "text": [
      "\r",
      " 74%|████████████████████████████████████████████████████████████████████████████████████████████████████▏                                   | 442/600 [01:31<00:30,  5.24it/s]"
     ]
    },
    {
     "name": "stderr",
     "output_type": "stream",
     "text": [
      "\r",
      " 74%|████████████████████████████████████████████████████████████████████████████████████████████████████▍                                   | 443/600 [01:32<00:29,  5.33it/s]"
     ]
    },
    {
     "name": "stderr",
     "output_type": "stream",
     "text": [
      "\r",
      " 74%|████████████████████████████████████████████████████████████████████████████████████████████████████▋                                   | 444/600 [01:32<00:28,  5.44it/s]"
     ]
    },
    {
     "name": "stderr",
     "output_type": "stream",
     "text": [
      "\r",
      " 74%|████████████████████████████████████████████████████████████████████████████████████████████████████▊                                   | 445/600 [01:32<00:28,  5.53it/s]"
     ]
    },
    {
     "name": "stderr",
     "output_type": "stream",
     "text": [
      "\r",
      " 74%|█████████████████████████████████████████████████████████████████████████████████████████████████████                                   | 446/600 [01:32<00:27,  5.62it/s]"
     ]
    },
    {
     "name": "stderr",
     "output_type": "stream",
     "text": [
      "\r",
      " 74%|█████████████████████████████████████████████████████████████████████████████████████████████████████▎                                  | 447/600 [01:32<00:27,  5.63it/s]"
     ]
    },
    {
     "name": "stderr",
     "output_type": "stream",
     "text": [
      "\r",
      " 75%|█████████████████████████████████████████████████████████████████████████████████████████████████████▌                                  | 448/600 [01:32<00:26,  5.64it/s]"
     ]
    },
    {
     "name": "stderr",
     "output_type": "stream",
     "text": [
      "\r",
      " 75%|█████████████████████████████████████████████████████████████████████████████████████████████████████▊                                  | 449/600 [01:33<00:28,  5.32it/s]"
     ]
    },
    {
     "name": "stderr",
     "output_type": "stream",
     "text": [
      "\r",
      " 75%|██████████████████████████████████████████████████████████████████████████████████████████████████████                                  | 450/600 [01:33<00:27,  5.40it/s]"
     ]
    },
    {
     "name": "stderr",
     "output_type": "stream",
     "text": [
      "\r",
      " 75%|██████████████████████████████████████████████████████████████████████████████████████████████████████▏                                 | 451/600 [01:33<00:27,  5.33it/s]"
     ]
    },
    {
     "name": "stderr",
     "output_type": "stream",
     "text": [
      "\r",
      " 75%|██████████████████████████████████████████████████████████████████████████████████████████████████████▍                                 | 452/600 [01:33<00:27,  5.45it/s]"
     ]
    },
    {
     "name": "stderr",
     "output_type": "stream",
     "text": [
      "\r",
      " 76%|██████████████████████████████████████████████████████████████████████████████████████████████████████▋                                 | 453/600 [01:33<00:26,  5.59it/s]"
     ]
    },
    {
     "name": "stderr",
     "output_type": "stream",
     "text": [
      "\r",
      " 76%|██████████████████████████████████████████████████████████████████████████████████████████████████████▉                                 | 454/600 [01:34<00:25,  5.68it/s]"
     ]
    },
    {
     "name": "stderr",
     "output_type": "stream",
     "text": [
      "\r",
      " 76%|███████████████████████████████████████████████████████████████████████████████████████████████████████▏                                | 455/600 [01:34<00:25,  5.78it/s]"
     ]
    },
    {
     "name": "stderr",
     "output_type": "stream",
     "text": [
      "\r",
      " 76%|███████████████████████████████████████████████████████████████████████████████████████████████████████▎                                | 456/600 [01:34<00:24,  5.78it/s]"
     ]
    },
    {
     "name": "stderr",
     "output_type": "stream",
     "text": [
      "\r",
      " 76%|███████████████████████████████████████████████████████████████████████████████████████████████████████▌                                | 457/600 [01:34<00:24,  5.78it/s]"
     ]
    },
    {
     "name": "stderr",
     "output_type": "stream",
     "text": [
      "\r",
      " 76%|███████████████████████████████████████████████████████████████████████████████████████████████████████▊                                | 458/600 [01:34<00:24,  5.81it/s]"
     ]
    },
    {
     "name": "stderr",
     "output_type": "stream",
     "text": [
      "\r",
      " 76%|████████████████████████████████████████████████████████████████████████████████████████████████████████                                | 459/600 [01:34<00:24,  5.84it/s]"
     ]
    },
    {
     "name": "stderr",
     "output_type": "stream",
     "text": [
      "\r",
      " 77%|████████████████████████████████████████████████████████████████████████████████████████████████████████▎                               | 460/600 [01:35<00:24,  5.63it/s]"
     ]
    },
    {
     "name": "stderr",
     "output_type": "stream",
     "text": [
      "\r",
      " 77%|████████████████████████████████████████████████████████████████████████████████████████████████████████▍                               | 461/600 [01:35<00:24,  5.63it/s]"
     ]
    },
    {
     "name": "stderr",
     "output_type": "stream",
     "text": [
      "\r",
      " 77%|████████████████████████████████████████████████████████████████████████████████████████████████████████▋                               | 462/600 [01:35<00:24,  5.67it/s]"
     ]
    },
    {
     "name": "stderr",
     "output_type": "stream",
     "text": [
      "\r",
      " 77%|████████████████████████████████████████████████████████████████████████████████████████████████████████▉                               | 463/600 [01:35<00:24,  5.58it/s]"
     ]
    },
    {
     "name": "stderr",
     "output_type": "stream",
     "text": [
      "\r",
      " 77%|█████████████████████████████████████████████████████████████████████████████████████████████████████████▏                              | 464/600 [01:35<00:24,  5.50it/s]"
     ]
    },
    {
     "name": "stderr",
     "output_type": "stream",
     "text": [
      "\r",
      " 78%|█████████████████████████████████████████████████████████████████████████████████████████████████████████▍                              | 465/600 [01:36<00:24,  5.53it/s]"
     ]
    },
    {
     "name": "stderr",
     "output_type": "stream",
     "text": [
      "\r",
      " 78%|█████████████████████████████████████████████████████████████████████████████████████████████████████████▋                              | 466/600 [01:36<00:24,  5.58it/s]"
     ]
    },
    {
     "name": "stderr",
     "output_type": "stream",
     "text": [
      "\r",
      " 78%|█████████████████████████████████████████████████████████████████████████████████████████████████████████▊                              | 467/600 [01:36<00:23,  5.60it/s]"
     ]
    },
    {
     "name": "stderr",
     "output_type": "stream",
     "text": [
      "\r",
      " 78%|██████████████████████████████████████████████████████████████████████████████████████████████████████████                              | 468/600 [01:36<00:23,  5.68it/s]"
     ]
    },
    {
     "name": "stderr",
     "output_type": "stream",
     "text": [
      "\r",
      " 78%|██████████████████████████████████████████████████████████████████████████████████████████████████████████▎                             | 469/600 [01:36<00:22,  5.75it/s]"
     ]
    },
    {
     "name": "stderr",
     "output_type": "stream",
     "text": [
      "\r",
      " 78%|██████████████████████████████████████████████████████████████████████████████████████████████████████████▌                             | 470/600 [01:36<00:22,  5.83it/s]"
     ]
    },
    {
     "name": "stderr",
     "output_type": "stream",
     "text": [
      "\r",
      " 78%|██████████████████████████████████████████████████████████████████████████████████████████████████████████▊                             | 471/600 [01:37<00:22,  5.86it/s]"
     ]
    },
    {
     "name": "stderr",
     "output_type": "stream",
     "text": [
      "\r",
      " 79%|██████████████████████████████████████████████████████████████████████████████████████████████████████████▉                             | 472/600 [01:37<00:22,  5.72it/s]"
     ]
    },
    {
     "name": "stderr",
     "output_type": "stream",
     "text": [
      "\r",
      " 79%|███████████████████████████████████████████████████████████████████████████████████████████████████████████▏                            | 473/600 [01:37<00:22,  5.76it/s]"
     ]
    },
    {
     "name": "stderr",
     "output_type": "stream",
     "text": [
      "\r",
      " 79%|███████████████████████████████████████████████████████████████████████████████████████████████████████████▍                            | 474/600 [01:37<00:21,  5.77it/s]"
     ]
    },
    {
     "name": "stderr",
     "output_type": "stream",
     "text": [
      "\r",
      " 79%|███████████████████████████████████████████████████████████████████████████████████████████████████████████▋                            | 475/600 [01:37<00:21,  5.80it/s]"
     ]
    },
    {
     "name": "stderr",
     "output_type": "stream",
     "text": [
      "\r",
      " 79%|███████████████████████████████████████████████████████████████████████████████████████████████████████████▉                            | 476/600 [01:37<00:21,  5.71it/s]"
     ]
    },
    {
     "name": "stderr",
     "output_type": "stream",
     "text": [
      "\r",
      " 80%|████████████████████████████████████████████████████████████████████████████████████████████████████████████                            | 477/600 [01:38<00:21,  5.75it/s]"
     ]
    },
    {
     "name": "stderr",
     "output_type": "stream",
     "text": [
      "\r",
      " 80%|████████████████████████████████████████████████████████████████████████████████████████████████████████████▎                           | 478/600 [01:38<00:20,  5.81it/s]"
     ]
    },
    {
     "name": "stderr",
     "output_type": "stream",
     "text": [
      "\r",
      " 80%|████████████████████████████████████████████████████████████████████████████████████████████████████████████▌                           | 479/600 [01:38<00:20,  5.77it/s]"
     ]
    },
    {
     "name": "stderr",
     "output_type": "stream",
     "text": [
      "\r",
      " 80%|████████████████████████████████████████████████████████████████████████████████████████████████████████████▊                           | 480/600 [01:38<00:20,  5.72it/s]"
     ]
    },
    {
     "name": "stderr",
     "output_type": "stream",
     "text": [
      "\r",
      " 80%|█████████████████████████████████████████████████████████████████████████████████████████████████████████████                           | 481/600 [01:38<00:20,  5.71it/s]"
     ]
    },
    {
     "name": "stderr",
     "output_type": "stream",
     "text": [
      "\r",
      " 80%|█████████████████████████████████████████████████████████████████████████████████████████████████████████████▎                          | 482/600 [01:38<00:20,  5.66it/s]"
     ]
    },
    {
     "name": "stderr",
     "output_type": "stream",
     "text": [
      "\r",
      " 80%|█████████████████████████████████████████████████████████████████████████████████████████████████████████████▍                          | 483/600 [01:39<00:20,  5.66it/s]"
     ]
    },
    {
     "name": "stderr",
     "output_type": "stream",
     "text": [
      "\r",
      " 81%|█████████████████████████████████████████████████████████████████████████████████████████████████████████████▋                          | 484/600 [01:39<00:20,  5.67it/s]"
     ]
    },
    {
     "name": "stderr",
     "output_type": "stream",
     "text": [
      "\r",
      " 81%|█████████████████████████████████████████████████████████████████████████████████████████████████████████████▉                          | 485/600 [01:39<00:20,  5.71it/s]"
     ]
    },
    {
     "name": "stderr",
     "output_type": "stream",
     "text": [
      "\r",
      " 81%|██████████████████████████████████████████████████████████████████████████████████████████████████████████████▏                         | 486/600 [01:39<00:19,  5.81it/s]"
     ]
    },
    {
     "name": "stderr",
     "output_type": "stream",
     "text": [
      "\r",
      " 81%|██████████████████████████████████████████████████████████████████████████████████████████████████████████████▍                         | 487/600 [01:39<00:19,  5.81it/s]"
     ]
    },
    {
     "name": "stderr",
     "output_type": "stream",
     "text": [
      "\r",
      " 81%|██████████████████████████████████████████████████████████████████████████████████████████████████████████████▌                         | 488/600 [01:40<00:19,  5.80it/s]"
     ]
    },
    {
     "name": "stderr",
     "output_type": "stream",
     "text": [
      "\r",
      " 82%|██████████████████████████████████████████████████████████████████████████████████████████████████████████████▊                         | 489/600 [01:40<00:19,  5.75it/s]"
     ]
    },
    {
     "name": "stderr",
     "output_type": "stream",
     "text": [
      "\r",
      " 82%|███████████████████████████████████████████████████████████████████████████████████████████████████████████████                         | 490/600 [01:40<00:22,  4.85it/s]"
     ]
    },
    {
     "name": "stderr",
     "output_type": "stream",
     "text": [
      "\r",
      " 82%|███████████████████████████████████████████████████████████████████████████████████████████████████████████████▎                        | 491/600 [01:40<00:24,  4.49it/s]"
     ]
    },
    {
     "name": "stderr",
     "output_type": "stream",
     "text": [
      "\r",
      " 82%|███████████████████████████████████████████████████████████████████████████████████████████████████████████████▌                        | 492/600 [01:40<00:25,  4.31it/s]"
     ]
    },
    {
     "name": "stderr",
     "output_type": "stream",
     "text": [
      "\r",
      " 82%|███████████████████████████████████████████████████████████████████████████████████████████████████████████████▋                        | 493/600 [01:41<00:25,  4.28it/s]"
     ]
    },
    {
     "name": "stderr",
     "output_type": "stream",
     "text": [
      "\r",
      " 82%|███████████████████████████████████████████████████████████████████████████████████████████████████████████████▉                        | 494/600 [01:41<00:25,  4.14it/s]"
     ]
    },
    {
     "name": "stderr",
     "output_type": "stream",
     "text": [
      "\r",
      " 82%|████████████████████████████████████████████████████████████████████████████████████████████████████████████████▏                       | 495/600 [01:41<00:25,  4.08it/s]"
     ]
    },
    {
     "name": "stderr",
     "output_type": "stream",
     "text": [
      "\r",
      " 83%|████████████████████████████████████████████████████████████████████████████████████████████████████████████████▍                       | 496/600 [01:42<00:26,  3.96it/s]"
     ]
    },
    {
     "name": "stderr",
     "output_type": "stream",
     "text": [
      "\r",
      " 83%|████████████████████████████████████████████████████████████████████████████████████████████████████████████████▋                       | 497/600 [01:42<00:26,  3.82it/s]"
     ]
    },
    {
     "name": "stderr",
     "output_type": "stream",
     "text": [
      "\r",
      " 83%|████████████████████████████████████████████████████████████████████████████████████████████████████████████████▉                       | 498/600 [01:42<00:26,  3.82it/s]"
     ]
    },
    {
     "name": "stderr",
     "output_type": "stream",
     "text": [
      "\r",
      " 83%|█████████████████████████████████████████████████████████████████████████████████████████████████████████████████                       | 499/600 [01:42<00:25,  3.92it/s]"
     ]
    },
    {
     "name": "stderr",
     "output_type": "stream",
     "text": [
      "\r",
      " 83%|█████████████████████████████████████████████████████████████████████████████████████████████████████████████████▎                      | 500/600 [01:43<00:24,  4.14it/s]"
     ]
    },
    {
     "name": "stderr",
     "output_type": "stream",
     "text": [
      "\r",
      " 84%|█████████████████████████████████████████████████████████████████████████████████████████████████████████████████▌                      | 501/600 [01:43<00:23,  4.22it/s]"
     ]
    },
    {
     "name": "stderr",
     "output_type": "stream",
     "text": [
      "\r",
      " 84%|█████████████████████████████████████████████████████████████████████████████████████████████████████████████████▊                      | 502/600 [01:43<00:24,  3.96it/s]"
     ]
    },
    {
     "name": "stderr",
     "output_type": "stream",
     "text": [
      "\r",
      " 84%|██████████████████████████████████████████████████████████████████████████████████████████████████████████████████                      | 503/600 [01:43<00:23,  4.15it/s]"
     ]
    },
    {
     "name": "stderr",
     "output_type": "stream",
     "text": [
      "\r",
      " 84%|██████████████████████████████████████████████████████████████████████████████████████████████████████████████████▏                     | 504/600 [01:43<00:22,  4.27it/s]"
     ]
    },
    {
     "name": "stderr",
     "output_type": "stream",
     "text": [
      "\r",
      " 84%|██████████████████████████████████████████████████████████████████████████████████████████████████████████████████▍                     | 505/600 [01:44<00:22,  4.24it/s]"
     ]
    },
    {
     "name": "stderr",
     "output_type": "stream",
     "text": [
      "\r",
      " 84%|██████████████████████████████████████████████████████████████████████████████████████████████████████████████████▋                     | 506/600 [01:44<00:22,  4.22it/s]"
     ]
    },
    {
     "name": "stderr",
     "output_type": "stream",
     "text": [
      "\r",
      " 84%|██████████████████████████████████████████████████████████████████████████████████████████████████████████████████▉                     | 507/600 [01:44<00:22,  4.10it/s]"
     ]
    },
    {
     "name": "stderr",
     "output_type": "stream",
     "text": [
      "\r",
      " 85%|███████████████████████████████████████████████████████████████████████████████████████████████████████████████████▏                    | 508/600 [01:44<00:22,  4.06it/s]"
     ]
    },
    {
     "name": "stderr",
     "output_type": "stream",
     "text": [
      "\r",
      " 85%|███████████████████████████████████████████████████████████████████████████████████████████████████████████████████▎                    | 509/600 [01:45<00:20,  4.34it/s]"
     ]
    },
    {
     "name": "stderr",
     "output_type": "stream",
     "text": [
      "\r",
      " 85%|███████████████████████████████████████████████████████████████████████████████████████████████████████████████████▌                    | 510/600 [01:45<00:21,  4.28it/s]"
     ]
    },
    {
     "name": "stderr",
     "output_type": "stream",
     "text": [
      "\r",
      " 85%|███████████████████████████████████████████████████████████████████████████████████████████████████████████████████▊                    | 511/600 [01:45<00:19,  4.64it/s]"
     ]
    },
    {
     "name": "stderr",
     "output_type": "stream",
     "text": [
      "\r",
      " 85%|████████████████████████████████████████████████████████████████████████████████████████████████████████████████████                    | 512/600 [01:45<00:18,  4.81it/s]"
     ]
    },
    {
     "name": "stderr",
     "output_type": "stream",
     "text": [
      "\r",
      " 86%|████████████████████████████████████████████████████████████████████████████████████████████████████████████████████▎                   | 513/600 [01:45<00:18,  4.74it/s]"
     ]
    },
    {
     "name": "stderr",
     "output_type": "stream",
     "text": [
      "\r",
      " 86%|████████████████████████████████████████████████████████████████████████████████████████████████████████████████████▌                   | 514/600 [01:46<00:17,  4.99it/s]"
     ]
    },
    {
     "name": "stderr",
     "output_type": "stream",
     "text": [
      "\r",
      " 86%|████████████████████████████████████████████████████████████████████████████████████████████████████████████████████▋                   | 515/600 [01:46<00:16,  5.07it/s]"
     ]
    },
    {
     "name": "stderr",
     "output_type": "stream",
     "text": [
      "\r",
      " 86%|████████████████████████████████████████████████████████████████████████████████████████████████████████████████████▉                   | 516/600 [01:46<00:16,  5.13it/s]"
     ]
    },
    {
     "name": "stderr",
     "output_type": "stream",
     "text": [
      "\r",
      " 86%|█████████████████████████████████████████████████████████████████████████████████████████████████████████████████████▏                  | 517/600 [01:46<00:15,  5.29it/s]"
     ]
    },
    {
     "name": "stderr",
     "output_type": "stream",
     "text": [
      "\r",
      " 86%|█████████████████████████████████████████████████████████████████████████████████████████████████████████████████████▍                  | 518/600 [01:46<00:14,  5.49it/s]"
     ]
    },
    {
     "name": "stderr",
     "output_type": "stream",
     "text": [
      "\r",
      " 86%|█████████████████████████████████████████████████████████████████████████████████████████████████████████████████████▋                  | 519/600 [01:47<00:14,  5.64it/s]"
     ]
    },
    {
     "name": "stderr",
     "output_type": "stream",
     "text": [
      "\r",
      " 87%|█████████████████████████████████████████████████████████████████████████████████████████████████████████████████████▊                  | 520/600 [01:47<00:13,  5.75it/s]"
     ]
    },
    {
     "name": "stderr",
     "output_type": "stream",
     "text": [
      "\r",
      " 87%|██████████████████████████████████████████████████████████████████████████████████████████████████████████████████████                  | 521/600 [01:47<00:13,  5.85it/s]"
     ]
    },
    {
     "name": "stderr",
     "output_type": "stream",
     "text": [
      "\r",
      " 87%|██████████████████████████████████████████████████████████████████████████████████████████████████████████████████████▎                 | 522/600 [01:47<00:13,  5.90it/s]"
     ]
    },
    {
     "name": "stderr",
     "output_type": "stream",
     "text": [
      "\r",
      " 87%|██████████████████████████████████████████████████████████████████████████████████████████████████████████████████████▌                 | 523/600 [01:47<00:13,  5.68it/s]"
     ]
    },
    {
     "name": "stderr",
     "output_type": "stream",
     "text": [
      "\r",
      " 87%|██████████████████████████████████████████████████████████████████████████████████████████████████████████████████████▊                 | 524/600 [01:47<00:13,  5.61it/s]"
     ]
    },
    {
     "name": "stderr",
     "output_type": "stream",
     "text": [
      "\r",
      " 88%|███████████████████████████████████████████████████████████████████████████████████████████████████████████████████████                 | 525/600 [01:48<00:13,  5.61it/s]"
     ]
    },
    {
     "name": "stderr",
     "output_type": "stream",
     "text": [
      "\r",
      " 88%|███████████████████████████████████████████████████████████████████████████████████████████████████████████████████████▏                | 526/600 [01:48<00:13,  5.55it/s]"
     ]
    },
    {
     "name": "stderr",
     "output_type": "stream",
     "text": [
      "\r",
      " 88%|███████████████████████████████████████████████████████████████████████████████████████████████████████████████████████▍                | 527/600 [01:48<00:13,  5.53it/s]"
     ]
    },
    {
     "name": "stderr",
     "output_type": "stream",
     "text": [
      "\r",
      " 88%|███████████████████████████████████████████████████████████████████████████████████████████████████████████████████████▋                | 528/600 [01:48<00:13,  5.54it/s]"
     ]
    },
    {
     "name": "stderr",
     "output_type": "stream",
     "text": [
      "\r",
      " 88%|███████████████████████████████████████████████████████████████████████████████████████████████████████████████████████▉                | 529/600 [01:48<00:12,  5.58it/s]"
     ]
    },
    {
     "name": "stderr",
     "output_type": "stream",
     "text": [
      "\r",
      " 88%|████████████████████████████████████████████████████████████████████████████████████████████████████████████████████████▏               | 530/600 [01:48<00:12,  5.59it/s]"
     ]
    },
    {
     "name": "stderr",
     "output_type": "stream",
     "text": [
      "\r",
      " 88%|████████████████████████████████████████████████████████████████████████████████████████████████████████████████████████▎               | 531/600 [01:49<00:12,  5.60it/s]"
     ]
    },
    {
     "name": "stderr",
     "output_type": "stream",
     "text": [
      "\r",
      " 89%|████████████████████████████████████████████████████████████████████████████████████████████████████████████████████████▌               | 532/600 [01:49<00:12,  5.59it/s]"
     ]
    },
    {
     "name": "stderr",
     "output_type": "stream",
     "text": [
      "\r",
      " 89%|████████████████████████████████████████████████████████████████████████████████████████████████████████████████████████▊               | 533/600 [01:49<00:12,  5.27it/s]"
     ]
    },
    {
     "name": "stderr",
     "output_type": "stream",
     "text": [
      "\r",
      " 89%|█████████████████████████████████████████████████████████████████████████████████████████████████████████████████████████               | 534/600 [01:49<00:12,  5.31it/s]"
     ]
    },
    {
     "name": "stderr",
     "output_type": "stream",
     "text": [
      "\r",
      " 89%|█████████████████████████████████████████████████████████████████████████████████████████████████████████████████████████▎              | 535/600 [01:49<00:12,  5.27it/s]"
     ]
    },
    {
     "name": "stderr",
     "output_type": "stream",
     "text": [
      "\r",
      " 89%|█████████████████████████████████████████████████████████████████████████████████████████████████████████████████████████▍              | 536/600 [01:50<00:12,  5.14it/s]"
     ]
    },
    {
     "name": "stderr",
     "output_type": "stream",
     "text": [
      "\r",
      " 90%|█████████████████████████████████████████████████████████████████████████████████████████████████████████████████████████▋              | 537/600 [01:50<00:12,  5.08it/s]"
     ]
    },
    {
     "name": "stderr",
     "output_type": "stream",
     "text": [
      "\r",
      " 90%|█████████████████████████████████████████████████████████████████████████████████████████████████████████████████████████▉              | 538/600 [01:50<00:13,  4.74it/s]"
     ]
    },
    {
     "name": "stderr",
     "output_type": "stream",
     "text": [
      "\r",
      " 90%|██████████████████████████████████████████████████████████████████████████████████████████████████████████████████████████▏             | 539/600 [01:50<00:12,  4.91it/s]"
     ]
    },
    {
     "name": "stderr",
     "output_type": "stream",
     "text": [
      "\r",
      " 90%|██████████████████████████████████████████████████████████████████████████████████████████████████████████████████████████▍             | 540/600 [01:50<00:12,  4.98it/s]"
     ]
    },
    {
     "name": "stderr",
     "output_type": "stream",
     "text": [
      "\r",
      " 90%|██████████████████████████████████████████████████████████████████████████████████████████████████████████████████████████▋             | 541/600 [01:51<00:11,  5.06it/s]"
     ]
    },
    {
     "name": "stderr",
     "output_type": "stream",
     "text": [
      "\r",
      " 90%|██████████████████████████████████████████████████████████████████████████████████████████████████████████████████████████▊             | 542/600 [01:51<00:11,  5.25it/s]"
     ]
    },
    {
     "name": "stderr",
     "output_type": "stream",
     "text": [
      "\r",
      " 90%|███████████████████████████████████████████████████████████████████████████████████████████████████████████████████████████             | 543/600 [01:51<00:10,  5.35it/s]"
     ]
    },
    {
     "name": "stderr",
     "output_type": "stream",
     "text": [
      "\r",
      " 91%|███████████████████████████████████████████████████████████████████████████████████████████████████████████████████████████▎            | 544/600 [01:51<00:10,  5.15it/s]"
     ]
    },
    {
     "name": "stderr",
     "output_type": "stream",
     "text": [
      "\r",
      " 91%|███████████████████████████████████████████████████████████████████████████████████████████████████████████████████████████▌            | 545/600 [01:51<00:10,  5.02it/s]"
     ]
    },
    {
     "name": "stderr",
     "output_type": "stream",
     "text": [
      "\r",
      " 91%|███████████████████████████████████████████████████████████████████████████████████████████████████████████████████████████▊            | 546/600 [01:52<00:10,  5.12it/s]"
     ]
    },
    {
     "name": "stderr",
     "output_type": "stream",
     "text": [
      "\r",
      " 91%|███████████████████████████████████████████████████████████████████████████████████████████████████████████████████████████▉            | 547/600 [01:52<00:10,  5.17it/s]"
     ]
    },
    {
     "name": "stderr",
     "output_type": "stream",
     "text": [
      "\r",
      " 91%|████████████████████████████████████████████████████████████████████████████████████████████████████████████████████████████▏           | 548/600 [01:52<00:10,  5.18it/s]"
     ]
    },
    {
     "name": "stderr",
     "output_type": "stream",
     "text": [
      "\r",
      " 92%|████████████████████████████████████████████████████████████████████████████████████████████████████████████████████████████▍           | 549/600 [01:52<00:09,  5.29it/s]"
     ]
    },
    {
     "name": "stderr",
     "output_type": "stream",
     "text": [
      "\r",
      " 92%|████████████████████████████████████████████████████████████████████████████████████████████████████████████████████████████▋           | 550/600 [01:52<00:09,  5.21it/s]"
     ]
    },
    {
     "name": "stderr",
     "output_type": "stream",
     "text": [
      "\r",
      " 92%|████████████████████████████████████████████████████████████████████████████████████████████████████████████████████████████▉           | 551/600 [01:53<00:09,  5.05it/s]"
     ]
    },
    {
     "name": "stderr",
     "output_type": "stream",
     "text": [
      "\r",
      " 92%|█████████████████████████████████████████████████████████████████████████████████████████████████████████████████████████████           | 552/600 [01:53<00:09,  4.98it/s]"
     ]
    },
    {
     "name": "stderr",
     "output_type": "stream",
     "text": [
      "\r",
      " 92%|█████████████████████████████████████████████████████████████████████████████████████████████████████████████████████████████▎          | 553/600 [01:53<00:12,  3.80it/s]"
     ]
    },
    {
     "name": "stderr",
     "output_type": "stream",
     "text": [
      "\r",
      " 92%|█████████████████████████████████████████████████████████████████████████████████████████████████████████████████████████████▌          | 554/600 [01:53<00:11,  4.02it/s]"
     ]
    },
    {
     "name": "stderr",
     "output_type": "stream",
     "text": [
      "\r",
      " 92%|█████████████████████████████████████████████████████████████████████████████████████████████████████████████████████████████▊          | 555/600 [01:54<00:10,  4.25it/s]"
     ]
    },
    {
     "name": "stderr",
     "output_type": "stream",
     "text": [
      "\r",
      " 93%|██████████████████████████████████████████████████████████████████████████████████████████████████████████████████████████████          | 556/600 [01:54<00:09,  4.56it/s]"
     ]
    },
    {
     "name": "stderr",
     "output_type": "stream",
     "text": [
      "\r",
      " 93%|██████████████████████████████████████████████████████████████████████████████████████████████████████████████████████████████▎         | 557/600 [01:54<00:08,  4.84it/s]"
     ]
    },
    {
     "name": "stderr",
     "output_type": "stream",
     "text": [
      "\r",
      " 93%|██████████████████████████████████████████████████████████████████████████████████████████████████████████████████████████████▍         | 558/600 [01:54<00:08,  5.03it/s]"
     ]
    },
    {
     "name": "stderr",
     "output_type": "stream",
     "text": [
      "\r",
      " 93%|██████████████████████████████████████████████████████████████████████████████████████████████████████████████████████████████▋         | 559/600 [01:54<00:07,  5.13it/s]"
     ]
    },
    {
     "name": "stderr",
     "output_type": "stream",
     "text": [
      "\r",
      " 93%|██████████████████████████████████████████████████████████████████████████████████████████████████████████████████████████████▉         | 560/600 [01:55<00:07,  5.31it/s]"
     ]
    },
    {
     "name": "stderr",
     "output_type": "stream",
     "text": [
      "\r",
      " 94%|███████████████████████████████████████████████████████████████████████████████████████████████████████████████████████████████▏        | 561/600 [01:55<00:07,  5.39it/s]"
     ]
    },
    {
     "name": "stderr",
     "output_type": "stream",
     "text": [
      "\r",
      " 94%|███████████████████████████████████████████████████████████████████████████████████████████████████████████████████████████████▍        | 562/600 [01:55<00:07,  4.99it/s]"
     ]
    },
    {
     "name": "stderr",
     "output_type": "stream",
     "text": [
      "\r",
      " 94%|███████████████████████████████████████████████████████████████████████████████████████████████████████████████████████████████▌        | 563/600 [01:55<00:07,  4.81it/s]"
     ]
    },
    {
     "name": "stderr",
     "output_type": "stream",
     "text": [
      "\r",
      " 94%|███████████████████████████████████████████████████████████████████████████████████████████████████████████████████████████████▊        | 564/600 [01:55<00:07,  4.90it/s]"
     ]
    },
    {
     "name": "stderr",
     "output_type": "stream",
     "text": [
      "\r",
      " 94%|████████████████████████████████████████████████████████████████████████████████████████████████████████████████████████████████        | 565/600 [01:56<00:06,  5.09it/s]"
     ]
    },
    {
     "name": "stderr",
     "output_type": "stream",
     "text": [
      "\r",
      " 94%|████████████████████████████████████████████████████████████████████████████████████████████████████████████████████████████████▎       | 566/600 [01:56<00:06,  5.14it/s]"
     ]
    },
    {
     "name": "stderr",
     "output_type": "stream",
     "text": [
      "\r",
      " 94%|████████████████████████████████████████████████████████████████████████████████████████████████████████████████████████████████▌       | 567/600 [01:56<00:06,  5.28it/s]"
     ]
    },
    {
     "name": "stderr",
     "output_type": "stream",
     "text": [
      "\r",
      " 95%|████████████████████████████████████████████████████████████████████████████████████████████████████████████████████████████████▋       | 568/600 [01:56<00:05,  5.34it/s]"
     ]
    },
    {
     "name": "stderr",
     "output_type": "stream",
     "text": [
      "\r",
      " 95%|████████████████████████████████████████████████████████████████████████████████████████████████████████████████████████████████▉       | 569/600 [01:56<00:05,  5.39it/s]"
     ]
    },
    {
     "name": "stderr",
     "output_type": "stream",
     "text": [
      "\r",
      " 95%|█████████████████████████████████████████████████████████████████████████████████████████████████████████████████████████████████▏      | 570/600 [01:56<00:05,  5.43it/s]"
     ]
    },
    {
     "name": "stderr",
     "output_type": "stream",
     "text": [
      "\r",
      " 95%|█████████████████████████████████████████████████████████████████████████████████████████████████████████████████████████████████▍      | 571/600 [01:57<00:05,  5.50it/s]"
     ]
    },
    {
     "name": "stderr",
     "output_type": "stream",
     "text": [
      "\r",
      " 95%|█████████████████████████████████████████████████████████████████████████████████████████████████████████████████████████████████▋      | 572/600 [01:57<00:05,  5.48it/s]"
     ]
    },
    {
     "name": "stderr",
     "output_type": "stream",
     "text": [
      "\r",
      " 96%|█████████████████████████████████████████████████████████████████████████████████████████████████████████████████████████████████▉      | 573/600 [01:57<00:04,  5.54it/s]"
     ]
    },
    {
     "name": "stderr",
     "output_type": "stream",
     "text": [
      "\r",
      " 96%|██████████████████████████████████████████████████████████████████████████████████████████████████████████████████████████████████      | 574/600 [01:57<00:04,  5.55it/s]"
     ]
    },
    {
     "name": "stderr",
     "output_type": "stream",
     "text": [
      "\r",
      " 96%|██████████████████████████████████████████████████████████████████████████████████████████████████████████████████████████████████▎     | 575/600 [01:57<00:04,  5.58it/s]"
     ]
    },
    {
     "name": "stderr",
     "output_type": "stream",
     "text": [
      "\r",
      " 96%|██████████████████████████████████████████████████████████████████████████████████████████████████████████████████████████████████▌     | 576/600 [01:58<00:04,  5.63it/s]"
     ]
    },
    {
     "name": "stderr",
     "output_type": "stream",
     "text": [
      "\r",
      " 96%|██████████████████████████████████████████████████████████████████████████████████████████████████████████████████████████████████▊     | 577/600 [01:58<00:04,  5.62it/s]"
     ]
    },
    {
     "name": "stderr",
     "output_type": "stream",
     "text": [
      "\r",
      " 96%|███████████████████████████████████████████████████████████████████████████████████████████████████████████████████████████████████     | 578/600 [01:58<00:03,  5.63it/s]"
     ]
    },
    {
     "name": "stderr",
     "output_type": "stream",
     "text": [
      "\r",
      " 96%|███████████████████████████████████████████████████████████████████████████████████████████████████████████████████████████████████▏    | 579/600 [01:58<00:03,  5.54it/s]"
     ]
    },
    {
     "name": "stderr",
     "output_type": "stream",
     "text": [
      "\r",
      " 97%|███████████████████████████████████████████████████████████████████████████████████████████████████████████████████████████████████▍    | 580/600 [01:58<00:03,  5.52it/s]"
     ]
    },
    {
     "name": "stderr",
     "output_type": "stream",
     "text": [
      "\r",
      " 97%|███████████████████████████████████████████████████████████████████████████████████████████████████████████████████████████████████▋    | 581/600 [01:58<00:03,  5.55it/s]"
     ]
    },
    {
     "name": "stderr",
     "output_type": "stream",
     "text": [
      "\r",
      " 97%|███████████████████████████████████████████████████████████████████████████████████████████████████████████████████████████████████▉    | 582/600 [01:59<00:03,  5.57it/s]"
     ]
    },
    {
     "name": "stderr",
     "output_type": "stream",
     "text": [
      "\r",
      " 97%|████████████████████████████████████████████████████████████████████████████████████████████████████████████████████████████████████▏   | 583/600 [01:59<00:03,  5.59it/s]"
     ]
    },
    {
     "name": "stderr",
     "output_type": "stream",
     "text": [
      "\r",
      " 97%|████████████████████████████████████████████████████████████████████████████████████████████████████████████████████████████████████▎   | 584/600 [01:59<00:02,  5.62it/s]"
     ]
    },
    {
     "name": "stderr",
     "output_type": "stream",
     "text": [
      "\r",
      " 98%|████████████████████████████████████████████████████████████████████████████████████████████████████████████████████████████████████▌   | 585/600 [01:59<00:02,  5.63it/s]"
     ]
    },
    {
     "name": "stderr",
     "output_type": "stream",
     "text": [
      "\r",
      " 98%|████████████████████████████████████████████████████████████████████████████████████████████████████████████████████████████████████▊   | 586/600 [01:59<00:02,  5.67it/s]"
     ]
    },
    {
     "name": "stderr",
     "output_type": "stream",
     "text": [
      "\r",
      " 98%|█████████████████████████████████████████████████████████████████████████████████████████████████████████████████████████████████████   | 587/600 [01:59<00:02,  5.64it/s]"
     ]
    },
    {
     "name": "stderr",
     "output_type": "stream",
     "text": [
      "\r",
      " 98%|█████████████████████████████████████████████████████████████████████████████████████████████████████████████████████████████████████▎  | 588/600 [02:00<00:02,  5.60it/s]"
     ]
    },
    {
     "name": "stderr",
     "output_type": "stream",
     "text": [
      "\r",
      " 98%|█████████████████████████████████████████████████████████████████████████████████████████████████████████████████████████████████████▌  | 589/600 [02:00<00:01,  5.61it/s]"
     ]
    },
    {
     "name": "stderr",
     "output_type": "stream",
     "text": [
      "\r",
      " 98%|█████████████████████████████████████████████████████████████████████████████████████████████████████████████████████████████████████▋  | 590/600 [02:00<00:01,  5.64it/s]"
     ]
    },
    {
     "name": "stderr",
     "output_type": "stream",
     "text": [
      "\r",
      " 98%|█████████████████████████████████████████████████████████████████████████████████████████████████████████████████████████████████████▉  | 591/600 [02:00<00:01,  5.61it/s]"
     ]
    },
    {
     "name": "stderr",
     "output_type": "stream",
     "text": [
      "\r",
      " 99%|██████████████████████████████████████████████████████████████████████████████████████████████████████████████████████████████████████▏ | 592/600 [02:00<00:01,  5.61it/s]"
     ]
    },
    {
     "name": "stderr",
     "output_type": "stream",
     "text": [
      "\r",
      " 99%|██████████████████████████████████████████████████████████████████████████████████████████████████████████████████████████████████████▍ | 593/600 [02:01<00:01,  5.62it/s]"
     ]
    },
    {
     "name": "stderr",
     "output_type": "stream",
     "text": [
      "\r",
      " 99%|██████████████████████████████████████████████████████████████████████████████████████████████████████████████████████████████████████▋ | 594/600 [02:01<00:01,  5.64it/s]"
     ]
    },
    {
     "name": "stderr",
     "output_type": "stream",
     "text": [
      "\r",
      " 99%|██████████████████████████████████████████████████████████████████████████████████████████████████████████████████████████████████████▊ | 595/600 [02:01<00:00,  5.66it/s]"
     ]
    },
    {
     "name": "stderr",
     "output_type": "stream",
     "text": [
      "\r",
      " 99%|███████████████████████████████████████████████████████████████████████████████████████████████████████████████████████████████████████ | 596/600 [02:01<00:00,  5.70it/s]"
     ]
    },
    {
     "name": "stderr",
     "output_type": "stream",
     "text": [
      "\r",
      "100%|███████████████████████████████████████████████████████████████████████████████████████████████████████████████████████████████████████▎| 597/600 [02:01<00:00,  5.71it/s]"
     ]
    },
    {
     "name": "stderr",
     "output_type": "stream",
     "text": [
      "\r",
      "100%|███████████████████████████████████████████████████████████████████████████████████████████████████████████████████████████████████████▌| 598/600 [02:01<00:00,  5.70it/s]"
     ]
    },
    {
     "name": "stderr",
     "output_type": "stream",
     "text": [
      "\r",
      "100%|███████████████████████████████████████████████████████████████████████████████████████████████████████████████████████████████████████▊| 599/600 [02:02<00:00,  5.66it/s]"
     ]
    },
    {
     "name": "stderr",
     "output_type": "stream",
     "text": [
      "\r",
      "100%|████████████████████████████████████████████████████████████████████████████████████████████████████████████████████████████████████████| 600/600 [02:02<00:00,  5.43it/s]"
     ]
    },
    {
     "name": "stderr",
     "output_type": "stream",
     "text": [
      "\r",
      "100%|████████████████████████████████████████████████████████████████████████████████████████████████████████████████████████████████████████| 600/600 [02:02<00:00,  4.91it/s]"
     ]
    },
    {
     "name": "stderr",
     "output_type": "stream",
     "text": [
      "\n"
     ]
    },
    {
     "data": {
      "text/plain": [
       "(<Figure size 960x720 with 1 Axes>,\n",
       " <Axes: xlabel='Descent step', ylabel='log10(Mean square error)'>)"
      ]
     },
     "execution_count": 5,
     "metadata": {},
     "output_type": "execute_result"
    },
    {
     "data": {
      "application/vnd.jupyter.widget-view+json": {
       "model_id": "c76f2d83f30b4a97a29cecf140af73bf",
       "version_major": 2,
       "version_minor": 0
      },
      "image/png": "[encoded data removed]",
      "text/html": [
       "\n",
       "            <div style=\"display: inline-block;\">\n",
       "                <div class=\"jupyter-widgets widget-label\" style=\"text-align: center;\">\n",
       "                    Figure\n",
       "                </div>\n",
       "                <img src='data:image/png;base64,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' width=960.0/>\n",
       "            </div>\n",
       "        "
      ],
      "text/plain": [
       "Canvas(toolbar=Toolbar(toolitems=[('Home', 'Reset original view', 'home', 'home'), ('Back', 'Back to previous …"
      ]
     },
     "metadata": {},
     "output_type": "display_data"
    }
   ],
   "source": [
    "iq = ImageQuant2(img=imgs, roi=rois, cytbg=cytbg, membg=membg)\n",
    "iq.quantify()\n",
    "iq.plot_losses(log=True)"
   ]
  },
  {
   "cell_type": "markdown",
   "metadata": {},
   "source": [
    "### Save results"
   ]
  },
  {
   "cell_type": "code",
   "execution_count": 6,
   "metadata": {
    "execution": {
     "iopub.execute_input": "2024-05-30T07:41:28.411166Z",
     "iopub.status.busy": "2024-05-30T07:41:28.410873Z",
     "iopub.status.idle": "2024-05-30T07:41:32.139132Z",
     "shell.execute_reply": "2024-05-30T07:41:32.138090Z"
    }
   },
   "outputs": [],
   "source": [
    "res = iq.compile_res(ids=[str(x) for x in df[\"EmbryoID\"].to_list()])\n",
    "res[\"Membrane signal\"] *= calibration_factor\n",
    "res.to_csv(\"../../data/par2_nebd_quantification.csv\", index=False)"
   ]
  },
  {
   "cell_type": "code",
   "execution_count": null,
   "metadata": {},
   "outputs": [],
   "source": []
  }
 ],
 "metadata": {
  "kernelspec": {
   "display_name": "Python 3",
   "language": "python",
   "name": "python3"
  },
  "language_info": {
   "codemirror_mode": {
    "name": "ipython",
    "version": 3
   },
   "file_extension": ".py",
   "mimetype": "text/x-python",
   "name": "python",
   "nbconvert_exporter": "python",
   "pygments_lexer": "ipython3",
   "version": "3.11.6"
  },
  "widgets": {
   "application/vnd.jupyter.widget-state+json": {
    "state": {
     "2ba1f381010c4fcabd8a763d9c31777f": {
      "model_module": "@jupyter-widgets/base",
      "model_module_version": "2.0.0",
      "model_name": "LayoutModel",
      "state": {
       "_model_module": "@jupyter-widgets/base",
       "_model_module_version": "2.0.0",
       "_model_name": "LayoutModel",
       "_view_count": null,
       "_view_module": "@jupyter-widgets/base",
       "_view_module_version": "2.0.0",
       "_view_name": "LayoutView",
       "align_content": null,
       "align_items": null,
       "align_self": null,
       "border_bottom": null,
       "border_left": null,
       "border_right": null,
       "border_top": null,
       "bottom": null,
       "display": null,
       "flex": null,
       "flex_flow": null,
       "grid_area": null,
       "grid_auto_columns": null,
       "grid_auto_flow": null,
       "grid_auto_rows": null,
       "grid_column": null,
       "grid_gap": null,
       "grid_row": null,
       "grid_template_areas": null,
       "grid_template_columns": null,
       "grid_template_rows": null,
       "height": null,
       "justify_content": null,
       "justify_items": null,
       "left": null,
       "margin": null,
       "max_height": null,
       "max_width": null,
       "min_height": null,
       "min_width": null,
       "object_fit": null,
       "object_position": null,
       "order": null,
       "overflow": null,
       "padding": null,
       "right": null,
       "top": null,
       "visibility": null,
       "width": null
      }
     },
     "90ebc220839c40ec9f587e773cb85336": {
      "model_module": "jupyter-matplotlib",
      "model_module_version": "^0.11",
      "model_name": "ToolbarModel",
      "state": {
       "_current_action": "",
       "_dom_classes": [],
       "_model_module": "jupyter-matplotlib",
       "_model_module_version": "^0.11",
       "_model_name": "ToolbarModel",
       "_view_count": null,
       "_view_module": "jupyter-matplotlib",
       "_view_module_version": "^0.11",
       "_view_name": "ToolbarView",
       "button_style": "",
       "collapsed": true,
       "layout": "IPY_MODEL_2ba1f381010c4fcabd8a763d9c31777f",
       "orientation": "vertical",
       "tabbable": null,
       "toolitems": [
        [
         "Home",
         "Reset original view",
         "home",
         "home"
        ],
        [
         "Back",
         "Back to previous view",
         "arrow-left",
         "back"
        ],
        [
         "Forward",
         "Forward to next view",
         "arrow-right",
         "forward"
        ],
        [
         "Pan",
         "Left button pans, Right button zooms\nx/y fixes axis, CTRL fixes aspect",
         "arrows",
         "pan"
        ],
        [
         "Zoom",
         "Zoom to rectangle\nx/y fixes axis",
         "square-o",
         "zoom"
        ],
        [
         "Download",
         "Download plot",
         "floppy-o",
         "save_figure"
        ]
       ],
       "tooltip": null
      }
     },
     "b081033a095242beb0a8b7871c97e5a3": {
      "model_module": "@jupyter-widgets/base",
      "model_module_version": "2.0.0",
      "model_name": "LayoutModel",
      "state": {
       "_model_module": "@jupyter-widgets/base",
       "_model_module_version": "2.0.0",
       "_model_name": "LayoutModel",
       "_view_count": null,
       "_view_module": "@jupyter-widgets/base",
       "_view_module_version": "2.0.0",
       "_view_name": "LayoutView",
       "align_content": null,
       "align_items": null,
       "align_self": null,
       "border_bottom": null,
       "border_left": null,
       "border_right": null,
       "border_top": null,
       "bottom": null,
       "display": null,
       "flex": null,
       "flex_flow": null,
       "grid_area": null,
       "grid_auto_columns": null,
       "grid_auto_flow": null,
       "grid_auto_rows": null,
       "grid_column": null,
       "grid_gap": null,
       "grid_row": null,
       "grid_template_areas": null,
       "grid_template_columns": null,
       "grid_template_rows": null,
       "height": null,
       "justify_content": null,
       "justify_items": null,
       "left": null,
       "margin": null,
       "max_height": null,
       "max_width": null,
       "min_height": null,
       "min_width": null,
       "object_fit": null,
       "object_position": null,
       "order": null,
       "overflow": null,
       "padding": null,
       "right": null,
       "top": null,
       "visibility": null,
       "width": null
      }
     },
     "c76f2d83f30b4a97a29cecf140af73bf": {
      "model_module": "jupyter-matplotlib",
      "model_module_version": "^0.11",
      "model_name": "MPLCanvasModel",
      "state": {
       "_cursor": "pointer",
       "_data_url": "data:image/png;base64,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",
       "_dom_classes": [],
       "_figure_label": "Figure",
       "_image_mode": "full",
       "_message": "",
       "_model_module": "jupyter-matplotlib",
       "_model_module_version": "^0.11",
       "_model_name": "MPLCanvasModel",
       "_rubberband_height": 0,
       "_rubberband_width": 0,
       "_rubberband_x": 0,
       "_rubberband_y": 0,
       "_size": [
        960.0,
        720.0
       ],
       "_view_count": null,
       "_view_module": "jupyter-matplotlib",
       "_view_module_version": "^0.11",
       "_view_name": "MPLCanvasView",
       "capture_scroll": false,
       "footer_visible": true,
       "header_visible": true,
       "layout": "IPY_MODEL_b081033a095242beb0a8b7871c97e5a3",
       "pan_zoom_throttle": 33.0,
       "resizable": true,
       "tabbable": null,
       "toolbar": "IPY_MODEL_90ebc220839c40ec9f587e773cb85336",
       "toolbar_position": "left",
       "toolbar_visible": "fade-in-fade-out",
       "tooltip": null
      }
     }
    },
    "version_major": 2,
    "version_minor": 0
   }
  }
 },
 "nbformat": 4,
 "nbformat_minor": 4
}
